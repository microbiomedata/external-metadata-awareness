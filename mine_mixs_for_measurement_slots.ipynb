{
 "cells": [
  {
   "metadata": {
    "ExecuteTime": {
     "end_time": "2025-04-04T03:24:32.091878Z",
     "start_time": "2025-04-04T03:24:31.582211Z"
    }
   },
   "cell_type": "code",
   "source": [
    "import re\n",
    "from collections import Counter\n",
    "\n",
    "import pandas as pd\n",
    "import requests\n",
    "import yaml\n"
   ],
   "id": "3c0d1775303d123d",
   "outputs": [],
   "execution_count": 1
  },
  {
   "metadata": {
    "ExecuteTime": {
     "end_time": "2025-04-04T03:24:32.097727Z",
     "start_time": "2025-04-04T03:24:32.095105Z"
    }
   },
   "cell_type": "code",
   "source": "mixs_url = \"https://raw.githubusercontent.com/GenomicsStandardsConsortium/mixs/refs/heads/main/src/mixs/schema/mixs.yaml\"",
   "id": "88f931682911d611",
   "outputs": [],
   "execution_count": 2
  },
  {
   "metadata": {
    "ExecuteTime": {
     "end_time": "2025-04-04T03:24:32.225087Z",
     "start_time": "2025-04-04T03:24:32.222583Z"
    }
   },
   "cell_type": "code",
   "source": "nmdc_url = \"https://raw.githubusercontent.com/microbiomedata/nmdc-schema/refs/heads/main/nmdc_schema/nmdc_materialized_patterns.yaml\"",
   "id": "bdd5e69e37495d4d",
   "outputs": [],
   "execution_count": 3
  },
  {
   "metadata": {
    "ExecuteTime": {
     "end_time": "2025-04-04T03:24:32.267111Z",
     "start_time": "2025-04-04T03:24:32.264220Z"
    }
   },
   "cell_type": "code",
   "source": "measurement_evidence_tsv  = \"measurement-evidence.tsv\"",
   "id": "1bd4acf3cb899d29",
   "outputs": [],
   "execution_count": 4
  },
  {
   "metadata": {
    "ExecuteTime": {
     "end_time": "2025-04-04T03:24:32.328135Z",
     "start_time": "2025-04-04T03:24:32.315993Z"
    }
   },
   "cell_type": "code",
   "source": [
    "def load_yaml_from_url(url):\n",
    "    # Fetch the content from the URL\n",
    "    response = requests.get(url)\n",
    "\n",
    "    # Check if the request was successful\n",
    "    response.raise_for_status()\n",
    "\n",
    "    # Parse the YAML content into a Python dictionary\n",
    "    data = yaml.safe_load(response.text)\n",
    "\n",
    "    return data"
   ],
   "id": "578ea90b6fdcb2c7",
   "outputs": [],
   "execution_count": 5
  },
  {
   "metadata": {
    "ExecuteTime": {
     "end_time": "2025-04-04T03:24:32.377449Z",
     "start_time": "2025-04-04T03:24:32.373860Z"
    }
   },
   "cell_type": "code",
   "source": [
    "def split_preferred_units(value):\n",
    "    if not value:\n",
    "        return set()\n",
    "    # Normalize delimiters: comma, semicolon, or \"or\"\n",
    "    normalized = re.sub(r'\\s*(,|;|\\sor\\s)\\s*', ';', value.lower())\n",
    "    return set(unit.strip() for unit in normalized.split(';') if unit.strip())"
   ],
   "id": "8b236da87a769f47",
   "outputs": [],
   "execution_count": 6
  },
  {
   "metadata": {
    "ExecuteTime": {
     "end_time": "2025-04-04T03:24:32.427038Z",
     "start_time": "2025-04-04T03:24:32.421022Z"
    }
   },
   "cell_type": "code",
   "source": "measurement_evidence = pd.read_csv(measurement_evidence_tsv, sep=\"\\t\", index_col=0)",
   "id": "9652b5ec44f7a6cc",
   "outputs": [],
   "execution_count": 7
  },
  {
   "metadata": {
    "ExecuteTime": {
     "end_time": "2025-04-04T03:24:32.483795Z",
     "start_time": "2025-04-04T03:24:32.467945Z"
    }
   },
   "cell_type": "code",
   "source": "measurement_evidence",
   "id": "c3e56bf6278fc78",
   "outputs": [
    {
     "data": {
      "text/plain": [
       "                                                    measurement_evidence\n",
       "component                                                               \n",
       "^({add_recov_methods});{date_time_stamp}$                             -1\n",
       "^({termLabel} \\[{termID}\\])|{integer}$                                -1\n",
       "^{adapter_A_DNA_sequence};{adapter_B_DNA_sequen...                    -1\n",
       "^{agrochemical_name};{amount} {unit};{date_time...                    -1\n",
       "^{ambiguous_nucleotides}$                                             -1\n",
       "...                                                                  ...\n",
       "vegetation                                                            -1\n",
       "vel                                                                    1\n",
       "vol                                                                    1\n",
       "weather                                                               -1\n",
       "quantity_value                                                         1\n",
       "\n",
       "[177 rows x 1 columns]"
      ],
      "text/html": [
       "<div>\n",
       "<style scoped>\n",
       "    .dataframe tbody tr th:only-of-type {\n",
       "        vertical-align: middle;\n",
       "    }\n",
       "\n",
       "    .dataframe tbody tr th {\n",
       "        vertical-align: top;\n",
       "    }\n",
       "\n",
       "    .dataframe thead th {\n",
       "        text-align: right;\n",
       "    }\n",
       "</style>\n",
       "<table border=\"1\" class=\"dataframe\">\n",
       "  <thead>\n",
       "    <tr style=\"text-align: right;\">\n",
       "      <th></th>\n",
       "      <th>measurement_evidence</th>\n",
       "    </tr>\n",
       "    <tr>\n",
       "      <th>component</th>\n",
       "      <th></th>\n",
       "    </tr>\n",
       "  </thead>\n",
       "  <tbody>\n",
       "    <tr>\n",
       "      <th>^({add_recov_methods});{date_time_stamp}$</th>\n",
       "      <td>-1</td>\n",
       "    </tr>\n",
       "    <tr>\n",
       "      <th>^({termLabel} \\[{termID}\\])|{integer}$</th>\n",
       "      <td>-1</td>\n",
       "    </tr>\n",
       "    <tr>\n",
       "      <th>^{adapter_A_DNA_sequence};{adapter_B_DNA_sequence}$</th>\n",
       "      <td>-1</td>\n",
       "    </tr>\n",
       "    <tr>\n",
       "      <th>^{agrochemical_name};{amount} {unit};{date_time_stamp}$</th>\n",
       "      <td>-1</td>\n",
       "    </tr>\n",
       "    <tr>\n",
       "      <th>^{ambiguous_nucleotides}$</th>\n",
       "      <td>-1</td>\n",
       "    </tr>\n",
       "    <tr>\n",
       "      <th>...</th>\n",
       "      <td>...</td>\n",
       "    </tr>\n",
       "    <tr>\n",
       "      <th>vegetation</th>\n",
       "      <td>-1</td>\n",
       "    </tr>\n",
       "    <tr>\n",
       "      <th>vel</th>\n",
       "      <td>1</td>\n",
       "    </tr>\n",
       "    <tr>\n",
       "      <th>vol</th>\n",
       "      <td>1</td>\n",
       "    </tr>\n",
       "    <tr>\n",
       "      <th>weather</th>\n",
       "      <td>-1</td>\n",
       "    </tr>\n",
       "    <tr>\n",
       "      <th>quantity_value</th>\n",
       "      <td>1</td>\n",
       "    </tr>\n",
       "  </tbody>\n",
       "</table>\n",
       "<p>177 rows × 1 columns</p>\n",
       "</div>"
      ]
     },
     "execution_count": 8,
     "metadata": {},
     "output_type": "execute_result"
    }
   ],
   "execution_count": 8
  },
  {
   "metadata": {
    "ExecuteTime": {
     "end_time": "2025-04-04T03:24:34.319443Z",
     "start_time": "2025-04-04T03:24:32.522663Z"
    }
   },
   "cell_type": "code",
   "source": "mixs_schema = load_yaml_from_url(mixs_url)",
   "id": "cc1dcc92873677ef",
   "outputs": [],
   "execution_count": 9
  },
  {
   "metadata": {
    "ExecuteTime": {
     "end_time": "2025-04-04T03:24:36.164064Z",
     "start_time": "2025-04-04T03:24:34.354058Z"
    }
   },
   "cell_type": "code",
   "source": "nmdc_schema = load_yaml_from_url(nmdc_url)",
   "id": "715f5cc58c5a7669",
   "outputs": [],
   "execution_count": 10
  },
  {
   "metadata": {
    "ExecuteTime": {
     "end_time": "2025-04-04T03:24:36.242097Z",
     "start_time": "2025-04-04T03:24:36.239672Z"
    }
   },
   "cell_type": "code",
   "source": "nmdc_slots = nmdc_schema['slots']",
   "id": "3db2f469c09fb649",
   "outputs": [],
   "execution_count": 11
  },
  {
   "metadata": {
    "ExecuteTime": {
     "end_time": "2025-04-04T03:24:36.261580Z",
     "start_time": "2025-04-04T03:24:36.252854Z"
    }
   },
   "cell_type": "code",
   "source": "# biosample_slots = nmdc_schema['classes']['Biosample']['slots']",
   "id": "ef40dc6e6a3e9162",
   "outputs": [],
   "execution_count": 12
  },
  {
   "metadata": {
    "ExecuteTime": {
     "end_time": "2025-04-04T03:24:36.299838Z",
     "start_time": "2025-04-04T03:24:36.297307Z"
    }
   },
   "cell_type": "code",
   "source": "# biosample_slots",
   "id": "68fd0a2eb0c0ef0b",
   "outputs": [],
   "execution_count": 13
  },
  {
   "metadata": {
    "ExecuteTime": {
     "end_time": "2025-04-04T03:24:36.346148Z",
     "start_time": "2025-04-04T03:24:36.343525Z"
    }
   },
   "cell_type": "code",
   "source": "qv_slots = set()",
   "id": "8cad0861824570c1",
   "outputs": [],
   "execution_count": 14
  },
  {
   "metadata": {
    "ExecuteTime": {
     "end_time": "2025-04-04T03:24:36.393710Z",
     "start_time": "2025-04-04T03:24:36.389518Z"
    }
   },
   "cell_type": "code",
   "source": [
    "for sk, sv in nmdc_slots.items():\n",
    "    if 'range' in sv and sv['range'] == 'QuantityValue':\n",
    "        qv_slots.add(sk)\n"
   ],
   "id": "801a1fdb74766ef3",
   "outputs": [],
   "execution_count": 15
  },
  {
   "metadata": {
    "ExecuteTime": {
     "end_time": "2025-04-04T03:24:36.439021Z",
     "start_time": "2025-04-04T03:24:36.436390Z"
    }
   },
   "cell_type": "code",
   "source": "# qv_slots",
   "id": "50440a81b8d19489",
   "outputs": [],
   "execution_count": 16
  },
  {
   "metadata": {
    "ExecuteTime": {
     "end_time": "2025-04-04T03:24:36.484204Z",
     "start_time": "2025-04-04T03:24:36.481702Z"
    }
   },
   "cell_type": "code",
   "source": "slots = mixs_schema.get(\"slots\", {})",
   "id": "6f419e3ac2fcbdd",
   "outputs": [],
   "execution_count": 17
  },
  {
   "metadata": {
    "ExecuteTime": {
     "end_time": "2025-04-04T03:24:36.544762Z",
     "start_time": "2025-04-04T03:24:36.533707Z"
    }
   },
   "cell_type": "code",
   "source": "enums = mixs_schema.get(\"enums\", {})",
   "id": "3b275afd8b0d5662",
   "outputs": [],
   "execution_count": 18
  },
  {
   "metadata": {
    "ExecuteTime": {
     "end_time": "2025-04-04T03:24:36.591406Z",
     "start_time": "2025-04-04T03:24:36.588417Z"
    }
   },
   "cell_type": "code",
   "source": "default_range = mixs_schema.get(\"default_range\", \"string\")",
   "id": "2bf60b9cc2a429c8",
   "outputs": [],
   "execution_count": 19
  },
  {
   "metadata": {
    "ExecuteTime": {
     "end_time": "2025-04-04T03:24:36.637354Z",
     "start_time": "2025-04-04T03:24:36.634852Z"
    }
   },
   "cell_type": "code",
   "source": [
    "# Initialize the slot metadata structure\n",
    "slot_metadata = {}"
   ],
   "id": "d71d1ac8ef65328",
   "outputs": [],
   "execution_count": 20
  },
  {
   "metadata": {
    "ExecuteTime": {
     "end_time": "2025-04-04T03:24:36.682953Z",
     "start_time": "2025-04-04T03:24:36.680480Z"
    }
   },
   "cell_type": "code",
   "source": [
    "# Counter to keep track of unique values of 'structured_pattern.syntax'\n",
    "sp_syntax_counter = Counter()"
   ],
   "id": "a67ada9948ebebb1",
   "outputs": [],
   "execution_count": 21
  },
  {
   "metadata": {
    "ExecuteTime": {
     "end_time": "2025-04-04T03:24:36.730200Z",
     "start_time": "2025-04-04T03:24:36.726554Z"
    }
   },
   "cell_type": "code",
   "source": [
    "\n",
    "pu_counter = Counter()"
   ],
   "id": "799536d0787a64a4",
   "outputs": [],
   "execution_count": 22
  },
  {
   "metadata": {
    "ExecuteTime": {
     "end_time": "2025-04-04T03:24:36.776563Z",
     "start_time": "2025-04-04T03:24:36.774028Z"
    }
   },
   "cell_type": "code",
   "source": "slot_name_component_counter = Counter()",
   "id": "ded92367e33a7a7c",
   "outputs": [],
   "execution_count": 23
  },
  {
   "metadata": {
    "ExecuteTime": {
     "end_time": "2025-04-04T03:24:36.833393Z",
     "start_time": "2025-04-04T03:24:36.820388Z"
    }
   },
   "cell_type": "code",
   "source": [
    "for slot_name, slot_def in slots.items():\n",
    "    if slot_def.get(\"domain\") == \"MixsCompliantData\":\n",
    "        continue\n",
    "\n",
    "    slot_range = slot_def.get(\"range\", default_range)\n",
    "\n",
    "    annotations = slot_def.get(\"annotations\", {})\n",
    "    preferred_units_string = annotations.get(\"Preferred_unit\")\n",
    "    preferred_units_set = split_preferred_units(preferred_units_string)\n",
    "\n",
    "    temp_dict = {\n",
    "        \"has_enum_range\": slot_range in enums,\n",
    "        \"range_of_slot\": slot_range\n",
    "    }\n",
    "\n",
    "    for unit in preferred_units_set:\n",
    "        temp_dict[unit] = True\n",
    "        temp_dict[\"has_preferred_unit\"] = True\n",
    "        pu_counter[unit] += 1\n",
    "\n",
    "    structured_pattern = slot_def.get(\"structured_pattern\")\n",
    "    if isinstance(structured_pattern, dict):\n",
    "        syntax = structured_pattern.get(\"syntax\")\n",
    "        if syntax:\n",
    "            sp_syntax_counter[syntax] += 1\n",
    "            temp_dict[syntax] = True\n",
    "\n",
    "    slot_name_components = slot_name.split(\"_\")\n",
    "    for slot_name_component in slot_name_components:\n",
    "        slot_name_component_counter[slot_name_component] += 1\n",
    "        temp_dict[slot_name_component] = True\n",
    "\n",
    "    temp_dict[\"name_components\"] = len(slot_name_components)\n",
    "\n",
    "    slot_metadata[slot_name] = temp_dict\n"
   ],
   "id": "d972ad5b4f95b59d",
   "outputs": [],
   "execution_count": 24
  },
  {
   "metadata": {
    "ExecuteTime": {
     "end_time": "2025-04-04T03:24:36.879611Z",
     "start_time": "2025-04-04T03:24:36.875826Z"
    }
   },
   "cell_type": "code",
   "source": "len(pu_counter)",
   "id": "bc9758623ba2dd85",
   "outputs": [
    {
     "data": {
      "text/plain": [
       "110"
      ]
     },
     "execution_count": 25,
     "metadata": {},
     "output_type": "execute_result"
    }
   ],
   "execution_count": 25
  },
  {
   "metadata": {
    "ExecuteTime": {
     "end_time": "2025-04-04T03:24:36.928046Z",
     "start_time": "2025-04-04T03:24:36.925252Z"
    }
   },
   "cell_type": "code",
   "source": "# pu_counter",
   "id": "b374f54ff5ac1dbc",
   "outputs": [],
   "execution_count": 26
  },
  {
   "metadata": {
    "ExecuteTime": {
     "end_time": "2025-04-04T03:24:36.975209Z",
     "start_time": "2025-04-04T03:24:36.970913Z"
    }
   },
   "cell_type": "code",
   "source": "len(sp_syntax_counter)",
   "id": "1bccd07415b4e7b9",
   "outputs": [
    {
     "data": {
      "text/plain": [
       "26"
      ]
     },
     "execution_count": 27,
     "metadata": {},
     "output_type": "execute_result"
    }
   ],
   "execution_count": 27
  },
  {
   "metadata": {
    "ExecuteTime": {
     "end_time": "2025-04-04T03:24:37.021949Z",
     "start_time": "2025-04-04T03:24:37.018909Z"
    }
   },
   "cell_type": "code",
   "source": "# sp_syntax_counter",
   "id": "cf61b15959463026",
   "outputs": [],
   "execution_count": 28
  },
  {
   "metadata": {
    "ExecuteTime": {
     "end_time": "2025-04-04T03:24:37.069194Z",
     "start_time": "2025-04-04T03:24:37.064905Z"
    }
   },
   "cell_type": "code",
   "source": "len(slot_name_component_counter)",
   "id": "f05daceeaedcf84e",
   "outputs": [
    {
     "data": {
      "text/plain": [
       "728"
      ]
     },
     "execution_count": 29,
     "metadata": {},
     "output_type": "execute_result"
    }
   ],
   "execution_count": 29
  },
  {
   "metadata": {
    "ExecuteTime": {
     "end_time": "2025-04-04T03:24:37.118799Z",
     "start_time": "2025-04-04T03:24:37.114731Z"
    }
   },
   "cell_type": "code",
   "source": "common_component_counter = Counter({k: v for k, v in slot_name_component_counter.items() if v > 1})",
   "id": "3e5c1c6fd42cd063",
   "outputs": [],
   "execution_count": 30
  },
  {
   "metadata": {
    "ExecuteTime": {
     "end_time": "2025-04-04T03:24:37.166178Z",
     "start_time": "2025-04-04T03:24:37.163122Z"
    }
   },
   "cell_type": "code",
   "source": "singleton_component_counter = Counter({k: v for k, v in slot_name_component_counter.items() if v == 1})",
   "id": "83d81f31ce4566ca",
   "outputs": [],
   "execution_count": 31
  },
  {
   "metadata": {
    "ExecuteTime": {
     "end_time": "2025-04-04T03:24:37.215526Z",
     "start_time": "2025-04-04T03:24:37.210431Z"
    }
   },
   "cell_type": "code",
   "source": "len(common_component_counter)",
   "id": "e388f4b25d4eac1",
   "outputs": [
    {
     "data": {
      "text/plain": [
       "275"
      ]
     },
     "execution_count": 32,
     "metadata": {},
     "output_type": "execute_result"
    }
   ],
   "execution_count": 32
  },
  {
   "metadata": {
    "ExecuteTime": {
     "end_time": "2025-04-04T03:24:37.279794Z",
     "start_time": "2025-04-04T03:24:37.270848Z"
    }
   },
   "cell_type": "code",
   "source": "# common_component_counter",
   "id": "d364672b6b71ba6b",
   "outputs": [],
   "execution_count": 33
  },
  {
   "metadata": {
    "ExecuteTime": {
     "end_time": "2025-04-04T03:24:37.434061Z",
     "start_time": "2025-04-04T03:24:37.324366Z"
    }
   },
   "cell_type": "code",
   "source": [
    "# Convert to a DataFrame for further analysis\n",
    "slot_metadata_df = pd.DataFrame.from_dict(slot_metadata, orient=\"index\")"
   ],
   "id": "2099f18f9c489ce0",
   "outputs": [],
   "execution_count": 34
  },
  {
   "metadata": {
    "ExecuteTime": {
     "end_time": "2025-04-04T03:24:37.471996Z",
     "start_time": "2025-04-04T03:24:37.467908Z"
    }
   },
   "cell_type": "code",
   "source": "slot_metadata_df['quantity_value'] = slot_metadata_df.index.isin(qv_slots)",
   "id": "e84b209cdf218136",
   "outputs": [],
   "execution_count": 35
  },
  {
   "metadata": {
    "ExecuteTime": {
     "end_time": "2025-04-04T03:24:37.517145Z",
     "start_time": "2025-04-04T03:24:37.514667Z"
    }
   },
   "cell_type": "code",
   "source": "# add qv indicator",
   "id": "d90499455c26f87f",
   "outputs": [],
   "execution_count": 36
  },
  {
   "metadata": {
    "ExecuteTime": {
     "end_time": "2025-04-04T03:24:37.564802Z",
     "start_time": "2025-04-04T03:24:37.561327Z"
    }
   },
   "cell_type": "code",
   "source": "all_cols = set(slot_metadata_df.columns)",
   "id": "ee7752ed12881114",
   "outputs": [],
   "execution_count": 37
  },
  {
   "metadata": {
    "ExecuteTime": {
     "end_time": "2025-04-04T03:24:37.611259Z",
     "start_time": "2025-04-04T03:24:37.608502Z"
    }
   },
   "cell_type": "code",
   "source": "pu_cols = set(pu_counter.keys())",
   "id": "623e5a7a66fb2250",
   "outputs": [],
   "execution_count": 38
  },
  {
   "metadata": {
    "ExecuteTime": {
     "end_time": "2025-04-04T03:24:37.678631Z",
     "start_time": "2025-04-04T03:24:37.676263Z"
    }
   },
   "cell_type": "code",
   "source": "structured_pattern_cols = set(sp_syntax_counter.keys())",
   "id": "43e0b5e798f26f61",
   "outputs": [],
   "execution_count": 39
  },
  {
   "metadata": {
    "ExecuteTime": {
     "end_time": "2025-04-04T03:24:37.734927Z",
     "start_time": "2025-04-04T03:24:37.724235Z"
    }
   },
   "cell_type": "code",
   "source": "name_component_cols = set(slot_name_component_counter.keys())",
   "id": "af021afeffa3bca",
   "outputs": [],
   "execution_count": 40
  },
  {
   "metadata": {
    "ExecuteTime": {
     "end_time": "2025-04-04T03:24:37.782107Z",
     "start_time": "2025-04-04T03:24:37.779349Z"
    }
   },
   "cell_type": "code",
   "source": "common_component_cols = set(common_component_counter.keys())",
   "id": "b7140419c52d8269",
   "outputs": [],
   "execution_count": 41
  },
  {
   "metadata": {
    "ExecuteTime": {
     "end_time": "2025-04-04T03:24:37.827960Z",
     "start_time": "2025-04-04T03:24:37.825322Z"
    }
   },
   "cell_type": "code",
   "source": "singleton_component_cols = set(singleton_component_counter.keys())",
   "id": "66364014dc23faa6",
   "outputs": [],
   "execution_count": 42
  },
  {
   "metadata": {
    "ExecuteTime": {
     "end_time": "2025-04-04T03:24:37.874391Z",
     "start_time": "2025-04-04T03:24:37.871424Z"
    }
   },
   "cell_type": "code",
   "source": "initial_cols = sorted(all_cols - pu_cols - structured_pattern_cols - name_component_cols)",
   "id": "48ce799d50cc4371",
   "outputs": [],
   "execution_count": 43
  },
  {
   "metadata": {
    "ExecuteTime": {
     "end_time": "2025-04-04T03:24:37.919803Z",
     "start_time": "2025-04-04T03:24:37.916910Z"
    }
   },
   "cell_type": "code",
   "source": "final_cols = initial_cols + sorted(pu_cols) + sorted(structured_pattern_cols) + sorted(common_component_cols)",
   "id": "7807a31f860fb659",
   "outputs": [],
   "execution_count": 44
  },
  {
   "metadata": {
    "ExecuteTime": {
     "end_time": "2025-04-04T03:24:37.969387Z",
     "start_time": "2025-04-04T03:24:37.962399Z"
    }
   },
   "cell_type": "code",
   "source": "slot_metadata_df = slot_metadata_df[final_cols]",
   "id": "c3ae2e29a1a2ea13",
   "outputs": [],
   "execution_count": 45
  },
  {
   "metadata": {
    "ExecuteTime": {
     "end_time": "2025-04-04T03:24:38.030725Z",
     "start_time": "2025-04-04T03:24:38.012464Z"
    }
   },
   "cell_type": "code",
   "source": "slot_metadata_df",
   "id": "1d8736fe2d7f84dc",
   "outputs": [
    {
     "data": {
      "text/plain": [
       "                       has_enum_range has_preferred_unit  name_components  \\\n",
       "HACCP_term                      False                NaN                2   \n",
       "IFSAC_category                  False                NaN                2   \n",
       "abs_air_humidity                False               True                3   \n",
       "adapters                        False                NaN                1   \n",
       "add_recov_method                False                NaN                3   \n",
       "...                               ...                ...              ...   \n",
       "window_vert_pos                  True                NaN                3   \n",
       "window_water_mold                True                NaN                3   \n",
       "x16s_recover                    False                NaN                2   \n",
       "x16s_recover_software           False                NaN                3   \n",
       "xylene                          False               True                1   \n",
       "\n",
       "                       quantity_value       range_of_slot angstrom atmosphere  \\\n",
       "HACCP_term                      False              string      NaN        NaN   \n",
       "IFSAC_category                  False              string      NaN        NaN   \n",
       "abs_air_humidity                 True              string      NaN        NaN   \n",
       "adapters                        False              string      NaN        NaN   \n",
       "add_recov_method                False              string      NaN        NaN   \n",
       "...                               ...                 ...      ...        ...   \n",
       "window_vert_pos                 False   WindowVertPosEnum      NaN        NaN   \n",
       "window_water_mold               False  MoldVisibilityEnum      NaN        NaN   \n",
       "x16s_recover                    False             boolean      NaN        NaN   \n",
       "x16s_recover_software           False              string      NaN        NaN   \n",
       "xylene                           True              string      NaN        NaN   \n",
       "\n",
       "                      beats per minute cardinal direction centimeter  ...  \\\n",
       "HACCP_term                         NaN                NaN        NaN  ...   \n",
       "IFSAC_category                     NaN                NaN        NaN  ...   \n",
       "abs_air_humidity                   NaN                NaN        NaN  ...   \n",
       "adapters                           NaN                NaN        NaN  ...   \n",
       "add_recov_method                   NaN                NaN        NaN  ...   \n",
       "...                                ...                ...        ...  ...   \n",
       "window_vert_pos                    NaN                NaN        NaN  ...   \n",
       "window_water_mold                  NaN                NaN        NaN  ...   \n",
       "x16s_recover                       NaN                NaN        NaN  ...   \n",
       "x16s_recover_software              NaN                NaN        NaN  ...   \n",
       "xylene                             NaN                NaN        NaN  ...   \n",
       "\n",
       "                       vfa  vol wall water weather well  wga wind window  x16s  \n",
       "HACCP_term             NaN  NaN  NaN   NaN     NaN  NaN  NaN  NaN    NaN   NaN  \n",
       "IFSAC_category         NaN  NaN  NaN   NaN     NaN  NaN  NaN  NaN    NaN   NaN  \n",
       "abs_air_humidity       NaN  NaN  NaN   NaN     NaN  NaN  NaN  NaN    NaN   NaN  \n",
       "adapters               NaN  NaN  NaN   NaN     NaN  NaN  NaN  NaN    NaN   NaN  \n",
       "add_recov_method       NaN  NaN  NaN   NaN     NaN  NaN  NaN  NaN    NaN   NaN  \n",
       "...                    ...  ...  ...   ...     ...  ...  ...  ...    ...   ...  \n",
       "window_vert_pos        NaN  NaN  NaN   NaN     NaN  NaN  NaN  NaN   True   NaN  \n",
       "window_water_mold      NaN  NaN  NaN  True     NaN  NaN  NaN  NaN   True   NaN  \n",
       "x16s_recover           NaN  NaN  NaN   NaN     NaN  NaN  NaN  NaN    NaN  True  \n",
       "x16s_recover_software  NaN  NaN  NaN   NaN     NaN  NaN  NaN  NaN    NaN  True  \n",
       "xylene                 NaN  NaN  NaN   NaN     NaN  NaN  NaN  NaN    NaN   NaN  \n",
       "\n",
       "[772 rows x 416 columns]"
      ],
      "text/html": [
       "<div>\n",
       "<style scoped>\n",
       "    .dataframe tbody tr th:only-of-type {\n",
       "        vertical-align: middle;\n",
       "    }\n",
       "\n",
       "    .dataframe tbody tr th {\n",
       "        vertical-align: top;\n",
       "    }\n",
       "\n",
       "    .dataframe thead th {\n",
       "        text-align: right;\n",
       "    }\n",
       "</style>\n",
       "<table border=\"1\" class=\"dataframe\">\n",
       "  <thead>\n",
       "    <tr style=\"text-align: right;\">\n",
       "      <th></th>\n",
       "      <th>has_enum_range</th>\n",
       "      <th>has_preferred_unit</th>\n",
       "      <th>name_components</th>\n",
       "      <th>quantity_value</th>\n",
       "      <th>range_of_slot</th>\n",
       "      <th>angstrom</th>\n",
       "      <th>atmosphere</th>\n",
       "      <th>beats per minute</th>\n",
       "      <th>cardinal direction</th>\n",
       "      <th>centimeter</th>\n",
       "      <th>...</th>\n",
       "      <th>vfa</th>\n",
       "      <th>vol</th>\n",
       "      <th>wall</th>\n",
       "      <th>water</th>\n",
       "      <th>weather</th>\n",
       "      <th>well</th>\n",
       "      <th>wga</th>\n",
       "      <th>wind</th>\n",
       "      <th>window</th>\n",
       "      <th>x16s</th>\n",
       "    </tr>\n",
       "  </thead>\n",
       "  <tbody>\n",
       "    <tr>\n",
       "      <th>HACCP_term</th>\n",
       "      <td>False</td>\n",
       "      <td>NaN</td>\n",
       "      <td>2</td>\n",
       "      <td>False</td>\n",
       "      <td>string</td>\n",
       "      <td>NaN</td>\n",
       "      <td>NaN</td>\n",
       "      <td>NaN</td>\n",
       "      <td>NaN</td>\n",
       "      <td>NaN</td>\n",
       "      <td>...</td>\n",
       "      <td>NaN</td>\n",
       "      <td>NaN</td>\n",
       "      <td>NaN</td>\n",
       "      <td>NaN</td>\n",
       "      <td>NaN</td>\n",
       "      <td>NaN</td>\n",
       "      <td>NaN</td>\n",
       "      <td>NaN</td>\n",
       "      <td>NaN</td>\n",
       "      <td>NaN</td>\n",
       "    </tr>\n",
       "    <tr>\n",
       "      <th>IFSAC_category</th>\n",
       "      <td>False</td>\n",
       "      <td>NaN</td>\n",
       "      <td>2</td>\n",
       "      <td>False</td>\n",
       "      <td>string</td>\n",
       "      <td>NaN</td>\n",
       "      <td>NaN</td>\n",
       "      <td>NaN</td>\n",
       "      <td>NaN</td>\n",
       "      <td>NaN</td>\n",
       "      <td>...</td>\n",
       "      <td>NaN</td>\n",
       "      <td>NaN</td>\n",
       "      <td>NaN</td>\n",
       "      <td>NaN</td>\n",
       "      <td>NaN</td>\n",
       "      <td>NaN</td>\n",
       "      <td>NaN</td>\n",
       "      <td>NaN</td>\n",
       "      <td>NaN</td>\n",
       "      <td>NaN</td>\n",
       "    </tr>\n",
       "    <tr>\n",
       "      <th>abs_air_humidity</th>\n",
       "      <td>False</td>\n",
       "      <td>True</td>\n",
       "      <td>3</td>\n",
       "      <td>True</td>\n",
       "      <td>string</td>\n",
       "      <td>NaN</td>\n",
       "      <td>NaN</td>\n",
       "      <td>NaN</td>\n",
       "      <td>NaN</td>\n",
       "      <td>NaN</td>\n",
       "      <td>...</td>\n",
       "      <td>NaN</td>\n",
       "      <td>NaN</td>\n",
       "      <td>NaN</td>\n",
       "      <td>NaN</td>\n",
       "      <td>NaN</td>\n",
       "      <td>NaN</td>\n",
       "      <td>NaN</td>\n",
       "      <td>NaN</td>\n",
       "      <td>NaN</td>\n",
       "      <td>NaN</td>\n",
       "    </tr>\n",
       "    <tr>\n",
       "      <th>adapters</th>\n",
       "      <td>False</td>\n",
       "      <td>NaN</td>\n",
       "      <td>1</td>\n",
       "      <td>False</td>\n",
       "      <td>string</td>\n",
       "      <td>NaN</td>\n",
       "      <td>NaN</td>\n",
       "      <td>NaN</td>\n",
       "      <td>NaN</td>\n",
       "      <td>NaN</td>\n",
       "      <td>...</td>\n",
       "      <td>NaN</td>\n",
       "      <td>NaN</td>\n",
       "      <td>NaN</td>\n",
       "      <td>NaN</td>\n",
       "      <td>NaN</td>\n",
       "      <td>NaN</td>\n",
       "      <td>NaN</td>\n",
       "      <td>NaN</td>\n",
       "      <td>NaN</td>\n",
       "      <td>NaN</td>\n",
       "    </tr>\n",
       "    <tr>\n",
       "      <th>add_recov_method</th>\n",
       "      <td>False</td>\n",
       "      <td>NaN</td>\n",
       "      <td>3</td>\n",
       "      <td>False</td>\n",
       "      <td>string</td>\n",
       "      <td>NaN</td>\n",
       "      <td>NaN</td>\n",
       "      <td>NaN</td>\n",
       "      <td>NaN</td>\n",
       "      <td>NaN</td>\n",
       "      <td>...</td>\n",
       "      <td>NaN</td>\n",
       "      <td>NaN</td>\n",
       "      <td>NaN</td>\n",
       "      <td>NaN</td>\n",
       "      <td>NaN</td>\n",
       "      <td>NaN</td>\n",
       "      <td>NaN</td>\n",
       "      <td>NaN</td>\n",
       "      <td>NaN</td>\n",
       "      <td>NaN</td>\n",
       "    </tr>\n",
       "    <tr>\n",
       "      <th>...</th>\n",
       "      <td>...</td>\n",
       "      <td>...</td>\n",
       "      <td>...</td>\n",
       "      <td>...</td>\n",
       "      <td>...</td>\n",
       "      <td>...</td>\n",
       "      <td>...</td>\n",
       "      <td>...</td>\n",
       "      <td>...</td>\n",
       "      <td>...</td>\n",
       "      <td>...</td>\n",
       "      <td>...</td>\n",
       "      <td>...</td>\n",
       "      <td>...</td>\n",
       "      <td>...</td>\n",
       "      <td>...</td>\n",
       "      <td>...</td>\n",
       "      <td>...</td>\n",
       "      <td>...</td>\n",
       "      <td>...</td>\n",
       "      <td>...</td>\n",
       "    </tr>\n",
       "    <tr>\n",
       "      <th>window_vert_pos</th>\n",
       "      <td>True</td>\n",
       "      <td>NaN</td>\n",
       "      <td>3</td>\n",
       "      <td>False</td>\n",
       "      <td>WindowVertPosEnum</td>\n",
       "      <td>NaN</td>\n",
       "      <td>NaN</td>\n",
       "      <td>NaN</td>\n",
       "      <td>NaN</td>\n",
       "      <td>NaN</td>\n",
       "      <td>...</td>\n",
       "      <td>NaN</td>\n",
       "      <td>NaN</td>\n",
       "      <td>NaN</td>\n",
       "      <td>NaN</td>\n",
       "      <td>NaN</td>\n",
       "      <td>NaN</td>\n",
       "      <td>NaN</td>\n",
       "      <td>NaN</td>\n",
       "      <td>True</td>\n",
       "      <td>NaN</td>\n",
       "    </tr>\n",
       "    <tr>\n",
       "      <th>window_water_mold</th>\n",
       "      <td>True</td>\n",
       "      <td>NaN</td>\n",
       "      <td>3</td>\n",
       "      <td>False</td>\n",
       "      <td>MoldVisibilityEnum</td>\n",
       "      <td>NaN</td>\n",
       "      <td>NaN</td>\n",
       "      <td>NaN</td>\n",
       "      <td>NaN</td>\n",
       "      <td>NaN</td>\n",
       "      <td>...</td>\n",
       "      <td>NaN</td>\n",
       "      <td>NaN</td>\n",
       "      <td>NaN</td>\n",
       "      <td>True</td>\n",
       "      <td>NaN</td>\n",
       "      <td>NaN</td>\n",
       "      <td>NaN</td>\n",
       "      <td>NaN</td>\n",
       "      <td>True</td>\n",
       "      <td>NaN</td>\n",
       "    </tr>\n",
       "    <tr>\n",
       "      <th>x16s_recover</th>\n",
       "      <td>False</td>\n",
       "      <td>NaN</td>\n",
       "      <td>2</td>\n",
       "      <td>False</td>\n",
       "      <td>boolean</td>\n",
       "      <td>NaN</td>\n",
       "      <td>NaN</td>\n",
       "      <td>NaN</td>\n",
       "      <td>NaN</td>\n",
       "      <td>NaN</td>\n",
       "      <td>...</td>\n",
       "      <td>NaN</td>\n",
       "      <td>NaN</td>\n",
       "      <td>NaN</td>\n",
       "      <td>NaN</td>\n",
       "      <td>NaN</td>\n",
       "      <td>NaN</td>\n",
       "      <td>NaN</td>\n",
       "      <td>NaN</td>\n",
       "      <td>NaN</td>\n",
       "      <td>True</td>\n",
       "    </tr>\n",
       "    <tr>\n",
       "      <th>x16s_recover_software</th>\n",
       "      <td>False</td>\n",
       "      <td>NaN</td>\n",
       "      <td>3</td>\n",
       "      <td>False</td>\n",
       "      <td>string</td>\n",
       "      <td>NaN</td>\n",
       "      <td>NaN</td>\n",
       "      <td>NaN</td>\n",
       "      <td>NaN</td>\n",
       "      <td>NaN</td>\n",
       "      <td>...</td>\n",
       "      <td>NaN</td>\n",
       "      <td>NaN</td>\n",
       "      <td>NaN</td>\n",
       "      <td>NaN</td>\n",
       "      <td>NaN</td>\n",
       "      <td>NaN</td>\n",
       "      <td>NaN</td>\n",
       "      <td>NaN</td>\n",
       "      <td>NaN</td>\n",
       "      <td>True</td>\n",
       "    </tr>\n",
       "    <tr>\n",
       "      <th>xylene</th>\n",
       "      <td>False</td>\n",
       "      <td>True</td>\n",
       "      <td>1</td>\n",
       "      <td>True</td>\n",
       "      <td>string</td>\n",
       "      <td>NaN</td>\n",
       "      <td>NaN</td>\n",
       "      <td>NaN</td>\n",
       "      <td>NaN</td>\n",
       "      <td>NaN</td>\n",
       "      <td>...</td>\n",
       "      <td>NaN</td>\n",
       "      <td>NaN</td>\n",
       "      <td>NaN</td>\n",
       "      <td>NaN</td>\n",
       "      <td>NaN</td>\n",
       "      <td>NaN</td>\n",
       "      <td>NaN</td>\n",
       "      <td>NaN</td>\n",
       "      <td>NaN</td>\n",
       "      <td>NaN</td>\n",
       "    </tr>\n",
       "  </tbody>\n",
       "</table>\n",
       "<p>772 rows × 416 columns</p>\n",
       "</div>"
      ]
     },
     "execution_count": 46,
     "metadata": {},
     "output_type": "execute_result"
    }
   ],
   "execution_count": 46
  },
  {
   "metadata": {
    "ExecuteTime": {
     "end_time": "2025-04-04T03:24:38.173699Z",
     "start_time": "2025-04-04T03:24:38.171557Z"
    }
   },
   "cell_type": "code",
   "source": "# print(list(slot_metadata_df.columns))",
   "id": "e9b180da703cd0eb",
   "outputs": [],
   "execution_count": 47
  },
  {
   "metadata": {
    "ExecuteTime": {
     "end_time": "2025-04-04T03:24:38.212721Z",
     "start_time": "2025-04-04T03:24:38.203463Z"
    }
   },
   "cell_type": "code",
   "source": "# slot_metadata_df.to_csv('mixs-slot-metadata.tsv', sep='\\t', index=True)",
   "id": "302bdc91614ed878",
   "outputs": [],
   "execution_count": 48
  },
  {
   "metadata": {
    "ExecuteTime": {
     "end_time": "2025-04-04T03:24:38.272762Z",
     "start_time": "2025-04-04T03:24:38.270118Z"
    }
   },
   "cell_type": "code",
   "source": [
    "# for i in sorted(structured_pattern_cols):\n",
    "#     print(i)"
   ],
   "id": "b614152938140c06",
   "outputs": [],
   "execution_count": 49
  },
  {
   "metadata": {
    "ExecuteTime": {
     "end_time": "2025-04-04T03:24:38.311306Z",
     "start_time": "2025-04-04T03:24:38.307773Z"
    }
   },
   "cell_type": "code",
   "source": [
    "# Step 1: Identify shared attributes between the two dataframes\n",
    "common_attrs = list(set(slot_metadata_df.columns) & set(measurement_evidence.index))\n"
   ],
   "id": "b8a15f65545df222",
   "outputs": [],
   "execution_count": 50
  },
  {
   "metadata": {
    "ExecuteTime": {
     "end_time": "2025-04-04T03:24:38.654570Z",
     "start_time": "2025-04-04T03:24:38.615692Z"
    }
   },
   "cell_type": "code",
   "source": [
    "# Step 2: Subset slot_metadata_df to just those attributes, and treat NA as 0\n",
    "slot_subset = slot_metadata_df[common_attrs].fillna(0)"
   ],
   "id": "29f72afe97ab7964",
   "outputs": [],
   "execution_count": 51
  },
  {
   "metadata": {
    "ExecuteTime": {
     "end_time": "2025-04-04T03:24:38.707263Z",
     "start_time": "2025-04-04T03:24:38.703850Z"
    }
   },
   "cell_type": "code",
   "source": [
    "# Step 3: Get evidence values as a Series (aligned with columns)\n",
    "evidence_vector = measurement_evidence.loc[common_attrs, 'measurement_evidence']"
   ],
   "id": "c93e1210bcc6c27c",
   "outputs": [],
   "execution_count": 52
  },
  {
   "metadata": {
    "ExecuteTime": {
     "end_time": "2025-04-04T03:24:38.798900Z",
     "start_time": "2025-04-04T03:24:38.777724Z"
    }
   },
   "cell_type": "code",
   "source": [
    "evidence_weighted = slot_subset * evidence_vector\n",
    "slot_metadata_df['evidence_score'] = evidence_weighted.sum(axis=1)"
   ],
   "id": "ce48263811ce1ecd",
   "outputs": [],
   "execution_count": 53
  },
  {
   "metadata": {
    "ExecuteTime": {
     "end_time": "2025-04-04T03:24:38.835191Z",
     "start_time": "2025-04-04T03:24:38.831599Z"
    }
   },
   "cell_type": "code",
   "source": "slot_metadata_df['weighted_evidence_score'] = slot_metadata_df['evidence_score'] / slot_metadata_df['name_components']\n",
   "id": "207f6e2233f5c1ca",
   "outputs": [],
   "execution_count": 54
  },
  {
   "metadata": {
    "ExecuteTime": {
     "end_time": "2025-04-04T03:24:38.915197Z",
     "start_time": "2025-04-04T03:24:38.874392Z"
    }
   },
   "cell_type": "code",
   "source": "slot_metadata_df.to_csv(\"mixs-slot-measurement-evidence.tsv\", sep='\\t', index=True)",
   "id": "645b86b8f2e432b1",
   "outputs": [],
   "execution_count": 55
  },
  {
   "metadata": {
    "ExecuteTime": {
     "end_time": "2025-04-04T03:24:38.951049Z",
     "start_time": "2025-04-04T03:24:38.946422Z"
    }
   },
   "cell_type": "code",
   "source": "slot_metadata_df['evidence_score'].value_counts()",
   "id": "85226043d1519a83",
   "outputs": [
    {
     "data": {
      "text/plain": [
       "evidence_score\n",
       "-1    196\n",
       "-2    148\n",
       "0     124\n",
       "3      76\n",
       "4      61\n",
       "-3     47\n",
       "1      46\n",
       "2      40\n",
       "5      19\n",
       "-4     15\n",
       "Name: count, dtype: int64"
      ]
     },
     "execution_count": 56,
     "metadata": {},
     "output_type": "execute_result"
    }
   ],
   "execution_count": 56
  },
  {
   "metadata": {
    "ExecuteTime": {
     "end_time": "2025-04-04T03:24:38.991673Z",
     "start_time": "2025-04-04T03:24:38.989701Z"
    }
   },
   "cell_type": "code",
   "source": "",
   "id": "fc5e3051bc99a644",
   "outputs": [],
   "execution_count": null
  }
 ],
 "metadata": {
  "kernelspec": {
   "display_name": "Python 3",
   "language": "python",
   "name": "python3"
  },
  "language_info": {
   "codemirror_mode": {
    "name": "ipython",
    "version": 2
   },
   "file_extension": ".py",
   "mimetype": "text/x-python",
   "name": "python",
   "nbconvert_exporter": "python",
   "pygments_lexer": "ipython2",
   "version": "2.7.6"
  }
 },
 "nbformat": 4,
 "nbformat_minor": 5
}
