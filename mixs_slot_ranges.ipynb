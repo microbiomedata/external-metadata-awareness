{
 "cells": [
  {
   "cell_type": "code",
   "id": "initial_id",
   "metadata": {
    "collapsed": true,
    "ExecuteTime": {
     "end_time": "2025-04-03T20:28:07.212677Z",
     "start_time": "2025-04-03T20:28:06.786269Z"
    }
   },
   "source": "import pandas as pd",
   "outputs": [],
   "execution_count": 1
  },
  {
   "metadata": {
    "ExecuteTime": {
     "end_time": "2025-04-03T20:28:07.234469Z",
     "start_time": "2025-04-03T20:28:07.231721Z"
    }
   },
   "cell_type": "code",
   "source": "mixs_schema_tsv = \"unorganized/mixs-schema.tsv\"",
   "id": "dcb623b6cd45e40e",
   "outputs": [],
   "execution_count": 2
  },
  {
   "metadata": {
    "ExecuteTime": {
     "end_time": "2025-04-03T20:29:49.229614Z",
     "start_time": "2025-04-03T20:29:49.048070Z"
    }
   },
   "cell_type": "code",
   "source": "mixs_schema = pd.read_csv(mixs_schema_tsv, sep=\"\\t\")",
   "id": "1e9d8519fb6cd5ec",
   "outputs": [
    {
     "name": "stderr",
     "output_type": "stream",
     "text": [
      "/tmp/ipykernel_292247/1561017232.py:1: DtypeWarning: Columns (9,12,13) have mixed types. Specify dtype option on import or set low_memory=False.\n",
      "  mixs_schema = pd.read_csv(mixs_schema_tsv, sep=\"\\t\")\n"
     ]
    }
   ],
   "execution_count": 11
  },
  {
   "metadata": {
    "ExecuteTime": {
     "end_time": "2025-04-03T20:30:29.761896Z",
     "start_time": "2025-04-03T20:30:29.757299Z"
    }
   },
   "cell_type": "code",
   "source": "mixs_schema = mixs_schema[['slot', 'range', 'pattern', 'structured_pattern.syntax']].copy()",
   "id": "984f2c547f418a95",
   "outputs": [],
   "execution_count": 13
  },
  {
   "metadata": {
    "ExecuteTime": {
     "end_time": "2025-04-03T20:30:30.604096Z",
     "start_time": "2025-04-03T20:30:30.590789Z"
    }
   },
   "cell_type": "code",
   "source": "mixs_schema.drop_duplicates(inplace=True)",
   "id": "dda7aeda08be7cb5",
   "outputs": [],
   "execution_count": 14
  },
  {
   "metadata": {
    "ExecuteTime": {
     "end_time": "2025-04-03T20:31:08.715094Z",
     "start_time": "2025-04-03T20:31:08.707157Z"
    }
   },
   "cell_type": "code",
   "source": "mixs_schema.to_csv(\"mixs-schema-slot-ranges.tsv\", index=False, sep=\"\\t\")",
   "id": "a8fab0b9e277c39c",
   "outputs": [],
   "execution_count": 16
  },
  {
   "metadata": {},
   "cell_type": "code",
   "outputs": [],
   "execution_count": null,
   "source": "",
   "id": "c9c1d41d5a89a8d2"
  }
 ],
 "metadata": {
  "kernelspec": {
   "display_name": "Python 3",
   "language": "python",
   "name": "python3"
  },
  "language_info": {
   "codemirror_mode": {
    "name": "ipython",
    "version": 2
   },
   "file_extension": ".py",
   "mimetype": "text/x-python",
   "name": "python",
   "nbconvert_exporter": "python",
   "pygments_lexer": "ipython2",
   "version": "2.7.6"
  }
 },
 "nbformat": 4,
 "nbformat_minor": 5
}
