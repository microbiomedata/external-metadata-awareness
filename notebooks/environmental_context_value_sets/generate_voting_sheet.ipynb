{
 "cells": [
  {
   "metadata": {
    "ExecuteTime": {
     "end_time": "2025-01-22T22:22:56.386751Z",
     "start_time": "2025-01-22T22:22:47.012541Z"
    }
   },
   "cell_type": "code",
   "source": [
    "from common import *\n",
    "\n",
    "import gzip\n",
    "import os\n",
    "import shutil\n",
    "import sqlite3\n",
    "from urllib.parse import urlparse\n",
    "\n",
    "import duckdb\n",
    "import pandas as pd\n",
    "import requests\n",
    "\n",
    "from oaklib import get_adapter\n",
    "from oaklib.datamodels.vocabulary import IS_A\n",
    "from oaklib.utilities.lexical.lexical_indexer import create_lexical_index, save_lexical_index, load_lexical_index\n",
    "from oaklib.interfaces.text_annotator_interface import TextAnnotatorInterface\n",
    "from oaklib.implementations import AggregatorImplementation\n",
    "\n",
    "from scipy.sparse import hstack\n",
    "from sklearn.ensemble import RandomForestClassifier\n",
    "from sklearn.metrics import classification_report\n",
    "from sklearn.model_selection import train_test_split\n",
    "\n",
    "import yaml\n",
    "import json\n"
   ],
   "id": "630126a7790cc3a7",
   "outputs": [],
   "execution_count": 1
  },
  {
   "metadata": {},
   "cell_type": "markdown",
   "source": [
    "## todos\n",
    "- [ ] cache goldterms.db\n",
    "- [ ] cache goldterms.db **in notebooks/environmental_context_value_sets** with other cached files"
   ],
   "id": "318ffab0685dcf95"
  },
  {
   "metadata": {
    "ExecuteTime": {
     "end_time": "2025-01-22T22:22:56.399338Z",
     "start_time": "2025-01-22T22:22:56.396318Z"
    }
   },
   "cell_type": "code",
   "source": [
    "\n",
    "selected_configuration = \"plant_associated_env_local_scale\""
   ],
   "id": "8403cb460f8a9555",
   "outputs": [],
   "execution_count": 2
  },
  {
   "metadata": {
    "ExecuteTime": {
     "end_time": "2025-01-22T22:22:56.594499Z",
     "start_time": "2025-01-22T22:22:56.591101Z"
    }
   },
   "cell_type": "code",
   "source": "configurations_file = \"voting_sheets_configurations.yaml\"",
   "id": "8587aac0ae5e4b6e",
   "outputs": [],
   "execution_count": 3
  },
  {
   "metadata": {
    "ExecuteTime": {
     "end_time": "2025-01-22T22:22:56.771449Z",
     "start_time": "2025-01-22T22:22:56.765922Z"
    }
   },
   "cell_type": "code",
   "source": [
    "# these are the variables that will be set by the configuration\n",
    "\n",
    "gold_context_selectors = None\n",
    "ncbi_context_selector = None\n",
    "ncbi_package_selector = None\n",
    "first_where = None\n",
    "gold_first_where = None\n",
    "semantic_anchors = None\n",
    "previous_submission_schema_url = None\n",
    "CONTEXT_ENUM = None\n",
    "nmdc_package_selector = None\n",
    "nmdc_context_selector = None\n",
    "comparison_enum_column_name = None\n",
    "output_file_name = None\n"
   ],
   "id": "27a216a6c4302bef",
   "outputs": [],
   "execution_count": 4
  },
  {
   "metadata": {
    "ExecuteTime": {
     "end_time": "2025-01-22T22:22:56.904403Z",
     "start_time": "2025-01-22T22:22:56.859925Z"
    }
   },
   "cell_type": "code",
   "source": [
    "# Load configurations from YAML file\n",
    "with open(configurations_file, \"r\") as file:\n",
    "    configurations = yaml.safe_load(file)[\"configurations\"]\n",
    "\n",
    "\n",
    "# Function to apply a configuration\n",
    "def apply_configuration(config_name):\n",
    "    config = configurations.get(config_name)\n",
    "    if not config:\n",
    "        raise ValueError(f\"Configuration '{config_name}' not found.\")\n",
    "\n",
    "    # Update global variables\n",
    "    globals().update(config)\n",
    "    print(f\"Configuration '{config_name}' applied.\")\n"
   ],
   "id": "7b7c9aa7b0377b9d",
   "outputs": [],
   "execution_count": 5
  },
  {
   "metadata": {
    "ExecuteTime": {
     "end_time": "2025-01-22T22:22:56.987856Z",
     "start_time": "2025-01-22T22:22:56.983026Z"
    }
   },
   "cell_type": "code",
   "source": [
    "apply_configuration(selected_configuration)\n",
    "\n",
    "# Now the global variables like `output_file_name`, `semantic_anchor`, etc., are set."
   ],
   "id": "a4aa8e0cde326069",
   "outputs": [
    {
     "name": "stdout",
     "output_type": "stream",
     "text": [
      "Configuration 'plant_associated_env_local_scale' applied.\n"
     ]
    }
   ],
   "execution_count": 6
  },
  {
   "metadata": {
    "ExecuteTime": {
     "end_time": "2025-01-22T22:22:57.227547Z",
     "start_time": "2025-01-22T22:22:57.222264Z"
    }
   },
   "cell_type": "code",
   "source": "gold_first_where = first_where",
   "id": "bece5df5dfd0e112",
   "outputs": [],
   "execution_count": 7
  },
  {
   "metadata": {
    "ExecuteTime": {
     "end_time": "2025-01-22T22:22:57.388538Z",
     "start_time": "2025-01-22T22:22:57.382664Z"
    }
   },
   "cell_type": "code",
   "source": [
    "# Initialize cache dictionaries for predict_from_normalized_env_packages\n",
    "# todo how to move the definitions for function that use these globals? Or just use caching around the function?\n",
    "ancestor_cache = {}\n",
    "descendant_cache = {}"
   ],
   "id": "f952b5888d2c5f0d",
   "outputs": [],
   "execution_count": 8
  },
  {
   "metadata": {},
   "cell_type": "markdown",
   "source": "# Preliminary label, ancestor and descendant caching",
   "id": "fe821e1d558e5735"
  },
  {
   "metadata": {
    "ExecuteTime": {
     "end_time": "2025-01-22T22:22:57.512632Z",
     "start_time": "2025-01-22T22:22:57.508159Z"
    }
   },
   "cell_type": "code",
   "source": [
    "# todo this on-demand NCBI curie extraction and annotation recapitulates work that is being added to\n",
    "# https://portal.nersc.gov/project/m3408/biosamples_duckdb/\n",
    "# via ???\n",
    "#   although that doesn't detect auto-incremented curies from  spreadsheet dragging\n",
    "\n",
    "# todo eventually, dig up a complete JSON gold biosample dump for non-hybrid biosample counts\n",
    "\n",
    "# todo make it clearer whether biosamples or studies are being counted\n",
    "#   count nmdc or gold STUDIES too?"
   ],
   "id": "5001cbd978bbdd28",
   "outputs": [],
   "execution_count": 9
  },
  {
   "metadata": {},
   "cell_type": "markdown",
   "source": "# Additional Settings",
   "id": "b799aabdd66098c0"
  },
  {
   "metadata": {
    "ExecuteTime": {
     "end_time": "2025-01-22T22:22:57.652475Z",
     "start_time": "2025-01-22T22:22:57.649256Z"
    }
   },
   "cell_type": "code",
   "source": [
    "# Approved prefixes (case-insensitive)\n",
    "approved_prefixes = ['ENVO']"
   ],
   "id": "50e39f658f4bd77b",
   "outputs": [],
   "execution_count": 10
  },
  {
   "metadata": {
    "ExecuteTime": {
     "end_time": "2025-01-22T22:22:57.773004Z",
     "start_time": "2025-01-22T22:22:57.769660Z"
    }
   },
   "cell_type": "code",
   "source": "MIN_ANNOTATION_LEN = 3",
   "id": "3aa0b52456f0a95c",
   "outputs": [],
   "execution_count": 11
  },
  {
   "cell_type": "code",
   "id": "d526be618b8b9129",
   "metadata": {
    "ExecuteTime": {
     "end_time": "2025-01-22T22:22:57.860202Z",
     "start_time": "2025-01-22T22:22:57.856367Z"
    }
   },
   "source": [
    "NMDC_RUNTIME_BASE_URL = 'https://api.microbiomedata.org/nmdcschema/'\n",
    "STUDY_SET_COLLECTION = 'study_set'\n",
    "BIOSAMPLE_SET_COLLECTION = 'biosample_set'"
   ],
   "outputs": [],
   "execution_count": 12
  },
  {
   "cell_type": "code",
   "id": "11c0cba800e33ac6",
   "metadata": {
    "ExecuteTime": {
     "end_time": "2025-01-22T22:22:57.985395Z",
     "start_time": "2025-01-22T22:22:57.980861Z"
    }
   },
   "source": [
    "envo_adapter_string = \"sqlite:obo:envo\""
   ],
   "outputs": [],
   "execution_count": 13
  },
  {
   "metadata": {
    "ExecuteTime": {
     "end_time": "2025-01-22T22:22:58.098414Z",
     "start_time": "2025-01-22T22:22:58.094459Z"
    }
   },
   "cell_type": "code",
   "source": "po_adapter_string = \"sqlite:obo:po\"",
   "id": "e479235c08537e33",
   "outputs": [],
   "execution_count": 14
  },
  {
   "cell_type": "code",
   "id": "7795121f47307a00",
   "metadata": {
    "ExecuteTime": {
     "end_time": "2025-01-22T22:22:58.195577Z",
     "start_time": "2025-01-22T22:22:58.191415Z"
    }
   },
   "source": [
    "env_package_override_file = 'mam-env-package-overrides.tsv'\n",
    "override_column = 'mam_inferred_env_package'"
   ],
   "outputs": [],
   "execution_count": 15
  },
  {
   "cell_type": "code",
   "id": "f1b99451d88ce356",
   "metadata": {
    "ExecuteTime": {
     "end_time": "2025-01-22T22:22:58.284496Z",
     "start_time": "2025-01-22T22:22:58.280750Z"
    }
   },
   "source": [
    "ncbi_duckdb_url = 'https://portal.nersc.gov/project/m3408/biosamples_duckdb/ncbi_biosamples_2024-09-23.duckdb.gz'\n",
    "# ncbi_duckdb_url = 'https://portal.nersc.gov/project/m3408/biosamples_duckdb/ncbi_biosamples.duckdb.gz'"
   ],
   "outputs": [],
   "execution_count": 16
  },
  {
   "cell_type": "code",
   "id": "51e5d41b02b19eec",
   "metadata": {
    "ExecuteTime": {
     "end_time": "2025-01-22T22:22:58.379629Z",
     "start_time": "2025-01-22T22:22:58.375350Z"
    }
   },
   "source": [
    "gold_data_url = \"https://gold.jgi.doe.gov/download?mode=site_excel\"\n",
    "gold_data_file_name = \"goldData.xlsx\"  # goldData.xlsx: Microsoft Excel 2007+\n",
    "gold_csv_file_name = \"gold_biosamples.csv\"\n",
    "BIOSAMPLES_SHEET = \"Biosample\""
   ],
   "outputs": [],
   "execution_count": 17
  },
  {
   "cell_type": "code",
   "id": "e1d9f705fad2efa9",
   "metadata": {
    "ExecuteTime": {
     "end_time": "2025-01-22T22:22:58.466920Z",
     "start_time": "2025-01-22T22:22:58.463802Z"
    }
   },
   "source": "goldterms_semsql_url = \"https://s3.amazonaws.com/bbop-sqlite/goldterms.db.gz\"",
   "outputs": [],
   "execution_count": 18
  },
  {
   "metadata": {
    "ExecuteTime": {
     "end_time": "2025-01-22T22:22:58.563341Z",
     "start_time": "2025-01-22T22:22:58.559898Z"
    }
   },
   "cell_type": "code",
   "source": "all_nmdc_biosamples_file = 'all_nmdc_biosamples.json'",
   "id": "db6170cb9f3a6ca0",
   "outputs": [],
   "execution_count": 19
  },
  {
   "metadata": {},
   "cell_type": "markdown",
   "source": "# CURIe Constants",
   "id": "16e21c18886a373c"
  },
  {
   "metadata": {
    "ExecuteTime": {
     "end_time": "2025-01-22T22:22:58.654826Z",
     "start_time": "2025-01-22T22:22:58.647928Z"
    }
   },
   "cell_type": "code",
   "source": [
    "BIOME = 'ENVO:00000428'\n",
    "TERRESTRIAL_BIOME = 'ENVO:00000446'\n",
    "AQUATIC_BIOME = 'ENVO:00002030'\n",
    "ABP = 'ENVO:01000813'\n",
    "ENVIRONMENTAL_SYSTEM = 'ENVO:01000254'\n",
    "ENVIRONMENTAL_MATERIAL = 'ENVO:00010483'\n",
    "\n",
    "SOIL = 'ENVO:00001998'\n",
    "LIQUID_WATER = 'ENVO:00002006'\n",
    "WATER_ICE = 'ENVO:01000277'\n",
    "\n",
    "HUMAN_CONSTRUCTION = 'ENVO:00000070'\n",
    "BUILDING = 'ENVO:00000073'\n",
    "BUILDING_PART = 'ENVO:01000420'\n",
    "\n",
    "SNOW = 'ENVO:01000406'\n",
    "MASS_OF_ENVIRONMENTAL_MATERIAL = 'ENVO:01001686'\n",
    "\n",
    "PLANT_STRUCTURE = \"PO:0009011\" # does not include plant anatomical space or portion of plant substance (from plant anatomical entity)\n",
    "\n",
    "MARINE_BIOME = 'ENVO:00000447'\n",
    "\n",
    "VEGETATION_LAYER = \"ENVO:01000355\"\n"
   ],
   "id": "73e52103eb69bbcc",
   "outputs": [],
   "execution_count": 20
  },
  {
   "metadata": {},
   "cell_type": "markdown",
   "source": "# Settings-based Queries",
   "id": "7ecec14181910236"
  },
  {
   "cell_type": "code",
   "id": "fb8c7caf28e64d10",
   "metadata": {
    "ExecuteTime": {
     "end_time": "2025-01-22T22:22:58.787762Z",
     "start_time": "2025-01-22T22:22:58.778340Z"
    }
   },
   "source": [
    "# todo could this have been done with a OAK query, eliminating the need to explicitly download the file?\n",
    "\n",
    "goldterms_envo_query = f\"\"\"\n",
    "SELECT\n",
    "\t*\n",
    "FROM\n",
    "\tstatements s\n",
    "WHERE\n",
    "\tpredicate in ('{\"', '\".join(gold_context_selectors)}')\"\"\""
   ],
   "outputs": [],
   "execution_count": 21
  },
  {
   "cell_type": "code",
   "id": "afd52cf83301de09",
   "metadata": {
    "ExecuteTime": {
     "end_time": "2025-01-22T22:22:58.872734Z",
     "start_time": "2025-01-22T22:22:58.868511Z"
    }
   },
   "source": [
    "ncbi_biosamples_per_annotation_query = f\"\"\"\n",
    "SELECT content, COUNT(1) AS count \n",
    "FROM attributes \n",
    "WHERE harmonized_name = '{ncbi_context_selector}' AND package_content like '%{ncbi_package_selector}'\n",
    "GROUP BY content\n",
    "ORDER BY COUNT(1) DESC\n",
    "\"\"\""
   ],
   "outputs": [],
   "execution_count": 22
  },
  {
   "metadata": {
    "ExecuteTime": {
     "end_time": "2025-01-22T22:22:58.976611Z",
     "start_time": "2025-01-22T22:22:58.972299Z"
    }
   },
   "cell_type": "code",
   "source": [
    "ncbi_bioprojects_per_annotation_query = f\"\"\"\n",
    "SELECT\n",
    "\ta.content,\n",
    "\tcount(DISTINCT l.content) AS count\n",
    "FROM\n",
    "\tmain.ATTRIBUTES a\n",
    "JOIN main.links l \n",
    "\tON\n",
    "\ta.id = l.id\n",
    "WHERE\n",
    "\tl.target = 'bioproject'\n",
    "\tAND harmonized_name = 'env_local_scale'\n",
    "\tAND package_content like '%{ncbi_package_selector}'\n",
    "GROUP BY\n",
    "\ta.content\n",
    "ORDER BY\n",
    "\tcount(DISTINCT l.content) DESC ;\n",
    "\"\"\""
   ],
   "id": "d82477b892c2a7a3",
   "outputs": [],
   "execution_count": 23
  },
  {
   "metadata": {
    "ExecuteTime": {
     "end_time": "2025-01-22T22:22:59.065001Z",
     "start_time": "2025-01-22T22:22:59.061788Z"
    }
   },
   "cell_type": "code",
   "source": "ncbi_X_per_annotation_query = ncbi_bioprojects_per_annotation_query",
   "id": "f86458549b99121b",
   "outputs": [],
   "execution_count": 24
  },
  {
   "metadata": {
    "ExecuteTime": {
     "end_time": "2025-01-22T22:22:59.167125Z",
     "start_time": "2025-01-22T22:22:59.161905Z"
    }
   },
   "cell_type": "code",
   "source": [
    "# and s1.subject = s1.stanza eliminates matches on blank node annotation rows (probably wouldn't change results but adds a little overhead)\n",
    "\n",
    "extension_query = f\"\"\"\n",
    "select\n",
    "\t\ts1.subject ,\n",
    "\t\ts2.predicate,\n",
    "\t\tCOALESCE (s2.\"object\",\n",
    "\ts2.\"value\") as content\n",
    "from\n",
    "\tstatements s1\n",
    "join statements s2 on \n",
    "\ts1.subject = s2.subject\n",
    "where\n",
    "\t{gold_first_where}\n",
    "\tand s1.predicate = 'rdfs:label'\n",
    "\tand s1.subject = s1.stanza\n",
    "\tand s2.predicate in ('mixs:env_broad', 'mixs:env_local', 'mixs:env_medium', 'mixs:mixs_extension', 'rdfs:label', 'mixs:other', 'mixs:anatomical_site', 'mixs:host_taxon') ;\n",
    "\"\"\"\n"
   ],
   "id": "8cdd3e6e17a2bac3",
   "outputs": [],
   "execution_count": 25
  },
  {
   "metadata": {},
   "cell_type": "markdown",
   "source": [
    "# Locally Defined Functions\n",
    "_Currently using locally-defined cache dictionaries_"
   ],
   "id": "6c4cf0d065a7de07"
  },
  {
   "cell_type": "code",
   "id": "38412bd611726160",
   "metadata": {
    "ExecuteTime": {
     "end_time": "2025-01-22T22:22:59.310646Z",
     "start_time": "2025-01-22T22:22:59.297840Z"
    }
   },
   "source": [
    "def predict_from_normalized_env_packages(df_raw, adapter):\n",
    "    # Apply the function to the relevant columns\n",
    "\n",
    "    df = df_raw.copy()\n",
    "\n",
    "    print(df.shape)\n",
    "    for column in ['env_broad_scale_id', 'env_local_scale_id', 'env_medium_id']:\n",
    "        df[f'{column}_ancestors'] = df[column].apply(lambda x: get_hierarchy_terms(x, adapter)['ancestors'])\n",
    "        df[f'{column}_descendants'] = df[column].apply(lambda x: get_hierarchy_terms(x, adapter)['descendants'])\n",
    "\n",
    "    # Vectorize each set of terms separately\n",
    "    broad_scale_ancestors = vectorize_terms(df, 'env_broad_scale_id_ancestors')\n",
    "    broad_scale_descendants = vectorize_terms(df, 'env_broad_scale_id_descendants')\n",
    "\n",
    "    local_scale_ancestors = vectorize_terms(df, 'env_local_scale_id_ancestors')\n",
    "    local_scale_descendants = vectorize_terms(df, 'env_local_scale_id_descendants')\n",
    "\n",
    "    medium_ancestors = vectorize_terms(df, 'env_medium_id_ancestors')\n",
    "    medium_descendants = vectorize_terms(df, 'env_medium_id_descendants')\n",
    "\n",
    "    # Combine all feature matrices\n",
    "    X = hstack([\n",
    "        broad_scale_ancestors,\n",
    "        broad_scale_descendants,\n",
    "        local_scale_ancestors,\n",
    "        local_scale_descendants,\n",
    "        medium_ancestors,\n",
    "        medium_descendants\n",
    "    ])\n",
    "\n",
    "    # Filter the DataFrame to only include non-null rows for the target column\n",
    "    df_filtered = df[df['normalized_env_package'].notnull() & (df['normalized_env_package'] != \"\")]\n",
    "\n",
    "    # Extract the target variable\n",
    "    y = df_filtered['normalized_env_package']\n",
    "\n",
    "    # Ensure X corresponds to the filtered rows\n",
    "    X_filtered = X[df_filtered.index]\n",
    "\n",
    "    # Split the data into training and testing sets\n",
    "    X_train, X_test, y_train, y_test = train_test_split(X_filtered, y, test_size=0.3, random_state=42)\n",
    "\n",
    "    # Train a Random Forest Classifier\n",
    "    clf = RandomForestClassifier(n_estimators=100, random_state=42)\n",
    "    clf.fit(X_train, y_train)\n",
    "\n",
    "    # Make predictions on the test set\n",
    "    y_pred = clf.predict(X_test)\n",
    "\n",
    "    # Evaluate the model\n",
    "    print(classification_report(y_test, y_pred))\n",
    "\n",
    "    # not determining confidence for each class nor saving any diagnostics any more\n",
    "\n",
    "    return clf.predict(X)"
   ],
   "outputs": [],
   "execution_count": 26
  },
  {
   "cell_type": "code",
   "id": "4515456aaeaa7980",
   "metadata": {
    "ExecuteTime": {
     "end_time": "2025-01-22T22:22:59.446071Z",
     "start_time": "2025-01-22T22:22:59.436530Z"
    }
   },
   "source": [
    "def get_hierarchy_terms(my_curie: str, adapter) -> dict:\n",
    "    \"\"\"\n",
    "    Extract ancestor and descendant terms from the ontology for a given CURIE,\n",
    "    using caching to improve performance and filtering by 'is_a' relationships.\n",
    "\n",
    "    Args:\n",
    "        my_curie (str): CURIE identifier for the ontology term.\n",
    "        adapter: Ontology adapter.\n",
    "\n",
    "    Returns:\n",
    "        dict: Dictionary containing lists of ancestor and descendant terms.\n",
    "    \"\"\"\n",
    "    if my_curie not in ancestor_cache:\n",
    "        try:\n",
    "            ancestors = list(adapter.ancestors(my_curie, predicates=[IS_A]))\n",
    "            ancestor_cache[my_curie] = [adapter.label(ancestor) for ancestor in ancestors if ancestor]\n",
    "        except Exception as my_e:\n",
    "            print(f\"Error retrieving ancestors for {my_curie}: {my_e}\")\n",
    "            ancestor_cache[my_curie] = []\n",
    "\n",
    "    if my_curie not in descendant_cache:\n",
    "        try:\n",
    "            descendants = list(adapter.descendants(my_curie, predicates=[IS_A]))\n",
    "            descendant_cache[my_curie] = [adapter.label(descendant) for descendant in descendants if descendant]\n",
    "        except Exception as my_e:\n",
    "            print(f\"Error retrieving descendants for {my_curie}: {my_e}\")\n",
    "            descendant_cache[my_curie] = []\n",
    "\n",
    "    return {\n",
    "        'ancestors': ancestor_cache[my_curie],\n",
    "        'descendants': descendant_cache[my_curie],\n",
    "    }"
   ],
   "outputs": [],
   "execution_count": 27
  },
  {
   "metadata": {},
   "cell_type": "markdown",
   "source": "# Procedural Code Starts Here",
   "id": "1423fbbafdf5e167"
  },
  {
   "cell_type": "code",
   "id": "44fb14c1b01ac34c",
   "metadata": {
    "ExecuteTime": {
     "end_time": "2025-01-22T22:22:59.563755Z",
     "start_time": "2025-01-22T22:22:59.559267Z"
    }
   },
   "source": [
    "# Determine the filenames and target directory for the NCBI DuckDB\n",
    "ncbi_compressed_filename = urlparse(ncbi_duckdb_url).path.split('/')[-1]\n",
    "ncbi_filename = os.path.splitext(ncbi_compressed_filename)[0]\n",
    "ncbi_compressed_file_path = os.path.join(ncbi_compressed_filename)\n",
    "ncbi_uncompressed_file_path = os.path.join(ncbi_filename)\n"
   ],
   "outputs": [],
   "execution_count": 28
  },
  {
   "cell_type": "code",
   "id": "353ba83ec3059ac5",
   "metadata": {
    "ExecuteTime": {
     "end_time": "2025-01-22T22:25:35.675837Z",
     "start_time": "2025-01-22T22:22:59.717424Z"
    }
   },
   "source": [
    "if os.path.isfile(ncbi_uncompressed_file_path):\n",
    "    print(f\"{ncbi_uncompressed_file_path} is already present in the current working directory.\")\n",
    "else:\n",
    "    if os.path.isfile(ncbi_compressed_file_path):\n",
    "        print(f\"{ncbi_compressed_file_path} is already present in the current working directory.\")\n",
    "    else:\n",
    "        print(f\"{ncbi_compressed_file_path} needs to be downloaded\")\n",
    "        ncbi_response = requests.get(ncbi_duckdb_url)\n",
    "        with open(ncbi_compressed_file_path, \"wb\") as f:\n",
    "            f.write(ncbi_response.content)\n",
    "        # ~ 2 minutes @ 250 Mbps\n",
    "\n",
    "    # Unzip the compressed file and save the extracted file in target directory\n",
    "    print(f\"{ncbi_compressed_file_path} needs to be unpacked\")\n",
    "    with gzip.open(ncbi_compressed_file_path, \"rb\") as f_in:\n",
    "        with open(ncbi_uncompressed_file_path, \"wb\") as f_out:\n",
    "            shutil.copyfileobj(f_in, f_out)\n",
    "\n",
    "    # ~ 2 minutes"
   ],
   "outputs": [
    {
     "name": "stdout",
     "output_type": "stream",
     "text": [
      "ncbi_biosamples_2024-09-23.duckdb.gz needs to be downloaded\n",
      "ncbi_biosamples_2024-09-23.duckdb.gz needs to be unpacked\n"
     ]
    }
   ],
   "execution_count": 29
  },
  {
   "cell_type": "code",
   "id": "63f815cbfb9b7a6b",
   "metadata": {
    "ExecuteTime": {
     "end_time": "2025-01-22T22:25:35.756789Z",
     "start_time": "2025-01-22T22:25:35.721574Z"
    }
   },
   "source": [
    "ncbi_conn = duckdb.connect(database=ncbi_uncompressed_file_path, read_only=True)"
   ],
   "outputs": [],
   "execution_count": 30
  },
  {
   "metadata": {},
   "cell_type": "markdown",
   "source": [
    "add po_adapter\n",
    "\n",
    "should we be creating a list of adapters?"
   ],
   "id": "ea641bb290ed714f"
  },
  {
   "cell_type": "code",
   "id": "198256f26bc060e3",
   "metadata": {
    "ExecuteTime": {
     "end_time": "2025-01-22T22:25:35.977213Z",
     "start_time": "2025-01-22T22:25:35.897830Z"
    }
   },
   "source": [
    "envo_adapter = get_adapter(envo_adapter_string)"
   ],
   "outputs": [],
   "execution_count": 31
  },
  {
   "metadata": {
    "ExecuteTime": {
     "end_time": "2025-01-22T22:25:36.731199Z",
     "start_time": "2025-01-22T22:25:36.064172Z"
    }
   },
   "cell_type": "code",
   "source": "po_adapter = get_adapter(po_adapter_string)",
   "id": "44294b3150c3053a",
   "outputs": [
    {
     "data": {
      "text/plain": [
       "Downloading po.db.gz: 0.00B [00:00, ?B/s]"
      ],
      "application/vnd.jupyter.widget-view+json": {
       "version_major": 2,
       "version_minor": 0,
       "model_id": "77fc76dc0c46476fa431de2daba574e0"
      }
     },
     "metadata": {},
     "output_type": "display_data"
    }
   ],
   "execution_count": 32
  },
  {
   "metadata": {},
   "cell_type": "markdown",
   "source": "**Preliminary replacement for `get_hierarchy_terms` and ancestor/descendant lookup in main row construction loop**",
   "id": "d1a0d6395ec6510b"
  },
  {
   "metadata": {
    "ExecuteTime": {
     "end_time": "2025-01-22T22:29:03.906581Z",
     "start_time": "2025-01-22T22:25:36.748494Z"
    }
   },
   "cell_type": "code",
   "source": [
    "reflexivity = False\n",
    "\n",
    "# File paths\n",
    "label_cache_file = \"envo_label_cache.json\"\n",
    "ancestors_file = \"envo_ancestors.json\"\n",
    "descendants_file = \"envo_descendants.json\"\n",
    "\n",
    "# Initialize caches\n",
    "envo_label_cache = {}\n",
    "envo_ancs_cache = {}\n",
    "envo_descs_cache = {}\n",
    "\n",
    "envo_entities_generator = envo_adapter.entities()\n",
    "envo_entities = list(envo_entities_generator)\n",
    "envo_entities.sort()\n",
    "\n",
    "\n",
    "# Function to generate and save the label cache\n",
    "def generate_label_cache():\n",
    "    print(\"Generating label cache...\")\n",
    "\n",
    "    label_cache = {}\n",
    "    for ee in envo_entities:\n",
    "        label_cache[ee] = envo_adapter.label(ee)\n",
    "    return label_cache\n",
    "\n",
    "\n",
    "# Check for label cache\n",
    "if os.path.exists(label_cache_file):\n",
    "    print(f\"Loading label cache from {label_cache_file}...\")\n",
    "    with open(label_cache_file, \"r\") as f:\n",
    "        envo_label_cache = json.load(f)\n",
    "else:\n",
    "    envo_label_cache = generate_label_cache()\n",
    "    with open(label_cache_file, \"w\") as f:\n",
    "        json.dump(envo_label_cache, f)\n",
    "    print(f\"Label cache saved to {label_cache_file}.\")\n",
    "\n",
    "# Check for ancestor cache\n",
    "if os.path.exists(ancestors_file):\n",
    "    print(f\"Loading ancestors from {ancestors_file}...\")\n",
    "    with open(ancestors_file, \"r\") as f:\n",
    "        envo_ancs_cache = json.load(f)\n",
    "else:\n",
    "    print(\"Ancestors file not found. Generating ancestor cache...\")\n",
    "\n",
    "    for ee in envo_entities:\n",
    "        ancs_gen = envo_adapter.ancestors(ee, reflexive=reflexivity)\n",
    "        envo_ancs_cache[ee] = [{a: envo_label_cache.get(a, None)} for a in ancs_gen]\n",
    "\n",
    "    with open(ancestors_file, \"w\") as f:\n",
    "        json.dump(envo_ancs_cache, f)\n",
    "    print(f\"Ancestors saved to {ancestors_file}.\")\n",
    "\n",
    "# Check for descendant cache\n",
    "if os.path.exists(descendants_file):\n",
    "    print(f\"Loading descendants from {descendants_file}...\")\n",
    "    with open(descendants_file, \"r\") as f:\n",
    "        envo_descs_cache = json.load(f)\n",
    "else:\n",
    "    # 5 minutes\n",
    "    print(\"Descendants file not found. Generating descendant cache...\")\n",
    "\n",
    "    for ee in envo_entities:\n",
    "        descs_gen = envo_adapter.descendants(ee, reflexive=reflexivity)\n",
    "        envo_descs_cache[ee] = [{d: envo_label_cache.get(d, None)} for d in descs_gen]\n",
    "\n",
    "    with open(descendants_file, \"w\") as f:\n",
    "        json.dump(envo_descs_cache, f)\n",
    "    print(f\"Descendants saved to {descendants_file}.\")\n"
   ],
   "id": "aa18493ce145fdf5",
   "outputs": [
    {
     "name": "stdout",
     "output_type": "stream",
     "text": [
      "Generating label cache...\n",
      "Label cache saved to envo_label_cache.json.\n",
      "Ancestors file not found. Generating ancestor cache...\n",
      "Ancestors saved to envo_ancestors.json.\n",
      "Descendants file not found. Generating descendant cache...\n",
      "Descendants saved to envo_descendants.json.\n"
     ]
    }
   ],
   "execution_count": 33
  },
  {
   "metadata": {},
   "cell_type": "markdown",
   "source": "# Anchor aka bootstrapping classes",
   "id": "491e3ded2d1fba45"
  },
  {
   "cell_type": "code",
   "id": "e863dc687ce4be5c",
   "metadata": {
    "ExecuteTime": {
     "end_time": "2025-01-22T22:29:04.749284Z",
     "start_time": "2025-01-22T22:29:04.001446Z"
    }
   },
   "source": [
    "# anchor_descendants = get_curie_descendants_label_dict(semantic_anchor, [IS_A], envo_adapter)\n",
    "\n",
    "anchor_descendants = {}\n",
    "for semantic_anchor in semantic_anchors:  # Assuming semantic_anchors is a list\n",
    "    anchor_descendants.update(get_curie_descendants_label_dict(semantic_anchor, [IS_A], envo_adapter))\n"
   ],
   "outputs": [],
   "execution_count": 34
  },
  {
   "cell_type": "code",
   "id": "394abb56c4987eee",
   "metadata": {
    "ExecuteTime": {
     "end_time": "2025-01-22T22:29:04.762690Z",
     "start_time": "2025-01-22T22:29:04.758183Z"
    }
   },
   "source": [
    "anchor_descendants_lod = curie_descendants_label_dict_to_lod(anchor_descendants)"
   ],
   "outputs": [],
   "execution_count": 35
  },
  {
   "cell_type": "code",
   "id": "eea1a3f8395da0d7",
   "metadata": {
    "ExecuteTime": {
     "end_time": "2025-01-22T22:29:04.912335Z",
     "start_time": "2025-01-22T22:29:04.904108Z"
    }
   },
   "source": [
    "anchor_descendants_frame = curie_descendants_label_lod_to_df(anchor_descendants_lod)"
   ],
   "outputs": [],
   "execution_count": 36
  },
  {
   "cell_type": "code",
   "id": "f85faf81e0a55a42",
   "metadata": {
    "ExecuteTime": {
     "end_time": "2025-01-22T22:29:05.032237Z",
     "start_time": "2025-01-22T22:29:05.012172Z"
    }
   },
   "source": [
    "anchor_descendants_frame"
   ],
   "outputs": [
    {
     "data": {
      "text/plain": [
       "              curie                             label\n",
       "0     ENVO:00001999                 marine water body\n",
       "1     ENVO:01000188            tropical savanna biome\n",
       "2     ENVO:00000487                  paternoster lake\n",
       "3     ENVO:01000860  temperate marine upwelling biome\n",
       "4     ENVO:01000199        mediterranean forest biome\n",
       "...             ...                               ...\n",
       "1737  ENVO:01000335                        understory\n",
       "1738  ENVO:01001242                            canopy\n",
       "1739  ENVO:01000338                      litter layer\n",
       "1740  ENVO:01000355                  vegetation layer\n",
       "1741  ENVO:01000337               herb and fern layer\n",
       "\n",
       "[1742 rows x 2 columns]"
      ],
      "text/html": [
       "<div>\n",
       "<style scoped>\n",
       "    .dataframe tbody tr th:only-of-type {\n",
       "        vertical-align: middle;\n",
       "    }\n",
       "\n",
       "    .dataframe tbody tr th {\n",
       "        vertical-align: top;\n",
       "    }\n",
       "\n",
       "    .dataframe thead th {\n",
       "        text-align: right;\n",
       "    }\n",
       "</style>\n",
       "<table border=\"1\" class=\"dataframe\">\n",
       "  <thead>\n",
       "    <tr style=\"text-align: right;\">\n",
       "      <th></th>\n",
       "      <th>curie</th>\n",
       "      <th>label</th>\n",
       "    </tr>\n",
       "  </thead>\n",
       "  <tbody>\n",
       "    <tr>\n",
       "      <th>0</th>\n",
       "      <td>ENVO:00001999</td>\n",
       "      <td>marine water body</td>\n",
       "    </tr>\n",
       "    <tr>\n",
       "      <th>1</th>\n",
       "      <td>ENVO:01000188</td>\n",
       "      <td>tropical savanna biome</td>\n",
       "    </tr>\n",
       "    <tr>\n",
       "      <th>2</th>\n",
       "      <td>ENVO:00000487</td>\n",
       "      <td>paternoster lake</td>\n",
       "    </tr>\n",
       "    <tr>\n",
       "      <th>3</th>\n",
       "      <td>ENVO:01000860</td>\n",
       "      <td>temperate marine upwelling biome</td>\n",
       "    </tr>\n",
       "    <tr>\n",
       "      <th>4</th>\n",
       "      <td>ENVO:01000199</td>\n",
       "      <td>mediterranean forest biome</td>\n",
       "    </tr>\n",
       "    <tr>\n",
       "      <th>...</th>\n",
       "      <td>...</td>\n",
       "      <td>...</td>\n",
       "    </tr>\n",
       "    <tr>\n",
       "      <th>1737</th>\n",
       "      <td>ENVO:01000335</td>\n",
       "      <td>understory</td>\n",
       "    </tr>\n",
       "    <tr>\n",
       "      <th>1738</th>\n",
       "      <td>ENVO:01001242</td>\n",
       "      <td>canopy</td>\n",
       "    </tr>\n",
       "    <tr>\n",
       "      <th>1739</th>\n",
       "      <td>ENVO:01000338</td>\n",
       "      <td>litter layer</td>\n",
       "    </tr>\n",
       "    <tr>\n",
       "      <th>1740</th>\n",
       "      <td>ENVO:01000355</td>\n",
       "      <td>vegetation layer</td>\n",
       "    </tr>\n",
       "    <tr>\n",
       "      <th>1741</th>\n",
       "      <td>ENVO:01000337</td>\n",
       "      <td>herb and fern layer</td>\n",
       "    </tr>\n",
       "  </tbody>\n",
       "</table>\n",
       "<p>1742 rows × 2 columns</p>\n",
       "</div>"
      ]
     },
     "execution_count": 37,
     "metadata": {},
     "output_type": "execute_result"
    }
   ],
   "execution_count": 37
  },
  {
   "cell_type": "markdown",
   "id": "857f1f1efd4635b9",
   "metadata": {},
   "source": "# Classes from the reference enumeration"
  },
  {
   "cell_type": "code",
   "id": "1432828ce7983148",
   "metadata": {
    "ExecuteTime": {
     "end_time": "2025-01-22T22:29:09.032589Z",
     "start_time": "2025-01-22T22:29:05.245500Z"
    }
   },
   "source": [
    "sv = get_schemaview_from_source(previous_submission_schema_url)"
   ],
   "outputs": [],
   "execution_count": 38
  },
  {
   "cell_type": "code",
   "id": "5841e0d6bc3d3c40",
   "metadata": {
    "ExecuteTime": {
     "end_time": "2025-01-22T22:29:09.106474Z",
     "start_time": "2025-01-22T22:29:09.100477Z"
    }
   },
   "source": [
    "# todo break out slow steps into its own cell\n",
    "\n",
    "try:\n",
    "    CONTEXT_ENUM_def = sv.get_enum(CONTEXT_ENUM)\n",
    "    context_pvs_keys = list(CONTEXT_ENUM_def.permissible_values.keys())\n",
    "except AttributeError as e:\n",
    "    # Handle the AttributeError\n",
    "    print(f\"An AttributeError occurred: {e}\")\n",
    "    context_pvs_keys = []\n"
   ],
   "outputs": [],
   "execution_count": 39
  },
  {
   "metadata": {
    "ExecuteTime": {
     "end_time": "2025-01-22T22:29:09.217027Z",
     "start_time": "2025-01-22T22:29:09.213133Z"
    }
   },
   "cell_type": "code",
   "source": "print(context_pvs_keys)",
   "id": "e47067e5b704ee70",
   "outputs": [
    {
     "name": "stdout",
     "output_type": "stream",
     "text": [
      "['active permafrost layer [ENVO:04000009]', 'alas [ENVO:00000438]', 'badland [ENVO:00000127]', 'beach [ENVO:00000091]', 'butte [ENVO:00000287]', 'caldera [ENVO:00000096]', 'campground [ENVO:01000935]', 'canyon [ENVO:00000169]', 'cave [ENVO:00000067]', 'channel [ENVO:03000117]', 'cirque [ENVO:00000155]', 'cliff [ENVO:00000087]', 'crater [ENVO:00000514]', 'crevasse [ENVO:00000320]', 'cryosphere [ENVO:03000143]', 'dam [ENVO:00000074]', 'desert [ENVO:01001357]', 'drainage basin [ENVO:00000291]', 'drumlin [ENVO:00000276]', 'dry lake [ENVO:00000277]', 'dune [ENVO:00000170]', 'endorheic basin [ENVO:00000551]', 'escarpment [ENVO:00000280]', 'esker [ENVO:00000282]', 'farm [ENVO:00000078]', 'fen [ENVO:00000232]', 'fjord [ENVO:00000039]', 'flood plain [ENVO:00000255]', 'frost heave [ENVO:01001568]', 'fumarole [ENVO:00000216]', 'garden [ENVO:00000011]', 'glacier [ENVO:00000133]', 'greenhouse [ENVO:03600087]', 'harbour [ENVO:00000463]', 'hill [ENVO:00000083]', 'hummock [ENVO:00000516]', 'isthmus [ENVO:00000174]', 'kame [ENVO:00000542]', 'karst [ENVO:00000175]', 'kipuka [ENVO:00000410]', 'landfill [ENVO:00000533]', 'machair [ENVO:00000417]', 'marsh [ENVO:00000035]', 'meadow ecosystem [ENVO:00000108]', 'mesa [ENVO:00000179]', 'mine [ENVO:00000076]', 'mine drainage [ENVO:00001996]', 'monadnock [ENVO:00000432]', 'moraine [ENVO:00000177]', 'mountain [ENVO:00000081]', 'nunatak [ENVO:00000181]', 'oil spill [ENVO:00002061]', 'palsa [ENVO:00000489]', 'park [ENVO:00000562]', 'pasture [ENVO:00000266]', 'peatland [ENVO:00000044]', 'pit [ENVO:01001871]', 'plain [ENVO:00000086]', 'plateau [ENVO:00000182]', 'polje [ENVO:00000325]', 'prairie [ENVO:00000260]', 'quarry [ENVO:00000284]', 'ranch [ENVO:01001207]', 'ravine [ENVO:01000446]', 'refinery [ENVO:02000141]', 'rhizosphere [ENVO:00005801]', 'ria [ENVO:00000418]', 'ridge [ENVO:00000283]', 'rill [ENVO:00000496]', 'river [ENVO:00000022]', 'riverfront [ENVO:03501239]', 'road [ENVO:00000064]', 'scrubland area [ENVO:00000300]', 'shingle beach [ENVO:00000545]', 'shore [ENVO:00000304]', 'sinkhole [ENVO:00000195]', 'slope [ENVO:00002000]', 'soil cryoturbate [ENVO:01001665]', 'spring [ENVO:00000027]', 'spur [ENVO:01001489]', 'stack [ENVO:00000419]', 'steppe [ENVO:00000262]', 'stream [ENVO:00000023]', 'swale [ENVO:00000543]', 'terrace [ENVO:00000508]', 'thermokarst [ENVO:03000085]', 'trench [ENVO:01000649]', 'tunnel [ENVO:00000068]', 'tuya [ENVO:00000370]', 'valley [ENVO:00000100]', 'volcano [ENVO:00000247]', 'wadi [ENVO:00000031]', 'watershed [ENVO:00000292]', 'well [ENVO:00000026]', 'woodland clearing [ENVO:00000444]']\n"
     ]
    }
   ],
   "execution_count": 40
  },
  {
   "cell_type": "code",
   "id": "79282f64358e1608",
   "metadata": {
    "ExecuteTime": {
     "end_time": "2025-01-22T22:29:14.883062Z",
     "start_time": "2025-01-22T22:29:14.880139Z"
    }
   },
   "source": [
    "initially_parsed_context_pvs = parse_hierarchically_underscored_strings(context_pvs_keys)"
   ],
   "outputs": [],
   "execution_count": 41
  },
  {
   "cell_type": "code",
   "id": "5a9492fa605534f2",
   "metadata": {
    "ExecuteTime": {
     "end_time": "2025-01-22T22:29:21.084704Z",
     "start_time": "2025-01-22T22:29:21.081888Z"
    }
   },
   "source": [
    "deduped_context_pvs = dedupe_underscoreless_pvs(initially_parsed_context_pvs)"
   ],
   "outputs": [],
   "execution_count": 42
  },
  {
   "cell_type": "code",
   "id": "214c2e6c9a7089a8",
   "metadata": {
    "ExecuteTime": {
     "end_time": "2025-01-22T22:29:32.278379Z",
     "start_time": "2025-01-22T22:29:32.241504Z"
    }
   },
   "source": [
    "pv_validation_results = validate_curie_label_list_dict(deduped_context_pvs, envo_adapter, print_flag=True)"
   ],
   "outputs": [],
   "execution_count": 43
  },
  {
   "cell_type": "code",
   "id": "e84872aa4f8a9313",
   "metadata": {
    "ExecuteTime": {
     "end_time": "2025-01-22T22:29:32.295650Z",
     "start_time": "2025-01-22T22:29:32.283479Z"
    }
   },
   "source": [
    "pv_validation_results"
   ],
   "outputs": [
    {
     "data": {
      "text/plain": [
       "{'problems': [],\n",
       " 'valids': [{'curie': 'ENVO:04000009', 'label': 'active permafrost layer'},\n",
       "  {'curie': 'ENVO:00000438', 'label': 'alas'},\n",
       "  {'curie': 'ENVO:00000127', 'label': 'badland'},\n",
       "  {'curie': 'ENVO:00000091', 'label': 'beach'},\n",
       "  {'curie': 'ENVO:00000287', 'label': 'butte'},\n",
       "  {'curie': 'ENVO:00000096', 'label': 'caldera'},\n",
       "  {'curie': 'ENVO:01000935', 'label': 'campground'},\n",
       "  {'curie': 'ENVO:00000169', 'label': 'canyon'},\n",
       "  {'curie': 'ENVO:00000067', 'label': 'cave'},\n",
       "  {'curie': 'ENVO:03000117', 'label': 'channel'},\n",
       "  {'curie': 'ENVO:00000155', 'label': 'cirque'},\n",
       "  {'curie': 'ENVO:00000087', 'label': 'cliff'},\n",
       "  {'curie': 'ENVO:00000514', 'label': 'crater'},\n",
       "  {'curie': 'ENVO:00000320', 'label': 'crevasse'},\n",
       "  {'curie': 'ENVO:03000143', 'label': 'cryosphere'},\n",
       "  {'curie': 'ENVO:00000074', 'label': 'dam'},\n",
       "  {'curie': 'ENVO:01001357', 'label': 'desert'},\n",
       "  {'curie': 'ENVO:00000291', 'label': 'drainage basin'},\n",
       "  {'curie': 'ENVO:00000276', 'label': 'drumlin'},\n",
       "  {'curie': 'ENVO:00000277', 'label': 'dry lake'},\n",
       "  {'curie': 'ENVO:00000170', 'label': 'dune'},\n",
       "  {'curie': 'ENVO:00000551', 'label': 'endorheic basin'},\n",
       "  {'curie': 'ENVO:00000280', 'label': 'escarpment'},\n",
       "  {'curie': 'ENVO:00000282', 'label': 'esker'},\n",
       "  {'curie': 'ENVO:00000078', 'label': 'farm'},\n",
       "  {'curie': 'ENVO:00000232', 'label': 'fen'},\n",
       "  {'curie': 'ENVO:00000039', 'label': 'fjord'},\n",
       "  {'curie': 'ENVO:00000255', 'label': 'flood plain'},\n",
       "  {'curie': 'ENVO:01001568', 'label': 'frost heave'},\n",
       "  {'curie': 'ENVO:00000216', 'label': 'fumarole'},\n",
       "  {'curie': 'ENVO:00000011', 'label': 'garden'},\n",
       "  {'curie': 'ENVO:00000133', 'label': 'glacier'},\n",
       "  {'curie': 'ENVO:03600087', 'label': 'greenhouse'},\n",
       "  {'curie': 'ENVO:00000463', 'label': 'harbour'},\n",
       "  {'curie': 'ENVO:00000083', 'label': 'hill'},\n",
       "  {'curie': 'ENVO:00000516', 'label': 'hummock'},\n",
       "  {'curie': 'ENVO:00000174', 'label': 'isthmus'},\n",
       "  {'curie': 'ENVO:00000542', 'label': 'kame'},\n",
       "  {'curie': 'ENVO:00000175', 'label': 'karst'},\n",
       "  {'curie': 'ENVO:00000410', 'label': 'kipuka'},\n",
       "  {'curie': 'ENVO:00000533', 'label': 'landfill'},\n",
       "  {'curie': 'ENVO:00000417', 'label': 'machair'},\n",
       "  {'curie': 'ENVO:00000035', 'label': 'marsh'},\n",
       "  {'curie': 'ENVO:00000108', 'label': 'meadow ecosystem'},\n",
       "  {'curie': 'ENVO:00000179', 'label': 'mesa'},\n",
       "  {'curie': 'ENVO:00000076', 'label': 'mine'},\n",
       "  {'curie': 'ENVO:00001996', 'label': 'mine drainage'},\n",
       "  {'curie': 'ENVO:00000432', 'label': 'monadnock'},\n",
       "  {'curie': 'ENVO:00000177', 'label': 'moraine'},\n",
       "  {'curie': 'ENVO:00000081', 'label': 'mountain'},\n",
       "  {'curie': 'ENVO:00000181', 'label': 'nunatak'},\n",
       "  {'curie': 'ENVO:00002061', 'label': 'oil spill'},\n",
       "  {'curie': 'ENVO:00000489', 'label': 'palsa'},\n",
       "  {'curie': 'ENVO:00000562', 'label': 'park'},\n",
       "  {'curie': 'ENVO:00000266', 'label': 'pasture'},\n",
       "  {'curie': 'ENVO:00000044', 'label': 'peatland'},\n",
       "  {'curie': 'ENVO:01001871', 'label': 'pit'},\n",
       "  {'curie': 'ENVO:00000086', 'label': 'plain'},\n",
       "  {'curie': 'ENVO:00000182', 'label': 'plateau'},\n",
       "  {'curie': 'ENVO:00000325', 'label': 'polje'},\n",
       "  {'curie': 'ENVO:00000260', 'label': 'prairie'},\n",
       "  {'curie': 'ENVO:00000284', 'label': 'quarry'},\n",
       "  {'curie': 'ENVO:01001207', 'label': 'ranch'},\n",
       "  {'curie': 'ENVO:01000446', 'label': 'ravine'},\n",
       "  {'curie': 'ENVO:02000141', 'label': 'refinery'},\n",
       "  {'curie': 'ENVO:00005801', 'label': 'rhizosphere'},\n",
       "  {'curie': 'ENVO:00000418', 'label': 'ria'},\n",
       "  {'curie': 'ENVO:00000283', 'label': 'ridge'},\n",
       "  {'curie': 'ENVO:00000496', 'label': 'rill'},\n",
       "  {'curie': 'ENVO:00000022', 'label': 'river'},\n",
       "  {'curie': 'ENVO:03501239', 'label': 'riverfront'},\n",
       "  {'curie': 'ENVO:00000064', 'label': 'road'},\n",
       "  {'curie': 'ENVO:00000300', 'label': 'scrubland area'},\n",
       "  {'curie': 'ENVO:00000545', 'label': 'shingle beach'},\n",
       "  {'curie': 'ENVO:00000304', 'label': 'shore'},\n",
       "  {'curie': 'ENVO:00000195', 'label': 'sinkhole'},\n",
       "  {'curie': 'ENVO:00002000', 'label': 'slope'},\n",
       "  {'curie': 'ENVO:01001665', 'label': 'soil cryoturbate'},\n",
       "  {'curie': 'ENVO:00000027', 'label': 'spring'},\n",
       "  {'curie': 'ENVO:01001489', 'label': 'spur'},\n",
       "  {'curie': 'ENVO:00000419', 'label': 'stack'},\n",
       "  {'curie': 'ENVO:00000262', 'label': 'steppe'},\n",
       "  {'curie': 'ENVO:00000023', 'label': 'stream'},\n",
       "  {'curie': 'ENVO:00000543', 'label': 'swale'},\n",
       "  {'curie': 'ENVO:00000508', 'label': 'terrace'},\n",
       "  {'curie': 'ENVO:03000085', 'label': 'thermokarst'},\n",
       "  {'curie': 'ENVO:01000649', 'label': 'trench'},\n",
       "  {'curie': 'ENVO:00000068', 'label': 'tunnel'},\n",
       "  {'curie': 'ENVO:00000370', 'label': 'tuya'},\n",
       "  {'curie': 'ENVO:00000100', 'label': 'valley'},\n",
       "  {'curie': 'ENVO:00000247', 'label': 'volcano'},\n",
       "  {'curie': 'ENVO:00000031', 'label': 'wadi'},\n",
       "  {'curie': 'ENVO:00000292', 'label': 'watershed'},\n",
       "  {'curie': 'ENVO:00000026', 'label': 'well'},\n",
       "  {'curie': 'ENVO:00000444', 'label': 'woodland clearing'}]}"
      ]
     },
     "execution_count": 44,
     "metadata": {},
     "output_type": "execute_result"
    }
   ],
   "execution_count": 44
  },
  {
   "cell_type": "markdown",
   "id": "363063c37a433d70",
   "metadata": {},
   "source": "# Get the CURIEs used in NMDC Biosample annotations"
  },
  {
   "cell_type": "code",
   "id": "656e23e9eab154b0",
   "metadata": {
    "ExecuteTime": {
     "end_time": "2025-01-22T22:30:34.825220Z",
     "start_time": "2025-01-22T22:29:37.942213Z"
    }
   },
   "source": [
    "if os.path.isfile(all_nmdc_biosamples_file):\n",
    "    print(\n",
    "        f\"{all_nmdc_biosamples_file} is present in the current working directory and will be read into all_nmdc_biosamples.\")\n",
    "    # with open(all_nmdc_biosamples_file, 'r') as file:\n",
    "    #     all_nmdc_biosamples = yaml.full_load(file)\n",
    "    # read as json\n",
    "    with open(all_nmdc_biosamples_file, 'r') as f:\n",
    "        all_nmdc_biosamples = json.load(f)\n",
    "\n",
    "else:\n",
    "    print(f\"All NMDC Biosamples need to be fetched and saved to {all_nmdc_biosamples_file}\")\n",
    "    all_nmdc_biosamples = get_docs_from_nmdc_collection(NMDC_RUNTIME_BASE_URL,\n",
    "                                                        BIOSAMPLE_SET_COLLECTION)\n",
    "    # with open(all_nmdc_biosamples_file, 'w') as file:\n",
    "    #     documents = yaml.dump(all_nmdc_biosamples, file)\n",
    "    # save as json\n",
    "    with open(all_nmdc_biosamples_file, 'w') as f:\n",
    "        json.dump(all_nmdc_biosamples, f)\n",
    "\n",
    "# this saves network traffic. could use JSON for faster performance. \n",
    "# 1 minute for network fetch and JSON write?!\n",
    "# 1 minute for yaml read\n",
    "# instantaneous for JSON read?"
   ],
   "outputs": [
    {
     "name": "stdout",
     "output_type": "stream",
     "text": [
      "All NMDC Biosamples need to be fetched and saved to all_nmdc_biosamples.json\n",
      "Fetched page 1 with 1000 documents. Total fetched: 1000\n",
      "Fetched page 2 with 1000 documents. Total fetched: 2000\n",
      "Fetched page 3 with 1000 documents. Total fetched: 3000\n",
      "Fetched page 4 with 1000 documents. Total fetched: 4000\n",
      "Fetched page 5 with 1000 documents. Total fetched: 5000\n",
      "Fetched page 6 with 1000 documents. Total fetched: 6000\n",
      "Fetched page 7 with 1000 documents. Total fetched: 7000\n",
      "Fetched page 8 with 1000 documents. Total fetched: 8000\n",
      "Fetched page 9 with 1000 documents. Total fetched: 9000\n",
      "Fetched page 10 with 28 documents. Total fetched: 9028\n",
      "All documents fetched.\n"
     ]
    }
   ],
   "execution_count": 45
  },
  {
   "metadata": {},
   "cell_type": "markdown",
   "source": "## Prediction of env_package annotations ",
   "id": "1566ce7dbafcfc71"
  },
  {
   "metadata": {
    "ExecuteTime": {
     "end_time": "2025-01-22T22:30:40.054504Z",
     "start_time": "2025-01-22T22:30:40.018349Z"
    }
   },
   "cell_type": "code",
   "source": [
    "# Specify the output file name\n",
    "env_packages_file = \"nmdc_biosample_asserted_normalized_and_inferred_env_package.tsv\"\n",
    "\n",
    "if os.path.exists(env_packages_file):\n",
    "    # Load the DataFrame from the file if it exists\n",
    "    print(f\"Loading {env_packages_file} into nmdc_biosample_contexts_frame...\")\n",
    "    nmdc_biosample_contexts_frame = pd.read_csv(env_packages_file, sep='\\t')\n",
    "else:\n",
    "    # File doesn't exist; generate the DataFrame\n",
    "    print(f\"{env_packages_file} not found. Predicting from asserted records and {env_package_override_file}...\")\n",
    "\n",
    "    # Load environment package overrides\n",
    "    env_pacakge_overrides = tsv_to_dict_of_dicts(env_package_override_file, 'id')\n",
    "\n",
    "    # Extract biosample contexts\n",
    "    biosample_contexts_lod = biosamples_lod_context_extractor(\n",
    "        all_nmdc_biosamples, envo_adapter,\n",
    "        my_env_pacakge_overrides=env_pacakge_overrides\n",
    "    )\n",
    "\n",
    "    # Create the DataFrame\n",
    "    nmdc_biosample_contexts_frame = pd.DataFrame(biosample_contexts_lod)\n",
    "\n",
    "    # Print value counts for the 'normalized_env_package' column\n",
    "    print(\"\\n\")\n",
    "    print(\"Value counts for normalized_env_package column:\")\n",
    "    print(nmdc_biosample_contexts_frame['normalized_env_package'].value_counts(dropna=False))\n",
    "    print(\"\\n\")\n",
    "\n",
    "    # Generate package predictions\n",
    "    package_predictions = predict_from_normalized_env_packages(nmdc_biosample_contexts_frame, envo_adapter)\n",
    "\n",
    "    # Add predictions to the DataFrame\n",
    "    nmdc_biosample_contexts_frame['predicted_env_package'] = package_predictions\n",
    "\n",
    "    # Save the DataFrame to the file\n",
    "    nmdc_biosample_contexts_frame.to_csv(env_packages_file, sep='\\t', index=False)\n",
    "    print(f\"env_package predictions saved to {env_packages_file}\")\n",
    "\n"
   ],
   "id": "32cee69d6184218f",
   "outputs": [
    {
     "name": "stdout",
     "output_type": "stream",
     "text": [
      "Loading nmdc_biosample_asserted_normalized_and_inferred_env_package.tsv into nmdc_biosample_contexts_frame...\n"
     ]
    }
   ],
   "execution_count": 46
  },
  {
   "metadata": {
    "ExecuteTime": {
     "end_time": "2025-01-22T22:30:45.034086Z",
     "start_time": "2025-01-22T22:30:45.018098Z"
    }
   },
   "cell_type": "code",
   "source": "nmdc_biosample_contexts_frame['predicted_env_package'].value_counts()",
   "id": "3efd62bb277e589c",
   "outputs": [
    {
     "data": {
      "text/plain": [
       "predicted_env_package\n",
       "soil                                               5916\n",
       "water                                              1603\n",
       "plant-associated                                    476\n",
       "sediment                                            165\n",
       "host-associated                                     156\n",
       "miscellaneous natural or artificial environment     140\n",
       "hydrocarbon resources-fluids_swabs                  114\n",
       "Name: count, dtype: int64"
      ]
     },
     "execution_count": 47,
     "metadata": {},
     "output_type": "execute_result"
    }
   ],
   "execution_count": 47
  },
  {
   "metadata": {},
   "cell_type": "markdown",
   "source": [
    "## env-package prediction complete\n",
    "\n",
    "To-do: save this and don't recreate it if it's available\n",
    "\n",
    "Then get it reviewed by other NMDC stakeholders and inject it into MongoDB if approved"
   ],
   "id": "a86897dcc7d47c55"
  },
  {
   "metadata": {},
   "cell_type": "markdown",
   "source": "## Destructively filter `nmdc_biosample_contexts_frame` by `env_package` ",
   "id": "a3f22287b11f918f"
  },
  {
   "cell_type": "code",
   "id": "d5c6aa902c7187e0",
   "metadata": {
    "ExecuteTime": {
     "end_time": "2025-01-22T22:30:50.209768Z",
     "start_time": "2025-01-22T22:30:50.205263Z"
    }
   },
   "source": [
    "nmdc_biosample_contexts_frame.shape"
   ],
   "outputs": [
    {
     "data": {
      "text/plain": [
       "(8570, 15)"
      ]
     },
     "execution_count": 48,
     "metadata": {},
     "output_type": "execute_result"
    }
   ],
   "execution_count": 48
  },
  {
   "cell_type": "code",
   "id": "2b241bcacf4bb100",
   "metadata": {
    "ExecuteTime": {
     "end_time": "2025-01-22T22:30:50.275283Z",
     "start_time": "2025-01-22T22:30:50.268818Z"
    }
   },
   "source": [
    "nmdc_biosample_contexts_frame = nmdc_biosample_contexts_frame[\n",
    "    nmdc_biosample_contexts_frame['predicted_env_package'] == nmdc_package_selector]"
   ],
   "outputs": [],
   "execution_count": 49
  },
  {
   "cell_type": "code",
   "id": "9045896aa4ea468f",
   "metadata": {
    "ExecuteTime": {
     "end_time": "2025-01-22T22:30:50.333732Z",
     "start_time": "2025-01-22T22:30:50.328990Z"
    }
   },
   "source": [
    "nmdc_biosample_contexts_frame.shape"
   ],
   "outputs": [
    {
     "data": {
      "text/plain": [
       "(476, 15)"
      ]
     },
     "execution_count": 50,
     "metadata": {},
     "output_type": "execute_result"
    }
   ],
   "execution_count": 50
  },
  {
   "cell_type": "markdown",
   "id": "aee7b4eea48a8691",
   "metadata": {},
   "source": "# Long process of predicting OBO foundry CURIes from NCBI Biosamples"
  },
  {
   "metadata": {},
   "cell_type": "markdown",
   "source": [
    "## Start by getting unique annotations? Pre-counted by Biosamples\n",
    "\n",
    "Current task is to provide counts by \"study\" aka Bioproject in addition to Biosample counts or instead of Biosamples counts if necessary"
   ],
   "id": "fc58f6a0b79cbfa1"
  },
  {
   "cell_type": "code",
   "id": "3be362b73dbda47a",
   "metadata": {
    "ExecuteTime": {
     "end_time": "2025-01-22T22:30:59.057588Z",
     "start_time": "2025-01-22T22:30:55.534550Z"
    }
   },
   "source": "ncbi_frame = ncbi_conn.execute(ncbi_X_per_annotation_query).fetchdf()\n",
   "outputs": [
    {
     "data": {
      "text/plain": [
       "FloatProgress(value=0.0, layout=Layout(width='auto'), style=ProgressStyle(bar_color='black'))"
      ],
      "application/vnd.jupyter.widget-view+json": {
       "version_major": 2,
       "version_minor": 0,
       "model_id": "8578af9a798f4f7f992c5efb6b5d2b42"
      }
     },
     "metadata": {},
     "output_type": "display_data"
    }
   ],
   "execution_count": 51
  },
  {
   "cell_type": "code",
   "id": "306ee79ce77f745e",
   "metadata": {
    "ExecuteTime": {
     "end_time": "2025-01-22T22:31:04.373427Z",
     "start_time": "2025-01-22T22:31:04.369223Z"
    }
   },
   "source": [
    "ncbi_frame.insert(0, 'serial_number', range(1, len(ncbi_frame) + 1))"
   ],
   "outputs": [],
   "execution_count": 52
  },
  {
   "cell_type": "code",
   "id": "6f06a6237f0ecdb",
   "metadata": {
    "ExecuteTime": {
     "end_time": "2025-01-22T22:31:14.362732Z",
     "start_time": "2025-01-22T22:31:14.359767Z"
    }
   },
   "source": [
    "# includes values with counts of one... useful for discovering drag-down submissions?"
   ],
   "outputs": [],
   "execution_count": 53
  },
  {
   "metadata": {},
   "cell_type": "markdown",
   "source": [
    "## MIxS and NCBI guidelines imply environmental context slots are multivalued\n",
    "and that the pipe `|` should be used as a delimiter\n",
    "\n",
    "there's an envo_count value below that indicates how ofter other delimiters might be used"
   ],
   "id": "1b851c8ef274382c"
  },
  {
   "cell_type": "code",
   "id": "f07e55ebd0f4c451",
   "metadata": {
    "ExecuteTime": {
     "end_time": "2025-01-22T22:31:14.412117Z",
     "start_time": "2025-01-22T22:31:14.406135Z"
    }
   },
   "source": [
    "ncbi_frame['content_list'] = ncbi_frame['content'].str.split('|')"
   ],
   "outputs": [],
   "execution_count": 54
  },
  {
   "metadata": {
    "ExecuteTime": {
     "end_time": "2025-01-22T22:31:20.550060Z",
     "start_time": "2025-01-22T22:31:20.535255Z"
    }
   },
   "cell_type": "code",
   "source": [
    "# todo is there any reason to not do this ?\n",
    "ncbi_frame = ncbi_frame[ncbi_frame['content'].notna() & (ncbi_frame['content'] != '')]"
   ],
   "id": "2e96404aa5dd0f7b",
   "outputs": [],
   "execution_count": 55
  },
  {
   "cell_type": "code",
   "id": "f8c2e13cee8818cb",
   "metadata": {
    "ExecuteTime": {
     "end_time": "2025-01-22T22:31:25.590127Z",
     "start_time": "2025-01-22T22:31:25.585048Z"
    }
   },
   "source": [
    "ncbi_frame['content_count'] = ncbi_frame['content_list'].apply(len)"
   ],
   "outputs": [],
   "execution_count": 56
  },
  {
   "cell_type": "code",
   "id": "edeaac7b5ce53cd5",
   "metadata": {
    "ExecuteTime": {
     "end_time": "2025-01-22T22:31:30.617187Z",
     "start_time": "2025-01-22T22:31:30.612749Z"
    }
   },
   "source": [
    "ncbi_frame.shape"
   ],
   "outputs": [
    {
     "data": {
      "text/plain": [
       "(5189, 5)"
      ]
     },
     "execution_count": 57,
     "metadata": {},
     "output_type": "execute_result"
    }
   ],
   "execution_count": 57
  },
  {
   "cell_type": "code",
   "id": "18860251fea32ee5",
   "metadata": {
    "ExecuteTime": {
     "end_time": "2025-01-22T22:31:35.954652Z",
     "start_time": "2025-01-22T22:31:35.937231Z"
    }
   },
   "source": [
    "ncbi_frame = ncbi_frame.explode('content_list').reset_index(drop=True)"
   ],
   "outputs": [],
   "execution_count": 58
  },
  {
   "cell_type": "code",
   "id": "bc8b89960c12f6e6",
   "metadata": {
    "ExecuteTime": {
     "end_time": "2025-01-22T22:31:41.679626Z",
     "start_time": "2025-01-22T22:31:41.675393Z"
    }
   },
   "source": [
    "ncbi_frame.shape"
   ],
   "outputs": [
    {
     "data": {
      "text/plain": [
       "(5307, 5)"
      ]
     },
     "execution_count": 59,
     "metadata": {},
     "output_type": "execute_result"
    }
   ],
   "execution_count": 59
  },
  {
   "metadata": {},
   "cell_type": "markdown",
   "source": [
    "## splitting adds ~ 5% more rows\n",
    "which might be important since were currently using a longest annotation strategy here"
   ],
   "id": "f02aaf625f4158d3"
  },
  {
   "cell_type": "code",
   "id": "85a0a4ccd63b7952",
   "metadata": {
    "ExecuteTime": {
     "end_time": "2025-01-22T22:31:46.777998Z",
     "start_time": "2025-01-22T22:31:46.775501Z"
    }
   },
   "source": [
    "# how many content_list strings contain envo multiple times now?"
   ],
   "outputs": [],
   "execution_count": 60
  },
  {
   "cell_type": "code",
   "id": "4dee374026c8272a",
   "metadata": {
    "ExecuteTime": {
     "end_time": "2025-01-22T22:31:51.809439Z",
     "start_time": "2025-01-22T22:31:51.801644Z"
    }
   },
   "source": [
    "ncbi_frame['envo_count'] = ncbi_frame['content_list'].str.lower().str.count(\"envo\")"
   ],
   "outputs": [],
   "execution_count": 61
  },
  {
   "cell_type": "code",
   "id": "417319d62ef07d0b",
   "metadata": {
    "ExecuteTime": {
     "end_time": "2025-01-22T22:32:02.567267Z",
     "start_time": "2025-01-22T22:32:02.552602Z"
    }
   },
   "source": [
    "ncbi_frame['envo_count'].value_counts()"
   ],
   "outputs": [
    {
     "data": {
      "text/plain": [
       "envo_count\n",
       "0    4759\n",
       "1     531\n",
       "3      15\n",
       "2       1\n",
       "7       1\n",
       "Name: count, dtype: int64"
      ]
     },
     "execution_count": 62,
     "metadata": {},
     "output_type": "execute_result"
    }
   ],
   "execution_count": 62
  },
  {
   "metadata": {},
   "cell_type": "markdown",
   "source": [
    "## If my math is correct, about 0.1% of the annotations still contain multiple CURIes \n",
    "after splitting on pipes\n",
    "\n",
    "There will also be annotations with multiple label-like strings that weren't split because they were not delimited on pipes\n",
    "That might be a source of lost information since we are using a longest-match annotator here\n",
    "I.e. there could be annotations with multiple hits worth keeping"
   ],
   "id": "21fb4262b735aedc"
  },
  {
   "metadata": {},
   "cell_type": "markdown",
   "source": [
    "## Parsing out CURIEs\n",
    "\n",
    "this has a few limitations. The function only tries pre-specified prefixes (['ENVO'] by default) and only considers colons and underscores valid delimiters."
   ],
   "id": "119dbec6ecf9c65c"
  },
  {
   "cell_type": "code",
   "id": "7b256380eceaceaa",
   "metadata": {
    "ExecuteTime": {
     "end_time": "2025-01-22T22:32:03.237125Z",
     "start_time": "2025-01-22T22:32:02.653800Z"
    }
   },
   "source": [
    "ncbi_frame[['extracted_label', 'extracted_curie']] = ncbi_frame['content_list'].apply(parse_curie_label)"
   ],
   "outputs": [],
   "execution_count": 63
  },
  {
   "cell_type": "code",
   "id": "761e39ab29aef0a7",
   "metadata": {
    "ExecuteTime": {
     "end_time": "2025-01-22T22:32:03.283595Z",
     "start_time": "2025-01-22T22:32:03.278954Z"
    }
   },
   "source": [
    "parse_failures = ncbi_frame[\n",
    "    (ncbi_frame['envo_count'] > 0) & (ncbi_frame['extracted_curie'].isna() | (ncbi_frame['extracted_curie'] == ''))]\n"
   ],
   "outputs": [],
   "execution_count": 64
  },
  {
   "metadata": {},
   "cell_type": "markdown",
   "source": [
    "## In what kinds of cases could no CURIe be parsed\n",
    "despite the presence of \"ENVO\" in the content string?"
   ],
   "id": "e618518e6e85b5aa"
  },
  {
   "cell_type": "code",
   "id": "a9316f11da9ee0c8",
   "metadata": {
    "ExecuteTime": {
     "end_time": "2025-01-22T22:32:03.316587Z",
     "start_time": "2025-01-22T22:32:03.299256Z"
    }
   },
   "source": [
    "parse_failures"
   ],
   "outputs": [
    {
     "data": {
      "text/plain": [
       "      serial_number                                  content  count  \\\n",
       "505             496                            ENVO：00000316      2   \n",
       "2796           2728   Tropical woodland biome [ENVO01000220]      1   \n",
       "4449           4340  Tropical shrubland biome [ENVO01000214]      1   \n",
       "5106           4992                                     ENVO      1   \n",
       "\n",
       "                                 content_list  content_count  envo_count  \\\n",
       "505                             ENVO：00000316              1           1   \n",
       "2796   Tropical woodland biome [ENVO01000220]              1           1   \n",
       "4449  Tropical shrubland biome [ENVO01000214]              1           1   \n",
       "5106                                     ENVO              1           1   \n",
       "\n",
       "                              extracted_label extracted_curie  \n",
       "505                             ENVO：00000316            None  \n",
       "2796   Tropical woodland biome [ENVO01000220]            None  \n",
       "4449  Tropical shrubland biome [ENVO01000214]            None  \n",
       "5106                                     ENVO            None  "
      ],
      "text/html": [
       "<div>\n",
       "<style scoped>\n",
       "    .dataframe tbody tr th:only-of-type {\n",
       "        vertical-align: middle;\n",
       "    }\n",
       "\n",
       "    .dataframe tbody tr th {\n",
       "        vertical-align: top;\n",
       "    }\n",
       "\n",
       "    .dataframe thead th {\n",
       "        text-align: right;\n",
       "    }\n",
       "</style>\n",
       "<table border=\"1\" class=\"dataframe\">\n",
       "  <thead>\n",
       "    <tr style=\"text-align: right;\">\n",
       "      <th></th>\n",
       "      <th>serial_number</th>\n",
       "      <th>content</th>\n",
       "      <th>count</th>\n",
       "      <th>content_list</th>\n",
       "      <th>content_count</th>\n",
       "      <th>envo_count</th>\n",
       "      <th>extracted_label</th>\n",
       "      <th>extracted_curie</th>\n",
       "    </tr>\n",
       "  </thead>\n",
       "  <tbody>\n",
       "    <tr>\n",
       "      <th>505</th>\n",
       "      <td>496</td>\n",
       "      <td>ENVO：00000316</td>\n",
       "      <td>2</td>\n",
       "      <td>ENVO：00000316</td>\n",
       "      <td>1</td>\n",
       "      <td>1</td>\n",
       "      <td>ENVO：00000316</td>\n",
       "      <td>None</td>\n",
       "    </tr>\n",
       "    <tr>\n",
       "      <th>2796</th>\n",
       "      <td>2728</td>\n",
       "      <td>Tropical woodland biome [ENVO01000220]</td>\n",
       "      <td>1</td>\n",
       "      <td>Tropical woodland biome [ENVO01000220]</td>\n",
       "      <td>1</td>\n",
       "      <td>1</td>\n",
       "      <td>Tropical woodland biome [ENVO01000220]</td>\n",
       "      <td>None</td>\n",
       "    </tr>\n",
       "    <tr>\n",
       "      <th>4449</th>\n",
       "      <td>4340</td>\n",
       "      <td>Tropical shrubland biome [ENVO01000214]</td>\n",
       "      <td>1</td>\n",
       "      <td>Tropical shrubland biome [ENVO01000214]</td>\n",
       "      <td>1</td>\n",
       "      <td>1</td>\n",
       "      <td>Tropical shrubland biome [ENVO01000214]</td>\n",
       "      <td>None</td>\n",
       "    </tr>\n",
       "    <tr>\n",
       "      <th>5106</th>\n",
       "      <td>4992</td>\n",
       "      <td>ENVO</td>\n",
       "      <td>1</td>\n",
       "      <td>ENVO</td>\n",
       "      <td>1</td>\n",
       "      <td>1</td>\n",
       "      <td>ENVO</td>\n",
       "      <td>None</td>\n",
       "    </tr>\n",
       "  </tbody>\n",
       "</table>\n",
       "</div>"
      ]
     },
     "execution_count": 65,
     "metadata": {},
     "output_type": "execute_result"
    }
   ],
   "execution_count": 65
  },
  {
   "metadata": {},
   "cell_type": "markdown",
   "source": "## Retrieve the labels for the parsed CURIes",
   "id": "ab4b8ef4ac9758e2"
  },
  {
   "cell_type": "code",
   "id": "9bdebd91856ff679",
   "metadata": {
    "ExecuteTime": {
     "end_time": "2025-01-22T22:32:09.834412Z",
     "start_time": "2025-01-22T22:32:08.457521Z"
    }
   },
   "source": "ncbi_frame['real_label'] = ncbi_frame['extracted_curie'].apply(po_adapter.label)",
   "outputs": [],
   "execution_count": 66
  },
  {
   "metadata": {},
   "cell_type": "markdown",
   "source": [
    "## Apply oaklib annotation to the strings after CURIe removal\n",
    "Actually the annotator can (sometimes?) detect colon-delimited CURIEs with lower case prefixes\n",
    "\n",
    "This returns CURIes with evidence but not necessarily the label corresponding to the CURIe"
   ],
   "id": "9710b8f5b9a39057"
  },
  {
   "metadata": {
    "ExecuteTime": {
     "end_time": "2025-01-22T22:32:09.887293Z",
     "start_time": "2025-01-22T22:32:09.884228Z"
    }
   },
   "cell_type": "code",
   "source": [
    "# # Specify the lexical index file name\n",
    "# aggregated_lexical_index_file = \"aggregated_lexical_index.yaml\"\n",
    "# \n",
    "# # Check if the lexical index file exists\n",
    "# if os.path.exists(aggregated_lexical_index_file):\n",
    "#     print(f\"Loading lexical index from {aggregated_lexical_index_file}...\")\n",
    "#     ix = load_lexical_index(aggregated_lexical_index_file)\n",
    "# else:\n",
    "#     print(f\"{aggregated_lexical_index_file} not found. Creating lexical index from agg_adapter...\")\n",
    "#     ix = create_lexical_index(agg_adapter)\n",
    "#     # Save the lexical index to a file\n",
    "#     save_lexical_index(ix, aggregated_lexical_index_file)\n",
    "#     print(f\"Lexical index saved to {aggregated_lexical_index_file}\")\n",
    "# \n",
    "# # Initialize the TextAnnotatorInterface\n",
    "# aggregated_text_annotator_interface = TextAnnotatorInterface()\n",
    "# aggregated_text_annotator_interface.lexical_index = ix\n",
    "# \n",
    "# # this cell only takes ~ 1 minute, but generates a lot of \"ERRORS\" and WARNINGS in a red font\n",
    "# #   while lexically indexing the ontology"
   ],
   "id": "542884744a48f7bf",
   "outputs": [],
   "execution_count": 67
  },
  {
   "metadata": {
    "ExecuteTime": {
     "end_time": "2025-01-22T22:32:09.927229Z",
     "start_time": "2025-01-22T22:32:09.924072Z"
    }
   },
   "cell_type": "code",
   "source": "aggregated_text_annotator_interface = AggregatorImplementation(implementations=[envo_adapter, po_adapter])",
   "id": "2656e667961ffd9",
   "outputs": [],
   "execution_count": 68
  },
  {
   "cell_type": "code",
   "id": "d06d899567db022e",
   "metadata": {
    "ExecuteTime": {
     "end_time": "2025-01-22T22:32:44.503903Z",
     "start_time": "2025-01-22T22:32:15.027750Z"
    }
   },
   "source": [
    "# Apply the annotation function to each row in the 'label' column\n",
    "ncbi_frame['longest_annotation_curie'] = ncbi_frame['extracted_label'].apply(\n",
    "    lambda x: get_longest_annotation_curie(x, aggregated_text_annotator_interface, MIN_ANNOTATION_LEN))\n",
    "\n",
    "# ~ 1 minute\n"
   ],
   "outputs": [
    {
     "name": "stderr",
     "output_type": "stream",
     "text": [
      "ERROR:root:Skipping statements(subject=ENVO:00000112,predicate=oio:hasDbXref,object=<http://www.eionet.europa.eu/gemet/concept/8704>,value=None,datatype=None,language=None,); ValueError: <http://www.eionet.europa.eu/gemet/concept/8704> is not a valid URI or CURIE\n",
      "ERROR:root:Skipping statements(subject=ENVO:00001996,predicate=oio:hasDbXref,object=<https://en.wikipedia.org/wiki/Acid_mine_drainage>,value=None,datatype=None,language=None,); ValueError: <https://en.wikipedia.org/wiki/Acid_mine_drainage> is not a valid URI or CURIE\n",
      "ERROR:root:Skipping statements(subject=ENVO:01000225,predicate=oio:hasDbXref,object=<https://www.worldwildlife.org/biomes/tropical-and-subtropical-dry-broadleaf-forests>,value=None,datatype=None,language=None,); ValueError: <https://www.worldwildlife.org/biomes/tropical-and-subtropical-dry-broadleaf-forests> is not a valid URI or CURIE\n",
      "ERROR:root:Skipping statements(subject=ENVO:01000227,predicate=oio:hasDbXref,object=<https://www.worldwildlife.org/biomes/tropical-and-subtropical-dry-broadleaf-forests>,value=None,datatype=None,language=None,); ValueError: <https://www.worldwildlife.org/biomes/tropical-and-subtropical-dry-broadleaf-forests> is not a valid URI or CURIE\n",
      "ERROR:root:Skipping statements(subject=ENVO:01001495,predicate=oio:hasDbXref,object=<https://www.goosocean.org/components/com_oe/oe.php?task=download&id=35904&version=2.0&lang=1&format=1>,value=None,datatype=None,language=None,); ValueError: <https://www.goosocean.org/components/com_oe/oe.php?task=download&id=35904&version=2.0&lang=1&format=1> is not a valid URI or CURIE\n",
      "ERROR:root:Skipping statements(subject=ENVO:01001621,predicate=oio:hasDbXref,object=<https://github.com/ESIPFed/sweet/issues/219>,value=None,datatype=None,language=None,); ValueError: <https://github.com/ESIPFed/sweet/issues/219> is not a valid URI or CURIE\n",
      "ERROR:root:Skipping statements(subject=ENVO:01001626,predicate=oio:hasDbXref,object=<https://www.worldwildlife.org/biomes/deserts-and-xeric-shrublands>,value=None,datatype=None,language=None,); ValueError: <https://www.worldwildlife.org/biomes/deserts-and-xeric-shrublands> is not a valid URI or CURIE\n",
      "ERROR:root:Skipping statements(subject=ENVO:01001627,predicate=oio:hasDbXref,object=<https://www.worldwildlife.org/ecoregions/im1304>,value=None,datatype=None,language=None,); ValueError: <https://www.worldwildlife.org/ecoregions/im1304> is not a valid URI or CURIE\n",
      "ERROR:root:Skipping statements(subject=ENVO:01001628,predicate=oio:hasDbXref,object=<https://www.worldwildlife.org/ecoregions/im1303>,value=None,datatype=None,language=None,); ValueError: <https://www.worldwildlife.org/ecoregions/im1303> is not a valid URI or CURIE\n",
      "ERROR:root:Skipping statements(subject=ENVO:01001644,predicate=oio:hasDbXref,object=<http://vocab.nerc.ac.uk/collection/S23/current/S23C021/>,value=None,datatype=None,language=None,); ValueError: <http://vocab.nerc.ac.uk/collection/S23/current/S23C021/> is not a valid URI or CURIE\n",
      "ERROR:root:Skipping statements(subject=ENVO:01001644,predicate=oio:hasDbXref,object=None,value=Carbonate which is formed as the result of some biological process.,datatype=None,language=None,); ValueError: Carbonate which is formed as the result of some biological process. is not a valid URI or CURIE\n",
      "ERROR:root:Skipping statements(subject=ENVO:01001645,predicate=oio:hasDbXref,object=<http://vocab.nerc.ac.uk/collection/S23/current/S23C013/>,value=None,datatype=None,language=None,); ValueError: <http://vocab.nerc.ac.uk/collection/S23/current/S23C013/> is not a valid URI or CURIE\n",
      "ERROR:root:Skipping statements(subject=ENVO:01001646,predicate=oio:hasDbXref,object=<http://vocab.nerc.ac.uk/collection/S23/current/S23C014/>,value=None,datatype=None,language=None,); ValueError: <http://vocab.nerc.ac.uk/collection/S23/current/S23C014/> is not a valid URI or CURIE\n",
      "ERROR:root:Skipping statements(subject=ENVO:01001647,predicate=oio:hasDbXref,object=<http://vocab.nerc.ac.uk/collection/S23/current/S23C004/>,value=None,datatype=None,language=None,); ValueError: <http://vocab.nerc.ac.uk/collection/S23/current/S23C004/> is not a valid URI or CURIE\n",
      "ERROR:root:Skipping statements(subject=ENVO:01001649,predicate=oio:hasDbXref,object=<http://vocab.nerc.ac.uk/collection/S23/current/S23C011/>,value=None,datatype=None,language=None,); ValueError: <http://vocab.nerc.ac.uk/collection/S23/current/S23C011/> is not a valid URI or CURIE\n",
      "ERROR:root:Skipping statements(subject=ENVO:01001650,predicate=oio:hasDbXref,object=<http://vocab.nerc.ac.uk/collection/S23/current/S23C012/>,value=None,datatype=None,language=None,); ValueError: <http://vocab.nerc.ac.uk/collection/S23/current/S23C012/> is not a valid URI or CURIE\n",
      "ERROR:root:Skipping statements(subject=ENVO:01001651,predicate=oio:hasDbXref,object=<http://vocab.nerc.ac.uk/collection/S23/current/S23C003/>,value=None,datatype=None,language=None,); ValueError: <http://vocab.nerc.ac.uk/collection/S23/current/S23C003/> is not a valid URI or CURIE\n",
      "ERROR:root:Skipping statements(subject=ENVO:01001652,predicate=oio:hasDbXref,object=<http://vocab.nerc.ac.uk/collection/S23/current/S23C005/>,value=None,datatype=None,language=None,); ValueError: <http://vocab.nerc.ac.uk/collection/S23/current/S23C005/> is not a valid URI or CURIE\n",
      "ERROR:root:Skipping statements(subject=ENVO:01001685,predicate=oio:hasDbXref,object=<https://github.com/EnvironmentOntology/envo/issues/1319>,value=None,datatype=None,language=None,); ValueError: <https://github.com/EnvironmentOntology/envo/issues/1319> is not a valid URI or CURIE\n",
      "ERROR:root:Skipping statements(subject=ENVO:01001692,predicate=oio:hasDbXref,object=<https://github.com/EnvironmentOntology/envo/issues/1319>,value=None,datatype=None,language=None,); ValueError: <https://github.com/EnvironmentOntology/envo/issues/1319> is not a valid URI or CURIE\n",
      "ERROR:root:Skipping statements(subject=ENVO:01001743,predicate=oio:hasDbXref,object=<https://github.com/EnvironmentOntology/envo/issues/1319>,value=None,datatype=None,language=None,); ValueError: <https://github.com/EnvironmentOntology/envo/issues/1319> is not a valid URI or CURIE\n",
      "ERROR:root:Skipping statements(subject=ENVO:01001799,predicate=oio:hasDbXref,object=<https://www.worldwildlife.org/biomes/tropical-and-subtropical-dry-broadleaf-forests>,value=None,datatype=None,language=None,); ValueError: <https://www.worldwildlife.org/biomes/tropical-and-subtropical-dry-broadleaf-forests> is not a valid URI or CURIE\n",
      "ERROR:root:Skipping statements(subject=ENVO:01001801,predicate=oio:hasDbXref,object=<https://www.worldwildlife.org/biomes/tropical-and-subtropical-dry-broadleaf-forests>,value=None,datatype=None,language=None,); ValueError: <https://www.worldwildlife.org/biomes/tropical-and-subtropical-dry-broadleaf-forests> is not a valid URI or CURIE\n",
      "ERROR:root:Skipping statements(subject=ENVO:01001823,predicate=oio:hasDbXref,object=<https://github.com/EnvironmentOntology/envo/issues/1319>,value=None,datatype=None,language=None,); ValueError: <https://github.com/EnvironmentOntology/envo/issues/1319> is not a valid URI or CURIE\n",
      "ERROR:root:Skipping statements(subject=ENVO:01001878,predicate=oio:hasDbXref,object=<https://www.goosocean.org/index.php?option=com_oe&task=viewDocumentRecord&docID=17476>,value=None,datatype=None,language=None,); ValueError: <https://www.goosocean.org/index.php?option=com_oe&task=viewDocumentRecord&docID=17476> is not a valid URI or CURIE\n",
      "ERROR:root:Skipping statements(subject=ENVO:01001879,predicate=oio:hasDbXref,object=<https://github.com/ESIPFed/sweet/issues/219>,value=None,datatype=None,language=None,); ValueError: <https://github.com/ESIPFed/sweet/issues/219> is not a valid URI or CURIE\n",
      "ERROR:root:Skipping statements(subject=ENVO:01001880,predicate=oio:hasDbXref,object=<https://github.com/ESIPFed/sweet/issues/219>,value=None,datatype=None,language=None,); ValueError: <https://github.com/ESIPFed/sweet/issues/219> is not a valid URI or CURIE\n",
      "ERROR:root:Skipping statements(subject=ENVO:01001881,predicate=oio:hasDbXref,object=<https://github.com/ESIPFed/sweet/issues/219>,value=None,datatype=None,language=None,); ValueError: <https://github.com/ESIPFed/sweet/issues/219> is not a valid URI or CURIE\n",
      "ERROR:root:Skipping statements(subject=ENVO:02000093,predicate=oio:hasDbXref,object=<https://en.wikipedia.org/wiki/Uranium_mining>,value=None,datatype=None,language=None,); ValueError: <https://en.wikipedia.org/wiki/Uranium_mining> is not a valid URI or CURIE\n",
      "ERROR:root:Skipping statements(subject=ENVO:02000094,predicate=oio:hasDbXref,object=<https://en.wikipedia.org/wiki/Ore>,value=None,datatype=None,language=None,); ValueError: <https://en.wikipedia.org/wiki/Ore> is not a valid URI or CURIE\n",
      "ERROR:root:Skipping statements(subject=ENVO:03501363,predicate=oio:hasDbXref,object=<https://www.conveyorsystemsltd.co.uk/news/168/126/Roller-Conveyor-vs-Belt-Conveyor.htm>,value=None,datatype=None,language=None,); ValueError: <https://www.conveyorsystemsltd.co.uk/news/168/126/Roller-Conveyor-vs-Belt-Conveyor.htm> is not a valid URI or CURIE\n",
      "ERROR:root:Skipping statements(subject=ENVO:06105112,predicate=oio:hasDbXref,object=<http://eurovoc.europa.eu/1837>,value=None,datatype=None,language=None,); ValueError: <http://eurovoc.europa.eu/1837> is not a valid URI or CURIE\n",
      "ERROR:root:Skipping statements(subject=ENVO:06105112,predicate=oio:hasDbXref,object=<http://aims.fao.org/aos/agrovoc/c_5998>,value=None,datatype=None,language=None,); ValueError: <http://aims.fao.org/aos/agrovoc/c_5998> is not a valid URI or CURIE\n",
      "WARNING:root:Skipping <http://geneontology.org/foo/applies-pattern> as it is not a valid CURIE\n",
      "WARNING:root:Skipping <http://schema.org/image> as it is not a valid CURIE\n",
      "WARNING:root:Skipping <http://swrl.stanford.edu/ontologies/3.3/swrla.owl#isRuleEnabled> as it is not a valid CURIE\n",
      "WARNING:root:Skipping <https://www.wikidata.org/wiki/Q2306597> as it is not a valid CURIE\n",
      "WARNING:root:Skipping <https://www.wikidata.org/wiki/Q2> as it is not a valid CURIE\n",
      "WARNING:root:Skipping <https://www.wikidata.org/wiki/Q525> as it is not a valid CURIE\n",
      "WARNING:root:Skipping <https://www.wikidata.org/wiki/Q715269> as it is not a valid CURIE\n",
      "WARNING:root:Skipping <http://swrl.stanford.edu/ontologies/3.3/swrla.owl#isRuleEnabled> as it is not a valid CURIE\n"
     ]
    }
   ],
   "execution_count": 69
  },
  {
   "metadata": {},
   "cell_type": "markdown",
   "source": "## Add the labels for the CURIes identified though oaklib annotation of strings",
   "id": "14f0908428dfa322"
  },
  {
   "cell_type": "code",
   "id": "2d0d090813223db3",
   "metadata": {
    "ExecuteTime": {
     "end_time": "2025-01-22T22:32:51.884149Z",
     "start_time": "2025-01-22T22:32:49.647558Z"
    }
   },
   "source": "ncbi_frame['longest_annotation_label'] = ncbi_frame['longest_annotation_curie'].apply(aggregated_text_annotator_interface.label)",
   "outputs": [],
   "execution_count": 70
  },
  {
   "cell_type": "code",
   "id": "940cd4e688adb239",
   "metadata": {
    "ExecuteTime": {
     "end_time": "2025-01-22T22:32:57.781550Z",
     "start_time": "2025-01-22T22:32:57.769201Z"
    }
   },
   "source": [
    "ncbi_frame"
   ],
   "outputs": [
    {
     "data": {
      "text/plain": [
       "      serial_number           content  count      content_list  content_count  \\\n",
       "0                 1    not applicable    262    not applicable              1   \n",
       "1                 2           missing    199           missing              1   \n",
       "2                 3     not collected    127     not collected              1   \n",
       "3                 4           Orchard     87           Orchard              1   \n",
       "4                 5                NA     79                NA              1   \n",
       "...             ...               ...    ...               ...            ...   \n",
       "5302           5186   FOODON:00001327      1   FOODON:00001327              1   \n",
       "5303           5187   FOODON:00001367      1   FOODON:00001367              1   \n",
       "5304           5188   FOODON:00001368      1   FOODON:00001368              1   \n",
       "5305           5189  Abandoned fields      1  Abandoned fields              1   \n",
       "5306           5190            marine      1            marine              1   \n",
       "\n",
       "      envo_count   extracted_label extracted_curie real_label  \\\n",
       "0              0    not applicable            None       None   \n",
       "1              0           missing            None       None   \n",
       "2              0     not collected            None       None   \n",
       "3              0           Orchard            None       None   \n",
       "4              0                NA            None       None   \n",
       "...          ...               ...             ...        ...   \n",
       "5302           0   FOODON 00001327            None       None   \n",
       "5303           0   FOODON 00001367            None       None   \n",
       "5304           0   FOODON 00001368            None       None   \n",
       "5305           0  Abandoned fields            None       None   \n",
       "5306           0            marine            None       None   \n",
       "\n",
       "     longest_annotation_curie longest_annotation_label  \n",
       "0                        None                     None  \n",
       "1                        None                     None  \n",
       "2                        None                     None  \n",
       "3               ENVO:00000115                  orchard  \n",
       "4                        None                     None  \n",
       "...                       ...                      ...  \n",
       "5302              CHEBI:33290                     food  \n",
       "5303              CHEBI:33290                     food  \n",
       "5304              CHEBI:33290                     food  \n",
       "5305            ENVO:01000352                    field  \n",
       "5306                     None                     None  \n",
       "\n",
       "[5307 rows x 11 columns]"
      ],
      "text/html": [
       "<div>\n",
       "<style scoped>\n",
       "    .dataframe tbody tr th:only-of-type {\n",
       "        vertical-align: middle;\n",
       "    }\n",
       "\n",
       "    .dataframe tbody tr th {\n",
       "        vertical-align: top;\n",
       "    }\n",
       "\n",
       "    .dataframe thead th {\n",
       "        text-align: right;\n",
       "    }\n",
       "</style>\n",
       "<table border=\"1\" class=\"dataframe\">\n",
       "  <thead>\n",
       "    <tr style=\"text-align: right;\">\n",
       "      <th></th>\n",
       "      <th>serial_number</th>\n",
       "      <th>content</th>\n",
       "      <th>count</th>\n",
       "      <th>content_list</th>\n",
       "      <th>content_count</th>\n",
       "      <th>envo_count</th>\n",
       "      <th>extracted_label</th>\n",
       "      <th>extracted_curie</th>\n",
       "      <th>real_label</th>\n",
       "      <th>longest_annotation_curie</th>\n",
       "      <th>longest_annotation_label</th>\n",
       "    </tr>\n",
       "  </thead>\n",
       "  <tbody>\n",
       "    <tr>\n",
       "      <th>0</th>\n",
       "      <td>1</td>\n",
       "      <td>not applicable</td>\n",
       "      <td>262</td>\n",
       "      <td>not applicable</td>\n",
       "      <td>1</td>\n",
       "      <td>0</td>\n",
       "      <td>not applicable</td>\n",
       "      <td>None</td>\n",
       "      <td>None</td>\n",
       "      <td>None</td>\n",
       "      <td>None</td>\n",
       "    </tr>\n",
       "    <tr>\n",
       "      <th>1</th>\n",
       "      <td>2</td>\n",
       "      <td>missing</td>\n",
       "      <td>199</td>\n",
       "      <td>missing</td>\n",
       "      <td>1</td>\n",
       "      <td>0</td>\n",
       "      <td>missing</td>\n",
       "      <td>None</td>\n",
       "      <td>None</td>\n",
       "      <td>None</td>\n",
       "      <td>None</td>\n",
       "    </tr>\n",
       "    <tr>\n",
       "      <th>2</th>\n",
       "      <td>3</td>\n",
       "      <td>not collected</td>\n",
       "      <td>127</td>\n",
       "      <td>not collected</td>\n",
       "      <td>1</td>\n",
       "      <td>0</td>\n",
       "      <td>not collected</td>\n",
       "      <td>None</td>\n",
       "      <td>None</td>\n",
       "      <td>None</td>\n",
       "      <td>None</td>\n",
       "    </tr>\n",
       "    <tr>\n",
       "      <th>3</th>\n",
       "      <td>4</td>\n",
       "      <td>Orchard</td>\n",
       "      <td>87</td>\n",
       "      <td>Orchard</td>\n",
       "      <td>1</td>\n",
       "      <td>0</td>\n",
       "      <td>Orchard</td>\n",
       "      <td>None</td>\n",
       "      <td>None</td>\n",
       "      <td>ENVO:00000115</td>\n",
       "      <td>orchard</td>\n",
       "    </tr>\n",
       "    <tr>\n",
       "      <th>4</th>\n",
       "      <td>5</td>\n",
       "      <td>NA</td>\n",
       "      <td>79</td>\n",
       "      <td>NA</td>\n",
       "      <td>1</td>\n",
       "      <td>0</td>\n",
       "      <td>NA</td>\n",
       "      <td>None</td>\n",
       "      <td>None</td>\n",
       "      <td>None</td>\n",
       "      <td>None</td>\n",
       "    </tr>\n",
       "    <tr>\n",
       "      <th>...</th>\n",
       "      <td>...</td>\n",
       "      <td>...</td>\n",
       "      <td>...</td>\n",
       "      <td>...</td>\n",
       "      <td>...</td>\n",
       "      <td>...</td>\n",
       "      <td>...</td>\n",
       "      <td>...</td>\n",
       "      <td>...</td>\n",
       "      <td>...</td>\n",
       "      <td>...</td>\n",
       "    </tr>\n",
       "    <tr>\n",
       "      <th>5302</th>\n",
       "      <td>5186</td>\n",
       "      <td>FOODON:00001327</td>\n",
       "      <td>1</td>\n",
       "      <td>FOODON:00001327</td>\n",
       "      <td>1</td>\n",
       "      <td>0</td>\n",
       "      <td>FOODON 00001327</td>\n",
       "      <td>None</td>\n",
       "      <td>None</td>\n",
       "      <td>CHEBI:33290</td>\n",
       "      <td>food</td>\n",
       "    </tr>\n",
       "    <tr>\n",
       "      <th>5303</th>\n",
       "      <td>5187</td>\n",
       "      <td>FOODON:00001367</td>\n",
       "      <td>1</td>\n",
       "      <td>FOODON:00001367</td>\n",
       "      <td>1</td>\n",
       "      <td>0</td>\n",
       "      <td>FOODON 00001367</td>\n",
       "      <td>None</td>\n",
       "      <td>None</td>\n",
       "      <td>CHEBI:33290</td>\n",
       "      <td>food</td>\n",
       "    </tr>\n",
       "    <tr>\n",
       "      <th>5304</th>\n",
       "      <td>5188</td>\n",
       "      <td>FOODON:00001368</td>\n",
       "      <td>1</td>\n",
       "      <td>FOODON:00001368</td>\n",
       "      <td>1</td>\n",
       "      <td>0</td>\n",
       "      <td>FOODON 00001368</td>\n",
       "      <td>None</td>\n",
       "      <td>None</td>\n",
       "      <td>CHEBI:33290</td>\n",
       "      <td>food</td>\n",
       "    </tr>\n",
       "    <tr>\n",
       "      <th>5305</th>\n",
       "      <td>5189</td>\n",
       "      <td>Abandoned fields</td>\n",
       "      <td>1</td>\n",
       "      <td>Abandoned fields</td>\n",
       "      <td>1</td>\n",
       "      <td>0</td>\n",
       "      <td>Abandoned fields</td>\n",
       "      <td>None</td>\n",
       "      <td>None</td>\n",
       "      <td>ENVO:01000352</td>\n",
       "      <td>field</td>\n",
       "    </tr>\n",
       "    <tr>\n",
       "      <th>5306</th>\n",
       "      <td>5190</td>\n",
       "      <td>marine</td>\n",
       "      <td>1</td>\n",
       "      <td>marine</td>\n",
       "      <td>1</td>\n",
       "      <td>0</td>\n",
       "      <td>marine</td>\n",
       "      <td>None</td>\n",
       "      <td>None</td>\n",
       "      <td>None</td>\n",
       "      <td>None</td>\n",
       "    </tr>\n",
       "  </tbody>\n",
       "</table>\n",
       "<p>5307 rows × 11 columns</p>\n",
       "</div>"
      ]
     },
     "execution_count": 71,
     "metadata": {},
     "output_type": "execute_result"
    }
   ],
   "execution_count": 71
  },
  {
   "metadata": {},
   "cell_type": "markdown",
   "source": [
    "## we now have a list of CURIes for each normalized annotation\n",
    "\n",
    "This could be because the submitter provided a CURIe and a label that don't match\n",
    "*One* case of this is dragging a CURIe down a column in a spreadsheet, expecting it to be copied,\n",
    "but actually auto-incrementing it\n",
    "\n",
    "Now attempt to find one best CURIe for each annotation... by now we have lost the ability to retain multiple legitimate\n",
    "but improperly separated CURIes"
   ],
   "id": "69ed214e0186f459"
  },
  {
   "cell_type": "code",
   "id": "951ca41984b81e7d",
   "metadata": {
    "ExecuteTime": {
     "end_time": "2025-01-22T22:33:03.251573Z",
     "start_time": "2025-01-22T22:33:03.182714Z"
    }
   },
   "source": [
    "# todo don't accept extracted curie if no real label?\n",
    "# any kind of string similarity checking for label of annotated curie vs extracted label ?\n",
    "# look for long stretches of curies?\n",
    "# can we measure the beneficial impact of any of this? current crux: how to distribute counts\n",
    "\n",
    "ncbi_frame['curie_list'] = ncbi_frame.apply(\n",
    "    lambda my_row: list({my_row['extracted_curie'], my_row['longest_annotation_curie']} - {None}),\n",
    "    axis=1\n",
    ")\n",
    "\n",
    "ncbi_frame['unique_curie_count'] = ncbi_frame['curie_list'].apply(len)"
   ],
   "outputs": [],
   "execution_count": 72
  },
  {
   "cell_type": "code",
   "id": "349610c477ebf149",
   "metadata": {
    "ExecuteTime": {
     "end_time": "2025-01-22T22:33:03.319636Z",
     "start_time": "2025-01-22T22:33:03.313849Z"
    }
   },
   "source": [
    "ncbi_frame['unique_curie_count'].value_counts()"
   ],
   "outputs": [
    {
     "data": {
      "text/plain": [
       "unique_curie_count\n",
       "1    2694\n",
       "0    2519\n",
       "2      94\n",
       "Name: count, dtype: int64"
      ]
     },
     "execution_count": 73,
     "metadata": {},
     "output_type": "execute_result"
    }
   ],
   "execution_count": 73
  },
  {
   "cell_type": "code",
   "id": "e6a8c0273f36e906",
   "metadata": {
    "ExecuteTime": {
     "end_time": "2025-01-22T22:33:03.838195Z",
     "start_time": "2025-01-22T22:33:03.833108Z"
    }
   },
   "source": [
    "double_curie_frame = ncbi_frame[ncbi_frame['unique_curie_count'] > 1]"
   ],
   "outputs": [],
   "execution_count": 74
  },
  {
   "cell_type": "code",
   "id": "334e7c646337a914",
   "metadata": {
    "ExecuteTime": {
     "end_time": "2025-01-22T22:33:03.896389Z",
     "start_time": "2025-01-22T22:33:03.892161Z"
    }
   },
   "source": [
    "double_curie_frame = double_curie_frame[['extracted_curie', 'longest_annotation_curie']]"
   ],
   "outputs": [],
   "execution_count": 75
  },
  {
   "cell_type": "code",
   "id": "874149830df3dd8a",
   "metadata": {
    "ExecuteTime": {
     "end_time": "2025-01-22T22:33:03.964569Z",
     "start_time": "2025-01-22T22:33:03.960195Z"
    }
   },
   "source": [
    "double_curie_frame = double_curie_frame.drop_duplicates()"
   ],
   "outputs": [],
   "execution_count": 76
  },
  {
   "cell_type": "code",
   "id": "cdfc0bda39f3ad6d",
   "metadata": {
    "ExecuteTime": {
     "end_time": "2025-01-22T22:33:09.436196Z",
     "start_time": "2025-01-22T22:33:09.431074Z"
    }
   },
   "source": [
    "double_curie_frame[['extracted_prefix', 'extracted_local_id']] = double_curie_frame['extracted_curie'].str.split(':',\n",
    "                                                                                                                 expand=True)"
   ],
   "outputs": [],
   "execution_count": 77
  },
  {
   "cell_type": "code",
   "id": "de6fcee63f6677d",
   "metadata": {
    "ExecuteTime": {
     "end_time": "2025-01-22T22:33:14.967610Z",
     "start_time": "2025-01-22T22:33:14.954489Z"
    }
   },
   "source": [
    "double_curie_frame['extracted_local_id_int'] = pd.to_numeric(double_curie_frame['extracted_local_id'],\n",
    "                                                             errors='coerce').astype('Int64')"
   ],
   "outputs": [],
   "execution_count": 78
  },
  {
   "metadata": {
    "ExecuteTime": {
     "end_time": "2025-01-22T22:33:26.858367Z",
     "start_time": "2025-01-22T22:33:26.848640Z"
    }
   },
   "cell_type": "code",
   "source": "double_curie_frame",
   "id": "185c2d7e43614639",
   "outputs": [
    {
     "data": {
      "text/plain": [
       "     extracted_curie longest_annotation_curie extracted_prefix  \\\n",
       "166     ENVO:0025034               PO:0025034             ENVO   \n",
       "174    ENVO:01000245            ENVO:01000635             ENVO   \n",
       "212    ENVO:01001433            ENVO:01001430             ENVO   \n",
       "219     ENVO:0003095            ENVO:00003081             ENVO   \n",
       "229     ENVO:0003082            ENVO:00003081             ENVO   \n",
       "...              ...                      ...              ...   \n",
       "4736   ENVO:01001447            ENVO:01001430             ENVO   \n",
       "4737   ENVO:01001449            ENVO:01001430             ENVO   \n",
       "4891   ENVO:01001461            ENVO:01001430             ENVO   \n",
       "5092   ENVO:01001444            ENVO:01001430             ENVO   \n",
       "5284   ENVO:01001454            ENVO:01001430             ENVO   \n",
       "\n",
       "     extracted_local_id  extracted_local_id_int  \n",
       "166             0025034                   25034  \n",
       "174            01000245                 1000245  \n",
       "212            01001433                 1001433  \n",
       "219             0003095                    3095  \n",
       "229             0003082                    3082  \n",
       "...                 ...                     ...  \n",
       "4736           01001447                 1001447  \n",
       "4737           01001449                 1001449  \n",
       "4891           01001461                 1001461  \n",
       "5092           01001444                 1001444  \n",
       "5284           01001454                 1001454  \n",
       "\n",
       "[88 rows x 5 columns]"
      ],
      "text/html": [
       "<div>\n",
       "<style scoped>\n",
       "    .dataframe tbody tr th:only-of-type {\n",
       "        vertical-align: middle;\n",
       "    }\n",
       "\n",
       "    .dataframe tbody tr th {\n",
       "        vertical-align: top;\n",
       "    }\n",
       "\n",
       "    .dataframe thead th {\n",
       "        text-align: right;\n",
       "    }\n",
       "</style>\n",
       "<table border=\"1\" class=\"dataframe\">\n",
       "  <thead>\n",
       "    <tr style=\"text-align: right;\">\n",
       "      <th></th>\n",
       "      <th>extracted_curie</th>\n",
       "      <th>longest_annotation_curie</th>\n",
       "      <th>extracted_prefix</th>\n",
       "      <th>extracted_local_id</th>\n",
       "      <th>extracted_local_id_int</th>\n",
       "    </tr>\n",
       "  </thead>\n",
       "  <tbody>\n",
       "    <tr>\n",
       "      <th>166</th>\n",
       "      <td>ENVO:0025034</td>\n",
       "      <td>PO:0025034</td>\n",
       "      <td>ENVO</td>\n",
       "      <td>0025034</td>\n",
       "      <td>25034</td>\n",
       "    </tr>\n",
       "    <tr>\n",
       "      <th>174</th>\n",
       "      <td>ENVO:01000245</td>\n",
       "      <td>ENVO:01000635</td>\n",
       "      <td>ENVO</td>\n",
       "      <td>01000245</td>\n",
       "      <td>1000245</td>\n",
       "    </tr>\n",
       "    <tr>\n",
       "      <th>212</th>\n",
       "      <td>ENVO:01001433</td>\n",
       "      <td>ENVO:01001430</td>\n",
       "      <td>ENVO</td>\n",
       "      <td>01001433</td>\n",
       "      <td>1001433</td>\n",
       "    </tr>\n",
       "    <tr>\n",
       "      <th>219</th>\n",
       "      <td>ENVO:0003095</td>\n",
       "      <td>ENVO:00003081</td>\n",
       "      <td>ENVO</td>\n",
       "      <td>0003095</td>\n",
       "      <td>3095</td>\n",
       "    </tr>\n",
       "    <tr>\n",
       "      <th>229</th>\n",
       "      <td>ENVO:0003082</td>\n",
       "      <td>ENVO:00003081</td>\n",
       "      <td>ENVO</td>\n",
       "      <td>0003082</td>\n",
       "      <td>3082</td>\n",
       "    </tr>\n",
       "    <tr>\n",
       "      <th>...</th>\n",
       "      <td>...</td>\n",
       "      <td>...</td>\n",
       "      <td>...</td>\n",
       "      <td>...</td>\n",
       "      <td>...</td>\n",
       "    </tr>\n",
       "    <tr>\n",
       "      <th>4736</th>\n",
       "      <td>ENVO:01001447</td>\n",
       "      <td>ENVO:01001430</td>\n",
       "      <td>ENVO</td>\n",
       "      <td>01001447</td>\n",
       "      <td>1001447</td>\n",
       "    </tr>\n",
       "    <tr>\n",
       "      <th>4737</th>\n",
       "      <td>ENVO:01001449</td>\n",
       "      <td>ENVO:01001430</td>\n",
       "      <td>ENVO</td>\n",
       "      <td>01001449</td>\n",
       "      <td>1001449</td>\n",
       "    </tr>\n",
       "    <tr>\n",
       "      <th>4891</th>\n",
       "      <td>ENVO:01001461</td>\n",
       "      <td>ENVO:01001430</td>\n",
       "      <td>ENVO</td>\n",
       "      <td>01001461</td>\n",
       "      <td>1001461</td>\n",
       "    </tr>\n",
       "    <tr>\n",
       "      <th>5092</th>\n",
       "      <td>ENVO:01001444</td>\n",
       "      <td>ENVO:01001430</td>\n",
       "      <td>ENVO</td>\n",
       "      <td>01001444</td>\n",
       "      <td>1001444</td>\n",
       "    </tr>\n",
       "    <tr>\n",
       "      <th>5284</th>\n",
       "      <td>ENVO:01001454</td>\n",
       "      <td>ENVO:01001430</td>\n",
       "      <td>ENVO</td>\n",
       "      <td>01001454</td>\n",
       "      <td>1001454</td>\n",
       "    </tr>\n",
       "  </tbody>\n",
       "</table>\n",
       "<p>88 rows × 5 columns</p>\n",
       "</div>"
      ]
     },
     "execution_count": 79,
     "metadata": {},
     "output_type": "execute_result"
    }
   ],
   "execution_count": 79
  },
  {
   "cell_type": "code",
   "id": "fae831b04ed985ef",
   "metadata": {
    "ExecuteTime": {
     "end_time": "2025-01-22T22:33:26.951321Z",
     "start_time": "2025-01-22T22:33:26.947081Z"
    }
   },
   "source": [
    "# Ensure extracted_local_id_int is unique and sorted\n",
    "unique_sorted_series = double_curie_frame['extracted_local_id_int'].dropna().drop_duplicates().sort_values()\n"
   ],
   "outputs": [],
   "execution_count": 80
  },
  {
   "cell_type": "code",
   "id": "d244d7b150a3b413",
   "metadata": {
    "ExecuteTime": {
     "end_time": "2025-01-22T22:33:27.005772Z",
     "start_time": "2025-01-22T22:33:26.990667Z"
    }
   },
   "source": [
    "# Find stretches\n",
    "stretches_dict = find_consecutive_stretches_dict(unique_sorted_series)\n"
   ],
   "outputs": [],
   "execution_count": 81
  },
  {
   "cell_type": "code",
   "id": "2fda8122842f63c0",
   "metadata": {
    "ExecuteTime": {
     "end_time": "2025-01-22T22:33:27.118629Z",
     "start_time": "2025-01-22T22:33:27.115371Z"
    }
   },
   "source": [
    "# Convert the stretches dictionary into a DataFrame\n",
    "stretches_df = stretches_dict_to_long_dataframe(stretches_dict)"
   ],
   "outputs": [],
   "execution_count": 82
  },
  {
   "metadata": {},
   "cell_type": "markdown",
   "source": [
    "`stretches_df` shows groups of extracted EnvoO ids (CURIes without prefix or padding zeros) that share a common CURIe by oaklib annotation of the textual part. This may not be the best or only way to address these spurious drag-stretch, auto-incremented CURIes\n",
    "\n",
    "Ie 1001458 corresponds to ENVO:01001458, 'mist'\n",
    "\n",
    "_although it theoretically could have been ENVO:1001458 since EnvO CURIes can have 7 or 8 digits_\n",
    "\n",
    "In group 9, there are another ~ 50 sequential id values, all corresponding to environmental context annotations whose best oak-annotated class is ENVO:01001803, 'tropical forest'!\n",
    "\n",
    "How much of an impact does this have? "
   ],
   "id": "22f0c242c2505f2b"
  },
  {
   "cell_type": "code",
   "id": "367abafc0ae13a6d",
   "metadata": {
    "ExecuteTime": {
     "end_time": "2025-01-22T22:33:27.222006Z",
     "start_time": "2025-01-22T22:33:27.212318Z"
    }
   },
   "source": [
    "stretches_df"
   ],
   "outputs": [
    {
     "data": {
      "text/plain": [
       "    stretch_id    value\n",
       "0            1     3081\n",
       "1            1     3082\n",
       "2            1     3083\n",
       "3            1     3084\n",
       "4            1     3085\n",
       "5            1     3086\n",
       "6            1     3087\n",
       "7            1     3088\n",
       "8            1     3089\n",
       "9            1     3090\n",
       "10           1     3091\n",
       "11           1     3092\n",
       "12           1     3093\n",
       "13           1     3094\n",
       "14           1     3095\n",
       "15           1     3096\n",
       "16           1     3097\n",
       "17           1     3098\n",
       "18           1     3099\n",
       "19           1     3100\n",
       "20           1     3101\n",
       "21           2  1001430\n",
       "22           2  1001431\n",
       "23           2  1001432\n",
       "24           2  1001433\n",
       "25           2  1001434\n",
       "26           2  1001435\n",
       "27           2  1001436\n",
       "28           2  1001437\n",
       "29           2  1001438\n",
       "30           2  1001439\n",
       "31           2  1001440\n",
       "32           2  1001441\n",
       "33           2  1001442\n",
       "34           2  1001443\n",
       "35           2  1001444\n",
       "36           2  1001445\n",
       "37           2  1001446\n",
       "38           2  1001447\n",
       "39           2  1001448\n",
       "40           2  1001449\n",
       "41           2  1001450\n",
       "42           2  1001451\n",
       "43           2  1001452\n",
       "44           2  1001453\n",
       "45           2  1001454\n",
       "46           2  1001455\n",
       "47           2  1001456\n",
       "48           2  1001457\n",
       "49           2  1001458\n",
       "50           2  1001459\n",
       "51           2  1001460\n",
       "52           2  1001461\n",
       "53           2  1001462\n",
       "54           2  1001463"
      ],
      "text/html": [
       "<div>\n",
       "<style scoped>\n",
       "    .dataframe tbody tr th:only-of-type {\n",
       "        vertical-align: middle;\n",
       "    }\n",
       "\n",
       "    .dataframe tbody tr th {\n",
       "        vertical-align: top;\n",
       "    }\n",
       "\n",
       "    .dataframe thead th {\n",
       "        text-align: right;\n",
       "    }\n",
       "</style>\n",
       "<table border=\"1\" class=\"dataframe\">\n",
       "  <thead>\n",
       "    <tr style=\"text-align: right;\">\n",
       "      <th></th>\n",
       "      <th>stretch_id</th>\n",
       "      <th>value</th>\n",
       "    </tr>\n",
       "  </thead>\n",
       "  <tbody>\n",
       "    <tr>\n",
       "      <th>0</th>\n",
       "      <td>1</td>\n",
       "      <td>3081</td>\n",
       "    </tr>\n",
       "    <tr>\n",
       "      <th>1</th>\n",
       "      <td>1</td>\n",
       "      <td>3082</td>\n",
       "    </tr>\n",
       "    <tr>\n",
       "      <th>2</th>\n",
       "      <td>1</td>\n",
       "      <td>3083</td>\n",
       "    </tr>\n",
       "    <tr>\n",
       "      <th>3</th>\n",
       "      <td>1</td>\n",
       "      <td>3084</td>\n",
       "    </tr>\n",
       "    <tr>\n",
       "      <th>4</th>\n",
       "      <td>1</td>\n",
       "      <td>3085</td>\n",
       "    </tr>\n",
       "    <tr>\n",
       "      <th>5</th>\n",
       "      <td>1</td>\n",
       "      <td>3086</td>\n",
       "    </tr>\n",
       "    <tr>\n",
       "      <th>6</th>\n",
       "      <td>1</td>\n",
       "      <td>3087</td>\n",
       "    </tr>\n",
       "    <tr>\n",
       "      <th>7</th>\n",
       "      <td>1</td>\n",
       "      <td>3088</td>\n",
       "    </tr>\n",
       "    <tr>\n",
       "      <th>8</th>\n",
       "      <td>1</td>\n",
       "      <td>3089</td>\n",
       "    </tr>\n",
       "    <tr>\n",
       "      <th>9</th>\n",
       "      <td>1</td>\n",
       "      <td>3090</td>\n",
       "    </tr>\n",
       "    <tr>\n",
       "      <th>10</th>\n",
       "      <td>1</td>\n",
       "      <td>3091</td>\n",
       "    </tr>\n",
       "    <tr>\n",
       "      <th>11</th>\n",
       "      <td>1</td>\n",
       "      <td>3092</td>\n",
       "    </tr>\n",
       "    <tr>\n",
       "      <th>12</th>\n",
       "      <td>1</td>\n",
       "      <td>3093</td>\n",
       "    </tr>\n",
       "    <tr>\n",
       "      <th>13</th>\n",
       "      <td>1</td>\n",
       "      <td>3094</td>\n",
       "    </tr>\n",
       "    <tr>\n",
       "      <th>14</th>\n",
       "      <td>1</td>\n",
       "      <td>3095</td>\n",
       "    </tr>\n",
       "    <tr>\n",
       "      <th>15</th>\n",
       "      <td>1</td>\n",
       "      <td>3096</td>\n",
       "    </tr>\n",
       "    <tr>\n",
       "      <th>16</th>\n",
       "      <td>1</td>\n",
       "      <td>3097</td>\n",
       "    </tr>\n",
       "    <tr>\n",
       "      <th>17</th>\n",
       "      <td>1</td>\n",
       "      <td>3098</td>\n",
       "    </tr>\n",
       "    <tr>\n",
       "      <th>18</th>\n",
       "      <td>1</td>\n",
       "      <td>3099</td>\n",
       "    </tr>\n",
       "    <tr>\n",
       "      <th>19</th>\n",
       "      <td>1</td>\n",
       "      <td>3100</td>\n",
       "    </tr>\n",
       "    <tr>\n",
       "      <th>20</th>\n",
       "      <td>1</td>\n",
       "      <td>3101</td>\n",
       "    </tr>\n",
       "    <tr>\n",
       "      <th>21</th>\n",
       "      <td>2</td>\n",
       "      <td>1001430</td>\n",
       "    </tr>\n",
       "    <tr>\n",
       "      <th>22</th>\n",
       "      <td>2</td>\n",
       "      <td>1001431</td>\n",
       "    </tr>\n",
       "    <tr>\n",
       "      <th>23</th>\n",
       "      <td>2</td>\n",
       "      <td>1001432</td>\n",
       "    </tr>\n",
       "    <tr>\n",
       "      <th>24</th>\n",
       "      <td>2</td>\n",
       "      <td>1001433</td>\n",
       "    </tr>\n",
       "    <tr>\n",
       "      <th>25</th>\n",
       "      <td>2</td>\n",
       "      <td>1001434</td>\n",
       "    </tr>\n",
       "    <tr>\n",
       "      <th>26</th>\n",
       "      <td>2</td>\n",
       "      <td>1001435</td>\n",
       "    </tr>\n",
       "    <tr>\n",
       "      <th>27</th>\n",
       "      <td>2</td>\n",
       "      <td>1001436</td>\n",
       "    </tr>\n",
       "    <tr>\n",
       "      <th>28</th>\n",
       "      <td>2</td>\n",
       "      <td>1001437</td>\n",
       "    </tr>\n",
       "    <tr>\n",
       "      <th>29</th>\n",
       "      <td>2</td>\n",
       "      <td>1001438</td>\n",
       "    </tr>\n",
       "    <tr>\n",
       "      <th>30</th>\n",
       "      <td>2</td>\n",
       "      <td>1001439</td>\n",
       "    </tr>\n",
       "    <tr>\n",
       "      <th>31</th>\n",
       "      <td>2</td>\n",
       "      <td>1001440</td>\n",
       "    </tr>\n",
       "    <tr>\n",
       "      <th>32</th>\n",
       "      <td>2</td>\n",
       "      <td>1001441</td>\n",
       "    </tr>\n",
       "    <tr>\n",
       "      <th>33</th>\n",
       "      <td>2</td>\n",
       "      <td>1001442</td>\n",
       "    </tr>\n",
       "    <tr>\n",
       "      <th>34</th>\n",
       "      <td>2</td>\n",
       "      <td>1001443</td>\n",
       "    </tr>\n",
       "    <tr>\n",
       "      <th>35</th>\n",
       "      <td>2</td>\n",
       "      <td>1001444</td>\n",
       "    </tr>\n",
       "    <tr>\n",
       "      <th>36</th>\n",
       "      <td>2</td>\n",
       "      <td>1001445</td>\n",
       "    </tr>\n",
       "    <tr>\n",
       "      <th>37</th>\n",
       "      <td>2</td>\n",
       "      <td>1001446</td>\n",
       "    </tr>\n",
       "    <tr>\n",
       "      <th>38</th>\n",
       "      <td>2</td>\n",
       "      <td>1001447</td>\n",
       "    </tr>\n",
       "    <tr>\n",
       "      <th>39</th>\n",
       "      <td>2</td>\n",
       "      <td>1001448</td>\n",
       "    </tr>\n",
       "    <tr>\n",
       "      <th>40</th>\n",
       "      <td>2</td>\n",
       "      <td>1001449</td>\n",
       "    </tr>\n",
       "    <tr>\n",
       "      <th>41</th>\n",
       "      <td>2</td>\n",
       "      <td>1001450</td>\n",
       "    </tr>\n",
       "    <tr>\n",
       "      <th>42</th>\n",
       "      <td>2</td>\n",
       "      <td>1001451</td>\n",
       "    </tr>\n",
       "    <tr>\n",
       "      <th>43</th>\n",
       "      <td>2</td>\n",
       "      <td>1001452</td>\n",
       "    </tr>\n",
       "    <tr>\n",
       "      <th>44</th>\n",
       "      <td>2</td>\n",
       "      <td>1001453</td>\n",
       "    </tr>\n",
       "    <tr>\n",
       "      <th>45</th>\n",
       "      <td>2</td>\n",
       "      <td>1001454</td>\n",
       "    </tr>\n",
       "    <tr>\n",
       "      <th>46</th>\n",
       "      <td>2</td>\n",
       "      <td>1001455</td>\n",
       "    </tr>\n",
       "    <tr>\n",
       "      <th>47</th>\n",
       "      <td>2</td>\n",
       "      <td>1001456</td>\n",
       "    </tr>\n",
       "    <tr>\n",
       "      <th>48</th>\n",
       "      <td>2</td>\n",
       "      <td>1001457</td>\n",
       "    </tr>\n",
       "    <tr>\n",
       "      <th>49</th>\n",
       "      <td>2</td>\n",
       "      <td>1001458</td>\n",
       "    </tr>\n",
       "    <tr>\n",
       "      <th>50</th>\n",
       "      <td>2</td>\n",
       "      <td>1001459</td>\n",
       "    </tr>\n",
       "    <tr>\n",
       "      <th>51</th>\n",
       "      <td>2</td>\n",
       "      <td>1001460</td>\n",
       "    </tr>\n",
       "    <tr>\n",
       "      <th>52</th>\n",
       "      <td>2</td>\n",
       "      <td>1001461</td>\n",
       "    </tr>\n",
       "    <tr>\n",
       "      <th>53</th>\n",
       "      <td>2</td>\n",
       "      <td>1001462</td>\n",
       "    </tr>\n",
       "    <tr>\n",
       "      <th>54</th>\n",
       "      <td>2</td>\n",
       "      <td>1001463</td>\n",
       "    </tr>\n",
       "  </tbody>\n",
       "</table>\n",
       "</div>"
      ]
     },
     "execution_count": 83,
     "metadata": {},
     "output_type": "execute_result"
    }
   ],
   "execution_count": 83
  },
  {
   "cell_type": "code",
   "id": "8ee27ecc0697a5f5",
   "metadata": {
    "ExecuteTime": {
     "end_time": "2025-01-22T22:33:32.552315Z",
     "start_time": "2025-01-22T22:33:32.545416Z"
    }
   },
   "source": [
    "# Perform the left merge\n",
    "double_curie_frame = double_curie_frame.merge(\n",
    "    stretches_df,\n",
    "    left_on='extracted_local_id_int',\n",
    "    right_on='value',\n",
    "    how='left'\n",
    ")"
   ],
   "outputs": [],
   "execution_count": 84
  },
  {
   "cell_type": "code",
   "id": "59e278981b799f14",
   "metadata": {
    "ExecuteTime": {
     "end_time": "2025-01-22T22:33:32.618558Z",
     "start_time": "2025-01-22T22:33:32.610411Z"
    }
   },
   "source": [
    "stretch_summary_df = summarize_stretch_groups(double_curie_frame)\n"
   ],
   "outputs": [],
   "execution_count": 85
  },
  {
   "metadata": {},
   "cell_type": "markdown",
   "source": "For stretch 9, which included extracted CURIes from ENVO:01001458 to ENVO:01001511, the oaklib test annotation of 100% of the submitted environmental context annotations was ENVO:01001803, so we will keep that and disregard all of the CURIes from the stretch\n",
   "id": "46a141c88d2f24a8"
  },
  {
   "cell_type": "code",
   "id": "cee6e3ff1e1ca0d3",
   "metadata": {
    "ExecuteTime": {
     "end_time": "2025-01-22T22:33:32.708078Z",
     "start_time": "2025-01-22T22:33:32.698617Z"
    }
   },
   "source": [
    "stretch_summary_df"
   ],
   "outputs": [
    {
     "data": {
      "text/plain": [
       "   stretch_id most_common_longest_annotation_curie  fraction\n",
       "0         1.0                        ENVO:00003081  1.000000\n",
       "1         2.0                        ENVO:01001430  0.942857"
      ],
      "text/html": [
       "<div>\n",
       "<style scoped>\n",
       "    .dataframe tbody tr th:only-of-type {\n",
       "        vertical-align: middle;\n",
       "    }\n",
       "\n",
       "    .dataframe tbody tr th {\n",
       "        vertical-align: top;\n",
       "    }\n",
       "\n",
       "    .dataframe thead th {\n",
       "        text-align: right;\n",
       "    }\n",
       "</style>\n",
       "<table border=\"1\" class=\"dataframe\">\n",
       "  <thead>\n",
       "    <tr style=\"text-align: right;\">\n",
       "      <th></th>\n",
       "      <th>stretch_id</th>\n",
       "      <th>most_common_longest_annotation_curie</th>\n",
       "      <th>fraction</th>\n",
       "    </tr>\n",
       "  </thead>\n",
       "  <tbody>\n",
       "    <tr>\n",
       "      <th>0</th>\n",
       "      <td>1.0</td>\n",
       "      <td>ENVO:00003081</td>\n",
       "      <td>1.000000</td>\n",
       "    </tr>\n",
       "    <tr>\n",
       "      <th>1</th>\n",
       "      <td>2.0</td>\n",
       "      <td>ENVO:01001430</td>\n",
       "      <td>0.942857</td>\n",
       "    </tr>\n",
       "  </tbody>\n",
       "</table>\n",
       "</div>"
      ]
     },
     "execution_count": 86,
     "metadata": {},
     "output_type": "execute_result"
    }
   ],
   "execution_count": 86
  },
  {
   "metadata": {
    "ExecuteTime": {
     "end_time": "2025-01-22T22:33:38.414738Z",
     "start_time": "2025-01-22T22:33:38.411610Z"
    }
   },
   "cell_type": "code",
   "source": "decisive_fraction_threshold = 0.9",
   "id": "dcc5ba2adda9189f",
   "outputs": [],
   "execution_count": 87
  },
  {
   "metadata": {
    "ExecuteTime": {
     "end_time": "2025-01-22T22:33:38.480588Z",
     "start_time": "2025-01-22T22:33:38.477091Z"
    }
   },
   "cell_type": "code",
   "source": "decisive_stretch_summary_df = stretch_summary_df[stretch_summary_df['fraction'] >= decisive_fraction_threshold]",
   "id": "529c6e4d71a8bf31",
   "outputs": [],
   "execution_count": 88
  },
  {
   "metadata": {
    "ExecuteTime": {
     "end_time": "2025-01-22T22:33:38.553143Z",
     "start_time": "2025-01-22T22:33:38.542639Z"
    }
   },
   "cell_type": "code",
   "source": "decisive_stretch_summary_df",
   "id": "db568a6f50b6e0",
   "outputs": [
    {
     "data": {
      "text/plain": [
       "   stretch_id most_common_longest_annotation_curie  fraction\n",
       "0         1.0                        ENVO:00003081  1.000000\n",
       "1         2.0                        ENVO:01001430  0.942857"
      ],
      "text/html": [
       "<div>\n",
       "<style scoped>\n",
       "    .dataframe tbody tr th:only-of-type {\n",
       "        vertical-align: middle;\n",
       "    }\n",
       "\n",
       "    .dataframe tbody tr th {\n",
       "        vertical-align: top;\n",
       "    }\n",
       "\n",
       "    .dataframe thead th {\n",
       "        text-align: right;\n",
       "    }\n",
       "</style>\n",
       "<table border=\"1\" class=\"dataframe\">\n",
       "  <thead>\n",
       "    <tr style=\"text-align: right;\">\n",
       "      <th></th>\n",
       "      <th>stretch_id</th>\n",
       "      <th>most_common_longest_annotation_curie</th>\n",
       "      <th>fraction</th>\n",
       "    </tr>\n",
       "  </thead>\n",
       "  <tbody>\n",
       "    <tr>\n",
       "      <th>0</th>\n",
       "      <td>1.0</td>\n",
       "      <td>ENVO:00003081</td>\n",
       "      <td>1.000000</td>\n",
       "    </tr>\n",
       "    <tr>\n",
       "      <th>1</th>\n",
       "      <td>2.0</td>\n",
       "      <td>ENVO:01001430</td>\n",
       "      <td>0.942857</td>\n",
       "    </tr>\n",
       "  </tbody>\n",
       "</table>\n",
       "</div>"
      ]
     },
     "execution_count": 89,
     "metadata": {},
     "output_type": "execute_result"
    }
   ],
   "execution_count": 89
  },
  {
   "cell_type": "code",
   "id": "f47a58a1945943b8",
   "metadata": {
    "ExecuteTime": {
     "end_time": "2025-01-22T22:33:44.905043Z",
     "start_time": "2025-01-22T22:33:44.899797Z"
    }
   },
   "source": [
    "# Perform the left merge\n",
    "double_curie_frame = double_curie_frame.merge(\n",
    "    decisive_stretch_summary_df,\n",
    "    left_on='stretch_id',\n",
    "    right_on='stretch_id',\n",
    "    how='left'\n",
    ")"
   ],
   "outputs": [],
   "execution_count": 90
  },
  {
   "metadata": {
    "ExecuteTime": {
     "end_time": "2025-01-22T22:33:44.982198Z",
     "start_time": "2025-01-22T22:33:44.967627Z"
    }
   },
   "cell_type": "code",
   "source": "double_curie_frame",
   "id": "babb21e01016715",
   "outputs": [
    {
     "data": {
      "text/plain": [
       "   extracted_curie longest_annotation_curie extracted_prefix  \\\n",
       "0     ENVO:0025034               PO:0025034             ENVO   \n",
       "1    ENVO:01000245            ENVO:01000635             ENVO   \n",
       "2    ENVO:01001433            ENVO:01001430             ENVO   \n",
       "3     ENVO:0003095            ENVO:00003081             ENVO   \n",
       "4     ENVO:0003082            ENVO:00003081             ENVO   \n",
       "..             ...                      ...              ...   \n",
       "83   ENVO:01001447            ENVO:01001430             ENVO   \n",
       "84   ENVO:01001449            ENVO:01001430             ENVO   \n",
       "85   ENVO:01001461            ENVO:01001430             ENVO   \n",
       "86   ENVO:01001444            ENVO:01001430             ENVO   \n",
       "87   ENVO:01001454            ENVO:01001430             ENVO   \n",
       "\n",
       "   extracted_local_id  extracted_local_id_int  stretch_id      value  \\\n",
       "0             0025034                   25034         NaN        NaN   \n",
       "1            01000245                 1000245         NaN        NaN   \n",
       "2            01001433                 1001433         2.0  1001433.0   \n",
       "3             0003095                    3095         1.0     3095.0   \n",
       "4             0003082                    3082         1.0     3082.0   \n",
       "..                ...                     ...         ...        ...   \n",
       "83           01001447                 1001447         2.0  1001447.0   \n",
       "84           01001449                 1001449         2.0  1001449.0   \n",
       "85           01001461                 1001461         2.0  1001461.0   \n",
       "86           01001444                 1001444         2.0  1001444.0   \n",
       "87           01001454                 1001454         2.0  1001454.0   \n",
       "\n",
       "   most_common_longest_annotation_curie  fraction  \n",
       "0                                   NaN       NaN  \n",
       "1                                   NaN       NaN  \n",
       "2                         ENVO:01001430  0.942857  \n",
       "3                         ENVO:00003081  1.000000  \n",
       "4                         ENVO:00003081  1.000000  \n",
       "..                                  ...       ...  \n",
       "83                        ENVO:01001430  0.942857  \n",
       "84                        ENVO:01001430  0.942857  \n",
       "85                        ENVO:01001430  0.942857  \n",
       "86                        ENVO:01001430  0.942857  \n",
       "87                        ENVO:01001430  0.942857  \n",
       "\n",
       "[88 rows x 9 columns]"
      ],
      "text/html": [
       "<div>\n",
       "<style scoped>\n",
       "    .dataframe tbody tr th:only-of-type {\n",
       "        vertical-align: middle;\n",
       "    }\n",
       "\n",
       "    .dataframe tbody tr th {\n",
       "        vertical-align: top;\n",
       "    }\n",
       "\n",
       "    .dataframe thead th {\n",
       "        text-align: right;\n",
       "    }\n",
       "</style>\n",
       "<table border=\"1\" class=\"dataframe\">\n",
       "  <thead>\n",
       "    <tr style=\"text-align: right;\">\n",
       "      <th></th>\n",
       "      <th>extracted_curie</th>\n",
       "      <th>longest_annotation_curie</th>\n",
       "      <th>extracted_prefix</th>\n",
       "      <th>extracted_local_id</th>\n",
       "      <th>extracted_local_id_int</th>\n",
       "      <th>stretch_id</th>\n",
       "      <th>value</th>\n",
       "      <th>most_common_longest_annotation_curie</th>\n",
       "      <th>fraction</th>\n",
       "    </tr>\n",
       "  </thead>\n",
       "  <tbody>\n",
       "    <tr>\n",
       "      <th>0</th>\n",
       "      <td>ENVO:0025034</td>\n",
       "      <td>PO:0025034</td>\n",
       "      <td>ENVO</td>\n",
       "      <td>0025034</td>\n",
       "      <td>25034</td>\n",
       "      <td>NaN</td>\n",
       "      <td>NaN</td>\n",
       "      <td>NaN</td>\n",
       "      <td>NaN</td>\n",
       "    </tr>\n",
       "    <tr>\n",
       "      <th>1</th>\n",
       "      <td>ENVO:01000245</td>\n",
       "      <td>ENVO:01000635</td>\n",
       "      <td>ENVO</td>\n",
       "      <td>01000245</td>\n",
       "      <td>1000245</td>\n",
       "      <td>NaN</td>\n",
       "      <td>NaN</td>\n",
       "      <td>NaN</td>\n",
       "      <td>NaN</td>\n",
       "    </tr>\n",
       "    <tr>\n",
       "      <th>2</th>\n",
       "      <td>ENVO:01001433</td>\n",
       "      <td>ENVO:01001430</td>\n",
       "      <td>ENVO</td>\n",
       "      <td>01001433</td>\n",
       "      <td>1001433</td>\n",
       "      <td>2.0</td>\n",
       "      <td>1001433.0</td>\n",
       "      <td>ENVO:01001430</td>\n",
       "      <td>0.942857</td>\n",
       "    </tr>\n",
       "    <tr>\n",
       "      <th>3</th>\n",
       "      <td>ENVO:0003095</td>\n",
       "      <td>ENVO:00003081</td>\n",
       "      <td>ENVO</td>\n",
       "      <td>0003095</td>\n",
       "      <td>3095</td>\n",
       "      <td>1.0</td>\n",
       "      <td>3095.0</td>\n",
       "      <td>ENVO:00003081</td>\n",
       "      <td>1.000000</td>\n",
       "    </tr>\n",
       "    <tr>\n",
       "      <th>4</th>\n",
       "      <td>ENVO:0003082</td>\n",
       "      <td>ENVO:00003081</td>\n",
       "      <td>ENVO</td>\n",
       "      <td>0003082</td>\n",
       "      <td>3082</td>\n",
       "      <td>1.0</td>\n",
       "      <td>3082.0</td>\n",
       "      <td>ENVO:00003081</td>\n",
       "      <td>1.000000</td>\n",
       "    </tr>\n",
       "    <tr>\n",
       "      <th>...</th>\n",
       "      <td>...</td>\n",
       "      <td>...</td>\n",
       "      <td>...</td>\n",
       "      <td>...</td>\n",
       "      <td>...</td>\n",
       "      <td>...</td>\n",
       "      <td>...</td>\n",
       "      <td>...</td>\n",
       "      <td>...</td>\n",
       "    </tr>\n",
       "    <tr>\n",
       "      <th>83</th>\n",
       "      <td>ENVO:01001447</td>\n",
       "      <td>ENVO:01001430</td>\n",
       "      <td>ENVO</td>\n",
       "      <td>01001447</td>\n",
       "      <td>1001447</td>\n",
       "      <td>2.0</td>\n",
       "      <td>1001447.0</td>\n",
       "      <td>ENVO:01001430</td>\n",
       "      <td>0.942857</td>\n",
       "    </tr>\n",
       "    <tr>\n",
       "      <th>84</th>\n",
       "      <td>ENVO:01001449</td>\n",
       "      <td>ENVO:01001430</td>\n",
       "      <td>ENVO</td>\n",
       "      <td>01001449</td>\n",
       "      <td>1001449</td>\n",
       "      <td>2.0</td>\n",
       "      <td>1001449.0</td>\n",
       "      <td>ENVO:01001430</td>\n",
       "      <td>0.942857</td>\n",
       "    </tr>\n",
       "    <tr>\n",
       "      <th>85</th>\n",
       "      <td>ENVO:01001461</td>\n",
       "      <td>ENVO:01001430</td>\n",
       "      <td>ENVO</td>\n",
       "      <td>01001461</td>\n",
       "      <td>1001461</td>\n",
       "      <td>2.0</td>\n",
       "      <td>1001461.0</td>\n",
       "      <td>ENVO:01001430</td>\n",
       "      <td>0.942857</td>\n",
       "    </tr>\n",
       "    <tr>\n",
       "      <th>86</th>\n",
       "      <td>ENVO:01001444</td>\n",
       "      <td>ENVO:01001430</td>\n",
       "      <td>ENVO</td>\n",
       "      <td>01001444</td>\n",
       "      <td>1001444</td>\n",
       "      <td>2.0</td>\n",
       "      <td>1001444.0</td>\n",
       "      <td>ENVO:01001430</td>\n",
       "      <td>0.942857</td>\n",
       "    </tr>\n",
       "    <tr>\n",
       "      <th>87</th>\n",
       "      <td>ENVO:01001454</td>\n",
       "      <td>ENVO:01001430</td>\n",
       "      <td>ENVO</td>\n",
       "      <td>01001454</td>\n",
       "      <td>1001454</td>\n",
       "      <td>2.0</td>\n",
       "      <td>1001454.0</td>\n",
       "      <td>ENVO:01001430</td>\n",
       "      <td>0.942857</td>\n",
       "    </tr>\n",
       "  </tbody>\n",
       "</table>\n",
       "<p>88 rows × 9 columns</p>\n",
       "</div>"
      ]
     },
     "execution_count": 91,
     "metadata": {},
     "output_type": "execute_result"
    }
   ],
   "execution_count": 91
  },
  {
   "cell_type": "code",
   "id": "828f3be5ac6c0ab1",
   "metadata": {
    "ExecuteTime": {
     "end_time": "2025-01-22T22:33:45.149294Z",
     "start_time": "2025-01-22T22:33:45.143978Z"
    }
   },
   "source": [
    "drag_evidence_frame = double_curie_frame[double_curie_frame['stretch_id'] >= 1]\n",
    "drag_evidence_frame = drag_evidence_frame[['extracted_curie', 'longest_annotation_curie']]\n",
    "drag_evidence_frame['drag_evidence'] = True"
   ],
   "outputs": [],
   "execution_count": 92
  },
  {
   "cell_type": "code",
   "id": "9907b1472af8731b",
   "metadata": {
    "ExecuteTime": {
     "end_time": "2025-01-22T22:33:45.213068Z",
     "start_time": "2025-01-22T22:33:45.201137Z"
    }
   },
   "source": [
    "drag_evidence_frame"
   ],
   "outputs": [
    {
     "data": {
      "text/plain": [
       "   extracted_curie longest_annotation_curie  drag_evidence\n",
       "2    ENVO:01001433            ENVO:01001430           True\n",
       "3     ENVO:0003095            ENVO:00003081           True\n",
       "4     ENVO:0003082            ENVO:00003081           True\n",
       "5     ENVO:0003087            ENVO:00003081           True\n",
       "7     ENVO:0003098            ENVO:00003081           True\n",
       "8     ENVO:0003096            ENVO:00003081           True\n",
       "9     ENVO:0003097            ENVO:00003081           True\n",
       "10    ENVO:0003092            ENVO:00003081           True\n",
       "11    ENVO:0003093            ENVO:00003081           True\n",
       "12    ENVO:0003086            ENVO:00003081           True\n",
       "13   ENVO:01001442            ENVO:01001246           True\n",
       "14    ENVO:0003099            ENVO:00003081           True\n",
       "15   ENVO:01001430            ENVO:00000077           True\n",
       "16    ENVO:0003081            ENVO:00003081           True\n",
       "17   ENVO:01001431            ENVO:01001430           True\n",
       "19    ENVO:0003101            ENVO:00003081           True\n",
       "20    ENVO:0003088            ENVO:00003081           True\n",
       "21    ENVO:0003094            ENVO:00003081           True\n",
       "22    ENVO:0003100            ENVO:00003081           True\n",
       "23    ENVO:0003084            ENVO:00003081           True\n",
       "25    ENVO:0003090            ENVO:00003081           True\n",
       "26   ENVO:01001432            ENVO:01001430           True\n",
       "27    ENVO:0003089            ENVO:00003081           True\n",
       "28   ENVO:01001435            ENVO:01001430           True\n",
       "29    ENVO:0003091            ENVO:00003081           True\n",
       "30    ENVO:0003083            ENVO:00003081           True\n",
       "31   ENVO:01001436            ENVO:01001430           True\n",
       "32    ENVO:0003085            ENVO:00003081           True\n",
       "33   ENVO:01001434            ENVO:01001430           True\n",
       "35   ENVO:01001462            ENVO:01001430           True\n",
       "36   ENVO:01001463            ENVO:01001430           True\n",
       "41   ENVO:01001440            ENVO:01001430           True\n",
       "42   ENVO:01001448            ENVO:01001430           True\n",
       "45   ENVO:01001455            ENVO:01001430           True\n",
       "47   ENVO:01001450            ENVO:01001430           True\n",
       "48   ENVO:01001451            ENVO:01001430           True\n",
       "51   ENVO:01001458            ENVO:01001430           True\n",
       "55   ENVO:01001457            ENVO:01001430           True\n",
       "57   ENVO:01001445            ENVO:01001430           True\n",
       "60   ENVO:01001442            ENVO:01001430           True\n",
       "63   ENVO:01001438            ENVO:01001430           True\n",
       "66   ENVO:01001443            ENVO:01001430           True\n",
       "67   ENVO:01001439            ENVO:01001430           True\n",
       "68   ENVO:01001453            ENVO:01001430           True\n",
       "69   ENVO:01001441            ENVO:01001430           True\n",
       "72   ENVO:01001459            ENVO:01001430           True\n",
       "73   ENVO:01001460            ENVO:01001430           True\n",
       "75   ENVO:01001452            ENVO:01001430           True\n",
       "76   ENVO:01001456            ENVO:01001430           True\n",
       "78   ENVO:01001446            ENVO:01001430           True\n",
       "79   ENVO:01001437            ENVO:01001430           True\n",
       "83   ENVO:01001447            ENVO:01001430           True\n",
       "84   ENVO:01001449            ENVO:01001430           True\n",
       "85   ENVO:01001461            ENVO:01001430           True\n",
       "86   ENVO:01001444            ENVO:01001430           True\n",
       "87   ENVO:01001454            ENVO:01001430           True"
      ],
      "text/html": [
       "<div>\n",
       "<style scoped>\n",
       "    .dataframe tbody tr th:only-of-type {\n",
       "        vertical-align: middle;\n",
       "    }\n",
       "\n",
       "    .dataframe tbody tr th {\n",
       "        vertical-align: top;\n",
       "    }\n",
       "\n",
       "    .dataframe thead th {\n",
       "        text-align: right;\n",
       "    }\n",
       "</style>\n",
       "<table border=\"1\" class=\"dataframe\">\n",
       "  <thead>\n",
       "    <tr style=\"text-align: right;\">\n",
       "      <th></th>\n",
       "      <th>extracted_curie</th>\n",
       "      <th>longest_annotation_curie</th>\n",
       "      <th>drag_evidence</th>\n",
       "    </tr>\n",
       "  </thead>\n",
       "  <tbody>\n",
       "    <tr>\n",
       "      <th>2</th>\n",
       "      <td>ENVO:01001433</td>\n",
       "      <td>ENVO:01001430</td>\n",
       "      <td>True</td>\n",
       "    </tr>\n",
       "    <tr>\n",
       "      <th>3</th>\n",
       "      <td>ENVO:0003095</td>\n",
       "      <td>ENVO:00003081</td>\n",
       "      <td>True</td>\n",
       "    </tr>\n",
       "    <tr>\n",
       "      <th>4</th>\n",
       "      <td>ENVO:0003082</td>\n",
       "      <td>ENVO:00003081</td>\n",
       "      <td>True</td>\n",
       "    </tr>\n",
       "    <tr>\n",
       "      <th>5</th>\n",
       "      <td>ENVO:0003087</td>\n",
       "      <td>ENVO:00003081</td>\n",
       "      <td>True</td>\n",
       "    </tr>\n",
       "    <tr>\n",
       "      <th>7</th>\n",
       "      <td>ENVO:0003098</td>\n",
       "      <td>ENVO:00003081</td>\n",
       "      <td>True</td>\n",
       "    </tr>\n",
       "    <tr>\n",
       "      <th>8</th>\n",
       "      <td>ENVO:0003096</td>\n",
       "      <td>ENVO:00003081</td>\n",
       "      <td>True</td>\n",
       "    </tr>\n",
       "    <tr>\n",
       "      <th>9</th>\n",
       "      <td>ENVO:0003097</td>\n",
       "      <td>ENVO:00003081</td>\n",
       "      <td>True</td>\n",
       "    </tr>\n",
       "    <tr>\n",
       "      <th>10</th>\n",
       "      <td>ENVO:0003092</td>\n",
       "      <td>ENVO:00003081</td>\n",
       "      <td>True</td>\n",
       "    </tr>\n",
       "    <tr>\n",
       "      <th>11</th>\n",
       "      <td>ENVO:0003093</td>\n",
       "      <td>ENVO:00003081</td>\n",
       "      <td>True</td>\n",
       "    </tr>\n",
       "    <tr>\n",
       "      <th>12</th>\n",
       "      <td>ENVO:0003086</td>\n",
       "      <td>ENVO:00003081</td>\n",
       "      <td>True</td>\n",
       "    </tr>\n",
       "    <tr>\n",
       "      <th>13</th>\n",
       "      <td>ENVO:01001442</td>\n",
       "      <td>ENVO:01001246</td>\n",
       "      <td>True</td>\n",
       "    </tr>\n",
       "    <tr>\n",
       "      <th>14</th>\n",
       "      <td>ENVO:0003099</td>\n",
       "      <td>ENVO:00003081</td>\n",
       "      <td>True</td>\n",
       "    </tr>\n",
       "    <tr>\n",
       "      <th>15</th>\n",
       "      <td>ENVO:01001430</td>\n",
       "      <td>ENVO:00000077</td>\n",
       "      <td>True</td>\n",
       "    </tr>\n",
       "    <tr>\n",
       "      <th>16</th>\n",
       "      <td>ENVO:0003081</td>\n",
       "      <td>ENVO:00003081</td>\n",
       "      <td>True</td>\n",
       "    </tr>\n",
       "    <tr>\n",
       "      <th>17</th>\n",
       "      <td>ENVO:01001431</td>\n",
       "      <td>ENVO:01001430</td>\n",
       "      <td>True</td>\n",
       "    </tr>\n",
       "    <tr>\n",
       "      <th>19</th>\n",
       "      <td>ENVO:0003101</td>\n",
       "      <td>ENVO:00003081</td>\n",
       "      <td>True</td>\n",
       "    </tr>\n",
       "    <tr>\n",
       "      <th>20</th>\n",
       "      <td>ENVO:0003088</td>\n",
       "      <td>ENVO:00003081</td>\n",
       "      <td>True</td>\n",
       "    </tr>\n",
       "    <tr>\n",
       "      <th>21</th>\n",
       "      <td>ENVO:0003094</td>\n",
       "      <td>ENVO:00003081</td>\n",
       "      <td>True</td>\n",
       "    </tr>\n",
       "    <tr>\n",
       "      <th>22</th>\n",
       "      <td>ENVO:0003100</td>\n",
       "      <td>ENVO:00003081</td>\n",
       "      <td>True</td>\n",
       "    </tr>\n",
       "    <tr>\n",
       "      <th>23</th>\n",
       "      <td>ENVO:0003084</td>\n",
       "      <td>ENVO:00003081</td>\n",
       "      <td>True</td>\n",
       "    </tr>\n",
       "    <tr>\n",
       "      <th>25</th>\n",
       "      <td>ENVO:0003090</td>\n",
       "      <td>ENVO:00003081</td>\n",
       "      <td>True</td>\n",
       "    </tr>\n",
       "    <tr>\n",
       "      <th>26</th>\n",
       "      <td>ENVO:01001432</td>\n",
       "      <td>ENVO:01001430</td>\n",
       "      <td>True</td>\n",
       "    </tr>\n",
       "    <tr>\n",
       "      <th>27</th>\n",
       "      <td>ENVO:0003089</td>\n",
       "      <td>ENVO:00003081</td>\n",
       "      <td>True</td>\n",
       "    </tr>\n",
       "    <tr>\n",
       "      <th>28</th>\n",
       "      <td>ENVO:01001435</td>\n",
       "      <td>ENVO:01001430</td>\n",
       "      <td>True</td>\n",
       "    </tr>\n",
       "    <tr>\n",
       "      <th>29</th>\n",
       "      <td>ENVO:0003091</td>\n",
       "      <td>ENVO:00003081</td>\n",
       "      <td>True</td>\n",
       "    </tr>\n",
       "    <tr>\n",
       "      <th>30</th>\n",
       "      <td>ENVO:0003083</td>\n",
       "      <td>ENVO:00003081</td>\n",
       "      <td>True</td>\n",
       "    </tr>\n",
       "    <tr>\n",
       "      <th>31</th>\n",
       "      <td>ENVO:01001436</td>\n",
       "      <td>ENVO:01001430</td>\n",
       "      <td>True</td>\n",
       "    </tr>\n",
       "    <tr>\n",
       "      <th>32</th>\n",
       "      <td>ENVO:0003085</td>\n",
       "      <td>ENVO:00003081</td>\n",
       "      <td>True</td>\n",
       "    </tr>\n",
       "    <tr>\n",
       "      <th>33</th>\n",
       "      <td>ENVO:01001434</td>\n",
       "      <td>ENVO:01001430</td>\n",
       "      <td>True</td>\n",
       "    </tr>\n",
       "    <tr>\n",
       "      <th>35</th>\n",
       "      <td>ENVO:01001462</td>\n",
       "      <td>ENVO:01001430</td>\n",
       "      <td>True</td>\n",
       "    </tr>\n",
       "    <tr>\n",
       "      <th>36</th>\n",
       "      <td>ENVO:01001463</td>\n",
       "      <td>ENVO:01001430</td>\n",
       "      <td>True</td>\n",
       "    </tr>\n",
       "    <tr>\n",
       "      <th>41</th>\n",
       "      <td>ENVO:01001440</td>\n",
       "      <td>ENVO:01001430</td>\n",
       "      <td>True</td>\n",
       "    </tr>\n",
       "    <tr>\n",
       "      <th>42</th>\n",
       "      <td>ENVO:01001448</td>\n",
       "      <td>ENVO:01001430</td>\n",
       "      <td>True</td>\n",
       "    </tr>\n",
       "    <tr>\n",
       "      <th>45</th>\n",
       "      <td>ENVO:01001455</td>\n",
       "      <td>ENVO:01001430</td>\n",
       "      <td>True</td>\n",
       "    </tr>\n",
       "    <tr>\n",
       "      <th>47</th>\n",
       "      <td>ENVO:01001450</td>\n",
       "      <td>ENVO:01001430</td>\n",
       "      <td>True</td>\n",
       "    </tr>\n",
       "    <tr>\n",
       "      <th>48</th>\n",
       "      <td>ENVO:01001451</td>\n",
       "      <td>ENVO:01001430</td>\n",
       "      <td>True</td>\n",
       "    </tr>\n",
       "    <tr>\n",
       "      <th>51</th>\n",
       "      <td>ENVO:01001458</td>\n",
       "      <td>ENVO:01001430</td>\n",
       "      <td>True</td>\n",
       "    </tr>\n",
       "    <tr>\n",
       "      <th>55</th>\n",
       "      <td>ENVO:01001457</td>\n",
       "      <td>ENVO:01001430</td>\n",
       "      <td>True</td>\n",
       "    </tr>\n",
       "    <tr>\n",
       "      <th>57</th>\n",
       "      <td>ENVO:01001445</td>\n",
       "      <td>ENVO:01001430</td>\n",
       "      <td>True</td>\n",
       "    </tr>\n",
       "    <tr>\n",
       "      <th>60</th>\n",
       "      <td>ENVO:01001442</td>\n",
       "      <td>ENVO:01001430</td>\n",
       "      <td>True</td>\n",
       "    </tr>\n",
       "    <tr>\n",
       "      <th>63</th>\n",
       "      <td>ENVO:01001438</td>\n",
       "      <td>ENVO:01001430</td>\n",
       "      <td>True</td>\n",
       "    </tr>\n",
       "    <tr>\n",
       "      <th>66</th>\n",
       "      <td>ENVO:01001443</td>\n",
       "      <td>ENVO:01001430</td>\n",
       "      <td>True</td>\n",
       "    </tr>\n",
       "    <tr>\n",
       "      <th>67</th>\n",
       "      <td>ENVO:01001439</td>\n",
       "      <td>ENVO:01001430</td>\n",
       "      <td>True</td>\n",
       "    </tr>\n",
       "    <tr>\n",
       "      <th>68</th>\n",
       "      <td>ENVO:01001453</td>\n",
       "      <td>ENVO:01001430</td>\n",
       "      <td>True</td>\n",
       "    </tr>\n",
       "    <tr>\n",
       "      <th>69</th>\n",
       "      <td>ENVO:01001441</td>\n",
       "      <td>ENVO:01001430</td>\n",
       "      <td>True</td>\n",
       "    </tr>\n",
       "    <tr>\n",
       "      <th>72</th>\n",
       "      <td>ENVO:01001459</td>\n",
       "      <td>ENVO:01001430</td>\n",
       "      <td>True</td>\n",
       "    </tr>\n",
       "    <tr>\n",
       "      <th>73</th>\n",
       "      <td>ENVO:01001460</td>\n",
       "      <td>ENVO:01001430</td>\n",
       "      <td>True</td>\n",
       "    </tr>\n",
       "    <tr>\n",
       "      <th>75</th>\n",
       "      <td>ENVO:01001452</td>\n",
       "      <td>ENVO:01001430</td>\n",
       "      <td>True</td>\n",
       "    </tr>\n",
       "    <tr>\n",
       "      <th>76</th>\n",
       "      <td>ENVO:01001456</td>\n",
       "      <td>ENVO:01001430</td>\n",
       "      <td>True</td>\n",
       "    </tr>\n",
       "    <tr>\n",
       "      <th>78</th>\n",
       "      <td>ENVO:01001446</td>\n",
       "      <td>ENVO:01001430</td>\n",
       "      <td>True</td>\n",
       "    </tr>\n",
       "    <tr>\n",
       "      <th>79</th>\n",
       "      <td>ENVO:01001437</td>\n",
       "      <td>ENVO:01001430</td>\n",
       "      <td>True</td>\n",
       "    </tr>\n",
       "    <tr>\n",
       "      <th>83</th>\n",
       "      <td>ENVO:01001447</td>\n",
       "      <td>ENVO:01001430</td>\n",
       "      <td>True</td>\n",
       "    </tr>\n",
       "    <tr>\n",
       "      <th>84</th>\n",
       "      <td>ENVO:01001449</td>\n",
       "      <td>ENVO:01001430</td>\n",
       "      <td>True</td>\n",
       "    </tr>\n",
       "    <tr>\n",
       "      <th>85</th>\n",
       "      <td>ENVO:01001461</td>\n",
       "      <td>ENVO:01001430</td>\n",
       "      <td>True</td>\n",
       "    </tr>\n",
       "    <tr>\n",
       "      <th>86</th>\n",
       "      <td>ENVO:01001444</td>\n",
       "      <td>ENVO:01001430</td>\n",
       "      <td>True</td>\n",
       "    </tr>\n",
       "    <tr>\n",
       "      <th>87</th>\n",
       "      <td>ENVO:01001454</td>\n",
       "      <td>ENVO:01001430</td>\n",
       "      <td>True</td>\n",
       "    </tr>\n",
       "  </tbody>\n",
       "</table>\n",
       "</div>"
      ]
     },
     "execution_count": 93,
     "metadata": {},
     "output_type": "execute_result"
    }
   ],
   "execution_count": 93
  },
  {
   "cell_type": "code",
   "id": "9873eb1bc3ea44e5",
   "metadata": {
    "ExecuteTime": {
     "end_time": "2025-01-22T22:33:45.338040Z",
     "start_time": "2025-01-22T22:33:45.331094Z"
    }
   },
   "source": [
    "ncbi_frame = ncbi_frame.merge(\n",
    "    drag_evidence_frame,\n",
    "    left_on=['extracted_curie', 'longest_annotation_curie'],\n",
    "    right_on=['extracted_curie', 'longest_annotation_curie'],\n",
    "    how='left'\n",
    ")"
   ],
   "outputs": [],
   "execution_count": 94
  },
  {
   "cell_type": "code",
   "id": "1d67b9e207b5531e",
   "metadata": {
    "ExecuteTime": {
     "end_time": "2025-01-22T22:33:45.796562Z",
     "start_time": "2025-01-22T22:33:45.450343Z"
    }
   },
   "source": [
    "# Initialize dragless_curie_list with curie_list values\n",
    "ncbi_frame[\"dragless_curie_list\"] = ncbi_frame[\"curie_list\"]\n",
    "\n",
    "# Update dragless_curie_list based on the condition\n",
    "for index, row in ncbi_frame.iterrows():\n",
    "    if row[\"drag_evidence\"] is True:\n",
    "        if row[\"longest_annotation_curie\"] is not None:\n",
    "            ncbi_frame.at[index, \"dragless_curie_list\"] = [row[\"longest_annotation_curie\"]]\n",
    "        else:\n",
    "            ncbi_frame.at[index, \"dragless_curie_list\"] = []\n",
    "\n",
    "ncbi_frame['dragless_curie_count'] = ncbi_frame['dragless_curie_list'].apply(len)"
   ],
   "outputs": [],
   "execution_count": 95
  },
  {
   "cell_type": "code",
   "id": "fb7469cd6900edd7",
   "metadata": {
    "ExecuteTime": {
     "end_time": "2025-01-22T22:33:45.844858Z",
     "start_time": "2025-01-22T22:33:45.839550Z"
    }
   },
   "source": [
    "ncbi_frame['unique_curie_count'].value_counts()"
   ],
   "outputs": [
    {
     "data": {
      "text/plain": [
       "unique_curie_count\n",
       "1    2694\n",
       "0    2519\n",
       "2      94\n",
       "Name: count, dtype: int64"
      ]
     },
     "execution_count": 96,
     "metadata": {},
     "output_type": "execute_result"
    }
   ],
   "execution_count": 96
  },
  {
   "cell_type": "code",
   "id": "7626e42d5b746a2a",
   "metadata": {
    "ExecuteTime": {
     "end_time": "2025-01-22T22:33:45.900721Z",
     "start_time": "2025-01-22T22:33:45.888801Z"
    }
   },
   "source": [
    "ncbi_frame['dragless_curie_count'].value_counts()"
   ],
   "outputs": [
    {
     "data": {
      "text/plain": [
       "dragless_curie_count\n",
       "1    2750\n",
       "0    2519\n",
       "2      38\n",
       "Name: count, dtype: int64"
      ]
     },
     "execution_count": 97,
     "metadata": {},
     "output_type": "execute_result"
    }
   ],
   "execution_count": 97
  },
  {
   "metadata": {},
   "cell_type": "markdown",
   "source": [
    "## The extent of multiple detected CURIes has been reduced ~ 4.5 fold \n",
    "(for soil env_local_scale)\n",
    "\n",
    "Isolate the submitter annotations for which there's clearly one best CURIe after removing the drag-stretches"
   ],
   "id": "55ba8eda9fc69708"
  },
  {
   "cell_type": "code",
   "id": "bb3c0eeb8e919ac5",
   "metadata": {
    "ExecuteTime": {
     "end_time": "2025-01-22T22:33:46.014580Z",
     "start_time": "2025-01-22T22:33:46.009652Z"
    }
   },
   "source": [
    "ncbi_frame.shape"
   ],
   "outputs": [
    {
     "data": {
      "text/plain": [
       "(5307, 16)"
      ]
     },
     "execution_count": 98,
     "metadata": {},
     "output_type": "execute_result"
    }
   ],
   "execution_count": 98
  },
  {
   "cell_type": "code",
   "id": "653df3ac622d4e95",
   "metadata": {
    "ExecuteTime": {
     "end_time": "2025-01-22T22:33:46.183300Z",
     "start_time": "2025-01-22T22:33:46.177494Z"
    }
   },
   "source": [
    "ncbi_frame_undisputed = ncbi_frame[ncbi_frame['dragless_curie_count'] <= 1]"
   ],
   "outputs": [],
   "execution_count": 99
  },
  {
   "cell_type": "code",
   "id": "2abdcbd301b484a9",
   "metadata": {
    "ExecuteTime": {
     "end_time": "2025-01-22T22:33:46.303307Z",
     "start_time": "2025-01-22T22:33:46.298538Z"
    }
   },
   "source": [
    "ncbi_frame_undisputed.shape"
   ],
   "outputs": [
    {
     "data": {
      "text/plain": [
       "(5269, 16)"
      ]
     },
     "execution_count": 100,
     "metadata": {},
     "output_type": "execute_result"
    }
   ],
   "execution_count": 100
  },
  {
   "cell_type": "code",
   "id": "57d0c3c05e88ea1e",
   "metadata": {
    "ExecuteTime": {
     "end_time": "2025-01-22T22:33:46.410959Z",
     "start_time": "2025-01-22T22:33:46.406384Z"
    }
   },
   "source": [
    "ncbi_frame_disputed = ncbi_frame[ncbi_frame['dragless_curie_count'] > 1]"
   ],
   "outputs": [],
   "execution_count": 101
  },
  {
   "cell_type": "code",
   "id": "d0cf6796fedc7f8a",
   "metadata": {
    "ExecuteTime": {
     "end_time": "2025-01-22T22:33:51.914263Z",
     "start_time": "2025-01-22T22:33:51.909380Z"
    }
   },
   "source": [
    "ncbi_frame_disputed.shape"
   ],
   "outputs": [
    {
     "data": {
      "text/plain": [
       "(38, 16)"
      ]
     },
     "execution_count": 102,
     "metadata": {},
     "output_type": "execute_result"
    }
   ],
   "execution_count": 102
  },
  {
   "cell_type": "code",
   "id": "fe33fe1d6d2aad09",
   "metadata": {
    "ExecuteTime": {
     "end_time": "2025-01-22T22:33:51.943863Z",
     "start_time": "2025-01-22T22:33:51.937747Z"
    }
   },
   "source": [
    "ncbi_frame_disputed = ncbi_frame_disputed.explode(\"dragless_curie_list\", ignore_index=True)\n"
   ],
   "outputs": [],
   "execution_count": 103
  },
  {
   "cell_type": "code",
   "id": "f8fe49b93cb12990",
   "metadata": {
    "ExecuteTime": {
     "end_time": "2025-01-22T22:33:57.560056Z",
     "start_time": "2025-01-22T22:33:57.556092Z"
    }
   },
   "source": [
    "ncbi_frame_disputed.shape"
   ],
   "outputs": [
    {
     "data": {
      "text/plain": [
       "(76, 16)"
      ]
     },
     "execution_count": 104,
     "metadata": {},
     "output_type": "execute_result"
    }
   ],
   "execution_count": 104
  },
  {
   "cell_type": "code",
   "id": "6896ca8dd3865cb5",
   "metadata": {
    "ExecuteTime": {
     "end_time": "2025-01-22T22:34:04.409733Z",
     "start_time": "2025-01-22T22:34:04.405819Z"
    }
   },
   "source": [
    "ncbi_frame_disputed[\"dragless_curie_list\"] = ncbi_frame_disputed[\"dragless_curie_list\"].apply(lambda x: [x])"
   ],
   "outputs": [],
   "execution_count": 105
  },
  {
   "metadata": {},
   "cell_type": "markdown",
   "source": "## Just include all of the remaining disputed CURIe assignments",
   "id": "849c8845f5c378e7"
  },
  {
   "cell_type": "code",
   "id": "9a472d228624f148",
   "metadata": {
    "ExecuteTime": {
     "end_time": "2025-01-22T22:34:09.582959Z",
     "start_time": "2025-01-22T22:34:09.573405Z"
    }
   },
   "source": [
    "# Combine the rows of ncbi_frame_undisputed and ncbi_frame_disputed into a new DataFrame\n",
    "ncbi_disputes_exploded_frame = pd.concat([ncbi_frame_undisputed, ncbi_frame_disputed], ignore_index=True)\n"
   ],
   "outputs": [],
   "execution_count": 106
  },
  {
   "cell_type": "code",
   "id": "e772d6db19793ec5",
   "metadata": {
    "ExecuteTime": {
     "end_time": "2025-01-22T22:34:14.826822Z",
     "start_time": "2025-01-22T22:34:14.822888Z"
    }
   },
   "source": [
    "ncbi_disputes_exploded_frame.shape"
   ],
   "outputs": [
    {
     "data": {
      "text/plain": [
       "(5345, 16)"
      ]
     },
     "execution_count": 107,
     "metadata": {},
     "output_type": "execute_result"
    }
   ],
   "execution_count": 107
  },
  {
   "cell_type": "code",
   "id": "ef0b5e69d724d94a",
   "metadata": {
    "ExecuteTime": {
     "end_time": "2025-01-22T22:34:20.186508Z",
     "start_time": "2025-01-22T22:34:20.167558Z"
    }
   },
   "source": [
    "ncbi_disputes_exploded_frame"
   ],
   "outputs": [
    {
     "data": {
      "text/plain": [
       "      serial_number                            content  count  \\\n",
       "0                 1                     not applicable    262   \n",
       "1                 2                            missing    199   \n",
       "2                 3                      not collected    127   \n",
       "3                 4                            Orchard     87   \n",
       "4                 5                                 NA     79   \n",
       "...             ...                                ...    ...   \n",
       "5340           4613      alpine tundra [ENVO:01001505]      1   \n",
       "5341           4618  coniferous forest [ENVO_01000196]      1   \n",
       "5342           4618  coniferous forest [ENVO_01000196]      1   \n",
       "5343           4895              field [ENVO:00000114]      1   \n",
       "5344           4895              field [ENVO:00000114]      1   \n",
       "\n",
       "                           content_list  content_count  envo_count  \\\n",
       "0                        not applicable              1           0   \n",
       "1                               missing              1           0   \n",
       "2                         not collected              1           0   \n",
       "3                               Orchard              1           0   \n",
       "4                                    NA              1           0   \n",
       "...                                 ...            ...         ...   \n",
       "5340      alpine tundra [ENVO:01001505]              1           1   \n",
       "5341  coniferous forest [ENVO_01000196]              1           1   \n",
       "5342  coniferous forest [ENVO_01000196]              1           1   \n",
       "5343              field [ENVO:00000114]              1           1   \n",
       "5344              field [ENVO:00000114]              1           1   \n",
       "\n",
       "        extracted_label extracted_curie real_label longest_annotation_curie  \\\n",
       "0        not applicable            None       None                     None   \n",
       "1               missing            None       None                     None   \n",
       "2         not collected            None       None                     None   \n",
       "3               Orchard            None       None            ENVO:00000115   \n",
       "4                    NA            None       None                     None   \n",
       "...                 ...             ...        ...                      ...   \n",
       "5340      alpine tundra   ENVO:01001505       None            ENVO:01000340   \n",
       "5341  coniferous forest   ENVO:01000196       None            ENVO:00000109   \n",
       "5342  coniferous forest   ENVO:01000196       None            ENVO:00000109   \n",
       "5343              field   ENVO:00000114       None            ENVO:01000352   \n",
       "5344              field   ENVO:00000114       None            ENVO:01000352   \n",
       "\n",
       "     longest_annotation_label                      curie_list  \\\n",
       "0                        None                              []   \n",
       "1                        None                              []   \n",
       "2                        None                              []   \n",
       "3                     orchard                 [ENVO:00000115]   \n",
       "4                        None                              []   \n",
       "...                       ...                             ...   \n",
       "5340                   alpine  [ENVO:01001505, ENVO:01000340]   \n",
       "5341            woodland area  [ENVO:00000109, ENVO:01000196]   \n",
       "5342            woodland area  [ENVO:00000109, ENVO:01000196]   \n",
       "5343                    field  [ENVO:00000114, ENVO:01000352]   \n",
       "5344                    field  [ENVO:00000114, ENVO:01000352]   \n",
       "\n",
       "      unique_curie_count drag_evidence dragless_curie_list  \\\n",
       "0                      0           NaN                  []   \n",
       "1                      0           NaN                  []   \n",
       "2                      0           NaN                  []   \n",
       "3                      1           NaN     [ENVO:00000115]   \n",
       "4                      0           NaN                  []   \n",
       "...                  ...           ...                 ...   \n",
       "5340                   2           NaN     [ENVO:01000340]   \n",
       "5341                   2           NaN     [ENVO:00000109]   \n",
       "5342                   2           NaN     [ENVO:01000196]   \n",
       "5343                   2           NaN     [ENVO:00000114]   \n",
       "5344                   2           NaN     [ENVO:01000352]   \n",
       "\n",
       "      dragless_curie_count  \n",
       "0                        0  \n",
       "1                        0  \n",
       "2                        0  \n",
       "3                        1  \n",
       "4                        0  \n",
       "...                    ...  \n",
       "5340                     2  \n",
       "5341                     2  \n",
       "5342                     2  \n",
       "5343                     2  \n",
       "5344                     2  \n",
       "\n",
       "[5345 rows x 16 columns]"
      ],
      "text/html": [
       "<div>\n",
       "<style scoped>\n",
       "    .dataframe tbody tr th:only-of-type {\n",
       "        vertical-align: middle;\n",
       "    }\n",
       "\n",
       "    .dataframe tbody tr th {\n",
       "        vertical-align: top;\n",
       "    }\n",
       "\n",
       "    .dataframe thead th {\n",
       "        text-align: right;\n",
       "    }\n",
       "</style>\n",
       "<table border=\"1\" class=\"dataframe\">\n",
       "  <thead>\n",
       "    <tr style=\"text-align: right;\">\n",
       "      <th></th>\n",
       "      <th>serial_number</th>\n",
       "      <th>content</th>\n",
       "      <th>count</th>\n",
       "      <th>content_list</th>\n",
       "      <th>content_count</th>\n",
       "      <th>envo_count</th>\n",
       "      <th>extracted_label</th>\n",
       "      <th>extracted_curie</th>\n",
       "      <th>real_label</th>\n",
       "      <th>longest_annotation_curie</th>\n",
       "      <th>longest_annotation_label</th>\n",
       "      <th>curie_list</th>\n",
       "      <th>unique_curie_count</th>\n",
       "      <th>drag_evidence</th>\n",
       "      <th>dragless_curie_list</th>\n",
       "      <th>dragless_curie_count</th>\n",
       "    </tr>\n",
       "  </thead>\n",
       "  <tbody>\n",
       "    <tr>\n",
       "      <th>0</th>\n",
       "      <td>1</td>\n",
       "      <td>not applicable</td>\n",
       "      <td>262</td>\n",
       "      <td>not applicable</td>\n",
       "      <td>1</td>\n",
       "      <td>0</td>\n",
       "      <td>not applicable</td>\n",
       "      <td>None</td>\n",
       "      <td>None</td>\n",
       "      <td>None</td>\n",
       "      <td>None</td>\n",
       "      <td>[]</td>\n",
       "      <td>0</td>\n",
       "      <td>NaN</td>\n",
       "      <td>[]</td>\n",
       "      <td>0</td>\n",
       "    </tr>\n",
       "    <tr>\n",
       "      <th>1</th>\n",
       "      <td>2</td>\n",
       "      <td>missing</td>\n",
       "      <td>199</td>\n",
       "      <td>missing</td>\n",
       "      <td>1</td>\n",
       "      <td>0</td>\n",
       "      <td>missing</td>\n",
       "      <td>None</td>\n",
       "      <td>None</td>\n",
       "      <td>None</td>\n",
       "      <td>None</td>\n",
       "      <td>[]</td>\n",
       "      <td>0</td>\n",
       "      <td>NaN</td>\n",
       "      <td>[]</td>\n",
       "      <td>0</td>\n",
       "    </tr>\n",
       "    <tr>\n",
       "      <th>2</th>\n",
       "      <td>3</td>\n",
       "      <td>not collected</td>\n",
       "      <td>127</td>\n",
       "      <td>not collected</td>\n",
       "      <td>1</td>\n",
       "      <td>0</td>\n",
       "      <td>not collected</td>\n",
       "      <td>None</td>\n",
       "      <td>None</td>\n",
       "      <td>None</td>\n",
       "      <td>None</td>\n",
       "      <td>[]</td>\n",
       "      <td>0</td>\n",
       "      <td>NaN</td>\n",
       "      <td>[]</td>\n",
       "      <td>0</td>\n",
       "    </tr>\n",
       "    <tr>\n",
       "      <th>3</th>\n",
       "      <td>4</td>\n",
       "      <td>Orchard</td>\n",
       "      <td>87</td>\n",
       "      <td>Orchard</td>\n",
       "      <td>1</td>\n",
       "      <td>0</td>\n",
       "      <td>Orchard</td>\n",
       "      <td>None</td>\n",
       "      <td>None</td>\n",
       "      <td>ENVO:00000115</td>\n",
       "      <td>orchard</td>\n",
       "      <td>[ENVO:00000115]</td>\n",
       "      <td>1</td>\n",
       "      <td>NaN</td>\n",
       "      <td>[ENVO:00000115]</td>\n",
       "      <td>1</td>\n",
       "    </tr>\n",
       "    <tr>\n",
       "      <th>4</th>\n",
       "      <td>5</td>\n",
       "      <td>NA</td>\n",
       "      <td>79</td>\n",
       "      <td>NA</td>\n",
       "      <td>1</td>\n",
       "      <td>0</td>\n",
       "      <td>NA</td>\n",
       "      <td>None</td>\n",
       "      <td>None</td>\n",
       "      <td>None</td>\n",
       "      <td>None</td>\n",
       "      <td>[]</td>\n",
       "      <td>0</td>\n",
       "      <td>NaN</td>\n",
       "      <td>[]</td>\n",
       "      <td>0</td>\n",
       "    </tr>\n",
       "    <tr>\n",
       "      <th>...</th>\n",
       "      <td>...</td>\n",
       "      <td>...</td>\n",
       "      <td>...</td>\n",
       "      <td>...</td>\n",
       "      <td>...</td>\n",
       "      <td>...</td>\n",
       "      <td>...</td>\n",
       "      <td>...</td>\n",
       "      <td>...</td>\n",
       "      <td>...</td>\n",
       "      <td>...</td>\n",
       "      <td>...</td>\n",
       "      <td>...</td>\n",
       "      <td>...</td>\n",
       "      <td>...</td>\n",
       "      <td>...</td>\n",
       "    </tr>\n",
       "    <tr>\n",
       "      <th>5340</th>\n",
       "      <td>4613</td>\n",
       "      <td>alpine tundra [ENVO:01001505]</td>\n",
       "      <td>1</td>\n",
       "      <td>alpine tundra [ENVO:01001505]</td>\n",
       "      <td>1</td>\n",
       "      <td>1</td>\n",
       "      <td>alpine tundra</td>\n",
       "      <td>ENVO:01001505</td>\n",
       "      <td>None</td>\n",
       "      <td>ENVO:01000340</td>\n",
       "      <td>alpine</td>\n",
       "      <td>[ENVO:01001505, ENVO:01000340]</td>\n",
       "      <td>2</td>\n",
       "      <td>NaN</td>\n",
       "      <td>[ENVO:01000340]</td>\n",
       "      <td>2</td>\n",
       "    </tr>\n",
       "    <tr>\n",
       "      <th>5341</th>\n",
       "      <td>4618</td>\n",
       "      <td>coniferous forest [ENVO_01000196]</td>\n",
       "      <td>1</td>\n",
       "      <td>coniferous forest [ENVO_01000196]</td>\n",
       "      <td>1</td>\n",
       "      <td>1</td>\n",
       "      <td>coniferous forest</td>\n",
       "      <td>ENVO:01000196</td>\n",
       "      <td>None</td>\n",
       "      <td>ENVO:00000109</td>\n",
       "      <td>woodland area</td>\n",
       "      <td>[ENVO:00000109, ENVO:01000196]</td>\n",
       "      <td>2</td>\n",
       "      <td>NaN</td>\n",
       "      <td>[ENVO:00000109]</td>\n",
       "      <td>2</td>\n",
       "    </tr>\n",
       "    <tr>\n",
       "      <th>5342</th>\n",
       "      <td>4618</td>\n",
       "      <td>coniferous forest [ENVO_01000196]</td>\n",
       "      <td>1</td>\n",
       "      <td>coniferous forest [ENVO_01000196]</td>\n",
       "      <td>1</td>\n",
       "      <td>1</td>\n",
       "      <td>coniferous forest</td>\n",
       "      <td>ENVO:01000196</td>\n",
       "      <td>None</td>\n",
       "      <td>ENVO:00000109</td>\n",
       "      <td>woodland area</td>\n",
       "      <td>[ENVO:00000109, ENVO:01000196]</td>\n",
       "      <td>2</td>\n",
       "      <td>NaN</td>\n",
       "      <td>[ENVO:01000196]</td>\n",
       "      <td>2</td>\n",
       "    </tr>\n",
       "    <tr>\n",
       "      <th>5343</th>\n",
       "      <td>4895</td>\n",
       "      <td>field [ENVO:00000114]</td>\n",
       "      <td>1</td>\n",
       "      <td>field [ENVO:00000114]</td>\n",
       "      <td>1</td>\n",
       "      <td>1</td>\n",
       "      <td>field</td>\n",
       "      <td>ENVO:00000114</td>\n",
       "      <td>None</td>\n",
       "      <td>ENVO:01000352</td>\n",
       "      <td>field</td>\n",
       "      <td>[ENVO:00000114, ENVO:01000352]</td>\n",
       "      <td>2</td>\n",
       "      <td>NaN</td>\n",
       "      <td>[ENVO:00000114]</td>\n",
       "      <td>2</td>\n",
       "    </tr>\n",
       "    <tr>\n",
       "      <th>5344</th>\n",
       "      <td>4895</td>\n",
       "      <td>field [ENVO:00000114]</td>\n",
       "      <td>1</td>\n",
       "      <td>field [ENVO:00000114]</td>\n",
       "      <td>1</td>\n",
       "      <td>1</td>\n",
       "      <td>field</td>\n",
       "      <td>ENVO:00000114</td>\n",
       "      <td>None</td>\n",
       "      <td>ENVO:01000352</td>\n",
       "      <td>field</td>\n",
       "      <td>[ENVO:00000114, ENVO:01000352]</td>\n",
       "      <td>2</td>\n",
       "      <td>NaN</td>\n",
       "      <td>[ENVO:01000352]</td>\n",
       "      <td>2</td>\n",
       "    </tr>\n",
       "  </tbody>\n",
       "</table>\n",
       "<p>5345 rows × 16 columns</p>\n",
       "</div>"
      ]
     },
     "execution_count": 108,
     "metadata": {},
     "output_type": "execute_result"
    }
   ],
   "execution_count": 108
  },
  {
   "cell_type": "code",
   "id": "be53a584475499b5",
   "metadata": {
    "ExecuteTime": {
     "end_time": "2025-01-22T22:34:26.605080Z",
     "start_time": "2025-01-22T22:34:26.599115Z"
    }
   },
   "source": [
    "ncbi_disputes_exploded_frame['post_explode_curie_count'] = ncbi_disputes_exploded_frame['dragless_curie_list'].apply(\n",
    "    len)"
   ],
   "outputs": [],
   "execution_count": 109
  },
  {
   "cell_type": "code",
   "id": "e0c0605a4ca28188",
   "metadata": {
    "ExecuteTime": {
     "end_time": "2025-01-22T22:34:26.684561Z",
     "start_time": "2025-01-22T22:34:26.677256Z"
    }
   },
   "source": [
    "ncbi_disputes_exploded_frame['post_explode_curie_count'].value_counts()"
   ],
   "outputs": [
    {
     "data": {
      "text/plain": [
       "post_explode_curie_count\n",
       "1    2826\n",
       "0    2519\n",
       "Name: count, dtype: int64"
      ]
     },
     "execution_count": 110,
     "metadata": {},
     "output_type": "execute_result"
    }
   ],
   "execution_count": 110
  },
  {
   "cell_type": "code",
   "id": "396e48f3cea80587",
   "metadata": {
    "ExecuteTime": {
     "end_time": "2025-01-22T22:34:26.814046Z",
     "start_time": "2025-01-22T22:34:26.807198Z"
    }
   },
   "source": [
    "# Set 'post_explode_curie' to the 0th item in 'dragless_curie_list'\n",
    "ncbi_disputes_exploded_frame[\"post_explode_curie\"] = ncbi_disputes_exploded_frame[\"dragless_curie_list\"].apply(\n",
    "    lambda x: x[0] if isinstance(x, list) and len(x) > 0 else None\n",
    ")"
   ],
   "outputs": [],
   "execution_count": 111
  },
  {
   "cell_type": "code",
   "id": "1e488764b4212b75",
   "metadata": {
    "ExecuteTime": {
     "end_time": "2025-01-22T22:34:26.908299Z",
     "start_time": "2025-01-22T22:34:26.901253Z"
    }
   },
   "source": [
    "\n",
    "ncbi_biosample_scoped_counts = (\n",
    "    ncbi_disputes_exploded_frame.groupby(\"post_explode_curie\")[\"count\"].sum().reset_index()\n",
    ")\n",
    "\n",
    "# todo parameterize the column name based on what was really counted, generally biosamples or bioprojects\n",
    "ncbi_biosample_scoped_counts.columns = ['curie', 'ncbi_bioprojects_count']"
   ],
   "outputs": [],
   "execution_count": 112
  },
  {
   "metadata": {},
   "cell_type": "markdown",
   "source": "This is currently a count of Biosamples for which the indicated CURIes can be extracted or inferred by oaklib annotation, after removal of drag-stretch, auto-incremented CURIes",
   "id": "de29981308f4d74c"
  },
  {
   "cell_type": "code",
   "id": "916cfcc3c7aa0d34",
   "metadata": {
    "ExecuteTime": {
     "end_time": "2025-01-22T22:34:27.025926Z",
     "start_time": "2025-01-22T22:34:27.018268Z"
    }
   },
   "source": [
    "ncbi_biosample_scoped_counts"
   ],
   "outputs": [
    {
     "data": {
      "text/plain": [
       "              curie  ncbi_bioprojects_count\n",
       "0       BFO:0000015                       4\n",
       "1       BFO:0000020                       1\n",
       "2       BFO:0000029                       6\n",
       "3       CHEBI:15377                      32\n",
       "4       CHEBI:22695                      15\n",
       "..              ...                     ...\n",
       "560  UBERON:0000965                       1\n",
       "561  UBERON:0001913                       1\n",
       "562  UBERON:0001988                       1\n",
       "563  UBERON:0002100                       5\n",
       "564  UBERON:0002416                      12\n",
       "\n",
       "[565 rows x 2 columns]"
      ],
      "text/html": [
       "<div>\n",
       "<style scoped>\n",
       "    .dataframe tbody tr th:only-of-type {\n",
       "        vertical-align: middle;\n",
       "    }\n",
       "\n",
       "    .dataframe tbody tr th {\n",
       "        vertical-align: top;\n",
       "    }\n",
       "\n",
       "    .dataframe thead th {\n",
       "        text-align: right;\n",
       "    }\n",
       "</style>\n",
       "<table border=\"1\" class=\"dataframe\">\n",
       "  <thead>\n",
       "    <tr style=\"text-align: right;\">\n",
       "      <th></th>\n",
       "      <th>curie</th>\n",
       "      <th>ncbi_bioprojects_count</th>\n",
       "    </tr>\n",
       "  </thead>\n",
       "  <tbody>\n",
       "    <tr>\n",
       "      <th>0</th>\n",
       "      <td>BFO:0000015</td>\n",
       "      <td>4</td>\n",
       "    </tr>\n",
       "    <tr>\n",
       "      <th>1</th>\n",
       "      <td>BFO:0000020</td>\n",
       "      <td>1</td>\n",
       "    </tr>\n",
       "    <tr>\n",
       "      <th>2</th>\n",
       "      <td>BFO:0000029</td>\n",
       "      <td>6</td>\n",
       "    </tr>\n",
       "    <tr>\n",
       "      <th>3</th>\n",
       "      <td>CHEBI:15377</td>\n",
       "      <td>32</td>\n",
       "    </tr>\n",
       "    <tr>\n",
       "      <th>4</th>\n",
       "      <td>CHEBI:22695</td>\n",
       "      <td>15</td>\n",
       "    </tr>\n",
       "    <tr>\n",
       "      <th>...</th>\n",
       "      <td>...</td>\n",
       "      <td>...</td>\n",
       "    </tr>\n",
       "    <tr>\n",
       "      <th>560</th>\n",
       "      <td>UBERON:0000965</td>\n",
       "      <td>1</td>\n",
       "    </tr>\n",
       "    <tr>\n",
       "      <th>561</th>\n",
       "      <td>UBERON:0001913</td>\n",
       "      <td>1</td>\n",
       "    </tr>\n",
       "    <tr>\n",
       "      <th>562</th>\n",
       "      <td>UBERON:0001988</td>\n",
       "      <td>1</td>\n",
       "    </tr>\n",
       "    <tr>\n",
       "      <th>563</th>\n",
       "      <td>UBERON:0002100</td>\n",
       "      <td>5</td>\n",
       "    </tr>\n",
       "    <tr>\n",
       "      <th>564</th>\n",
       "      <td>UBERON:0002416</td>\n",
       "      <td>12</td>\n",
       "    </tr>\n",
       "  </tbody>\n",
       "</table>\n",
       "<p>565 rows × 2 columns</p>\n",
       "</div>"
      ]
     },
     "execution_count": 113,
     "metadata": {},
     "output_type": "execute_result"
    }
   ],
   "execution_count": 113
  },
  {
   "metadata": {},
   "cell_type": "markdown",
   "source": [
    "## GOLDTERMS mappings only approach\n",
    "\n",
    "we're currently including\n",
    "- mappings only\n",
    "\n",
    "and have retired the previous use of\n",
    "- mappings in hybrid with biosample counts\n",
    "\n",
    "And we're casting a wide net, especially for the hybrid approach\n",
    "- searching for 'soil', 'sediment' etc. in GOLDTERMS labels without anchoring them like 'Environmental > Aquatic > Sediment'\n",
    "- retrieving the CURIes for env_broad_scale, env_local_scale and env_medium for all voting sheets, and trusting orthogonal filtering to remove the inappropriate CURIes\n",
    "\n",
    "Should we now add (or switch to) direct biosample counts of GOLD \"envo\" annotations?\n",
    "\n",
    "Efficient retrieval of  all GOLD data in a given scope isn't easy"
   ],
   "id": "54ef0d1be4a1dea9"
  },
  {
   "metadata": {
    "ExecuteTime": {
     "end_time": "2025-01-22T22:34:27.190062Z",
     "start_time": "2025-01-22T22:34:27.185260Z"
    }
   },
   "cell_type": "code",
   "source": [
    "# Determine the filenames and target directory\n",
    "goldterms_compressed_filename = urlparse(goldterms_semsql_url).path.split('/')[-1]\n",
    "goldterms_filename = os.path.splitext(goldterms_compressed_filename)[0]\n",
    "target_dir = os.path.join(\"..\", \"..\")  # Two levels up\n",
    "\n",
    "# Print to confirm the filenames\n",
    "print(goldterms_filename)"
   ],
   "id": "40f8fc6862a817f3",
   "outputs": [
    {
     "name": "stdout",
     "output_type": "stream",
     "text": [
      "goldterms.db\n"
     ]
    }
   ],
   "execution_count": 114
  },
  {
   "metadata": {
    "ExecuteTime": {
     "end_time": "2025-01-22T22:34:27.779702Z",
     "start_time": "2025-01-22T22:34:27.261284Z"
    }
   },
   "cell_type": "code",
   "source": [
    "# Fetch the contents from the URL and save compressed file in target directory\n",
    "goldterms_response = requests.get(goldterms_semsql_url)\n",
    "goldterms_compressed_file_path = os.path.join(target_dir, goldterms_compressed_filename)\n",
    "with open(goldterms_compressed_file_path, \"wb\") as f:\n",
    "    f.write(goldterms_response.content)\n",
    "\n",
    "# ~ 1 second"
   ],
   "id": "784c07d7b6bee4c2",
   "outputs": [],
   "execution_count": 115
  },
  {
   "metadata": {
    "ExecuteTime": {
     "end_time": "2025-01-22T22:34:27.905307Z",
     "start_time": "2025-01-22T22:34:27.826608Z"
    }
   },
   "cell_type": "code",
   "source": [
    "# Unzip the compressed file and save the extracted file in target directory\n",
    "goldterms_uncompressed_file_path = os.path.join(target_dir, goldterms_filename)\n",
    "with gzip.open(goldterms_compressed_file_path, \"rb\") as f_in:\n",
    "    with open(goldterms_uncompressed_file_path, \"wb\") as f_out:\n",
    "        shutil.copyfileobj(f_in, f_out)\n",
    "\n",
    "# ~ 1 second"
   ],
   "id": "cd765130d59cd026",
   "outputs": [],
   "execution_count": 116
  },
  {
   "metadata": {
    "ExecuteTime": {
     "end_time": "2025-01-22T22:34:27.926580Z",
     "start_time": "2025-01-22T22:34:27.923940Z"
    }
   },
   "cell_type": "code",
   "source": "## that's all fast. don't bother caching",
   "id": "fd2fab3ddcf862ce",
   "outputs": [],
   "execution_count": 117
  },
  {
   "metadata": {
    "ExecuteTime": {
     "end_time": "2025-01-22T22:34:33.284240Z",
     "start_time": "2025-01-22T22:34:33.281280Z"
    }
   },
   "cell_type": "code",
   "source": "goldterms_conn = sqlite3.connect(goldterms_uncompressed_file_path)",
   "id": "dcf847a3c2ed302d",
   "outputs": [],
   "execution_count": 118
  },
  {
   "metadata": {
    "ExecuteTime": {
     "end_time": "2025-01-22T22:34:38.810447Z",
     "start_time": "2025-01-22T22:34:38.801442Z"
    }
   },
   "cell_type": "code",
   "source": "goldterms_result = pd.read_sql_query(extension_query, goldterms_conn)",
   "id": "beacc603e5db48b3",
   "outputs": [],
   "execution_count": 119
  },
  {
   "metadata": {
    "ExecuteTime": {
     "end_time": "2025-01-22T22:34:45.207018Z",
     "start_time": "2025-01-22T22:34:45.198263Z"
    }
   },
   "cell_type": "code",
   "source": "goldterms_result",
   "id": "85e373122e14f6dc",
   "outputs": [
    {
     "data": {
      "text/plain": [
       "                                               subject            predicate  \\\n",
       "0    GOLDTERMS:Engineered-Artificial-ecosystem-Plan...       mixs:env_broad   \n",
       "1    GOLDTERMS:Engineered-Artificial-ecosystem-Plan...  mixs:mixs_extension   \n",
       "2    GOLDTERMS:Engineered-Artificial-ecosystem-Plan...           mixs:other   \n",
       "3    GOLDTERMS:Engineered-Artificial-ecosystem-Plan...           rdfs:label   \n",
       "4    GOLDTERMS:Engineered-Artificial-ecosystem-Plan...       mixs:env_broad   \n",
       "..                                                 ...                  ...   \n",
       "286                                GOLDVOCAB:Plant-pot           rdfs:label   \n",
       "287                                   GOLDVOCAB:Plants           rdfs:label   \n",
       "288                   GOLDVOCAB:Sewage-treatment-plant           rdfs:label   \n",
       "289                   GOLDVOCAB:Soil-_28non-planted_29           rdfs:label   \n",
       "290                    GOLDVOCAB:Water-treatment-plant           rdfs:label   \n",
       "\n",
       "                                               content  \n",
       "0                                        ENVO:01000313  \n",
       "1     mixs:MiscellaneousNaturalOrArtificialEnvironment  \n",
       "2                                        ENVO:00010622  \n",
       "3    Engineered > Artificial ecosystem > Plant grow...  \n",
       "4                                        ENVO:01000313  \n",
       "..                                                 ...  \n",
       "286                                          Plant pot  \n",
       "287                                             Plants  \n",
       "288                             Sewage treatment plant  \n",
       "289                                 Soil (non-planted)  \n",
       "290                              Water treatment plant  \n",
       "\n",
       "[291 rows x 3 columns]"
      ],
      "text/html": [
       "<div>\n",
       "<style scoped>\n",
       "    .dataframe tbody tr th:only-of-type {\n",
       "        vertical-align: middle;\n",
       "    }\n",
       "\n",
       "    .dataframe tbody tr th {\n",
       "        vertical-align: top;\n",
       "    }\n",
       "\n",
       "    .dataframe thead th {\n",
       "        text-align: right;\n",
       "    }\n",
       "</style>\n",
       "<table border=\"1\" class=\"dataframe\">\n",
       "  <thead>\n",
       "    <tr style=\"text-align: right;\">\n",
       "      <th></th>\n",
       "      <th>subject</th>\n",
       "      <th>predicate</th>\n",
       "      <th>content</th>\n",
       "    </tr>\n",
       "  </thead>\n",
       "  <tbody>\n",
       "    <tr>\n",
       "      <th>0</th>\n",
       "      <td>GOLDTERMS:Engineered-Artificial-ecosystem-Plan...</td>\n",
       "      <td>mixs:env_broad</td>\n",
       "      <td>ENVO:01000313</td>\n",
       "    </tr>\n",
       "    <tr>\n",
       "      <th>1</th>\n",
       "      <td>GOLDTERMS:Engineered-Artificial-ecosystem-Plan...</td>\n",
       "      <td>mixs:mixs_extension</td>\n",
       "      <td>mixs:MiscellaneousNaturalOrArtificialEnvironment</td>\n",
       "    </tr>\n",
       "    <tr>\n",
       "      <th>2</th>\n",
       "      <td>GOLDTERMS:Engineered-Artificial-ecosystem-Plan...</td>\n",
       "      <td>mixs:other</td>\n",
       "      <td>ENVO:00010622</td>\n",
       "    </tr>\n",
       "    <tr>\n",
       "      <th>3</th>\n",
       "      <td>GOLDTERMS:Engineered-Artificial-ecosystem-Plan...</td>\n",
       "      <td>rdfs:label</td>\n",
       "      <td>Engineered &gt; Artificial ecosystem &gt; Plant grow...</td>\n",
       "    </tr>\n",
       "    <tr>\n",
       "      <th>4</th>\n",
       "      <td>GOLDTERMS:Engineered-Artificial-ecosystem-Plan...</td>\n",
       "      <td>mixs:env_broad</td>\n",
       "      <td>ENVO:01000313</td>\n",
       "    </tr>\n",
       "    <tr>\n",
       "      <th>...</th>\n",
       "      <td>...</td>\n",
       "      <td>...</td>\n",
       "      <td>...</td>\n",
       "    </tr>\n",
       "    <tr>\n",
       "      <th>286</th>\n",
       "      <td>GOLDVOCAB:Plant-pot</td>\n",
       "      <td>rdfs:label</td>\n",
       "      <td>Plant pot</td>\n",
       "    </tr>\n",
       "    <tr>\n",
       "      <th>287</th>\n",
       "      <td>GOLDVOCAB:Plants</td>\n",
       "      <td>rdfs:label</td>\n",
       "      <td>Plants</td>\n",
       "    </tr>\n",
       "    <tr>\n",
       "      <th>288</th>\n",
       "      <td>GOLDVOCAB:Sewage-treatment-plant</td>\n",
       "      <td>rdfs:label</td>\n",
       "      <td>Sewage treatment plant</td>\n",
       "    </tr>\n",
       "    <tr>\n",
       "      <th>289</th>\n",
       "      <td>GOLDVOCAB:Soil-_28non-planted_29</td>\n",
       "      <td>rdfs:label</td>\n",
       "      <td>Soil (non-planted)</td>\n",
       "    </tr>\n",
       "    <tr>\n",
       "      <th>290</th>\n",
       "      <td>GOLDVOCAB:Water-treatment-plant</td>\n",
       "      <td>rdfs:label</td>\n",
       "      <td>Water treatment plant</td>\n",
       "    </tr>\n",
       "  </tbody>\n",
       "</table>\n",
       "<p>291 rows × 3 columns</p>\n",
       "</div>"
      ]
     },
     "execution_count": 120,
     "metadata": {},
     "output_type": "execute_result"
    }
   ],
   "execution_count": 120
  },
  {
   "metadata": {
    "ExecuteTime": {
     "end_time": "2025-01-22T22:34:50.957876Z",
     "start_time": "2025-01-22T22:34:50.955387Z"
    }
   },
   "cell_type": "code",
   "source": [
    "# # todo: save this kind of content before subsetting on an environment\n",
    "# #   the subsetting is currently baked into the query\n",
    "# \n",
    "# # see also goldterms_queries.ipynb in MAM's Collab\n",
    "# goldterms_result.to_csv(\"goldterms_single_environment_mappings_long.tsv\", sep=\"\\t\", index=False)"
   ],
   "id": "859a87109b08d83c",
   "outputs": [],
   "execution_count": 121
  },
  {
   "metadata": {
    "ExecuteTime": {
     "end_time": "2025-01-22T22:34:51.037279Z",
     "start_time": "2025-01-22T22:34:51.031958Z"
    }
   },
   "cell_type": "code",
   "source": "goldterms_only_curies = goldterms_result.loc[goldterms_result['predicate'].isin(gold_context_selectors), 'content']\n",
   "id": "391d1fb9314d4b0b",
   "outputs": [],
   "execution_count": 122
  },
  {
   "metadata": {
    "ExecuteTime": {
     "end_time": "2025-01-22T22:34:51.135927Z",
     "start_time": "2025-01-22T22:34:51.132411Z"
    }
   },
   "cell_type": "code",
   "source": "goldterms_only_curies = goldterms_only_curies.unique().tolist()",
   "id": "b5621477ccaaa761",
   "outputs": [],
   "execution_count": 123
  },
  {
   "metadata": {
    "ExecuteTime": {
     "end_time": "2025-01-22T22:34:56.305751Z",
     "start_time": "2025-01-22T22:34:56.302525Z"
    }
   },
   "cell_type": "code",
   "source": "# goldterms_only_curies",
   "id": "70238d1c8e144cc3",
   "outputs": [],
   "execution_count": 124
  },
  {
   "metadata": {},
   "cell_type": "markdown",
   "source": [
    "# Make lists of CURIEs\n",
    "which will determine\n",
    "- the rows in the table\n",
    "- the boolean filter columns"
   ],
   "id": "8541580a525201e3"
  },
  {
   "metadata": {},
   "cell_type": "markdown",
   "source": "this next block got a lot slower when I switched from the envo adapter to the aggregated adapter",
   "id": "5d62d7ef3088dfef"
  },
  {
   "metadata": {
    "ExecuteTime": {
     "end_time": "2025-01-22T22:35:01.571938Z",
     "start_time": "2025-01-22T22:35:01.568352Z"
    }
   },
   "cell_type": "code",
   "source": "anchor_curies = list(anchor_descendants_frame['curie'])\n",
   "id": "e9d884b388a37e32",
   "outputs": [],
   "execution_count": 125
  },
  {
   "metadata": {
    "ExecuteTime": {
     "end_time": "2025-01-22T22:35:12.512557Z",
     "start_time": "2025-01-22T22:35:12.509440Z"
    }
   },
   "cell_type": "code",
   "source": "legacy_pv_curies = [i['curie'] for i in pv_validation_results['valids']]",
   "id": "14ebd4371eb0e8ec",
   "outputs": [],
   "execution_count": 126
  },
  {
   "metadata": {
    "ExecuteTime": {
     "end_time": "2025-01-22T22:35:17.713127Z",
     "start_time": "2025-01-22T22:35:17.700006Z"
    }
   },
   "cell_type": "code",
   "source": [
    "obsoletes_curies_envo = set(envo_adapter.obsoletes())\n",
    "obsoletes_curies_po = set(po_adapter.obsoletes())\n",
    "obsoletes_curies = list(obsoletes_curies_envo.union(obsoletes_curies_po))"
   ],
   "id": "71f56d6964717f8e",
   "outputs": [],
   "execution_count": 127
  },
  {
   "metadata": {
    "ExecuteTime": {
     "end_time": "2025-01-22T22:35:18.279782Z",
     "start_time": "2025-01-22T22:35:17.744403Z"
    }
   },
   "cell_type": "code",
   "source": [
    "abp_curies = list(envo_adapter.descendants(ABP, predicates=[IS_A]))\n",
    "aquatic_biome_curies = list(envo_adapter.descendants(AQUATIC_BIOME, predicates=[IS_A]))\n",
    "biome_curies = list(envo_adapter.descendants(BIOME, predicates=[IS_A]))  # \n",
    "building_curies = list(envo_adapter.descendants(BUILDING, predicates=[IS_A]))  #\n",
    "building_part_curies = list(envo_adapter.descendants(BUILDING_PART, predicates=[IS_A]))  #\n",
    "env_mat_curies = list(envo_adapter.descendants(ENVIRONMENTAL_MATERIAL, predicates=[IS_A]))\n",
    "env_sys_curies = list(envo_adapter.descendants(ENVIRONMENTAL_SYSTEM, predicates=[IS_A]))\n",
    "env_sys_curies = list(envo_adapter.descendants(ENVIRONMENTAL_SYSTEM, predicates=[IS_A]))\n",
    "human_construction_curies = list(envo_adapter.descendants(HUMAN_CONSTRUCTION, predicates=[IS_A]))  #\n",
    "liquid_water_curies = list(envo_adapter.descendants(LIQUID_WATER, predicates=[IS_A]))  # \n",
    "marine_biome_curies = list(envo_adapter.descendants(MARINE_BIOME, predicates=[IS_A]))\n",
    "vegetation_layer_curies = list(envo_adapter.descendants(VEGETATION_LAYER, predicates=[IS_A]))  #\n",
    "mass_of_environmental_material_curies = list(envo_adapter.descendants(MASS_OF_ENVIRONMENTAL_MATERIAL, predicates=[IS_A]))  #\n",
    "plant_structure_curies = list(po_adapter.descendants(PLANT_STRUCTURE, predicates=[IS_A]))\n",
    "snow_curies = list(envo_adapter.descendants(SNOW, predicates=[IS_A]))  #\n",
    "soil_curies = list(envo_adapter.descendants(SOIL, predicates=[IS_A]))  #\n",
    "terrestrial_biome_curies = list(envo_adapter.descendants(TERRESTRIAL_BIOME, predicates=[IS_A]))\n",
    "water_ice_curies = list(envo_adapter.descendants(WATER_ICE, predicates=[IS_A]))  #\n"
   ],
   "id": "beb69545a9255099",
   "outputs": [],
   "execution_count": 128
  },
  {
   "metadata": {
    "ExecuteTime": {
     "end_time": "2025-01-22T22:35:23.544384Z",
     "start_time": "2025-01-22T22:35:23.537300Z"
    }
   },
   "cell_type": "code",
   "source": [
    "# Specify an output file name\n",
    "nlcd2011_class_iris_file = \"nlcd2011_class_iris.txt\"\n",
    "\n",
    "nlcd_subset_textual_representation = \"nlcd2011\"\n",
    "\n",
    "in_subset_curie = \"oio:inSubset\"\n",
    "\n",
    "# Initialize nlcd_classes\n",
    "nlcd_classes = []\n",
    "\n",
    "if os.path.exists(nlcd2011_class_iris_file):\n",
    "    # Load the list from the file if it exists\n",
    "    print(f\"Loading {nlcd_subset_textual_representation} classes from {nlcd2011_class_iris_file}...\")\n",
    "    with open(nlcd2011_class_iris_file, \"r\") as file:\n",
    "        nlcd_classes = [line.strip() for line in file.readlines()]\n",
    "else:\n",
    "    # File doesn't exist; generate the list using the loop\n",
    "    print(\n",
    "        f\"{nlcd2011_class_iris_file} not found. Identifying classes in {nlcd_subset_textual_representation} subset (~2 minutes)...\")\n",
    "\n",
    "    # Retrieve all classes\n",
    "    entities = envo_adapter.entities()\n",
    "\n",
    "    # super slow 2 minutes\n",
    "    # but retrieving classes by named subset seems to crash on EnvO with its textual subsets?\n",
    "    for entity in entities:\n",
    "        term_metadata = envo_adapter.entity_metadata_map(entity)\n",
    "        if in_subset_curie in term_metadata:\n",
    "            subsets = term_metadata[in_subset_curie]\n",
    "            if nlcd_subset_textual_representation in subsets:\n",
    "                nlcd_classes.append(entity)\n",
    "\n",
    "    # Save the generated list to the file\n",
    "    with open(nlcd2011_class_iris_file, \"w\") as file:\n",
    "        for string in nlcd_classes:\n",
    "            file.write(string + \"\\n\")\n",
    "\n",
    "    print(f\"List saved to {nlcd2011_class_iris_file}\")\n",
    "\n",
    "# At this point, nlcd_classes contains the desired list\n",
    "print(f\"Total {nlcd_subset_textual_representation} classes loaded: {len(nlcd_classes)}\")\n"
   ],
   "id": "f863c6e4a8e77c74",
   "outputs": [
    {
     "name": "stdout",
     "output_type": "stream",
     "text": [
      "Loading nlcd2011 classes from nlcd2011_class_iris.txt...\n",
      "Total nlcd2011 classes loaded: 22\n"
     ]
    }
   ],
   "execution_count": 129
  },
  {
   "metadata": {},
   "cell_type": "markdown",
   "source": "## Bootstrap the rows",
   "id": "1318a3f163d8cb19"
  },
  {
   "metadata": {
    "ExecuteTime": {
     "end_time": "2025-01-22T22:35:29.966946Z",
     "start_time": "2025-01-22T22:35:29.964106Z"
    }
   },
   "cell_type": "code",
   "source": "include_in_rows = set()",
   "id": "20a9dcc52b995762",
   "outputs": [],
   "execution_count": 130
  },
  {
   "metadata": {
    "ExecuteTime": {
     "end_time": "2025-01-22T22:35:41.178058Z",
     "start_time": "2025-01-22T22:35:41.172526Z"
    }
   },
   "cell_type": "code",
   "source": [
    "include_in_rows.update(anchor_curies)\n",
    "include_in_rows.update(goldterms_only_curies)\n",
    "include_in_rows.update(legacy_pv_curies)\n",
    "include_in_rows.update(ncbi_frame['extracted_curie'])\n",
    "include_in_rows.update(ncbi_frame['longest_annotation_curie'])\n",
    "include_in_rows.update(nlcd_classes)\n",
    "include_in_rows.update(nmdc_biosample_contexts_frame[nmdc_context_selector])"
   ],
   "id": "264ce97c82c656c4",
   "outputs": [],
   "execution_count": 131
  },
  {
   "metadata": {
    "ExecuteTime": {
     "end_time": "2025-01-22T22:35:46.756278Z",
     "start_time": "2025-01-22T22:35:46.753376Z"
    }
   },
   "cell_type": "code",
   "source": "rows_lod = []",
   "id": "f7a6fb9413f45298",
   "outputs": [],
   "execution_count": 132
  },
  {
   "metadata": {},
   "cell_type": "markdown",
   "source": "# Voting sheet rows and boolean columns",
   "id": "d0c9c7c730c8308a"
  },
  {
   "metadata": {
    "ExecuteTime": {
     "end_time": "2025-01-22T22:35:54.048254Z",
     "start_time": "2025-01-22T22:35:52.965183Z"
    }
   },
   "cell_type": "code",
   "source": [
    "for curie in include_in_rows:\n",
    "    if curie is None:\n",
    "        continue\n",
    "\n",
    "    # ONCE AGAIN, assuming that EnvO is the only ontology we'll check against\n",
    "    current_ancestors = [\n",
    "        list(ancestor.keys())[0] for ancestor in envo_ancs_cache.get(curie, [])\n",
    "    ]\n",
    "    ancestors_in_enum_count = len(set(current_ancestors) & set(legacy_pv_curies))\n",
    "\n",
    "    current_descendants = [\n",
    "        list(descendant.keys())[0] for descendant in envo_descs_cache.get(curie, [])\n",
    "    ]\n",
    "    descendants_in_enum_count = len(set(current_descendants) & set(legacy_pv_curies))\n",
    "\n",
    "    row = {\n",
    "        'curie': curie,\n",
    "        'claimed_prefix': curie.split(':')[0],\n",
    "        'label': aggregated_text_annotator_interface.label(curie),\n",
    "        'envo_native': False,\n",
    "        'obsolete': False,\n",
    "        comparison_enum_column_name: False,\n",
    "        'ancestors_in_enum_count': ancestors_in_enum_count,\n",
    "        'descendants_in_enum_count': descendants_in_enum_count,\n",
    "        'nlcd_class': False,\n",
    "        'abp': False,\n",
    "        'env_sys': False,\n",
    "        'biome': False,\n",
    "        'terrestrial_biome': False,\n",
    "        'aquatic_biome': False,\n",
    "        'marine_biome': False,\n",
    "        'env_mat': False,\n",
    "        'soil': False,\n",
    "        'liquid water': False,\n",
    "        'water ice': False,\n",
    "        'snow': False,\n",
    "        'mass_of_environmental_material': False,\n",
    "        'human_construction': False,\n",
    "        'building': False,\n",
    "        'building_part': False,\n",
    "        'plant_structure': False,\n",
    "        'vegetation_layer': False,\n",
    "        'goldterms_mappings': False,\n",
    "    }\n",
    "\n",
    "    if curie in abp_curies: row['abp'] = True\n",
    "    if curie in aquatic_biome_curies: row['aquatic_biome'] = True\n",
    "    if curie in biome_curies: row['biome'] = True\n",
    "    if curie in building_curies: row['building'] = True\n",
    "    if curie in building_part_curies: row['building_part'] = True\n",
    "    if curie in env_mat_curies: row['env_mat'] = True\n",
    "    if curie in env_sys_curies: row['env_sys'] = True\n",
    "    if curie in goldterms_only_curies: row['goldterms_mappings'] = True\n",
    "    if curie in human_construction_curies: row['human_construction'] = True\n",
    "    if curie in legacy_pv_curies: row[comparison_enum_column_name] = True\n",
    "    if curie in liquid_water_curies: row['liquid water'] = True\n",
    "    if curie in marine_biome_curies: row['marine_biome'] = True\n",
    "    if curie in mass_of_environmental_material_curies: row['mass_of_environmental_material'] = True\n",
    "    if curie in nlcd_classes: row['nlcd_class'] = True\n",
    "    if curie in obsoletes_curies: row['obsolete'] = True\n",
    "    if curie in plant_structure_curies: row['plant_structure'] = True\n",
    "    if curie in snow_curies: row['snow'] = True\n",
    "    if curie in soil_curies: row['soil'] = True\n",
    "    if curie in terrestrial_biome_curies: row['terrestrial_biome'] = True\n",
    "    if curie in vegetation_layer_curies: row['vegetation_layer'] = True\n",
    "    if curie in water_ice_curies: row['water ice'] = True\n",
    "\n",
    "    try:\n",
    "        prefix, local_id = curie.split(':')\n",
    "        if prefix and prefix == 'ENVO' and row['label'] is not None:\n",
    "            row['envo_native'] = True\n",
    "    except Exception as e:\n",
    "        # Print the exception message\n",
    "        print(f\"An error occurred: {e} trying to split {curie}\")\n",
    "\n",
    "    rows_lod.append(row)\n",
    "\n",
    "# 2 minutes\n"
   ],
   "id": "32f278db05c57616",
   "outputs": [],
   "execution_count": 133
  },
  {
   "metadata": {},
   "cell_type": "markdown",
   "source": "# ^ Voting sheet rows and boolean columns",
   "id": "f77fce51b7fd116d"
  },
  {
   "metadata": {
    "ExecuteTime": {
     "end_time": "2025-01-22T22:35:59.696977Z",
     "start_time": "2025-01-22T22:35:59.684288Z"
    }
   },
   "cell_type": "code",
   "source": "rows_frame = pd.DataFrame(rows_lod)",
   "id": "26bb62d21192288f",
   "outputs": [],
   "execution_count": 134
  },
  {
   "metadata": {
    "ExecuteTime": {
     "end_time": "2025-01-22T22:36:05.287538Z",
     "start_time": "2025-01-22T22:36:05.269372Z"
    }
   },
   "cell_type": "code",
   "source": "rows_frame",
   "id": "4db3ebadb8a07a50",
   "outputs": [
    {
     "data": {
      "text/plain": [
       "              curie claimed_prefix  \\\n",
       "0     ENVO:03000089           ENVO   \n",
       "1     ENVO:01001797           ENVO   \n",
       "2     ENVO:01001810           ENVO   \n",
       "3     ENVO:01000299           ENVO   \n",
       "4     ENVO:01000467           ENVO   \n",
       "...             ...            ...   \n",
       "2078  ENVO:03501295           ENVO   \n",
       "2079  ENVO:01000150           ENVO   \n",
       "2080  ENVO:01000437           ENVO   \n",
       "2081  ENVO:01000736           ENVO   \n",
       "2082  ENVO:01001457           ENVO   \n",
       "\n",
       "                                                  label  envo_native  \\\n",
       "0     permafrost crater derived from a methane explo...         True   \n",
       "1                                 tropical mixed forest         True   \n",
       "2                               mediterranean grassland         True   \n",
       "3                                         Taylor column         True   \n",
       "4                                   constructed barrier         True   \n",
       "...                                                 ...          ...   \n",
       "2078                                   processing plant         True   \n",
       "2079                         marine subtidal rocky reef         True   \n",
       "2080                                         lava field         True   \n",
       "2081                                          phacolith         True   \n",
       "2082                                       cloud forest         True   \n",
       "\n",
       "      obsolete  EnvLocalScaleSoilEnum_11_1  ancestors_in_enum_count  \\\n",
       "0        False                       False                        2   \n",
       "1        False                       False                        0   \n",
       "2        False                       False                        0   \n",
       "3        False                       False                        0   \n",
       "4        False                       False                        0   \n",
       "...        ...                         ...                      ...   \n",
       "2078     False                       False                        0   \n",
       "2079     False                       False                        0   \n",
       "2080     False                       False                        0   \n",
       "2081     False                       False                        0   \n",
       "2082     False                       False                        0   \n",
       "\n",
       "      descendants_in_enum_count  nlcd_class   abp  ...  liquid water  \\\n",
       "0                             0       False  True  ...         False   \n",
       "1                             0       False  True  ...         False   \n",
       "2                             0       False  True  ...         False   \n",
       "3                             0       False  True  ...         False   \n",
       "4                             1       False  True  ...         False   \n",
       "...                         ...         ...   ...  ...           ...   \n",
       "2078                          0       False  True  ...         False   \n",
       "2079                          0       False  True  ...         False   \n",
       "2080                          0       False  True  ...         False   \n",
       "2081                          0       False  True  ...         False   \n",
       "2082                          0       False  True  ...         False   \n",
       "\n",
       "      water ice   snow  mass_of_environmental_material  human_construction  \\\n",
       "0         False  False                           False               False   \n",
       "1         False  False                           False               False   \n",
       "2         False  False                           False               False   \n",
       "3         False  False                           False               False   \n",
       "4         False  False                           False                True   \n",
       "...         ...    ...                             ...                 ...   \n",
       "2078      False  False                           False                True   \n",
       "2079      False  False                           False               False   \n",
       "2080      False  False                           False               False   \n",
       "2081      False  False                           False               False   \n",
       "2082      False  False                           False               False   \n",
       "\n",
       "      building  building_part  plant_structure  vegetation_layer  \\\n",
       "0        False          False            False             False   \n",
       "1        False          False            False             False   \n",
       "2        False          False            False             False   \n",
       "3        False          False            False             False   \n",
       "4        False          False            False             False   \n",
       "...        ...            ...              ...               ...   \n",
       "2078      True          False            False             False   \n",
       "2079     False          False            False             False   \n",
       "2080     False          False            False             False   \n",
       "2081     False          False            False             False   \n",
       "2082     False          False            False             False   \n",
       "\n",
       "      goldterms_mappings  \n",
       "0                  False  \n",
       "1                  False  \n",
       "2                  False  \n",
       "3                  False  \n",
       "4                  False  \n",
       "...                  ...  \n",
       "2078               False  \n",
       "2079               False  \n",
       "2080               False  \n",
       "2081               False  \n",
       "2082               False  \n",
       "\n",
       "[2083 rows x 27 columns]"
      ],
      "text/html": [
       "<div>\n",
       "<style scoped>\n",
       "    .dataframe tbody tr th:only-of-type {\n",
       "        vertical-align: middle;\n",
       "    }\n",
       "\n",
       "    .dataframe tbody tr th {\n",
       "        vertical-align: top;\n",
       "    }\n",
       "\n",
       "    .dataframe thead th {\n",
       "        text-align: right;\n",
       "    }\n",
       "</style>\n",
       "<table border=\"1\" class=\"dataframe\">\n",
       "  <thead>\n",
       "    <tr style=\"text-align: right;\">\n",
       "      <th></th>\n",
       "      <th>curie</th>\n",
       "      <th>claimed_prefix</th>\n",
       "      <th>label</th>\n",
       "      <th>envo_native</th>\n",
       "      <th>obsolete</th>\n",
       "      <th>EnvLocalScaleSoilEnum_11_1</th>\n",
       "      <th>ancestors_in_enum_count</th>\n",
       "      <th>descendants_in_enum_count</th>\n",
       "      <th>nlcd_class</th>\n",
       "      <th>abp</th>\n",
       "      <th>...</th>\n",
       "      <th>liquid water</th>\n",
       "      <th>water ice</th>\n",
       "      <th>snow</th>\n",
       "      <th>mass_of_environmental_material</th>\n",
       "      <th>human_construction</th>\n",
       "      <th>building</th>\n",
       "      <th>building_part</th>\n",
       "      <th>plant_structure</th>\n",
       "      <th>vegetation_layer</th>\n",
       "      <th>goldterms_mappings</th>\n",
       "    </tr>\n",
       "  </thead>\n",
       "  <tbody>\n",
       "    <tr>\n",
       "      <th>0</th>\n",
       "      <td>ENVO:03000089</td>\n",
       "      <td>ENVO</td>\n",
       "      <td>permafrost crater derived from a methane explo...</td>\n",
       "      <td>True</td>\n",
       "      <td>False</td>\n",
       "      <td>False</td>\n",
       "      <td>2</td>\n",
       "      <td>0</td>\n",
       "      <td>False</td>\n",
       "      <td>True</td>\n",
       "      <td>...</td>\n",
       "      <td>False</td>\n",
       "      <td>False</td>\n",
       "      <td>False</td>\n",
       "      <td>False</td>\n",
       "      <td>False</td>\n",
       "      <td>False</td>\n",
       "      <td>False</td>\n",
       "      <td>False</td>\n",
       "      <td>False</td>\n",
       "      <td>False</td>\n",
       "    </tr>\n",
       "    <tr>\n",
       "      <th>1</th>\n",
       "      <td>ENVO:01001797</td>\n",
       "      <td>ENVO</td>\n",
       "      <td>tropical mixed forest</td>\n",
       "      <td>True</td>\n",
       "      <td>False</td>\n",
       "      <td>False</td>\n",
       "      <td>0</td>\n",
       "      <td>0</td>\n",
       "      <td>False</td>\n",
       "      <td>True</td>\n",
       "      <td>...</td>\n",
       "      <td>False</td>\n",
       "      <td>False</td>\n",
       "      <td>False</td>\n",
       "      <td>False</td>\n",
       "      <td>False</td>\n",
       "      <td>False</td>\n",
       "      <td>False</td>\n",
       "      <td>False</td>\n",
       "      <td>False</td>\n",
       "      <td>False</td>\n",
       "    </tr>\n",
       "    <tr>\n",
       "      <th>2</th>\n",
       "      <td>ENVO:01001810</td>\n",
       "      <td>ENVO</td>\n",
       "      <td>mediterranean grassland</td>\n",
       "      <td>True</td>\n",
       "      <td>False</td>\n",
       "      <td>False</td>\n",
       "      <td>0</td>\n",
       "      <td>0</td>\n",
       "      <td>False</td>\n",
       "      <td>True</td>\n",
       "      <td>...</td>\n",
       "      <td>False</td>\n",
       "      <td>False</td>\n",
       "      <td>False</td>\n",
       "      <td>False</td>\n",
       "      <td>False</td>\n",
       "      <td>False</td>\n",
       "      <td>False</td>\n",
       "      <td>False</td>\n",
       "      <td>False</td>\n",
       "      <td>False</td>\n",
       "    </tr>\n",
       "    <tr>\n",
       "      <th>3</th>\n",
       "      <td>ENVO:01000299</td>\n",
       "      <td>ENVO</td>\n",
       "      <td>Taylor column</td>\n",
       "      <td>True</td>\n",
       "      <td>False</td>\n",
       "      <td>False</td>\n",
       "      <td>0</td>\n",
       "      <td>0</td>\n",
       "      <td>False</td>\n",
       "      <td>True</td>\n",
       "      <td>...</td>\n",
       "      <td>False</td>\n",
       "      <td>False</td>\n",
       "      <td>False</td>\n",
       "      <td>False</td>\n",
       "      <td>False</td>\n",
       "      <td>False</td>\n",
       "      <td>False</td>\n",
       "      <td>False</td>\n",
       "      <td>False</td>\n",
       "      <td>False</td>\n",
       "    </tr>\n",
       "    <tr>\n",
       "      <th>4</th>\n",
       "      <td>ENVO:01000467</td>\n",
       "      <td>ENVO</td>\n",
       "      <td>constructed barrier</td>\n",
       "      <td>True</td>\n",
       "      <td>False</td>\n",
       "      <td>False</td>\n",
       "      <td>0</td>\n",
       "      <td>1</td>\n",
       "      <td>False</td>\n",
       "      <td>True</td>\n",
       "      <td>...</td>\n",
       "      <td>False</td>\n",
       "      <td>False</td>\n",
       "      <td>False</td>\n",
       "      <td>False</td>\n",
       "      <td>True</td>\n",
       "      <td>False</td>\n",
       "      <td>False</td>\n",
       "      <td>False</td>\n",
       "      <td>False</td>\n",
       "      <td>False</td>\n",
       "    </tr>\n",
       "    <tr>\n",
       "      <th>...</th>\n",
       "      <td>...</td>\n",
       "      <td>...</td>\n",
       "      <td>...</td>\n",
       "      <td>...</td>\n",
       "      <td>...</td>\n",
       "      <td>...</td>\n",
       "      <td>...</td>\n",
       "      <td>...</td>\n",
       "      <td>...</td>\n",
       "      <td>...</td>\n",
       "      <td>...</td>\n",
       "      <td>...</td>\n",
       "      <td>...</td>\n",
       "      <td>...</td>\n",
       "      <td>...</td>\n",
       "      <td>...</td>\n",
       "      <td>...</td>\n",
       "      <td>...</td>\n",
       "      <td>...</td>\n",
       "      <td>...</td>\n",
       "      <td>...</td>\n",
       "    </tr>\n",
       "    <tr>\n",
       "      <th>2078</th>\n",
       "      <td>ENVO:03501295</td>\n",
       "      <td>ENVO</td>\n",
       "      <td>processing plant</td>\n",
       "      <td>True</td>\n",
       "      <td>False</td>\n",
       "      <td>False</td>\n",
       "      <td>0</td>\n",
       "      <td>0</td>\n",
       "      <td>False</td>\n",
       "      <td>True</td>\n",
       "      <td>...</td>\n",
       "      <td>False</td>\n",
       "      <td>False</td>\n",
       "      <td>False</td>\n",
       "      <td>False</td>\n",
       "      <td>True</td>\n",
       "      <td>True</td>\n",
       "      <td>False</td>\n",
       "      <td>False</td>\n",
       "      <td>False</td>\n",
       "      <td>False</td>\n",
       "    </tr>\n",
       "    <tr>\n",
       "      <th>2079</th>\n",
       "      <td>ENVO:01000150</td>\n",
       "      <td>ENVO</td>\n",
       "      <td>marine subtidal rocky reef</td>\n",
       "      <td>True</td>\n",
       "      <td>False</td>\n",
       "      <td>False</td>\n",
       "      <td>0</td>\n",
       "      <td>0</td>\n",
       "      <td>False</td>\n",
       "      <td>True</td>\n",
       "      <td>...</td>\n",
       "      <td>False</td>\n",
       "      <td>False</td>\n",
       "      <td>False</td>\n",
       "      <td>False</td>\n",
       "      <td>False</td>\n",
       "      <td>False</td>\n",
       "      <td>False</td>\n",
       "      <td>False</td>\n",
       "      <td>False</td>\n",
       "      <td>False</td>\n",
       "    </tr>\n",
       "    <tr>\n",
       "      <th>2080</th>\n",
       "      <td>ENVO:01000437</td>\n",
       "      <td>ENVO</td>\n",
       "      <td>lava field</td>\n",
       "      <td>True</td>\n",
       "      <td>False</td>\n",
       "      <td>False</td>\n",
       "      <td>0</td>\n",
       "      <td>0</td>\n",
       "      <td>False</td>\n",
       "      <td>True</td>\n",
       "      <td>...</td>\n",
       "      <td>False</td>\n",
       "      <td>False</td>\n",
       "      <td>False</td>\n",
       "      <td>False</td>\n",
       "      <td>False</td>\n",
       "      <td>False</td>\n",
       "      <td>False</td>\n",
       "      <td>False</td>\n",
       "      <td>False</td>\n",
       "      <td>False</td>\n",
       "    </tr>\n",
       "    <tr>\n",
       "      <th>2081</th>\n",
       "      <td>ENVO:01000736</td>\n",
       "      <td>ENVO</td>\n",
       "      <td>phacolith</td>\n",
       "      <td>True</td>\n",
       "      <td>False</td>\n",
       "      <td>False</td>\n",
       "      <td>0</td>\n",
       "      <td>0</td>\n",
       "      <td>False</td>\n",
       "      <td>True</td>\n",
       "      <td>...</td>\n",
       "      <td>False</td>\n",
       "      <td>False</td>\n",
       "      <td>False</td>\n",
       "      <td>False</td>\n",
       "      <td>False</td>\n",
       "      <td>False</td>\n",
       "      <td>False</td>\n",
       "      <td>False</td>\n",
       "      <td>False</td>\n",
       "      <td>False</td>\n",
       "    </tr>\n",
       "    <tr>\n",
       "      <th>2082</th>\n",
       "      <td>ENVO:01001457</td>\n",
       "      <td>ENVO</td>\n",
       "      <td>cloud forest</td>\n",
       "      <td>True</td>\n",
       "      <td>False</td>\n",
       "      <td>False</td>\n",
       "      <td>0</td>\n",
       "      <td>0</td>\n",
       "      <td>False</td>\n",
       "      <td>True</td>\n",
       "      <td>...</td>\n",
       "      <td>False</td>\n",
       "      <td>False</td>\n",
       "      <td>False</td>\n",
       "      <td>False</td>\n",
       "      <td>False</td>\n",
       "      <td>False</td>\n",
       "      <td>False</td>\n",
       "      <td>False</td>\n",
       "      <td>False</td>\n",
       "      <td>False</td>\n",
       "    </tr>\n",
       "  </tbody>\n",
       "</table>\n",
       "<p>2083 rows × 27 columns</p>\n",
       "</div>"
      ]
     },
     "execution_count": 135,
     "metadata": {},
     "output_type": "execute_result"
    }
   ],
   "execution_count": 135
  },
  {
   "metadata": {},
   "cell_type": "markdown",
   "source": "# Merge in NMDC counts",
   "id": "8f7c4b1d95722568"
  },
  {
   "metadata": {
    "ExecuteTime": {
     "end_time": "2025-01-22T22:36:05.368851Z",
     "start_time": "2025-01-22T22:36:05.364451Z"
    }
   },
   "cell_type": "code",
   "source": [
    "nmdc_biosample_scoped_counts = nmdc_biosample_contexts_frame[nmdc_context_selector].value_counts().reset_index()\n",
    "# todo parameterize the column name based on what what really counter (generally biosamples or studies)\n",
    "nmdc_biosample_scoped_counts.columns = ['curie', 'nmdc_biosamples_count']\n"
   ],
   "id": "88ebf6f76c2e0545",
   "outputs": [],
   "execution_count": 136
  },
  {
   "metadata": {
    "ExecuteTime": {
     "end_time": "2025-01-22T22:36:05.393373Z",
     "start_time": "2025-01-22T22:36:05.386634Z"
    }
   },
   "cell_type": "code",
   "source": "nmdc_biosample_scoped_counts",
   "id": "85789ece9ec4ddd6",
   "outputs": [
    {
     "data": {
      "text/plain": [
       "           curie  nmdc_biosamples_count\n",
       "0  ENVO:01001057                    199\n",
       "1  ENVO:01001442                    192\n",
       "2     PO:0025025                     85"
      ],
      "text/html": [
       "<div>\n",
       "<style scoped>\n",
       "    .dataframe tbody tr th:only-of-type {\n",
       "        vertical-align: middle;\n",
       "    }\n",
       "\n",
       "    .dataframe tbody tr th {\n",
       "        vertical-align: top;\n",
       "    }\n",
       "\n",
       "    .dataframe thead th {\n",
       "        text-align: right;\n",
       "    }\n",
       "</style>\n",
       "<table border=\"1\" class=\"dataframe\">\n",
       "  <thead>\n",
       "    <tr style=\"text-align: right;\">\n",
       "      <th></th>\n",
       "      <th>curie</th>\n",
       "      <th>nmdc_biosamples_count</th>\n",
       "    </tr>\n",
       "  </thead>\n",
       "  <tbody>\n",
       "    <tr>\n",
       "      <th>0</th>\n",
       "      <td>ENVO:01001057</td>\n",
       "      <td>199</td>\n",
       "    </tr>\n",
       "    <tr>\n",
       "      <th>1</th>\n",
       "      <td>ENVO:01001442</td>\n",
       "      <td>192</td>\n",
       "    </tr>\n",
       "    <tr>\n",
       "      <th>2</th>\n",
       "      <td>PO:0025025</td>\n",
       "      <td>85</td>\n",
       "    </tr>\n",
       "  </tbody>\n",
       "</table>\n",
       "</div>"
      ]
     },
     "execution_count": 137,
     "metadata": {},
     "output_type": "execute_result"
    }
   ],
   "execution_count": 137
  },
  {
   "metadata": {
    "ExecuteTime": {
     "end_time": "2025-01-22T22:36:05.484669Z",
     "start_time": "2025-01-22T22:36:05.478682Z"
    }
   },
   "cell_type": "code",
   "source": [
    "# Perform the left merge\n",
    "rows_frame = rows_frame.merge(\n",
    "    nmdc_biosample_scoped_counts,\n",
    "    left_on='curie',\n",
    "    right_on='curie',\n",
    "    how='left'\n",
    ")"
   ],
   "id": "329203aecb25f598",
   "outputs": [],
   "execution_count": 138
  },
  {
   "metadata": {
    "ExecuteTime": {
     "end_time": "2025-01-22T22:36:05.647832Z",
     "start_time": "2025-01-22T22:36:05.628173Z"
    }
   },
   "cell_type": "code",
   "source": "rows_frame",
   "id": "8346fb59af8e61c6",
   "outputs": [
    {
     "data": {
      "text/plain": [
       "              curie claimed_prefix  \\\n",
       "0     ENVO:03000089           ENVO   \n",
       "1     ENVO:01001797           ENVO   \n",
       "2     ENVO:01001810           ENVO   \n",
       "3     ENVO:01000299           ENVO   \n",
       "4     ENVO:01000467           ENVO   \n",
       "...             ...            ...   \n",
       "2078  ENVO:03501295           ENVO   \n",
       "2079  ENVO:01000150           ENVO   \n",
       "2080  ENVO:01000437           ENVO   \n",
       "2081  ENVO:01000736           ENVO   \n",
       "2082  ENVO:01001457           ENVO   \n",
       "\n",
       "                                                  label  envo_native  \\\n",
       "0     permafrost crater derived from a methane explo...         True   \n",
       "1                                 tropical mixed forest         True   \n",
       "2                               mediterranean grassland         True   \n",
       "3                                         Taylor column         True   \n",
       "4                                   constructed barrier         True   \n",
       "...                                                 ...          ...   \n",
       "2078                                   processing plant         True   \n",
       "2079                         marine subtidal rocky reef         True   \n",
       "2080                                         lava field         True   \n",
       "2081                                          phacolith         True   \n",
       "2082                                       cloud forest         True   \n",
       "\n",
       "      obsolete  EnvLocalScaleSoilEnum_11_1  ancestors_in_enum_count  \\\n",
       "0        False                       False                        2   \n",
       "1        False                       False                        0   \n",
       "2        False                       False                        0   \n",
       "3        False                       False                        0   \n",
       "4        False                       False                        0   \n",
       "...        ...                         ...                      ...   \n",
       "2078     False                       False                        0   \n",
       "2079     False                       False                        0   \n",
       "2080     False                       False                        0   \n",
       "2081     False                       False                        0   \n",
       "2082     False                       False                        0   \n",
       "\n",
       "      descendants_in_enum_count  nlcd_class   abp  ...  water ice   snow  \\\n",
       "0                             0       False  True  ...      False  False   \n",
       "1                             0       False  True  ...      False  False   \n",
       "2                             0       False  True  ...      False  False   \n",
       "3                             0       False  True  ...      False  False   \n",
       "4                             1       False  True  ...      False  False   \n",
       "...                         ...         ...   ...  ...        ...    ...   \n",
       "2078                          0       False  True  ...      False  False   \n",
       "2079                          0       False  True  ...      False  False   \n",
       "2080                          0       False  True  ...      False  False   \n",
       "2081                          0       False  True  ...      False  False   \n",
       "2082                          0       False  True  ...      False  False   \n",
       "\n",
       "      mass_of_environmental_material  human_construction  building  \\\n",
       "0                              False               False     False   \n",
       "1                              False               False     False   \n",
       "2                              False               False     False   \n",
       "3                              False               False     False   \n",
       "4                              False                True     False   \n",
       "...                              ...                 ...       ...   \n",
       "2078                           False                True      True   \n",
       "2079                           False               False     False   \n",
       "2080                           False               False     False   \n",
       "2081                           False               False     False   \n",
       "2082                           False               False     False   \n",
       "\n",
       "      building_part  plant_structure  vegetation_layer  goldterms_mappings  \\\n",
       "0             False            False             False               False   \n",
       "1             False            False             False               False   \n",
       "2             False            False             False               False   \n",
       "3             False            False             False               False   \n",
       "4             False            False             False               False   \n",
       "...             ...              ...               ...                 ...   \n",
       "2078          False            False             False               False   \n",
       "2079          False            False             False               False   \n",
       "2080          False            False             False               False   \n",
       "2081          False            False             False               False   \n",
       "2082          False            False             False               False   \n",
       "\n",
       "      nmdc_biosamples_count  \n",
       "0                       NaN  \n",
       "1                       NaN  \n",
       "2                       NaN  \n",
       "3                       NaN  \n",
       "4                       NaN  \n",
       "...                     ...  \n",
       "2078                    NaN  \n",
       "2079                    NaN  \n",
       "2080                    NaN  \n",
       "2081                    NaN  \n",
       "2082                    NaN  \n",
       "\n",
       "[2083 rows x 28 columns]"
      ],
      "text/html": [
       "<div>\n",
       "<style scoped>\n",
       "    .dataframe tbody tr th:only-of-type {\n",
       "        vertical-align: middle;\n",
       "    }\n",
       "\n",
       "    .dataframe tbody tr th {\n",
       "        vertical-align: top;\n",
       "    }\n",
       "\n",
       "    .dataframe thead th {\n",
       "        text-align: right;\n",
       "    }\n",
       "</style>\n",
       "<table border=\"1\" class=\"dataframe\">\n",
       "  <thead>\n",
       "    <tr style=\"text-align: right;\">\n",
       "      <th></th>\n",
       "      <th>curie</th>\n",
       "      <th>claimed_prefix</th>\n",
       "      <th>label</th>\n",
       "      <th>envo_native</th>\n",
       "      <th>obsolete</th>\n",
       "      <th>EnvLocalScaleSoilEnum_11_1</th>\n",
       "      <th>ancestors_in_enum_count</th>\n",
       "      <th>descendants_in_enum_count</th>\n",
       "      <th>nlcd_class</th>\n",
       "      <th>abp</th>\n",
       "      <th>...</th>\n",
       "      <th>water ice</th>\n",
       "      <th>snow</th>\n",
       "      <th>mass_of_environmental_material</th>\n",
       "      <th>human_construction</th>\n",
       "      <th>building</th>\n",
       "      <th>building_part</th>\n",
       "      <th>plant_structure</th>\n",
       "      <th>vegetation_layer</th>\n",
       "      <th>goldterms_mappings</th>\n",
       "      <th>nmdc_biosamples_count</th>\n",
       "    </tr>\n",
       "  </thead>\n",
       "  <tbody>\n",
       "    <tr>\n",
       "      <th>0</th>\n",
       "      <td>ENVO:03000089</td>\n",
       "      <td>ENVO</td>\n",
       "      <td>permafrost crater derived from a methane explo...</td>\n",
       "      <td>True</td>\n",
       "      <td>False</td>\n",
       "      <td>False</td>\n",
       "      <td>2</td>\n",
       "      <td>0</td>\n",
       "      <td>False</td>\n",
       "      <td>True</td>\n",
       "      <td>...</td>\n",
       "      <td>False</td>\n",
       "      <td>False</td>\n",
       "      <td>False</td>\n",
       "      <td>False</td>\n",
       "      <td>False</td>\n",
       "      <td>False</td>\n",
       "      <td>False</td>\n",
       "      <td>False</td>\n",
       "      <td>False</td>\n",
       "      <td>NaN</td>\n",
       "    </tr>\n",
       "    <tr>\n",
       "      <th>1</th>\n",
       "      <td>ENVO:01001797</td>\n",
       "      <td>ENVO</td>\n",
       "      <td>tropical mixed forest</td>\n",
       "      <td>True</td>\n",
       "      <td>False</td>\n",
       "      <td>False</td>\n",
       "      <td>0</td>\n",
       "      <td>0</td>\n",
       "      <td>False</td>\n",
       "      <td>True</td>\n",
       "      <td>...</td>\n",
       "      <td>False</td>\n",
       "      <td>False</td>\n",
       "      <td>False</td>\n",
       "      <td>False</td>\n",
       "      <td>False</td>\n",
       "      <td>False</td>\n",
       "      <td>False</td>\n",
       "      <td>False</td>\n",
       "      <td>False</td>\n",
       "      <td>NaN</td>\n",
       "    </tr>\n",
       "    <tr>\n",
       "      <th>2</th>\n",
       "      <td>ENVO:01001810</td>\n",
       "      <td>ENVO</td>\n",
       "      <td>mediterranean grassland</td>\n",
       "      <td>True</td>\n",
       "      <td>False</td>\n",
       "      <td>False</td>\n",
       "      <td>0</td>\n",
       "      <td>0</td>\n",
       "      <td>False</td>\n",
       "      <td>True</td>\n",
       "      <td>...</td>\n",
       "      <td>False</td>\n",
       "      <td>False</td>\n",
       "      <td>False</td>\n",
       "      <td>False</td>\n",
       "      <td>False</td>\n",
       "      <td>False</td>\n",
       "      <td>False</td>\n",
       "      <td>False</td>\n",
       "      <td>False</td>\n",
       "      <td>NaN</td>\n",
       "    </tr>\n",
       "    <tr>\n",
       "      <th>3</th>\n",
       "      <td>ENVO:01000299</td>\n",
       "      <td>ENVO</td>\n",
       "      <td>Taylor column</td>\n",
       "      <td>True</td>\n",
       "      <td>False</td>\n",
       "      <td>False</td>\n",
       "      <td>0</td>\n",
       "      <td>0</td>\n",
       "      <td>False</td>\n",
       "      <td>True</td>\n",
       "      <td>...</td>\n",
       "      <td>False</td>\n",
       "      <td>False</td>\n",
       "      <td>False</td>\n",
       "      <td>False</td>\n",
       "      <td>False</td>\n",
       "      <td>False</td>\n",
       "      <td>False</td>\n",
       "      <td>False</td>\n",
       "      <td>False</td>\n",
       "      <td>NaN</td>\n",
       "    </tr>\n",
       "    <tr>\n",
       "      <th>4</th>\n",
       "      <td>ENVO:01000467</td>\n",
       "      <td>ENVO</td>\n",
       "      <td>constructed barrier</td>\n",
       "      <td>True</td>\n",
       "      <td>False</td>\n",
       "      <td>False</td>\n",
       "      <td>0</td>\n",
       "      <td>1</td>\n",
       "      <td>False</td>\n",
       "      <td>True</td>\n",
       "      <td>...</td>\n",
       "      <td>False</td>\n",
       "      <td>False</td>\n",
       "      <td>False</td>\n",
       "      <td>True</td>\n",
       "      <td>False</td>\n",
       "      <td>False</td>\n",
       "      <td>False</td>\n",
       "      <td>False</td>\n",
       "      <td>False</td>\n",
       "      <td>NaN</td>\n",
       "    </tr>\n",
       "    <tr>\n",
       "      <th>...</th>\n",
       "      <td>...</td>\n",
       "      <td>...</td>\n",
       "      <td>...</td>\n",
       "      <td>...</td>\n",
       "      <td>...</td>\n",
       "      <td>...</td>\n",
       "      <td>...</td>\n",
       "      <td>...</td>\n",
       "      <td>...</td>\n",
       "      <td>...</td>\n",
       "      <td>...</td>\n",
       "      <td>...</td>\n",
       "      <td>...</td>\n",
       "      <td>...</td>\n",
       "      <td>...</td>\n",
       "      <td>...</td>\n",
       "      <td>...</td>\n",
       "      <td>...</td>\n",
       "      <td>...</td>\n",
       "      <td>...</td>\n",
       "      <td>...</td>\n",
       "    </tr>\n",
       "    <tr>\n",
       "      <th>2078</th>\n",
       "      <td>ENVO:03501295</td>\n",
       "      <td>ENVO</td>\n",
       "      <td>processing plant</td>\n",
       "      <td>True</td>\n",
       "      <td>False</td>\n",
       "      <td>False</td>\n",
       "      <td>0</td>\n",
       "      <td>0</td>\n",
       "      <td>False</td>\n",
       "      <td>True</td>\n",
       "      <td>...</td>\n",
       "      <td>False</td>\n",
       "      <td>False</td>\n",
       "      <td>False</td>\n",
       "      <td>True</td>\n",
       "      <td>True</td>\n",
       "      <td>False</td>\n",
       "      <td>False</td>\n",
       "      <td>False</td>\n",
       "      <td>False</td>\n",
       "      <td>NaN</td>\n",
       "    </tr>\n",
       "    <tr>\n",
       "      <th>2079</th>\n",
       "      <td>ENVO:01000150</td>\n",
       "      <td>ENVO</td>\n",
       "      <td>marine subtidal rocky reef</td>\n",
       "      <td>True</td>\n",
       "      <td>False</td>\n",
       "      <td>False</td>\n",
       "      <td>0</td>\n",
       "      <td>0</td>\n",
       "      <td>False</td>\n",
       "      <td>True</td>\n",
       "      <td>...</td>\n",
       "      <td>False</td>\n",
       "      <td>False</td>\n",
       "      <td>False</td>\n",
       "      <td>False</td>\n",
       "      <td>False</td>\n",
       "      <td>False</td>\n",
       "      <td>False</td>\n",
       "      <td>False</td>\n",
       "      <td>False</td>\n",
       "      <td>NaN</td>\n",
       "    </tr>\n",
       "    <tr>\n",
       "      <th>2080</th>\n",
       "      <td>ENVO:01000437</td>\n",
       "      <td>ENVO</td>\n",
       "      <td>lava field</td>\n",
       "      <td>True</td>\n",
       "      <td>False</td>\n",
       "      <td>False</td>\n",
       "      <td>0</td>\n",
       "      <td>0</td>\n",
       "      <td>False</td>\n",
       "      <td>True</td>\n",
       "      <td>...</td>\n",
       "      <td>False</td>\n",
       "      <td>False</td>\n",
       "      <td>False</td>\n",
       "      <td>False</td>\n",
       "      <td>False</td>\n",
       "      <td>False</td>\n",
       "      <td>False</td>\n",
       "      <td>False</td>\n",
       "      <td>False</td>\n",
       "      <td>NaN</td>\n",
       "    </tr>\n",
       "    <tr>\n",
       "      <th>2081</th>\n",
       "      <td>ENVO:01000736</td>\n",
       "      <td>ENVO</td>\n",
       "      <td>phacolith</td>\n",
       "      <td>True</td>\n",
       "      <td>False</td>\n",
       "      <td>False</td>\n",
       "      <td>0</td>\n",
       "      <td>0</td>\n",
       "      <td>False</td>\n",
       "      <td>True</td>\n",
       "      <td>...</td>\n",
       "      <td>False</td>\n",
       "      <td>False</td>\n",
       "      <td>False</td>\n",
       "      <td>False</td>\n",
       "      <td>False</td>\n",
       "      <td>False</td>\n",
       "      <td>False</td>\n",
       "      <td>False</td>\n",
       "      <td>False</td>\n",
       "      <td>NaN</td>\n",
       "    </tr>\n",
       "    <tr>\n",
       "      <th>2082</th>\n",
       "      <td>ENVO:01001457</td>\n",
       "      <td>ENVO</td>\n",
       "      <td>cloud forest</td>\n",
       "      <td>True</td>\n",
       "      <td>False</td>\n",
       "      <td>False</td>\n",
       "      <td>0</td>\n",
       "      <td>0</td>\n",
       "      <td>False</td>\n",
       "      <td>True</td>\n",
       "      <td>...</td>\n",
       "      <td>False</td>\n",
       "      <td>False</td>\n",
       "      <td>False</td>\n",
       "      <td>False</td>\n",
       "      <td>False</td>\n",
       "      <td>False</td>\n",
       "      <td>False</td>\n",
       "      <td>False</td>\n",
       "      <td>False</td>\n",
       "      <td>NaN</td>\n",
       "    </tr>\n",
       "  </tbody>\n",
       "</table>\n",
       "<p>2083 rows × 28 columns</p>\n",
       "</div>"
      ]
     },
     "execution_count": 139,
     "metadata": {},
     "output_type": "execute_result"
    }
   ],
   "execution_count": 139
  },
  {
   "metadata": {
    "ExecuteTime": {
     "end_time": "2025-01-22T22:36:05.746643Z",
     "start_time": "2025-01-22T22:36:05.741175Z"
    }
   },
   "cell_type": "code",
   "source": [
    "# gold and ncbi counts are slightly trickier\n",
    "# for gold: including mappings only, mappings in hybrid with biosample counts. \n",
    "#    Switch to direct biosample counts of GOLD \"envo\" annotations?\n",
    "# ncbi: we have extracted curies and annotated curies"
   ],
   "id": "87a64ed7d57d81ee",
   "outputs": [],
   "execution_count": 140
  },
  {
   "metadata": {},
   "cell_type": "markdown",
   "source": "## Merge in NCBI counts",
   "id": "1f1f840c8c0acc80"
  },
  {
   "metadata": {
    "ExecuteTime": {
     "end_time": "2025-01-22T22:36:05.994330Z",
     "start_time": "2025-01-22T22:36:05.985892Z"
    }
   },
   "cell_type": "code",
   "source": [
    "# Perform the left merge\n",
    "rows_frame = rows_frame.merge(\n",
    "    ncbi_biosample_scoped_counts,\n",
    "    left_on='curie',\n",
    "    right_on='curie',\n",
    "    how='left'\n",
    ")"
   ],
   "id": "f4d8dc1053a5bb7e",
   "outputs": [],
   "execution_count": 141
  },
  {
   "metadata": {
    "ExecuteTime": {
     "end_time": "2025-01-22T22:36:06.199548Z",
     "start_time": "2025-01-22T22:36:06.196595Z"
    }
   },
   "cell_type": "code",
   "source": "# 990 rows in https://docs.google.com/spreadsheets/d/12WH3eduBq2qSTy9zVF3n7fyajn6ssLZL/edit?gid=546570706#gid=546570706",
   "id": "396c3f6005a31874",
   "outputs": [],
   "execution_count": 142
  },
  {
   "metadata": {
    "ExecuteTime": {
     "end_time": "2025-01-22T22:36:06.342825Z",
     "start_time": "2025-01-22T22:36:06.313670Z"
    }
   },
   "cell_type": "code",
   "source": "rows_frame.to_csv(output_file_name, sep=\"\\t\", index=False)",
   "id": "b7a26a1b879188a4",
   "outputs": [],
   "execution_count": 143
  },
  {
   "metadata": {
    "ExecuteTime": {
     "end_time": "2025-01-22T22:36:06.916806Z",
     "start_time": "2025-01-22T22:36:06.506566Z"
    }
   },
   "cell_type": "code",
   "source": "ncbi_conn.close()",
   "id": "655f46a2a0a6da17",
   "outputs": [],
   "execution_count": 144
  }
 ],
 "metadata": {
  "kernelspec": {
   "display_name": "Python 3 (ipykernel)",
   "language": "python",
   "name": "python3"
  },
  "language_info": {
   "codemirror_mode": {
    "name": "ipython",
    "version": 3
   },
   "file_extension": ".py",
   "mimetype": "text/x-python",
   "name": "python",
   "nbconvert_exporter": "python",
   "pygments_lexer": "ipython3",
   "version": "3.10.13"
  }
 },
 "nbformat": 4,
 "nbformat_minor": 5
}
