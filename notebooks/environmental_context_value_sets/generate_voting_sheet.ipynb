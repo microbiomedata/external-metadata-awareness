{
 "cells": [
  {
   "metadata": {
    "ExecuteTime": {
     "end_time": "2025-01-08T22:28:01.648231Z",
     "start_time": "2025-01-08T22:27:57.919210Z"
    }
   },
   "cell_type": "code",
   "source": [
    "from common import *\n",
    "\n",
    "import gzip\n",
    "import os\n",
    "import shutil\n",
    "import sqlite3\n",
    "from urllib.parse import urlparse\n",
    "\n",
    "import duckdb\n",
    "import pandas as pd\n",
    "import requests\n",
    "\n",
    "from oaklib import get_adapter\n",
    "from oaklib.datamodels.vocabulary import IS_A\n",
    "from oaklib.utilities.lexical.lexical_indexer import create_lexical_index, save_lexical_index, load_lexical_index\n",
    "from oaklib.interfaces.text_annotator_interface import TextAnnotatorInterface\n",
    "from oaklib.implementations import AggregatorImplementation\n",
    "\n",
    "from scipy.sparse import hstack\n",
    "from sklearn.ensemble import RandomForestClassifier\n",
    "from sklearn.metrics import classification_report\n",
    "from sklearn.model_selection import train_test_split\n",
    "\n",
    "import yaml\n",
    "import json\n"
   ],
   "id": "630126a7790cc3a7",
   "outputs": [],
   "execution_count": 1
  },
  {
   "metadata": {},
   "cell_type": "markdown",
   "source": [
    "## todos\n",
    "- [ ] cache goldterms.db\n",
    "- [ ] cache goldterms.db **in notebooks/environmental_context_value_sets** with other cached files"
   ],
   "id": "318ffab0685dcf95"
  },
  {
   "metadata": {
    "ExecuteTime": {
     "end_time": "2025-01-08T22:28:01.661764Z",
     "start_time": "2025-01-08T22:28:01.656350Z"
    }
   },
   "cell_type": "code",
   "source": [
    "\n",
    "selected_configuration = \"soil_env_local_scale\""
   ],
   "id": "8403cb460f8a9555",
   "outputs": [],
   "execution_count": 2
  },
  {
   "metadata": {
    "ExecuteTime": {
     "end_time": "2025-01-08T22:28:01.734912Z",
     "start_time": "2025-01-08T22:28:01.731854Z"
    }
   },
   "cell_type": "code",
   "source": "configurations_file = \"voting_sheets_configurations.yaml\"",
   "id": "8587aac0ae5e4b6e",
   "outputs": [],
   "execution_count": 3
  },
  {
   "metadata": {
    "ExecuteTime": {
     "end_time": "2025-01-08T22:28:01.779622Z",
     "start_time": "2025-01-08T22:28:01.775589Z"
    }
   },
   "cell_type": "code",
   "source": [
    "# these are the variables that will be set by the configuration\n",
    "\n",
    "gold_context_selectors = None\n",
    "ncbi_context_selector = None\n",
    "ncbi_package_selector = None\n",
    "first_where = None\n",
    "gold_first_where = None\n",
    "semantic_anchor = None\n",
    "previous_submission_schema_url = None\n",
    "CONTEXT_ENUM = None\n",
    "nmdc_package_selector = None\n",
    "nmdc_context_selector = None\n",
    "comparison_enum_column_name = None\n",
    "output_file_name = None\n"
   ],
   "id": "27a216a6c4302bef",
   "outputs": [],
   "execution_count": 4
  },
  {
   "metadata": {
    "ExecuteTime": {
     "end_time": "2025-01-08T22:28:01.859327Z",
     "start_time": "2025-01-08T22:28:01.832277Z"
    }
   },
   "cell_type": "code",
   "source": [
    "# Load configurations from YAML file\n",
    "with open(configurations_file, \"r\") as file:\n",
    "    configurations = yaml.safe_load(file)[\"configurations\"]\n",
    "\n",
    "\n",
    "# Function to apply a configuration\n",
    "def apply_configuration(config_name):\n",
    "    config = configurations.get(config_name)\n",
    "    if not config:\n",
    "        raise ValueError(f\"Configuration '{config_name}' not found.\")\n",
    "\n",
    "    # Update global variables\n",
    "    globals().update(config)\n",
    "    print(f\"Configuration '{config_name}' applied.\")\n"
   ],
   "id": "7b7c9aa7b0377b9d",
   "outputs": [],
   "execution_count": 5
  },
  {
   "metadata": {
    "ExecuteTime": {
     "end_time": "2025-01-08T22:28:01.877041Z",
     "start_time": "2025-01-08T22:28:01.873804Z"
    }
   },
   "cell_type": "code",
   "source": [
    "apply_configuration(selected_configuration)\n",
    "\n",
    "# Now the global variables like `output_file_name`, `semantic_anchor`, etc., are set."
   ],
   "id": "a4aa8e0cde326069",
   "outputs": [
    {
     "name": "stdout",
     "output_type": "stream",
     "text": [
      "Configuration 'soil_env_local_scale' applied.\n"
     ]
    }
   ],
   "execution_count": 6
  },
  {
   "metadata": {
    "ExecuteTime": {
     "end_time": "2025-01-08T22:28:01.939094Z",
     "start_time": "2025-01-08T22:28:01.930572Z"
    }
   },
   "cell_type": "code",
   "source": "gold_first_where = first_where",
   "id": "bece5df5dfd0e112",
   "outputs": [],
   "execution_count": 7
  },
  {
   "metadata": {
    "ExecuteTime": {
     "end_time": "2025-01-08T22:28:01.986756Z",
     "start_time": "2025-01-08T22:28:01.983516Z"
    }
   },
   "cell_type": "code",
   "source": [
    "# Initialize cache dictionaries for predict_from_normalized_env_packages\n",
    "# todo how to move the definitions for function that use these globals? Or just use caching around the function?\n",
    "ancestor_cache = {}\n",
    "descendant_cache = {}"
   ],
   "id": "f952b5888d2c5f0d",
   "outputs": [],
   "execution_count": 8
  },
  {
   "metadata": {},
   "cell_type": "markdown",
   "source": "# Preliminary label, ancestor and descendant caching",
   "id": "fe821e1d558e5735"
  },
  {
   "metadata": {
    "ExecuteTime": {
     "end_time": "2025-01-08T22:28:02.033760Z",
     "start_time": "2025-01-08T22:28:02.030631Z"
    }
   },
   "cell_type": "code",
   "source": [
    "# todo this on-demand NCBI curie extraction and annotation recapitulates work that is being added to\n",
    "# https://portal.nersc.gov/project/m3408/biosamples_duckdb/\n",
    "# via ???\n",
    "#   although that doesn't detect auto-incremented curies from  spreadsheet dragging\n",
    "\n",
    "# todo eventually, dig up a complete JSON gold biosample dump for non-hybrid biosample counts\n",
    "\n",
    "# todo make it clearer whether biosamples or studies are being counted\n",
    "#   count nmdc or gold STUDIES too?"
   ],
   "id": "5001cbd978bbdd28",
   "outputs": [],
   "execution_count": 9
  },
  {
   "metadata": {},
   "cell_type": "markdown",
   "source": "# Additional Settings",
   "id": "b799aabdd66098c0"
  },
  {
   "metadata": {
    "ExecuteTime": {
     "end_time": "2025-01-08T22:28:02.080362Z",
     "start_time": "2025-01-08T22:28:02.077418Z"
    }
   },
   "cell_type": "code",
   "source": [
    "# Approved prefixes (case-insensitive)\n",
    "approved_prefixes = ['ENVO']"
   ],
   "id": "50e39f658f4bd77b",
   "outputs": [],
   "execution_count": 10
  },
  {
   "metadata": {
    "ExecuteTime": {
     "end_time": "2025-01-08T22:28:02.128377Z",
     "start_time": "2025-01-08T22:28:02.125428Z"
    }
   },
   "cell_type": "code",
   "source": "MIN_ANNOTATION_LEN = 3",
   "id": "3aa0b52456f0a95c",
   "outputs": [],
   "execution_count": 11
  },
  {
   "cell_type": "code",
   "id": "d526be618b8b9129",
   "metadata": {
    "ExecuteTime": {
     "end_time": "2025-01-08T22:28:02.183600Z",
     "start_time": "2025-01-08T22:28:02.176602Z"
    }
   },
   "source": [
    "NMDC_RUNTIME_BASE_URL = 'https://api.microbiomedata.org/nmdcschema/'\n",
    "STUDY_SET_COLLECTION = 'study_set'\n",
    "BIOSAMPLE_SET_COLLECTION = 'biosample_set'"
   ],
   "outputs": [],
   "execution_count": 12
  },
  {
   "cell_type": "code",
   "id": "11c0cba800e33ac6",
   "metadata": {
    "ExecuteTime": {
     "end_time": "2025-01-08T22:28:02.232200Z",
     "start_time": "2025-01-08T22:28:02.229101Z"
    }
   },
   "source": [
    "envo_adapter_string = \"sqlite:obo:envo\""
   ],
   "outputs": [],
   "execution_count": 13
  },
  {
   "metadata": {
    "ExecuteTime": {
     "end_time": "2025-01-08T22:28:02.280417Z",
     "start_time": "2025-01-08T22:28:02.277152Z"
    }
   },
   "cell_type": "code",
   "source": "po_adapter_string = \"sqlite:obo:po\"",
   "id": "e479235c08537e33",
   "outputs": [],
   "execution_count": 14
  },
  {
   "cell_type": "code",
   "id": "7795121f47307a00",
   "metadata": {
    "ExecuteTime": {
     "end_time": "2025-01-08T22:28:02.326992Z",
     "start_time": "2025-01-08T22:28:02.324057Z"
    }
   },
   "source": [
    "env_package_override_file = 'mam-env-package-overrides.tsv'\n",
    "override_column = 'mam_inferred_env_package'"
   ],
   "outputs": [],
   "execution_count": 15
  },
  {
   "cell_type": "code",
   "id": "f1b99451d88ce356",
   "metadata": {
    "ExecuteTime": {
     "end_time": "2025-01-08T22:28:02.376693Z",
     "start_time": "2025-01-08T22:28:02.372482Z"
    }
   },
   "source": [
    "ncbi_duckdb_url = 'https://portal.nersc.gov/project/m3408/biosamples_duckdb/ncbi_biosamples_2024-09-23.duckdb.gz'\n",
    "# ncbi_duckdb_url = 'https://portal.nersc.gov/project/m3408/biosamples_duckdb/ncbi_biosamples.duckdb.gz'"
   ],
   "outputs": [],
   "execution_count": 16
  },
  {
   "cell_type": "code",
   "id": "51e5d41b02b19eec",
   "metadata": {
    "ExecuteTime": {
     "end_time": "2025-01-08T22:28:02.435489Z",
     "start_time": "2025-01-08T22:28:02.426376Z"
    }
   },
   "source": [
    "gold_data_url = \"https://gold.jgi.doe.gov/download?mode=site_excel\"\n",
    "gold_data_file_name = \"goldData.xlsx\"  # goldData.xlsx: Microsoft Excel 2007+\n",
    "gold_csv_file_name = \"gold_biosamples.csv\"\n",
    "BIOSAMPLES_SHEET = \"Biosample\""
   ],
   "outputs": [],
   "execution_count": 17
  },
  {
   "cell_type": "code",
   "id": "e1d9f705fad2efa9",
   "metadata": {
    "ExecuteTime": {
     "end_time": "2025-01-08T22:28:02.485438Z",
     "start_time": "2025-01-08T22:28:02.482338Z"
    }
   },
   "source": "goldterms_semsql_url = \"https://s3.amazonaws.com/bbop-sqlite/goldterms.db.gz\"",
   "outputs": [],
   "execution_count": 18
  },
  {
   "metadata": {
    "ExecuteTime": {
     "end_time": "2025-01-08T22:28:02.542546Z",
     "start_time": "2025-01-08T22:28:02.534122Z"
    }
   },
   "cell_type": "code",
   "source": "all_nmdc_biosamples_file = 'all_nmdc_biosamples.json'",
   "id": "db6170cb9f3a6ca0",
   "outputs": [],
   "execution_count": 19
  },
  {
   "metadata": {},
   "cell_type": "markdown",
   "source": "# CURIe Constants",
   "id": "16e21c18886a373c"
  },
  {
   "metadata": {
    "ExecuteTime": {
     "end_time": "2025-01-08T22:28:02.598267Z",
     "start_time": "2025-01-08T22:28:02.592754Z"
    }
   },
   "cell_type": "code",
   "source": [
    "BIOME = 'ENVO:00000428'\n",
    "TERRESTRIAL_BIOME = 'ENVO:00000446'\n",
    "AQUATIC_BIOME = 'ENVO:00002030'\n",
    "ABP = 'ENVO:01000813'\n",
    "ENVIRONMENTAL_SYSTEM = 'ENVO:01000254'\n",
    "ENVIRONMENTAL_MATERIAL = 'ENVO:00010483'\n",
    "\n",
    "SOIL = 'ENVO:00001998'\n",
    "LIQUID_WATER = 'ENVO:00002006'\n",
    "WATER_ICE = 'ENVO:01000277'\n",
    "\n",
    "HUMAN_CONSTRUCTION = 'ENVO:00000070'\n",
    "BUILDING = 'ENVO:00000073'\n",
    "BUILDING_PART = 'ENVO:01000420'\n",
    "\n",
    "SNOW = 'ENVO:01000406'\n",
    "MASS_OF_ENVIRONMENTAL_MATERIAL = 'ENVO:01001686'\n",
    "\n",
    "PLANT_STRUCTURE = \"PO:0009011\" # does not include plant anatomical space or portion of plant substance (from plant anatomical entity)\n",
    "\n",
    "MARINE_BIOME = 'ENVO:00000447'\n"
   ],
   "id": "73e52103eb69bbcc",
   "outputs": [],
   "execution_count": 20
  },
  {
   "metadata": {},
   "cell_type": "markdown",
   "source": "# Settings-based Queries",
   "id": "7ecec14181910236"
  },
  {
   "cell_type": "code",
   "id": "fb8c7caf28e64d10",
   "metadata": {
    "ExecuteTime": {
     "end_time": "2025-01-08T22:28:02.646576Z",
     "start_time": "2025-01-08T22:28:02.643100Z"
    }
   },
   "source": [
    "# todo could this have been done with a OAK query, eliminating the need to explicitly download the file?\n",
    "\n",
    "goldterms_envo_query = f\"\"\"\n",
    "SELECT\n",
    "\t*\n",
    "FROM\n",
    "\tstatements s\n",
    "WHERE\n",
    "\tpredicate in ('{\"', '\".join(gold_context_selectors)}')\"\"\""
   ],
   "outputs": [],
   "execution_count": 21
  },
  {
   "cell_type": "code",
   "id": "afd52cf83301de09",
   "metadata": {
    "ExecuteTime": {
     "end_time": "2025-01-08T22:28:02.695464Z",
     "start_time": "2025-01-08T22:28:02.691470Z"
    }
   },
   "source": [
    "ncbi_biosamples_per_annotation_query = f\"\"\"\n",
    "SELECT content, COUNT(1) AS count \n",
    "FROM attributes \n",
    "WHERE harmonized_name = '{ncbi_context_selector}' AND package_content like '%{ncbi_package_selector}'\n",
    "GROUP BY content\n",
    "ORDER BY COUNT(1) DESC\n",
    "\"\"\""
   ],
   "outputs": [],
   "execution_count": 22
  },
  {
   "metadata": {
    "ExecuteTime": {
     "end_time": "2025-01-08T22:28:02.744386Z",
     "start_time": "2025-01-08T22:28:02.741028Z"
    }
   },
   "cell_type": "code",
   "source": [
    "ncbi_bioprojects_per_annotation_query = f\"\"\"\n",
    "SELECT\n",
    "\ta.content,\n",
    "\tcount(DISTINCT l.content) AS count\n",
    "FROM\n",
    "\tmain.ATTRIBUTES a\n",
    "JOIN main.links l \n",
    "\tON\n",
    "\ta.id = l.id\n",
    "WHERE\n",
    "\tl.target = 'bioproject'\n",
    "\tAND harmonized_name = 'env_local_scale'\n",
    "\tAND package_content like '%{ncbi_package_selector}'\n",
    "GROUP BY\n",
    "\ta.content\n",
    "ORDER BY\n",
    "\tcount(DISTINCT l.content) DESC ;\n",
    "\"\"\""
   ],
   "id": "d82477b892c2a7a3",
   "outputs": [],
   "execution_count": 23
  },
  {
   "metadata": {
    "ExecuteTime": {
     "end_time": "2025-01-08T22:28:02.791429Z",
     "start_time": "2025-01-08T22:28:02.788495Z"
    }
   },
   "cell_type": "code",
   "source": "ncbi_X_per_annotation_query = ncbi_bioprojects_per_annotation_query",
   "id": "f86458549b99121b",
   "outputs": [],
   "execution_count": 24
  },
  {
   "metadata": {
    "ExecuteTime": {
     "end_time": "2025-01-08T22:28:02.838550Z",
     "start_time": "2025-01-08T22:28:02.835373Z"
    }
   },
   "cell_type": "code",
   "source": [
    "# and s1.subject = s1.stanza eliminates matches on blank node annotation rows (probably wouldn't change results but adds a little overhead)\n",
    "\n",
    "extension_query = f\"\"\"\n",
    "select\n",
    "\t\ts1.subject ,\n",
    "\t\ts2.predicate,\n",
    "\t\tCOALESCE (s2.\"object\",\n",
    "\ts2.\"value\") as content\n",
    "from\n",
    "\tstatements s1\n",
    "join statements s2 on \n",
    "\ts1.subject = s2.subject\n",
    "where\n",
    "\t{gold_first_where}\n",
    "\tand s1.predicate = 'rdfs:label'\n",
    "\tand s1.subject = s1.stanza\n",
    "\tand s2.predicate in ('mixs:env_broad', 'mixs:env_local', 'mixs:env_medium', 'mixs:mixs_extension', 'rdfs:label', 'mixs:other', 'mixs:anatomical_site', 'mixs:host_taxon') ;\n",
    "\"\"\"\n"
   ],
   "id": "8cdd3e6e17a2bac3",
   "outputs": [],
   "execution_count": 25
  },
  {
   "metadata": {},
   "cell_type": "markdown",
   "source": [
    "# Locally Defined Functions\n",
    "_Currently using locally-defined cache dictionaries_"
   ],
   "id": "6c4cf0d065a7de07"
  },
  {
   "cell_type": "code",
   "id": "38412bd611726160",
   "metadata": {
    "ExecuteTime": {
     "end_time": "2025-01-08T22:28:02.890973Z",
     "start_time": "2025-01-08T22:28:02.883457Z"
    }
   },
   "source": [
    "def predict_from_normalized_env_packages(df_raw, adapter):\n",
    "    # Apply the function to the relevant columns\n",
    "\n",
    "    df = df_raw.copy()\n",
    "\n",
    "    print(df.shape)\n",
    "    for column in ['env_broad_scale_id', 'env_local_scale_id', 'env_medium_id']:\n",
    "        df[f'{column}_ancestors'] = df[column].apply(lambda x: get_hierarchy_terms(x, adapter)['ancestors'])\n",
    "        df[f'{column}_descendants'] = df[column].apply(lambda x: get_hierarchy_terms(x, adapter)['descendants'])\n",
    "\n",
    "    # Vectorize each set of terms separately\n",
    "    broad_scale_ancestors = vectorize_terms(df, 'env_broad_scale_id_ancestors')\n",
    "    broad_scale_descendants = vectorize_terms(df, 'env_broad_scale_id_descendants')\n",
    "\n",
    "    local_scale_ancestors = vectorize_terms(df, 'env_local_scale_id_ancestors')\n",
    "    local_scale_descendants = vectorize_terms(df, 'env_local_scale_id_descendants')\n",
    "\n",
    "    medium_ancestors = vectorize_terms(df, 'env_medium_id_ancestors')\n",
    "    medium_descendants = vectorize_terms(df, 'env_medium_id_descendants')\n",
    "\n",
    "    # Combine all feature matrices\n",
    "    X = hstack([\n",
    "        broad_scale_ancestors,\n",
    "        broad_scale_descendants,\n",
    "        local_scale_ancestors,\n",
    "        local_scale_descendants,\n",
    "        medium_ancestors,\n",
    "        medium_descendants\n",
    "    ])\n",
    "\n",
    "    # Filter the DataFrame to only include non-null rows for the target column\n",
    "    df_filtered = df[df['normalized_env_package'].notnull() & (df['normalized_env_package'] != \"\")]\n",
    "\n",
    "    # Extract the target variable\n",
    "    y = df_filtered['normalized_env_package']\n",
    "\n",
    "    # Ensure X corresponds to the filtered rows\n",
    "    X_filtered = X[df_filtered.index]\n",
    "\n",
    "    # Split the data into training and testing sets\n",
    "    X_train, X_test, y_train, y_test = train_test_split(X_filtered, y, test_size=0.3, random_state=42)\n",
    "\n",
    "    # Train a Random Forest Classifier\n",
    "    clf = RandomForestClassifier(n_estimators=100, random_state=42)\n",
    "    clf.fit(X_train, y_train)\n",
    "\n",
    "    # Make predictions on the test set\n",
    "    y_pred = clf.predict(X_test)\n",
    "\n",
    "    # Evaluate the model\n",
    "    print(classification_report(y_test, y_pred))\n",
    "\n",
    "    # not determining confidence for each class nor saving any diagnostics any more\n",
    "\n",
    "    return clf.predict(X)"
   ],
   "outputs": [],
   "execution_count": 26
  },
  {
   "cell_type": "code",
   "id": "4515456aaeaa7980",
   "metadata": {
    "ExecuteTime": {
     "end_time": "2025-01-08T22:28:02.942389Z",
     "start_time": "2025-01-08T22:28:02.936366Z"
    }
   },
   "source": [
    "def get_hierarchy_terms(my_curie: str, adapter) -> dict:\n",
    "    \"\"\"\n",
    "    Extract ancestor and descendant terms from the ontology for a given CURIE,\n",
    "    using caching to improve performance and filtering by 'is_a' relationships.\n",
    "\n",
    "    Args:\n",
    "        my_curie (str): CURIE identifier for the ontology term.\n",
    "        adapter: Ontology adapter.\n",
    "\n",
    "    Returns:\n",
    "        dict: Dictionary containing lists of ancestor and descendant terms.\n",
    "    \"\"\"\n",
    "    if my_curie not in ancestor_cache:\n",
    "        try:\n",
    "            ancestors = list(adapter.ancestors(my_curie, predicates=[IS_A]))\n",
    "            ancestor_cache[my_curie] = [adapter.label(ancestor) for ancestor in ancestors if ancestor]\n",
    "        except Exception as my_e:\n",
    "            print(f\"Error retrieving ancestors for {my_curie}: {my_e}\")\n",
    "            ancestor_cache[my_curie] = []\n",
    "\n",
    "    if my_curie not in descendant_cache:\n",
    "        try:\n",
    "            descendants = list(adapter.descendants(my_curie, predicates=[IS_A]))\n",
    "            descendant_cache[my_curie] = [adapter.label(descendant) for descendant in descendants if descendant]\n",
    "        except Exception as my_e:\n",
    "            print(f\"Error retrieving descendants for {my_curie}: {my_e}\")\n",
    "            descendant_cache[my_curie] = []\n",
    "\n",
    "    return {\n",
    "        'ancestors': ancestor_cache[my_curie],\n",
    "        'descendants': descendant_cache[my_curie],\n",
    "    }"
   ],
   "outputs": [],
   "execution_count": 27
  },
  {
   "metadata": {},
   "cell_type": "markdown",
   "source": "# Procedural Code Starts Here",
   "id": "1423fbbafdf5e167"
  },
  {
   "cell_type": "code",
   "id": "44fb14c1b01ac34c",
   "metadata": {
    "ExecuteTime": {
     "end_time": "2025-01-08T22:28:02.989881Z",
     "start_time": "2025-01-08T22:28:02.986349Z"
    }
   },
   "source": [
    "# Determine the filenames and target directory for the NCBI DuckDB\n",
    "ncbi_compressed_filename = urlparse(ncbi_duckdb_url).path.split('/')[-1]\n",
    "ncbi_filename = os.path.splitext(ncbi_compressed_filename)[0]\n",
    "ncbi_compressed_file_path = os.path.join(ncbi_compressed_filename)\n",
    "ncbi_uncompressed_file_path = os.path.join(ncbi_filename)\n"
   ],
   "outputs": [],
   "execution_count": 28
  },
  {
   "cell_type": "code",
   "id": "353ba83ec3059ac5",
   "metadata": {
    "ExecuteTime": {
     "end_time": "2025-01-08T22:28:03.042618Z",
     "start_time": "2025-01-08T22:28:03.035600Z"
    }
   },
   "source": [
    "if os.path.isfile(ncbi_uncompressed_file_path):\n",
    "    print(f\"{ncbi_uncompressed_file_path} is already present in the current working directory.\")\n",
    "else:\n",
    "    if os.path.isfile(ncbi_compressed_file_path):\n",
    "        print(f\"{ncbi_compressed_file_path} is already present in the current working directory.\")\n",
    "    else:\n",
    "        print(f\"{ncbi_compressed_file_path} needs to be downloaded\")\n",
    "        ncbi_response = requests.get(ncbi_duckdb_url)\n",
    "        with open(ncbi_compressed_file_path, \"wb\") as f:\n",
    "            f.write(ncbi_response.content)\n",
    "        # ~ 2 minutes @ 250 Mbps\n",
    "\n",
    "    # Unzip the compressed file and save the extracted file in target directory\n",
    "    print(f\"{ncbi_compressed_file_path} needs to be unpacked\")\n",
    "    with gzip.open(ncbi_compressed_file_path, \"rb\") as f_in:\n",
    "        with open(ncbi_uncompressed_file_path, \"wb\") as f_out:\n",
    "            shutil.copyfileobj(f_in, f_out)\n",
    "\n",
    "    # ~ 2 minutes"
   ],
   "outputs": [
    {
     "name": "stdout",
     "output_type": "stream",
     "text": [
      "ncbi_biosamples_2024-09-23.duckdb is already present in the current working directory.\n"
     ]
    }
   ],
   "execution_count": 29
  },
  {
   "cell_type": "code",
   "id": "63f815cbfb9b7a6b",
   "metadata": {
    "ExecuteTime": {
     "end_time": "2025-01-08T22:28:03.119321Z",
     "start_time": "2025-01-08T22:28:03.087397Z"
    }
   },
   "source": [
    "ncbi_conn = duckdb.connect(database=ncbi_uncompressed_file_path, read_only=True)"
   ],
   "outputs": [],
   "execution_count": 30
  },
  {
   "metadata": {},
   "cell_type": "markdown",
   "source": [
    "add po_adapter\n",
    "\n",
    "should we be creating a list of adapters?"
   ],
   "id": "ea641bb290ed714f"
  },
  {
   "cell_type": "code",
   "id": "198256f26bc060e3",
   "metadata": {
    "ExecuteTime": {
     "end_time": "2025-01-08T22:28:03.163950Z",
     "start_time": "2025-01-08T22:28:03.132990Z"
    }
   },
   "source": [
    "envo_adapter = get_adapter(envo_adapter_string)"
   ],
   "outputs": [],
   "execution_count": 31
  },
  {
   "metadata": {
    "ExecuteTime": {
     "end_time": "2025-01-08T22:28:03.185068Z",
     "start_time": "2025-01-08T22:28:03.181024Z"
    }
   },
   "cell_type": "code",
   "source": "po_adapter = get_adapter(po_adapter_string)",
   "id": "44294b3150c3053a",
   "outputs": [],
   "execution_count": 32
  },
  {
   "metadata": {},
   "cell_type": "markdown",
   "source": "**Preliminary replacement for `get_hierarchy_terms` and ancestor/descendant lookup in main row construction loop**",
   "id": "d1a0d6395ec6510b"
  },
  {
   "metadata": {
    "ExecuteTime": {
     "end_time": "2025-01-08T22:28:04.175093Z",
     "start_time": "2025-01-08T22:28:03.227608Z"
    }
   },
   "cell_type": "code",
   "source": [
    "reflexivity = False\n",
    "\n",
    "# File paths\n",
    "label_cache_file = \"envo_label_cache.json\"\n",
    "ancestors_file = \"envo_ancestors.json\"\n",
    "descendants_file = \"envo_descendants.json\"\n",
    "\n",
    "# Initialize caches\n",
    "envo_label_cache = {}\n",
    "envo_ancs_cache = {}\n",
    "envo_descs_cache = {}\n",
    "\n",
    "envo_entities_generator = envo_adapter.entities()\n",
    "envo_entities = list(envo_entities_generator)\n",
    "envo_entities.sort()\n",
    "\n",
    "\n",
    "# Function to generate and save the label cache\n",
    "def generate_label_cache():\n",
    "    print(\"Generating label cache...\")\n",
    "\n",
    "    label_cache = {}\n",
    "    for ee in envo_entities:\n",
    "        label_cache[ee] = envo_adapter.label(ee)\n",
    "    return label_cache\n",
    "\n",
    "\n",
    "# Check for label cache\n",
    "if os.path.exists(label_cache_file):\n",
    "    print(f\"Loading label cache from {label_cache_file}...\")\n",
    "    with open(label_cache_file, \"r\") as f:\n",
    "        envo_label_cache = json.load(f)\n",
    "else:\n",
    "    envo_label_cache = generate_label_cache()\n",
    "    with open(label_cache_file, \"w\") as f:\n",
    "        json.dump(envo_label_cache, f)\n",
    "    print(f\"Label cache saved to {label_cache_file}.\")\n",
    "\n",
    "# Check for ancestor cache\n",
    "if os.path.exists(ancestors_file):\n",
    "    print(f\"Loading ancestors from {ancestors_file}...\")\n",
    "    with open(ancestors_file, \"r\") as f:\n",
    "        envo_ancs_cache = json.load(f)\n",
    "else:\n",
    "    print(\"Ancestors file not found. Generating ancestor cache...\")\n",
    "\n",
    "    for ee in envo_entities:\n",
    "        ancs_gen = envo_adapter.ancestors(ee, reflexive=reflexivity)\n",
    "        envo_ancs_cache[ee] = [{a: envo_label_cache.get(a, None)} for a in ancs_gen]\n",
    "\n",
    "    with open(ancestors_file, \"w\") as f:\n",
    "        json.dump(envo_ancs_cache, f)\n",
    "    print(f\"Ancestors saved to {ancestors_file}.\")\n",
    "\n",
    "# Check for descendant cache\n",
    "if os.path.exists(descendants_file):\n",
    "    print(f\"Loading descendants from {descendants_file}...\")\n",
    "    with open(descendants_file, \"r\") as f:\n",
    "        envo_descs_cache = json.load(f)\n",
    "else:\n",
    "    # 5 minutes\n",
    "    print(\"Descendants file not found. Generating descendant cache...\")\n",
    "\n",
    "    for ee in envo_entities:\n",
    "        descs_gen = envo_adapter.descendants(ee, reflexive=reflexivity)\n",
    "        envo_descs_cache[ee] = [{d: envo_label_cache.get(d, None)} for d in descs_gen]\n",
    "\n",
    "    with open(descendants_file, \"w\") as f:\n",
    "        json.dump(envo_descs_cache, f)\n",
    "    print(f\"Descendants saved to {descendants_file}.\")\n"
   ],
   "id": "aa18493ce145fdf5",
   "outputs": [
    {
     "name": "stdout",
     "output_type": "stream",
     "text": [
      "Loading label cache from envo_label_cache.json...\n",
      "Loading ancestors from envo_ancestors.json...\n",
      "Loading descendants from envo_descendants.json...\n"
     ]
    }
   ],
   "execution_count": 33
  },
  {
   "metadata": {},
   "cell_type": "markdown",
   "source": "# Anchor aka bootstrapping classes",
   "id": "491e3ded2d1fba45"
  },
  {
   "cell_type": "code",
   "id": "e863dc687ce4be5c",
   "metadata": {
    "ExecuteTime": {
     "end_time": "2025-01-08T22:28:04.762089Z",
     "start_time": "2025-01-08T22:28:04.188858Z"
    }
   },
   "source": "anchor_descendants = get_curie_descendants_label_dict(semantic_anchor, [IS_A], envo_adapter)",
   "outputs": [],
   "execution_count": 34
  },
  {
   "cell_type": "code",
   "id": "394abb56c4987eee",
   "metadata": {
    "ExecuteTime": {
     "end_time": "2025-01-08T22:28:04.778747Z",
     "start_time": "2025-01-08T22:28:04.775481Z"
    }
   },
   "source": [
    "anchor_descendants_lod = curie_descendants_label_dict_to_lod(anchor_descendants)"
   ],
   "outputs": [],
   "execution_count": 35
  },
  {
   "cell_type": "code",
   "id": "eea1a3f8395da0d7",
   "metadata": {
    "ExecuteTime": {
     "end_time": "2025-01-08T22:28:04.822417Z",
     "start_time": "2025-01-08T22:28:04.817840Z"
    }
   },
   "source": [
    "anchor_descendants_frame = curie_descendants_label_lod_to_df(anchor_descendants_lod)"
   ],
   "outputs": [],
   "execution_count": 36
  },
  {
   "cell_type": "code",
   "id": "f85faf81e0a55a42",
   "metadata": {
    "ExecuteTime": {
     "end_time": "2025-01-08T22:28:04.882070Z",
     "start_time": "2025-01-08T22:28:04.866208Z"
    }
   },
   "source": [
    "anchor_descendants_frame"
   ],
   "outputs": [
    {
     "data": {
      "text/plain": [
       "              curie                             label\n",
       "0     ENVO:00001999                 marine water body\n",
       "1     ENVO:01000188            tropical savanna biome\n",
       "2     ENVO:00000487                  paternoster lake\n",
       "3     ENVO:01000860  temperate marine upwelling biome\n",
       "4     ENVO:01000199        mediterranean forest biome\n",
       "...             ...                               ...\n",
       "1731  ENVO:01000429                            burrow\n",
       "1732  ENVO:01000431                      mixed forest\n",
       "1733  ENVO:01000536                           factory\n",
       "1734  ENVO:00000873                  freshwater biome\n",
       "1735  ENVO:03500002                       public park\n",
       "\n",
       "[1736 rows x 2 columns]"
      ],
      "text/html": [
       "<div>\n",
       "<style scoped>\n",
       "    .dataframe tbody tr th:only-of-type {\n",
       "        vertical-align: middle;\n",
       "    }\n",
       "\n",
       "    .dataframe tbody tr th {\n",
       "        vertical-align: top;\n",
       "    }\n",
       "\n",
       "    .dataframe thead th {\n",
       "        text-align: right;\n",
       "    }\n",
       "</style>\n",
       "<table border=\"1\" class=\"dataframe\">\n",
       "  <thead>\n",
       "    <tr style=\"text-align: right;\">\n",
       "      <th></th>\n",
       "      <th>curie</th>\n",
       "      <th>label</th>\n",
       "    </tr>\n",
       "  </thead>\n",
       "  <tbody>\n",
       "    <tr>\n",
       "      <th>0</th>\n",
       "      <td>ENVO:00001999</td>\n",
       "      <td>marine water body</td>\n",
       "    </tr>\n",
       "    <tr>\n",
       "      <th>1</th>\n",
       "      <td>ENVO:01000188</td>\n",
       "      <td>tropical savanna biome</td>\n",
       "    </tr>\n",
       "    <tr>\n",
       "      <th>2</th>\n",
       "      <td>ENVO:00000487</td>\n",
       "      <td>paternoster lake</td>\n",
       "    </tr>\n",
       "    <tr>\n",
       "      <th>3</th>\n",
       "      <td>ENVO:01000860</td>\n",
       "      <td>temperate marine upwelling biome</td>\n",
       "    </tr>\n",
       "    <tr>\n",
       "      <th>4</th>\n",
       "      <td>ENVO:01000199</td>\n",
       "      <td>mediterranean forest biome</td>\n",
       "    </tr>\n",
       "    <tr>\n",
       "      <th>...</th>\n",
       "      <td>...</td>\n",
       "      <td>...</td>\n",
       "    </tr>\n",
       "    <tr>\n",
       "      <th>1731</th>\n",
       "      <td>ENVO:01000429</td>\n",
       "      <td>burrow</td>\n",
       "    </tr>\n",
       "    <tr>\n",
       "      <th>1732</th>\n",
       "      <td>ENVO:01000431</td>\n",
       "      <td>mixed forest</td>\n",
       "    </tr>\n",
       "    <tr>\n",
       "      <th>1733</th>\n",
       "      <td>ENVO:01000536</td>\n",
       "      <td>factory</td>\n",
       "    </tr>\n",
       "    <tr>\n",
       "      <th>1734</th>\n",
       "      <td>ENVO:00000873</td>\n",
       "      <td>freshwater biome</td>\n",
       "    </tr>\n",
       "    <tr>\n",
       "      <th>1735</th>\n",
       "      <td>ENVO:03500002</td>\n",
       "      <td>public park</td>\n",
       "    </tr>\n",
       "  </tbody>\n",
       "</table>\n",
       "<p>1736 rows × 2 columns</p>\n",
       "</div>"
      ]
     },
     "execution_count": 37,
     "metadata": {},
     "output_type": "execute_result"
    }
   ],
   "execution_count": 37
  },
  {
   "cell_type": "markdown",
   "id": "857f1f1efd4635b9",
   "metadata": {},
   "source": "# Classes from the reference enumeration"
  },
  {
   "cell_type": "code",
   "id": "1432828ce7983148",
   "metadata": {
    "ExecuteTime": {
     "end_time": "2025-01-08T22:28:08.640688Z",
     "start_time": "2025-01-08T22:28:04.920986Z"
    }
   },
   "source": [
    "sv = get_schemaview_from_source(previous_submission_schema_url)"
   ],
   "outputs": [],
   "execution_count": 38
  },
  {
   "cell_type": "code",
   "id": "5841e0d6bc3d3c40",
   "metadata": {
    "ExecuteTime": {
     "end_time": "2025-01-08T22:28:08.684925Z",
     "start_time": "2025-01-08T22:28:08.680630Z"
    }
   },
   "source": [
    "# todo break out slow steps into its own cell\n",
    "\n",
    "try:\n",
    "    CONTEXT_ENUM_def = sv.get_enum(CONTEXT_ENUM)\n",
    "    context_pvs_keys = list(CONTEXT_ENUM_def.permissible_values.keys())\n",
    "except AttributeError as e:\n",
    "    # Handle the AttributeError\n",
    "    print(f\"An AttributeError occurred: {e}\")\n",
    "    context_pvs_keys = []\n"
   ],
   "outputs": [],
   "execution_count": 39
  },
  {
   "metadata": {
    "ExecuteTime": {
     "end_time": "2025-01-08T22:28:08.707925Z",
     "start_time": "2025-01-08T22:28:08.704372Z"
    }
   },
   "cell_type": "code",
   "source": "print(context_pvs_keys)",
   "id": "e47067e5b704ee70",
   "outputs": [
    {
     "name": "stdout",
     "output_type": "stream",
     "text": [
      "['astronomical body part [ENVO:01000813]', '__coast [ENVO:01000687]', '__solid astronomical body part [ENVO:00000191]', '______landform [ENVO:01001886]', '______channel [ENVO:03000117]', '________tunnel [ENVO:00000068]', '______surface landform [ENVO:01001884]', '________desert [ENVO:01001357]', '________outcrop [ENVO:01000302]', '________boulder field [ENVO:00000537]', '________landfill [ENVO:00000533]', '________hummock [ENVO:00000516]', '________terrace [ENVO:00000508]', '________peninsula [ENVO:00000305]', '________shore [ENVO:00000304]', '__________lake shore [ENVO:00000382]', '________dry lake [ENVO:00000277]', '________karst [ENVO:00000175]', '________isthmus [ENVO:00000174]', '________badland [ENVO:00000127]', '________volcanic feature [ENVO:00000094]', '__________volcanic cone [ENVO:00000398]', '____________tuff cone [ENVO:01000664]', '________beach [ENVO:00000091]', '________plain [ENVO:00000086]', '________cave [ENVO:00000067]', '________spring [ENVO:00000027]', '______slope [ENVO:00002000]', '________talus slope [ENVO:01000334]', '________hillside [ENVO:01000333]', '________levee [ENVO:00000178]', '________bank [ENVO:00000141]', '________cliff [ENVO:00000087]', '______peak [ENVO:00000480]', '______depressed landform [ENVO:00000309]', '________geographic basin [ENVO:03000015]', '__________valley [ENVO:00000100]', '____________canyon [ENVO:00000169]', '____________dry valley [ENVO:00000128]', '____________glacial valley [ENVO:00000248]', '________pit [ENVO:01001871]', '________trench [ENVO:01000649]', '________swale [ENVO:00000543]', '________crater [ENVO:00000514]', '__________impact crater [ENVO:01001071]', '__________volcanic crater [ENVO:00000246]', '__________caldera [ENVO:00000096]', '________channel of a watercourse [ENVO:00000395]', '__________strait [ENVO:00000394]', '__________dry stream [ENVO:00000278]', '____________dry river [ENVO:01000995]', '__________artificial channel [ENVO:00000121]', '____________plumbing drain [ENVO:01000924]', '____________ditch [ENVO:00000037]', '________sinkhole [ENVO:00000195]', '______elevated landform [ENVO:00000176]', '________flattened elevation [ENVO:01001491]', '__________butte [ENVO:00000287]', '__________plateau [ENVO:00000182]', '__________mesa [ENVO:00000179]', '________pinnacle [ENVO:00000481]', '________mount [ENVO:00000477]', '__________hill [ENVO:00000083]', '____________dune [ENVO:00000170]', '__________mountain [ENVO:00000081]', '________ridge [ENVO:00000283]', '____part of a landmass [ENVO:01001781]', '______peninsula [ENVO:00000305]', '____geological fracture [ENVO:01000667]', '______vein [ENVO:01000670]', '______geological fault [ENVO:01000668]', '________active geological fault [ENVO:01000669]', '______volcano [ENVO:00000247]', '__field [ENVO:01000352]', '____lava field [ENVO:01000437]', '____gravel field [ENVO:00000548]', '____woodland clearing [ENVO:00000444]', '____agricultural field [ENVO:00000114]', '____snow field [ENVO:00000146]', '__geographic feature [ENVO:00000000]', '____hydrographic feature [ENVO:00000012]', '______reef [ENVO:01001899]', '______inlet [ENVO:00000475]', '______bar [ENVO:00000167]', '________tombolo [ENVO:00000420]', '____anthropogenic geographic feature [ENVO:00000002]', '______yard [ENVO:03600053]', '________residential backyard [ENVO:03600033]', '______market [ENVO:01000987]', '______park [ENVO:00000562]', '______well [ENVO:00000026]', '______garden [ENVO:00000011]']\n"
     ]
    }
   ],
   "execution_count": 40
  },
  {
   "cell_type": "code",
   "id": "79282f64358e1608",
   "metadata": {
    "ExecuteTime": {
     "end_time": "2025-01-08T22:28:08.761112Z",
     "start_time": "2025-01-08T22:28:08.758011Z"
    }
   },
   "source": [
    "initially_parsed_context_pvs = parse_hierarchically_underscored_strings(context_pvs_keys)"
   ],
   "outputs": [],
   "execution_count": 41
  },
  {
   "cell_type": "code",
   "id": "5a9492fa605534f2",
   "metadata": {
    "ExecuteTime": {
     "end_time": "2025-01-08T22:28:08.810372Z",
     "start_time": "2025-01-08T22:28:08.807193Z"
    }
   },
   "source": [
    "deduped_context_pvs = dedupe_underscoreless_pvs(initially_parsed_context_pvs)"
   ],
   "outputs": [],
   "execution_count": 42
  },
  {
   "cell_type": "code",
   "id": "214c2e6c9a7089a8",
   "metadata": {
    "ExecuteTime": {
     "end_time": "2025-01-08T22:28:08.889791Z",
     "start_time": "2025-01-08T22:28:08.854846Z"
    }
   },
   "source": [
    "pv_validation_results = validate_curie_label_list_dict(deduped_context_pvs, envo_adapter, print_flag=True)"
   ],
   "outputs": [],
   "execution_count": 43
  },
  {
   "cell_type": "code",
   "id": "e84872aa4f8a9313",
   "metadata": {
    "ExecuteTime": {
     "end_time": "2025-01-08T22:28:13.963933Z",
     "start_time": "2025-01-08T22:28:13.952516Z"
    }
   },
   "source": [
    "pv_validation_results"
   ],
   "outputs": [
    {
     "data": {
      "text/plain": [
       "{'problems': [],\n",
       " 'valids': [{'curie': 'ENVO:01000813', 'label': 'astronomical body part'},\n",
       "  {'curie': 'ENVO:01000687', 'label': 'coast'},\n",
       "  {'curie': 'ENVO:00000191', 'label': 'solid astronomical body part'},\n",
       "  {'curie': 'ENVO:01001886', 'label': 'landform'},\n",
       "  {'curie': 'ENVO:03000117', 'label': 'channel'},\n",
       "  {'curie': 'ENVO:00000068', 'label': 'tunnel'},\n",
       "  {'curie': 'ENVO:01001884', 'label': 'surface landform'},\n",
       "  {'curie': 'ENVO:01001357', 'label': 'desert'},\n",
       "  {'curie': 'ENVO:01000302', 'label': 'outcrop'},\n",
       "  {'curie': 'ENVO:00000537', 'label': 'boulder field'},\n",
       "  {'curie': 'ENVO:00000533', 'label': 'landfill'},\n",
       "  {'curie': 'ENVO:00000516', 'label': 'hummock'},\n",
       "  {'curie': 'ENVO:00000508', 'label': 'terrace'},\n",
       "  {'curie': 'ENVO:00000305', 'label': 'peninsula'},\n",
       "  {'curie': 'ENVO:00000304', 'label': 'shore'},\n",
       "  {'curie': 'ENVO:00000382', 'label': 'lake shore'},\n",
       "  {'curie': 'ENVO:00000277', 'label': 'dry lake'},\n",
       "  {'curie': 'ENVO:00000175', 'label': 'karst'},\n",
       "  {'curie': 'ENVO:00000174', 'label': 'isthmus'},\n",
       "  {'curie': 'ENVO:00000127', 'label': 'badland'},\n",
       "  {'curie': 'ENVO:00000094', 'label': 'volcanic feature'},\n",
       "  {'curie': 'ENVO:00000398', 'label': 'volcanic cone'},\n",
       "  {'curie': 'ENVO:01000664', 'label': 'tuff cone'},\n",
       "  {'curie': 'ENVO:00000091', 'label': 'beach'},\n",
       "  {'curie': 'ENVO:00000086', 'label': 'plain'},\n",
       "  {'curie': 'ENVO:00000067', 'label': 'cave'},\n",
       "  {'curie': 'ENVO:00000027', 'label': 'spring'},\n",
       "  {'curie': 'ENVO:00002000', 'label': 'slope'},\n",
       "  {'curie': 'ENVO:01000334', 'label': 'talus slope'},\n",
       "  {'curie': 'ENVO:01000333', 'label': 'hillside'},\n",
       "  {'curie': 'ENVO:00000178', 'label': 'levee'},\n",
       "  {'curie': 'ENVO:00000141', 'label': 'bank'},\n",
       "  {'curie': 'ENVO:00000087', 'label': 'cliff'},\n",
       "  {'curie': 'ENVO:00000480', 'label': 'peak'},\n",
       "  {'curie': 'ENVO:00000309', 'label': 'depressed landform'},\n",
       "  {'curie': 'ENVO:03000015', 'label': 'geographic basin'},\n",
       "  {'curie': 'ENVO:00000100', 'label': 'valley'},\n",
       "  {'curie': 'ENVO:00000169', 'label': 'canyon'},\n",
       "  {'curie': 'ENVO:00000128', 'label': 'dry valley'},\n",
       "  {'curie': 'ENVO:00000248', 'label': 'glacial valley'},\n",
       "  {'curie': 'ENVO:01001871', 'label': 'pit'},\n",
       "  {'curie': 'ENVO:01000649', 'label': 'trench'},\n",
       "  {'curie': 'ENVO:00000543', 'label': 'swale'},\n",
       "  {'curie': 'ENVO:00000514', 'label': 'crater'},\n",
       "  {'curie': 'ENVO:01001071', 'label': 'impact crater'},\n",
       "  {'curie': 'ENVO:00000246', 'label': 'volcanic crater'},\n",
       "  {'curie': 'ENVO:00000096', 'label': 'caldera'},\n",
       "  {'curie': 'ENVO:00000395', 'label': 'channel of a watercourse'},\n",
       "  {'curie': 'ENVO:00000394', 'label': 'strait'},\n",
       "  {'curie': 'ENVO:00000278', 'label': 'dry stream'},\n",
       "  {'curie': 'ENVO:01000995', 'label': 'dry river'},\n",
       "  {'curie': 'ENVO:00000121', 'label': 'artificial channel'},\n",
       "  {'curie': 'ENVO:01000924', 'label': 'plumbing drain'},\n",
       "  {'curie': 'ENVO:00000037', 'label': 'ditch'},\n",
       "  {'curie': 'ENVO:00000195', 'label': 'sinkhole'},\n",
       "  {'curie': 'ENVO:00000176', 'label': 'elevated landform'},\n",
       "  {'curie': 'ENVO:01001491', 'label': 'flattened elevation'},\n",
       "  {'curie': 'ENVO:00000287', 'label': 'butte'},\n",
       "  {'curie': 'ENVO:00000182', 'label': 'plateau'},\n",
       "  {'curie': 'ENVO:00000179', 'label': 'mesa'},\n",
       "  {'curie': 'ENVO:00000481', 'label': 'pinnacle'},\n",
       "  {'curie': 'ENVO:00000477', 'label': 'mount'},\n",
       "  {'curie': 'ENVO:00000083', 'label': 'hill'},\n",
       "  {'curie': 'ENVO:00000170', 'label': 'dune'},\n",
       "  {'curie': 'ENVO:00000081', 'label': 'mountain'},\n",
       "  {'curie': 'ENVO:00000283', 'label': 'ridge'},\n",
       "  {'curie': 'ENVO:01001781', 'label': 'part of a landmass'},\n",
       "  {'curie': 'ENVO:01000667', 'label': 'geological fracture'},\n",
       "  {'curie': 'ENVO:01000670', 'label': 'vein'},\n",
       "  {'curie': 'ENVO:01000668', 'label': 'geological fault'},\n",
       "  {'curie': 'ENVO:01000669', 'label': 'active geological fault'},\n",
       "  {'curie': 'ENVO:00000247', 'label': 'volcano'},\n",
       "  {'curie': 'ENVO:01000352', 'label': 'field'},\n",
       "  {'curie': 'ENVO:01000437', 'label': 'lava field'},\n",
       "  {'curie': 'ENVO:00000548', 'label': 'gravel field'},\n",
       "  {'curie': 'ENVO:00000444', 'label': 'woodland clearing'},\n",
       "  {'curie': 'ENVO:00000114', 'label': 'agricultural field'},\n",
       "  {'curie': 'ENVO:00000146', 'label': 'snow field'},\n",
       "  {'curie': 'ENVO:00000000', 'label': 'geographic feature'},\n",
       "  {'curie': 'ENVO:00000012', 'label': 'hydrographic feature'},\n",
       "  {'curie': 'ENVO:01001899', 'label': 'reef'},\n",
       "  {'curie': 'ENVO:00000475', 'label': 'inlet'},\n",
       "  {'curie': 'ENVO:00000167', 'label': 'bar'},\n",
       "  {'curie': 'ENVO:00000420', 'label': 'tombolo'},\n",
       "  {'curie': 'ENVO:00000002', 'label': 'anthropogenic geographic feature'},\n",
       "  {'curie': 'ENVO:03600053', 'label': 'yard'},\n",
       "  {'curie': 'ENVO:03600033', 'label': 'residential backyard'},\n",
       "  {'curie': 'ENVO:01000987', 'label': 'market'},\n",
       "  {'curie': 'ENVO:00000562', 'label': 'park'},\n",
       "  {'curie': 'ENVO:00000026', 'label': 'well'},\n",
       "  {'curie': 'ENVO:00000011', 'label': 'garden'}]}"
      ]
     },
     "execution_count": 44,
     "metadata": {},
     "output_type": "execute_result"
    }
   ],
   "execution_count": 44
  },
  {
   "cell_type": "markdown",
   "id": "363063c37a433d70",
   "metadata": {},
   "source": "# Get the CURIEs used in NMDC Biosample annotations"
  },
  {
   "cell_type": "code",
   "id": "656e23e9eab154b0",
   "metadata": {
    "ExecuteTime": {
     "end_time": "2025-01-08T22:28:19.231906Z",
     "start_time": "2025-01-08T22:28:19.079985Z"
    }
   },
   "source": [
    "if os.path.isfile(all_nmdc_biosamples_file):\n",
    "    print(\n",
    "        f\"{all_nmdc_biosamples_file} is present in the current working directory and will be read into all_nmdc_biosamples.\")\n",
    "    # with open(all_nmdc_biosamples_file, 'r') as file:\n",
    "    #     all_nmdc_biosamples = yaml.full_load(file)\n",
    "    # read as json\n",
    "    with open(all_nmdc_biosamples_file, 'r') as f:\n",
    "        all_nmdc_biosamples = json.load(f)\n",
    "\n",
    "else:\n",
    "    print(f\"All NMDC Biosamples need to be fetched and saved to {all_nmdc_biosamples_file}\")\n",
    "    all_nmdc_biosamples = get_docs_from_nmdc_collection(NMDC_RUNTIME_BASE_URL,\n",
    "                                                        BIOSAMPLE_SET_COLLECTION)\n",
    "    # with open(all_nmdc_biosamples_file, 'w') as file:\n",
    "    #     documents = yaml.dump(all_nmdc_biosamples, file)\n",
    "    # save as json\n",
    "    with open(all_nmdc_biosamples_file, 'w') as f:\n",
    "        json.dump(all_nmdc_biosamples, f)\n",
    "\n",
    "# this saves network traffic. could use JSON for faster performance. \n",
    "# 1 minute for network fetch and JSON write?!\n",
    "# 1 minute for yaml read\n",
    "# instantaneous for JSON read?"
   ],
   "outputs": [
    {
     "name": "stdout",
     "output_type": "stream",
     "text": [
      "all_nmdc_biosamples.json is present in the current working directory and will be read into all_nmdc_biosamples.\n"
     ]
    }
   ],
   "execution_count": 45
  },
  {
   "metadata": {},
   "cell_type": "markdown",
   "source": "## Prediction of env_package annotations ",
   "id": "1566ce7dbafcfc71"
  },
  {
   "metadata": {
    "ExecuteTime": {
     "end_time": "2025-01-08T22:28:24.353473Z",
     "start_time": "2025-01-08T22:28:24.327767Z"
    }
   },
   "cell_type": "code",
   "source": [
    "# Specify the output file name\n",
    "env_packages_file = \"nmdc_biosample_asserted_normalized_and_inferred_env_package.tsv\"\n",
    "\n",
    "if os.path.exists(env_packages_file):\n",
    "    # Load the DataFrame from the file if it exists\n",
    "    print(f\"Loading {env_packages_file} into nmdc_biosample_contexts_frame...\")\n",
    "    nmdc_biosample_contexts_frame = pd.read_csv(env_packages_file, sep='\\t')\n",
    "else:\n",
    "    # File doesn't exist; generate the DataFrame\n",
    "    print(f\"{env_packages_file} not found. Predicting from asserted records and {env_package_override_file}...\")\n",
    "\n",
    "    # Load environment package overrides\n",
    "    env_pacakge_overrides = tsv_to_dict_of_dicts(env_package_override_file, 'id')\n",
    "\n",
    "    # Extract biosample contexts\n",
    "    biosample_contexts_lod = biosamples_lod_context_extractor(\n",
    "        all_nmdc_biosamples, envo_adapter,\n",
    "        my_env_pacakge_overrides=env_pacakge_overrides\n",
    "    )\n",
    "\n",
    "    # Create the DataFrame\n",
    "    nmdc_biosample_contexts_frame = pd.DataFrame(biosample_contexts_lod)\n",
    "\n",
    "    # Print value counts for the 'normalized_env_package' column\n",
    "    print(\"\\n\")\n",
    "    print(\"Value counts for normalized_env_package column:\")\n",
    "    print(nmdc_biosample_contexts_frame['normalized_env_package'].value_counts(dropna=False))\n",
    "    print(\"\\n\")\n",
    "\n",
    "    # Generate package predictions\n",
    "    package_predictions = predict_from_normalized_env_packages(nmdc_biosample_contexts_frame, envo_adapter)\n",
    "\n",
    "    # Add predictions to the DataFrame\n",
    "    nmdc_biosample_contexts_frame['predicted_env_package'] = package_predictions\n",
    "\n",
    "    # Save the DataFrame to the file\n",
    "    nmdc_biosample_contexts_frame.to_csv(env_packages_file, sep='\\t', index=False)\n",
    "    print(f\"env_package predictions saved to {env_packages_file}\")\n",
    "\n"
   ],
   "id": "32cee69d6184218f",
   "outputs": [
    {
     "name": "stdout",
     "output_type": "stream",
     "text": [
      "Loading nmdc_biosample_asserted_normalized_and_inferred_env_package.tsv into nmdc_biosample_contexts_frame...\n"
     ]
    }
   ],
   "execution_count": 46
  },
  {
   "metadata": {
    "ExecuteTime": {
     "end_time": "2025-01-08T22:28:30.039675Z",
     "start_time": "2025-01-08T22:28:30.033358Z"
    }
   },
   "cell_type": "code",
   "source": "nmdc_biosample_contexts_frame['predicted_env_package'].value_counts()",
   "id": "3efd62bb277e589c",
   "outputs": [
    {
     "data": {
      "text/plain": [
       "predicted_env_package\n",
       "soil                                               5916\n",
       "water                                              1603\n",
       "plant-associated                                    476\n",
       "sediment                                            165\n",
       "host-associated                                     156\n",
       "miscellaneous natural or artificial environment     140\n",
       "hydrocarbon resources-fluids_swabs                  114\n",
       "Name: count, dtype: int64"
      ]
     },
     "execution_count": 47,
     "metadata": {},
     "output_type": "execute_result"
    }
   ],
   "execution_count": 47
  },
  {
   "metadata": {},
   "cell_type": "markdown",
   "source": [
    "## env-package prediction complete\n",
    "\n",
    "To-do: save this and don't recreate it if it's available\n",
    "\n",
    "Then get it reviewed by other NMDC stakeholders and inject it into MongoDB if approved"
   ],
   "id": "a86897dcc7d47c55"
  },
  {
   "metadata": {},
   "cell_type": "markdown",
   "source": "## Destructively filter `nmdc_biosample_contexts_frame` by `env_package` ",
   "id": "a3f22287b11f918f"
  },
  {
   "cell_type": "code",
   "id": "d5c6aa902c7187e0",
   "metadata": {
    "ExecuteTime": {
     "end_time": "2025-01-08T22:28:35.066682Z",
     "start_time": "2025-01-08T22:28:35.061966Z"
    }
   },
   "source": [
    "nmdc_biosample_contexts_frame.shape"
   ],
   "outputs": [
    {
     "data": {
      "text/plain": [
       "(8570, 15)"
      ]
     },
     "execution_count": 48,
     "metadata": {},
     "output_type": "execute_result"
    }
   ],
   "execution_count": 48
  },
  {
   "cell_type": "code",
   "id": "2b241bcacf4bb100",
   "metadata": {
    "ExecuteTime": {
     "end_time": "2025-01-08T22:28:35.113702Z",
     "start_time": "2025-01-08T22:28:35.107321Z"
    }
   },
   "source": [
    "nmdc_biosample_contexts_frame = nmdc_biosample_contexts_frame[\n",
    "    nmdc_biosample_contexts_frame['predicted_env_package'] == nmdc_package_selector]"
   ],
   "outputs": [],
   "execution_count": 49
  },
  {
   "cell_type": "code",
   "id": "9045896aa4ea468f",
   "metadata": {
    "ExecuteTime": {
     "end_time": "2025-01-08T22:28:35.155154Z",
     "start_time": "2025-01-08T22:28:35.149553Z"
    }
   },
   "source": [
    "nmdc_biosample_contexts_frame.shape"
   ],
   "outputs": [
    {
     "data": {
      "text/plain": [
       "(5916, 15)"
      ]
     },
     "execution_count": 50,
     "metadata": {},
     "output_type": "execute_result"
    }
   ],
   "execution_count": 50
  },
  {
   "cell_type": "markdown",
   "id": "aee7b4eea48a8691",
   "metadata": {},
   "source": "# Long process of predicting OBO foundry CURIes from NCBI Biosamples"
  },
  {
   "metadata": {},
   "cell_type": "markdown",
   "source": [
    "## Start by getting unique annotations? Pre-counted by Biosamples\n",
    "\n",
    "Current task is to provide counts by \"study\" aka Bioproject in addition to Biosample counts or instead of Biosamples counts if necessary"
   ],
   "id": "fc58f6a0b79cbfa1"
  },
  {
   "cell_type": "code",
   "id": "3be362b73dbda47a",
   "metadata": {
    "ExecuteTime": {
     "end_time": "2025-01-08T22:28:37.601144Z",
     "start_time": "2025-01-08T22:28:35.231016Z"
    }
   },
   "source": "ncbi_frame = ncbi_conn.execute(ncbi_X_per_annotation_query).fetchdf()\n",
   "outputs": [
    {
     "data": {
      "text/plain": [
       "FloatProgress(value=0.0, layout=Layout(width='auto'), style=ProgressStyle(bar_color='black'))"
      ],
      "application/vnd.jupyter.widget-view+json": {
       "version_major": 2,
       "version_minor": 0,
       "model_id": "1774565a601347e797c00aa5576ec67f"
      }
     },
     "metadata": {},
     "output_type": "display_data"
    }
   ],
   "execution_count": 51
  },
  {
   "cell_type": "code",
   "id": "306ee79ce77f745e",
   "metadata": {
    "ExecuteTime": {
     "end_time": "2025-01-08T22:28:37.609135Z",
     "start_time": "2025-01-08T22:28:37.605245Z"
    }
   },
   "source": [
    "ncbi_frame.insert(0, 'serial_number', range(1, len(ncbi_frame) + 1))"
   ],
   "outputs": [],
   "execution_count": 52
  },
  {
   "cell_type": "code",
   "id": "6f06a6237f0ecdb",
   "metadata": {
    "ExecuteTime": {
     "end_time": "2025-01-08T22:28:42.864375Z",
     "start_time": "2025-01-08T22:28:42.861905Z"
    }
   },
   "source": [
    "# includes values with counts of one... useful for discovering drag-down submissions?"
   ],
   "outputs": [],
   "execution_count": 53
  },
  {
   "metadata": {},
   "cell_type": "markdown",
   "source": [
    "## MIxS and NCBI guidelines imply environmental context slots are multivalued\n",
    "and that the pipe `|` should be used as a delimiter\n",
    "\n",
    "there's an envo_count value below that indicates how ofter other delimiters might be used"
   ],
   "id": "1b851c8ef274382c"
  },
  {
   "cell_type": "code",
   "id": "f07e55ebd0f4c451",
   "metadata": {
    "ExecuteTime": {
     "end_time": "2025-01-08T22:28:48.043182Z",
     "start_time": "2025-01-08T22:28:48.035949Z"
    }
   },
   "source": [
    "ncbi_frame['content_list'] = ncbi_frame['content'].str.split('|')"
   ],
   "outputs": [],
   "execution_count": 54
  },
  {
   "metadata": {
    "ExecuteTime": {
     "end_time": "2025-01-08T22:28:53.889947Z",
     "start_time": "2025-01-08T22:28:53.885114Z"
    }
   },
   "cell_type": "code",
   "source": [
    "# todo is there any reason to not do this ?\n",
    "ncbi_frame = ncbi_frame[ncbi_frame['content'].notna() & (ncbi_frame['content'] != '')]"
   ],
   "id": "2e96404aa5dd0f7b",
   "outputs": [],
   "execution_count": 55
  },
  {
   "cell_type": "code",
   "id": "f8c2e13cee8818cb",
   "metadata": {
    "ExecuteTime": {
     "end_time": "2025-01-08T22:29:03.995691Z",
     "start_time": "2025-01-08T22:29:03.989088Z"
    }
   },
   "source": [
    "ncbi_frame['content_count'] = ncbi_frame['content_list'].apply(len)"
   ],
   "outputs": [],
   "execution_count": 56
  },
  {
   "cell_type": "code",
   "id": "edeaac7b5ce53cd5",
   "metadata": {
    "ExecuteTime": {
     "end_time": "2025-01-08T22:29:09.088416Z",
     "start_time": "2025-01-08T22:29:09.084104Z"
    }
   },
   "source": [
    "ncbi_frame.shape"
   ],
   "outputs": [
    {
     "data": {
      "text/plain": [
       "(9820, 5)"
      ]
     },
     "execution_count": 57,
     "metadata": {},
     "output_type": "execute_result"
    }
   ],
   "execution_count": 57
  },
  {
   "cell_type": "code",
   "id": "18860251fea32ee5",
   "metadata": {
    "ExecuteTime": {
     "end_time": "2025-01-08T22:29:09.118243Z",
     "start_time": "2025-01-08T22:29:09.095333Z"
    }
   },
   "source": [
    "ncbi_frame = ncbi_frame.explode('content_list').reset_index(drop=True)"
   ],
   "outputs": [],
   "execution_count": 58
  },
  {
   "cell_type": "code",
   "id": "bc8b89960c12f6e6",
   "metadata": {
    "ExecuteTime": {
     "end_time": "2025-01-08T22:29:15.034477Z",
     "start_time": "2025-01-08T22:29:15.030641Z"
    }
   },
   "source": [
    "ncbi_frame.shape"
   ],
   "outputs": [
    {
     "data": {
      "text/plain": [
       "(10293, 5)"
      ]
     },
     "execution_count": 59,
     "metadata": {},
     "output_type": "execute_result"
    }
   ],
   "execution_count": 59
  },
  {
   "metadata": {},
   "cell_type": "markdown",
   "source": [
    "## splitting adds ~ 5% more rows\n",
    "which might be important since were currently using a longest annotation strategy here"
   ],
   "id": "f02aaf625f4158d3"
  },
  {
   "cell_type": "code",
   "id": "85a0a4ccd63b7952",
   "metadata": {
    "ExecuteTime": {
     "end_time": "2025-01-08T22:29:20.245036Z",
     "start_time": "2025-01-08T22:29:20.242502Z"
    }
   },
   "source": [
    "# how many content_list strings contain envo multiple times now?"
   ],
   "outputs": [],
   "execution_count": 60
  },
  {
   "cell_type": "code",
   "id": "4dee374026c8272a",
   "metadata": {
    "ExecuteTime": {
     "end_time": "2025-01-08T22:29:25.429741Z",
     "start_time": "2025-01-08T22:29:25.417972Z"
    }
   },
   "source": [
    "ncbi_frame['envo_count'] = ncbi_frame['content_list'].str.lower().str.count(\"envo\")"
   ],
   "outputs": [],
   "execution_count": 61
  },
  {
   "cell_type": "code",
   "id": "417319d62ef07d0b",
   "metadata": {
    "ExecuteTime": {
     "end_time": "2025-01-08T22:29:36.510623Z",
     "start_time": "2025-01-08T22:29:36.505060Z"
    }
   },
   "source": [
    "ncbi_frame['envo_count'].value_counts()"
   ],
   "outputs": [
    {
     "data": {
      "text/plain": [
       "envo_count\n",
       "0    8188\n",
       "1    2094\n",
       "2       9\n",
       "3       1\n",
       "4       1\n",
       "Name: count, dtype: int64"
      ]
     },
     "execution_count": 62,
     "metadata": {},
     "output_type": "execute_result"
    }
   ],
   "execution_count": 62
  },
  {
   "metadata": {},
   "cell_type": "markdown",
   "source": [
    "## If my math is correct, about 0.1% of the annotations still contain multiple CURIes \n",
    "after splitting on pipes\n",
    "\n",
    "There will also be annotations with multiple label-like strings that weren't split because they were not delimited on pipes\n",
    "That might be a source of lost information since we are using a longest-match annotator here\n",
    "I.e. there could be annotations with multiple hits worth keeping"
   ],
   "id": "21fb4262b735aedc"
  },
  {
   "metadata": {},
   "cell_type": "markdown",
   "source": [
    "## Parsing out CURIEs\n",
    "\n",
    "this has a few limitations. The function only tries pre-specified prefixes (['ENVO'] by default) and only considers colons and underscores valid delimiters."
   ],
   "id": "119dbec6ecf9c65c"
  },
  {
   "cell_type": "code",
   "id": "7b256380eceaceaa",
   "metadata": {
    "ExecuteTime": {
     "end_time": "2025-01-08T22:29:37.947953Z",
     "start_time": "2025-01-08T22:29:36.517406Z"
    }
   },
   "source": [
    "ncbi_frame[['extracted_label', 'extracted_curie']] = ncbi_frame['content_list'].apply(parse_curie_label)"
   ],
   "outputs": [],
   "execution_count": 63
  },
  {
   "cell_type": "code",
   "id": "761e39ab29aef0a7",
   "metadata": {
    "ExecuteTime": {
     "end_time": "2025-01-08T22:29:37.990864Z",
     "start_time": "2025-01-08T22:29:37.985946Z"
    }
   },
   "source": [
    "parse_failures = ncbi_frame[\n",
    "    (ncbi_frame['envo_count'] > 0) & (ncbi_frame['extracted_curie'].isna() | (ncbi_frame['extracted_curie'] == ''))]\n"
   ],
   "outputs": [],
   "execution_count": 64
  },
  {
   "metadata": {},
   "cell_type": "markdown",
   "source": [
    "## In what kinds of cases could no CURIe be parsed\n",
    "despite the presence of \"ENVO\" in the content string?"
   ],
   "id": "e618518e6e85b5aa"
  },
  {
   "cell_type": "code",
   "id": "a9316f11da9ee0c8",
   "metadata": {
    "ExecuteTime": {
     "end_time": "2025-01-08T22:29:38.010513Z",
     "start_time": "2025-01-08T22:29:37.999214Z"
    }
   },
   "source": [
    "parse_failures"
   ],
   "outputs": [
    {
     "data": {
      "text/plain": [
       "       serial_number                                      content  count  \\\n",
       "322              318                                    ENVO:Soil      3   \n",
       "1398            1341                                  ENVO0000039      1   \n",
       "1471            1412                                  ENVO0000071      1   \n",
       "1472            1413                                  ENVO0000078      1   \n",
       "1473            1414                                  ENVO0000229      1   \n",
       "...              ...                                          ...    ...   \n",
       "10246           9778                                  ENVO0000151      1   \n",
       "10247           9779                                  ENVO0000208      1   \n",
       "10248           9780                                  ENVO0000243      1   \n",
       "10279           9809  forest soilENVO:00002261 Sampling point 105      1   \n",
       "10280           9810  forest soilENVO:00002261 Sampling point 198      1   \n",
       "\n",
       "                                      content_list  content_count  envo_count  \\\n",
       "322                                      ENVO:Soil              1           1   \n",
       "1398                                   ENVO0000039              1           1   \n",
       "1471                                   ENVO0000071              1           1   \n",
       "1472                                   ENVO0000078              1           1   \n",
       "1473                                   ENVO0000229              1           1   \n",
       "...                                            ...            ...         ...   \n",
       "10246                                  ENVO0000151              1           1   \n",
       "10247                                  ENVO0000208              1           1   \n",
       "10248                                  ENVO0000243              1           1   \n",
       "10279  forest soilENVO:00002261 Sampling point 105              1           1   \n",
       "10280  forest soilENVO:00002261 Sampling point 198              1           1   \n",
       "\n",
       "                                   extracted_label extracted_curie  \n",
       "322                                      ENVO Soil            None  \n",
       "1398                                   ENVO0000039            None  \n",
       "1471                                   ENVO0000071            None  \n",
       "1472                                   ENVO0000078            None  \n",
       "1473                                   ENVO0000229            None  \n",
       "...                                            ...             ...  \n",
       "10246                                  ENVO0000151            None  \n",
       "10247                                  ENVO0000208            None  \n",
       "10248                                  ENVO0000243            None  \n",
       "10279  forest soilENVO 00002261 Sampling point 105            None  \n",
       "10280  forest soilENVO 00002261 Sampling point 198            None  \n",
       "\n",
       "[453 rows x 8 columns]"
      ],
      "text/html": [
       "<div>\n",
       "<style scoped>\n",
       "    .dataframe tbody tr th:only-of-type {\n",
       "        vertical-align: middle;\n",
       "    }\n",
       "\n",
       "    .dataframe tbody tr th {\n",
       "        vertical-align: top;\n",
       "    }\n",
       "\n",
       "    .dataframe thead th {\n",
       "        text-align: right;\n",
       "    }\n",
       "</style>\n",
       "<table border=\"1\" class=\"dataframe\">\n",
       "  <thead>\n",
       "    <tr style=\"text-align: right;\">\n",
       "      <th></th>\n",
       "      <th>serial_number</th>\n",
       "      <th>content</th>\n",
       "      <th>count</th>\n",
       "      <th>content_list</th>\n",
       "      <th>content_count</th>\n",
       "      <th>envo_count</th>\n",
       "      <th>extracted_label</th>\n",
       "      <th>extracted_curie</th>\n",
       "    </tr>\n",
       "  </thead>\n",
       "  <tbody>\n",
       "    <tr>\n",
       "      <th>322</th>\n",
       "      <td>318</td>\n",
       "      <td>ENVO:Soil</td>\n",
       "      <td>3</td>\n",
       "      <td>ENVO:Soil</td>\n",
       "      <td>1</td>\n",
       "      <td>1</td>\n",
       "      <td>ENVO Soil</td>\n",
       "      <td>None</td>\n",
       "    </tr>\n",
       "    <tr>\n",
       "      <th>1398</th>\n",
       "      <td>1341</td>\n",
       "      <td>ENVO0000039</td>\n",
       "      <td>1</td>\n",
       "      <td>ENVO0000039</td>\n",
       "      <td>1</td>\n",
       "      <td>1</td>\n",
       "      <td>ENVO0000039</td>\n",
       "      <td>None</td>\n",
       "    </tr>\n",
       "    <tr>\n",
       "      <th>1471</th>\n",
       "      <td>1412</td>\n",
       "      <td>ENVO0000071</td>\n",
       "      <td>1</td>\n",
       "      <td>ENVO0000071</td>\n",
       "      <td>1</td>\n",
       "      <td>1</td>\n",
       "      <td>ENVO0000071</td>\n",
       "      <td>None</td>\n",
       "    </tr>\n",
       "    <tr>\n",
       "      <th>1472</th>\n",
       "      <td>1413</td>\n",
       "      <td>ENVO0000078</td>\n",
       "      <td>1</td>\n",
       "      <td>ENVO0000078</td>\n",
       "      <td>1</td>\n",
       "      <td>1</td>\n",
       "      <td>ENVO0000078</td>\n",
       "      <td>None</td>\n",
       "    </tr>\n",
       "    <tr>\n",
       "      <th>1473</th>\n",
       "      <td>1414</td>\n",
       "      <td>ENVO0000229</td>\n",
       "      <td>1</td>\n",
       "      <td>ENVO0000229</td>\n",
       "      <td>1</td>\n",
       "      <td>1</td>\n",
       "      <td>ENVO0000229</td>\n",
       "      <td>None</td>\n",
       "    </tr>\n",
       "    <tr>\n",
       "      <th>...</th>\n",
       "      <td>...</td>\n",
       "      <td>...</td>\n",
       "      <td>...</td>\n",
       "      <td>...</td>\n",
       "      <td>...</td>\n",
       "      <td>...</td>\n",
       "      <td>...</td>\n",
       "      <td>...</td>\n",
       "    </tr>\n",
       "    <tr>\n",
       "      <th>10246</th>\n",
       "      <td>9778</td>\n",
       "      <td>ENVO0000151</td>\n",
       "      <td>1</td>\n",
       "      <td>ENVO0000151</td>\n",
       "      <td>1</td>\n",
       "      <td>1</td>\n",
       "      <td>ENVO0000151</td>\n",
       "      <td>None</td>\n",
       "    </tr>\n",
       "    <tr>\n",
       "      <th>10247</th>\n",
       "      <td>9779</td>\n",
       "      <td>ENVO0000208</td>\n",
       "      <td>1</td>\n",
       "      <td>ENVO0000208</td>\n",
       "      <td>1</td>\n",
       "      <td>1</td>\n",
       "      <td>ENVO0000208</td>\n",
       "      <td>None</td>\n",
       "    </tr>\n",
       "    <tr>\n",
       "      <th>10248</th>\n",
       "      <td>9780</td>\n",
       "      <td>ENVO0000243</td>\n",
       "      <td>1</td>\n",
       "      <td>ENVO0000243</td>\n",
       "      <td>1</td>\n",
       "      <td>1</td>\n",
       "      <td>ENVO0000243</td>\n",
       "      <td>None</td>\n",
       "    </tr>\n",
       "    <tr>\n",
       "      <th>10279</th>\n",
       "      <td>9809</td>\n",
       "      <td>forest soilENVO:00002261 Sampling point 105</td>\n",
       "      <td>1</td>\n",
       "      <td>forest soilENVO:00002261 Sampling point 105</td>\n",
       "      <td>1</td>\n",
       "      <td>1</td>\n",
       "      <td>forest soilENVO 00002261 Sampling point 105</td>\n",
       "      <td>None</td>\n",
       "    </tr>\n",
       "    <tr>\n",
       "      <th>10280</th>\n",
       "      <td>9810</td>\n",
       "      <td>forest soilENVO:00002261 Sampling point 198</td>\n",
       "      <td>1</td>\n",
       "      <td>forest soilENVO:00002261 Sampling point 198</td>\n",
       "      <td>1</td>\n",
       "      <td>1</td>\n",
       "      <td>forest soilENVO 00002261 Sampling point 198</td>\n",
       "      <td>None</td>\n",
       "    </tr>\n",
       "  </tbody>\n",
       "</table>\n",
       "<p>453 rows × 8 columns</p>\n",
       "</div>"
      ]
     },
     "execution_count": 65,
     "metadata": {},
     "output_type": "execute_result"
    }
   ],
   "execution_count": 65
  },
  {
   "metadata": {},
   "cell_type": "markdown",
   "source": "## Retrieve the labels for the parsed CURIes",
   "id": "ab4b8ef4ac9758e2"
  },
  {
   "cell_type": "code",
   "id": "9bdebd91856ff679",
   "metadata": {
    "ExecuteTime": {
     "end_time": "2025-01-08T22:29:40.664063Z",
     "start_time": "2025-01-08T22:29:38.082082Z"
    }
   },
   "source": "ncbi_frame['real_label'] = ncbi_frame['extracted_curie'].apply(po_adapter.label)",
   "outputs": [],
   "execution_count": 66
  },
  {
   "metadata": {},
   "cell_type": "markdown",
   "source": [
    "## Apply oaklib annotation to the strings after CURIe removal\n",
    "Actually the annotator can (sometimes?) detect colon-delimited CURIEs with lower case prefixes\n",
    "\n",
    "This returns CURIes with evidence but not necessarily the label corresponding to the CURIe"
   ],
   "id": "9710b8f5b9a39057"
  },
  {
   "metadata": {
    "ExecuteTime": {
     "end_time": "2025-01-08T22:29:40.673284Z",
     "start_time": "2025-01-08T22:29:40.670108Z"
    }
   },
   "cell_type": "code",
   "source": [
    "# # Specify the lexical index file name\n",
    "# aggregated_lexical_index_file = \"aggregated_lexical_index.yaml\"\n",
    "# \n",
    "# # Check if the lexical index file exists\n",
    "# if os.path.exists(aggregated_lexical_index_file):\n",
    "#     print(f\"Loading lexical index from {aggregated_lexical_index_file}...\")\n",
    "#     ix = load_lexical_index(aggregated_lexical_index_file)\n",
    "# else:\n",
    "#     print(f\"{aggregated_lexical_index_file} not found. Creating lexical index from agg_adapter...\")\n",
    "#     ix = create_lexical_index(agg_adapter)\n",
    "#     # Save the lexical index to a file\n",
    "#     save_lexical_index(ix, aggregated_lexical_index_file)\n",
    "#     print(f\"Lexical index saved to {aggregated_lexical_index_file}\")\n",
    "# \n",
    "# # Initialize the TextAnnotatorInterface\n",
    "# aggregated_text_annotator_interface = TextAnnotatorInterface()\n",
    "# aggregated_text_annotator_interface.lexical_index = ix\n",
    "# \n",
    "# # this cell only takes ~ 1 minute, but generates a lot of \"ERRORS\" and WARNINGS in a red font\n",
    "# #   while lexically indexing the ontology"
   ],
   "id": "542884744a48f7bf",
   "outputs": [],
   "execution_count": 67
  },
  {
   "metadata": {
    "ExecuteTime": {
     "end_time": "2025-01-08T22:29:40.720096Z",
     "start_time": "2025-01-08T22:29:40.717189Z"
    }
   },
   "cell_type": "code",
   "source": "aggregated_text_annotator_interface = AggregatorImplementation(implementations=[envo_adapter, po_adapter])",
   "id": "2656e667961ffd9",
   "outputs": [],
   "execution_count": 68
  },
  {
   "cell_type": "code",
   "id": "d06d899567db022e",
   "metadata": {
    "ExecuteTime": {
     "end_time": "2025-01-08T22:30:21.770372Z",
     "start_time": "2025-01-08T22:29:40.763493Z"
    }
   },
   "source": [
    "# Apply the annotation function to each row in the 'label' column\n",
    "ncbi_frame['longest_annotation_curie'] = ncbi_frame['extracted_label'].apply(\n",
    "    lambda x: get_longest_annotation_curie(x, aggregated_text_annotator_interface, MIN_ANNOTATION_LEN))\n",
    "\n",
    "# ~ 1 minute\n"
   ],
   "outputs": [
    {
     "name": "stderr",
     "output_type": "stream",
     "text": [
      "ERROR:root:Skipping statements(subject=ENVO:00000112,predicate=oio:hasDbXref,object=<http://www.eionet.europa.eu/gemet/concept/8704>,value=None,datatype=None,language=None,); ValueError: <http://www.eionet.europa.eu/gemet/concept/8704> is not a valid URI or CURIE\n",
      "ERROR:root:Skipping statements(subject=ENVO:00001996,predicate=oio:hasDbXref,object=<https://en.wikipedia.org/wiki/Acid_mine_drainage>,value=None,datatype=None,language=None,); ValueError: <https://en.wikipedia.org/wiki/Acid_mine_drainage> is not a valid URI or CURIE\n",
      "ERROR:root:Skipping statements(subject=ENVO:01000225,predicate=oio:hasDbXref,object=<https://www.worldwildlife.org/biomes/tropical-and-subtropical-dry-broadleaf-forests>,value=None,datatype=None,language=None,); ValueError: <https://www.worldwildlife.org/biomes/tropical-and-subtropical-dry-broadleaf-forests> is not a valid URI or CURIE\n",
      "ERROR:root:Skipping statements(subject=ENVO:01000227,predicate=oio:hasDbXref,object=<https://www.worldwildlife.org/biomes/tropical-and-subtropical-dry-broadleaf-forests>,value=None,datatype=None,language=None,); ValueError: <https://www.worldwildlife.org/biomes/tropical-and-subtropical-dry-broadleaf-forests> is not a valid URI or CURIE\n",
      "ERROR:root:Skipping statements(subject=ENVO:01001495,predicate=oio:hasDbXref,object=<https://www.goosocean.org/components/com_oe/oe.php?task=download&id=35904&version=2.0&lang=1&format=1>,value=None,datatype=None,language=None,); ValueError: <https://www.goosocean.org/components/com_oe/oe.php?task=download&id=35904&version=2.0&lang=1&format=1> is not a valid URI or CURIE\n",
      "ERROR:root:Skipping statements(subject=ENVO:01001621,predicate=oio:hasDbXref,object=<https://github.com/ESIPFed/sweet/issues/219>,value=None,datatype=None,language=None,); ValueError: <https://github.com/ESIPFed/sweet/issues/219> is not a valid URI or CURIE\n",
      "ERROR:root:Skipping statements(subject=ENVO:01001626,predicate=oio:hasDbXref,object=<https://www.worldwildlife.org/biomes/deserts-and-xeric-shrublands>,value=None,datatype=None,language=None,); ValueError: <https://www.worldwildlife.org/biomes/deserts-and-xeric-shrublands> is not a valid URI or CURIE\n",
      "ERROR:root:Skipping statements(subject=ENVO:01001627,predicate=oio:hasDbXref,object=<https://www.worldwildlife.org/ecoregions/im1304>,value=None,datatype=None,language=None,); ValueError: <https://www.worldwildlife.org/ecoregions/im1304> is not a valid URI or CURIE\n",
      "ERROR:root:Skipping statements(subject=ENVO:01001628,predicate=oio:hasDbXref,object=<https://www.worldwildlife.org/ecoregions/im1303>,value=None,datatype=None,language=None,); ValueError: <https://www.worldwildlife.org/ecoregions/im1303> is not a valid URI or CURIE\n",
      "ERROR:root:Skipping statements(subject=ENVO:01001644,predicate=oio:hasDbXref,object=<http://vocab.nerc.ac.uk/collection/S23/current/S23C021/>,value=None,datatype=None,language=None,); ValueError: <http://vocab.nerc.ac.uk/collection/S23/current/S23C021/> is not a valid URI or CURIE\n",
      "ERROR:root:Skipping statements(subject=ENVO:01001644,predicate=oio:hasDbXref,object=None,value=Carbonate which is formed as the result of some biological process.,datatype=None,language=None,); ValueError: Carbonate which is formed as the result of some biological process. is not a valid URI or CURIE\n",
      "ERROR:root:Skipping statements(subject=ENVO:01001645,predicate=oio:hasDbXref,object=<http://vocab.nerc.ac.uk/collection/S23/current/S23C013/>,value=None,datatype=None,language=None,); ValueError: <http://vocab.nerc.ac.uk/collection/S23/current/S23C013/> is not a valid URI or CURIE\n",
      "ERROR:root:Skipping statements(subject=ENVO:01001646,predicate=oio:hasDbXref,object=<http://vocab.nerc.ac.uk/collection/S23/current/S23C014/>,value=None,datatype=None,language=None,); ValueError: <http://vocab.nerc.ac.uk/collection/S23/current/S23C014/> is not a valid URI or CURIE\n",
      "ERROR:root:Skipping statements(subject=ENVO:01001647,predicate=oio:hasDbXref,object=<http://vocab.nerc.ac.uk/collection/S23/current/S23C004/>,value=None,datatype=None,language=None,); ValueError: <http://vocab.nerc.ac.uk/collection/S23/current/S23C004/> is not a valid URI or CURIE\n",
      "ERROR:root:Skipping statements(subject=ENVO:01001649,predicate=oio:hasDbXref,object=<http://vocab.nerc.ac.uk/collection/S23/current/S23C011/>,value=None,datatype=None,language=None,); ValueError: <http://vocab.nerc.ac.uk/collection/S23/current/S23C011/> is not a valid URI or CURIE\n",
      "ERROR:root:Skipping statements(subject=ENVO:01001650,predicate=oio:hasDbXref,object=<http://vocab.nerc.ac.uk/collection/S23/current/S23C012/>,value=None,datatype=None,language=None,); ValueError: <http://vocab.nerc.ac.uk/collection/S23/current/S23C012/> is not a valid URI or CURIE\n",
      "ERROR:root:Skipping statements(subject=ENVO:01001651,predicate=oio:hasDbXref,object=<http://vocab.nerc.ac.uk/collection/S23/current/S23C003/>,value=None,datatype=None,language=None,); ValueError: <http://vocab.nerc.ac.uk/collection/S23/current/S23C003/> is not a valid URI or CURIE\n",
      "ERROR:root:Skipping statements(subject=ENVO:01001652,predicate=oio:hasDbXref,object=<http://vocab.nerc.ac.uk/collection/S23/current/S23C005/>,value=None,datatype=None,language=None,); ValueError: <http://vocab.nerc.ac.uk/collection/S23/current/S23C005/> is not a valid URI or CURIE\n",
      "ERROR:root:Skipping statements(subject=ENVO:01001685,predicate=oio:hasDbXref,object=<https://github.com/EnvironmentOntology/envo/issues/1319>,value=None,datatype=None,language=None,); ValueError: <https://github.com/EnvironmentOntology/envo/issues/1319> is not a valid URI or CURIE\n",
      "ERROR:root:Skipping statements(subject=ENVO:01001692,predicate=oio:hasDbXref,object=<https://github.com/EnvironmentOntology/envo/issues/1319>,value=None,datatype=None,language=None,); ValueError: <https://github.com/EnvironmentOntology/envo/issues/1319> is not a valid URI or CURIE\n",
      "ERROR:root:Skipping statements(subject=ENVO:01001743,predicate=oio:hasDbXref,object=<https://github.com/EnvironmentOntology/envo/issues/1319>,value=None,datatype=None,language=None,); ValueError: <https://github.com/EnvironmentOntology/envo/issues/1319> is not a valid URI or CURIE\n",
      "ERROR:root:Skipping statements(subject=ENVO:01001799,predicate=oio:hasDbXref,object=<https://www.worldwildlife.org/biomes/tropical-and-subtropical-dry-broadleaf-forests>,value=None,datatype=None,language=None,); ValueError: <https://www.worldwildlife.org/biomes/tropical-and-subtropical-dry-broadleaf-forests> is not a valid URI or CURIE\n",
      "ERROR:root:Skipping statements(subject=ENVO:01001801,predicate=oio:hasDbXref,object=<https://www.worldwildlife.org/biomes/tropical-and-subtropical-dry-broadleaf-forests>,value=None,datatype=None,language=None,); ValueError: <https://www.worldwildlife.org/biomes/tropical-and-subtropical-dry-broadleaf-forests> is not a valid URI or CURIE\n",
      "ERROR:root:Skipping statements(subject=ENVO:01001823,predicate=oio:hasDbXref,object=<https://github.com/EnvironmentOntology/envo/issues/1319>,value=None,datatype=None,language=None,); ValueError: <https://github.com/EnvironmentOntology/envo/issues/1319> is not a valid URI or CURIE\n",
      "ERROR:root:Skipping statements(subject=ENVO:01001878,predicate=oio:hasDbXref,object=<https://www.goosocean.org/index.php?option=com_oe&task=viewDocumentRecord&docID=17476>,value=None,datatype=None,language=None,); ValueError: <https://www.goosocean.org/index.php?option=com_oe&task=viewDocumentRecord&docID=17476> is not a valid URI or CURIE\n",
      "ERROR:root:Skipping statements(subject=ENVO:01001879,predicate=oio:hasDbXref,object=<https://github.com/ESIPFed/sweet/issues/219>,value=None,datatype=None,language=None,); ValueError: <https://github.com/ESIPFed/sweet/issues/219> is not a valid URI or CURIE\n",
      "ERROR:root:Skipping statements(subject=ENVO:01001880,predicate=oio:hasDbXref,object=<https://github.com/ESIPFed/sweet/issues/219>,value=None,datatype=None,language=None,); ValueError: <https://github.com/ESIPFed/sweet/issues/219> is not a valid URI or CURIE\n",
      "ERROR:root:Skipping statements(subject=ENVO:01001881,predicate=oio:hasDbXref,object=<https://github.com/ESIPFed/sweet/issues/219>,value=None,datatype=None,language=None,); ValueError: <https://github.com/ESIPFed/sweet/issues/219> is not a valid URI or CURIE\n",
      "ERROR:root:Skipping statements(subject=ENVO:02000093,predicate=oio:hasDbXref,object=<https://en.wikipedia.org/wiki/Uranium_mining>,value=None,datatype=None,language=None,); ValueError: <https://en.wikipedia.org/wiki/Uranium_mining> is not a valid URI or CURIE\n",
      "ERROR:root:Skipping statements(subject=ENVO:02000094,predicate=oio:hasDbXref,object=<https://en.wikipedia.org/wiki/Ore>,value=None,datatype=None,language=None,); ValueError: <https://en.wikipedia.org/wiki/Ore> is not a valid URI or CURIE\n",
      "ERROR:root:Skipping statements(subject=ENVO:03501363,predicate=oio:hasDbXref,object=<https://www.conveyorsystemsltd.co.uk/news/168/126/Roller-Conveyor-vs-Belt-Conveyor.htm>,value=None,datatype=None,language=None,); ValueError: <https://www.conveyorsystemsltd.co.uk/news/168/126/Roller-Conveyor-vs-Belt-Conveyor.htm> is not a valid URI or CURIE\n",
      "ERROR:root:Skipping statements(subject=ENVO:06105112,predicate=oio:hasDbXref,object=<http://eurovoc.europa.eu/1837>,value=None,datatype=None,language=None,); ValueError: <http://eurovoc.europa.eu/1837> is not a valid URI or CURIE\n",
      "ERROR:root:Skipping statements(subject=ENVO:06105112,predicate=oio:hasDbXref,object=<http://aims.fao.org/aos/agrovoc/c_5998>,value=None,datatype=None,language=None,); ValueError: <http://aims.fao.org/aos/agrovoc/c_5998> is not a valid URI or CURIE\n",
      "WARNING:root:Skipping <http://geneontology.org/foo/applies-pattern> as it is not a valid CURIE\n",
      "WARNING:root:Skipping <http://schema.org/image> as it is not a valid CURIE\n",
      "WARNING:root:Skipping <http://swrl.stanford.edu/ontologies/3.3/swrla.owl#isRuleEnabled> as it is not a valid CURIE\n",
      "WARNING:root:Skipping <https://www.wikidata.org/wiki/Q2306597> as it is not a valid CURIE\n",
      "WARNING:root:Skipping <https://www.wikidata.org/wiki/Q2> as it is not a valid CURIE\n",
      "WARNING:root:Skipping <https://www.wikidata.org/wiki/Q525> as it is not a valid CURIE\n",
      "WARNING:root:Skipping <https://www.wikidata.org/wiki/Q715269> as it is not a valid CURIE\n",
      "WARNING:root:Skipping <http://swrl.stanford.edu/ontologies/3.3/swrla.owl#isRuleEnabled> as it is not a valid CURIE\n"
     ]
    }
   ],
   "execution_count": 69
  },
  {
   "metadata": {},
   "cell_type": "markdown",
   "source": "## Add the labels for the CURIes identified though oaklib annotation of strings",
   "id": "14f0908428dfa322"
  },
  {
   "cell_type": "code",
   "id": "2d0d090813223db3",
   "metadata": {
    "ExecuteTime": {
     "end_time": "2025-01-08T22:30:26.064897Z",
     "start_time": "2025-01-08T22:30:21.815617Z"
    }
   },
   "source": "ncbi_frame['longest_annotation_label'] = ncbi_frame['longest_annotation_curie'].apply(aggregated_text_annotator_interface.label)",
   "outputs": [],
   "execution_count": 70
  },
  {
   "cell_type": "code",
   "id": "940cd4e688adb239",
   "metadata": {
    "ExecuteTime": {
     "end_time": "2025-01-08T22:30:26.080950Z",
     "start_time": "2025-01-08T22:30:26.068334Z"
    }
   },
   "source": [
    "ncbi_frame"
   ],
   "outputs": [
    {
     "data": {
      "text/plain": [
       "       serial_number                    content  count  \\\n",
       "0                  1             not applicable    269   \n",
       "1                  2                    missing    205   \n",
       "2                  3                       soil    203   \n",
       "3                  4              not collected    170   \n",
       "4                  5                     forest     81   \n",
       "...              ...                        ...    ...   \n",
       "10288           9816              SterileClosed      1   \n",
       "10289           9817            cropping system      1   \n",
       "10290           9818         near-rocky-outlier      1   \n",
       "10291           9819  urban habitat, greenhouse      1   \n",
       "10292           9820       Ironstone outcrop 01      1   \n",
       "\n",
       "                    content_list  content_count  envo_count  \\\n",
       "0                 not applicable              1           0   \n",
       "1                        missing              1           0   \n",
       "2                           soil              1           0   \n",
       "3                  not collected              1           0   \n",
       "4                         forest              1           0   \n",
       "...                          ...            ...         ...   \n",
       "10288              SterileClosed              1           0   \n",
       "10289            cropping system              1           0   \n",
       "10290         near-rocky-outlier              1           0   \n",
       "10291  urban habitat, greenhouse              1           0   \n",
       "10292       Ironstone outcrop 01              1           0   \n",
       "\n",
       "                 extracted_label extracted_curie real_label  \\\n",
       "0                 not applicable            None       None   \n",
       "1                        missing            None       None   \n",
       "2                           soil            None       None   \n",
       "3                  not collected            None       None   \n",
       "4                         forest            None       None   \n",
       "...                          ...             ...        ...   \n",
       "10288              SterileClosed            None       None   \n",
       "10289            cropping system            None       None   \n",
       "10290         near-rocky-outlier            None       None   \n",
       "10291  urban habitat, greenhouse            None       None   \n",
       "10292       Ironstone outcrop 01            None       None   \n",
       "\n",
       "      longest_annotation_curie longest_annotation_label  \n",
       "0                         None                     None  \n",
       "1                         None                     None  \n",
       "2                ENVO:00001998                     soil  \n",
       "3                         None                     None  \n",
       "4                ENVO:00000111            forested area  \n",
       "...                        ...                      ...  \n",
       "10288                     None                     None  \n",
       "10289               RO:0002577                   system  \n",
       "10290            ENVO:00001995                     rock  \n",
       "10291            ENVO:03600087               greenhouse  \n",
       "10292            ENVO:01000302                  outcrop  \n",
       "\n",
       "[10293 rows x 11 columns]"
      ],
      "text/html": [
       "<div>\n",
       "<style scoped>\n",
       "    .dataframe tbody tr th:only-of-type {\n",
       "        vertical-align: middle;\n",
       "    }\n",
       "\n",
       "    .dataframe tbody tr th {\n",
       "        vertical-align: top;\n",
       "    }\n",
       "\n",
       "    .dataframe thead th {\n",
       "        text-align: right;\n",
       "    }\n",
       "</style>\n",
       "<table border=\"1\" class=\"dataframe\">\n",
       "  <thead>\n",
       "    <tr style=\"text-align: right;\">\n",
       "      <th></th>\n",
       "      <th>serial_number</th>\n",
       "      <th>content</th>\n",
       "      <th>count</th>\n",
       "      <th>content_list</th>\n",
       "      <th>content_count</th>\n",
       "      <th>envo_count</th>\n",
       "      <th>extracted_label</th>\n",
       "      <th>extracted_curie</th>\n",
       "      <th>real_label</th>\n",
       "      <th>longest_annotation_curie</th>\n",
       "      <th>longest_annotation_label</th>\n",
       "    </tr>\n",
       "  </thead>\n",
       "  <tbody>\n",
       "    <tr>\n",
       "      <th>0</th>\n",
       "      <td>1</td>\n",
       "      <td>not applicable</td>\n",
       "      <td>269</td>\n",
       "      <td>not applicable</td>\n",
       "      <td>1</td>\n",
       "      <td>0</td>\n",
       "      <td>not applicable</td>\n",
       "      <td>None</td>\n",
       "      <td>None</td>\n",
       "      <td>None</td>\n",
       "      <td>None</td>\n",
       "    </tr>\n",
       "    <tr>\n",
       "      <th>1</th>\n",
       "      <td>2</td>\n",
       "      <td>missing</td>\n",
       "      <td>205</td>\n",
       "      <td>missing</td>\n",
       "      <td>1</td>\n",
       "      <td>0</td>\n",
       "      <td>missing</td>\n",
       "      <td>None</td>\n",
       "      <td>None</td>\n",
       "      <td>None</td>\n",
       "      <td>None</td>\n",
       "    </tr>\n",
       "    <tr>\n",
       "      <th>2</th>\n",
       "      <td>3</td>\n",
       "      <td>soil</td>\n",
       "      <td>203</td>\n",
       "      <td>soil</td>\n",
       "      <td>1</td>\n",
       "      <td>0</td>\n",
       "      <td>soil</td>\n",
       "      <td>None</td>\n",
       "      <td>None</td>\n",
       "      <td>ENVO:00001998</td>\n",
       "      <td>soil</td>\n",
       "    </tr>\n",
       "    <tr>\n",
       "      <th>3</th>\n",
       "      <td>4</td>\n",
       "      <td>not collected</td>\n",
       "      <td>170</td>\n",
       "      <td>not collected</td>\n",
       "      <td>1</td>\n",
       "      <td>0</td>\n",
       "      <td>not collected</td>\n",
       "      <td>None</td>\n",
       "      <td>None</td>\n",
       "      <td>None</td>\n",
       "      <td>None</td>\n",
       "    </tr>\n",
       "    <tr>\n",
       "      <th>4</th>\n",
       "      <td>5</td>\n",
       "      <td>forest</td>\n",
       "      <td>81</td>\n",
       "      <td>forest</td>\n",
       "      <td>1</td>\n",
       "      <td>0</td>\n",
       "      <td>forest</td>\n",
       "      <td>None</td>\n",
       "      <td>None</td>\n",
       "      <td>ENVO:00000111</td>\n",
       "      <td>forested area</td>\n",
       "    </tr>\n",
       "    <tr>\n",
       "      <th>...</th>\n",
       "      <td>...</td>\n",
       "      <td>...</td>\n",
       "      <td>...</td>\n",
       "      <td>...</td>\n",
       "      <td>...</td>\n",
       "      <td>...</td>\n",
       "      <td>...</td>\n",
       "      <td>...</td>\n",
       "      <td>...</td>\n",
       "      <td>...</td>\n",
       "      <td>...</td>\n",
       "    </tr>\n",
       "    <tr>\n",
       "      <th>10288</th>\n",
       "      <td>9816</td>\n",
       "      <td>SterileClosed</td>\n",
       "      <td>1</td>\n",
       "      <td>SterileClosed</td>\n",
       "      <td>1</td>\n",
       "      <td>0</td>\n",
       "      <td>SterileClosed</td>\n",
       "      <td>None</td>\n",
       "      <td>None</td>\n",
       "      <td>None</td>\n",
       "      <td>None</td>\n",
       "    </tr>\n",
       "    <tr>\n",
       "      <th>10289</th>\n",
       "      <td>9817</td>\n",
       "      <td>cropping system</td>\n",
       "      <td>1</td>\n",
       "      <td>cropping system</td>\n",
       "      <td>1</td>\n",
       "      <td>0</td>\n",
       "      <td>cropping system</td>\n",
       "      <td>None</td>\n",
       "      <td>None</td>\n",
       "      <td>RO:0002577</td>\n",
       "      <td>system</td>\n",
       "    </tr>\n",
       "    <tr>\n",
       "      <th>10290</th>\n",
       "      <td>9818</td>\n",
       "      <td>near-rocky-outlier</td>\n",
       "      <td>1</td>\n",
       "      <td>near-rocky-outlier</td>\n",
       "      <td>1</td>\n",
       "      <td>0</td>\n",
       "      <td>near-rocky-outlier</td>\n",
       "      <td>None</td>\n",
       "      <td>None</td>\n",
       "      <td>ENVO:00001995</td>\n",
       "      <td>rock</td>\n",
       "    </tr>\n",
       "    <tr>\n",
       "      <th>10291</th>\n",
       "      <td>9819</td>\n",
       "      <td>urban habitat, greenhouse</td>\n",
       "      <td>1</td>\n",
       "      <td>urban habitat, greenhouse</td>\n",
       "      <td>1</td>\n",
       "      <td>0</td>\n",
       "      <td>urban habitat, greenhouse</td>\n",
       "      <td>None</td>\n",
       "      <td>None</td>\n",
       "      <td>ENVO:03600087</td>\n",
       "      <td>greenhouse</td>\n",
       "    </tr>\n",
       "    <tr>\n",
       "      <th>10292</th>\n",
       "      <td>9820</td>\n",
       "      <td>Ironstone outcrop 01</td>\n",
       "      <td>1</td>\n",
       "      <td>Ironstone outcrop 01</td>\n",
       "      <td>1</td>\n",
       "      <td>0</td>\n",
       "      <td>Ironstone outcrop 01</td>\n",
       "      <td>None</td>\n",
       "      <td>None</td>\n",
       "      <td>ENVO:01000302</td>\n",
       "      <td>outcrop</td>\n",
       "    </tr>\n",
       "  </tbody>\n",
       "</table>\n",
       "<p>10293 rows × 11 columns</p>\n",
       "</div>"
      ]
     },
     "execution_count": 71,
     "metadata": {},
     "output_type": "execute_result"
    }
   ],
   "execution_count": 71
  },
  {
   "metadata": {},
   "cell_type": "markdown",
   "source": [
    "## we now have a list of CURIes for each normalized annotation\n",
    "\n",
    "This could be because the submitter provided a CURIe and a label that don't match\n",
    "*One* case of this is dragging a CURIe down a column in a spreadsheet, expecting it to be copied,\n",
    "but actually auto-incrementing it\n",
    "\n",
    "Now attempt to find one best CURIe for each annotation... by now we have lost the ability to retain multiple legitimate\n",
    "but improperly separated CURIes"
   ],
   "id": "69ed214e0186f459"
  },
  {
   "cell_type": "code",
   "id": "951ca41984b81e7d",
   "metadata": {
    "ExecuteTime": {
     "end_time": "2025-01-08T22:30:31.310854Z",
     "start_time": "2025-01-08T22:30:31.186690Z"
    }
   },
   "source": [
    "# todo don't accept extracted curie if no real label?\n",
    "# any kind of string similarity checking for label of annotated curie vs extracted label ?\n",
    "# look for long stretches of curies?\n",
    "# can we measure the beneficial impact of any of this? current crux: how to distribute counts\n",
    "\n",
    "ncbi_frame['curie_list'] = ncbi_frame.apply(\n",
    "    lambda my_row: list({my_row['extracted_curie'], my_row['longest_annotation_curie']} - {None}),\n",
    "    axis=1\n",
    ")\n",
    "\n",
    "ncbi_frame['unique_curie_count'] = ncbi_frame['curie_list'].apply(len)"
   ],
   "outputs": [],
   "execution_count": 72
  },
  {
   "cell_type": "code",
   "id": "349610c477ebf149",
   "metadata": {
    "ExecuteTime": {
     "end_time": "2025-01-08T22:30:31.370271Z",
     "start_time": "2025-01-08T22:30:31.363891Z"
    }
   },
   "source": [
    "ncbi_frame['unique_curie_count'].value_counts()"
   ],
   "outputs": [
    {
     "data": {
      "text/plain": [
       "unique_curie_count\n",
       "1    5878\n",
       "0    3859\n",
       "2     556\n",
       "Name: count, dtype: int64"
      ]
     },
     "execution_count": 73,
     "metadata": {},
     "output_type": "execute_result"
    }
   ],
   "execution_count": 73
  },
  {
   "cell_type": "code",
   "id": "e6a8c0273f36e906",
   "metadata": {
    "ExecuteTime": {
     "end_time": "2025-01-08T22:30:31.437956Z",
     "start_time": "2025-01-08T22:30:31.433559Z"
    }
   },
   "source": [
    "double_curie_frame = ncbi_frame[ncbi_frame['unique_curie_count'] > 1]"
   ],
   "outputs": [],
   "execution_count": 74
  },
  {
   "cell_type": "code",
   "id": "334e7c646337a914",
   "metadata": {
    "ExecuteTime": {
     "end_time": "2025-01-08T22:30:31.496365Z",
     "start_time": "2025-01-08T22:30:31.492251Z"
    }
   },
   "source": [
    "double_curie_frame = double_curie_frame[['extracted_curie', 'longest_annotation_curie']]"
   ],
   "outputs": [],
   "execution_count": 75
  },
  {
   "cell_type": "code",
   "id": "874149830df3dd8a",
   "metadata": {
    "ExecuteTime": {
     "end_time": "2025-01-08T22:30:31.581249Z",
     "start_time": "2025-01-08T22:30:31.576899Z"
    }
   },
   "source": [
    "double_curie_frame = double_curie_frame.drop_duplicates()"
   ],
   "outputs": [],
   "execution_count": 76
  },
  {
   "cell_type": "code",
   "id": "cdfc0bda39f3ad6d",
   "metadata": {
    "ExecuteTime": {
     "end_time": "2025-01-08T22:30:31.670688Z",
     "start_time": "2025-01-08T22:30:31.665719Z"
    }
   },
   "source": [
    "double_curie_frame[['extracted_prefix', 'extracted_local_id']] = double_curie_frame['extracted_curie'].str.split(':',\n",
    "                                                                                                                 expand=True)"
   ],
   "outputs": [],
   "execution_count": 77
  },
  {
   "cell_type": "code",
   "id": "de6fcee63f6677d",
   "metadata": {
    "ExecuteTime": {
     "end_time": "2025-01-08T22:30:36.917150Z",
     "start_time": "2025-01-08T22:30:36.913036Z"
    }
   },
   "source": [
    "double_curie_frame['extracted_local_id_int'] = pd.to_numeric(double_curie_frame['extracted_local_id'],\n",
    "                                                             errors='coerce').astype('Int64')"
   ],
   "outputs": [],
   "execution_count": 78
  },
  {
   "metadata": {
    "ExecuteTime": {
     "end_time": "2025-01-08T22:30:47.576685Z",
     "start_time": "2025-01-08T22:30:47.566749Z"
    }
   },
   "cell_type": "code",
   "source": "double_curie_frame",
   "id": "185c2d7e43614639",
   "outputs": [
    {
     "data": {
      "text/plain": [
       "      extracted_curie longest_annotation_curie extracted_prefix  \\\n",
       "175     ENVO:00000486             PATO:0000574             ENVO   \n",
       "275      ENVO:3400002            ENVO:03400002             ENVO   \n",
       "605     ENVO:01001430            ENVO:00000077             ENVO   \n",
       "668     ENVO:00000114            ENVO:01000352             ENVO   \n",
       "699     ENVO:01001357            ENVO:00000172             ENVO   \n",
       "...               ...                      ...              ...   \n",
       "10204   ENVO:00000414            ENVO:00000428             ENVO   \n",
       "10252   ENVO:00000321            ENVO:00000428             ENVO   \n",
       "10253   ENVO:00000377            ENVO:00000428             ENVO   \n",
       "10277   ENVO:01001461            ENVO:01001803             ENVO   \n",
       "10278   ENVO:01001469            ENVO:01001803             ENVO   \n",
       "\n",
       "      extracted_local_id  extracted_local_id_int  \n",
       "175             00000486                     486  \n",
       "275              3400002                 3400002  \n",
       "605             01001430                 1001430  \n",
       "668             00000114                     114  \n",
       "699             01001357                 1001357  \n",
       "...                  ...                     ...  \n",
       "10204           00000414                     414  \n",
       "10252           00000321                     321  \n",
       "10253           00000377                     377  \n",
       "10277           01001461                 1001461  \n",
       "10278           01001469                 1001469  \n",
       "\n",
       "[439 rows x 5 columns]"
      ],
      "text/html": [
       "<div>\n",
       "<style scoped>\n",
       "    .dataframe tbody tr th:only-of-type {\n",
       "        vertical-align: middle;\n",
       "    }\n",
       "\n",
       "    .dataframe tbody tr th {\n",
       "        vertical-align: top;\n",
       "    }\n",
       "\n",
       "    .dataframe thead th {\n",
       "        text-align: right;\n",
       "    }\n",
       "</style>\n",
       "<table border=\"1\" class=\"dataframe\">\n",
       "  <thead>\n",
       "    <tr style=\"text-align: right;\">\n",
       "      <th></th>\n",
       "      <th>extracted_curie</th>\n",
       "      <th>longest_annotation_curie</th>\n",
       "      <th>extracted_prefix</th>\n",
       "      <th>extracted_local_id</th>\n",
       "      <th>extracted_local_id_int</th>\n",
       "    </tr>\n",
       "  </thead>\n",
       "  <tbody>\n",
       "    <tr>\n",
       "      <th>175</th>\n",
       "      <td>ENVO:00000486</td>\n",
       "      <td>PATO:0000574</td>\n",
       "      <td>ENVO</td>\n",
       "      <td>00000486</td>\n",
       "      <td>486</td>\n",
       "    </tr>\n",
       "    <tr>\n",
       "      <th>275</th>\n",
       "      <td>ENVO:3400002</td>\n",
       "      <td>ENVO:03400002</td>\n",
       "      <td>ENVO</td>\n",
       "      <td>3400002</td>\n",
       "      <td>3400002</td>\n",
       "    </tr>\n",
       "    <tr>\n",
       "      <th>605</th>\n",
       "      <td>ENVO:01001430</td>\n",
       "      <td>ENVO:00000077</td>\n",
       "      <td>ENVO</td>\n",
       "      <td>01001430</td>\n",
       "      <td>1001430</td>\n",
       "    </tr>\n",
       "    <tr>\n",
       "      <th>668</th>\n",
       "      <td>ENVO:00000114</td>\n",
       "      <td>ENVO:01000352</td>\n",
       "      <td>ENVO</td>\n",
       "      <td>00000114</td>\n",
       "      <td>114</td>\n",
       "    </tr>\n",
       "    <tr>\n",
       "      <th>699</th>\n",
       "      <td>ENVO:01001357</td>\n",
       "      <td>ENVO:00000172</td>\n",
       "      <td>ENVO</td>\n",
       "      <td>01001357</td>\n",
       "      <td>1001357</td>\n",
       "    </tr>\n",
       "    <tr>\n",
       "      <th>...</th>\n",
       "      <td>...</td>\n",
       "      <td>...</td>\n",
       "      <td>...</td>\n",
       "      <td>...</td>\n",
       "      <td>...</td>\n",
       "    </tr>\n",
       "    <tr>\n",
       "      <th>10204</th>\n",
       "      <td>ENVO:00000414</td>\n",
       "      <td>ENVO:00000428</td>\n",
       "      <td>ENVO</td>\n",
       "      <td>00000414</td>\n",
       "      <td>414</td>\n",
       "    </tr>\n",
       "    <tr>\n",
       "      <th>10252</th>\n",
       "      <td>ENVO:00000321</td>\n",
       "      <td>ENVO:00000428</td>\n",
       "      <td>ENVO</td>\n",
       "      <td>00000321</td>\n",
       "      <td>321</td>\n",
       "    </tr>\n",
       "    <tr>\n",
       "      <th>10253</th>\n",
       "      <td>ENVO:00000377</td>\n",
       "      <td>ENVO:00000428</td>\n",
       "      <td>ENVO</td>\n",
       "      <td>00000377</td>\n",
       "      <td>377</td>\n",
       "    </tr>\n",
       "    <tr>\n",
       "      <th>10277</th>\n",
       "      <td>ENVO:01001461</td>\n",
       "      <td>ENVO:01001803</td>\n",
       "      <td>ENVO</td>\n",
       "      <td>01001461</td>\n",
       "      <td>1001461</td>\n",
       "    </tr>\n",
       "    <tr>\n",
       "      <th>10278</th>\n",
       "      <td>ENVO:01001469</td>\n",
       "      <td>ENVO:01001803</td>\n",
       "      <td>ENVO</td>\n",
       "      <td>01001469</td>\n",
       "      <td>1001469</td>\n",
       "    </tr>\n",
       "  </tbody>\n",
       "</table>\n",
       "<p>439 rows × 5 columns</p>\n",
       "</div>"
      ]
     },
     "execution_count": 79,
     "metadata": {},
     "output_type": "execute_result"
    }
   ],
   "execution_count": 79
  },
  {
   "cell_type": "code",
   "id": "fae831b04ed985ef",
   "metadata": {
    "ExecuteTime": {
     "end_time": "2025-01-08T22:30:47.627562Z",
     "start_time": "2025-01-08T22:30:47.623911Z"
    }
   },
   "source": [
    "# Ensure extracted_local_id_int is unique and sorted\n",
    "unique_sorted_series = double_curie_frame['extracted_local_id_int'].dropna().drop_duplicates().sort_values()\n"
   ],
   "outputs": [],
   "execution_count": 80
  },
  {
   "cell_type": "code",
   "id": "d244d7b150a3b413",
   "metadata": {
    "ExecuteTime": {
     "end_time": "2025-01-08T22:30:47.647954Z",
     "start_time": "2025-01-08T22:30:47.634237Z"
    }
   },
   "source": [
    "# Find stretches\n",
    "stretches_dict = find_consecutive_stretches_dict(unique_sorted_series)\n"
   ],
   "outputs": [],
   "execution_count": 81
  },
  {
   "cell_type": "code",
   "id": "2fda8122842f63c0",
   "metadata": {
    "ExecuteTime": {
     "end_time": "2025-01-08T22:30:47.696954Z",
     "start_time": "2025-01-08T22:30:47.692665Z"
    }
   },
   "source": [
    "# Convert the stretches dictionary into a DataFrame\n",
    "stretches_df = stretches_dict_to_long_dataframe(stretches_dict)"
   ],
   "outputs": [],
   "execution_count": 82
  },
  {
   "metadata": {},
   "cell_type": "markdown",
   "source": [
    "`stretches_df` shows groups of extracted EnvoO ids (CURIes without prefix or padding zeros) that share a common CURIe by oaklib annotation of the textual part. This may not be the best or only way to address these spurious drag-stretch, auto-incremented CURIes\n",
    "\n",
    "Ie 1001458 corresponds to ENVO:01001458, 'mist'\n",
    "\n",
    "_although it theoretically could have been ENVO:1001458 since EnvO CURIes can have 7 or 8 digits_\n",
    "\n",
    "In group 9, there are another ~ 50 sequential id values, all corresponding to environmental context annotations whose best oak-annotated class is ENVO:01001803, 'tropical forest'!\n",
    "\n",
    "How much of an impact does this have? "
   ],
   "id": "22f0c242c2505f2b"
  },
  {
   "cell_type": "code",
   "id": "367abafc0ae13a6d",
   "metadata": {
    "ExecuteTime": {
     "end_time": "2025-01-08T22:30:47.741243Z",
     "start_time": "2025-01-08T22:30:47.733401Z"
    }
   },
   "source": [
    "stretches_df"
   ],
   "outputs": [
    {
     "data": {
      "text/plain": [
       "     stretch_id    value\n",
       "0             1        1\n",
       "1             1        2\n",
       "2             1        3\n",
       "3             1        4\n",
       "4             1        5\n",
       "..          ...      ...\n",
       "354           9  1001507\n",
       "355           9  1001508\n",
       "356           9  1001509\n",
       "357           9  1001510\n",
       "358           9  1001511\n",
       "\n",
       "[359 rows x 2 columns]"
      ],
      "text/html": [
       "<div>\n",
       "<style scoped>\n",
       "    .dataframe tbody tr th:only-of-type {\n",
       "        vertical-align: middle;\n",
       "    }\n",
       "\n",
       "    .dataframe tbody tr th {\n",
       "        vertical-align: top;\n",
       "    }\n",
       "\n",
       "    .dataframe thead th {\n",
       "        text-align: right;\n",
       "    }\n",
       "</style>\n",
       "<table border=\"1\" class=\"dataframe\">\n",
       "  <thead>\n",
       "    <tr style=\"text-align: right;\">\n",
       "      <th></th>\n",
       "      <th>stretch_id</th>\n",
       "      <th>value</th>\n",
       "    </tr>\n",
       "  </thead>\n",
       "  <tbody>\n",
       "    <tr>\n",
       "      <th>0</th>\n",
       "      <td>1</td>\n",
       "      <td>1</td>\n",
       "    </tr>\n",
       "    <tr>\n",
       "      <th>1</th>\n",
       "      <td>1</td>\n",
       "      <td>2</td>\n",
       "    </tr>\n",
       "    <tr>\n",
       "      <th>2</th>\n",
       "      <td>1</td>\n",
       "      <td>3</td>\n",
       "    </tr>\n",
       "    <tr>\n",
       "      <th>3</th>\n",
       "      <td>1</td>\n",
       "      <td>4</td>\n",
       "    </tr>\n",
       "    <tr>\n",
       "      <th>4</th>\n",
       "      <td>1</td>\n",
       "      <td>5</td>\n",
       "    </tr>\n",
       "    <tr>\n",
       "      <th>...</th>\n",
       "      <td>...</td>\n",
       "      <td>...</td>\n",
       "    </tr>\n",
       "    <tr>\n",
       "      <th>354</th>\n",
       "      <td>9</td>\n",
       "      <td>1001507</td>\n",
       "    </tr>\n",
       "    <tr>\n",
       "      <th>355</th>\n",
       "      <td>9</td>\n",
       "      <td>1001508</td>\n",
       "    </tr>\n",
       "    <tr>\n",
       "      <th>356</th>\n",
       "      <td>9</td>\n",
       "      <td>1001509</td>\n",
       "    </tr>\n",
       "    <tr>\n",
       "      <th>357</th>\n",
       "      <td>9</td>\n",
       "      <td>1001510</td>\n",
       "    </tr>\n",
       "    <tr>\n",
       "      <th>358</th>\n",
       "      <td>9</td>\n",
       "      <td>1001511</td>\n",
       "    </tr>\n",
       "  </tbody>\n",
       "</table>\n",
       "<p>359 rows × 2 columns</p>\n",
       "</div>"
      ]
     },
     "execution_count": 83,
     "metadata": {},
     "output_type": "execute_result"
    }
   ],
   "execution_count": 83
  },
  {
   "cell_type": "code",
   "id": "8ee27ecc0697a5f5",
   "metadata": {
    "ExecuteTime": {
     "end_time": "2025-01-08T22:30:47.831132Z",
     "start_time": "2025-01-08T22:30:47.826536Z"
    }
   },
   "source": [
    "# Perform the left merge\n",
    "double_curie_frame = double_curie_frame.merge(\n",
    "    stretches_df,\n",
    "    left_on='extracted_local_id_int',\n",
    "    right_on='value',\n",
    "    how='left'\n",
    ")"
   ],
   "outputs": [],
   "execution_count": 84
  },
  {
   "cell_type": "code",
   "id": "59e278981b799f14",
   "metadata": {
    "ExecuteTime": {
     "end_time": "2025-01-08T22:30:47.880540Z",
     "start_time": "2025-01-08T22:30:47.866744Z"
    }
   },
   "source": [
    "stretch_summary_df = summarize_stretch_groups(double_curie_frame)\n"
   ],
   "outputs": [],
   "execution_count": 85
  },
  {
   "metadata": {},
   "cell_type": "markdown",
   "source": "For stretch 9, which included extracted CURIes from ENVO:01001458 to ENVO:01001511, the oaklib test annotation of 100% of the submitted environmental context annotations was ENVO:01001803, so we will keep that and disregard all of the CURIes from the stretch\n",
   "id": "46a141c88d2f24a8"
  },
  {
   "cell_type": "code",
   "id": "cee6e3ff1e1ca0d3",
   "metadata": {
    "ExecuteTime": {
     "end_time": "2025-01-08T22:30:47.946342Z",
     "start_time": "2025-01-08T22:30:47.937695Z"
    }
   },
   "source": [
    "stretch_summary_df"
   ],
   "outputs": [
    {
     "data": {
      "text/plain": [
       "   stretch_id most_common_longest_annotation_curie  fraction\n",
       "0         1.0                        ENVO:01000703  0.683544\n",
       "1         2.0                        ENVO:00000230  0.952381\n",
       "2         3.0                        ENVO:00000428  0.993056\n",
       "3         4.0                        ENVO:00000873  1.000000\n",
       "4         5.0                        ENVO:00000078  1.000000\n",
       "5         6.0                        ENVO:00002001  0.950000\n",
       "6         7.0                        ENVO:01000431  0.333333\n",
       "7         8.0                        ENVO:01000628  0.483871\n",
       "8         9.0                        ENVO:01001803  1.000000"
      ],
      "text/html": [
       "<div>\n",
       "<style scoped>\n",
       "    .dataframe tbody tr th:only-of-type {\n",
       "        vertical-align: middle;\n",
       "    }\n",
       "\n",
       "    .dataframe tbody tr th {\n",
       "        vertical-align: top;\n",
       "    }\n",
       "\n",
       "    .dataframe thead th {\n",
       "        text-align: right;\n",
       "    }\n",
       "</style>\n",
       "<table border=\"1\" class=\"dataframe\">\n",
       "  <thead>\n",
       "    <tr style=\"text-align: right;\">\n",
       "      <th></th>\n",
       "      <th>stretch_id</th>\n",
       "      <th>most_common_longest_annotation_curie</th>\n",
       "      <th>fraction</th>\n",
       "    </tr>\n",
       "  </thead>\n",
       "  <tbody>\n",
       "    <tr>\n",
       "      <th>0</th>\n",
       "      <td>1.0</td>\n",
       "      <td>ENVO:01000703</td>\n",
       "      <td>0.683544</td>\n",
       "    </tr>\n",
       "    <tr>\n",
       "      <th>1</th>\n",
       "      <td>2.0</td>\n",
       "      <td>ENVO:00000230</td>\n",
       "      <td>0.952381</td>\n",
       "    </tr>\n",
       "    <tr>\n",
       "      <th>2</th>\n",
       "      <td>3.0</td>\n",
       "      <td>ENVO:00000428</td>\n",
       "      <td>0.993056</td>\n",
       "    </tr>\n",
       "    <tr>\n",
       "      <th>3</th>\n",
       "      <td>4.0</td>\n",
       "      <td>ENVO:00000873</td>\n",
       "      <td>1.000000</td>\n",
       "    </tr>\n",
       "    <tr>\n",
       "      <th>4</th>\n",
       "      <td>5.0</td>\n",
       "      <td>ENVO:00000078</td>\n",
       "      <td>1.000000</td>\n",
       "    </tr>\n",
       "    <tr>\n",
       "      <th>5</th>\n",
       "      <td>6.0</td>\n",
       "      <td>ENVO:00002001</td>\n",
       "      <td>0.950000</td>\n",
       "    </tr>\n",
       "    <tr>\n",
       "      <th>6</th>\n",
       "      <td>7.0</td>\n",
       "      <td>ENVO:01000431</td>\n",
       "      <td>0.333333</td>\n",
       "    </tr>\n",
       "    <tr>\n",
       "      <th>7</th>\n",
       "      <td>8.0</td>\n",
       "      <td>ENVO:01000628</td>\n",
       "      <td>0.483871</td>\n",
       "    </tr>\n",
       "    <tr>\n",
       "      <th>8</th>\n",
       "      <td>9.0</td>\n",
       "      <td>ENVO:01001803</td>\n",
       "      <td>1.000000</td>\n",
       "    </tr>\n",
       "  </tbody>\n",
       "</table>\n",
       "</div>"
      ]
     },
     "execution_count": 86,
     "metadata": {},
     "output_type": "execute_result"
    }
   ],
   "execution_count": 86
  },
  {
   "metadata": {
    "ExecuteTime": {
     "end_time": "2025-01-08T22:30:48.036780Z",
     "start_time": "2025-01-08T22:30:48.034106Z"
    }
   },
   "cell_type": "code",
   "source": "decisive_fraction_threshold = 0.9",
   "id": "dcc5ba2adda9189f",
   "outputs": [],
   "execution_count": 87
  },
  {
   "metadata": {
    "ExecuteTime": {
     "end_time": "2025-01-08T22:30:48.079778Z",
     "start_time": "2025-01-08T22:30:48.075666Z"
    }
   },
   "cell_type": "code",
   "source": "decisive_stretch_summary_df = stretch_summary_df[stretch_summary_df['fraction'] >= decisive_fraction_threshold]",
   "id": "529c6e4d71a8bf31",
   "outputs": [],
   "execution_count": 88
  },
  {
   "metadata": {
    "ExecuteTime": {
     "end_time": "2025-01-08T22:30:48.158400Z",
     "start_time": "2025-01-08T22:30:48.150521Z"
    }
   },
   "cell_type": "code",
   "source": "decisive_stretch_summary_df",
   "id": "db568a6f50b6e0",
   "outputs": [
    {
     "data": {
      "text/plain": [
       "   stretch_id most_common_longest_annotation_curie  fraction\n",
       "1         2.0                        ENVO:00000230  0.952381\n",
       "2         3.0                        ENVO:00000428  0.993056\n",
       "3         4.0                        ENVO:00000873  1.000000\n",
       "4         5.0                        ENVO:00000078  1.000000\n",
       "5         6.0                        ENVO:00002001  0.950000\n",
       "8         9.0                        ENVO:01001803  1.000000"
      ],
      "text/html": [
       "<div>\n",
       "<style scoped>\n",
       "    .dataframe tbody tr th:only-of-type {\n",
       "        vertical-align: middle;\n",
       "    }\n",
       "\n",
       "    .dataframe tbody tr th {\n",
       "        vertical-align: top;\n",
       "    }\n",
       "\n",
       "    .dataframe thead th {\n",
       "        text-align: right;\n",
       "    }\n",
       "</style>\n",
       "<table border=\"1\" class=\"dataframe\">\n",
       "  <thead>\n",
       "    <tr style=\"text-align: right;\">\n",
       "      <th></th>\n",
       "      <th>stretch_id</th>\n",
       "      <th>most_common_longest_annotation_curie</th>\n",
       "      <th>fraction</th>\n",
       "    </tr>\n",
       "  </thead>\n",
       "  <tbody>\n",
       "    <tr>\n",
       "      <th>1</th>\n",
       "      <td>2.0</td>\n",
       "      <td>ENVO:00000230</td>\n",
       "      <td>0.952381</td>\n",
       "    </tr>\n",
       "    <tr>\n",
       "      <th>2</th>\n",
       "      <td>3.0</td>\n",
       "      <td>ENVO:00000428</td>\n",
       "      <td>0.993056</td>\n",
       "    </tr>\n",
       "    <tr>\n",
       "      <th>3</th>\n",
       "      <td>4.0</td>\n",
       "      <td>ENVO:00000873</td>\n",
       "      <td>1.000000</td>\n",
       "    </tr>\n",
       "    <tr>\n",
       "      <th>4</th>\n",
       "      <td>5.0</td>\n",
       "      <td>ENVO:00000078</td>\n",
       "      <td>1.000000</td>\n",
       "    </tr>\n",
       "    <tr>\n",
       "      <th>5</th>\n",
       "      <td>6.0</td>\n",
       "      <td>ENVO:00002001</td>\n",
       "      <td>0.950000</td>\n",
       "    </tr>\n",
       "    <tr>\n",
       "      <th>8</th>\n",
       "      <td>9.0</td>\n",
       "      <td>ENVO:01001803</td>\n",
       "      <td>1.000000</td>\n",
       "    </tr>\n",
       "  </tbody>\n",
       "</table>\n",
       "</div>"
      ]
     },
     "execution_count": 89,
     "metadata": {},
     "output_type": "execute_result"
    }
   ],
   "execution_count": 89
  },
  {
   "cell_type": "code",
   "id": "f47a58a1945943b8",
   "metadata": {
    "ExecuteTime": {
     "end_time": "2025-01-08T22:30:48.276698Z",
     "start_time": "2025-01-08T22:30:48.271878Z"
    }
   },
   "source": [
    "# Perform the left merge\n",
    "double_curie_frame = double_curie_frame.merge(\n",
    "    decisive_stretch_summary_df,\n",
    "    left_on='stretch_id',\n",
    "    right_on='stretch_id',\n",
    "    how='left'\n",
    ")"
   ],
   "outputs": [],
   "execution_count": 90
  },
  {
   "metadata": {
    "ExecuteTime": {
     "end_time": "2025-01-08T22:30:48.330360Z",
     "start_time": "2025-01-08T22:30:48.313882Z"
    }
   },
   "cell_type": "code",
   "source": "double_curie_frame",
   "id": "babb21e01016715",
   "outputs": [
    {
     "data": {
      "text/plain": [
       "    extracted_curie longest_annotation_curie extracted_prefix  \\\n",
       "0     ENVO:00000486             PATO:0000574             ENVO   \n",
       "1      ENVO:3400002            ENVO:03400002             ENVO   \n",
       "2     ENVO:01001430            ENVO:00000077             ENVO   \n",
       "3     ENVO:00000114            ENVO:01000352             ENVO   \n",
       "4     ENVO:01001357            ENVO:00000172             ENVO   \n",
       "..              ...                      ...              ...   \n",
       "434   ENVO:00000414            ENVO:00000428             ENVO   \n",
       "435   ENVO:00000321            ENVO:00000428             ENVO   \n",
       "436   ENVO:00000377            ENVO:00000428             ENVO   \n",
       "437   ENVO:01001461            ENVO:01001803             ENVO   \n",
       "438   ENVO:01001469            ENVO:01001803             ENVO   \n",
       "\n",
       "    extracted_local_id  extracted_local_id_int  stretch_id      value  \\\n",
       "0             00000486                     486         NaN        NaN   \n",
       "1              3400002                 3400002         NaN        NaN   \n",
       "2             01001430                 1001430         NaN        NaN   \n",
       "3             00000114                     114         NaN        NaN   \n",
       "4             01001357                 1001357         NaN        NaN   \n",
       "..                 ...                     ...         ...        ...   \n",
       "434           00000414                     414         3.0      414.0   \n",
       "435           00000321                     321         3.0      321.0   \n",
       "436           00000377                     377         3.0      377.0   \n",
       "437           01001461                 1001461         9.0  1001461.0   \n",
       "438           01001469                 1001469         9.0  1001469.0   \n",
       "\n",
       "    most_common_longest_annotation_curie  fraction  \n",
       "0                                    NaN       NaN  \n",
       "1                                    NaN       NaN  \n",
       "2                                    NaN       NaN  \n",
       "3                                    NaN       NaN  \n",
       "4                                    NaN       NaN  \n",
       "..                                   ...       ...  \n",
       "434                        ENVO:00000428  0.993056  \n",
       "435                        ENVO:00000428  0.993056  \n",
       "436                        ENVO:00000428  0.993056  \n",
       "437                        ENVO:01001803  1.000000  \n",
       "438                        ENVO:01001803  1.000000  \n",
       "\n",
       "[439 rows x 9 columns]"
      ],
      "text/html": [
       "<div>\n",
       "<style scoped>\n",
       "    .dataframe tbody tr th:only-of-type {\n",
       "        vertical-align: middle;\n",
       "    }\n",
       "\n",
       "    .dataframe tbody tr th {\n",
       "        vertical-align: top;\n",
       "    }\n",
       "\n",
       "    .dataframe thead th {\n",
       "        text-align: right;\n",
       "    }\n",
       "</style>\n",
       "<table border=\"1\" class=\"dataframe\">\n",
       "  <thead>\n",
       "    <tr style=\"text-align: right;\">\n",
       "      <th></th>\n",
       "      <th>extracted_curie</th>\n",
       "      <th>longest_annotation_curie</th>\n",
       "      <th>extracted_prefix</th>\n",
       "      <th>extracted_local_id</th>\n",
       "      <th>extracted_local_id_int</th>\n",
       "      <th>stretch_id</th>\n",
       "      <th>value</th>\n",
       "      <th>most_common_longest_annotation_curie</th>\n",
       "      <th>fraction</th>\n",
       "    </tr>\n",
       "  </thead>\n",
       "  <tbody>\n",
       "    <tr>\n",
       "      <th>0</th>\n",
       "      <td>ENVO:00000486</td>\n",
       "      <td>PATO:0000574</td>\n",
       "      <td>ENVO</td>\n",
       "      <td>00000486</td>\n",
       "      <td>486</td>\n",
       "      <td>NaN</td>\n",
       "      <td>NaN</td>\n",
       "      <td>NaN</td>\n",
       "      <td>NaN</td>\n",
       "    </tr>\n",
       "    <tr>\n",
       "      <th>1</th>\n",
       "      <td>ENVO:3400002</td>\n",
       "      <td>ENVO:03400002</td>\n",
       "      <td>ENVO</td>\n",
       "      <td>3400002</td>\n",
       "      <td>3400002</td>\n",
       "      <td>NaN</td>\n",
       "      <td>NaN</td>\n",
       "      <td>NaN</td>\n",
       "      <td>NaN</td>\n",
       "    </tr>\n",
       "    <tr>\n",
       "      <th>2</th>\n",
       "      <td>ENVO:01001430</td>\n",
       "      <td>ENVO:00000077</td>\n",
       "      <td>ENVO</td>\n",
       "      <td>01001430</td>\n",
       "      <td>1001430</td>\n",
       "      <td>NaN</td>\n",
       "      <td>NaN</td>\n",
       "      <td>NaN</td>\n",
       "      <td>NaN</td>\n",
       "    </tr>\n",
       "    <tr>\n",
       "      <th>3</th>\n",
       "      <td>ENVO:00000114</td>\n",
       "      <td>ENVO:01000352</td>\n",
       "      <td>ENVO</td>\n",
       "      <td>00000114</td>\n",
       "      <td>114</td>\n",
       "      <td>NaN</td>\n",
       "      <td>NaN</td>\n",
       "      <td>NaN</td>\n",
       "      <td>NaN</td>\n",
       "    </tr>\n",
       "    <tr>\n",
       "      <th>4</th>\n",
       "      <td>ENVO:01001357</td>\n",
       "      <td>ENVO:00000172</td>\n",
       "      <td>ENVO</td>\n",
       "      <td>01001357</td>\n",
       "      <td>1001357</td>\n",
       "      <td>NaN</td>\n",
       "      <td>NaN</td>\n",
       "      <td>NaN</td>\n",
       "      <td>NaN</td>\n",
       "    </tr>\n",
       "    <tr>\n",
       "      <th>...</th>\n",
       "      <td>...</td>\n",
       "      <td>...</td>\n",
       "      <td>...</td>\n",
       "      <td>...</td>\n",
       "      <td>...</td>\n",
       "      <td>...</td>\n",
       "      <td>...</td>\n",
       "      <td>...</td>\n",
       "      <td>...</td>\n",
       "    </tr>\n",
       "    <tr>\n",
       "      <th>434</th>\n",
       "      <td>ENVO:00000414</td>\n",
       "      <td>ENVO:00000428</td>\n",
       "      <td>ENVO</td>\n",
       "      <td>00000414</td>\n",
       "      <td>414</td>\n",
       "      <td>3.0</td>\n",
       "      <td>414.0</td>\n",
       "      <td>ENVO:00000428</td>\n",
       "      <td>0.993056</td>\n",
       "    </tr>\n",
       "    <tr>\n",
       "      <th>435</th>\n",
       "      <td>ENVO:00000321</td>\n",
       "      <td>ENVO:00000428</td>\n",
       "      <td>ENVO</td>\n",
       "      <td>00000321</td>\n",
       "      <td>321</td>\n",
       "      <td>3.0</td>\n",
       "      <td>321.0</td>\n",
       "      <td>ENVO:00000428</td>\n",
       "      <td>0.993056</td>\n",
       "    </tr>\n",
       "    <tr>\n",
       "      <th>436</th>\n",
       "      <td>ENVO:00000377</td>\n",
       "      <td>ENVO:00000428</td>\n",
       "      <td>ENVO</td>\n",
       "      <td>00000377</td>\n",
       "      <td>377</td>\n",
       "      <td>3.0</td>\n",
       "      <td>377.0</td>\n",
       "      <td>ENVO:00000428</td>\n",
       "      <td>0.993056</td>\n",
       "    </tr>\n",
       "    <tr>\n",
       "      <th>437</th>\n",
       "      <td>ENVO:01001461</td>\n",
       "      <td>ENVO:01001803</td>\n",
       "      <td>ENVO</td>\n",
       "      <td>01001461</td>\n",
       "      <td>1001461</td>\n",
       "      <td>9.0</td>\n",
       "      <td>1001461.0</td>\n",
       "      <td>ENVO:01001803</td>\n",
       "      <td>1.000000</td>\n",
       "    </tr>\n",
       "    <tr>\n",
       "      <th>438</th>\n",
       "      <td>ENVO:01001469</td>\n",
       "      <td>ENVO:01001803</td>\n",
       "      <td>ENVO</td>\n",
       "      <td>01001469</td>\n",
       "      <td>1001469</td>\n",
       "      <td>9.0</td>\n",
       "      <td>1001469.0</td>\n",
       "      <td>ENVO:01001803</td>\n",
       "      <td>1.000000</td>\n",
       "    </tr>\n",
       "  </tbody>\n",
       "</table>\n",
       "<p>439 rows × 9 columns</p>\n",
       "</div>"
      ]
     },
     "execution_count": 91,
     "metadata": {},
     "output_type": "execute_result"
    }
   ],
   "execution_count": 91
  },
  {
   "cell_type": "code",
   "id": "828f3be5ac6c0ab1",
   "metadata": {
    "ExecuteTime": {
     "end_time": "2025-01-08T22:30:48.410302Z",
     "start_time": "2025-01-08T22:30:48.404358Z"
    }
   },
   "source": [
    "drag_evidence_frame = double_curie_frame[double_curie_frame['stretch_id'] >= 1]\n",
    "drag_evidence_frame = drag_evidence_frame[['extracted_curie', 'longest_annotation_curie']]\n",
    "drag_evidence_frame['drag_evidence'] = True"
   ],
   "outputs": [],
   "execution_count": 92
  },
  {
   "cell_type": "code",
   "id": "9907b1472af8731b",
   "metadata": {
    "ExecuteTime": {
     "end_time": "2025-01-08T22:30:48.559716Z",
     "start_time": "2025-01-08T22:30:48.550082Z"
    }
   },
   "source": [
    "drag_evidence_frame"
   ],
   "outputs": [
    {
     "data": {
      "text/plain": [
       "    extracted_curie longest_annotation_curie  drag_evidence\n",
       "6     ENVO:01000198            ENVO:01000431           True\n",
       "9          ENVO:036            ENVO:01000703           True\n",
       "10    ENVO:00000386            ENVO:00000428           True\n",
       "11    ENVO:00000412            ENVO:00000428           True\n",
       "12    ENVO:00000427            ENVO:00000428           True\n",
       "..              ...                      ...            ...\n",
       "434   ENVO:00000414            ENVO:00000428           True\n",
       "435   ENVO:00000321            ENVO:00000428           True\n",
       "436   ENVO:00000377            ENVO:00000428           True\n",
       "437   ENVO:01001461            ENVO:01001803           True\n",
       "438   ENVO:01001469            ENVO:01001803           True\n",
       "\n",
       "[393 rows x 3 columns]"
      ],
      "text/html": [
       "<div>\n",
       "<style scoped>\n",
       "    .dataframe tbody tr th:only-of-type {\n",
       "        vertical-align: middle;\n",
       "    }\n",
       "\n",
       "    .dataframe tbody tr th {\n",
       "        vertical-align: top;\n",
       "    }\n",
       "\n",
       "    .dataframe thead th {\n",
       "        text-align: right;\n",
       "    }\n",
       "</style>\n",
       "<table border=\"1\" class=\"dataframe\">\n",
       "  <thead>\n",
       "    <tr style=\"text-align: right;\">\n",
       "      <th></th>\n",
       "      <th>extracted_curie</th>\n",
       "      <th>longest_annotation_curie</th>\n",
       "      <th>drag_evidence</th>\n",
       "    </tr>\n",
       "  </thead>\n",
       "  <tbody>\n",
       "    <tr>\n",
       "      <th>6</th>\n",
       "      <td>ENVO:01000198</td>\n",
       "      <td>ENVO:01000431</td>\n",
       "      <td>True</td>\n",
       "    </tr>\n",
       "    <tr>\n",
       "      <th>9</th>\n",
       "      <td>ENVO:036</td>\n",
       "      <td>ENVO:01000703</td>\n",
       "      <td>True</td>\n",
       "    </tr>\n",
       "    <tr>\n",
       "      <th>10</th>\n",
       "      <td>ENVO:00000386</td>\n",
       "      <td>ENVO:00000428</td>\n",
       "      <td>True</td>\n",
       "    </tr>\n",
       "    <tr>\n",
       "      <th>11</th>\n",
       "      <td>ENVO:00000412</td>\n",
       "      <td>ENVO:00000428</td>\n",
       "      <td>True</td>\n",
       "    </tr>\n",
       "    <tr>\n",
       "      <th>12</th>\n",
       "      <td>ENVO:00000427</td>\n",
       "      <td>ENVO:00000428</td>\n",
       "      <td>True</td>\n",
       "    </tr>\n",
       "    <tr>\n",
       "      <th>...</th>\n",
       "      <td>...</td>\n",
       "      <td>...</td>\n",
       "      <td>...</td>\n",
       "    </tr>\n",
       "    <tr>\n",
       "      <th>434</th>\n",
       "      <td>ENVO:00000414</td>\n",
       "      <td>ENVO:00000428</td>\n",
       "      <td>True</td>\n",
       "    </tr>\n",
       "    <tr>\n",
       "      <th>435</th>\n",
       "      <td>ENVO:00000321</td>\n",
       "      <td>ENVO:00000428</td>\n",
       "      <td>True</td>\n",
       "    </tr>\n",
       "    <tr>\n",
       "      <th>436</th>\n",
       "      <td>ENVO:00000377</td>\n",
       "      <td>ENVO:00000428</td>\n",
       "      <td>True</td>\n",
       "    </tr>\n",
       "    <tr>\n",
       "      <th>437</th>\n",
       "      <td>ENVO:01001461</td>\n",
       "      <td>ENVO:01001803</td>\n",
       "      <td>True</td>\n",
       "    </tr>\n",
       "    <tr>\n",
       "      <th>438</th>\n",
       "      <td>ENVO:01001469</td>\n",
       "      <td>ENVO:01001803</td>\n",
       "      <td>True</td>\n",
       "    </tr>\n",
       "  </tbody>\n",
       "</table>\n",
       "<p>393 rows × 3 columns</p>\n",
       "</div>"
      ]
     },
     "execution_count": 93,
     "metadata": {},
     "output_type": "execute_result"
    }
   ],
   "execution_count": 93
  },
  {
   "cell_type": "code",
   "id": "9873eb1bc3ea44e5",
   "metadata": {
    "ExecuteTime": {
     "end_time": "2025-01-08T22:30:48.632795Z",
     "start_time": "2025-01-08T22:30:48.625200Z"
    }
   },
   "source": [
    "ncbi_frame = ncbi_frame.merge(\n",
    "    drag_evidence_frame,\n",
    "    left_on=['extracted_curie', 'longest_annotation_curie'],\n",
    "    right_on=['extracted_curie', 'longest_annotation_curie'],\n",
    "    how='left'\n",
    ")"
   ],
   "outputs": [],
   "execution_count": 94
  },
  {
   "cell_type": "code",
   "id": "1d67b9e207b5531e",
   "metadata": {
    "ExecuteTime": {
     "end_time": "2025-01-08T22:30:49.455536Z",
     "start_time": "2025-01-08T22:30:48.813994Z"
    }
   },
   "source": [
    "# Initialize dragless_curie_list with curie_list values\n",
    "ncbi_frame[\"dragless_curie_list\"] = ncbi_frame[\"curie_list\"]\n",
    "\n",
    "# Update dragless_curie_list based on the condition\n",
    "for index, row in ncbi_frame.iterrows():\n",
    "    if row[\"drag_evidence\"] is True:\n",
    "        if row[\"longest_annotation_curie\"] is not None:\n",
    "            ncbi_frame.at[index, \"dragless_curie_list\"] = [row[\"longest_annotation_curie\"]]\n",
    "        else:\n",
    "            ncbi_frame.at[index, \"dragless_curie_list\"] = []\n",
    "\n",
    "ncbi_frame['dragless_curie_count'] = ncbi_frame['dragless_curie_list'].apply(len)"
   ],
   "outputs": [],
   "execution_count": 95
  },
  {
   "cell_type": "code",
   "id": "fb7469cd6900edd7",
   "metadata": {
    "ExecuteTime": {
     "end_time": "2025-01-08T22:30:49.467882Z",
     "start_time": "2025-01-08T22:30:49.462482Z"
    }
   },
   "source": [
    "ncbi_frame['unique_curie_count'].value_counts()"
   ],
   "outputs": [
    {
     "data": {
      "text/plain": [
       "unique_curie_count\n",
       "1    5878\n",
       "0    3859\n",
       "2     556\n",
       "Name: count, dtype: int64"
      ]
     },
     "execution_count": 96,
     "metadata": {},
     "output_type": "execute_result"
    }
   ],
   "execution_count": 96
  },
  {
   "cell_type": "code",
   "id": "7626e42d5b746a2a",
   "metadata": {
    "ExecuteTime": {
     "end_time": "2025-01-08T22:30:49.518685Z",
     "start_time": "2025-01-08T22:30:49.512542Z"
    }
   },
   "source": [
    "ncbi_frame['dragless_curie_count'].value_counts()"
   ],
   "outputs": [
    {
     "data": {
      "text/plain": [
       "dragless_curie_count\n",
       "1    6329\n",
       "0    3859\n",
       "2     105\n",
       "Name: count, dtype: int64"
      ]
     },
     "execution_count": 97,
     "metadata": {},
     "output_type": "execute_result"
    }
   ],
   "execution_count": 97
  },
  {
   "metadata": {},
   "cell_type": "markdown",
   "source": [
    "## The extent of multiple detected CURIes has been reduced ~ 4.5 fold \n",
    "(for soil env_local_scale)\n",
    "\n",
    "Isolate the submitter annotations for which there's clearly one best CURIe after removing the drag-stretches"
   ],
   "id": "55ba8eda9fc69708"
  },
  {
   "cell_type": "code",
   "id": "bb3c0eeb8e919ac5",
   "metadata": {
    "ExecuteTime": {
     "end_time": "2025-01-08T22:30:49.612088Z",
     "start_time": "2025-01-08T22:30:49.608059Z"
    }
   },
   "source": [
    "ncbi_frame.shape"
   ],
   "outputs": [
    {
     "data": {
      "text/plain": [
       "(10293, 16)"
      ]
     },
     "execution_count": 98,
     "metadata": {},
     "output_type": "execute_result"
    }
   ],
   "execution_count": 98
  },
  {
   "cell_type": "code",
   "id": "653df3ac622d4e95",
   "metadata": {
    "ExecuteTime": {
     "end_time": "2025-01-08T22:30:49.728797Z",
     "start_time": "2025-01-08T22:30:49.722259Z"
    }
   },
   "source": [
    "ncbi_frame_undisputed = ncbi_frame[ncbi_frame['dragless_curie_count'] <= 1]"
   ],
   "outputs": [],
   "execution_count": 99
  },
  {
   "cell_type": "code",
   "id": "2abdcbd301b484a9",
   "metadata": {
    "ExecuteTime": {
     "end_time": "2025-01-08T22:30:49.812582Z",
     "start_time": "2025-01-08T22:30:49.808790Z"
    }
   },
   "source": [
    "ncbi_frame_undisputed.shape"
   ],
   "outputs": [
    {
     "data": {
      "text/plain": [
       "(10188, 16)"
      ]
     },
     "execution_count": 100,
     "metadata": {},
     "output_type": "execute_result"
    }
   ],
   "execution_count": 100
  },
  {
   "cell_type": "code",
   "id": "57d0c3c05e88ea1e",
   "metadata": {
    "ExecuteTime": {
     "end_time": "2025-01-08T22:30:49.876350Z",
     "start_time": "2025-01-08T22:30:49.872025Z"
    }
   },
   "source": [
    "ncbi_frame_disputed = ncbi_frame[ncbi_frame['dragless_curie_count'] > 1]"
   ],
   "outputs": [],
   "execution_count": 101
  },
  {
   "cell_type": "code",
   "id": "d0cf6796fedc7f8a",
   "metadata": {
    "ExecuteTime": {
     "end_time": "2025-01-08T22:30:49.978219Z",
     "start_time": "2025-01-08T22:30:49.973120Z"
    }
   },
   "source": [
    "ncbi_frame_disputed.shape"
   ],
   "outputs": [
    {
     "data": {
      "text/plain": [
       "(105, 16)"
      ]
     },
     "execution_count": 102,
     "metadata": {},
     "output_type": "execute_result"
    }
   ],
   "execution_count": 102
  },
  {
   "cell_type": "code",
   "id": "fe33fe1d6d2aad09",
   "metadata": {
    "ExecuteTime": {
     "end_time": "2025-01-08T22:30:50.048465Z",
     "start_time": "2025-01-08T22:30:50.042257Z"
    }
   },
   "source": [
    "ncbi_frame_disputed = ncbi_frame_disputed.explode(\"dragless_curie_list\", ignore_index=True)\n"
   ],
   "outputs": [],
   "execution_count": 103
  },
  {
   "cell_type": "code",
   "id": "f8fe49b93cb12990",
   "metadata": {
    "ExecuteTime": {
     "end_time": "2025-01-08T22:30:55.341399Z",
     "start_time": "2025-01-08T22:30:55.337488Z"
    }
   },
   "source": [
    "ncbi_frame_disputed.shape"
   ],
   "outputs": [
    {
     "data": {
      "text/plain": [
       "(210, 16)"
      ]
     },
     "execution_count": 104,
     "metadata": {},
     "output_type": "execute_result"
    }
   ],
   "execution_count": 104
  },
  {
   "cell_type": "code",
   "id": "6896ca8dd3865cb5",
   "metadata": {
    "ExecuteTime": {
     "end_time": "2025-01-08T22:31:00.459387Z",
     "start_time": "2025-01-08T22:31:00.455759Z"
    }
   },
   "source": [
    "ncbi_frame_disputed[\"dragless_curie_list\"] = ncbi_frame_disputed[\"dragless_curie_list\"].apply(lambda x: [x])"
   ],
   "outputs": [],
   "execution_count": 105
  },
  {
   "metadata": {},
   "cell_type": "markdown",
   "source": "## Just include all of the remaining disputed CURIe assignments",
   "id": "849c8845f5c378e7"
  },
  {
   "cell_type": "code",
   "id": "9a472d228624f148",
   "metadata": {
    "ExecuteTime": {
     "end_time": "2025-01-08T22:31:06.220325Z",
     "start_time": "2025-01-08T22:31:06.205600Z"
    }
   },
   "source": [
    "# Combine the rows of ncbi_frame_undisputed and ncbi_frame_disputed into a new DataFrame\n",
    "ncbi_disputes_exploded_frame = pd.concat([ncbi_frame_undisputed, ncbi_frame_disputed], ignore_index=True)\n"
   ],
   "outputs": [],
   "execution_count": 106
  },
  {
   "cell_type": "code",
   "id": "e772d6db19793ec5",
   "metadata": {
    "ExecuteTime": {
     "end_time": "2025-01-08T22:31:16.346963Z",
     "start_time": "2025-01-08T22:31:16.342839Z"
    }
   },
   "source": [
    "ncbi_disputes_exploded_frame.shape"
   ],
   "outputs": [
    {
     "data": {
      "text/plain": [
       "(10398, 16)"
      ]
     },
     "execution_count": 107,
     "metadata": {},
     "output_type": "execute_result"
    }
   ],
   "execution_count": 107
  },
  {
   "cell_type": "code",
   "id": "ef0b5e69d724d94a",
   "metadata": {
    "ExecuteTime": {
     "end_time": "2025-01-08T22:31:16.381619Z",
     "start_time": "2025-01-08T22:31:16.355012Z"
    }
   },
   "source": [
    "ncbi_disputes_exploded_frame"
   ],
   "outputs": [
    {
     "data": {
      "text/plain": [
       "       serial_number                                            content  \\\n",
       "0                  1                                     not applicable   \n",
       "1                  2                                            missing   \n",
       "2                  3                                               soil   \n",
       "3                  4                                      not collected   \n",
       "4                  5                                             forest   \n",
       "...              ...                                                ...   \n",
       "10393           9710                               soil [ENVO:01001044]   \n",
       "10394           9767  irrigation system [ENVO:00000029]|fertilizatio...   \n",
       "10395           9767  irrigation system [ENVO:00000029]|fertilizatio...   \n",
       "10396           9813  irrigation system [ENVO:00000029]|fertilizatio...   \n",
       "10397           9813  irrigation system [ENVO:00000029]|fertilizatio...   \n",
       "\n",
       "       count                           content_list  content_count  \\\n",
       "0        269                         not applicable              1   \n",
       "1        205                                missing              1   \n",
       "2        203                                   soil              1   \n",
       "3        170                          not collected              1   \n",
       "4         81                                 forest              1   \n",
       "...      ...                                    ...            ...   \n",
       "10393      1                   soil [ENVO:01001044]              1   \n",
       "10394      1  fertilization process [ENVO:02500001]              3   \n",
       "10395      1  fertilization process [ENVO:02500001]              3   \n",
       "10396      1  fertilization process [ENVO:02500001]              3   \n",
       "10397      1  fertilization process [ENVO:02500001]              3   \n",
       "\n",
       "       envo_count        extracted_label extracted_curie real_label  \\\n",
       "0               0         not applicable            None       None   \n",
       "1               0                missing            None       None   \n",
       "2               0                   soil            None       None   \n",
       "3               0          not collected            None       None   \n",
       "4               0                 forest            None       None   \n",
       "...           ...                    ...             ...        ...   \n",
       "10393           1                   soil   ENVO:01001044       None   \n",
       "10394           1  fertilization process   ENVO:02500001       None   \n",
       "10395           1  fertilization process   ENVO:02500001       None   \n",
       "10396           1  fertilization process   ENVO:02500001       None   \n",
       "10397           1  fertilization process   ENVO:02500001       None   \n",
       "\n",
       "      longest_annotation_curie longest_annotation_label  \\\n",
       "0                         None                     None   \n",
       "1                         None                     None   \n",
       "2                ENVO:00001998                     soil   \n",
       "3                         None                     None   \n",
       "4                ENVO:00000111            forested area   \n",
       "...                        ...                      ...   \n",
       "10393            ENVO:00001998                     soil   \n",
       "10394              BFO:0000015                  process   \n",
       "10395              BFO:0000015                  process   \n",
       "10396              BFO:0000015                  process   \n",
       "10397              BFO:0000015                  process   \n",
       "\n",
       "                           curie_list  unique_curie_count drag_evidence  \\\n",
       "0                                  []                   0           NaN   \n",
       "1                                  []                   0           NaN   \n",
       "2                     [ENVO:00001998]                   1           NaN   \n",
       "3                                  []                   0           NaN   \n",
       "4                     [ENVO:00000111]                   1           NaN   \n",
       "...                               ...                 ...           ...   \n",
       "10393  [ENVO:01001044, ENVO:00001998]                   2           NaN   \n",
       "10394    [BFO:0000015, ENVO:02500001]                   2           NaN   \n",
       "10395    [BFO:0000015, ENVO:02500001]                   2           NaN   \n",
       "10396    [BFO:0000015, ENVO:02500001]                   2           NaN   \n",
       "10397    [BFO:0000015, ENVO:02500001]                   2           NaN   \n",
       "\n",
       "      dragless_curie_list  dragless_curie_count  \n",
       "0                      []                     0  \n",
       "1                      []                     0  \n",
       "2         [ENVO:00001998]                     1  \n",
       "3                      []                     0  \n",
       "4         [ENVO:00000111]                     1  \n",
       "...                   ...                   ...  \n",
       "10393     [ENVO:00001998]                     2  \n",
       "10394       [BFO:0000015]                     2  \n",
       "10395     [ENVO:02500001]                     2  \n",
       "10396       [BFO:0000015]                     2  \n",
       "10397     [ENVO:02500001]                     2  \n",
       "\n",
       "[10398 rows x 16 columns]"
      ],
      "text/html": [
       "<div>\n",
       "<style scoped>\n",
       "    .dataframe tbody tr th:only-of-type {\n",
       "        vertical-align: middle;\n",
       "    }\n",
       "\n",
       "    .dataframe tbody tr th {\n",
       "        vertical-align: top;\n",
       "    }\n",
       "\n",
       "    .dataframe thead th {\n",
       "        text-align: right;\n",
       "    }\n",
       "</style>\n",
       "<table border=\"1\" class=\"dataframe\">\n",
       "  <thead>\n",
       "    <tr style=\"text-align: right;\">\n",
       "      <th></th>\n",
       "      <th>serial_number</th>\n",
       "      <th>content</th>\n",
       "      <th>count</th>\n",
       "      <th>content_list</th>\n",
       "      <th>content_count</th>\n",
       "      <th>envo_count</th>\n",
       "      <th>extracted_label</th>\n",
       "      <th>extracted_curie</th>\n",
       "      <th>real_label</th>\n",
       "      <th>longest_annotation_curie</th>\n",
       "      <th>longest_annotation_label</th>\n",
       "      <th>curie_list</th>\n",
       "      <th>unique_curie_count</th>\n",
       "      <th>drag_evidence</th>\n",
       "      <th>dragless_curie_list</th>\n",
       "      <th>dragless_curie_count</th>\n",
       "    </tr>\n",
       "  </thead>\n",
       "  <tbody>\n",
       "    <tr>\n",
       "      <th>0</th>\n",
       "      <td>1</td>\n",
       "      <td>not applicable</td>\n",
       "      <td>269</td>\n",
       "      <td>not applicable</td>\n",
       "      <td>1</td>\n",
       "      <td>0</td>\n",
       "      <td>not applicable</td>\n",
       "      <td>None</td>\n",
       "      <td>None</td>\n",
       "      <td>None</td>\n",
       "      <td>None</td>\n",
       "      <td>[]</td>\n",
       "      <td>0</td>\n",
       "      <td>NaN</td>\n",
       "      <td>[]</td>\n",
       "      <td>0</td>\n",
       "    </tr>\n",
       "    <tr>\n",
       "      <th>1</th>\n",
       "      <td>2</td>\n",
       "      <td>missing</td>\n",
       "      <td>205</td>\n",
       "      <td>missing</td>\n",
       "      <td>1</td>\n",
       "      <td>0</td>\n",
       "      <td>missing</td>\n",
       "      <td>None</td>\n",
       "      <td>None</td>\n",
       "      <td>None</td>\n",
       "      <td>None</td>\n",
       "      <td>[]</td>\n",
       "      <td>0</td>\n",
       "      <td>NaN</td>\n",
       "      <td>[]</td>\n",
       "      <td>0</td>\n",
       "    </tr>\n",
       "    <tr>\n",
       "      <th>2</th>\n",
       "      <td>3</td>\n",
       "      <td>soil</td>\n",
       "      <td>203</td>\n",
       "      <td>soil</td>\n",
       "      <td>1</td>\n",
       "      <td>0</td>\n",
       "      <td>soil</td>\n",
       "      <td>None</td>\n",
       "      <td>None</td>\n",
       "      <td>ENVO:00001998</td>\n",
       "      <td>soil</td>\n",
       "      <td>[ENVO:00001998]</td>\n",
       "      <td>1</td>\n",
       "      <td>NaN</td>\n",
       "      <td>[ENVO:00001998]</td>\n",
       "      <td>1</td>\n",
       "    </tr>\n",
       "    <tr>\n",
       "      <th>3</th>\n",
       "      <td>4</td>\n",
       "      <td>not collected</td>\n",
       "      <td>170</td>\n",
       "      <td>not collected</td>\n",
       "      <td>1</td>\n",
       "      <td>0</td>\n",
       "      <td>not collected</td>\n",
       "      <td>None</td>\n",
       "      <td>None</td>\n",
       "      <td>None</td>\n",
       "      <td>None</td>\n",
       "      <td>[]</td>\n",
       "      <td>0</td>\n",
       "      <td>NaN</td>\n",
       "      <td>[]</td>\n",
       "      <td>0</td>\n",
       "    </tr>\n",
       "    <tr>\n",
       "      <th>4</th>\n",
       "      <td>5</td>\n",
       "      <td>forest</td>\n",
       "      <td>81</td>\n",
       "      <td>forest</td>\n",
       "      <td>1</td>\n",
       "      <td>0</td>\n",
       "      <td>forest</td>\n",
       "      <td>None</td>\n",
       "      <td>None</td>\n",
       "      <td>ENVO:00000111</td>\n",
       "      <td>forested area</td>\n",
       "      <td>[ENVO:00000111]</td>\n",
       "      <td>1</td>\n",
       "      <td>NaN</td>\n",
       "      <td>[ENVO:00000111]</td>\n",
       "      <td>1</td>\n",
       "    </tr>\n",
       "    <tr>\n",
       "      <th>...</th>\n",
       "      <td>...</td>\n",
       "      <td>...</td>\n",
       "      <td>...</td>\n",
       "      <td>...</td>\n",
       "      <td>...</td>\n",
       "      <td>...</td>\n",
       "      <td>...</td>\n",
       "      <td>...</td>\n",
       "      <td>...</td>\n",
       "      <td>...</td>\n",
       "      <td>...</td>\n",
       "      <td>...</td>\n",
       "      <td>...</td>\n",
       "      <td>...</td>\n",
       "      <td>...</td>\n",
       "      <td>...</td>\n",
       "    </tr>\n",
       "    <tr>\n",
       "      <th>10393</th>\n",
       "      <td>9710</td>\n",
       "      <td>soil [ENVO:01001044]</td>\n",
       "      <td>1</td>\n",
       "      <td>soil [ENVO:01001044]</td>\n",
       "      <td>1</td>\n",
       "      <td>1</td>\n",
       "      <td>soil</td>\n",
       "      <td>ENVO:01001044</td>\n",
       "      <td>None</td>\n",
       "      <td>ENVO:00001998</td>\n",
       "      <td>soil</td>\n",
       "      <td>[ENVO:01001044, ENVO:00001998]</td>\n",
       "      <td>2</td>\n",
       "      <td>NaN</td>\n",
       "      <td>[ENVO:00001998]</td>\n",
       "      <td>2</td>\n",
       "    </tr>\n",
       "    <tr>\n",
       "      <th>10394</th>\n",
       "      <td>9767</td>\n",
       "      <td>irrigation system [ENVO:00000029]|fertilizatio...</td>\n",
       "      <td>1</td>\n",
       "      <td>fertilization process [ENVO:02500001]</td>\n",
       "      <td>3</td>\n",
       "      <td>1</td>\n",
       "      <td>fertilization process</td>\n",
       "      <td>ENVO:02500001</td>\n",
       "      <td>None</td>\n",
       "      <td>BFO:0000015</td>\n",
       "      <td>process</td>\n",
       "      <td>[BFO:0000015, ENVO:02500001]</td>\n",
       "      <td>2</td>\n",
       "      <td>NaN</td>\n",
       "      <td>[BFO:0000015]</td>\n",
       "      <td>2</td>\n",
       "    </tr>\n",
       "    <tr>\n",
       "      <th>10395</th>\n",
       "      <td>9767</td>\n",
       "      <td>irrigation system [ENVO:00000029]|fertilizatio...</td>\n",
       "      <td>1</td>\n",
       "      <td>fertilization process [ENVO:02500001]</td>\n",
       "      <td>3</td>\n",
       "      <td>1</td>\n",
       "      <td>fertilization process</td>\n",
       "      <td>ENVO:02500001</td>\n",
       "      <td>None</td>\n",
       "      <td>BFO:0000015</td>\n",
       "      <td>process</td>\n",
       "      <td>[BFO:0000015, ENVO:02500001]</td>\n",
       "      <td>2</td>\n",
       "      <td>NaN</td>\n",
       "      <td>[ENVO:02500001]</td>\n",
       "      <td>2</td>\n",
       "    </tr>\n",
       "    <tr>\n",
       "      <th>10396</th>\n",
       "      <td>9813</td>\n",
       "      <td>irrigation system [ENVO:00000029]|fertilizatio...</td>\n",
       "      <td>1</td>\n",
       "      <td>fertilization process [ENVO:02500001]</td>\n",
       "      <td>3</td>\n",
       "      <td>1</td>\n",
       "      <td>fertilization process</td>\n",
       "      <td>ENVO:02500001</td>\n",
       "      <td>None</td>\n",
       "      <td>BFO:0000015</td>\n",
       "      <td>process</td>\n",
       "      <td>[BFO:0000015, ENVO:02500001]</td>\n",
       "      <td>2</td>\n",
       "      <td>NaN</td>\n",
       "      <td>[BFO:0000015]</td>\n",
       "      <td>2</td>\n",
       "    </tr>\n",
       "    <tr>\n",
       "      <th>10397</th>\n",
       "      <td>9813</td>\n",
       "      <td>irrigation system [ENVO:00000029]|fertilizatio...</td>\n",
       "      <td>1</td>\n",
       "      <td>fertilization process [ENVO:02500001]</td>\n",
       "      <td>3</td>\n",
       "      <td>1</td>\n",
       "      <td>fertilization process</td>\n",
       "      <td>ENVO:02500001</td>\n",
       "      <td>None</td>\n",
       "      <td>BFO:0000015</td>\n",
       "      <td>process</td>\n",
       "      <td>[BFO:0000015, ENVO:02500001]</td>\n",
       "      <td>2</td>\n",
       "      <td>NaN</td>\n",
       "      <td>[ENVO:02500001]</td>\n",
       "      <td>2</td>\n",
       "    </tr>\n",
       "  </tbody>\n",
       "</table>\n",
       "<p>10398 rows × 16 columns</p>\n",
       "</div>"
      ]
     },
     "execution_count": 108,
     "metadata": {},
     "output_type": "execute_result"
    }
   ],
   "execution_count": 108
  },
  {
   "cell_type": "code",
   "id": "be53a584475499b5",
   "metadata": {
    "ExecuteTime": {
     "end_time": "2025-01-08T22:31:21.504235Z",
     "start_time": "2025-01-08T22:31:21.496889Z"
    }
   },
   "source": [
    "ncbi_disputes_exploded_frame['post_explode_curie_count'] = ncbi_disputes_exploded_frame['dragless_curie_list'].apply(\n",
    "    len)"
   ],
   "outputs": [],
   "execution_count": 109
  },
  {
   "cell_type": "code",
   "id": "e0c0605a4ca28188",
   "metadata": {
    "ExecuteTime": {
     "end_time": "2025-01-08T22:31:21.574895Z",
     "start_time": "2025-01-08T22:31:21.569109Z"
    }
   },
   "source": [
    "ncbi_disputes_exploded_frame['post_explode_curie_count'].value_counts()"
   ],
   "outputs": [
    {
     "data": {
      "text/plain": [
       "post_explode_curie_count\n",
       "1    6539\n",
       "0    3859\n",
       "Name: count, dtype: int64"
      ]
     },
     "execution_count": 110,
     "metadata": {},
     "output_type": "execute_result"
    }
   ],
   "execution_count": 110
  },
  {
   "cell_type": "code",
   "id": "396e48f3cea80587",
   "metadata": {
    "ExecuteTime": {
     "end_time": "2025-01-08T22:31:21.616005Z",
     "start_time": "2025-01-08T22:31:21.607995Z"
    }
   },
   "source": [
    "# Set 'post_explode_curie' to the 0th item in 'dragless_curie_list'\n",
    "ncbi_disputes_exploded_frame[\"post_explode_curie\"] = ncbi_disputes_exploded_frame[\"dragless_curie_list\"].apply(\n",
    "    lambda x: x[0] if isinstance(x, list) and len(x) > 0 else None\n",
    ")"
   ],
   "outputs": [],
   "execution_count": 111
  },
  {
   "cell_type": "code",
   "id": "1e488764b4212b75",
   "metadata": {
    "ExecuteTime": {
     "end_time": "2025-01-08T22:31:21.701750Z",
     "start_time": "2025-01-08T22:31:21.695029Z"
    }
   },
   "source": [
    "\n",
    "ncbi_biosample_scoped_counts = (\n",
    "    ncbi_disputes_exploded_frame.groupby(\"post_explode_curie\")[\"count\"].sum().reset_index()\n",
    ")\n",
    "\n",
    "# todo parameterize the column name based on what was really counted, generally biosamples or bioprojects\n",
    "ncbi_biosample_scoped_counts.columns = ['curie', 'ncbi_bioprojects_count']"
   ],
   "outputs": [],
   "execution_count": 112
  },
  {
   "metadata": {},
   "cell_type": "markdown",
   "source": "This is currently a count of Biosamples for which the indicated CURIes can be extracted or inferred by oaklib annotation, after removal of drag-stretch, auto-incremented CURIes",
   "id": "de29981308f4d74c"
  },
  {
   "cell_type": "code",
   "id": "916cfcc3c7aa0d34",
   "metadata": {
    "ExecuteTime": {
     "end_time": "2025-01-08T22:31:21.759542Z",
     "start_time": "2025-01-08T22:31:21.750982Z"
    }
   },
   "source": [
    "ncbi_biosample_scoped_counts"
   ],
   "outputs": [
    {
     "data": {
      "text/plain": [
       "               curie  ncbi_bioprojects_count\n",
       "0        BFO:0000015                      62\n",
       "1        BFO:0000029                      63\n",
       "2        BFO:0000030                       1\n",
       "3        CHEBI:15377                      51\n",
       "4        CHEBI:15379                       1\n",
       "...              ...                     ...\n",
       "1099  UBERON:0000922                       1\n",
       "1100  UBERON:0001456                       3\n",
       "1101  UBERON:0001474                       2\n",
       "1102  UBERON:0001988                       5\n",
       "1103  UBERON:0002416                      98\n",
       "\n",
       "[1104 rows x 2 columns]"
      ],
      "text/html": [
       "<div>\n",
       "<style scoped>\n",
       "    .dataframe tbody tr th:only-of-type {\n",
       "        vertical-align: middle;\n",
       "    }\n",
       "\n",
       "    .dataframe tbody tr th {\n",
       "        vertical-align: top;\n",
       "    }\n",
       "\n",
       "    .dataframe thead th {\n",
       "        text-align: right;\n",
       "    }\n",
       "</style>\n",
       "<table border=\"1\" class=\"dataframe\">\n",
       "  <thead>\n",
       "    <tr style=\"text-align: right;\">\n",
       "      <th></th>\n",
       "      <th>curie</th>\n",
       "      <th>ncbi_bioprojects_count</th>\n",
       "    </tr>\n",
       "  </thead>\n",
       "  <tbody>\n",
       "    <tr>\n",
       "      <th>0</th>\n",
       "      <td>BFO:0000015</td>\n",
       "      <td>62</td>\n",
       "    </tr>\n",
       "    <tr>\n",
       "      <th>1</th>\n",
       "      <td>BFO:0000029</td>\n",
       "      <td>63</td>\n",
       "    </tr>\n",
       "    <tr>\n",
       "      <th>2</th>\n",
       "      <td>BFO:0000030</td>\n",
       "      <td>1</td>\n",
       "    </tr>\n",
       "    <tr>\n",
       "      <th>3</th>\n",
       "      <td>CHEBI:15377</td>\n",
       "      <td>51</td>\n",
       "    </tr>\n",
       "    <tr>\n",
       "      <th>4</th>\n",
       "      <td>CHEBI:15379</td>\n",
       "      <td>1</td>\n",
       "    </tr>\n",
       "    <tr>\n",
       "      <th>...</th>\n",
       "      <td>...</td>\n",
       "      <td>...</td>\n",
       "    </tr>\n",
       "    <tr>\n",
       "      <th>1099</th>\n",
       "      <td>UBERON:0000922</td>\n",
       "      <td>1</td>\n",
       "    </tr>\n",
       "    <tr>\n",
       "      <th>1100</th>\n",
       "      <td>UBERON:0001456</td>\n",
       "      <td>3</td>\n",
       "    </tr>\n",
       "    <tr>\n",
       "      <th>1101</th>\n",
       "      <td>UBERON:0001474</td>\n",
       "      <td>2</td>\n",
       "    </tr>\n",
       "    <tr>\n",
       "      <th>1102</th>\n",
       "      <td>UBERON:0001988</td>\n",
       "      <td>5</td>\n",
       "    </tr>\n",
       "    <tr>\n",
       "      <th>1103</th>\n",
       "      <td>UBERON:0002416</td>\n",
       "      <td>98</td>\n",
       "    </tr>\n",
       "  </tbody>\n",
       "</table>\n",
       "<p>1104 rows × 2 columns</p>\n",
       "</div>"
      ]
     },
     "execution_count": 113,
     "metadata": {},
     "output_type": "execute_result"
    }
   ],
   "execution_count": 113
  },
  {
   "metadata": {},
   "cell_type": "markdown",
   "source": [
    "## GOLDTERMS mappings only approach\n",
    "\n",
    "we're currently including\n",
    "- mappings only\n",
    "\n",
    "and have retired the previous use of\n",
    "- mappings in hybrid with biosample counts\n",
    "\n",
    "And we're casting a wide net, especially for the hybrid approach\n",
    "- searching for 'soil', 'sediment' etc. in GOLDTERMS labels without anchoring them like 'Environmental > Aquatic > Sediment'\n",
    "- retrieving the CURIes for env_broad_scale, env_local_scale and env_medium for all voting sheets, and trusting orthogonal filtering to remove the inappropriate CURIes\n",
    "\n",
    "Should we now add (or switch to) direct biosample counts of GOLD \"envo\" annotations?\n",
    "\n",
    "Efficient retrieval of  all GOLD data in a given scope isn't easy"
   ],
   "id": "54ef0d1be4a1dea9"
  },
  {
   "metadata": {
    "ExecuteTime": {
     "end_time": "2025-01-08T22:31:21.805691Z",
     "start_time": "2025-01-08T22:31:21.800888Z"
    }
   },
   "cell_type": "code",
   "source": [
    "# Determine the filenames and target directory\n",
    "goldterms_compressed_filename = urlparse(goldterms_semsql_url).path.split('/')[-1]\n",
    "goldterms_filename = os.path.splitext(goldterms_compressed_filename)[0]\n",
    "target_dir = os.path.join(\"..\", \"..\")  # Two levels up\n",
    "\n",
    "# Print to confirm the filenames\n",
    "print(goldterms_filename)"
   ],
   "id": "40f8fc6862a817f3",
   "outputs": [
    {
     "name": "stdout",
     "output_type": "stream",
     "text": [
      "goldterms.db\n"
     ]
    }
   ],
   "execution_count": 114
  },
  {
   "metadata": {
    "ExecuteTime": {
     "end_time": "2025-01-08T22:31:22.361508Z",
     "start_time": "2025-01-08T22:31:21.955Z"
    }
   },
   "cell_type": "code",
   "source": [
    "# Fetch the contents from the URL and save compressed file in target directory\n",
    "goldterms_response = requests.get(goldterms_semsql_url)\n",
    "goldterms_compressed_file_path = os.path.join(target_dir, goldterms_compressed_filename)\n",
    "with open(goldterms_compressed_file_path, \"wb\") as f:\n",
    "    f.write(goldterms_response.content)\n",
    "\n",
    "# ~ 1 second"
   ],
   "id": "784c07d7b6bee4c2",
   "outputs": [],
   "execution_count": 115
  },
  {
   "metadata": {
    "ExecuteTime": {
     "end_time": "2025-01-08T22:31:22.448707Z",
     "start_time": "2025-01-08T22:31:22.368634Z"
    }
   },
   "cell_type": "code",
   "source": [
    "# Unzip the compressed file and save the extracted file in target directory\n",
    "goldterms_uncompressed_file_path = os.path.join(target_dir, goldterms_filename)\n",
    "with gzip.open(goldterms_compressed_file_path, \"rb\") as f_in:\n",
    "    with open(goldterms_uncompressed_file_path, \"wb\") as f_out:\n",
    "        shutil.copyfileobj(f_in, f_out)\n",
    "\n",
    "# ~ 1 second"
   ],
   "id": "cd765130d59cd026",
   "outputs": [],
   "execution_count": 116
  },
  {
   "metadata": {
    "ExecuteTime": {
     "end_time": "2025-01-08T22:31:22.503705Z",
     "start_time": "2025-01-08T22:31:22.500405Z"
    }
   },
   "cell_type": "code",
   "source": "## that's all fast. don't bother caching",
   "id": "fd2fab3ddcf862ce",
   "outputs": [],
   "execution_count": 117
  },
  {
   "metadata": {
    "ExecuteTime": {
     "end_time": "2025-01-08T22:31:22.571225Z",
     "start_time": "2025-01-08T22:31:22.567513Z"
    }
   },
   "cell_type": "code",
   "source": "goldterms_conn = sqlite3.connect(goldterms_uncompressed_file_path)",
   "id": "dcf847a3c2ed302d",
   "outputs": [],
   "execution_count": 118
  },
  {
   "metadata": {
    "ExecuteTime": {
     "end_time": "2025-01-08T22:31:22.647286Z",
     "start_time": "2025-01-08T22:31:22.638014Z"
    }
   },
   "cell_type": "code",
   "source": "goldterms_result = pd.read_sql_query(extension_query, goldterms_conn)",
   "id": "beacc603e5db48b3",
   "outputs": [],
   "execution_count": 119
  },
  {
   "metadata": {
    "ExecuteTime": {
     "end_time": "2025-01-08T22:31:22.727608Z",
     "start_time": "2025-01-08T22:31:22.713562Z"
    }
   },
   "cell_type": "code",
   "source": "goldterms_result",
   "id": "85e373122e14f6dc",
   "outputs": [
    {
     "data": {
      "text/plain": [
       "                                             subject            predicate  \\\n",
       "0                       <GOLDVOCAB:Paddy-field/soil>           rdfs:label   \n",
       "1    GOLDTERMS:Environmental-Terrestrial-Soil-Arable       mixs:env_broad   \n",
       "2    GOLDTERMS:Environmental-Terrestrial-Soil-Arable       mixs:env_local   \n",
       "3    GOLDTERMS:Environmental-Terrestrial-Soil-Arable      mixs:env_medium   \n",
       "4    GOLDTERMS:Environmental-Terrestrial-Soil-Arable  mixs:mixs_extension   \n",
       "..                                               ...                  ...   \n",
       "458                          GOLDVOCAB:Riparian-soil           rdfs:label   \n",
       "459                                   GOLDVOCAB:Soil           rdfs:label   \n",
       "460                 GOLDVOCAB:Soil-_28non-planted_29           rdfs:label   \n",
       "461                             GOLDVOCAB:Soil-crust           rdfs:label   \n",
       "462                         GOLDVOCAB:Soil-microcosm           rdfs:label   \n",
       "\n",
       "                content  \n",
       "0      Paddy field/soil  \n",
       "1         ENVO:00000446  \n",
       "2         ENVO:01001177  \n",
       "3         ENVO:00005742  \n",
       "4             mixs:Soil  \n",
       "..                  ...  \n",
       "458       Riparian soil  \n",
       "459                Soil  \n",
       "460  Soil (non-planted)  \n",
       "461          Soil crust  \n",
       "462      Soil microcosm  \n",
       "\n",
       "[463 rows x 3 columns]"
      ],
      "text/html": [
       "<div>\n",
       "<style scoped>\n",
       "    .dataframe tbody tr th:only-of-type {\n",
       "        vertical-align: middle;\n",
       "    }\n",
       "\n",
       "    .dataframe tbody tr th {\n",
       "        vertical-align: top;\n",
       "    }\n",
       "\n",
       "    .dataframe thead th {\n",
       "        text-align: right;\n",
       "    }\n",
       "</style>\n",
       "<table border=\"1\" class=\"dataframe\">\n",
       "  <thead>\n",
       "    <tr style=\"text-align: right;\">\n",
       "      <th></th>\n",
       "      <th>subject</th>\n",
       "      <th>predicate</th>\n",
       "      <th>content</th>\n",
       "    </tr>\n",
       "  </thead>\n",
       "  <tbody>\n",
       "    <tr>\n",
       "      <th>0</th>\n",
       "      <td>&lt;GOLDVOCAB:Paddy-field/soil&gt;</td>\n",
       "      <td>rdfs:label</td>\n",
       "      <td>Paddy field/soil</td>\n",
       "    </tr>\n",
       "    <tr>\n",
       "      <th>1</th>\n",
       "      <td>GOLDTERMS:Environmental-Terrestrial-Soil-Arable</td>\n",
       "      <td>mixs:env_broad</td>\n",
       "      <td>ENVO:00000446</td>\n",
       "    </tr>\n",
       "    <tr>\n",
       "      <th>2</th>\n",
       "      <td>GOLDTERMS:Environmental-Terrestrial-Soil-Arable</td>\n",
       "      <td>mixs:env_local</td>\n",
       "      <td>ENVO:01001177</td>\n",
       "    </tr>\n",
       "    <tr>\n",
       "      <th>3</th>\n",
       "      <td>GOLDTERMS:Environmental-Terrestrial-Soil-Arable</td>\n",
       "      <td>mixs:env_medium</td>\n",
       "      <td>ENVO:00005742</td>\n",
       "    </tr>\n",
       "    <tr>\n",
       "      <th>4</th>\n",
       "      <td>GOLDTERMS:Environmental-Terrestrial-Soil-Arable</td>\n",
       "      <td>mixs:mixs_extension</td>\n",
       "      <td>mixs:Soil</td>\n",
       "    </tr>\n",
       "    <tr>\n",
       "      <th>...</th>\n",
       "      <td>...</td>\n",
       "      <td>...</td>\n",
       "      <td>...</td>\n",
       "    </tr>\n",
       "    <tr>\n",
       "      <th>458</th>\n",
       "      <td>GOLDVOCAB:Riparian-soil</td>\n",
       "      <td>rdfs:label</td>\n",
       "      <td>Riparian soil</td>\n",
       "    </tr>\n",
       "    <tr>\n",
       "      <th>459</th>\n",
       "      <td>GOLDVOCAB:Soil</td>\n",
       "      <td>rdfs:label</td>\n",
       "      <td>Soil</td>\n",
       "    </tr>\n",
       "    <tr>\n",
       "      <th>460</th>\n",
       "      <td>GOLDVOCAB:Soil-_28non-planted_29</td>\n",
       "      <td>rdfs:label</td>\n",
       "      <td>Soil (non-planted)</td>\n",
       "    </tr>\n",
       "    <tr>\n",
       "      <th>461</th>\n",
       "      <td>GOLDVOCAB:Soil-crust</td>\n",
       "      <td>rdfs:label</td>\n",
       "      <td>Soil crust</td>\n",
       "    </tr>\n",
       "    <tr>\n",
       "      <th>462</th>\n",
       "      <td>GOLDVOCAB:Soil-microcosm</td>\n",
       "      <td>rdfs:label</td>\n",
       "      <td>Soil microcosm</td>\n",
       "    </tr>\n",
       "  </tbody>\n",
       "</table>\n",
       "<p>463 rows × 3 columns</p>\n",
       "</div>"
      ]
     },
     "execution_count": 120,
     "metadata": {},
     "output_type": "execute_result"
    }
   ],
   "execution_count": 120
  },
  {
   "metadata": {
    "ExecuteTime": {
     "end_time": "2025-01-08T22:31:28.682606Z",
     "start_time": "2025-01-08T22:31:28.679985Z"
    }
   },
   "cell_type": "code",
   "source": [
    "# # todo: save this kind of content before subsetting on an environment\n",
    "# #   the subsetting is currently baked into the query\n",
    "# \n",
    "# # see also goldterms_queries.ipynb in MAM's Collab\n",
    "# goldterms_result.to_csv(\"goldterms_single_environment_mappings_long.tsv\", sep=\"\\t\", index=False)"
   ],
   "id": "859a87109b08d83c",
   "outputs": [],
   "execution_count": 121
  },
  {
   "metadata": {
    "ExecuteTime": {
     "end_time": "2025-01-08T22:31:28.709578Z",
     "start_time": "2025-01-08T22:31:28.686427Z"
    }
   },
   "cell_type": "code",
   "source": "goldterms_only_curies = goldterms_result.loc[goldterms_result['predicate'].isin(gold_context_selectors), 'content']\n",
   "id": "391d1fb9314d4b0b",
   "outputs": [],
   "execution_count": 122
  },
  {
   "metadata": {
    "ExecuteTime": {
     "end_time": "2025-01-08T22:31:28.788350Z",
     "start_time": "2025-01-08T22:31:28.785241Z"
    }
   },
   "cell_type": "code",
   "source": "goldterms_only_curies = goldterms_only_curies.unique().tolist()",
   "id": "b5621477ccaaa761",
   "outputs": [],
   "execution_count": 123
  },
  {
   "metadata": {
    "ExecuteTime": {
     "end_time": "2025-01-08T22:31:28.878591Z",
     "start_time": "2025-01-08T22:31:28.875555Z"
    }
   },
   "cell_type": "code",
   "source": "# goldterms_only_curies",
   "id": "70238d1c8e144cc3",
   "outputs": [],
   "execution_count": 124
  },
  {
   "metadata": {},
   "cell_type": "markdown",
   "source": [
    "# Make lists of CURIEs\n",
    "which will determine\n",
    "- the rows in the table\n",
    "- the boolean filter columns"
   ],
   "id": "8541580a525201e3"
  },
  {
   "metadata": {},
   "cell_type": "markdown",
   "source": "this next block got a lot slower when I switched from the envo adapter to the aggregated adapter",
   "id": "5d62d7ef3088dfef"
  },
  {
   "metadata": {
    "ExecuteTime": {
     "end_time": "2025-01-08T22:31:34.095300Z",
     "start_time": "2025-01-08T22:31:34.092028Z"
    }
   },
   "cell_type": "code",
   "source": "anchor_curies = list(anchor_descendants_frame['curie'])\n",
   "id": "e9d884b388a37e32",
   "outputs": [],
   "execution_count": 125
  },
  {
   "metadata": {
    "ExecuteTime": {
     "end_time": "2025-01-08T22:31:44.697989Z",
     "start_time": "2025-01-08T22:31:44.689249Z"
    }
   },
   "cell_type": "code",
   "source": "legacy_pv_curies = [i['curie'] for i in pv_validation_results['valids']]",
   "id": "14ebd4371eb0e8ec",
   "outputs": [],
   "execution_count": 126
  },
  {
   "metadata": {
    "ExecuteTime": {
     "end_time": "2025-01-08T22:31:50.453879Z",
     "start_time": "2025-01-08T22:31:50.439636Z"
    }
   },
   "cell_type": "code",
   "source": [
    "obsoletes_curies_envo = set(envo_adapter.obsoletes())\n",
    "obsoletes_curies_po = set(po_adapter.obsoletes())\n",
    "obsoletes_curies = list(obsoletes_curies_envo.union(obsoletes_curies_po))"
   ],
   "id": "71f56d6964717f8e",
   "outputs": [],
   "execution_count": 127
  },
  {
   "metadata": {
    "ExecuteTime": {
     "end_time": "2025-01-08T22:31:50.989648Z",
     "start_time": "2025-01-08T22:31:50.457854Z"
    }
   },
   "cell_type": "code",
   "source": [
    "abp_curies = list(envo_adapter.descendants(ABP, predicates=[IS_A]))\n",
    "aquatic_biome_curies = list(envo_adapter.descendants(AQUATIC_BIOME, predicates=[IS_A]))\n",
    "biome_curies = list(envo_adapter.descendants(BIOME, predicates=[IS_A]))  # \n",
    "building_curies = list(envo_adapter.descendants(BUILDING, predicates=[IS_A]))  #\n",
    "building_part_curies = list(envo_adapter.descendants(BUILDING_PART, predicates=[IS_A]))  #\n",
    "env_mat_curies = list(envo_adapter.descendants(ENVIRONMENTAL_MATERIAL, predicates=[IS_A]))\n",
    "env_sys_curies = list(envo_adapter.descendants(ENVIRONMENTAL_SYSTEM, predicates=[IS_A]))\n",
    "env_sys_curies = list(envo_adapter.descendants(ENVIRONMENTAL_SYSTEM, predicates=[IS_A]))\n",
    "human_construction_curies = list(envo_adapter.descendants(HUMAN_CONSTRUCTION, predicates=[IS_A]))  #\n",
    "liquid_water_curies = list(envo_adapter.descendants(LIQUID_WATER, predicates=[IS_A]))  # \n",
    "marine_biome_curies = list(envo_adapter.descendants(MARINE_BIOME, predicates=[IS_A]))\n",
    "mass_of_environmental_material_curies = list(envo_adapter.descendants(MASS_OF_ENVIRONMENTAL_MATERIAL, predicates=[IS_A]))  #\n",
    "plant_structure_curies = list(po_adapter.descendants(PLANT_STRUCTURE, predicates=[IS_A]))\n",
    "snow_curies = list(envo_adapter.descendants(SNOW, predicates=[IS_A]))  #\n",
    "soil_curies = list(envo_adapter.descendants(SOIL, predicates=[IS_A]))  #\n",
    "terrestrial_biome_curies = list(envo_adapter.descendants(TERRESTRIAL_BIOME, predicates=[IS_A]))\n",
    "water_ice_curies = list(envo_adapter.descendants(WATER_ICE, predicates=[IS_A]))  #\n"
   ],
   "id": "beb69545a9255099",
   "outputs": [],
   "execution_count": 128
  },
  {
   "metadata": {
    "ExecuteTime": {
     "end_time": "2025-01-08T22:31:56.313572Z",
     "start_time": "2025-01-08T22:31:56.306328Z"
    }
   },
   "cell_type": "code",
   "source": [
    "# Specify an output file name\n",
    "nlcd2011_class_iris_file = \"nlcd2011_class_iris.txt\"\n",
    "\n",
    "nlcd_subset_textual_representation = \"nlcd2011\"\n",
    "\n",
    "in_subset_curie = \"oio:inSubset\"\n",
    "\n",
    "# Initialize nlcd_classes\n",
    "nlcd_classes = []\n",
    "\n",
    "if os.path.exists(nlcd2011_class_iris_file):\n",
    "    # Load the list from the file if it exists\n",
    "    print(f\"Loading {nlcd_subset_textual_representation} classes from {nlcd2011_class_iris_file}...\")\n",
    "    with open(nlcd2011_class_iris_file, \"r\") as file:\n",
    "        nlcd_classes = [line.strip() for line in file.readlines()]\n",
    "else:\n",
    "    # File doesn't exist; generate the list using the loop\n",
    "    print(\n",
    "        f\"{nlcd2011_class_iris_file} not found. Identifying classes in {nlcd_subset_textual_representation} subset (~2 minutes)...\")\n",
    "\n",
    "    # Retrieve all classes\n",
    "    entities = envo_adapter.entities()\n",
    "\n",
    "    # super slow 2 minutes\n",
    "    # but retrieving classes by named subset seems to crash on EnvO with its textual subsets?\n",
    "    for entity in entities:\n",
    "        term_metadata = envo_adapter.entity_metadata_map(entity)\n",
    "        if in_subset_curie in term_metadata:\n",
    "            subsets = term_metadata[in_subset_curie]\n",
    "            if nlcd_subset_textual_representation in subsets:\n",
    "                nlcd_classes.append(entity)\n",
    "\n",
    "    # Save the generated list to the file\n",
    "    with open(nlcd2011_class_iris_file, \"w\") as file:\n",
    "        for string in nlcd_classes:\n",
    "            file.write(string + \"\\n\")\n",
    "\n",
    "    print(f\"List saved to {nlcd2011_class_iris_file}\")\n",
    "\n",
    "# At this point, nlcd_classes contains the desired list\n",
    "print(f\"Total {nlcd_subset_textual_representation} classes loaded: {len(nlcd_classes)}\")\n"
   ],
   "id": "f863c6e4a8e77c74",
   "outputs": [
    {
     "name": "stdout",
     "output_type": "stream",
     "text": [
      "Loading nlcd2011 classes from nlcd2011_class_iris.txt...\n",
      "Total nlcd2011 classes loaded: 22\n"
     ]
    }
   ],
   "execution_count": 129
  },
  {
   "metadata": {},
   "cell_type": "markdown",
   "source": "## Bootstrap the rows",
   "id": "1318a3f163d8cb19"
  },
  {
   "metadata": {
    "ExecuteTime": {
     "end_time": "2025-01-08T22:32:01.627771Z",
     "start_time": "2025-01-08T22:32:01.625037Z"
    }
   },
   "cell_type": "code",
   "source": "include_in_rows = set()",
   "id": "20a9dcc52b995762",
   "outputs": [],
   "execution_count": 130
  },
  {
   "metadata": {
    "ExecuteTime": {
     "end_time": "2025-01-08T22:32:07.505152Z",
     "start_time": "2025-01-08T22:32:07.494417Z"
    }
   },
   "cell_type": "code",
   "source": [
    "include_in_rows.update(anchor_curies)\n",
    "include_in_rows.update(goldterms_only_curies)\n",
    "include_in_rows.update(legacy_pv_curies)\n",
    "include_in_rows.update(ncbi_frame['extracted_curie'])\n",
    "include_in_rows.update(ncbi_frame['longest_annotation_curie'])\n",
    "include_in_rows.update(nlcd_classes)\n",
    "include_in_rows.update(nmdc_biosample_contexts_frame[nmdc_context_selector])"
   ],
   "id": "264ce97c82c656c4",
   "outputs": [],
   "execution_count": 131
  },
  {
   "metadata": {
    "ExecuteTime": {
     "end_time": "2025-01-08T22:32:12.692592Z",
     "start_time": "2025-01-08T22:32:12.689822Z"
    }
   },
   "cell_type": "code",
   "source": "rows_lod = []",
   "id": "f7a6fb9413f45298",
   "outputs": [],
   "execution_count": 132
  },
  {
   "metadata": {},
   "cell_type": "markdown",
   "source": "# Voting sheet rows and boolean columns",
   "id": "d0c9c7c730c8308a"
  },
  {
   "metadata": {
    "ExecuteTime": {
     "end_time": "2025-01-08T22:32:19.335321Z",
     "start_time": "2025-01-08T22:32:18.012799Z"
    }
   },
   "cell_type": "code",
   "source": [
    "for curie in include_in_rows:\n",
    "    if curie is None:\n",
    "        continue\n",
    "\n",
    "    # ONCE AGAIN, assuming that EnvO is the only ontology we'll check against\n",
    "    current_ancestors = [\n",
    "        list(ancestor.keys())[0] for ancestor in envo_ancs_cache.get(curie, [])\n",
    "    ]\n",
    "    ancestors_in_enum_count = len(set(current_ancestors) & set(legacy_pv_curies))\n",
    "\n",
    "    current_descendants = [\n",
    "        list(descendant.keys())[0] for descendant in envo_descs_cache.get(curie, [])\n",
    "    ]\n",
    "    descendants_in_enum_count = len(set(current_descendants) & set(legacy_pv_curies))\n",
    "\n",
    "    row = {\n",
    "        'curie': curie,\n",
    "        'claimed_prefix': curie.split(':')[0],\n",
    "        'label': aggregated_text_annotator_interface.label(curie),\n",
    "        'envo_native': False,\n",
    "        'obsolete': False,\n",
    "        comparison_enum_column_name: False,\n",
    "        'ancestors_in_enum_count': ancestors_in_enum_count,\n",
    "        'descendants_in_enum_count': descendants_in_enum_count,\n",
    "        'nlcd_class': False,\n",
    "        'abp': False,\n",
    "        'env_sys': False,\n",
    "        'biome': False,\n",
    "        'terrestrial_biome': False,\n",
    "        'aquatic_biome': False,\n",
    "        'marine_biome': False,\n",
    "        'env_mat': False,\n",
    "        'soil': False,\n",
    "        'liquid water': False,\n",
    "        'water ice': False,\n",
    "        'snow': False,\n",
    "        'mass_of_environmental_material': False,\n",
    "        'human_construction': False,\n",
    "        'building': False,\n",
    "        'building_part': False,\n",
    "        'plant_structure': False,\n",
    "        'goldterms_mappings': False,\n",
    "    }\n",
    "\n",
    "    if curie in abp_curies: row['abp'] = True\n",
    "    if curie in aquatic_biome_curies: row['aquatic_biome'] = True\n",
    "    if curie in biome_curies: row['biome'] = True\n",
    "    if curie in building_curies: row['building'] = True\n",
    "    if curie in building_part_curies: row['building_part'] = True\n",
    "    if curie in env_mat_curies: row['env_mat'] = True\n",
    "    if curie in env_sys_curies: row['env_sys'] = True\n",
    "    if curie in goldterms_only_curies: row['goldterms_mappings'] = True\n",
    "    if curie in human_construction_curies: row['human_construction'] = True\n",
    "    if curie in legacy_pv_curies: row[comparison_enum_column_name] = True\n",
    "    if curie in liquid_water_curies: row['liquid water'] = True\n",
    "    if curie in marine_biome_curies: row['marine_biome'] = True\n",
    "    if curie in mass_of_environmental_material_curies: row['mass_of_environmental_material'] = True\n",
    "    if curie in nlcd_classes: row['nlcd_class'] = True\n",
    "    if curie in obsoletes_curies: row['obsolete'] = True\n",
    "    if curie in plant_structure_curies: row['plant_structure'] = True\n",
    "    if curie in snow_curies: row['snow'] = True\n",
    "    if curie in soil_curies: row['soil'] = True\n",
    "    if curie in terrestrial_biome_curies: row['terrestrial_biome'] = True\n",
    "    if curie in water_ice_curies: row['water ice'] = True\n",
    "\n",
    "    try:\n",
    "        prefix, local_id = curie.split(':')\n",
    "        if prefix and prefix == 'ENVO' and row['label'] is not None:\n",
    "            row['envo_native'] = True\n",
    "    except Exception as e:\n",
    "        # Print the exception message\n",
    "        print(f\"An error occurred: {e} trying to split {curie}\")\n",
    "\n",
    "    rows_lod.append(row)\n",
    "\n",
    "# 2 minutes\n"
   ],
   "id": "32f278db05c57616",
   "outputs": [],
   "execution_count": 133
  },
  {
   "metadata": {},
   "cell_type": "markdown",
   "source": "# ^ Voting sheet rows and boolean columns",
   "id": "f77fce51b7fd116d"
  },
  {
   "metadata": {
    "ExecuteTime": {
     "end_time": "2025-01-08T22:32:24.682772Z",
     "start_time": "2025-01-08T22:32:24.670368Z"
    }
   },
   "cell_type": "code",
   "source": "rows_frame = pd.DataFrame(rows_lod)",
   "id": "26bb62d21192288f",
   "outputs": [],
   "execution_count": 134
  },
  {
   "metadata": {
    "ExecuteTime": {
     "end_time": "2025-01-08T22:32:30.245179Z",
     "start_time": "2025-01-08T22:32:30.227785Z"
    }
   },
   "cell_type": "code",
   "source": "rows_frame",
   "id": "4db3ebadb8a07a50",
   "outputs": [
    {
     "data": {
      "text/plain": [
       "              curie claimed_prefix                    label  envo_native  \\\n",
       "0     ENVO:03501301           ENVO                baseboard         True   \n",
       "1     ENVO:00003042           ENVO                  piggery         True   \n",
       "2     ENVO:01001335           ENVO               anchor ice         True   \n",
       "3        ENVO:01014           ENVO                     None        False   \n",
       "4     ENVO:01001494           ENVO                 moonmoon         True   \n",
       "...             ...            ...                      ...          ...   \n",
       "2516  ENVO:01000061           ENVO  marine wind mixed layer         True   \n",
       "2517  ENVO:01000745           ENVO   area of perennial snow         True   \n",
       "2518   ENVO:0000546           ENVO                     None        False   \n",
       "2519  ENVO:00000037           ENVO                    ditch         True   \n",
       "2520  ENVO:01000312           ENVO    culturing environment         True   \n",
       "\n",
       "      obsolete  EnvLocalScaleSoilEnum_10_7  ancestors_in_enum_count  \\\n",
       "0        False                       False                        1   \n",
       "1        False                       False                        1   \n",
       "2        False                       False                        4   \n",
       "3        False                       False                        0   \n",
       "4        False                       False                        0   \n",
       "...        ...                         ...                      ...   \n",
       "2516     False                       False                        1   \n",
       "2517     False                       False                        1   \n",
       "2518     False                       False                        0   \n",
       "2519     False                        True                        8   \n",
       "2520     False                       False                        0   \n",
       "\n",
       "      descendants_in_enum_count  nlcd_class    abp  ...   soil  liquid water  \\\n",
       "0                             0       False   True  ...  False         False   \n",
       "1                             0       False   True  ...  False         False   \n",
       "2                             0       False   True  ...  False         False   \n",
       "3                             0       False  False  ...  False         False   \n",
       "4                             0       False  False  ...  False         False   \n",
       "...                         ...         ...    ...  ...    ...           ...   \n",
       "2516                          0       False   True  ...  False         False   \n",
       "2517                          0        True   True  ...  False         False   \n",
       "2518                          0       False  False  ...  False         False   \n",
       "2519                          0       False   True  ...  False         False   \n",
       "2520                          0       False  False  ...  False         False   \n",
       "\n",
       "      water ice   snow  mass_of_environmental_material  human_construction  \\\n",
       "0         False  False                           False                True   \n",
       "1         False  False                           False                True   \n",
       "2         False  False                            True               False   \n",
       "3         False  False                           False               False   \n",
       "4         False  False                           False               False   \n",
       "...         ...    ...                             ...                 ...   \n",
       "2516      False  False                           False               False   \n",
       "2517      False  False                           False               False   \n",
       "2518      False  False                           False               False   \n",
       "2519      False  False                           False                True   \n",
       "2520      False  False                           False               False   \n",
       "\n",
       "      building  building_part  plant_structure  goldterms_mappings  \n",
       "0        False           True            False               False  \n",
       "1         True          False            False               False  \n",
       "2        False          False            False               False  \n",
       "3        False          False            False               False  \n",
       "4        False          False            False               False  \n",
       "...        ...            ...              ...                 ...  \n",
       "2516     False          False            False               False  \n",
       "2517     False          False            False               False  \n",
       "2518     False          False            False               False  \n",
       "2519     False          False            False               False  \n",
       "2520     False          False            False               False  \n",
       "\n",
       "[2521 rows x 26 columns]"
      ],
      "text/html": [
       "<div>\n",
       "<style scoped>\n",
       "    .dataframe tbody tr th:only-of-type {\n",
       "        vertical-align: middle;\n",
       "    }\n",
       "\n",
       "    .dataframe tbody tr th {\n",
       "        vertical-align: top;\n",
       "    }\n",
       "\n",
       "    .dataframe thead th {\n",
       "        text-align: right;\n",
       "    }\n",
       "</style>\n",
       "<table border=\"1\" class=\"dataframe\">\n",
       "  <thead>\n",
       "    <tr style=\"text-align: right;\">\n",
       "      <th></th>\n",
       "      <th>curie</th>\n",
       "      <th>claimed_prefix</th>\n",
       "      <th>label</th>\n",
       "      <th>envo_native</th>\n",
       "      <th>obsolete</th>\n",
       "      <th>EnvLocalScaleSoilEnum_10_7</th>\n",
       "      <th>ancestors_in_enum_count</th>\n",
       "      <th>descendants_in_enum_count</th>\n",
       "      <th>nlcd_class</th>\n",
       "      <th>abp</th>\n",
       "      <th>...</th>\n",
       "      <th>soil</th>\n",
       "      <th>liquid water</th>\n",
       "      <th>water ice</th>\n",
       "      <th>snow</th>\n",
       "      <th>mass_of_environmental_material</th>\n",
       "      <th>human_construction</th>\n",
       "      <th>building</th>\n",
       "      <th>building_part</th>\n",
       "      <th>plant_structure</th>\n",
       "      <th>goldterms_mappings</th>\n",
       "    </tr>\n",
       "  </thead>\n",
       "  <tbody>\n",
       "    <tr>\n",
       "      <th>0</th>\n",
       "      <td>ENVO:03501301</td>\n",
       "      <td>ENVO</td>\n",
       "      <td>baseboard</td>\n",
       "      <td>True</td>\n",
       "      <td>False</td>\n",
       "      <td>False</td>\n",
       "      <td>1</td>\n",
       "      <td>0</td>\n",
       "      <td>False</td>\n",
       "      <td>True</td>\n",
       "      <td>...</td>\n",
       "      <td>False</td>\n",
       "      <td>False</td>\n",
       "      <td>False</td>\n",
       "      <td>False</td>\n",
       "      <td>False</td>\n",
       "      <td>True</td>\n",
       "      <td>False</td>\n",
       "      <td>True</td>\n",
       "      <td>False</td>\n",
       "      <td>False</td>\n",
       "    </tr>\n",
       "    <tr>\n",
       "      <th>1</th>\n",
       "      <td>ENVO:00003042</td>\n",
       "      <td>ENVO</td>\n",
       "      <td>piggery</td>\n",
       "      <td>True</td>\n",
       "      <td>False</td>\n",
       "      <td>False</td>\n",
       "      <td>1</td>\n",
       "      <td>0</td>\n",
       "      <td>False</td>\n",
       "      <td>True</td>\n",
       "      <td>...</td>\n",
       "      <td>False</td>\n",
       "      <td>False</td>\n",
       "      <td>False</td>\n",
       "      <td>False</td>\n",
       "      <td>False</td>\n",
       "      <td>True</td>\n",
       "      <td>True</td>\n",
       "      <td>False</td>\n",
       "      <td>False</td>\n",
       "      <td>False</td>\n",
       "    </tr>\n",
       "    <tr>\n",
       "      <th>2</th>\n",
       "      <td>ENVO:01001335</td>\n",
       "      <td>ENVO</td>\n",
       "      <td>anchor ice</td>\n",
       "      <td>True</td>\n",
       "      <td>False</td>\n",
       "      <td>False</td>\n",
       "      <td>4</td>\n",
       "      <td>0</td>\n",
       "      <td>False</td>\n",
       "      <td>True</td>\n",
       "      <td>...</td>\n",
       "      <td>False</td>\n",
       "      <td>False</td>\n",
       "      <td>False</td>\n",
       "      <td>False</td>\n",
       "      <td>True</td>\n",
       "      <td>False</td>\n",
       "      <td>False</td>\n",
       "      <td>False</td>\n",
       "      <td>False</td>\n",
       "      <td>False</td>\n",
       "    </tr>\n",
       "    <tr>\n",
       "      <th>3</th>\n",
       "      <td>ENVO:01014</td>\n",
       "      <td>ENVO</td>\n",
       "      <td>None</td>\n",
       "      <td>False</td>\n",
       "      <td>False</td>\n",
       "      <td>False</td>\n",
       "      <td>0</td>\n",
       "      <td>0</td>\n",
       "      <td>False</td>\n",
       "      <td>False</td>\n",
       "      <td>...</td>\n",
       "      <td>False</td>\n",
       "      <td>False</td>\n",
       "      <td>False</td>\n",
       "      <td>False</td>\n",
       "      <td>False</td>\n",
       "      <td>False</td>\n",
       "      <td>False</td>\n",
       "      <td>False</td>\n",
       "      <td>False</td>\n",
       "      <td>False</td>\n",
       "    </tr>\n",
       "    <tr>\n",
       "      <th>4</th>\n",
       "      <td>ENVO:01001494</td>\n",
       "      <td>ENVO</td>\n",
       "      <td>moonmoon</td>\n",
       "      <td>True</td>\n",
       "      <td>False</td>\n",
       "      <td>False</td>\n",
       "      <td>0</td>\n",
       "      <td>0</td>\n",
       "      <td>False</td>\n",
       "      <td>False</td>\n",
       "      <td>...</td>\n",
       "      <td>False</td>\n",
       "      <td>False</td>\n",
       "      <td>False</td>\n",
       "      <td>False</td>\n",
       "      <td>False</td>\n",
       "      <td>False</td>\n",
       "      <td>False</td>\n",
       "      <td>False</td>\n",
       "      <td>False</td>\n",
       "      <td>False</td>\n",
       "    </tr>\n",
       "    <tr>\n",
       "      <th>...</th>\n",
       "      <td>...</td>\n",
       "      <td>...</td>\n",
       "      <td>...</td>\n",
       "      <td>...</td>\n",
       "      <td>...</td>\n",
       "      <td>...</td>\n",
       "      <td>...</td>\n",
       "      <td>...</td>\n",
       "      <td>...</td>\n",
       "      <td>...</td>\n",
       "      <td>...</td>\n",
       "      <td>...</td>\n",
       "      <td>...</td>\n",
       "      <td>...</td>\n",
       "      <td>...</td>\n",
       "      <td>...</td>\n",
       "      <td>...</td>\n",
       "      <td>...</td>\n",
       "      <td>...</td>\n",
       "      <td>...</td>\n",
       "      <td>...</td>\n",
       "    </tr>\n",
       "    <tr>\n",
       "      <th>2516</th>\n",
       "      <td>ENVO:01000061</td>\n",
       "      <td>ENVO</td>\n",
       "      <td>marine wind mixed layer</td>\n",
       "      <td>True</td>\n",
       "      <td>False</td>\n",
       "      <td>False</td>\n",
       "      <td>1</td>\n",
       "      <td>0</td>\n",
       "      <td>False</td>\n",
       "      <td>True</td>\n",
       "      <td>...</td>\n",
       "      <td>False</td>\n",
       "      <td>False</td>\n",
       "      <td>False</td>\n",
       "      <td>False</td>\n",
       "      <td>False</td>\n",
       "      <td>False</td>\n",
       "      <td>False</td>\n",
       "      <td>False</td>\n",
       "      <td>False</td>\n",
       "      <td>False</td>\n",
       "    </tr>\n",
       "    <tr>\n",
       "      <th>2517</th>\n",
       "      <td>ENVO:01000745</td>\n",
       "      <td>ENVO</td>\n",
       "      <td>area of perennial snow</td>\n",
       "      <td>True</td>\n",
       "      <td>False</td>\n",
       "      <td>False</td>\n",
       "      <td>1</td>\n",
       "      <td>0</td>\n",
       "      <td>True</td>\n",
       "      <td>True</td>\n",
       "      <td>...</td>\n",
       "      <td>False</td>\n",
       "      <td>False</td>\n",
       "      <td>False</td>\n",
       "      <td>False</td>\n",
       "      <td>False</td>\n",
       "      <td>False</td>\n",
       "      <td>False</td>\n",
       "      <td>False</td>\n",
       "      <td>False</td>\n",
       "      <td>False</td>\n",
       "    </tr>\n",
       "    <tr>\n",
       "      <th>2518</th>\n",
       "      <td>ENVO:0000546</td>\n",
       "      <td>ENVO</td>\n",
       "      <td>None</td>\n",
       "      <td>False</td>\n",
       "      <td>False</td>\n",
       "      <td>False</td>\n",
       "      <td>0</td>\n",
       "      <td>0</td>\n",
       "      <td>False</td>\n",
       "      <td>False</td>\n",
       "      <td>...</td>\n",
       "      <td>False</td>\n",
       "      <td>False</td>\n",
       "      <td>False</td>\n",
       "      <td>False</td>\n",
       "      <td>False</td>\n",
       "      <td>False</td>\n",
       "      <td>False</td>\n",
       "      <td>False</td>\n",
       "      <td>False</td>\n",
       "      <td>False</td>\n",
       "    </tr>\n",
       "    <tr>\n",
       "      <th>2519</th>\n",
       "      <td>ENVO:00000037</td>\n",
       "      <td>ENVO</td>\n",
       "      <td>ditch</td>\n",
       "      <td>True</td>\n",
       "      <td>False</td>\n",
       "      <td>True</td>\n",
       "      <td>8</td>\n",
       "      <td>0</td>\n",
       "      <td>False</td>\n",
       "      <td>True</td>\n",
       "      <td>...</td>\n",
       "      <td>False</td>\n",
       "      <td>False</td>\n",
       "      <td>False</td>\n",
       "      <td>False</td>\n",
       "      <td>False</td>\n",
       "      <td>True</td>\n",
       "      <td>False</td>\n",
       "      <td>False</td>\n",
       "      <td>False</td>\n",
       "      <td>False</td>\n",
       "    </tr>\n",
       "    <tr>\n",
       "      <th>2520</th>\n",
       "      <td>ENVO:01000312</td>\n",
       "      <td>ENVO</td>\n",
       "      <td>culturing environment</td>\n",
       "      <td>True</td>\n",
       "      <td>False</td>\n",
       "      <td>False</td>\n",
       "      <td>0</td>\n",
       "      <td>0</td>\n",
       "      <td>False</td>\n",
       "      <td>False</td>\n",
       "      <td>...</td>\n",
       "      <td>False</td>\n",
       "      <td>False</td>\n",
       "      <td>False</td>\n",
       "      <td>False</td>\n",
       "      <td>False</td>\n",
       "      <td>False</td>\n",
       "      <td>False</td>\n",
       "      <td>False</td>\n",
       "      <td>False</td>\n",
       "      <td>False</td>\n",
       "    </tr>\n",
       "  </tbody>\n",
       "</table>\n",
       "<p>2521 rows × 26 columns</p>\n",
       "</div>"
      ]
     },
     "execution_count": 135,
     "metadata": {},
     "output_type": "execute_result"
    }
   ],
   "execution_count": 135
  },
  {
   "metadata": {},
   "cell_type": "markdown",
   "source": "# Merge in NMDC counts",
   "id": "8f7c4b1d95722568"
  },
  {
   "metadata": {
    "ExecuteTime": {
     "end_time": "2025-01-08T22:32:36.197418Z",
     "start_time": "2025-01-08T22:32:36.192832Z"
    }
   },
   "cell_type": "code",
   "source": [
    "nmdc_biosample_scoped_counts = nmdc_biosample_contexts_frame[nmdc_context_selector].value_counts().reset_index()\n",
    "# todo parameterize the column name based on what what really counter (generally biosamples or studies)\n",
    "nmdc_biosample_scoped_counts.columns = ['curie', 'nmdc_biosamples_count']\n"
   ],
   "id": "88ebf6f76c2e0545",
   "outputs": [],
   "execution_count": 136
  },
  {
   "metadata": {
    "ExecuteTime": {
     "end_time": "2025-01-08T22:32:36.273390Z",
     "start_time": "2025-01-08T22:32:36.264602Z"
    }
   },
   "cell_type": "code",
   "source": "nmdc_biosample_scoped_counts",
   "id": "85789ece9ec4ddd6",
   "outputs": [
    {
     "data": {
      "text/plain": [
       "            curie  nmdc_biosamples_count\n",
       "0   ENVO:01000843                   1268\n",
       "1   ENVO:01000816                   1067\n",
       "2   ENVO:01000888                    777\n",
       "3   ENVO:01000869                    614\n",
       "4   ENVO:01000861                    295\n",
       "5   ENVO:01000893                    245\n",
       "6   ENVO:01000892                    207\n",
       "7   ENVO:01000855                    199\n",
       "8   ENVO:01000891                    169\n",
       "9   ENVO:01000887                    123\n",
       "10  ENVO:00005801                    118\n",
       "11  ENVO:00000011                    113\n",
       "12  ENVO:00000044                    107\n",
       "13  ENVO:01001803                    105\n",
       "14  ENVO:01000219                     83\n",
       "15  ENVO:00000376                     60\n",
       "16  ENVO:00000292                     53\n",
       "17  ENVO:01000894                     45\n",
       "18  ENVO:00000516                     38\n",
       "19  ENVO:03600018                     28\n",
       "20  ENVO:01000355                     18\n",
       "21  ENVO:00005784                     17\n",
       "22  ENVO:03600011                     14\n",
       "23  ENVO:00002000                     14\n",
       "24  ENVO:01001785                     14\n",
       "25  ENVO:01000174                     13\n",
       "26  ENVO:00000114                     12\n",
       "27  ENVO:00000100                     12\n",
       "28  ENVO:01001370                     12\n",
       "29  ENVO:00002204                     10\n",
       "30  ENVO:00000291                     10\n",
       "31  ENVO:00000120                      6\n",
       "32  ENVO:01000185                      6\n",
       "33  ENVO:00000119                      4\n",
       "34  ENVO:00000086                      4\n",
       "35  ENVO:00000444                      4\n",
       "36  ENVO:00000182                      4\n",
       "37  ENVO:00000305                      4\n",
       "38  ENVO:00000083                      4\n",
       "39  ENVO:00000094                      4\n",
       "40  ENVO:01000247                      3\n",
       "41  ENVO:00000161                      3\n",
       "42  ENVO:01000211                      3\n",
       "43  ENVO:00000128                      2\n",
       "44  ENVO:01000221                      2\n",
       "45  ENVO:00000170                      1\n",
       "46  ENVO:01000215                      1\n",
       "47  ENVO:00000548                      1"
      ],
      "text/html": [
       "<div>\n",
       "<style scoped>\n",
       "    .dataframe tbody tr th:only-of-type {\n",
       "        vertical-align: middle;\n",
       "    }\n",
       "\n",
       "    .dataframe tbody tr th {\n",
       "        vertical-align: top;\n",
       "    }\n",
       "\n",
       "    .dataframe thead th {\n",
       "        text-align: right;\n",
       "    }\n",
       "</style>\n",
       "<table border=\"1\" class=\"dataframe\">\n",
       "  <thead>\n",
       "    <tr style=\"text-align: right;\">\n",
       "      <th></th>\n",
       "      <th>curie</th>\n",
       "      <th>nmdc_biosamples_count</th>\n",
       "    </tr>\n",
       "  </thead>\n",
       "  <tbody>\n",
       "    <tr>\n",
       "      <th>0</th>\n",
       "      <td>ENVO:01000843</td>\n",
       "      <td>1268</td>\n",
       "    </tr>\n",
       "    <tr>\n",
       "      <th>1</th>\n",
       "      <td>ENVO:01000816</td>\n",
       "      <td>1067</td>\n",
       "    </tr>\n",
       "    <tr>\n",
       "      <th>2</th>\n",
       "      <td>ENVO:01000888</td>\n",
       "      <td>777</td>\n",
       "    </tr>\n",
       "    <tr>\n",
       "      <th>3</th>\n",
       "      <td>ENVO:01000869</td>\n",
       "      <td>614</td>\n",
       "    </tr>\n",
       "    <tr>\n",
       "      <th>4</th>\n",
       "      <td>ENVO:01000861</td>\n",
       "      <td>295</td>\n",
       "    </tr>\n",
       "    <tr>\n",
       "      <th>5</th>\n",
       "      <td>ENVO:01000893</td>\n",
       "      <td>245</td>\n",
       "    </tr>\n",
       "    <tr>\n",
       "      <th>6</th>\n",
       "      <td>ENVO:01000892</td>\n",
       "      <td>207</td>\n",
       "    </tr>\n",
       "    <tr>\n",
       "      <th>7</th>\n",
       "      <td>ENVO:01000855</td>\n",
       "      <td>199</td>\n",
       "    </tr>\n",
       "    <tr>\n",
       "      <th>8</th>\n",
       "      <td>ENVO:01000891</td>\n",
       "      <td>169</td>\n",
       "    </tr>\n",
       "    <tr>\n",
       "      <th>9</th>\n",
       "      <td>ENVO:01000887</td>\n",
       "      <td>123</td>\n",
       "    </tr>\n",
       "    <tr>\n",
       "      <th>10</th>\n",
       "      <td>ENVO:00005801</td>\n",
       "      <td>118</td>\n",
       "    </tr>\n",
       "    <tr>\n",
       "      <th>11</th>\n",
       "      <td>ENVO:00000011</td>\n",
       "      <td>113</td>\n",
       "    </tr>\n",
       "    <tr>\n",
       "      <th>12</th>\n",
       "      <td>ENVO:00000044</td>\n",
       "      <td>107</td>\n",
       "    </tr>\n",
       "    <tr>\n",
       "      <th>13</th>\n",
       "      <td>ENVO:01001803</td>\n",
       "      <td>105</td>\n",
       "    </tr>\n",
       "    <tr>\n",
       "      <th>14</th>\n",
       "      <td>ENVO:01000219</td>\n",
       "      <td>83</td>\n",
       "    </tr>\n",
       "    <tr>\n",
       "      <th>15</th>\n",
       "      <td>ENVO:00000376</td>\n",
       "      <td>60</td>\n",
       "    </tr>\n",
       "    <tr>\n",
       "      <th>16</th>\n",
       "      <td>ENVO:00000292</td>\n",
       "      <td>53</td>\n",
       "    </tr>\n",
       "    <tr>\n",
       "      <th>17</th>\n",
       "      <td>ENVO:01000894</td>\n",
       "      <td>45</td>\n",
       "    </tr>\n",
       "    <tr>\n",
       "      <th>18</th>\n",
       "      <td>ENVO:00000516</td>\n",
       "      <td>38</td>\n",
       "    </tr>\n",
       "    <tr>\n",
       "      <th>19</th>\n",
       "      <td>ENVO:03600018</td>\n",
       "      <td>28</td>\n",
       "    </tr>\n",
       "    <tr>\n",
       "      <th>20</th>\n",
       "      <td>ENVO:01000355</td>\n",
       "      <td>18</td>\n",
       "    </tr>\n",
       "    <tr>\n",
       "      <th>21</th>\n",
       "      <td>ENVO:00005784</td>\n",
       "      <td>17</td>\n",
       "    </tr>\n",
       "    <tr>\n",
       "      <th>22</th>\n",
       "      <td>ENVO:03600011</td>\n",
       "      <td>14</td>\n",
       "    </tr>\n",
       "    <tr>\n",
       "      <th>23</th>\n",
       "      <td>ENVO:00002000</td>\n",
       "      <td>14</td>\n",
       "    </tr>\n",
       "    <tr>\n",
       "      <th>24</th>\n",
       "      <td>ENVO:01001785</td>\n",
       "      <td>14</td>\n",
       "    </tr>\n",
       "    <tr>\n",
       "      <th>25</th>\n",
       "      <td>ENVO:01000174</td>\n",
       "      <td>13</td>\n",
       "    </tr>\n",
       "    <tr>\n",
       "      <th>26</th>\n",
       "      <td>ENVO:00000114</td>\n",
       "      <td>12</td>\n",
       "    </tr>\n",
       "    <tr>\n",
       "      <th>27</th>\n",
       "      <td>ENVO:00000100</td>\n",
       "      <td>12</td>\n",
       "    </tr>\n",
       "    <tr>\n",
       "      <th>28</th>\n",
       "      <td>ENVO:01001370</td>\n",
       "      <td>12</td>\n",
       "    </tr>\n",
       "    <tr>\n",
       "      <th>29</th>\n",
       "      <td>ENVO:00002204</td>\n",
       "      <td>10</td>\n",
       "    </tr>\n",
       "    <tr>\n",
       "      <th>30</th>\n",
       "      <td>ENVO:00000291</td>\n",
       "      <td>10</td>\n",
       "    </tr>\n",
       "    <tr>\n",
       "      <th>31</th>\n",
       "      <td>ENVO:00000120</td>\n",
       "      <td>6</td>\n",
       "    </tr>\n",
       "    <tr>\n",
       "      <th>32</th>\n",
       "      <td>ENVO:01000185</td>\n",
       "      <td>6</td>\n",
       "    </tr>\n",
       "    <tr>\n",
       "      <th>33</th>\n",
       "      <td>ENVO:00000119</td>\n",
       "      <td>4</td>\n",
       "    </tr>\n",
       "    <tr>\n",
       "      <th>34</th>\n",
       "      <td>ENVO:00000086</td>\n",
       "      <td>4</td>\n",
       "    </tr>\n",
       "    <tr>\n",
       "      <th>35</th>\n",
       "      <td>ENVO:00000444</td>\n",
       "      <td>4</td>\n",
       "    </tr>\n",
       "    <tr>\n",
       "      <th>36</th>\n",
       "      <td>ENVO:00000182</td>\n",
       "      <td>4</td>\n",
       "    </tr>\n",
       "    <tr>\n",
       "      <th>37</th>\n",
       "      <td>ENVO:00000305</td>\n",
       "      <td>4</td>\n",
       "    </tr>\n",
       "    <tr>\n",
       "      <th>38</th>\n",
       "      <td>ENVO:00000083</td>\n",
       "      <td>4</td>\n",
       "    </tr>\n",
       "    <tr>\n",
       "      <th>39</th>\n",
       "      <td>ENVO:00000094</td>\n",
       "      <td>4</td>\n",
       "    </tr>\n",
       "    <tr>\n",
       "      <th>40</th>\n",
       "      <td>ENVO:01000247</td>\n",
       "      <td>3</td>\n",
       "    </tr>\n",
       "    <tr>\n",
       "      <th>41</th>\n",
       "      <td>ENVO:00000161</td>\n",
       "      <td>3</td>\n",
       "    </tr>\n",
       "    <tr>\n",
       "      <th>42</th>\n",
       "      <td>ENVO:01000211</td>\n",
       "      <td>3</td>\n",
       "    </tr>\n",
       "    <tr>\n",
       "      <th>43</th>\n",
       "      <td>ENVO:00000128</td>\n",
       "      <td>2</td>\n",
       "    </tr>\n",
       "    <tr>\n",
       "      <th>44</th>\n",
       "      <td>ENVO:01000221</td>\n",
       "      <td>2</td>\n",
       "    </tr>\n",
       "    <tr>\n",
       "      <th>45</th>\n",
       "      <td>ENVO:00000170</td>\n",
       "      <td>1</td>\n",
       "    </tr>\n",
       "    <tr>\n",
       "      <th>46</th>\n",
       "      <td>ENVO:01000215</td>\n",
       "      <td>1</td>\n",
       "    </tr>\n",
       "    <tr>\n",
       "      <th>47</th>\n",
       "      <td>ENVO:00000548</td>\n",
       "      <td>1</td>\n",
       "    </tr>\n",
       "  </tbody>\n",
       "</table>\n",
       "</div>"
      ]
     },
     "execution_count": 137,
     "metadata": {},
     "output_type": "execute_result"
    }
   ],
   "execution_count": 137
  },
  {
   "metadata": {
    "ExecuteTime": {
     "end_time": "2025-01-08T22:32:36.337197Z",
     "start_time": "2025-01-08T22:32:36.331674Z"
    }
   },
   "cell_type": "code",
   "source": [
    "# Perform the left merge\n",
    "rows_frame = rows_frame.merge(\n",
    "    nmdc_biosample_scoped_counts,\n",
    "    left_on='curie',\n",
    "    right_on='curie',\n",
    "    how='left'\n",
    ")"
   ],
   "id": "329203aecb25f598",
   "outputs": [],
   "execution_count": 138
  },
  {
   "metadata": {
    "ExecuteTime": {
     "end_time": "2025-01-08T22:32:36.399908Z",
     "start_time": "2025-01-08T22:32:36.380684Z"
    }
   },
   "cell_type": "code",
   "source": "rows_frame",
   "id": "8346fb59af8e61c6",
   "outputs": [
    {
     "data": {
      "text/plain": [
       "              curie claimed_prefix                    label  envo_native  \\\n",
       "0     ENVO:03501301           ENVO                baseboard         True   \n",
       "1     ENVO:00003042           ENVO                  piggery         True   \n",
       "2     ENVO:01001335           ENVO               anchor ice         True   \n",
       "3        ENVO:01014           ENVO                     None        False   \n",
       "4     ENVO:01001494           ENVO                 moonmoon         True   \n",
       "...             ...            ...                      ...          ...   \n",
       "2516  ENVO:01000061           ENVO  marine wind mixed layer         True   \n",
       "2517  ENVO:01000745           ENVO   area of perennial snow         True   \n",
       "2518   ENVO:0000546           ENVO                     None        False   \n",
       "2519  ENVO:00000037           ENVO                    ditch         True   \n",
       "2520  ENVO:01000312           ENVO    culturing environment         True   \n",
       "\n",
       "      obsolete  EnvLocalScaleSoilEnum_10_7  ancestors_in_enum_count  \\\n",
       "0        False                       False                        1   \n",
       "1        False                       False                        1   \n",
       "2        False                       False                        4   \n",
       "3        False                       False                        0   \n",
       "4        False                       False                        0   \n",
       "...        ...                         ...                      ...   \n",
       "2516     False                       False                        1   \n",
       "2517     False                       False                        1   \n",
       "2518     False                       False                        0   \n",
       "2519     False                        True                        8   \n",
       "2520     False                       False                        0   \n",
       "\n",
       "      descendants_in_enum_count  nlcd_class    abp  ...  liquid water  \\\n",
       "0                             0       False   True  ...         False   \n",
       "1                             0       False   True  ...         False   \n",
       "2                             0       False   True  ...         False   \n",
       "3                             0       False  False  ...         False   \n",
       "4                             0       False  False  ...         False   \n",
       "...                         ...         ...    ...  ...           ...   \n",
       "2516                          0       False   True  ...         False   \n",
       "2517                          0        True   True  ...         False   \n",
       "2518                          0       False  False  ...         False   \n",
       "2519                          0       False   True  ...         False   \n",
       "2520                          0       False  False  ...         False   \n",
       "\n",
       "      water ice   snow  mass_of_environmental_material  human_construction  \\\n",
       "0         False  False                           False                True   \n",
       "1         False  False                           False                True   \n",
       "2         False  False                            True               False   \n",
       "3         False  False                           False               False   \n",
       "4         False  False                           False               False   \n",
       "...         ...    ...                             ...                 ...   \n",
       "2516      False  False                           False               False   \n",
       "2517      False  False                           False               False   \n",
       "2518      False  False                           False               False   \n",
       "2519      False  False                           False                True   \n",
       "2520      False  False                           False               False   \n",
       "\n",
       "      building  building_part  plant_structure  goldterms_mappings  \\\n",
       "0        False           True            False               False   \n",
       "1         True          False            False               False   \n",
       "2        False          False            False               False   \n",
       "3        False          False            False               False   \n",
       "4        False          False            False               False   \n",
       "...        ...            ...              ...                 ...   \n",
       "2516     False          False            False               False   \n",
       "2517     False          False            False               False   \n",
       "2518     False          False            False               False   \n",
       "2519     False          False            False               False   \n",
       "2520     False          False            False               False   \n",
       "\n",
       "      nmdc_biosamples_count  \n",
       "0                       NaN  \n",
       "1                       NaN  \n",
       "2                       NaN  \n",
       "3                       NaN  \n",
       "4                       NaN  \n",
       "...                     ...  \n",
       "2516                    NaN  \n",
       "2517                    NaN  \n",
       "2518                    NaN  \n",
       "2519                    NaN  \n",
       "2520                    NaN  \n",
       "\n",
       "[2521 rows x 27 columns]"
      ],
      "text/html": [
       "<div>\n",
       "<style scoped>\n",
       "    .dataframe tbody tr th:only-of-type {\n",
       "        vertical-align: middle;\n",
       "    }\n",
       "\n",
       "    .dataframe tbody tr th {\n",
       "        vertical-align: top;\n",
       "    }\n",
       "\n",
       "    .dataframe thead th {\n",
       "        text-align: right;\n",
       "    }\n",
       "</style>\n",
       "<table border=\"1\" class=\"dataframe\">\n",
       "  <thead>\n",
       "    <tr style=\"text-align: right;\">\n",
       "      <th></th>\n",
       "      <th>curie</th>\n",
       "      <th>claimed_prefix</th>\n",
       "      <th>label</th>\n",
       "      <th>envo_native</th>\n",
       "      <th>obsolete</th>\n",
       "      <th>EnvLocalScaleSoilEnum_10_7</th>\n",
       "      <th>ancestors_in_enum_count</th>\n",
       "      <th>descendants_in_enum_count</th>\n",
       "      <th>nlcd_class</th>\n",
       "      <th>abp</th>\n",
       "      <th>...</th>\n",
       "      <th>liquid water</th>\n",
       "      <th>water ice</th>\n",
       "      <th>snow</th>\n",
       "      <th>mass_of_environmental_material</th>\n",
       "      <th>human_construction</th>\n",
       "      <th>building</th>\n",
       "      <th>building_part</th>\n",
       "      <th>plant_structure</th>\n",
       "      <th>goldterms_mappings</th>\n",
       "      <th>nmdc_biosamples_count</th>\n",
       "    </tr>\n",
       "  </thead>\n",
       "  <tbody>\n",
       "    <tr>\n",
       "      <th>0</th>\n",
       "      <td>ENVO:03501301</td>\n",
       "      <td>ENVO</td>\n",
       "      <td>baseboard</td>\n",
       "      <td>True</td>\n",
       "      <td>False</td>\n",
       "      <td>False</td>\n",
       "      <td>1</td>\n",
       "      <td>0</td>\n",
       "      <td>False</td>\n",
       "      <td>True</td>\n",
       "      <td>...</td>\n",
       "      <td>False</td>\n",
       "      <td>False</td>\n",
       "      <td>False</td>\n",
       "      <td>False</td>\n",
       "      <td>True</td>\n",
       "      <td>False</td>\n",
       "      <td>True</td>\n",
       "      <td>False</td>\n",
       "      <td>False</td>\n",
       "      <td>NaN</td>\n",
       "    </tr>\n",
       "    <tr>\n",
       "      <th>1</th>\n",
       "      <td>ENVO:00003042</td>\n",
       "      <td>ENVO</td>\n",
       "      <td>piggery</td>\n",
       "      <td>True</td>\n",
       "      <td>False</td>\n",
       "      <td>False</td>\n",
       "      <td>1</td>\n",
       "      <td>0</td>\n",
       "      <td>False</td>\n",
       "      <td>True</td>\n",
       "      <td>...</td>\n",
       "      <td>False</td>\n",
       "      <td>False</td>\n",
       "      <td>False</td>\n",
       "      <td>False</td>\n",
       "      <td>True</td>\n",
       "      <td>True</td>\n",
       "      <td>False</td>\n",
       "      <td>False</td>\n",
       "      <td>False</td>\n",
       "      <td>NaN</td>\n",
       "    </tr>\n",
       "    <tr>\n",
       "      <th>2</th>\n",
       "      <td>ENVO:01001335</td>\n",
       "      <td>ENVO</td>\n",
       "      <td>anchor ice</td>\n",
       "      <td>True</td>\n",
       "      <td>False</td>\n",
       "      <td>False</td>\n",
       "      <td>4</td>\n",
       "      <td>0</td>\n",
       "      <td>False</td>\n",
       "      <td>True</td>\n",
       "      <td>...</td>\n",
       "      <td>False</td>\n",
       "      <td>False</td>\n",
       "      <td>False</td>\n",
       "      <td>True</td>\n",
       "      <td>False</td>\n",
       "      <td>False</td>\n",
       "      <td>False</td>\n",
       "      <td>False</td>\n",
       "      <td>False</td>\n",
       "      <td>NaN</td>\n",
       "    </tr>\n",
       "    <tr>\n",
       "      <th>3</th>\n",
       "      <td>ENVO:01014</td>\n",
       "      <td>ENVO</td>\n",
       "      <td>None</td>\n",
       "      <td>False</td>\n",
       "      <td>False</td>\n",
       "      <td>False</td>\n",
       "      <td>0</td>\n",
       "      <td>0</td>\n",
       "      <td>False</td>\n",
       "      <td>False</td>\n",
       "      <td>...</td>\n",
       "      <td>False</td>\n",
       "      <td>False</td>\n",
       "      <td>False</td>\n",
       "      <td>False</td>\n",
       "      <td>False</td>\n",
       "      <td>False</td>\n",
       "      <td>False</td>\n",
       "      <td>False</td>\n",
       "      <td>False</td>\n",
       "      <td>NaN</td>\n",
       "    </tr>\n",
       "    <tr>\n",
       "      <th>4</th>\n",
       "      <td>ENVO:01001494</td>\n",
       "      <td>ENVO</td>\n",
       "      <td>moonmoon</td>\n",
       "      <td>True</td>\n",
       "      <td>False</td>\n",
       "      <td>False</td>\n",
       "      <td>0</td>\n",
       "      <td>0</td>\n",
       "      <td>False</td>\n",
       "      <td>False</td>\n",
       "      <td>...</td>\n",
       "      <td>False</td>\n",
       "      <td>False</td>\n",
       "      <td>False</td>\n",
       "      <td>False</td>\n",
       "      <td>False</td>\n",
       "      <td>False</td>\n",
       "      <td>False</td>\n",
       "      <td>False</td>\n",
       "      <td>False</td>\n",
       "      <td>NaN</td>\n",
       "    </tr>\n",
       "    <tr>\n",
       "      <th>...</th>\n",
       "      <td>...</td>\n",
       "      <td>...</td>\n",
       "      <td>...</td>\n",
       "      <td>...</td>\n",
       "      <td>...</td>\n",
       "      <td>...</td>\n",
       "      <td>...</td>\n",
       "      <td>...</td>\n",
       "      <td>...</td>\n",
       "      <td>...</td>\n",
       "      <td>...</td>\n",
       "      <td>...</td>\n",
       "      <td>...</td>\n",
       "      <td>...</td>\n",
       "      <td>...</td>\n",
       "      <td>...</td>\n",
       "      <td>...</td>\n",
       "      <td>...</td>\n",
       "      <td>...</td>\n",
       "      <td>...</td>\n",
       "      <td>...</td>\n",
       "    </tr>\n",
       "    <tr>\n",
       "      <th>2516</th>\n",
       "      <td>ENVO:01000061</td>\n",
       "      <td>ENVO</td>\n",
       "      <td>marine wind mixed layer</td>\n",
       "      <td>True</td>\n",
       "      <td>False</td>\n",
       "      <td>False</td>\n",
       "      <td>1</td>\n",
       "      <td>0</td>\n",
       "      <td>False</td>\n",
       "      <td>True</td>\n",
       "      <td>...</td>\n",
       "      <td>False</td>\n",
       "      <td>False</td>\n",
       "      <td>False</td>\n",
       "      <td>False</td>\n",
       "      <td>False</td>\n",
       "      <td>False</td>\n",
       "      <td>False</td>\n",
       "      <td>False</td>\n",
       "      <td>False</td>\n",
       "      <td>NaN</td>\n",
       "    </tr>\n",
       "    <tr>\n",
       "      <th>2517</th>\n",
       "      <td>ENVO:01000745</td>\n",
       "      <td>ENVO</td>\n",
       "      <td>area of perennial snow</td>\n",
       "      <td>True</td>\n",
       "      <td>False</td>\n",
       "      <td>False</td>\n",
       "      <td>1</td>\n",
       "      <td>0</td>\n",
       "      <td>True</td>\n",
       "      <td>True</td>\n",
       "      <td>...</td>\n",
       "      <td>False</td>\n",
       "      <td>False</td>\n",
       "      <td>False</td>\n",
       "      <td>False</td>\n",
       "      <td>False</td>\n",
       "      <td>False</td>\n",
       "      <td>False</td>\n",
       "      <td>False</td>\n",
       "      <td>False</td>\n",
       "      <td>NaN</td>\n",
       "    </tr>\n",
       "    <tr>\n",
       "      <th>2518</th>\n",
       "      <td>ENVO:0000546</td>\n",
       "      <td>ENVO</td>\n",
       "      <td>None</td>\n",
       "      <td>False</td>\n",
       "      <td>False</td>\n",
       "      <td>False</td>\n",
       "      <td>0</td>\n",
       "      <td>0</td>\n",
       "      <td>False</td>\n",
       "      <td>False</td>\n",
       "      <td>...</td>\n",
       "      <td>False</td>\n",
       "      <td>False</td>\n",
       "      <td>False</td>\n",
       "      <td>False</td>\n",
       "      <td>False</td>\n",
       "      <td>False</td>\n",
       "      <td>False</td>\n",
       "      <td>False</td>\n",
       "      <td>False</td>\n",
       "      <td>NaN</td>\n",
       "    </tr>\n",
       "    <tr>\n",
       "      <th>2519</th>\n",
       "      <td>ENVO:00000037</td>\n",
       "      <td>ENVO</td>\n",
       "      <td>ditch</td>\n",
       "      <td>True</td>\n",
       "      <td>False</td>\n",
       "      <td>True</td>\n",
       "      <td>8</td>\n",
       "      <td>0</td>\n",
       "      <td>False</td>\n",
       "      <td>True</td>\n",
       "      <td>...</td>\n",
       "      <td>False</td>\n",
       "      <td>False</td>\n",
       "      <td>False</td>\n",
       "      <td>False</td>\n",
       "      <td>True</td>\n",
       "      <td>False</td>\n",
       "      <td>False</td>\n",
       "      <td>False</td>\n",
       "      <td>False</td>\n",
       "      <td>NaN</td>\n",
       "    </tr>\n",
       "    <tr>\n",
       "      <th>2520</th>\n",
       "      <td>ENVO:01000312</td>\n",
       "      <td>ENVO</td>\n",
       "      <td>culturing environment</td>\n",
       "      <td>True</td>\n",
       "      <td>False</td>\n",
       "      <td>False</td>\n",
       "      <td>0</td>\n",
       "      <td>0</td>\n",
       "      <td>False</td>\n",
       "      <td>False</td>\n",
       "      <td>...</td>\n",
       "      <td>False</td>\n",
       "      <td>False</td>\n",
       "      <td>False</td>\n",
       "      <td>False</td>\n",
       "      <td>False</td>\n",
       "      <td>False</td>\n",
       "      <td>False</td>\n",
       "      <td>False</td>\n",
       "      <td>False</td>\n",
       "      <td>NaN</td>\n",
       "    </tr>\n",
       "  </tbody>\n",
       "</table>\n",
       "<p>2521 rows × 27 columns</p>\n",
       "</div>"
      ]
     },
     "execution_count": 139,
     "metadata": {},
     "output_type": "execute_result"
    }
   ],
   "execution_count": 139
  },
  {
   "metadata": {
    "ExecuteTime": {
     "end_time": "2025-01-08T22:32:36.457692Z",
     "start_time": "2025-01-08T22:32:36.454709Z"
    }
   },
   "cell_type": "code",
   "source": [
    "# gold and ncbi counts are slightly trickier\n",
    "# for gold: including mappings only, mappings in hybrid with biosample counts. \n",
    "#    Switch to direct biosample counts of GOLD \"envo\" annotations?\n",
    "# ncbi: we have extracted curies and annotated curies"
   ],
   "id": "87a64ed7d57d81ee",
   "outputs": [],
   "execution_count": 140
  },
  {
   "metadata": {},
   "cell_type": "markdown",
   "source": "## Merge in NCBI counts",
   "id": "1f1f840c8c0acc80"
  },
  {
   "metadata": {
    "ExecuteTime": {
     "end_time": "2025-01-08T22:32:36.628346Z",
     "start_time": "2025-01-08T22:32:36.622699Z"
    }
   },
   "cell_type": "code",
   "source": [
    "# Perform the left merge\n",
    "rows_frame = rows_frame.merge(\n",
    "    ncbi_biosample_scoped_counts,\n",
    "    left_on='curie',\n",
    "    right_on='curie',\n",
    "    how='left'\n",
    ")"
   ],
   "id": "f4d8dc1053a5bb7e",
   "outputs": [],
   "execution_count": 141
  },
  {
   "metadata": {
    "ExecuteTime": {
     "end_time": "2025-01-08T22:32:36.678662Z",
     "start_time": "2025-01-08T22:32:36.675854Z"
    }
   },
   "cell_type": "code",
   "source": "# 990 rows in https://docs.google.com/spreadsheets/d/12WH3eduBq2qSTy9zVF3n7fyajn6ssLZL/edit?gid=546570706#gid=546570706",
   "id": "396c3f6005a31874",
   "outputs": [],
   "execution_count": 142
  },
  {
   "metadata": {
    "ExecuteTime": {
     "end_time": "2025-01-08T22:32:36.775769Z",
     "start_time": "2025-01-08T22:32:36.752163Z"
    }
   },
   "cell_type": "code",
   "source": "rows_frame.to_csv(output_file_name, sep=\"\\t\", index=False)",
   "id": "b7a26a1b879188a4",
   "outputs": [],
   "execution_count": 143
  },
  {
   "metadata": {
    "ExecuteTime": {
     "end_time": "2025-01-08T22:32:37.092426Z",
     "start_time": "2025-01-08T22:32:36.820878Z"
    }
   },
   "cell_type": "code",
   "source": "ncbi_conn.close()",
   "id": "655f46a2a0a6da17",
   "outputs": [],
   "execution_count": 144
  }
 ],
 "metadata": {
  "kernelspec": {
   "display_name": "Python 3 (ipykernel)",
   "language": "python",
   "name": "python3"
  },
  "language_info": {
   "codemirror_mode": {
    "name": "ipython",
    "version": 3
   },
   "file_extension": ".py",
   "mimetype": "text/x-python",
   "name": "python",
   "nbconvert_exporter": "python",
   "pygments_lexer": "ipython3",
   "version": "3.10.13"
  }
 },
 "nbformat": 4,
 "nbformat_minor": 5
}
