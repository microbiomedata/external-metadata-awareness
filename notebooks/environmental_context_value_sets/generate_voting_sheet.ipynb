{
 "cells": [
  {
   "metadata": {
    "ExecuteTime": {
     "end_time": "2025-01-23T15:54:01.588828Z",
     "start_time": "2025-01-23T15:53:57.852801Z"
    }
   },
   "cell_type": "code",
   "source": [
    "from common import *\n",
    "\n",
    "import gzip\n",
    "import os\n",
    "import shutil\n",
    "import sqlite3\n",
    "from urllib.parse import urlparse\n",
    "\n",
    "import duckdb\n",
    "import pandas as pd\n",
    "import requests\n",
    "\n",
    "from oaklib import get_adapter\n",
    "from oaklib.datamodels.vocabulary import IS_A\n",
    "from oaklib.utilities.lexical.lexical_indexer import create_lexical_index, save_lexical_index, load_lexical_index\n",
    "from oaklib.interfaces.text_annotator_interface import TextAnnotatorInterface\n",
    "from oaklib.implementations import AggregatorImplementation\n",
    "\n",
    "from scipy.sparse import hstack\n",
    "from sklearn.ensemble import RandomForestClassifier\n",
    "from sklearn.metrics import classification_report\n",
    "from sklearn.model_selection import train_test_split\n",
    "\n",
    "import yaml\n",
    "import json\n"
   ],
   "id": "630126a7790cc3a7",
   "outputs": [],
   "execution_count": 1
  },
  {
   "metadata": {},
   "cell_type": "markdown",
   "source": [
    "## todos\n",
    "- [ ] cache goldterms.db\n",
    "- [ ] cache goldterms.db **in notebooks/environmental_context_value_sets** with other cached files"
   ],
   "id": "318ffab0685dcf95"
  },
  {
   "metadata": {
    "ExecuteTime": {
     "end_time": "2025-01-23T15:54:01.603935Z",
     "start_time": "2025-01-23T15:54:01.598402Z"
    }
   },
   "cell_type": "code",
   "source": [
    "\n",
    "selected_configuration = \"sediment_env_medium\""
   ],
   "id": "8403cb460f8a9555",
   "outputs": [],
   "execution_count": 2
  },
  {
   "metadata": {
    "ExecuteTime": {
     "end_time": "2025-01-23T15:54:01.810016Z",
     "start_time": "2025-01-23T15:54:01.806765Z"
    }
   },
   "cell_type": "code",
   "source": "configurations_file = \"voting_sheets_configurations.yaml\"",
   "id": "8587aac0ae5e4b6e",
   "outputs": [],
   "execution_count": 3
  },
  {
   "metadata": {
    "ExecuteTime": {
     "end_time": "2025-01-23T15:54:01.854939Z",
     "start_time": "2025-01-23T15:54:01.850814Z"
    }
   },
   "cell_type": "code",
   "source": [
    "# these are the variables that will be set by the configuration\n",
    "\n",
    "gold_context_selectors = None\n",
    "ncbi_context_selector = None\n",
    "ncbi_package_selector = None\n",
    "first_where = None\n",
    "gold_first_where = None\n",
    "semantic_anchors = None\n",
    "previous_submission_schema_url = None\n",
    "CONTEXT_ENUM = None\n",
    "nmdc_package_selector = None\n",
    "nmdc_context_selector = None\n",
    "comparison_enum_column_name = None\n",
    "output_file_name = None\n"
   ],
   "id": "27a216a6c4302bef",
   "outputs": [],
   "execution_count": 4
  },
  {
   "metadata": {
    "ExecuteTime": {
     "end_time": "2025-01-23T15:54:01.929606Z",
     "start_time": "2025-01-23T15:54:01.899544Z"
    }
   },
   "cell_type": "code",
   "source": [
    "# Load configurations from YAML file\n",
    "with open(configurations_file, \"r\") as file:\n",
    "    configurations = yaml.safe_load(file)[\"configurations\"]\n",
    "\n",
    "\n",
    "# Function to apply a configuration\n",
    "def apply_configuration(config_name):\n",
    "    config = configurations.get(config_name)\n",
    "    if not config:\n",
    "        raise ValueError(f\"Configuration '{config_name}' not found.\")\n",
    "\n",
    "    # Update global variables\n",
    "    globals().update(config)\n",
    "    print(f\"Configuration '{config_name}' applied.\")\n"
   ],
   "id": "7b7c9aa7b0377b9d",
   "outputs": [],
   "execution_count": 5
  },
  {
   "metadata": {
    "ExecuteTime": {
     "end_time": "2025-01-23T15:54:01.961604Z",
     "start_time": "2025-01-23T15:54:01.958349Z"
    }
   },
   "cell_type": "code",
   "source": [
    "apply_configuration(selected_configuration)\n",
    "\n",
    "# Now the global variables like `output_file_name`, `semantic_anchor`, etc., are set."
   ],
   "id": "a4aa8e0cde326069",
   "outputs": [
    {
     "name": "stdout",
     "output_type": "stream",
     "text": [
      "Configuration 'sediment_env_medium' applied.\n"
     ]
    }
   ],
   "execution_count": 6
  },
  {
   "metadata": {
    "ExecuteTime": {
     "end_time": "2025-01-23T15:54:02.010691Z",
     "start_time": "2025-01-23T15:54:02.007855Z"
    }
   },
   "cell_type": "code",
   "source": "gold_first_where = first_where",
   "id": "bece5df5dfd0e112",
   "outputs": [],
   "execution_count": 7
  },
  {
   "metadata": {
    "ExecuteTime": {
     "end_time": "2025-01-23T15:54:02.057789Z",
     "start_time": "2025-01-23T15:54:02.054830Z"
    }
   },
   "cell_type": "code",
   "source": [
    "# Initialize cache dictionaries for predict_from_normalized_env_packages\n",
    "# todo how to move the definitions for function that use these globals? Or just use caching around the function?\n",
    "ancestor_cache = {}\n",
    "descendant_cache = {}"
   ],
   "id": "f952b5888d2c5f0d",
   "outputs": [],
   "execution_count": 8
  },
  {
   "metadata": {},
   "cell_type": "markdown",
   "source": "# Preliminary label, ancestor and descendant caching",
   "id": "fe821e1d558e5735"
  },
  {
   "metadata": {
    "ExecuteTime": {
     "end_time": "2025-01-23T15:54:02.105187Z",
     "start_time": "2025-01-23T15:54:02.102273Z"
    }
   },
   "cell_type": "code",
   "source": [
    "# todo this on-demand NCBI curie extraction and annotation recapitulates work that is being added to\n",
    "# https://portal.nersc.gov/project/m3408/biosamples_duckdb/\n",
    "# via ???\n",
    "#   although that doesn't detect auto-incremented curies from  spreadsheet dragging\n",
    "\n",
    "# todo eventually, dig up a complete JSON gold biosample dump for non-hybrid biosample counts\n",
    "\n",
    "# todo make it clearer whether biosamples or studies are being counted\n",
    "#   count nmdc or gold STUDIES too?"
   ],
   "id": "5001cbd978bbdd28",
   "outputs": [],
   "execution_count": 9
  },
  {
   "metadata": {},
   "cell_type": "markdown",
   "source": "# Additional Settings",
   "id": "b799aabdd66098c0"
  },
  {
   "metadata": {
    "ExecuteTime": {
     "end_time": "2025-01-23T15:54:02.151889Z",
     "start_time": "2025-01-23T15:54:02.149071Z"
    }
   },
   "cell_type": "code",
   "source": [
    "# Approved prefixes (case-insensitive)\n",
    "approved_prefixes = ['ENVO']"
   ],
   "id": "50e39f658f4bd77b",
   "outputs": [],
   "execution_count": 10
  },
  {
   "metadata": {
    "ExecuteTime": {
     "end_time": "2025-01-23T15:54:02.205136Z",
     "start_time": "2025-01-23T15:54:02.201921Z"
    }
   },
   "cell_type": "code",
   "source": "MIN_ANNOTATION_LEN = 3",
   "id": "3aa0b52456f0a95c",
   "outputs": [],
   "execution_count": 11
  },
  {
   "cell_type": "code",
   "id": "d526be618b8b9129",
   "metadata": {
    "ExecuteTime": {
     "end_time": "2025-01-23T15:54:02.259647Z",
     "start_time": "2025-01-23T15:54:02.255359Z"
    }
   },
   "source": [
    "NMDC_RUNTIME_BASE_URL = 'https://api.microbiomedata.org/nmdcschema/'\n",
    "STUDY_SET_COLLECTION = 'study_set'\n",
    "BIOSAMPLE_SET_COLLECTION = 'biosample_set'"
   ],
   "outputs": [],
   "execution_count": 12
  },
  {
   "cell_type": "code",
   "id": "11c0cba800e33ac6",
   "metadata": {
    "ExecuteTime": {
     "end_time": "2025-01-23T15:54:02.307522Z",
     "start_time": "2025-01-23T15:54:02.304441Z"
    }
   },
   "source": [
    "envo_adapter_string = \"sqlite:obo:envo\""
   ],
   "outputs": [],
   "execution_count": 13
  },
  {
   "metadata": {
    "ExecuteTime": {
     "end_time": "2025-01-23T15:54:02.355457Z",
     "start_time": "2025-01-23T15:54:02.351622Z"
    }
   },
   "cell_type": "code",
   "source": "po_adapter_string = \"sqlite:obo:po\"",
   "id": "e479235c08537e33",
   "outputs": [],
   "execution_count": 14
  },
  {
   "cell_type": "code",
   "id": "7795121f47307a00",
   "metadata": {
    "ExecuteTime": {
     "end_time": "2025-01-23T15:54:02.408558Z",
     "start_time": "2025-01-23T15:54:02.405708Z"
    }
   },
   "source": [
    "env_package_override_file = 'mam-env-package-overrides.tsv'\n",
    "override_column = 'mam_inferred_env_package'"
   ],
   "outputs": [],
   "execution_count": 15
  },
  {
   "cell_type": "code",
   "id": "f1b99451d88ce356",
   "metadata": {
    "ExecuteTime": {
     "end_time": "2025-01-23T15:54:02.457382Z",
     "start_time": "2025-01-23T15:54:02.454403Z"
    }
   },
   "source": [
    "ncbi_duckdb_url = 'https://portal.nersc.gov/project/m3408/biosamples_duckdb/ncbi_biosamples_2024-09-23.duckdb.gz'\n",
    "# ncbi_duckdb_url = 'https://portal.nersc.gov/project/m3408/biosamples_duckdb/ncbi_biosamples.duckdb.gz'"
   ],
   "outputs": [],
   "execution_count": 16
  },
  {
   "cell_type": "code",
   "id": "51e5d41b02b19eec",
   "metadata": {
    "ExecuteTime": {
     "end_time": "2025-01-23T15:54:02.514532Z",
     "start_time": "2025-01-23T15:54:02.511500Z"
    }
   },
   "source": [
    "gold_data_url = \"https://gold.jgi.doe.gov/download?mode=site_excel\"\n",
    "gold_data_file_name = \"goldData.xlsx\"  # goldData.xlsx: Microsoft Excel 2007+\n",
    "gold_csv_file_name = \"gold_biosamples.csv\"\n",
    "BIOSAMPLES_SHEET = \"Biosample\""
   ],
   "outputs": [],
   "execution_count": 17
  },
  {
   "cell_type": "code",
   "id": "e1d9f705fad2efa9",
   "metadata": {
    "ExecuteTime": {
     "end_time": "2025-01-23T15:54:02.575261Z",
     "start_time": "2025-01-23T15:54:02.572247Z"
    }
   },
   "source": "goldterms_semsql_url = \"https://s3.amazonaws.com/bbop-sqlite/goldterms.db.gz\"",
   "outputs": [],
   "execution_count": 18
  },
  {
   "metadata": {
    "ExecuteTime": {
     "end_time": "2025-01-23T15:54:02.632214Z",
     "start_time": "2025-01-23T15:54:02.629354Z"
    }
   },
   "cell_type": "code",
   "source": "all_nmdc_biosamples_file = 'all_nmdc_biosamples.json'",
   "id": "db6170cb9f3a6ca0",
   "outputs": [],
   "execution_count": 19
  },
  {
   "metadata": {},
   "cell_type": "markdown",
   "source": "# CURIe Constants",
   "id": "16e21c18886a373c"
  },
  {
   "metadata": {
    "ExecuteTime": {
     "end_time": "2025-01-23T15:54:02.691461Z",
     "start_time": "2025-01-23T15:54:02.686826Z"
    }
   },
   "cell_type": "code",
   "source": [
    "BIOME = 'ENVO:00000428'\n",
    "TERRESTRIAL_BIOME = 'ENVO:00000446'\n",
    "AQUATIC_BIOME = 'ENVO:00002030'\n",
    "ABP = 'ENVO:01000813'\n",
    "ENVIRONMENTAL_SYSTEM = 'ENVO:01000254'\n",
    "ENVIRONMENTAL_MATERIAL = 'ENVO:00010483'\n",
    "\n",
    "SOIL = 'ENVO:00001998'\n",
    "LIQUID_WATER = 'ENVO:00002006'\n",
    "WATER_ICE = 'ENVO:01000277'\n",
    "\n",
    "HUMAN_CONSTRUCTION = 'ENVO:00000070'\n",
    "BUILDING = 'ENVO:00000073'\n",
    "BUILDING_PART = 'ENVO:01000420'\n",
    "\n",
    "SNOW = 'ENVO:01000406'\n",
    "MASS_OF_ENVIRONMENTAL_MATERIAL = 'ENVO:01001686'\n",
    "\n",
    "PLANT_STRUCTURE = \"PO:0009011\" # does not include plant anatomical space or portion of plant substance (from plant anatomical entity)\n",
    "\n",
    "MARINE_BIOME = 'ENVO:00000447'\n",
    "\n",
    "VEGETATION_LAYER = \"ENVO:01000355\"\n",
    "SEDIMENT = \"ENVO:00002007\"\n"
   ],
   "id": "73e52103eb69bbcc",
   "outputs": [],
   "execution_count": 20
  },
  {
   "metadata": {},
   "cell_type": "markdown",
   "source": "# Settings-based Queries",
   "id": "7ecec14181910236"
  },
  {
   "cell_type": "code",
   "id": "fb8c7caf28e64d10",
   "metadata": {
    "ExecuteTime": {
     "end_time": "2025-01-23T15:54:02.739897Z",
     "start_time": "2025-01-23T15:54:02.735568Z"
    }
   },
   "source": [
    "# todo could this have been done with a OAK query, eliminating the need to explicitly download the file?\n",
    "\n",
    "goldterms_envo_query = f\"\"\"\n",
    "SELECT\n",
    "\t*\n",
    "FROM\n",
    "\tstatements s\n",
    "WHERE\n",
    "\tpredicate in ('{\"', '\".join(gold_context_selectors)}')\"\"\""
   ],
   "outputs": [],
   "execution_count": 21
  },
  {
   "cell_type": "code",
   "id": "afd52cf83301de09",
   "metadata": {
    "ExecuteTime": {
     "end_time": "2025-01-23T15:54:02.801748Z",
     "start_time": "2025-01-23T15:54:02.798259Z"
    }
   },
   "source": [
    "ncbi_biosamples_per_annotation_query = f\"\"\"\n",
    "SELECT content, COUNT(1) AS count \n",
    "FROM attributes \n",
    "WHERE harmonized_name = '{ncbi_context_selector}' AND package_content like '%{ncbi_package_selector}'\n",
    "GROUP BY content\n",
    "ORDER BY COUNT(1) DESC\n",
    "\"\"\""
   ],
   "outputs": [],
   "execution_count": 22
  },
  {
   "metadata": {
    "ExecuteTime": {
     "end_time": "2025-01-23T15:54:02.849060Z",
     "start_time": "2025-01-23T15:54:02.845217Z"
    }
   },
   "cell_type": "code",
   "source": [
    "ncbi_bioprojects_per_annotation_query = f\"\"\"\n",
    "SELECT\n",
    "\ta.content,\n",
    "\tcount(DISTINCT l.content) AS count\n",
    "FROM\n",
    "\tmain.ATTRIBUTES a\n",
    "JOIN main.links l \n",
    "\tON\n",
    "\ta.id = l.id\n",
    "WHERE\n",
    "\tl.target = 'bioproject'\n",
    "\tAND harmonized_name = 'env_local_scale'\n",
    "\tAND package_content like '%{ncbi_package_selector}'\n",
    "GROUP BY\n",
    "\ta.content\n",
    "ORDER BY\n",
    "\tcount(DISTINCT l.content) DESC ;\n",
    "\"\"\""
   ],
   "id": "d82477b892c2a7a3",
   "outputs": [],
   "execution_count": 23
  },
  {
   "metadata": {
    "ExecuteTime": {
     "end_time": "2025-01-23T15:54:02.907188Z",
     "start_time": "2025-01-23T15:54:02.899213Z"
    }
   },
   "cell_type": "code",
   "source": "ncbi_X_per_annotation_query = ncbi_bioprojects_per_annotation_query",
   "id": "f86458549b99121b",
   "outputs": [],
   "execution_count": 24
  },
  {
   "metadata": {
    "ExecuteTime": {
     "end_time": "2025-01-23T15:54:02.965374Z",
     "start_time": "2025-01-23T15:54:02.961295Z"
    }
   },
   "cell_type": "code",
   "source": [
    "# and s1.subject = s1.stanza eliminates matches on blank node annotation rows (probably wouldn't change results but adds a little overhead)\n",
    "\n",
    "extension_query = f\"\"\"\n",
    "select\n",
    "\t\ts1.subject ,\n",
    "\t\ts2.predicate,\n",
    "\t\tCOALESCE (s2.\"object\",\n",
    "\ts2.\"value\") as content\n",
    "from\n",
    "\tstatements s1\n",
    "join statements s2 on \n",
    "\ts1.subject = s2.subject\n",
    "where\n",
    "\t{gold_first_where}\n",
    "\tand s1.predicate = 'rdfs:label'\n",
    "\tand s1.subject = s1.stanza\n",
    "\tand s2.predicate in ('mixs:env_broad', 'mixs:env_local', 'mixs:env_medium', 'mixs:mixs_extension', 'rdfs:label', 'mixs:other', 'mixs:anatomical_site', 'mixs:host_taxon') ;\n",
    "\"\"\"\n"
   ],
   "id": "8cdd3e6e17a2bac3",
   "outputs": [],
   "execution_count": 25
  },
  {
   "metadata": {},
   "cell_type": "markdown",
   "source": [
    "# Locally Defined Functions\n",
    "_Currently using locally-defined cache dictionaries_"
   ],
   "id": "6c4cf0d065a7de07"
  },
  {
   "cell_type": "code",
   "id": "38412bd611726160",
   "metadata": {
    "ExecuteTime": {
     "end_time": "2025-01-23T15:54:03.025247Z",
     "start_time": "2025-01-23T15:54:03.017197Z"
    }
   },
   "source": [
    "def predict_from_normalized_env_packages(df_raw, adapter):\n",
    "    # Apply the function to the relevant columns\n",
    "\n",
    "    df = df_raw.copy()\n",
    "\n",
    "    print(df.shape)\n",
    "    for column in ['env_broad_scale_id', 'env_local_scale_id', 'env_medium_id']:\n",
    "        df[f'{column}_ancestors'] = df[column].apply(lambda x: get_hierarchy_terms(x, adapter)['ancestors'])\n",
    "        df[f'{column}_descendants'] = df[column].apply(lambda x: get_hierarchy_terms(x, adapter)['descendants'])\n",
    "\n",
    "    # Vectorize each set of terms separately\n",
    "    broad_scale_ancestors = vectorize_terms(df, 'env_broad_scale_id_ancestors')\n",
    "    broad_scale_descendants = vectorize_terms(df, 'env_broad_scale_id_descendants')\n",
    "\n",
    "    local_scale_ancestors = vectorize_terms(df, 'env_local_scale_id_ancestors')\n",
    "    local_scale_descendants = vectorize_terms(df, 'env_local_scale_id_descendants')\n",
    "\n",
    "    medium_ancestors = vectorize_terms(df, 'env_medium_id_ancestors')\n",
    "    medium_descendants = vectorize_terms(df, 'env_medium_id_descendants')\n",
    "\n",
    "    # Combine all feature matrices\n",
    "    X = hstack([\n",
    "        broad_scale_ancestors,\n",
    "        broad_scale_descendants,\n",
    "        local_scale_ancestors,\n",
    "        local_scale_descendants,\n",
    "        medium_ancestors,\n",
    "        medium_descendants\n",
    "    ])\n",
    "\n",
    "    # Filter the DataFrame to only include non-null rows for the target column\n",
    "    df_filtered = df[df['normalized_env_package'].notnull() & (df['normalized_env_package'] != \"\")]\n",
    "\n",
    "    # Extract the target variable\n",
    "    y = df_filtered['normalized_env_package']\n",
    "\n",
    "    # Ensure X corresponds to the filtered rows\n",
    "    X_filtered = X[df_filtered.index]\n",
    "\n",
    "    # Split the data into training and testing sets\n",
    "    X_train, X_test, y_train, y_test = train_test_split(X_filtered, y, test_size=0.3, random_state=42)\n",
    "\n",
    "    # Train a Random Forest Classifier\n",
    "    clf = RandomForestClassifier(n_estimators=100, random_state=42)\n",
    "    clf.fit(X_train, y_train)\n",
    "\n",
    "    # Make predictions on the test set\n",
    "    y_pred = clf.predict(X_test)\n",
    "\n",
    "    # Evaluate the model\n",
    "    print(classification_report(y_test, y_pred))\n",
    "\n",
    "    # not determining confidence for each class nor saving any diagnostics any more\n",
    "\n",
    "    return clf.predict(X)"
   ],
   "outputs": [],
   "execution_count": 26
  },
  {
   "cell_type": "code",
   "id": "4515456aaeaa7980",
   "metadata": {
    "ExecuteTime": {
     "end_time": "2025-01-23T15:54:03.083564Z",
     "start_time": "2025-01-23T15:54:03.077148Z"
    }
   },
   "source": [
    "def get_hierarchy_terms(my_curie: str, adapter) -> dict:\n",
    "    \"\"\"\n",
    "    Extract ancestor and descendant terms from the ontology for a given CURIE,\n",
    "    using caching to improve performance and filtering by 'is_a' relationships.\n",
    "\n",
    "    Args:\n",
    "        my_curie (str): CURIE identifier for the ontology term.\n",
    "        adapter: Ontology adapter.\n",
    "\n",
    "    Returns:\n",
    "        dict: Dictionary containing lists of ancestor and descendant terms.\n",
    "    \"\"\"\n",
    "    if my_curie not in ancestor_cache:\n",
    "        try:\n",
    "            ancestors = list(adapter.ancestors(my_curie, predicates=[IS_A]))\n",
    "            ancestor_cache[my_curie] = [adapter.label(ancestor) for ancestor in ancestors if ancestor]\n",
    "        except Exception as my_e:\n",
    "            print(f\"Error retrieving ancestors for {my_curie}: {my_e}\")\n",
    "            ancestor_cache[my_curie] = []\n",
    "\n",
    "    if my_curie not in descendant_cache:\n",
    "        try:\n",
    "            descendants = list(adapter.descendants(my_curie, predicates=[IS_A]))\n",
    "            descendant_cache[my_curie] = [adapter.label(descendant) for descendant in descendants if descendant]\n",
    "        except Exception as my_e:\n",
    "            print(f\"Error retrieving descendants for {my_curie}: {my_e}\")\n",
    "            descendant_cache[my_curie] = []\n",
    "\n",
    "    return {\n",
    "        'ancestors': ancestor_cache[my_curie],\n",
    "        'descendants': descendant_cache[my_curie],\n",
    "    }"
   ],
   "outputs": [],
   "execution_count": 27
  },
  {
   "metadata": {},
   "cell_type": "markdown",
   "source": "# Procedural Code Starts Here",
   "id": "1423fbbafdf5e167"
  },
  {
   "cell_type": "code",
   "id": "44fb14c1b01ac34c",
   "metadata": {
    "ExecuteTime": {
     "end_time": "2025-01-23T15:54:03.138072Z",
     "start_time": "2025-01-23T15:54:03.133819Z"
    }
   },
   "source": [
    "# Determine the filenames and target directory for the NCBI DuckDB\n",
    "ncbi_compressed_filename = urlparse(ncbi_duckdb_url).path.split('/')[-1]\n",
    "ncbi_filename = os.path.splitext(ncbi_compressed_filename)[0]\n",
    "ncbi_compressed_file_path = os.path.join(ncbi_compressed_filename)\n",
    "ncbi_uncompressed_file_path = os.path.join(ncbi_filename)\n"
   ],
   "outputs": [],
   "execution_count": 28
  },
  {
   "cell_type": "code",
   "id": "353ba83ec3059ac5",
   "metadata": {
    "ExecuteTime": {
     "end_time": "2025-01-23T15:54:03.195887Z",
     "start_time": "2025-01-23T15:54:03.189967Z"
    }
   },
   "source": [
    "if os.path.isfile(ncbi_uncompressed_file_path):\n",
    "    print(f\"{ncbi_uncompressed_file_path} is already present in the current working directory.\")\n",
    "else:\n",
    "    if os.path.isfile(ncbi_compressed_file_path):\n",
    "        print(f\"{ncbi_compressed_file_path} is already present in the current working directory.\")\n",
    "    else:\n",
    "        print(f\"{ncbi_compressed_file_path} needs to be downloaded\")\n",
    "        ncbi_response = requests.get(ncbi_duckdb_url)\n",
    "        with open(ncbi_compressed_file_path, \"wb\") as f:\n",
    "            f.write(ncbi_response.content)\n",
    "        # ~ 2 minutes @ 250 Mbps\n",
    "\n",
    "    # Unzip the compressed file and save the extracted file in target directory\n",
    "    print(f\"{ncbi_compressed_file_path} needs to be unpacked\")\n",
    "    with gzip.open(ncbi_compressed_file_path, \"rb\") as f_in:\n",
    "        with open(ncbi_uncompressed_file_path, \"wb\") as f_out:\n",
    "            shutil.copyfileobj(f_in, f_out)\n",
    "\n",
    "    # ~ 2 minutes"
   ],
   "outputs": [
    {
     "name": "stdout",
     "output_type": "stream",
     "text": [
      "ncbi_biosamples_2024-09-23.duckdb is already present in the current working directory.\n"
     ]
    }
   ],
   "execution_count": 29
  },
  {
   "cell_type": "code",
   "id": "63f815cbfb9b7a6b",
   "metadata": {
    "ExecuteTime": {
     "end_time": "2025-01-23T15:54:03.282281Z",
     "start_time": "2025-01-23T15:54:03.248371Z"
    }
   },
   "source": [
    "ncbi_conn = duckdb.connect(database=ncbi_uncompressed_file_path, read_only=True)"
   ],
   "outputs": [],
   "execution_count": 30
  },
  {
   "metadata": {},
   "cell_type": "markdown",
   "source": [
    "add po_adapter\n",
    "\n",
    "should we be creating a list of adapters?"
   ],
   "id": "ea641bb290ed714f"
  },
  {
   "cell_type": "code",
   "id": "198256f26bc060e3",
   "metadata": {
    "ExecuteTime": {
     "end_time": "2025-01-23T15:54:03.348202Z",
     "start_time": "2025-01-23T15:54:03.302075Z"
    }
   },
   "source": [
    "envo_adapter = get_adapter(envo_adapter_string)"
   ],
   "outputs": [],
   "execution_count": 31
  },
  {
   "metadata": {
    "ExecuteTime": {
     "end_time": "2025-01-23T15:54:03.362574Z",
     "start_time": "2025-01-23T15:54:03.359303Z"
    }
   },
   "cell_type": "code",
   "source": "po_adapter = get_adapter(po_adapter_string)",
   "id": "44294b3150c3053a",
   "outputs": [],
   "execution_count": 32
  },
  {
   "metadata": {},
   "cell_type": "markdown",
   "source": "**Preliminary replacement for `get_hierarchy_terms` and ancestor/descendant lookup in main row construction loop**",
   "id": "d1a0d6395ec6510b"
  },
  {
   "metadata": {
    "ExecuteTime": {
     "end_time": "2025-01-23T15:54:04.297138Z",
     "start_time": "2025-01-23T15:54:03.403320Z"
    }
   },
   "cell_type": "code",
   "source": [
    "reflexivity = False\n",
    "\n",
    "# File paths\n",
    "label_cache_file = \"envo_label_cache.json\"\n",
    "ancestors_file = \"envo_ancestors.json\"\n",
    "descendants_file = \"envo_descendants.json\"\n",
    "\n",
    "# Initialize caches\n",
    "envo_label_cache = {}\n",
    "envo_ancs_cache = {}\n",
    "envo_descs_cache = {}\n",
    "\n",
    "envo_entities_generator = envo_adapter.entities()\n",
    "envo_entities = list(envo_entities_generator)\n",
    "envo_entities.sort()\n",
    "\n",
    "\n",
    "# Function to generate and save the label cache\n",
    "def generate_label_cache():\n",
    "    print(\"Generating label cache...\")\n",
    "\n",
    "    label_cache = {}\n",
    "    for ee in envo_entities:\n",
    "        label_cache[ee] = envo_adapter.label(ee)\n",
    "    return label_cache\n",
    "\n",
    "\n",
    "# Check for label cache\n",
    "if os.path.exists(label_cache_file):\n",
    "    print(f\"Loading label cache from {label_cache_file}...\")\n",
    "    with open(label_cache_file, \"r\") as f:\n",
    "        envo_label_cache = json.load(f)\n",
    "else:\n",
    "    envo_label_cache = generate_label_cache()\n",
    "    with open(label_cache_file, \"w\") as f:\n",
    "        json.dump(envo_label_cache, f)\n",
    "    print(f\"Label cache saved to {label_cache_file}.\")\n",
    "\n",
    "# Check for ancestor cache\n",
    "if os.path.exists(ancestors_file):\n",
    "    print(f\"Loading ancestors from {ancestors_file}...\")\n",
    "    with open(ancestors_file, \"r\") as f:\n",
    "        envo_ancs_cache = json.load(f)\n",
    "else:\n",
    "    print(\"Ancestors file not found. Generating ancestor cache...\")\n",
    "\n",
    "    for ee in envo_entities:\n",
    "        ancs_gen = envo_adapter.ancestors(ee, reflexive=reflexivity)\n",
    "        envo_ancs_cache[ee] = [{a: envo_label_cache.get(a, None)} for a in ancs_gen]\n",
    "\n",
    "    with open(ancestors_file, \"w\") as f:\n",
    "        json.dump(envo_ancs_cache, f)\n",
    "    print(f\"Ancestors saved to {ancestors_file}.\")\n",
    "\n",
    "# Check for descendant cache\n",
    "if os.path.exists(descendants_file):\n",
    "    print(f\"Loading descendants from {descendants_file}...\")\n",
    "    with open(descendants_file, \"r\") as f:\n",
    "        envo_descs_cache = json.load(f)\n",
    "else:\n",
    "    # 5 minutes\n",
    "    print(\"Descendants file not found. Generating descendant cache...\")\n",
    "\n",
    "    for ee in envo_entities:\n",
    "        descs_gen = envo_adapter.descendants(ee, reflexive=reflexivity)\n",
    "        envo_descs_cache[ee] = [{d: envo_label_cache.get(d, None)} for d in descs_gen]\n",
    "\n",
    "    with open(descendants_file, \"w\") as f:\n",
    "        json.dump(envo_descs_cache, f)\n",
    "    print(f\"Descendants saved to {descendants_file}.\")\n"
   ],
   "id": "aa18493ce145fdf5",
   "outputs": [
    {
     "name": "stdout",
     "output_type": "stream",
     "text": [
      "Loading label cache from envo_label_cache.json...\n",
      "Loading ancestors from envo_ancestors.json...\n",
      "Loading descendants from envo_descendants.json...\n"
     ]
    }
   ],
   "execution_count": 33
  },
  {
   "metadata": {},
   "cell_type": "markdown",
   "source": "# Anchor aka bootstrapping classes",
   "id": "491e3ded2d1fba45"
  },
  {
   "cell_type": "code",
   "id": "e863dc687ce4be5c",
   "metadata": {
    "ExecuteTime": {
     "end_time": "2025-01-23T15:54:04.766782Z",
     "start_time": "2025-01-23T15:54:04.311266Z"
    }
   },
   "source": [
    "# anchor_descendants = get_curie_descendants_label_dict(semantic_anchor, [IS_A], envo_adapter)\n",
    "\n",
    "anchor_descendants = {}\n",
    "for semantic_anchor in semantic_anchors:  # Assuming semantic_anchors is a list\n",
    "    anchor_descendants.update(get_curie_descendants_label_dict(semantic_anchor, [IS_A], envo_adapter))\n"
   ],
   "outputs": [],
   "execution_count": 34
  },
  {
   "cell_type": "code",
   "id": "394abb56c4987eee",
   "metadata": {
    "ExecuteTime": {
     "end_time": "2025-01-23T15:54:04.799758Z",
     "start_time": "2025-01-23T15:54:04.796501Z"
    }
   },
   "source": [
    "anchor_descendants_lod = curie_descendants_label_dict_to_lod(anchor_descendants)"
   ],
   "outputs": [],
   "execution_count": 35
  },
  {
   "cell_type": "code",
   "id": "eea1a3f8395da0d7",
   "metadata": {
    "ExecuteTime": {
     "end_time": "2025-01-23T15:54:04.844668Z",
     "start_time": "2025-01-23T15:54:04.840679Z"
    }
   },
   "source": [
    "anchor_descendants_frame = curie_descendants_label_lod_to_df(anchor_descendants_lod)"
   ],
   "outputs": [],
   "execution_count": 36
  },
  {
   "cell_type": "code",
   "id": "f85faf81e0a55a42",
   "metadata": {
    "ExecuteTime": {
     "end_time": "2025-01-23T15:54:04.941347Z",
     "start_time": "2025-01-23T15:54:04.920519Z"
    }
   },
   "source": [
    "anchor_descendants_frame"
   ],
   "outputs": [
    {
     "data": {
      "text/plain": [
       "                curie                       label\n",
       "0     FOODON:00001838   fermented cereal beverage\n",
       "1       ENVO:02000111                  copper ore\n",
       "2       ENVO:01000480                       glass\n",
       "3     FOODON:03400865              soup (eurofir)\n",
       "4     FOODON:00001279     cake icing food product\n",
       "...               ...                         ...\n",
       "1095    ENVO:01001117              poultry manure\n",
       "1096    ENVO:00002117  creosote contaminated soil\n",
       "1097    ENVO:01001121                plant matter\n",
       "1098    ENVO:03605000          periphytic biofilm\n",
       "1099    ENVO:00001998                        soil\n",
       "\n",
       "[1100 rows x 2 columns]"
      ],
      "text/html": [
       "<div>\n",
       "<style scoped>\n",
       "    .dataframe tbody tr th:only-of-type {\n",
       "        vertical-align: middle;\n",
       "    }\n",
       "\n",
       "    .dataframe tbody tr th {\n",
       "        vertical-align: top;\n",
       "    }\n",
       "\n",
       "    .dataframe thead th {\n",
       "        text-align: right;\n",
       "    }\n",
       "</style>\n",
       "<table border=\"1\" class=\"dataframe\">\n",
       "  <thead>\n",
       "    <tr style=\"text-align: right;\">\n",
       "      <th></th>\n",
       "      <th>curie</th>\n",
       "      <th>label</th>\n",
       "    </tr>\n",
       "  </thead>\n",
       "  <tbody>\n",
       "    <tr>\n",
       "      <th>0</th>\n",
       "      <td>FOODON:00001838</td>\n",
       "      <td>fermented cereal beverage</td>\n",
       "    </tr>\n",
       "    <tr>\n",
       "      <th>1</th>\n",
       "      <td>ENVO:02000111</td>\n",
       "      <td>copper ore</td>\n",
       "    </tr>\n",
       "    <tr>\n",
       "      <th>2</th>\n",
       "      <td>ENVO:01000480</td>\n",
       "      <td>glass</td>\n",
       "    </tr>\n",
       "    <tr>\n",
       "      <th>3</th>\n",
       "      <td>FOODON:03400865</td>\n",
       "      <td>soup (eurofir)</td>\n",
       "    </tr>\n",
       "    <tr>\n",
       "      <th>4</th>\n",
       "      <td>FOODON:00001279</td>\n",
       "      <td>cake icing food product</td>\n",
       "    </tr>\n",
       "    <tr>\n",
       "      <th>...</th>\n",
       "      <td>...</td>\n",
       "      <td>...</td>\n",
       "    </tr>\n",
       "    <tr>\n",
       "      <th>1095</th>\n",
       "      <td>ENVO:01001117</td>\n",
       "      <td>poultry manure</td>\n",
       "    </tr>\n",
       "    <tr>\n",
       "      <th>1096</th>\n",
       "      <td>ENVO:00002117</td>\n",
       "      <td>creosote contaminated soil</td>\n",
       "    </tr>\n",
       "    <tr>\n",
       "      <th>1097</th>\n",
       "      <td>ENVO:01001121</td>\n",
       "      <td>plant matter</td>\n",
       "    </tr>\n",
       "    <tr>\n",
       "      <th>1098</th>\n",
       "      <td>ENVO:03605000</td>\n",
       "      <td>periphytic biofilm</td>\n",
       "    </tr>\n",
       "    <tr>\n",
       "      <th>1099</th>\n",
       "      <td>ENVO:00001998</td>\n",
       "      <td>soil</td>\n",
       "    </tr>\n",
       "  </tbody>\n",
       "</table>\n",
       "<p>1100 rows × 2 columns</p>\n",
       "</div>"
      ]
     },
     "execution_count": 37,
     "metadata": {},
     "output_type": "execute_result"
    }
   ],
   "execution_count": 37
  },
  {
   "cell_type": "markdown",
   "id": "857f1f1efd4635b9",
   "metadata": {},
   "source": "# Classes from the reference enumeration"
  },
  {
   "cell_type": "code",
   "id": "1432828ce7983148",
   "metadata": {
    "ExecuteTime": {
     "end_time": "2025-01-23T15:54:08.814072Z",
     "start_time": "2025-01-23T15:54:05.020914Z"
    }
   },
   "source": [
    "sv = get_schemaview_from_source(previous_submission_schema_url)"
   ],
   "outputs": [],
   "execution_count": 38
  },
  {
   "cell_type": "code",
   "id": "5841e0d6bc3d3c40",
   "metadata": {
    "ExecuteTime": {
     "end_time": "2025-01-23T15:54:08.867621Z",
     "start_time": "2025-01-23T15:54:08.862549Z"
    }
   },
   "source": [
    "# todo break out slow steps into its own cell\n",
    "\n",
    "try:\n",
    "    CONTEXT_ENUM_def = sv.get_enum(CONTEXT_ENUM)\n",
    "    context_pvs_keys = list(CONTEXT_ENUM_def.permissible_values.keys())\n",
    "except AttributeError as e:\n",
    "    # Handle the AttributeError\n",
    "    print(f\"An AttributeError occurred: {e}\")\n",
    "    context_pvs_keys = []\n"
   ],
   "outputs": [],
   "execution_count": 39
  },
  {
   "metadata": {
    "ExecuteTime": {
     "end_time": "2025-01-23T15:54:14.496113Z",
     "start_time": "2025-01-23T15:54:14.492848Z"
    }
   },
   "cell_type": "code",
   "source": "print(context_pvs_keys)",
   "id": "e47067e5b704ee70",
   "outputs": [
    {
     "name": "stdout",
     "output_type": "stream",
     "text": [
      "['acidic soil [ENVO:01001185]', 'acrisol [ENVO:00002234]', 'agricultural soil [ENVO:00002259]', 'albeluvisol [ENVO:00002233]', 'alisol [ENVO:00002231]', 'allotment garden soil [ENVO:00005744]', 'alluvial paddy field soil [ENVO:00005759]', 'alluvial soil [ENVO:00002871]', 'alluvial swamp soil [ENVO:00005758]', 'alpine soil [ENVO:00005741]', 'andosol [ENVO:00002232]', 'anthrosol [ENVO:00002230]', 'arable soil [ENVO:00005742]', 'arenosol [ENVO:00002229]', 'bare soil [ENVO:01001616]', 'beech forest soil [ENVO:00005770]', 'bluegrass field soil [ENVO:00005789]', 'bulk soil [ENVO:00005802]', 'burned soil [ENVO:00005760]', 'calcisol [ENVO:00002239]', 'cambisol [ENVO:00002235]', 'chernozem [ENVO:00002237]', 'clay soil [ENVO:00002262]', 'compacted soil [ENVO:06105205]', 'compost soil [ENVO:00005747]', 'cryosol [ENVO:00002236]', 'dry soil [ENVO:00005748]', 'durisol [ENVO:00002238]', 'eucalyptus forest soil [ENVO:00005787]', 'ferralsol [ENVO:00002246]', 'fertilized soil [ENVO:00005754]', 'field soil [ENVO:00005755]', 'fluvisol [ENVO:00002273]', 'forest soil [ENVO:00002261]', 'friable-frozen soil [ENVO:01001528]', 'frost-susceptible soil [ENVO:01001638]', 'frozen compost soil [ENVO:00005765]', 'frozen soil [ENVO:01001526]', 'gleysol [ENVO:00002244]', 'grassland soil [ENVO:00005750]', 'gypsisol [ENVO:00002245]', 'hard-frozen soil [ENVO:01001525]', 'heat stressed soil [ENVO:00005781]', 'histosol [ENVO:00002243]', 'jungle soil [ENVO:00005751]', 'kastanozem [ENVO:00002240]', 'lawn soil [ENVO:00005756]', 'leafy wood soil [ENVO:00005783]', 'leptosol [ENVO:00002241]', 'limed soil [ENVO:00005766]', 'lixisol [ENVO:00002242]', 'loam [ENVO:00002258]', 'luvisol [ENVO:00002248]', 'manured soil [ENVO:00005767]', 'mountain forest soil [ENVO:00005769]', 'muddy soil [ENVO:00005771]', 'nitisol [ENVO:00002247]', 'orchid soil [ENVO:00005768]', 'ornithogenic soil [ENVO:00005782]', 'paddy field soil [ENVO:00005740]', 'pathogen-suppressive soil [ENVO:03600036]', 'phaeozem [ENVO:00002249]', 'planosol [ENVO:00002251]', 'plastic-frozen soil [ENVO:01001527]', 'plinthosol [ENVO:00002250]', 'podzol [ENVO:00002257]', 'pond soil [ENVO:00005764]', 'red soil [ENVO:00005790]', 'regosol [ENVO:00002256]', 'roadside soil [ENVO:00005743]', 'rubber plantation soil [ENVO:00005788]', 'savanna soil [ENVO:00005746]', 'sawah soil [ENVO:00005752]', 'soil [ENVO:00001998]', 'solonchak [ENVO:00002252]', 'solonetz [ENVO:00002255]', 'spruce forest soil [ENVO:00005784]', 'stagnosol [ENVO:00002274]', 'surface soil [ENVO:02000059]', 'technosol [ENVO:00002275]', 'tropical soil [ENVO:00005778]', 'ultisol [ENVO:01001397]', 'umbrisol [ENVO:00002253]', 'upland soil [ENVO:00005786]', 'vegetable garden soil [ENVO:00005779]', 'vertisol [ENVO:00002254]']\n"
     ]
    }
   ],
   "execution_count": 40
  },
  {
   "cell_type": "code",
   "id": "79282f64358e1608",
   "metadata": {
    "ExecuteTime": {
     "end_time": "2025-01-23T15:54:20.426752Z",
     "start_time": "2025-01-23T15:54:20.423733Z"
    }
   },
   "source": [
    "initially_parsed_context_pvs = parse_hierarchically_underscored_strings(context_pvs_keys)"
   ],
   "outputs": [],
   "execution_count": 41
  },
  {
   "cell_type": "code",
   "id": "5a9492fa605534f2",
   "metadata": {
    "ExecuteTime": {
     "end_time": "2025-01-23T15:54:25.522003Z",
     "start_time": "2025-01-23T15:54:25.519236Z"
    }
   },
   "source": [
    "deduped_context_pvs = dedupe_underscoreless_pvs(initially_parsed_context_pvs)"
   ],
   "outputs": [],
   "execution_count": 42
  },
  {
   "cell_type": "code",
   "id": "214c2e6c9a7089a8",
   "metadata": {
    "ExecuteTime": {
     "end_time": "2025-01-23T15:54:31.533597Z",
     "start_time": "2025-01-23T15:54:31.489556Z"
    }
   },
   "source": [
    "pv_validation_results = validate_curie_label_list_dict(deduped_context_pvs, envo_adapter, print_flag=True)"
   ],
   "outputs": [],
   "execution_count": 43
  },
  {
   "cell_type": "code",
   "id": "e84872aa4f8a9313",
   "metadata": {
    "ExecuteTime": {
     "end_time": "2025-01-23T15:54:36.604968Z",
     "start_time": "2025-01-23T15:54:36.594049Z"
    }
   },
   "source": [
    "pv_validation_results"
   ],
   "outputs": [
    {
     "data": {
      "text/plain": [
       "{'problems': [],\n",
       " 'valids': [{'curie': 'ENVO:01001185', 'label': 'acidic soil'},\n",
       "  {'curie': 'ENVO:00002234', 'label': 'acrisol'},\n",
       "  {'curie': 'ENVO:00002259', 'label': 'agricultural soil'},\n",
       "  {'curie': 'ENVO:00002233', 'label': 'albeluvisol'},\n",
       "  {'curie': 'ENVO:00002231', 'label': 'alisol'},\n",
       "  {'curie': 'ENVO:00005744', 'label': 'allotment garden soil'},\n",
       "  {'curie': 'ENVO:00005759', 'label': 'alluvial paddy field soil'},\n",
       "  {'curie': 'ENVO:00002871', 'label': 'alluvial soil'},\n",
       "  {'curie': 'ENVO:00005758', 'label': 'alluvial swamp soil'},\n",
       "  {'curie': 'ENVO:00005741', 'label': 'alpine soil'},\n",
       "  {'curie': 'ENVO:00002232', 'label': 'andosol'},\n",
       "  {'curie': 'ENVO:00002230', 'label': 'anthrosol'},\n",
       "  {'curie': 'ENVO:00005742', 'label': 'arable soil'},\n",
       "  {'curie': 'ENVO:00002229', 'label': 'arenosol'},\n",
       "  {'curie': 'ENVO:01001616', 'label': 'bare soil'},\n",
       "  {'curie': 'ENVO:00005770', 'label': 'beech forest soil'},\n",
       "  {'curie': 'ENVO:00005789', 'label': 'bluegrass field soil'},\n",
       "  {'curie': 'ENVO:00005802', 'label': 'bulk soil'},\n",
       "  {'curie': 'ENVO:00005760', 'label': 'burned soil'},\n",
       "  {'curie': 'ENVO:00002239', 'label': 'calcisol'},\n",
       "  {'curie': 'ENVO:00002235', 'label': 'cambisol'},\n",
       "  {'curie': 'ENVO:00002237', 'label': 'chernozem'},\n",
       "  {'curie': 'ENVO:00002262', 'label': 'clay soil'},\n",
       "  {'curie': 'ENVO:06105205', 'label': 'compacted soil'},\n",
       "  {'curie': 'ENVO:00005747', 'label': 'compost soil'},\n",
       "  {'curie': 'ENVO:00002236', 'label': 'cryosol'},\n",
       "  {'curie': 'ENVO:00005748', 'label': 'dry soil'},\n",
       "  {'curie': 'ENVO:00002238', 'label': 'durisol'},\n",
       "  {'curie': 'ENVO:00005787', 'label': 'eucalyptus forest soil'},\n",
       "  {'curie': 'ENVO:00002246', 'label': 'ferralsol'},\n",
       "  {'curie': 'ENVO:00005754', 'label': 'fertilized soil'},\n",
       "  {'curie': 'ENVO:00005755', 'label': 'field soil'},\n",
       "  {'curie': 'ENVO:00002273', 'label': 'fluvisol'},\n",
       "  {'curie': 'ENVO:00002261', 'label': 'forest soil'},\n",
       "  {'curie': 'ENVO:01001528', 'label': 'friable-frozen soil'},\n",
       "  {'curie': 'ENVO:01001638', 'label': 'frost-susceptible soil'},\n",
       "  {'curie': 'ENVO:00005765', 'label': 'frozen compost soil'},\n",
       "  {'curie': 'ENVO:01001526', 'label': 'frozen soil'},\n",
       "  {'curie': 'ENVO:00002244', 'label': 'gleysol'},\n",
       "  {'curie': 'ENVO:00005750', 'label': 'grassland soil'},\n",
       "  {'curie': 'ENVO:00002245', 'label': 'gypsisol'},\n",
       "  {'curie': 'ENVO:01001525', 'label': 'hard-frozen soil'},\n",
       "  {'curie': 'ENVO:00005781', 'label': 'heat stressed soil'},\n",
       "  {'curie': 'ENVO:00002243', 'label': 'histosol'},\n",
       "  {'curie': 'ENVO:00005751', 'label': 'jungle soil'},\n",
       "  {'curie': 'ENVO:00002240', 'label': 'kastanozem'},\n",
       "  {'curie': 'ENVO:00005756', 'label': 'lawn soil'},\n",
       "  {'curie': 'ENVO:00005783', 'label': 'leafy wood soil'},\n",
       "  {'curie': 'ENVO:00002241', 'label': 'leptosol'},\n",
       "  {'curie': 'ENVO:00005766', 'label': 'limed soil'},\n",
       "  {'curie': 'ENVO:00002242', 'label': 'lixisol'},\n",
       "  {'curie': 'ENVO:00002258', 'label': 'loam'},\n",
       "  {'curie': 'ENVO:00002248', 'label': 'luvisol'},\n",
       "  {'curie': 'ENVO:00005767', 'label': 'manured soil'},\n",
       "  {'curie': 'ENVO:00005769', 'label': 'mountain forest soil'},\n",
       "  {'curie': 'ENVO:00005771', 'label': 'muddy soil'},\n",
       "  {'curie': 'ENVO:00002247', 'label': 'nitisol'},\n",
       "  {'curie': 'ENVO:00005768', 'label': 'orchid soil'},\n",
       "  {'curie': 'ENVO:00005782', 'label': 'ornithogenic soil'},\n",
       "  {'curie': 'ENVO:00005740', 'label': 'paddy field soil'},\n",
       "  {'curie': 'ENVO:03600036', 'label': 'pathogen-suppressive soil'},\n",
       "  {'curie': 'ENVO:00002249', 'label': 'phaeozem'},\n",
       "  {'curie': 'ENVO:00002251', 'label': 'planosol'},\n",
       "  {'curie': 'ENVO:01001527', 'label': 'plastic-frozen soil'},\n",
       "  {'curie': 'ENVO:00002250', 'label': 'plinthosol'},\n",
       "  {'curie': 'ENVO:00002257', 'label': 'podzol'},\n",
       "  {'curie': 'ENVO:00005764', 'label': 'pond soil'},\n",
       "  {'curie': 'ENVO:00005790', 'label': 'red soil'},\n",
       "  {'curie': 'ENVO:00002256', 'label': 'regosol'},\n",
       "  {'curie': 'ENVO:00005743', 'label': 'roadside soil'},\n",
       "  {'curie': 'ENVO:00005788', 'label': 'rubber plantation soil'},\n",
       "  {'curie': 'ENVO:00005746', 'label': 'savanna soil'},\n",
       "  {'curie': 'ENVO:00005752', 'label': 'sawah soil'},\n",
       "  {'curie': 'ENVO:00001998', 'label': 'soil'},\n",
       "  {'curie': 'ENVO:00002252', 'label': 'solonchak'},\n",
       "  {'curie': 'ENVO:00002255', 'label': 'solonetz'},\n",
       "  {'curie': 'ENVO:00005784', 'label': 'spruce forest soil'},\n",
       "  {'curie': 'ENVO:00002274', 'label': 'stagnosol'},\n",
       "  {'curie': 'ENVO:02000059', 'label': 'surface soil'},\n",
       "  {'curie': 'ENVO:00002275', 'label': 'technosol'},\n",
       "  {'curie': 'ENVO:00005778', 'label': 'tropical soil'},\n",
       "  {'curie': 'ENVO:01001397', 'label': 'ultisol'},\n",
       "  {'curie': 'ENVO:00002253', 'label': 'umbrisol'},\n",
       "  {'curie': 'ENVO:00005786', 'label': 'upland soil'},\n",
       "  {'curie': 'ENVO:00005779', 'label': 'vegetable garden soil'},\n",
       "  {'curie': 'ENVO:00002254', 'label': 'vertisol'}]}"
      ]
     },
     "execution_count": 44,
     "metadata": {},
     "output_type": "execute_result"
    }
   ],
   "execution_count": 44
  },
  {
   "cell_type": "markdown",
   "id": "363063c37a433d70",
   "metadata": {},
   "source": "# Get the CURIEs used in NMDC Biosample annotations"
  },
  {
   "cell_type": "code",
   "id": "656e23e9eab154b0",
   "metadata": {
    "ExecuteTime": {
     "end_time": "2025-01-23T15:54:41.741806Z",
     "start_time": "2025-01-23T15:54:41.577094Z"
    }
   },
   "source": [
    "if os.path.isfile(all_nmdc_biosamples_file):\n",
    "    print(\n",
    "        f\"{all_nmdc_biosamples_file} is present in the current working directory and will be read into all_nmdc_biosamples.\")\n",
    "    # with open(all_nmdc_biosamples_file, 'r') as file:\n",
    "    #     all_nmdc_biosamples = yaml.full_load(file)\n",
    "    # read as json\n",
    "    with open(all_nmdc_biosamples_file, 'r') as f:\n",
    "        all_nmdc_biosamples = json.load(f)\n",
    "\n",
    "else:\n",
    "    print(f\"All NMDC Biosamples need to be fetched and saved to {all_nmdc_biosamples_file}\")\n",
    "    all_nmdc_biosamples = get_docs_from_nmdc_collection(NMDC_RUNTIME_BASE_URL,\n",
    "                                                        BIOSAMPLE_SET_COLLECTION)\n",
    "    # with open(all_nmdc_biosamples_file, 'w') as file:\n",
    "    #     documents = yaml.dump(all_nmdc_biosamples, file)\n",
    "    # save as json\n",
    "    with open(all_nmdc_biosamples_file, 'w') as f:\n",
    "        json.dump(all_nmdc_biosamples, f)\n",
    "\n",
    "# this saves network traffic. could use JSON for faster performance. \n",
    "# 1 minute for network fetch and JSON write?!\n",
    "# 1 minute for yaml read\n",
    "# instantaneous for JSON read?"
   ],
   "outputs": [
    {
     "name": "stdout",
     "output_type": "stream",
     "text": [
      "all_nmdc_biosamples.json is present in the current working directory and will be read into all_nmdc_biosamples.\n"
     ]
    }
   ],
   "execution_count": 45
  },
  {
   "metadata": {},
   "cell_type": "markdown",
   "source": "## Prediction of env_package annotations ",
   "id": "1566ce7dbafcfc71"
  },
  {
   "metadata": {
    "ExecuteTime": {
     "end_time": "2025-01-23T15:54:52.952606Z",
     "start_time": "2025-01-23T15:54:52.926551Z"
    }
   },
   "cell_type": "code",
   "source": [
    "# Specify the output file name\n",
    "env_packages_file = \"nmdc_biosample_asserted_normalized_and_inferred_env_package.tsv\"\n",
    "\n",
    "if os.path.exists(env_packages_file):\n",
    "    # Load the DataFrame from the file if it exists\n",
    "    print(f\"Loading {env_packages_file} into nmdc_biosample_contexts_frame...\")\n",
    "    nmdc_biosample_contexts_frame = pd.read_csv(env_packages_file, sep='\\t')\n",
    "else:\n",
    "    # File doesn't exist; generate the DataFrame\n",
    "    print(f\"{env_packages_file} not found. Predicting from asserted records and {env_package_override_file}...\")\n",
    "\n",
    "    # Load environment package overrides\n",
    "    env_pacakge_overrides = tsv_to_dict_of_dicts(env_package_override_file, 'id')\n",
    "\n",
    "    # Extract biosample contexts\n",
    "    biosample_contexts_lod = biosamples_lod_context_extractor(\n",
    "        all_nmdc_biosamples, envo_adapter,\n",
    "        my_env_pacakge_overrides=env_pacakge_overrides\n",
    "    )\n",
    "\n",
    "    # Create the DataFrame\n",
    "    nmdc_biosample_contexts_frame = pd.DataFrame(biosample_contexts_lod)\n",
    "\n",
    "    # Print value counts for the 'normalized_env_package' column\n",
    "    print(\"\\n\")\n",
    "    print(\"Value counts for normalized_env_package column:\")\n",
    "    print(nmdc_biosample_contexts_frame['normalized_env_package'].value_counts(dropna=False))\n",
    "    print(\"\\n\")\n",
    "\n",
    "    # Generate package predictions\n",
    "    package_predictions = predict_from_normalized_env_packages(nmdc_biosample_contexts_frame, envo_adapter)\n",
    "\n",
    "    # Add predictions to the DataFrame\n",
    "    nmdc_biosample_contexts_frame['predicted_env_package'] = package_predictions\n",
    "\n",
    "    # Save the DataFrame to the file\n",
    "    nmdc_biosample_contexts_frame.to_csv(env_packages_file, sep='\\t', index=False)\n",
    "    print(f\"env_package predictions saved to {env_packages_file}\")\n",
    "\n"
   ],
   "id": "32cee69d6184218f",
   "outputs": [
    {
     "name": "stdout",
     "output_type": "stream",
     "text": [
      "Loading nmdc_biosample_asserted_normalized_and_inferred_env_package.tsv into nmdc_biosample_contexts_frame...\n"
     ]
    }
   ],
   "execution_count": 46
  },
  {
   "metadata": {
    "ExecuteTime": {
     "end_time": "2025-01-23T15:54:58.411475Z",
     "start_time": "2025-01-23T15:54:58.405602Z"
    }
   },
   "cell_type": "code",
   "source": "nmdc_biosample_contexts_frame['predicted_env_package'].value_counts()",
   "id": "3efd62bb277e589c",
   "outputs": [
    {
     "data": {
      "text/plain": [
       "predicted_env_package\n",
       "soil                                               5916\n",
       "water                                              1603\n",
       "plant-associated                                    476\n",
       "sediment                                            165\n",
       "host-associated                                     156\n",
       "miscellaneous natural or artificial environment     140\n",
       "hydrocarbon resources-fluids_swabs                  114\n",
       "Name: count, dtype: int64"
      ]
     },
     "execution_count": 47,
     "metadata": {},
     "output_type": "execute_result"
    }
   ],
   "execution_count": 47
  },
  {
   "metadata": {},
   "cell_type": "markdown",
   "source": [
    "## env-package prediction complete\n",
    "\n",
    "To-do: save this and don't recreate it if it's available\n",
    "\n",
    "Then get it reviewed by other NMDC stakeholders and inject it into MongoDB if approved"
   ],
   "id": "a86897dcc7d47c55"
  },
  {
   "metadata": {},
   "cell_type": "markdown",
   "source": "## Destructively filter `nmdc_biosample_contexts_frame` by `env_package` ",
   "id": "a3f22287b11f918f"
  },
  {
   "cell_type": "code",
   "id": "d5c6aa902c7187e0",
   "metadata": {
    "ExecuteTime": {
     "end_time": "2025-01-23T15:54:58.503492Z",
     "start_time": "2025-01-23T15:54:58.498702Z"
    }
   },
   "source": [
    "nmdc_biosample_contexts_frame.shape"
   ],
   "outputs": [
    {
     "data": {
      "text/plain": [
       "(8570, 15)"
      ]
     },
     "execution_count": 48,
     "metadata": {},
     "output_type": "execute_result"
    }
   ],
   "execution_count": 48
  },
  {
   "cell_type": "code",
   "id": "2b241bcacf4bb100",
   "metadata": {
    "ExecuteTime": {
     "end_time": "2025-01-23T15:54:58.577372Z",
     "start_time": "2025-01-23T15:54:58.571701Z"
    }
   },
   "source": [
    "nmdc_biosample_contexts_frame = nmdc_biosample_contexts_frame[\n",
    "    nmdc_biosample_contexts_frame['predicted_env_package'] == nmdc_package_selector]"
   ],
   "outputs": [],
   "execution_count": 49
  },
  {
   "cell_type": "code",
   "id": "9045896aa4ea468f",
   "metadata": {
    "ExecuteTime": {
     "end_time": "2025-01-23T15:54:58.649148Z",
     "start_time": "2025-01-23T15:54:58.643643Z"
    }
   },
   "source": [
    "nmdc_biosample_contexts_frame.shape"
   ],
   "outputs": [
    {
     "data": {
      "text/plain": [
       "(165, 15)"
      ]
     },
     "execution_count": 50,
     "metadata": {},
     "output_type": "execute_result"
    }
   ],
   "execution_count": 50
  },
  {
   "cell_type": "markdown",
   "id": "aee7b4eea48a8691",
   "metadata": {},
   "source": "# Long process of predicting OBO foundry CURIes from NCBI Biosamples"
  },
  {
   "metadata": {},
   "cell_type": "markdown",
   "source": [
    "## Start by getting unique annotations? Pre-counted by Biosamples\n",
    "\n",
    "Current task is to provide counts by \"study\" aka Bioproject in addition to Biosample counts or instead of Biosamples counts if necessary"
   ],
   "id": "fc58f6a0b79cbfa1"
  },
  {
   "cell_type": "code",
   "id": "3be362b73dbda47a",
   "metadata": {
    "ExecuteTime": {
     "end_time": "2025-01-23T15:55:07.474788Z",
     "start_time": "2025-01-23T15:55:04.342421Z"
    }
   },
   "source": "ncbi_frame = ncbi_conn.execute(ncbi_X_per_annotation_query).fetchdf()\n",
   "outputs": [
    {
     "data": {
      "text/plain": [
       "FloatProgress(value=0.0, layout=Layout(width='auto'), style=ProgressStyle(bar_color='black'))"
      ],
      "application/vnd.jupyter.widget-view+json": {
       "version_major": 2,
       "version_minor": 0,
       "model_id": "874d4e93f1f14798aa9b779a44be114c"
      }
     },
     "metadata": {},
     "output_type": "display_data"
    }
   ],
   "execution_count": 51
  },
  {
   "cell_type": "code",
   "id": "306ee79ce77f745e",
   "metadata": {
    "ExecuteTime": {
     "end_time": "2025-01-23T15:55:12.762874Z",
     "start_time": "2025-01-23T15:55:12.758233Z"
    }
   },
   "source": [
    "ncbi_frame.insert(0, 'serial_number', range(1, len(ncbi_frame) + 1))"
   ],
   "outputs": [],
   "execution_count": 52
  },
  {
   "cell_type": "code",
   "id": "6f06a6237f0ecdb",
   "metadata": {
    "ExecuteTime": {
     "end_time": "2025-01-23T15:55:24.932404Z",
     "start_time": "2025-01-23T15:55:24.929539Z"
    }
   },
   "source": [
    "# includes values with counts of one... useful for discovering drag-down submissions?"
   ],
   "outputs": [],
   "execution_count": 53
  },
  {
   "metadata": {},
   "cell_type": "markdown",
   "source": [
    "## MIxS and NCBI guidelines imply environmental context slots are multivalued\n",
    "and that the pipe `|` should be used as a delimiter\n",
    "\n",
    "there's an envo_count value below that indicates how ofter other delimiters might be used"
   ],
   "id": "1b851c8ef274382c"
  },
  {
   "cell_type": "code",
   "id": "f07e55ebd0f4c451",
   "metadata": {
    "ExecuteTime": {
     "end_time": "2025-01-23T15:55:24.954416Z",
     "start_time": "2025-01-23T15:55:24.938898Z"
    }
   },
   "source": [
    "ncbi_frame['content_list'] = ncbi_frame['content'].str.split('|')"
   ],
   "outputs": [],
   "execution_count": 54
  },
  {
   "metadata": {
    "ExecuteTime": {
     "end_time": "2025-01-23T15:55:30.335763Z",
     "start_time": "2025-01-23T15:55:30.330719Z"
    }
   },
   "cell_type": "code",
   "source": [
    "# todo is there any reason to not do this ?\n",
    "ncbi_frame = ncbi_frame[ncbi_frame['content'].notna() & (ncbi_frame['content'] != '')]"
   ],
   "id": "2e96404aa5dd0f7b",
   "outputs": [],
   "execution_count": 55
  },
  {
   "cell_type": "code",
   "id": "f8c2e13cee8818cb",
   "metadata": {
    "ExecuteTime": {
     "end_time": "2025-01-23T15:55:35.683670Z",
     "start_time": "2025-01-23T15:55:35.678939Z"
    }
   },
   "source": [
    "ncbi_frame['content_count'] = ncbi_frame['content_list'].apply(len)"
   ],
   "outputs": [],
   "execution_count": 56
  },
  {
   "cell_type": "code",
   "id": "edeaac7b5ce53cd5",
   "metadata": {
    "ExecuteTime": {
     "end_time": "2025-01-23T15:55:41.316904Z",
     "start_time": "2025-01-23T15:55:41.312794Z"
    }
   },
   "source": [
    "ncbi_frame.shape"
   ],
   "outputs": [
    {
     "data": {
      "text/plain": [
       "(2455, 5)"
      ]
     },
     "execution_count": 57,
     "metadata": {},
     "output_type": "execute_result"
    }
   ],
   "execution_count": 57
  },
  {
   "cell_type": "code",
   "id": "18860251fea32ee5",
   "metadata": {
    "ExecuteTime": {
     "end_time": "2025-01-23T15:55:47.466835Z",
     "start_time": "2025-01-23T15:55:47.460160Z"
    }
   },
   "source": [
    "ncbi_frame = ncbi_frame.explode('content_list').reset_index(drop=True)"
   ],
   "outputs": [],
   "execution_count": 58
  },
  {
   "cell_type": "code",
   "id": "bc8b89960c12f6e6",
   "metadata": {
    "ExecuteTime": {
     "end_time": "2025-01-23T15:55:58.519668Z",
     "start_time": "2025-01-23T15:55:58.515448Z"
    }
   },
   "source": [
    "ncbi_frame.shape"
   ],
   "outputs": [
    {
     "data": {
      "text/plain": [
       "(2557, 5)"
      ]
     },
     "execution_count": 59,
     "metadata": {},
     "output_type": "execute_result"
    }
   ],
   "execution_count": 59
  },
  {
   "metadata": {},
   "cell_type": "markdown",
   "source": [
    "## splitting adds ~ 5% more rows\n",
    "which might be important since were currently using a longest annotation strategy here"
   ],
   "id": "f02aaf625f4158d3"
  },
  {
   "cell_type": "code",
   "id": "85a0a4ccd63b7952",
   "metadata": {
    "ExecuteTime": {
     "end_time": "2025-01-23T15:55:58.568745Z",
     "start_time": "2025-01-23T15:55:58.565512Z"
    }
   },
   "source": [
    "# how many content_list strings contain envo multiple times now?"
   ],
   "outputs": [],
   "execution_count": 60
  },
  {
   "cell_type": "code",
   "id": "4dee374026c8272a",
   "metadata": {
    "ExecuteTime": {
     "end_time": "2025-01-23T15:56:04.151152Z",
     "start_time": "2025-01-23T15:56:04.143753Z"
    }
   },
   "source": [
    "ncbi_frame['envo_count'] = ncbi_frame['content_list'].str.lower().str.count(\"envo\")"
   ],
   "outputs": [],
   "execution_count": 61
  },
  {
   "cell_type": "code",
   "id": "417319d62ef07d0b",
   "metadata": {
    "ExecuteTime": {
     "end_time": "2025-01-23T15:56:16.715446Z",
     "start_time": "2025-01-23T15:56:16.708715Z"
    }
   },
   "source": [
    "ncbi_frame['envo_count'].value_counts()"
   ],
   "outputs": [
    {
     "data": {
      "text/plain": [
       "envo_count\n",
       "0    1563\n",
       "1     991\n",
       "2       2\n",
       "3       1\n",
       "Name: count, dtype: int64"
      ]
     },
     "execution_count": 62,
     "metadata": {},
     "output_type": "execute_result"
    }
   ],
   "execution_count": 62
  },
  {
   "metadata": {},
   "cell_type": "markdown",
   "source": [
    "## If my math is correct, about 0.1% of the annotations still contain multiple CURIes \n",
    "after splitting on pipes\n",
    "\n",
    "There will also be annotations with multiple label-like strings that weren't split because they were not delimited on pipes\n",
    "That might be a source of lost information since we are using a longest-match annotator here\n",
    "I.e. there could be annotations with multiple hits worth keeping"
   ],
   "id": "21fb4262b735aedc"
  },
  {
   "metadata": {},
   "cell_type": "markdown",
   "source": [
    "## Parsing out CURIEs\n",
    "\n",
    "this has a few limitations. The function only tries pre-specified prefixes (['ENVO'] by default) and only considers colons and underscores valid delimiters."
   ],
   "id": "119dbec6ecf9c65c"
  },
  {
   "cell_type": "code",
   "id": "7b256380eceaceaa",
   "metadata": {
    "ExecuteTime": {
     "end_time": "2025-01-23T15:56:17.112683Z",
     "start_time": "2025-01-23T15:56:16.768184Z"
    }
   },
   "source": [
    "ncbi_frame[['extracted_label', 'extracted_curie']] = ncbi_frame['content_list'].apply(parse_curie_label)"
   ],
   "outputs": [],
   "execution_count": 63
  },
  {
   "cell_type": "code",
   "id": "761e39ab29aef0a7",
   "metadata": {
    "ExecuteTime": {
     "end_time": "2025-01-23T15:56:17.165203Z",
     "start_time": "2025-01-23T15:56:17.158737Z"
    }
   },
   "source": [
    "parse_failures = ncbi_frame[\n",
    "    (ncbi_frame['envo_count'] > 0) & (ncbi_frame['extracted_curie'].isna() | (ncbi_frame['extracted_curie'] == ''))]\n"
   ],
   "outputs": [],
   "execution_count": 64
  },
  {
   "metadata": {},
   "cell_type": "markdown",
   "source": [
    "## In what kinds of cases could no CURIe be parsed\n",
    "despite the presence of \"ENVO\" in the content string?"
   ],
   "id": "e618518e6e85b5aa"
  },
  {
   "cell_type": "code",
   "id": "a9316f11da9ee0c8",
   "metadata": {
    "ExecuteTime": {
     "end_time": "2025-01-23T15:56:22.509761Z",
     "start_time": "2025-01-23T15:56:22.500617Z"
    }
   },
   "source": [
    "parse_failures"
   ],
   "outputs": [
    {
     "data": {
      "text/plain": [
       "      serial_number                                            content  count  \\\n",
       "300             294  stream sediment [ENVO 00002127]|agricultural s...      2   \n",
       "301             294  stream sediment [ENVO 00002127]|agricultural s...      2   \n",
       "1327           1272                                       ENVO：0000486      1   \n",
       "1941           1867                                       ENVO00000316      1   \n",
       "2142           2059           marine black smoker biome [ENVO01000051]      1   \n",
       "\n",
       "                                  content_list  content_count  envo_count  \\\n",
       "300            stream sediment [ENVO 00002127]              2           1   \n",
       "301          agricultural soil [ENVO 00002259]              2           1   \n",
       "1327                              ENVO：0000486              1           1   \n",
       "1941                              ENVO00000316              1           1   \n",
       "2142  marine black smoker biome [ENVO01000051]              1           1   \n",
       "\n",
       "                               extracted_label extracted_curie  \n",
       "300            stream sediment [ENVO 00002127]            None  \n",
       "301          agricultural soil [ENVO 00002259]            None  \n",
       "1327                              ENVO：0000486            None  \n",
       "1941                              ENVO00000316            None  \n",
       "2142  marine black smoker biome [ENVO01000051]            None  "
      ],
      "text/html": [
       "<div>\n",
       "<style scoped>\n",
       "    .dataframe tbody tr th:only-of-type {\n",
       "        vertical-align: middle;\n",
       "    }\n",
       "\n",
       "    .dataframe tbody tr th {\n",
       "        vertical-align: top;\n",
       "    }\n",
       "\n",
       "    .dataframe thead th {\n",
       "        text-align: right;\n",
       "    }\n",
       "</style>\n",
       "<table border=\"1\" class=\"dataframe\">\n",
       "  <thead>\n",
       "    <tr style=\"text-align: right;\">\n",
       "      <th></th>\n",
       "      <th>serial_number</th>\n",
       "      <th>content</th>\n",
       "      <th>count</th>\n",
       "      <th>content_list</th>\n",
       "      <th>content_count</th>\n",
       "      <th>envo_count</th>\n",
       "      <th>extracted_label</th>\n",
       "      <th>extracted_curie</th>\n",
       "    </tr>\n",
       "  </thead>\n",
       "  <tbody>\n",
       "    <tr>\n",
       "      <th>300</th>\n",
       "      <td>294</td>\n",
       "      <td>stream sediment [ENVO 00002127]|agricultural s...</td>\n",
       "      <td>2</td>\n",
       "      <td>stream sediment [ENVO 00002127]</td>\n",
       "      <td>2</td>\n",
       "      <td>1</td>\n",
       "      <td>stream sediment [ENVO 00002127]</td>\n",
       "      <td>None</td>\n",
       "    </tr>\n",
       "    <tr>\n",
       "      <th>301</th>\n",
       "      <td>294</td>\n",
       "      <td>stream sediment [ENVO 00002127]|agricultural s...</td>\n",
       "      <td>2</td>\n",
       "      <td>agricultural soil [ENVO 00002259]</td>\n",
       "      <td>2</td>\n",
       "      <td>1</td>\n",
       "      <td>agricultural soil [ENVO 00002259]</td>\n",
       "      <td>None</td>\n",
       "    </tr>\n",
       "    <tr>\n",
       "      <th>1327</th>\n",
       "      <td>1272</td>\n",
       "      <td>ENVO：0000486</td>\n",
       "      <td>1</td>\n",
       "      <td>ENVO：0000486</td>\n",
       "      <td>1</td>\n",
       "      <td>1</td>\n",
       "      <td>ENVO：0000486</td>\n",
       "      <td>None</td>\n",
       "    </tr>\n",
       "    <tr>\n",
       "      <th>1941</th>\n",
       "      <td>1867</td>\n",
       "      <td>ENVO00000316</td>\n",
       "      <td>1</td>\n",
       "      <td>ENVO00000316</td>\n",
       "      <td>1</td>\n",
       "      <td>1</td>\n",
       "      <td>ENVO00000316</td>\n",
       "      <td>None</td>\n",
       "    </tr>\n",
       "    <tr>\n",
       "      <th>2142</th>\n",
       "      <td>2059</td>\n",
       "      <td>marine black smoker biome [ENVO01000051]</td>\n",
       "      <td>1</td>\n",
       "      <td>marine black smoker biome [ENVO01000051]</td>\n",
       "      <td>1</td>\n",
       "      <td>1</td>\n",
       "      <td>marine black smoker biome [ENVO01000051]</td>\n",
       "      <td>None</td>\n",
       "    </tr>\n",
       "  </tbody>\n",
       "</table>\n",
       "</div>"
      ]
     },
     "execution_count": 65,
     "metadata": {},
     "output_type": "execute_result"
    }
   ],
   "execution_count": 65
  },
  {
   "metadata": {},
   "cell_type": "markdown",
   "source": "## Retrieve the labels for the parsed CURIes",
   "id": "ab4b8ef4ac9758e2"
  },
  {
   "cell_type": "code",
   "id": "9bdebd91856ff679",
   "metadata": {
    "ExecuteTime": {
     "end_time": "2025-01-23T15:56:23.325612Z",
     "start_time": "2025-01-23T15:56:22.609719Z"
    }
   },
   "source": "ncbi_frame['real_label'] = ncbi_frame['extracted_curie'].apply(po_adapter.label)",
   "outputs": [],
   "execution_count": 66
  },
  {
   "metadata": {},
   "cell_type": "markdown",
   "source": [
    "## Apply oaklib annotation to the strings after CURIe removal\n",
    "Actually the annotator can (sometimes?) detect colon-delimited CURIEs with lower case prefixes\n",
    "\n",
    "This returns CURIes with evidence but not necessarily the label corresponding to the CURIe"
   ],
   "id": "9710b8f5b9a39057"
  },
  {
   "metadata": {
    "ExecuteTime": {
     "end_time": "2025-01-23T15:56:23.371823Z",
     "start_time": "2025-01-23T15:56:23.368737Z"
    }
   },
   "cell_type": "code",
   "source": [
    "# # Specify the lexical index file name\n",
    "# aggregated_lexical_index_file = \"aggregated_lexical_index.yaml\"\n",
    "# \n",
    "# # Check if the lexical index file exists\n",
    "# if os.path.exists(aggregated_lexical_index_file):\n",
    "#     print(f\"Loading lexical index from {aggregated_lexical_index_file}...\")\n",
    "#     ix = load_lexical_index(aggregated_lexical_index_file)\n",
    "# else:\n",
    "#     print(f\"{aggregated_lexical_index_file} not found. Creating lexical index from agg_adapter...\")\n",
    "#     ix = create_lexical_index(agg_adapter)\n",
    "#     # Save the lexical index to a file\n",
    "#     save_lexical_index(ix, aggregated_lexical_index_file)\n",
    "#     print(f\"Lexical index saved to {aggregated_lexical_index_file}\")\n",
    "# \n",
    "# # Initialize the TextAnnotatorInterface\n",
    "# aggregated_text_annotator_interface = TextAnnotatorInterface()\n",
    "# aggregated_text_annotator_interface.lexical_index = ix\n",
    "# \n",
    "# # this cell only takes ~ 1 minute, but generates a lot of \"ERRORS\" and WARNINGS in a red font\n",
    "# #   while lexically indexing the ontology"
   ],
   "id": "542884744a48f7bf",
   "outputs": [],
   "execution_count": 67
  },
  {
   "metadata": {
    "ExecuteTime": {
     "end_time": "2025-01-23T15:56:23.401001Z",
     "start_time": "2025-01-23T15:56:23.397529Z"
    }
   },
   "cell_type": "code",
   "source": "aggregated_text_annotator_interface = AggregatorImplementation(implementations=[envo_adapter, po_adapter])",
   "id": "2656e667961ffd9",
   "outputs": [],
   "execution_count": 68
  },
  {
   "cell_type": "code",
   "id": "d06d899567db022e",
   "metadata": {
    "ExecuteTime": {
     "end_time": "2025-01-23T15:56:52.015124Z",
     "start_time": "2025-01-23T15:56:28.805341Z"
    }
   },
   "source": [
    "# Apply the annotation function to each row in the 'label' column\n",
    "ncbi_frame['longest_annotation_curie'] = ncbi_frame['extracted_label'].apply(\n",
    "    lambda x: get_longest_annotation_curie(x, aggregated_text_annotator_interface, MIN_ANNOTATION_LEN))\n",
    "\n",
    "# ~ 1 minute\n"
   ],
   "outputs": [
    {
     "name": "stderr",
     "output_type": "stream",
     "text": [
      "ERROR:root:Skipping statements(subject=ENVO:00000112,predicate=oio:hasDbXref,object=<http://www.eionet.europa.eu/gemet/concept/8704>,value=None,datatype=None,language=None,); ValueError: <http://www.eionet.europa.eu/gemet/concept/8704> is not a valid URI or CURIE\n",
      "ERROR:root:Skipping statements(subject=ENVO:00001996,predicate=oio:hasDbXref,object=<https://en.wikipedia.org/wiki/Acid_mine_drainage>,value=None,datatype=None,language=None,); ValueError: <https://en.wikipedia.org/wiki/Acid_mine_drainage> is not a valid URI or CURIE\n",
      "ERROR:root:Skipping statements(subject=ENVO:01000225,predicate=oio:hasDbXref,object=<https://www.worldwildlife.org/biomes/tropical-and-subtropical-dry-broadleaf-forests>,value=None,datatype=None,language=None,); ValueError: <https://www.worldwildlife.org/biomes/tropical-and-subtropical-dry-broadleaf-forests> is not a valid URI or CURIE\n",
      "ERROR:root:Skipping statements(subject=ENVO:01000227,predicate=oio:hasDbXref,object=<https://www.worldwildlife.org/biomes/tropical-and-subtropical-dry-broadleaf-forests>,value=None,datatype=None,language=None,); ValueError: <https://www.worldwildlife.org/biomes/tropical-and-subtropical-dry-broadleaf-forests> is not a valid URI or CURIE\n",
      "ERROR:root:Skipping statements(subject=ENVO:01001495,predicate=oio:hasDbXref,object=<https://www.goosocean.org/components/com_oe/oe.php?task=download&id=35904&version=2.0&lang=1&format=1>,value=None,datatype=None,language=None,); ValueError: <https://www.goosocean.org/components/com_oe/oe.php?task=download&id=35904&version=2.0&lang=1&format=1> is not a valid URI or CURIE\n",
      "ERROR:root:Skipping statements(subject=ENVO:01001621,predicate=oio:hasDbXref,object=<https://github.com/ESIPFed/sweet/issues/219>,value=None,datatype=None,language=None,); ValueError: <https://github.com/ESIPFed/sweet/issues/219> is not a valid URI or CURIE\n",
      "ERROR:root:Skipping statements(subject=ENVO:01001626,predicate=oio:hasDbXref,object=<https://www.worldwildlife.org/biomes/deserts-and-xeric-shrublands>,value=None,datatype=None,language=None,); ValueError: <https://www.worldwildlife.org/biomes/deserts-and-xeric-shrublands> is not a valid URI or CURIE\n",
      "ERROR:root:Skipping statements(subject=ENVO:01001627,predicate=oio:hasDbXref,object=<https://www.worldwildlife.org/ecoregions/im1304>,value=None,datatype=None,language=None,); ValueError: <https://www.worldwildlife.org/ecoregions/im1304> is not a valid URI or CURIE\n",
      "ERROR:root:Skipping statements(subject=ENVO:01001628,predicate=oio:hasDbXref,object=<https://www.worldwildlife.org/ecoregions/im1303>,value=None,datatype=None,language=None,); ValueError: <https://www.worldwildlife.org/ecoregions/im1303> is not a valid URI or CURIE\n",
      "ERROR:root:Skipping statements(subject=ENVO:01001644,predicate=oio:hasDbXref,object=<http://vocab.nerc.ac.uk/collection/S23/current/S23C021/>,value=None,datatype=None,language=None,); ValueError: <http://vocab.nerc.ac.uk/collection/S23/current/S23C021/> is not a valid URI or CURIE\n",
      "ERROR:root:Skipping statements(subject=ENVO:01001644,predicate=oio:hasDbXref,object=None,value=Carbonate which is formed as the result of some biological process.,datatype=None,language=None,); ValueError: Carbonate which is formed as the result of some biological process. is not a valid URI or CURIE\n",
      "ERROR:root:Skipping statements(subject=ENVO:01001645,predicate=oio:hasDbXref,object=<http://vocab.nerc.ac.uk/collection/S23/current/S23C013/>,value=None,datatype=None,language=None,); ValueError: <http://vocab.nerc.ac.uk/collection/S23/current/S23C013/> is not a valid URI or CURIE\n",
      "ERROR:root:Skipping statements(subject=ENVO:01001646,predicate=oio:hasDbXref,object=<http://vocab.nerc.ac.uk/collection/S23/current/S23C014/>,value=None,datatype=None,language=None,); ValueError: <http://vocab.nerc.ac.uk/collection/S23/current/S23C014/> is not a valid URI or CURIE\n",
      "ERROR:root:Skipping statements(subject=ENVO:01001647,predicate=oio:hasDbXref,object=<http://vocab.nerc.ac.uk/collection/S23/current/S23C004/>,value=None,datatype=None,language=None,); ValueError: <http://vocab.nerc.ac.uk/collection/S23/current/S23C004/> is not a valid URI or CURIE\n",
      "ERROR:root:Skipping statements(subject=ENVO:01001649,predicate=oio:hasDbXref,object=<http://vocab.nerc.ac.uk/collection/S23/current/S23C011/>,value=None,datatype=None,language=None,); ValueError: <http://vocab.nerc.ac.uk/collection/S23/current/S23C011/> is not a valid URI or CURIE\n",
      "ERROR:root:Skipping statements(subject=ENVO:01001650,predicate=oio:hasDbXref,object=<http://vocab.nerc.ac.uk/collection/S23/current/S23C012/>,value=None,datatype=None,language=None,); ValueError: <http://vocab.nerc.ac.uk/collection/S23/current/S23C012/> is not a valid URI or CURIE\n",
      "ERROR:root:Skipping statements(subject=ENVO:01001651,predicate=oio:hasDbXref,object=<http://vocab.nerc.ac.uk/collection/S23/current/S23C003/>,value=None,datatype=None,language=None,); ValueError: <http://vocab.nerc.ac.uk/collection/S23/current/S23C003/> is not a valid URI or CURIE\n",
      "ERROR:root:Skipping statements(subject=ENVO:01001652,predicate=oio:hasDbXref,object=<http://vocab.nerc.ac.uk/collection/S23/current/S23C005/>,value=None,datatype=None,language=None,); ValueError: <http://vocab.nerc.ac.uk/collection/S23/current/S23C005/> is not a valid URI or CURIE\n",
      "ERROR:root:Skipping statements(subject=ENVO:01001685,predicate=oio:hasDbXref,object=<https://github.com/EnvironmentOntology/envo/issues/1319>,value=None,datatype=None,language=None,); ValueError: <https://github.com/EnvironmentOntology/envo/issues/1319> is not a valid URI or CURIE\n",
      "ERROR:root:Skipping statements(subject=ENVO:01001692,predicate=oio:hasDbXref,object=<https://github.com/EnvironmentOntology/envo/issues/1319>,value=None,datatype=None,language=None,); ValueError: <https://github.com/EnvironmentOntology/envo/issues/1319> is not a valid URI or CURIE\n",
      "ERROR:root:Skipping statements(subject=ENVO:01001743,predicate=oio:hasDbXref,object=<https://github.com/EnvironmentOntology/envo/issues/1319>,value=None,datatype=None,language=None,); ValueError: <https://github.com/EnvironmentOntology/envo/issues/1319> is not a valid URI or CURIE\n",
      "ERROR:root:Skipping statements(subject=ENVO:01001799,predicate=oio:hasDbXref,object=<https://www.worldwildlife.org/biomes/tropical-and-subtropical-dry-broadleaf-forests>,value=None,datatype=None,language=None,); ValueError: <https://www.worldwildlife.org/biomes/tropical-and-subtropical-dry-broadleaf-forests> is not a valid URI or CURIE\n",
      "ERROR:root:Skipping statements(subject=ENVO:01001801,predicate=oio:hasDbXref,object=<https://www.worldwildlife.org/biomes/tropical-and-subtropical-dry-broadleaf-forests>,value=None,datatype=None,language=None,); ValueError: <https://www.worldwildlife.org/biomes/tropical-and-subtropical-dry-broadleaf-forests> is not a valid URI or CURIE\n",
      "ERROR:root:Skipping statements(subject=ENVO:01001823,predicate=oio:hasDbXref,object=<https://github.com/EnvironmentOntology/envo/issues/1319>,value=None,datatype=None,language=None,); ValueError: <https://github.com/EnvironmentOntology/envo/issues/1319> is not a valid URI or CURIE\n",
      "ERROR:root:Skipping statements(subject=ENVO:01001878,predicate=oio:hasDbXref,object=<https://www.goosocean.org/index.php?option=com_oe&task=viewDocumentRecord&docID=17476>,value=None,datatype=None,language=None,); ValueError: <https://www.goosocean.org/index.php?option=com_oe&task=viewDocumentRecord&docID=17476> is not a valid URI or CURIE\n",
      "ERROR:root:Skipping statements(subject=ENVO:01001879,predicate=oio:hasDbXref,object=<https://github.com/ESIPFed/sweet/issues/219>,value=None,datatype=None,language=None,); ValueError: <https://github.com/ESIPFed/sweet/issues/219> is not a valid URI or CURIE\n",
      "ERROR:root:Skipping statements(subject=ENVO:01001880,predicate=oio:hasDbXref,object=<https://github.com/ESIPFed/sweet/issues/219>,value=None,datatype=None,language=None,); ValueError: <https://github.com/ESIPFed/sweet/issues/219> is not a valid URI or CURIE\n",
      "ERROR:root:Skipping statements(subject=ENVO:01001881,predicate=oio:hasDbXref,object=<https://github.com/ESIPFed/sweet/issues/219>,value=None,datatype=None,language=None,); ValueError: <https://github.com/ESIPFed/sweet/issues/219> is not a valid URI or CURIE\n",
      "ERROR:root:Skipping statements(subject=ENVO:02000093,predicate=oio:hasDbXref,object=<https://en.wikipedia.org/wiki/Uranium_mining>,value=None,datatype=None,language=None,); ValueError: <https://en.wikipedia.org/wiki/Uranium_mining> is not a valid URI or CURIE\n",
      "ERROR:root:Skipping statements(subject=ENVO:02000094,predicate=oio:hasDbXref,object=<https://en.wikipedia.org/wiki/Ore>,value=None,datatype=None,language=None,); ValueError: <https://en.wikipedia.org/wiki/Ore> is not a valid URI or CURIE\n",
      "ERROR:root:Skipping statements(subject=ENVO:03501363,predicate=oio:hasDbXref,object=<https://www.conveyorsystemsltd.co.uk/news/168/126/Roller-Conveyor-vs-Belt-Conveyor.htm>,value=None,datatype=None,language=None,); ValueError: <https://www.conveyorsystemsltd.co.uk/news/168/126/Roller-Conveyor-vs-Belt-Conveyor.htm> is not a valid URI or CURIE\n",
      "ERROR:root:Skipping statements(subject=ENVO:06105112,predicate=oio:hasDbXref,object=<http://eurovoc.europa.eu/1837>,value=None,datatype=None,language=None,); ValueError: <http://eurovoc.europa.eu/1837> is not a valid URI or CURIE\n",
      "ERROR:root:Skipping statements(subject=ENVO:06105112,predicate=oio:hasDbXref,object=<http://aims.fao.org/aos/agrovoc/c_5998>,value=None,datatype=None,language=None,); ValueError: <http://aims.fao.org/aos/agrovoc/c_5998> is not a valid URI or CURIE\n",
      "WARNING:root:Skipping <http://geneontology.org/foo/applies-pattern> as it is not a valid CURIE\n",
      "WARNING:root:Skipping <http://schema.org/image> as it is not a valid CURIE\n",
      "WARNING:root:Skipping <http://swrl.stanford.edu/ontologies/3.3/swrla.owl#isRuleEnabled> as it is not a valid CURIE\n",
      "WARNING:root:Skipping <https://www.wikidata.org/wiki/Q2306597> as it is not a valid CURIE\n",
      "WARNING:root:Skipping <https://www.wikidata.org/wiki/Q2> as it is not a valid CURIE\n",
      "WARNING:root:Skipping <https://www.wikidata.org/wiki/Q525> as it is not a valid CURIE\n",
      "WARNING:root:Skipping <https://www.wikidata.org/wiki/Q715269> as it is not a valid CURIE\n",
      "WARNING:root:Skipping <http://swrl.stanford.edu/ontologies/3.3/swrla.owl#isRuleEnabled> as it is not a valid CURIE\n"
     ]
    }
   ],
   "execution_count": 69
  },
  {
   "metadata": {},
   "cell_type": "markdown",
   "source": "## Add the labels for the CURIes identified though oaklib annotation of strings",
   "id": "14f0908428dfa322"
  },
  {
   "cell_type": "code",
   "id": "2d0d090813223db3",
   "metadata": {
    "ExecuteTime": {
     "end_time": "2025-01-23T15:56:58.699312Z",
     "start_time": "2025-01-23T15:56:57.700493Z"
    }
   },
   "source": "ncbi_frame['longest_annotation_label'] = ncbi_frame['longest_annotation_curie'].apply(aggregated_text_annotator_interface.label)",
   "outputs": [],
   "execution_count": 70
  },
  {
   "cell_type": "code",
   "id": "940cd4e688adb239",
   "metadata": {
    "ExecuteTime": {
     "end_time": "2025-01-23T15:57:04.085277Z",
     "start_time": "2025-01-23T15:57:04.071203Z"
    }
   },
   "source": [
    "ncbi_frame"
   ],
   "outputs": [
    {
     "data": {
      "text/plain": [
       "      serial_number          content  count     content_list  content_count  \\\n",
       "0                 1   not applicable     81   not applicable              1   \n",
       "1                 2         sediment     67         sediment              1   \n",
       "2                 3          missing     62          missing              1   \n",
       "3                 4             lake     37             lake              1   \n",
       "4                 5  marine sediment     36  marine sediment              1   \n",
       "...             ...              ...    ...              ...            ...   \n",
       "2552           2452    ENVO:00002243      1    ENVO:00002243              1   \n",
       "2553           2453    ENVO:00002264      1    ENVO:00002264              1   \n",
       "2554           2454    ENVO:00002301      1    ENVO:00002301              1   \n",
       "2555           2455    ENVO:00002326      1    ENVO:00002326              1   \n",
       "2556           2456    ENVO:00002336      1    ENVO:00002336              1   \n",
       "\n",
       "      envo_count  extracted_label extracted_curie real_label  \\\n",
       "0              0   not applicable            None       None   \n",
       "1              0         sediment            None       None   \n",
       "2              0          missing            None       None   \n",
       "3              0             lake            None       None   \n",
       "4              0  marine sediment            None       None   \n",
       "...          ...              ...             ...        ...   \n",
       "2552           1                    ENVO:00002243       None   \n",
       "2553           1                    ENVO:00002264       None   \n",
       "2554           1                    ENVO:00002301       None   \n",
       "2555           1                    ENVO:00002326       None   \n",
       "2556           1                    ENVO:00002336       None   \n",
       "\n",
       "     longest_annotation_curie longest_annotation_label  \n",
       "0                        None                     None  \n",
       "1               ENVO:00002007                 sediment  \n",
       "2                        None                     None  \n",
       "3               ENVO:00000020                     lake  \n",
       "4               ENVO:03000033          marine sediment  \n",
       "...                       ...                      ...  \n",
       "2552                     None                     None  \n",
       "2553                     None                     None  \n",
       "2554                     None                     None  \n",
       "2555                     None                     None  \n",
       "2556                     None                     None  \n",
       "\n",
       "[2557 rows x 11 columns]"
      ],
      "text/html": [
       "<div>\n",
       "<style scoped>\n",
       "    .dataframe tbody tr th:only-of-type {\n",
       "        vertical-align: middle;\n",
       "    }\n",
       "\n",
       "    .dataframe tbody tr th {\n",
       "        vertical-align: top;\n",
       "    }\n",
       "\n",
       "    .dataframe thead th {\n",
       "        text-align: right;\n",
       "    }\n",
       "</style>\n",
       "<table border=\"1\" class=\"dataframe\">\n",
       "  <thead>\n",
       "    <tr style=\"text-align: right;\">\n",
       "      <th></th>\n",
       "      <th>serial_number</th>\n",
       "      <th>content</th>\n",
       "      <th>count</th>\n",
       "      <th>content_list</th>\n",
       "      <th>content_count</th>\n",
       "      <th>envo_count</th>\n",
       "      <th>extracted_label</th>\n",
       "      <th>extracted_curie</th>\n",
       "      <th>real_label</th>\n",
       "      <th>longest_annotation_curie</th>\n",
       "      <th>longest_annotation_label</th>\n",
       "    </tr>\n",
       "  </thead>\n",
       "  <tbody>\n",
       "    <tr>\n",
       "      <th>0</th>\n",
       "      <td>1</td>\n",
       "      <td>not applicable</td>\n",
       "      <td>81</td>\n",
       "      <td>not applicable</td>\n",
       "      <td>1</td>\n",
       "      <td>0</td>\n",
       "      <td>not applicable</td>\n",
       "      <td>None</td>\n",
       "      <td>None</td>\n",
       "      <td>None</td>\n",
       "      <td>None</td>\n",
       "    </tr>\n",
       "    <tr>\n",
       "      <th>1</th>\n",
       "      <td>2</td>\n",
       "      <td>sediment</td>\n",
       "      <td>67</td>\n",
       "      <td>sediment</td>\n",
       "      <td>1</td>\n",
       "      <td>0</td>\n",
       "      <td>sediment</td>\n",
       "      <td>None</td>\n",
       "      <td>None</td>\n",
       "      <td>ENVO:00002007</td>\n",
       "      <td>sediment</td>\n",
       "    </tr>\n",
       "    <tr>\n",
       "      <th>2</th>\n",
       "      <td>3</td>\n",
       "      <td>missing</td>\n",
       "      <td>62</td>\n",
       "      <td>missing</td>\n",
       "      <td>1</td>\n",
       "      <td>0</td>\n",
       "      <td>missing</td>\n",
       "      <td>None</td>\n",
       "      <td>None</td>\n",
       "      <td>None</td>\n",
       "      <td>None</td>\n",
       "    </tr>\n",
       "    <tr>\n",
       "      <th>3</th>\n",
       "      <td>4</td>\n",
       "      <td>lake</td>\n",
       "      <td>37</td>\n",
       "      <td>lake</td>\n",
       "      <td>1</td>\n",
       "      <td>0</td>\n",
       "      <td>lake</td>\n",
       "      <td>None</td>\n",
       "      <td>None</td>\n",
       "      <td>ENVO:00000020</td>\n",
       "      <td>lake</td>\n",
       "    </tr>\n",
       "    <tr>\n",
       "      <th>4</th>\n",
       "      <td>5</td>\n",
       "      <td>marine sediment</td>\n",
       "      <td>36</td>\n",
       "      <td>marine sediment</td>\n",
       "      <td>1</td>\n",
       "      <td>0</td>\n",
       "      <td>marine sediment</td>\n",
       "      <td>None</td>\n",
       "      <td>None</td>\n",
       "      <td>ENVO:03000033</td>\n",
       "      <td>marine sediment</td>\n",
       "    </tr>\n",
       "    <tr>\n",
       "      <th>...</th>\n",
       "      <td>...</td>\n",
       "      <td>...</td>\n",
       "      <td>...</td>\n",
       "      <td>...</td>\n",
       "      <td>...</td>\n",
       "      <td>...</td>\n",
       "      <td>...</td>\n",
       "      <td>...</td>\n",
       "      <td>...</td>\n",
       "      <td>...</td>\n",
       "      <td>...</td>\n",
       "    </tr>\n",
       "    <tr>\n",
       "      <th>2552</th>\n",
       "      <td>2452</td>\n",
       "      <td>ENVO:00002243</td>\n",
       "      <td>1</td>\n",
       "      <td>ENVO:00002243</td>\n",
       "      <td>1</td>\n",
       "      <td>1</td>\n",
       "      <td></td>\n",
       "      <td>ENVO:00002243</td>\n",
       "      <td>None</td>\n",
       "      <td>None</td>\n",
       "      <td>None</td>\n",
       "    </tr>\n",
       "    <tr>\n",
       "      <th>2553</th>\n",
       "      <td>2453</td>\n",
       "      <td>ENVO:00002264</td>\n",
       "      <td>1</td>\n",
       "      <td>ENVO:00002264</td>\n",
       "      <td>1</td>\n",
       "      <td>1</td>\n",
       "      <td></td>\n",
       "      <td>ENVO:00002264</td>\n",
       "      <td>None</td>\n",
       "      <td>None</td>\n",
       "      <td>None</td>\n",
       "    </tr>\n",
       "    <tr>\n",
       "      <th>2554</th>\n",
       "      <td>2454</td>\n",
       "      <td>ENVO:00002301</td>\n",
       "      <td>1</td>\n",
       "      <td>ENVO:00002301</td>\n",
       "      <td>1</td>\n",
       "      <td>1</td>\n",
       "      <td></td>\n",
       "      <td>ENVO:00002301</td>\n",
       "      <td>None</td>\n",
       "      <td>None</td>\n",
       "      <td>None</td>\n",
       "    </tr>\n",
       "    <tr>\n",
       "      <th>2555</th>\n",
       "      <td>2455</td>\n",
       "      <td>ENVO:00002326</td>\n",
       "      <td>1</td>\n",
       "      <td>ENVO:00002326</td>\n",
       "      <td>1</td>\n",
       "      <td>1</td>\n",
       "      <td></td>\n",
       "      <td>ENVO:00002326</td>\n",
       "      <td>None</td>\n",
       "      <td>None</td>\n",
       "      <td>None</td>\n",
       "    </tr>\n",
       "    <tr>\n",
       "      <th>2556</th>\n",
       "      <td>2456</td>\n",
       "      <td>ENVO:00002336</td>\n",
       "      <td>1</td>\n",
       "      <td>ENVO:00002336</td>\n",
       "      <td>1</td>\n",
       "      <td>1</td>\n",
       "      <td></td>\n",
       "      <td>ENVO:00002336</td>\n",
       "      <td>None</td>\n",
       "      <td>None</td>\n",
       "      <td>None</td>\n",
       "    </tr>\n",
       "  </tbody>\n",
       "</table>\n",
       "<p>2557 rows × 11 columns</p>\n",
       "</div>"
      ]
     },
     "execution_count": 71,
     "metadata": {},
     "output_type": "execute_result"
    }
   ],
   "execution_count": 71
  },
  {
   "metadata": {},
   "cell_type": "markdown",
   "source": [
    "## we now have a list of CURIes for each normalized annotation\n",
    "\n",
    "This could be because the submitter provided a CURIe and a label that don't match\n",
    "*One* case of this is dragging a CURIe down a column in a spreadsheet, expecting it to be copied,\n",
    "but actually auto-incrementing it\n",
    "\n",
    "Now attempt to find one best CURIe for each annotation... by now we have lost the ability to retain multiple legitimate\n",
    "but improperly separated CURIes"
   ],
   "id": "69ed214e0186f459"
  },
  {
   "cell_type": "code",
   "id": "951ca41984b81e7d",
   "metadata": {
    "ExecuteTime": {
     "end_time": "2025-01-23T15:57:10.349782Z",
     "start_time": "2025-01-23T15:57:10.311830Z"
    }
   },
   "source": [
    "# todo don't accept extracted curie if no real label?\n",
    "# any kind of string similarity checking for label of annotated curie vs extracted label ?\n",
    "# look for long stretches of curies?\n",
    "# can we measure the beneficial impact of any of this? current crux: how to distribute counts\n",
    "\n",
    "ncbi_frame['curie_list'] = ncbi_frame.apply(\n",
    "    lambda my_row: list({my_row['extracted_curie'], my_row['longest_annotation_curie']} - {None}),\n",
    "    axis=1\n",
    ")\n",
    "\n",
    "ncbi_frame['unique_curie_count'] = ncbi_frame['curie_list'].apply(len)"
   ],
   "outputs": [],
   "execution_count": 72
  },
  {
   "cell_type": "code",
   "id": "349610c477ebf149",
   "metadata": {
    "ExecuteTime": {
     "end_time": "2025-01-23T15:57:10.408408Z",
     "start_time": "2025-01-23T15:57:10.401962Z"
    }
   },
   "source": [
    "ncbi_frame['unique_curie_count'].value_counts()"
   ],
   "outputs": [
    {
     "data": {
      "text/plain": [
       "unique_curie_count\n",
       "1    1905\n",
       "0     356\n",
       "2     296\n",
       "Name: count, dtype: int64"
      ]
     },
     "execution_count": 73,
     "metadata": {},
     "output_type": "execute_result"
    }
   ],
   "execution_count": 73
  },
  {
   "cell_type": "code",
   "id": "e6a8c0273f36e906",
   "metadata": {
    "ExecuteTime": {
     "end_time": "2025-01-23T15:57:10.450500Z",
     "start_time": "2025-01-23T15:57:10.446581Z"
    }
   },
   "source": [
    "double_curie_frame = ncbi_frame[ncbi_frame['unique_curie_count'] > 1]"
   ],
   "outputs": [],
   "execution_count": 74
  },
  {
   "cell_type": "code",
   "id": "334e7c646337a914",
   "metadata": {
    "ExecuteTime": {
     "end_time": "2025-01-23T15:57:10.549397Z",
     "start_time": "2025-01-23T15:57:10.545181Z"
    }
   },
   "source": [
    "double_curie_frame = double_curie_frame[['extracted_curie', 'longest_annotation_curie']]"
   ],
   "outputs": [],
   "execution_count": 75
  },
  {
   "cell_type": "code",
   "id": "874149830df3dd8a",
   "metadata": {
    "ExecuteTime": {
     "end_time": "2025-01-23T15:57:10.597282Z",
     "start_time": "2025-01-23T15:57:10.592899Z"
    }
   },
   "source": [
    "double_curie_frame = double_curie_frame.drop_duplicates()"
   ],
   "outputs": [],
   "execution_count": 76
  },
  {
   "cell_type": "code",
   "id": "cdfc0bda39f3ad6d",
   "metadata": {
    "ExecuteTime": {
     "end_time": "2025-01-23T15:57:10.680045Z",
     "start_time": "2025-01-23T15:57:10.674695Z"
    }
   },
   "source": [
    "double_curie_frame[['extracted_prefix', 'extracted_local_id']] = double_curie_frame['extracted_curie'].str.split(':',\n",
    "                                                                                                                 expand=True)"
   ],
   "outputs": [],
   "execution_count": 77
  },
  {
   "cell_type": "code",
   "id": "de6fcee63f6677d",
   "metadata": {
    "ExecuteTime": {
     "end_time": "2025-01-23T15:57:10.756796Z",
     "start_time": "2025-01-23T15:57:10.750870Z"
    }
   },
   "source": [
    "double_curie_frame['extracted_local_id_int'] = pd.to_numeric(double_curie_frame['extracted_local_id'],\n",
    "                                                             errors='coerce').astype('Int64')"
   ],
   "outputs": [],
   "execution_count": 78
  },
  {
   "metadata": {
    "ExecuteTime": {
     "end_time": "2025-01-23T15:57:16.329972Z",
     "start_time": "2025-01-23T15:57:16.319506Z"
    }
   },
   "cell_type": "code",
   "source": "double_curie_frame",
   "id": "185c2d7e43614639",
   "outputs": [
    {
     "data": {
      "text/plain": [
       "     extracted_curie longest_annotation_curie extracted_prefix  \\\n",
       "87     ENVO:00000013            ENVO:00000067             ENVO   \n",
       "142    ENVO:00002181            ENVO:00002179             ENVO   \n",
       "148    ENVO:00002180            ENVO:00002179             ENVO   \n",
       "162    ENVO:00002113            ENVO:00002007             ENVO   \n",
       "172    ENVO:00002185            ENVO:00002179             ENVO   \n",
       "...              ...                      ...              ...   \n",
       "2503   ENVO:01001931            ENVO:01000207             ENVO   \n",
       "2516   ENVO:01001214            ENVO:01001201             ENVO   \n",
       "2523   ENVO:00000518            ENVO:00000486             ENVO   \n",
       "2536   ENVO:01001840            ENVO:01000207             ENVO   \n",
       "2537   ENVO:01001862            ENVO:01000207             ENVO   \n",
       "\n",
       "     extracted_local_id  extracted_local_id_int  \n",
       "87             00000013                      13  \n",
       "142            00002181                    2181  \n",
       "148            00002180                    2180  \n",
       "162            00002113                    2113  \n",
       "172            00002185                    2185  \n",
       "...                 ...                     ...  \n",
       "2503           01001931                 1001931  \n",
       "2516           01001214                 1001214  \n",
       "2523           00000518                     518  \n",
       "2536           01001840                 1001840  \n",
       "2537           01001862                 1001862  \n",
       "\n",
       "[255 rows x 5 columns]"
      ],
      "text/html": [
       "<div>\n",
       "<style scoped>\n",
       "    .dataframe tbody tr th:only-of-type {\n",
       "        vertical-align: middle;\n",
       "    }\n",
       "\n",
       "    .dataframe tbody tr th {\n",
       "        vertical-align: top;\n",
       "    }\n",
       "\n",
       "    .dataframe thead th {\n",
       "        text-align: right;\n",
       "    }\n",
       "</style>\n",
       "<table border=\"1\" class=\"dataframe\">\n",
       "  <thead>\n",
       "    <tr style=\"text-align: right;\">\n",
       "      <th></th>\n",
       "      <th>extracted_curie</th>\n",
       "      <th>longest_annotation_curie</th>\n",
       "      <th>extracted_prefix</th>\n",
       "      <th>extracted_local_id</th>\n",
       "      <th>extracted_local_id_int</th>\n",
       "    </tr>\n",
       "  </thead>\n",
       "  <tbody>\n",
       "    <tr>\n",
       "      <th>87</th>\n",
       "      <td>ENVO:00000013</td>\n",
       "      <td>ENVO:00000067</td>\n",
       "      <td>ENVO</td>\n",
       "      <td>00000013</td>\n",
       "      <td>13</td>\n",
       "    </tr>\n",
       "    <tr>\n",
       "      <th>142</th>\n",
       "      <td>ENVO:00002181</td>\n",
       "      <td>ENVO:00002179</td>\n",
       "      <td>ENVO</td>\n",
       "      <td>00002181</td>\n",
       "      <td>2181</td>\n",
       "    </tr>\n",
       "    <tr>\n",
       "      <th>148</th>\n",
       "      <td>ENVO:00002180</td>\n",
       "      <td>ENVO:00002179</td>\n",
       "      <td>ENVO</td>\n",
       "      <td>00002180</td>\n",
       "      <td>2180</td>\n",
       "    </tr>\n",
       "    <tr>\n",
       "      <th>162</th>\n",
       "      <td>ENVO:00002113</td>\n",
       "      <td>ENVO:00002007</td>\n",
       "      <td>ENVO</td>\n",
       "      <td>00002113</td>\n",
       "      <td>2113</td>\n",
       "    </tr>\n",
       "    <tr>\n",
       "      <th>172</th>\n",
       "      <td>ENVO:00002185</td>\n",
       "      <td>ENVO:00002179</td>\n",
       "      <td>ENVO</td>\n",
       "      <td>00002185</td>\n",
       "      <td>2185</td>\n",
       "    </tr>\n",
       "    <tr>\n",
       "      <th>...</th>\n",
       "      <td>...</td>\n",
       "      <td>...</td>\n",
       "      <td>...</td>\n",
       "      <td>...</td>\n",
       "      <td>...</td>\n",
       "    </tr>\n",
       "    <tr>\n",
       "      <th>2503</th>\n",
       "      <td>ENVO:01001931</td>\n",
       "      <td>ENVO:01000207</td>\n",
       "      <td>ENVO</td>\n",
       "      <td>01001931</td>\n",
       "      <td>1001931</td>\n",
       "    </tr>\n",
       "    <tr>\n",
       "      <th>2516</th>\n",
       "      <td>ENVO:01001214</td>\n",
       "      <td>ENVO:01001201</td>\n",
       "      <td>ENVO</td>\n",
       "      <td>01001214</td>\n",
       "      <td>1001214</td>\n",
       "    </tr>\n",
       "    <tr>\n",
       "      <th>2523</th>\n",
       "      <td>ENVO:00000518</td>\n",
       "      <td>ENVO:00000486</td>\n",
       "      <td>ENVO</td>\n",
       "      <td>00000518</td>\n",
       "      <td>518</td>\n",
       "    </tr>\n",
       "    <tr>\n",
       "      <th>2536</th>\n",
       "      <td>ENVO:01001840</td>\n",
       "      <td>ENVO:01000207</td>\n",
       "      <td>ENVO</td>\n",
       "      <td>01001840</td>\n",
       "      <td>1001840</td>\n",
       "    </tr>\n",
       "    <tr>\n",
       "      <th>2537</th>\n",
       "      <td>ENVO:01001862</td>\n",
       "      <td>ENVO:01000207</td>\n",
       "      <td>ENVO</td>\n",
       "      <td>01001862</td>\n",
       "      <td>1001862</td>\n",
       "    </tr>\n",
       "  </tbody>\n",
       "</table>\n",
       "<p>255 rows × 5 columns</p>\n",
       "</div>"
      ]
     },
     "execution_count": 79,
     "metadata": {},
     "output_type": "execute_result"
    }
   ],
   "execution_count": 79
  },
  {
   "cell_type": "code",
   "id": "fae831b04ed985ef",
   "metadata": {
    "ExecuteTime": {
     "end_time": "2025-01-23T15:57:21.740341Z",
     "start_time": "2025-01-23T15:57:21.736641Z"
    }
   },
   "source": [
    "# Ensure extracted_local_id_int is unique and sorted\n",
    "unique_sorted_series = double_curie_frame['extracted_local_id_int'].dropna().drop_duplicates().sort_values()\n"
   ],
   "outputs": [],
   "execution_count": 80
  },
  {
   "cell_type": "code",
   "id": "d244d7b150a3b413",
   "metadata": {
    "ExecuteTime": {
     "end_time": "2025-01-23T15:57:21.809736Z",
     "start_time": "2025-01-23T15:57:21.800446Z"
    }
   },
   "source": [
    "# Find stretches\n",
    "stretches_dict = find_consecutive_stretches_dict(unique_sorted_series)\n"
   ],
   "outputs": [],
   "execution_count": 81
  },
  {
   "cell_type": "code",
   "id": "2fda8122842f63c0",
   "metadata": {
    "ExecuteTime": {
     "end_time": "2025-01-23T15:57:21.851393Z",
     "start_time": "2025-01-23T15:57:21.847419Z"
    }
   },
   "source": [
    "# Convert the stretches dictionary into a DataFrame\n",
    "stretches_df = stretches_dict_to_long_dataframe(stretches_dict)"
   ],
   "outputs": [],
   "execution_count": 82
  },
  {
   "metadata": {},
   "cell_type": "markdown",
   "source": [
    "`stretches_df` shows groups of extracted EnvoO ids (CURIes without prefix or padding zeros) that share a common CURIe by oaklib annotation of the textual part. This may not be the best or only way to address these spurious drag-stretch, auto-incremented CURIes\n",
    "\n",
    "Ie 1001458 corresponds to ENVO:01001458, 'mist'\n",
    "\n",
    "_although it theoretically could have been ENVO:1001458 since EnvO CURIes can have 7 or 8 digits_\n",
    "\n",
    "In group 9, there are another ~ 50 sequential id values, all corresponding to environmental context annotations whose best oak-annotated class is ENVO:01001803, 'tropical forest'!\n",
    "\n",
    "How much of an impact does this have? "
   ],
   "id": "22f0c242c2505f2b"
  },
  {
   "cell_type": "code",
   "id": "367abafc0ae13a6d",
   "metadata": {
    "ExecuteTime": {
     "end_time": "2025-01-23T15:57:21.905567Z",
     "start_time": "2025-01-23T15:57:21.895970Z"
    }
   },
   "source": [
    "stretches_df"
   ],
   "outputs": [
    {
     "data": {
      "text/plain": [
       "     stretch_id    value\n",
       "0             1        1\n",
       "1             1        2\n",
       "2             1        3\n",
       "3             1        4\n",
       "4             1        5\n",
       "..          ...      ...\n",
       "225           5  1001930\n",
       "226           5  1001931\n",
       "227           5  1001932\n",
       "228           5  1001933\n",
       "229           5  1001934\n",
       "\n",
       "[230 rows x 2 columns]"
      ],
      "text/html": [
       "<div>\n",
       "<style scoped>\n",
       "    .dataframe tbody tr th:only-of-type {\n",
       "        vertical-align: middle;\n",
       "    }\n",
       "\n",
       "    .dataframe tbody tr th {\n",
       "        vertical-align: top;\n",
       "    }\n",
       "\n",
       "    .dataframe thead th {\n",
       "        text-align: right;\n",
       "    }\n",
       "</style>\n",
       "<table border=\"1\" class=\"dataframe\">\n",
       "  <thead>\n",
       "    <tr style=\"text-align: right;\">\n",
       "      <th></th>\n",
       "      <th>stretch_id</th>\n",
       "      <th>value</th>\n",
       "    </tr>\n",
       "  </thead>\n",
       "  <tbody>\n",
       "    <tr>\n",
       "      <th>0</th>\n",
       "      <td>1</td>\n",
       "      <td>1</td>\n",
       "    </tr>\n",
       "    <tr>\n",
       "      <th>1</th>\n",
       "      <td>1</td>\n",
       "      <td>2</td>\n",
       "    </tr>\n",
       "    <tr>\n",
       "      <th>2</th>\n",
       "      <td>1</td>\n",
       "      <td>3</td>\n",
       "    </tr>\n",
       "    <tr>\n",
       "      <th>3</th>\n",
       "      <td>1</td>\n",
       "      <td>4</td>\n",
       "    </tr>\n",
       "    <tr>\n",
       "      <th>4</th>\n",
       "      <td>1</td>\n",
       "      <td>5</td>\n",
       "    </tr>\n",
       "    <tr>\n",
       "      <th>...</th>\n",
       "      <td>...</td>\n",
       "      <td>...</td>\n",
       "    </tr>\n",
       "    <tr>\n",
       "      <th>225</th>\n",
       "      <td>5</td>\n",
       "      <td>1001930</td>\n",
       "    </tr>\n",
       "    <tr>\n",
       "      <th>226</th>\n",
       "      <td>5</td>\n",
       "      <td>1001931</td>\n",
       "    </tr>\n",
       "    <tr>\n",
       "      <th>227</th>\n",
       "      <td>5</td>\n",
       "      <td>1001932</td>\n",
       "    </tr>\n",
       "    <tr>\n",
       "      <th>228</th>\n",
       "      <td>5</td>\n",
       "      <td>1001933</td>\n",
       "    </tr>\n",
       "    <tr>\n",
       "      <th>229</th>\n",
       "      <td>5</td>\n",
       "      <td>1001934</td>\n",
       "    </tr>\n",
       "  </tbody>\n",
       "</table>\n",
       "<p>230 rows × 2 columns</p>\n",
       "</div>"
      ]
     },
     "execution_count": 83,
     "metadata": {},
     "output_type": "execute_result"
    }
   ],
   "execution_count": 83
  },
  {
   "cell_type": "code",
   "id": "8ee27ecc0697a5f5",
   "metadata": {
    "ExecuteTime": {
     "end_time": "2025-01-23T15:57:28.106543Z",
     "start_time": "2025-01-23T15:57:28.102133Z"
    }
   },
   "source": [
    "# Perform the left merge\n",
    "double_curie_frame = double_curie_frame.merge(\n",
    "    stretches_df,\n",
    "    left_on='extracted_local_id_int',\n",
    "    right_on='value',\n",
    "    how='left'\n",
    ")"
   ],
   "outputs": [],
   "execution_count": 84
  },
  {
   "cell_type": "code",
   "id": "59e278981b799f14",
   "metadata": {
    "ExecuteTime": {
     "end_time": "2025-01-23T15:57:28.178672Z",
     "start_time": "2025-01-23T15:57:28.167445Z"
    }
   },
   "source": [
    "stretch_summary_df = summarize_stretch_groups(double_curie_frame)\n"
   ],
   "outputs": [],
   "execution_count": 85
  },
  {
   "metadata": {},
   "cell_type": "markdown",
   "source": "For stretch 9, which included extracted CURIes from ENVO:01001458 to ENVO:01001511, the oaklib test annotation of 100% of the submitted environmental context annotations was ENVO:01001803, so we will keep that and disregard all of the CURIes from the stretch\n",
   "id": "46a141c88d2f24a8"
  },
  {
   "cell_type": "code",
   "id": "cee6e3ff1e1ca0d3",
   "metadata": {
    "ExecuteTime": {
     "end_time": "2025-01-23T15:57:28.225914Z",
     "start_time": "2025-01-23T15:57:28.216199Z"
    }
   },
   "source": [
    "stretch_summary_df"
   ],
   "outputs": [
    {
     "data": {
      "text/plain": [
       "   stretch_id most_common_longest_annotation_curie  fraction\n",
       "0         1.0                        ENVO:00000486  0.961538\n",
       "1         2.0                        ENVO:00000019  0.561644\n",
       "2         3.0                        ENVO:00002179  1.000000\n",
       "3         4.0                        ENVO:01001201  1.000000\n",
       "4         5.0                        ENVO:01000207  1.000000"
      ],
      "text/html": [
       "<div>\n",
       "<style scoped>\n",
       "    .dataframe tbody tr th:only-of-type {\n",
       "        vertical-align: middle;\n",
       "    }\n",
       "\n",
       "    .dataframe tbody tr th {\n",
       "        vertical-align: top;\n",
       "    }\n",
       "\n",
       "    .dataframe thead th {\n",
       "        text-align: right;\n",
       "    }\n",
       "</style>\n",
       "<table border=\"1\" class=\"dataframe\">\n",
       "  <thead>\n",
       "    <tr style=\"text-align: right;\">\n",
       "      <th></th>\n",
       "      <th>stretch_id</th>\n",
       "      <th>most_common_longest_annotation_curie</th>\n",
       "      <th>fraction</th>\n",
       "    </tr>\n",
       "  </thead>\n",
       "  <tbody>\n",
       "    <tr>\n",
       "      <th>0</th>\n",
       "      <td>1.0</td>\n",
       "      <td>ENVO:00000486</td>\n",
       "      <td>0.961538</td>\n",
       "    </tr>\n",
       "    <tr>\n",
       "      <th>1</th>\n",
       "      <td>2.0</td>\n",
       "      <td>ENVO:00000019</td>\n",
       "      <td>0.561644</td>\n",
       "    </tr>\n",
       "    <tr>\n",
       "      <th>2</th>\n",
       "      <td>3.0</td>\n",
       "      <td>ENVO:00002179</td>\n",
       "      <td>1.000000</td>\n",
       "    </tr>\n",
       "    <tr>\n",
       "      <th>3</th>\n",
       "      <td>4.0</td>\n",
       "      <td>ENVO:01001201</td>\n",
       "      <td>1.000000</td>\n",
       "    </tr>\n",
       "    <tr>\n",
       "      <th>4</th>\n",
       "      <td>5.0</td>\n",
       "      <td>ENVO:01000207</td>\n",
       "      <td>1.000000</td>\n",
       "    </tr>\n",
       "  </tbody>\n",
       "</table>\n",
       "</div>"
      ]
     },
     "execution_count": 86,
     "metadata": {},
     "output_type": "execute_result"
    }
   ],
   "execution_count": 86
  },
  {
   "metadata": {
    "ExecuteTime": {
     "end_time": "2025-01-23T15:57:34.125546Z",
     "start_time": "2025-01-23T15:57:34.122646Z"
    }
   },
   "cell_type": "code",
   "source": "decisive_fraction_threshold = 0.9",
   "id": "dcc5ba2adda9189f",
   "outputs": [],
   "execution_count": 87
  },
  {
   "metadata": {
    "ExecuteTime": {
     "end_time": "2025-01-23T15:57:34.186811Z",
     "start_time": "2025-01-23T15:57:34.183577Z"
    }
   },
   "cell_type": "code",
   "source": "decisive_stretch_summary_df = stretch_summary_df[stretch_summary_df['fraction'] >= decisive_fraction_threshold]",
   "id": "529c6e4d71a8bf31",
   "outputs": [],
   "execution_count": 88
  },
  {
   "metadata": {
    "ExecuteTime": {
     "end_time": "2025-01-23T15:57:34.243667Z",
     "start_time": "2025-01-23T15:57:34.235213Z"
    }
   },
   "cell_type": "code",
   "source": "decisive_stretch_summary_df",
   "id": "db568a6f50b6e0",
   "outputs": [
    {
     "data": {
      "text/plain": [
       "   stretch_id most_common_longest_annotation_curie  fraction\n",
       "0         1.0                        ENVO:00000486  0.961538\n",
       "2         3.0                        ENVO:00002179  1.000000\n",
       "3         4.0                        ENVO:01001201  1.000000\n",
       "4         5.0                        ENVO:01000207  1.000000"
      ],
      "text/html": [
       "<div>\n",
       "<style scoped>\n",
       "    .dataframe tbody tr th:only-of-type {\n",
       "        vertical-align: middle;\n",
       "    }\n",
       "\n",
       "    .dataframe tbody tr th {\n",
       "        vertical-align: top;\n",
       "    }\n",
       "\n",
       "    .dataframe thead th {\n",
       "        text-align: right;\n",
       "    }\n",
       "</style>\n",
       "<table border=\"1\" class=\"dataframe\">\n",
       "  <thead>\n",
       "    <tr style=\"text-align: right;\">\n",
       "      <th></th>\n",
       "      <th>stretch_id</th>\n",
       "      <th>most_common_longest_annotation_curie</th>\n",
       "      <th>fraction</th>\n",
       "    </tr>\n",
       "  </thead>\n",
       "  <tbody>\n",
       "    <tr>\n",
       "      <th>0</th>\n",
       "      <td>1.0</td>\n",
       "      <td>ENVO:00000486</td>\n",
       "      <td>0.961538</td>\n",
       "    </tr>\n",
       "    <tr>\n",
       "      <th>2</th>\n",
       "      <td>3.0</td>\n",
       "      <td>ENVO:00002179</td>\n",
       "      <td>1.000000</td>\n",
       "    </tr>\n",
       "    <tr>\n",
       "      <th>3</th>\n",
       "      <td>4.0</td>\n",
       "      <td>ENVO:01001201</td>\n",
       "      <td>1.000000</td>\n",
       "    </tr>\n",
       "    <tr>\n",
       "      <th>4</th>\n",
       "      <td>5.0</td>\n",
       "      <td>ENVO:01000207</td>\n",
       "      <td>1.000000</td>\n",
       "    </tr>\n",
       "  </tbody>\n",
       "</table>\n",
       "</div>"
      ]
     },
     "execution_count": 89,
     "metadata": {},
     "output_type": "execute_result"
    }
   ],
   "execution_count": 89
  },
  {
   "cell_type": "code",
   "id": "f47a58a1945943b8",
   "metadata": {
    "ExecuteTime": {
     "end_time": "2025-01-23T15:57:40.030421Z",
     "start_time": "2025-01-23T15:57:40.025678Z"
    }
   },
   "source": [
    "# Perform the left merge\n",
    "double_curie_frame = double_curie_frame.merge(\n",
    "    decisive_stretch_summary_df,\n",
    "    left_on='stretch_id',\n",
    "    right_on='stretch_id',\n",
    "    how='left'\n",
    ")"
   ],
   "outputs": [],
   "execution_count": 90
  },
  {
   "metadata": {
    "ExecuteTime": {
     "end_time": "2025-01-23T15:57:40.114014Z",
     "start_time": "2025-01-23T15:57:40.092890Z"
    }
   },
   "cell_type": "code",
   "source": "double_curie_frame",
   "id": "babb21e01016715",
   "outputs": [
    {
     "data": {
      "text/plain": [
       "    extracted_curie longest_annotation_curie extracted_prefix  \\\n",
       "0     ENVO:00000013            ENVO:00000067             ENVO   \n",
       "1     ENVO:00002181            ENVO:00002179             ENVO   \n",
       "2     ENVO:00002180            ENVO:00002179             ENVO   \n",
       "3     ENVO:00002113            ENVO:00002007             ENVO   \n",
       "4     ENVO:00002185            ENVO:00002179             ENVO   \n",
       "..              ...                      ...              ...   \n",
       "250   ENVO:01001931            ENVO:01000207             ENVO   \n",
       "251   ENVO:01001214            ENVO:01001201             ENVO   \n",
       "252   ENVO:00000518            ENVO:00000486             ENVO   \n",
       "253   ENVO:01001840            ENVO:01000207             ENVO   \n",
       "254   ENVO:01001862            ENVO:01000207             ENVO   \n",
       "\n",
       "    extracted_local_id  extracted_local_id_int  stretch_id      value  \\\n",
       "0             00000013                      13         1.0       13.0   \n",
       "1             00002181                    2181         3.0     2181.0   \n",
       "2             00002180                    2180         3.0     2180.0   \n",
       "3             00002113                    2113         NaN        NaN   \n",
       "4             00002185                    2185         3.0     2185.0   \n",
       "..                 ...                     ...         ...        ...   \n",
       "250           01001931                 1001931         5.0  1001931.0   \n",
       "251           01001214                 1001214         4.0  1001214.0   \n",
       "252           00000518                     518         2.0      518.0   \n",
       "253           01001840                 1001840         5.0  1001840.0   \n",
       "254           01001862                 1001862         5.0  1001862.0   \n",
       "\n",
       "    most_common_longest_annotation_curie  fraction  \n",
       "0                          ENVO:00000486  0.961538  \n",
       "1                          ENVO:00002179  1.000000  \n",
       "2                          ENVO:00002179  1.000000  \n",
       "3                                    NaN       NaN  \n",
       "4                          ENVO:00002179  1.000000  \n",
       "..                                   ...       ...  \n",
       "250                        ENVO:01000207  1.000000  \n",
       "251                        ENVO:01001201  1.000000  \n",
       "252                                  NaN       NaN  \n",
       "253                        ENVO:01000207  1.000000  \n",
       "254                        ENVO:01000207  1.000000  \n",
       "\n",
       "[255 rows x 9 columns]"
      ],
      "text/html": [
       "<div>\n",
       "<style scoped>\n",
       "    .dataframe tbody tr th:only-of-type {\n",
       "        vertical-align: middle;\n",
       "    }\n",
       "\n",
       "    .dataframe tbody tr th {\n",
       "        vertical-align: top;\n",
       "    }\n",
       "\n",
       "    .dataframe thead th {\n",
       "        text-align: right;\n",
       "    }\n",
       "</style>\n",
       "<table border=\"1\" class=\"dataframe\">\n",
       "  <thead>\n",
       "    <tr style=\"text-align: right;\">\n",
       "      <th></th>\n",
       "      <th>extracted_curie</th>\n",
       "      <th>longest_annotation_curie</th>\n",
       "      <th>extracted_prefix</th>\n",
       "      <th>extracted_local_id</th>\n",
       "      <th>extracted_local_id_int</th>\n",
       "      <th>stretch_id</th>\n",
       "      <th>value</th>\n",
       "      <th>most_common_longest_annotation_curie</th>\n",
       "      <th>fraction</th>\n",
       "    </tr>\n",
       "  </thead>\n",
       "  <tbody>\n",
       "    <tr>\n",
       "      <th>0</th>\n",
       "      <td>ENVO:00000013</td>\n",
       "      <td>ENVO:00000067</td>\n",
       "      <td>ENVO</td>\n",
       "      <td>00000013</td>\n",
       "      <td>13</td>\n",
       "      <td>1.0</td>\n",
       "      <td>13.0</td>\n",
       "      <td>ENVO:00000486</td>\n",
       "      <td>0.961538</td>\n",
       "    </tr>\n",
       "    <tr>\n",
       "      <th>1</th>\n",
       "      <td>ENVO:00002181</td>\n",
       "      <td>ENVO:00002179</td>\n",
       "      <td>ENVO</td>\n",
       "      <td>00002181</td>\n",
       "      <td>2181</td>\n",
       "      <td>3.0</td>\n",
       "      <td>2181.0</td>\n",
       "      <td>ENVO:00002179</td>\n",
       "      <td>1.000000</td>\n",
       "    </tr>\n",
       "    <tr>\n",
       "      <th>2</th>\n",
       "      <td>ENVO:00002180</td>\n",
       "      <td>ENVO:00002179</td>\n",
       "      <td>ENVO</td>\n",
       "      <td>00002180</td>\n",
       "      <td>2180</td>\n",
       "      <td>3.0</td>\n",
       "      <td>2180.0</td>\n",
       "      <td>ENVO:00002179</td>\n",
       "      <td>1.000000</td>\n",
       "    </tr>\n",
       "    <tr>\n",
       "      <th>3</th>\n",
       "      <td>ENVO:00002113</td>\n",
       "      <td>ENVO:00002007</td>\n",
       "      <td>ENVO</td>\n",
       "      <td>00002113</td>\n",
       "      <td>2113</td>\n",
       "      <td>NaN</td>\n",
       "      <td>NaN</td>\n",
       "      <td>NaN</td>\n",
       "      <td>NaN</td>\n",
       "    </tr>\n",
       "    <tr>\n",
       "      <th>4</th>\n",
       "      <td>ENVO:00002185</td>\n",
       "      <td>ENVO:00002179</td>\n",
       "      <td>ENVO</td>\n",
       "      <td>00002185</td>\n",
       "      <td>2185</td>\n",
       "      <td>3.0</td>\n",
       "      <td>2185.0</td>\n",
       "      <td>ENVO:00002179</td>\n",
       "      <td>1.000000</td>\n",
       "    </tr>\n",
       "    <tr>\n",
       "      <th>...</th>\n",
       "      <td>...</td>\n",
       "      <td>...</td>\n",
       "      <td>...</td>\n",
       "      <td>...</td>\n",
       "      <td>...</td>\n",
       "      <td>...</td>\n",
       "      <td>...</td>\n",
       "      <td>...</td>\n",
       "      <td>...</td>\n",
       "    </tr>\n",
       "    <tr>\n",
       "      <th>250</th>\n",
       "      <td>ENVO:01001931</td>\n",
       "      <td>ENVO:01000207</td>\n",
       "      <td>ENVO</td>\n",
       "      <td>01001931</td>\n",
       "      <td>1001931</td>\n",
       "      <td>5.0</td>\n",
       "      <td>1001931.0</td>\n",
       "      <td>ENVO:01000207</td>\n",
       "      <td>1.000000</td>\n",
       "    </tr>\n",
       "    <tr>\n",
       "      <th>251</th>\n",
       "      <td>ENVO:01001214</td>\n",
       "      <td>ENVO:01001201</td>\n",
       "      <td>ENVO</td>\n",
       "      <td>01001214</td>\n",
       "      <td>1001214</td>\n",
       "      <td>4.0</td>\n",
       "      <td>1001214.0</td>\n",
       "      <td>ENVO:01001201</td>\n",
       "      <td>1.000000</td>\n",
       "    </tr>\n",
       "    <tr>\n",
       "      <th>252</th>\n",
       "      <td>ENVO:00000518</td>\n",
       "      <td>ENVO:00000486</td>\n",
       "      <td>ENVO</td>\n",
       "      <td>00000518</td>\n",
       "      <td>518</td>\n",
       "      <td>2.0</td>\n",
       "      <td>518.0</td>\n",
       "      <td>NaN</td>\n",
       "      <td>NaN</td>\n",
       "    </tr>\n",
       "    <tr>\n",
       "      <th>253</th>\n",
       "      <td>ENVO:01001840</td>\n",
       "      <td>ENVO:01000207</td>\n",
       "      <td>ENVO</td>\n",
       "      <td>01001840</td>\n",
       "      <td>1001840</td>\n",
       "      <td>5.0</td>\n",
       "      <td>1001840.0</td>\n",
       "      <td>ENVO:01000207</td>\n",
       "      <td>1.000000</td>\n",
       "    </tr>\n",
       "    <tr>\n",
       "      <th>254</th>\n",
       "      <td>ENVO:01001862</td>\n",
       "      <td>ENVO:01000207</td>\n",
       "      <td>ENVO</td>\n",
       "      <td>01001862</td>\n",
       "      <td>1001862</td>\n",
       "      <td>5.0</td>\n",
       "      <td>1001862.0</td>\n",
       "      <td>ENVO:01000207</td>\n",
       "      <td>1.000000</td>\n",
       "    </tr>\n",
       "  </tbody>\n",
       "</table>\n",
       "<p>255 rows × 9 columns</p>\n",
       "</div>"
      ]
     },
     "execution_count": 91,
     "metadata": {},
     "output_type": "execute_result"
    }
   ],
   "execution_count": 91
  },
  {
   "cell_type": "code",
   "id": "828f3be5ac6c0ab1",
   "metadata": {
    "ExecuteTime": {
     "end_time": "2025-01-23T15:57:40.167538Z",
     "start_time": "2025-01-23T15:57:40.160402Z"
    }
   },
   "source": [
    "drag_evidence_frame = double_curie_frame[double_curie_frame['stretch_id'] >= 1]\n",
    "drag_evidence_frame = drag_evidence_frame[['extracted_curie', 'longest_annotation_curie']]\n",
    "drag_evidence_frame['drag_evidence'] = True"
   ],
   "outputs": [],
   "execution_count": 92
  },
  {
   "cell_type": "code",
   "id": "9907b1472af8731b",
   "metadata": {
    "ExecuteTime": {
     "end_time": "2025-01-23T15:57:40.240492Z",
     "start_time": "2025-01-23T15:57:40.230717Z"
    }
   },
   "source": [
    "drag_evidence_frame"
   ],
   "outputs": [
    {
     "data": {
      "text/plain": [
       "    extracted_curie longest_annotation_curie  drag_evidence\n",
       "0     ENVO:00000013            ENVO:00000067           True\n",
       "1     ENVO:00002181            ENVO:00002179           True\n",
       "2     ENVO:00002180            ENVO:00002179           True\n",
       "4     ENVO:00002185            ENVO:00002179           True\n",
       "5     ENVO:00000020            ENVO:00000486           True\n",
       "..              ...                      ...            ...\n",
       "250   ENVO:01001931            ENVO:01000207           True\n",
       "251   ENVO:01001214            ENVO:01001201           True\n",
       "252   ENVO:00000518            ENVO:00000486           True\n",
       "253   ENVO:01001840            ENVO:01000207           True\n",
       "254   ENVO:01001862            ENVO:01000207           True\n",
       "\n",
       "[238 rows x 3 columns]"
      ],
      "text/html": [
       "<div>\n",
       "<style scoped>\n",
       "    .dataframe tbody tr th:only-of-type {\n",
       "        vertical-align: middle;\n",
       "    }\n",
       "\n",
       "    .dataframe tbody tr th {\n",
       "        vertical-align: top;\n",
       "    }\n",
       "\n",
       "    .dataframe thead th {\n",
       "        text-align: right;\n",
       "    }\n",
       "</style>\n",
       "<table border=\"1\" class=\"dataframe\">\n",
       "  <thead>\n",
       "    <tr style=\"text-align: right;\">\n",
       "      <th></th>\n",
       "      <th>extracted_curie</th>\n",
       "      <th>longest_annotation_curie</th>\n",
       "      <th>drag_evidence</th>\n",
       "    </tr>\n",
       "  </thead>\n",
       "  <tbody>\n",
       "    <tr>\n",
       "      <th>0</th>\n",
       "      <td>ENVO:00000013</td>\n",
       "      <td>ENVO:00000067</td>\n",
       "      <td>True</td>\n",
       "    </tr>\n",
       "    <tr>\n",
       "      <th>1</th>\n",
       "      <td>ENVO:00002181</td>\n",
       "      <td>ENVO:00002179</td>\n",
       "      <td>True</td>\n",
       "    </tr>\n",
       "    <tr>\n",
       "      <th>2</th>\n",
       "      <td>ENVO:00002180</td>\n",
       "      <td>ENVO:00002179</td>\n",
       "      <td>True</td>\n",
       "    </tr>\n",
       "    <tr>\n",
       "      <th>4</th>\n",
       "      <td>ENVO:00002185</td>\n",
       "      <td>ENVO:00002179</td>\n",
       "      <td>True</td>\n",
       "    </tr>\n",
       "    <tr>\n",
       "      <th>5</th>\n",
       "      <td>ENVO:00000020</td>\n",
       "      <td>ENVO:00000486</td>\n",
       "      <td>True</td>\n",
       "    </tr>\n",
       "    <tr>\n",
       "      <th>...</th>\n",
       "      <td>...</td>\n",
       "      <td>...</td>\n",
       "      <td>...</td>\n",
       "    </tr>\n",
       "    <tr>\n",
       "      <th>250</th>\n",
       "      <td>ENVO:01001931</td>\n",
       "      <td>ENVO:01000207</td>\n",
       "      <td>True</td>\n",
       "    </tr>\n",
       "    <tr>\n",
       "      <th>251</th>\n",
       "      <td>ENVO:01001214</td>\n",
       "      <td>ENVO:01001201</td>\n",
       "      <td>True</td>\n",
       "    </tr>\n",
       "    <tr>\n",
       "      <th>252</th>\n",
       "      <td>ENVO:00000518</td>\n",
       "      <td>ENVO:00000486</td>\n",
       "      <td>True</td>\n",
       "    </tr>\n",
       "    <tr>\n",
       "      <th>253</th>\n",
       "      <td>ENVO:01001840</td>\n",
       "      <td>ENVO:01000207</td>\n",
       "      <td>True</td>\n",
       "    </tr>\n",
       "    <tr>\n",
       "      <th>254</th>\n",
       "      <td>ENVO:01001862</td>\n",
       "      <td>ENVO:01000207</td>\n",
       "      <td>True</td>\n",
       "    </tr>\n",
       "  </tbody>\n",
       "</table>\n",
       "<p>238 rows × 3 columns</p>\n",
       "</div>"
      ]
     },
     "execution_count": 93,
     "metadata": {},
     "output_type": "execute_result"
    }
   ],
   "execution_count": 93
  },
  {
   "cell_type": "code",
   "id": "9873eb1bc3ea44e5",
   "metadata": {
    "ExecuteTime": {
     "end_time": "2025-01-23T15:57:40.317476Z",
     "start_time": "2025-01-23T15:57:40.311046Z"
    }
   },
   "source": [
    "ncbi_frame = ncbi_frame.merge(\n",
    "    drag_evidence_frame,\n",
    "    left_on=['extracted_curie', 'longest_annotation_curie'],\n",
    "    right_on=['extracted_curie', 'longest_annotation_curie'],\n",
    "    how='left'\n",
    ")"
   ],
   "outputs": [],
   "execution_count": 94
  },
  {
   "cell_type": "code",
   "id": "1d67b9e207b5531e",
   "metadata": {
    "ExecuteTime": {
     "end_time": "2025-01-23T15:57:40.690541Z",
     "start_time": "2025-01-23T15:57:40.474434Z"
    }
   },
   "source": [
    "# Initialize dragless_curie_list with curie_list values\n",
    "ncbi_frame[\"dragless_curie_list\"] = ncbi_frame[\"curie_list\"]\n",
    "\n",
    "# Update dragless_curie_list based on the condition\n",
    "for index, row in ncbi_frame.iterrows():\n",
    "    if row[\"drag_evidence\"] is True:\n",
    "        if row[\"longest_annotation_curie\"] is not None:\n",
    "            ncbi_frame.at[index, \"dragless_curie_list\"] = [row[\"longest_annotation_curie\"]]\n",
    "        else:\n",
    "            ncbi_frame.at[index, \"dragless_curie_list\"] = []\n",
    "\n",
    "ncbi_frame['dragless_curie_count'] = ncbi_frame['dragless_curie_list'].apply(len)"
   ],
   "outputs": [],
   "execution_count": 95
  },
  {
   "cell_type": "code",
   "id": "fb7469cd6900edd7",
   "metadata": {
    "ExecuteTime": {
     "end_time": "2025-01-23T15:57:40.760482Z",
     "start_time": "2025-01-23T15:57:40.752378Z"
    }
   },
   "source": [
    "ncbi_frame['unique_curie_count'].value_counts()"
   ],
   "outputs": [
    {
     "data": {
      "text/plain": [
       "unique_curie_count\n",
       "1    1905\n",
       "0     356\n",
       "2     296\n",
       "Name: count, dtype: int64"
      ]
     },
     "execution_count": 96,
     "metadata": {},
     "output_type": "execute_result"
    }
   ],
   "execution_count": 96
  },
  {
   "cell_type": "code",
   "id": "7626e42d5b746a2a",
   "metadata": {
    "ExecuteTime": {
     "end_time": "2025-01-23T15:57:40.794770Z",
     "start_time": "2025-01-23T15:57:40.783210Z"
    }
   },
   "source": [
    "ncbi_frame['dragless_curie_count'].value_counts()"
   ],
   "outputs": [
    {
     "data": {
      "text/plain": [
       "dragless_curie_count\n",
       "1    2184\n",
       "0     356\n",
       "2      17\n",
       "Name: count, dtype: int64"
      ]
     },
     "execution_count": 97,
     "metadata": {},
     "output_type": "execute_result"
    }
   ],
   "execution_count": 97
  },
  {
   "metadata": {},
   "cell_type": "markdown",
   "source": [
    "## The extent of multiple detected CURIes has been reduced ~ 4.5 fold \n",
    "(for soil env_local_scale)\n",
    "\n",
    "Isolate the submitter annotations for which there's clearly one best CURIe after removing the drag-stretches"
   ],
   "id": "55ba8eda9fc69708"
  },
  {
   "cell_type": "code",
   "id": "bb3c0eeb8e919ac5",
   "metadata": {
    "ExecuteTime": {
     "end_time": "2025-01-23T15:57:40.928682Z",
     "start_time": "2025-01-23T15:57:40.921223Z"
    }
   },
   "source": [
    "ncbi_frame.shape"
   ],
   "outputs": [
    {
     "data": {
      "text/plain": [
       "(2557, 16)"
      ]
     },
     "execution_count": 98,
     "metadata": {},
     "output_type": "execute_result"
    }
   ],
   "execution_count": 98
  },
  {
   "cell_type": "code",
   "id": "653df3ac622d4e95",
   "metadata": {
    "ExecuteTime": {
     "end_time": "2025-01-23T15:57:41.230597Z",
     "start_time": "2025-01-23T15:57:41.223530Z"
    }
   },
   "source": [
    "ncbi_frame_undisputed = ncbi_frame[ncbi_frame['dragless_curie_count'] <= 1]"
   ],
   "outputs": [],
   "execution_count": 99
  },
  {
   "cell_type": "code",
   "id": "2abdcbd301b484a9",
   "metadata": {
    "ExecuteTime": {
     "end_time": "2025-01-23T15:57:41.413235Z",
     "start_time": "2025-01-23T15:57:41.405849Z"
    }
   },
   "source": [
    "ncbi_frame_undisputed.shape"
   ],
   "outputs": [
    {
     "data": {
      "text/plain": [
       "(2540, 16)"
      ]
     },
     "execution_count": 100,
     "metadata": {},
     "output_type": "execute_result"
    }
   ],
   "execution_count": 100
  },
  {
   "cell_type": "code",
   "id": "57d0c3c05e88ea1e",
   "metadata": {
    "ExecuteTime": {
     "end_time": "2025-01-23T15:57:41.454867Z",
     "start_time": "2025-01-23T15:57:41.449645Z"
    }
   },
   "source": [
    "ncbi_frame_disputed = ncbi_frame[ncbi_frame['dragless_curie_count'] > 1]"
   ],
   "outputs": [],
   "execution_count": 101
  },
  {
   "cell_type": "code",
   "id": "d0cf6796fedc7f8a",
   "metadata": {
    "ExecuteTime": {
     "end_time": "2025-01-23T15:57:41.563030Z",
     "start_time": "2025-01-23T15:57:41.557385Z"
    }
   },
   "source": [
    "ncbi_frame_disputed.shape"
   ],
   "outputs": [
    {
     "data": {
      "text/plain": [
       "(17, 16)"
      ]
     },
     "execution_count": 102,
     "metadata": {},
     "output_type": "execute_result"
    }
   ],
   "execution_count": 102
  },
  {
   "cell_type": "code",
   "id": "fe33fe1d6d2aad09",
   "metadata": {
    "ExecuteTime": {
     "end_time": "2025-01-23T15:57:41.659683Z",
     "start_time": "2025-01-23T15:57:41.652374Z"
    }
   },
   "source": [
    "ncbi_frame_disputed = ncbi_frame_disputed.explode(\"dragless_curie_list\", ignore_index=True)\n"
   ],
   "outputs": [],
   "execution_count": 103
  },
  {
   "cell_type": "code",
   "id": "f8fe49b93cb12990",
   "metadata": {
    "ExecuteTime": {
     "end_time": "2025-01-23T15:57:47.423246Z",
     "start_time": "2025-01-23T15:57:47.418708Z"
    }
   },
   "source": [
    "ncbi_frame_disputed.shape"
   ],
   "outputs": [
    {
     "data": {
      "text/plain": [
       "(34, 16)"
      ]
     },
     "execution_count": 104,
     "metadata": {},
     "output_type": "execute_result"
    }
   ],
   "execution_count": 104
  },
  {
   "cell_type": "code",
   "id": "6896ca8dd3865cb5",
   "metadata": {
    "ExecuteTime": {
     "end_time": "2025-01-23T15:57:53.966734Z",
     "start_time": "2025-01-23T15:57:53.962817Z"
    }
   },
   "source": [
    "ncbi_frame_disputed[\"dragless_curie_list\"] = ncbi_frame_disputed[\"dragless_curie_list\"].apply(lambda x: [x])"
   ],
   "outputs": [],
   "execution_count": 105
  },
  {
   "metadata": {},
   "cell_type": "markdown",
   "source": "## Just include all of the remaining disputed CURIe assignments",
   "id": "849c8845f5c378e7"
  },
  {
   "cell_type": "code",
   "id": "9a472d228624f148",
   "metadata": {
    "ExecuteTime": {
     "end_time": "2025-01-23T15:58:09.274640Z",
     "start_time": "2025-01-23T15:58:09.267086Z"
    }
   },
   "source": [
    "# Combine the rows of ncbi_frame_undisputed and ncbi_frame_disputed into a new DataFrame\n",
    "ncbi_disputes_exploded_frame = pd.concat([ncbi_frame_undisputed, ncbi_frame_disputed], ignore_index=True)\n"
   ],
   "outputs": [],
   "execution_count": 106
  },
  {
   "cell_type": "code",
   "id": "e772d6db19793ec5",
   "metadata": {
    "ExecuteTime": {
     "end_time": "2025-01-23T15:58:09.295629Z",
     "start_time": "2025-01-23T15:58:09.281839Z"
    }
   },
   "source": [
    "ncbi_disputes_exploded_frame.shape"
   ],
   "outputs": [
    {
     "data": {
      "text/plain": [
       "(2574, 16)"
      ]
     },
     "execution_count": 107,
     "metadata": {},
     "output_type": "execute_result"
    }
   ],
   "execution_count": 107
  },
  {
   "cell_type": "code",
   "id": "ef0b5e69d724d94a",
   "metadata": {
    "ExecuteTime": {
     "end_time": "2025-01-23T15:58:15.467586Z",
     "start_time": "2025-01-23T15:58:15.448008Z"
    }
   },
   "source": [
    "ncbi_disputes_exploded_frame"
   ],
   "outputs": [
    {
     "data": {
      "text/plain": [
       "      serial_number                            content  count  \\\n",
       "0                 1                     not applicable     81   \n",
       "1                 2                           sediment     67   \n",
       "2                 3                            missing     62   \n",
       "3                 4                               lake     37   \n",
       "4                 5                    marine sediment     36   \n",
       "...             ...                                ...    ...   \n",
       "2569           1556             lake bed ENVO:00000281      1   \n",
       "2570           1810              coast (ENVO:00000303)      1   \n",
       "2571           1810              coast (ENVO:00000303)      1   \n",
       "2572           2325  freshwater wetland; ENVO:00000243      1   \n",
       "2573           2325  freshwater wetland; ENVO:00000243      1   \n",
       "\n",
       "                           content_list  content_count  envo_count  \\\n",
       "0                        not applicable              1           0   \n",
       "1                              sediment              1           0   \n",
       "2                               missing              1           0   \n",
       "3                                  lake              1           0   \n",
       "4                       marine sediment              1           0   \n",
       "...                                 ...            ...         ...   \n",
       "2569             lake bed ENVO:00000281              1           1   \n",
       "2570              coast (ENVO:00000303)              1           1   \n",
       "2571              coast (ENVO:00000303)              1           1   \n",
       "2572  freshwater wetland; ENVO:00000243              1           1   \n",
       "2573  freshwater wetland; ENVO:00000243              1           1   \n",
       "\n",
       "          extracted_label extracted_curie real_label longest_annotation_curie  \\\n",
       "0          not applicable            None       None                     None   \n",
       "1                sediment            None       None            ENVO:00002007   \n",
       "2                 missing            None       None                     None   \n",
       "3                    lake            None       None            ENVO:00000020   \n",
       "4         marine sediment            None       None            ENVO:03000033   \n",
       "...                   ...             ...        ...                      ...   \n",
       "2569             lake bed   ENVO:00000281       None            ENVO:00000268   \n",
       "2570                coast   ENVO:00000303       None            ENVO:01000687   \n",
       "2571                coast   ENVO:00000303       None            ENVO:01000687   \n",
       "2572  freshwater wetland;   ENVO:00000243       None            ENVO:00002011   \n",
       "2573  freshwater wetland;   ENVO:00000243       None            ENVO:00002011   \n",
       "\n",
       "     longest_annotation_label                      curie_list  \\\n",
       "0                        None                              []   \n",
       "1                    sediment                 [ENVO:00002007]   \n",
       "2                        None                              []   \n",
       "3                        lake                 [ENVO:00000020]   \n",
       "4             marine sediment                 [ENVO:03000033]   \n",
       "...                       ...                             ...   \n",
       "2569                 lake bed  [ENVO:00000281, ENVO:00000268]   \n",
       "2570                    coast  [ENVO:01000687, ENVO:00000303]   \n",
       "2571                    coast  [ENVO:01000687, ENVO:00000303]   \n",
       "2572              fresh water  [ENVO:00002011, ENVO:00000243]   \n",
       "2573              fresh water  [ENVO:00002011, ENVO:00000243]   \n",
       "\n",
       "      unique_curie_count drag_evidence dragless_curie_list  \\\n",
       "0                      0           NaN                  []   \n",
       "1                      1           NaN     [ENVO:00002007]   \n",
       "2                      0           NaN                  []   \n",
       "3                      1           NaN     [ENVO:00000020]   \n",
       "4                      1           NaN     [ENVO:03000033]   \n",
       "...                  ...           ...                 ...   \n",
       "2569                   2           NaN     [ENVO:00000268]   \n",
       "2570                   2           NaN     [ENVO:01000687]   \n",
       "2571                   2           NaN     [ENVO:00000303]   \n",
       "2572                   2           NaN     [ENVO:00002011]   \n",
       "2573                   2           NaN     [ENVO:00000243]   \n",
       "\n",
       "      dragless_curie_count  \n",
       "0                        0  \n",
       "1                        1  \n",
       "2                        0  \n",
       "3                        1  \n",
       "4                        1  \n",
       "...                    ...  \n",
       "2569                     2  \n",
       "2570                     2  \n",
       "2571                     2  \n",
       "2572                     2  \n",
       "2573                     2  \n",
       "\n",
       "[2574 rows x 16 columns]"
      ],
      "text/html": [
       "<div>\n",
       "<style scoped>\n",
       "    .dataframe tbody tr th:only-of-type {\n",
       "        vertical-align: middle;\n",
       "    }\n",
       "\n",
       "    .dataframe tbody tr th {\n",
       "        vertical-align: top;\n",
       "    }\n",
       "\n",
       "    .dataframe thead th {\n",
       "        text-align: right;\n",
       "    }\n",
       "</style>\n",
       "<table border=\"1\" class=\"dataframe\">\n",
       "  <thead>\n",
       "    <tr style=\"text-align: right;\">\n",
       "      <th></th>\n",
       "      <th>serial_number</th>\n",
       "      <th>content</th>\n",
       "      <th>count</th>\n",
       "      <th>content_list</th>\n",
       "      <th>content_count</th>\n",
       "      <th>envo_count</th>\n",
       "      <th>extracted_label</th>\n",
       "      <th>extracted_curie</th>\n",
       "      <th>real_label</th>\n",
       "      <th>longest_annotation_curie</th>\n",
       "      <th>longest_annotation_label</th>\n",
       "      <th>curie_list</th>\n",
       "      <th>unique_curie_count</th>\n",
       "      <th>drag_evidence</th>\n",
       "      <th>dragless_curie_list</th>\n",
       "      <th>dragless_curie_count</th>\n",
       "    </tr>\n",
       "  </thead>\n",
       "  <tbody>\n",
       "    <tr>\n",
       "      <th>0</th>\n",
       "      <td>1</td>\n",
       "      <td>not applicable</td>\n",
       "      <td>81</td>\n",
       "      <td>not applicable</td>\n",
       "      <td>1</td>\n",
       "      <td>0</td>\n",
       "      <td>not applicable</td>\n",
       "      <td>None</td>\n",
       "      <td>None</td>\n",
       "      <td>None</td>\n",
       "      <td>None</td>\n",
       "      <td>[]</td>\n",
       "      <td>0</td>\n",
       "      <td>NaN</td>\n",
       "      <td>[]</td>\n",
       "      <td>0</td>\n",
       "    </tr>\n",
       "    <tr>\n",
       "      <th>1</th>\n",
       "      <td>2</td>\n",
       "      <td>sediment</td>\n",
       "      <td>67</td>\n",
       "      <td>sediment</td>\n",
       "      <td>1</td>\n",
       "      <td>0</td>\n",
       "      <td>sediment</td>\n",
       "      <td>None</td>\n",
       "      <td>None</td>\n",
       "      <td>ENVO:00002007</td>\n",
       "      <td>sediment</td>\n",
       "      <td>[ENVO:00002007]</td>\n",
       "      <td>1</td>\n",
       "      <td>NaN</td>\n",
       "      <td>[ENVO:00002007]</td>\n",
       "      <td>1</td>\n",
       "    </tr>\n",
       "    <tr>\n",
       "      <th>2</th>\n",
       "      <td>3</td>\n",
       "      <td>missing</td>\n",
       "      <td>62</td>\n",
       "      <td>missing</td>\n",
       "      <td>1</td>\n",
       "      <td>0</td>\n",
       "      <td>missing</td>\n",
       "      <td>None</td>\n",
       "      <td>None</td>\n",
       "      <td>None</td>\n",
       "      <td>None</td>\n",
       "      <td>[]</td>\n",
       "      <td>0</td>\n",
       "      <td>NaN</td>\n",
       "      <td>[]</td>\n",
       "      <td>0</td>\n",
       "    </tr>\n",
       "    <tr>\n",
       "      <th>3</th>\n",
       "      <td>4</td>\n",
       "      <td>lake</td>\n",
       "      <td>37</td>\n",
       "      <td>lake</td>\n",
       "      <td>1</td>\n",
       "      <td>0</td>\n",
       "      <td>lake</td>\n",
       "      <td>None</td>\n",
       "      <td>None</td>\n",
       "      <td>ENVO:00000020</td>\n",
       "      <td>lake</td>\n",
       "      <td>[ENVO:00000020]</td>\n",
       "      <td>1</td>\n",
       "      <td>NaN</td>\n",
       "      <td>[ENVO:00000020]</td>\n",
       "      <td>1</td>\n",
       "    </tr>\n",
       "    <tr>\n",
       "      <th>4</th>\n",
       "      <td>5</td>\n",
       "      <td>marine sediment</td>\n",
       "      <td>36</td>\n",
       "      <td>marine sediment</td>\n",
       "      <td>1</td>\n",
       "      <td>0</td>\n",
       "      <td>marine sediment</td>\n",
       "      <td>None</td>\n",
       "      <td>None</td>\n",
       "      <td>ENVO:03000033</td>\n",
       "      <td>marine sediment</td>\n",
       "      <td>[ENVO:03000033]</td>\n",
       "      <td>1</td>\n",
       "      <td>NaN</td>\n",
       "      <td>[ENVO:03000033]</td>\n",
       "      <td>1</td>\n",
       "    </tr>\n",
       "    <tr>\n",
       "      <th>...</th>\n",
       "      <td>...</td>\n",
       "      <td>...</td>\n",
       "      <td>...</td>\n",
       "      <td>...</td>\n",
       "      <td>...</td>\n",
       "      <td>...</td>\n",
       "      <td>...</td>\n",
       "      <td>...</td>\n",
       "      <td>...</td>\n",
       "      <td>...</td>\n",
       "      <td>...</td>\n",
       "      <td>...</td>\n",
       "      <td>...</td>\n",
       "      <td>...</td>\n",
       "      <td>...</td>\n",
       "      <td>...</td>\n",
       "    </tr>\n",
       "    <tr>\n",
       "      <th>2569</th>\n",
       "      <td>1556</td>\n",
       "      <td>lake bed ENVO:00000281</td>\n",
       "      <td>1</td>\n",
       "      <td>lake bed ENVO:00000281</td>\n",
       "      <td>1</td>\n",
       "      <td>1</td>\n",
       "      <td>lake bed</td>\n",
       "      <td>ENVO:00000281</td>\n",
       "      <td>None</td>\n",
       "      <td>ENVO:00000268</td>\n",
       "      <td>lake bed</td>\n",
       "      <td>[ENVO:00000281, ENVO:00000268]</td>\n",
       "      <td>2</td>\n",
       "      <td>NaN</td>\n",
       "      <td>[ENVO:00000268]</td>\n",
       "      <td>2</td>\n",
       "    </tr>\n",
       "    <tr>\n",
       "      <th>2570</th>\n",
       "      <td>1810</td>\n",
       "      <td>coast (ENVO:00000303)</td>\n",
       "      <td>1</td>\n",
       "      <td>coast (ENVO:00000303)</td>\n",
       "      <td>1</td>\n",
       "      <td>1</td>\n",
       "      <td>coast</td>\n",
       "      <td>ENVO:00000303</td>\n",
       "      <td>None</td>\n",
       "      <td>ENVO:01000687</td>\n",
       "      <td>coast</td>\n",
       "      <td>[ENVO:01000687, ENVO:00000303]</td>\n",
       "      <td>2</td>\n",
       "      <td>NaN</td>\n",
       "      <td>[ENVO:01000687]</td>\n",
       "      <td>2</td>\n",
       "    </tr>\n",
       "    <tr>\n",
       "      <th>2571</th>\n",
       "      <td>1810</td>\n",
       "      <td>coast (ENVO:00000303)</td>\n",
       "      <td>1</td>\n",
       "      <td>coast (ENVO:00000303)</td>\n",
       "      <td>1</td>\n",
       "      <td>1</td>\n",
       "      <td>coast</td>\n",
       "      <td>ENVO:00000303</td>\n",
       "      <td>None</td>\n",
       "      <td>ENVO:01000687</td>\n",
       "      <td>coast</td>\n",
       "      <td>[ENVO:01000687, ENVO:00000303]</td>\n",
       "      <td>2</td>\n",
       "      <td>NaN</td>\n",
       "      <td>[ENVO:00000303]</td>\n",
       "      <td>2</td>\n",
       "    </tr>\n",
       "    <tr>\n",
       "      <th>2572</th>\n",
       "      <td>2325</td>\n",
       "      <td>freshwater wetland; ENVO:00000243</td>\n",
       "      <td>1</td>\n",
       "      <td>freshwater wetland; ENVO:00000243</td>\n",
       "      <td>1</td>\n",
       "      <td>1</td>\n",
       "      <td>freshwater wetland;</td>\n",
       "      <td>ENVO:00000243</td>\n",
       "      <td>None</td>\n",
       "      <td>ENVO:00002011</td>\n",
       "      <td>fresh water</td>\n",
       "      <td>[ENVO:00002011, ENVO:00000243]</td>\n",
       "      <td>2</td>\n",
       "      <td>NaN</td>\n",
       "      <td>[ENVO:00002011]</td>\n",
       "      <td>2</td>\n",
       "    </tr>\n",
       "    <tr>\n",
       "      <th>2573</th>\n",
       "      <td>2325</td>\n",
       "      <td>freshwater wetland; ENVO:00000243</td>\n",
       "      <td>1</td>\n",
       "      <td>freshwater wetland; ENVO:00000243</td>\n",
       "      <td>1</td>\n",
       "      <td>1</td>\n",
       "      <td>freshwater wetland;</td>\n",
       "      <td>ENVO:00000243</td>\n",
       "      <td>None</td>\n",
       "      <td>ENVO:00002011</td>\n",
       "      <td>fresh water</td>\n",
       "      <td>[ENVO:00002011, ENVO:00000243]</td>\n",
       "      <td>2</td>\n",
       "      <td>NaN</td>\n",
       "      <td>[ENVO:00000243]</td>\n",
       "      <td>2</td>\n",
       "    </tr>\n",
       "  </tbody>\n",
       "</table>\n",
       "<p>2574 rows × 16 columns</p>\n",
       "</div>"
      ]
     },
     "execution_count": 108,
     "metadata": {},
     "output_type": "execute_result"
    }
   ],
   "execution_count": 108
  },
  {
   "cell_type": "code",
   "id": "be53a584475499b5",
   "metadata": {
    "ExecuteTime": {
     "end_time": "2025-01-23T15:58:21.363512Z",
     "start_time": "2025-01-23T15:58:21.357178Z"
    }
   },
   "source": [
    "ncbi_disputes_exploded_frame['post_explode_curie_count'] = ncbi_disputes_exploded_frame['dragless_curie_list'].apply(\n",
    "    len)"
   ],
   "outputs": [],
   "execution_count": 109
  },
  {
   "cell_type": "code",
   "id": "e0c0605a4ca28188",
   "metadata": {
    "ExecuteTime": {
     "end_time": "2025-01-23T15:58:21.437616Z",
     "start_time": "2025-01-23T15:58:21.432318Z"
    }
   },
   "source": [
    "ncbi_disputes_exploded_frame['post_explode_curie_count'].value_counts()"
   ],
   "outputs": [
    {
     "data": {
      "text/plain": [
       "post_explode_curie_count\n",
       "1    2218\n",
       "0     356\n",
       "Name: count, dtype: int64"
      ]
     },
     "execution_count": 110,
     "metadata": {},
     "output_type": "execute_result"
    }
   ],
   "execution_count": 110
  },
  {
   "cell_type": "code",
   "id": "396e48f3cea80587",
   "metadata": {
    "ExecuteTime": {
     "end_time": "2025-01-23T15:58:21.472712Z",
     "start_time": "2025-01-23T15:58:21.467296Z"
    }
   },
   "source": [
    "# Set 'post_explode_curie' to the 0th item in 'dragless_curie_list'\n",
    "ncbi_disputes_exploded_frame[\"post_explode_curie\"] = ncbi_disputes_exploded_frame[\"dragless_curie_list\"].apply(\n",
    "    lambda x: x[0] if isinstance(x, list) and len(x) > 0 else None\n",
    ")"
   ],
   "outputs": [],
   "execution_count": 111
  },
  {
   "cell_type": "code",
   "id": "1e488764b4212b75",
   "metadata": {
    "ExecuteTime": {
     "end_time": "2025-01-23T15:58:21.560728Z",
     "start_time": "2025-01-23T15:58:21.553119Z"
    }
   },
   "source": [
    "\n",
    "ncbi_biosample_scoped_counts = (\n",
    "    ncbi_disputes_exploded_frame.groupby(\"post_explode_curie\")[\"count\"].sum().reset_index()\n",
    ")\n",
    "\n",
    "# todo parameterize the column name based on what was really counted, generally biosamples or bioprojects\n",
    "ncbi_biosample_scoped_counts.columns = ['curie', 'ncbi_bioprojects_count']"
   ],
   "outputs": [],
   "execution_count": 112
  },
  {
   "metadata": {},
   "cell_type": "markdown",
   "source": "This is currently a count of Biosamples for which the indicated CURIes can be extracted or inferred by oaklib annotation, after removal of drag-stretch, auto-incremented CURIes",
   "id": "de29981308f4d74c"
  },
  {
   "cell_type": "code",
   "id": "916cfcc3c7aa0d34",
   "metadata": {
    "ExecuteTime": {
     "end_time": "2025-01-23T15:58:21.615020Z",
     "start_time": "2025-01-23T15:58:21.605294Z"
    }
   },
   "source": [
    "ncbi_biosample_scoped_counts"
   ],
   "outputs": [
    {
     "data": {
      "text/plain": [
       "              curie  ncbi_bioprojects_count\n",
       "0       BFO:0000029                      30\n",
       "1       CHEBI:15377                      13\n",
       "2       CHEBI:16183                       1\n",
       "3       CHEBI:16189                       4\n",
       "4       CHEBI:17632                       5\n",
       "..              ...                     ...\n",
       "742      RO:0001025                       3\n",
       "743      RO:0002577                       6\n",
       "744  UBERON:0000060                       1\n",
       "745  UBERON:0001988                       1\n",
       "746  UBERON:0002416                       9\n",
       "\n",
       "[747 rows x 2 columns]"
      ],
      "text/html": [
       "<div>\n",
       "<style scoped>\n",
       "    .dataframe tbody tr th:only-of-type {\n",
       "        vertical-align: middle;\n",
       "    }\n",
       "\n",
       "    .dataframe tbody tr th {\n",
       "        vertical-align: top;\n",
       "    }\n",
       "\n",
       "    .dataframe thead th {\n",
       "        text-align: right;\n",
       "    }\n",
       "</style>\n",
       "<table border=\"1\" class=\"dataframe\">\n",
       "  <thead>\n",
       "    <tr style=\"text-align: right;\">\n",
       "      <th></th>\n",
       "      <th>curie</th>\n",
       "      <th>ncbi_bioprojects_count</th>\n",
       "    </tr>\n",
       "  </thead>\n",
       "  <tbody>\n",
       "    <tr>\n",
       "      <th>0</th>\n",
       "      <td>BFO:0000029</td>\n",
       "      <td>30</td>\n",
       "    </tr>\n",
       "    <tr>\n",
       "      <th>1</th>\n",
       "      <td>CHEBI:15377</td>\n",
       "      <td>13</td>\n",
       "    </tr>\n",
       "    <tr>\n",
       "      <th>2</th>\n",
       "      <td>CHEBI:16183</td>\n",
       "      <td>1</td>\n",
       "    </tr>\n",
       "    <tr>\n",
       "      <th>3</th>\n",
       "      <td>CHEBI:16189</td>\n",
       "      <td>4</td>\n",
       "    </tr>\n",
       "    <tr>\n",
       "      <th>4</th>\n",
       "      <td>CHEBI:17632</td>\n",
       "      <td>5</td>\n",
       "    </tr>\n",
       "    <tr>\n",
       "      <th>...</th>\n",
       "      <td>...</td>\n",
       "      <td>...</td>\n",
       "    </tr>\n",
       "    <tr>\n",
       "      <th>742</th>\n",
       "      <td>RO:0001025</td>\n",
       "      <td>3</td>\n",
       "    </tr>\n",
       "    <tr>\n",
       "      <th>743</th>\n",
       "      <td>RO:0002577</td>\n",
       "      <td>6</td>\n",
       "    </tr>\n",
       "    <tr>\n",
       "      <th>744</th>\n",
       "      <td>UBERON:0000060</td>\n",
       "      <td>1</td>\n",
       "    </tr>\n",
       "    <tr>\n",
       "      <th>745</th>\n",
       "      <td>UBERON:0001988</td>\n",
       "      <td>1</td>\n",
       "    </tr>\n",
       "    <tr>\n",
       "      <th>746</th>\n",
       "      <td>UBERON:0002416</td>\n",
       "      <td>9</td>\n",
       "    </tr>\n",
       "  </tbody>\n",
       "</table>\n",
       "<p>747 rows × 2 columns</p>\n",
       "</div>"
      ]
     },
     "execution_count": 113,
     "metadata": {},
     "output_type": "execute_result"
    }
   ],
   "execution_count": 113
  },
  {
   "metadata": {},
   "cell_type": "markdown",
   "source": [
    "## GOLDTERMS mappings only approach\n",
    "\n",
    "we're currently including\n",
    "- mappings only\n",
    "\n",
    "and have retired the previous use of\n",
    "- mappings in hybrid with biosample counts\n",
    "\n",
    "And we're casting a wide net, especially for the hybrid approach\n",
    "- searching for 'soil', 'sediment' etc. in GOLDTERMS labels without anchoring them like 'Environmental > Aquatic > Sediment'\n",
    "- retrieving the CURIes for env_broad_scale, env_local_scale and env_medium for all voting sheets, and trusting orthogonal filtering to remove the inappropriate CURIes\n",
    "\n",
    "Should we now add (or switch to) direct biosample counts of GOLD \"envo\" annotations?\n",
    "\n",
    "Efficient retrieval of  all GOLD data in a given scope isn't easy"
   ],
   "id": "54ef0d1be4a1dea9"
  },
  {
   "metadata": {
    "ExecuteTime": {
     "end_time": "2025-01-23T15:58:21.654415Z",
     "start_time": "2025-01-23T15:58:21.650019Z"
    }
   },
   "cell_type": "code",
   "source": [
    "# Determine the filenames and target directory\n",
    "goldterms_compressed_filename = urlparse(goldterms_semsql_url).path.split('/')[-1]\n",
    "goldterms_filename = os.path.splitext(goldterms_compressed_filename)[0]\n",
    "target_dir = os.path.join(\"..\", \"..\")  # Two levels up\n",
    "\n",
    "# Print to confirm the filenames\n",
    "print(goldterms_filename)"
   ],
   "id": "40f8fc6862a817f3",
   "outputs": [
    {
     "name": "stdout",
     "output_type": "stream",
     "text": [
      "goldterms.db\n"
     ]
    }
   ],
   "execution_count": 114
  },
  {
   "metadata": {
    "ExecuteTime": {
     "end_time": "2025-01-23T15:58:22.192270Z",
     "start_time": "2025-01-23T15:58:21.796559Z"
    }
   },
   "cell_type": "code",
   "source": [
    "# Fetch the contents from the URL and save compressed file in target directory\n",
    "goldterms_response = requests.get(goldterms_semsql_url)\n",
    "goldterms_compressed_file_path = os.path.join(target_dir, goldterms_compressed_filename)\n",
    "with open(goldterms_compressed_file_path, \"wb\") as f:\n",
    "    f.write(goldterms_response.content)\n",
    "\n",
    "# ~ 1 second"
   ],
   "id": "784c07d7b6bee4c2",
   "outputs": [],
   "execution_count": 115
  },
  {
   "metadata": {
    "ExecuteTime": {
     "end_time": "2025-01-23T15:58:22.283493Z",
     "start_time": "2025-01-23T15:58:22.204027Z"
    }
   },
   "cell_type": "code",
   "source": [
    "# Unzip the compressed file and save the extracted file in target directory\n",
    "goldterms_uncompressed_file_path = os.path.join(target_dir, goldterms_filename)\n",
    "with gzip.open(goldterms_compressed_file_path, \"rb\") as f_in:\n",
    "    with open(goldterms_uncompressed_file_path, \"wb\") as f_out:\n",
    "        shutil.copyfileobj(f_in, f_out)\n",
    "\n",
    "# ~ 1 second"
   ],
   "id": "cd765130d59cd026",
   "outputs": [],
   "execution_count": 116
  },
  {
   "metadata": {
    "ExecuteTime": {
     "end_time": "2025-01-23T15:58:22.358381Z",
     "start_time": "2025-01-23T15:58:22.355789Z"
    }
   },
   "cell_type": "code",
   "source": "## that's all fast. don't bother caching",
   "id": "fd2fab3ddcf862ce",
   "outputs": [],
   "execution_count": 117
  },
  {
   "metadata": {
    "ExecuteTime": {
     "end_time": "2025-01-23T15:58:22.433467Z",
     "start_time": "2025-01-23T15:58:22.430014Z"
    }
   },
   "cell_type": "code",
   "source": "goldterms_conn = sqlite3.connect(goldterms_uncompressed_file_path)",
   "id": "dcf847a3c2ed302d",
   "outputs": [],
   "execution_count": 118
  },
  {
   "metadata": {
    "ExecuteTime": {
     "end_time": "2025-01-23T15:58:22.485236Z",
     "start_time": "2025-01-23T15:58:22.474730Z"
    }
   },
   "cell_type": "code",
   "source": "goldterms_result = pd.read_sql_query(extension_query, goldterms_conn)",
   "id": "beacc603e5db48b3",
   "outputs": [],
   "execution_count": 119
  },
  {
   "metadata": {
    "ExecuteTime": {
     "end_time": "2025-01-23T15:58:22.568599Z",
     "start_time": "2025-01-23T15:58:22.554022Z"
    }
   },
   "cell_type": "code",
   "source": "goldterms_result",
   "id": "85e373122e14f6dc",
   "outputs": [
    {
     "data": {
      "text/plain": [
       "                                   subject            predicate  \\\n",
       "0                           GOLDTERMS:3968       mixs:env_broad   \n",
       "1                           GOLDTERMS:3968      mixs:env_medium   \n",
       "2                           GOLDTERMS:3968  mixs:mixs_extension   \n",
       "3                           GOLDTERMS:3968           mixs:other   \n",
       "4                           GOLDTERMS:3968           rdfs:label   \n",
       "..                                     ...                  ...   \n",
       "244    GOLDVOCAB:Oil-contaminated-sediment           rdfs:label   \n",
       "245        GOLDVOCAB:Oil-refinery-sediment           rdfs:label   \n",
       "246  GOLDVOCAB:Reservoir-sediment-inoculum           rdfs:label   \n",
       "247          GOLDVOCAB:Salt-marsh-sediment           rdfs:label   \n",
       "248                     GOLDVOCAB:Sediment           rdfs:label   \n",
       "\n",
       "                                               content  \n",
       "0                                        ENVO:00002030  \n",
       "1                                        ENVO:00002007  \n",
       "2                                        mixs:Sediment  \n",
       "3                                         PATO:0001430  \n",
       "4    Environmental > Aquatic > Non-marine Saline an...  \n",
       "..                                                 ...  \n",
       "244                          Oil-contaminated sediment  \n",
       "245                              Oil refinery sediment  \n",
       "246                        Reservoir sediment inoculum  \n",
       "247                                Salt marsh sediment  \n",
       "248                                           Sediment  \n",
       "\n",
       "[249 rows x 3 columns]"
      ],
      "text/html": [
       "<div>\n",
       "<style scoped>\n",
       "    .dataframe tbody tr th:only-of-type {\n",
       "        vertical-align: middle;\n",
       "    }\n",
       "\n",
       "    .dataframe tbody tr th {\n",
       "        vertical-align: top;\n",
       "    }\n",
       "\n",
       "    .dataframe thead th {\n",
       "        text-align: right;\n",
       "    }\n",
       "</style>\n",
       "<table border=\"1\" class=\"dataframe\">\n",
       "  <thead>\n",
       "    <tr style=\"text-align: right;\">\n",
       "      <th></th>\n",
       "      <th>subject</th>\n",
       "      <th>predicate</th>\n",
       "      <th>content</th>\n",
       "    </tr>\n",
       "  </thead>\n",
       "  <tbody>\n",
       "    <tr>\n",
       "      <th>0</th>\n",
       "      <td>GOLDTERMS:3968</td>\n",
       "      <td>mixs:env_broad</td>\n",
       "      <td>ENVO:00002030</td>\n",
       "    </tr>\n",
       "    <tr>\n",
       "      <th>1</th>\n",
       "      <td>GOLDTERMS:3968</td>\n",
       "      <td>mixs:env_medium</td>\n",
       "      <td>ENVO:00002007</td>\n",
       "    </tr>\n",
       "    <tr>\n",
       "      <th>2</th>\n",
       "      <td>GOLDTERMS:3968</td>\n",
       "      <td>mixs:mixs_extension</td>\n",
       "      <td>mixs:Sediment</td>\n",
       "    </tr>\n",
       "    <tr>\n",
       "      <th>3</th>\n",
       "      <td>GOLDTERMS:3968</td>\n",
       "      <td>mixs:other</td>\n",
       "      <td>PATO:0001430</td>\n",
       "    </tr>\n",
       "    <tr>\n",
       "      <th>4</th>\n",
       "      <td>GOLDTERMS:3968</td>\n",
       "      <td>rdfs:label</td>\n",
       "      <td>Environmental &gt; Aquatic &gt; Non-marine Saline an...</td>\n",
       "    </tr>\n",
       "    <tr>\n",
       "      <th>...</th>\n",
       "      <td>...</td>\n",
       "      <td>...</td>\n",
       "      <td>...</td>\n",
       "    </tr>\n",
       "    <tr>\n",
       "      <th>244</th>\n",
       "      <td>GOLDVOCAB:Oil-contaminated-sediment</td>\n",
       "      <td>rdfs:label</td>\n",
       "      <td>Oil-contaminated sediment</td>\n",
       "    </tr>\n",
       "    <tr>\n",
       "      <th>245</th>\n",
       "      <td>GOLDVOCAB:Oil-refinery-sediment</td>\n",
       "      <td>rdfs:label</td>\n",
       "      <td>Oil refinery sediment</td>\n",
       "    </tr>\n",
       "    <tr>\n",
       "      <th>246</th>\n",
       "      <td>GOLDVOCAB:Reservoir-sediment-inoculum</td>\n",
       "      <td>rdfs:label</td>\n",
       "      <td>Reservoir sediment inoculum</td>\n",
       "    </tr>\n",
       "    <tr>\n",
       "      <th>247</th>\n",
       "      <td>GOLDVOCAB:Salt-marsh-sediment</td>\n",
       "      <td>rdfs:label</td>\n",
       "      <td>Salt marsh sediment</td>\n",
       "    </tr>\n",
       "    <tr>\n",
       "      <th>248</th>\n",
       "      <td>GOLDVOCAB:Sediment</td>\n",
       "      <td>rdfs:label</td>\n",
       "      <td>Sediment</td>\n",
       "    </tr>\n",
       "  </tbody>\n",
       "</table>\n",
       "<p>249 rows × 3 columns</p>\n",
       "</div>"
      ]
     },
     "execution_count": 120,
     "metadata": {},
     "output_type": "execute_result"
    }
   ],
   "execution_count": 120
  },
  {
   "metadata": {
    "ExecuteTime": {
     "end_time": "2025-01-23T15:58:30.137558Z",
     "start_time": "2025-01-23T15:58:30.134735Z"
    }
   },
   "cell_type": "code",
   "source": [
    "# # todo: save this kind of content before subsetting on an environment\n",
    "# #   the subsetting is currently baked into the query\n",
    "# \n",
    "# # see also goldterms_queries.ipynb in MAM's Collab\n",
    "# goldterms_result.to_csv(\"goldterms_single_environment_mappings_long.tsv\", sep=\"\\t\", index=False)"
   ],
   "id": "859a87109b08d83c",
   "outputs": [],
   "execution_count": 121
  },
  {
   "metadata": {
    "ExecuteTime": {
     "end_time": "2025-01-23T15:58:30.197537Z",
     "start_time": "2025-01-23T15:58:30.193428Z"
    }
   },
   "cell_type": "code",
   "source": "goldterms_only_curies = goldterms_result.loc[goldterms_result['predicate'].isin(gold_context_selectors), 'content']\n",
   "id": "391d1fb9314d4b0b",
   "outputs": [],
   "execution_count": 122
  },
  {
   "metadata": {
    "ExecuteTime": {
     "end_time": "2025-01-23T15:58:30.246748Z",
     "start_time": "2025-01-23T15:58:30.243532Z"
    }
   },
   "cell_type": "code",
   "source": "goldterms_only_curies = goldterms_only_curies.unique().tolist()",
   "id": "b5621477ccaaa761",
   "outputs": [],
   "execution_count": 123
  },
  {
   "metadata": {
    "ExecuteTime": {
     "end_time": "2025-01-23T15:58:30.300453Z",
     "start_time": "2025-01-23T15:58:30.296573Z"
    }
   },
   "cell_type": "code",
   "source": "# goldterms_only_curies",
   "id": "70238d1c8e144cc3",
   "outputs": [],
   "execution_count": 124
  },
  {
   "metadata": {},
   "cell_type": "markdown",
   "source": [
    "# Make lists of CURIEs\n",
    "which will determine\n",
    "- the rows in the table\n",
    "- the boolean filter columns"
   ],
   "id": "8541580a525201e3"
  },
  {
   "metadata": {},
   "cell_type": "markdown",
   "source": "this next block got a lot slower when I switched from the envo adapter to the aggregated adapter",
   "id": "5d62d7ef3088dfef"
  },
  {
   "metadata": {
    "ExecuteTime": {
     "end_time": "2025-01-23T15:58:36.171513Z",
     "start_time": "2025-01-23T15:58:36.168439Z"
    }
   },
   "cell_type": "code",
   "source": "anchor_curies = list(anchor_descendants_frame['curie'])\n",
   "id": "e9d884b388a37e32",
   "outputs": [],
   "execution_count": 125
  },
  {
   "metadata": {
    "ExecuteTime": {
     "end_time": "2025-01-23T15:58:41.866317Z",
     "start_time": "2025-01-23T15:58:41.863488Z"
    }
   },
   "cell_type": "code",
   "source": "legacy_pv_curies = [i['curie'] for i in pv_validation_results['valids']]",
   "id": "14ebd4371eb0e8ec",
   "outputs": [],
   "execution_count": 126
  },
  {
   "metadata": {
    "ExecuteTime": {
     "end_time": "2025-01-23T15:58:47.499582Z",
     "start_time": "2025-01-23T15:58:47.486742Z"
    }
   },
   "cell_type": "code",
   "source": [
    "obsoletes_curies_envo = set(envo_adapter.obsoletes())\n",
    "obsoletes_curies_po = set(po_adapter.obsoletes())\n",
    "obsoletes_curies = list(obsoletes_curies_envo.union(obsoletes_curies_po))"
   ],
   "id": "71f56d6964717f8e",
   "outputs": [],
   "execution_count": 127
  },
  {
   "metadata": {
    "ExecuteTime": {
     "end_time": "2025-01-23T15:58:54.358585Z",
     "start_time": "2025-01-23T15:58:53.769131Z"
    }
   },
   "cell_type": "code",
   "source": [
    "abp_curies = list(envo_adapter.descendants(ABP, predicates=[IS_A]))\n",
    "aquatic_biome_curies = list(envo_adapter.descendants(AQUATIC_BIOME, predicates=[IS_A]))\n",
    "biome_curies = list(envo_adapter.descendants(BIOME, predicates=[IS_A]))  # \n",
    "building_curies = list(envo_adapter.descendants(BUILDING, predicates=[IS_A]))  #\n",
    "building_part_curies = list(envo_adapter.descendants(BUILDING_PART, predicates=[IS_A]))  #\n",
    "env_mat_curies = list(envo_adapter.descendants(ENVIRONMENTAL_MATERIAL, predicates=[IS_A]))\n",
    "env_sys_curies = list(envo_adapter.descendants(ENVIRONMENTAL_SYSTEM, predicates=[IS_A]))\n",
    "env_sys_curies = list(envo_adapter.descendants(ENVIRONMENTAL_SYSTEM, predicates=[IS_A]))\n",
    "human_construction_curies = list(envo_adapter.descendants(HUMAN_CONSTRUCTION, predicates=[IS_A]))  #\n",
    "liquid_water_curies = list(envo_adapter.descendants(LIQUID_WATER, predicates=[IS_A]))  # \n",
    "marine_biome_curies = list(envo_adapter.descendants(MARINE_BIOME, predicates=[IS_A]))\n",
    "mass_of_environmental_material_curies = list(envo_adapter.descendants(MASS_OF_ENVIRONMENTAL_MATERIAL, predicates=[IS_A]))  #\n",
    "plant_structure_curies = list(po_adapter.descendants(PLANT_STRUCTURE, predicates=[IS_A]))\n",
    "snow_curies = list(envo_adapter.descendants(SNOW, predicates=[IS_A]))  #\n",
    "soil_curies = list(envo_adapter.descendants(SOIL, predicates=[IS_A]))  #\n",
    "terrestrial_biome_curies = list(envo_adapter.descendants(TERRESTRIAL_BIOME, predicates=[IS_A]))\n",
    "vegetation_layer_curies = list(envo_adapter.descendants(VEGETATION_LAYER, predicates=[IS_A]))  #\n",
    "water_ice_curies = list(envo_adapter.descendants(WATER_ICE, predicates=[IS_A]))  #\n",
    "sediment_curies = list(envo_adapter.descendants(SEDIMENT, predicates=[IS_A]))  #\n"
   ],
   "id": "beb69545a9255099",
   "outputs": [],
   "execution_count": 128
  },
  {
   "metadata": {
    "ExecuteTime": {
     "end_time": "2025-01-23T15:58:59.954642Z",
     "start_time": "2025-01-23T15:58:59.947889Z"
    }
   },
   "cell_type": "code",
   "source": [
    "# Specify an output file name\n",
    "nlcd2011_class_iris_file = \"nlcd2011_class_iris.txt\"\n",
    "\n",
    "nlcd_subset_textual_representation = \"nlcd2011\"\n",
    "\n",
    "in_subset_curie = \"oio:inSubset\"\n",
    "\n",
    "# Initialize nlcd_classes\n",
    "nlcd_classes = []\n",
    "\n",
    "if os.path.exists(nlcd2011_class_iris_file):\n",
    "    # Load the list from the file if it exists\n",
    "    print(f\"Loading {nlcd_subset_textual_representation} classes from {nlcd2011_class_iris_file}...\")\n",
    "    with open(nlcd2011_class_iris_file, \"r\") as file:\n",
    "        nlcd_classes = [line.strip() for line in file.readlines()]\n",
    "else:\n",
    "    # File doesn't exist; generate the list using the loop\n",
    "    print(\n",
    "        f\"{nlcd2011_class_iris_file} not found. Identifying classes in {nlcd_subset_textual_representation} subset (~2 minutes)...\")\n",
    "\n",
    "    # Retrieve all classes\n",
    "    entities = envo_adapter.entities()\n",
    "\n",
    "    # super slow 2 minutes\n",
    "    # but retrieving classes by named subset seems to crash on EnvO with its textual subsets?\n",
    "    for entity in entities:\n",
    "        term_metadata = envo_adapter.entity_metadata_map(entity)\n",
    "        if in_subset_curie in term_metadata:\n",
    "            subsets = term_metadata[in_subset_curie]\n",
    "            if nlcd_subset_textual_representation in subsets:\n",
    "                nlcd_classes.append(entity)\n",
    "\n",
    "    # Save the generated list to the file\n",
    "    with open(nlcd2011_class_iris_file, \"w\") as file:\n",
    "        for string in nlcd_classes:\n",
    "            file.write(string + \"\\n\")\n",
    "\n",
    "    print(f\"List saved to {nlcd2011_class_iris_file}\")\n",
    "\n",
    "# At this point, nlcd_classes contains the desired list\n",
    "print(f\"Total {nlcd_subset_textual_representation} classes loaded: {len(nlcd_classes)}\")\n"
   ],
   "id": "f863c6e4a8e77c74",
   "outputs": [
    {
     "name": "stdout",
     "output_type": "stream",
     "text": [
      "Loading nlcd2011 classes from nlcd2011_class_iris.txt...\n",
      "Total nlcd2011 classes loaded: 22\n"
     ]
    }
   ],
   "execution_count": 129
  },
  {
   "metadata": {},
   "cell_type": "markdown",
   "source": "## Bootstrap the rows",
   "id": "1318a3f163d8cb19"
  },
  {
   "metadata": {
    "ExecuteTime": {
     "end_time": "2025-01-23T15:59:05.337690Z",
     "start_time": "2025-01-23T15:59:05.334779Z"
    }
   },
   "cell_type": "code",
   "source": "include_in_rows = set()",
   "id": "20a9dcc52b995762",
   "outputs": [],
   "execution_count": 130
  },
  {
   "metadata": {
    "ExecuteTime": {
     "end_time": "2025-01-23T15:59:10.623732Z",
     "start_time": "2025-01-23T15:59:10.605993Z"
    }
   },
   "cell_type": "code",
   "source": [
    "include_in_rows.update(anchor_curies)\n",
    "include_in_rows.update(goldterms_only_curies)\n",
    "include_in_rows.update(legacy_pv_curies)\n",
    "include_in_rows.update(ncbi_frame['extracted_curie'])\n",
    "include_in_rows.update(ncbi_frame['longest_annotation_curie'])\n",
    "include_in_rows.update(nlcd_classes)\n",
    "include_in_rows.update(nmdc_biosample_contexts_frame[nmdc_context_selector])"
   ],
   "id": "264ce97c82c656c4",
   "outputs": [],
   "execution_count": 131
  },
  {
   "metadata": {
    "ExecuteTime": {
     "end_time": "2025-01-23T15:59:16.509984Z",
     "start_time": "2025-01-23T15:59:16.507190Z"
    }
   },
   "cell_type": "code",
   "source": "rows_lod = []",
   "id": "f7a6fb9413f45298",
   "outputs": [],
   "execution_count": 132
  },
  {
   "metadata": {},
   "cell_type": "markdown",
   "source": "# Voting sheet rows and boolean columns",
   "id": "d0c9c7c730c8308a"
  },
  {
   "metadata": {
    "ExecuteTime": {
     "end_time": "2025-01-23T15:59:28.430962Z",
     "start_time": "2025-01-23T15:59:27.451495Z"
    }
   },
   "cell_type": "code",
   "source": [
    "for curie in include_in_rows:\n",
    "    if curie is None:\n",
    "        continue\n",
    "\n",
    "    # ONCE AGAIN, assuming that EnvO is the only ontology we'll check against\n",
    "    current_ancestors = [\n",
    "        list(ancestor.keys())[0] for ancestor in envo_ancs_cache.get(curie, [])\n",
    "    ]\n",
    "    ancestors_in_enum_count = len(set(current_ancestors) & set(legacy_pv_curies))\n",
    "\n",
    "    current_descendants = [\n",
    "        list(descendant.keys())[0] for descendant in envo_descs_cache.get(curie, [])\n",
    "    ]\n",
    "    descendants_in_enum_count = len(set(current_descendants) & set(legacy_pv_curies))\n",
    "\n",
    "    row = {\n",
    "        'curie': curie,\n",
    "        'claimed_prefix': curie.split(':')[0],\n",
    "        'label': aggregated_text_annotator_interface.label(curie),\n",
    "        'envo_native': False,\n",
    "        'obsolete': False,\n",
    "        comparison_enum_column_name: False,\n",
    "        'ancestors_in_enum_count': ancestors_in_enum_count,\n",
    "        'descendants_in_enum_count': descendants_in_enum_count,\n",
    "        'nlcd_class': False,\n",
    "        'abp': False,\n",
    "        'env_sys': False,\n",
    "        'biome': False,\n",
    "        'terrestrial_biome': False,\n",
    "        'aquatic_biome': False,\n",
    "        'marine_biome': False,\n",
    "        'env_mat': False,\n",
    "        'soil': False,\n",
    "        'liquid water': False,\n",
    "        'water ice': False,\n",
    "        'snow': False,\n",
    "        'sediment': False,\n",
    "        'mass_of_environmental_material': False,\n",
    "        'human_construction': False,\n",
    "        'building': False,\n",
    "        'building_part': False,\n",
    "        'plant_structure': False,\n",
    "        'vegetation_layer': False,\n",
    "        'goldterms_mappings': False,\n",
    "    }\n",
    "\n",
    "    if curie in abp_curies: row['abp'] = True\n",
    "    if curie in aquatic_biome_curies: row['aquatic_biome'] = True\n",
    "    if curie in biome_curies: row['biome'] = True\n",
    "    if curie in building_curies: row['building'] = True\n",
    "    if curie in building_part_curies: row['building_part'] = True\n",
    "    if curie in env_mat_curies: row['env_mat'] = True\n",
    "    if curie in env_sys_curies: row['env_sys'] = True\n",
    "    if curie in goldterms_only_curies: row['goldterms_mappings'] = True\n",
    "    if curie in human_construction_curies: row['human_construction'] = True\n",
    "    if curie in legacy_pv_curies: row[comparison_enum_column_name] = True\n",
    "    if curie in liquid_water_curies: row['liquid water'] = True\n",
    "    if curie in marine_biome_curies: row['marine_biome'] = True\n",
    "    if curie in mass_of_environmental_material_curies: row['mass_of_environmental_material'] = True\n",
    "    if curie in nlcd_classes: row['nlcd_class'] = True\n",
    "    if curie in obsoletes_curies: row['obsolete'] = True\n",
    "    if curie in plant_structure_curies: row['plant_structure'] = True\n",
    "    if curie in sediment_curies: row['sediment'] = True\n",
    "    if curie in snow_curies: row['snow'] = True\n",
    "    if curie in soil_curies: row['soil'] = True\n",
    "    if curie in terrestrial_biome_curies: row['terrestrial_biome'] = True\n",
    "    if curie in vegetation_layer_curies: row['vegetation_layer'] = True\n",
    "    if curie in water_ice_curies: row['water ice'] = True\n",
    "\n",
    "    try:\n",
    "        prefix, local_id = curie.split(':')\n",
    "        if prefix and prefix == 'ENVO' and row['label'] is not None:\n",
    "            row['envo_native'] = True\n",
    "    except Exception as e:\n",
    "        # Print the exception message\n",
    "        print(f\"An error occurred: {e} trying to split {curie}\")\n",
    "\n",
    "    rows_lod.append(row)\n",
    "\n",
    "# 2 minutes\n"
   ],
   "id": "32f278db05c57616",
   "outputs": [],
   "execution_count": 133
  },
  {
   "metadata": {},
   "cell_type": "markdown",
   "source": "# ^ Voting sheet rows and boolean columns",
   "id": "f77fce51b7fd116d"
  },
  {
   "metadata": {
    "ExecuteTime": {
     "end_time": "2025-01-23T15:59:28.492337Z",
     "start_time": "2025-01-23T15:59:28.481610Z"
    }
   },
   "cell_type": "code",
   "source": "rows_frame = pd.DataFrame(rows_lod)",
   "id": "26bb62d21192288f",
   "outputs": [],
   "execution_count": 134
  },
  {
   "metadata": {
    "ExecuteTime": {
     "end_time": "2025-01-23T15:59:34.704381Z",
     "start_time": "2025-01-23T15:59:34.686448Z"
    }
   },
   "cell_type": "code",
   "source": "rows_frame",
   "id": "4db3ebadb8a07a50",
   "outputs": [
    {
     "data": {
      "text/plain": [
       "                curie claimed_prefix                                  label  \\\n",
       "0     FOODON:03400187         FOODON                natural cheese (us cfr)   \n",
       "1       ENVO:01001514           ENVO  congelation ice in a fresh water body   \n",
       "2       ENVO:02000101           ENVO                           fibrous dust   \n",
       "3       ENVO:00000020           ENVO                                   lake   \n",
       "4       ENVO:01001888           ENVO                          calcic spring   \n",
       "...               ...            ...                                    ...   \n",
       "1879    ENVO:00000428           ENVO                                  biome   \n",
       "1880    ENVO:00000495           ENVO                              tributary   \n",
       "1881    ENVO:03501208           ENVO                               air vent   \n",
       "1882    ENVO:06105211           ENVO                                 runoff   \n",
       "1883    ENVO:00000002           ENVO       anthropogenic geographic feature   \n",
       "\n",
       "      envo_native  obsolete  EnvMediumSoilEnum_11_1  ancestors_in_enum_count  \\\n",
       "0           False     False                   False                        0   \n",
       "1            True     False                   False                        0   \n",
       "2            True     False                   False                        0   \n",
       "3            True     False                   False                        0   \n",
       "4            True     False                   False                        0   \n",
       "...           ...       ...                     ...                      ...   \n",
       "1879         True     False                   False                        0   \n",
       "1880         True     False                   False                        0   \n",
       "1881         True     False                   False                        0   \n",
       "1882         True     False                   False                        0   \n",
       "1883         True     False                   False                        0   \n",
       "\n",
       "      descendants_in_enum_count  nlcd_class    abp  ...  water ice   snow  \\\n",
       "0                             0       False  False  ...      False  False   \n",
       "1                             0       False  False  ...       True  False   \n",
       "2                             0       False  False  ...      False  False   \n",
       "3                             0       False   True  ...      False  False   \n",
       "4                             0       False   True  ...      False  False   \n",
       "...                         ...         ...    ...  ...        ...    ...   \n",
       "1879                         10       False   True  ...      False  False   \n",
       "1880                          0       False   True  ...      False  False   \n",
       "1881                          0       False  False  ...      False  False   \n",
       "1882                          0       False  False  ...      False  False   \n",
       "1883                          3       False   True  ...      False  False   \n",
       "\n",
       "      sediment  mass_of_environmental_material  human_construction  building  \\\n",
       "0        False                           False               False     False   \n",
       "1        False                           False               False     False   \n",
       "2        False                           False               False     False   \n",
       "3        False                           False               False     False   \n",
       "4        False                           False               False     False   \n",
       "...        ...                             ...                 ...       ...   \n",
       "1879     False                           False               False     False   \n",
       "1880     False                           False               False     False   \n",
       "1881     False                           False               False     False   \n",
       "1882     False                           False               False     False   \n",
       "1883     False                           False               False     False   \n",
       "\n",
       "      building_part  plant_structure  vegetation_layer  goldterms_mappings  \n",
       "0             False            False             False               False  \n",
       "1             False            False             False               False  \n",
       "2             False            False             False               False  \n",
       "3             False            False             False                True  \n",
       "4             False            False             False               False  \n",
       "...             ...              ...               ...                 ...  \n",
       "1879          False            False             False               False  \n",
       "1880          False            False             False               False  \n",
       "1881          False            False             False               False  \n",
       "1882          False            False             False               False  \n",
       "1883          False            False             False               False  \n",
       "\n",
       "[1884 rows x 28 columns]"
      ],
      "text/html": [
       "<div>\n",
       "<style scoped>\n",
       "    .dataframe tbody tr th:only-of-type {\n",
       "        vertical-align: middle;\n",
       "    }\n",
       "\n",
       "    .dataframe tbody tr th {\n",
       "        vertical-align: top;\n",
       "    }\n",
       "\n",
       "    .dataframe thead th {\n",
       "        text-align: right;\n",
       "    }\n",
       "</style>\n",
       "<table border=\"1\" class=\"dataframe\">\n",
       "  <thead>\n",
       "    <tr style=\"text-align: right;\">\n",
       "      <th></th>\n",
       "      <th>curie</th>\n",
       "      <th>claimed_prefix</th>\n",
       "      <th>label</th>\n",
       "      <th>envo_native</th>\n",
       "      <th>obsolete</th>\n",
       "      <th>EnvMediumSoilEnum_11_1</th>\n",
       "      <th>ancestors_in_enum_count</th>\n",
       "      <th>descendants_in_enum_count</th>\n",
       "      <th>nlcd_class</th>\n",
       "      <th>abp</th>\n",
       "      <th>...</th>\n",
       "      <th>water ice</th>\n",
       "      <th>snow</th>\n",
       "      <th>sediment</th>\n",
       "      <th>mass_of_environmental_material</th>\n",
       "      <th>human_construction</th>\n",
       "      <th>building</th>\n",
       "      <th>building_part</th>\n",
       "      <th>plant_structure</th>\n",
       "      <th>vegetation_layer</th>\n",
       "      <th>goldterms_mappings</th>\n",
       "    </tr>\n",
       "  </thead>\n",
       "  <tbody>\n",
       "    <tr>\n",
       "      <th>0</th>\n",
       "      <td>FOODON:03400187</td>\n",
       "      <td>FOODON</td>\n",
       "      <td>natural cheese (us cfr)</td>\n",
       "      <td>False</td>\n",
       "      <td>False</td>\n",
       "      <td>False</td>\n",
       "      <td>0</td>\n",
       "      <td>0</td>\n",
       "      <td>False</td>\n",
       "      <td>False</td>\n",
       "      <td>...</td>\n",
       "      <td>False</td>\n",
       "      <td>False</td>\n",
       "      <td>False</td>\n",
       "      <td>False</td>\n",
       "      <td>False</td>\n",
       "      <td>False</td>\n",
       "      <td>False</td>\n",
       "      <td>False</td>\n",
       "      <td>False</td>\n",
       "      <td>False</td>\n",
       "    </tr>\n",
       "    <tr>\n",
       "      <th>1</th>\n",
       "      <td>ENVO:01001514</td>\n",
       "      <td>ENVO</td>\n",
       "      <td>congelation ice in a fresh water body</td>\n",
       "      <td>True</td>\n",
       "      <td>False</td>\n",
       "      <td>False</td>\n",
       "      <td>0</td>\n",
       "      <td>0</td>\n",
       "      <td>False</td>\n",
       "      <td>False</td>\n",
       "      <td>...</td>\n",
       "      <td>True</td>\n",
       "      <td>False</td>\n",
       "      <td>False</td>\n",
       "      <td>False</td>\n",
       "      <td>False</td>\n",
       "      <td>False</td>\n",
       "      <td>False</td>\n",
       "      <td>False</td>\n",
       "      <td>False</td>\n",
       "      <td>False</td>\n",
       "    </tr>\n",
       "    <tr>\n",
       "      <th>2</th>\n",
       "      <td>ENVO:02000101</td>\n",
       "      <td>ENVO</td>\n",
       "      <td>fibrous dust</td>\n",
       "      <td>True</td>\n",
       "      <td>False</td>\n",
       "      <td>False</td>\n",
       "      <td>0</td>\n",
       "      <td>0</td>\n",
       "      <td>False</td>\n",
       "      <td>False</td>\n",
       "      <td>...</td>\n",
       "      <td>False</td>\n",
       "      <td>False</td>\n",
       "      <td>False</td>\n",
       "      <td>False</td>\n",
       "      <td>False</td>\n",
       "      <td>False</td>\n",
       "      <td>False</td>\n",
       "      <td>False</td>\n",
       "      <td>False</td>\n",
       "      <td>False</td>\n",
       "    </tr>\n",
       "    <tr>\n",
       "      <th>3</th>\n",
       "      <td>ENVO:00000020</td>\n",
       "      <td>ENVO</td>\n",
       "      <td>lake</td>\n",
       "      <td>True</td>\n",
       "      <td>False</td>\n",
       "      <td>False</td>\n",
       "      <td>0</td>\n",
       "      <td>0</td>\n",
       "      <td>False</td>\n",
       "      <td>True</td>\n",
       "      <td>...</td>\n",
       "      <td>False</td>\n",
       "      <td>False</td>\n",
       "      <td>False</td>\n",
       "      <td>False</td>\n",
       "      <td>False</td>\n",
       "      <td>False</td>\n",
       "      <td>False</td>\n",
       "      <td>False</td>\n",
       "      <td>False</td>\n",
       "      <td>True</td>\n",
       "    </tr>\n",
       "    <tr>\n",
       "      <th>4</th>\n",
       "      <td>ENVO:01001888</td>\n",
       "      <td>ENVO</td>\n",
       "      <td>calcic spring</td>\n",
       "      <td>True</td>\n",
       "      <td>False</td>\n",
       "      <td>False</td>\n",
       "      <td>0</td>\n",
       "      <td>0</td>\n",
       "      <td>False</td>\n",
       "      <td>True</td>\n",
       "      <td>...</td>\n",
       "      <td>False</td>\n",
       "      <td>False</td>\n",
       "      <td>False</td>\n",
       "      <td>False</td>\n",
       "      <td>False</td>\n",
       "      <td>False</td>\n",
       "      <td>False</td>\n",
       "      <td>False</td>\n",
       "      <td>False</td>\n",
       "      <td>False</td>\n",
       "    </tr>\n",
       "    <tr>\n",
       "      <th>...</th>\n",
       "      <td>...</td>\n",
       "      <td>...</td>\n",
       "      <td>...</td>\n",
       "      <td>...</td>\n",
       "      <td>...</td>\n",
       "      <td>...</td>\n",
       "      <td>...</td>\n",
       "      <td>...</td>\n",
       "      <td>...</td>\n",
       "      <td>...</td>\n",
       "      <td>...</td>\n",
       "      <td>...</td>\n",
       "      <td>...</td>\n",
       "      <td>...</td>\n",
       "      <td>...</td>\n",
       "      <td>...</td>\n",
       "      <td>...</td>\n",
       "      <td>...</td>\n",
       "      <td>...</td>\n",
       "      <td>...</td>\n",
       "      <td>...</td>\n",
       "    </tr>\n",
       "    <tr>\n",
       "      <th>1879</th>\n",
       "      <td>ENVO:00000428</td>\n",
       "      <td>ENVO</td>\n",
       "      <td>biome</td>\n",
       "      <td>True</td>\n",
       "      <td>False</td>\n",
       "      <td>False</td>\n",
       "      <td>0</td>\n",
       "      <td>10</td>\n",
       "      <td>False</td>\n",
       "      <td>True</td>\n",
       "      <td>...</td>\n",
       "      <td>False</td>\n",
       "      <td>False</td>\n",
       "      <td>False</td>\n",
       "      <td>False</td>\n",
       "      <td>False</td>\n",
       "      <td>False</td>\n",
       "      <td>False</td>\n",
       "      <td>False</td>\n",
       "      <td>False</td>\n",
       "      <td>False</td>\n",
       "    </tr>\n",
       "    <tr>\n",
       "      <th>1880</th>\n",
       "      <td>ENVO:00000495</td>\n",
       "      <td>ENVO</td>\n",
       "      <td>tributary</td>\n",
       "      <td>True</td>\n",
       "      <td>False</td>\n",
       "      <td>False</td>\n",
       "      <td>0</td>\n",
       "      <td>0</td>\n",
       "      <td>False</td>\n",
       "      <td>True</td>\n",
       "      <td>...</td>\n",
       "      <td>False</td>\n",
       "      <td>False</td>\n",
       "      <td>False</td>\n",
       "      <td>False</td>\n",
       "      <td>False</td>\n",
       "      <td>False</td>\n",
       "      <td>False</td>\n",
       "      <td>False</td>\n",
       "      <td>False</td>\n",
       "      <td>False</td>\n",
       "    </tr>\n",
       "    <tr>\n",
       "      <th>1881</th>\n",
       "      <td>ENVO:03501208</td>\n",
       "      <td>ENVO</td>\n",
       "      <td>air vent</td>\n",
       "      <td>True</td>\n",
       "      <td>False</td>\n",
       "      <td>False</td>\n",
       "      <td>0</td>\n",
       "      <td>0</td>\n",
       "      <td>False</td>\n",
       "      <td>False</td>\n",
       "      <td>...</td>\n",
       "      <td>False</td>\n",
       "      <td>False</td>\n",
       "      <td>False</td>\n",
       "      <td>False</td>\n",
       "      <td>False</td>\n",
       "      <td>False</td>\n",
       "      <td>False</td>\n",
       "      <td>False</td>\n",
       "      <td>False</td>\n",
       "      <td>False</td>\n",
       "    </tr>\n",
       "    <tr>\n",
       "      <th>1882</th>\n",
       "      <td>ENVO:06105211</td>\n",
       "      <td>ENVO</td>\n",
       "      <td>runoff</td>\n",
       "      <td>True</td>\n",
       "      <td>False</td>\n",
       "      <td>False</td>\n",
       "      <td>0</td>\n",
       "      <td>0</td>\n",
       "      <td>False</td>\n",
       "      <td>False</td>\n",
       "      <td>...</td>\n",
       "      <td>False</td>\n",
       "      <td>False</td>\n",
       "      <td>False</td>\n",
       "      <td>False</td>\n",
       "      <td>False</td>\n",
       "      <td>False</td>\n",
       "      <td>False</td>\n",
       "      <td>False</td>\n",
       "      <td>False</td>\n",
       "      <td>False</td>\n",
       "    </tr>\n",
       "    <tr>\n",
       "      <th>1883</th>\n",
       "      <td>ENVO:00000002</td>\n",
       "      <td>ENVO</td>\n",
       "      <td>anthropogenic geographic feature</td>\n",
       "      <td>True</td>\n",
       "      <td>False</td>\n",
       "      <td>False</td>\n",
       "      <td>0</td>\n",
       "      <td>3</td>\n",
       "      <td>False</td>\n",
       "      <td>True</td>\n",
       "      <td>...</td>\n",
       "      <td>False</td>\n",
       "      <td>False</td>\n",
       "      <td>False</td>\n",
       "      <td>False</td>\n",
       "      <td>False</td>\n",
       "      <td>False</td>\n",
       "      <td>False</td>\n",
       "      <td>False</td>\n",
       "      <td>False</td>\n",
       "      <td>False</td>\n",
       "    </tr>\n",
       "  </tbody>\n",
       "</table>\n",
       "<p>1884 rows × 28 columns</p>\n",
       "</div>"
      ]
     },
     "execution_count": 135,
     "metadata": {},
     "output_type": "execute_result"
    }
   ],
   "execution_count": 135
  },
  {
   "metadata": {},
   "cell_type": "markdown",
   "source": "# Merge in NMDC counts",
   "id": "8f7c4b1d95722568"
  },
  {
   "metadata": {
    "ExecuteTime": {
     "end_time": "2025-01-23T15:59:40.663948Z",
     "start_time": "2025-01-23T15:59:40.659329Z"
    }
   },
   "cell_type": "code",
   "source": [
    "nmdc_biosample_scoped_counts = nmdc_biosample_contexts_frame[nmdc_context_selector].value_counts().reset_index()\n",
    "# todo parameterize the column name based on what what really counter (generally biosamples or studies)\n",
    "nmdc_biosample_scoped_counts.columns = ['curie', 'nmdc_biosamples_count']\n"
   ],
   "id": "88ebf6f76c2e0545",
   "outputs": [],
   "execution_count": 136
  },
  {
   "metadata": {
    "ExecuteTime": {
     "end_time": "2025-01-23T15:59:40.751264Z",
     "start_time": "2025-01-23T15:59:40.743803Z"
    }
   },
   "cell_type": "code",
   "source": "nmdc_biosample_scoped_counts",
   "id": "85789ece9ec4ddd6",
   "outputs": [
    {
     "data": {
      "text/plain": [
       "           curie  nmdc_biosamples_count\n",
       "0  ENVO:00002007                    165"
      ],
      "text/html": [
       "<div>\n",
       "<style scoped>\n",
       "    .dataframe tbody tr th:only-of-type {\n",
       "        vertical-align: middle;\n",
       "    }\n",
       "\n",
       "    .dataframe tbody tr th {\n",
       "        vertical-align: top;\n",
       "    }\n",
       "\n",
       "    .dataframe thead th {\n",
       "        text-align: right;\n",
       "    }\n",
       "</style>\n",
       "<table border=\"1\" class=\"dataframe\">\n",
       "  <thead>\n",
       "    <tr style=\"text-align: right;\">\n",
       "      <th></th>\n",
       "      <th>curie</th>\n",
       "      <th>nmdc_biosamples_count</th>\n",
       "    </tr>\n",
       "  </thead>\n",
       "  <tbody>\n",
       "    <tr>\n",
       "      <th>0</th>\n",
       "      <td>ENVO:00002007</td>\n",
       "      <td>165</td>\n",
       "    </tr>\n",
       "  </tbody>\n",
       "</table>\n",
       "</div>"
      ]
     },
     "execution_count": 137,
     "metadata": {},
     "output_type": "execute_result"
    }
   ],
   "execution_count": 137
  },
  {
   "metadata": {
    "ExecuteTime": {
     "end_time": "2025-01-23T15:59:40.815287Z",
     "start_time": "2025-01-23T15:59:40.808375Z"
    }
   },
   "cell_type": "code",
   "source": [
    "# Perform the left merge\n",
    "rows_frame = rows_frame.merge(\n",
    "    nmdc_biosample_scoped_counts,\n",
    "    left_on='curie',\n",
    "    right_on='curie',\n",
    "    how='left'\n",
    ")"
   ],
   "id": "329203aecb25f598",
   "outputs": [],
   "execution_count": 138
  },
  {
   "metadata": {
    "ExecuteTime": {
     "end_time": "2025-01-23T15:59:40.962075Z",
     "start_time": "2025-01-23T15:59:40.942086Z"
    }
   },
   "cell_type": "code",
   "source": "rows_frame",
   "id": "8346fb59af8e61c6",
   "outputs": [
    {
     "data": {
      "text/plain": [
       "                curie claimed_prefix                                  label  \\\n",
       "0     FOODON:03400187         FOODON                natural cheese (us cfr)   \n",
       "1       ENVO:01001514           ENVO  congelation ice in a fresh water body   \n",
       "2       ENVO:02000101           ENVO                           fibrous dust   \n",
       "3       ENVO:00000020           ENVO                                   lake   \n",
       "4       ENVO:01001888           ENVO                          calcic spring   \n",
       "...               ...            ...                                    ...   \n",
       "1879    ENVO:00000428           ENVO                                  biome   \n",
       "1880    ENVO:00000495           ENVO                              tributary   \n",
       "1881    ENVO:03501208           ENVO                               air vent   \n",
       "1882    ENVO:06105211           ENVO                                 runoff   \n",
       "1883    ENVO:00000002           ENVO       anthropogenic geographic feature   \n",
       "\n",
       "      envo_native  obsolete  EnvMediumSoilEnum_11_1  ancestors_in_enum_count  \\\n",
       "0           False     False                   False                        0   \n",
       "1            True     False                   False                        0   \n",
       "2            True     False                   False                        0   \n",
       "3            True     False                   False                        0   \n",
       "4            True     False                   False                        0   \n",
       "...           ...       ...                     ...                      ...   \n",
       "1879         True     False                   False                        0   \n",
       "1880         True     False                   False                        0   \n",
       "1881         True     False                   False                        0   \n",
       "1882         True     False                   False                        0   \n",
       "1883         True     False                   False                        0   \n",
       "\n",
       "      descendants_in_enum_count  nlcd_class    abp  ...   snow  sediment  \\\n",
       "0                             0       False  False  ...  False     False   \n",
       "1                             0       False  False  ...  False     False   \n",
       "2                             0       False  False  ...  False     False   \n",
       "3                             0       False   True  ...  False     False   \n",
       "4                             0       False   True  ...  False     False   \n",
       "...                         ...         ...    ...  ...    ...       ...   \n",
       "1879                         10       False   True  ...  False     False   \n",
       "1880                          0       False   True  ...  False     False   \n",
       "1881                          0       False  False  ...  False     False   \n",
       "1882                          0       False  False  ...  False     False   \n",
       "1883                          3       False   True  ...  False     False   \n",
       "\n",
       "      mass_of_environmental_material  human_construction  building  \\\n",
       "0                              False               False     False   \n",
       "1                              False               False     False   \n",
       "2                              False               False     False   \n",
       "3                              False               False     False   \n",
       "4                              False               False     False   \n",
       "...                              ...                 ...       ...   \n",
       "1879                           False               False     False   \n",
       "1880                           False               False     False   \n",
       "1881                           False               False     False   \n",
       "1882                           False               False     False   \n",
       "1883                           False               False     False   \n",
       "\n",
       "      building_part  plant_structure  vegetation_layer  goldterms_mappings  \\\n",
       "0             False            False             False               False   \n",
       "1             False            False             False               False   \n",
       "2             False            False             False               False   \n",
       "3             False            False             False                True   \n",
       "4             False            False             False               False   \n",
       "...             ...              ...               ...                 ...   \n",
       "1879          False            False             False               False   \n",
       "1880          False            False             False               False   \n",
       "1881          False            False             False               False   \n",
       "1882          False            False             False               False   \n",
       "1883          False            False             False               False   \n",
       "\n",
       "      nmdc_biosamples_count  \n",
       "0                       NaN  \n",
       "1                       NaN  \n",
       "2                       NaN  \n",
       "3                       NaN  \n",
       "4                       NaN  \n",
       "...                     ...  \n",
       "1879                    NaN  \n",
       "1880                    NaN  \n",
       "1881                    NaN  \n",
       "1882                    NaN  \n",
       "1883                    NaN  \n",
       "\n",
       "[1884 rows x 29 columns]"
      ],
      "text/html": [
       "<div>\n",
       "<style scoped>\n",
       "    .dataframe tbody tr th:only-of-type {\n",
       "        vertical-align: middle;\n",
       "    }\n",
       "\n",
       "    .dataframe tbody tr th {\n",
       "        vertical-align: top;\n",
       "    }\n",
       "\n",
       "    .dataframe thead th {\n",
       "        text-align: right;\n",
       "    }\n",
       "</style>\n",
       "<table border=\"1\" class=\"dataframe\">\n",
       "  <thead>\n",
       "    <tr style=\"text-align: right;\">\n",
       "      <th></th>\n",
       "      <th>curie</th>\n",
       "      <th>claimed_prefix</th>\n",
       "      <th>label</th>\n",
       "      <th>envo_native</th>\n",
       "      <th>obsolete</th>\n",
       "      <th>EnvMediumSoilEnum_11_1</th>\n",
       "      <th>ancestors_in_enum_count</th>\n",
       "      <th>descendants_in_enum_count</th>\n",
       "      <th>nlcd_class</th>\n",
       "      <th>abp</th>\n",
       "      <th>...</th>\n",
       "      <th>snow</th>\n",
       "      <th>sediment</th>\n",
       "      <th>mass_of_environmental_material</th>\n",
       "      <th>human_construction</th>\n",
       "      <th>building</th>\n",
       "      <th>building_part</th>\n",
       "      <th>plant_structure</th>\n",
       "      <th>vegetation_layer</th>\n",
       "      <th>goldterms_mappings</th>\n",
       "      <th>nmdc_biosamples_count</th>\n",
       "    </tr>\n",
       "  </thead>\n",
       "  <tbody>\n",
       "    <tr>\n",
       "      <th>0</th>\n",
       "      <td>FOODON:03400187</td>\n",
       "      <td>FOODON</td>\n",
       "      <td>natural cheese (us cfr)</td>\n",
       "      <td>False</td>\n",
       "      <td>False</td>\n",
       "      <td>False</td>\n",
       "      <td>0</td>\n",
       "      <td>0</td>\n",
       "      <td>False</td>\n",
       "      <td>False</td>\n",
       "      <td>...</td>\n",
       "      <td>False</td>\n",
       "      <td>False</td>\n",
       "      <td>False</td>\n",
       "      <td>False</td>\n",
       "      <td>False</td>\n",
       "      <td>False</td>\n",
       "      <td>False</td>\n",
       "      <td>False</td>\n",
       "      <td>False</td>\n",
       "      <td>NaN</td>\n",
       "    </tr>\n",
       "    <tr>\n",
       "      <th>1</th>\n",
       "      <td>ENVO:01001514</td>\n",
       "      <td>ENVO</td>\n",
       "      <td>congelation ice in a fresh water body</td>\n",
       "      <td>True</td>\n",
       "      <td>False</td>\n",
       "      <td>False</td>\n",
       "      <td>0</td>\n",
       "      <td>0</td>\n",
       "      <td>False</td>\n",
       "      <td>False</td>\n",
       "      <td>...</td>\n",
       "      <td>False</td>\n",
       "      <td>False</td>\n",
       "      <td>False</td>\n",
       "      <td>False</td>\n",
       "      <td>False</td>\n",
       "      <td>False</td>\n",
       "      <td>False</td>\n",
       "      <td>False</td>\n",
       "      <td>False</td>\n",
       "      <td>NaN</td>\n",
       "    </tr>\n",
       "    <tr>\n",
       "      <th>2</th>\n",
       "      <td>ENVO:02000101</td>\n",
       "      <td>ENVO</td>\n",
       "      <td>fibrous dust</td>\n",
       "      <td>True</td>\n",
       "      <td>False</td>\n",
       "      <td>False</td>\n",
       "      <td>0</td>\n",
       "      <td>0</td>\n",
       "      <td>False</td>\n",
       "      <td>False</td>\n",
       "      <td>...</td>\n",
       "      <td>False</td>\n",
       "      <td>False</td>\n",
       "      <td>False</td>\n",
       "      <td>False</td>\n",
       "      <td>False</td>\n",
       "      <td>False</td>\n",
       "      <td>False</td>\n",
       "      <td>False</td>\n",
       "      <td>False</td>\n",
       "      <td>NaN</td>\n",
       "    </tr>\n",
       "    <tr>\n",
       "      <th>3</th>\n",
       "      <td>ENVO:00000020</td>\n",
       "      <td>ENVO</td>\n",
       "      <td>lake</td>\n",
       "      <td>True</td>\n",
       "      <td>False</td>\n",
       "      <td>False</td>\n",
       "      <td>0</td>\n",
       "      <td>0</td>\n",
       "      <td>False</td>\n",
       "      <td>True</td>\n",
       "      <td>...</td>\n",
       "      <td>False</td>\n",
       "      <td>False</td>\n",
       "      <td>False</td>\n",
       "      <td>False</td>\n",
       "      <td>False</td>\n",
       "      <td>False</td>\n",
       "      <td>False</td>\n",
       "      <td>False</td>\n",
       "      <td>True</td>\n",
       "      <td>NaN</td>\n",
       "    </tr>\n",
       "    <tr>\n",
       "      <th>4</th>\n",
       "      <td>ENVO:01001888</td>\n",
       "      <td>ENVO</td>\n",
       "      <td>calcic spring</td>\n",
       "      <td>True</td>\n",
       "      <td>False</td>\n",
       "      <td>False</td>\n",
       "      <td>0</td>\n",
       "      <td>0</td>\n",
       "      <td>False</td>\n",
       "      <td>True</td>\n",
       "      <td>...</td>\n",
       "      <td>False</td>\n",
       "      <td>False</td>\n",
       "      <td>False</td>\n",
       "      <td>False</td>\n",
       "      <td>False</td>\n",
       "      <td>False</td>\n",
       "      <td>False</td>\n",
       "      <td>False</td>\n",
       "      <td>False</td>\n",
       "      <td>NaN</td>\n",
       "    </tr>\n",
       "    <tr>\n",
       "      <th>...</th>\n",
       "      <td>...</td>\n",
       "      <td>...</td>\n",
       "      <td>...</td>\n",
       "      <td>...</td>\n",
       "      <td>...</td>\n",
       "      <td>...</td>\n",
       "      <td>...</td>\n",
       "      <td>...</td>\n",
       "      <td>...</td>\n",
       "      <td>...</td>\n",
       "      <td>...</td>\n",
       "      <td>...</td>\n",
       "      <td>...</td>\n",
       "      <td>...</td>\n",
       "      <td>...</td>\n",
       "      <td>...</td>\n",
       "      <td>...</td>\n",
       "      <td>...</td>\n",
       "      <td>...</td>\n",
       "      <td>...</td>\n",
       "      <td>...</td>\n",
       "    </tr>\n",
       "    <tr>\n",
       "      <th>1879</th>\n",
       "      <td>ENVO:00000428</td>\n",
       "      <td>ENVO</td>\n",
       "      <td>biome</td>\n",
       "      <td>True</td>\n",
       "      <td>False</td>\n",
       "      <td>False</td>\n",
       "      <td>0</td>\n",
       "      <td>10</td>\n",
       "      <td>False</td>\n",
       "      <td>True</td>\n",
       "      <td>...</td>\n",
       "      <td>False</td>\n",
       "      <td>False</td>\n",
       "      <td>False</td>\n",
       "      <td>False</td>\n",
       "      <td>False</td>\n",
       "      <td>False</td>\n",
       "      <td>False</td>\n",
       "      <td>False</td>\n",
       "      <td>False</td>\n",
       "      <td>NaN</td>\n",
       "    </tr>\n",
       "    <tr>\n",
       "      <th>1880</th>\n",
       "      <td>ENVO:00000495</td>\n",
       "      <td>ENVO</td>\n",
       "      <td>tributary</td>\n",
       "      <td>True</td>\n",
       "      <td>False</td>\n",
       "      <td>False</td>\n",
       "      <td>0</td>\n",
       "      <td>0</td>\n",
       "      <td>False</td>\n",
       "      <td>True</td>\n",
       "      <td>...</td>\n",
       "      <td>False</td>\n",
       "      <td>False</td>\n",
       "      <td>False</td>\n",
       "      <td>False</td>\n",
       "      <td>False</td>\n",
       "      <td>False</td>\n",
       "      <td>False</td>\n",
       "      <td>False</td>\n",
       "      <td>False</td>\n",
       "      <td>NaN</td>\n",
       "    </tr>\n",
       "    <tr>\n",
       "      <th>1881</th>\n",
       "      <td>ENVO:03501208</td>\n",
       "      <td>ENVO</td>\n",
       "      <td>air vent</td>\n",
       "      <td>True</td>\n",
       "      <td>False</td>\n",
       "      <td>False</td>\n",
       "      <td>0</td>\n",
       "      <td>0</td>\n",
       "      <td>False</td>\n",
       "      <td>False</td>\n",
       "      <td>...</td>\n",
       "      <td>False</td>\n",
       "      <td>False</td>\n",
       "      <td>False</td>\n",
       "      <td>False</td>\n",
       "      <td>False</td>\n",
       "      <td>False</td>\n",
       "      <td>False</td>\n",
       "      <td>False</td>\n",
       "      <td>False</td>\n",
       "      <td>NaN</td>\n",
       "    </tr>\n",
       "    <tr>\n",
       "      <th>1882</th>\n",
       "      <td>ENVO:06105211</td>\n",
       "      <td>ENVO</td>\n",
       "      <td>runoff</td>\n",
       "      <td>True</td>\n",
       "      <td>False</td>\n",
       "      <td>False</td>\n",
       "      <td>0</td>\n",
       "      <td>0</td>\n",
       "      <td>False</td>\n",
       "      <td>False</td>\n",
       "      <td>...</td>\n",
       "      <td>False</td>\n",
       "      <td>False</td>\n",
       "      <td>False</td>\n",
       "      <td>False</td>\n",
       "      <td>False</td>\n",
       "      <td>False</td>\n",
       "      <td>False</td>\n",
       "      <td>False</td>\n",
       "      <td>False</td>\n",
       "      <td>NaN</td>\n",
       "    </tr>\n",
       "    <tr>\n",
       "      <th>1883</th>\n",
       "      <td>ENVO:00000002</td>\n",
       "      <td>ENVO</td>\n",
       "      <td>anthropogenic geographic feature</td>\n",
       "      <td>True</td>\n",
       "      <td>False</td>\n",
       "      <td>False</td>\n",
       "      <td>0</td>\n",
       "      <td>3</td>\n",
       "      <td>False</td>\n",
       "      <td>True</td>\n",
       "      <td>...</td>\n",
       "      <td>False</td>\n",
       "      <td>False</td>\n",
       "      <td>False</td>\n",
       "      <td>False</td>\n",
       "      <td>False</td>\n",
       "      <td>False</td>\n",
       "      <td>False</td>\n",
       "      <td>False</td>\n",
       "      <td>False</td>\n",
       "      <td>NaN</td>\n",
       "    </tr>\n",
       "  </tbody>\n",
       "</table>\n",
       "<p>1884 rows × 29 columns</p>\n",
       "</div>"
      ]
     },
     "execution_count": 139,
     "metadata": {},
     "output_type": "execute_result"
    }
   ],
   "execution_count": 139
  },
  {
   "metadata": {
    "ExecuteTime": {
     "end_time": "2025-01-23T15:59:41.055791Z",
     "start_time": "2025-01-23T15:59:41.052329Z"
    }
   },
   "cell_type": "code",
   "source": [
    "# gold and ncbi counts are slightly trickier\n",
    "# for gold: including mappings only, mappings in hybrid with biosample counts. \n",
    "#    Switch to direct biosample counts of GOLD \"envo\" annotations?\n",
    "# ncbi: we have extracted curies and annotated curies"
   ],
   "id": "87a64ed7d57d81ee",
   "outputs": [],
   "execution_count": 140
  },
  {
   "metadata": {},
   "cell_type": "markdown",
   "source": "## Merge in NCBI counts",
   "id": "1f1f840c8c0acc80"
  },
  {
   "metadata": {
    "ExecuteTime": {
     "end_time": "2025-01-23T15:59:41.199614Z",
     "start_time": "2025-01-23T15:59:41.193306Z"
    }
   },
   "cell_type": "code",
   "source": [
    "# Perform the left merge\n",
    "rows_frame = rows_frame.merge(\n",
    "    ncbi_biosample_scoped_counts,\n",
    "    left_on='curie',\n",
    "    right_on='curie',\n",
    "    how='left'\n",
    ")"
   ],
   "id": "f4d8dc1053a5bb7e",
   "outputs": [],
   "execution_count": 141
  },
  {
   "metadata": {
    "ExecuteTime": {
     "end_time": "2025-01-23T15:59:41.419063Z",
     "start_time": "2025-01-23T15:59:41.415662Z"
    }
   },
   "cell_type": "code",
   "source": "# 990 rows in https://docs.google.com/spreadsheets/d/12WH3eduBq2qSTy9zVF3n7fyajn6ssLZL/edit?gid=546570706#gid=546570706",
   "id": "396c3f6005a31874",
   "outputs": [],
   "execution_count": 142
  },
  {
   "metadata": {
    "ExecuteTime": {
     "end_time": "2025-01-23T15:59:41.510328Z",
     "start_time": "2025-01-23T15:59:41.470661Z"
    }
   },
   "cell_type": "code",
   "source": "rows_frame.to_csv(output_file_name, sep=\"\\t\", index=False)",
   "id": "b7a26a1b879188a4",
   "outputs": [],
   "execution_count": 143
  },
  {
   "metadata": {
    "ExecuteTime": {
     "end_time": "2025-01-23T15:59:41.883024Z",
     "start_time": "2025-01-23T15:59:41.578261Z"
    }
   },
   "cell_type": "code",
   "source": "ncbi_conn.close()",
   "id": "655f46a2a0a6da17",
   "outputs": [],
   "execution_count": 144
  }
 ],
 "metadata": {
  "kernelspec": {
   "display_name": "Python 3 (ipykernel)",
   "language": "python",
   "name": "python3"
  },
  "language_info": {
   "codemirror_mode": {
    "name": "ipython",
    "version": 3
   },
   "file_extension": ".py",
   "mimetype": "text/x-python",
   "name": "python",
   "nbconvert_exporter": "python",
   "pygments_lexer": "ipython3",
   "version": "3.10.13"
  }
 },
 "nbformat": 4,
 "nbformat_minor": 5
}
