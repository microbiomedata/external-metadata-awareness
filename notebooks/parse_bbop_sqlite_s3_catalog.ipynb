{
 "cells": [
  {
   "cell_type": "code",
   "id": "initial_id",
   "metadata": {
    "collapsed": true,
    "ExecuteTime": {
     "end_time": "2025-02-21T12:50:18.312750Z",
     "start_time": "2025-02-21T12:50:18.217439Z"
    }
   },
   "source": [
    "import requests\n",
    "import xml.etree.ElementTree as ET\n",
    "import csv\n",
    "from collections import Counter"
   ],
   "outputs": [],
   "execution_count": 1
  },
  {
   "metadata": {
    "ExecuteTime": {
     "end_time": "2025-02-21T12:50:18.320247Z",
     "start_time": "2025-02-21T12:50:18.317233Z"
    }
   },
   "cell_type": "code",
   "source": [
    "# Fetch XML from the web\n",
    "url = \"https://s3.amazonaws.com/bbop-sqlite\"\n",
    "\n",
    "# Namespace needed to access elements correctly\n",
    "namespace = {'ns': 'http://s3.amazonaws.com/doc/2006-03-01/'}\n",
    "\n",
    "tsv_output = \"bbop-sem-sql-catalog-filtered.tsv\""
   ],
   "id": "c3286db357491cff",
   "outputs": [],
   "execution_count": 2
  },
  {
   "metadata": {
    "ExecuteTime": {
     "end_time": "2025-02-21T12:55:13.105695Z",
     "start_time": "2025-02-21T12:55:13.103253Z"
    }
   },
   "cell_type": "code",
   "source": "obo_ontologies_tsv = \"obo_ontologies.tsv\"",
   "id": "96f314ebdab9edd3",
   "outputs": [],
   "execution_count": 10
  },
  {
   "metadata": {
    "ExecuteTime": {
     "end_time": "2025-02-21T12:55:13.762706Z",
     "start_time": "2025-02-21T12:55:13.759207Z"
    }
   },
   "cell_type": "code",
   "source": [
    "def read_tsv_to_dicts(filepath):\n",
    "    with open(filepath, mode='r', newline='', encoding='utf-8') as file:\n",
    "        reader = csv.DictReader(file, delimiter='\\t')  # Use '\\t' as the delimiter for TSV\n",
    "        data = [row for row in reader]  # Convert each row into a dictionary\n",
    "    return data"
   ],
   "id": "4fc9b31c1512a9e4",
   "outputs": [],
   "execution_count": 11
  },
  {
   "metadata": {
    "ExecuteTime": {
     "end_time": "2025-02-21T12:56:39.146242Z",
     "start_time": "2025-02-21T12:56:39.142431Z"
    }
   },
   "cell_type": "code",
   "source": "obo_ontologies = read_tsv_to_dicts(obo_ontologies_tsv)",
   "id": "86a913e7b6d3b9e5",
   "outputs": [],
   "execution_count": 14
  },
  {
   "metadata": {
    "ExecuteTime": {
     "end_time": "2025-02-21T12:56:40.179785Z",
     "start_time": "2025-02-21T12:56:40.176868Z"
    }
   },
   "cell_type": "code",
   "source": "obo_ontologies = {i[\"id\"]: i for i in obo_ontologies}",
   "id": "6585138739d522bc",
   "outputs": [],
   "execution_count": 15
  },
  {
   "metadata": {
    "ExecuteTime": {
     "end_time": "2025-02-21T12:50:18.897353Z",
     "start_time": "2025-02-21T12:50:18.444099Z"
    }
   },
   "cell_type": "code",
   "source": [
    "response = requests.get(url)\n",
    "response.raise_for_status()  # Raise an error if the request failed"
   ],
   "id": "183045fdb5786f19",
   "outputs": [],
   "execution_count": 3
  },
  {
   "metadata": {
    "ExecuteTime": {
     "end_time": "2025-02-21T12:50:18.913367Z",
     "start_time": "2025-02-21T12:50:18.905691Z"
    }
   },
   "cell_type": "code",
   "source": [
    "# Parse the XML\n",
    "root = ET.fromstring(response.content)\n"
   ],
   "id": "e9ef0cc1b09591ca",
   "outputs": [],
   "execution_count": 4
  },
  {
   "metadata": {
    "ExecuteTime": {
     "end_time": "2025-02-21T13:00:15.092630Z",
     "start_time": "2025-02-21T13:00:15.073624Z"
    }
   },
   "cell_type": "code",
   "source": [
    "# Extract Contents elements into a list of dictionaries\n",
    "contents = []\n",
    "extension_counter = Counter()\n",
    "base_names = set()\n",
    "db_gz_basenames = set()\n",
    "\n",
    "\n",
    "for content in root.findall('ns:Contents', namespace):\n",
    "    key = content.find('ns:Key', namespace).text\n",
    "    size = int(content.find('ns:Size', namespace).text)\n",
    "\n",
    "    # Skip entries with directory paths\n",
    "    if '/' in key:\n",
    "        print(f\"Skipping directory entry: {key}\")\n",
    "        continue\n",
    "\n",
    "    # Skip empty files\n",
    "    if size == 0:\n",
    "        print(f\"Skipping empty entry: {key}\")\n",
    "        continue\n",
    "\n",
    "    # Custom basename and extension logic\n",
    "    if '-' in key:\n",
    "        split_index = key.find('-')\n",
    "        basename = key[:split_index]\n",
    "        extension = key[split_index + 1:]\n",
    "    elif '.' in key:\n",
    "        split_index = key.find('.')\n",
    "        basename = key[:split_index]\n",
    "        extension = key[split_index + 1:]\n",
    "    else:\n",
    "        basename = key\n",
    "        extension = ''\n",
    "\n",
    "    base_names.add(basename)\n",
    "    if extension == 'db.gz':\n",
    "        db_gz_basenames.add(basename)\n",
    "\n",
    "    # Count the extension\n",
    "    extension_counter[extension] += 1\n",
    "\n",
    "    entry = {\n",
    "        'Key': key,\n",
    "        'basename': basename,\n",
    "        'extension': extension,\n",
    "        'LastModified': content.find('ns:LastModified', namespace).text,\n",
    "        # 'ETag': content.find('ns:ETag', namespace).text.replace('\"', ''),\n",
    "        'Size': size,\n",
    "        # 'StorageClass': content.find('ns:StorageClass', namespace).text,\n",
    "        'obo_foundry_title': obo_ontologies.get(basename, {}).get('title', None)\n",
    "    }\n",
    "    contents.append(entry)\n"
   ],
   "id": "5aa8ba3f46c781d2",
   "outputs": [
    {
     "name": "stdout",
     "output_type": "stream",
     "text": [
      "Skipping empty entry: biopragmatics-reactome.db.gz.tmp\n",
      "Skipping empty entry: ceph.db\n",
      "Skipping empty entry: cmo.db\n",
      "Skipping empty entry: dictybase.db.gz.tmp\n",
      "Skipping empty entry: drugcentral.db.gz.tmp\n",
      "Skipping empty entry: drugmechdb.db.gz.tmp\n",
      "Skipping empty entry: ecosim.db.gz.tmp\n",
      "Skipping empty entry: epio-relation-graph.tsv.owl.tmp\n",
      "Skipping empty entry: epio.db\n",
      "Skipping empty entry: go-lego.db.gz.tmp\n",
      "Skipping empty entry: gsso\n",
      "Skipping empty entry: gsso.db\n",
      "Skipping empty entry: gssox.db\n",
      "Skipping empty entry: kegg.genome.db.gz.tmp\n",
      "Skipping empty entry: lov.db.gz.tmp\n",
      "Skipping empty entry: micro.db\n",
      "Skipping empty entry: molgenie.db.gz.tmp\n",
      "Skipping empty entry: omop.db.gz.tmp\n",
      "Skipping empty entry: pathbank.db.gz.tmp\n",
      "Skipping directory entry: releases/2022-05-31/README.md\n",
      "Skipping directory entry: releases/2022-05-31/aeo.db\n",
      "Skipping directory entry: releases/2022-05-31/agro-relation-graph.tsv.gz\n",
      "Skipping directory entry: releases/2022-05-31/agro.db\n",
      "Skipping directory entry: releases/2022-05-31/agro.owl\n",
      "Skipping directory entry: releases/2022-05-31/aism-relation-graph.tsv.gz\n",
      "Skipping directory entry: releases/2022-05-31/aism.db\n",
      "Skipping directory entry: releases/2022-05-31/aism.owl\n",
      "Skipping directory entry: releases/2022-05-31/amphx-relation-graph.tsv.gz\n",
      "Skipping directory entry: releases/2022-05-31/amphx.db\n",
      "Skipping directory entry: releases/2022-05-31/amphx.owl\n",
      "Skipping directory entry: releases/2022-05-31/apo-relation-graph.tsv.gz\n",
      "Skipping directory entry: releases/2022-05-31/apo.db\n",
      "Skipping directory entry: releases/2022-05-31/apo.owl\n",
      "Skipping directory entry: releases/2022-05-31/apollo_sv-relation-graph.tsv.gz\n",
      "Skipping directory entry: releases/2022-05-31/apollo_sv.db\n",
      "Skipping directory entry: releases/2022-05-31/apollo_sv.owl\n",
      "Skipping directory entry: releases/2022-05-31/aro-relation-graph.tsv.gz\n",
      "Skipping directory entry: releases/2022-05-31/aro.db\n",
      "Skipping directory entry: releases/2022-05-31/aro.owl\n",
      "Skipping directory entry: releases/2022-05-31/bad-ontology.db\n",
      "Skipping directory entry: releases/2022-05-31/bad-ontology.db.old\n",
      "Skipping directory entry: releases/2022-05-31/bco-relation-graph.tsv.gz\n",
      "Skipping directory entry: releases/2022-05-31/bco.db\n",
      "Skipping directory entry: releases/2022-05-31/bco.owl\n",
      "Skipping directory entry: releases/2022-05-31/bero-relation-graph.tsv.gz\n",
      "Skipping directory entry: releases/2022-05-31/bero.db\n",
      "Skipping directory entry: releases/2022-05-31/bero.owl\n",
      "Skipping directory entry: releases/2022-05-31/bfo-relation-graph.tsv.gz\n",
      "Skipping directory entry: releases/2022-05-31/bfo.db\n",
      "Skipping directory entry: releases/2022-05-31/bfo.owl\n",
      "Skipping directory entry: releases/2022-05-31/bspo-relation-graph.tsv.gz\n",
      "Skipping directory entry: releases/2022-05-31/bspo.db\n",
      "Skipping directory entry: releases/2022-05-31/bspo.owl\n",
      "Skipping directory entry: releases/2022-05-31/bto-relation-graph.tsv.gz\n",
      "Skipping directory entry: releases/2022-05-31/bto.db\n",
      "Skipping directory entry: releases/2022-05-31/bto.owl\n",
      "Skipping directory entry: releases/2022-05-31/caro-relation-graph.tsv.gz\n",
      "Skipping directory entry: releases/2022-05-31/caro.db\n",
      "Skipping directory entry: releases/2022-05-31/caro.db.old\n",
      "Skipping directory entry: releases/2022-05-31/caro.owl\n",
      "Skipping directory entry: releases/2022-05-31/cdao-relation-graph.tsv.gz\n",
      "Skipping directory entry: releases/2022-05-31/cdao.db\n",
      "Skipping directory entry: releases/2022-05-31/cdao.owl\n",
      "Skipping directory entry: releases/2022-05-31/cdno-relation-graph.tsv.gz\n",
      "Skipping directory entry: releases/2022-05-31/cdno.db\n",
      "Skipping directory entry: releases/2022-05-31/cdno.owl\n",
      "Skipping directory entry: releases/2022-05-31/chebi-relation-graph.tsv.gz\n",
      "Skipping directory entry: releases/2022-05-31/chebi.db\n",
      "Skipping directory entry: releases/2022-05-31/chebi.db.old\n",
      "Skipping directory entry: releases/2022-05-31/chebi.owl\n",
      "Skipping directory entry: releases/2022-05-31/cheminf-relation-graph.tsv.gz\n",
      "Skipping directory entry: releases/2022-05-31/cheminf.db\n",
      "Skipping directory entry: releases/2022-05-31/cheminf.owl\n",
      "Skipping directory entry: releases/2022-05-31/chiro-relation-graph.tsv.gz\n",
      "Skipping directory entry: releases/2022-05-31/chiro.db\n",
      "Skipping directory entry: releases/2022-05-31/chiro.owl\n",
      "Skipping directory entry: releases/2022-05-31/chmo-relation-graph.tsv.gz\n",
      "Skipping directory entry: releases/2022-05-31/chmo.db\n",
      "Skipping directory entry: releases/2022-05-31/chmo.owl\n",
      "Skipping directory entry: releases/2022-05-31/cido-relation-graph.tsv.gz\n",
      "Skipping directory entry: releases/2022-05-31/cido.db\n",
      "Skipping directory entry: releases/2022-05-31/cido.owl\n",
      "Skipping directory entry: releases/2022-05-31/cio-relation-graph.tsv.gz\n",
      "Skipping directory entry: releases/2022-05-31/cio.db\n",
      "Skipping directory entry: releases/2022-05-31/cio.owl\n",
      "Skipping directory entry: releases/2022-05-31/cl-relation-graph.tsv.gz\n",
      "Skipping directory entry: releases/2022-05-31/cl.db\n",
      "Skipping directory entry: releases/2022-05-31/cl.owl\n",
      "Skipping directory entry: releases/2022-05-31/clao-relation-graph.tsv.gz\n",
      "Skipping directory entry: releases/2022-05-31/clao.db\n",
      "Skipping directory entry: releases/2022-05-31/clao.owl\n",
      "Skipping directory entry: releases/2022-05-31/clo-relation-graph.tsv.gz\n",
      "Skipping directory entry: releases/2022-05-31/clo.db\n",
      "Skipping directory entry: releases/2022-05-31/clo.owl\n",
      "Skipping directory entry: releases/2022-05-31/clyh-relation-graph.tsv.gz\n",
      "Skipping directory entry: releases/2022-05-31/clyh.db\n",
      "Skipping directory entry: releases/2022-05-31/clyh.owl\n",
      "Skipping directory entry: releases/2022-05-31/cmo-relation-graph.tsv\n",
      "Skipping directory entry: releases/2022-05-31/cmo.db\n",
      "Skipping directory entry: releases/2022-05-31/cmo.db.tmp\n",
      "Skipping directory entry: releases/2022-05-31/cmo.owl\n",
      "Skipping directory entry: releases/2022-05-31/cob-relation-graph.tsv.gz\n",
      "Skipping directory entry: releases/2022-05-31/cob.db\n",
      "Skipping directory entry: releases/2022-05-31/cob.db.old\n",
      "Skipping directory entry: releases/2022-05-31/cob.owl\n",
      "Skipping directory entry: releases/2022-05-31/colao-relation-graph.tsv.gz\n",
      "Skipping directory entry: releases/2022-05-31/colao.db\n",
      "Skipping directory entry: releases/2022-05-31/colao.owl\n",
      "Skipping directory entry: releases/2022-05-31/cro-relation-graph.tsv.gz\n",
      "Skipping directory entry: releases/2022-05-31/cro.db\n",
      "Skipping directory entry: releases/2022-05-31/cro.owl\n",
      "Skipping directory entry: releases/2022-05-31/cteno-relation-graph.tsv.gz\n",
      "Skipping directory entry: releases/2022-05-31/cteno.db\n",
      "Skipping directory entry: releases/2022-05-31/cteno.owl\n",
      "Skipping directory entry: releases/2022-05-31/cto-relation-graph.tsv.gz\n",
      "Skipping directory entry: releases/2022-05-31/cto.db\n",
      "Skipping directory entry: releases/2022-05-31/cto.owl\n",
      "Skipping directory entry: releases/2022-05-31/cvdo-relation-graph.tsv.gz\n",
      "Skipping directory entry: releases/2022-05-31/cvdo.db\n",
      "Skipping directory entry: releases/2022-05-31/cvdo.owl\n",
      "Skipping directory entry: releases/2022-05-31/ddanat-relation-graph.tsv.gz\n",
      "Skipping directory entry: releases/2022-05-31/ddanat.db\n",
      "Skipping directory entry: releases/2022-05-31/ddanat.owl\n",
      "Skipping directory entry: releases/2022-05-31/ddpheno-relation-graph.tsv.gz\n",
      "Skipping directory entry: releases/2022-05-31/ddpheno.db\n",
      "Skipping directory entry: releases/2022-05-31/ddpheno.owl\n",
      "Skipping directory entry: releases/2022-05-31/dideo-relation-graph.tsv.gz\n",
      "Skipping directory entry: releases/2022-05-31/dideo.db\n",
      "Skipping directory entry: releases/2022-05-31/dideo.owl\n",
      "Skipping directory entry: releases/2022-05-31/disdriv-relation-graph.tsv.gz\n",
      "Skipping directory entry: releases/2022-05-31/disdriv.db\n",
      "Skipping directory entry: releases/2022-05-31/disdriv.owl\n",
      "Skipping directory entry: releases/2022-05-31/doid-relation-graph.tsv.gz\n",
      "Skipping directory entry: releases/2022-05-31/doid.db\n",
      "Skipping directory entry: releases/2022-05-31/doid.owl\n",
      "Skipping directory entry: releases/2022-05-31/dpo-relation-graph.tsv.gz\n",
      "Skipping directory entry: releases/2022-05-31/dpo.db\n",
      "Skipping directory entry: releases/2022-05-31/dpo.owl\n",
      "Skipping directory entry: releases/2022-05-31/dron-relation-graph.tsv.gz\n",
      "Skipping directory entry: releases/2022-05-31/dron.db\n",
      "Skipping directory entry: releases/2022-05-31/dron.owl\n",
      "Skipping directory entry: releases/2022-05-31/duo-relation-graph.tsv.gz\n",
      "Skipping directory entry: releases/2022-05-31/duo.db\n",
      "Skipping directory entry: releases/2022-05-31/duo.owl\n",
      "Skipping directory entry: releases/2022-05-31/ecao-relation-graph.tsv.gz\n",
      "Skipping directory entry: releases/2022-05-31/ecao.db\n",
      "Skipping directory entry: releases/2022-05-31/ecao.owl\n",
      "Skipping directory entry: releases/2022-05-31/eco-relation-graph.tsv.gz\n",
      "Skipping directory entry: releases/2022-05-31/eco.db\n",
      "Skipping directory entry: releases/2022-05-31/eco.owl\n",
      "Skipping directory entry: releases/2022-05-31/ecocore-relation-graph.tsv.gz\n",
      "Skipping directory entry: releases/2022-05-31/ecocore.db\n",
      "Skipping directory entry: releases/2022-05-31/ecocore.owl\n",
      "Skipping directory entry: releases/2022-05-31/ecto-relation-graph.tsv.gz\n",
      "Skipping directory entry: releases/2022-05-31/ecto.db\n",
      "Skipping directory entry: releases/2022-05-31/ecto.owl\n",
      "Skipping directory entry: releases/2022-05-31/emapa-relation-graph.tsv.gz\n",
      "Skipping directory entry: releases/2022-05-31/emapa.db\n",
      "Skipping directory entry: releases/2022-05-31/emapa.owl\n",
      "Skipping directory entry: releases/2022-05-31/envo-relation-graph.tsv.gz\n",
      "Skipping directory entry: releases/2022-05-31/envo.db\n",
      "Skipping directory entry: releases/2022-05-31/envo.owl\n",
      "Skipping directory entry: releases/2022-05-31/epio-relation-graph.tsv.owl.tmp\n",
      "Skipping directory entry: releases/2022-05-31/epio-relation-graph.tsv.ttl.tmp\n",
      "Skipping directory entry: releases/2022-05-31/epio.db\n",
      "Skipping directory entry: releases/2022-05-31/epio.owl\n",
      "Skipping directory entry: releases/2022-05-31/eupath-relation-graph.tsv.gz\n",
      "Skipping directory entry: releases/2022-05-31/eupath.db\n",
      "Skipping directory entry: releases/2022-05-31/eupath.owl\n",
      "Skipping directory entry: releases/2022-05-31/exo-relation-graph.tsv.gz\n",
      "Skipping directory entry: releases/2022-05-31/exo.db\n",
      "Skipping directory entry: releases/2022-05-31/exo.owl\n",
      "Skipping directory entry: releases/2022-05-31/fao-relation-graph.tsv.gz\n",
      "Skipping directory entry: releases/2022-05-31/fao.db\n",
      "Skipping directory entry: releases/2022-05-31/fao.owl\n",
      "Skipping directory entry: releases/2022-05-31/fbbi-relation-graph.tsv.gz\n",
      "Skipping directory entry: releases/2022-05-31/fbbi.db\n",
      "Skipping directory entry: releases/2022-05-31/fbbi.owl\n",
      "Skipping directory entry: releases/2022-05-31/fbbt-relation-graph.tsv.gz\n",
      "Skipping directory entry: releases/2022-05-31/fbbt.db\n",
      "Skipping directory entry: releases/2022-05-31/fbbt.owl\n",
      "Skipping directory entry: releases/2022-05-31/fbcv-relation-graph.tsv.gz\n",
      "Skipping directory entry: releases/2022-05-31/fbcv.db\n",
      "Skipping directory entry: releases/2022-05-31/fbcv.owl\n",
      "Skipping directory entry: releases/2022-05-31/fbdv-relation-graph.tsv.gz\n",
      "Skipping directory entry: releases/2022-05-31/fbdv.db\n",
      "Skipping directory entry: releases/2022-05-31/fbdv.owl\n",
      "Skipping directory entry: releases/2022-05-31/fideo-relation-graph.tsv.gz\n",
      "Skipping directory entry: releases/2022-05-31/fideo.db\n",
      "Skipping directory entry: releases/2022-05-31/fideo.owl\n",
      "Skipping directory entry: releases/2022-05-31/flopo-relation-graph.tsv.gz\n",
      "Skipping directory entry: releases/2022-05-31/flopo.db\n",
      "Skipping directory entry: releases/2022-05-31/flopo.owl\n",
      "Skipping directory entry: releases/2022-05-31/fma.db\n",
      "Skipping directory entry: releases/2022-05-31/fobi-relation-graph.tsv.gz\n",
      "Skipping directory entry: releases/2022-05-31/fobi.db\n",
      "Skipping directory entry: releases/2022-05-31/fobi.owl\n",
      "Skipping directory entry: releases/2022-05-31/foodon-relation-graph.tsv.gz\n",
      "Skipping directory entry: releases/2022-05-31/foodon.db\n",
      "Skipping directory entry: releases/2022-05-31/foodon.owl\n",
      "Skipping directory entry: releases/2022-05-31/fovt-relation-graph.tsv.gz\n",
      "Skipping directory entry: releases/2022-05-31/fovt.db\n",
      "Skipping directory entry: releases/2022-05-31/fovt.owl\n",
      "Skipping directory entry: releases/2022-05-31/fypo-relation-graph.tsv.gz\n",
      "Skipping directory entry: releases/2022-05-31/fypo.db\n",
      "Skipping directory entry: releases/2022-05-31/fypo.db.old\n",
      "Skipping directory entry: releases/2022-05-31/fypo.owl\n",
      "Skipping directory entry: releases/2022-05-31/gaz.db\n",
      "Skipping directory entry: releases/2022-05-31/gecko-relation-graph.tsv.gz\n",
      "Skipping directory entry: releases/2022-05-31/gecko.db\n",
      "Skipping directory entry: releases/2022-05-31/gecko.owl\n",
      "Skipping directory entry: releases/2022-05-31/geno-relation-graph.tsv.gz\n",
      "Skipping directory entry: releases/2022-05-31/geno.db\n",
      "Skipping directory entry: releases/2022-05-31/geno.owl\n",
      "Skipping directory entry: releases/2022-05-31/geo-relation-graph.tsv.gz\n",
      "Skipping directory entry: releases/2022-05-31/geo.db\n",
      "Skipping directory entry: releases/2022-05-31/geo.owl\n",
      "Skipping directory entry: releases/2022-05-31/gno-relation-graph.tsv.gz\n",
      "Skipping directory entry: releases/2022-05-31/gno.db\n",
      "Skipping directory entry: releases/2022-05-31/gno.owl\n",
      "Skipping directory entry: releases/2022-05-31/go-nucleus-relation-graph.tsv.gz\n",
      "Skipping directory entry: releases/2022-05-31/go-nucleus.db\n",
      "Skipping directory entry: releases/2022-05-31/go-nucleus.db.old\n",
      "Skipping directory entry: releases/2022-05-31/go-nucleus.owl\n",
      "Skipping directory entry: releases/2022-05-31/go-plus.db\n",
      "Skipping directory entry: releases/2022-05-31/go-relation-graph.tsv.gz\n",
      "Skipping directory entry: releases/2022-05-31/go.db\n",
      "Skipping directory entry: releases/2022-05-31/go.owl\n",
      "Skipping directory entry: releases/2022-05-31/goa_uniprot_all.db\n",
      "Skipping directory entry: releases/2022-05-31/gsso-relation-graph.tsv\n",
      "Skipping directory entry: releases/2022-05-31/gsso.db\n",
      "Skipping directory entry: releases/2022-05-31/gsso.db.tmp\n",
      "Skipping directory entry: releases/2022-05-31/gsso.owl\n",
      "Skipping directory entry: releases/2022-05-31/gssox.db\n",
      "Skipping directory entry: releases/2022-05-31/hancestro-relation-graph.tsv.gz\n",
      "Skipping directory entry: releases/2022-05-31/hancestro.db\n",
      "Skipping directory entry: releases/2022-05-31/hancestro.owl\n",
      "Skipping directory entry: releases/2022-05-31/hao-relation-graph.tsv.gz\n",
      "Skipping directory entry: releases/2022-05-31/hao.db\n",
      "Skipping directory entry: releases/2022-05-31/hao.owl\n",
      "Skipping directory entry: releases/2022-05-31/hom-relation-graph.tsv.gz\n",
      "Skipping directory entry: releases/2022-05-31/hom.db\n",
      "Skipping directory entry: releases/2022-05-31/hom.owl\n",
      "Skipping directory entry: releases/2022-05-31/hp-relation-graph.tsv.gz\n",
      "Skipping directory entry: releases/2022-05-31/hp.db\n",
      "Skipping directory entry: releases/2022-05-31/hp.owl\n",
      "Skipping directory entry: releases/2022-05-31/hsapdv-relation-graph.tsv.gz\n",
      "Skipping directory entry: releases/2022-05-31/hsapdv.db\n",
      "Skipping directory entry: releases/2022-05-31/hsapdv.owl\n",
      "Skipping directory entry: releases/2022-05-31/hso-relation-graph.tsv.gz\n",
      "Skipping directory entry: releases/2022-05-31/hso.db\n",
      "Skipping directory entry: releases/2022-05-31/hso.owl\n",
      "Skipping directory entry: releases/2022-05-31/htn-relation-graph.tsv.gz\n",
      "Skipping directory entry: releases/2022-05-31/htn.db\n",
      "Skipping directory entry: releases/2022-05-31/htn.owl\n",
      "Skipping directory entry: releases/2022-05-31/iao-relation-graph.tsv.gz\n",
      "Skipping directory entry: releases/2022-05-31/iao.db\n",
      "Skipping directory entry: releases/2022-05-31/iao.owl\n",
      "Skipping directory entry: releases/2022-05-31/iceo-relation-graph.tsv.gz\n",
      "Skipping directory entry: releases/2022-05-31/iceo.db\n",
      "Skipping directory entry: releases/2022-05-31/iceo.owl\n",
      "Skipping directory entry: releases/2022-05-31/ico-relation-graph.tsv.gz\n",
      "Skipping directory entry: releases/2022-05-31/ico.db\n",
      "Skipping directory entry: releases/2022-05-31/ico.owl\n",
      "Skipping directory entry: releases/2022-05-31/ido-relation-graph.tsv.gz\n",
      "Skipping directory entry: releases/2022-05-31/ido.db\n",
      "Skipping directory entry: releases/2022-05-31/ido.owl\n",
      "Skipping directory entry: releases/2022-05-31/ino-relation-graph.tsv.gz\n",
      "Skipping directory entry: releases/2022-05-31/ino.db\n",
      "Skipping directory entry: releases/2022-05-31/ino.owl\n",
      "Skipping directory entry: releases/2022-05-31/kisao-relation-graph.tsv.gz\n",
      "Skipping directory entry: releases/2022-05-31/kisao.db\n",
      "Skipping directory entry: releases/2022-05-31/kisao.owl\n",
      "Skipping directory entry: releases/2022-05-31/labo-relation-graph.tsv.gz\n",
      "Skipping directory entry: releases/2022-05-31/labo.db\n",
      "Skipping directory entry: releases/2022-05-31/labo.owl\n",
      "Skipping directory entry: releases/2022-05-31/lepao-relation-graph.tsv.gz\n",
      "Skipping directory entry: releases/2022-05-31/lepao.db\n",
      "Skipping directory entry: releases/2022-05-31/lepao.owl\n",
      "Skipping directory entry: releases/2022-05-31/ma-relation-graph.tsv.gz\n",
      "Skipping directory entry: releases/2022-05-31/ma.db\n",
      "Skipping directory entry: releases/2022-05-31/ma.owl\n",
      "Skipping directory entry: releases/2022-05-31/mamo-relation-graph.tsv.gz\n",
      "Skipping directory entry: releases/2022-05-31/mamo.db\n",
      "Skipping directory entry: releases/2022-05-31/mamo.owl\n",
      "Skipping directory entry: releases/2022-05-31/matcher-test.db.old\n",
      "Skipping directory entry: releases/2022-05-31/maxo-relation-graph.tsv.gz\n",
      "Skipping directory entry: releases/2022-05-31/maxo.db\n",
      "Skipping directory entry: releases/2022-05-31/maxo.owl\n",
      "Skipping directory entry: releases/2022-05-31/mco-relation-graph.tsv.gz\n",
      "Skipping directory entry: releases/2022-05-31/mco.db\n",
      "Skipping directory entry: releases/2022-05-31/mco.owl\n",
      "Skipping directory entry: releases/2022-05-31/mf-relation-graph.tsv.gz\n",
      "Skipping directory entry: releases/2022-05-31/mf.db\n",
      "Skipping directory entry: releases/2022-05-31/mf.owl\n",
      "Skipping directory entry: releases/2022-05-31/mfmo-relation-graph.tsv.gz\n",
      "Skipping directory entry: releases/2022-05-31/mfmo.db\n",
      "Skipping directory entry: releases/2022-05-31/mfmo.owl\n",
      "Skipping directory entry: releases/2022-05-31/mfoem-relation-graph.tsv.gz\n",
      "Skipping directory entry: releases/2022-05-31/mfoem.db\n",
      "Skipping directory entry: releases/2022-05-31/mfoem.owl\n",
      "Skipping directory entry: releases/2022-05-31/mfomd-relation-graph.tsv.gz\n",
      "Skipping directory entry: releases/2022-05-31/mfomd.db\n",
      "Skipping directory entry: releases/2022-05-31/mfomd.owl\n",
      "Skipping directory entry: releases/2022-05-31/mi-relation-graph.tsv.gz\n",
      "Skipping directory entry: releases/2022-05-31/mi.db\n",
      "Skipping directory entry: releases/2022-05-31/mi.owl\n",
      "Skipping directory entry: releases/2022-05-31/miapa-relation-graph.tsv.gz\n",
      "Skipping directory entry: releases/2022-05-31/miapa.db\n",
      "Skipping directory entry: releases/2022-05-31/miapa.owl\n",
      "Skipping directory entry: releases/2022-05-31/micro-relation-graph.tsv\n",
      "Skipping directory entry: releases/2022-05-31/micro.db\n",
      "Skipping directory entry: releases/2022-05-31/micro.db.tmp\n",
      "Skipping directory entry: releases/2022-05-31/micro.owl\n",
      "Skipping directory entry: releases/2022-05-31/mmo-relation-graph.tsv.gz\n",
      "Skipping directory entry: releases/2022-05-31/mmo.db\n",
      "Skipping directory entry: releases/2022-05-31/mmo.owl\n",
      "Skipping directory entry: releases/2022-05-31/mmusdv-relation-graph.tsv.gz\n",
      "Skipping directory entry: releases/2022-05-31/mmusdv.db\n",
      "Skipping directory entry: releases/2022-05-31/mmusdv.owl\n"
     ]
    }
   ],
   "execution_count": 17
  },
  {
   "metadata": {
    "ExecuteTime": {
     "end_time": "2025-02-21T13:00:16.853626Z",
     "start_time": "2025-02-21T13:00:16.847661Z"
    }
   },
   "cell_type": "code",
   "source": [
    "non_db_gz_basenames = list(base_names - db_gz_basenames)\n",
    "non_db_gz_basenames.sort()"
   ],
   "id": "4654647fddc001a",
   "outputs": [],
   "execution_count": 18
  },
  {
   "metadata": {
    "ExecuteTime": {
     "end_time": "2025-02-21T13:00:17.402995Z",
     "start_time": "2025-02-21T13:00:17.398966Z"
    }
   },
   "cell_type": "code",
   "source": "non_db_gz_basenames",
   "id": "44f6658a90ab88f4",
   "outputs": [
    {
     "data": {
      "text/plain": [
       "['README',\n",
       " 'aeo',\n",
       " 'allotrope',\n",
       " 'bad',\n",
       " 'biopragmatics',\n",
       " 'cme',\n",
       " 'envo.db',\n",
       " 'foo',\n",
       " 'goa_uniprot_all',\n",
       " 'inst',\n",
       " 'kegg',\n",
       " 'matcher',\n",
       " 'obo',\n",
       " 'obo_prefixes',\n",
       " 'oboe',\n",
       " 'omiabis',\n",
       " 'reactome']"
      ]
     },
     "execution_count": 19,
     "metadata": {},
     "output_type": "execute_result"
    }
   ],
   "execution_count": 19
  },
  {
   "metadata": {
    "ExecuteTime": {
     "end_time": "2025-02-21T13:00:18.050261Z",
     "start_time": "2025-02-21T13:00:18.045242Z"
    }
   },
   "cell_type": "code",
   "source": "extension_counter",
   "id": "32f8e2978b4e93e3",
   "outputs": [
    {
     "data": {
      "text/plain": [
       "Counter({'db.gz': 237,\n",
       "         'owl': 150,\n",
       "         'relation-graph.tsv.gz': 147,\n",
       "         'db': 112,\n",
       "         'relation-graph.tsv': 3,\n",
       "         'db.tmp': 3,\n",
       "         'md': 1,\n",
       "         'ontology.db': 1,\n",
       "         'ontology.db.old': 1,\n",
       "         'reactome.db.gz': 1,\n",
       "         'db.old': 1,\n",
       "         'owl.old': 1,\n",
       "         'journal': 1,\n",
       "         'relation-graph.tsv.ttl.tmp': 1,\n",
       "         'amigo.db.gz': 1,\n",
       "         'lego.db.gz': 1,\n",
       "         'nucleus-relation-graph.tsv.gz': 1,\n",
       "         'nucleus.db': 1,\n",
       "         'nucleus.db.old': 1,\n",
       "         'nucleus.owl': 1,\n",
       "         'plus.db': 1,\n",
       "         'genegroup.db.gz': 1,\n",
       "         'db.gz.old': 1,\n",
       "         'genome.db.gz': 1,\n",
       "         'test.db.old': 1,\n",
       "         'ingest.db.gz': 1,\n",
       "         'ontologies.db': 1,\n",
       "         'core.db.gz': 1,\n",
       "         'standards.db.gz': 1,\n",
       "         'min.owl': 1,\n",
       "         'db.db': 1,\n",
       "         'Homo-sapiens.db.gz': 1,\n",
       "         'hs.db.gz': 1,\n",
       "         'mm.db.gz': 1})"
      ]
     },
     "execution_count": 20,
     "metadata": {},
     "output_type": "execute_result"
    }
   ],
   "execution_count": 20
  },
  {
   "metadata": {
    "ExecuteTime": {
     "end_time": "2025-02-21T13:00:19.095828Z",
     "start_time": "2025-02-21T13:00:19.086962Z"
    }
   },
   "cell_type": "code",
   "source": [
    "# Write the data to a TSV file\n",
    "with open(tsv_output, 'w', newline='') as tsvfile:\n",
    "    writer = csv.DictWriter(tsvfile, fieldnames=contents[0].keys(), delimiter='\\t')\n",
    "    writer.writeheader()\n",
    "    writer.writerows(contents)\n",
    "\n",
    "print(f\"Fetched and saved {len(contents)} entries to {tsv_output}\")"
   ],
   "id": "af9ba4e56a67d12",
   "outputs": [
    {
     "name": "stdout",
     "output_type": "stream",
     "text": [
      "Fetched and saved 680 entries to bbop-sem-sql-catalog-filtered.tsv\n"
     ]
    }
   ],
   "execution_count": 21
  },
  {
   "metadata": {
    "ExecuteTime": {
     "end_time": "2025-02-21T12:50:19.201867Z",
     "start_time": "2025-02-21T12:50:19.199505Z"
    }
   },
   "cell_type": "code",
   "source": "",
   "id": "51012777512630c8",
   "outputs": [],
   "execution_count": null
  }
 ],
 "metadata": {
  "kernelspec": {
   "display_name": "Python 3",
   "language": "python",
   "name": "python3"
  },
  "language_info": {
   "codemirror_mode": {
    "name": "ipython",
    "version": 2
   },
   "file_extension": ".py",
   "mimetype": "text/x-python",
   "name": "python",
   "nbconvert_exporter": "python",
   "pygments_lexer": "ipython2",
   "version": "2.7.6"
  }
 },
 "nbformat": 4,
 "nbformat_minor": 5
}
