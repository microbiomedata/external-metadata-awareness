{
 "cells": [
  {
   "cell_type": "code",
   "id": "initial_id",
   "metadata": {
    "collapsed": true,
    "ExecuteTime": {
     "end_time": "2025-02-21T12:50:57.411407Z",
     "start_time": "2025-02-21T12:50:57.306902Z"
    }
   },
   "source": [
    "import yaml\n",
    "import requests\n",
    "import csv"
   ],
   "outputs": [],
   "execution_count": 1
  },
  {
   "metadata": {
    "ExecuteTime": {
     "end_time": "2025-02-21T12:50:57.418099Z",
     "start_time": "2025-02-21T12:50:57.415475Z"
    }
   },
   "cell_type": "code",
   "source": [
    "obo_yaml_url = \"http://purl.obolibrary.org/meta/ontologies.yml\"\n",
    "tsv_output = \"obo_ontologies.tsv\""
   ],
   "id": "ce36491f3e7f2e82",
   "outputs": [],
   "execution_count": 2
  },
  {
   "metadata": {
    "ExecuteTime": {
     "end_time": "2025-02-21T12:50:58.827509Z",
     "start_time": "2025-02-21T12:50:57.545465Z"
    }
   },
   "cell_type": "code",
   "source": [
    "# Fetch the YAML content from the URL\n",
    "response = requests.get(obo_yaml_url)\n",
    "if response.status_code == 200:\n",
    "    data = yaml.safe_load(response.text)\n",
    "else:\n",
    "    raise Exception(f\"Failed to fetch the YAML file. Status code: {response.status_code}\")"
   ],
   "id": "9deb3e6376d0cc2b",
   "outputs": [],
   "execution_count": 3
  },
  {
   "metadata": {
    "ExecuteTime": {
     "end_time": "2025-02-21T12:50:58.837522Z",
     "start_time": "2025-02-21T12:50:58.834440Z"
    }
   },
   "cell_type": "code",
   "source": [
    "# Extract the desired information\n",
    "ontologies_list = []\n",
    "for ontology in data.get('ontologies', []):\n",
    "    ontology_info = {\n",
    "        'id': ontology.get('id'),\n",
    "        'preferredPrefix': ontology.get('preferredPrefix'),\n",
    "        'title': ontology.get('title')\n",
    "    }\n",
    "    ontologies_list.append(ontology_info)\n"
   ],
   "id": "c5fa5a4d0a39b064",
   "outputs": [],
   "execution_count": 4
  },
  {
   "metadata": {
    "ExecuteTime": {
     "end_time": "2025-02-21T12:50:58.881563Z",
     "start_time": "2025-02-21T12:50:58.876595Z"
    }
   },
   "cell_type": "code",
   "source": [
    "# Write the data to a TSV file\n",
    "with open(tsv_output, 'w', newline='') as tsvfile:\n",
    "    writer = csv.DictWriter(tsvfile, fieldnames=ontologies_list[0].keys(), delimiter='\\t')\n",
    "    writer.writeheader()\n",
    "    writer.writerows(ontologies_list)\n",
    "\n",
    "print(f\"Fetched and saved {len(tsv_output)} entries to {tsv_output}\")"
   ],
   "id": "1d42776d3419c58f",
   "outputs": [
    {
     "name": "stdout",
     "output_type": "stream",
     "text": [
      "Fetched and saved 18 entries to obo_ontologies.tsv\n"
     ]
    }
   ],
   "execution_count": 5
  }
 ],
 "metadata": {
  "kernelspec": {
   "display_name": "Python 3",
   "language": "python",
   "name": "python3"
  },
  "language_info": {
   "codemirror_mode": {
    "name": "ipython",
    "version": 2
   },
   "file_extension": ".py",
   "mimetype": "text/x-python",
   "name": "python",
   "nbconvert_exporter": "python",
   "pygments_lexer": "ipython2",
   "version": "2.7.6"
  }
 },
 "nbformat": 4,
 "nbformat_minor": 5
}
