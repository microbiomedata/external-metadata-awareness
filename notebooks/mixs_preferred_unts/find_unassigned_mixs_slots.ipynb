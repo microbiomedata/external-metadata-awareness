{
 "cells": [
  {
   "metadata": {
    "ExecuteTime": {
     "end_time": "2025-04-09T00:18:10.712704Z",
     "start_time": "2025-04-09T00:18:10.596568Z"
    }
   },
   "cell_type": "code",
   "source": [
    "import requests\n",
    "import yaml\n"
   ],
   "id": "3c0d1775303d123d",
   "outputs": [],
   "execution_count": 1
  },
  {
   "metadata": {
    "ExecuteTime": {
     "end_time": "2025-04-09T00:18:11.063798Z",
     "start_time": "2025-04-09T00:18:11.060976Z"
    }
   },
   "cell_type": "code",
   "source": "mixs_url = \"https://raw.githubusercontent.com/GenomicsStandardsConsortium/mixs/refs/heads/main/src/mixs/schema/mixs.yaml\"",
   "id": "88f931682911d611",
   "outputs": [],
   "execution_count": 2
  },
  {
   "metadata": {
    "ExecuteTime": {
     "end_time": "2025-04-09T00:18:11.569703Z",
     "start_time": "2025-04-09T00:18:11.566228Z"
    }
   },
   "cell_type": "code",
   "source": "nmdc_url = \"https://raw.githubusercontent.com/microbiomedata/nmdc-schema/refs/heads/main/nmdc_schema/nmdc_materialized_patterns.yaml\"",
   "id": "bdd5e69e37495d4d",
   "outputs": [],
   "execution_count": 3
  },
  {
   "metadata": {
    "ExecuteTime": {
     "end_time": "2025-04-09T00:18:12.024497Z",
     "start_time": "2025-04-09T00:18:12.020887Z"
    }
   },
   "cell_type": "code",
   "source": [
    "def load_yaml_from_url(url):\n",
    "    # Fetch the content from the URL\n",
    "    response = requests.get(url)\n",
    "\n",
    "    # Check if the request was successful\n",
    "    response.raise_for_status()\n",
    "\n",
    "    # Parse the YAML content into a Python dictionary\n",
    "    data = yaml.safe_load(response.text)\n",
    "\n",
    "    return data"
   ],
   "id": "578ea90b6fdcb2c7",
   "outputs": [],
   "execution_count": 4
  },
  {
   "metadata": {
    "ExecuteTime": {
     "end_time": "2025-04-09T00:18:14.279933Z",
     "start_time": "2025-04-09T00:18:12.470667Z"
    }
   },
   "cell_type": "code",
   "source": "mixs_schema = load_yaml_from_url(mixs_url)",
   "id": "8db103dfea3da9db",
   "outputs": [],
   "execution_count": 5
  },
  {
   "metadata": {
    "ExecuteTime": {
     "end_time": "2025-04-09T00:18:16.099836Z",
     "start_time": "2025-04-09T00:18:14.283839Z"
    }
   },
   "cell_type": "code",
   "source": "nmdc_schema = load_yaml_from_url(nmdc_url)",
   "id": "715f5cc58c5a7669",
   "outputs": [],
   "execution_count": 6
  },
  {
   "metadata": {
    "ExecuteTime": {
     "end_time": "2025-04-09T00:18:17.095541Z",
     "start_time": "2025-04-09T00:18:17.091919Z"
    }
   },
   "cell_type": "code",
   "source": [
    "mixs_slot_names = [\n",
    "    slot_name\n",
    "    for slot_name, slot_def in mixs_schema['slots'].items()\n",
    "    if slot_def.get('domain') != 'MixsCompliantData'\n",
    "]"
   ],
   "id": "472b854814d437d0",
   "outputs": [],
   "execution_count": 7
  },
  {
   "metadata": {
    "ExecuteTime": {
     "end_time": "2025-04-09T00:18:17.604375Z",
     "start_time": "2025-04-09T00:18:17.601272Z"
    }
   },
   "cell_type": "code",
   "source": "nmdc_schema_slot_names = list(nmdc_schema['slots'].keys())",
   "id": "86e1c512b208f4ce",
   "outputs": [],
   "execution_count": 8
  },
  {
   "metadata": {
    "ExecuteTime": {
     "end_time": "2025-04-09T00:18:18.249098Z",
     "start_time": "2025-04-09T00:18:18.244085Z"
    }
   },
   "cell_type": "code",
   "source": "mixs_slots_absent_from_nmdc = set(mixs_slot_names) - set(nmdc_schema_slot_names)",
   "id": "5e87c570e8ea20fd",
   "outputs": [],
   "execution_count": 9
  },
  {
   "metadata": {
    "ExecuteTime": {
     "end_time": "2025-04-09T00:18:18.825565Z",
     "start_time": "2025-04-09T00:18:18.821888Z"
    }
   },
   "cell_type": "code",
   "source": [
    "with open(\"mixs_term_names.txt\", \"w\") as f:\n",
    "    for line in mixs_slot_names:\n",
    "        f.write(line + \"\\n\")"
   ],
   "id": "24b75a7dd393b1c1",
   "outputs": [],
   "execution_count": 10
  },
  {
   "metadata": {
    "ExecuteTime": {
     "end_time": "2025-04-09T00:18:19.577194Z",
     "start_time": "2025-04-09T00:18:19.572679Z"
    }
   },
   "cell_type": "code",
   "source": [
    "with open(\"mixs_non_nmdc_term_names.txt\", \"w\") as f:\n",
    "    for line in mixs_slots_absent_from_nmdc:\n",
    "        f.write(line + \"\\n\")"
   ],
   "id": "fd1dc821687d0676",
   "outputs": [],
   "execution_count": 11
  },
  {
   "metadata": {},
   "cell_type": "code",
   "outputs": [],
   "execution_count": null,
   "source": "",
   "id": "bfb7c31fe4bbdb9d"
  }
 ],
 "metadata": {
  "kernelspec": {
   "display_name": "Python 3",
   "language": "python",
   "name": "python3"
  },
  "language_info": {
   "codemirror_mode": {
    "name": "ipython",
    "version": 2
   },
   "file_extension": ".py",
   "mimetype": "text/x-python",
   "name": "python",
   "nbconvert_exporter": "python",
   "pygments_lexer": "ipython2",
   "version": "2.7.6"
  }
 },
 "nbformat": 4,
 "nbformat_minor": 5
}
