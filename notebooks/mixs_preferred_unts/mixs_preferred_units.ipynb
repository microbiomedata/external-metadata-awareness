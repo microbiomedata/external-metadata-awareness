{
 "cells": [
  {
   "metadata": {
    "ExecuteTime": {
     "end_time": "2025-03-26T13:10:06.493671Z",
     "start_time": "2025-03-26T13:10:05.721346Z"
    }
   },
   "cell_type": "code",
   "source": [
    "from linkml_runtime import SchemaView\n",
    "from jsonasobj2 import as_dict\n",
    "import pandas as pd\n",
    "import re"
   ],
   "id": "b5d49d73b7ac680",
   "outputs": [],
   "execution_count": 1
  },
  {
   "cell_type": "code",
   "id": "initial_id",
   "metadata": {
    "collapsed": true,
    "ExecuteTime": {
     "end_time": "2025-03-26T13:10:06.500358Z",
     "start_time": "2025-03-26T13:10:06.497558Z"
    }
   },
   "source": "mixs_schema_url = \"https://raw.githubusercontent.com/GenomicsStandardsConsortium/mixs/refs/heads/main/src/mixs/schema/mixs.yaml\"",
   "outputs": [],
   "execution_count": 2
  },
  {
   "metadata": {
    "ExecuteTime": {
     "end_time": "2025-03-26T13:10:06.675315Z",
     "start_time": "2025-03-26T13:10:06.672572Z"
    }
   },
   "cell_type": "code",
   "source": "ucum_xlsx_url = \"https://github.com/ucum-org/ucum/raw/refs/heads/main/common-units/TableOfExampleUcumCodesForElectronicMessaging.xlsx\"",
   "id": "fb53d70986e5b878",
   "outputs": [],
   "execution_count": 3
  },
  {
   "metadata": {
    "ExecuteTime": {
     "end_time": "2025-03-26T13:10:07.516194Z",
     "start_time": "2025-03-26T13:10:06.720086Z"
    }
   },
   "cell_type": "code",
   "source": "ucum_xlsx_frame = pd.read_excel(ucum_xlsx_url, skiprows=1)",
   "id": "675a4f3779da5cb6",
   "outputs": [],
   "execution_count": 4
  },
  {
   "metadata": {
    "ExecuteTime": {
     "end_time": "2025-03-26T13:10:07.526765Z",
     "start_time": "2025-03-26T13:10:07.519468Z"
    }
   },
   "cell_type": "code",
   "source": "ucum_xlsx_frame.to_csv(\"TableOfExampleUcumCodesForElectronicMessaging.tsv\", sep=\"\\t\", index=False)",
   "id": "99275935f62053bd",
   "outputs": [],
   "execution_count": 5
  },
  {
   "metadata": {
    "ExecuteTime": {
     "end_time": "2025-03-26T13:10:09.084903Z",
     "start_time": "2025-03-26T13:10:07.564692Z"
    }
   },
   "cell_type": "code",
   "source": "mixs_view = SchemaView(mixs_schema_url)",
   "id": "cd9103a01bb0487d",
   "outputs": [],
   "execution_count": 6
  },
  {
   "metadata": {
    "ExecuteTime": {
     "end_time": "2025-03-26T13:10:10.464776Z",
     "start_time": "2025-03-26T13:10:10.452942Z"
    }
   },
   "cell_type": "code",
   "source": [
    "checklist_names = set(mixs_view.class_descendants(\n",
    "    class_name=\"Checklist\",\n",
    "    reflexive=False,\n",
    "    mixins=False,\n",
    "    is_a=True\n",
    "))"
   ],
   "id": "795a671c0a1169b2",
   "outputs": [],
   "execution_count": 7
  },
  {
   "metadata": {
    "ExecuteTime": {
     "end_time": "2025-03-26T13:10:11.805284Z",
     "start_time": "2025-03-26T13:10:11.773198Z"
    }
   },
   "cell_type": "code",
   "source": [
    "extension_names = set(mixs_view.class_descendants(\n",
    "    class_name=\"Extension\",\n",
    "    reflexive=False,\n",
    "    mixins=False,\n",
    "    is_a=True\n",
    "))"
   ],
   "id": "3ad7a056059e564c",
   "outputs": [],
   "execution_count": 8
  },
  {
   "metadata": {
    "ExecuteTime": {
     "end_time": "2025-03-26T13:10:13.101390Z",
     "start_time": "2025-03-26T13:10:13.098557Z"
    }
   },
   "cell_type": "code",
   "source": [
    "relevant_class_names = checklist_names | extension_names  # union\n",
    "relevant_class_names = list(relevant_class_names)\n",
    "relevant_class_names.sort()"
   ],
   "id": "ff5f6c5099ed550d",
   "outputs": [],
   "execution_count": 9
  },
  {
   "metadata": {
    "ExecuteTime": {
     "end_time": "2025-03-26T13:10:14.407477Z",
     "start_time": "2025-03-26T13:10:14.403918Z"
    }
   },
   "cell_type": "code",
   "source": "annotation_rows = []",
   "id": "2cc658c9f9c9f6a",
   "outputs": [],
   "execution_count": 10
  },
  {
   "metadata": {
    "ExecuteTime": {
     "end_time": "2025-03-26T13:10:44.797636Z",
     "start_time": "2025-03-26T13:10:17.035737Z"
    }
   },
   "cell_type": "code",
   "source": [
    "for c_name in relevant_class_names:\n",
    "    ic = mixs_view.induced_class(c_name)\n",
    "    for ican, icav in ic.attributes.items():\n",
    "        anndict = as_dict(icav.annotations)\n",
    "        for anndictk, anndictv in anndict.items():\n",
    "            annotation_rows.append({\n",
    "                \"class\": c_name,\n",
    "                \"slot\": ican,\n",
    "                \"annotation\": anndictk,\n",
    "                \"value\": anndictv['value'],\n",
    "            })"
   ],
   "id": "5b324a03c2caacf1",
   "outputs": [],
   "execution_count": 11
  },
  {
   "metadata": {
    "ExecuteTime": {
     "end_time": "2025-03-26T13:10:44.857968Z",
     "start_time": "2025-03-26T13:10:44.843252Z"
    }
   },
   "cell_type": "code",
   "source": "annotations_frame = pd.DataFrame(annotation_rows)",
   "id": "188d284ec3d2fa0a",
   "outputs": [],
   "execution_count": 12
  },
  {
   "metadata": {},
   "cell_type": "markdown",
   "source": [
    "\n",
    "| annotation     |count|\n",
    "|----------------|---|\n",
    "| Expected_value |11180|\n",
    "| Preferred_unit |8359|\n"
   ],
   "id": "52d771b67d7b6681"
  },
  {
   "metadata": {
    "ExecuteTime": {
     "end_time": "2025-03-26T13:10:46.252124Z",
     "start_time": "2025-03-26T13:10:46.237704Z"
    }
   },
   "cell_type": "code",
   "source": "annotations_frame",
   "id": "2bef4fb34931d3d",
   "outputs": [
    {
     "data": {
      "text/plain": [
       "             class               slot      annotation  \\\n",
       "0      Agriculture   plant_growth_med  Expected_value   \n",
       "1      Agriculture    photosynt_activ  Preferred_unit   \n",
       "2      Agriculture   library_prep_kit  Expected_value   \n",
       "3      Agriculture          soil_temp  Preferred_unit   \n",
       "4      Agriculture  soil_conductivity  Preferred_unit   \n",
       "...            ...                ...             ...   \n",
       "19534        Water    tot_inorg_nitro  Preferred_unit   \n",
       "19535        Water          tot_nitro  Preferred_unit   \n",
       "19536        Water      tot_part_carb  Preferred_unit   \n",
       "19537        Water          tot_phosp  Preferred_unit   \n",
       "19538        Water      water_current  Preferred_unit   \n",
       "\n",
       "                                                   value  \n",
       "0                                      EO or enumeration  \n",
       "1                                            mol m-2 s-1  \n",
       "2                        name of library preparation kit  \n",
       "3                                         degree Celsius  \n",
       "4                            milliSiemens per centimeter  \n",
       "...                                                  ...  \n",
       "19534                                microgram per liter  \n",
       "19535  microgram per liter, micromole per liter, mill...  \n",
       "19536           microgram per liter, micromole per liter  \n",
       "19537  micromole per liter, milligram per liter, part...  \n",
       "19538                      cubic meter per second, knots  \n",
       "\n",
       "[19539 rows x 4 columns]"
      ],
      "text/html": [
       "<div>\n",
       "<style scoped>\n",
       "    .dataframe tbody tr th:only-of-type {\n",
       "        vertical-align: middle;\n",
       "    }\n",
       "\n",
       "    .dataframe tbody tr th {\n",
       "        vertical-align: top;\n",
       "    }\n",
       "\n",
       "    .dataframe thead th {\n",
       "        text-align: right;\n",
       "    }\n",
       "</style>\n",
       "<table border=\"1\" class=\"dataframe\">\n",
       "  <thead>\n",
       "    <tr style=\"text-align: right;\">\n",
       "      <th></th>\n",
       "      <th>class</th>\n",
       "      <th>slot</th>\n",
       "      <th>annotation</th>\n",
       "      <th>value</th>\n",
       "    </tr>\n",
       "  </thead>\n",
       "  <tbody>\n",
       "    <tr>\n",
       "      <th>0</th>\n",
       "      <td>Agriculture</td>\n",
       "      <td>plant_growth_med</td>\n",
       "      <td>Expected_value</td>\n",
       "      <td>EO or enumeration</td>\n",
       "    </tr>\n",
       "    <tr>\n",
       "      <th>1</th>\n",
       "      <td>Agriculture</td>\n",
       "      <td>photosynt_activ</td>\n",
       "      <td>Preferred_unit</td>\n",
       "      <td>mol m-2 s-1</td>\n",
       "    </tr>\n",
       "    <tr>\n",
       "      <th>2</th>\n",
       "      <td>Agriculture</td>\n",
       "      <td>library_prep_kit</td>\n",
       "      <td>Expected_value</td>\n",
       "      <td>name of library preparation kit</td>\n",
       "    </tr>\n",
       "    <tr>\n",
       "      <th>3</th>\n",
       "      <td>Agriculture</td>\n",
       "      <td>soil_temp</td>\n",
       "      <td>Preferred_unit</td>\n",
       "      <td>degree Celsius</td>\n",
       "    </tr>\n",
       "    <tr>\n",
       "      <th>4</th>\n",
       "      <td>Agriculture</td>\n",
       "      <td>soil_conductivity</td>\n",
       "      <td>Preferred_unit</td>\n",
       "      <td>milliSiemens per centimeter</td>\n",
       "    </tr>\n",
       "    <tr>\n",
       "      <th>...</th>\n",
       "      <td>...</td>\n",
       "      <td>...</td>\n",
       "      <td>...</td>\n",
       "      <td>...</td>\n",
       "    </tr>\n",
       "    <tr>\n",
       "      <th>19534</th>\n",
       "      <td>Water</td>\n",
       "      <td>tot_inorg_nitro</td>\n",
       "      <td>Preferred_unit</td>\n",
       "      <td>microgram per liter</td>\n",
       "    </tr>\n",
       "    <tr>\n",
       "      <th>19535</th>\n",
       "      <td>Water</td>\n",
       "      <td>tot_nitro</td>\n",
       "      <td>Preferred_unit</td>\n",
       "      <td>microgram per liter, micromole per liter, mill...</td>\n",
       "    </tr>\n",
       "    <tr>\n",
       "      <th>19536</th>\n",
       "      <td>Water</td>\n",
       "      <td>tot_part_carb</td>\n",
       "      <td>Preferred_unit</td>\n",
       "      <td>microgram per liter, micromole per liter</td>\n",
       "    </tr>\n",
       "    <tr>\n",
       "      <th>19537</th>\n",
       "      <td>Water</td>\n",
       "      <td>tot_phosp</td>\n",
       "      <td>Preferred_unit</td>\n",
       "      <td>micromole per liter, milligram per liter, part...</td>\n",
       "    </tr>\n",
       "    <tr>\n",
       "      <th>19538</th>\n",
       "      <td>Water</td>\n",
       "      <td>water_current</td>\n",
       "      <td>Preferred_unit</td>\n",
       "      <td>cubic meter per second, knots</td>\n",
       "    </tr>\n",
       "  </tbody>\n",
       "</table>\n",
       "<p>19539 rows × 4 columns</p>\n",
       "</div>"
      ]
     },
     "execution_count": 13,
     "metadata": {},
     "output_type": "execute_result"
    }
   ],
   "execution_count": 13
  },
  {
   "metadata": {
    "ExecuteTime": {
     "end_time": "2025-03-26T13:10:47.682894Z",
     "start_time": "2025-03-26T13:10:47.678102Z"
    }
   },
   "cell_type": "code",
   "source": "pu_frame = annotations_frame[annotations_frame['annotation'] == 'Preferred_unit'].copy()",
   "id": "66cae72acb85818b",
   "outputs": [],
   "execution_count": 14
  },
  {
   "metadata": {
    "ExecuteTime": {
     "end_time": "2025-03-26T13:10:47.702480Z",
     "start_time": "2025-03-26T13:10:47.686991Z"
    }
   },
   "cell_type": "code",
   "source": "pu_frame.drop(columns=['class', 'annotation'], inplace=True)",
   "id": "a7973eac17b904d",
   "outputs": [],
   "execution_count": 15
  },
  {
   "metadata": {
    "ExecuteTime": {
     "end_time": "2025-03-26T13:10:47.754919Z",
     "start_time": "2025-03-26T13:10:47.750287Z"
    }
   },
   "cell_type": "code",
   "source": "pu_frame.drop_duplicates(inplace=True)",
   "id": "ee807c3948a0aaa2",
   "outputs": [],
   "execution_count": 16
  },
  {
   "metadata": {
    "ExecuteTime": {
     "end_time": "2025-03-26T13:10:47.802891Z",
     "start_time": "2025-03-26T13:10:47.795795Z"
    }
   },
   "cell_type": "code",
   "source": "pu_frame",
   "id": "5584d9069237a108",
   "outputs": [
    {
     "data": {
      "text/plain": [
       "                     slot                                              value\n",
       "1         photosynt_activ                                        mol m-2 s-1\n",
       "3               soil_temp                                     degree Celsius\n",
       "4       soil_conductivity                        milliSiemens per centimeter\n",
       "7                porosity                                         percentage\n",
       "12                   elev                                              meter\n",
       "...                   ...                                                ...\n",
       "2527  soluble_react_phosp  micromole per liter, milligram per liter, part...\n",
       "2530  suspend_part_matter                                milligram per liter\n",
       "2532       tot_diss_nitro                                microgram per liter\n",
       "2533      tot_inorg_nitro                                microgram per liter\n",
       "2535        tot_part_carb           microgram per liter, micromole per liter\n",
       "\n",
       "[238 rows x 2 columns]"
      ],
      "text/html": [
       "<div>\n",
       "<style scoped>\n",
       "    .dataframe tbody tr th:only-of-type {\n",
       "        vertical-align: middle;\n",
       "    }\n",
       "\n",
       "    .dataframe tbody tr th {\n",
       "        vertical-align: top;\n",
       "    }\n",
       "\n",
       "    .dataframe thead th {\n",
       "        text-align: right;\n",
       "    }\n",
       "</style>\n",
       "<table border=\"1\" class=\"dataframe\">\n",
       "  <thead>\n",
       "    <tr style=\"text-align: right;\">\n",
       "      <th></th>\n",
       "      <th>slot</th>\n",
       "      <th>value</th>\n",
       "    </tr>\n",
       "  </thead>\n",
       "  <tbody>\n",
       "    <tr>\n",
       "      <th>1</th>\n",
       "      <td>photosynt_activ</td>\n",
       "      <td>mol m-2 s-1</td>\n",
       "    </tr>\n",
       "    <tr>\n",
       "      <th>3</th>\n",
       "      <td>soil_temp</td>\n",
       "      <td>degree Celsius</td>\n",
       "    </tr>\n",
       "    <tr>\n",
       "      <th>4</th>\n",
       "      <td>soil_conductivity</td>\n",
       "      <td>milliSiemens per centimeter</td>\n",
       "    </tr>\n",
       "    <tr>\n",
       "      <th>7</th>\n",
       "      <td>porosity</td>\n",
       "      <td>percentage</td>\n",
       "    </tr>\n",
       "    <tr>\n",
       "      <th>12</th>\n",
       "      <td>elev</td>\n",
       "      <td>meter</td>\n",
       "    </tr>\n",
       "    <tr>\n",
       "      <th>...</th>\n",
       "      <td>...</td>\n",
       "      <td>...</td>\n",
       "    </tr>\n",
       "    <tr>\n",
       "      <th>2527</th>\n",
       "      <td>soluble_react_phosp</td>\n",
       "      <td>micromole per liter, milligram per liter, part...</td>\n",
       "    </tr>\n",
       "    <tr>\n",
       "      <th>2530</th>\n",
       "      <td>suspend_part_matter</td>\n",
       "      <td>milligram per liter</td>\n",
       "    </tr>\n",
       "    <tr>\n",
       "      <th>2532</th>\n",
       "      <td>tot_diss_nitro</td>\n",
       "      <td>microgram per liter</td>\n",
       "    </tr>\n",
       "    <tr>\n",
       "      <th>2533</th>\n",
       "      <td>tot_inorg_nitro</td>\n",
       "      <td>microgram per liter</td>\n",
       "    </tr>\n",
       "    <tr>\n",
       "      <th>2535</th>\n",
       "      <td>tot_part_carb</td>\n",
       "      <td>microgram per liter, micromole per liter</td>\n",
       "    </tr>\n",
       "  </tbody>\n",
       "</table>\n",
       "<p>238 rows × 2 columns</p>\n",
       "</div>"
      ]
     },
     "execution_count": 17,
     "metadata": {},
     "output_type": "execute_result"
    }
   ],
   "execution_count": 17
  },
  {
   "metadata": {
    "ExecuteTime": {
     "end_time": "2025-03-26T13:10:49.262619Z",
     "start_time": "2025-03-26T13:10:49.259687Z"
    }
   },
   "cell_type": "code",
   "source": "pus_per_slot = pu_frame['slot'].value_counts()",
   "id": "b6c5e273de5c621a",
   "outputs": [],
   "execution_count": 18
  },
  {
   "metadata": {
    "ExecuteTime": {
     "end_time": "2025-03-26T13:10:49.283965Z",
     "start_time": "2025-03-26T13:10:49.270011Z"
    }
   },
   "cell_type": "code",
   "source": "pus_per_slot",
   "id": "810e28dc4f7bf965",
   "outputs": [
    {
     "data": {
      "text/plain": [
       "slot\n",
       "photosynt_activ        1\n",
       "soil_temp              1\n",
       "soil_conductivity      1\n",
       "porosity               1\n",
       "elev                   1\n",
       "                      ..\n",
       "soluble_react_phosp    1\n",
       "suspend_part_matter    1\n",
       "tot_diss_nitro         1\n",
       "tot_inorg_nitro        1\n",
       "tot_part_carb          1\n",
       "Name: count, Length: 238, dtype: int64"
      ]
     },
     "execution_count": 19,
     "metadata": {},
     "output_type": "execute_result"
    }
   ],
   "execution_count": 19
  },
  {
   "metadata": {
    "ExecuteTime": {
     "end_time": "2025-03-26T13:10:49.331042Z",
     "start_time": "2025-03-26T13:10:49.327385Z"
    }
   },
   "cell_type": "code",
   "source": "multi_pu_line_slots = pus_per_slot[pus_per_slot > 1].index",
   "id": "f475da1d8bad0cfc",
   "outputs": [],
   "execution_count": 20
  },
  {
   "metadata": {
    "ExecuteTime": {
     "end_time": "2025-03-26T13:10:49.381491Z",
     "start_time": "2025-03-26T13:10:49.377836Z"
    }
   },
   "cell_type": "code",
   "source": "multi_pu_line_slots",
   "id": "3be3a490cb6e94ea",
   "outputs": [
    {
     "data": {
      "text/plain": [
       "Index([], dtype='object', name='slot')"
      ]
     },
     "execution_count": 21,
     "metadata": {},
     "output_type": "execute_result"
    }
   ],
   "execution_count": 21
  },
  {
   "metadata": {
    "ExecuteTime": {
     "end_time": "2025-03-26T13:10:49.435464Z",
     "start_time": "2025-03-26T13:10:49.431732Z"
    }
   },
   "cell_type": "code",
   "source": [
    "pu_lines_frame = pu_frame['value'].value_counts().reset_index()\n",
    "pu_lines_frame.columns = ['value', 'count']"
   ],
   "id": "3d55b424d008dfc6",
   "outputs": [],
   "execution_count": 22
  },
  {
   "metadata": {
    "ExecuteTime": {
     "end_time": "2025-03-26T13:10:50.943472Z",
     "start_time": "2025-03-26T13:10:50.937058Z"
    }
   },
   "cell_type": "code",
   "source": "pu_lines_frame",
   "id": "b5a209ff78dd0d34",
   "outputs": [
    {
     "data": {
      "text/plain": [
       "                                                 value  count\n",
       "0                                       degree Celsius     19\n",
       "1                                  milligram per liter     16\n",
       "2                                                meter     12\n",
       "3                                           percentage     10\n",
       "4               milligram per liter, parts per million     10\n",
       "..                                                 ...    ...\n",
       "105  microEinstein per square meter per second, mic...      1\n",
       "106     milligram chlorophyll a per cubic meter, volts      1\n",
       "107                                                lux      1\n",
       "108         number of photons per second per unit area      1\n",
       "109  milligram per cubic meter per day, gram per sq...      1\n",
       "\n",
       "[110 rows x 2 columns]"
      ],
      "text/html": [
       "<div>\n",
       "<style scoped>\n",
       "    .dataframe tbody tr th:only-of-type {\n",
       "        vertical-align: middle;\n",
       "    }\n",
       "\n",
       "    .dataframe tbody tr th {\n",
       "        vertical-align: top;\n",
       "    }\n",
       "\n",
       "    .dataframe thead th {\n",
       "        text-align: right;\n",
       "    }\n",
       "</style>\n",
       "<table border=\"1\" class=\"dataframe\">\n",
       "  <thead>\n",
       "    <tr style=\"text-align: right;\">\n",
       "      <th></th>\n",
       "      <th>value</th>\n",
       "      <th>count</th>\n",
       "    </tr>\n",
       "  </thead>\n",
       "  <tbody>\n",
       "    <tr>\n",
       "      <th>0</th>\n",
       "      <td>degree Celsius</td>\n",
       "      <td>19</td>\n",
       "    </tr>\n",
       "    <tr>\n",
       "      <th>1</th>\n",
       "      <td>milligram per liter</td>\n",
       "      <td>16</td>\n",
       "    </tr>\n",
       "    <tr>\n",
       "      <th>2</th>\n",
       "      <td>meter</td>\n",
       "      <td>12</td>\n",
       "    </tr>\n",
       "    <tr>\n",
       "      <th>3</th>\n",
       "      <td>percentage</td>\n",
       "      <td>10</td>\n",
       "    </tr>\n",
       "    <tr>\n",
       "      <th>4</th>\n",
       "      <td>milligram per liter, parts per million</td>\n",
       "      <td>10</td>\n",
       "    </tr>\n",
       "    <tr>\n",
       "      <th>...</th>\n",
       "      <td>...</td>\n",
       "      <td>...</td>\n",
       "    </tr>\n",
       "    <tr>\n",
       "      <th>105</th>\n",
       "      <td>microEinstein per square meter per second, mic...</td>\n",
       "      <td>1</td>\n",
       "    </tr>\n",
       "    <tr>\n",
       "      <th>106</th>\n",
       "      <td>milligram chlorophyll a per cubic meter, volts</td>\n",
       "      <td>1</td>\n",
       "    </tr>\n",
       "    <tr>\n",
       "      <th>107</th>\n",
       "      <td>lux</td>\n",
       "      <td>1</td>\n",
       "    </tr>\n",
       "    <tr>\n",
       "      <th>108</th>\n",
       "      <td>number of photons per second per unit area</td>\n",
       "      <td>1</td>\n",
       "    </tr>\n",
       "    <tr>\n",
       "      <th>109</th>\n",
       "      <td>milligram per cubic meter per day, gram per sq...</td>\n",
       "      <td>1</td>\n",
       "    </tr>\n",
       "  </tbody>\n",
       "</table>\n",
       "<p>110 rows × 2 columns</p>\n",
       "</div>"
      ]
     },
     "execution_count": 23,
     "metadata": {},
     "output_type": "execute_result"
    }
   ],
   "execution_count": 23
  },
  {
   "metadata": {
    "ExecuteTime": {
     "end_time": "2025-03-26T13:10:51.024328Z",
     "start_time": "2025-03-26T13:10:51.019895Z"
    }
   },
   "cell_type": "code",
   "source": [
    "# Split on comma or semicolon, then strip each value\n",
    "pu_lines_frame['split'] = pu_lines_frame['value'].apply(\n",
    "    lambda x: [item.strip() for item in re.split(r'[;,]', x)]\n",
    ")"
   ],
   "id": "2bcffecd9a625fc0",
   "outputs": [],
   "execution_count": 24
  },
  {
   "metadata": {
    "ExecuteTime": {
     "end_time": "2025-03-26T13:10:51.046406Z",
     "start_time": "2025-03-26T13:10:51.031130Z"
    }
   },
   "cell_type": "code",
   "source": "pu_lines_frame",
   "id": "eed59833cb80cd8",
   "outputs": [
    {
     "data": {
      "text/plain": [
       "                                                 value  count  \\\n",
       "0                                       degree Celsius     19   \n",
       "1                                  milligram per liter     16   \n",
       "2                                                meter     12   \n",
       "3                                           percentage     10   \n",
       "4               milligram per liter, parts per million     10   \n",
       "..                                                 ...    ...   \n",
       "105  microEinstein per square meter per second, mic...      1   \n",
       "106     milligram chlorophyll a per cubic meter, volts      1   \n",
       "107                                                lux      1   \n",
       "108         number of photons per second per unit area      1   \n",
       "109  milligram per cubic meter per day, gram per sq...      1   \n",
       "\n",
       "                                                 split  \n",
       "0                                     [degree Celsius]  \n",
       "1                                [milligram per liter]  \n",
       "2                                              [meter]  \n",
       "3                                         [percentage]  \n",
       "4             [milligram per liter, parts per million]  \n",
       "..                                                 ...  \n",
       "105  [microEinstein per square meter per second, mi...  \n",
       "106   [milligram chlorophyll a per cubic meter, volts]  \n",
       "107                                              [lux]  \n",
       "108       [number of photons per second per unit area]  \n",
       "109  [milligram per cubic meter per day, gram per s...  \n",
       "\n",
       "[110 rows x 3 columns]"
      ],
      "text/html": [
       "<div>\n",
       "<style scoped>\n",
       "    .dataframe tbody tr th:only-of-type {\n",
       "        vertical-align: middle;\n",
       "    }\n",
       "\n",
       "    .dataframe tbody tr th {\n",
       "        vertical-align: top;\n",
       "    }\n",
       "\n",
       "    .dataframe thead th {\n",
       "        text-align: right;\n",
       "    }\n",
       "</style>\n",
       "<table border=\"1\" class=\"dataframe\">\n",
       "  <thead>\n",
       "    <tr style=\"text-align: right;\">\n",
       "      <th></th>\n",
       "      <th>value</th>\n",
       "      <th>count</th>\n",
       "      <th>split</th>\n",
       "    </tr>\n",
       "  </thead>\n",
       "  <tbody>\n",
       "    <tr>\n",
       "      <th>0</th>\n",
       "      <td>degree Celsius</td>\n",
       "      <td>19</td>\n",
       "      <td>[degree Celsius]</td>\n",
       "    </tr>\n",
       "    <tr>\n",
       "      <th>1</th>\n",
       "      <td>milligram per liter</td>\n",
       "      <td>16</td>\n",
       "      <td>[milligram per liter]</td>\n",
       "    </tr>\n",
       "    <tr>\n",
       "      <th>2</th>\n",
       "      <td>meter</td>\n",
       "      <td>12</td>\n",
       "      <td>[meter]</td>\n",
       "    </tr>\n",
       "    <tr>\n",
       "      <th>3</th>\n",
       "      <td>percentage</td>\n",
       "      <td>10</td>\n",
       "      <td>[percentage]</td>\n",
       "    </tr>\n",
       "    <tr>\n",
       "      <th>4</th>\n",
       "      <td>milligram per liter, parts per million</td>\n",
       "      <td>10</td>\n",
       "      <td>[milligram per liter, parts per million]</td>\n",
       "    </tr>\n",
       "    <tr>\n",
       "      <th>...</th>\n",
       "      <td>...</td>\n",
       "      <td>...</td>\n",
       "      <td>...</td>\n",
       "    </tr>\n",
       "    <tr>\n",
       "      <th>105</th>\n",
       "      <td>microEinstein per square meter per second, mic...</td>\n",
       "      <td>1</td>\n",
       "      <td>[microEinstein per square meter per second, mi...</td>\n",
       "    </tr>\n",
       "    <tr>\n",
       "      <th>106</th>\n",
       "      <td>milligram chlorophyll a per cubic meter, volts</td>\n",
       "      <td>1</td>\n",
       "      <td>[milligram chlorophyll a per cubic meter, volts]</td>\n",
       "    </tr>\n",
       "    <tr>\n",
       "      <th>107</th>\n",
       "      <td>lux</td>\n",
       "      <td>1</td>\n",
       "      <td>[lux]</td>\n",
       "    </tr>\n",
       "    <tr>\n",
       "      <th>108</th>\n",
       "      <td>number of photons per second per unit area</td>\n",
       "      <td>1</td>\n",
       "      <td>[number of photons per second per unit area]</td>\n",
       "    </tr>\n",
       "    <tr>\n",
       "      <th>109</th>\n",
       "      <td>milligram per cubic meter per day, gram per sq...</td>\n",
       "      <td>1</td>\n",
       "      <td>[milligram per cubic meter per day, gram per s...</td>\n",
       "    </tr>\n",
       "  </tbody>\n",
       "</table>\n",
       "<p>110 rows × 3 columns</p>\n",
       "</div>"
      ]
     },
     "execution_count": 25,
     "metadata": {},
     "output_type": "execute_result"
    }
   ],
   "execution_count": 25
  },
  {
   "metadata": {
    "ExecuteTime": {
     "end_time": "2025-03-26T13:10:51.100849Z",
     "start_time": "2025-03-26T13:10:51.095600Z"
    }
   },
   "cell_type": "code",
   "source": [
    "# Explode the list into separate rows\n",
    "preferred_units_frame = pu_lines_frame.explode('split', ignore_index=True)"
   ],
   "id": "6b9366194a814a14",
   "outputs": [],
   "execution_count": 26
  },
  {
   "metadata": {
    "ExecuteTime": {
     "end_time": "2025-03-26T13:10:51.199599Z",
     "start_time": "2025-03-26T13:10:51.190770Z"
    }
   },
   "cell_type": "code",
   "source": "preferred_units_frame",
   "id": "be0024e8338f2fce",
   "outputs": [
    {
     "data": {
      "text/plain": [
       "                                                 value  count  \\\n",
       "0                                       degree Celsius     19   \n",
       "1                                  milligram per liter     16   \n",
       "2                                                meter     12   \n",
       "3                                           percentage     10   \n",
       "4               milligram per liter, parts per million     10   \n",
       "..                                                 ...    ...   \n",
       "193     milligram chlorophyll a per cubic meter, volts      1   \n",
       "194                                                lux      1   \n",
       "195         number of photons per second per unit area      1   \n",
       "196  milligram per cubic meter per day, gram per sq...      1   \n",
       "197  milligram per cubic meter per day, gram per sq...      1   \n",
       "\n",
       "                                          split  \n",
       "0                                degree Celsius  \n",
       "1                           milligram per liter  \n",
       "2                                         meter  \n",
       "3                                    percentage  \n",
       "4                           milligram per liter  \n",
       "..                                          ...  \n",
       "193                                       volts  \n",
       "194                                         lux  \n",
       "195  number of photons per second per unit area  \n",
       "196           milligram per cubic meter per day  \n",
       "197               gram per square meter per day  \n",
       "\n",
       "[198 rows x 3 columns]"
      ],
      "text/html": [
       "<div>\n",
       "<style scoped>\n",
       "    .dataframe tbody tr th:only-of-type {\n",
       "        vertical-align: middle;\n",
       "    }\n",
       "\n",
       "    .dataframe tbody tr th {\n",
       "        vertical-align: top;\n",
       "    }\n",
       "\n",
       "    .dataframe thead th {\n",
       "        text-align: right;\n",
       "    }\n",
       "</style>\n",
       "<table border=\"1\" class=\"dataframe\">\n",
       "  <thead>\n",
       "    <tr style=\"text-align: right;\">\n",
       "      <th></th>\n",
       "      <th>value</th>\n",
       "      <th>count</th>\n",
       "      <th>split</th>\n",
       "    </tr>\n",
       "  </thead>\n",
       "  <tbody>\n",
       "    <tr>\n",
       "      <th>0</th>\n",
       "      <td>degree Celsius</td>\n",
       "      <td>19</td>\n",
       "      <td>degree Celsius</td>\n",
       "    </tr>\n",
       "    <tr>\n",
       "      <th>1</th>\n",
       "      <td>milligram per liter</td>\n",
       "      <td>16</td>\n",
       "      <td>milligram per liter</td>\n",
       "    </tr>\n",
       "    <tr>\n",
       "      <th>2</th>\n",
       "      <td>meter</td>\n",
       "      <td>12</td>\n",
       "      <td>meter</td>\n",
       "    </tr>\n",
       "    <tr>\n",
       "      <th>3</th>\n",
       "      <td>percentage</td>\n",
       "      <td>10</td>\n",
       "      <td>percentage</td>\n",
       "    </tr>\n",
       "    <tr>\n",
       "      <th>4</th>\n",
       "      <td>milligram per liter, parts per million</td>\n",
       "      <td>10</td>\n",
       "      <td>milligram per liter</td>\n",
       "    </tr>\n",
       "    <tr>\n",
       "      <th>...</th>\n",
       "      <td>...</td>\n",
       "      <td>...</td>\n",
       "      <td>...</td>\n",
       "    </tr>\n",
       "    <tr>\n",
       "      <th>193</th>\n",
       "      <td>milligram chlorophyll a per cubic meter, volts</td>\n",
       "      <td>1</td>\n",
       "      <td>volts</td>\n",
       "    </tr>\n",
       "    <tr>\n",
       "      <th>194</th>\n",
       "      <td>lux</td>\n",
       "      <td>1</td>\n",
       "      <td>lux</td>\n",
       "    </tr>\n",
       "    <tr>\n",
       "      <th>195</th>\n",
       "      <td>number of photons per second per unit area</td>\n",
       "      <td>1</td>\n",
       "      <td>number of photons per second per unit area</td>\n",
       "    </tr>\n",
       "    <tr>\n",
       "      <th>196</th>\n",
       "      <td>milligram per cubic meter per day, gram per sq...</td>\n",
       "      <td>1</td>\n",
       "      <td>milligram per cubic meter per day</td>\n",
       "    </tr>\n",
       "    <tr>\n",
       "      <th>197</th>\n",
       "      <td>milligram per cubic meter per day, gram per sq...</td>\n",
       "      <td>1</td>\n",
       "      <td>gram per square meter per day</td>\n",
       "    </tr>\n",
       "  </tbody>\n",
       "</table>\n",
       "<p>198 rows × 3 columns</p>\n",
       "</div>"
      ]
     },
     "execution_count": 27,
     "metadata": {},
     "output_type": "execute_result"
    }
   ],
   "execution_count": 27
  },
  {
   "metadata": {
    "ExecuteTime": {
     "end_time": "2025-03-26T13:10:51.254011Z",
     "start_time": "2025-03-26T13:10:51.246883Z"
    }
   },
   "cell_type": "code",
   "source": "pu_frame",
   "id": "5df59e2be90c2463",
   "outputs": [
    {
     "data": {
      "text/plain": [
       "                     slot                                              value\n",
       "1         photosynt_activ                                        mol m-2 s-1\n",
       "3               soil_temp                                     degree Celsius\n",
       "4       soil_conductivity                        milliSiemens per centimeter\n",
       "7                porosity                                         percentage\n",
       "12                   elev                                              meter\n",
       "...                   ...                                                ...\n",
       "2527  soluble_react_phosp  micromole per liter, milligram per liter, part...\n",
       "2530  suspend_part_matter                                milligram per liter\n",
       "2532       tot_diss_nitro                                microgram per liter\n",
       "2533      tot_inorg_nitro                                microgram per liter\n",
       "2535        tot_part_carb           microgram per liter, micromole per liter\n",
       "\n",
       "[238 rows x 2 columns]"
      ],
      "text/html": [
       "<div>\n",
       "<style scoped>\n",
       "    .dataframe tbody tr th:only-of-type {\n",
       "        vertical-align: middle;\n",
       "    }\n",
       "\n",
       "    .dataframe tbody tr th {\n",
       "        vertical-align: top;\n",
       "    }\n",
       "\n",
       "    .dataframe thead th {\n",
       "        text-align: right;\n",
       "    }\n",
       "</style>\n",
       "<table border=\"1\" class=\"dataframe\">\n",
       "  <thead>\n",
       "    <tr style=\"text-align: right;\">\n",
       "      <th></th>\n",
       "      <th>slot</th>\n",
       "      <th>value</th>\n",
       "    </tr>\n",
       "  </thead>\n",
       "  <tbody>\n",
       "    <tr>\n",
       "      <th>1</th>\n",
       "      <td>photosynt_activ</td>\n",
       "      <td>mol m-2 s-1</td>\n",
       "    </tr>\n",
       "    <tr>\n",
       "      <th>3</th>\n",
       "      <td>soil_temp</td>\n",
       "      <td>degree Celsius</td>\n",
       "    </tr>\n",
       "    <tr>\n",
       "      <th>4</th>\n",
       "      <td>soil_conductivity</td>\n",
       "      <td>milliSiemens per centimeter</td>\n",
       "    </tr>\n",
       "    <tr>\n",
       "      <th>7</th>\n",
       "      <td>porosity</td>\n",
       "      <td>percentage</td>\n",
       "    </tr>\n",
       "    <tr>\n",
       "      <th>12</th>\n",
       "      <td>elev</td>\n",
       "      <td>meter</td>\n",
       "    </tr>\n",
       "    <tr>\n",
       "      <th>...</th>\n",
       "      <td>...</td>\n",
       "      <td>...</td>\n",
       "    </tr>\n",
       "    <tr>\n",
       "      <th>2527</th>\n",
       "      <td>soluble_react_phosp</td>\n",
       "      <td>micromole per liter, milligram per liter, part...</td>\n",
       "    </tr>\n",
       "    <tr>\n",
       "      <th>2530</th>\n",
       "      <td>suspend_part_matter</td>\n",
       "      <td>milligram per liter</td>\n",
       "    </tr>\n",
       "    <tr>\n",
       "      <th>2532</th>\n",
       "      <td>tot_diss_nitro</td>\n",
       "      <td>microgram per liter</td>\n",
       "    </tr>\n",
       "    <tr>\n",
       "      <th>2533</th>\n",
       "      <td>tot_inorg_nitro</td>\n",
       "      <td>microgram per liter</td>\n",
       "    </tr>\n",
       "    <tr>\n",
       "      <th>2535</th>\n",
       "      <td>tot_part_carb</td>\n",
       "      <td>microgram per liter, micromole per liter</td>\n",
       "    </tr>\n",
       "  </tbody>\n",
       "</table>\n",
       "<p>238 rows × 2 columns</p>\n",
       "</div>"
      ]
     },
     "execution_count": 28,
     "metadata": {},
     "output_type": "execute_result"
    }
   ],
   "execution_count": 28
  },
  {
   "metadata": {
    "ExecuteTime": {
     "end_time": "2025-03-26T13:10:51.344478Z",
     "start_time": "2025-03-26T13:10:51.339523Z"
    }
   },
   "cell_type": "code",
   "source": [
    "pu_annotations_to_components_frame = pu_frame.merge(\n",
    "    preferred_units_frame,\n",
    "    on='value',\n",
    "    how='outer'\n",
    ")"
   ],
   "id": "48d421653e4500f",
   "outputs": [],
   "execution_count": 29
  },
  {
   "metadata": {
    "ExecuteTime": {
     "end_time": "2025-03-26T13:10:51.520627Z",
     "start_time": "2025-03-26T13:10:51.513278Z"
    }
   },
   "cell_type": "code",
   "source": "pu_annotations_to_components_frame",
   "id": "3708196190eeb88b",
   "outputs": [
    {
     "data": {
      "text/plain": [
       "                     slot                   value  count       split\n",
       "0        host_common_name                              2            \n",
       "1               samp_name                              2            \n",
       "2                pressure              atmosphere      1  atmosphere\n",
       "3            hcr_pressure  atmosphere, kilopascal      1  atmosphere\n",
       "4            hcr_pressure  atmosphere, kilopascal      1  kilopascal\n",
       "..                    ...                     ...    ...         ...\n",
       "376  association_duration         year, day, hour      2         day\n",
       "377  association_duration         year, day, hour      2        hour\n",
       "378             floor_age      years, weeks, days      1       years\n",
       "379             floor_age      years, weeks, days      1       weeks\n",
       "380             floor_age      years, weeks, days      1        days\n",
       "\n",
       "[381 rows x 4 columns]"
      ],
      "text/html": [
       "<div>\n",
       "<style scoped>\n",
       "    .dataframe tbody tr th:only-of-type {\n",
       "        vertical-align: middle;\n",
       "    }\n",
       "\n",
       "    .dataframe tbody tr th {\n",
       "        vertical-align: top;\n",
       "    }\n",
       "\n",
       "    .dataframe thead th {\n",
       "        text-align: right;\n",
       "    }\n",
       "</style>\n",
       "<table border=\"1\" class=\"dataframe\">\n",
       "  <thead>\n",
       "    <tr style=\"text-align: right;\">\n",
       "      <th></th>\n",
       "      <th>slot</th>\n",
       "      <th>value</th>\n",
       "      <th>count</th>\n",
       "      <th>split</th>\n",
       "    </tr>\n",
       "  </thead>\n",
       "  <tbody>\n",
       "    <tr>\n",
       "      <th>0</th>\n",
       "      <td>host_common_name</td>\n",
       "      <td></td>\n",
       "      <td>2</td>\n",
       "      <td></td>\n",
       "    </tr>\n",
       "    <tr>\n",
       "      <th>1</th>\n",
       "      <td>samp_name</td>\n",
       "      <td></td>\n",
       "      <td>2</td>\n",
       "      <td></td>\n",
       "    </tr>\n",
       "    <tr>\n",
       "      <th>2</th>\n",
       "      <td>pressure</td>\n",
       "      <td>atmosphere</td>\n",
       "      <td>1</td>\n",
       "      <td>atmosphere</td>\n",
       "    </tr>\n",
       "    <tr>\n",
       "      <th>3</th>\n",
       "      <td>hcr_pressure</td>\n",
       "      <td>atmosphere, kilopascal</td>\n",
       "      <td>1</td>\n",
       "      <td>atmosphere</td>\n",
       "    </tr>\n",
       "    <tr>\n",
       "      <th>4</th>\n",
       "      <td>hcr_pressure</td>\n",
       "      <td>atmosphere, kilopascal</td>\n",
       "      <td>1</td>\n",
       "      <td>kilopascal</td>\n",
       "    </tr>\n",
       "    <tr>\n",
       "      <th>...</th>\n",
       "      <td>...</td>\n",
       "      <td>...</td>\n",
       "      <td>...</td>\n",
       "      <td>...</td>\n",
       "    </tr>\n",
       "    <tr>\n",
       "      <th>376</th>\n",
       "      <td>association_duration</td>\n",
       "      <td>year, day, hour</td>\n",
       "      <td>2</td>\n",
       "      <td>day</td>\n",
       "    </tr>\n",
       "    <tr>\n",
       "      <th>377</th>\n",
       "      <td>association_duration</td>\n",
       "      <td>year, day, hour</td>\n",
       "      <td>2</td>\n",
       "      <td>hour</td>\n",
       "    </tr>\n",
       "    <tr>\n",
       "      <th>378</th>\n",
       "      <td>floor_age</td>\n",
       "      <td>years, weeks, days</td>\n",
       "      <td>1</td>\n",
       "      <td>years</td>\n",
       "    </tr>\n",
       "    <tr>\n",
       "      <th>379</th>\n",
       "      <td>floor_age</td>\n",
       "      <td>years, weeks, days</td>\n",
       "      <td>1</td>\n",
       "      <td>weeks</td>\n",
       "    </tr>\n",
       "    <tr>\n",
       "      <th>380</th>\n",
       "      <td>floor_age</td>\n",
       "      <td>years, weeks, days</td>\n",
       "      <td>1</td>\n",
       "      <td>days</td>\n",
       "    </tr>\n",
       "  </tbody>\n",
       "</table>\n",
       "<p>381 rows × 4 columns</p>\n",
       "</div>"
      ]
     },
     "execution_count": 30,
     "metadata": {},
     "output_type": "execute_result"
    }
   ],
   "execution_count": 30
  },
  {
   "metadata": {
    "ExecuteTime": {
     "end_time": "2025-03-26T13:10:51.607094Z",
     "start_time": "2025-03-26T13:10:51.603844Z"
    }
   },
   "cell_type": "code",
   "source": "pu_annotations_to_components_frame.drop(columns='count', inplace=True)",
   "id": "7d119aaeada2ce31",
   "outputs": [],
   "execution_count": 31
  },
  {
   "metadata": {
    "ExecuteTime": {
     "end_time": "2025-03-26T13:10:51.686711Z",
     "start_time": "2025-03-26T13:10:51.682761Z"
    }
   },
   "cell_type": "code",
   "source": [
    "recount_splits = pu_annotations_to_components_frame['split'].value_counts().reset_index()\n",
    "recount_splits.columns = ['value', 'count']"
   ],
   "id": "6f705887e3d8e59c",
   "outputs": [],
   "execution_count": 32
  },
  {
   "metadata": {
    "ExecuteTime": {
     "end_time": "2025-03-26T13:10:51.758255Z",
     "start_time": "2025-03-26T13:10:51.751117Z"
    }
   },
   "cell_type": "code",
   "source": "recount_splits",
   "id": "495517724ea71860",
   "outputs": [
    {
     "data": {
      "text/plain": [
       "                      value  count\n",
       "0       milligram per liter     54\n",
       "1         parts per million     29\n",
       "2       micromole per liter     26\n",
       "3                      gram     20\n",
       "4            degree Celsius     20\n",
       "..                      ...    ...\n",
       "106               per month      1\n",
       "107  gram per kilogram soil      1\n",
       "108             square feet      1\n",
       "109                   years      1\n",
       "110                   weeks      1\n",
       "\n",
       "[111 rows x 2 columns]"
      ],
      "text/html": [
       "<div>\n",
       "<style scoped>\n",
       "    .dataframe tbody tr th:only-of-type {\n",
       "        vertical-align: middle;\n",
       "    }\n",
       "\n",
       "    .dataframe tbody tr th {\n",
       "        vertical-align: top;\n",
       "    }\n",
       "\n",
       "    .dataframe thead th {\n",
       "        text-align: right;\n",
       "    }\n",
       "</style>\n",
       "<table border=\"1\" class=\"dataframe\">\n",
       "  <thead>\n",
       "    <tr style=\"text-align: right;\">\n",
       "      <th></th>\n",
       "      <th>value</th>\n",
       "      <th>count</th>\n",
       "    </tr>\n",
       "  </thead>\n",
       "  <tbody>\n",
       "    <tr>\n",
       "      <th>0</th>\n",
       "      <td>milligram per liter</td>\n",
       "      <td>54</td>\n",
       "    </tr>\n",
       "    <tr>\n",
       "      <th>1</th>\n",
       "      <td>parts per million</td>\n",
       "      <td>29</td>\n",
       "    </tr>\n",
       "    <tr>\n",
       "      <th>2</th>\n",
       "      <td>micromole per liter</td>\n",
       "      <td>26</td>\n",
       "    </tr>\n",
       "    <tr>\n",
       "      <th>3</th>\n",
       "      <td>gram</td>\n",
       "      <td>20</td>\n",
       "    </tr>\n",
       "    <tr>\n",
       "      <th>4</th>\n",
       "      <td>degree Celsius</td>\n",
       "      <td>20</td>\n",
       "    </tr>\n",
       "    <tr>\n",
       "      <th>...</th>\n",
       "      <td>...</td>\n",
       "      <td>...</td>\n",
       "    </tr>\n",
       "    <tr>\n",
       "      <th>106</th>\n",
       "      <td>per month</td>\n",
       "      <td>1</td>\n",
       "    </tr>\n",
       "    <tr>\n",
       "      <th>107</th>\n",
       "      <td>gram per kilogram soil</td>\n",
       "      <td>1</td>\n",
       "    </tr>\n",
       "    <tr>\n",
       "      <th>108</th>\n",
       "      <td>square feet</td>\n",
       "      <td>1</td>\n",
       "    </tr>\n",
       "    <tr>\n",
       "      <th>109</th>\n",
       "      <td>years</td>\n",
       "      <td>1</td>\n",
       "    </tr>\n",
       "    <tr>\n",
       "      <th>110</th>\n",
       "      <td>weeks</td>\n",
       "      <td>1</td>\n",
       "    </tr>\n",
       "  </tbody>\n",
       "</table>\n",
       "<p>111 rows × 2 columns</p>\n",
       "</div>"
      ]
     },
     "execution_count": 33,
     "metadata": {},
     "output_type": "execute_result"
    }
   ],
   "execution_count": 33
  },
  {
   "metadata": {
    "ExecuteTime": {
     "end_time": "2025-03-26T13:10:51.823462Z",
     "start_time": "2025-03-26T13:10:51.819210Z"
    }
   },
   "cell_type": "code",
   "source": [
    "# from ChatGPT\n",
    "\n",
    "# Normalize UCUM descriptions for matching\n",
    "ucum_xlsx_frame['normalized_description'] = ucum_xlsx_frame['Description of the Unit \\n(using UCUM descriptions where they exist)'].str.strip().str.lower()"
   ],
   "id": "2fa4470d38515fb1",
   "outputs": [],
   "execution_count": 34
  },
  {
   "metadata": {
    "ExecuteTime": {
     "end_time": "2025-03-26T13:10:51.936066Z",
     "start_time": "2025-03-26T13:10:51.932664Z"
    }
   },
   "cell_type": "code",
   "source": "ucum_xlsx_frame['UCUM_CODE'] = ucum_xlsx_frame['UCUM_CODE'].astype(str)",
   "id": "2a410cd5b91e454f",
   "outputs": [],
   "execution_count": 35
  },
  {
   "metadata": {
    "ExecuteTime": {
     "end_time": "2025-03-26T13:10:51.982412Z",
     "start_time": "2025-03-26T13:10:51.978681Z"
    }
   },
   "cell_type": "code",
   "source": [
    "# Prepare result columns\n",
    "recount_splits['UCUM'] = \"\"\n",
    "recount_splits['confidence'] = \"\"\n",
    "recount_splits['notes'] = \"\""
   ],
   "id": "927627d595c2f56a",
   "outputs": [],
   "execution_count": 36
  },
  {
   "metadata": {
    "ExecuteTime": {
     "end_time": "2025-03-26T13:10:52.138108Z",
     "start_time": "2025-03-26T13:10:52.023536Z"
    }
   },
   "cell_type": "code",
   "source": [
    "# Match and annotate\n",
    "for idx, row in recount_splits.iterrows():\n",
    "    value = str(row['value']).strip().lower()\n",
    "    match = ucum_xlsx_frame[ucum_xlsx_frame['normalized_description'] == value]\n",
    "\n",
    "    if not match.empty:\n",
    "        # Exact match on normalized description\n",
    "        recount_splits.at[idx, 'UCUM'] = match['UCUM_CODE'].values[0]\n",
    "        recount_splits.at[idx, 'confidence'] = 'high'\n",
    "        recount_splits.at[idx, 'notes'] = 'Exact match on UCUM description'\n",
    "    else:\n",
    "        # Try partial match\n",
    "        partial_matches = ucum_xlsx_frame[\n",
    "            ucum_xlsx_frame['normalized_description'].str.contains(re.escape(value), na=False)\n",
    "        ]\n",
    "        if not partial_matches.empty:\n",
    "            recount_splits.at[idx, 'UCUM'] = partial_matches.iloc[0]['UCUM_CODE']\n",
    "            recount_splits.at[idx, 'confidence'] = 'low'\n",
    "            recount_splits.at[idx, 'notes'] = 'Partial match on UCUM description'\n",
    "        else:\n",
    "            recount_splits.at[idx, 'UCUM'] = ''\n",
    "            recount_splits.at[idx, 'confidence'] = 'none'\n",
    "            recount_splits.at[idx, 'notes'] = 'No match found'\n",
    "\n"
   ],
   "id": "588d3665c8d877d8",
   "outputs": [],
   "execution_count": 37
  },
  {
   "metadata": {
    "ExecuteTime": {
     "end_time": "2025-03-26T13:10:52.149689Z",
     "start_time": "2025-03-26T13:10:52.142216Z"
    }
   },
   "cell_type": "code",
   "source": "recount_splits",
   "id": "bdd36990bd02e731",
   "outputs": [
    {
     "data": {
      "text/plain": [
       "                      value  count    UCUM confidence  \\\n",
       "0       milligram per liter     54    mg/L       high   \n",
       "1         parts per million     29               none   \n",
       "2       micromole per liter     26  umol/L       high   \n",
       "3                      gram     20       g       high   \n",
       "4            degree Celsius     20     Cel       high   \n",
       "..                      ...    ...     ...        ...   \n",
       "106               per month      1     /mo       high   \n",
       "107  gram per kilogram soil      1               none   \n",
       "108             square feet      1               none   \n",
       "109                   years      1               none   \n",
       "110                   weeks      1               none   \n",
       "\n",
       "                               notes  \n",
       "0    Exact match on UCUM description  \n",
       "1                     No match found  \n",
       "2    Exact match on UCUM description  \n",
       "3    Exact match on UCUM description  \n",
       "4    Exact match on UCUM description  \n",
       "..                               ...  \n",
       "106  Exact match on UCUM description  \n",
       "107                   No match found  \n",
       "108                   No match found  \n",
       "109                   No match found  \n",
       "110                   No match found  \n",
       "\n",
       "[111 rows x 5 columns]"
      ],
      "text/html": [
       "<div>\n",
       "<style scoped>\n",
       "    .dataframe tbody tr th:only-of-type {\n",
       "        vertical-align: middle;\n",
       "    }\n",
       "\n",
       "    .dataframe tbody tr th {\n",
       "        vertical-align: top;\n",
       "    }\n",
       "\n",
       "    .dataframe thead th {\n",
       "        text-align: right;\n",
       "    }\n",
       "</style>\n",
       "<table border=\"1\" class=\"dataframe\">\n",
       "  <thead>\n",
       "    <tr style=\"text-align: right;\">\n",
       "      <th></th>\n",
       "      <th>value</th>\n",
       "      <th>count</th>\n",
       "      <th>UCUM</th>\n",
       "      <th>confidence</th>\n",
       "      <th>notes</th>\n",
       "    </tr>\n",
       "  </thead>\n",
       "  <tbody>\n",
       "    <tr>\n",
       "      <th>0</th>\n",
       "      <td>milligram per liter</td>\n",
       "      <td>54</td>\n",
       "      <td>mg/L</td>\n",
       "      <td>high</td>\n",
       "      <td>Exact match on UCUM description</td>\n",
       "    </tr>\n",
       "    <tr>\n",
       "      <th>1</th>\n",
       "      <td>parts per million</td>\n",
       "      <td>29</td>\n",
       "      <td></td>\n",
       "      <td>none</td>\n",
       "      <td>No match found</td>\n",
       "    </tr>\n",
       "    <tr>\n",
       "      <th>2</th>\n",
       "      <td>micromole per liter</td>\n",
       "      <td>26</td>\n",
       "      <td>umol/L</td>\n",
       "      <td>high</td>\n",
       "      <td>Exact match on UCUM description</td>\n",
       "    </tr>\n",
       "    <tr>\n",
       "      <th>3</th>\n",
       "      <td>gram</td>\n",
       "      <td>20</td>\n",
       "      <td>g</td>\n",
       "      <td>high</td>\n",
       "      <td>Exact match on UCUM description</td>\n",
       "    </tr>\n",
       "    <tr>\n",
       "      <th>4</th>\n",
       "      <td>degree Celsius</td>\n",
       "      <td>20</td>\n",
       "      <td>Cel</td>\n",
       "      <td>high</td>\n",
       "      <td>Exact match on UCUM description</td>\n",
       "    </tr>\n",
       "    <tr>\n",
       "      <th>...</th>\n",
       "      <td>...</td>\n",
       "      <td>...</td>\n",
       "      <td>...</td>\n",
       "      <td>...</td>\n",
       "      <td>...</td>\n",
       "    </tr>\n",
       "    <tr>\n",
       "      <th>106</th>\n",
       "      <td>per month</td>\n",
       "      <td>1</td>\n",
       "      <td>/mo</td>\n",
       "      <td>high</td>\n",
       "      <td>Exact match on UCUM description</td>\n",
       "    </tr>\n",
       "    <tr>\n",
       "      <th>107</th>\n",
       "      <td>gram per kilogram soil</td>\n",
       "      <td>1</td>\n",
       "      <td></td>\n",
       "      <td>none</td>\n",
       "      <td>No match found</td>\n",
       "    </tr>\n",
       "    <tr>\n",
       "      <th>108</th>\n",
       "      <td>square feet</td>\n",
       "      <td>1</td>\n",
       "      <td></td>\n",
       "      <td>none</td>\n",
       "      <td>No match found</td>\n",
       "    </tr>\n",
       "    <tr>\n",
       "      <th>109</th>\n",
       "      <td>years</td>\n",
       "      <td>1</td>\n",
       "      <td></td>\n",
       "      <td>none</td>\n",
       "      <td>No match found</td>\n",
       "    </tr>\n",
       "    <tr>\n",
       "      <th>110</th>\n",
       "      <td>weeks</td>\n",
       "      <td>1</td>\n",
       "      <td></td>\n",
       "      <td>none</td>\n",
       "      <td>No match found</td>\n",
       "    </tr>\n",
       "  </tbody>\n",
       "</table>\n",
       "<p>111 rows × 5 columns</p>\n",
       "</div>"
      ]
     },
     "execution_count": 38,
     "metadata": {},
     "output_type": "execute_result"
    }
   ],
   "execution_count": 38
  },
  {
   "metadata": {
    "ExecuteTime": {
     "end_time": "2025-03-26T13:10:53.634993Z",
     "start_time": "2025-03-26T13:10:53.628285Z"
    }
   },
   "cell_type": "code",
   "source": "pu_annotations_to_components_frame",
   "id": "a88e8b45a3d996cc",
   "outputs": [
    {
     "data": {
      "text/plain": [
       "                     slot                   value       split\n",
       "0        host_common_name                                    \n",
       "1               samp_name                                    \n",
       "2                pressure              atmosphere  atmosphere\n",
       "3            hcr_pressure  atmosphere, kilopascal  atmosphere\n",
       "4            hcr_pressure  atmosphere, kilopascal  kilopascal\n",
       "..                    ...                     ...         ...\n",
       "376  association_duration         year, day, hour         day\n",
       "377  association_duration         year, day, hour        hour\n",
       "378             floor_age      years, weeks, days       years\n",
       "379             floor_age      years, weeks, days       weeks\n",
       "380             floor_age      years, weeks, days        days\n",
       "\n",
       "[381 rows x 3 columns]"
      ],
      "text/html": [
       "<div>\n",
       "<style scoped>\n",
       "    .dataframe tbody tr th:only-of-type {\n",
       "        vertical-align: middle;\n",
       "    }\n",
       "\n",
       "    .dataframe tbody tr th {\n",
       "        vertical-align: top;\n",
       "    }\n",
       "\n",
       "    .dataframe thead th {\n",
       "        text-align: right;\n",
       "    }\n",
       "</style>\n",
       "<table border=\"1\" class=\"dataframe\">\n",
       "  <thead>\n",
       "    <tr style=\"text-align: right;\">\n",
       "      <th></th>\n",
       "      <th>slot</th>\n",
       "      <th>value</th>\n",
       "      <th>split</th>\n",
       "    </tr>\n",
       "  </thead>\n",
       "  <tbody>\n",
       "    <tr>\n",
       "      <th>0</th>\n",
       "      <td>host_common_name</td>\n",
       "      <td></td>\n",
       "      <td></td>\n",
       "    </tr>\n",
       "    <tr>\n",
       "      <th>1</th>\n",
       "      <td>samp_name</td>\n",
       "      <td></td>\n",
       "      <td></td>\n",
       "    </tr>\n",
       "    <tr>\n",
       "      <th>2</th>\n",
       "      <td>pressure</td>\n",
       "      <td>atmosphere</td>\n",
       "      <td>atmosphere</td>\n",
       "    </tr>\n",
       "    <tr>\n",
       "      <th>3</th>\n",
       "      <td>hcr_pressure</td>\n",
       "      <td>atmosphere, kilopascal</td>\n",
       "      <td>atmosphere</td>\n",
       "    </tr>\n",
       "    <tr>\n",
       "      <th>4</th>\n",
       "      <td>hcr_pressure</td>\n",
       "      <td>atmosphere, kilopascal</td>\n",
       "      <td>kilopascal</td>\n",
       "    </tr>\n",
       "    <tr>\n",
       "      <th>...</th>\n",
       "      <td>...</td>\n",
       "      <td>...</td>\n",
       "      <td>...</td>\n",
       "    </tr>\n",
       "    <tr>\n",
       "      <th>376</th>\n",
       "      <td>association_duration</td>\n",
       "      <td>year, day, hour</td>\n",
       "      <td>day</td>\n",
       "    </tr>\n",
       "    <tr>\n",
       "      <th>377</th>\n",
       "      <td>association_duration</td>\n",
       "      <td>year, day, hour</td>\n",
       "      <td>hour</td>\n",
       "    </tr>\n",
       "    <tr>\n",
       "      <th>378</th>\n",
       "      <td>floor_age</td>\n",
       "      <td>years, weeks, days</td>\n",
       "      <td>years</td>\n",
       "    </tr>\n",
       "    <tr>\n",
       "      <th>379</th>\n",
       "      <td>floor_age</td>\n",
       "      <td>years, weeks, days</td>\n",
       "      <td>weeks</td>\n",
       "    </tr>\n",
       "    <tr>\n",
       "      <th>380</th>\n",
       "      <td>floor_age</td>\n",
       "      <td>years, weeks, days</td>\n",
       "      <td>days</td>\n",
       "    </tr>\n",
       "  </tbody>\n",
       "</table>\n",
       "<p>381 rows × 3 columns</p>\n",
       "</div>"
      ]
     },
     "execution_count": 39,
     "metadata": {},
     "output_type": "execute_result"
    }
   ],
   "execution_count": 39
  },
  {
   "metadata": {
    "ExecuteTime": {
     "end_time": "2025-03-26T13:10:53.686713Z",
     "start_time": "2025-03-26T13:10:53.683185Z"
    }
   },
   "cell_type": "code",
   "source": "recount_splits.to_csv(\"exploded_mixs_preferred_unit_counts.tsv\", sep=\"\\t\", index=False)",
   "id": "61da72d046420593",
   "outputs": [],
   "execution_count": 40
  },
  {
   "metadata": {
    "ExecuteTime": {
     "end_time": "2025-03-26T13:10:53.747808Z",
     "start_time": "2025-03-26T13:10:53.742887Z"
    }
   },
   "cell_type": "code",
   "source": "by_slot_with_ucum = pu_annotations_to_components_frame.merge(recount_splits, left_on='split', right_on='value', how='outer')",
   "id": "942258a06b92d12e",
   "outputs": [],
   "execution_count": 41
  },
  {
   "metadata": {
    "ExecuteTime": {
     "end_time": "2025-03-26T13:10:53.836241Z",
     "start_time": "2025-03-26T13:10:53.832806Z"
    }
   },
   "cell_type": "code",
   "source": "by_slot_with_ucum.drop(columns=['value_y','count'], inplace=True)",
   "id": "de3be2fab88319ba",
   "outputs": [],
   "execution_count": 42
  },
  {
   "metadata": {
    "ExecuteTime": {
     "end_time": "2025-03-26T13:10:53.874550Z",
     "start_time": "2025-03-26T13:10:53.871093Z"
    }
   },
   "cell_type": "code",
   "source": "by_slot_with_ucum.rename(columns={'value_x':'value'}, inplace=True)",
   "id": "e802e0a907bf24e3",
   "outputs": [],
   "execution_count": 43
  },
  {
   "metadata": {
    "ExecuteTime": {
     "end_time": "2025-03-26T13:10:53.934840Z",
     "start_time": "2025-03-26T13:10:53.926394Z"
    }
   },
   "cell_type": "code",
   "source": "by_slot_with_ucum",
   "id": "b9c6957b358b699a",
   "outputs": [
    {
     "data": {
      "text/plain": [
       "                     slot                                 value       split  \\\n",
       "0        host_common_name                                                     \n",
       "1               samp_name                                                     \n",
       "2              light_regm  lux; micrometer, nanometer, angstrom    angstrom   \n",
       "3                pressure                            atmosphere  atmosphere   \n",
       "4            hcr_pressure                atmosphere, kilopascal  atmosphere   \n",
       "..                    ...                                   ...         ...   \n",
       "376             floor_age                    years, weeks, days       weeks   \n",
       "377       built_struc_age                                  year        year   \n",
       "378              host_age                       year, day, hour        year   \n",
       "379  association_duration                       year, day, hour        year   \n",
       "380             floor_age                    years, weeks, days       years   \n",
       "\n",
       "         UCUM confidence                              notes  \n",
       "0    10.L/min        low  Partial match on UCUM description  \n",
       "1    10.L/min        low  Partial match on UCUM description  \n",
       "2                   none                     No match found  \n",
       "3         atm       high    Exact match on UCUM description  \n",
       "4         atm       high    Exact match on UCUM description  \n",
       "..        ...        ...                                ...  \n",
       "376                 none                     No match found  \n",
       "377         a       high    Exact match on UCUM description  \n",
       "378         a       high    Exact match on UCUM description  \n",
       "379         a       high    Exact match on UCUM description  \n",
       "380                 none                     No match found  \n",
       "\n",
       "[381 rows x 6 columns]"
      ],
      "text/html": [
       "<div>\n",
       "<style scoped>\n",
       "    .dataframe tbody tr th:only-of-type {\n",
       "        vertical-align: middle;\n",
       "    }\n",
       "\n",
       "    .dataframe tbody tr th {\n",
       "        vertical-align: top;\n",
       "    }\n",
       "\n",
       "    .dataframe thead th {\n",
       "        text-align: right;\n",
       "    }\n",
       "</style>\n",
       "<table border=\"1\" class=\"dataframe\">\n",
       "  <thead>\n",
       "    <tr style=\"text-align: right;\">\n",
       "      <th></th>\n",
       "      <th>slot</th>\n",
       "      <th>value</th>\n",
       "      <th>split</th>\n",
       "      <th>UCUM</th>\n",
       "      <th>confidence</th>\n",
       "      <th>notes</th>\n",
       "    </tr>\n",
       "  </thead>\n",
       "  <tbody>\n",
       "    <tr>\n",
       "      <th>0</th>\n",
       "      <td>host_common_name</td>\n",
       "      <td></td>\n",
       "      <td></td>\n",
       "      <td>10.L/min</td>\n",
       "      <td>low</td>\n",
       "      <td>Partial match on UCUM description</td>\n",
       "    </tr>\n",
       "    <tr>\n",
       "      <th>1</th>\n",
       "      <td>samp_name</td>\n",
       "      <td></td>\n",
       "      <td></td>\n",
       "      <td>10.L/min</td>\n",
       "      <td>low</td>\n",
       "      <td>Partial match on UCUM description</td>\n",
       "    </tr>\n",
       "    <tr>\n",
       "      <th>2</th>\n",
       "      <td>light_regm</td>\n",
       "      <td>lux; micrometer, nanometer, angstrom</td>\n",
       "      <td>angstrom</td>\n",
       "      <td></td>\n",
       "      <td>none</td>\n",
       "      <td>No match found</td>\n",
       "    </tr>\n",
       "    <tr>\n",
       "      <th>3</th>\n",
       "      <td>pressure</td>\n",
       "      <td>atmosphere</td>\n",
       "      <td>atmosphere</td>\n",
       "      <td>atm</td>\n",
       "      <td>high</td>\n",
       "      <td>Exact match on UCUM description</td>\n",
       "    </tr>\n",
       "    <tr>\n",
       "      <th>4</th>\n",
       "      <td>hcr_pressure</td>\n",
       "      <td>atmosphere, kilopascal</td>\n",
       "      <td>atmosphere</td>\n",
       "      <td>atm</td>\n",
       "      <td>high</td>\n",
       "      <td>Exact match on UCUM description</td>\n",
       "    </tr>\n",
       "    <tr>\n",
       "      <th>...</th>\n",
       "      <td>...</td>\n",
       "      <td>...</td>\n",
       "      <td>...</td>\n",
       "      <td>...</td>\n",
       "      <td>...</td>\n",
       "      <td>...</td>\n",
       "    </tr>\n",
       "    <tr>\n",
       "      <th>376</th>\n",
       "      <td>floor_age</td>\n",
       "      <td>years, weeks, days</td>\n",
       "      <td>weeks</td>\n",
       "      <td></td>\n",
       "      <td>none</td>\n",
       "      <td>No match found</td>\n",
       "    </tr>\n",
       "    <tr>\n",
       "      <th>377</th>\n",
       "      <td>built_struc_age</td>\n",
       "      <td>year</td>\n",
       "      <td>year</td>\n",
       "      <td>a</td>\n",
       "      <td>high</td>\n",
       "      <td>Exact match on UCUM description</td>\n",
       "    </tr>\n",
       "    <tr>\n",
       "      <th>378</th>\n",
       "      <td>host_age</td>\n",
       "      <td>year, day, hour</td>\n",
       "      <td>year</td>\n",
       "      <td>a</td>\n",
       "      <td>high</td>\n",
       "      <td>Exact match on UCUM description</td>\n",
       "    </tr>\n",
       "    <tr>\n",
       "      <th>379</th>\n",
       "      <td>association_duration</td>\n",
       "      <td>year, day, hour</td>\n",
       "      <td>year</td>\n",
       "      <td>a</td>\n",
       "      <td>high</td>\n",
       "      <td>Exact match on UCUM description</td>\n",
       "    </tr>\n",
       "    <tr>\n",
       "      <th>380</th>\n",
       "      <td>floor_age</td>\n",
       "      <td>years, weeks, days</td>\n",
       "      <td>years</td>\n",
       "      <td></td>\n",
       "      <td>none</td>\n",
       "      <td>No match found</td>\n",
       "    </tr>\n",
       "  </tbody>\n",
       "</table>\n",
       "<p>381 rows × 6 columns</p>\n",
       "</div>"
      ]
     },
     "execution_count": 44,
     "metadata": {},
     "output_type": "execute_result"
    }
   ],
   "execution_count": 44
  },
  {
   "metadata": {
    "ExecuteTime": {
     "end_time": "2025-03-26T13:10:54.027129Z",
     "start_time": "2025-03-26T13:10:54.020860Z"
    }
   },
   "cell_type": "code",
   "source": "by_slot_with_ucum.to_csv(\"exploded_mixs_preferred_units.tsv\", sep=\"\\t\", index=False)",
   "id": "f0138121e6bdd2f2",
   "outputs": [],
   "execution_count": 45
  }
 ],
 "metadata": {
  "kernelspec": {
   "display_name": "Python 3",
   "language": "python",
   "name": "python3"
  },
  "language_info": {
   "codemirror_mode": {
    "name": "ipython",
    "version": 2
   },
   "file_extension": ".py",
   "mimetype": "text/x-python",
   "name": "python",
   "nbconvert_exporter": "python",
   "pygments_lexer": "ipython2",
   "version": "2.7.6"
  }
 },
 "nbformat": 4,
 "nbformat_minor": 5
}
