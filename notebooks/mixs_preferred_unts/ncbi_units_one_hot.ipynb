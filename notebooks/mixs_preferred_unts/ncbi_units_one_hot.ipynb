{
 "cells": [
  {
   "metadata": {
    "ExecuteTime": {
     "end_time": "2025-04-08T18:24:59.355515Z",
     "start_time": "2025-04-08T18:24:58.908340Z"
    }
   },
   "cell_type": "code",
   "source": [
    "import pandas as pd\n",
    "from collections import Counter"
   ],
   "id": "2ca7118b9c7c887c",
   "outputs": [],
   "execution_count": 1
  },
  {
   "metadata": {
    "ExecuteTime": {
     "end_time": "2025-04-08T18:25:00.252602Z",
     "start_time": "2025-04-08T18:25:00.231876Z"
    }
   },
   "cell_type": "code",
   "source": [
    "# Load data\n",
    "df = pd.read_csv('ncbi_metadata.measurements_inferred_units_totals.csv')"
   ],
   "id": "33d10ccb42f1a58f",
   "outputs": [],
   "execution_count": 2
  },
  {
   "metadata": {
    "ExecuteTime": {
     "end_time": "2025-04-08T18:25:00.855713Z",
     "start_time": "2025-04-08T18:25:00.851919Z"
    }
   },
   "cell_type": "code",
   "source": [
    "# Function to filter digits and count tokens per row\n",
    "def count_tokens(tokens):\n",
    "    return Counter(token for token in tokens if not token.isdigit())"
   ],
   "id": "de36f02627464719",
   "outputs": [],
   "execution_count": 3
  },
  {
   "metadata": {
    "ExecuteTime": {
     "end_time": "2025-04-08T18:25:01.595703Z",
     "start_time": "2025-04-08T18:25:01.582263Z"
    }
   },
   "cell_type": "code",
   "source": "df['tokens'] = df['unit_name'].fillna('').astype(str).str.split()",
   "id": "83cecb0b19318927",
   "outputs": [],
   "execution_count": 4
  },
  {
   "metadata": {
    "ExecuteTime": {
     "end_time": "2025-04-08T18:25:02.401286Z",
     "start_time": "2025-04-08T18:25:02.382590Z"
    }
   },
   "cell_type": "code",
   "source": [
    "# Apply per row\n",
    "df['token_counts'] = df['tokens'].apply(count_tokens)"
   ],
   "id": "64c60aca5b30ee35",
   "outputs": [],
   "execution_count": 5
  },
  {
   "metadata": {
    "ExecuteTime": {
     "end_time": "2025-04-08T18:25:03.390842Z",
     "start_time": "2025-04-08T18:25:03.333881Z"
    }
   },
   "cell_type": "code",
   "source": [
    "# Convert list of Counter dicts to DataFrame\n",
    "df_bow = pd.DataFrame(df['token_counts'].tolist()).fillna(0).astype(int)"
   ],
   "id": "82e202901e98a553",
   "outputs": [],
   "execution_count": 6
  },
  {
   "metadata": {
    "ExecuteTime": {
     "end_time": "2025-04-08T18:25:04.327369Z",
     "start_time": "2025-04-08T18:25:04.320820Z"
    }
   },
   "cell_type": "code",
   "source": [
    "# Combine with original data if you want\n",
    "df_combined = pd.concat([df.drop(columns=['tokens', 'token_counts']), df_bow], axis=1)\n"
   ],
   "id": "acb0ff4dfbe0f0d7",
   "outputs": [],
   "execution_count": 7
  },
  {
   "metadata": {
    "ExecuteTime": {
     "end_time": "2025-04-08T18:28:25.681874Z",
     "start_time": "2025-04-08T18:28:25.675532Z"
    }
   },
   "cell_type": "code",
   "source": [
    "# Drop _id column\n",
    "df_combined = df_combined.drop(columns=['_id'])"
   ],
   "id": "4099420f21b44640",
   "outputs": [],
   "execution_count": 11
  },
  {
   "metadata": {
    "ExecuteTime": {
     "end_time": "2025-04-08T18:29:33.710357Z",
     "start_time": "2025-04-08T18:29:33.699135Z"
    }
   },
   "cell_type": "code",
   "source": [
    "# Reorder columns: unit_name, total_count, then the rest sorted case-insensitively\n",
    "first_columns = ['unit_name', 'total_count']\n",
    "other_columns = sorted(\n",
    "    [col for col in df_combined.columns if col not in first_columns],\n",
    "    key=lambda s: s.lower()\n",
    ")\n",
    "df_case_insensitive_sorted = df_combined[first_columns + other_columns]\n"
   ],
   "id": "bc3f9e5f724c3ab2",
   "outputs": [],
   "execution_count": 14
  },
  {
   "metadata": {
    "ExecuteTime": {
     "end_time": "2025-04-08T18:29:34.443045Z",
     "start_time": "2025-04-08T18:29:34.426977Z"
    }
   },
   "cell_type": "code",
   "source": "df_case_insensitive_sorted",
   "id": "6137c4c8d62bbfdd",
   "outputs": [
    {
     "data": {
      "text/plain": [
       "                                 unit_name  total_count  5.30002e+06  acre  \\\n",
       "0                            dimensionless      7738996            0     0   \n",
       "1                                    metre       475737            0     0   \n",
       "2                                     week       433473            0     0   \n",
       "3                               centimetre       409285            0     0   \n",
       "4                                      day       274854            0     0   \n",
       "...                                    ...          ...          ...   ...   \n",
       "2054          unk to the 58 second siemens            1            0     0   \n",
       "2055                            watt tesla            1            0     0   \n",
       "2056                   foot litre to the 5            1            0     0   \n",
       "2057                         watt to the 4            1            0     0   \n",
       "2058  degree angle to the 50 minute of arc            1            0     0   \n",
       "\n",
       "      african  ampere  ampere-hour  ampere-turn  angle  arc  ...  unk  volt  \\\n",
       "0           0       0            0            0      0    0  ...    0     0   \n",
       "1           0       0            0            0      0    0  ...    0     0   \n",
       "2           0       0            0            0      0    0  ...    0     0   \n",
       "3           0       0            0            0      0    0  ...    0     0   \n",
       "4           0       0            0            0      0    0  ...    0     0   \n",
       "...       ...     ...          ...          ...    ...  ...  ...  ...   ...   \n",
       "2054        0       0            0            0      0    0  ...    1     0   \n",
       "2055        0       0            0            0      0    0  ...    0     0   \n",
       "2056        0       0            0            0      0    0  ...    0     0   \n",
       "2057        0       0            0            0      0    0  ...    0     0   \n",
       "2058        0       0            0            0      1    1  ...    0     0   \n",
       "\n",
       "      volt-ampere  watt  week  yard  year  yoctobarn  yoctometre  ångström  \n",
       "0               0     0     0     0     0          0           0         0  \n",
       "1               0     0     0     0     0          0           0         0  \n",
       "2               0     0     1     0     0          0           0         0  \n",
       "3               0     0     0     0     0          0           0         0  \n",
       "4               0     0     0     0     0          0           0         0  \n",
       "...           ...   ...   ...   ...   ...        ...         ...       ...  \n",
       "2054            0     0     0     0     0          0           0         0  \n",
       "2055            0     1     0     0     0          0           0         0  \n",
       "2056            0     0     0     0     0          0           0         0  \n",
       "2057            0     1     0     0     0          0           0         0  \n",
       "2058            0     0     0     0     0          0           0         0  \n",
       "\n",
       "[2059 rows x 234 columns]"
      ],
      "text/html": [
       "<div>\n",
       "<style scoped>\n",
       "    .dataframe tbody tr th:only-of-type {\n",
       "        vertical-align: middle;\n",
       "    }\n",
       "\n",
       "    .dataframe tbody tr th {\n",
       "        vertical-align: top;\n",
       "    }\n",
       "\n",
       "    .dataframe thead th {\n",
       "        text-align: right;\n",
       "    }\n",
       "</style>\n",
       "<table border=\"1\" class=\"dataframe\">\n",
       "  <thead>\n",
       "    <tr style=\"text-align: right;\">\n",
       "      <th></th>\n",
       "      <th>unit_name</th>\n",
       "      <th>total_count</th>\n",
       "      <th>5.30002e+06</th>\n",
       "      <th>acre</th>\n",
       "      <th>african</th>\n",
       "      <th>ampere</th>\n",
       "      <th>ampere-hour</th>\n",
       "      <th>ampere-turn</th>\n",
       "      <th>angle</th>\n",
       "      <th>arc</th>\n",
       "      <th>...</th>\n",
       "      <th>unk</th>\n",
       "      <th>volt</th>\n",
       "      <th>volt-ampere</th>\n",
       "      <th>watt</th>\n",
       "      <th>week</th>\n",
       "      <th>yard</th>\n",
       "      <th>year</th>\n",
       "      <th>yoctobarn</th>\n",
       "      <th>yoctometre</th>\n",
       "      <th>ångström</th>\n",
       "    </tr>\n",
       "  </thead>\n",
       "  <tbody>\n",
       "    <tr>\n",
       "      <th>0</th>\n",
       "      <td>dimensionless</td>\n",
       "      <td>7738996</td>\n",
       "      <td>0</td>\n",
       "      <td>0</td>\n",
       "      <td>0</td>\n",
       "      <td>0</td>\n",
       "      <td>0</td>\n",
       "      <td>0</td>\n",
       "      <td>0</td>\n",
       "      <td>0</td>\n",
       "      <td>...</td>\n",
       "      <td>0</td>\n",
       "      <td>0</td>\n",
       "      <td>0</td>\n",
       "      <td>0</td>\n",
       "      <td>0</td>\n",
       "      <td>0</td>\n",
       "      <td>0</td>\n",
       "      <td>0</td>\n",
       "      <td>0</td>\n",
       "      <td>0</td>\n",
       "    </tr>\n",
       "    <tr>\n",
       "      <th>1</th>\n",
       "      <td>metre</td>\n",
       "      <td>475737</td>\n",
       "      <td>0</td>\n",
       "      <td>0</td>\n",
       "      <td>0</td>\n",
       "      <td>0</td>\n",
       "      <td>0</td>\n",
       "      <td>0</td>\n",
       "      <td>0</td>\n",
       "      <td>0</td>\n",
       "      <td>...</td>\n",
       "      <td>0</td>\n",
       "      <td>0</td>\n",
       "      <td>0</td>\n",
       "      <td>0</td>\n",
       "      <td>0</td>\n",
       "      <td>0</td>\n",
       "      <td>0</td>\n",
       "      <td>0</td>\n",
       "      <td>0</td>\n",
       "      <td>0</td>\n",
       "    </tr>\n",
       "    <tr>\n",
       "      <th>2</th>\n",
       "      <td>week</td>\n",
       "      <td>433473</td>\n",
       "      <td>0</td>\n",
       "      <td>0</td>\n",
       "      <td>0</td>\n",
       "      <td>0</td>\n",
       "      <td>0</td>\n",
       "      <td>0</td>\n",
       "      <td>0</td>\n",
       "      <td>0</td>\n",
       "      <td>...</td>\n",
       "      <td>0</td>\n",
       "      <td>0</td>\n",
       "      <td>0</td>\n",
       "      <td>0</td>\n",
       "      <td>1</td>\n",
       "      <td>0</td>\n",
       "      <td>0</td>\n",
       "      <td>0</td>\n",
       "      <td>0</td>\n",
       "      <td>0</td>\n",
       "    </tr>\n",
       "    <tr>\n",
       "      <th>3</th>\n",
       "      <td>centimetre</td>\n",
       "      <td>409285</td>\n",
       "      <td>0</td>\n",
       "      <td>0</td>\n",
       "      <td>0</td>\n",
       "      <td>0</td>\n",
       "      <td>0</td>\n",
       "      <td>0</td>\n",
       "      <td>0</td>\n",
       "      <td>0</td>\n",
       "      <td>...</td>\n",
       "      <td>0</td>\n",
       "      <td>0</td>\n",
       "      <td>0</td>\n",
       "      <td>0</td>\n",
       "      <td>0</td>\n",
       "      <td>0</td>\n",
       "      <td>0</td>\n",
       "      <td>0</td>\n",
       "      <td>0</td>\n",
       "      <td>0</td>\n",
       "    </tr>\n",
       "    <tr>\n",
       "      <th>4</th>\n",
       "      <td>day</td>\n",
       "      <td>274854</td>\n",
       "      <td>0</td>\n",
       "      <td>0</td>\n",
       "      <td>0</td>\n",
       "      <td>0</td>\n",
       "      <td>0</td>\n",
       "      <td>0</td>\n",
       "      <td>0</td>\n",
       "      <td>0</td>\n",
       "      <td>...</td>\n",
       "      <td>0</td>\n",
       "      <td>0</td>\n",
       "      <td>0</td>\n",
       "      <td>0</td>\n",
       "      <td>0</td>\n",
       "      <td>0</td>\n",
       "      <td>0</td>\n",
       "      <td>0</td>\n",
       "      <td>0</td>\n",
       "      <td>0</td>\n",
       "    </tr>\n",
       "    <tr>\n",
       "      <th>...</th>\n",
       "      <td>...</td>\n",
       "      <td>...</td>\n",
       "      <td>...</td>\n",
       "      <td>...</td>\n",
       "      <td>...</td>\n",
       "      <td>...</td>\n",
       "      <td>...</td>\n",
       "      <td>...</td>\n",
       "      <td>...</td>\n",
       "      <td>...</td>\n",
       "      <td>...</td>\n",
       "      <td>...</td>\n",
       "      <td>...</td>\n",
       "      <td>...</td>\n",
       "      <td>...</td>\n",
       "      <td>...</td>\n",
       "      <td>...</td>\n",
       "      <td>...</td>\n",
       "      <td>...</td>\n",
       "      <td>...</td>\n",
       "      <td>...</td>\n",
       "    </tr>\n",
       "    <tr>\n",
       "      <th>2054</th>\n",
       "      <td>unk to the 58 second siemens</td>\n",
       "      <td>1</td>\n",
       "      <td>0</td>\n",
       "      <td>0</td>\n",
       "      <td>0</td>\n",
       "      <td>0</td>\n",
       "      <td>0</td>\n",
       "      <td>0</td>\n",
       "      <td>0</td>\n",
       "      <td>0</td>\n",
       "      <td>...</td>\n",
       "      <td>1</td>\n",
       "      <td>0</td>\n",
       "      <td>0</td>\n",
       "      <td>0</td>\n",
       "      <td>0</td>\n",
       "      <td>0</td>\n",
       "      <td>0</td>\n",
       "      <td>0</td>\n",
       "      <td>0</td>\n",
       "      <td>0</td>\n",
       "    </tr>\n",
       "    <tr>\n",
       "      <th>2055</th>\n",
       "      <td>watt tesla</td>\n",
       "      <td>1</td>\n",
       "      <td>0</td>\n",
       "      <td>0</td>\n",
       "      <td>0</td>\n",
       "      <td>0</td>\n",
       "      <td>0</td>\n",
       "      <td>0</td>\n",
       "      <td>0</td>\n",
       "      <td>0</td>\n",
       "      <td>...</td>\n",
       "      <td>0</td>\n",
       "      <td>0</td>\n",
       "      <td>0</td>\n",
       "      <td>1</td>\n",
       "      <td>0</td>\n",
       "      <td>0</td>\n",
       "      <td>0</td>\n",
       "      <td>0</td>\n",
       "      <td>0</td>\n",
       "      <td>0</td>\n",
       "    </tr>\n",
       "    <tr>\n",
       "      <th>2056</th>\n",
       "      <td>foot litre to the 5</td>\n",
       "      <td>1</td>\n",
       "      <td>0</td>\n",
       "      <td>0</td>\n",
       "      <td>0</td>\n",
       "      <td>0</td>\n",
       "      <td>0</td>\n",
       "      <td>0</td>\n",
       "      <td>0</td>\n",
       "      <td>0</td>\n",
       "      <td>...</td>\n",
       "      <td>0</td>\n",
       "      <td>0</td>\n",
       "      <td>0</td>\n",
       "      <td>0</td>\n",
       "      <td>0</td>\n",
       "      <td>0</td>\n",
       "      <td>0</td>\n",
       "      <td>0</td>\n",
       "      <td>0</td>\n",
       "      <td>0</td>\n",
       "    </tr>\n",
       "    <tr>\n",
       "      <th>2057</th>\n",
       "      <td>watt to the 4</td>\n",
       "      <td>1</td>\n",
       "      <td>0</td>\n",
       "      <td>0</td>\n",
       "      <td>0</td>\n",
       "      <td>0</td>\n",
       "      <td>0</td>\n",
       "      <td>0</td>\n",
       "      <td>0</td>\n",
       "      <td>0</td>\n",
       "      <td>...</td>\n",
       "      <td>0</td>\n",
       "      <td>0</td>\n",
       "      <td>0</td>\n",
       "      <td>1</td>\n",
       "      <td>0</td>\n",
       "      <td>0</td>\n",
       "      <td>0</td>\n",
       "      <td>0</td>\n",
       "      <td>0</td>\n",
       "      <td>0</td>\n",
       "    </tr>\n",
       "    <tr>\n",
       "      <th>2058</th>\n",
       "      <td>degree angle to the 50 minute of arc</td>\n",
       "      <td>1</td>\n",
       "      <td>0</td>\n",
       "      <td>0</td>\n",
       "      <td>0</td>\n",
       "      <td>0</td>\n",
       "      <td>0</td>\n",
       "      <td>0</td>\n",
       "      <td>1</td>\n",
       "      <td>1</td>\n",
       "      <td>...</td>\n",
       "      <td>0</td>\n",
       "      <td>0</td>\n",
       "      <td>0</td>\n",
       "      <td>0</td>\n",
       "      <td>0</td>\n",
       "      <td>0</td>\n",
       "      <td>0</td>\n",
       "      <td>0</td>\n",
       "      <td>0</td>\n",
       "      <td>0</td>\n",
       "    </tr>\n",
       "  </tbody>\n",
       "</table>\n",
       "<p>2059 rows × 234 columns</p>\n",
       "</div>"
      ]
     },
     "execution_count": 15,
     "metadata": {},
     "output_type": "execute_result"
    }
   ],
   "execution_count": 15
  },
  {
   "metadata": {
    "ExecuteTime": {
     "end_time": "2025-04-08T19:56:52.911672Z",
     "start_time": "2025-04-08T19:56:52.813069Z"
    }
   },
   "cell_type": "code",
   "source": "df_case_insensitive_sorted.to_csv('ncbi_units_token_matrix.tsv', index=False, sep=\"\\t\")",
   "id": "edabe36d1b6baf2f",
   "outputs": [],
   "execution_count": 16
  },
  {
   "metadata": {
    "ExecuteTime": {
     "end_time": "2025-04-08T19:59:14.659893Z",
     "start_time": "2025-04-08T19:59:14.656630Z"
    }
   },
   "cell_type": "code",
   "source": "unit_tokens = list(df_case_insensitive_sorted.columns)",
   "id": "6580973868965d1c",
   "outputs": [],
   "execution_count": 19
  },
  {
   "metadata": {
    "ExecuteTime": {
     "end_time": "2025-04-08T19:59:15.318446Z",
     "start_time": "2025-04-08T19:59:15.314488Z"
    }
   },
   "cell_type": "code",
   "source": [
    "with open(\"ncbi_units_tokens.txt\", \"w\") as f:\n",
    "    for line in unit_tokens:\n",
    "        f.write(line + \"\\n\")"
   ],
   "id": "36fce182ce756d21",
   "outputs": [],
   "execution_count": 20
  }
 ],
 "metadata": {
  "kernelspec": {
   "display_name": "Python 3",
   "language": "python",
   "name": "python3"
  },
  "language_info": {
   "codemirror_mode": {
    "name": "ipython",
    "version": 2
   },
   "file_extension": ".py",
   "mimetype": "text/x-python",
   "name": "python",
   "nbconvert_exporter": "python",
   "pygments_lexer": "ipython2",
   "version": "2.7.6"
  }
 },
 "nbformat": 4,
 "nbformat_minor": 5
}
