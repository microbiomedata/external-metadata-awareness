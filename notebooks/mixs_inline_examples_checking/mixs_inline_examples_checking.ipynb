{
 "cells": [
  {
   "metadata": {
    "ExecuteTime": {
     "end_time": "2025-03-10T21:16:32.520400Z",
     "start_time": "2025-03-10T21:16:31.691251Z"
    }
   },
   "cell_type": "code",
   "source": [
    "import re\n",
    "from datetime import datetime\n",
    "\n",
    "from linkml.generators.linkmlgen import LinkmlGenerator\n",
    "from linkml_runtime import SchemaView\n",
    "\n",
    "import yaml"
   ],
   "id": "3f6e016476d3d466",
   "outputs": [],
   "execution_count": 1
  },
  {
   "metadata": {},
   "cell_type": "markdown",
   "source": [
    "This really only works because there aren't object range slots in MIxS Extensions, Checklists and combinations.\n",
    "\n",
    "The same thing holds true for the NMDC submission schema, but the examples checker writen for that injects each example value into an otherwise known good instance and used the linkml validator on that\n",
    "\n",
    "**This does not check `any_of` ranges, etc**"
   ],
   "id": "b317d6ce724ba971"
  },
  {
   "cell_type": "code",
   "id": "initial_id",
   "metadata": {
    "collapsed": true,
    "ExecuteTime": {
     "end_time": "2025-03-10T21:16:32.526879Z",
     "start_time": "2025-03-10T21:16:32.524247Z"
    }
   },
   "source": "tested_schema_url = \"https://raw.githubusercontent.com/GenomicsStandardsConsortium/mixs/refs/heads/388-we-are-misusing-the-string-serialization-slot/src/mixs/schema/mixs.yaml\"",
   "outputs": [],
   "execution_count": 2
  },
  {
   "metadata": {
    "ExecuteTime": {
     "end_time": "2025-03-10T21:16:32.656106Z",
     "start_time": "2025-03-10T21:16:32.653579Z"
    }
   },
   "cell_type": "code",
   "source": [
    "# test these in YAML or JSON, because the YAML deserializer may infer/repair some of these to true Booleans\n",
    "boolean_proxies = {\"true\", \"false\", \"yes\", \"no\", \"1\", \"0\"}"
   ],
   "id": "39a9f3f2066bb238",
   "outputs": [],
   "execution_count": 3
  },
  {
   "metadata": {},
   "cell_type": "markdown",
   "source": "We will check against the following types, strings with patterns, and enums",
   "id": "f9cc308b20b01d9e"
  },
  {
   "metadata": {
    "ExecuteTime": {
     "end_time": "2025-03-10T21:16:32.698662Z",
     "start_time": "2025-03-10T21:16:32.695130Z"
    }
   },
   "cell_type": "code",
   "source": [
    "expected_types = [\n",
    "    'boolean', # done\n",
    "    'datetime', # done\n",
    "    'float', # done\n",
    "    'integer', # done\n",
    "    'string',\n",
    "]"
   ],
   "id": "a83396ce88a3aa7d",
   "outputs": [],
   "execution_count": 4
  },
  {
   "metadata": {},
   "cell_type": "markdown",
   "source": "What boolean proxies do we want to allow in MIxS compliant data?",
   "id": "667c11eb95f36dad"
  },
  {
   "metadata": {
    "ExecuteTime": {
     "end_time": "2025-03-10T21:16:32.744229Z",
     "start_time": "2025-03-10T21:16:32.741553Z"
    }
   },
   "cell_type": "code",
   "source": "mixs_examples_report_yaml = \"mixs_examples_report.yaml\"",
   "id": "8aee02a3ce9e9a3",
   "outputs": [],
   "execution_count": 5
  },
  {
   "metadata": {},
   "cell_type": "markdown",
   "source": "Should I really have written my own type validators?",
   "id": "3ff7e449a27f3d6b"
  },
  {
   "metadata": {
    "ExecuteTime": {
     "end_time": "2025-03-10T21:16:32.793509Z",
     "start_time": "2025-03-10T21:16:32.788878Z"
    }
   },
   "cell_type": "code",
   "source": [
    "def is_boolean_extended(s):\n",
    "    return s.lower() in boolean_proxies"
   ],
   "id": "84f11c8350c3d619",
   "outputs": [],
   "execution_count": 6
  },
  {
   "metadata": {
    "ExecuteTime": {
     "end_time": "2025-03-10T21:16:32.841621Z",
     "start_time": "2025-03-10T21:16:32.836977Z"
    }
   },
   "cell_type": "code",
   "source": [
    "def is_float(s):\n",
    "    try:\n",
    "        float(s)  # Try converting to float\n",
    "        return True\n",
    "    except ValueError:\n",
    "        return False\n"
   ],
   "id": "6845154bbd1d1ad4",
   "outputs": [],
   "execution_count": 7
  },
  {
   "metadata": {
    "ExecuteTime": {
     "end_time": "2025-03-10T21:16:32.887730Z",
     "start_time": "2025-03-10T21:16:32.884568Z"
    }
   },
   "cell_type": "code",
   "source": [
    "def is_iso8601(s):\n",
    "    try:\n",
    "        datetime.fromisoformat(s)\n",
    "        return True\n",
    "    except ValueError:\n",
    "        return False\n"
   ],
   "id": "ba9a31a943b20f90",
   "outputs": [],
   "execution_count": 8
  },
  {
   "metadata": {
    "ExecuteTime": {
     "end_time": "2025-03-10T21:16:32.933696Z",
     "start_time": "2025-03-10T21:16:32.930588Z"
    }
   },
   "cell_type": "code",
   "source": [
    "def matches_regex(s, pattern):\n",
    "    return bool(re.fullmatch(pattern, s))"
   ],
   "id": "48f811970064f24",
   "outputs": [],
   "execution_count": 9
  },
  {
   "metadata": {
    "ExecuteTime": {
     "end_time": "2025-03-10T21:16:34.224040Z",
     "start_time": "2025-03-10T21:16:32.976640Z"
    }
   },
   "cell_type": "code",
   "source": "generator = LinkmlGenerator(tested_schema_url, materialize_attributes=False, materialize_patterns=True, format='yaml')",
   "id": "ba1b235b45df1aa0",
   "outputs": [],
   "execution_count": 10
  },
  {
   "metadata": {
    "ExecuteTime": {
     "end_time": "2025-03-10T21:16:37.710359Z",
     "start_time": "2025-03-10T21:16:36.214577Z"
    }
   },
   "cell_type": "code",
   "source": "generated_yaml_string = generator.serialize()",
   "id": "68d6c95eb72c8ad1",
   "outputs": [],
   "execution_count": 11
  },
  {
   "metadata": {
    "ExecuteTime": {
     "end_time": "2025-03-10T21:16:41.074529Z",
     "start_time": "2025-03-10T21:16:39.649923Z"
    }
   },
   "cell_type": "code",
   "source": [
    "generated_schema = SchemaView(generated_yaml_string)\n",
    "# 2 seconds"
   ],
   "id": "25162d77ea4ccbd8",
   "outputs": [],
   "execution_count": 12
  },
  {
   "metadata": {
    "ExecuteTime": {
     "end_time": "2025-03-10T21:16:44.371744Z",
     "start_time": "2025-03-10T21:16:44.364946Z"
    }
   },
   "cell_type": "code",
   "source": [
    "checklist_names = set(generated_schema.class_descendants(\n",
    "    class_name=\"Checklist\",\n",
    "    reflexive=False,\n",
    "    mixins=False,\n",
    "    is_a=True\n",
    "))"
   ],
   "id": "16bf321fa72c145d",
   "outputs": [],
   "execution_count": 13
  },
  {
   "metadata": {
    "ExecuteTime": {
     "end_time": "2025-03-10T21:16:47.729197Z",
     "start_time": "2025-03-10T21:16:47.697364Z"
    }
   },
   "cell_type": "code",
   "source": [
    "extension_names = set(generated_schema.class_descendants(\n",
    "    class_name=\"Extension\",\n",
    "    reflexive=False,\n",
    "    mixins=False,\n",
    "    is_a=True\n",
    "))"
   ],
   "id": "e4655b8e31d3fcbd",
   "outputs": [],
   "execution_count": 14
  },
  {
   "metadata": {
    "ExecuteTime": {
     "end_time": "2025-03-10T21:16:51.060101Z",
     "start_time": "2025-03-10T21:16:51.057718Z"
    }
   },
   "cell_type": "code",
   "source": "relevant_class_names = checklist_names | extension_names # union",
   "id": "c9ae50ae43f07e7d",
   "outputs": [],
   "execution_count": 15
  },
  {
   "metadata": {
    "ExecuteTime": {
     "end_time": "2025-03-10T21:16:57.442324Z",
     "start_time": "2025-03-10T21:16:57.439911Z"
    }
   },
   "cell_type": "code",
   "source": "relevant_class_names = list(relevant_class_names)",
   "id": "44358e1e6a596bc1",
   "outputs": [],
   "execution_count": 16
  },
  {
   "metadata": {
    "ExecuteTime": {
     "end_time": "2025-03-10T21:16:57.462148Z",
     "start_time": "2025-03-10T21:16:57.446801Z"
    }
   },
   "cell_type": "code",
   "source": "relevant_class_names.sort()",
   "id": "a42729a30d492b59",
   "outputs": [],
   "execution_count": 17
  },
  {
   "metadata": {
    "ExecuteTime": {
     "end_time": "2025-03-10T21:17:00.724109Z",
     "start_time": "2025-03-10T21:17:00.721343Z"
    }
   },
   "cell_type": "code",
   "source": [
    "doesnt_match_enum_examples = []\n",
    "doesnt_match_pattern_examples = []\n",
    "unhandled_range_slot = []\n",
    "unhandled_type_slot = []\n",
    "doesnt_satisfy_type_examples = []\n",
    "missing_example_slots = []\n",
    "unconstrained_slots = []"
   ],
   "id": "fb004686160573f0",
   "outputs": [],
   "execution_count": 18
  },
  {
   "metadata": {},
   "cell_type": "markdown",
   "source": "Getting the type's class name and checking that in if statements seems pretty indirect",
   "id": "51683fff0ab65d9d"
  },
  {
   "metadata": {
    "ExecuteTime": {
     "end_time": "2025-03-10T21:17:03.971732Z",
     "start_time": "2025-03-10T21:17:03.963138Z"
    }
   },
   "cell_type": "code",
   "source": [
    "def validate_examples(relevant_class_names, generated_schema):\n",
    "    for c_name in relevant_class_names:\n",
    "        ic = generated_schema.induced_class(c_name)\n",
    "        for ican, icav in ic.attributes.items():\n",
    "            range_type = str(icav.range)\n",
    "            range_element = generated_schema.get_element(range_type)\n",
    "            range_element_name = str(type(range_element).class_name)\n",
    "            examples = icav.examples\n",
    "\n",
    "            if not examples:\n",
    "                missing_example_slots.append({\"class\": str(ic.name), \"slot\": str(icav.name)})\n",
    "                continue\n",
    "\n",
    "            for example in examples:\n",
    "                example_value = str(example.value)\n",
    "\n",
    "                if range_element_name == 'enum_definition':\n",
    "                    if example_value not in range_element.permissible_values:\n",
    "                        doesnt_match_enum_examples.append({\n",
    "                            \"class\": str(ic.name), \"slot\": str(icav.name), \"enum\": range_type, \"example\": example_value\n",
    "                        })\n",
    "                        continue\n",
    "\n",
    "                elif range_element_name == 'type_definition':\n",
    "                    invalid_type = (\n",
    "                            (range_type == 'integer' and not example_value.isdigit()) or\n",
    "                            (range_type == 'boolean' and not is_boolean_extended(example_value)) or\n",
    "                            (range_type == 'float' and not is_float(example_value)) or\n",
    "                            (range_type == 'datetime' and not is_iso8601(example_value))\n",
    "                    )\n",
    "\n",
    "                    if invalid_type:\n",
    "                        unhandled_type_slot.append({\"class\": str(ic.name), \"slot\": str(icav.name), \"type\": range_type,\n",
    "                                                    \"example\": example_value})\n",
    "                        continue\n",
    "                    if range_type == 'string' and icav.pattern and not matches_regex(s=example_value,\n",
    "                                                                                     pattern=icav.pattern):\n",
    "                        doesnt_match_pattern_examples.append(\n",
    "                            {\"class\": str(ic.name), \"slot\": str(icav.name), \"pattern\": str(icav.pattern),\n",
    "                             \"example\": example_value})\n",
    "                        continue\n",
    "                    if range_type == 'string':\n",
    "                        if not icav.pattern:\n",
    "                            unconstrained_slots.append({\"class\": str(ic.name), \"slot\": str(icav.name)})\n",
    "                            continue\n",
    "                        else:\n",
    "                            continue\n",
    "\n",
    "                    if range_type not in expected_types:\n",
    "                        doesnt_satisfy_type_examples.append(\n",
    "                            {\"class\": str(ic.name), \"slot\": str(icav.name), \"type\": range_type})\n",
    "                    else:\n",
    "                        continue\n",
    "                        # it's not an enum slot, it is a type range slot, it's not a string slot, it's not an unhandled type slot, and it's not invalid for its type\n",
    "\n",
    "                    print(\"how did we get here?\")\n",
    "\n",
    "                else:\n",
    "                    unhandled_range_slot.append({\"class\": str(ic.name), \"slot\": str(icav.name), \"type\": range_type})\n"
   ],
   "id": "97174fbe2f5ac53b",
   "outputs": [],
   "execution_count": 19
  },
  {
   "metadata": {
    "ExecuteTime": {
     "end_time": "2025-03-10T21:17:35.384840Z",
     "start_time": "2025-03-10T21:17:07.200181Z"
    }
   },
   "cell_type": "code",
   "source": "validate_examples(relevant_class_names, generated_schema)",
   "id": "ab74f6b6a038203a",
   "outputs": [],
   "execution_count": 20
  },
  {
   "metadata": {
    "ExecuteTime": {
     "end_time": "2025-03-10T21:17:38.740497Z",
     "start_time": "2025-03-10T21:17:38.737756Z"
    }
   },
   "cell_type": "code",
   "source": [
    "report = {\n",
    "    \"doesnt_match_enum_examples\": doesnt_match_enum_examples,\n",
    "    \"doesnt_match_pattern_examples\": doesnt_match_pattern_examples,\n",
    "    \"unhandled_range_slot\": unhandled_range_slot,\n",
    "    \"unhandled_type_slot\": unhandled_type_slot,\n",
    "    \"doesnt_satisfy_type_examples\": doesnt_satisfy_type_examples,\n",
    "    \"missing_example_slots\": missing_example_slots,\n",
    "    \"unconstrained_slots\": unconstrained_slots,\n",
    "}"
   ],
   "id": "10d9dc943973ee5b",
   "outputs": [],
   "execution_count": 21
  },
  {
   "metadata": {
    "ExecuteTime": {
     "end_time": "2025-03-10T21:17:43.263054Z",
     "start_time": "2025-03-10T21:17:41.912071Z"
    }
   },
   "cell_type": "code",
   "source": [
    "# Write to a YAML file\n",
    "with open(mixs_examples_report_yaml, \"w\") as file:\n",
    "    yaml.dump(report, file, default_flow_style=False, sort_keys=True)"
   ],
   "id": "a2c09ca9693fcb8",
   "outputs": [],
   "execution_count": 22
  },
  {
   "metadata": {
    "ExecuteTime": {
     "end_time": "2025-03-10T21:17:46.462441Z",
     "start_time": "2025-03-10T21:17:46.460371Z"
    }
   },
   "cell_type": "code",
   "source": "",
   "id": "65b725d6fca4edc",
   "outputs": [],
   "execution_count": null
  }
 ],
 "metadata": {
  "kernelspec": {
   "display_name": "Python 3",
   "language": "python",
   "name": "python3"
  },
  "language_info": {
   "codemirror_mode": {
    "name": "ipython",
    "version": 2
   },
   "file_extension": ".py",
   "mimetype": "text/x-python",
   "name": "python",
   "nbconvert_exporter": "python",
   "pygments_lexer": "ipython2",
   "version": "2.7.6"
  }
 },
 "nbformat": 4,
 "nbformat_minor": 5
}
