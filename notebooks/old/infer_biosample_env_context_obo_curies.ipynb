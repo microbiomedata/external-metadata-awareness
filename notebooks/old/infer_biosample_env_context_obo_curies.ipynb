{
 "cells": [
  {
   "metadata": {
    "ExecuteTime": {
     "end_time": "2024-12-14T02:10:10.929694Z",
     "start_time": "2024-12-14T02:10:05.951813Z"
    }
   },
   "cell_type": "code",
   "source": [
    "import duckdb\n",
    "from sqlalchemy import create_engine, text\n",
    "from sqlalchemy.engine import Engine\n",
    "\n",
    "import pandas as pd\n",
    "from typing import List, Dict, Any\n",
    "\n",
    "from oaklib import get_adapter\n",
    "from oaklib.implementations import AggregatorImplementation"
   ],
   "id": "7d36a0ed4319cbef",
   "outputs": [],
   "execution_count": 1
  },
  {
   "metadata": {},
   "cell_type": "markdown",
   "source": [
    "what's a generic, high performance way to swap data between the duckdb and in-memory Python data structures?\n",
    "\n",
    "wrap in sqlalchemy and use pandas?\n",
    "\n",
    "I'm adding connections and transactions... seems like a lot of overhead"
   ],
   "id": "2792255d8d011bc3"
  },
  {
   "metadata": {
    "ExecuteTime": {
     "end_time": "2024-12-14T02:10:10.935209Z",
     "start_time": "2024-12-14T02:10:10.931805Z"
    }
   },
   "cell_type": "code",
   "source": "duckdb_filename = \"ncbi_biosamples.duckdb\"",
   "id": "9e0327a0c08d5e87",
   "outputs": [],
   "execution_count": 2
  },
  {
   "metadata": {
    "ExecuteTime": {
     "end_time": "2024-12-14T02:10:10.940391Z",
     "start_time": "2024-12-14T02:10:10.936738Z"
    }
   },
   "cell_type": "code",
   "source": [
    "def open_duckdb_file(filename):\n",
    "    \"\"\"\n",
    "    Creates a file-based DuckDB database and returns the connection.\n",
    "  \n",
    "    Args:\n",
    "      filename: The name of the DuckDB database file to create.\n",
    "  \n",
    "    Returns:\n",
    "      duckdb.DuckDBPyConnection: The DuckDB connection object.\n",
    "    \"\"\"\n",
    "    conn = duckdb.connect(database=filename)\n",
    "    return conn"
   ],
   "id": "initial_id",
   "outputs": [],
   "execution_count": 3
  },
  {
   "metadata": {
    "ExecuteTime": {
     "end_time": "2024-12-14T02:10:10.946569Z",
     "start_time": "2024-12-14T02:10:10.943050Z"
    }
   },
   "cell_type": "code",
   "source": [
    "def create_engine_connection(db_path: str) -> Engine:\n",
    "    \"\"\"\n",
    "    Creates and returns an SQLAlchemy Engine for the DuckDB database.\n",
    "\n",
    "    Args:\n",
    "        db_path (str): Path to the DuckDB file.\n",
    "\n",
    "    Returns:\n",
    "        sqlalchemy.engine.Engine: A connection engine for the DuckDB database.\n",
    "    \"\"\"\n",
    "    try:\n",
    "        engine = create_engine(f\"duckdb:///{db_path}\")\n",
    "        return engine\n",
    "    except Exception as e:\n",
    "        raise RuntimeError(f\"Failed to create SQLAlchemy engine: {e}\")"
   ],
   "id": "50f3698759694629",
   "outputs": [],
   "execution_count": 4
  },
  {
   "metadata": {
    "ExecuteTime": {
     "end_time": "2024-12-14T02:10:10.952103Z",
     "start_time": "2024-12-14T02:10:10.948016Z"
    }
   },
   "cell_type": "code",
   "source": [
    "def list_tables(engine: Engine) -> None:\n",
    "    \"\"\"\n",
    "    Prints a list of all tables in the current schema.\n",
    "\n",
    "    Args:\n",
    "        engine (sqlalchemy.engine.Engine): SQLAlchemy engine for the database.\n",
    "    \"\"\"\n",
    "    try:\n",
    "        with engine.connect() as connection:\n",
    "            result = connection.execute(text(\"SHOW TABLES\"))\n",
    "            print(\"Tables in the current schema:\")\n",
    "            for row in result:\n",
    "                print(f\" - {row[0]}\")\n",
    "    except Exception as e:\n",
    "        raise RuntimeError(f\"Error listing tables: {e}\")"
   ],
   "id": "31b2e2496a737dc8",
   "outputs": [],
   "execution_count": 5
  },
  {
   "metadata": {
    "ExecuteTime": {
     "end_time": "2024-12-14T02:10:10.959637Z",
     "start_time": "2024-12-14T02:10:10.953697Z"
    }
   },
   "cell_type": "code",
   "source": [
    "\n",
    "def extract_curies_from_text(\n",
    "    text: str,\n",
    "    row_id: int = None,  # Generic parameter for row context\n",
    "    prefix_min_len: int = 2,\n",
    "    prefix_max_len: int = 10,\n",
    "    local_id_min_len: int = 2,\n",
    "    local_id_max_len: int = 10,\n",
    "    prefix_chars_allowed: str = r\"[a-zA-Z]\",\n",
    "    local_id_chars_allowed: str = r\"[0-9]\",\n",
    "    delimiter_chars_allowed: str = r\"[_:]\",\n",
    ") -> List[dict]:\n",
    "    \"\"\"\n",
    "    Extract ontology class CURIEs from text and return them as dictionaries.\n",
    "\n",
    "    Args:\n",
    "        text (str): The input text.\n",
    "        row_id (int, optional): A generic ID or reference for the row context.\n",
    "        prefix_min_len (int): Minimum length of the prefix part of the CURIE.\n",
    "        prefix_max_len (int): Maximum length of the prefix part of the CURIE.\n",
    "        local_id_min_len (int): Minimum length of the local ID part of the CURIE.\n",
    "        local_id_max_len (int): Maximum length of the local ID part of the CURIE.\n",
    "        prefix_chars_allowed (str): Allowed characters for the prefix.\n",
    "        local_id_chars_allowed (str): Allowed characters for the local ID.\n",
    "        delimiter_chars_allowed (str): Allowed delimiters between prefix and local ID.\n",
    "\n",
    "    Returns:\n",
    "        List[dict]: A list of dictionaries containing CURIE parts and row context.\n",
    "    \"\"\"\n",
    "    import re\n",
    "\n",
    "    pattern = rf\"\"\"\n",
    "        \\b                                      # Word boundary\n",
    "        (?P<prefix>{prefix_chars_allowed}{{{prefix_min_len},{prefix_max_len}}})  # Prefix\n",
    "        (?P<delimiter>{delimiter_chars_allowed})                               # Delimiter\n",
    "        (?P<local_id>{local_id_chars_allowed}{{{local_id_min_len},{local_id_max_len}}})  # Local ID\n",
    "        \\b                                      # Word boundary\n",
    "    \"\"\"\n",
    "    matches = re.finditer(pattern, text, re.VERBOSE)\n",
    "    return [\n",
    "        {\n",
    "            \"row_id\": row_id,  # General ID reference\n",
    "            \"curie_prefix\": match.group(\"prefix\"),\n",
    "            \"curie_delimiter\": match.group(\"delimiter\"),\n",
    "            \"curie_local_id\": match.group(\"local_id\"),\n",
    "        }\n",
    "        for match in matches\n",
    "    ]\n"
   ],
   "id": "f9d2adad8036bbd2",
   "outputs": [],
   "execution_count": 6
  },
  {
   "metadata": {
    "ExecuteTime": {
     "end_time": "2024-12-14T02:10:10.968382Z",
     "start_time": "2024-12-14T02:10:10.961294Z"
    }
   },
   "cell_type": "code",
   "source": [
    "def class_detection_by_label(\n",
    "    text: str,\n",
    "    ontology_adapters: Dict[str, Any],\n",
    "    row_id: int = None,\n",
    "    min_annotated_length: int = 3\n",
    ") -> List[Dict[str, Any]]:\n",
    "    \"\"\"\n",
    "    Detect ontology class labels in a string using multiple ontology adapters and collect the annotations.\n",
    "    Only annotations with a match string length >= min_annotated_length are included.\n",
    "    Additionally, a flag 'is_longest_match' is added to indicate the longest match for the string.\n",
    "\n",
    "    Args:\n",
    "        text (str): The input string to be analyzed.\n",
    "        ontology_adapters (dict): Dictionary of ontology adapters.\n",
    "        row_id (int, optional): A generic ID or reference for the row context.\n",
    "        min_annotated_length (int): Minimum length for the annotated match string to be included.\n",
    "\n",
    "    Returns:\n",
    "        List[dict]: A list of dictionaries with the annotations, each representing a new row.\n",
    "    \"\"\"\n",
    "    annotations_for_this_string = []\n",
    "\n",
    "    # Annotate the string using each ontology adapter\n",
    "    for _, adapter in ontology_adapters.items():\n",
    "        annotations = adapter.annotate_text(text)\n",
    "\n",
    "        if annotations:  # If there are annotations\n",
    "            for annotation in annotations:\n",
    "                subject_string = annotation.match_string\n",
    "\n",
    "                # Only include annotations where subject_string length is >= min_annotated_length\n",
    "                if len(subject_string) >= min_annotated_length:\n",
    "                    # Build the annotation dictionary\n",
    "                    annotations_dict = {\n",
    "                        \"id\": row_id,\n",
    "                        \"subject_string\": subject_string,\n",
    "                        \"subject_start\": annotation.subject_start,\n",
    "                        \"subject_end\": annotation.subject_end,\n",
    "                        \"predicate_id\": annotation.predicate_id,\n",
    "                        \"concluded_curie\": annotation.object_id,\n",
    "                        \"object_string\": annotation.object_label,\n",
    "                    }\n",
    "                    annotations_for_this_string.append(annotations_dict)\n",
    "\n",
    "    # Determine the longest match for this string\n",
    "    if annotations_for_this_string:\n",
    "        longest_annotation = max(annotations_for_this_string, key=lambda x: len(x['subject_string']))\n",
    "\n",
    "        # Mark each annotation as the longest or not\n",
    "        for annotation in annotations_for_this_string:\n",
    "            annotation['is_longest_match'] = annotation['subject_string'] == longest_annotation['subject_string']\n",
    "\n",
    "    return annotations_for_this_string\n"
   ],
   "id": "aeb54ffb20d8fbd7",
   "outputs": [],
   "execution_count": 7
  },
  {
   "metadata": {
    "ExecuteTime": {
     "end_time": "2024-12-14T02:10:10.974836Z",
     "start_time": "2024-12-14T02:10:10.970116Z"
    }
   },
   "cell_type": "code",
   "source": [
    "def create_ontology_adapters(ontology_short_names: list) -> dict:\n",
    "    \"\"\"\n",
    "    Create a dictionary of OAK adapters for each ontology short name.\n",
    "\n",
    "    Args:\n",
    "        ontology_short_names (list): A list of ontology short names (e.g., ['envo', 'po']).\n",
    "\n",
    "    Returns:\n",
    "        dict: A dictionary where keys are ontology short names and values are the OAK adapters.\n",
    "    \"\"\"\n",
    "    adapters = {}\n",
    "    for short_name in ontology_short_names:\n",
    "        adapter_string = f\"sqlite:obo:{short_name}\"  # Create the adapter string\n",
    "        try:\n",
    "            adapters[short_name] = get_adapter(adapter_string)  # Get the adapter and add to dictionary\n",
    "        except Exception as e:\n",
    "            print(f\"Warning: Failed to create adapter for {short_name}. Error: {e}\")\n",
    "    return adapters"
   ],
   "id": "921dfa86261cb923",
   "outputs": [],
   "execution_count": 8
  },
  {
   "metadata": {
    "ExecuteTime": {
     "end_time": "2024-12-14T02:10:11.053504Z",
     "start_time": "2024-12-14T02:10:10.976579Z"
    }
   },
   "cell_type": "code",
   "source": "duckdb_engine = create_engine_connection(duckdb_filename)",
   "id": "ef78b42d6c8e5e1",
   "outputs": [],
   "execution_count": 9
  },
  {
   "metadata": {
    "ExecuteTime": {
     "end_time": "2024-12-14T02:10:11.133677Z",
     "start_time": "2024-12-14T02:10:11.058648Z"
    }
   },
   "cell_type": "code",
   "source": "list_tables(duckdb_engine)",
   "id": "67d6b0ae5db11f22",
   "outputs": [
    {
     "name": "stdout",
     "output_type": "stream",
     "text": [
      "Tables in the current schema:\n",
      " - attributes\n",
      " - contexts_to_normalized_strings\n",
      " - curies_of_strings_of_splits\n",
      " - harmonized_attributes_wide\n",
      " - ids\n",
      " - links\n",
      " - normalized_context_strings\n",
      " - organism\n",
      " - overview\n"
     ]
    }
   ],
   "execution_count": 10
  },
  {
   "metadata": {
    "ExecuteTime": {
     "end_time": "2024-12-14T02:10:11.148205Z",
     "start_time": "2024-12-14T02:10:11.135200Z"
    }
   },
   "cell_type": "code",
   "source": [
    "with duckdb_engine.connect() as connection:\n",
    "    transaction = connection.begin()\n",
    "    connection.execute(text(\"DROP TABLE IF EXISTS main.normalized_contexts;\"))\n",
    "    connection.execute(text(\"drop table if exists main.normalized_context_strings;\"))\n",
    "    connection.execute(text(\"DROP TABLE IF EXISTS normalized_contexts;\"))\n",
    "    connection.execute(text(\"drop table if exists normalized_context_strings;\"))\n",
    "    connection.execute(text(\"\"\"\n",
    "    drop table if exists main.contexts_to_normalized_strings;\n",
    "    \"\"\"))\n",
    "    connection.execute(text(\"\"\"\n",
    "    drop table if exists contexts_to_normalized_strings;\n",
    "    \"\"\"))\n",
    "    transaction.commit()"
   ],
   "id": "82ee7dd20764d055",
   "outputs": [],
   "execution_count": 11
  },
  {
   "metadata": {
    "ExecuteTime": {
     "end_time": "2024-12-14T02:10:11.158431Z",
     "start_time": "2024-12-14T02:10:11.149814Z"
    }
   },
   "cell_type": "code",
   "source": "list_tables(duckdb_engine)",
   "id": "46b96c9c6acbc8e6",
   "outputs": [
    {
     "name": "stdout",
     "output_type": "stream",
     "text": [
      "Tables in the current schema:\n",
      " - attributes\n",
      " - curies_of_strings_of_splits\n",
      " - harmonized_attributes_wide\n",
      " - ids\n",
      " - links\n",
      " - organism\n",
      " - overview\n"
     ]
    }
   ],
   "execution_count": 12
  },
  {
   "metadata": {
    "ExecuteTime": {
     "end_time": "2024-12-14T02:10:28.937081Z",
     "start_time": "2024-12-14T02:10:11.160695Z"
    }
   },
   "cell_type": "code",
   "source": [
    "with duckdb_engine.connect() as connection:\n",
    "    \n",
    "    transaction = connection.begin()\n",
    "    \n",
    "    connection.execute(text(\"\"\"\n",
    "    CREATE TEMPORARY TABLE normalized_contexts AS\n",
    "    SELECT\n",
    "        id,\n",
    "        harmonized_name,\n",
    "        content,\n",
    "        regexp_replace(trim(lower(content)), '\\\\s+', ' ', 'g') AS normalized\n",
    "    FROM\n",
    "        main.attributes\n",
    "    WHERE\n",
    "        harmonized_name IN ('env_broad_scale', 'env_local_scale', 'env_medium');\n",
    "    \"\"\"))\n",
    "\n",
    "    connection.execute(text(\"\"\"\n",
    "    CREATE TABLE main.normalized_context_strings (\n",
    "    normalized_context_string_id INTEGER PRIMARY KEY,\n",
    "    normalized_context_string TEXT UNIQUE\n",
    "    );\n",
    "    \"\"\"))\n",
    "\n",
    "    connection.execute(text(\"\"\"\n",
    "    INSERT INTO main.normalized_context_strings (normalized_context_string_id, normalized_context_string)\n",
    "    SELECT\n",
    "        ROW_NUMBER() OVER () AS string_id,\n",
    "        normalized\n",
    "    FROM (\n",
    "        SELECT DISTINCT normalized\n",
    "        FROM main.normalized_contexts\n",
    "    ) sub;\n",
    "    \"\"\"))\n",
    "    \n",
    "    connection.execute(text(\"\"\"\n",
    "    CREATE TABLE main.contexts_to_normalized_strings (\n",
    "    id INTEGER ,\n",
    "    harmonized_name TEXT ,\n",
    "    normalized_context_string_id INTEGER\n",
    "    );\n",
    "    \"\"\"))\n",
    "\n",
    "    connection.execute(text(\"\"\"\n",
    "    INSERT INTO main.contexts_to_normalized_strings (id, harmonized_name, normalized_context_string_id)\n",
    "    SELECT\n",
    "        nc.id,\n",
    "        nc.harmonized_name,\n",
    "        ncs.normalized_context_string_id\n",
    "    FROM\n",
    "        main.normalized_contexts nc\n",
    "    JOIN main.normalized_context_strings ncs\n",
    "    ON\n",
    "        nc.normalized = ncs.normalized_context_string;\n",
    "    \"\"\"))\n",
    "\n",
    "    connection.execute(text(\"\"\"\n",
    "    drop table if exists main.normalized_contexts;\n",
    "    \"\"\"))\n",
    "    connection.execute(text(\"\"\"\n",
    "    drop table if exists normalized_contexts;\n",
    "    \"\"\"))\n",
    "\n",
    "    transaction.commit()\n"
   ],
   "id": "e36e370664f9a65b",
   "outputs": [
    {
     "data": {
      "text/plain": [
       "FloatProgress(value=0.0, layout=Layout(width='auto'), style=ProgressStyle(bar_color='black'))"
      ],
      "application/vnd.jupyter.widget-view+json": {
       "version_major": 2,
       "version_minor": 0,
       "model_id": "a6d68eb7ae3847b89b9d75755ab14e17"
      }
     },
     "metadata": {},
     "output_type": "display_data"
    },
    {
     "data": {
      "text/plain": [
       "FloatProgress(value=0.0, layout=Layout(width='auto'), style=ProgressStyle(bar_color='black'))"
      ],
      "application/vnd.jupyter.widget-view+json": {
       "version_major": 2,
       "version_minor": 0,
       "model_id": "3da89d574046412481cf82d88c1ba391"
      }
     },
     "metadata": {},
     "output_type": "display_data"
    },
    {
     "data": {
      "text/plain": [
       "FloatProgress(value=0.0, layout=Layout(width='auto'), style=ProgressStyle(bar_color='black'))"
      ],
      "application/vnd.jupyter.widget-view+json": {
       "version_major": 2,
       "version_minor": 0,
       "model_id": "7ba7bc6bb2514c2aa83b00e27bde1474"
      }
     },
     "metadata": {},
     "output_type": "display_data"
    }
   ],
   "execution_count": 13
  },
  {
   "metadata": {
    "ExecuteTime": {
     "end_time": "2024-12-14T02:10:28.992202Z",
     "start_time": "2024-12-14T02:10:28.953504Z"
    }
   },
   "cell_type": "code",
   "source": "list_tables(duckdb_engine)",
   "id": "8953d3cc6ca1e3ef",
   "outputs": [
    {
     "name": "stdout",
     "output_type": "stream",
     "text": [
      "Tables in the current schema:\n",
      " - attributes\n",
      " - contexts_to_normalized_strings\n",
      " - curies_of_strings_of_splits\n",
      " - harmonized_attributes_wide\n",
      " - ids\n",
      " - links\n",
      " - normalized_context_strings\n",
      " - organism\n",
      " - overview\n"
     ]
    }
   ],
   "execution_count": 14
  },
  {
   "metadata": {},
   "cell_type": "markdown",
   "source": " # locally retrieve and process normalized_context_strings",
   "id": "809c434cc5dbeb4c"
  },
  {
   "metadata": {
    "ExecuteTime": {
     "end_time": "2024-12-14T02:10:29.775913Z",
     "start_time": "2024-12-14T02:10:28.994486Z"
    }
   },
   "cell_type": "code",
   "source": "normalized_context_strings = pd.read_sql(\"select * from main.normalized_context_strings\", duckdb_engine)",
   "id": "1ce0c544214d4e28",
   "outputs": [],
   "execution_count": 15
  },
  {
   "metadata": {
    "ExecuteTime": {
     "end_time": "2024-12-14T02:10:29.793570Z",
     "start_time": "2024-12-14T02:10:29.777421Z"
    }
   },
   "cell_type": "code",
   "source": "normalized_context_strings",
   "id": "838d1a44e76233fe",
   "outputs": [
    {
     "data": {
      "text/plain": [
       "        normalized_context_string_id  \\\n",
       "0                                  1   \n",
       "1                                  2   \n",
       "2                                  3   \n",
       "3                                  4   \n",
       "4                                  5   \n",
       "...                              ...   \n",
       "165331                        165332   \n",
       "165332                        165333   \n",
       "165333                        165334   \n",
       "165334                        165335   \n",
       "165335                        165336   \n",
       "\n",
       "                                normalized_context_string  \n",
       "0                                          not determined  \n",
       "1                                        arboreal habitat  \n",
       "2                                   antarctic cold desert  \n",
       "3                                                   water  \n",
       "4                         managed aquifer recharge system  \n",
       "...                                                   ...  \n",
       "165331                            peatland[envo_00000044]  \n",
       "165332                                            tropica  \n",
       "165333                         6.6 estuary/coastal waters  \n",
       "165334                                       hinderbanken  \n",
       "165335  area of developed space [envo_01001269], tempe...  \n",
       "\n",
       "[165336 rows x 2 columns]"
      ],
      "text/html": [
       "<div>\n",
       "<style scoped>\n",
       "    .dataframe tbody tr th:only-of-type {\n",
       "        vertical-align: middle;\n",
       "    }\n",
       "\n",
       "    .dataframe tbody tr th {\n",
       "        vertical-align: top;\n",
       "    }\n",
       "\n",
       "    .dataframe thead th {\n",
       "        text-align: right;\n",
       "    }\n",
       "</style>\n",
       "<table border=\"1\" class=\"dataframe\">\n",
       "  <thead>\n",
       "    <tr style=\"text-align: right;\">\n",
       "      <th></th>\n",
       "      <th>normalized_context_string_id</th>\n",
       "      <th>normalized_context_string</th>\n",
       "    </tr>\n",
       "  </thead>\n",
       "  <tbody>\n",
       "    <tr>\n",
       "      <th>0</th>\n",
       "      <td>1</td>\n",
       "      <td>not determined</td>\n",
       "    </tr>\n",
       "    <tr>\n",
       "      <th>1</th>\n",
       "      <td>2</td>\n",
       "      <td>arboreal habitat</td>\n",
       "    </tr>\n",
       "    <tr>\n",
       "      <th>2</th>\n",
       "      <td>3</td>\n",
       "      <td>antarctic cold desert</td>\n",
       "    </tr>\n",
       "    <tr>\n",
       "      <th>3</th>\n",
       "      <td>4</td>\n",
       "      <td>water</td>\n",
       "    </tr>\n",
       "    <tr>\n",
       "      <th>4</th>\n",
       "      <td>5</td>\n",
       "      <td>managed aquifer recharge system</td>\n",
       "    </tr>\n",
       "    <tr>\n",
       "      <th>...</th>\n",
       "      <td>...</td>\n",
       "      <td>...</td>\n",
       "    </tr>\n",
       "    <tr>\n",
       "      <th>165331</th>\n",
       "      <td>165332</td>\n",
       "      <td>peatland[envo_00000044]</td>\n",
       "    </tr>\n",
       "    <tr>\n",
       "      <th>165332</th>\n",
       "      <td>165333</td>\n",
       "      <td>tropica</td>\n",
       "    </tr>\n",
       "    <tr>\n",
       "      <th>165333</th>\n",
       "      <td>165334</td>\n",
       "      <td>6.6 estuary/coastal waters</td>\n",
       "    </tr>\n",
       "    <tr>\n",
       "      <th>165334</th>\n",
       "      <td>165335</td>\n",
       "      <td>hinderbanken</td>\n",
       "    </tr>\n",
       "    <tr>\n",
       "      <th>165335</th>\n",
       "      <td>165336</td>\n",
       "      <td>area of developed space [envo_01001269], tempe...</td>\n",
       "    </tr>\n",
       "  </tbody>\n",
       "</table>\n",
       "<p>165336 rows × 2 columns</p>\n",
       "</div>"
      ]
     },
     "execution_count": 16,
     "metadata": {},
     "output_type": "execute_result"
    }
   ],
   "execution_count": 16
  },
  {
   "metadata": {
    "ExecuteTime": {
     "end_time": "2024-12-14T02:10:30.049253Z",
     "start_time": "2024-12-14T02:10:29.795267Z"
    }
   },
   "cell_type": "code",
   "source": "normalized_context_strings.to_csv('normalized_context_strings.tsv', index=False, sep='\\t')",
   "id": "5e9fc28d3e16f4a3",
   "outputs": [],
   "execution_count": 17
  },
  {
   "metadata": {
    "ExecuteTime": {
     "end_time": "2024-12-14T02:10:30.089702Z",
     "start_time": "2024-12-14T02:10:30.052158Z"
    }
   },
   "cell_type": "code",
   "source": [
    "# Ensure the column has string values and handle non-string entries\n",
    "normalized_context_strings['normalized_context_string'] = normalized_context_strings['normalized_context_string'].fillna(\"\").astype(str)\n"
   ],
   "id": "f345800a18c22245",
   "outputs": [],
   "execution_count": 18
  },
  {
   "metadata": {},
   "cell_type": "markdown",
   "source": "# extract curies",
   "id": "bca644d8e924585c"
  },
  {
   "metadata": {
    "ExecuteTime": {
     "end_time": "2024-12-14T02:10:33.055178Z",
     "start_time": "2024-12-14T02:10:30.092489Z"
    }
   },
   "cell_type": "code",
   "source": [
    "# Apply the CURIE extraction function to each row\n",
    "curies_list = normalized_context_strings.apply(\n",
    "    lambda row: extract_curies_from_text(\n",
    "        row[\"normalized_context_string\"],\n",
    "        row.get(\"normalized_context_string_id\", None)  # Pass row ID if available\n",
    "    ), axis=1\n",
    ").explode().dropna()"
   ],
   "id": "2580161c027b9567",
   "outputs": [],
   "execution_count": 19
  },
  {
   "metadata": {
    "ExecuteTime": {
     "end_time": "2024-12-14T02:10:33.121005Z",
     "start_time": "2024-12-14T02:10:33.057195Z"
    }
   },
   "cell_type": "code",
   "source": [
    "# Convert the list of dictionaries into a DataFrame\n",
    "direct_curies = pd.DataFrame(curies_list.tolist())"
   ],
   "id": "5c241fe1adb7c0a7",
   "outputs": [],
   "execution_count": 20
  },
  {
   "metadata": {
    "ExecuteTime": {
     "end_time": "2024-12-14T02:10:33.167970Z",
     "start_time": "2024-12-14T02:10:33.122843Z"
    }
   },
   "cell_type": "code",
   "source": [
    "direct_curies['reassembled_curie'] = direct_curies['curie_prefix'].fillna('').str.upper() + \\\n",
    "                                 \":\" + \\\n",
    "                                 direct_curies['curie_local_id'].fillna('')"
   ],
   "id": "6928d761b22cfe44",
   "outputs": [],
   "execution_count": 21
  },
  {
   "metadata": {
    "ExecuteTime": {
     "end_time": "2024-12-14T02:10:33.176477Z",
     "start_time": "2024-12-14T02:10:33.170483Z"
    }
   },
   "cell_type": "code",
   "source": [
    "# Drop the specified columns\n",
    "direct_curies = direct_curies.drop(columns=['curie_delimiter', 'curie_local_id'])"
   ],
   "id": "2fa3ae1f198a186",
   "outputs": [],
   "execution_count": 22
  },
  {
   "metadata": {
    "ExecuteTime": {
     "end_time": "2024-12-14T02:10:33.182221Z",
     "start_time": "2024-12-14T02:10:33.178479Z"
    }
   },
   "cell_type": "code",
   "source": "direct_curies = direct_curies.rename(columns={'row_id': 'unique_split_normalized_context_string_id'})",
   "id": "95a10ba1f2aa1f5a",
   "outputs": [],
   "execution_count": 23
  },
  {
   "metadata": {
    "ExecuteTime": {
     "end_time": "2024-12-14T02:10:33.195242Z",
     "start_time": "2024-12-14T02:10:33.184281Z"
    }
   },
   "cell_type": "code",
   "source": "direct_curies",
   "id": "c5ba09a3587025f6",
   "outputs": [
    {
     "data": {
      "text/plain": [
       "       unique_split_normalized_context_string_id curie_prefix  \\\n",
       "0                                              6         envo   \n",
       "1                                              7         envo   \n",
       "2                                             18         envo   \n",
       "3                                             33         envo   \n",
       "4                                             37         envo   \n",
       "...                                          ...          ...   \n",
       "44054                                     165324         envo   \n",
       "44055                                     165331         envo   \n",
       "44056                                     165332         envo   \n",
       "44057                                     165336         envo   \n",
       "44058                                     165336         envo   \n",
       "\n",
       "      reassembled_curie  \n",
       "0         ENVO:00002003  \n",
       "1         ENVO:00005750  \n",
       "2         ENVO:00003040  \n",
       "3         ENVO:00002005  \n",
       "4         ENVO:00002149  \n",
       "...                 ...  \n",
       "44054     ENVO:00000233  \n",
       "44055     ENVO:01000237  \n",
       "44056     ENVO:00000044  \n",
       "44057     ENVO:01001269  \n",
       "44058     ENVO:01001831  \n",
       "\n",
       "[44059 rows x 3 columns]"
      ],
      "text/html": [
       "<div>\n",
       "<style scoped>\n",
       "    .dataframe tbody tr th:only-of-type {\n",
       "        vertical-align: middle;\n",
       "    }\n",
       "\n",
       "    .dataframe tbody tr th {\n",
       "        vertical-align: top;\n",
       "    }\n",
       "\n",
       "    .dataframe thead th {\n",
       "        text-align: right;\n",
       "    }\n",
       "</style>\n",
       "<table border=\"1\" class=\"dataframe\">\n",
       "  <thead>\n",
       "    <tr style=\"text-align: right;\">\n",
       "      <th></th>\n",
       "      <th>unique_split_normalized_context_string_id</th>\n",
       "      <th>curie_prefix</th>\n",
       "      <th>reassembled_curie</th>\n",
       "    </tr>\n",
       "  </thead>\n",
       "  <tbody>\n",
       "    <tr>\n",
       "      <th>0</th>\n",
       "      <td>6</td>\n",
       "      <td>envo</td>\n",
       "      <td>ENVO:00002003</td>\n",
       "    </tr>\n",
       "    <tr>\n",
       "      <th>1</th>\n",
       "      <td>7</td>\n",
       "      <td>envo</td>\n",
       "      <td>ENVO:00005750</td>\n",
       "    </tr>\n",
       "    <tr>\n",
       "      <th>2</th>\n",
       "      <td>18</td>\n",
       "      <td>envo</td>\n",
       "      <td>ENVO:00003040</td>\n",
       "    </tr>\n",
       "    <tr>\n",
       "      <th>3</th>\n",
       "      <td>33</td>\n",
       "      <td>envo</td>\n",
       "      <td>ENVO:00002005</td>\n",
       "    </tr>\n",
       "    <tr>\n",
       "      <th>4</th>\n",
       "      <td>37</td>\n",
       "      <td>envo</td>\n",
       "      <td>ENVO:00002149</td>\n",
       "    </tr>\n",
       "    <tr>\n",
       "      <th>...</th>\n",
       "      <td>...</td>\n",
       "      <td>...</td>\n",
       "      <td>...</td>\n",
       "    </tr>\n",
       "    <tr>\n",
       "      <th>44054</th>\n",
       "      <td>165324</td>\n",
       "      <td>envo</td>\n",
       "      <td>ENVO:00000233</td>\n",
       "    </tr>\n",
       "    <tr>\n",
       "      <th>44055</th>\n",
       "      <td>165331</td>\n",
       "      <td>envo</td>\n",
       "      <td>ENVO:01000237</td>\n",
       "    </tr>\n",
       "    <tr>\n",
       "      <th>44056</th>\n",
       "      <td>165332</td>\n",
       "      <td>envo</td>\n",
       "      <td>ENVO:00000044</td>\n",
       "    </tr>\n",
       "    <tr>\n",
       "      <th>44057</th>\n",
       "      <td>165336</td>\n",
       "      <td>envo</td>\n",
       "      <td>ENVO:01001269</td>\n",
       "    </tr>\n",
       "    <tr>\n",
       "      <th>44058</th>\n",
       "      <td>165336</td>\n",
       "      <td>envo</td>\n",
       "      <td>ENVO:01001831</td>\n",
       "    </tr>\n",
       "  </tbody>\n",
       "</table>\n",
       "<p>44059 rows × 3 columns</p>\n",
       "</div>"
      ]
     },
     "execution_count": 24,
     "metadata": {},
     "output_type": "execute_result"
    }
   ],
   "execution_count": 24
  },
  {
   "metadata": {
    "ExecuteTime": {
     "end_time": "2024-12-14T02:10:33.209763Z",
     "start_time": "2024-12-14T02:10:33.197128Z"
    }
   },
   "cell_type": "code",
   "source": "direct_curies['curie_prefix'].value_counts()",
   "id": "381fed74b2678b5a",
   "outputs": [
    {
     "data": {
      "text/plain": [
       "curie_prefix\n",
       "envo        32584\n",
       "bto          2020\n",
       "uberon       1928\n",
       "po           1390\n",
       "gut           662\n",
       "            ...  \n",
       "genepio         1\n",
       "sprouted        1\n",
       "tejon           1\n",
       "emapa           1\n",
       "ww              1\n",
       "Name: count, Length: 195, dtype: int64"
      ]
     },
     "execution_count": 25,
     "metadata": {},
     "output_type": "execute_result"
    }
   ],
   "execution_count": 25
  },
  {
   "metadata": {
    "ExecuteTime": {
     "end_time": "2024-12-14T02:10:35.207414Z",
     "start_time": "2024-12-14T02:10:33.211420Z"
    }
   },
   "cell_type": "code",
   "source": [
    "with duckdb_engine.connect() as connection:\n",
    "    direct_curies.to_sql('direct_curies', connection, if_exists='replace', index=False)"
   ],
   "id": "755835bb3d4e25f2",
   "outputs": [],
   "execution_count": 26
  },
  {
   "metadata": {},
   "cell_type": "markdown",
   "source": "# entity recognition of classes",
   "id": "959cbfdec40e14ff"
  },
  {
   "metadata": {
    "ExecuteTime": {
     "end_time": "2024-12-14T02:10:35.212909Z",
     "start_time": "2024-12-14T02:10:35.209287Z"
    }
   },
   "cell_type": "code",
   "source": "ontologies = ['envo', 'po']",
   "id": "86f68c4023741e56",
   "outputs": [],
   "execution_count": 27
  },
  {
   "metadata": {
    "ExecuteTime": {
     "end_time": "2024-12-14T02:10:35.308416Z",
     "start_time": "2024-12-14T02:10:35.222412Z"
    }
   },
   "cell_type": "code",
   "source": "ontology_adapters = create_ontology_adapters(ontologies)",
   "id": "67e396c23115f820",
   "outputs": [],
   "execution_count": 28
  },
  {
   "metadata": {
    "ExecuteTime": {
     "end_time": "2024-12-14T02:10:35.314452Z",
     "start_time": "2024-12-14T02:10:35.310174Z"
    }
   },
   "cell_type": "code",
   "source": "agg = AggregatorImplementation(implementations=ontology_adapters)",
   "id": "c29bba8be09f7ed6",
   "outputs": [],
   "execution_count": 29
  },
  {
   "metadata": {
    "ExecuteTime": {
     "end_time": "2024-12-14T02:16:22.816981Z",
     "start_time": "2024-12-14T02:10:35.316853Z"
    }
   },
   "cell_type": "code",
   "source": [
    "annotations_list = normalized_context_strings.apply(\n",
    "    lambda row: class_detection_by_label(\n",
    "        row[\"normalized_context_string\"],\n",
    "        ontology_adapters,\n",
    "        row[\"normalized_context_string_id\"]\n",
    "    ), axis=1\n",
    ").explode().dropna()\n",
    "\n",
    "# 10 minutes with envo and po, no manipulation of the input except for (lowercase ) uniqification"
   ],
   "id": "6c2838f49213b413",
   "outputs": [
    {
     "name": "stderr",
     "output_type": "stream",
     "text": [
      "ERROR:root:Skipping statements(subject=ENVO:00000112,predicate=oio:hasDbXref,object=<http://www.eionet.europa.eu/gemet/concept/8704>,value=None,datatype=None,language=None,); ValueError: <http://www.eionet.europa.eu/gemet/concept/8704> is not a valid URI or CURIE\n",
      "ERROR:root:Skipping statements(subject=ENVO:00001996,predicate=oio:hasDbXref,object=<https://en.wikipedia.org/wiki/Acid_mine_drainage>,value=None,datatype=None,language=None,); ValueError: <https://en.wikipedia.org/wiki/Acid_mine_drainage> is not a valid URI or CURIE\n",
      "ERROR:root:Skipping statements(subject=ENVO:01000225,predicate=oio:hasDbXref,object=<https://www.worldwildlife.org/biomes/tropical-and-subtropical-dry-broadleaf-forests>,value=None,datatype=None,language=None,); ValueError: <https://www.worldwildlife.org/biomes/tropical-and-subtropical-dry-broadleaf-forests> is not a valid URI or CURIE\n",
      "ERROR:root:Skipping statements(subject=ENVO:01000227,predicate=oio:hasDbXref,object=<https://www.worldwildlife.org/biomes/tropical-and-subtropical-dry-broadleaf-forests>,value=None,datatype=None,language=None,); ValueError: <https://www.worldwildlife.org/biomes/tropical-and-subtropical-dry-broadleaf-forests> is not a valid URI or CURIE\n",
      "ERROR:root:Skipping statements(subject=ENVO:01001495,predicate=oio:hasDbXref,object=<https://www.goosocean.org/components/com_oe/oe.php?task=download&id=35904&version=2.0&lang=1&format=1>,value=None,datatype=None,language=None,); ValueError: <https://www.goosocean.org/components/com_oe/oe.php?task=download&id=35904&version=2.0&lang=1&format=1> is not a valid URI or CURIE\n",
      "ERROR:root:Skipping statements(subject=ENVO:01001621,predicate=oio:hasDbXref,object=<https://github.com/ESIPFed/sweet/issues/219>,value=None,datatype=None,language=None,); ValueError: <https://github.com/ESIPFed/sweet/issues/219> is not a valid URI or CURIE\n",
      "ERROR:root:Skipping statements(subject=ENVO:01001626,predicate=oio:hasDbXref,object=<https://www.worldwildlife.org/biomes/deserts-and-xeric-shrublands>,value=None,datatype=None,language=None,); ValueError: <https://www.worldwildlife.org/biomes/deserts-and-xeric-shrublands> is not a valid URI or CURIE\n",
      "ERROR:root:Skipping statements(subject=ENVO:01001627,predicate=oio:hasDbXref,object=<https://www.worldwildlife.org/ecoregions/im1304>,value=None,datatype=None,language=None,); ValueError: <https://www.worldwildlife.org/ecoregions/im1304> is not a valid URI or CURIE\n",
      "ERROR:root:Skipping statements(subject=ENVO:01001628,predicate=oio:hasDbXref,object=<https://www.worldwildlife.org/ecoregions/im1303>,value=None,datatype=None,language=None,); ValueError: <https://www.worldwildlife.org/ecoregions/im1303> is not a valid URI or CURIE\n",
      "ERROR:root:Skipping statements(subject=ENVO:01001644,predicate=oio:hasDbXref,object=<http://vocab.nerc.ac.uk/collection/S23/current/S23C021/>,value=None,datatype=None,language=None,); ValueError: <http://vocab.nerc.ac.uk/collection/S23/current/S23C021/> is not a valid URI or CURIE\n",
      "ERROR:root:Skipping statements(subject=ENVO:01001644,predicate=oio:hasDbXref,object=None,value=Carbonate which is formed as the result of some biological process.,datatype=None,language=None,); ValueError: Carbonate which is formed as the result of some biological process. is not a valid URI or CURIE\n",
      "ERROR:root:Skipping statements(subject=ENVO:01001645,predicate=oio:hasDbXref,object=<http://vocab.nerc.ac.uk/collection/S23/current/S23C013/>,value=None,datatype=None,language=None,); ValueError: <http://vocab.nerc.ac.uk/collection/S23/current/S23C013/> is not a valid URI or CURIE\n",
      "ERROR:root:Skipping statements(subject=ENVO:01001646,predicate=oio:hasDbXref,object=<http://vocab.nerc.ac.uk/collection/S23/current/S23C014/>,value=None,datatype=None,language=None,); ValueError: <http://vocab.nerc.ac.uk/collection/S23/current/S23C014/> is not a valid URI or CURIE\n",
      "ERROR:root:Skipping statements(subject=ENVO:01001647,predicate=oio:hasDbXref,object=<http://vocab.nerc.ac.uk/collection/S23/current/S23C004/>,value=None,datatype=None,language=None,); ValueError: <http://vocab.nerc.ac.uk/collection/S23/current/S23C004/> is not a valid URI or CURIE\n",
      "ERROR:root:Skipping statements(subject=ENVO:01001649,predicate=oio:hasDbXref,object=<http://vocab.nerc.ac.uk/collection/S23/current/S23C011/>,value=None,datatype=None,language=None,); ValueError: <http://vocab.nerc.ac.uk/collection/S23/current/S23C011/> is not a valid URI or CURIE\n",
      "ERROR:root:Skipping statements(subject=ENVO:01001650,predicate=oio:hasDbXref,object=<http://vocab.nerc.ac.uk/collection/S23/current/S23C012/>,value=None,datatype=None,language=None,); ValueError: <http://vocab.nerc.ac.uk/collection/S23/current/S23C012/> is not a valid URI or CURIE\n",
      "ERROR:root:Skipping statements(subject=ENVO:01001651,predicate=oio:hasDbXref,object=<http://vocab.nerc.ac.uk/collection/S23/current/S23C003/>,value=None,datatype=None,language=None,); ValueError: <http://vocab.nerc.ac.uk/collection/S23/current/S23C003/> is not a valid URI or CURIE\n",
      "ERROR:root:Skipping statements(subject=ENVO:01001652,predicate=oio:hasDbXref,object=<http://vocab.nerc.ac.uk/collection/S23/current/S23C005/>,value=None,datatype=None,language=None,); ValueError: <http://vocab.nerc.ac.uk/collection/S23/current/S23C005/> is not a valid URI or CURIE\n",
      "ERROR:root:Skipping statements(subject=ENVO:01001685,predicate=oio:hasDbXref,object=<https://github.com/EnvironmentOntology/envo/issues/1319>,value=None,datatype=None,language=None,); ValueError: <https://github.com/EnvironmentOntology/envo/issues/1319> is not a valid URI or CURIE\n",
      "ERROR:root:Skipping statements(subject=ENVO:01001692,predicate=oio:hasDbXref,object=<https://github.com/EnvironmentOntology/envo/issues/1319>,value=None,datatype=None,language=None,); ValueError: <https://github.com/EnvironmentOntology/envo/issues/1319> is not a valid URI or CURIE\n",
      "ERROR:root:Skipping statements(subject=ENVO:01001743,predicate=oio:hasDbXref,object=<https://github.com/EnvironmentOntology/envo/issues/1319>,value=None,datatype=None,language=None,); ValueError: <https://github.com/EnvironmentOntology/envo/issues/1319> is not a valid URI or CURIE\n",
      "ERROR:root:Skipping statements(subject=ENVO:01001799,predicate=oio:hasDbXref,object=<https://www.worldwildlife.org/biomes/tropical-and-subtropical-dry-broadleaf-forests>,value=None,datatype=None,language=None,); ValueError: <https://www.worldwildlife.org/biomes/tropical-and-subtropical-dry-broadleaf-forests> is not a valid URI or CURIE\n",
      "ERROR:root:Skipping statements(subject=ENVO:01001801,predicate=oio:hasDbXref,object=<https://www.worldwildlife.org/biomes/tropical-and-subtropical-dry-broadleaf-forests>,value=None,datatype=None,language=None,); ValueError: <https://www.worldwildlife.org/biomes/tropical-and-subtropical-dry-broadleaf-forests> is not a valid URI or CURIE\n",
      "ERROR:root:Skipping statements(subject=ENVO:01001823,predicate=oio:hasDbXref,object=<https://github.com/EnvironmentOntology/envo/issues/1319>,value=None,datatype=None,language=None,); ValueError: <https://github.com/EnvironmentOntology/envo/issues/1319> is not a valid URI or CURIE\n",
      "ERROR:root:Skipping statements(subject=ENVO:01001878,predicate=oio:hasDbXref,object=<https://www.goosocean.org/index.php?option=com_oe&task=viewDocumentRecord&docID=17476>,value=None,datatype=None,language=None,); ValueError: <https://www.goosocean.org/index.php?option=com_oe&task=viewDocumentRecord&docID=17476> is not a valid URI or CURIE\n",
      "ERROR:root:Skipping statements(subject=ENVO:01001879,predicate=oio:hasDbXref,object=<https://github.com/ESIPFed/sweet/issues/219>,value=None,datatype=None,language=None,); ValueError: <https://github.com/ESIPFed/sweet/issues/219> is not a valid URI or CURIE\n",
      "ERROR:root:Skipping statements(subject=ENVO:01001880,predicate=oio:hasDbXref,object=<https://github.com/ESIPFed/sweet/issues/219>,value=None,datatype=None,language=None,); ValueError: <https://github.com/ESIPFed/sweet/issues/219> is not a valid URI or CURIE\n",
      "ERROR:root:Skipping statements(subject=ENVO:01001881,predicate=oio:hasDbXref,object=<https://github.com/ESIPFed/sweet/issues/219>,value=None,datatype=None,language=None,); ValueError: <https://github.com/ESIPFed/sweet/issues/219> is not a valid URI or CURIE\n",
      "ERROR:root:Skipping statements(subject=ENVO:02000093,predicate=oio:hasDbXref,object=<https://en.wikipedia.org/wiki/Uranium_mining>,value=None,datatype=None,language=None,); ValueError: <https://en.wikipedia.org/wiki/Uranium_mining> is not a valid URI or CURIE\n",
      "ERROR:root:Skipping statements(subject=ENVO:02000094,predicate=oio:hasDbXref,object=<https://en.wikipedia.org/wiki/Ore>,value=None,datatype=None,language=None,); ValueError: <https://en.wikipedia.org/wiki/Ore> is not a valid URI or CURIE\n",
      "ERROR:root:Skipping statements(subject=ENVO:03501363,predicate=oio:hasDbXref,object=<https://www.conveyorsystemsltd.co.uk/news/168/126/Roller-Conveyor-vs-Belt-Conveyor.htm>,value=None,datatype=None,language=None,); ValueError: <https://www.conveyorsystemsltd.co.uk/news/168/126/Roller-Conveyor-vs-Belt-Conveyor.htm> is not a valid URI or CURIE\n",
      "ERROR:root:Skipping statements(subject=ENVO:06105112,predicate=oio:hasDbXref,object=<http://eurovoc.europa.eu/1837>,value=None,datatype=None,language=None,); ValueError: <http://eurovoc.europa.eu/1837> is not a valid URI or CURIE\n",
      "ERROR:root:Skipping statements(subject=ENVO:06105112,predicate=oio:hasDbXref,object=<http://aims.fao.org/aos/agrovoc/c_5998>,value=None,datatype=None,language=None,); ValueError: <http://aims.fao.org/aos/agrovoc/c_5998> is not a valid URI or CURIE\n",
      "WARNING:root:Skipping <http://geneontology.org/foo/applies-pattern> as it is not a valid CURIE\n",
      "WARNING:root:Skipping <http://schema.org/image> as it is not a valid CURIE\n",
      "WARNING:root:Skipping <http://swrl.stanford.edu/ontologies/3.3/swrla.owl#isRuleEnabled> as it is not a valid CURIE\n",
      "WARNING:root:Skipping <https://www.wikidata.org/wiki/Q2306597> as it is not a valid CURIE\n",
      "WARNING:root:Skipping <https://www.wikidata.org/wiki/Q2> as it is not a valid CURIE\n",
      "WARNING:root:Skipping <https://www.wikidata.org/wiki/Q525> as it is not a valid CURIE\n",
      "WARNING:root:Skipping <https://www.wikidata.org/wiki/Q715269> as it is not a valid CURIE\n",
      "WARNING:root:Skipping <http://swrl.stanford.edu/ontologies/3.3/swrla.owl#isRuleEnabled> as it is not a valid CURIE\n"
     ]
    }
   ],
   "execution_count": 30
  },
  {
   "metadata": {
    "ExecuteTime": {
     "end_time": "2024-12-14T02:16:23.443928Z",
     "start_time": "2024-12-14T02:16:22.818712Z"
    }
   },
   "cell_type": "code",
   "source": [
    "# Convert the list of dictionaries into a DataFrame\n",
    "curies_of_strings = pd.DataFrame(annotations_list.tolist())"
   ],
   "id": "a54297b06ef3769f",
   "outputs": [],
   "execution_count": 31
  },
  {
   "metadata": {
    "ExecuteTime": {
     "end_time": "2024-12-14T02:16:23.458704Z",
     "start_time": "2024-12-14T02:16:23.445465Z"
    }
   },
   "cell_type": "code",
   "source": [
    "# Display the resulting DataFrame\n",
    "curies_of_strings"
   ],
   "id": "6debc49f5949ef17",
   "outputs": [
    {
     "data": {
      "text/plain": [
       "            id           subject_string  subject_start  subject_end  \\\n",
       "0            2                  habitat             10           16   \n",
       "1            3                      col             11           13   \n",
       "2            3                   desert             16           21   \n",
       "3            3                   desert             16           21   \n",
       "4            3                   desert             16           21   \n",
       "...        ...                      ...            ...          ...   \n",
       "357112  165336                    space             19           23   \n",
       "357113  165336                      spa             19           21   \n",
       "357114  165336  area of developed space              1           23   \n",
       "357115  165336          temperate biome             42           56   \n",
       "357116  165336                     area              1            4   \n",
       "\n",
       "                 predicate_id concluded_curie            object_string  \\\n",
       "0                  rdfs:label   ENVO:01000739                  habitat   \n",
       "1       oio:hasRelatedSynonym   ENVO:00000084                      col   \n",
       "2         oio:hasBroadSynonym   ENVO:00000172                   desert   \n",
       "3         oio:hasBroadSynonym   ENVO:00000173                   desert   \n",
       "4         oio:hasBroadSynonym   ENVO:00000183                   desert   \n",
       "...                       ...             ...                      ...   \n",
       "357112    oio:hasBroadSynonym  UBERON:0000464                    space   \n",
       "357113    oio:hasBroadSynonym   ENVO:01000938                      spa   \n",
       "357114             rdfs:label   ENVO:01001269  area of developed space   \n",
       "357115             rdfs:label   ENVO:01001831          temperate biome   \n",
       "357116             rdfs:label    PATO:0001323                     area   \n",
       "\n",
       "        is_longest_match  \n",
       "0                   True  \n",
       "1                  False  \n",
       "2                  False  \n",
       "3                  False  \n",
       "4                  False  \n",
       "...                  ...  \n",
       "357112             False  \n",
       "357113             False  \n",
       "357114              True  \n",
       "357115             False  \n",
       "357116             False  \n",
       "\n",
       "[357117 rows x 8 columns]"
      ],
      "text/html": [
       "<div>\n",
       "<style scoped>\n",
       "    .dataframe tbody tr th:only-of-type {\n",
       "        vertical-align: middle;\n",
       "    }\n",
       "\n",
       "    .dataframe tbody tr th {\n",
       "        vertical-align: top;\n",
       "    }\n",
       "\n",
       "    .dataframe thead th {\n",
       "        text-align: right;\n",
       "    }\n",
       "</style>\n",
       "<table border=\"1\" class=\"dataframe\">\n",
       "  <thead>\n",
       "    <tr style=\"text-align: right;\">\n",
       "      <th></th>\n",
       "      <th>id</th>\n",
       "      <th>subject_string</th>\n",
       "      <th>subject_start</th>\n",
       "      <th>subject_end</th>\n",
       "      <th>predicate_id</th>\n",
       "      <th>concluded_curie</th>\n",
       "      <th>object_string</th>\n",
       "      <th>is_longest_match</th>\n",
       "    </tr>\n",
       "  </thead>\n",
       "  <tbody>\n",
       "    <tr>\n",
       "      <th>0</th>\n",
       "      <td>2</td>\n",
       "      <td>habitat</td>\n",
       "      <td>10</td>\n",
       "      <td>16</td>\n",
       "      <td>rdfs:label</td>\n",
       "      <td>ENVO:01000739</td>\n",
       "      <td>habitat</td>\n",
       "      <td>True</td>\n",
       "    </tr>\n",
       "    <tr>\n",
       "      <th>1</th>\n",
       "      <td>3</td>\n",
       "      <td>col</td>\n",
       "      <td>11</td>\n",
       "      <td>13</td>\n",
       "      <td>oio:hasRelatedSynonym</td>\n",
       "      <td>ENVO:00000084</td>\n",
       "      <td>col</td>\n",
       "      <td>False</td>\n",
       "    </tr>\n",
       "    <tr>\n",
       "      <th>2</th>\n",
       "      <td>3</td>\n",
       "      <td>desert</td>\n",
       "      <td>16</td>\n",
       "      <td>21</td>\n",
       "      <td>oio:hasBroadSynonym</td>\n",
       "      <td>ENVO:00000172</td>\n",
       "      <td>desert</td>\n",
       "      <td>False</td>\n",
       "    </tr>\n",
       "    <tr>\n",
       "      <th>3</th>\n",
       "      <td>3</td>\n",
       "      <td>desert</td>\n",
       "      <td>16</td>\n",
       "      <td>21</td>\n",
       "      <td>oio:hasBroadSynonym</td>\n",
       "      <td>ENVO:00000173</td>\n",
       "      <td>desert</td>\n",
       "      <td>False</td>\n",
       "    </tr>\n",
       "    <tr>\n",
       "      <th>4</th>\n",
       "      <td>3</td>\n",
       "      <td>desert</td>\n",
       "      <td>16</td>\n",
       "      <td>21</td>\n",
       "      <td>oio:hasBroadSynonym</td>\n",
       "      <td>ENVO:00000183</td>\n",
       "      <td>desert</td>\n",
       "      <td>False</td>\n",
       "    </tr>\n",
       "    <tr>\n",
       "      <th>...</th>\n",
       "      <td>...</td>\n",
       "      <td>...</td>\n",
       "      <td>...</td>\n",
       "      <td>...</td>\n",
       "      <td>...</td>\n",
       "      <td>...</td>\n",
       "      <td>...</td>\n",
       "      <td>...</td>\n",
       "    </tr>\n",
       "    <tr>\n",
       "      <th>357112</th>\n",
       "      <td>165336</td>\n",
       "      <td>space</td>\n",
       "      <td>19</td>\n",
       "      <td>23</td>\n",
       "      <td>oio:hasBroadSynonym</td>\n",
       "      <td>UBERON:0000464</td>\n",
       "      <td>space</td>\n",
       "      <td>False</td>\n",
       "    </tr>\n",
       "    <tr>\n",
       "      <th>357113</th>\n",
       "      <td>165336</td>\n",
       "      <td>spa</td>\n",
       "      <td>19</td>\n",
       "      <td>21</td>\n",
       "      <td>oio:hasBroadSynonym</td>\n",
       "      <td>ENVO:01000938</td>\n",
       "      <td>spa</td>\n",
       "      <td>False</td>\n",
       "    </tr>\n",
       "    <tr>\n",
       "      <th>357114</th>\n",
       "      <td>165336</td>\n",
       "      <td>area of developed space</td>\n",
       "      <td>1</td>\n",
       "      <td>23</td>\n",
       "      <td>rdfs:label</td>\n",
       "      <td>ENVO:01001269</td>\n",
       "      <td>area of developed space</td>\n",
       "      <td>True</td>\n",
       "    </tr>\n",
       "    <tr>\n",
       "      <th>357115</th>\n",
       "      <td>165336</td>\n",
       "      <td>temperate biome</td>\n",
       "      <td>42</td>\n",
       "      <td>56</td>\n",
       "      <td>rdfs:label</td>\n",
       "      <td>ENVO:01001831</td>\n",
       "      <td>temperate biome</td>\n",
       "      <td>False</td>\n",
       "    </tr>\n",
       "    <tr>\n",
       "      <th>357116</th>\n",
       "      <td>165336</td>\n",
       "      <td>area</td>\n",
       "      <td>1</td>\n",
       "      <td>4</td>\n",
       "      <td>rdfs:label</td>\n",
       "      <td>PATO:0001323</td>\n",
       "      <td>area</td>\n",
       "      <td>False</td>\n",
       "    </tr>\n",
       "  </tbody>\n",
       "</table>\n",
       "<p>357117 rows × 8 columns</p>\n",
       "</div>"
      ]
     },
     "execution_count": 32,
     "metadata": {},
     "output_type": "execute_result"
    }
   ],
   "execution_count": 32
  },
  {
   "metadata": {
    "ExecuteTime": {
     "end_time": "2024-12-14T02:16:57.221126Z",
     "start_time": "2024-12-14T02:16:23.461132Z"
    }
   },
   "cell_type": "code",
   "source": [
    "with duckdb_engine.connect() as connection:\n",
    "    curies_of_strings.to_sql('curies_of_strings_of_splits', connection, if_exists='replace', index=False)"
   ],
   "id": "3a1c44b26013eb81",
   "outputs": [
    {
     "name": "stderr",
     "output_type": "stream",
     "text": [
      "/Users/MAM/Documents/gitrepos/submission-schema/.venv/lib/python3.9/site-packages/duckdb_engine/__init__.py:174: DuckDBEngineWarning: duckdb-engine doesn't yet support reflection on indices\n",
      "  warnings.warn(\n"
     ]
    },
    {
     "data": {
      "text/plain": [
       "FloatProgress(value=0.0, layout=Layout(width='auto'), style=ProgressStyle(bar_color='black'))"
      ],
      "application/vnd.jupyter.widget-view+json": {
       "version_major": 2,
       "version_minor": 0,
       "model_id": "35d406e9ed5946218247805003163ff1"
      }
     },
     "metadata": {},
     "output_type": "display_data"
    }
   ],
   "execution_count": 33
  },
  {
   "metadata": {
    "ExecuteTime": {
     "end_time": "2024-12-14T02:16:57.231008Z",
     "start_time": "2024-12-14T02:16:57.222661Z"
    }
   },
   "cell_type": "code",
   "source": "list_tables(duckdb_engine)",
   "id": "ae3c21937bb52339",
   "outputs": [
    {
     "name": "stdout",
     "output_type": "stream",
     "text": [
      "Tables in the current schema:\n",
      " - attributes\n",
      " - contexts_to_normalized_strings\n",
      " - curies_of_strings_of_splits\n",
      " - direct_curies\n",
      " - harmonized_attributes_wide\n",
      " - ids\n",
      " - links\n",
      " - normalized_context_strings\n",
      " - organism\n",
      " - overview\n"
     ]
    }
   ],
   "execution_count": 34
  },
  {
   "metadata": {
    "ExecuteTime": {
     "end_time": "2024-12-14T02:16:58.982604Z",
     "start_time": "2024-12-14T02:16:57.232541Z"
    }
   },
   "cell_type": "code",
   "source": "duckdb_engine.dispose()",
   "id": "256a91291c68def7",
   "outputs": [],
   "execution_count": 35
  },
  {
   "metadata": {
    "ExecuteTime": {
     "end_time": "2024-12-14T02:16:59.022598Z",
     "start_time": "2024-12-14T02:16:58.984190Z"
    }
   },
   "cell_type": "code",
   "source": "print(curies_of_strings['predicate_id'].value_counts())",
   "id": "da583cf134851ae7",
   "outputs": [
    {
     "name": "stdout",
     "output_type": "stream",
     "text": [
      "predicate_id\n",
      "rdfs:label               139185\n",
      "oio:hasRelatedSynonym     74379\n",
      "oio:hasBroadSynonym       54144\n",
      "rdf:ID                    42460\n",
      "oio:hasExactSynonym       37408\n",
      "oio:hasNarrowSynonym       9538\n",
      "oio:hasDbXref                 3\n",
      "Name: count, dtype: int64\n"
     ]
    }
   ],
   "execution_count": 36
  },
  {
   "metadata": {},
   "cell_type": "markdown",
   "source": [
    "predicate_id\n",
    "rdfs:label               139185\n",
    "oio:hasRelatedSynonym     74379\n",
    "oio:hasBroadSynonym       54144\n",
    "rdf:ID                    42460\n",
    "oio:hasExactSynonym       37408\n",
    "oio:hasNarrowSynonym       9538\n",
    "oio:hasDbXref                 3\n",
    "Name: count, dtype: int64"
   ],
   "id": "7bd1036fc69b113b"
  },
  {
   "metadata": {
    "ExecuteTime": {
     "end_time": "2024-12-14T02:16:59.374186Z",
     "start_time": "2024-12-14T02:16:59.024644Z"
    }
   },
   "cell_type": "code",
   "source": "curies_of_strings['concluded_curie_prefix'] = curies_of_strings['concluded_curie'].str.split(':').str[0]",
   "id": "7c698d65b12e2143",
   "outputs": [],
   "execution_count": 37
  },
  {
   "metadata": {
    "ExecuteTime": {
     "end_time": "2024-12-14T02:16:59.412008Z",
     "start_time": "2024-12-14T02:16:59.375763Z"
    }
   },
   "cell_type": "code",
   "source": "print(curies_of_strings['concluded_curie_prefix'].value_counts())",
   "id": "d3dcce009076ddb5",
   "outputs": [
    {
     "name": "stdout",
     "output_type": "stream",
     "text": [
      "concluded_curie_prefix\n",
      "ENVO         252461\n",
      "UBERON        42771\n",
      "CHEBI         17783\n",
      "PATO          15269\n",
      "NCBITaxon     11858\n",
      "PO            10813\n",
      "FOODON         2195\n",
      "RO             1389\n",
      "BFO            1038\n",
      "OBI             789\n",
      "PCO             740\n",
      "GO                9\n",
      "oio               2\n",
      "Name: count, dtype: int64\n"
     ]
    }
   ],
   "execution_count": 38
  },
  {
   "metadata": {},
   "cell_type": "markdown",
   "source": [
    "concluded_curie_prefix\n",
    "ENVO         252461\n",
    "UBERON        42771\n",
    "CHEBI         17783\n",
    "PATO          15269\n",
    "NCBITaxon     11858\n",
    "PO            10813\n",
    "FOODON         2195\n",
    "RO             1389\n",
    "BFO            1038\n",
    "OBI             789\n",
    "PCO             740\n",
    "GO                9\n",
    "oio               2\n",
    "Name: count, dtype: int64"
   ],
   "id": "928be76244105ea6"
  },
  {
   "metadata": {
    "ExecuteTime": {
     "end_time": "2024-12-14T02:16:59.416461Z",
     "start_time": "2024-12-14T02:16:59.414107Z"
    }
   },
   "cell_type": "code",
   "source": "",
   "id": "b8c4894efbc06c6e",
   "outputs": [],
   "execution_count": 38
  }
 ],
 "metadata": {
  "kernelspec": {
   "display_name": "Python 3",
   "language": "python",
   "name": "python3"
  },
  "language_info": {
   "codemirror_mode": {
    "name": "ipython",
    "version": 2
   },
   "file_extension": ".py",
   "mimetype": "text/x-python",
   "name": "python",
   "nbconvert_exporter": "python",
   "pygments_lexer": "ipython2",
   "version": "2.7.6"
  }
 },
 "nbformat": 4,
 "nbformat_minor": 5
}
