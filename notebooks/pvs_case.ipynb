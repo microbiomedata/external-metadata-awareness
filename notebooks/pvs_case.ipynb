{
 "cells": [
  {
   "metadata": {
    "ExecuteTime": {
     "end_time": "2025-03-06T19:24:29.062908Z",
     "start_time": "2025-03-06T19:24:28.619500Z"
    }
   },
   "cell_type": "code",
   "source": [
    "from linkml_runtime import SchemaView\n",
    "import re\n",
    "import csv\n",
    "\n",
    "from caseconverter import snakecase, kebabcase, camelcase, pascalcase, cobolcase, flatcase, macrocase, titlecase\n",
    "\n"
   ],
   "id": "b905dca38384f855",
   "outputs": [],
   "execution_count": 1
  },
  {
   "metadata": {
    "ExecuteTime": {
     "end_time": "2025-03-06T19:24:29.069273Z",
     "start_time": "2025-03-06T19:24:29.066601Z"
    }
   },
   "cell_type": "code",
   "source": "nmdc_schema_url = \"https://raw.githubusercontent.com/microbiomedata/nmdc-schema/refs/heads/main/src/schema/nmdc.yaml\"",
   "id": "84850d0d2c9a5ac6",
   "outputs": [],
   "execution_count": 2
  },
  {
   "metadata": {
    "ExecuteTime": {
     "end_time": "2025-03-06T19:24:29.196718Z",
     "start_time": "2025-03-06T19:24:29.194362Z"
    }
   },
   "cell_type": "code",
   "source": "tsv_out = \"nmdc_pvs.tsv\"",
   "id": "4e2f08d715cb0f7b",
   "outputs": [],
   "execution_count": 3
  },
  {
   "metadata": {
    "ExecuteTime": {
     "end_time": "2025-03-06T19:24:29.239265Z",
     "start_time": "2025-03-06T19:24:29.236482Z"
    }
   },
   "cell_type": "code",
   "source": "include_mixs = False",
   "id": "dffd5b67699f76f",
   "outputs": [],
   "execution_count": 4
  },
  {
   "metadata": {
    "ExecuteTime": {
     "end_time": "2025-03-06T19:24:29.284402Z",
     "start_time": "2025-03-06T19:24:29.281433Z"
    }
   },
   "cell_type": "code",
   "source": [
    "def deduplicate_lod(lod):\n",
    "    return [dict(t) for t in {tuple(d.items()) for d in lod}]\n",
    "\n"
   ],
   "id": "c09e58d4b593ea58",
   "outputs": [],
   "execution_count": 5
  },
  {
   "metadata": {
    "ExecuteTime": {
     "end_time": "2025-03-06T19:24:29.333399Z",
     "start_time": "2025-03-06T19:24:29.326643Z"
    }
   },
   "cell_type": "code",
   "source": [
    "def get_string_case(s):\n",
    "    if not s:  # Handle empty strings safely\n",
    "        return \"empty\"\n",
    "\n",
    "    # **Independent Condition Checks**\n",
    "    has_lower = any(c.islower() for c in s)\n",
    "    has_upper = any(c.isupper() for c in s)\n",
    "    has_hyphen = \"-\" in s\n",
    "    has_underscore = \"_\" in s\n",
    "    has_whitespace = \" \" in s\n",
    "\n",
    "    # starts_with_digit = s[0].isdigit() if s else False  # Ensure we don't index into empty string\n",
    "\n",
    "    if has_upper and s[0].islower() and not has_hyphen and not has_underscore and not has_whitespace and s == camelcase(\n",
    "            s):\n",
    "        return (\"camelCase\")\n",
    "\n",
    "    if has_upper and has_lower and s[\n",
    "        0].isupper() and not has_underscore and not has_whitespace and not has_hyphen and s == pascalcase(s):\n",
    "        return (\"PascalCase\")\n",
    "\n",
    "    if has_upper and has_hyphen and not has_lower and not has_underscore and not has_whitespace and s == cobolcase(s):\n",
    "        return (\"UPPER-KEBAB-CASE\")\n",
    "\n",
    "    if has_lower and has_hyphen and not has_upper and not has_underscore and not has_whitespace and s == kebabcase(s):\n",
    "        return (\"lower-kebab-case\")\n",
    "\n",
    "    if has_lower and not has_upper and not has_hyphen and not has_underscore and not has_whitespace and s == flatcase(\n",
    "            s):\n",
    "        return (\"lowerall\")\n",
    "\n",
    "    if has_upper and not has_lower and not has_hyphen and not has_underscore and not has_whitespace:\n",
    "        return (\"UPPERALL\")\n",
    "\n",
    "    if has_upper and has_underscore and not has_lower and not has_hyphen and not has_whitespace and s == macrocase(s):\n",
    "        return (\"UPPER_SNAKE_CASE\")\n",
    "\n",
    "    if has_lower and has_underscore and not has_upper and not has_hyphen and not has_whitespace and s == snakecase(s):\n",
    "        return (\"lower_snake_case\")\n",
    "\n",
    "    if has_whitespace and s == titlecase(s):\n",
    "        return (\"Title Case\")\n",
    "\n",
    "    if any(c.isspace() for c in s):\n",
    "        return \"other, including whitespace\"\n",
    "\n",
    "    # **If none of the above match, return \"other\"**\n",
    "    return \"other\"\n"
   ],
   "id": "1d45e3d9f19f2abd",
   "outputs": [],
   "execution_count": 6
  },
  {
   "cell_type": "code",
   "id": "initial_id",
   "metadata": {
    "collapsed": true,
    "ExecuteTime": {
     "end_time": "2025-03-06T19:24:29.532666Z",
     "start_time": "2025-03-06T19:24:29.377303Z"
    }
   },
   "source": "nmdc_schema_view = SchemaView(nmdc_schema_url)",
   "outputs": [],
   "execution_count": 7
  },
  {
   "metadata": {
    "ExecuteTime": {
     "end_time": "2025-03-06T19:24:31.560207Z",
     "start_time": "2025-03-06T19:24:29.665295Z"
    }
   },
   "cell_type": "code",
   "source": "nmdc_schema_enums = nmdc_schema_view.all_enums()",
   "id": "a8967e1e9c966586",
   "outputs": [],
   "execution_count": 8
  },
  {
   "metadata": {
    "ExecuteTime": {
     "end_time": "2025-03-06T19:24:32.312396Z",
     "start_time": "2025-03-06T19:24:32.309951Z"
    }
   },
   "cell_type": "code",
   "source": "rows = []",
   "id": "3909be5fdb286826",
   "outputs": [],
   "execution_count": 9
  },
  {
   "metadata": {
    "ExecuteTime": {
     "end_time": "2025-03-06T19:24:33.669469Z",
     "start_time": "2025-03-06T19:24:33.617854Z"
    }
   },
   "cell_type": "code",
   "source": [
    "for ek, ev in nmdc_schema_enums.items():\n",
    "    if ev.permissible_values:\n",
    "        for pvk, pvv in ev.permissible_values.items():\n",
    "            pvk_case = get_string_case(pvk)\n",
    "            schema_string = ev.from_schema.split(\"/\")[-1]\n",
    "            if schema_string != \"mixs.yaml\" or include_mixs:\n",
    "                row = {\n",
    "                    \"from_schema\": ev.from_schema.split(\"/\")[-1],\n",
    "                    \"enum\": ek,\n",
    "                    \"pv\": pvk,\n",
    "                    \"pv_case\": pvk_case,\n",
    "                }\n",
    "            rows.append(row)\n"
   ],
   "id": "c541c5b1376d0a05",
   "outputs": [],
   "execution_count": 10
  },
  {
   "metadata": {
    "ExecuteTime": {
     "end_time": "2025-03-06T19:24:33.678614Z",
     "start_time": "2025-03-06T19:24:33.673011Z"
    }
   },
   "cell_type": "code",
   "source": "len(rows)",
   "id": "8e783647f8613f01",
   "outputs": [
    {
     "data": {
      "text/plain": [
       "1165"
      ]
     },
     "execution_count": 11,
     "metadata": {},
     "output_type": "execute_result"
    }
   ],
   "execution_count": 11
  },
  {
   "metadata": {
    "ExecuteTime": {
     "end_time": "2025-03-06T19:24:34.362403Z",
     "start_time": "2025-03-06T19:24:34.358957Z"
    }
   },
   "cell_type": "code",
   "source": "rows = deduplicate_lod(rows)",
   "id": "1ca1f12532e12251",
   "outputs": [],
   "execution_count": 12
  },
  {
   "metadata": {
    "ExecuteTime": {
     "end_time": "2025-03-06T19:24:35.008816Z",
     "start_time": "2025-03-06T19:24:35.005574Z"
    }
   },
   "cell_type": "code",
   "source": "len(rows)",
   "id": "76a6ba19f117902d",
   "outputs": [
    {
     "data": {
      "text/plain": [
       "394"
      ]
     },
     "execution_count": 13,
     "metadata": {},
     "output_type": "execute_result"
    }
   ],
   "execution_count": 13
  },
  {
   "metadata": {
    "ExecuteTime": {
     "end_time": "2025-03-06T19:24:35.696596Z",
     "start_time": "2025-03-06T19:24:35.694238Z"
    }
   },
   "cell_type": "code",
   "source": [
    "# Get the field names from the first dictionary\n",
    "fieldnames = rows[0].keys()"
   ],
   "id": "3c6a2416b4c755da",
   "outputs": [],
   "execution_count": 14
  },
  {
   "metadata": {
    "ExecuteTime": {
     "end_time": "2025-03-06T19:24:37.007541Z",
     "start_time": "2025-03-06T19:24:37.003006Z"
    }
   },
   "cell_type": "code",
   "source": [
    "\n",
    "with open(tsv_out, mode=\"w\", newline=\"\", encoding=\"utf-8\") as file:\n",
    "    writer = csv.DictWriter(file, fieldnames=fieldnames, delimiter=\"\\t\")\n",
    "\n",
    "    # Write header\n",
    "    writer.writeheader()\n",
    "\n",
    "    # Write data rows\n",
    "    writer.writerows(rows)\n"
   ],
   "id": "56d5c57f7ec990b4",
   "outputs": [],
   "execution_count": 15
  },
  {
   "metadata": {
    "ExecuteTime": {
     "end_time": "2025-03-06T19:24:37.016260Z",
     "start_time": "2025-03-06T19:24:37.014233Z"
    }
   },
   "cell_type": "code",
   "source": "",
   "id": "780b2b751748e4c7",
   "outputs": [],
   "execution_count": null
  }
 ],
 "metadata": {
  "kernelspec": {
   "display_name": "Python 3",
   "language": "python",
   "name": "python3"
  },
  "language_info": {
   "codemirror_mode": {
    "name": "ipython",
    "version": 2
   },
   "file_extension": ".py",
   "mimetype": "text/x-python",
   "name": "python",
   "nbconvert_exporter": "python",
   "pygments_lexer": "ipython2",
   "version": "2.7.6"
  }
 },
 "nbformat": 4,
 "nbformat_minor": 5
}
