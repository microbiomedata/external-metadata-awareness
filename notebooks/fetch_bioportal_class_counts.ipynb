{
 "cells": [
  {
   "metadata": {
    "ExecuteTime": {
     "end_time": "2025-02-21T21:45:17.805823Z",
     "start_time": "2025-02-21T21:45:17.715884Z"
    }
   },
   "cell_type": "code",
   "source": [
    "import requests\n",
    "import csv\n",
    "from datetime import datetime"
   ],
   "id": "cb0c6bca24230faf",
   "outputs": [],
   "execution_count": 1
  },
  {
   "metadata": {
    "ExecuteTime": {
     "end_time": "2025-02-21T21:45:17.812102Z",
     "start_time": "2025-02-21T21:45:17.809448Z"
    }
   },
   "cell_type": "code",
   "source": [
    "# Your BioPortal API key\n",
    "API_KEY = 'REMOVED'\n",
    "BASE_URL = 'https://data.bioontology.org'\n",
    "\n",
    "# Save the ontology class counts as a TSV file\n",
    "output_file = 'bioportal_ontology_class_counts.tsv'"
   ],
   "id": "475c5d935f663be2",
   "outputs": [],
   "execution_count": 2
  },
  {
   "metadata": {
    "ExecuteTime": {
     "end_time": "2025-02-21T21:45:17.939258Z",
     "start_time": "2025-02-21T21:45:17.936126Z"
    }
   },
   "cell_type": "code",
   "source": [
    "# Function to get the list of ontologies\n",
    "def get_ontologies():\n",
    "    url = f'{BASE_URL}/ontologies'\n",
    "    response = requests.get(url, params={'apikey': API_KEY})\n",
    "    if response.status_code == 200:\n",
    "        return response.json()\n",
    "    else:\n",
    "        print(f'Error fetching ontologies: {response.status_code}')\n",
    "        return []"
   ],
   "id": "5ed01abd1c6d32ba",
   "outputs": [],
   "execution_count": 3
  },
  {
   "metadata": {
    "ExecuteTime": {
     "end_time": "2025-02-21T21:45:17.981207Z",
     "start_time": "2025-02-21T21:45:17.977840Z"
    }
   },
   "cell_type": "code",
   "source": [
    "# Function to get metrics for a specific ontology\n",
    "def get_ontology_metrics(ontology_acronym):\n",
    "    url = f'{BASE_URL}/ontologies/{ontology_acronym}/metrics'\n",
    "    response = requests.get(url, params={'apikey': API_KEY})\n",
    "    if response.status_code == 200:\n",
    "        return response.json()\n",
    "    else:\n",
    "        print(f'Error fetching metrics for {ontology_acronym}: {response.status_code}')\n",
    "        return None\n"
   ],
   "id": "7411dded9a7889f9",
   "outputs": [],
   "execution_count": 4
  },
  {
   "metadata": {
    "ExecuteTime": {
     "end_time": "2025-02-21T21:45:31.400509Z",
     "start_time": "2025-02-21T21:45:18.030971Z"
    }
   },
   "cell_type": "code",
   "source": [
    "# Main script\n",
    "# ~ 15 seconds\n",
    "ontologies = get_ontologies()\n"
   ],
   "id": "e4168d3d179eed45",
   "outputs": [],
   "execution_count": 5
  },
  {
   "metadata": {
    "ExecuteTime": {
     "end_time": "2025-02-21T21:45:31.407558Z",
     "start_time": "2025-02-21T21:45:31.404368Z"
    }
   },
   "cell_type": "code",
   "source": [
    "# In-place sort (modifies the original list)\n",
    "ontologies.sort(key=lambda x: x[\"acronym\"])"
   ],
   "id": "60fc294fc0a7a19e",
   "outputs": [],
   "execution_count": 6
  },
  {
   "metadata": {
    "jupyter": {
     "is_executing": true
    },
    "ExecuteTime": {
     "start_time": "2025-02-21T21:45:31.450840Z"
    }
   },
   "cell_type": "code",
   "source": [
    "ontology_class_counts = {}\n",
    "ontology_summaries = []\n",
    "\n",
    "for ontology in ontologies:\n",
    "    acronym = ontology.get('acronym')\n",
    "    ontoname = ontology.get('name')\n",
    "    metrics = get_ontology_metrics(acronym)\n",
    "    class_count = None\n",
    "    if metrics:\n",
    "        class_count = metrics.get('classes')\n",
    "\n",
    "    # Get current timestamp in ISO 8601 format\n",
    "    iso_timestamp = datetime.now().isoformat()\n",
    "\n",
    "    print(f\"{iso_timestamp} {acronym}\")\n",
    "    temp_dict = {\n",
    "        \"acronym\": acronym,\n",
    "        'name': ontoname,\n",
    "        'class_count': class_count\n",
    "\n",
    "    }\n",
    "    ontology_summaries.append(temp_dict)\n"
   ],
   "id": "21cbc8798a183b01",
   "outputs": [
    {
     "name": "stdout",
     "output_type": "stream",
     "text": [
      "2025-02-21T16:45:31.813976 ABA-AMB\n",
      "2025-02-21T16:45:32.182878 ABD\n",
      "2025-02-21T16:45:32.544342 ACESO\n",
      "2025-02-21T16:45:32.910509 ACGT-MO\n",
      "2025-02-21T16:45:33.273661 ACVD_ONTOLOGY\n",
      "2025-02-21T16:45:33.645408 AD-DROP\n",
      "Error fetching metrics for ADALAB: 404\n",
      "2025-02-21T16:45:34.003377 ADALAB\n",
      "Error fetching metrics for ADALAB-META: 404\n",
      "2025-02-21T16:45:34.364006 ADALAB-META\n",
      "2025-02-21T16:45:34.740451 ADAR\n",
      "2025-02-21T16:45:35.112928 ADCAD\n",
      "2025-02-21T16:45:35.486004 ADHER_INTCARE_EN\n",
      "2025-02-21T16:45:35.843756 ADHER_INTCARE_SP\n",
      "Error fetching metrics for ADMF: 404\n",
      "2025-02-21T16:45:36.190041 ADMF\n",
      "Error fetching metrics for ADMIN: 404\n",
      "2025-02-21T16:45:36.534234 ADMIN\n",
      "2025-02-21T16:45:36.913657 ADMO\n",
      "2025-02-21T16:45:37.256763 ADO\n",
      "2025-02-21T16:45:37.603505 ADW\n",
      "2025-02-21T16:45:37.974116 AEO\n",
      "2025-02-21T16:45:38.351025 AERO\n",
      "2025-02-21T16:45:38.800824 AFO\n",
      "2025-02-21T16:45:39.162668 AFPO\n",
      "2025-02-21T16:45:39.521168 AGRO\n",
      "2025-02-21T16:45:39.903175 AGROCYMAC\n",
      "2025-02-21T16:45:40.263876 AGROMOP\n",
      "2025-02-21T16:45:40.630137 AHOL\n",
      "2025-02-21T16:45:40.966677 AHSO\n",
      "2025-02-21T16:45:41.330266 AI\n",
      "2025-02-21T16:45:41.700814 AI-RHEUM\n",
      "2025-02-21T16:45:42.078241 AIO\n",
      "2025-02-21T16:45:42.492118 AISM\n",
      "2025-02-21T16:45:42.839037 ALLERGIDOC\n",
      "2025-02-21T16:45:43.212496 ALLERGYDETECTOR\n",
      "2025-02-21T16:45:43.578577 ALTPROTON\n",
      "2025-02-21T16:45:43.946883 AMINO-ACID\n",
      "2025-02-21T16:45:44.311099 AMPHX\n",
      "2025-02-21T16:45:44.672031 AO\n",
      "2025-02-21T16:45:45.044196 APACOMPUTER\n",
      "2025-02-21T16:45:45.406729 APADISORDERS\n",
      "2025-02-21T16:45:45.782971 APAEDUCLUSTER\n",
      "2025-02-21T16:45:46.199041 APANEUROCLUSTER\n",
      "2025-02-21T16:45:46.541533 APAOCUEMPLOY\n",
      "2025-02-21T16:45:46.889978 APAONTO\n",
      "2025-02-21T16:45:47.263373 APASTATISTICAL\n",
      "2025-02-21T16:45:47.703943 APATANDT\n",
      "2025-02-21T16:45:48.094611 APATREATMENT\n",
      "2025-02-21T16:45:48.481804 APO\n",
      "2025-02-21T16:45:48.881909 APOLLO-SV\n",
      "2025-02-21T16:45:49.242481 APRO\n",
      "2025-02-21T16:45:49.620161 ARCRC\n",
      "2025-02-21T16:45:49.991794 ARO\n",
      "Error fetching metrics for ASDF: 404\n",
      "2025-02-21T16:45:50.332958 ASDF\n",
      "2025-02-21T16:45:50.698614 ASDPTO\n",
      "2025-02-21T16:45:51.071195 ASPECT\n",
      "2025-02-21T16:45:51.437379 ASSAYNODE\n",
      "2025-02-21T16:45:51.816417 ATC\n",
      "2025-02-21T16:45:52.995751 ATO\n",
      "2025-02-21T16:45:53.364638 ATOL\n",
      "2025-02-21T16:45:53.732305 ATOM\n",
      "2025-02-21T16:45:54.079993 AURA\n",
      "2025-02-21T16:45:54.483884 BAO\n",
      "2025-02-21T16:45:54.853934 BAO-GPCR\n",
      "2025-02-21T16:45:55.225291 BCGO\n",
      "2025-02-21T16:45:55.593480 BCI-O\n",
      "2025-02-21T16:45:55.967149 BCLION\n",
      "Error fetching metrics for BCMO: 404\n",
      "2025-02-21T16:45:56.325023 BCMO\n",
      "2025-02-21T16:45:56.688077 BCO\n",
      "2025-02-21T16:45:57.060067 BCON\n",
      "2025-02-21T16:45:57.422059 BCS7\n",
      "2025-02-21T16:45:57.797914 BCS8\n",
      "2025-02-21T16:45:58.175778 BCSR-ONTO\n",
      "2025-02-21T16:45:58.551197 BCTEO\n",
      "2025-02-21T16:45:58.922985 BCTT\n",
      "2025-02-21T16:45:59.299977 BDO\n",
      "2025-02-21T16:45:59.666521 BE\n",
      "2025-02-21T16:46:00.032175 BERO\n",
      "Error fetching metrics for BFLC: 404\n",
      "2025-02-21T16:46:00.401362 BFLC\n",
      "2025-02-21T16:46:00.764138 BFO\n",
      "2025-02-21T16:46:01.127730 BHN\n",
      "2025-02-21T16:46:01.497696 BHO\n",
      "Error fetching metrics for BIBFRAME: 404\n",
      "2025-02-21T16:46:01.850099 BIBFRAME\n",
      "2025-02-21T16:46:02.212644 BIBLIOTEK-O\n",
      "2025-02-21T16:46:02.575606 BIFO\n",
      "Error fetching metrics for BIM: 404\n",
      "2025-02-21T16:46:02.922124 BIM\n",
      "Error fetching metrics for BIN: 404\n",
      "2025-02-21T16:46:03.283669 BIN\n",
      "2025-02-21T16:46:03.652325 BIODIVTHES\n",
      "2025-02-21T16:46:04.072707 BIOLINK\n",
      "2025-02-21T16:46:04.451443 BIOMO\n",
      "2025-02-21T16:46:04.832406 BIOMODELS\n",
      "2025-02-21T16:46:05.195957 BIPOM\n",
      "2025-02-21T16:46:05.961926 BIPON\n",
      "2025-02-21T16:46:06.305526 BIRNLEX\n",
      "2025-02-21T16:46:06.701942 BIRTHONTO\n",
      "2025-02-21T16:46:07.070164 BKO\n",
      "Error fetching metrics for BLLM: 404\n",
      "2025-02-21T16:46:07.423022 BLLM\n",
      "2025-02-21T16:46:08.185612 BMONT\n",
      "2025-02-21T16:46:08.554979 BMS-LM\n",
      "2025-02-21T16:46:08.923083 BMT\n",
      "2025-02-21T16:46:09.282038 BNO\n",
      "2025-02-21T16:46:10.037901 BOF\n",
      "Error fetching metrics for BOSHI: 404\n",
      "2025-02-21T16:46:10.399712 BOSHI\n",
      "2025-02-21T16:46:10.773720 BP\n",
      "2025-02-21T16:46:11.137961 BP-METADATA\n",
      "Error fetching metrics for BPFORMS: 404\n",
      "2025-02-21T16:46:11.493943 BPFORMS\n",
      "2025-02-21T16:46:11.860933 BPT\n",
      "2025-02-21T16:46:12.235190 BRAIN-COF\n",
      "Error fetching metrics for BRAZI: 404\n",
      "2025-02-21T16:46:12.592460 BRAZI\n",
      "2025-02-21T16:46:12.971183 BRCT\n",
      "2025-02-21T16:46:13.335616 BRIDG\n",
      "2025-02-21T16:46:13.708361 BRO\n",
      "2025-02-21T16:46:14.069751 BRSO\n",
      "2025-02-21T16:46:14.441308 BSAO\n",
      "2025-02-21T16:46:14.824417 BSPO\n",
      "2025-02-21T16:46:15.194576 BT\n",
      "2025-02-21T16:46:15.562180 BT-ONTOLOGY\n",
      "2025-02-21T16:46:15.964615 BTO\n",
      "2025-02-21T16:46:16.334239 BTO-BFO\n",
      "2025-02-21T16:46:16.705238 BTO-EMMO\n",
      "2025-02-21T16:46:17.068746 BTO-PROVO\n",
      "2025-02-21T16:46:17.447233 BTO_ONTOLOGY\n",
      "Error fetching metrics for C19M: 404\n",
      "2025-02-21T16:46:17.797601 C19M\n",
      "2025-02-21T16:46:18.167374 CABRO\n",
      "2025-02-21T16:46:18.525717 CANCO\n",
      "2025-02-21T16:46:18.884262 CANONT\n",
      "2025-02-21T16:46:19.248393 CAO\n"
     ]
    }
   ],
   "execution_count": null
  },
  {
   "metadata": {},
   "cell_type": "code",
   "source": [
    "# Write the list of dictionaries to a TSV file\n",
    "with open(output_file, mode='w', encoding='utf-8', newline='') as f:\n",
    "    # Get fieldnames from the keys of the first dictionary\n",
    "    fieldnames = ontology_summaries[0].keys() if ontology_summaries else []\n",
    "\n",
    "    # Initialize the DictWriter\n",
    "    writer = csv.DictWriter(f, fieldnames=fieldnames, delimiter='\\t')\n",
    "\n",
    "    # Write header\n",
    "    writer.writeheader()\n",
    "\n",
    "    # Write rows\n",
    "    writer.writerows(ontology_summaries)\n",
    "\n",
    "print(f\"List of dictionaries successfully written to {output_file}\")\n"
   ],
   "id": "46004baa86591e90",
   "outputs": [],
   "execution_count": null
  }
 ],
 "metadata": {
  "kernelspec": {
   "display_name": "Python 3",
   "language": "python",
   "name": "python3"
  },
  "language_info": {
   "codemirror_mode": {
    "name": "ipython",
    "version": 2
   },
   "file_extension": ".py",
   "mimetype": "text/x-python",
   "name": "python",
   "nbconvert_exporter": "python",
   "pygments_lexer": "ipython2",
   "version": "2.7.6"
  }
 },
 "nbformat": 4,
 "nbformat_minor": 5
}
