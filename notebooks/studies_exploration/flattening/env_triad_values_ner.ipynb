{
 "cells": [
  {
   "metadata": {
    "ExecuteTime": {
     "end_time": "2025-03-10T14:04:43.320214Z",
     "start_time": "2025-03-10T14:04:40.512104Z"
    }
   },
   "cell_type": "code",
   "source": [
    "import re\n",
    "import urllib.parse\n",
    "from collections import Counter\n",
    "\n",
    "import pandas as pd\n",
    "import requests\n",
    "import requests_cache\n",
    "import yaml\n",
    "from curies import Converter\n",
    "from dotenv import dotenv_values\n",
    "from oaklib import get_adapter\n",
    "from oaklib.interfaces.text_annotator_interface import TextAnnotatorInterface\n",
    "from oaklib.utilities.lexical.lexical_indexer import load_lexical_index\n",
    "from prefixmaps.io.parser import load_converter\n",
    "from pymongo import MongoClient, ASCENDING, errors\n",
    "from pymongo.errors import DuplicateKeyError\n",
    "from tqdm.notebook import tqdm"
   ],
   "id": "b18043273e10d1b0",
   "outputs": [],
   "execution_count": 1
  },
  {
   "metadata": {},
   "cell_type": "markdown",
   "source": "when should no results be saved as an empty record in mongodb, and when should the field be omitted?",
   "id": "b5832f5238b45241"
  },
  {
   "metadata": {
    "ExecuteTime": {
     "end_time": "2025-03-10T14:04:43.335350Z",
     "start_time": "2025-03-10T14:04:43.332521Z"
    }
   },
   "cell_type": "code",
   "source": [
    "envo_adapter_string = 'sqlite:obo:envo'\n",
    "po_adapter_string = 'sqlite:obo:po'\n",
    "\n",
    "# consider using an aggregated adapter\n",
    "# that may not work with saving a YAML cache/index"
   ],
   "id": "7fdfc037095bcda6",
   "outputs": [],
   "execution_count": 2
  },
  {
   "metadata": {
    "ExecuteTime": {
     "end_time": "2025-03-10T14:04:43.400983Z",
     "start_time": "2025-03-10T14:04:43.398192Z"
    }
   },
   "cell_type": "code",
   "source": "mongo_url = \"mongodb://localhost:27017\"",
   "id": "8debb3359443c56e",
   "outputs": [],
   "execution_count": 3
  },
  {
   "metadata": {
    "ExecuteTime": {
     "end_time": "2025-03-10T14:04:43.444887Z",
     "start_time": "2025-03-10T14:04:43.442367Z"
    }
   },
   "cell_type": "code",
   "source": "requests_cache_name = \"requests_cache\"",
   "id": "751c669324a4edc0",
   "outputs": [],
   "execution_count": 4
  },
  {
   "metadata": {
    "ExecuteTime": {
     "end_time": "2025-03-10T14:04:43.490759Z",
     "start_time": "2025-03-10T14:04:43.488141Z"
    }
   },
   "cell_type": "code",
   "source": "requests_cache_expire_after = 604800",
   "id": "105bdfa02b4d695",
   "outputs": [],
   "execution_count": 5
  },
  {
   "metadata": {
    "ExecuteTime": {
     "end_time": "2025-03-10T14:04:43.540352Z",
     "start_time": "2025-03-10T14:04:43.536439Z"
    }
   },
   "cell_type": "code",
   "source": [
    "# Define threshold\n",
    "COMPONENT_COUNT_THRESHOLD = 2\n",
    "# COMPONENT_COUNT_THRESHOLD = 100\n",
    "MIN_LABEL_LEN = 3\n",
    "\n",
    "# # Database collection\n",
    "# triad_components_labels_collection = db[\"triad_components_labels\"]\n",
    "\n",
    "# OLS Search API URL\n",
    "OLS_SEARCH_URL = \"https://www.ebi.ac.uk/ols/api/search\"\n",
    "\n",
    "# Ontologies to search\n",
    "\n",
    "small_high_impact_targets_lc = [\n",
    "    \"envo\", # db 19 MB, 7 030 classes\n",
    "    \"po\", # db 24 MB\n",
    "]\n",
    "other_targets_lc = [\n",
    "    \"chebi\", # db ~ 3 700 MB, 220 816 classes\n",
    "    \"doid\", # 18 897 classes\n",
    "    \"dron\", # 747 494 classes\n",
    "    \"efo\", # db 779 MB\n",
    "    \"foodon\", # db 280 MB\n",
    "    \"gaz\", # 668 838 classes\n",
    "    \"mmo\", # db 4 MB\n",
    "    \"ncbitaxon\", # 736 927 classes\n",
    "    \"ohmi\", # db 13 MB\n",
    "    \"opl\", # 561 classes\n",
    "    \"pato\", # db 151 MB\n",
    "    \"pco\", # db 2 MB\n",
    "    \"po\", # db 24 MB\n",
    "    \"uberon\" # db 995 MB\n",
    "]\n",
    "# obi? agro?\n",
    "# map from sources: bto, ncit, omit, agro, snomedct, dron\n",
    "OLS_LABEL_SEARCH_ONTS = \"chebi,doid,dron,efo,envo,foodon,gaz,mmo,ncbitaxon,ohmi,opl,pato,pco,po,uberon\"\n",
    "\n",
    "FIELDLIST = \"ontology_name,is_defining_ontology,obo_id,label,synonym\"\n",
    "\n",
    "QUERYFIELDS = \"label,synonym\"\n",
    "\n",
    "OLS_REQ_EXACT_MATCH = \"true\"\n"
   ],
   "id": "aef225f50ce208ed",
   "outputs": [],
   "execution_count": 6
  },
  {
   "metadata": {
    "ExecuteTime": {
     "end_time": "2025-03-10T14:04:43.866668Z",
     "start_time": "2025-03-10T14:04:43.864101Z"
    }
   },
   "cell_type": "code",
   "source": [
    "# Specify the path to your .env file\n",
    "env_path = \"../../../local/.env\"\n",
    "bioportal_api_key_name = \"BIOPORTAL_API_KEY\"\n"
   ],
   "id": "dfd5522ff7f79f52",
   "outputs": [],
   "execution_count": 7
  },
  {
   "metadata": {
    "ExecuteTime": {
     "end_time": "2025-03-10T14:04:44.337123Z",
     "start_time": "2025-03-10T14:04:44.333428Z"
    }
   },
   "cell_type": "code",
   "source": [
    "# Enable request caching\n",
    "requests_cache.install_cache(requests_cache_name, expire_after=requests_cache_expire_after)  # Cache expires after 7 days"
   ],
   "id": "98588cfc165aac08",
   "outputs": [],
   "execution_count": 8
  },
  {
   "metadata": {
    "collapsed": true,
    "ExecuteTime": {
     "end_time": "2025-03-10T14:04:44.761839Z",
     "start_time": "2025-03-10T14:04:44.754767Z"
    }
   },
   "cell_type": "code",
   "source": [
    "# Connect to local MongoDB on default port\n",
    "client = MongoClient(mongo_url)"
   ],
   "id": "initial_id",
   "outputs": [],
   "execution_count": 9
  },
  {
   "metadata": {
    "ExecuteTime": {
     "end_time": "2025-03-10T14:04:45.197945Z",
     "start_time": "2025-03-10T14:04:45.195269Z"
    }
   },
   "cell_type": "code",
   "source": [
    "# Access the database and the collections\n",
    "# use the connection builder from core.py>\n",
    "db = client.ncbi_metadata"
   ],
   "id": "524d3cdc9b319df0",
   "outputs": [],
   "execution_count": 10
  },
  {
   "metadata": {
    "ExecuteTime": {
     "end_time": "2025-03-10T14:04:45.722757Z",
     "start_time": "2025-03-10T14:04:45.720119Z"
    }
   },
   "cell_type": "code",
   "source": "triad_values_collection = db.unique_triad_values",
   "id": "c020d8e73384bb2b",
   "outputs": [],
   "execution_count": 11
  },
  {
   "metadata": {
    "ExecuteTime": {
     "end_time": "2025-03-10T14:04:46.181862Z",
     "start_time": "2025-03-10T14:04:46.179367Z"
    }
   },
   "cell_type": "code",
   "source": "triad_components_labels_collection = db.triad_components_labels",
   "id": "dbbf5f88f7ce46bc",
   "outputs": [],
   "execution_count": 12
  },
  {
   "metadata": {
    "ExecuteTime": {
     "end_time": "2025-03-10T14:04:46.720089Z",
     "start_time": "2025-03-10T14:04:46.689884Z"
    }
   },
   "cell_type": "code",
   "source": [
    "envo_adapter = get_adapter(envo_adapter_string)\n",
    "po_adapter = get_adapter(po_adapter_string)"
   ],
   "id": "876673d512e2e325",
   "outputs": [],
   "execution_count": 13
  },
  {
   "metadata": {
    "ExecuteTime": {
     "end_time": "2025-03-10T14:04:55.202733Z",
     "start_time": "2025-03-10T14:04:55.199818Z"
    }
   },
   "cell_type": "code",
   "source": [
    "# Estimate document count for tqdm\n",
    "doc_count = triad_components_labels_collection.estimated_document_count()"
   ],
   "id": "d0b4587d13555376",
   "outputs": [],
   "execution_count": 15
  },
  {
   "metadata": {},
   "cell_type": "markdown",
   "source": [
    "OAK annotate does not return any knowledge about the matching entity, like its label, synonyms, obsolete status, etc.\n",
    "\n",
    "This search only annotates a small fraction of the component_labels, ~ 6%\n",
    "\n",
    "TODO: add a lower case indicator of the object ontology"
   ],
   "id": "a776927998769426"
  },
  {
   "metadata": {
    "ExecuteTime": {
     "end_time": "2025-03-10T14:07:22.188817Z",
     "start_time": "2025-03-10T14:04:56.422328Z"
    }
   },
   "cell_type": "code",
   "source": [
    "# Process each document\n",
    "# Initialize tqdm with manual updating\n",
    "with tqdm(total=doc_count, desc=\"Processing documents\") as pbar:\n",
    "    for doc in triad_components_labels_collection.find():\n",
    "        # todo skip excel formula_like values?\n",
    "        component_label = doc.get(\"component_label\")\n",
    "\n",
    "        if not component_label:\n",
    "            pbar.update(1)\n",
    "            continue  # Skip if component_label is missing or empty\n",
    "\n",
    "        # Collect annotations from both adapters\n",
    "        envo_annotations = list(envo_adapter.annotate_text(component_label.lower()))\n",
    "        po_annotations = list(po_adapter.annotate_text(component_label.lower()))\n",
    "\n",
    "        # Use a set to track unique, whole-text keepers\n",
    "        unique_keepers = set()\n",
    "\n",
    "        keepers = []\n",
    "        for annotation in envo_annotations + po_annotations:  # Combine both sources\n",
    "            # todo skip if the predicate isn't rdfs:label, or oio:hasExactSynonym\n",
    "            #   also seeing oio:hasRelatedSynonym, oio:hasNarrowSynonym and oio:hasBroadSynonym\n",
    "            if annotation.matches_whole_text:\n",
    "                keeper_tuple = (annotation.predicate_id, annotation.object_id)\n",
    "                if keeper_tuple not in unique_keepers:\n",
    "                    unique_keepers.add(keeper_tuple)\n",
    "                    keepers.append({\n",
    "                        \"predicate_id\": annotation.predicate_id,\n",
    "                        \"curie\": annotation.object_id,\n",
    "                    })\n",
    "\n",
    "        if keepers:\n",
    "            triad_components_labels_collection.update_one(\n",
    "                {\"_id\": doc[\"_id\"]},\n",
    "                {\"$set\": {\"oak_text_annotations\": keepers}}\n",
    "            )\n",
    "\n",
    "        pbar.update(1)\n",
    "\n",
    "# progress bar updates in spurts, possibly due to 100-document cursor size\n",
    "# there's a lag of ~ 15 seconds from building the lexical indices\n",
    "# 3 minutes"
   ],
   "id": "920b9e56b904a8e9",
   "outputs": [
    {
     "data": {
      "text/plain": [
       "Processing documents:   0%|          | 0/45157 [00:00<?, ?it/s]"
      ],
      "application/vnd.jupyter.widget-view+json": {
       "version_major": 2,
       "version_minor": 0,
       "model_id": "ae73645ec6b547a1b4916a8b12744ea0"
      }
     },
     "metadata": {},
     "output_type": "display_data"
    },
    {
     "name": "stderr",
     "output_type": "stream",
     "text": [
      "ERROR:root:Skipping statements(subject=ENVO:01001644,predicate=oio:hasDbXref,object=None,value=Carbonate which is formed as the result of some biological process.,datatype=None,language=None,); ValueError: Carbonate which is formed as the result of some biological process. is not a valid URI or CURIE\n",
      "WARNING:root:Skipping <http://geneontology.org/foo/applies-pattern> as it is not a valid CURIE\n",
      "WARNING:root:Skipping <http://schema.org/image> as it is not a valid CURIE\n",
      "WARNING:root:Skipping <https://www.wikidata.org/wiki/Q2306597> as it is not a valid CURIE\n",
      "WARNING:root:Skipping <https://www.wikidata.org/wiki/Q2> as it is not a valid CURIE\n",
      "WARNING:root:Skipping <https://www.wikidata.org/wiki/Q525> as it is not a valid CURIE\n",
      "WARNING:root:Skipping <https://www.wikidata.org/wiki/Q715269> as it is not a valid CURIE\n",
      "WARNING:root:Skipping <http://swrl.stanford.edu/ontologies/3.3/swrla.owl#isRuleEnabled> as it is not a valid CURIE\n"
     ]
    }
   ],
   "execution_count": 16
  },
  {
   "metadata": {
    "ExecuteTime": {
     "end_time": "2025-03-10T14:07:22.208538Z",
     "start_time": "2025-03-10T14:07:22.205485Z"
    }
   },
   "cell_type": "code",
   "source": "print(f\"Estimated doc count: {doc_count}\")",
   "id": "e29fd3e1001864f9",
   "outputs": [
    {
     "name": "stdout",
     "output_type": "stream",
     "text": [
      "Estimated doc count: 45157\n"
     ]
    }
   ],
   "execution_count": 17
  },
  {
   "metadata": {
    "ExecuteTime": {
     "end_time": "2025-03-10T14:08:11.938812Z",
     "start_time": "2025-03-10T14:08:11.917555Z"
    }
   },
   "cell_type": "code",
   "source": "has_matches = triad_components_labels_collection.count_documents({\"oak_text_annotations\": {\"$exists\": True}})",
   "id": "687fccdc1e6728d0",
   "outputs": [],
   "execution_count": 18
  },
  {
   "metadata": {
    "ExecuteTime": {
     "end_time": "2025-03-10T14:08:12.635711Z",
     "start_time": "2025-03-10T14:08:12.632174Z"
    }
   },
   "cell_type": "code",
   "source": "print(f\"Documents with 'matches' field: {has_matches}\")",
   "id": "4070929659ae887c",
   "outputs": [
    {
     "name": "stdout",
     "output_type": "stream",
     "text": [
      "Documents with 'matches' field: 2495\n"
     ]
    }
   ],
   "execution_count": 19
  },
  {
   "metadata": {
    "ExecuteTime": {
     "end_time": "2025-03-10T14:08:13.209829Z",
     "start_time": "2025-03-10T14:08:13.155733Z"
    }
   },
   "cell_type": "code",
   "source": "needs_followup = triad_components_labels_collection.count_documents({\"matches\": {\"$exists\": False}, \"count\": {\"$gt\": 1}})",
   "id": "91f8fea21d926c92",
   "outputs": [],
   "execution_count": 20
  },
  {
   "metadata": {
    "ExecuteTime": {
     "end_time": "2025-03-10T14:08:13.695408Z",
     "start_time": "2025-03-10T14:08:13.692576Z"
    }
   },
   "cell_type": "code",
   "source": "print(f\"Documents used at least twice, with no 'matches' field: {needs_followup}\")",
   "id": "ac8c8cb196b6a06f",
   "outputs": [
    {
     "name": "stdout",
     "output_type": "stream",
     "text": [
      "Documents used at least twice, with no 'matches' field: 32402\n"
     ]
    }
   ],
   "execution_count": 21
  },
  {
   "metadata": {
    "ExecuteTime": {
     "end_time": "2025-03-10T14:08:14.233384Z",
     "start_time": "2025-03-10T14:08:14.230991Z"
    }
   },
   "cell_type": "code",
   "source": "# index!",
   "id": "fb657b320d475c01",
   "outputs": [],
   "execution_count": 22
  },
  {
   "metadata": {
    "ExecuteTime": {
     "end_time": "2025-03-10T14:08:14.859788Z",
     "start_time": "2025-03-10T14:08:14.817496Z"
    }
   },
   "cell_type": "code",
   "source": [
    "result = triad_components_labels_collection.aggregate([\n",
    "    {\"$project\": {\"count\": 1}},  # Only keep the 'count' field\n",
    "    {\"$sort\": {\"count\": -1}},  # Sort by 'count' in descending order\n",
    "    {\"$limit\": 1}  # Get the document with the highest count\n",
    "])\n"
   ],
   "id": "db3530f07de21b1a",
   "outputs": [],
   "execution_count": 23
  },
  {
   "metadata": {
    "ExecuteTime": {
     "end_time": "2025-03-10T14:08:15.426032Z",
     "start_time": "2025-03-10T14:08:15.423527Z"
    }
   },
   "cell_type": "code",
   "source": "highest_count = next(result, None)  # Fetch the result safely",
   "id": "567ae8496a2c4d41",
   "outputs": [],
   "execution_count": 24
  },
  {
   "metadata": {
    "ExecuteTime": {
     "end_time": "2025-03-10T14:08:15.968135Z",
     "start_time": "2025-03-10T14:08:15.964293Z"
    }
   },
   "cell_type": "code",
   "source": "highest_count",
   "id": "995db06206cd6863",
   "outputs": [
    {
     "data": {
      "text/plain": [
       "{'_id': ObjectId('67cee60893eed1680f826673'), 'count': 1264549}"
      ]
     },
     "execution_count": 25,
     "metadata": {},
     "output_type": "execute_result"
    }
   ],
   "execution_count": 25
  },
  {
   "metadata": {
    "ExecuteTime": {
     "end_time": "2025-03-10T14:08:16.431148Z",
     "start_time": "2025-03-10T14:08:16.427016Z"
    }
   },
   "cell_type": "code",
   "source": "COMPONENT_COUNT_THRESHOLD",
   "id": "bcd78c0d6ebf7d4e",
   "outputs": [
    {
     "data": {
      "text/plain": [
       "2"
      ]
     },
     "execution_count": 26,
     "metadata": {},
     "output_type": "execute_result"
    }
   ],
   "execution_count": 26
  },
  {
   "metadata": {
    "ExecuteTime": {
     "end_time": "2025-03-10T14:08:17.349034Z",
     "start_time": "2025-03-10T14:08:17.053541Z"
    }
   },
   "cell_type": "code",
   "source": [
    "docs = list(\n",
    "    triad_components_labels_collection.find(\n",
    "        {\"count\": {\"$gte\": COMPONENT_COUNT_THRESHOLD}, \"oak_text_annotations\": {\"$exists\": False}},  # Filter criteria\n",
    "        {\"component_label\": 1}  # Projection (only fetch 'component_label')\n",
    "    )\n",
    ")\n"
   ],
   "id": "4cb8d253a798ff03",
   "outputs": [],
   "execution_count": 27
  },
  {
   "metadata": {
    "ExecuteTime": {
     "end_time": "2025-03-10T14:08:17.587477Z",
     "start_time": "2025-03-10T14:08:17.585089Z"
    }
   },
   "cell_type": "code",
   "source": "# todo: is this indexed yet?",
   "id": "f9a03427aa592eb3",
   "outputs": [],
   "execution_count": 28
  },
  {
   "metadata": {},
   "cell_type": "markdown",
   "source": [
    "It doesn't look like the OLS text search can tell us if a term is obsolete\n",
    "\n",
    "https://www.ebi.ac.uk/ols4/api/search?q=pyrene+degrading+sulfate+reducing+enrichment+cultutre+obtained+using+a+freshwater+lake+sediment\n",
    "\n",
    "https://www.ebi.ac.uk/ols4/ols3help\n",
    "\n",
    "This gets even fewer annotations than the initial OAK phase"
   ],
   "id": "67d242546fce2546"
  },
  {
   "metadata": {
    "ExecuteTime": {
     "end_time": "2025-03-10T14:09:26.134163Z",
     "start_time": "2025-03-10T14:08:19.075396Z"
    }
   },
   "cell_type": "code",
   "source": [
    "# Iterate over documents with tqdm for progress tracking\n",
    "for doc in tqdm(docs, desc=\"Processing components\", unit=\"doc\"):\n",
    "    query = doc.get(\"component_label\", \"\").strip().lower()\n",
    "    # print(query)\n",
    "    if len(query) < MIN_LABEL_LEN:\n",
    "        continue  # Skip short labels\n",
    "\n",
    "    start = 0  # Start pagination at 0\n",
    "    rows = 1000  # Max per request (set to 100 for efficiency)\n",
    "    ols_hits = []  # Store matching results\n",
    "\n",
    "    while True:\n",
    "        params = {\n",
    "            \"q\": query,\n",
    "            \"exact\": OLS_REQ_EXACT_MATCH,\n",
    "            \"fieldList\": FIELDLIST,\n",
    "            \"ontology\": OLS_LABEL_SEARCH_ONTS,\n",
    "            \"queryFields\": QUERYFIELDS,\n",
    "            \"rows\": rows,\n",
    "            \"start\": start,\n",
    "        }\n",
    "\n",
    "        # # Create a Request object\n",
    "        # req = requests.Request('GET', OLS_SEARCH_URL, params=params)\n",
    "        #\n",
    "        # # Prepare it\n",
    "        # prepared_req = req.prepare()\n",
    "        #\n",
    "        # # Now you can see the URL\n",
    "        # print(prepared_req.url)\n",
    "\n",
    "        response = requests.get(OLS_SEARCH_URL, params=params)\n",
    "        response.raise_for_status()\n",
    "        data = response.json()\n",
    "\n",
    "        # Extract results\n",
    "        results = data.get(\"response\", {}).get(\"docs\", [])\n",
    "\n",
    "        # If no results, break loop\n",
    "        if not results:\n",
    "            break\n",
    "\n",
    "        # Process results\n",
    "        for result in results:\n",
    "            # pprint.pprint(result)\n",
    "            if result.get(\"is_defining_ontology\", False):\n",
    "                label_lower = result.get(\"label\", \"\").lower()\n",
    "                label_lower_match = label_lower == query\n",
    "\n",
    "                temp_dict = {\n",
    "                    \"exact_label_match\": label_lower_match,\n",
    "                    \"label\": result.get(\"label\", \"\"),\n",
    "                    \"synonyms\": result.get(\"synonym\", []),\n",
    "                    \"obo_id\": result.get(\"obo_id\", \"\"),\n",
    "                    \"ontology_lc\": result.get(\"ontology_name\", \"\").lower(),\n",
    "                }\n",
    "                if OLS_REQ_EXACT_MATCH == \"true\":\n",
    "                    temp_dict['exact_something_match'] = True\n",
    "\n",
    "                ols_hits.append(temp_dict)\n",
    "\n",
    "        # Check if we need to fetch more results\n",
    "        num_found = data.get(\"response\", {}).get(\"numFound\", 0)\n",
    "        start += rows  # Move to the next page\n",
    "\n",
    "        if start >= num_found:  # Stop if we've retrieved all records\n",
    "            break\n",
    "\n",
    "    # Update the document with OLS hits if any\n",
    "    if ols_hits:\n",
    "        triad_components_labels_collection.update_one({\"_id\": doc[\"_id\"]}, {\"$set\": {\"ols_text_annotation\": ols_hits}})\n",
    "\n",
    "# 1.8 docs per second\n",
    "# OLS_LABEL_SEARCH_ONTS = \"envo,ncit,ncbitaxon,uberon,snomed,foodon,micro,genepio,po,obi,ohmi,agro,pco,exo,mco,pato\"\n",
    "# FIELDLIST = \"ontology_name,is_defining_ontology,obo_id,label,synonym\"\n",
    "# QUERYFIELDS = \"label,synonym\"\n",
    "# \"exact\": \"true\",\n",
    "# exact false brings it down to 1 docs/6 seconds, like bioportal (via OAK)?\n"
   ],
   "id": "72c0f1f75f8e25c9",
   "outputs": [
    {
     "data": {
      "text/plain": [
       "Processing components:   0%|          | 0/30091 [00:00<?, ?doc/s]"
      ],
      "application/vnd.jupyter.widget-view+json": {
       "version_major": 2,
       "version_minor": 0,
       "model_id": "3a8e685d5df544639639f8da96ce25a5"
      }
     },
     "metadata": {},
     "output_type": "display_data"
    }
   ],
   "execution_count": 29
  },
  {
   "metadata": {
    "ExecuteTime": {
     "end_time": "2025-03-10T14:18:10.564472Z",
     "start_time": "2025-03-10T14:18:10.561252Z"
    }
   },
   "cell_type": "code",
   "source": [
    "target_collection = db[\"class_label_cache\"]\n",
    "target_collection.drop()"
   ],
   "id": "9a65bbd4ffaefbd9",
   "outputs": [],
   "execution_count": 40
  },
  {
   "metadata": {
    "ExecuteTime": {
     "end_time": "2025-03-10T14:18:10.970691Z",
     "start_time": "2025-03-10T14:18:10.968112Z"
    }
   },
   "cell_type": "code",
   "source": "target_collection = db[\"class_label_cache\"]",
   "id": "3969c66dd4d47431",
   "outputs": [],
   "execution_count": 41
  },
  {
   "metadata": {
    "ExecuteTime": {
     "end_time": "2025-03-10T14:18:11.359355Z",
     "start_time": "2025-03-10T14:18:11.297201Z"
    }
   },
   "cell_type": "code",
   "source": [
    "# Ensure unique index on 'curie' to enforce \"first one wins\"\n",
    "target_collection.create_index([(\"curie\", ASCENDING)], unique=True)"
   ],
   "id": "66200b0b017c1efb",
   "outputs": [
    {
     "data": {
      "text/plain": [
       "'curie_1'"
      ]
     },
     "execution_count": 42,
     "metadata": {},
     "output_type": "execute_result"
    }
   ],
   "execution_count": 42
  },
  {
   "metadata": {
    "ExecuteTime": {
     "end_time": "2025-03-10T14:18:11.619622Z",
     "start_time": "2025-03-10T14:18:11.617142Z"
    }
   },
   "cell_type": "code",
   "source": [
    "# triad_components_labels_collection\n",
    "# triad_values_collection = db.unique_triad_values\n",
    "# triad_components_labels_collection = db.triad_components_labels"
   ],
   "id": "7dcc20a3abbccb73",
   "outputs": [],
   "execution_count": 43
  },
  {
   "metadata": {},
   "cell_type": "markdown",
   "source": [
    "start collecting a cache of curies with their labels and synonyms\n",
    "\n",
    "start with ols_text_annotations\n",
    "\n",
    "inconsistently including obsolete flag?"
   ],
   "id": "69bfe33cc5ccc18f"
  },
  {
   "metadata": {
    "ExecuteTime": {
     "end_time": "2025-03-10T14:18:13.808224Z",
     "start_time": "2025-03-10T14:18:12.699082Z"
    }
   },
   "cell_type": "code",
   "source": [
    "# Iterate through source collection\n",
    "for doc in triad_components_labels_collection.find({}):\n",
    "    hits = doc.get(\"ols_text_annotation\", [])  # Get list or empty list\n",
    "    for hit in hits:\n",
    "        curie = hit.get(\"obo_id\")\n",
    "        label = hit.get(\"label\")\n",
    "        synonyms = hit.get(\"synonyms\", [])\n",
    "\n",
    "        try:\n",
    "            target_collection.insert_one({\n",
    "                \"curie\": curie,\n",
    "                \"label\": label,\n",
    "                \"synonyms\": synonyms,\n",
    "            })\n",
    "\n",
    "        except DuplicateKeyError:\n",
    "            # Ignore duplicates and continue\n",
    "            pass\n"
   ],
   "id": "e5f8d5f3c5549e80",
   "outputs": [],
   "execution_count": 44
  },
  {
   "metadata": {},
   "cell_type": "markdown",
   "source": "start keeping track  of unlabelled curies anywhere in the database, as an in-memory set",
   "id": "ca2b71143f61aa28"
  },
  {
   "metadata": {
    "ExecuteTime": {
     "end_time": "2025-03-10T14:18:15.348120Z",
     "start_time": "2025-03-10T14:18:15.345652Z"
    }
   },
   "cell_type": "code",
   "source": "unlabelleds = set()",
   "id": "55ec5b4936f6a0c2",
   "outputs": [],
   "execution_count": 45
  },
  {
   "metadata": {
    "ExecuteTime": {
     "end_time": "2025-03-10T14:18:16.050264Z",
     "start_time": "2025-03-10T14:18:16.047798Z"
    }
   },
   "cell_type": "code",
   "source": "# is this indexed yet?",
   "id": "f48a63f99696527c",
   "outputs": [],
   "execution_count": 46
  },
  {
   "metadata": {},
   "cell_type": "markdown",
   "source": "include oak_text_annotations in unlabeleds because the OAK text annotator does not return the matched term's label, only information about which of its annotations was matched (label, synonym, etc)",
   "id": "135919b51a54f884"
  },
  {
   "metadata": {
    "ExecuteTime": {
     "end_time": "2025-03-10T14:18:18.000323Z",
     "start_time": "2025-03-10T14:18:17.681209Z"
    }
   },
   "cell_type": "code",
   "source": [
    "for doc in triad_components_labels_collection.find({}, {\"oak_text_annotations.curie\": 1}):\n",
    "    annotations = doc.get(\"oak_text_annotations\", [])  # Get list or empty list\n",
    "    if isinstance(annotations, list):\n",
    "        for annotation in annotations:\n",
    "            curie = annotation.get(\"curie\")\n",
    "            if curie:\n",
    "                unlabelleds.add(curie)"
   ],
   "id": "b45c4c0eacb90c7",
   "outputs": [],
   "execution_count": 47
  },
  {
   "metadata": {
    "ExecuteTime": {
     "end_time": "2025-03-10T14:18:18.814716Z",
     "start_time": "2025-03-10T14:18:18.811104Z"
    }
   },
   "cell_type": "code",
   "source": "len(unlabelleds)",
   "id": "b917a4afb4fb9b52",
   "outputs": [
    {
     "data": {
      "text/plain": [
       "2229"
      ]
     },
     "execution_count": 48,
     "metadata": {},
     "output_type": "execute_result"
    }
   ],
   "execution_count": 48
  },
  {
   "metadata": {},
   "cell_type": "markdown",
   "source": "now add asserted curies discovered during parsing, if their prefix suggest that the term is present in Bioportal",
   "id": "9ba075dfaaa965e0"
  },
  {
   "metadata": {
    "ExecuteTime": {
     "end_time": "2025-03-10T14:19:20.988815Z",
     "start_time": "2025-03-10T14:19:19.617013Z"
    }
   },
   "cell_type": "code",
   "source": [
    "# Iterate through source collection and insert CURIes from parsed_annotations[].repaired_curie\n",
    "for doc in triad_values_collection.find({},\n",
    "                                        {\"parsed_annotations.repaired_curie\": 1, \"parsed_annotations.bioportal_prefix\": 1}):\n",
    "    annotations = doc.get(\"parsed_annotations\", [])  # Get list or empty list\n",
    "    if isinstance(annotations, list):\n",
    "        for annotation in annotations:\n",
    "            curie = annotation.get(\"repaired_curie\")\n",
    "            bioportal_prefix = annotation.get(\"bioportal_prefix\")\n",
    "\n",
    "            if curie and bioportal_prefix:  # Exclude if obo_prefix is present\n",
    "                unlabelleds.add(curie)  # Add to set (ensures uniqueness)\n",
    "\n"
   ],
   "id": "f855033fdcb7139d",
   "outputs": [],
   "execution_count": 49
  },
  {
   "metadata": {
    "ExecuteTime": {
     "end_time": "2025-03-10T14:19:21.508263Z",
     "start_time": "2025-03-10T14:19:21.504648Z"
    }
   },
   "cell_type": "code",
   "source": "len(unlabelleds)",
   "id": "db4c0af7f8f2a648",
   "outputs": [
    {
     "data": {
      "text/plain": [
       "13843"
      ]
     },
     "execution_count": 50,
     "metadata": {},
     "output_type": "execute_result"
    }
   ],
   "execution_count": 50
  },
  {
   "metadata": {
    "ExecuteTime": {
     "end_time": "2025-03-10T14:19:33.798421Z",
     "start_time": "2025-03-10T14:19:33.795805Z"
    }
   },
   "cell_type": "code",
   "source": [
    "labelleds = []\n",
    "still_unlabelled_envo = []\n",
    "still_unlabelled_other = []"
   ],
   "id": "a790019410b1c7c1",
   "outputs": [],
   "execution_count": 51
  },
  {
   "metadata": {},
   "cell_type": "markdown",
   "source": "TODO: add obsolete indicator",
   "id": "7a7dfa0d4185a208"
  },
  {
   "metadata": {
    "ExecuteTime": {
     "end_time": "2025-03-10T14:19:35.148956Z",
     "start_time": "2025-03-10T14:19:35.145323Z"
    }
   },
   "cell_type": "code",
   "source": [
    "def attempt_oak_labelling(unlabelled, adapter, labelleds):\n",
    "    label = adapter.label(unlabelled)\n",
    "    if label:\n",
    "        aliases = adapter.entity_aliases(unlabelled) or []\n",
    "        if not isinstance(aliases, list):\n",
    "            print(aliases)\n",
    "        aliases = [i for i in aliases if i != label]\n",
    "        labelleds.append({\"curie\": unlabelled, \"label\": label, \"synonyms\": aliases})\n",
    "        return True  # Indicates that labeling was successful\n",
    "    return False  # Indicates that the CURIE remains unlabelled\n"
   ],
   "id": "2244a21234ea674c",
   "outputs": [],
   "execution_count": 52
  },
  {
   "metadata": {},
   "cell_type": "markdown",
   "source": [
    "now try to find labels for the items in the unlabelled set with the EnvO or PO OAK annotators\n",
    "\n",
    "if no label is found, then add the curie to either an unlabelled EnvO term list (which is probably all bogus curies)\n",
    "\n",
    "or an unlabelled other list, which likely contains a lot or valid curies from other namespaces"
   ],
   "id": "42320ad74f8ab956"
  },
  {
   "metadata": {
    "ExecuteTime": {
     "end_time": "2025-03-10T14:21:38.446966Z",
     "start_time": "2025-03-10T14:21:28.873713Z"
    }
   },
   "cell_type": "code",
   "source": [
    "for unlabelled in unlabelleds:\n",
    "    labelled = attempt_oak_labelling(unlabelled, envo_adapter, labelleds)\n",
    "    labelled |= attempt_oak_labelling(unlabelled, po_adapter, labelleds)  # |= ensures labelled stays True if either succeeds\n",
    "\n",
    "    if not labelled:  # Only add to unlabelled lists if neither adapter provided a label\n",
    "        if \"envo\" in unlabelled.lower():\n",
    "            still_unlabelled_envo.append(unlabelled)\n",
    "        else:\n",
    "            still_unlabelled_other.append(unlabelled)\n",
    "\n",
    "# 10 seconds"
   ],
   "id": "41e8c6555706d4bc",
   "outputs": [],
   "execution_count": 53
  },
  {
   "metadata": {
    "ExecuteTime": {
     "end_time": "2025-03-10T14:21:49.944598Z",
     "start_time": "2025-03-10T14:21:49.941048Z"
    }
   },
   "cell_type": "code",
   "source": "len(labelleds)",
   "id": "cdd4936a8e098f69",
   "outputs": [
    {
     "data": {
      "text/plain": [
       "4181"
      ]
     },
     "execution_count": 54,
     "metadata": {},
     "output_type": "execute_result"
    }
   ],
   "execution_count": 54
  },
  {
   "metadata": {
    "ExecuteTime": {
     "end_time": "2025-03-10T14:21:50.776178Z",
     "start_time": "2025-03-10T14:21:50.683292Z"
    }
   },
   "cell_type": "code",
   "source": [
    "if labelleds:  # Ensure the list is not empty\n",
    "    try:\n",
    "        target_collection.insert_many(labelleds, ordered=False)  # Bulk insert, ignore order\n",
    "    except errors.BulkWriteError as e:\n",
    "        pass # todo\n"
   ],
   "id": "2ae5dc29bccf1a3",
   "outputs": [],
   "execution_count": 55
  },
  {
   "metadata": {
    "ExecuteTime": {
     "end_time": "2025-03-10T14:21:55.121187Z",
     "start_time": "2025-03-10T14:21:55.118728Z"
    }
   },
   "cell_type": "code",
   "source": "# todo: index",
   "id": "e1e2812b8477e30f",
   "outputs": [],
   "execution_count": 56
  },
  {
   "metadata": {
    "ExecuteTime": {
     "end_time": "2025-03-10T14:21:55.621580Z",
     "start_time": "2025-03-10T14:21:55.618142Z"
    }
   },
   "cell_type": "code",
   "source": "len(still_unlabelled_envo)",
   "id": "61261e6d57137c0e",
   "outputs": [
    {
     "data": {
      "text/plain": [
       "5173"
      ]
     },
     "execution_count": 57,
     "metadata": {},
     "output_type": "execute_result"
    }
   ],
   "execution_count": 57
  },
  {
   "metadata": {
    "ExecuteTime": {
     "end_time": "2025-03-10T14:21:56.308636Z",
     "start_time": "2025-03-10T14:21:56.304944Z"
    }
   },
   "cell_type": "code",
   "source": "len(still_unlabelled_other)",
   "id": "796662866050f946",
   "outputs": [
    {
     "data": {
      "text/plain": [
       "4519"
      ]
     },
     "execution_count": 58,
     "metadata": {},
     "output_type": "execute_result"
    }
   ],
   "execution_count": 58
  },
  {
   "metadata": {
    "ExecuteTime": {
     "end_time": "2025-03-10T14:22:46.144597Z",
     "start_time": "2025-03-10T14:22:46.138061Z"
    }
   },
   "cell_type": "code",
   "source": [
    "# Function to get the label etc from BioPortal safely, using a term URI and prefix as input\n",
    "def get_bioportal_info(uri, prefix, BIOPORTAL_API_KEY):\n",
    "    temp_dict = {\n",
    "        \"label\": None,\n",
    "        \"obsolete\": None,\n",
    "        \"synonyms\": None,\n",
    "        \"status\": None\n",
    "    }\n",
    "    if not isinstance(uri, str) or not uri.startswith((\"http://\", \"https://\")):\n",
    "        temp_dict[\"status\"] = \"non-string URI\"\n",
    "        return temp_dict  # todo better handling/reporting\n",
    "\n",
    "    if not isinstance(prefix, str):\n",
    "        temp_dict[\"status\"] = \"non-string ontology slug\"\n",
    "        return temp_dict  # todo better handling/reporting\n",
    "\n",
    "    # Upper-case the ontology prefix\n",
    "    ontology = prefix.upper()\n",
    "\n",
    "    # URL-encode the inferred URI\n",
    "    encoded_uri = urllib.parse.quote(uri, safe=\"\")\n",
    "\n",
    "    # Correct API request URL format\n",
    "    url = f\"https://data.bioontology.org/ontologies/{ontology}/classes/{encoded_uri}?apikey={BIOPORTAL_API_KEY}\"\n",
    "\n",
    "    try:\n",
    "        response = requests.get(url, headers={\"Authorization\": f\"apikey {BIOPORTAL_API_KEY}\"})\n",
    "\n",
    "        if response.status_code == 200:\n",
    "            data = response.json()\n",
    "            pref_label = data.get(\"prefLabel\", \"\")\n",
    "            obsolete = data.get(\"obsolete\", False)  # Default to False if missing\n",
    "            if not obsolete:\n",
    "                obsolete = False\n",
    "            synonyms = data.get(\"synonym\", [])  # Default to False if missing\n",
    "\n",
    "            # todo GET MAPPINGS\n",
    "\n",
    "            if not synonyms:\n",
    "                synonyms = []\n",
    "\n",
    "            links = data.get(\"links\", {})  # Default to False if missing\n",
    "            mappings_link = links.get(\"mappings\", {})\n",
    "\n",
    "            temp_dict = {\n",
    "                \"label\": pref_label,\n",
    "                \"obsolete\": obsolete,\n",
    "                \"synonyms\": synonyms,\n",
    "                \"status\": \"success\",\n",
    "                \"ontology_lc\": prefix.lower(),\n",
    "                \"mappings_link\": mappings_link\n",
    "            }\n",
    "\n",
    "            return temp_dict\n",
    "        else:\n",
    "            temp_dict[\"status\"] = f\"response: {response.status_code}\"\n",
    "            return temp_dict  # todo better handling/reporting\n",
    "    except Exception as e:\n",
    "        temp_dict[\"status\"] = f\"exception: {e}\"\n",
    "        return temp_dict  # todo better handling/reporting"
   ],
   "id": "8eeca0e7b6bec8a2",
   "outputs": [],
   "execution_count": 59
  },
  {
   "metadata": {
    "ExecuteTime": {
     "end_time": "2025-03-10T14:23:14.933978Z",
     "start_time": "2025-03-10T14:23:14.931153Z"
    }
   },
   "cell_type": "code",
   "source": [
    "# Function to safely expand CURIEs, ignoring invalid ones\n",
    "def safe_expand(curie):\n",
    "    if isinstance(curie, str) and \":\" in curie:  # Ensure it's a CURIE\n",
    "        return converter.expand(curie.upper())\n",
    "    return None  # Return None for invalid CURIEs"
   ],
   "id": "db3919682b7341bb",
   "outputs": [],
   "execution_count": 60
  },
  {
   "metadata": {},
   "cell_type": "markdown",
   "source": "using the Bioportal API requires an API key",
   "id": "8ae96b44f2a0d392"
  },
  {
   "metadata": {
    "ExecuteTime": {
     "end_time": "2025-03-10T14:24:09.374922Z",
     "start_time": "2025-03-10T14:24:09.371041Z"
    }
   },
   "cell_type": "code",
   "source": [
    "# Load variables into a dictionary\n",
    "env_vars = dotenv_values(env_path)\n",
    "BIOPORTAL_API_KEY = env_vars[bioportal_api_key_name]"
   ],
   "id": "1fa4ce0fd27edc66",
   "outputs": [],
   "execution_count": 62
  },
  {
   "metadata": {},
   "cell_type": "markdown",
   "source": "create a CURIe/URI converted prioritizing Bioportal style",
   "id": "e103288d3c3011ec"
  },
  {
   "metadata": {
    "ExecuteTime": {
     "end_time": "2025-03-10T14:24:11.213254Z",
     "start_time": "2025-03-10T14:24:10.850731Z"
    }
   },
   "cell_type": "code",
   "source": "converter: Converter = load_converter([\"bioportal\", \"obo\"])",
   "id": "4ce878344bc91228",
   "outputs": [],
   "execution_count": 63
  },
  {
   "metadata": {},
   "cell_type": "markdown",
   "source": "try to get the label, synonyms,,etc for the unlabeled other asserted curies from Bioportal",
   "id": "234c76fdef8bc215"
  },
  {
   "metadata": {
    "ExecuteTime": {
     "end_time": "2025-03-10T14:28:13.327350Z",
     "start_time": "2025-03-10T14:24:13.009237Z"
    }
   },
   "cell_type": "code",
   "source": [
    "for curie in tqdm(still_unlabelled_other, desc=\"Processing CURIEs\"):\n",
    "\n",
    "    # split the curie into the prefix and the local_id\n",
    "    onto_slug = curie.split(\":\")[0].upper()\n",
    "    term_uri = safe_expand(curie)\n",
    "    term_info = get_bioportal_info(term_uri, onto_slug, BIOPORTAL_API_KEY)\n",
    "    term_info['curie'] = curie\n",
    "\n",
    "    if term_info[\"status\"] == \"success\":\n",
    "        del term_info[\"status\"]\n",
    "        try:\n",
    "            # Attempt to insert into MongoDB\n",
    "            target_collection.insert_one(term_info)\n",
    "\n",
    "        except DuplicateKeyError:\n",
    "            pass  # todo better handling/reporting\n",
    "\n",
    "        except Exception as e:\n",
    "            pass  # todo better handling/reporting\n",
    "\n",
    "# 50 minutes\n",
    "# retrieved 3768 from 4519"
   ],
   "id": "cee69c657d023de1",
   "outputs": [
    {
     "data": {
      "text/plain": [
       "Processing CURIEs:   0%|          | 0/4519 [00:00<?, ?it/s]"
      ],
      "application/vnd.jupyter.widget-view+json": {
       "version_major": 2,
       "version_minor": 0,
       "model_id": "5450eaaa8dc343b5b4787f6646840fec"
      }
     },
     "metadata": {},
     "output_type": "display_data"
    }
   ],
   "execution_count": 64
  },
  {
   "metadata": {
    "ExecuteTime": {
     "end_time": "2025-03-10T14:32:38.146968Z",
     "start_time": "2025-03-10T14:32:38.144189Z"
    }
   },
   "cell_type": "code",
   "source": "preferred_ontologies = set(small_high_impact_targets_lc) | set(other_targets_lc)",
   "id": "e3929feda2222eec",
   "outputs": [],
   "execution_count": 65
  },
  {
   "metadata": {
    "ExecuteTime": {
     "end_time": "2025-03-10T14:34:41.566597Z",
     "start_time": "2025-03-10T14:34:41.561980Z"
    }
   },
   "cell_type": "code",
   "source": "preferred_ontologies",
   "id": "76af4c68c5e01eef",
   "outputs": [
    {
     "data": {
      "text/plain": [
       "{'chebi',\n",
       " 'doid',\n",
       " 'dron',\n",
       " 'efo',\n",
       " 'envo',\n",
       " 'foodon',\n",
       " 'gaz',\n",
       " 'mmo',\n",
       " 'ncbitaxon',\n",
       " 'ohmi',\n",
       " 'opl',\n",
       " 'pato',\n",
       " 'pco',\n",
       " 'po',\n",
       " 'uberon'}"
      ]
     },
     "execution_count": 67,
     "metadata": {},
     "output_type": "execute_result"
    }
   ],
   "execution_count": 67
  },
  {
   "metadata": {},
   "cell_type": "markdown",
   "source": "Fetch documents where mappings_link exists and ontology_lc is in preferred ontologies",
   "id": "2dfdf83370502c58"
  },
  {
   "metadata": {
    "ExecuteTime": {
     "end_time": "2025-03-10T14:34:43.144192Z",
     "start_time": "2025-03-10T14:34:43.124776Z"
    }
   },
   "cell_type": "code",
   "source": [
    "docs = list(target_collection.find(\n",
    "    {\n",
    "        \"mappings_link\": {\"$exists\": True, \"$ne\": None},\n",
    "        \"ontology_lc\": {\"$nin\": list(preferred_ontologies)}  # Ensure lowercase matching\n",
    "    }\n",
    "))\n",
    "# .limit(100))"
   ],
   "id": "9ebfbbf076dc6b62",
   "outputs": [],
   "execution_count": 68
  },
  {
   "metadata": {
    "ExecuteTime": {
     "end_time": "2025-03-10T14:34:44.844280Z",
     "start_time": "2025-03-10T14:34:44.836585Z"
    }
   },
   "cell_type": "code",
   "source": [
    "# Function to fetch mappings from BioPortal\n",
    "def fetch_mappings(mappings_url):\n",
    "    \"\"\"Fetch mappings from BioPortal using mappings_link.\"\"\"\n",
    "    try:\n",
    "\n",
    "        # Properly append the API key based on the existing URL structure\n",
    "        if \"?\" in mappings_url:\n",
    "            mappings_url += f\"&apikey={BIOPORTAL_API_KEY}\"\n",
    "        else:\n",
    "            mappings_url += f\"?apikey={BIOPORTAL_API_KEY}\"\n",
    "\n",
    "        response = requests.get(mappings_url, timeout=10)\n",
    "        response.raise_for_status()\n",
    "        mappings_obj = response.json()\n",
    "\n",
    "        mappings_list = []\n",
    "        for item in mappings_obj:\n",
    "            if item.get(\"source\") == \"LOOM\":\n",
    "                for cls in item.get(\"classes\", []):\n",
    "                    # ontology_slug = cls[\"links\"][\"ontology\"].split(\"/\")[-1].lower()\n",
    "                    #\n",
    "                    # # Only store CURIE if mapped ontology is in the preferred list\n",
    "                    # if ontology_slug in preferred_ontologies:\n",
    "                    curie = converter.compress(cls[\"@id\"])\n",
    "                    if curie:\n",
    "                        curie_prefix = curie.split(\":\")[0].lower()\n",
    "                        if curie_prefix and curie_prefix in preferred_ontologies:  # Ensure CURIE conversion was successful\n",
    "                            mappings_list.append(curie)\n",
    "\n",
    "        return set(mappings_list)  # Return list of valid CURIE mappings\n",
    "\n",
    "    except requests.RequestException as e:\n",
    "        print(f\"Failed to fetch mappings from {mappings_url}: {e}\")\n",
    "        return []"
   ],
   "id": "83b92e6a9cad0eea",
   "outputs": [],
   "execution_count": 69
  },
  {
   "metadata": {},
   "cell_type": "markdown",
   "source": "Fetch mappings from asserted CURIes to CURIes from preferred ontologies",
   "id": "f827d11ca2c47f01"
  },
  {
   "metadata": {
    "ExecuteTime": {
     "end_time": "2025-03-10T14:34:57.732188Z",
     "start_time": "2025-03-10T14:34:51.536200Z"
    }
   },
   "cell_type": "code",
   "source": [
    "# Iterate through docs and fetch mappings where needed\n",
    "for doc in docs:\n",
    "    if doc.get(\"mappings_link\"):\n",
    "        temp_mappings = fetch_mappings(doc[\"mappings_link\"])\n",
    "        # print(f\"from {doc['curie']}/{doc['label']} to {temp_mappings}\")\n",
    "        if temp_mappings:\n",
    "            target_collection.update_one({\"_id\": doc[\"_id\"]},\n",
    "                                         {\"$set\": {\"preferred_mappings_curies\": list(temp_mappings)}})  # Update in DB\n",
    "\n",
    "# 45 minutes without cache\n",
    "# todo add tqdm\n",
    "# 7 seconds with cache"
   ],
   "id": "a90a77c656158637",
   "outputs": [],
   "execution_count": 70
  },
  {
   "metadata": {},
   "cell_type": "markdown",
   "source": "start to find the curies, from mapping asserted curies into preferred ontologies, that don't already have labels in the `target_collection` \"class_label_cache\"",
   "id": "df4f2a06226cfcaa"
  },
  {
   "metadata": {
    "ExecuteTime": {
     "end_time": "2025-03-10T14:36:34.803836Z",
     "start_time": "2025-03-10T14:36:34.773316Z"
    }
   },
   "cell_type": "code",
   "source": [
    "# Create a set of lowercase curies from the class_label_cache collection (where label exists)\n",
    "labelled_curies_set = {\n",
    "    doc[\"curie\"].lower() for doc in target_collection.find(\n",
    "        {\"label\": {\"$exists\": True, \"$ne\": \"\"}}, {\"curie\": 1}\n",
    "    ) if \"curie\" in doc\n",
    "}"
   ],
   "id": "4c66bf6645ea4eb7",
   "outputs": [],
   "execution_count": 71
  },
  {
   "metadata": {
    "ExecuteTime": {
     "end_time": "2025-03-10T14:36:35.255123Z",
     "start_time": "2025-03-10T14:36:35.251245Z"
    }
   },
   "cell_type": "code",
   "source": "len(labelled_curies_set)",
   "id": "bc0a76c504375c7f",
   "outputs": [
    {
     "data": {
      "text/plain": [
       "10068"
      ]
     },
     "execution_count": 72,
     "metadata": {},
     "output_type": "execute_result"
    }
   ],
   "execution_count": 72
  },
  {
   "metadata": {
    "ExecuteTime": {
     "end_time": "2025-03-10T14:36:35.764470Z",
     "start_time": "2025-03-10T14:36:35.751924Z"
    }
   },
   "cell_type": "code",
   "source": [
    "# Create a set of lowercase curies from the \"preferred_mappings_curies\" field\n",
    "preferred_mappings_curies_set = {\n",
    "    curie.lower() for doc in target_collection.find(\n",
    "        {\"preferred_mappings_curies\": {\"$exists\": True, \"$ne\": []}}, {\"preferred_mappings_curies\": 1}\n",
    "    ) for curie in doc[\"preferred_mappings_curies\"]\n",
    "}"
   ],
   "id": "c29a91f138e0985e",
   "outputs": [],
   "execution_count": 73
  },
  {
   "metadata": {
    "ExecuteTime": {
     "end_time": "2025-03-10T14:36:36.479824Z",
     "start_time": "2025-03-10T14:36:36.476081Z"
    }
   },
   "cell_type": "code",
   "source": "len(preferred_mappings_curies_set)",
   "id": "913e46351eded3f0",
   "outputs": [
    {
     "data": {
      "text/plain": [
       "697"
      ]
     },
     "execution_count": 74,
     "metadata": {},
     "output_type": "execute_result"
    }
   ],
   "execution_count": 74
  },
  {
   "metadata": {
    "ExecuteTime": {
     "end_time": "2025-03-10T14:36:41.408908Z",
     "start_time": "2025-03-10T14:36:41.405091Z"
    }
   },
   "cell_type": "code",
   "source": [
    "# Find values in preferred_mappings_curies that are NOT in curies_set\n",
    "# todo are we redefining unlabelleds here?\n",
    "unlabelleds = preferred_mappings_curies_set - labelled_curies_set"
   ],
   "id": "1c26ed8812f90af8",
   "outputs": [],
   "execution_count": 75
  },
  {
   "metadata": {
    "ExecuteTime": {
     "end_time": "2025-03-10T14:36:42.521511Z",
     "start_time": "2025-03-10T14:36:42.517279Z"
    }
   },
   "cell_type": "code",
   "source": "len(unlabelleds)",
   "id": "80bff2e6ba48843c",
   "outputs": [
    {
     "data": {
      "text/plain": [
       "428"
      ]
     },
     "execution_count": 76,
     "metadata": {},
     "output_type": "execute_result"
    }
   ],
   "execution_count": 76
  },
  {
   "metadata": {},
   "cell_type": "markdown",
   "source": [
    "Use the Bioportal API to get the label, synonyms, etc for the unlabelled CURIes mapped from the asserted curies\n",
    "\n",
    "Previous experience shows that these are almost all NON EnvO UCRIes"
   ],
   "id": "eb7cb2065663985d"
  },
  {
   "metadata": {
    "ExecuteTime": {
     "end_time": "2025-03-10T14:39:29.853294Z",
     "start_time": "2025-03-10T14:39:28.009099Z"
    }
   },
   "cell_type": "code",
   "source": [
    "# almost 100% duplicated code\n",
    "for curie in tqdm(unlabelleds, desc=\"Processing CURIEs\"):\n",
    "\n",
    "    # split the curie into the prefix and the local_id\n",
    "    onto_slug = curie.split(\":\")[0].upper()\n",
    "    term_uri = safe_expand(curie)\n",
    "    term_info = get_bioportal_info(term_uri, onto_slug, BIOPORTAL_API_KEY)\n",
    "    term_info['curie'] = converter.compress(term_uri)\n",
    "\n",
    "    if term_info[\"status\"] == \"success\":\n",
    "        del term_info[\"status\"]\n",
    "        try:\n",
    "            # Attempt to insert into MongoDB\n",
    "            target_collection.insert_one(term_info)\n",
    "\n",
    "        except DuplicateKeyError:\n",
    "            pass  # todo better handling/reporting\n",
    "\n",
    "        except Exception as e:\n",
    "            pass  # todo better handling/reporting\n"
   ],
   "id": "c13c0df2b77a76d3",
   "outputs": [
    {
     "data": {
      "text/plain": [
       "Processing CURIEs:   0%|          | 0/428 [00:00<?, ?it/s]"
      ],
      "application/vnd.jupyter.widget-view+json": {
       "version_major": 2,
       "version_minor": 0,
       "model_id": "0cd7fd5ce03c4d4ea3b100e08240d8f8"
      }
     },
     "metadata": {},
     "output_type": "display_data"
    }
   ],
   "execution_count": 78
  },
  {
   "metadata": {},
   "cell_type": "markdown",
   "source": "now create an oak lexical index from classes with precedent and do a non-whole word match",
   "id": "65099a2f90a00148"
  },
  {
   "metadata": {
    "ExecuteTime": {
     "end_time": "2025-03-10T14:42:44.284121Z",
     "start_time": "2025-03-10T14:42:44.281161Z"
    }
   },
   "cell_type": "code",
   "source": [
    "# Normalize text: lowercase and remove excess whitespace\n",
    "# todo this probably duplicates some other previous function\n",
    "def normalize(text):\n",
    "    return re.sub(r'\\s+', ' ', text.strip().lower())"
   ],
   "id": "304f27c6aa367a1b",
   "outputs": [],
   "execution_count": 83
  },
  {
   "metadata": {
    "ExecuteTime": {
     "end_time": "2025-03-10T14:42:44.837151Z",
     "start_time": "2025-03-10T14:42:44.833728Z"
    }
   },
   "cell_type": "code",
   "source": [
    "# Initialize index structure\n",
    "lexical_index = {\n",
    "    \"groupings\": {},\n",
    "    \"pipelines\": {\n",
    "        \"default\": {\n",
    "            \"name\": \"default\",\n",
    "            \"transformations\": [\n",
    "                {\"type\": \"CaseNormalization\"},\n",
    "                {\"type\": \"WhitespaceNormalization\"}\n",
    "            ]\n",
    "        }\n",
    "    }\n",
    "}"
   ],
   "id": "187570553c7ea1ad",
   "outputs": [],
   "execution_count": 84
  },
  {
   "metadata": {},
   "cell_type": "markdown",
   "source": [
    "class_label_cachePopulate the lexical_index dict's groupings with label, synonyms in `target_collection` \"class_label_cache\"\n",
    "\n",
    "TODO would ideally instantiate the index directly instead of treating it as a dict and yaml file first"
   ],
   "id": "8b558b60283115c4"
  },
  {
   "metadata": {
    "ExecuteTime": {
     "end_time": "2025-03-10T14:42:48.120044Z",
     "start_time": "2025-03-10T14:42:47.728580Z"
    }
   },
   "cell_type": "code",
   "source": [
    "# Process each document in MongoDB\n",
    "for doc in target_collection.find():\n",
    "    curie = doc[\"curie\"]\n",
    "    label = normalize(doc[\"label\"])\n",
    "    synonyms = [normalize(s) for s in doc.get(\"synonyms\", [])]\n",
    "\n",
    "    # Ensure label is in the groupings\n",
    "    if label not in lexical_index[\"groupings\"]:\n",
    "        lexical_index[\"groupings\"][label] = {\n",
    "            \"term\": label,\n",
    "            \"relationships\": []\n",
    "        }\n",
    "\n",
    "    # Add label relationship\n",
    "    lexical_index[\"groupings\"][label][\"relationships\"].append({\n",
    "        \"predicate\": \"rdfs:label\",\n",
    "        \"element\": curie,\n",
    "        \"element_term\": label,\n",
    "        \"pipeline\": [\"default\"],\n",
    "        \"synonymized\": False\n",
    "    })\n",
    "\n",
    "    # Process synonyms\n",
    "    for synonym in synonyms:\n",
    "        if synonym not in lexical_index[\"groupings\"]:\n",
    "            lexical_index[\"groupings\"][synonym] = {\n",
    "                \"term\": synonym,\n",
    "                \"relationships\": []\n",
    "            }\n",
    "\n",
    "        lexical_index[\"groupings\"][synonym][\"relationships\"].append({\n",
    "            \"predicate\": \"oio:hasRelatedSynonym\",\n",
    "            \"element\": curie,\n",
    "            \"element_term\": synonym,\n",
    "            \"pipeline\": [\"default\"],\n",
    "            \"synonymized\": False\n",
    "        })"
   ],
   "id": "6467e1bb783e730b",
   "outputs": [],
   "execution_count": 85
  },
  {
   "metadata": {
    "ExecuteTime": {
     "end_time": "2025-03-10T14:42:55.198671Z",
     "start_time": "2025-03-10T14:42:55.196058Z"
    }
   },
   "cell_type": "code",
   "source": [
    "# todo would ideally instantiate the index directly instead of treating it as a dict and yaml file first\n",
    "biosamples_env_triads_precedent_lexical_index_yaml = \"biosamples_env_triads_precedent_lexical_index.yaml\""
   ],
   "id": "65ac5ff5d483fe8f",
   "outputs": [],
   "execution_count": 86
  },
  {
   "metadata": {},
   "cell_type": "markdown",
   "source": "save the initial lexical index based on the documents in the `target_collection` \"class_label_cache\"",
   "id": "81ee1c1d5167865a"
  },
  {
   "metadata": {
    "ExecuteTime": {
     "end_time": "2025-03-10T14:43:11.081705Z",
     "start_time": "2025-03-10T14:42:58.694103Z"
    }
   },
   "cell_type": "code",
   "source": [
    "with open(biosamples_env_triads_precedent_lexical_index_yaml, \"w\") as f:\n",
    "    yaml.dump(lexical_index, f, default_flow_style=False, sort_keys=True)\n",
    "# 15 seconds"
   ],
   "id": "408e7a016c0061a7",
   "outputs": [],
   "execution_count": 87
  },
  {
   "metadata": {},
   "cell_type": "markdown",
   "source": "create an initial lexical index object",
   "id": "1a3ae9fed5f4bcef"
  },
  {
   "metadata": {
    "ExecuteTime": {
     "end_time": "2025-03-10T14:43:59.387762Z",
     "start_time": "2025-03-10T14:43:49.550715Z"
    }
   },
   "cell_type": "code",
   "source": [
    "biosamples_env_triads_precedent_lexical_index = load_lexical_index(biosamples_env_triads_precedent_lexical_index_yaml)\n",
    "# 20 seconds"
   ],
   "id": "86e4b683f8e2e0d",
   "outputs": [],
   "execution_count": 90
  },
  {
   "metadata": {},
   "cell_type": "markdown",
   "source": "create an initial TextAnnotatorInterface",
   "id": "2972923e6db3f5c2"
  },
  {
   "metadata": {
    "ExecuteTime": {
     "end_time": "2025-03-10T14:43:59.405609Z",
     "start_time": "2025-03-10T14:43:59.402871Z"
    }
   },
   "cell_type": "code",
   "source": [
    "# Initialize the TextAnnotatorInterface\n",
    "biosamples_env_triads_precedent_interface = TextAnnotatorInterface()\n",
    "biosamples_env_triads_precedent_interface.lexical_index = biosamples_env_triads_precedent_lexical_index\n"
   ],
   "id": "78ff234357d76fcd",
   "outputs": [],
   "execution_count": 91
  },
  {
   "metadata": {
    "ExecuteTime": {
     "end_time": "2025-03-10T14:44:12.891208Z",
     "start_time": "2025-03-10T14:44:12.882098Z"
    }
   },
   "cell_type": "code",
   "source": [
    "def optimize_annotations(annotations, preferred_ontologies, min_length=3, text=\"\"):\n",
    "    \"\"\"\n",
    "    Selects the minimal set of annotations that maximizes coverage of input text.\n",
    "    Returns the optimized annotations, uncovered text segments, and percent coverage.\n",
    "    \"\"\"\n",
    "    # Sort by longest span first (descending order)\n",
    "    annotations.sort(key=lambda a: (a.subject_end - a.subject_start), reverse=True)\n",
    "\n",
    "    selected_annotations = []\n",
    "    covered_intervals = []\n",
    "\n",
    "    for a in annotations:\n",
    "        prefix_of_mapped = a.object_id.split(\":\")[0].lower()\n",
    "        annotation_length = a.subject_end - a.subject_start\n",
    "\n",
    "        if prefix_of_mapped in preferred_ontologies and annotation_length >= min_length:\n",
    "            # Check if this annotation overlaps with already selected ones\n",
    "            overlap = any(start < a.subject_end and a.subject_start < end for start, end in covered_intervals)\n",
    "            if not overlap:\n",
    "                annotation_dict = {k: v for k, v in vars(a).items() if v}\n",
    "                selected_annotations.append(annotation_dict)\n",
    "                covered_intervals.append((a.subject_start, a.subject_end))\n",
    "\n",
    "    # SIMPLIFIED APPROACH: Ignore single-character uncovered segments for coverage calculation\n",
    "    uncovered_text = []\n",
    "\n",
    "    # Create a set of covered positions\n",
    "    covered_positions = set()\n",
    "    for start, end in covered_intervals:\n",
    "        covered_positions.update(range(start, end))\n",
    "\n",
    "    # Find uncovered non-whitespace positions and ignore isolated characters\n",
    "    non_whitespace_positions = set()\n",
    "    for i, char in enumerate(text):\n",
    "        if char.strip():  # Non-whitespace character\n",
    "            non_whitespace_positions.add(i)\n",
    "\n",
    "    uncovered_positions = non_whitespace_positions - covered_positions\n",
    "\n",
    "    # Only consider segments of two or more consecutive characters as \"uncovered\"\n",
    "    # (This ignores isolated characters like the \"h\", \"a\", \"h\" in your example)\n",
    "    if uncovered_positions:\n",
    "        sorted_positions = sorted(uncovered_positions)\n",
    "        current_segment = [sorted_positions[0]]\n",
    "\n",
    "        for pos in sorted_positions[1:]:\n",
    "            if pos == current_segment[-1] + 1:\n",
    "                current_segment.append(pos)\n",
    "            else:\n",
    "                # Only add segments with length >= 2\n",
    "                if len(current_segment) >= 2:\n",
    "                    segment_text = ''.join(text[i] for i in current_segment)\n",
    "                    uncovered_text.append(segment_text)\n",
    "                current_segment = [pos]\n",
    "\n",
    "        # Don't forget the last segment\n",
    "        if current_segment and len(current_segment) >= 2:\n",
    "            segment_text = ''.join(text[i] for i in current_segment)\n",
    "            uncovered_text.append(segment_text)\n",
    "\n",
    "    # Adjust coverage calculation to ignore single character \"gaps\"\n",
    "    single_char_positions = set()\n",
    "    for pos in uncovered_positions:\n",
    "        # Check if this is an isolated character\n",
    "        is_isolated = (pos-1 not in uncovered_positions) and (pos+1 not in uncovered_positions)\n",
    "        if is_isolated:\n",
    "            single_char_positions.add(pos)\n",
    "\n",
    "    # Consider single characters as \"covered\" for percentage calculation\n",
    "    adjusted_uncovered = uncovered_positions - single_char_positions\n",
    "    total_characters = len(non_whitespace_positions)\n",
    "    covered_characters = total_characters - len(adjusted_uncovered)\n",
    "    percent_coverage = (covered_characters / total_characters * 100) if total_characters > 0 else 0\n",
    "\n",
    "    return selected_annotations, uncovered_text, round(percent_coverage, 2)"
   ],
   "id": "24dd4edf4429204c",
   "outputs": [],
   "execution_count": 93
  },
  {
   "metadata": {},
   "cell_type": "markdown",
   "source": "annotate the `triad_components_labels_collection` \"triad_components_labels\" documents that don't have any oak_text_annotations or ols_text_annotations with the initial lexical index text annotator and find the best coverage terms",
   "id": "12e02a8be178e696"
  },
  {
   "metadata": {
    "ExecuteTime": {
     "end_time": "2025-03-10T14:46:46.925961Z",
     "start_time": "2025-03-10T14:44:15.931634Z"
    }
   },
   "cell_type": "code",
   "source": [
    "# Process triad_components_labels collection for missing annotations\n",
    "for doc in triad_components_labels_collection.find(\n",
    "        {\"oak_text_annotations\": {\"$exists\": False}, \"ols_text_annotations\": {\"$exists\": False}}):\n",
    "    component_label = doc.get(\"component_label\", \"\")\n",
    "\n",
    "    if component_label:\n",
    "        annotations = list(biosamples_env_triads_precedent_interface.annotate_text(component_label))\n",
    "        optimized_annotations, uncovered_segments, percent_coverage = optimize_annotations(annotations,\n",
    "                                                                                           preferred_ontologies,\n",
    "                                                                                           text=component_label)\n",
    "        if len(optimized_annotations) > 0:\n",
    "            # Update the document with the new field\n",
    "            triad_components_labels_collection.update_one(\n",
    "                {\"_id\": doc[\"_id\"]},\n",
    "                {\"$set\": {\n",
    "                    \"partial_matches_vs_precedent\": {\n",
    "                        \"partial_matches_vs_precedent\": optimized_annotations,\n",
    "                        \"uncovered_text_segments\": uncovered_segments,\n",
    "                        \"percent_coverage\": percent_coverage, }\n",
    "                }}\n",
    "            )\n",
    "\n",
    "# 3 minutes"
   ],
   "id": "a4186616d5948263",
   "outputs": [],
   "execution_count": 94
  },
  {
   "metadata": {},
   "cell_type": "markdown",
   "source": "fetch the spans that are still not annotated",
   "id": "5cb4481c1d9faf84"
  },
  {
   "metadata": {
    "ExecuteTime": {
     "end_time": "2025-03-10T14:48:25.484991Z",
     "start_time": "2025-03-10T14:48:25.482293Z"
    }
   },
   "cell_type": "code",
   "source": [
    "# Retrieve all uncovered_text_segments from the collection\n",
    "cursor = triad_components_labels_collection.find(\n",
    "    {\"partial_matches_vs_precedent.uncovered_text_segments\": {\"$exists\": True}},\n",
    "    {\"partial_matches_vs_precedent.uncovered_text_segments\": 1}\n",
    ")"
   ],
   "id": "6ba05b2eecfcba8e",
   "outputs": [],
   "execution_count": 95
  },
  {
   "metadata": {},
   "cell_type": "markdown",
   "source": [
    "do some stopword removal. see https://github.com/igorbrigadir/stopwords/blob/master/en_stopwords.csv\n",
    "\n",
    "may not want to remove negaters"
   ],
   "id": "5648ac2db753c353"
  },
  {
   "metadata": {
    "ExecuteTime": {
     "end_time": "2025-03-10T14:48:54.947954Z",
     "start_time": "2025-03-10T14:48:54.945220Z"
    }
   },
   "cell_type": "code",
   "source": [
    "# Set frequency threshold (change this value as needed)\n",
    "min_word_frequency = 3\n",
    "min_word_len = 3\n",
    "stopwords_url = \"https://raw.githubusercontent.com/igorbrigadir/stopwords/master/en/lexisnexis.txt\""
   ],
   "id": "3fea33e0f6802775",
   "outputs": [],
   "execution_count": 97
  },
  {
   "metadata": {
    "ExecuteTime": {
     "end_time": "2025-03-10T14:48:55.618637Z",
     "start_time": "2025-03-10T14:48:55.613968Z"
    }
   },
   "cell_type": "code",
   "source": [
    "# Fetch the stopword list from the URL\n",
    "response = requests.get(stopwords_url)"
   ],
   "id": "46684b0b24a179b3",
   "outputs": [],
   "execution_count": 98
  },
  {
   "metadata": {
    "ExecuteTime": {
     "end_time": "2025-03-10T14:48:57.372268Z",
     "start_time": "2025-03-10T14:48:57.369164Z"
    }
   },
   "cell_type": "code",
   "source": [
    "# Check if request was successful\n",
    "if response.status_code == 200:\n",
    "    # Process the stopwords: split by lines and remove empty entries\n",
    "    stop_words = set(response.text.splitlines())\n",
    "    stop_words.discard(\"\")  # Remove any empty strings from the set\n",
    "else:\n",
    "    print(\"Failed to fetch stopwords. HTTP Status Code:\", response.status_code)"
   ],
   "id": "923efa13886592c7",
   "outputs": [],
   "execution_count": 99
  },
  {
   "metadata": {},
   "cell_type": "markdown",
   "source": "Flatten all uncovered text segments/spans into a single list of words",
   "id": "68a5acf3f55b46e1"
  },
  {
   "metadata": {
    "ExecuteTime": {
     "end_time": "2025-03-10T14:49:32.833529Z",
     "start_time": "2025-03-10T14:49:32.831047Z"
    }
   },
   "cell_type": "code",
   "source": "all_uncovered_words = []",
   "id": "7735a72037adf1b",
   "outputs": [],
   "execution_count": 100
  },
  {
   "metadata": {
    "ExecuteTime": {
     "end_time": "2025-03-10T14:49:34.992558Z",
     "start_time": "2025-03-10T14:49:34.294824Z"
    }
   },
   "cell_type": "code",
   "source": [
    "for doc in cursor:\n",
    "    uncovered_segments = doc.get(\"partial_matches_vs_precedent\", {}).get(\"uncovered_text_segments\", [])\n",
    "    for segment in uncovered_segments:\n",
    "        words = segment.split()\n",
    "        for w in words:\n",
    "            if len(w) >= min_word_len and w not in stop_words:\n",
    "                all_uncovered_words.extend(words)"
   ],
   "id": "a4cd1d4277853e50",
   "outputs": [],
   "execution_count": 101
  },
  {
   "metadata": {},
   "cell_type": "markdown",
   "source": "Create a word frequency table",
   "id": "d779d18e34d178c6"
  },
  {
   "metadata": {
    "ExecuteTime": {
     "end_time": "2025-03-10T14:51:20.251130Z",
     "start_time": "2025-03-10T14:51:20.242644Z"
    }
   },
   "cell_type": "code",
   "source": "word_frequencies = Counter(all_uncovered_words)",
   "id": "c3b6e9f2db5eac75",
   "outputs": [],
   "execution_count": 107
  },
  {
   "metadata": {},
   "cell_type": "markdown",
   "source": [
    "Filter out words below the frequency threshold\n",
    "\n",
    "Create a dict of words from relevant uncovered spans, with their counts"
   ],
   "id": "4a903e7cb767ae5f"
  },
  {
   "metadata": {
    "ExecuteTime": {
     "end_time": "2025-03-10T14:51:21.325727Z",
     "start_time": "2025-03-10T14:51:21.321433Z"
    }
   },
   "cell_type": "code",
   "source": "filtered_frequencies = {word: count for word, count in word_frequencies.items() if count > min_word_frequency}\n",
   "id": "d3ddbac3f21b6a72",
   "outputs": [],
   "execution_count": 108
  },
  {
   "metadata": {
    "ExecuteTime": {
     "end_time": "2025-03-10T14:51:22.220950Z",
     "start_time": "2025-03-10T14:51:22.202081Z"
    }
   },
   "cell_type": "code",
   "source": "filtered_frequencies",
   "id": "5d12292f00990d2b",
   "outputs": [
    {
     "data": {
      "text/plain": [
       "{'tic': 72,\n",
       " 'pacific': 40,\n",
       " 'division': 7,\n",
       " 'fermented': 142,\n",
       " 'anthropogenic': 14,\n",
       " 'interface': 48,\n",
       " 'antarctic': 47,\n",
       " 'terrestial': 4,\n",
       " 'leaf': 25,\n",
       " 'plant': 417,\n",
       " 'managed': 14,\n",
       " 'meat': 35,\n",
       " 'culture': 197,\n",
       " 'hours': 8,\n",
       " 'gut': 340,\n",
       " 'product': 29,\n",
       " 'sub': 67,\n",
       " 'cultivated': 51,\n",
       " 'old': 92,\n",
       " 'growth': 55,\n",
       " 'arctic': 59,\n",
       " 'marine': 240,\n",
       " 'near': 133,\n",
       " 'granular': 46,\n",
       " 'warm': 13,\n",
       " 'sphere': 4,\n",
       " 'pecan': 5,\n",
       " 'rhizospheric': 35,\n",
       " 'swab': 178,\n",
       " 'sample': 460,\n",
       " 'rearing': 30,\n",
       " 'tank': 132,\n",
       " 'tundra': 20,\n",
       " 'beads': 12,\n",
       " 'store': 5,\n",
       " 'bag': 10,\n",
       " 'pre': 56,\n",
       " 'without': 101,\n",
       " 'seam': 8,\n",
       " 'gas': 16,\n",
       " 'formation': 18,\n",
       " 'gastrointestinal': 12,\n",
       " 'stic': 46,\n",
       " 'under': 100,\n",
       " 'chamber': 53,\n",
       " 'leaves': 76,\n",
       " 'samples': 149,\n",
       " 'hypersaline': 39,\n",
       " 'reactor': 219,\n",
       " 'ling': 7,\n",
       " 'produced': 23,\n",
       " 'bed': 70,\n",
       " 'site': 187,\n",
       " 'degrading': 17,\n",
       " 'region': 154,\n",
       " 'gene': 14,\n",
       " 'ally': 13,\n",
       " 'induced': 21,\n",
       " 'naturally': 19,\n",
       " 'collection': 42,\n",
       " 'phyllosphere': 17,\n",
       " 'paddy': 27,\n",
       " 'sea': 206,\n",
       " 'disturbed': 9,\n",
       " 'laboratory': 152,\n",
       " 'center': 44,\n",
       " 'depleted': 7,\n",
       " 'fermentation': 134,\n",
       " 'mat': 37,\n",
       " 'negative': 92,\n",
       " 'mangrove': 46,\n",
       " 'chlorpyrifos': 12,\n",
       " 'resistant': 16,\n",
       " 'reared': 21,\n",
       " 'communities': 31,\n",
       " 'barren': 7,\n",
       " 'subterrestrial': 4,\n",
       " 'close': 21,\n",
       " 'level': 19,\n",
       " 'ice': 59,\n",
       " 'urban': 70,\n",
       " 'influent': 53,\n",
       " 'regions': 13,\n",
       " 'ing': 267,\n",
       " 'outfall': 5,\n",
       " 'lower': 48,\n",
       " 'semi': 89,\n",
       " 'natural': 137,\n",
       " 'low': 97,\n",
       " 'alpine': 4,\n",
       " 'digested': 15,\n",
       " 'fuel': 32,\n",
       " 'waste': 95,\n",
       " 'amazon': 20,\n",
       " 'wet': 49,\n",
       " 'dry': 108,\n",
       " 'pine': 94,\n",
       " 'muricata': 5,\n",
       " 'high': 155,\n",
       " 'filtered': 26,\n",
       " 'pelagic': 25,\n",
       " 'days': 99,\n",
       " 'germination': 4,\n",
       " 'away': 13,\n",
       " 'genate': 11,\n",
       " 'gassy': 4,\n",
       " 'mine': 5,\n",
       " 'commercial': 52,\n",
       " 'north': 69,\n",
       " 'gyre': 4,\n",
       " 'non': 140,\n",
       " 'pbs': 15,\n",
       " 'forest': 5,\n",
       " 'terrestrial': 50,\n",
       " 'sap': 6,\n",
       " 'intermediate': 8,\n",
       " 'solar': 19,\n",
       " 'rust': 9,\n",
       " 'formed': 6,\n",
       " 'hot': 48,\n",
       " 'humic': 8,\n",
       " 'atlantic': 64,\n",
       " 'sampled': 23,\n",
       " 'within': 18,\n",
       " 'dna': 112,\n",
       " 'cells': 41,\n",
       " 'generated': 5,\n",
       " 'seagrass': 22,\n",
       " 'hardwood': 14,\n",
       " 'trees': 43,\n",
       " 'impoundment': 5,\n",
       " 'patch': 26,\n",
       " 'spruce': 36,\n",
       " 'zone': 149,\n",
       " 'intertidal': 38,\n",
       " 'phragmites': 5,\n",
       " 'spartina': 23,\n",
       " 'effluent': 88,\n",
       " 'amplicons': 4,\n",
       " 'obtained': 21,\n",
       " 'using': 22,\n",
       " 'total': 11,\n",
       " 'extracted': 40,\n",
       " 'inland': 18,\n",
       " 'grass': 70,\n",
       " 'influenced': 8,\n",
       " 'production': 93,\n",
       " 'digesta': 23,\n",
       " 'cedar': 4,\n",
       " 'electron': 9,\n",
       " 'nitrate': 20,\n",
       " 'abandoned': 33,\n",
       " 'shell': 19,\n",
       " 'ered': 6,\n",
       " 'wastewater': 201,\n",
       " 'subsurface': 60,\n",
       " 'cat': 9,\n",
       " 'faecal': 22,\n",
       " 'enclosed': 5,\n",
       " 'medium': 208,\n",
       " 'rna': 13,\n",
       " 'submerged': 11,\n",
       " 'debris': 10,\n",
       " 'xeric': 14,\n",
       " 'diffuse': 11,\n",
       " 'water': 72,\n",
       " 'endosphere': 28,\n",
       " 'reclaimed': 11,\n",
       " 'intestinal': 67,\n",
       " 'collected': 209,\n",
       " 'ileal': 15,\n",
       " 'junction': 7,\n",
       " 'land': 100,\n",
       " 'pig': 91,\n",
       " 'guts': 14,\n",
       " 'large': 26,\n",
       " 'fraction': 33,\n",
       " 'metatranscriptome': 13,\n",
       " 'wilt': 14,\n",
       " 'gradient': 7,\n",
       " 'related': 6,\n",
       " 'tree': 156,\n",
       " 'plot': 51,\n",
       " 'air': 71,\n",
       " 'usa': 9,\n",
       " 'amd': 5,\n",
       " 'next': 11,\n",
       " 'inside': 37,\n",
       " 'heavy': 10,\n",
       " 'german': 4,\n",
       " 'mycobiome': 11,\n",
       " 'test': 86,\n",
       " 'clean': 12,\n",
       " 'removal': 18,\n",
       " 'specific': 9,\n",
       " 'free': 46,\n",
       " 'template': 16,\n",
       " 'not': 27,\n",
       " 'subjected': 5,\n",
       " 'amplification': 7,\n",
       " 'only': 24,\n",
       " 'pcr': 44,\n",
       " 'mda': 5,\n",
       " 'displacement': 13,\n",
       " 'moist': 32,\n",
       " 'present': 11,\n",
       " 'fecal': 130,\n",
       " 'diversity': 8,\n",
       " 'industrial': 33,\n",
       " 'thaw': 9,\n",
       " 'anode': 33,\n",
       " 'generalist': 4,\n",
       " 'emerged': 5,\n",
       " 'wasp': 9,\n",
       " 'wood': 19,\n",
       " 'united': 5,\n",
       " 'medical': 9,\n",
       " 'device': 4,\n",
       " 'magnetite': 5,\n",
       " 'sequencing': 37,\n",
       " 'top': 78,\n",
       " 'middle': 57,\n",
       " 'coral': 73,\n",
       " 'filling': 4,\n",
       " 'material': 86,\n",
       " 'loess': 5,\n",
       " 'vegetation': 33,\n",
       " 'cow': 69,\n",
       " 'ruminal': 7,\n",
       " 'digester': 90,\n",
       " 'municipal': 40,\n",
       " 'lab': 126,\n",
       " 'community': 313,\n",
       " 'continuous': 23,\n",
       " 'higher': 8,\n",
       " 'jinhua': 6,\n",
       " 'lived': 12,\n",
       " 'own': 12,\n",
       " 'fed': 126,\n",
       " 'mother': 9,\n",
       " 'yorkshire': 9,\n",
       " 'sow': 6,\n",
       " 'addition': 33,\n",
       " 'initial': 21,\n",
       " 'methanogenic': 23,\n",
       " 'stable': 7,\n",
       " 'submarine': 9,\n",
       " 'year': 53,\n",
       " 'weeks': 19,\n",
       " 'month': 28,\n",
       " 'months': 71,\n",
       " 'spiked': 30,\n",
       " 'haga': 8,\n",
       " 'upvc': 4,\n",
       " 'upvcspiked': 4,\n",
       " 'upvcand': 4,\n",
       " 'marsh': 16,\n",
       " 'amplicon': 6,\n",
       " 'conifer': 20,\n",
       " 'mariculture': 9,\n",
       " 'estuarine': 41,\n",
       " 'cell': 75,\n",
       " 'line': 64,\n",
       " 'yellow': 39,\n",
       " 'lot': 13,\n",
       " 'tick': 17,\n",
       " 'distribution': 19,\n",
       " 'eutrophic': 8,\n",
       " 'penguin': 9,\n",
       " 'fiber': 16,\n",
       " 'laryngeal': 4,\n",
       " 'swabs': 33,\n",
       " 'patients': 25,\n",
       " 'mid': 49,\n",
       " 'crown': 11,\n",
       " 'sampling': 41,\n",
       " 'ear': 15,\n",
       " 'farm': 6,\n",
       " 'digestion': 35,\n",
       " 'off': 20,\n",
       " 'enrichment': 64,\n",
       " 'sorted': 9,\n",
       " 'prochlorococcus': 5,\n",
       " 'rep': 40,\n",
       " 'synechococcus': 5,\n",
       " 'bulk': 42,\n",
       " 'cultures': 17,\n",
       " 'oily': 8,\n",
       " 'sclerophyll': 5,\n",
       " 'oral': 65,\n",
       " 'population': 10,\n",
       " 'yal': 4,\n",
       " 'catfish': 4,\n",
       " 'feature': 13,\n",
       " 'ation': 16,\n",
       " 'located': 31,\n",
       " 'originally': 9,\n",
       " 'brazilian': 19,\n",
       " 'florest': 4,\n",
       " 'acacia': 14,\n",
       " 'mangium': 6,\n",
       " 'logged': 6,\n",
       " 'sequence': 6,\n",
       " 'retama': 5,\n",
       " 'annual': 15,\n",
       " 'sterilized': 31,\n",
       " 'before': 36,\n",
       " 'inoculated': 45,\n",
       " 'extracts': 12,\n",
       " 'minimum': 8,\n",
       " 'bay': 37,\n",
       " 'tsuen': 4,\n",
       " 'wan': 5,\n",
       " 'kwun': 4,\n",
       " 'tong': 4,\n",
       " 'rail': 9,\n",
       " 'tseung': 4,\n",
       " 'kwan': 4,\n",
       " 'shan': 4,\n",
       " 'oil': 122,\n",
       " 'mar': 4,\n",
       " 'among': 15,\n",
       " 'port': 11,\n",
       " 'onr': 5,\n",
       " 'ammonium': 19,\n",
       " 'max': 5,\n",
       " 'biom': 40,\n",
       " 'full': 18,\n",
       " 'primary': 9,\n",
       " 'back': 5,\n",
       " 'infected': 84,\n",
       " 'used': 24,\n",
       " 'inoculate': 7,\n",
       " 'specimens': 5,\n",
       " 'ebpr': 5,\n",
       " 'for': 165,\n",
       " 'form': 5,\n",
       " 'microbial': 111,\n",
       " 'constructed': 47,\n",
       " 'added': 15,\n",
       " 'unplanted': 9,\n",
       " 'planted': 18,\n",
       " 'picea': 12,\n",
       " 'vine': 42,\n",
       " 'brackish': 24,\n",
       " 'after': 202,\n",
       " 'years': 21,\n",
       " 'ping': 38,\n",
       " 'altitude': 17,\n",
       " 'oak': 34,\n",
       " 'transect': 7,\n",
       " 'zhengzhou': 4,\n",
       " 'deposit': 17,\n",
       " 'inner': 22,\n",
       " 'between': 21,\n",
       " 'outer': 14,\n",
       " 'one': 30,\n",
       " 'overlying': 4,\n",
       " 'corbicular': 4,\n",
       " 'anoxic': 45,\n",
       " 'rich': 60,\n",
       " 'hens': 4,\n",
       " 'probiotic': 8,\n",
       " 'wild': 48,\n",
       " 'planting': 34,\n",
       " 'injection': 24,\n",
       " 'oilfield': 7,\n",
       " 'cryoconite': 9,\n",
       " 'phototrophic': 4,\n",
       " 'red': 58,\n",
       " 'douglas': 4,\n",
       " 'fir': 20,\n",
       " 'half': 7,\n",
       " 'lee': 5,\n",
       " 'soft': 92,\n",
       " 'sodic': 4,\n",
       " 'pipe': 21,\n",
       " 'hydrothermal': 39,\n",
       " 'long': 31,\n",
       " 'term': 25,\n",
       " 'during': 46,\n",
       " 'mud': 104,\n",
       " 'sponge': 31,\n",
       " 'raw': 62,\n",
       " 'ewe': 5,\n",
       " 'ning': 12,\n",
       " 'anammox': 19,\n",
       " 'great': 23,\n",
       " 'ern': 62,\n",
       " 'america': 5,\n",
       " 'rdna': 10,\n",
       " 'wastes': 11,\n",
       " 'original': 14,\n",
       " 'extract': 19,\n",
       " 'traditional': 25,\n",
       " 'upflow': 10,\n",
       " 'single': 54,\n",
       " 'designated': 6,\n",
       " 'bbe': 5,\n",
       " 'gastric': 16,\n",
       " 'materia': 6,\n",
       " 'agricultural': 69,\n",
       " 'coniferous': 15,\n",
       " 'over': 23,\n",
       " 'thick': 11,\n",
       " 'thin': 7,\n",
       " 'melt': 7,\n",
       " 'milliq': 4,\n",
       " 'hard': 18,\n",
       " 'deposits': 13,\n",
       " 'meter': 8,\n",
       " 'cast': 8,\n",
       " 'column': 15,\n",
       " 'around': 26,\n",
       " 'degree': 8,\n",
       " 'nasal': 33,\n",
       " 'model': 10,\n",
       " 'thermophilic': 29,\n",
       " 'mesophilic': 23,\n",
       " 'upper': 47,\n",
       " 'age': 37,\n",
       " 'ment': 4,\n",
       " 'bearing': 9,\n",
       " 'health': 20,\n",
       " 'tce': 5,\n",
       " 'cline': 5,\n",
       " 'foam': 9,\n",
       " 'side': 20,\n",
       " 'winter': 37,\n",
       " 'decidious': 6,\n",
       " 'different': 16,\n",
       " 'rat': 47,\n",
       " 'conventional': 21,\n",
       " 'gileppe': 9,\n",
       " 'april': 20,\n",
       " 'july': 13,\n",
       " 'october': 18,\n",
       " 'rome': 10,\n",
       " 'feronval': 9,\n",
       " 'former': 18,\n",
       " 'hydrolytic': 4,\n",
       " 'digesters': 6,\n",
       " 'fermenter': 11,\n",
       " 'semiarid': 10,\n",
       " 'endophytic': 32,\n",
       " 'beech': 30,\n",
       " 'mock': 22,\n",
       " 'mass': 6,\n",
       " 'matter': 19,\n",
       " 'birch': 12,\n",
       " 'ous': 19,\n",
       " 'station': 49,\n",
       " 'confined': 4,\n",
       " 'chinensis': 10,\n",
       " 'live': 14,\n",
       " 'highly': 12,\n",
       " 'chinese': 23,\n",
       " 'fine': 18,\n",
       " 'whillans': 4,\n",
       " 'healthy': 81,\n",
       " 'broncho': 5,\n",
       " 'alveolar': 12,\n",
       " 'ier': 18,\n",
       " 'reference': 11,\n",
       " 'incubation': 57,\n",
       " 'living': 25,\n",
       " '¡°a¡±': 6,\n",
       " 'summer': 37,\n",
       " 'stransition': 6,\n",
       " 'alterniflora': 15,\n",
       " '¡°b¡±': 6,\n",
       " 'ticks': 11,\n",
       " 'oxidizing': 13,\n",
       " 'ized': 36,\n",
       " 'ectomycorrhizal': 4,\n",
       " 'cathode': 16,\n",
       " 'anal': 6,\n",
       " 'dog': 38,\n",
       " 'deer': 10,\n",
       " 'hour': 5,\n",
       " 'composite': 9,\n",
       " 'brazil': 6,\n",
       " 'deciduous': 39,\n",
       " 'philic': 10,\n",
       " 'uncultured': 6,\n",
       " 'fixing': 7,\n",
       " 'denitrification': 6,\n",
       " 'patient': 78,\n",
       " 'treated': 146,\n",
       " 'incubated': 53,\n",
       " 'permanent': 9,\n",
       " 'native': 32,\n",
       " 'leg': 10,\n",
       " 'eggs': 8,\n",
       " 'stink': 4,\n",
       " 'derived': 34,\n",
       " 'antarctica': 8,\n",
       " 'maritime': 5,\n",
       " 'acropora': 6,\n",
       " 'damicornis': 5,\n",
       " 'situ': 8,\n",
       " 'dominated': 29,\n",
       " 'baikal': 6,\n",
       " 'simulated': 9,\n",
       " 'geothermal': 31,\n",
       " 'unit': 13,\n",
       " 'subject': 22,\n",
       " 'yangtze': 10,\n",
       " 'ers': 9,\n",
       " 'closed': 23,\n",
       " 'nearshore': 14,\n",
       " 'suspended': 28,\n",
       " 'biological': 35,\n",
       " 'treating': 30,\n",
       " 'transfer': 6,\n",
       " 'stone': 29,\n",
       " 'cake': 7,\n",
       " 'wine': 19,\n",
       " 'spoiled': 7,\n",
       " 'type': 22,\n",
       " 'korean': 11,\n",
       " 'fermenting': 12,\n",
       " 'cellar': 4,\n",
       " 'discharge': 21,\n",
       " 'mix': 41,\n",
       " 'mesopelagic': 6,\n",
       " 'oligotrophic': 13,\n",
       " 'wasterwater': 7,\n",
       " 'thai': 5,\n",
       " 'subseafloor': 10,\n",
       " 'severe': 4,\n",
       " 'bacteriome': 9,\n",
       " 'outflow': 12,\n",
       " 'reactors': 17,\n",
       " 'lice': 7,\n",
       " 'polluted': 54,\n",
       " 'tidal': 23,\n",
       " 'growing': 30,\n",
       " 'termite': 8,\n",
       " 'worker': 6,\n",
       " 'decanter': 5,\n",
       " 'circuit': 13,\n",
       " 'husb': 4,\n",
       " 'pcb': 10,\n",
       " 'decay': 5,\n",
       " 'coarse': 15,\n",
       " 'ter': 29,\n",
       " 'typical': 7,\n",
       " 'filter': 60,\n",
       " 'finished': 4,\n",
       " 'aerial': 5,\n",
       " 'envo': 136,\n",
       " 'mfc': 9,\n",
       " 'anodic': 6,\n",
       " 'erosa': 5,\n",
       " 'extremely': 4,\n",
       " 'evergreen': 31,\n",
       " 'sewer': 8,\n",
       " 'main': 15,\n",
       " 'stratified': 4,\n",
       " 'fat': 13,\n",
       " 'protein': 12,\n",
       " 'saffron': 6,\n",
       " 'heap': 11,\n",
       " 'wildtype': 4,\n",
       " 'yellowstone': 4,\n",
       " 'miex': 4,\n",
       " 'gac': 4,\n",
       " 'tropic': 4,\n",
       " 'including': 10,\n",
       " 'hog': 4,\n",
       " 'saturated': 6,\n",
       " 'hyperalkaline': 8,\n",
       " 'alluvial': 6,\n",
       " 'epiphyte': 7,\n",
       " 'atta': 4,\n",
       " 'agricultral': 4,\n",
       " 'osphere': 5,\n",
       " 'producing': 14,\n",
       " 'surrounding': 21,\n",
       " 'fertilized': 19,\n",
       " 'unfertilized': 12,\n",
       " 'wash': 10,\n",
       " 'panax': 9,\n",
       " 'notoginseng': 5,\n",
       " 'ash': 9,\n",
       " 'willow': 12,\n",
       " 'bio': 11,\n",
       " 'dried': 24,\n",
       " 'floating': 6,\n",
       " 'less': 16,\n",
       " 'electrolysis': 10,\n",
       " 'bog': 32,\n",
       " 'poa': 4,\n",
       " 'cathodic': 9,\n",
       " 'microorganisms': 19,\n",
       " 'electrolyte': 5,\n",
       " 'consortium': 5,\n",
       " 'supply': 9,\n",
       " 'network': 7,\n",
       " 'costal': 19,\n",
       " 'oxic': 10,\n",
       " 'sod': 4,\n",
       " 'digestor': 5,\n",
       " 'increased': 6,\n",
       " 'university': 31,\n",
       " 'rotten': 21,\n",
       " 'anearobic': 4,\n",
       " 'grade': 5,\n",
       " 'vitro': 27,\n",
       " 'activated': 29,\n",
       " 'filled': 7,\n",
       " 'front': 8,\n",
       " 'caribbean': 6,\n",
       " 'ferrihydrite': 4,\n",
       " 'brush': 16,\n",
       " 'ontal': 12,\n",
       " 'ypelagic': 6,\n",
       " 'pristine': 10,\n",
       " 'andean': 12,\n",
       " 'mesic': 18,\n",
       " 'alnus': 4,\n",
       " 'rubra': 6,\n",
       " 'monsoon': 24,\n",
       " 'partial': 5,\n",
       " 'nitrification': 5,\n",
       " 'min': 6,\n",
       " 'granules': 5,\n",
       " 'rotting': 11,\n",
       " 'topography': 4,\n",
       " 'viral': 10,\n",
       " 'aerated': 17,\n",
       " 'filtrate': 5,\n",
       " 'ton': 7,\n",
       " 'sip': 12,\n",
       " 'calcite': 6,\n",
       " 'chimney': 17,\n",
       " 'florida': 7,\n",
       " 'felt': 5,\n",
       " 'supernatant': 8,\n",
       " 'rapid': 15,\n",
       " 'active': 32,\n",
       " 'field': 14,\n",
       " 'department': 4,\n",
       " 'made': 19,\n",
       " 'developed': 4,\n",
       " 'slightly': 8,\n",
       " 'stored': 23,\n",
       " 'impacted': 10,\n",
       " 'santa': 7,\n",
       " 'sulfidic': 16,\n",
       " 'sampleo': 9,\n",
       " 'fromo': 9,\n",
       " 'supershedder': 9,\n",
       " 'bare': 18,\n",
       " 'early': 8,\n",
       " 'moss': 26,\n",
       " 'soil': 57,\n",
       " 'bloom': 19,\n",
       " 'care': 10,\n",
       " 'aborted': 4,\n",
       " 'new': 28,\n",
       " 'nurse': 5,\n",
       " 'previously': 5,\n",
       " 'grasses': 4,\n",
       " 'tip': 12,\n",
       " 'ginseng': 12,\n",
       " 'river': 6,\n",
       " 'ornamental': 4,\n",
       " 'buds': 4,\n",
       " 'timber': 5,\n",
       " 'needles': 8,\n",
       " 'pea': 11,\n",
       " 'common': 19,\n",
       " 'filters': 5,\n",
       " 'works': 7,\n",
       " 'can': 6,\n",
       " 'below': 17,\n",
       " 'artesian': 5,\n",
       " 'bore': 8,\n",
       " 'indoor': 24,\n",
       " 'pot': 34,\n",
       " 'november': 7,\n",
       " 'assembly': 5,\n",
       " 'nearby': 6,\n",
       " 'ancient': 10,\n",
       " 'tanks': 15,\n",
       " 'taken': 20,\n",
       " 'through': 13,\n",
       " 'two': 25,\n",
       " 'ecological': 10,\n",
       " 'five': 10,\n",
       " 'bee': 29,\n",
       " 'three': 29,\n",
       " 'dam': 12,\n",
       " 'along': 16,\n",
       " 'affected': 18,\n",
       " 'feb': 7,\n",
       " 'hypo': 10,\n",
       " 'big': 7,\n",
       " 'epi': 10,\n",
       " 'aug': 5,\n",
       " 'sep': 6,\n",
       " 'oct': 7,\n",
       " 'nov': 5,\n",
       " 'indian': 14,\n",
       " 'belt': 9,\n",
       " 'grandis': 14,\n",
       " 'crude': 6,\n",
       " 'extreme': 6,\n",
       " 'first': 61,\n",
       " 'internal': 23,\n",
       " 'benthic': 33,\n",
       " 'fungal': 99,\n",
       " 'shochu': 7,\n",
       " 'residue': 9,\n",
       " 'machine': 7,\n",
       " 'grown': 53,\n",
       " 'seals': 11,\n",
       " 'reducing': 17,\n",
       " 'â¡ã¦': 7,\n",
       " 'loading': 4,\n",
       " 'cod': 4,\n",
       " 'aspirate': 19,\n",
       " 'aspen': 10,\n",
       " 'fucus': 4,\n",
       " 'malawi': 8,\n",
       " 'agave': 7,\n",
       " 'warming': 5,\n",
       " 'containing': 43,\n",
       " 'dss': 7,\n",
       " 'rotted': 5,\n",
       " 'pure': 17,\n",
       " 'infusion': 7,\n",
       " 'qinghai': 12,\n",
       " 'earth': 7,\n",
       " 'equipment': 8,\n",
       " 'reef': 7,\n",
       " 'rural': 10,\n",
       " 'stimulatied': 4,\n",
       " 'steep': 8,\n",
       " 'concentration': 27,\n",
       " 'kernel': 5,\n",
       " 'france': 6,\n",
       " 'plots': 12,\n",
       " 'cyst': 5,\n",
       " 'acute': 5,\n",
       " 'cultivation': 30,\n",
       " 'development': 4,\n",
       " 'extraction': 68,\n",
       " 'uasb': 10,\n",
       " 'man': 8,\n",
       " 'peri': 6,\n",
       " 'implant': 4,\n",
       " 'mean': 5,\n",
       " 'about': 65,\n",
       " 'beneath': 9,\n",
       " 'captive': 7,\n",
       " 'drill': 5,\n",
       " 'tea': 40,\n",
       " 'irrigated': 13,\n",
       " 'forefield': 8,\n",
       " 'drilling': 11,\n",
       " 'artifical': 9,\n",
       " 'pretreated': 7,\n",
       " 'continental': 20,\n",
       " 'activate': 4,\n",
       " 'alkaline': 6,\n",
       " 'biowaste': 18,\n",
       " 'uncontrolled': 6,\n",
       " 'dialysis': 7,\n",
       " 'martian': 9,\n",
       " 'subgingival': 11,\n",
       " 'chronic': 6,\n",
       " 'surrounded': 7,\n",
       " 'suburban': 11,\n",
       " 'needle': 4,\n",
       " 'cadmium': 5,\n",
       " 'electricity': 4,\n",
       " 'eco': 4,\n",
       " 'ant': 17,\n",
       " 'fragments': 6,\n",
       " 'reed': 8,\n",
       " 'bug': 8,\n",
       " 'xylose': 4,\n",
       " 'minimal': 16,\n",
       " 'child': 11,\n",
       " 'urized': 7,\n",
       " 'spontaneous': 4,\n",
       " 'mutant': 7,\n",
       " 'granule': 5,\n",
       " 'japanese': 11,\n",
       " 'subterranean': 5,\n",
       " 'denitrifying': 5,\n",
       " 'phenol': 6,\n",
       " 'purified': 8,\n",
       " 'spf': 22,\n",
       " 'lactic': 4,\n",
       " 'shed': 12,\n",
       " 'products': 9,\n",
       " 'pile': 13,\n",
       " 'lands': 5,\n",
       " 'copepod': 6,\n",
       " 'scape': 19,\n",
       " 'tibet': 8,\n",
       " 'edge': 35,\n",
       " 'riparian': 18,\n",
       " 'maple': 5,\n",
       " 'chongqing': 4,\n",
       " 'grana': 16,\n",
       " 'padano': 17,\n",
       " 'lysozime': 15,\n",
       " 'diesel': 4,\n",
       " 'meters': 13,\n",
       " 'flask': 9,\n",
       " 'influence': 4,\n",
       " 'sheltered': 5,\n",
       " 'pore': 6,\n",
       " 'size': 6,\n",
       " 'connected': 4,\n",
       " 'but': 18,\n",
       " 'nam': 4,\n",
       " 'grazed': 7,\n",
       " 'flies': 8,\n",
       " 'patula': 5,\n",
       " 'lowland': 23,\n",
       " 'pesticide': 9,\n",
       " 'kit': 22,\n",
       " 'pyrene': 6,\n",
       " 'sodium': 7,\n",
       " 'inoculum': 22,\n",
       " 'nut': 15,\n",
       " 'chemical': 22,\n",
       " 'underside': 4,\n",
       " 'endotracheal': 7,\n",
       " 'japonica': 5,\n",
       " 'basal': 12,\n",
       " 'crease': 6,\n",
       " 'run': 15,\n",
       " 'var': 5,\n",
       " 'agp': 4,\n",
       " 'family': 8,\n",
       " 'dependent': 4,\n",
       " 'stock': 13,\n",
       " 'viruses': 8,\n",
       " 'unfiltered': 5,\n",
       " 'decaying': 17,\n",
       " 'recirculating': 12,\n",
       " 'number': 5,\n",
       " 'eye': 17,\n",
       " 'surgical': 10,\n",
       " 'tide': 5,\n",
       " 'logs': 5,\n",
       " 'colorectal': 6,\n",
       " 'worm': 7,\n",
       " 'hyper': 6,\n",
       " 'density': 6,\n",
       " 'sweet': 18,\n",
       " 'ward': 5,\n",
       " 'adhered': 6,\n",
       " 'hed': 7,\n",
       " 'mulching': 4,\n",
       " 'leaved': 20,\n",
       " 'calcined': 4,\n",
       " 'cstr': 10,\n",
       " 'icus': 5,\n",
       " 'texas': 4,\n",
       " 'horizon': 8,\n",
       " 'inetstinal': 6,\n",
       " 'prior': 11,\n",
       " 'partially': 4,\n",
       " 'consuming': 4,\n",
       " 'blight': 10,\n",
       " 'lesion': 18,\n",
       " 'fur': 14,\n",
       " 'duodenal': 7,\n",
       " 'sticated': 6,\n",
       " 'volcanic': 17,\n",
       " 'gold': 12,\n",
       " 'ore': 8,\n",
       " 'fibre': 8,\n",
       " 'sulphide': 4,\n",
       " 'packing': 4,\n",
       " 'hrt': 10,\n",
       " 'seminatural': 4,\n",
       " 'cut': 7,\n",
       " 'second': 56,\n",
       " 'grazing': 6,\n",
       " 'restoration': 4,\n",
       " 'selection': 7,\n",
       " 'harvested': 6,\n",
       " 'electrode': 14,\n",
       " 'strength': 5,\n",
       " 'bacillus': 7,\n",
       " 'moving': 10,\n",
       " 'blanket': 5,\n",
       " 'benthos': 4,\n",
       " 'dead': 26,\n",
       " 'prepacked': 4,\n",
       " 'defective': 4,\n",
       " 'good': 5,\n",
       " 'preterm': 7,\n",
       " 'urinary': 4,\n",
       " 'rectal': 14,\n",
       " 'spa': 5,\n",
       " 'spots': 4,\n",
       " 'floor': 32,\n",
       " 'cows': 4,\n",
       " 'solarization': 6,\n",
       " 'amendment': 7,\n",
       " 'surficial': 4,\n",
       " 'contains': 6,\n",
       " 'san': 9,\n",
       " 'specimen': 20,\n",
       " 'diatom': 4,\n",
       " 'worms': 6,\n",
       " 'piece': 5,\n",
       " 'maintained': 6,\n",
       " 'baby': 7,\n",
       " 'structure': 15,\n",
       " 'fly': 18,\n",
       " 'operating': 8,\n",
       " 'untreated': 12,\n",
       " 'final': 11,\n",
       " 'fish': 4,\n",
       " 'effects': 4,\n",
       " 'budworm': 4,\n",
       " 'borer': 5,\n",
       " 'packaged': 9,\n",
       " 'african': 15,\n",
       " 'jeju': 4,\n",
       " 'tillage': 6,\n",
       " 'cerrado': 9,\n",
       " 'adjacent': 21,\n",
       " 'compartment': 12,\n",
       " 'plus': 7,\n",
       " 'inorganic': 9,\n",
       " 'cereal': 5,\n",
       " 'egg': 15,\n",
       " 'compounds': 4,\n",
       " 'west': 6,\n",
       " 'primate': 8,\n",
       " 'research': 20,\n",
       " 'hose': 5,\n",
       " 'gastro': 17,\n",
       " 'outside': 11,\n",
       " 'contact': 8,\n",
       " 'above': 32,\n",
       " 'ruminant': 7,\n",
       " 'zinc': 4,\n",
       " 'boom': 9,\n",
       " 'clay': 16,\n",
       " 'leaching': 4,\n",
       " 'tream': 12,\n",
       " 'chronically': 4,\n",
       " 'spontaneously': 6,\n",
       " 'bordered': 6,\n",
       " 'physopelta': 5,\n",
       " 'cervicovaginal': 8,\n",
       " 'agro': 4,\n",
       " 'log': 16,\n",
       " 'moderately': 21,\n",
       " 'korea': 12,\n",
       " 'mill': 9,\n",
       " 'retting': 4,\n",
       " 'chip': 12,\n",
       " 'abcess': 4,\n",
       " 'virus': 8,\n",
       " 'supplemented': 15,\n",
       " 'taihu': 4,\n",
       " 'tibetan': 18,\n",
       " 'betula': 6,\n",
       " 'nitrifying': 6,\n",
       " 'ria': 10,\n",
       " 'storage': 28,\n",
       " 'sour': 5,\n",
       " 'symbiotic': 6,\n",
       " 'germany': 5,\n",
       " 'uranium': 5,\n",
       " 'mild': 10,\n",
       " 'thermal': 18,\n",
       " 'serial': 6,\n",
       " 'dilution': 11,\n",
       " 'beside': 6,\n",
       " 'chitin': 5,\n",
       " 'aspergillus': 6,\n",
       " 'guinea': 5,\n",
       " 'photo': 7,\n",
       " 'alkali': 15,\n",
       " 'pretreatment': 5,\n",
       " 'melting': 6,\n",
       " 'mec': 7,\n",
       " 'inoculation': 12,\n",
       " 'bar': 5,\n",
       " 'goose': 5,\n",
       " 'september': 9,\n",
       " 'study': 8,\n",
       " 'stakes': 30,\n",
       " 'scrape': 4,\n",
       " 'day': 107,\n",
       " ...}"
      ]
     },
     "execution_count": 109,
     "metadata": {},
     "output_type": "execute_result"
    }
   ],
   "execution_count": 109
  },
  {
   "metadata": {},
   "cell_type": "markdown",
   "source": "get annotations of the uncovered words from OLS",
   "id": "f96a28e3dad35b23"
  },
  {
   "metadata": {
    "ExecuteTime": {
     "end_time": "2025-03-10T14:51:46.241251Z",
     "start_time": "2025-03-10T14:51:46.238902Z"
    }
   },
   "cell_type": "code",
   "source": "ols_hits_for_frequent_uncovered_words = []",
   "id": "148e819035d874a0",
   "outputs": [],
   "execution_count": 110
  },
  {
   "metadata": {
    "ExecuteTime": {
     "end_time": "2025-03-10T14:51:51.114224Z",
     "start_time": "2025-03-10T14:51:47.002913Z"
    }
   },
   "cell_type": "code",
   "source": [
    "# todo highly duplicative\n",
    "for query in tqdm(filtered_frequencies, desc=\"Processing frequent words\", unit=\"word\"):\n",
    "    query = query.strip().lower()\n",
    "    if len(query) < MIN_LABEL_LEN:\n",
    "        continue  # Skip short labels\n",
    "\n",
    "    start = 0  # Start pagination at 0\n",
    "    ols_hits = []  # Store matching results\n",
    "\n",
    "    while True:\n",
    "        params = {\n",
    "            \"q\": query,\n",
    "            \"exact\": OLS_REQ_EXACT_MATCH,\n",
    "            \"fieldList\": FIELDLIST,\n",
    "            \"ontology\": OLS_LABEL_SEARCH_ONTS,\n",
    "            \"queryFields\": QUERYFIELDS,\n",
    "            \"rows\": rows,\n",
    "            \"start\": start,\n",
    "        }\n",
    "\n",
    "        response = requests.get(OLS_SEARCH_URL, params=params)\n",
    "        response.raise_for_status()\n",
    "        data = response.json()\n",
    "\n",
    "        # Extract results\n",
    "        results = data.get(\"response\", {}).get(\"docs\", [])\n",
    "\n",
    "        # If no results, break loop\n",
    "        if not results:\n",
    "            break\n",
    "\n",
    "        # Process results\n",
    "        for result in results:\n",
    "            if result.get(\"is_defining_ontology\", False):\n",
    "                label_lower = result.get(\"label\", \"\").lower()\n",
    "                label_lower_match = label_lower == query\n",
    "\n",
    "                temp_dict = {\n",
    "                    \"query\": query,\n",
    "                    \"exact_label_match\": label_lower_match,\n",
    "                    \"label\": result.get(\"label\", \"\"),\n",
    "                    \"synonyms\": result.get(\"synonym\", []),\n",
    "                    \"obo_id\": result.get(\"obo_id\", \"\"),\n",
    "                    \"ontology_lc\": result.get(\"ontology_name\", \"\").lower(),\n",
    "                }\n",
    "                if OLS_REQ_EXACT_MATCH == \"true\":\n",
    "                    temp_dict['exact_something_match'] = True\n",
    "\n",
    "                ols_hits.append(temp_dict)\n",
    "\n",
    "        # Check if we need to fetch more results\n",
    "        num_found = data.get(\"response\", {}).get(\"numFound\", 0)\n",
    "        start += rows  # Move to the next page\n",
    "\n",
    "        if start >= num_found:  # Stop if we've retrieved all records\n",
    "            break\n",
    "\n",
    "    # Store results in output list if any\n",
    "    if ols_hits:\n",
    "        ols_hits_for_frequent_uncovered_words.append({\"query\": query, \"ols_text_annotation\": ols_hits})\n"
   ],
   "id": "cb36d5f64b2ec679",
   "outputs": [
    {
     "data": {
      "text/plain": [
       "Processing frequent words:   0%|          | 0/1839 [00:00<?, ?word/s]"
      ],
      "application/vnd.jupyter.widget-view+json": {
       "version_major": 2,
       "version_minor": 0,
       "model_id": "bb62806d701f46f983e48a499f3f6616"
      }
     },
     "metadata": {},
     "output_type": "display_data"
    }
   ],
   "execution_count": 111
  },
  {
   "metadata": {},
   "cell_type": "markdown",
   "source": "insert the annotations of words from uncovered spans into `target_collection` \"class_label_cache\"",
   "id": "95c43ebdc324d220"
  },
  {
   "metadata": {
    "ExecuteTime": {
     "end_time": "2025-03-10T14:51:59.512050Z",
     "start_time": "2025-03-10T14:51:59.308852Z"
    }
   },
   "cell_type": "code",
   "source": [
    "# todo highly duplicative\n",
    "for doc in ols_hits_for_frequent_uncovered_words:\n",
    "    hits = doc.get(\"ols_text_annotation\", [])  # Get list or empty list\n",
    "    for hit in hits:\n",
    "        curie = hit.get(\"obo_id\")\n",
    "        label = hit.get(\"label\")\n",
    "        synonyms = hit.get(\"synonyms\", [])\n",
    "\n",
    "        try:\n",
    "            target_collection.insert_one({\n",
    "                \"curie\": curie,\n",
    "                \"label\": label,\n",
    "                \"synonyms\": synonyms,\n",
    "            })\n",
    "\n",
    "        except DuplicateKeyError:\n",
    "            # Ignore duplicates and continue\n",
    "            pass"
   ],
   "id": "d5021c9cff54c217",
   "outputs": [],
   "execution_count": 112
  },
  {
   "metadata": {},
   "cell_type": "markdown",
   "source": "add the results from the last OLS annotations to the `lexical_index` dict",
   "id": "58ea66a1190395df"
  },
  {
   "metadata": {
    "ExecuteTime": {
     "end_time": "2025-03-10T14:52:07.766498Z",
     "start_time": "2025-03-10T14:52:07.620422Z"
    }
   },
   "cell_type": "code",
   "source": [
    "# todo highly duplicative\n",
    "for doc in target_collection.find():\n",
    "    curie = doc[\"curie\"]\n",
    "    label = normalize(doc[\"label\"])\n",
    "    synonyms = [normalize(s) for s in doc.get(\"synonyms\", [])]\n",
    "\n",
    "    # Ensure label is in the groupings\n",
    "    if label not in lexical_index[\"groupings\"]:\n",
    "        lexical_index[\"groupings\"][label] = {\n",
    "            \"term\": label,\n",
    "            \"relationships\": []\n",
    "        }\n",
    "\n",
    "    # Add label relationship\n",
    "    lexical_index[\"groupings\"][label][\"relationships\"].append({\n",
    "        \"predicate\": \"rdfs:label\",\n",
    "        \"element\": curie,\n",
    "        \"element_term\": label,\n",
    "        \"pipeline\": [\"default\"],\n",
    "        \"synonymized\": False\n",
    "    })\n",
    "\n",
    "    # Process synonyms\n",
    "    for synonym in synonyms:\n",
    "        if synonym not in lexical_index[\"groupings\"]:\n",
    "            lexical_index[\"groupings\"][synonym] = {\n",
    "                \"term\": synonym,\n",
    "                \"relationships\": []\n",
    "            }\n",
    "\n",
    "        lexical_index[\"groupings\"][synonym][\"relationships\"].append({\n",
    "            \"predicate\": \"oio:hasRelatedSynonym\",\n",
    "            \"element\": curie,\n",
    "            \"element_term\": synonym,\n",
    "            \"pipeline\": [\"default\"],\n",
    "            \"synonymized\": False\n",
    "        })\n",
    "\n",
    "# 15 seconds"
   ],
   "id": "9b247caef082cf1",
   "outputs": [],
   "execution_count": 113
  },
  {
   "metadata": {
    "ExecuteTime": {
     "end_time": "2025-03-10T14:52:33.422552Z",
     "start_time": "2025-03-10T14:52:33.418998Z"
    }
   },
   "cell_type": "code",
   "source": "type(lexical_index)",
   "id": "5bdf929ff7d8501f",
   "outputs": [
    {
     "data": {
      "text/plain": [
       "dict"
      ]
     },
     "execution_count": 114,
     "metadata": {},
     "output_type": "execute_result"
    }
   ],
   "execution_count": 114
  },
  {
   "metadata": {
    "ExecuteTime": {
     "end_time": "2025-03-10T14:52:34.105965Z",
     "start_time": "2025-03-10T14:52:34.101766Z"
    }
   },
   "cell_type": "code",
   "source": "lexical_index.keys()",
   "id": "ba3004c010294aa5",
   "outputs": [
    {
     "data": {
      "text/plain": [
       "dict_keys(['groupings', 'pipelines'])"
      ]
     },
     "execution_count": 115,
     "metadata": {},
     "output_type": "execute_result"
    }
   ],
   "execution_count": 115
  },
  {
   "metadata": {
    "ExecuteTime": {
     "end_time": "2025-03-10T14:52:34.708461Z",
     "start_time": "2025-03-10T14:52:34.704883Z"
    }
   },
   "cell_type": "code",
   "source": "len(lexical_index['groupings'])",
   "id": "4f7f2d50acfcef3d",
   "outputs": [
    {
     "data": {
      "text/plain": [
       "28324"
      ]
     },
     "execution_count": 116,
     "metadata": {},
     "output_type": "execute_result"
    }
   ],
   "execution_count": 116
  },
  {
   "metadata": {
    "ExecuteTime": {
     "end_time": "2025-03-10T14:53:18.502615Z",
     "start_time": "2025-03-10T14:53:18.499803Z"
    }
   },
   "cell_type": "code",
   "source": [
    "def get_prefix(element):\n",
    "    \"\"\"Extract the ontology prefix from an element ID (e.g., 'UBERON:0003201' -> 'uberon').\"\"\"\n",
    "    return element.split(\":\")[0].lower()"
   ],
   "id": "d3aae70fa215c5e0",
   "outputs": [],
   "execution_count": 119
  },
  {
   "metadata": {
    "ExecuteTime": {
     "end_time": "2025-03-10T14:54:45.819093Z",
     "start_time": "2025-03-10T14:54:45.815018Z"
    }
   },
   "cell_type": "code",
   "source": [
    "# Define the set of forbidden characters in terms\n",
    "FORBIDDEN_CHARS_PATTERN = re.compile(r\"[\\(\\)\\[\\]\\{\\}'\\\"!@#$%^&*=\\;:|\\\\<>?]\")\n",
    "\n",
    "def process_groupings(groupings, preferred_ontologies):\n",
    "    \"\"\"Modify groupings to remove elements not in preferred ontologies and delete invalid groupings.\"\"\"\n",
    "    processed_groupings = {}\n",
    "\n",
    "    for term, data in groupings.items():\n",
    "        # Skip groupings with forbidden characters in the term\n",
    "        if FORBIDDEN_CHARS_PATTERN.search(data[\"term\"]):\n",
    "            continue\n",
    "\n",
    "        # Filter relationships based on preferred ontologies\n",
    "        filtered_relationships = [\n",
    "            rel for rel in data[\"relationships\"] if get_prefix(rel[\"element\"]) in preferred_ontologies\n",
    "        ]\n",
    "\n",
    "        # Only keep non-empty groupings\n",
    "        if filtered_relationships:\n",
    "            processed_groupings[term] = {\n",
    "                \"relationships\": filtered_relationships,\n",
    "                \"term\": data[\"term\"]\n",
    "            }\n",
    "\n",
    "    return processed_groupings"
   ],
   "id": "4bc619c1585764d3",
   "outputs": [],
   "execution_count": 124
  },
  {
   "metadata": {},
   "cell_type": "markdown",
   "source": [
    "filter the lexical index dict to remove duplicate relations, relations from non-preferred ontologies, and groupings that either have no relations at that point or groupings whose text contains suspicious punctuation characters\n",
    "\n",
    "this code may expect a real lexical index, not a lexical index dict"
   ],
   "id": "3a504549f15cf037"
  },
  {
   "metadata": {
    "ExecuteTime": {
     "end_time": "2025-03-10T14:55:25.905027Z",
     "start_time": "2025-03-10T14:55:25.829229Z"
    }
   },
   "cell_type": "code",
   "source": [
    "# Process the groupings\n",
    "lexical_index[\"groupings\"] = process_groupings(\n",
    "    lexical_index[\"groupings\"], preferred_ontologies)"
   ],
   "id": "329896fad1a5c0bd",
   "outputs": [],
   "execution_count": 126
  },
  {
   "metadata": {
    "ExecuteTime": {
     "end_time": "2025-03-10T14:55:56.825455Z",
     "start_time": "2025-03-10T14:55:56.821941Z"
    }
   },
   "cell_type": "code",
   "source": "len(lexical_index['groupings'])",
   "id": "99ea04f4dde74c1b",
   "outputs": [
    {
     "data": {
      "text/plain": [
       "23167"
      ]
     },
     "execution_count": 129,
     "metadata": {},
     "output_type": "execute_result"
    }
   ],
   "execution_count": 129
  },
  {
   "metadata": {
    "ExecuteTime": {
     "end_time": "2025-03-10T14:56:45.160017Z",
     "start_time": "2025-03-10T14:56:45.157211Z"
    }
   },
   "cell_type": "code",
   "source": "biosamples_env_triads_precedent_lexical_filtered_index_yaml = \"biosamples_env_triads_precedent_lexical_filtered_index.yaml\"",
   "id": "c67222b110bbc428",
   "outputs": [],
   "execution_count": 130
  },
  {
   "metadata": {
    "ExecuteTime": {
     "end_time": "2025-03-10T14:57:04.529065Z",
     "start_time": "2025-03-10T14:56:45.996105Z"
    }
   },
   "cell_type": "code",
   "source": [
    "# Save the cleaned YAML file\n",
    "with open(biosamples_env_triads_precedent_lexical_filtered_index_yaml, \"w\") as f:\n",
    "    yaml.dump(lexical_index, f, default_flow_style=False, sort_keys=False)"
   ],
   "id": "64990b89805ebaa9",
   "outputs": [],
   "execution_count": 131
  }
 ],
 "metadata": {
  "kernelspec": {
   "display_name": "Python 3",
   "language": "python",
   "name": "python3"
  },
  "language_info": {
   "codemirror_mode": {
    "name": "ipython",
    "version": 2
   },
   "file_extension": ".py",
   "mimetype": "text/x-python",
   "name": "python",
   "nbconvert_exporter": "python",
   "pygments_lexer": "ipython2",
   "version": "2.7.6"
  }
 },
 "nbformat": 4,
 "nbformat_minor": 5
}
