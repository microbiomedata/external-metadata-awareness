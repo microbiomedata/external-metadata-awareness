{
 "cells": [
  {
   "metadata": {
    "ExecuteTime": {
     "end_time": "2025-02-27T21:05:14.527687Z",
     "start_time": "2025-02-27T21:05:11.715196Z"
    }
   },
   "cell_type": "code",
   "source": [
    "from linkml_runtime import SchemaView\n",
    "import pprint\n",
    "import pandas as pd\n",
    "import requests\n",
    "\n",
    "import json\n",
    "import re\n",
    "\n",
    "from pymongo import MongoClient\n",
    "from oaklib import get_adapter\n",
    "\n",
    "import sys"
   ],
   "id": "1e7d0dbb1605ea7d",
   "outputs": [],
   "execution_count": 1
  },
  {
   "metadata": {
    "ExecuteTime": {
     "end_time": "2025-02-27T21:05:14.535371Z",
     "start_time": "2025-02-27T21:05:14.531810Z"
    }
   },
   "cell_type": "code",
   "source": [
    "sys.path.append('../..')  # Assuming notebooks/ is at the root level\n",
    "import core # appears as if there's a problem in PyCharm Jupyter, but it still works\n"
   ],
   "id": "c533124cd6623bd6",
   "outputs": [],
   "execution_count": 2
  },
  {
   "metadata": {
    "ExecuteTime": {
     "end_time": "2025-02-27T21:05:14.597887Z",
     "start_time": "2025-02-27T21:05:14.595498Z"
    }
   },
   "cell_type": "code",
   "source": [
    "# todo there is probably some duplicative code in here\n",
    "#   either similar functions for extracting stuff from NCBI Biosamples\n",
    "#     which maybe should go in the general flatterer\n",
    "#   or functionality that is already solved in the DuckDB dumper\n",
    "#     see also external_metadata_awareness/biosamples_mongodb_to_duckdb.py\n",
    "#   or the for blocks that find canonical labels and detect obsolescence\n",
    "#     which is not being applied to NCBI records yet\n",
    "#       we have addressed that in multiple other places :-( with OAK annotation\n",
    "#         which requires followup filtering/curation"
   ],
   "id": "1e26c95ed854605c",
   "outputs": [],
   "execution_count": 3
  },
  {
   "metadata": {
    "ExecuteTime": {
     "end_time": "2025-02-27T21:05:14.640068Z",
     "start_time": "2025-02-27T21:05:14.637596Z"
    }
   },
   "cell_type": "code",
   "source": "# todo there are some confusing variables in here like emp500_ncbi_biosamples and ncbi_emp500_biosamples",
   "id": "c22f16167168ab7a",
   "outputs": [],
   "execution_count": 4
  },
  {
   "metadata": {
    "ExecuteTime": {
     "end_time": "2025-02-27T21:05:14.685398Z",
     "start_time": "2025-02-27T21:05:14.682456Z"
    }
   },
   "cell_type": "code",
   "source": "NMDC_RUNTIME_API_BASE_URL = \"https://api.microbiomedata.org/nmdcschema/\"",
   "id": "6e347841c116977f",
   "outputs": [],
   "execution_count": 5
  },
  {
   "metadata": {
    "ExecuteTime": {
     "end_time": "2025-02-27T21:05:14.732175Z",
     "start_time": "2025-02-27T21:05:14.729433Z"
    }
   },
   "cell_type": "code",
   "source": "nmdc_schema_url = \"https://raw.githubusercontent.com/microbiomedata/nmdc-schema/refs/heads/main/nmdc_schema/nmdc_materialized_patterns.yaml\"",
   "id": "178cd6574f83395",
   "outputs": [],
   "execution_count": 6
  },
  {
   "metadata": {
    "ExecuteTime": {
     "end_time": "2025-02-27T21:05:14.778371Z",
     "start_time": "2025-02-27T21:05:14.775853Z"
    }
   },
   "cell_type": "code",
   "source": "ontology_list = [\"envo\", \"pato\", \"uberon\"]\n",
   "id": "4ba7d0043ea7c95",
   "outputs": [],
   "execution_count": 7
  },
  {
   "metadata": {
    "ExecuteTime": {
     "end_time": "2025-02-27T21:05:14.825409Z",
     "start_time": "2025-02-27T21:05:14.821728Z"
    }
   },
   "cell_type": "code",
   "source": [
    "# there are other slots ontolgy terms too\n",
    "\n",
    "to_label_check = [\n",
    "    'env_broad_scale.id', 'env_local_scale.id', 'env_medium.id',\n",
    "    'env_broad_scale.term.id', 'env_local_scale.term.id', 'env_medium.term.id',\n",
    "    'envoBroadScale.id', 'envoLocalScale.id', 'envoLocalScale.id',\n",
    "]\n",
    "\n",
    "# the flattened NCMDC biosamples LOD has fields like \"env_broad_scale.term.id\"\n",
    "# the flattened NCMDC biosamples LOD has fields like \"env_broad_scale.id\""
   ],
   "id": "290af6092acdeead",
   "outputs": [],
   "execution_count": 8
  },
  {
   "metadata": {},
   "cell_type": "markdown",
   "source": [
    "add checking of other ontologies\n",
    "build an obsolete term cache"
   ],
   "id": "510c5bcd9527810d"
  },
  {
   "metadata": {
    "ExecuteTime": {
     "end_time": "2025-02-27T21:05:14.871069Z",
     "start_time": "2025-02-27T21:05:14.868624Z"
    }
   },
   "cell_type": "code",
   "source": [
    "# # see also\n",
    "# #   notebooks/environmental_context_value_sets/generate_voting_sheet.ipynb\n",
    "#\n",
    "# with open(envo_label_cache_json, \"r\", encoding=\"utf-8\") as file:\n",
    "#     envo_label_cache = json.load(file)"
   ],
   "id": "fc2bb3105c378e31",
   "outputs": [],
   "execution_count": 9
  },
  {
   "metadata": {
    "ExecuteTime": {
     "end_time": "2025-02-27T21:05:14.921973Z",
     "start_time": "2025-02-27T21:05:14.914548Z"
    }
   },
   "cell_type": "code",
   "source": [
    "# Connect to the local MongoDB instance (default connection)\n",
    "client = MongoClient('mongodb://localhost:27017/')  # Connect to your local MongoDB"
   ],
   "id": "b797dca7befa2a4",
   "outputs": [],
   "execution_count": 10
  },
  {
   "metadata": {
    "ExecuteTime": {
     "end_time": "2025-02-27T21:05:14.963287Z",
     "start_time": "2025-02-27T21:05:14.960762Z"
    }
   },
   "cell_type": "code",
   "source": "submissions_db = client['submission']",
   "id": "defd92643b12c295",
   "outputs": [],
   "execution_count": 11
  },
  {
   "metadata": {
    "ExecuteTime": {
     "end_time": "2025-02-27T21:05:15.016500Z",
     "start_time": "2025-02-27T21:05:15.014022Z"
    }
   },
   "cell_type": "code",
   "source": "submissions_collection = submissions_db['submissions']",
   "id": "84c47de30e2816b",
   "outputs": [],
   "execution_count": 12
  },
  {
   "metadata": {
    "ExecuteTime": {
     "end_time": "2025-02-27T21:05:15.059996Z",
     "start_time": "2025-02-27T21:05:15.057216Z"
    }
   },
   "cell_type": "code",
   "source": [
    "GOLD_METADATA = \"gold_metadata_studies_with_samples\" # another MongoDB collection to check\n",
    "NCBI_METADATA = \"ncbi_metadata\"\n",
    "# todo add build notes here"
   ],
   "id": "173cba27c0187021",
   "outputs": [],
   "execution_count": 13
  },
  {
   "metadata": {
    "ExecuteTime": {
     "end_time": "2025-02-27T21:05:15.106327Z",
     "start_time": "2025-02-27T21:05:15.102786Z"
    }
   },
   "cell_type": "code",
   "source": [
    "\n",
    "aid_tsv = \"alternative_identifiers_cheatsheet.tsv\"\n",
    "biosample_chem_admin_tsv=\"nmdc_biosample_chem_administration.tsv\"\n",
    "flattened_gold_emp500_biosamples_tsv = \"flattened_gold_emp500_biosamples.tsv\"\n",
    "flattened_ncbi_emp500_biosamples_with_attributes_tsv= \"flattened_ncbi_emp500_biosamples.tsv\"\n",
    "gold_emp500_biosample_contacts_tsv = \"gold_emp500_biosample_contacts.tsv\"\n",
    "ncbi_emp500_all_attributes_tsv = \"ncbi_emp500_all_attributes.tsv\"\n",
    "ncbi_emp500_biosample_ids_tsv = \"ncbi_emp500_biosample_ids.tsv\"\n",
    "ncbi_emp500_biosample_models_tsv = \"ncbi_emp500_biosample_models.tsv\"\n",
    "nmdc_submissions_biosamples_tsv = \"nmdc_submissions_biosamples.tsv\"\n",
    "scalar_biosamples_tsv = \"flattened_nmdc_biosamples.tsv\"\n",
    "scalar_studies_tsv = \"flattened_nmdc_studies.tsv\"\n",
    "study_credit_associations = \"nmdc_study_credit_associations.tsv\"\n",
    "study_dois_tsv = \"nmdc_study_dois.tsv\""
   ],
   "id": "4a8eaaf0facfccab",
   "outputs": [],
   "execution_count": 14
  },
  {
   "metadata": {
    "ExecuteTime": {
     "end_time": "2025-02-27T21:05:15.152413Z",
     "start_time": "2025-02-27T21:05:15.149888Z"
    }
   },
   "cell_type": "code",
   "source": [
    "# this code now globally processes NMDC MongDB contents and records from the submissions API\n",
    "\n",
    "# EMP500 would be a good scope for checking GOLD or NCBI records\n",
    "\n",
    "# see also notebooks/studies_exploration/emp_500_ng/emp500_ng.ipynb\n",
    "#   for illustration of how study ids were determined from text\n",
    "\n",
    "# will probably re-use some code from (see also)\n",
    "#   notebooks/mixs-slot-ranking/build_mixs_slot_rank_template.ipynb"
   ],
   "id": "79b4a9f57cff0066",
   "outputs": [],
   "execution_count": 15
  },
  {
   "metadata": {
    "ExecuteTime": {
     "end_time": "2025-02-27T21:05:15.198195Z",
     "start_time": "2025-02-27T21:05:15.195699Z"
    }
   },
   "cell_type": "code",
   "source": [
    "emp500_ncbi_project_accession = \"PRJEB42019\"\n",
    "emp500_gold_study_id = \"Gs0154244\""
   ],
   "id": "233dac7771507590",
   "outputs": [],
   "execution_count": 16
  },
  {
   "metadata": {
    "ExecuteTime": {
     "end_time": "2025-02-27T21:05:15.244574Z",
     "start_time": "2025-02-27T21:05:15.240772Z"
    }
   },
   "cell_type": "code",
   "source": [
    "def parse_label_curie(text):\n",
    "    \"\"\"\n",
    "    Parses a string with an optional leading underscore, followed by a label and a CURIE inside square brackets.\n",
    "\n",
    "    Example input: \"________mediterranean savanna biome [ENVO:01000229]\"\n",
    "\n",
    "    :param text: The input string to parse\n",
    "    :return: A dictionary {'label': <label>, 'curie': <curie>} if successful, else None\n",
    "    \"\"\"\n",
    "    pattern = r\"^_*(?P<label>[^\\[\\]]+)\\s*\\[(?P<curie>[^\\[\\]]+)\\]$\"\n",
    "    match = re.match(pattern, text.strip())\n",
    "\n",
    "    if match:\n",
    "        return {\n",
    "            \"label\": match.group(\"label\").strip(),\n",
    "            \"curie\": match.group(\"curie\").strip()\n",
    "        }\n",
    "\n",
    "    return None\n",
    "\n"
   ],
   "id": "bd8c13d0b805e0d0",
   "outputs": [],
   "execution_count": 17
  },
  {
   "metadata": {
    "ExecuteTime": {
     "end_time": "2025-02-27T21:05:15.291836Z",
     "start_time": "2025-02-27T21:05:15.288468Z"
    }
   },
   "cell_type": "code",
   "source": [
    "def generate_label_cache(entities, adapter):\n",
    "    \"\"\"\n",
    "    Generates a label cache mapping CURIEs to their labels.\n",
    "\n",
    "    :param entities: List of ontology entities (CURIEs)\n",
    "    :param adapter: Ontology adapter to fetch labels\n",
    "    :return: Dictionary mapping CURIEs to labels\n",
    "    \"\"\"\n",
    "    label_cache = {}\n",
    "\n",
    "    for curie in entities:\n",
    "        label = adapter.label(curie)  # Fetch label for CURIE\n",
    "        if label:  # Only store if a valid label exists\n",
    "            label_cache[curie] = label\n",
    "\n",
    "    return label_cache\n"
   ],
   "id": "db6011d12e55fcba",
   "outputs": [],
   "execution_count": 18
  },
  {
   "metadata": {
    "ExecuteTime": {
     "end_time": "2025-02-27T21:05:15.337414Z",
     "start_time": "2025-02-27T21:05:15.334561Z"
    }
   },
   "cell_type": "code",
   "source": [
    "def build_ontology_adapters(ontology_names):\n",
    "    \"\"\"\n",
    "    Creates ontology adapters for the given ontology names.\n",
    "\n",
    "    :param ontology_names: List of ontology names (e.g., [\"envo\", \"pato\", \"uberon\"])\n",
    "    :return: Dictionary mapping ontology names to ontology adapters\n",
    "    \"\"\"\n",
    "    return {ontology: get_adapter(f\"sqlite:obo:{ontology}\") for ontology in ontology_names}\n"
   ],
   "id": "740f6ff8d7a43bd",
   "outputs": [],
   "execution_count": 19
  },
  {
   "metadata": {
    "ExecuteTime": {
     "end_time": "2025-02-27T21:05:15.385479Z",
     "start_time": "2025-02-27T21:05:15.381847Z"
    }
   },
   "cell_type": "code",
   "source": [
    "def load_ontology_labels(ontology_adapters):\n",
    "    \"\"\"\n",
    "    Loads ontology entity labels from multiple ontologies and aggregates their label caches.\n",
    "\n",
    "    :param ontology_adapters: Dictionary mapping ontology names to ontology adapters\n",
    "    :return: Aggregated label cache dictionary\n",
    "    \"\"\"\n",
    "    aggregated_label_cache = {}\n",
    "\n",
    "    for ontology, adapter in ontology_adapters.items():\n",
    "        entities = sorted(list(adapter.entities()))  # Fetch and sort entities\n",
    "        label_cache = generate_label_cache(entities, adapter)\n",
    "        aggregated_label_cache.update(label_cache)  # Merge into a single cache\n",
    "\n",
    "    return aggregated_label_cache"
   ],
   "id": "df2246541a67567d",
   "outputs": [],
   "execution_count": 20
  },
  {
   "metadata": {
    "ExecuteTime": {
     "end_time": "2025-02-27T21:05:15.431646Z",
     "start_time": "2025-02-27T21:05:15.428493Z"
    }
   },
   "cell_type": "code",
   "source": [
    "def find_obsolete_terms(ontology_adapters):\n",
    "    \"\"\"\n",
    "    Identifies obsolete terms from multiple ontologies using their adapters.\n",
    "\n",
    "    :param ontology_adapters: Dictionary mapping ontology names to ontology adapters\n",
    "    :return: List of CURIEs for obsolete terms\n",
    "    \"\"\"\n",
    "    obsolete_curies = []\n",
    "\n",
    "    for adapter in ontology_adapters.values():\n",
    "        obsolete_curies.extend(adapter.obsoletes())  # Use ontology access kit function\n",
    "\n",
    "    return obsolete_curies"
   ],
   "id": "fd0a2275e91cc855",
   "outputs": [],
   "execution_count": 21
  },
  {
   "metadata": {
    "ExecuteTime": {
     "end_time": "2025-02-27T21:05:15.479581Z",
     "start_time": "2025-02-27T21:05:15.476060Z"
    }
   },
   "cell_type": "code",
   "source": [
    "def stringify(obj):\n",
    "    \"\"\"\n",
    "    Converts a list or dictionary into a string representation.\n",
    "    - Uses JSON format with compact or pretty formatting based on the depth.\n",
    "    - Sorts keys in dictionaries for consistency.\n",
    "\n",
    "    :param obj: Any object (list, dict, or other Python object)\n",
    "    :return: String representation\n",
    "    \"\"\"\n",
    "    if isinstance(obj, (dict, list)):\n",
    "        return json.dumps(obj, sort_keys=True, ensure_ascii=False)  # Compact format\n",
    "    return str(obj)  # Fallback for other types"
   ],
   "id": "33c9fd9370a344aa",
   "outputs": [],
   "execution_count": 22
  },
  {
   "metadata": {
    "ExecuteTime": {
     "end_time": "2025-02-27T21:05:15.527651Z",
     "start_time": "2025-02-27T21:05:15.522684Z"
    }
   },
   "cell_type": "code",
   "source": [
    "def stringify_singleton_dict_list(dict_list):\n",
    "    \"\"\"\n",
    "    Processes a list of dictionaries:\n",
    "    - Removes the 'type' key from each dictionary.\n",
    "    - Tracks the largest dictionary by key count (excluding 'type').\n",
    "    - If the largest dictionary has only 1 key, extracts values, sorts them, and returns a pipe-concatenated string.\n",
    "    - Otherwise, returns an empty string.\n",
    "\n",
    "    :param dict_list: List of dictionaries to process\n",
    "    :return: Pipe-concatenated sorted values if all dicts have at most one key (excluding 'type'), else an empty string.\n",
    "    \"\"\"\n",
    "    if not isinstance(dict_list, list) or not all(isinstance(d, dict) for d in dict_list):\n",
    "        # raise ValueError(\"Input must be a list of dictionaries\")\n",
    "        return \"\"\n",
    "\n",
    "    largest_key_count = 0\n",
    "    processed_values = []\n",
    "\n",
    "    for d in dict_list:\n",
    "        cleaned_dict = {k: v for k, v in d.items() if k != \"type\"}  # Remove 'type'\n",
    "        largest_key_count = max(largest_key_count, len(cleaned_dict))\n",
    "        if len(cleaned_dict) == 1:  # If it only has one key, extract its value\n",
    "            processed_values.append(next(iter(cleaned_dict.values())))\n",
    "\n",
    "    # If the largest dictionary has only one key, return sorted pipe-concatenated string\n",
    "    if largest_key_count == 1:\n",
    "        return \"|\".join(map(str, sorted(processed_values)))  # Sort values before joining\n",
    "\n",
    "    return \"\"  # Return empty string if dicts contain more than one unique key\n"
   ],
   "id": "7b9727e83ab5009e",
   "outputs": [],
   "execution_count": 23
  },
  {
   "metadata": {
    "ExecuteTime": {
     "end_time": "2025-02-27T21:05:15.575281Z",
     "start_time": "2025-02-27T21:05:15.570755Z"
    }
   },
   "cell_type": "code",
   "source": [
    "def fetch_all_documents(collection_name, page_size=10):\n",
    "    \"\"\"\n",
    "    Fetch all documents from a specified NMDC collection using paging.\n",
    "\n",
    "    :param collection_name: Name of the NMDC collection (e.g., \"study_set\", \"biosample_set\")\n",
    "    :param page_size: Number of documents per page (default: 99)\n",
    "    :return: List of documents from the collection\n",
    "    \"\"\"\n",
    "    documents = []\n",
    "    next_page_token = None\n",
    "    url = f\"{NMDC_RUNTIME_API_BASE_URL}{collection_name}\"\n",
    "\n",
    "    while True:\n",
    "        params = {\"max_page_size\": page_size}\n",
    "        if next_page_token:\n",
    "            print(f\"{next_page_token = }\")\n",
    "            params[\"page_token\"] = next_page_token\n",
    "\n",
    "        response = requests.get(url, params=params)\n",
    "        response.raise_for_status()  # Raise an error for bad responses\n",
    "        data = response.json()\n",
    "\n",
    "        documents.extend(data.get(\"resources\", []))  # Using \"resources\" as the key for results\n",
    "        next_page_token = data.get(\"next_page_token\")\n",
    "\n",
    "        if not next_page_token:  # Stop if there's no more data to fetch\n",
    "            break\n",
    "\n",
    "    return documents"
   ],
   "id": "a250ed97f0ad4b9d",
   "outputs": [],
   "execution_count": 24
  },
  {
   "metadata": {
    "ExecuteTime": {
     "end_time": "2025-02-27T21:05:15.633928Z",
     "start_time": "2025-02-27T21:05:15.619030Z"
    }
   },
   "cell_type": "code",
   "source": [
    "def flatten(documents, ctv_slots=None, known_skips=None):\n",
    "    \"\"\"\n",
    "    Extracts scalar fields from documents, concatenating lists of scalars with a pipe ('|') separator.\n",
    "    If a field contains a dictionary with only scalar values, it is flattened using 'outer_key.inner_key' notation.\n",
    "    Lists of scalars within dictionaries are also pipe-concatenated.\n",
    "    Skips 'type' fields.\n",
    "\n",
    "    Special handling for ControlledIdentifiedTerm range slots like 'env_broad_scale', 'env_local_scale', and 'env_medium' etc.:\n",
    "      - Extracts 'has_raw_value', 'term.id', and 'term.name' if available.\n",
    "\n",
    "    Prints the field name if it encounters a complex structure (nested dicts, lists of dicts, etc.).\n",
    "\n",
    "    :param documents: List of documents (e.g., studies, biosamples)\n",
    "    :param ctv_slots: Set of slots whose range is a ControlledTermValue or descendant\n",
    "    :param known_skips: Set of slots that can't be stringified nicely\n",
    "    :return: List of dictionaries containing only scalar fields, with lists of scalars pipe-concatenated\n",
    "    \"\"\"\n",
    "\n",
    "    if ctv_slots is None:\n",
    "        ctv_slots = set()\n",
    "\n",
    "    if known_skips is None:\n",
    "        known_skips = set()\n",
    "\n",
    "    scalar_docs = []\n",
    "    problem_slots = set()\n",
    "\n",
    "    for doc in documents:\n",
    "        scalar_doc = {}\n",
    "        stringified_singletons = \"\"  # Ensure fresh value per row\n",
    "\n",
    "        for key, value in doc.items():\n",
    "            if key == \"type\":\n",
    "                continue  # Skip 'type' fields\n",
    "\n",
    "            if key in known_skips:\n",
    "                continue\n",
    "\n",
    "            if isinstance(value, (str, int, float, bool, type(None))):\n",
    "                scalar_doc[key] = value  # Keep scalars as-is\n",
    "\n",
    "            elif isinstance(value, list) and all(\n",
    "                    isinstance(item, (str, int, float, bool, type(None))) for item in value):\n",
    "                scalar_doc[key] = \"|\".join(map(str, value))  # Join list elements with '|'\n",
    "\n",
    "            elif isinstance(value, dict):\n",
    "                if key in ctv_slots:\n",
    "                    # Extract values from env_* fields\n",
    "                    if \"has_raw_value\" in value:\n",
    "                        scalar_doc[f\"{key}.has_raw_value\"] = value[\"has_raw_value\"]\n",
    "\n",
    "                    if \"term\" in value and isinstance(value[\"term\"], dict):\n",
    "                        if \"id\" in value[\"term\"]:\n",
    "                            scalar_doc[f\"{key}.term.id\"] = value[\"term\"][\"id\"]\n",
    "                        if \"name\" in value[\"term\"]:\n",
    "                            scalar_doc[f\"{key}.term.name\"] = value[\"term\"][\"name\"]\n",
    "\n",
    "                elif all(isinstance(v, (str, int, float, bool, type(None))) or\n",
    "                         (isinstance(v, list) and all(\n",
    "                             isinstance(item, (str, int, float, bool, type(None))) for item in v))\n",
    "                         for v in value.values()):\n",
    "                    # Flatten scalar-only dicts and pipe-join any scalar lists\n",
    "                    for sub_key, sub_value in value.items():\n",
    "                        if sub_key == \"type\":\n",
    "                            continue  # Skip 'type' fields inside dicts\n",
    "                        if isinstance(sub_value, list):\n",
    "                            scalar_doc[f\"{key}.{sub_key}\"] = \"|\".join(map(str, sub_value))\n",
    "                        else:\n",
    "                            scalar_doc[f\"{key}.{sub_key}\"] = sub_value\n",
    "\n",
    "                else:\n",
    "                    # print(f\"Skipping structured field: {key}\")  # Print field name if dict has nested structures\n",
    "                    problem_slots.add(key)\n",
    "                    stringified_singletons = stringify_singleton_dict_list(value)\n",
    "                    if stringified_singletons != \"\":\n",
    "                        scalar_doc[f\"{key}\"] = stringified_singletons\n",
    "                    else:\n",
    "                        if key not in known_skips:\n",
    "                            scalar_doc[f\"{key}\"] = stringify(value)\n",
    "            else:\n",
    "                # print(f\"Skipping structured field: {key}\")  # Print field name for unhandled complex structures\n",
    "                problem_slots.add(key)\n",
    "                stringified_singletons = stringify_singleton_dict_list(value)\n",
    "                if stringified_singletons != \"\":\n",
    "                    scalar_doc[f\"{key}\"] = stringified_singletons\n",
    "                else:\n",
    "                    if key not in known_skips:\n",
    "                        scalar_doc[f\"{key}\"] = stringify(value)\n",
    "\n",
    "        scalar_docs.append(scalar_doc)\n",
    "\n",
    "    stringifieds = sorted(problem_slots - known_skips)  # Ensure it's sorted before printing\n",
    "\n",
    "    print(f\"stringified: {stringifieds}\")\n",
    "\n",
    "    return scalar_docs\n"
   ],
   "id": "da8a5b0027939908",
   "outputs": [],
   "execution_count": 25
  },
  {
   "metadata": {
    "ExecuteTime": {
     "end_time": "2025-02-27T21:05:15.680637Z",
     "start_time": "2025-02-27T21:05:15.676685Z"
    }
   },
   "cell_type": "code",
   "source": [
    "def extract_associated_dois(studies):\n",
    "    \"\"\"\n",
    "    Extracts associated_dois from a list of studies, adding the study's ID to each DOI entry.\n",
    "\n",
    "    :param studies: List of study documents\n",
    "    :return: List of dictionaries, each representing a DOI with the study ID added\n",
    "    \"\"\"\n",
    "    doi_entries = []\n",
    "\n",
    "    for study in studies:\n",
    "        study_id = study.get(\"id\")  # Get study ID\n",
    "        associated_dois = study.get(\"associated_dois\", [])\n",
    "\n",
    "        for doi in associated_dois:\n",
    "            if isinstance(doi, dict):  # Ensure it's a dictionary\n",
    "                doi_entry = doi.copy()  # Make a copy to avoid modifying original data\n",
    "                doi_entry[\"study_id\"] = study_id  # Add study ID\n",
    "                doi_entry.pop(\"type\", None)  # Remove 'type' field if it exists\n",
    "                doi_entries.append(doi_entry)\n",
    "\n",
    "    return doi_entries\n"
   ],
   "id": "829ced5b2e9794d0",
   "outputs": [],
   "execution_count": 26
  },
  {
   "metadata": {
    "ExecuteTime": {
     "end_time": "2025-02-27T21:05:15.728980Z",
     "start_time": "2025-02-27T21:05:15.723658Z"
    }
   },
   "cell_type": "code",
   "source": [
    "def extract_credit_associations(studies):\n",
    "    \"\"\"\n",
    "    Extracts credit associations from a list of studies, flattening PersonValue fields and pipe-concatenating applied roles.\n",
    "\n",
    "    :param studies: List of study documents\n",
    "    :return: List of dictionaries, each representing a CreditAssociation with the study ID added\n",
    "    \"\"\"\n",
    "    credit_entries = []\n",
    "\n",
    "    for study in studies:\n",
    "        study_id = study.get(\"id\")  # Get study ID\n",
    "        credit_associations = study.get(\"has_credit_associations\", [])\n",
    "\n",
    "        for credit in credit_associations:\n",
    "            if isinstance(credit, dict):  # Ensure it's a dictionary\n",
    "                credit_entry = {\"study_id\": study_id}  # Start with the study ID\n",
    "\n",
    "                # Flatten applied_roles (if multivalued)\n",
    "                applied_roles = credit.get(\"applied_roles\", [])\n",
    "                if isinstance(applied_roles, list):\n",
    "                    applied_roles.sort()\n",
    "                    credit_entry[\"applied_roles\"] = \"|\".join(map(str, applied_roles))\n",
    "\n",
    "                # Flatten applies_to_person (PersonValue structure)\n",
    "                person = credit.get(\"applies_to_person\", {})\n",
    "                if isinstance(person, dict):\n",
    "                    for key in [\"name\", \"orcid\", \"profile_image_url\", \"has_raw_value\"]:\n",
    "                        if key in person:\n",
    "                            credit_entry[f\"person.{key}\"] = person[key]\n",
    "\n",
    "                    # Pipe-concatenate websites if it's a list\n",
    "                    if isinstance(person.get(\"websites\"), list):\n",
    "                        credit_entry[\"person.websites\"] = \"|\".join(person[\"websites\"])\n",
    "\n",
    "                credit_entries.append(credit_entry)\n",
    "\n",
    "    return credit_entries\n"
   ],
   "id": "bfc90e9183205cdf",
   "outputs": [],
   "execution_count": 27
  },
  {
   "metadata": {
    "ExecuteTime": {
     "end_time": "2025-02-27T21:05:15.778172Z",
     "start_time": "2025-02-27T21:05:15.771875Z"
    }
   },
   "cell_type": "code",
   "source": [
    "def extract_chem_administration(biosamples):\n",
    "    \"\"\"\n",
    "    Extracts chem_administration field from biosample documents,\n",
    "    creating a separate table with biosample ID, chemical name, chemical ID,\n",
    "    raw value, and timestamp.\n",
    "\n",
    "    :param biosamples: List of biosample documents\n",
    "    :return: List of dictionaries, each representing a chemical administration entry\n",
    "    \"\"\"\n",
    "    chem_entries = []\n",
    "    pattern = re.compile(r\"^(.*?) \\[([^\\]]+)\\];([\\d\\-T:]+)$\")  # Regex for label, CURIE, timestamp\n",
    "\n",
    "    for sample in biosamples:\n",
    "        biosample_id = sample.get(\"id\")  # Get biosample ID\n",
    "        chem_administration = sample.get(\"chem_administration\", [])\n",
    "\n",
    "        for chem in chem_administration:\n",
    "            if isinstance(chem, dict):\n",
    "                entry = {\"biosample_id\": biosample_id}\n",
    "\n",
    "                # Extract has_raw_value and parse it\n",
    "                raw_value = chem.get(\"has_raw_value\", \"\")\n",
    "                entry[\"has_raw_value\"] = raw_value\n",
    "\n",
    "                match = pattern.match(raw_value)\n",
    "                if match:\n",
    "                    entry[\"extracted_label\"] = match.group(1)\n",
    "                    entry[\"extracted_curie\"] = match.group(2)\n",
    "                    entry[\"extracted_timestamp\"] = match.group(3)\n",
    "                else:\n",
    "                    entry[\"extracted_label\"] = \"\"\n",
    "                    entry[\"extracted_curie\"] = \"\"\n",
    "                    entry[\"extracted_timestamp\"] = \"\"\n",
    "\n",
    "                # Extract term details if present\n",
    "                term = chem.get(\"term\", {})\n",
    "                if isinstance(term, dict):\n",
    "                    entry[\"term_id\"] = term.get(\"id\", \"\")\n",
    "                    entry[\"term_name\"] = term.get(\"name\", \"\")\n",
    "\n",
    "                chem_entries.append(entry)\n",
    "\n",
    "    return chem_entries\n"
   ],
   "id": "75e55f9e5ddb55dd",
   "outputs": [],
   "execution_count": 28
  },
  {
   "metadata": {
    "ExecuteTime": {
     "end_time": "2025-02-27T21:05:15.826414Z",
     "start_time": "2025-02-27T21:05:15.821969Z"
    }
   },
   "cell_type": "code",
   "source": [
    "def extract_gold_contacts(records, idcol):\n",
    "    \"\"\"\n",
    "    Extracts contacts from biosample documents, creating a structured table with\n",
    "    biosample ID, contact name, email, jgiSsoId, and roles.\n",
    "\n",
    "    :param biosamples: List of biosample documents\n",
    "    :return: List of dictionaries, each representing a contact with the biosample ID\n",
    "    \"\"\"\n",
    "    contact_entries = []\n",
    "\n",
    "    for sample in records:\n",
    "        record_id = sample.get(idcol)  # Get biosample ID\n",
    "        contacts = sample.get(\"contacts\", [])\n",
    "\n",
    "        for contact in contacts:\n",
    "            if isinstance(contact, dict):\n",
    "                entry = {\n",
    "                    \"id\": record_id,\n",
    "                    \"name\": contact.get(\"name\", \"\"),\n",
    "                    \"email\": contact.get(\"email\", \"\"),\n",
    "                    \"jgiSsoId\": contact.get(\"jgiSsoId\", \"\"),\n",
    "                    \"roles\": \"|\".join(sorted(contact.get(\"roles\", [])))  # Pipe-concatenate sorted roles\n",
    "                }\n",
    "                contact_entries.append(entry)\n",
    "\n",
    "    return contact_entries\n"
   ],
   "id": "2a644bd63244b2c5",
   "outputs": [],
   "execution_count": 29
  },
  {
   "metadata": {
    "ExecuteTime": {
     "end_time": "2025-02-27T21:05:15.874950Z",
     "start_time": "2025-02-27T21:05:15.870709Z"
    }
   },
   "cell_type": "code",
   "source": [
    "def extract_harmonized_attributes(biosamples):\n",
    "    \"\"\"\n",
    "    Extracts attributes from biosample documents, keeping only those with a 'harmonized_name' key.\n",
    "    The result is a structured table where each biosample is represented by its accession and\n",
    "    selected attributes mapped by harmonized_name.\n",
    "\n",
    "    :param biosamples: List of biosample documents\n",
    "    :return: List of dictionaries, each representing a biosample with selected attributes\n",
    "    \"\"\"\n",
    "    extracted_entries = []\n",
    "\n",
    "    for sample in biosamples:\n",
    "        biosample_entry = {\"accession\": sample.get(\"accession\", \"\")}  # Retain accession\n",
    "\n",
    "        # Extract attributes list\n",
    "        attributes_list = sample.get(\"Attributes\", {}).get(\"Attribute\", [])  # Use {} to avoid KeyError\n",
    "\n",
    "        for attribute in attributes_list:\n",
    "            if isinstance(attribute, dict):  # Ensure attribute is a dictionary\n",
    "                harmonized_name = attribute.get(\"harmonized_name\")\n",
    "                content = attribute.get(\"content\", \"\")\n",
    "\n",
    "                if harmonized_name:  # Retain only attributes with harmonized_name\n",
    "                    biosample_entry[harmonized_name] = content\n",
    "\n",
    "        extracted_entries.append(biosample_entry)\n",
    "\n",
    "    return extracted_entries\n"
   ],
   "id": "1dd532af511686d2",
   "outputs": [],
   "execution_count": 30
  },
  {
   "metadata": {
    "ExecuteTime": {
     "end_time": "2025-02-27T21:05:15.922007Z",
     "start_time": "2025-02-27T21:05:15.917889Z"
    }
   },
   "cell_type": "code",
   "source": [
    "def extract_all_attributes(biosamples):\n",
    "    \"\"\"\n",
    "    Extracts all attributes from biosample documents and appends the biosample's 'accession' field.\n",
    "    Each attribute is stored as a separate dictionary entry.\n",
    "\n",
    "    :param biosamples: List of biosample dictionaries\n",
    "    :return: List of dictionaries, each representing an attribute with its associated biosample accession\n",
    "    \"\"\"\n",
    "    extracted_entries = []\n",
    "\n",
    "    for sample in biosamples:\n",
    "        accession = sample.get(\"accession\", \"\")  # Retain accession\n",
    "\n",
    "        # Extract attributes list\n",
    "        attributes_list = sample.get(\"Attributes\", {}).get(\"Attribute\", [])  # Use {} to avoid KeyError\n",
    "\n",
    "        for attribute in attributes_list:\n",
    "            if isinstance(attribute, dict):  # Ensure attribute is a dictionary\n",
    "                # Copy attribute and add accession field\n",
    "                attribute_entry = attribute.copy()\n",
    "                attribute_entry[\"accession\"] = accession\n",
    "                extracted_entries.append(attribute_entry)\n",
    "\n",
    "    return extracted_entries\n"
   ],
   "id": "b6cd83e6ec27ae2d",
   "outputs": [],
   "execution_count": 31
  },
  {
   "metadata": {
    "ExecuteTime": {
     "end_time": "2025-02-27T21:05:15.972788Z",
     "start_time": "2025-02-27T21:05:15.966780Z"
    }
   },
   "cell_type": "code",
   "source": [
    "def extract_biosample_ids(biosamples):\n",
    "    \"\"\"\n",
    "    Extracts IDs from biosample documents and appends the biosample's 'accession' field.\n",
    "    Each ID entry is stored as a separate dictionary.\n",
    "\n",
    "    :param biosamples: List of biosample dictionaries\n",
    "    :return: List of dictionaries, each representing an ID with its associated biosample accession\n",
    "    \"\"\"\n",
    "    extracted_entries = []\n",
    "\n",
    "    for sample in biosamples:\n",
    "        accession = sample.get(\"accession\", \"\")  # Retain accession\n",
    "\n",
    "        # Extract Ids list (assuming it's a dictionary stored as a JSON-like structure)\n",
    "        ids_data = sample.get(\"Ids\", {})\n",
    "\n",
    "        # Ensure it's a dictionary and extract the list of Ids\n",
    "        ids_list = ids_data.get(\"Id\", [])\n",
    "\n",
    "        if not isinstance(ids_list, list):\n",
    "            continue  # Skip if Ids is not a list (avoids errors)\n",
    "\n",
    "        for id_entry in ids_list:\n",
    "            if isinstance(id_entry, dict):  # Ensure ID entry is a dictionary\n",
    "                # Copy ID entry and add accession field\n",
    "                id_entry_copy = id_entry.copy()\n",
    "                id_entry_copy[\"accession\"] = accession\n",
    "                extracted_entries.append(id_entry_copy)\n",
    "\n",
    "    return extracted_entries\n"
   ],
   "id": "f5f8e75e03373307",
   "outputs": [],
   "execution_count": 32
  },
  {
   "metadata": {
    "ExecuteTime": {
     "end_time": "2025-02-27T21:05:16.021207Z",
     "start_time": "2025-02-27T21:05:16.016183Z"
    }
   },
   "cell_type": "code",
   "source": [
    "def extract_biosample_models_content(biosamples):\n",
    "    \"\"\"\n",
    "    Extracts X from biosample documents and appends the biosample's 'accession' field.\n",
    "    Each X is stored as a separate dictionary.\n",
    "\n",
    "    :param biosamples: List of biosample dictionaries\n",
    "    :return: List of dictionaries, each representing an X with its associated biosample accession\n",
    "    \"\"\"\n",
    "\n",
    "    # todo ignores the moderate possibility that non-EMP500 studies might user other model sub-fields like version\n",
    "    extracted_entries = []\n",
    "\n",
    "    for sample in biosamples:\n",
    "        accession = sample.get(\"accession\", \"\")  # Retain accession\n",
    "\n",
    "        # Extract Ids list (assuming it's a dictionary stored as a JSON-like structure)\n",
    "        x_data = sample.get(\"Models\", {})\n",
    "\n",
    "        # is this the kind of thing that could be a dict or a list?\n",
    "        x_inner = x_data.get(\"Model\", [])\n",
    "\n",
    "        if isinstance(x_inner, dict):\n",
    "            x_inner[\"accession\"] = accession\n",
    "            extracted_entries.append(x_inner)\n",
    "\n",
    "        if isinstance(x_inner, dict):\n",
    "            for x_entry in x_inner:\n",
    "                if isinstance(x_entry, dict):  # Ensure ID entry is a dictionary\n",
    "                    # Copy ID entry and add accession field\n",
    "                    x_entry_copy = x_entry.copy()\n",
    "                    x_entry_copy[\"accession\"] = accession\n",
    "                    extracted_entries.append(x_entry_copy)\n",
    "\n",
    "    return extracted_entries\n"
   ],
   "id": "72989862a4a78bc6",
   "outputs": [],
   "execution_count": 33
  },
  {
   "metadata": {
    "ExecuteTime": {
     "end_time": "2025-02-27T21:05:16.067414Z",
     "start_time": "2025-02-27T21:05:16.063474Z"
    }
   },
   "cell_type": "code",
   "source": [
    "def extract_biosample_owner_name_content(biosamples):\n",
    "    \"\"\"\n",
    "    Extracts X from biosample documents and appends the biosample's 'accession' field.\n",
    "    Each X is stored as a separate dictionary.\n",
    "\n",
    "    :param biosamples: List of biosample dictionaries\n",
    "    :return: List of dictionaries, each representing an X with its associated biosample accession\n",
    "    \"\"\"\n",
    "\n",
    "    # todo ignores the strong possibility that non-EMP500 studies might some of the many other owner sub-fields\n",
    "\n",
    "    extracted_entries = []\n",
    "\n",
    "    for sample in biosamples:\n",
    "        accession = sample.get(\"accession\", \"\")  # Retain accession\n",
    "\n",
    "        owner = sample.get(\"Owner\", [])\n",
    "        owner_name = owner.get(\"Name\", [])\n",
    "        owner_name['accession'] = accession\n",
    "        extracted_entries.append(owner_name)\n",
    "\n",
    "    return extracted_entries\n"
   ],
   "id": "2eb9a9fb3bbe9ff2",
   "outputs": [],
   "execution_count": 34
  },
  {
   "metadata": {
    "ExecuteTime": {
     "end_time": "2025-02-27T21:05:16.115500Z",
     "start_time": "2025-02-27T21:05:16.110546Z"
    }
   },
   "cell_type": "code",
   "source": [
    "def flatten_ncbi_emp500_biosample_descriptions(biosamples):\n",
    "    \"\"\"\n",
    "    Flattens biosample descriptions into a structured format, extracting:\n",
    "    - Accession (from Title)\n",
    "    - Taxonomy ID and Name (from Organism)\n",
    "    - Organism Name (from Organism.OrganismName.content)\n",
    "    - Description (from Comment.Paragraph.content)\n",
    "\n",
    "    :param biosamples: List of biosample dictionaries\n",
    "    :return: List of flattened biosample records\n",
    "    \"\"\"\n",
    "    flattened_entries = []\n",
    "\n",
    "    for sample in biosamples:\n",
    "        flattened_entry = {}\n",
    "\n",
    "        accession = sample.get(\"accession\", \"\")\n",
    "\n",
    "        biosample_desc = sample.get(\"Description\", {})\n",
    "\n",
    "        # Extract accession from Title\n",
    "        flattened_entry[\"accession\"] = accession\n",
    "\n",
    "        # Extract taxonomy information from Organism\n",
    "        organism = biosample_desc.get(\"Organism\", {})\n",
    "        flattened_entry[\"taxonomy_id\"] = organism.get(\"taxonomy_id\", \"\")\n",
    "        flattened_entry[\"taxonomy_name\"] = organism.get(\"taxonomy_name\", \"\")\n",
    "        flattened_entry[\"organism_name\"] = organism.get(\"OrganismName\", {}).get(\"content\", \"\")\n",
    "\n",
    "        # Extract sample description from Comment\n",
    "        comment = biosample_desc.get(\"Comment\", {}).get(\"Paragraph\", {})\n",
    "        flattened_entry[\"description\"] = comment.get(\"content\", \"\")\n",
    "\n",
    "        flattened_entries.append(flattened_entry)\n",
    "\n",
    "    return flattened_entries\n"
   ],
   "id": "c1976ad9831348c4",
   "outputs": [],
   "execution_count": 35
  },
  {
   "metadata": {
    "ExecuteTime": {
     "end_time": "2025-02-27T21:05:16.163097Z",
     "start_time": "2025-02-27T21:05:16.158457Z"
    }
   },
   "cell_type": "code",
   "source": [
    "def reorder_columns(df, primary_columns, do_sort=True):\n",
    "    \"\"\"\n",
    "    Reorders a DataFrame's columns so that specified columns appear first in the given order,\n",
    "    followed by all other columns sorted alphabetically.\n",
    "\n",
    "    :param df: pandas DataFrame\n",
    "    :param primary_columns: List of columns to move to the first positions in order\n",
    "    :return: DataFrame with reordered columns\n",
    "    \"\"\"\n",
    "    if not isinstance(primary_columns, list):\n",
    "        raise ValueError(\"primary_columns must be a list\")\n",
    "\n",
    "    missing_columns = [col for col in primary_columns if col not in df.columns]\n",
    "    if missing_columns:\n",
    "        raise ValueError(f\"Columns {missing_columns} not found in DataFrame\")\n",
    "\n",
    "    remaining_columns = [col for col in df.columns if col not in primary_columns]  # Exclude primary columns\n",
    "    if do_sort:\n",
    "        remaining_columns = sorted(remaining_columns)  # Sort remaining columns alphabetically\n",
    "    new_order = primary_columns + remaining_columns  # Place primary columns first in order\n",
    "    return df[new_order]  # Reorder DataFrame\n"
   ],
   "id": "b5a88afdf5d3064f",
   "outputs": [],
   "execution_count": 36
  },
  {
   "metadata": {
    "ExecuteTime": {
     "end_time": "2025-02-27T21:05:16.208133Z",
     "start_time": "2025-02-27T21:05:16.205394Z"
    }
   },
   "cell_type": "code",
   "source": "ever_seen = set() # all values found when checking to_label_check slots",
   "id": "59e42d67ced1984f",
   "outputs": [],
   "execution_count": 37
  },
  {
   "metadata": {
    "ExecuteTime": {
     "end_time": "2025-02-27T21:05:16.278879Z",
     "start_time": "2025-02-27T21:05:16.250660Z"
    }
   },
   "cell_type": "code",
   "source": "ontology_adapters = build_ontology_adapters(ontology_list)",
   "id": "8ba934144a44fafb",
   "outputs": [],
   "execution_count": 38
  },
  {
   "metadata": {
    "ExecuteTime": {
     "end_time": "2025-02-27T21:05:32.412518Z",
     "start_time": "2025-02-27T21:05:16.297598Z"
    }
   },
   "cell_type": "code",
   "source": "label_cache = load_ontology_labels(ontology_adapters)",
   "id": "50f9675db16dd349",
   "outputs": [],
   "execution_count": 39
  },
  {
   "metadata": {
    "ExecuteTime": {
     "end_time": "2025-02-27T21:05:32.447226Z",
     "start_time": "2025-02-27T21:05:32.422399Z"
    }
   },
   "cell_type": "code",
   "source": "obsolete_terms_list = find_obsolete_terms(ontology_adapters)",
   "id": "cb359407173a9411",
   "outputs": [],
   "execution_count": 40
  },
  {
   "metadata": {
    "ExecuteTime": {
     "end_time": "2025-02-27T21:05:32.466648Z",
     "start_time": "2025-02-27T21:05:32.464160Z"
    }
   },
   "cell_type": "code",
   "source": [
    "# determine what nmdc-schema slots on which classes might contain links to external biosamples, studies or article DOIs\n",
    "\n",
    "# anything outside of https://microbiomedata.github.io/nmdc-schema/alternative_identifiers/ ->\n",
    "#   https://microbiomedata.github.io/nmdc-schema/external_database_identifiers/ ?"
   ],
   "id": "f9f274dbff84edab",
   "outputs": [],
   "execution_count": 41
  },
  {
   "metadata": {
    "ExecuteTime": {
     "end_time": "2025-02-27T21:05:33.601697Z",
     "start_time": "2025-02-27T21:05:32.510136Z"
    }
   },
   "cell_type": "code",
   "source": "nmdc_schema_view = SchemaView(nmdc_schema_url)",
   "id": "2e8a0ed0a0e78d93",
   "outputs": [],
   "execution_count": 42
  },
  {
   "metadata": {
    "ExecuteTime": {
     "end_time": "2025-02-27T21:05:34.930516Z",
     "start_time": "2025-02-27T21:05:34.914790Z"
    }
   },
   "cell_type": "code",
   "source": "alternative_identifier_descendants = nmdc_schema_view.slot_descendants(\"alternative_identifiers\")",
   "id": "17e0b6f25cc50a20",
   "outputs": [],
   "execution_count": 43
  },
  {
   "metadata": {
    "ExecuteTime": {
     "end_time": "2025-02-27T21:05:37.528132Z",
     "start_time": "2025-02-27T21:05:37.525577Z"
    }
   },
   "cell_type": "code",
   "source": "alternative_identifier_descendants.sort()",
   "id": "4a05b58f572a7a3e",
   "outputs": [],
   "execution_count": 44
  },
  {
   "metadata": {
    "ExecuteTime": {
     "end_time": "2025-02-27T21:05:37.551575Z",
     "start_time": "2025-02-27T21:05:37.532402Z"
    }
   },
   "cell_type": "code",
   "source": [
    "aid_rows = []\n",
    "for aid_name in alternative_identifier_descendants:\n",
    "    aid = nmdc_schema_view.get_slot(aid_name)\n",
    "    aid_mixins = aid['mixins']\n",
    "    aid_is_a = aid.is_a\n",
    "    aid_classes = nmdc_schema_view.get_classes_by_slot(aid)\n",
    "    aid_class_descendant_names = set()\n",
    "    for c in aid_classes:\n",
    "        c_descendants = nmdc_schema_view.class_descendants(c)\n",
    "        aid_class_descendant_names.update(c_descendants)\n",
    "    aid_class_descendant_names = list(aid_class_descendant_names)\n",
    "    aid_class_descendant_names.sort()\n",
    "    aid_rows.append({\n",
    "        'slot': aid_name,\n",
    "        'parent': aid_is_a,\n",
    "        'mixins': aid_mixins,\n",
    "        'classes_using': aid_class_descendant_names,\n",
    "    })"
   ],
   "id": "a151e049f60c5082",
   "outputs": [],
   "execution_count": 45
  },
  {
   "metadata": {
    "ExecuteTime": {
     "end_time": "2025-02-27T21:05:38.917405Z",
     "start_time": "2025-02-27T21:05:38.914542Z"
    }
   },
   "cell_type": "code",
   "source": "aid_frame = pd.DataFrame(aid_rows)",
   "id": "9dc1afc53d037747",
   "outputs": [],
   "execution_count": 46
  },
  {
   "metadata": {
    "ExecuteTime": {
     "end_time": "2025-02-27T21:05:40.235389Z",
     "start_time": "2025-02-27T21:05:40.230615Z"
    }
   },
   "cell_type": "code",
   "source": "aid_frame.to_csv(aid_tsv, sep=\"\\t\", index=False)",
   "id": "b84b963b14264945",
   "outputs": [],
   "execution_count": 47
  },
  {
   "metadata": {},
   "cell_type": "markdown",
   "source": "----",
   "id": "7dfb4086d8b5bf22"
  },
  {
   "metadata": {
    "ExecuteTime": {
     "end_time": "2025-02-27T21:05:43.882408Z",
     "start_time": "2025-02-27T21:05:42.904306Z"
    }
   },
   "cell_type": "code",
   "source": "nmdc_schema_usage_index = nmdc_schema_view.usage_index() # collections.defaultdict; Dict[ElementName, List[SchemaUsage]]",
   "id": "34dfc3ff1390dfe8",
   "outputs": [],
   "execution_count": 48
  },
  {
   "metadata": {
    "ExecuteTime": {
     "end_time": "2025-02-27T21:05:43.890114Z",
     "start_time": "2025-02-27T21:05:43.887344Z"
    }
   },
   "cell_type": "code",
   "source": [
    "ctv_usage = nmdc_schema_usage_index['ControlledTermValue'] # list of linkml_runtime.utils.schemaview.SchemaUsage\n",
    "\n",
    "# SchemaUsage(used_by='Biosample', slot='chem_administration', metaslot='range', used='ControlledTermValue', inferred=True)"
   ],
   "id": "47f4c62d606302a6",
   "outputs": [],
   "execution_count": 49
  },
  {
   "metadata": {
    "ExecuteTime": {
     "end_time": "2025-02-27T21:05:45.204793Z",
     "start_time": "2025-02-27T21:05:45.202415Z"
    }
   },
   "cell_type": "code",
   "source": "citv_usage = nmdc_schema_usage_index['ControlledIdentifiedTermValue']",
   "id": "83c0f24cc928346e",
   "outputs": [],
   "execution_count": 50
  },
  {
   "metadata": {
    "ExecuteTime": {
     "end_time": "2025-02-27T21:05:47.815017Z",
     "start_time": "2025-02-27T21:05:47.811930Z"
    }
   },
   "cell_type": "code",
   "source": [
    "ctv_using_slots = set()\n",
    "for i in ctv_usage:\n",
    "    ctv_using_slots.add(i.slot)\n",
    "print(len(ctv_using_slots))"
   ],
   "id": "b47fa38e6c9f3608",
   "outputs": [
    {
     "name": "stdout",
     "output_type": "stream",
     "text": [
      "9\n"
     ]
    }
   ],
   "execution_count": 51
  },
  {
   "metadata": {
    "ExecuteTime": {
     "end_time": "2025-02-27T21:05:47.835099Z",
     "start_time": "2025-02-27T21:05:47.821565Z"
    }
   },
   "cell_type": "code",
   "source": [
    "for i in citv_usage:\n",
    "    ctv_using_slots.add(i.slot)\n",
    "print(len(ctv_using_slots))"
   ],
   "id": "a7e1410fc69bd6de",
   "outputs": [
    {
     "name": "stdout",
     "output_type": "stream",
     "text": [
      "15\n"
     ]
    }
   ],
   "execution_count": 52
  },
  {
   "metadata": {
    "ExecuteTime": {
     "end_time": "2025-02-27T21:05:49.184550Z",
     "start_time": "2025-02-27T21:05:49.178911Z"
    }
   },
   "cell_type": "code",
   "source": "ctv_using_slots",
   "id": "ca3aee5e6d3ce6ec",
   "outputs": [
    {
     "data": {
      "text/plain": [
       "{'chem_administration',\n",
       " 'env_broad_scale',\n",
       " 'env_local_scale',\n",
       " 'env_medium',\n",
       " 'experimental_factor',\n",
       " 'feature_category',\n",
       " 'growth_facil',\n",
       " 'host_body_product',\n",
       " 'host_body_site',\n",
       " 'host_phenotype',\n",
       " 'host_taxid',\n",
       " 'plant_growth_med',\n",
       " 'plant_struc',\n",
       " 'samp_mat_process',\n",
       " 'samp_taxon_id'}"
      ]
     },
     "execution_count": 53,
     "metadata": {},
     "output_type": "execute_result"
    }
   ],
   "execution_count": 53
  },
  {
   "metadata": {},
   "cell_type": "markdown",
   "source": "----",
   "id": "a2d6a1e4850b4b01"
  },
  {
   "metadata": {
    "ExecuteTime": {
     "end_time": "2025-02-27T21:05:55.359289Z",
     "start_time": "2025-02-27T21:05:50.502815Z"
    }
   },
   "cell_type": "code",
   "source": [
    "# Example usage:\n",
    "studies = fetch_all_documents(\"study_set\", page_size=20)  # Fetch with a custom page size"
   ],
   "id": "6ccb0f7cc735e01b",
   "outputs": [
    {
     "name": "stdout",
     "output_type": "stream",
     "text": [
      "next_page_token = 'nmdc:sys0sxb14n02'\n"
     ]
    }
   ],
   "execution_count": 54
  },
  {
   "metadata": {
    "ExecuteTime": {
     "end_time": "2025-02-27T21:05:56.707237Z",
     "start_time": "2025-02-27T21:05:56.704558Z"
    }
   },
   "cell_type": "code",
   "source": "print(f\"Retrieved {len(studies)} studies\")",
   "id": "d600121b4ae92d26",
   "outputs": [
    {
     "name": "stdout",
     "output_type": "stream",
     "text": [
      "Retrieved 32 studies\n"
     ]
    }
   ],
   "execution_count": 55
  },
  {
   "metadata": {
    "ExecuteTime": {
     "end_time": "2025-02-27T21:05:58.060144Z",
     "start_time": "2025-02-27T21:05:58.056676Z"
    }
   },
   "cell_type": "code",
   "source": [
    "scalar_studies = flatten(\n",
    "    studies,\n",
    "    ctv_slots=ctv_using_slots,\n",
    "    known_skips={'associated_dois', 'has_credit_associations'}\n",
    ")"
   ],
   "id": "172a9f0bd5b35958",
   "outputs": [
    {
     "name": "stdout",
     "output_type": "stream",
     "text": [
      "stringified: ['protocol_link', 'study_image']\n"
     ]
    }
   ],
   "execution_count": 56
  },
  {
   "metadata": {},
   "cell_type": "markdown",
   "source": "stringified: {'study_image', 'protocol_link'}",
   "id": "22c0e0c4fbef26a"
  },
  {
   "metadata": {
    "ExecuteTime": {
     "end_time": "2025-02-27T21:05:59.351463Z",
     "start_time": "2025-02-27T21:05:59.347972Z"
    }
   },
   "cell_type": "code",
   "source": "scalar_study_df = pd.DataFrame(scalar_studies)",
   "id": "50873aca0f53c289",
   "outputs": [],
   "execution_count": 57
  },
  {
   "metadata": {
    "ExecuteTime": {
     "end_time": "2025-02-27T21:06:00.664617Z",
     "start_time": "2025-02-27T21:06:00.661115Z"
    }
   },
   "cell_type": "code",
   "source": "scalar_study_df = reorder_columns(scalar_study_df, [\"id\"])",
   "id": "6b12e0a5a0d56056",
   "outputs": [],
   "execution_count": 58
  },
  {
   "metadata": {
    "ExecuteTime": {
     "end_time": "2025-02-27T21:06:03.275108Z",
     "start_time": "2025-02-27T21:06:03.270496Z"
    }
   },
   "cell_type": "code",
   "source": "scalar_study_df.to_csv(scalar_studies_tsv, sep=\"\\t\", index=False)",
   "id": "837cac03da95f570",
   "outputs": [],
   "execution_count": 59
  },
  {
   "metadata": {},
   "cell_type": "markdown",
   "source": [
    "see also\n",
    "\n",
    "notebooks/studies_exploration/streams_assesments_llm/streams_prep.ipynb"
   ],
   "id": "a844d994de44f55c"
  },
  {
   "metadata": {},
   "cell_type": "markdown",
   "source": "----",
   "id": "132e088a7a3428c5"
  },
  {
   "metadata": {
    "ExecuteTime": {
     "end_time": "2025-02-27T21:06:03.318768Z",
     "start_time": "2025-02-27T21:06:03.315848Z"
    }
   },
   "cell_type": "code",
   "source": "doi_list = extract_associated_dois(studies)",
   "id": "b2bd59078f38a1e8",
   "outputs": [],
   "execution_count": 60
  },
  {
   "metadata": {
    "ExecuteTime": {
     "end_time": "2025-02-27T21:06:04.730286Z",
     "start_time": "2025-02-27T21:06:04.727126Z"
    }
   },
   "cell_type": "code",
   "source": "study_doi_frame = pd.DataFrame(doi_list)",
   "id": "e89ddff38c8c017",
   "outputs": [],
   "execution_count": 61
  },
  {
   "metadata": {
    "ExecuteTime": {
     "end_time": "2025-02-27T21:06:07.328973Z",
     "start_time": "2025-02-27T21:06:07.325820Z"
    }
   },
   "cell_type": "code",
   "source": "study_doi_frame = reorder_columns(study_doi_frame, [\"study_id\"])",
   "id": "733ffa1baa2769a0",
   "outputs": [],
   "execution_count": 62
  },
  {
   "metadata": {
    "ExecuteTime": {
     "end_time": "2025-02-27T21:06:07.373670Z",
     "start_time": "2025-02-27T21:06:07.369847Z"
    }
   },
   "cell_type": "code",
   "source": "study_doi_frame.to_csv(study_dois_tsv, sep=\"\\t\", index=False)",
   "id": "7a3892cf1884c4e4",
   "outputs": [],
   "execution_count": 63
  },
  {
   "metadata": {},
   "cell_type": "markdown",
   "source": "----",
   "id": "1ae2ae3203d592c"
  },
  {
   "metadata": {
    "ExecuteTime": {
     "end_time": "2025-02-27T21:06:08.704327Z",
     "start_time": "2025-02-27T21:06:08.701009Z"
    }
   },
   "cell_type": "code",
   "source": "credit_list = extract_credit_associations(studies)",
   "id": "51f8c1f06fba6129",
   "outputs": [],
   "execution_count": 64
  },
  {
   "metadata": {
    "ExecuteTime": {
     "end_time": "2025-02-27T21:06:10.034174Z",
     "start_time": "2025-02-27T21:06:10.031174Z"
    }
   },
   "cell_type": "code",
   "source": "credit_frame = pd.DataFrame(credit_list)",
   "id": "fc2648456fb4e4e1",
   "outputs": [],
   "execution_count": 65
  },
  {
   "metadata": {
    "ExecuteTime": {
     "end_time": "2025-02-27T21:06:12.637947Z",
     "start_time": "2025-02-27T21:06:12.634749Z"
    }
   },
   "cell_type": "code",
   "source": "credit_frame = reorder_columns(credit_frame, [\"study_id\"])",
   "id": "ecf5fe6e5b8c2853",
   "outputs": [],
   "execution_count": 66
  },
  {
   "metadata": {
    "ExecuteTime": {
     "end_time": "2025-02-27T21:06:12.684671Z",
     "start_time": "2025-02-27T21:06:12.679504Z"
    }
   },
   "cell_type": "code",
   "source": "credit_frame.to_csv(study_credit_associations, sep=\"\\t\", index=False)",
   "id": "836f76f4ec5613cc",
   "outputs": [],
   "execution_count": 67
  },
  {
   "metadata": {},
   "cell_type": "markdown",
   "source": "----",
   "id": "d591c9eb0c466102"
  },
  {
   "metadata": {
    "ExecuteTime": {
     "end_time": "2025-02-27T21:06:49.887907Z",
     "start_time": "2025-02-27T21:06:14.034202Z"
    }
   },
   "cell_type": "code",
   "source": "biosamples = fetch_all_documents(\"biosample_set\", page_size=1000)  # Fetch with a custom page size\n",
   "id": "8fbe576569e90379",
   "outputs": [
    {
     "name": "stdout",
     "output_type": "stream",
     "text": [
      "next_page_token = 'nmdc:sys0h6szta05'\n",
      "next_page_token = 'nmdc:sys0brg2eb59'\n",
      "next_page_token = 'nmdc:sys0pze3hb23'\n",
      "next_page_token = 'nmdc:sys00p0kys71'\n",
      "next_page_token = 'nmdc:sys0ee300092'\n",
      "next_page_token = 'nmdc:sys00emk0m19'\n",
      "next_page_token = 'nmdc:sys03nkypm37'\n",
      "next_page_token = 'nmdc:sys01g4zrw91'\n",
      "next_page_token = 'nmdc:sys0dskrhb49'\n"
     ]
    }
   ],
   "execution_count": 68
  },
  {
   "metadata": {
    "ExecuteTime": {
     "end_time": "2025-02-27T21:06:51.234178Z",
     "start_time": "2025-02-27T21:06:51.231439Z"
    }
   },
   "cell_type": "code",
   "source": "print(f\"Retrieved {len(biosamples)} studies\")",
   "id": "360a8d6c08b7ad61",
   "outputs": [
    {
     "name": "stdout",
     "output_type": "stream",
     "text": [
      "Retrieved 9028 studies\n"
     ]
    }
   ],
   "execution_count": 69
  },
  {
   "metadata": {
    "ExecuteTime": {
     "end_time": "2025-02-27T21:06:52.834493Z",
     "start_time": "2025-02-27T21:06:52.607200Z"
    }
   },
   "cell_type": "code",
   "source": "scalar_biosamples = flatten(biosamples, ctv_slots=ctv_using_slots, known_skips={\"chem_administration\"})",
   "id": "dabe062824f7da98",
   "outputs": [
    {
     "name": "stdout",
     "output_type": "stream",
     "text": [
      "stringified: ['fertilizer_regm', 'host_diet', 'perturbation']\n"
     ]
    }
   ],
   "execution_count": 70
  },
  {
   "metadata": {},
   "cell_type": "markdown",
   "source": "stringified: ['fertilizer_regm', 'host_diet', 'perturbation']",
   "id": "375e685465760e18"
  },
  {
   "metadata": {
    "ExecuteTime": {
     "end_time": "2025-02-27T21:06:55.243917Z",
     "start_time": "2025-02-27T21:06:54.182722Z"
    }
   },
   "cell_type": "code",
   "source": [
    "# Iterate over each sample dictionary\n",
    "for sample in scalar_biosamples:\n",
    "    for key in to_label_check:\n",
    "        if key in sample:\n",
    "            ever_seen.add(sample[key])\n",
    "            if sample[key] in label_cache:  # Check if the value is a CURIE in the cache\n",
    "                sample[f\"{key}.canonical_label\"] = label_cache[sample[key]]\n",
    "            if sample[key] in obsolete_terms_list:\n",
    "                sample[f\"{key}.obsolete\"] = True\n",
    "            else:\n",
    "                sample[f\"{key}.obsolete\"] = False"
   ],
   "id": "fff7b3c60a957f82",
   "outputs": [],
   "execution_count": 71
  },
  {
   "metadata": {
    "ExecuteTime": {
     "end_time": "2025-02-27T21:06:56.867440Z",
     "start_time": "2025-02-27T21:06:56.619969Z"
    }
   },
   "cell_type": "code",
   "source": "scalar_biosample_frame = pd.DataFrame(scalar_biosamples)",
   "id": "f57a42c7eb23930d",
   "outputs": [],
   "execution_count": 72
  },
  {
   "metadata": {
    "ExecuteTime": {
     "end_time": "2025-02-27T21:06:58.247097Z",
     "start_time": "2025-02-27T21:06:58.221472Z"
    }
   },
   "cell_type": "code",
   "source": "scalar_biosample_frame = reorder_columns(scalar_biosample_frame, [\"id\"])",
   "id": "c69bace2f4500eb7",
   "outputs": [],
   "execution_count": 73
  },
  {
   "metadata": {
    "ExecuteTime": {
     "end_time": "2025-02-27T21:07:00.152075Z",
     "start_time": "2025-02-27T21:06:59.613437Z"
    }
   },
   "cell_type": "code",
   "source": "scalar_biosample_frame.to_csv(scalar_biosamples_tsv, sep=\"\\t\", index=False)",
   "id": "2d809d9cbf4baa34",
   "outputs": [],
   "execution_count": 74
  },
  {
   "metadata": {},
   "cell_type": "markdown",
   "source": "----",
   "id": "3bf0c21978dd9e6b"
  },
  {
   "metadata": {
    "ExecuteTime": {
     "end_time": "2025-02-27T21:07:02.845321Z",
     "start_time": "2025-02-27T21:07:02.837909Z"
    }
   },
   "cell_type": "code",
   "source": "chem_admin_data = extract_chem_administration(biosamples)",
   "id": "7ae56781db099a4a",
   "outputs": [],
   "execution_count": 75
  },
  {
   "metadata": {
    "ExecuteTime": {
     "end_time": "2025-02-27T21:07:02.865582Z",
     "start_time": "2025-02-27T21:07:02.850322Z"
    }
   },
   "cell_type": "code",
   "source": "chem_admin_df = pd.DataFrame(chem_admin_data)",
   "id": "d551fec7e6828034",
   "outputs": [],
   "execution_count": 76
  },
  {
   "metadata": {
    "ExecuteTime": {
     "end_time": "2025-02-27T21:07:04.248775Z",
     "start_time": "2025-02-27T21:07:04.245329Z"
    }
   },
   "cell_type": "code",
   "source": "chem_admin_df.to_csv(biosample_chem_admin_tsv, sep=\"\\t\", index=False)",
   "id": "859e1017c08e3893",
   "outputs": [],
   "execution_count": 77
  },
  {
   "metadata": {},
   "cell_type": "markdown",
   "source": "----",
   "id": "64f774e64c786e09"
  },
  {
   "metadata": {
    "ExecuteTime": {
     "end_time": "2025-02-27T21:07:05.615402Z",
     "start_time": "2025-02-27T21:07:05.613192Z"
    }
   },
   "cell_type": "code",
   "source": [
    "# get all production submission biosamples\n",
    "# previously loaded by"
   ],
   "id": "16f7d93bee4698a3",
   "outputs": [],
   "execution_count": 78
  },
  {
   "metadata": {
    "ExecuteTime": {
     "end_time": "2025-02-27T21:07:08.377520Z",
     "start_time": "2025-02-27T21:07:08.374320Z"
    }
   },
   "cell_type": "code",
   "source": [
    "# see also\n",
    "# notebooks/studies_exploration/get_nmdc_submissions.ipynb"
   ],
   "id": "24db690ebb453105",
   "outputs": [],
   "execution_count": 79
  },
  {
   "metadata": {
    "ExecuteTime": {
     "end_time": "2025-02-27T21:07:10.526587Z",
     "start_time": "2025-02-27T21:07:10.193632Z"
    }
   },
   "cell_type": "code",
   "source": [
    "submission_biosamples = []\n",
    "\n",
    "skip_templates = [\n",
    "    'emsl_data',\n",
    "    'host_associated_data',\n",
    "    'jgi_mg_data',\n",
    "    'jgi_mg_lr_data',\n",
    "    'jgi_mt_data',\n",
    "]\n",
    "\n",
    "# Iterate through each document in the local MongoDB submissions collection\n",
    "for doc in submissions_collection.find():\n",
    "    # Ensure metadata_submission and sampleData exist\n",
    "    print(doc['id'])\n",
    "    if 'metadata_submission' in doc and 'sampleData' in doc['metadata_submission']:\n",
    "        sample_data = doc['metadata_submission']['sampleData']\n",
    "\n",
    "        # Iterate through the keys in sampleData (e.g., \"soil_data\", \"water_data\", etc.)\n",
    "        for key, sample_list in sample_data.items():\n",
    "            if key in skip_templates:\n",
    "                continue\n",
    "            if isinstance(sample_list, list):  # Ensure it's a list of dictionaries\n",
    "                for sample in sample_list:\n",
    "                    for k, v in list(sample.items()):  # Iterate over a list copy to avoid modification issues\n",
    "                        if k in ctv_using_slots:\n",
    "                            parsed_label_curie = parse_label_curie(v)\n",
    "                            if parsed_label_curie:\n",
    "                                sample[f\"{k}.id\"] = parsed_label_curie['curie']\n",
    "                                sample[f\"{k}.claimed_label\"] = parsed_label_curie['label']\n",
    "\n",
    "                    if isinstance(sample, dict):  # Ensure each sample is a dictionary\n",
    "                        # Create a copy of the sample dictionary and add extra fields\n",
    "                        sample_with_id = sample.copy()\n",
    "                        sample_with_id['sampleData'] = key  # Store the category of sampleData\n",
    "                        sample_with_id['submission_id'] = doc['id']  # Add the document ID\n",
    "                        sample_with_id['created'] = doc['created']  # Add the document ID\n",
    "                        sample_with_id['date_last_modified'] = doc['date_last_modified']  # Add the document ID\n",
    "                        sample_with_id['status'] = doc['status']  # Add the document ID\n",
    "\n",
    "                        submission_biosamples.append(sample_with_id)\n"
   ],
   "id": "12ce6c476fac8871",
   "outputs": [
    {
     "name": "stdout",
     "output_type": "stream",
     "text": [
      "b10738cf-7e47-40b3-aeb8-c19ca48f4d1c\n",
      "d3afdea2-f947-47c0-b8bb-56a9b8cd2788\n",
      "0113855c-e14c-4ebc-9fd1-068c70bf151a\n",
      "b57a0f2d-e962-4298-8e63-7aa42c691426\n",
      "46fbb6a9-7647-43ba-8cab-d9e31be23a32\n",
      "fa4ea049-1df5-427a-9edd-5f72ba9daa7d\n",
      "dc5217c1-b497-4045-b3b9-408c81a40361\n",
      "5b7f3b1c-7c1d-4794-b746-2c19fd10431e\n",
      "7237020e-efeb-4b4c-a2ea-6fd9c77cab5d\n",
      "b173c65a-41e6-4730-8d7b-98dbc47ef7e3\n",
      "719d9a5b-e83b-414c-a462-9c4dc7fa32ff\n",
      "574d66a2-fdc7-4bb1-8890-449be66df437\n",
      "e15c7268-aacd-4e0c-82ae-21a32e4cb5a0\n",
      "a0a22298-3bb7-4bb3-8ed6-dff24ad69671\n",
      "73698423-e18d-4673-93f9-332ee12d0195\n",
      "f36b508e-4dc0-4c6b-ab5e-448b8453741e\n",
      "2f767c7e-7b57-4608-9cd3-dd5864eb2a67\n",
      "4065dede-da16-483a-9e2f-94474bea2fb3\n",
      "6cc055a5-d169-4db8-9ed4-48a50d889730\n",
      "1d000479-7652-429c-94da-6549888b9da2\n",
      "29cf2d6a-5783-4c9d-ae1d-660d8bf7502e\n",
      "d33ac136-e934-497b-8ce1-555cb816267f\n",
      "78865204-991c-43d7-bef4-eaf5e8630b44\n",
      "6128ea79-f122-4d14-8588-30f06ce3f1f6\n",
      "a164c6a2-9e3a-4344-9746-ec5c410b58d6\n",
      "0c8e9595-8c8c-4e07-bbb1-2730aaa98313\n",
      "0f87b20e-0d89-45a0-8650-240a02249adc\n",
      "202b557e-bdb3-4fbb-a63d-88b3d17b025d\n",
      "01c52edb-7dbc-40c1-a5bf-7cf8e0e58a46\n",
      "a56d725c-29ed-4411-859c-25cc892a2181\n",
      "05616186-9114-44eb-9671-18e96a18898d\n",
      "31e7db40-bcd2-4bbb-b49a-2217071ee8f2\n",
      "0369f4b6-3d06-458d-93dc-6df70e72024c\n",
      "b321cf22-722d-46dd-ace6-bcfca9850a4e\n",
      "4d592c83-0ed7-46b1-a2d0-01b478947265\n",
      "522b43ac-adc7-4f95-9c8f-76b2e513d444\n",
      "f4fa2072-f3b1-4175-beae-2ed299dfb3e8\n",
      "546436c1-5fe3-4283-be72-f305547c8d1b\n",
      "e0ef7030-9ee7-48f1-8bbe-a900961e7e5d\n",
      "72aa212d-f05e-4c92-99a4-a1370b0812c6\n",
      "1eced560-5f6b-436f-9ccc-4fca9ad2ed48\n",
      "1eac671c-95ca-46b1-8a65-ac34e628df24\n",
      "90e35592-aaf2-4882-99db-ee10d77a554d\n",
      "f0f2f176-d99d-445b-bb80-79035e39c32a\n",
      "a494232a-24d7-4740-869e-c96cda6ad047\n",
      "f6fe5a10-a953-4a9d-a267-82dcfadc78d0\n",
      "1010f6ab-2d8e-48dd-812e-cd8a3bdf0104\n",
      "78923b6e-0db7-4f98-b032-a0a4693c5b65\n",
      "26977c52-7b06-46ce-acf7-8f8c99f27563\n",
      "5bbebea7-ef72-4b9a-a3cb-7346d943b639\n",
      "7a51e28e-f3ca-4ee1-8902-cf6174b94459\n",
      "22db88b4-db15-44bb-8d04-46a22ff7c9e2\n",
      "49a56d46-40e6-4f56-9c52-92679dcf198e\n",
      "94e36ac3-ed0e-486d-bdf8-95cc98abb76c\n",
      "24d249a7-9a30-40bb-ad40-3f1f59e12887\n",
      "4764cdb6-9c7c-4afb-89bb-e3b33b649e0a\n",
      "86918501-14c9-4574-9153-779d8467b41a\n",
      "7d281b31-631c-4ae5-b2b3-96dd7f83cd35\n",
      "b8850aa5-1e9b-490e-a43c-0feeb92932ec\n",
      "88e95560-b4a7-4255-9e0a-5bcb74f10027\n",
      "86e4bee3-f8bd-4dfc-a0b8-433944070fec\n",
      "c6d82b0c-3f6d-43a8-99d0-7f85ebcf7d70\n",
      "2636d9c2-0af6-4781-b35d-0bc09177ab66\n",
      "63c92f00-3efc-4554-9e64-4de6f9250245\n",
      "1042600d-8597-44dc-8f58-1126921a0ac2\n",
      "64d9142a-6642-4ad4-9586-6afab0d0d306\n",
      "372df23c-222f-4e1b-a6d0-631837d8fa7f\n",
      "f75c09df-4748-42ce-8a5b-3782e8c1e46e\n",
      "7438f294-ca0b-4d95-bfdc-9ba197e4b186\n",
      "9e7a793c-3642-447d-9d32-0a5c3633cad1\n",
      "d8213e1e-3afd-46cf-b609-a3f9256cf207\n",
      "023fc21c-fcf2-43f1-bafb-a8f5ab5985c4\n",
      "5062f711-b436-4256-b895-c01e866bcb2d\n",
      "5f2231fe-d3be-4c35-bfa9-4a6dc8d8adf9\n",
      "e4cefcd2-fc8f-47c6-9c7b-dd472757210c\n",
      "356ecf67-6b55-4375-9759-081e5fb9ddcd\n",
      "70d6805c-ff12-4526-baec-782d87efeef5\n",
      "23eefc97-a455-4ee0-855c-f2d0749d1f4d\n",
      "4c7b41a9-1c53-4262-aab6-53560f42bcc3\n",
      "ad924a64-b9e4-4be9-97bd-fc2120165750\n",
      "27e1dce7-05b9-46c5-971f-83fa5da89dbe\n",
      "57d2629d-1594-4945-8704-d9f9591bed0e\n",
      "2b42010e-c223-42ba-8bd2-c808265f0110\n",
      "78154b8e-2937-4569-a63d-8f50a332285a\n",
      "8eb33d37-890a-4be1-bb62-8218b6eb72f4\n",
      "ab64d986-d0ce-4a7d-993f-fea09db438f4\n",
      "83a7a395-b965-4f3a-8824-68c976120bcb\n",
      "8f5f1d0a-e9ea-4d81-a62c-78dc5c2e9664\n",
      "7cbf9201-380b-49ce-8cd1-f3ef9918db4a\n",
      "f46558e0-0634-48ff-a2a2-7ebbd038e0b6\n",
      "7e566a4f-6df0-4b03-b1a3-0d8bcdc17987\n",
      "d25db443-9809-496c-b720-fc9122a5228f\n",
      "1b695c52-c715-4928-b896-db44e90089ce\n",
      "ed96cfc0-1d5f-4f1b-b527-686869fb0cdb\n",
      "e403fcba-62fc-474a-bc24-1df96c31f8b3\n",
      "5b326236-e228-40a4-bbb7-00a4cd794dde\n",
      "245ef3e7-b377-4ee0-8e70-11f07ff8fd95\n",
      "027be0ed-d005-4d1a-a4bd-1e48cad1a6c1\n",
      "06b41c00-e561-4636-937a-4bcb61a4f186\n",
      "a37ae208-5153-4838-9133-3dec97b97b42\n",
      "786cfeaf-b145-4468-adea-da9377cc60ff\n",
      "d74af529-4459-438f-a60f-b8c6c951a405\n",
      "317edd6b-2d1e-4116-a593-0e35b1559639\n",
      "2cb6d598-844a-4bf1-8c35-7851a1cb3d7c\n",
      "c9d9f860-7499-49ef-bb13-7d33bccdb3e7\n",
      "d343f679-7fa3-4ca4-a1b7-d98084cfc875\n",
      "187477ac-b213-4335-b065-c2c536739e28\n",
      "0c16145c-dd9b-4026-b4e0-63e5daee3a47\n",
      "29bf21b4-9a29-47af-9f2a-d93ea6ce915b\n",
      "ab242369-7759-4c97-86f5-95bd0faa1dd9\n",
      "068332d6-0488-465f-b983-96ed807eae52\n",
      "f7ccae2a-8d4e-4625-9dcb-b8c06d04d5e7\n",
      "3186a6d9-7fbb-42e2-9630-bfb89c2a3c60\n",
      "38f8e4d2-545b-4ff7-a24a-a3adb83312ad\n",
      "4189a04c-c223-49ca-8322-02df361fe98c\n",
      "66c216a1-b38d-4a25-b455-f8d6b5a1fdb3\n",
      "3fce94e9-6a84-4f23-b063-d8cf59581240\n",
      "ef3118b9-c672-4c56-a9b1-62b948372ec5\n",
      "41937d47-8542-484b-829f-5ecb42569ec8\n",
      "79e5faf5-e7bc-4aae-aed5-63e25758caaf\n",
      "ed07acd8-c5d7-4d3f-b71b-fa8fb415f541\n",
      "f17f2d37-b25a-44ee-a1e5-220f42d6ac2e\n",
      "452d4951-a724-4535-8321-f90d17d7f5ec\n",
      "505a5c39-9d6c-4eed-8d24-2f44347fa822\n",
      "c617fe4a-b2ff-4044-a509-e1d35d775ac9\n",
      "5be0ffee-42ca-4c13-9d0b-24d90f8b8c6f\n",
      "e3ddd86e-b4d0-449e-b8da-dde536841454\n",
      "fc19baf2-a153-40ce-bcff-3258cfc06eba\n",
      "880da3ea-238d-48d5-8d8f-4aa9a75c516d\n",
      "7111ddc6-b335-4f02-87a0-93dee10ed25b\n",
      "520ee2ca-3d3b-4aef-91bb-440bc171975f\n",
      "69c67e4e-5c48-40db-80b8-ef3b6c65ecdc\n",
      "a24f3687-cbd3-4735-a168-f5f8de19adeb\n",
      "6d034d55-8d4a-4b61-8948-e22980b0ef22\n",
      "015c8a6c-271a-4916-8a02-ea0c02379a2d\n",
      "29901100-386c-4a57-80ca-fb36be7795cb\n",
      "26c7090f-02e1-4129-a8af-4ae02612d6f2\n",
      "c174ee14-5643-4bcb-bf48-754b1c8f5046\n",
      "78adc092-85b9-4794-bb95-429561ee2ab2\n",
      "d31b7eec-1dab-46a8-8450-18b0bf799a6a\n",
      "3c254d7f-1c30-4d5c-9db7-0374141d585f\n",
      "181c9c21-3e82-4199-92d2-2051bee085cd\n",
      "7911f8fa-2d96-4af0-befc-1fa237667e77\n",
      "d2694c50-e3e0-40cb-9478-a5caab04308d\n",
      "90ee2526-1d75-4ee7-825f-ea3f8c6ed3d4\n",
      "2508685a-fbd2-4cf7-abbf-8a8eaca6e2e6\n",
      "29f93258-e690-457b-ad0a-7a16657a8c13\n",
      "9b97e5d1-9cd8-4981-b947-b7bcf49c4893\n",
      "c10b227e-e09c-448d-9a5c-c4fb27fda7a2\n",
      "7fd568df-8cd0-440f-bf14-768e023708d0\n",
      "0a743837-039a-452f-bb4e-6f2a578fa117\n",
      "a52ea433-8f58-4c73-83be-25b8a2081edd\n",
      "5c3ef55f-eedf-44dc-bf47-1614106111a5\n",
      "a5a5d928-a69c-4378-8fbb-96f99f1ea871\n",
      "98a17651-2d2c-4f07-93b1-b291891a3374\n",
      "0db7898b-eddc-4a2f-ac6b-b99bd6349baa\n",
      "6e13b763-ce81-4e39-9622-904f26d0b249\n",
      "11d28449-7be5-423a-a5b6-000a0f0024a6\n",
      "9c869eb4-29d2-493d-840b-f4b70e49cc4c\n",
      "41d02cf3-70fb-4846-a7f3-509300c0f792\n",
      "fbf9c457-8c5f-45bf-8c47-04f7e3e8f04a\n",
      "7fcf36b2-b450-46a8-b5dd-577cc5e760cd\n",
      "3c58aad3-bf9a-4e13-bb76-54c10a30f870\n",
      "164834d2-4432-4c73-abaf-1528eb2d8377\n",
      "9bb995c5-a8c0-4a10-8da0-fa9c2b5e1a50\n",
      "a76a4850-1576-496d-afa0-6c88d4fb8c71\n",
      "09f3ea6d-78be-499b-abb7-a58298ab5161\n",
      "d654f00c-5181-4315-a35d-38d74c15812c\n",
      "9a2d479b-fd4b-4335-9a59-5b238e95e5f7\n",
      "f16af82c-5b6c-4cd3-92db-fdd71812dfe0\n",
      "7220617c-fd89-420b-8b32-cb5187377f84\n",
      "654ba843-946d-42b5-a152-055895429e0d\n",
      "bb88acfb-46f6-4a73-af4c-faddfe9edadc\n",
      "7ce454cc-33ce-4c67-ad68-b9735c17bcd2\n",
      "0890d98f-1a89-457e-ac29-816c1c385074\n",
      "d6293e5e-6fed-4705-ae1e-790749e2e094\n",
      "54d154bf-6fd3-4b43-8aba-dd874a222894\n",
      "e14709b3-90c4-4b7c-9482-7259d3dcbbce\n",
      "c67ba3a5-a9e9-4bd0-ad17-fd77662dd33c\n",
      "d247625d-746b-4da3-8761-0885b3a5b796\n",
      "70668661-7c62-4bc3-8348-0c21bd8bc2e2\n",
      "42d0f524-ddf1-42af-b339-339727c5deea\n",
      "db3920c1-3769-4040-a191-f15636ca007c\n",
      "a0cb474a-d737-4b55-a65d-69b66a16c2c4\n",
      "970e8453-da16-4daa-8280-b8c3321cb990\n",
      "d2330019-cee0-458c-aba3-0072f15cc6bb\n",
      "ad763d31-d836-42f8-abfb-37bee69748db\n",
      "147408ea-2e91-44aa-93c3-7fa013acee6e\n",
      "e81103eb-065f-4c1c-bdb9-9d4ab87b1e7e\n",
      "a5e563f8-f699-42ea-a4fd-994e43d6ab31\n",
      "f2d79f2e-8b2a-4577-a93b-bdef7be11d32\n",
      "b3acf8b2-4976-4b76-b9ea-99ebe9e01132\n",
      "90a79eea-6758-4679-bfbe-3a993d8dcab5\n",
      "024b1dde-d91b-444a-9ab2-c5a9f239f53a\n",
      "023da3ca-0fa3-49cc-9037-78437962d3d3\n",
      "b5457121-d98f-422a-a467-9e0132cb6a4a\n",
      "2eae6c4b-2766-4057-8800-0fb63ee63fe3\n",
      "1738c087-3578-4e65-8489-0a52375b9f49\n",
      "6c4f6b5d-ec30-4e33-b54b-ac164cd773d0\n",
      "7db19acc-c780-4394-81c3-596933c59e53\n",
      "a2cba002-2b81-446c-959b-4b933b3424ef\n",
      "9dac030b-1950-4602-ac68-7998d866798f\n",
      "90b0989f-273d-492a-adb0-2fb307406d93\n",
      "1a4197ad-34ad-43e9-8ab0-840575cd9be6\n",
      "53724f5e-e573-4c59-87e6-e2c14f7fc245\n",
      "3b764499-ac47-4247-bee9-4ce277b32102\n",
      "f9224159-a6ee-4f31-8ec9-559dbbc33406\n",
      "108e4196-74e0-4cd9-91fc-a8cb43bb3d5c\n",
      "8f27ab38-d406-498f-9798-7c4749401aad\n",
      "9f120724-143d-44b6-815a-5c47023e8520\n",
      "041c6dc4-d2cc-4022-afc1-33980f95e0c1\n",
      "e8064f71-f159-49c8-8d61-d0d9db34a0b6\n",
      "27a5d00b-df6d-4456-8d40-9e45e9c30f55\n",
      "d37cf1b0-cb19-4ab7-8cdb-014443265f13\n",
      "adc54fc8-2c94-457d-9b5c-89d7f005fb59\n",
      "a5c825f3-cf64-4abb-b222-f665b5020c1f\n",
      "1236b376-9cc5-4272-a5a6-b11871486e70\n",
      "16926ab9-c9fe-4e7f-b7f4-5d976b5e89b8\n",
      "270562a0-9ea7-4137-9a64-851d0f4938f8\n",
      "5bae5ccd-8760-4021-b204-1d9e15bdf70c\n",
      "0ea9175b-c4c1-4884-8595-fee507562f76\n",
      "52098ce7-0e09-42d2-97bc-67f4d9004f0c\n",
      "e55605fe-8e32-4ff6-8dd0-18de0fc9df19\n",
      "81041da9-3b7a-40c9-a66b-5166ccb3367e\n",
      "df1d2ba5-33be-43d0-b4b9-e5d57ace3f70\n",
      "ba8c92d2-e946-4fc3-b2c7-97e90fd8031a\n",
      "19b5958e-45d9-450c-b048-c805ae9a238e\n",
      "d2956ddf-ce59-4621-965c-ecebbd01e290\n",
      "20ca31bf-5c39-452a-bb52-d51e3ff2a3ce\n",
      "a42ed90c-78a0-480a-81e0-c1f0a51aa57a\n",
      "279943d5-8d01-4f2c-a028-1fbb3b349c94\n",
      "2368a6e4-3b5f-47d0-9cd1-8cd679d7a79f\n",
      "b78e1ceb-7108-4d6d-a824-76976e5c9fe1\n",
      "818ee230-268b-4d7c-b3c6-60e64cc2dc9a\n",
      "2f9865a7-ea32-4b3e-a1cc-b678a589386e\n",
      "4cec8267-ea2b-40ce-acb6-ec8bfec2a9f7\n",
      "9b09eafb-cb33-4518-bbbe-5d57ccbe0a12\n",
      "742f5807-2543-445d-8518-7c87ca3b8963\n",
      "2568ea35-079d-4952-b8e9-c6b28de6c72e\n",
      "7a3aec1e-b0b0-4c74-9a2d-ed3256c45c86\n",
      "805163e4-122b-427d-a87d-ccdec209fd2f\n",
      "41050f41-8986-4b0a-a0cc-ff796861cb60\n",
      "2908329c-8a8c-47ba-b72f-5fcac59eb564\n",
      "75ee00b8-9804-46f8-a8e5-3dd7ed5cabdd\n",
      "27a426ed-c757-4f2a-b019-963b61c6bbe1\n",
      "719ad6cf-f709-4c1e-bff0-dbdbcff27a24\n",
      "e2b19b88-ae30-4b10-813a-74b47c067989\n",
      "ba4e357d-4696-4bcd-bf4b-b0a75ef5cd1e\n",
      "f61a9ebc-5b1b-431f-86e7-49fdd77ca67c\n",
      "f1da9fa9-fa89-4063-8f92-9f3b76545a47\n",
      "b7ced6ba-3ccf-4db1-9307-a21aa3d049b7\n",
      "8ee26111-87b7-4714-a917-68305c8b404b\n",
      "6f08a839-1634-44de-85f8-12166dd47232\n",
      "c41dfeac-102e-43b2-adae-6a67f25791f0\n",
      "7f29bd0b-4616-40d3-aac7-24e450f9f5dc\n",
      "64552b51-58c8-45b2-8b28-f9c94a2ec8d2\n",
      "6f99e199-c6c3-4d79-aac6-57446fde26f4\n",
      "12c7699d-b0e4-4ef9-bc98-8ffc57183d54\n",
      "3ebdb329-42ad-427f-bf25-7dc74fc4cc72\n",
      "a6c981fd-bdf3-418f-a594-bb651b6c0a3b\n",
      "426e6642-b49e-4fd1-9d5d-c88e08670d61\n",
      "5a3fd857-b0e5-4c01-8b48-b95dac0615aa\n",
      "c0b0e03c-1d58-404f-aaef-43d948d14969\n",
      "09fbb177-8668-4c7a-8a35-90f9efc9a2a0\n",
      "80f5752b-e8d3-453f-9a47-f48210ed6ffc\n",
      "7c00e814-c707-4541-8cb1-90703e93afbd\n",
      "4b2aa292-c220-43a6-a71d-d041906f27db\n",
      "e5b4c95d-e369-479f-b2b0-f8b8187d768a\n",
      "ff52a846-447a-49e4-8c58-ab1643743294\n",
      "c51acea6-88ba-4fd3-b369-5253fdc84904\n",
      "17076180-cbcb-4781-8311-0aaf28b4e7c8\n",
      "2150a511-b7de-4108-9825-2b801b14ac55\n",
      "cd28fd77-5b35-4653-a5de-5a53b1741bc3\n",
      "d32b5eb6-71e8-4c98-8a57-3e64d05718b4\n",
      "353d751f-cff0-4558-9051-25a87ba00d3f\n",
      "057c568e-55a9-4a81-8a3b-f3b8e15b99d2\n",
      "7eff788f-668a-4f46-87af-b776c6aa71db\n",
      "1cd2a147-0abb-4451-8f0c-5cb83fef5f59\n",
      "8cde1372-fd6c-48e2-928b-1a59896c2b72\n",
      "0989cfbd-a832-43ac-a105-6a7626017cd8\n",
      "a2c2b0e9-ea12-4742-a597-59b3dcc1997f\n",
      "f4ba9ed0-5d6e-4a91-b373-5effc3c4720c\n",
      "10b0ca27-5c01-4d76-bb08-5df7f10f09b8\n",
      "a60c894c-798d-40b6-967c-f3213eed348e\n",
      "96338967-2617-4258-9ddb-9383f438faaf\n",
      "86980cf9-6e8f-4fe9-9dbf-a17eacff862d\n",
      "60040b2d-cb2e-4fdd-9b26-5a66973d4414\n",
      "1d87912e-9c22-4717-acf3-483a9335e770\n",
      "e3b3be26-7da9-417d-b3a6-4fc747a1d586\n",
      "3f6d765d-18e2-4fb4-8209-456a3b9d1a86\n",
      "ad6a2a03-9229-463c-aeb6-29e1eb90b58f\n",
      "3ef1bf58-337e-4346-b52f-005fb610fb26\n",
      "53da7915-3809-48bd-92b9-42a793b92aaa\n",
      "23eec707-52b1-4865-b7d5-2fb251a5a4e5\n",
      "f9882a44-8aa0-40bf-9084-0fdcfe41243e\n"
     ]
    }
   ],
   "execution_count": 80
  },
  {
   "metadata": {
    "ExecuteTime": {
     "end_time": "2025-02-27T21:07:10.534592Z",
     "start_time": "2025-02-27T21:07:10.530934Z"
    }
   },
   "cell_type": "code",
   "source": "print(len(submission_biosamples))",
   "id": "5ba9666e78872b10",
   "outputs": [
    {
     "name": "stdout",
     "output_type": "stream",
     "text": [
      "14926\n"
     ]
    }
   ],
   "execution_count": 81
  },
  {
   "metadata": {
    "ExecuteTime": {
     "end_time": "2025-02-27T21:07:13.184352Z",
     "start_time": "2025-02-27T21:07:11.933957Z"
    }
   },
   "cell_type": "code",
   "source": [
    "# Iterate over each sample dictionary\n",
    "for sample in submission_biosamples:\n",
    "    for key in to_label_check:\n",
    "        if key in sample:\n",
    "            ever_seen.add(sample[key])\n",
    "            if sample[key] in label_cache:  # Check if the value is a CURIE in the cache\n",
    "                sample[f\"{key}.canonical_label\"] = label_cache[sample[key]]\n",
    "            if sample[key] in obsolete_terms_list:\n",
    "                sample[f\"{key}.obsolete\"] = True\n",
    "            else:\n",
    "                sample[f\"{key}.obsolete\"] = False"
   ],
   "id": "9e5b4bdd7b522cc4",
   "outputs": [],
   "execution_count": 82
  },
  {
   "metadata": {
    "ExecuteTime": {
     "end_time": "2025-02-27T21:07:14.815414Z",
     "start_time": "2025-02-27T21:07:14.522151Z"
    }
   },
   "cell_type": "code",
   "source": "submission_biosamples_frame = pd.DataFrame(submission_biosamples)",
   "id": "c461a2683ec5e229",
   "outputs": [],
   "execution_count": 83
  },
  {
   "metadata": {
    "ExecuteTime": {
     "end_time": "2025-02-27T21:07:16.236482Z",
     "start_time": "2025-02-27T21:07:16.204362Z"
    }
   },
   "cell_type": "code",
   "source": [
    "submission_biosamples_frame = reorder_columns(submission_biosamples_frame, [\n",
    "    \"submission_id\",\n",
    "    'created',\n",
    "    \"date_last_modified\",\n",
    "    \"status\",\n",
    "    \"sampleData\",\n",
    "])"
   ],
   "id": "bd9cff946edff769",
   "outputs": [],
   "execution_count": 84
  },
  {
   "metadata": {
    "ExecuteTime": {
     "end_time": "2025-02-27T21:07:18.108155Z",
     "start_time": "2025-02-27T21:07:17.593141Z"
    }
   },
   "cell_type": "code",
   "source": "submission_biosamples_frame.to_csv(nmdc_submissions_biosamples_tsv, sep=\"\\t\", index=False)",
   "id": "578bcbd7650c64b0",
   "outputs": [],
   "execution_count": 85
  },
  {
   "metadata": {
    "ExecuteTime": {
     "end_time": "2025-02-27T21:07:19.462303Z",
     "start_time": "2025-02-27T21:07:19.457840Z"
    }
   },
   "cell_type": "code",
   "source": "ever_seen.intersection(set(obsolete_terms_list))",
   "id": "d373384ff545c7e3",
   "outputs": [
    {
     "data": {
      "text/plain": [
       "set()"
      ]
     },
     "execution_count": 86,
     "metadata": {},
     "output_type": "execute_result"
    }
   ],
   "execution_count": 86
  },
  {
   "metadata": {
    "ExecuteTime": {
     "end_time": "2025-02-27T21:07:20.855460Z",
     "start_time": "2025-02-27T21:07:20.853400Z"
    }
   },
   "cell_type": "code",
   "source": "",
   "id": "3ae2d2c435b37ff2",
   "outputs": [],
   "execution_count": null
  },
  {
   "metadata": {},
   "cell_type": "markdown",
   "source": "----",
   "id": "eaabf90cd5ff28b2"
  },
  {
   "metadata": {
    "ExecuteTime": {
     "end_time": "2025-02-27T21:07:22.299296Z",
     "start_time": "2025-02-27T21:07:22.296991Z"
    }
   },
   "cell_type": "code",
   "source": [
    "# try flattening gold EMP500 records\n",
    "#   see also notebooks/studies_exploration/emp_500_ng/emp500_ng.ipynb"
   ],
   "id": "c4bc5c9137cb9092",
   "outputs": [],
   "execution_count": 87
  },
  {
   "metadata": {
    "ExecuteTime": {
     "end_time": "2025-02-27T21:07:23.811396Z",
     "start_time": "2025-02-27T21:07:23.804153Z"
    }
   },
   "cell_type": "code",
   "source": "client = core.get_mongo_client() # there may be inconsistent MongoDB connection techniques in the notebook",
   "id": "c5fe7a4023d42405",
   "outputs": [],
   "execution_count": 88
  },
  {
   "metadata": {
    "ExecuteTime": {
     "end_time": "2025-02-27T21:07:27.062234Z",
     "start_time": "2025-02-27T21:07:27.059490Z"
    }
   },
   "cell_type": "code",
   "source": [
    "# Search for GOLD studies\n",
    "emp500_gold_study_cursor = core.fetch_mongodb_records_by_path(\n",
    "    client,\n",
    "    GOLD_METADATA,\n",
    "    \"studies\",\n",
    "    \"studyGoldId\",\n",
    "    emp500_gold_study_id\n",
    ")"
   ],
   "id": "6c88575d5a1d7256",
   "outputs": [],
   "execution_count": 89
  },
  {
   "metadata": {
    "ExecuteTime": {
     "end_time": "2025-02-27T21:07:27.108872Z",
     "start_time": "2025-02-27T21:07:27.104620Z"
    }
   },
   "cell_type": "code",
   "source": "emp500_gold_study_list = list(emp500_gold_study_cursor)\n",
   "id": "42af2db45de448de",
   "outputs": [],
   "execution_count": 90
  },
  {
   "metadata": {
    "ExecuteTime": {
     "end_time": "2025-02-27T21:07:28.523796Z",
     "start_time": "2025-02-27T21:07:28.521234Z"
    }
   },
   "cell_type": "code",
   "source": "emp500_gold_biosamples_list = emp500_gold_study_list[0].get(\"biosamples\", [])",
   "id": "5d1c08b2d46cc2c9",
   "outputs": [],
   "execution_count": 91
  },
  {
   "metadata": {
    "ExecuteTime": {
     "end_time": "2025-02-27T21:07:31.247353Z",
     "start_time": "2025-02-27T21:07:31.244586Z"
    }
   },
   "cell_type": "code",
   "source": [
    "emp500_gold_biosamples_cursor = core.fetch_mongodb_records_by_path_in(\n",
    "    client,\n",
    "    GOLD_METADATA,\n",
    "    \"biosamples\",\n",
    "    \"biosampleGoldId\",\n",
    "    emp500_gold_biosamples_list\n",
    ")\n"
   ],
   "id": "4cef9d0edb77f9bf",
   "outputs": [],
   "execution_count": 92
  },
  {
   "metadata": {
    "ExecuteTime": {
     "end_time": "2025-02-27T21:07:31.298930Z",
     "start_time": "2025-02-27T21:07:31.254269Z"
    }
   },
   "cell_type": "code",
   "source": [
    "emp500_gold_biosamples = [\n",
    "    {key: value for key, value in document.items() if key != '_id'}\n",
    "    for document in emp500_gold_biosamples_cursor\n",
    "]"
   ],
   "id": "f011a4d68ea25796",
   "outputs": [],
   "execution_count": 93
  },
  {
   "metadata": {
    "ExecuteTime": {
     "end_time": "2025-02-27T21:07:32.671769Z",
     "start_time": "2025-02-27T21:07:32.669047Z"
    }
   },
   "cell_type": "code",
   "source": "print(len(emp500_gold_biosamples))",
   "id": "5dc3cb7127b8e814",
   "outputs": [
    {
     "name": "stdout",
     "output_type": "stream",
     "text": [
      "1024\n"
     ]
    }
   ],
   "execution_count": 94
  },
  {
   "metadata": {
    "ExecuteTime": {
     "end_time": "2025-02-27T21:07:34.112152Z",
     "start_time": "2025-02-27T21:07:34.087849Z"
    }
   },
   "cell_type": "code",
   "source": "flat_gold_emp500_biosamples = flatten(emp500_gold_biosamples, known_skips={'contacts'})",
   "id": "c9dc865c22cf7b7b",
   "outputs": [
    {
     "name": "stdout",
     "output_type": "stream",
     "text": [
      "stringified: []\n"
     ]
    }
   ],
   "execution_count": 95
  },
  {
   "metadata": {
    "ExecuteTime": {
     "end_time": "2025-02-27T21:07:35.624578Z",
     "start_time": "2025-02-27T21:07:35.498684Z"
    }
   },
   "cell_type": "code",
   "source": [
    "# Iterate over each sample dictionary\n",
    "for sample in flat_gold_emp500_biosamples:\n",
    "    for key in to_label_check:\n",
    "        if key in sample:\n",
    "            canonical_curie = sample[key].replace('_',':')\n",
    "            sample[f\"{key}.canonical_curie\"] = canonical_curie\n",
    "            ever_seen.add(canonical_curie)\n",
    "            if canonical_curie in label_cache:  # Check if the value is a CURIE in the cache\n",
    "                sample[f\"{key}.canonical_label\"] = label_cache[canonical_curie]\n",
    "            if canonical_curie in obsolete_terms_list:\n",
    "                sample[f\"{key}.obsolete\"] = True\n",
    "            else:\n",
    "                sample[f\"{key}.obsolete\"] = False"
   ],
   "id": "31aa9a9a718a5fc1",
   "outputs": [],
   "execution_count": 96
  },
  {
   "metadata": {
    "ExecuteTime": {
     "end_time": "2025-02-27T21:07:37.008895Z",
     "start_time": "2025-02-27T21:07:36.993645Z"
    }
   },
   "cell_type": "code",
   "source": "flat_gold_emp500_biosamples_frame = pd.DataFrame(flat_gold_emp500_biosamples)",
   "id": "191e378b38aa35a2",
   "outputs": [],
   "execution_count": 97
  },
  {
   "metadata": {
    "ExecuteTime": {
     "end_time": "2025-02-27T21:07:38.416767Z",
     "start_time": "2025-02-27T21:07:38.412647Z"
    }
   },
   "cell_type": "code",
   "source": "flat_gold_emp500_biosamples_frame = reorder_columns(flat_gold_emp500_biosamples_frame, ['biosampleGoldId'])",
   "id": "4a547bb1776b18ee",
   "outputs": [],
   "execution_count": 98
  },
  {
   "metadata": {
    "ExecuteTime": {
     "end_time": "2025-02-27T21:07:39.825935Z",
     "start_time": "2025-02-27T21:07:39.791215Z"
    }
   },
   "cell_type": "code",
   "source": "flat_gold_emp500_biosamples_frame.to_csv(flattened_gold_emp500_biosamples_tsv, sep=\"\\t\", index=False)",
   "id": "467faa19a10bac98",
   "outputs": [],
   "execution_count": 99
  },
  {
   "metadata": {
    "ExecuteTime": {
     "end_time": "2025-02-27T21:07:41.211658Z",
     "start_time": "2025-02-27T21:07:41.204909Z"
    }
   },
   "cell_type": "code",
   "source": "gold_emp500_biosample_contacts = extract_gold_contacts(emp500_gold_biosamples, \"biosampleGoldId\")",
   "id": "eaf4108031b7d464",
   "outputs": [],
   "execution_count": 100
  },
  {
   "metadata": {
    "ExecuteTime": {
     "end_time": "2025-02-27T21:07:43.915624Z",
     "start_time": "2025-02-27T21:07:43.909529Z"
    }
   },
   "cell_type": "code",
   "source": "gold_emp500_biosample_contacts_frame = pd.DataFrame(gold_emp500_biosample_contacts)",
   "id": "145cdf6326ba18",
   "outputs": [],
   "execution_count": 101
  },
  {
   "metadata": {
    "ExecuteTime": {
     "end_time": "2025-02-27T21:07:43.935201Z",
     "start_time": "2025-02-27T21:07:43.919557Z"
    }
   },
   "cell_type": "code",
   "source": "gold_emp500_biosample_contacts_frame.to_csv(gold_emp500_biosample_contacts_tsv, sep=\"\\t\", index=False)",
   "id": "2824e9defa321ce",
   "outputs": [],
   "execution_count": 102
  },
  {
   "metadata": {},
   "cell_type": "markdown",
   "source": "----",
   "id": "34a7455d10a586d0"
  },
  {
   "metadata": {
    "ExecuteTime": {
     "end_time": "2025-02-27T21:07:45.294843Z",
     "start_time": "2025-02-27T21:07:45.292691Z"
    }
   },
   "cell_type": "code",
   "source": "# NCBI EMP500 Biosamples!",
   "id": "51c667958db68970",
   "outputs": [],
   "execution_count": 103
  },
  {
   "metadata": {
    "ExecuteTime": {
     "end_time": "2025-02-27T21:07:46.636092Z",
     "start_time": "2025-02-27T21:07:46.633406Z"
    }
   },
   "cell_type": "code",
   "source": [
    "emp500_bioproj_biosample_links_cursor = core.fetch_mongodb_records_by_path(\n",
    "    client,\n",
    "    NCBI_METADATA,\n",
    "    \"sra_biosamples_bioprojects\",\n",
    "    \"bioproject_accession\",\n",
    "    emp500_ncbi_project_accession\n",
    ")"
   ],
   "id": "7bac8ced144e311d",
   "outputs": [],
   "execution_count": 104
  },
  {
   "metadata": {
    "ExecuteTime": {
     "end_time": "2025-02-27T21:07:48.051659Z",
     "start_time": "2025-02-27T21:07:48.045340Z"
    }
   },
   "cell_type": "code",
   "source": [
    "emp500_bioproj_biosample_links = [\n",
    "    {key: value for key, value in document.items() if key != '_id'}\n",
    "    for document in emp500_bioproj_biosample_links_cursor\n",
    "]"
   ],
   "id": "e42d11a158f105a6",
   "outputs": [],
   "execution_count": 105
  },
  {
   "metadata": {
    "ExecuteTime": {
     "end_time": "2025-02-27T21:07:49.416648Z",
     "start_time": "2025-02-27T21:07:49.413175Z"
    }
   },
   "cell_type": "code",
   "source": "emp500_biosample_accessions = [doc[\"biosample_accession\"] for doc in emp500_bioproj_biosample_links]",
   "id": "5e0bec1c0b44fce8",
   "outputs": [],
   "execution_count": 106
  },
  {
   "metadata": {
    "ExecuteTime": {
     "end_time": "2025-02-27T21:07:50.755778Z",
     "start_time": "2025-02-27T21:07:50.753128Z"
    }
   },
   "cell_type": "code",
   "source": [
    "emp500_ncbi_biosamples_cursor = core.fetch_mongodb_records_by_path_in(\n",
    "    client,\n",
    "    NCBI_METADATA,\n",
    "    \"biosamples\",\n",
    "    \"accession\",\n",
    "    emp500_biosample_accessions\n",
    ")"
   ],
   "id": "c2a0f5f624384557",
   "outputs": [],
   "execution_count": 107
  },
  {
   "metadata": {
    "ExecuteTime": {
     "end_time": "2025-02-27T21:07:52.163399Z",
     "start_time": "2025-02-27T21:07:52.094279Z"
    }
   },
   "cell_type": "code",
   "source": [
    "emp500_ncbi_biosamples = [\n",
    "    {key: value for key, value in document.items() if key != '_id'}\n",
    "    for document in emp500_ncbi_biosamples_cursor\n",
    "]"
   ],
   "id": "176cf88281710431",
   "outputs": [],
   "execution_count": 108
  },
  {
   "metadata": {
    "ExecuteTime": {
     "end_time": "2025-02-27T21:07:53.545080Z",
     "start_time": "2025-02-27T21:07:53.541863Z"
    }
   },
   "cell_type": "code",
   "source": "print(len(emp500_ncbi_biosamples))",
   "id": "5c0329d878544614",
   "outputs": [
    {
     "name": "stdout",
     "output_type": "stream",
     "text": [
      "1024\n"
     ]
    }
   ],
   "execution_count": 109
  },
  {
   "metadata": {
    "ExecuteTime": {
     "end_time": "2025-02-27T21:07:55.218093Z",
     "start_time": "2025-02-27T21:07:55.207206Z"
    }
   },
   "cell_type": "code",
   "source": [
    "flattened_ncbi_emp500_biosamples = flatten(emp500_ncbi_biosamples, known_skips={\n",
    "    'Attributes',\n",
    "    'Ids',\n",
    "    'Models',\n",
    "    \"Owner\",\n",
    "    \"Description\"\n",
    "})"
   ],
   "id": "fb9129ebc77750c8",
   "outputs": [
    {
     "name": "stdout",
     "output_type": "stream",
     "text": [
      "stringified: []\n"
     ]
    }
   ],
   "execution_count": 110
  },
  {
   "metadata": {},
   "cell_type": "markdown",
   "source": "stringified: ['Description']\n",
   "id": "dddc86fd3b7be92e"
  },
  {
   "metadata": {
    "ExecuteTime": {
     "end_time": "2025-02-27T21:07:56.675260Z",
     "start_time": "2025-02-27T21:07:56.646022Z"
    }
   },
   "cell_type": "code",
   "source": [
    "ncbi_emp500_biosample_attributes = extract_harmonized_attributes(emp500_ncbi_biosamples)\n",
    "ncbi_emp500_biosample_attributes_frame = pd.DataFrame(ncbi_emp500_biosample_attributes)\n",
    "flattened_ncbi_emp500_biosamples_frame = pd.DataFrame(flattened_ncbi_emp500_biosamples)\n",
    "flattened_ncbi_emp500_biosamples_frame = reorder_columns(\n",
    "    flattened_ncbi_emp500_biosamples_frame, [\"accession\"], do_sort=True)"
   ],
   "id": "e00446608ed89333",
   "outputs": [],
   "execution_count": 111
  },
  {
   "metadata": {
    "ExecuteTime": {
     "end_time": "2025-02-27T21:07:58.098164Z",
     "start_time": "2025-02-27T21:07:58.092703Z"
    }
   },
   "cell_type": "code",
   "source": [
    "biosample_models = extract_biosample_models_content(emp500_ncbi_biosamples)\n",
    "biosample_models_frame = pd.DataFrame(biosample_models)\n",
    "biosample_models_frame.rename(columns={\"content\": \"model\"}, inplace=True)"
   ],
   "id": "f4203df0eba78f63",
   "outputs": [],
   "execution_count": 112
  },
  {
   "metadata": {
    "ExecuteTime": {
     "end_time": "2025-02-27T21:08:00.865571Z",
     "start_time": "2025-02-27T21:08:00.861089Z"
    }
   },
   "cell_type": "code",
   "source": [
    "merged_1 = flattened_ncbi_emp500_biosamples_frame.merge(\n",
    "    biosample_models_frame, on=\"accession\")"
   ],
   "id": "b733bd6764d8f4ae",
   "outputs": [],
   "execution_count": 113
  },
  {
   "metadata": {
    "ExecuteTime": {
     "end_time": "2025-02-27T21:08:02.273742Z",
     "start_time": "2025-02-27T21:08:02.268079Z"
    }
   },
   "cell_type": "code",
   "source": [
    "owner_names = extract_biosample_owner_name_content(emp500_ncbi_biosamples)\n",
    "owner_names_frame = pd.DataFrame(owner_names)\n",
    "owner_names_frame.rename(columns={\"content\": \"owner_name\"}, inplace=True)"
   ],
   "id": "70680abac1b736fa",
   "outputs": [],
   "execution_count": 114
  },
  {
   "metadata": {
    "ExecuteTime": {
     "end_time": "2025-02-27T21:08:02.295234Z",
     "start_time": "2025-02-27T21:08:02.278927Z"
    }
   },
   "cell_type": "code",
   "source": [
    "merged_2 = flattened_ncbi_emp500_biosamples_frame.merge(\n",
    "    owner_names_frame, on=\"accession\")"
   ],
   "id": "c932ec60bb3200e6",
   "outputs": [],
   "execution_count": 115
  },
  {
   "metadata": {
    "ExecuteTime": {
     "end_time": "2025-02-27T21:08:03.715660Z",
     "start_time": "2025-02-27T21:08:03.709643Z"
    }
   },
   "cell_type": "code",
   "source": [
    "flattened_ncbi_emp500_biosample_descriptions = flatten_ncbi_emp500_biosample_descriptions(emp500_ncbi_biosamples)\n",
    "flattened_ncbi_emp500_biosample_descriptions_frame = pd.DataFrame(flattened_ncbi_emp500_biosample_descriptions)\n",
    "flattened_ncbi_emp500_biosample_descriptions_frame = reorder_columns(flattened_ncbi_emp500_biosample_descriptions_frame, [\"accession\"])"
   ],
   "id": "17451d467a2dda1b",
   "outputs": [],
   "execution_count": 116
  },
  {
   "metadata": {
    "ExecuteTime": {
     "end_time": "2025-02-27T21:08:06.563896Z",
     "start_time": "2025-02-27T21:08:06.559799Z"
    }
   },
   "cell_type": "code",
   "source": [
    "merged_3 = merged_2.merge(\n",
    "    flattened_ncbi_emp500_biosample_descriptions_frame, on=\"accession\")"
   ],
   "id": "854f0dad6619c69b",
   "outputs": [],
   "execution_count": 117
  },
  {
   "metadata": {
    "ExecuteTime": {
     "end_time": "2025-02-27T21:08:06.585330Z",
     "start_time": "2025-02-27T21:08:06.570370Z"
    }
   },
   "cell_type": "code",
   "source": [
    "merged_4 = merged_3.merge(\n",
    "    ncbi_emp500_biosample_attributes_frame, on=\"accession\")\n",
    "merged_4 = reorder_columns(\n",
    "    merged_4, [\"accession\"], do_sort=False)\n"
   ],
   "id": "9bb1f8c8f797a877",
   "outputs": [],
   "execution_count": 118
  },
  {
   "metadata": {
    "ExecuteTime": {
     "end_time": "2025-02-27T21:08:07.976693Z",
     "start_time": "2025-02-27T21:08:07.944093Z"
    }
   },
   "cell_type": "code",
   "source": [
    "merged_4.to_csv(\n",
    "    flattened_ncbi_emp500_biosamples_with_attributes_tsv, sep=\"\\t\", index=False)"
   ],
   "id": "368fc43b3987b22a",
   "outputs": [],
   "execution_count": 119
  },
  {
   "metadata": {
    "ExecuteTime": {
     "end_time": "2025-02-27T21:08:11.469884Z",
     "start_time": "2025-02-27T21:08:11.259408Z"
    }
   },
   "cell_type": "code",
   "source": [
    "ncbi_emp500_all_attributes_table = extract_all_attributes(emp500_ncbi_biosamples)\n",
    "ncbi_emp500_all_attributes_frame = pd.DataFrame(ncbi_emp500_all_attributes_table)\n",
    "ncbi_emp500_all_attributes_frame = reorder_columns(ncbi_emp500_all_attributes_frame,\n",
    "                                                   [\n",
    "                                                       'accession',\n",
    "                                                       'attribute_name',\n",
    "                                                       'harmonized_name',\n",
    "                                                       'display_name',\n",
    "                                                       'content'\n",
    "                                                   ])\n",
    "ncbi_emp500_all_attributes_frame.to_csv(ncbi_emp500_all_attributes_tsv, sep=\"\\t\", index=False)"
   ],
   "id": "96542807cc0b79bf",
   "outputs": [],
   "execution_count": 120
  },
  {
   "metadata": {
    "ExecuteTime": {
     "end_time": "2025-02-27T21:08:11.489253Z",
     "start_time": "2025-02-27T21:08:11.475267Z"
    }
   },
   "cell_type": "code",
   "source": [
    "ncbi_emp500_biosample_ids = extract_biosample_ids(emp500_ncbi_biosamples)\n",
    "ncbi_emp500_biosample_ids_frame = pd.DataFrame(ncbi_emp500_biosample_ids)\n",
    "ncbi_emp500_biosample_ids_frame = reorder_columns(ncbi_emp500_biosample_ids_frame, ['accession', 'db', 'is_primary', 'content'])\n",
    "ncbi_emp500_biosample_ids_frame.to_csv(ncbi_emp500_biosample_ids_tsv, sep=\"\\t\", index=False)"
   ],
   "id": "ad75066d41aae53f",
   "outputs": [],
   "execution_count": 121
  },
  {
   "metadata": {
    "ExecuteTime": {
     "end_time": "2025-02-27T21:08:12.903293Z",
     "start_time": "2025-02-27T21:08:12.901352Z"
    }
   },
   "cell_type": "code",
   "source": "",
   "id": "e90a6e8c757c3893",
   "outputs": [],
   "execution_count": null
  }
 ],
 "metadata": {
  "kernelspec": {
   "display_name": "Python 3",
   "language": "python",
   "name": "python3"
  },
  "language_info": {
   "codemirror_mode": {
    "name": "ipython",
    "version": 2
   },
   "file_extension": ".py",
   "mimetype": "text/x-python",
   "name": "python",
   "nbconvert_exporter": "python",
   "pygments_lexer": "ipython2",
   "version": "2.7.6"
  }
 },
 "nbformat": 4,
 "nbformat_minor": 5
}
