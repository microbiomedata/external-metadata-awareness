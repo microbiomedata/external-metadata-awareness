{
 "cells": [
  {
   "metadata": {
    "ExecuteTime": {
     "end_time": "2025-03-10T15:10:40.201629Z",
     "start_time": "2025-03-10T15:10:40.113642Z"
    }
   },
   "cell_type": "code",
   "source": "from pymongo import MongoClient",
   "id": "8d36b7b9707e06ef",
   "outputs": [],
   "execution_count": 1
  },
  {
   "cell_type": "code",
   "id": "initial_id",
   "metadata": {
    "collapsed": true,
    "ExecuteTime": {
     "end_time": "2025-03-10T15:10:40.212334Z",
     "start_time": "2025-03-10T15:10:40.204753Z"
    }
   },
   "source": [
    "mongo_url = \"mongodb://localhost:27017\"\n",
    "\n",
    "client = MongoClient(mongo_url)\n",
    "\n",
    "db = client.ncbi_metadata\n"
   ],
   "outputs": [],
   "execution_count": 2
  },
  {
   "metadata": {
    "ExecuteTime": {
     "end_time": "2025-03-10T15:10:40.338350Z",
     "start_time": "2025-03-10T15:10:40.335943Z"
    }
   },
   "cell_type": "code",
   "source": "# db[\"biosample_harmonized_attributes\"].drop()",
   "id": "6a0f7eaa37e0558f",
   "outputs": [],
   "execution_count": 3
  },
  {
   "metadata": {
    "ExecuteTime": {
     "end_time": "2025-03-10T15:10:40.383275Z",
     "start_time": "2025-03-10T15:10:40.377712Z"
    }
   },
   "cell_type": "code",
   "source": "db[\"unique_triad_values\"].drop()",
   "id": "b8308802cfff5a62",
   "outputs": [],
   "execution_count": 4
  },
  {
   "metadata": {
    "ExecuteTime": {
     "end_time": "2025-03-10T15:10:40.427535Z",
     "start_time": "2025-03-10T15:10:40.424329Z"
    }
   },
   "cell_type": "code",
   "source": "db[\"triad_components_labels\"].drop()",
   "id": "a73541e967878a0c",
   "outputs": [],
   "execution_count": 5
  },
  {
   "metadata": {
    "ExecuteTime": {
     "end_time": "2025-03-10T15:10:40.473680Z",
     "start_time": "2025-03-10T15:10:40.470290Z"
    }
   },
   "cell_type": "code",
   "source": "db[\"class_label_cache\"].drop()",
   "id": "2382c30bb387afa5",
   "outputs": [],
   "execution_count": 6
  },
  {
   "metadata": {
    "ExecuteTime": {
     "end_time": "2025-03-10T15:10:40.517976Z",
     "start_time": "2025-03-10T15:10:40.515295Z"
    }
   },
   "cell_type": "code",
   "source": "triad_components_labels_collection = db.triad_components_labels",
   "id": "34025c4a0e96402b",
   "outputs": [],
   "execution_count": 7
  },
  {
   "metadata": {
    "ExecuteTime": {
     "end_time": "2025-03-10T15:10:40.568923Z",
     "start_time": "2025-03-10T15:10:40.561272Z"
    }
   },
   "cell_type": "code",
   "source": [
    "triad_components_labels_collection.update_many(\n",
    "    {\"partial_matches_vs_precedent\": {\"$exists\": True}},\n",
    "    {\"$unset\": {\"partial_matches_vs_precedent\": \"\"}}\n",
    ")\n"
   ],
   "id": "60a3bf6c1676901e",
   "outputs": [
    {
     "data": {
      "text/plain": [
       "UpdateResult({'n': 0, 'nModified': 0, 'ok': 1.0, 'updatedExisting': False}, acknowledged=True)"
      ]
     },
     "execution_count": 8,
     "metadata": {},
     "output_type": "execute_result"
    }
   ],
   "execution_count": 8
  }
 ],
 "metadata": {
  "kernelspec": {
   "display_name": "Python 3",
   "language": "python",
   "name": "python3"
  },
  "language_info": {
   "codemirror_mode": {
    "name": "ipython",
    "version": 2
   },
   "file_extension": ".py",
   "mimetype": "text/x-python",
   "name": "python",
   "nbconvert_exporter": "python",
   "pygments_lexer": "ipython2",
   "version": "2.7.6"
  }
 },
 "nbformat": 4,
 "nbformat_minor": 5
}
