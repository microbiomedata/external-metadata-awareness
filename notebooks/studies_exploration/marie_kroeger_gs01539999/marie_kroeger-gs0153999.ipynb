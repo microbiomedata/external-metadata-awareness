{
 "cells": [
  {
   "cell_type": "code",
   "id": "initial_id",
   "metadata": {
    "collapsed": true,
    "ExecuteTime": {
     "end_time": "2025-02-26T02:57:37.799653Z",
     "start_time": "2025-02-26T02:57:37.718441Z"
    }
   },
   "source": [
    "from pymongo import MongoClient\n",
    "import csv"
   ],
   "outputs": [],
   "execution_count": 1
  },
  {
   "metadata": {
    "ExecuteTime": {
     "end_time": "2025-02-26T02:57:37.805829Z",
     "start_time": "2025-02-26T02:57:37.803058Z"
    }
   },
   "cell_type": "code",
   "source": [
    "connection_string = \"mongodb://localhost:27017/\"\n",
    "db_name = \"gold_metadata\"\n",
    "selected_study = \"Gs0153999\"\n"
   ],
   "id": "a972992a5b90105a",
   "outputs": [],
   "execution_count": 2
  },
  {
   "metadata": {
    "ExecuteTime": {
     "end_time": "2025-02-26T02:57:37.930814Z",
     "start_time": "2025-02-26T02:57:37.928340Z"
    }
   },
   "cell_type": "code",
   "source": "output_tsv = f\"{selected_study}_environment_ecosystem.tsv\"",
   "id": "dda9be58b42ef3ee",
   "outputs": [],
   "execution_count": 3
  },
  {
   "metadata": {
    "ExecuteTime": {
     "end_time": "2025-02-26T02:57:37.977617Z",
     "start_time": "2025-02-26T02:57:37.969855Z"
    }
   },
   "cell_type": "code",
   "source": [
    "# Connect to MongoDB server running on localhost\n",
    "client = MongoClient(connection_string)"
   ],
   "id": "b8c6556265db633d",
   "outputs": [],
   "execution_count": 4
  },
  {
   "metadata": {
    "ExecuteTime": {
     "end_time": "2025-02-26T02:57:38.020042Z",
     "start_time": "2025-02-26T02:57:38.017021Z"
    }
   },
   "cell_type": "code",
   "source": [
    "# Access the \"gold_metadata\" database\n",
    "db = client[db_name]"
   ],
   "id": "c6ffba922aadd4dc",
   "outputs": [],
   "execution_count": 5
  },
  {
   "metadata": {
    "ExecuteTime": {
     "end_time": "2025-02-26T02:57:38.066790Z",
     "start_time": "2025-02-26T02:57:38.062711Z"
    }
   },
   "cell_type": "code",
   "source": [
    "# Get the list of collection names\n",
    "collections = db.list_collection_names()\n"
   ],
   "id": "4ab4bc23d3831093",
   "outputs": [],
   "execution_count": 6
  },
  {
   "metadata": {
    "ExecuteTime": {
     "end_time": "2025-02-26T02:57:38.112015Z",
     "start_time": "2025-02-26T02:57:38.108685Z"
    }
   },
   "cell_type": "code",
   "source": [
    "# Print the collection names\n",
    "print(f\"Collections in '{db_name}' database: {collections}\")"
   ],
   "id": "d6ea8621fbe7b332",
   "outputs": [
    {
     "name": "stdout",
     "output_type": "stream",
     "text": [
      "Collections in 'gold_metadata' database: ['studies', 'biosamples', 'projects']\n"
     ]
    }
   ],
   "execution_count": 7
  },
  {
   "metadata": {
    "ExecuteTime": {
     "end_time": "2025-02-26T02:57:38.165335Z",
     "start_time": "2025-02-26T02:57:38.155317Z"
    }
   },
   "cell_type": "code",
   "source": [
    "# Access the 'studies' collection\n",
    "studies_collection = db['studies']\n",
    "\n",
    "study_record = studies_collection.find_one({\"studyGoldId\": selected_study})\n",
    "\n",
    "biosamples = []\n",
    "\n",
    "# Get the value of the 'biosamples' field, which should be a list of strings\n",
    "if study_record and 'biosamples' in study_record:\n",
    "    biosamples = study_record['biosamples']\n",
    "#     print(\"Biosamples:\", biosamples)\n",
    "# else:\n",
    "#     print(\"No biosamples found for the given studyGoldId.\")"
   ],
   "id": "45d561be29b2865e",
   "outputs": [],
   "execution_count": 8
  },
  {
   "metadata": {
    "ExecuteTime": {
     "end_time": "2025-02-26T02:57:38.239987Z",
     "start_time": "2025-02-26T02:57:38.203914Z"
    }
   },
   "cell_type": "code",
   "source": [
    "# Access the 'biosamples' collection\n",
    "biosamples_collection = db['biosamples']\n",
    "\n",
    "# Initialize an empty list to store the dicts\n",
    "biosample_data = []\n",
    "\n",
    "# Iterate over the biosampleGoldId values from the biosamples list\n",
    "for biosample_id in biosamples:\n",
    "    # Find the document where 'biosampleGoldId' matches the value\n",
    "    biosample_record = biosamples_collection.find_one({\"biosampleGoldId\": biosample_id})\n",
    "\n",
    "    if biosample_record:\n",
    "        biosample_dict = {\n",
    "            \"biosampleGoldId\": biosample_record.get(\"biosampleGoldId\"),\n",
    "            \"ecosystemPathId\": biosample_record.get(\"ecosystemPathId\"),\n",
    "            \"ecosystem\": biosample_record.get(\"ecosystem\"),\n",
    "            \"ecosystemCategory\": biosample_record.get(\"ecosystemCategory\"),\n",
    "            \"ecosystemType\": biosample_record.get(\"ecosystemType\"),\n",
    "            \"ecosystemSubtype\": biosample_record.get(\"ecosystemSubtype\"),\n",
    "            \"specificEcosystem\": biosample_record.get(\"specificEcosystem\"),\n",
    "            \"envoBroadScale\": biosample_record.get(\"envoBroadScale\"),\n",
    "            \"envoLocalScale\": biosample_record.get(\"envoLocalScale\"),\n",
    "            \"envoMedium\": biosample_record.get(\"envoMedium\"),\n",
    "            \"biosampleName\": biosample_record.get(\"biosampleName\"),\n",
    "            \"ncbiTaxId\": biosample_record.get(\"ncbiTaxId\"),\n",
    "            \"ncbiTaxName\": biosample_record.get(\"ncbiTaxName\"),\n",
    "            \"sampleCollectionSite\": biosample_record.get(\"sampleCollectionSite\"),\n",
    "            \"geographicLocation\": biosample_record.get(\"geographicLocation\"),\n",
    "            \"latitude\": biosample_record.get(\"latitude\"),\n",
    "            \"longitude\": biosample_record.get(\"longitude\"),\n",
    "            \"dateCollected\": biosample_record.get(\"dateCollected\"),\n",
    "            \"description\": biosample_record.get(\"description\"),\n",
    "            \"elevationInMeters\": biosample_record.get(\"elevationInMeters\"),\n",
    "            \"geoLocation\": biosample_record.get(\"geoLocation\"),\n",
    "            \"habitat\": biosample_record.get(\"habitat\"),\n",
    "            \"isoCountry\": biosample_record.get(\"isoCountry\"),\n",
    "            \"modDate\": biosample_record.get(\"modDate\"),\n",
    "            \"addDate\": biosample_record.get(\"addDate\"),\n",
    "        }\n",
    "        biosample_data.append(biosample_dict)\n",
    "\n"
   ],
   "id": "9f9ee51a1448768e",
   "outputs": [],
   "execution_count": 9
  },
  {
   "metadata": {
    "ExecuteTime": {
     "end_time": "2025-02-26T02:57:38.258843Z",
     "start_time": "2025-02-26T02:57:38.253436Z"
    }
   },
   "cell_type": "code",
   "source": [
    "# Define the header (fieldnames)\n",
    "fieldnames = [\n",
    "    \"biosampleGoldId\", \"ecosystemPathId\", \"ecosystem\", \"ecosystemCategory\",\n",
    "    \"ecosystemType\", \"ecosystemSubtype\", \"specificEcosystem\", \"envoBroadScale\",\n",
    "    \"envoLocalScale\", \"envoMedium\", \"biosampleName\", \"ncbiTaxId\", \"ncbiTaxName\",\n",
    "    \"sampleCollectionSite\", \"geographicLocation\", \"latitude\", \"longitude\",\n",
    "    \"dateCollected\", \"description\", \"elevationInMeters\", \"geoLocation\",\n",
    "    \"habitat\", \"isoCountry\", \"modDate\", \"addDate\",\n",
    "]\n",
    "\n",
    "# Open a TSV file for writing\n",
    "with open(output_tsv, mode='w', newline='') as file:\n",
    "    writer = csv.DictWriter(file, fieldnames=fieldnames, delimiter='\\t')\n",
    "\n",
    "    # Write the header\n",
    "    writer.writeheader()\n",
    "\n",
    "    # Write the rows\n",
    "    writer.writerows(biosample_data)\n",
    "\n",
    "print(f\"TSV file saved as '{output_tsv}'.\")"
   ],
   "id": "a82249006b5ae843",
   "outputs": [
    {
     "name": "stdout",
     "output_type": "stream",
     "text": [
      "TSV file saved as 'Gs0153999_environment_ecosystem.tsv'.\n"
     ]
    }
   ],
   "execution_count": 10
  }
 ],
 "metadata": {
  "kernelspec": {
   "display_name": "Python 3",
   "language": "python",
   "name": "python3"
  },
  "language_info": {
   "codemirror_mode": {
    "name": "ipython",
    "version": 2
   },
   "file_extension": ".py",
   "mimetype": "text/x-python",
   "name": "python",
   "nbconvert_exporter": "python",
   "pygments_lexer": "ipython2",
   "version": "2.7.6"
  }
 },
 "nbformat": 4,
 "nbformat_minor": 5
}
