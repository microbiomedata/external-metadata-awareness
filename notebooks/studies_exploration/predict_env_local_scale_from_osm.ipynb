{
 "cells": [
  {
   "metadata": {
    "ExecuteTime": {
     "end_time": "2025-02-25T15:37:22.612129Z",
     "start_time": "2025-02-25T15:37:22.517851Z"
    }
   },
   "cell_type": "code",
   "source": [
    "import csv\n",
    "import requests\n",
    "import time\n",
    "import math"
   ],
   "id": "8609c11319c0839",
   "outputs": [],
   "execution_count": 1
  },
  {
   "metadata": {
    "ExecuteTime": {
     "end_time": "2025-02-25T15:37:22.618923Z",
     "start_time": "2025-02-25T15:37:22.615995Z"
    }
   },
   "cell_type": "code",
   "source": [
    "# Path to the TSV file\n",
    "input_file = 'emp_500_ng/myrold/myrold_attributes.tsv'\n",
    "output_file = 'emp_500_ng/myrold/myrold_attributes_with_osm_features.tsv'"
   ],
   "id": "b09bb2ec57b9fbb1",
   "outputs": [],
   "execution_count": 2
  },
  {
   "metadata": {
    "ExecuteTime": {
     "end_time": "2025-02-25T15:37:22.745852Z",
     "start_time": "2025-02-25T15:37:22.743564Z"
    }
   },
   "cell_type": "code",
   "source": [
    "lat_col = 'latitude'\n",
    "lon_col = 'longitude'"
   ],
   "id": "1b34afb8c34bded5",
   "outputs": [],
   "execution_count": 3
  },
  {
   "metadata": {
    "ExecuteTime": {
     "end_time": "2025-02-25T15:37:22.787946Z",
     "start_time": "2025-02-25T15:37:22.785283Z"
    }
   },
   "cell_type": "code",
   "source": "RADIUS = 1000 # meters",
   "id": "2ea1775cf90efa2b",
   "outputs": [],
   "execution_count": 4
  },
  {
   "metadata": {
    "ExecuteTime": {
     "end_time": "2025-02-25T15:37:22.833829Z",
     "start_time": "2025-02-25T15:37:22.831069Z"
    }
   },
   "cell_type": "code",
   "source": [
    "# Overpass API endpoint\n",
    "OVERPASS_URL = \"https://overpass-api.de/api/interpreter\""
   ],
   "id": "3fdc5d4c1ef8f462",
   "outputs": [],
   "execution_count": 5
  },
  {
   "metadata": {
    "ExecuteTime": {
     "end_time": "2025-02-25T15:37:22.880665Z",
     "start_time": "2025-02-25T15:37:22.876682Z"
    }
   },
   "cell_type": "code",
   "source": [
    "# Function to calculate distance using Haversine formula\n",
    "def haversine(lat1, lon1, lat2, lon2):\n",
    "    R = 6371000  # Earth radius in meters\n",
    "    phi1, phi2 = math.radians(lat1), math.radians(lat2)\n",
    "    delta_phi = math.radians(lat2 - lat1)\n",
    "    delta_lambda = math.radians(lon2 - lon1)\n",
    "\n",
    "    a = math.sin(delta_phi / 2) ** 2 + math.cos(phi1) * math.cos(phi2) * math.sin(delta_lambda / 2) ** 2\n",
    "    c = 2 * math.atan2(math.sqrt(a), math.sqrt(1 - a))\n",
    "    return R * c"
   ],
   "id": "d9ea6c66d010f620",
   "outputs": [],
   "execution_count": 6
  },
  {
   "metadata": {
    "ExecuteTime": {
     "end_time": "2025-02-25T15:37:22.929836Z",
     "start_time": "2025-02-25T15:37:22.923029Z"
    }
   },
   "cell_type": "code",
   "source": [
    "# Function to extract the closest coordinates from an OSM feature\n",
    "def extract_closest_coordinates(feature, elements_dict, lat, lon):\n",
    "    min_distance = float(\"inf\")\n",
    "    closest_lat, closest_lon = None, None\n",
    "\n",
    "    if \"lat\" in feature and \"lon\" in feature:\n",
    "        return float(feature[\"lat\"]), float(feature[\"lon\"])\n",
    "    elif \"nodes\" in feature:\n",
    "        for node_id in feature[\"nodes\"]:\n",
    "            if node_id in elements_dict:\n",
    "                node = elements_dict[node_id]\n",
    "                node_lat, node_lon = float(node[\"lat\"]), float(node[\"lon\"])\n",
    "                distance = haversine(lat, lon, node_lat, node_lon)\n",
    "                if distance < min_distance:\n",
    "                    min_distance = distance\n",
    "                    closest_lat, closest_lon = node_lat, node_lon\n",
    "    elif \"members\" in feature:\n",
    "        for member in feature[\"members\"]:\n",
    "            if \"lat\" in member and \"lon\" in member:\n",
    "                member_lat, member_lon = float(member[\"lat\"]), float(member[\"lon\"])\n",
    "                distance = haversine(lat, lon, member_lat, member_lon)\n",
    "                if distance < min_distance:\n",
    "                    min_distance = distance\n",
    "                    closest_lat, closest_lon = member_lat, member_lon\n",
    "            elif member[\"type\"] == \"way\" and member[\"ref\"] in elements_dict:\n",
    "                way = elements_dict[member[\"ref\"]]\n",
    "                if \"nodes\" in way:\n",
    "                    for node_id in way[\"nodes\"]:\n",
    "                        if node_id in elements_dict:\n",
    "                            node = elements_dict[node_id]\n",
    "                            node_lat, node_lon = float(node[\"lat\"]), float(node[\"lon\"])\n",
    "                            distance = haversine(lat, lon, node_lat, node_lon)\n",
    "                            if distance < min_distance:\n",
    "                                min_distance = distance\n",
    "                                closest_lat, closest_lon = node_lat, node_lon\n",
    "\n",
    "    return closest_lat, closest_lon"
   ],
   "id": "52464bbfceac5555",
   "outputs": [],
   "execution_count": 7
  },
  {
   "metadata": {
    "ExecuteTime": {
     "end_time": "2025-02-25T15:37:22.980549Z",
     "start_time": "2025-02-25T15:37:22.975469Z"
    }
   },
   "cell_type": "code",
   "source": [
    "# Function to query OSM for nearby features with retry logic\n",
    "def get_nearby_features(lat, lon, radius=RADIUS, retries=3):\n",
    "    query = f\"\"\"\n",
    "    [out:json];\n",
    "    (\n",
    "      node(around:{radius},{lat},{lon});\n",
    "      way(around:{radius},{lat},{lon});\n",
    "      relation(around:{radius},{lat},{lon});\n",
    "    );\n",
    "    out body;\n",
    "    \"\"\"\n",
    "\n",
    "    for attempt in range(retries):\n",
    "        response = requests.get(OVERPASS_URL, params={\"data\": query})\n",
    "\n",
    "        if response.status_code == 200:\n",
    "            elements = response.json().get(\"elements\", [])\n",
    "            elements_dict = {el[\"id\"]: el for el in elements if \"lat\" in el and \"lon\" in el or \"nodes\" in el}  # Index nodes and ways\n",
    "            return elements, elements_dict\n",
    "        elif response.status_code == 504:\n",
    "            print(f\"OSM API error 504 (Gateway Timeout), retrying {attempt + 1}/{retries}...\")\n",
    "            time.sleep(5)  # Wait before retrying\n",
    "\n",
    "    print(f\"OSM API error 504, skipping this request after {retries} attempts.\")\n",
    "    return [], {}"
   ],
   "id": "4207cd487e2245d0",
   "outputs": [],
   "execution_count": 8
  },
  {
   "metadata": {
    "ExecuteTime": {
     "end_time": "2025-02-25T15:37:23.027385Z",
     "start_time": "2025-02-25T15:37:23.023800Z"
    }
   },
   "cell_type": "code",
   "source": [
    "# Read input CSV into a list of dictionaries\n",
    "with open(input_file, \"r\", newline=\"\", encoding=\"utf-8\") as infile:\n",
    "    reader = csv.DictReader(infile, delimiter=\"\\t\")\n",
    "    input_data = list(reader)"
   ],
   "id": "242cd186ce3b5895",
   "outputs": [],
   "execution_count": 9
  },
  {
   "metadata": {
    "ExecuteTime": {
     "end_time": "2025-02-25T15:37:23.075191Z",
     "start_time": "2025-02-25T15:37:23.071846Z"
    }
   },
   "cell_type": "code",
   "source": [
    "# Sort input data by accession\n",
    "input_data.sort(key=lambda x: x.get(\"accession\", \"\"))"
   ],
   "id": "e67ef83a9168acc",
   "outputs": [],
   "execution_count": 10
  },
  {
   "metadata": {
    "ExecuteTime": {
     "end_time": "2025-02-25T15:37:23.121893Z",
     "start_time": "2025-02-25T15:37:23.118728Z"
    }
   },
   "cell_type": "code",
   "source": "print(f\"Last accession after sorting: {input_data[-1]['accession']}\")",
   "id": "72ee16c5e4c56445",
   "outputs": [
    {
     "name": "stdout",
     "output_type": "stream",
     "text": [
      "Last accession after sorting: SAMEA7724228\n"
     ]
    }
   ],
   "execution_count": 11
  },
  {
   "metadata": {
    "ExecuteTime": {
     "end_time": "2025-02-25T15:40:43.867978Z",
     "start_time": "2025-02-25T15:37:23.165163Z"
    }
   },
   "cell_type": "code",
   "source": [
    "# Store feature distances for all accessions\n",
    "distance_map = {}\n",
    "data = []\n",
    "\n",
    "# Process each row\n",
    "for row in input_data:\n",
    "    accession = row.get(\"accession\", \"\")\n",
    "    print(f\"Processing accession {accession}...\")\n",
    "    lat = row.get(lat_col, \"\").strip()\n",
    "    lon = row.get(lon_col, \"\").strip()\n",
    "\n",
    "    if lat and lon:\n",
    "        try:\n",
    "            lat, lon = float(lat), float(lon)\n",
    "            features, elements_dict = get_nearby_features(lat, lon, RADIUS)\n",
    "\n",
    "            for feature in features:\n",
    "                feature_id = feature.get(\"id\", \"\")\n",
    "                tags = feature.get(\"tags\", {})\n",
    "                feature_lat, feature_lon = extract_closest_coordinates(feature, elements_dict, lat, lon)\n",
    "                distance = \"\"\n",
    "\n",
    "                if feature_lat is not None and feature_lon is not None:\n",
    "                    distance = haversine(lat, lon, feature_lat, feature_lon)\n",
    "                    if feature_id not in distance_map:\n",
    "                        distance_map[feature_id] = {}\n",
    "                    distance_map[feature_id][accession] = distance\n",
    "\n",
    "                data.append({\n",
    "                    \"accession\": accession,\n",
    "                    \"latitude\": lat,\n",
    "                    \"longitude\": lon,\n",
    "                    \"osm_type\": feature.get(\"type\", \"\"),\n",
    "                    \"osm_id\": feature_id,\n",
    "                    \"feature_latitude\": feature_lat,\n",
    "                    \"feature_longitude\": feature_lon,\n",
    "                    \"distance_meters\": distance,\n",
    "                    \"name\": tags.get(\"name\", \"\"),\n",
    "                    \"tags\": str(tags),\n",
    "                })\n",
    "\n",
    "        except ValueError:\n",
    "            print(f\"Skipping invalid coordinates for accession {accession}\")\n",
    "\n",
    "        # Sleep to avoid hitting rate limits\n",
    "        time.sleep(1)\n",
    "\n",
    "# 3+ minutes"
   ],
   "id": "52363264252597d8",
   "outputs": [
    {
     "name": "stdout",
     "output_type": "stream",
     "text": [
      "Processing accession SAMEA7724195...\n",
      "Processing accession SAMEA7724196...\n",
      "Processing accession SAMEA7724197...\n",
      "Processing accession SAMEA7724198...\n",
      "Processing accession SAMEA7724199...\n",
      "Processing accession SAMEA7724200...\n",
      "Processing accession SAMEA7724201...\n",
      "Processing accession SAMEA7724202...\n",
      "Processing accession SAMEA7724203...\n",
      "Processing accession SAMEA7724204...\n",
      "Processing accession SAMEA7724205...\n",
      "Processing accession SAMEA7724206...\n",
      "Processing accession SAMEA7724207...\n",
      "Processing accession SAMEA7724208...\n",
      "Processing accession SAMEA7724209...\n",
      "Processing accession SAMEA7724210...\n",
      "Processing accession SAMEA7724211...\n",
      "Processing accession SAMEA7724212...\n",
      "Processing accession SAMEA7724213...\n",
      "Processing accession SAMEA7724214...\n",
      "Processing accession SAMEA7724215...\n",
      "Processing accession SAMEA7724216...\n",
      "Processing accession SAMEA7724217...\n",
      "Processing accession SAMEA7724218...\n",
      "Processing accession SAMEA7724219...\n",
      "Processing accession SAMEA7724220...\n",
      "Processing accession SAMEA7724221...\n",
      "Processing accession SAMEA7724222...\n",
      "Processing accession SAMEA7724223...\n",
      "Processing accession SAMEA7724224...\n",
      "Processing accession SAMEA7724225...\n",
      "Processing accession SAMEA7724226...\n",
      "Processing accession SAMEA7724227...\n",
      "Processing accession SAMEA7724228...\n"
     ]
    }
   ],
   "execution_count": 12
  },
  {
   "metadata": {
    "ExecuteTime": {
     "end_time": "2025-02-25T15:40:43.938426Z",
     "start_time": "2025-02-25T15:40:43.904211Z"
    }
   },
   "cell_type": "code",
   "source": [
    "# Write results to TSV, filtering out empty metadata\n",
    "fieldnames = [\"accession\", \"latitude\", \"longitude\", \"osm_type\", \"osm_id\", \"feature_latitude\", \"feature_longitude\", \"distance_meters\", \"name\", \"tags\"]\n",
    "with open(output_file, \"w\", newline=\"\", encoding=\"utf-8\") as outfile:\n",
    "    writer = csv.DictWriter(outfile, fieldnames=fieldnames, delimiter=\"\\t\")\n",
    "    writer.writeheader()\n",
    "    writer.writerows(row for row in data if row[\"tags\"] != \"{}\")"
   ],
   "id": "1a8bc7ddcfb167d5",
   "outputs": [],
   "execution_count": 13
  }
 ],
 "metadata": {
  "kernelspec": {
   "display_name": "Python 3",
   "language": "python",
   "name": "python3"
  },
  "language_info": {
   "codemirror_mode": {
    "name": "ipython",
    "version": 2
   },
   "file_extension": ".py",
   "mimetype": "text/x-python",
   "name": "python",
   "nbconvert_exporter": "python",
   "pygments_lexer": "ipython2",
   "version": "2.7.6"
  }
 },
 "nbformat": 4,
 "nbformat_minor": 5
}
