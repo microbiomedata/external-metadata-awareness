{
 "cells": [
  {
   "metadata": {
    "collapsed": true,
    "ExecuteTime": {
     "end_time": "2025-02-10T14:47:40.626190Z",
     "start_time": "2025-02-10T14:47:40.171270Z"
    }
   },
   "cell_type": "code",
   "source": [
    "import pandas as pd\n",
    "from pymongo import MongoClient"
   ],
   "id": "initial_id",
   "outputs": [],
   "execution_count": 1
  },
  {
   "metadata": {
    "ExecuteTime": {
     "end_time": "2025-02-10T14:47:40.634178Z",
     "start_time": "2025-02-10T14:47:40.630742Z"
    }
   },
   "cell_type": "code",
   "source": [
    "# For the BBOP/NMDC MongoDB containing NCBI metadata\n",
    "\n",
    "MONGO_USERNAME = None\n",
    "MONGO_PASSWORD = None\n",
    "MONGO_HOST = \"localhost\"\n",
    "MONGO_PORT = 27017\n",
    "MONGO_DATABASE = \"ncbi_metadata\"\n",
    "BIOPROJECTS_COLLECTION = \"bioprojects\"\n",
    "BIOSAMPLES_COLLECTION = \"biosamples\"\n",
    "BIOSAMPLES_BIOPROJECTS_COLLECTION = \"sra_biosamples_bioprojects\"\n"
   ],
   "id": "566f60c0890665de",
   "outputs": [],
   "execution_count": 2
  },
  {
   "metadata": {
    "ExecuteTime": {
     "end_time": "2025-02-10T14:47:40.773568Z",
     "start_time": "2025-02-10T14:47:40.770728Z"
    }
   },
   "cell_type": "code",
   "source": [
    "# \"Potential_import_SRA_Jan2024\"\n",
    "SHEET_ID = \"1432d4WGdO5aSU2SvHBSvlqWmJ1NiEOTJ4UGQq1zR_ho\""
   ],
   "id": "78507c77d01f9bf",
   "outputs": [],
   "execution_count": 3
  },
  {
   "metadata": {
    "ExecuteTime": {
     "end_time": "2025-02-10T14:47:40.816211Z",
     "start_time": "2025-02-10T14:47:40.812952Z"
    }
   },
   "cell_type": "code",
   "source": "CSV_URL = f\"https://docs.google.com/spreadsheets/d/{SHEET_ID}/gviz/tq?tqx=out:csv\"",
   "id": "7af260201d4607d",
   "outputs": [],
   "execution_count": 4
  },
  {
   "metadata": {
    "ExecuteTime": {
     "end_time": "2025-02-10T14:47:41.216013Z",
     "start_time": "2025-02-10T14:47:40.859611Z"
    }
   },
   "cell_type": "code",
   "source": [
    "# Read the CSV into a pandas DataFrame\n",
    "df = pd.read_csv(CSV_URL)\n"
   ],
   "id": "8854c502784e8d8f",
   "outputs": [],
   "execution_count": 5
  },
  {
   "metadata": {
    "ExecuteTime": {
     "end_time": "2025-02-10T14:47:41.255096Z",
     "start_time": "2025-02-10T14:47:41.229703Z"
    }
   },
   "cell_type": "code",
   "source": [
    "# Display the first few rows\n",
    "df"
   ],
   "id": "f1be4b9d9ab2200e",
   "outputs": [
    {
     "data": {
      "text/plain": [
       "    ## Bioproject selected based on: ## At least 50 metagenomes (10M reads +), not currently in IMG (as far as I know), environmental / terrestrial / soil / plant ## For IMG imports, looked at cases where MAGs are not already available in NCBI, and potential for interesting new diversity ## For NMDC imports, looked more specifically at soil and related, and nice metadata BioProject Id  \\\n",
       "0                                           PRJEB52368                                                                                                                                                                                                                                                                                                                                                \n",
       "1                                          PRJNA352737                                                                                                                                                                                                                                                                                                                                                \n",
       "2                                          PRJNA385736                                                                                                                                                                                                                                                                                                                                                \n",
       "3                                          PRJNA656268                                                                                                                                                                                                                                                                                                                                                \n",
       "4                                          PRJNA385854                                                                                                                                                                                                                                                                                                                                                \n",
       "..                                                 ...                                                                                                                                                                                                                                                                                                                                                \n",
       "108                                         PRJEB35627                                                                                                                                                                                                                                                                                                                                                \n",
       "109                                        PRJNA476799                                                                                                                                                                                                                                                                                                                                                \n",
       "110                                        PRJNA691683                                                                                                                                                                                                                                                                                                                                                \n",
       "111                                        PRJNA798446                                                                                                                                                                                                                                                                                                                                                \n",
       "112                                        PRJNA893888                                                                                                                                                                                                                                                                                                                                                \n",
       "\n",
       "     # metaG 10M+                                       Project name  \\\n",
       "0             827  Metagenomic sequencing of Tara Pacific coral s...   \n",
       "1             721        HOT ALOHA metagenomic time and depth series   \n",
       "2             688  Marine amplicons/metagenomes  from Australian ...   \n",
       "3             572  Bio-GO-SHIP: Global marine 'omics studies of r...   \n",
       "4             470   Marine metagenomes from the bioGEOTRACES project   \n",
       "..            ...                                                ...   \n",
       "108            50  Seasonal and diel patterns of bacteriophages i...   \n",
       "109            50   Greenhouse Vegetable Surfaces Raw sequence reads   \n",
       "110            50       Topsoil viromes from five types of land uses   \n",
       "111            50  Shotgun metagenome of microbial community in m...   \n",
       "112            50                              vineyards soil sample   \n",
       "\n",
       "    Environment(s)                Publication     MAGs in NCBI  \\\n",
       "0     Marine/coral                        NaN              NaN   \n",
       "1           Marine  10.1038/s41564-017-0008-3        Yes (197)   \n",
       "2           Marine                        NaN              NaN   \n",
       "3           Marine           No but NSF grant  Maybe (see TPA)   \n",
       "4           Marine     10.1038/sdata.2018.176              NaN   \n",
       "..             ...                        ...              ...   \n",
       "108         Marine                        NaN              NaN   \n",
       "109          Plant                        NaN              NaN   \n",
       "110           Soil                        NaN              NaN   \n",
       "111           Soil                        NaN              NaN   \n",
       "112           Soil                        NaN              NaN   \n",
       "\n",
       "    Import to IMG ? Import to NMDC ?  \\\n",
       "0                No               No   \n",
       "1                No               No   \n",
       "2               Yes          Maybe ?   \n",
       "3                No               No   \n",
       "4               Yes          Maybe ?   \n",
       "..              ...              ...   \n",
       "108              No               No   \n",
       "109              No               No   \n",
       "110              No               No   \n",
       "111              No               No   \n",
       "112              No               No   \n",
       "\n",
       "                                                 Notes  \n",
       "0                Tara, unpublished, probably stay away  \n",
       "1    Already has MAGs in NCBI, and oceanic so not h...  \n",
       "2    Some paired metaG and metaT, but marine and no...  \n",
       "3    Has a TPA and already in MGnify. 10.1093/nar/g...  \n",
       "4    Rich metadata, could be good if no MAGs (Data ...  \n",
       "..                                                 ...  \n",
       "108                                                NaN  \n",
       "109                    Food related, not high priority  \n",
       "110                                  More for IMG/VR ?  \n",
       "111                                        no metadata  \n",
       "112                                        no metadata  \n",
       "\n",
       "[113 rows x 9 columns]"
      ],
      "text/html": [
       "<div>\n",
       "<style scoped>\n",
       "    .dataframe tbody tr th:only-of-type {\n",
       "        vertical-align: middle;\n",
       "    }\n",
       "\n",
       "    .dataframe tbody tr th {\n",
       "        vertical-align: top;\n",
       "    }\n",
       "\n",
       "    .dataframe thead th {\n",
       "        text-align: right;\n",
       "    }\n",
       "</style>\n",
       "<table border=\"1\" class=\"dataframe\">\n",
       "  <thead>\n",
       "    <tr style=\"text-align: right;\">\n",
       "      <th></th>\n",
       "      <th>## Bioproject selected based on: ## At least 50 metagenomes (10M reads +), not currently in IMG (as far as I know), environmental / terrestrial / soil / plant ## For IMG imports, looked at cases where MAGs are not already available in NCBI, and potential for interesting new diversity ## For NMDC imports, looked more specifically at soil and related, and nice metadata BioProject Id</th>\n",
       "      <th># metaG 10M+</th>\n",
       "      <th>Project name</th>\n",
       "      <th>Environment(s)</th>\n",
       "      <th>Publication</th>\n",
       "      <th>MAGs in NCBI</th>\n",
       "      <th>Import to IMG ?</th>\n",
       "      <th>Import to NMDC ?</th>\n",
       "      <th>Notes</th>\n",
       "    </tr>\n",
       "  </thead>\n",
       "  <tbody>\n",
       "    <tr>\n",
       "      <th>0</th>\n",
       "      <td>PRJEB52368</td>\n",
       "      <td>827</td>\n",
       "      <td>Metagenomic sequencing of Tara Pacific coral s...</td>\n",
       "      <td>Marine/coral</td>\n",
       "      <td>NaN</td>\n",
       "      <td>NaN</td>\n",
       "      <td>No</td>\n",
       "      <td>No</td>\n",
       "      <td>Tara, unpublished, probably stay away</td>\n",
       "    </tr>\n",
       "    <tr>\n",
       "      <th>1</th>\n",
       "      <td>PRJNA352737</td>\n",
       "      <td>721</td>\n",
       "      <td>HOT ALOHA metagenomic time and depth series</td>\n",
       "      <td>Marine</td>\n",
       "      <td>10.1038/s41564-017-0008-3</td>\n",
       "      <td>Yes (197)</td>\n",
       "      <td>No</td>\n",
       "      <td>No</td>\n",
       "      <td>Already has MAGs in NCBI, and oceanic so not h...</td>\n",
       "    </tr>\n",
       "    <tr>\n",
       "      <th>2</th>\n",
       "      <td>PRJNA385736</td>\n",
       "      <td>688</td>\n",
       "      <td>Marine amplicons/metagenomes  from Australian ...</td>\n",
       "      <td>Marine</td>\n",
       "      <td>NaN</td>\n",
       "      <td>NaN</td>\n",
       "      <td>Yes</td>\n",
       "      <td>Maybe ?</td>\n",
       "      <td>Some paired metaG and metaT, but marine and no...</td>\n",
       "    </tr>\n",
       "    <tr>\n",
       "      <th>3</th>\n",
       "      <td>PRJNA656268</td>\n",
       "      <td>572</td>\n",
       "      <td>Bio-GO-SHIP: Global marine 'omics studies of r...</td>\n",
       "      <td>Marine</td>\n",
       "      <td>No but NSF grant</td>\n",
       "      <td>Maybe (see TPA)</td>\n",
       "      <td>No</td>\n",
       "      <td>No</td>\n",
       "      <td>Has a TPA and already in MGnify. 10.1093/nar/g...</td>\n",
       "    </tr>\n",
       "    <tr>\n",
       "      <th>4</th>\n",
       "      <td>PRJNA385854</td>\n",
       "      <td>470</td>\n",
       "      <td>Marine metagenomes from the bioGEOTRACES project</td>\n",
       "      <td>Marine</td>\n",
       "      <td>10.1038/sdata.2018.176</td>\n",
       "      <td>NaN</td>\n",
       "      <td>Yes</td>\n",
       "      <td>Maybe ?</td>\n",
       "      <td>Rich metadata, could be good if no MAGs (Data ...</td>\n",
       "    </tr>\n",
       "    <tr>\n",
       "      <th>...</th>\n",
       "      <td>...</td>\n",
       "      <td>...</td>\n",
       "      <td>...</td>\n",
       "      <td>...</td>\n",
       "      <td>...</td>\n",
       "      <td>...</td>\n",
       "      <td>...</td>\n",
       "      <td>...</td>\n",
       "      <td>...</td>\n",
       "    </tr>\n",
       "    <tr>\n",
       "      <th>108</th>\n",
       "      <td>PRJEB35627</td>\n",
       "      <td>50</td>\n",
       "      <td>Seasonal and diel patterns of bacteriophages i...</td>\n",
       "      <td>Marine</td>\n",
       "      <td>NaN</td>\n",
       "      <td>NaN</td>\n",
       "      <td>No</td>\n",
       "      <td>No</td>\n",
       "      <td>NaN</td>\n",
       "    </tr>\n",
       "    <tr>\n",
       "      <th>109</th>\n",
       "      <td>PRJNA476799</td>\n",
       "      <td>50</td>\n",
       "      <td>Greenhouse Vegetable Surfaces Raw sequence reads</td>\n",
       "      <td>Plant</td>\n",
       "      <td>NaN</td>\n",
       "      <td>NaN</td>\n",
       "      <td>No</td>\n",
       "      <td>No</td>\n",
       "      <td>Food related, not high priority</td>\n",
       "    </tr>\n",
       "    <tr>\n",
       "      <th>110</th>\n",
       "      <td>PRJNA691683</td>\n",
       "      <td>50</td>\n",
       "      <td>Topsoil viromes from five types of land uses</td>\n",
       "      <td>Soil</td>\n",
       "      <td>NaN</td>\n",
       "      <td>NaN</td>\n",
       "      <td>No</td>\n",
       "      <td>No</td>\n",
       "      <td>More for IMG/VR ?</td>\n",
       "    </tr>\n",
       "    <tr>\n",
       "      <th>111</th>\n",
       "      <td>PRJNA798446</td>\n",
       "      <td>50</td>\n",
       "      <td>Shotgun metagenome of microbial community in m...</td>\n",
       "      <td>Soil</td>\n",
       "      <td>NaN</td>\n",
       "      <td>NaN</td>\n",
       "      <td>No</td>\n",
       "      <td>No</td>\n",
       "      <td>no metadata</td>\n",
       "    </tr>\n",
       "    <tr>\n",
       "      <th>112</th>\n",
       "      <td>PRJNA893888</td>\n",
       "      <td>50</td>\n",
       "      <td>vineyards soil sample</td>\n",
       "      <td>Soil</td>\n",
       "      <td>NaN</td>\n",
       "      <td>NaN</td>\n",
       "      <td>No</td>\n",
       "      <td>No</td>\n",
       "      <td>no metadata</td>\n",
       "    </tr>\n",
       "  </tbody>\n",
       "</table>\n",
       "<p>113 rows × 9 columns</p>\n",
       "</div>"
      ]
     },
     "execution_count": 6,
     "metadata": {},
     "output_type": "execute_result"
    }
   ],
   "execution_count": 6
  },
  {
   "metadata": {
    "ExecuteTime": {
     "end_time": "2025-02-10T14:47:41.326538Z",
     "start_time": "2025-02-10T14:47:41.322974Z"
    }
   },
   "cell_type": "code",
   "source": [
    "# Get the leftmost column (first column)\n",
    "bioproj_accession_column = df.iloc[:, 0]  # Select the first column\n",
    "\n",
    "# Get unique values\n",
    "bioproj_accession_values = list(bioproj_accession_column.unique())\n",
    "bioproj_accession_values.sort()"
   ],
   "id": "e7bd7a6a486281aa",
   "outputs": [],
   "execution_count": 7
  },
  {
   "metadata": {
    "ExecuteTime": {
     "end_time": "2025-02-10T14:47:41.373304Z",
     "start_time": "2025-02-10T14:47:41.364917Z"
    }
   },
   "cell_type": "code",
   "source": [
    "# Display the unique values\n",
    "bioproj_accession_values"
   ],
   "id": "429acd8598ca2fc2",
   "outputs": [
    {
     "data": {
      "text/plain": [
       "['PRJEB18675',\n",
       " 'PRJEB27870',\n",
       " 'PRJEB31530',\n",
       " 'PRJEB34634',\n",
       " 'PRJEB34883',\n",
       " 'PRJEB35627',\n",
       " 'PRJEB35640',\n",
       " 'PRJEB35770',\n",
       " 'PRJEB38290',\n",
       " 'PRJEB38681',\n",
       " 'PRJEB40760',\n",
       " 'PRJEB41174',\n",
       " 'PRJEB41834',\n",
       " 'PRJEB4352',\n",
       " 'PRJEB44163',\n",
       " 'PRJEB44309',\n",
       " 'PRJEB44414',\n",
       " 'PRJEB45634',\n",
       " 'PRJEB52368',\n",
       " 'PRJEB52406',\n",
       " 'PRJEB52452',\n",
       " 'PRJEB52753',\n",
       " 'PRJEB55522',\n",
       " 'PRJEB62460',\n",
       " 'PRJEB66294',\n",
       " 'PRJEB9691',\n",
       " 'PRJEB9742',\n",
       " 'PRJNA1000042',\n",
       " 'PRJNA1000596',\n",
       " 'PRJNA1001993',\n",
       " 'PRJNA1002763',\n",
       " 'PRJNA1014704',\n",
       " 'PRJNA1028263',\n",
       " 'PRJNA1035420',\n",
       " 'PRJNA1035643',\n",
       " 'PRJNA308326',\n",
       " 'PRJNA329908',\n",
       " 'PRJNA352737',\n",
       " 'PRJNA358725',\n",
       " 'PRJNA379303',\n",
       " 'PRJNA385736',\n",
       " 'PRJNA385854',\n",
       " 'PRJNA385855',\n",
       " 'PRJNA386568',\n",
       " 'PRJNA389803',\n",
       " 'PRJNA395437',\n",
       " 'PRJNA429141',\n",
       " 'PRJNA448773',\n",
       " 'PRJNA449266',\n",
       " 'PRJNA450295',\n",
       " 'PRJNA450643',\n",
       " 'PRJNA473136',\n",
       " 'PRJNA476799',\n",
       " 'PRJNA528368',\n",
       " 'PRJNA530708',\n",
       " 'PRJNA545144',\n",
       " 'PRJNA558772',\n",
       " 'PRJNA577476',\n",
       " 'PRJNA588686',\n",
       " 'PRJNA608274',\n",
       " 'PRJNA628860',\n",
       " 'PRJNA629394',\n",
       " 'PRJNA632564',\n",
       " 'PRJNA640378',\n",
       " 'PRJNA656268',\n",
       " 'PRJNA660264',\n",
       " 'PRJNA674565',\n",
       " 'PRJNA681031',\n",
       " 'PRJNA688583',\n",
       " 'PRJNA688820',\n",
       " 'PRJNA689669',\n",
       " 'PRJNA691683',\n",
       " 'PRJNA698060',\n",
       " 'PRJNA714922',\n",
       " 'PRJNA716697',\n",
       " 'PRJNA718849',\n",
       " 'PRJNA729490',\n",
       " 'PRJNA730325',\n",
       " 'PRJNA730330',\n",
       " 'PRJNA746701',\n",
       " 'PRJNA776090',\n",
       " 'PRJNA779832',\n",
       " 'PRJNA781406',\n",
       " 'PRJNA789467',\n",
       " 'PRJNA798446',\n",
       " 'PRJNA818909',\n",
       " 'PRJNA823681',\n",
       " 'PRJNA832417',\n",
       " 'PRJNA838942',\n",
       " 'PRJNA849359',\n",
       " 'PRJNA855256',\n",
       " 'PRJNA856348',\n",
       " 'PRJNA859194',\n",
       " 'PRJNA871234',\n",
       " 'PRJNA880762',\n",
       " 'PRJNA882411',\n",
       " 'PRJNA888551',\n",
       " 'PRJNA889855',\n",
       " 'PRJNA892917',\n",
       " 'PRJNA893888',\n",
       " 'PRJNA899702',\n",
       " 'PRJNA903825',\n",
       " 'PRJNA905198',\n",
       " 'PRJNA909948',\n",
       " 'PRJNA912236',\n",
       " 'PRJNA913601',\n",
       " 'PRJNA914269',\n",
       " 'PRJNA916885',\n",
       " 'PRJNA924737',\n",
       " 'PRJNA932007',\n",
       " 'PRJNA946152',\n",
       " 'PRJNA982563',\n",
       " 'PRJNA985794']"
      ]
     },
     "execution_count": 8,
     "metadata": {},
     "output_type": "execute_result"
    }
   ],
   "execution_count": 8
  },
  {
   "metadata": {
    "ExecuteTime": {
     "end_time": "2025-02-10T14:47:41.477915Z",
     "start_time": "2025-02-10T14:47:41.473604Z"
    }
   },
   "cell_type": "code",
   "source": "len(bioproj_accession_values)",
   "id": "1229e3f636e99bda",
   "outputs": [
    {
     "data": {
      "text/plain": [
       "113"
      ]
     },
     "execution_count": 9,
     "metadata": {},
     "output_type": "execute_result"
    }
   ],
   "execution_count": 9
  },
  {
   "metadata": {
    "ExecuteTime": {
     "end_time": "2025-02-10T14:47:41.535234Z",
     "start_time": "2025-02-10T14:47:41.524866Z"
    }
   },
   "cell_type": "code",
   "source": [
    "if MONGO_USERNAME is not None and MONGO_PASSWORD is not None:\n",
    "    username = MONGO_USERNAME\n",
    "    password = MONGO_PASSWORD\n",
    "    host = MONGO_HOST\n",
    "    port = MONGO_PORT\n",
    "\n",
    "    # Build the connection string with authentication.\n",
    "    connection_string = f\"mongodb://{username}:{password}@{host}:{port}\"\n",
    "else:\n",
    "    # Default connection to unauthenticated MongoDB.\n",
    "    host = MONGO_HOST\n",
    "    port = MONGO_PORT\n",
    "    connection_string = f\"mongodb://{host}:{port}\"\n",
    "\n",
    "# Create the client connection.\n",
    "client = MongoClient(connection_string)"
   ],
   "id": "636a2c823a4f4bc8",
   "outputs": [],
   "execution_count": 10
  },
  {
   "metadata": {
    "ExecuteTime": {
     "end_time": "2025-02-10T14:47:41.576735Z",
     "start_time": "2025-02-10T14:47:41.573530Z"
    }
   },
   "cell_type": "code",
   "source": [
    "# --------------------------\n",
    "# Select Database\n",
    "# --------------------------\n",
    "\n",
    "db = client[MONGO_DATABASE]  # Dynamically select database\n"
   ],
   "id": "5f96fb4b77a80ef",
   "outputs": [],
   "execution_count": 11
  },
  {
   "metadata": {
    "ExecuteTime": {
     "end_time": "2025-02-10T14:47:41.626749Z",
     "start_time": "2025-02-10T14:47:41.622033Z"
    }
   },
   "cell_type": "code",
   "source": "biosamples_bioprojects_collection = db[BIOSAMPLES_BIOPROJECTS_COLLECTION]",
   "id": "d1cb85a80a4d6930",
   "outputs": [],
   "execution_count": 12
  },
  {
   "metadata": {
    "ExecuteTime": {
     "end_time": "2025-02-10T14:47:41.775961Z",
     "start_time": "2025-02-10T14:47:41.672137Z"
    }
   },
   "cell_type": "code",
   "source": [
    "# MongoDB query using the `$in` operator\n",
    "query = {\"bioproject_accession\": {\"$in\": bioproj_accession_values}}\n",
    "\n",
    "# Fetch matching documents\n",
    "wishlist_biosamples_bioprojects = list(biosamples_bioprojects_collection.find(query))\n"
   ],
   "id": "b26f8d10e3e001fa",
   "outputs": [],
   "execution_count": 13
  },
  {
   "metadata": {
    "ExecuteTime": {
     "end_time": "2025-02-10T14:47:41.794846Z",
     "start_time": "2025-02-10T14:47:41.790280Z"
    }
   },
   "cell_type": "code",
   "source": "len(wishlist_biosamples_bioprojects)",
   "id": "bc68215ce998add3",
   "outputs": [
    {
     "data": {
      "text/plain": [
       "30161"
      ]
     },
     "execution_count": 14,
     "metadata": {},
     "output_type": "execute_result"
    }
   ],
   "execution_count": 14
  },
  {
   "metadata": {
    "ExecuteTime": {
     "end_time": "2025-02-10T14:47:41.844141Z",
     "start_time": "2025-02-10T14:47:41.840084Z"
    }
   },
   "cell_type": "code",
   "source": [
    "# Print the results\n",
    "for doc in wishlist_biosamples_bioprojects[0:9]:\n",
    "    print(doc)"
   ],
   "id": "83bb4d94ee5739b2",
   "outputs": [
    {
     "name": "stdout",
     "output_type": "stream",
     "text": [
      "{'_id': ObjectId('679b82323b7bd066cbcbb9f2'), 'biosample_accession': 'SAMEA30188668', 'bioproject_accession': 'PRJEB18675'}\n",
      "{'_id': ObjectId('679b82323b7bd066cbcbb9f3'), 'biosample_accession': 'SAMEA30189418', 'bioproject_accession': 'PRJEB18675'}\n",
      "{'_id': ObjectId('679b82323b7bd066cbcbb9f4'), 'biosample_accession': 'SAMEA30190168', 'bioproject_accession': 'PRJEB18675'}\n",
      "{'_id': ObjectId('679b82323b7bd066cbcbb9f5'), 'biosample_accession': 'SAMEA30190918', 'bioproject_accession': 'PRJEB18675'}\n",
      "{'_id': ObjectId('679b82323b7bd066cbcbb9f6'), 'biosample_accession': 'SAMEA30191668', 'bioproject_accession': 'PRJEB18675'}\n",
      "{'_id': ObjectId('679b82323b7bd066cbcbb9f7'), 'biosample_accession': 'SAMEA30192418', 'bioproject_accession': 'PRJEB18675'}\n",
      "{'_id': ObjectId('679b82323b7bd066cbcbb9f8'), 'biosample_accession': 'SAMEA30193168', 'bioproject_accession': 'PRJEB18675'}\n",
      "{'_id': ObjectId('679b82323b7bd066cbcbb9f9'), 'biosample_accession': 'SAMEA30193918', 'bioproject_accession': 'PRJEB18675'}\n",
      "{'_id': ObjectId('679b82323b7bd066cbcbb9fa'), 'biosample_accession': 'SAMEA30194668', 'bioproject_accession': 'PRJEB18675'}\n"
     ]
    }
   ],
   "execution_count": 15
  },
  {
   "metadata": {
    "ExecuteTime": {
     "end_time": "2025-02-10T14:47:41.894307Z",
     "start_time": "2025-02-10T14:47:41.891158Z"
    }
   },
   "cell_type": "code",
   "source": "biosamples_collection = db[BIOSAMPLES_COLLECTION]",
   "id": "c8a2bbe50feab577",
   "outputs": [],
   "execution_count": 16
  },
  {
   "metadata": {
    "ExecuteTime": {
     "end_time": "2025-02-10T14:47:43.999304Z",
     "start_time": "2025-02-10T14:47:41.940218Z"
    }
   },
   "cell_type": "code",
   "source": [
    "# Extract the biosample_accession values\n",
    "biosample_accession_list = [item[\"biosample_accession\"] for item in wishlist_biosamples_bioprojects]\n",
    "\n",
    "# MongoDB query using `$in`\n",
    "query = {\"accession\": {\"$in\": biosample_accession_list}}\n",
    "\n",
    "# Fetch matching documents\n",
    "wishlist_biosamples = list(biosamples_collection.find(query))"
   ],
   "id": "f76fda996d0882b3",
   "outputs": [],
   "execution_count": 17
  },
  {
   "metadata": {
    "ExecuteTime": {
     "end_time": "2025-02-10T14:47:44.017119Z",
     "start_time": "2025-02-10T14:47:44.013486Z"
    }
   },
   "cell_type": "code",
   "source": "len(wishlist_biosamples)",
   "id": "4247e6f24f447ef2",
   "outputs": [
    {
     "data": {
      "text/plain": [
       "30161"
      ]
     },
     "execution_count": 18,
     "metadata": {},
     "output_type": "execute_result"
    }
   ],
   "execution_count": 18
  },
  {
   "metadata": {
    "ExecuteTime": {
     "end_time": "2025-02-10T14:47:44.066649Z",
     "start_time": "2025-02-10T14:47:44.057868Z"
    }
   },
   "cell_type": "code",
   "source": "wishlist_biosamples[0]",
   "id": "389de3990156f270",
   "outputs": [
    {
     "data": {
      "text/plain": [
       "{'_id': ObjectId('677f66eb0a6241ac79325d55'),\n",
       " 'access': 'public',\n",
       " 'publication_date': '2022-06-06T00:00:00.000',\n",
       " 'last_update': '2024-06-26T10:36:46.000',\n",
       " 'submission_date': '2022-09-23T14:20:12.056',\n",
       " 'id': '30986217',\n",
       " 'accession': 'SAMEA110022181',\n",
       " 'Ids': {'Id': [{'content': 'SAMEA110022181',\n",
       "    'db': 'BioSample',\n",
       "    'is_primary': '1'},\n",
       "   {'content': 'ERS11966019', 'db': 'SRA'}]},\n",
       " 'Description': {'Title': {'content': '2'},\n",
       "  'Organism': {'taxonomy_id': '256318',\n",
       "   'taxonomy_name': 'metagenome',\n",
       "   'OrganismName': {'content': 'metagenome'}}},\n",
       " 'Owner': {'Name': {'content': 'EBI'}},\n",
       " 'Models': {'Model': {'content': 'Generic'}},\n",
       " 'Package': {'content': 'Generic.1.0', 'display_name': 'Generic'},\n",
       " 'Attributes': {'Attribute': [{'content': 'GR',\n",
       "    'attribute_name': 'Country',\n",
       "    'harmonized_name': 'geo_loc_name',\n",
       "    'display_name': 'geographic location'},\n",
       "   {'content': 'ERC000022', 'attribute_name': 'ENA-CHECKLIST'},\n",
       "   {'content': 'CEH', 'attribute_name': 'INSDC center name'},\n",
       "   {'content': 'GR2', 'attribute_name': 'Replicate_site'},\n",
       "   {'content': 'S1', 'attribute_name': 'Sampling_time'},\n",
       "   {'content': '2', 'attribute_name': 'Submitter Id'},\n",
       "   {'content': 'Ct',\n",
       "    'attribute_name': 'Treatment',\n",
       "    'harmonized_name': 'treatment',\n",
       "    'display_name': 'treatment'},\n",
       "   {'content': 'terrestrial biome',\n",
       "    'attribute_name': 'broad-scale environmental context',\n",
       "    'harmonized_name': 'env_broad_scale',\n",
       "    'display_name': 'broad-scale environmental context'},\n",
       "   {'content': '2018',\n",
       "    'attribute_name': 'collection date',\n",
       "    'harmonized_name': 'collection_date',\n",
       "    'display_name': 'collection date'},\n",
       "   {'content': '0.15',\n",
       "    'attribute_name': 'depth',\n",
       "    'harmonized_name': 'depth',\n",
       "    'display_name': 'depth'},\n",
       "   {'content': '508',\n",
       "    'attribute_name': 'elevation',\n",
       "    'harmonized_name': 'elev',\n",
       "    'display_name': 'elevation'},\n",
       "   {'content': 'soil',\n",
       "    'attribute_name': 'environmental medium',\n",
       "    'harmonized_name': 'env_medium',\n",
       "    'display_name': 'environmental medium'},\n",
       "   {'content': 'Greece',\n",
       "    'attribute_name': 'geographic location (country and/or sea)',\n",
       "    'harmonized_name': 'geo_loc_name',\n",
       "    'display_name': 'geographic location'},\n",
       "   {'content': '40.617725',\n",
       "    'attribute_name': 'geographic location (latitude)'},\n",
       "   {'content': '23.056105',\n",
       "    'attribute_name': 'geographic location (longitude)'},\n",
       "   {'content': 'grassland biome',\n",
       "    'attribute_name': 'local environmental context'},\n",
       "   {'content': 'water',\n",
       "    'attribute_name': 'pH method',\n",
       "    'harmonized_name': 'ph_meth',\n",
       "    'display_name': 'pH method'},\n",
       "   {'content': 'Disturbance Grassland Soils',\n",
       "    'attribute_name': 'project name',\n",
       "    'harmonized_name': 'project_name',\n",
       "    'display_name': 'project name'},\n",
       "   {'content': '2',\n",
       "    'attribute_name': 'sample name',\n",
       "    'harmonized_name': 'sample_name',\n",
       "    'display_name': 'sample name'},\n",
       "   {'content': 'metagenome', 'attribute_name': 'scientific_name'},\n",
       "   {'content': '24.14989591',\n",
       "    'attribute_name': 'water content',\n",
       "    'harmonized_name': 'water_content',\n",
       "    'display_name': 'water content'},\n",
       "   {'content': 'g/g', 'attribute_name': 'water content method'}]},\n",
       " 'Status': {'status': 'live', 'when': '2022-09-23T14:20:12.059'}}"
      ]
     },
     "execution_count": 19,
     "metadata": {},
     "output_type": "execute_result"
    }
   ],
   "execution_count": 19
  },
  {
   "metadata": {
    "ExecuteTime": {
     "end_time": "2025-02-10T14:47:44.118910Z",
     "start_time": "2025-02-10T14:47:44.110199Z"
    }
   },
   "cell_type": "code",
   "source": [
    "# Convert to dictionary for O(1) lookup\n",
    "bioproject_dict = {item[\"biosample_accession\"]: item[\"bioproject_accession\"] for item in wishlist_biosamples_bioprojects}\n"
   ],
   "id": "5aab4b691835d0b3",
   "outputs": [],
   "execution_count": 20
  },
  {
   "metadata": {
    "ExecuteTime": {
     "end_time": "2025-02-10T14:47:44.466133Z",
     "start_time": "2025-02-10T14:47:44.164865Z"
    }
   },
   "cell_type": "code",
   "source": [
    "# List of relevant harmonized names\n",
    "target_harmonized_names = {\"env_broad_scale\", \"env_local_scale\", \"env_medium\"}\n",
    "\n",
    "data = []\n",
    "for doc in wishlist_biosamples:\n",
    "    biosample_accession = doc.get(\"accession\")\n",
    "    bioproject_accession = bioproject_dict.get(biosample_accession)\n",
    "\n",
    "    # Get attributes and ensure it's always a list\n",
    "    attributes = doc.get(\"Attributes\", {}).get(\"Attribute\", [])\n",
    "    if isinstance(attributes, dict):\n",
    "        attributes = [attributes]\n",
    "\n",
    "    # Collect attributes into a dictionary\n",
    "    attr_dict = {name: None for name in target_harmonized_names}  # Initialize with None\n",
    "    for attr in attributes:\n",
    "        harmonized_name = attr.get(\"harmonized_name\")\n",
    "        if harmonized_name in target_harmonized_names:\n",
    "            attr_dict[harmonized_name] = attr.get(\"content\")\n",
    "\n",
    "    # Append the structured row\n",
    "    data.append({\n",
    "        \"bioproject_accession\": bioproject_accession,\n",
    "        \"biosample_accession\": biosample_accession,\n",
    "        \"env_broad_scale\": attr_dict[\"env_broad_scale\"],\n",
    "        \"env_local_scale\": attr_dict[\"env_local_scale\"],\n",
    "        \"env_medium\": attr_dict[\"env_medium\"],\n",
    "    })\n",
    "\n",
    "\n",
    "# Convert to pandas DataFrame\n",
    "df = pd.DataFrame(data)"
   ],
   "id": "b903a4821c792104",
   "outputs": [],
   "execution_count": 21
  },
  {
   "metadata": {
    "ExecuteTime": {
     "end_time": "2025-02-10T14:47:44.491513Z",
     "start_time": "2025-02-10T14:47:44.482412Z"
    }
   },
   "cell_type": "code",
   "source": "df",
   "id": "be4f3888c57449f0",
   "outputs": [
    {
     "data": {
      "text/plain": [
       "      bioproject_accession biosample_accession        env_broad_scale  \\\n",
       "0               PRJEB52753      SAMEA110022181      terrestrial biome   \n",
       "1               PRJEB52753      SAMEA110027444      terrestrial biome   \n",
       "2               PRJEB52452      SAMEA110646458           Trades Biome   \n",
       "3               PRJEB52452      SAMEA110646459           Trades Biome   \n",
       "4               PRJEB52452      SAMEA110646460           Trades Biome   \n",
       "...                    ...                 ...                    ...   \n",
       "30156         PRJNA1035643        SAMN38096308  xeric shrubland biome   \n",
       "30157         PRJNA1035643        SAMN38096309  xeric shrubland biome   \n",
       "30158         PRJNA1035643        SAMN38096310  xeric shrubland biome   \n",
       "30159         PRJNA1035643        SAMN38096311  xeric shrubland biome   \n",
       "30160         PRJNA1035643        SAMN38096312  xeric shrubland biome   \n",
       "\n",
       "                      env_local_scale  \\\n",
       "0                                None   \n",
       "1                                None   \n",
       "2                                None   \n",
       "3                                None   \n",
       "4                                None   \n",
       "...                               ...   \n",
       "30156  terrestrial environmental zone   \n",
       "30157  terrestrial environmental zone   \n",
       "30158  terrestrial environmental zone   \n",
       "30159  terrestrial environmental zone   \n",
       "30160  terrestrial environmental zone   \n",
       "\n",
       "                                              env_medium  \n",
       "0                                                   soil  \n",
       "1                                                   soil  \n",
       "2      particulate matter (ENVO:01000060), including ...  \n",
       "3      particulate matter (ENVO:01000060), including ...  \n",
       "4      particulate matter (ENVO:01000060), including ...  \n",
       "...                                                  ...  \n",
       "30156                                       surface soil  \n",
       "30157                                       surface soil  \n",
       "30158                                       surface soil  \n",
       "30159                                       surface soil  \n",
       "30160                                       surface soil  \n",
       "\n",
       "[30161 rows x 5 columns]"
      ],
      "text/html": [
       "<div>\n",
       "<style scoped>\n",
       "    .dataframe tbody tr th:only-of-type {\n",
       "        vertical-align: middle;\n",
       "    }\n",
       "\n",
       "    .dataframe tbody tr th {\n",
       "        vertical-align: top;\n",
       "    }\n",
       "\n",
       "    .dataframe thead th {\n",
       "        text-align: right;\n",
       "    }\n",
       "</style>\n",
       "<table border=\"1\" class=\"dataframe\">\n",
       "  <thead>\n",
       "    <tr style=\"text-align: right;\">\n",
       "      <th></th>\n",
       "      <th>bioproject_accession</th>\n",
       "      <th>biosample_accession</th>\n",
       "      <th>env_broad_scale</th>\n",
       "      <th>env_local_scale</th>\n",
       "      <th>env_medium</th>\n",
       "    </tr>\n",
       "  </thead>\n",
       "  <tbody>\n",
       "    <tr>\n",
       "      <th>0</th>\n",
       "      <td>PRJEB52753</td>\n",
       "      <td>SAMEA110022181</td>\n",
       "      <td>terrestrial biome</td>\n",
       "      <td>None</td>\n",
       "      <td>soil</td>\n",
       "    </tr>\n",
       "    <tr>\n",
       "      <th>1</th>\n",
       "      <td>PRJEB52753</td>\n",
       "      <td>SAMEA110027444</td>\n",
       "      <td>terrestrial biome</td>\n",
       "      <td>None</td>\n",
       "      <td>soil</td>\n",
       "    </tr>\n",
       "    <tr>\n",
       "      <th>2</th>\n",
       "      <td>PRJEB52452</td>\n",
       "      <td>SAMEA110646458</td>\n",
       "      <td>Trades Biome</td>\n",
       "      <td>None</td>\n",
       "      <td>particulate matter (ENVO:01000060), including ...</td>\n",
       "    </tr>\n",
       "    <tr>\n",
       "      <th>3</th>\n",
       "      <td>PRJEB52452</td>\n",
       "      <td>SAMEA110646459</td>\n",
       "      <td>Trades Biome</td>\n",
       "      <td>None</td>\n",
       "      <td>particulate matter (ENVO:01000060), including ...</td>\n",
       "    </tr>\n",
       "    <tr>\n",
       "      <th>4</th>\n",
       "      <td>PRJEB52452</td>\n",
       "      <td>SAMEA110646460</td>\n",
       "      <td>Trades Biome</td>\n",
       "      <td>None</td>\n",
       "      <td>particulate matter (ENVO:01000060), including ...</td>\n",
       "    </tr>\n",
       "    <tr>\n",
       "      <th>...</th>\n",
       "      <td>...</td>\n",
       "      <td>...</td>\n",
       "      <td>...</td>\n",
       "      <td>...</td>\n",
       "      <td>...</td>\n",
       "    </tr>\n",
       "    <tr>\n",
       "      <th>30156</th>\n",
       "      <td>PRJNA1035643</td>\n",
       "      <td>SAMN38096308</td>\n",
       "      <td>xeric shrubland biome</td>\n",
       "      <td>terrestrial environmental zone</td>\n",
       "      <td>surface soil</td>\n",
       "    </tr>\n",
       "    <tr>\n",
       "      <th>30157</th>\n",
       "      <td>PRJNA1035643</td>\n",
       "      <td>SAMN38096309</td>\n",
       "      <td>xeric shrubland biome</td>\n",
       "      <td>terrestrial environmental zone</td>\n",
       "      <td>surface soil</td>\n",
       "    </tr>\n",
       "    <tr>\n",
       "      <th>30158</th>\n",
       "      <td>PRJNA1035643</td>\n",
       "      <td>SAMN38096310</td>\n",
       "      <td>xeric shrubland biome</td>\n",
       "      <td>terrestrial environmental zone</td>\n",
       "      <td>surface soil</td>\n",
       "    </tr>\n",
       "    <tr>\n",
       "      <th>30159</th>\n",
       "      <td>PRJNA1035643</td>\n",
       "      <td>SAMN38096311</td>\n",
       "      <td>xeric shrubland biome</td>\n",
       "      <td>terrestrial environmental zone</td>\n",
       "      <td>surface soil</td>\n",
       "    </tr>\n",
       "    <tr>\n",
       "      <th>30160</th>\n",
       "      <td>PRJNA1035643</td>\n",
       "      <td>SAMN38096312</td>\n",
       "      <td>xeric shrubland biome</td>\n",
       "      <td>terrestrial environmental zone</td>\n",
       "      <td>surface soil</td>\n",
       "    </tr>\n",
       "  </tbody>\n",
       "</table>\n",
       "<p>30161 rows × 5 columns</p>\n",
       "</div>"
      ]
     },
     "execution_count": 22,
     "metadata": {},
     "output_type": "execute_result"
    }
   ],
   "execution_count": 22
  },
  {
   "metadata": {
    "ExecuteTime": {
     "end_time": "2025-02-10T14:47:44.643858Z",
     "start_time": "2025-02-10T14:47:44.569939Z"
    }
   },
   "cell_type": "code",
   "source": "df.to_csv(\"simons_wishlist_env_triads.tsv\", index=False, sep=\"\\t\")",
   "id": "f8e5924b99b0c07d",
   "outputs": [],
   "execution_count": 23
  }
 ],
 "metadata": {
  "kernelspec": {
   "display_name": "Python 3",
   "language": "python",
   "name": "python3"
  },
  "language_info": {
   "codemirror_mode": {
    "name": "ipython",
    "version": 2
   },
   "file_extension": ".py",
   "mimetype": "text/x-python",
   "name": "python",
   "nbconvert_exporter": "python",
   "pygments_lexer": "ipython2",
   "version": "2.7.6"
  }
 },
 "nbformat": 4,
 "nbformat_minor": 5
}
