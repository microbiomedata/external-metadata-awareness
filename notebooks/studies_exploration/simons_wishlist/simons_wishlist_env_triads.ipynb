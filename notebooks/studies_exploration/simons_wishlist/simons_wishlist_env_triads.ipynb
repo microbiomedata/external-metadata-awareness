{
 "cells": [
  {
   "metadata": {
    "collapsed": true,
    "ExecuteTime": {
     "end_time": "2025-02-26T02:58:55.788077Z",
     "start_time": "2025-02-26T02:58:53.194928Z"
    }
   },
   "cell_type": "code",
   "source": [
    "import pandas as pd\n",
    "from pymongo import MongoClient\n",
    "import duckdb\n",
    "from oaklib import get_adapter"
   ],
   "id": "initial_id",
   "outputs": [],
   "execution_count": 1
  },
  {
   "metadata": {
    "ExecuteTime": {
     "end_time": "2025-02-26T02:58:55.795364Z",
     "start_time": "2025-02-26T02:58:55.792067Z"
    }
   },
   "cell_type": "code",
   "source": [
    "# For the BBOP/NMDC MongoDB containing NCBI metadata\n",
    "\n",
    "MONGO_USERNAME = None\n",
    "MONGO_PASSWORD = None\n",
    "MONGO_HOST = \"localhost\"\n",
    "MONGO_PORT = 27017\n",
    "MONGO_DATABASE = \"ncbi_metadata\"\n",
    "BIOPROJECTS_COLLECTION = \"bioprojects\"\n",
    "BIOSAMPLES_COLLECTION = \"biosamples\"\n",
    "BIOSAMPLES_BIOPROJECTS_COLLECTION = \"sra_biosamples_bioprojects\"\n"
   ],
   "id": "566f60c0890665de",
   "outputs": [],
   "execution_count": 2
  },
  {
   "metadata": {
    "ExecuteTime": {
     "end_time": "2025-02-26T02:58:55.858413Z",
     "start_time": "2025-02-26T02:58:55.855537Z"
    }
   },
   "cell_type": "code",
   "source": [
    "# \"Potential_import_SRA_Jan2024\"\n",
    "SHEET_ID = \"1432d4WGdO5aSU2SvHBSvlqWmJ1NiEOTJ4UGQq1zR_ho\""
   ],
   "id": "78507c77d01f9bf",
   "outputs": [],
   "execution_count": 3
  },
  {
   "metadata": {
    "ExecuteTime": {
     "end_time": "2025-02-26T02:58:55.904093Z",
     "start_time": "2025-02-26T02:58:55.901421Z"
    }
   },
   "cell_type": "code",
   "source": "NCBI_BIOSAMPLES_DUCKDB_FILE = \"../../../local/ncbi_biosamples.duckdb\"",
   "id": "87b1625318418d54",
   "outputs": [],
   "execution_count": 4
  },
  {
   "metadata": {
    "ExecuteTime": {
     "end_time": "2025-02-26T02:58:55.949246Z",
     "start_time": "2025-02-26T02:58:55.946514Z"
    }
   },
   "cell_type": "code",
   "source": "CSV_URL = f\"https://docs.google.com/spreadsheets/d/{SHEET_ID}/gviz/tq?tqx=out:csv\"",
   "id": "7af260201d4607d",
   "outputs": [],
   "execution_count": 5
  },
  {
   "metadata": {
    "ExecuteTime": {
     "end_time": "2025-02-26T02:58:55.994635Z",
     "start_time": "2025-02-26T02:58:55.991709Z"
    }
   },
   "cell_type": "code",
   "source": "envo_adapter_string = 'sqlite:obo:envo'",
   "id": "b1c8388649c35154",
   "outputs": [],
   "execution_count": 6
  },
  {
   "metadata": {
    "ExecuteTime": {
     "end_time": "2025-02-26T02:58:56.041643Z",
     "start_time": "2025-02-26T02:58:56.038259Z"
    }
   },
   "cell_type": "code",
   "source": "output_tsv = \"simons_wishlist_env_triads.tsv\"",
   "id": "3d0aa276ba550102",
   "outputs": [],
   "execution_count": 7
  },
  {
   "metadata": {
    "ExecuteTime": {
     "end_time": "2025-02-26T02:58:56.595324Z",
     "start_time": "2025-02-26T02:58:56.084522Z"
    }
   },
   "cell_type": "code",
   "source": [
    "# Read the CSV into a pandas DataFrame\n",
    "df = pd.read_csv(CSV_URL)\n"
   ],
   "id": "8854c502784e8d8f",
   "outputs": [],
   "execution_count": 8
  },
  {
   "metadata": {
    "ExecuteTime": {
     "end_time": "2025-02-26T02:58:56.642401Z",
     "start_time": "2025-02-26T02:58:56.625786Z"
    }
   },
   "cell_type": "code",
   "source": [
    "# Display the first few rows\n",
    "df"
   ],
   "id": "f1be4b9d9ab2200e",
   "outputs": [
    {
     "data": {
      "text/plain": [
       "    ## Bioproject selected based on: ## At least 50 metagenomes (10M reads +), not currently in IMG (as far as I know), environmental / terrestrial / soil / plant ## For IMG imports, looked at cases where MAGs are not already available in NCBI, and potential for interesting new diversity ## For NMDC imports, looked more specifically at soil and related, and nice metadata BioProject Id  \\\n",
       "0                                           PRJEB52368                                                                                                                                                                                                                                                                                                                                                \n",
       "1                                          PRJNA352737                                                                                                                                                                                                                                                                                                                                                \n",
       "2                                          PRJNA385736                                                                                                                                                                                                                                                                                                                                                \n",
       "3                                          PRJNA656268                                                                                                                                                                                                                                                                                                                                                \n",
       "4                                          PRJNA385854                                                                                                                                                                                                                                                                                                                                                \n",
       "..                                                 ...                                                                                                                                                                                                                                                                                                                                                \n",
       "108                                         PRJEB35627                                                                                                                                                                                                                                                                                                                                                \n",
       "109                                        PRJNA476799                                                                                                                                                                                                                                                                                                                                                \n",
       "110                                        PRJNA691683                                                                                                                                                                                                                                                                                                                                                \n",
       "111                                        PRJNA798446                                                                                                                                                                                                                                                                                                                                                \n",
       "112                                        PRJNA893888                                                                                                                                                                                                                                                                                                                                                \n",
       "\n",
       "     # metaG 10M+                                       Project name  \\\n",
       "0             827  Metagenomic sequencing of Tara Pacific coral s...   \n",
       "1             721        HOT ALOHA metagenomic time and depth series   \n",
       "2             688  Marine amplicons/metagenomes  from Australian ...   \n",
       "3             572  Bio-GO-SHIP: Global marine 'omics studies of r...   \n",
       "4             470   Marine metagenomes from the bioGEOTRACES project   \n",
       "..            ...                                                ...   \n",
       "108            50  Seasonal and diel patterns of bacteriophages i...   \n",
       "109            50   Greenhouse Vegetable Surfaces Raw sequence reads   \n",
       "110            50       Topsoil viromes from five types of land uses   \n",
       "111            50  Shotgun metagenome of microbial community in m...   \n",
       "112            50                              vineyards soil sample   \n",
       "\n",
       "    Environment(s)                Publication     MAGs in NCBI  \\\n",
       "0     Marine/coral                        NaN              NaN   \n",
       "1           Marine  10.1038/s41564-017-0008-3        Yes (197)   \n",
       "2           Marine                        NaN              NaN   \n",
       "3           Marine           No but NSF grant  Maybe (see TPA)   \n",
       "4           Marine     10.1038/sdata.2018.176              NaN   \n",
       "..             ...                        ...              ...   \n",
       "108         Marine                        NaN              NaN   \n",
       "109          Plant                        NaN              NaN   \n",
       "110           Soil                        NaN              NaN   \n",
       "111           Soil                        NaN              NaN   \n",
       "112           Soil                        NaN              NaN   \n",
       "\n",
       "    Import to IMG ? Import to NMDC ?  \\\n",
       "0                No               No   \n",
       "1                No               No   \n",
       "2               Yes          Maybe ?   \n",
       "3                No               No   \n",
       "4               Yes          Maybe ?   \n",
       "..              ...              ...   \n",
       "108              No               No   \n",
       "109              No               No   \n",
       "110              No               No   \n",
       "111              No               No   \n",
       "112              No               No   \n",
       "\n",
       "                                                 Notes  \n",
       "0                Tara, unpublished, probably stay away  \n",
       "1    Already has MAGs in NCBI, and oceanic so not h...  \n",
       "2    Some paired metaG and metaT, but marine and no...  \n",
       "3    Has a TPA and already in MGnify. 10.1093/nar/g...  \n",
       "4    Rich metadata, could be good if no MAGs (Data ...  \n",
       "..                                                 ...  \n",
       "108                                                NaN  \n",
       "109                    Food related, not high priority  \n",
       "110                                  More for IMG/VR ?  \n",
       "111                                        no metadata  \n",
       "112                                        no metadata  \n",
       "\n",
       "[113 rows x 9 columns]"
      ],
      "text/html": [
       "<div>\n",
       "<style scoped>\n",
       "    .dataframe tbody tr th:only-of-type {\n",
       "        vertical-align: middle;\n",
       "    }\n",
       "\n",
       "    .dataframe tbody tr th {\n",
       "        vertical-align: top;\n",
       "    }\n",
       "\n",
       "    .dataframe thead th {\n",
       "        text-align: right;\n",
       "    }\n",
       "</style>\n",
       "<table border=\"1\" class=\"dataframe\">\n",
       "  <thead>\n",
       "    <tr style=\"text-align: right;\">\n",
       "      <th></th>\n",
       "      <th>## Bioproject selected based on: ## At least 50 metagenomes (10M reads +), not currently in IMG (as far as I know), environmental / terrestrial / soil / plant ## For IMG imports, looked at cases where MAGs are not already available in NCBI, and potential for interesting new diversity ## For NMDC imports, looked more specifically at soil and related, and nice metadata BioProject Id</th>\n",
       "      <th># metaG 10M+</th>\n",
       "      <th>Project name</th>\n",
       "      <th>Environment(s)</th>\n",
       "      <th>Publication</th>\n",
       "      <th>MAGs in NCBI</th>\n",
       "      <th>Import to IMG ?</th>\n",
       "      <th>Import to NMDC ?</th>\n",
       "      <th>Notes</th>\n",
       "    </tr>\n",
       "  </thead>\n",
       "  <tbody>\n",
       "    <tr>\n",
       "      <th>0</th>\n",
       "      <td>PRJEB52368</td>\n",
       "      <td>827</td>\n",
       "      <td>Metagenomic sequencing of Tara Pacific coral s...</td>\n",
       "      <td>Marine/coral</td>\n",
       "      <td>NaN</td>\n",
       "      <td>NaN</td>\n",
       "      <td>No</td>\n",
       "      <td>No</td>\n",
       "      <td>Tara, unpublished, probably stay away</td>\n",
       "    </tr>\n",
       "    <tr>\n",
       "      <th>1</th>\n",
       "      <td>PRJNA352737</td>\n",
       "      <td>721</td>\n",
       "      <td>HOT ALOHA metagenomic time and depth series</td>\n",
       "      <td>Marine</td>\n",
       "      <td>10.1038/s41564-017-0008-3</td>\n",
       "      <td>Yes (197)</td>\n",
       "      <td>No</td>\n",
       "      <td>No</td>\n",
       "      <td>Already has MAGs in NCBI, and oceanic so not h...</td>\n",
       "    </tr>\n",
       "    <tr>\n",
       "      <th>2</th>\n",
       "      <td>PRJNA385736</td>\n",
       "      <td>688</td>\n",
       "      <td>Marine amplicons/metagenomes  from Australian ...</td>\n",
       "      <td>Marine</td>\n",
       "      <td>NaN</td>\n",
       "      <td>NaN</td>\n",
       "      <td>Yes</td>\n",
       "      <td>Maybe ?</td>\n",
       "      <td>Some paired metaG and metaT, but marine and no...</td>\n",
       "    </tr>\n",
       "    <tr>\n",
       "      <th>3</th>\n",
       "      <td>PRJNA656268</td>\n",
       "      <td>572</td>\n",
       "      <td>Bio-GO-SHIP: Global marine 'omics studies of r...</td>\n",
       "      <td>Marine</td>\n",
       "      <td>No but NSF grant</td>\n",
       "      <td>Maybe (see TPA)</td>\n",
       "      <td>No</td>\n",
       "      <td>No</td>\n",
       "      <td>Has a TPA and already in MGnify. 10.1093/nar/g...</td>\n",
       "    </tr>\n",
       "    <tr>\n",
       "      <th>4</th>\n",
       "      <td>PRJNA385854</td>\n",
       "      <td>470</td>\n",
       "      <td>Marine metagenomes from the bioGEOTRACES project</td>\n",
       "      <td>Marine</td>\n",
       "      <td>10.1038/sdata.2018.176</td>\n",
       "      <td>NaN</td>\n",
       "      <td>Yes</td>\n",
       "      <td>Maybe ?</td>\n",
       "      <td>Rich metadata, could be good if no MAGs (Data ...</td>\n",
       "    </tr>\n",
       "    <tr>\n",
       "      <th>...</th>\n",
       "      <td>...</td>\n",
       "      <td>...</td>\n",
       "      <td>...</td>\n",
       "      <td>...</td>\n",
       "      <td>...</td>\n",
       "      <td>...</td>\n",
       "      <td>...</td>\n",
       "      <td>...</td>\n",
       "      <td>...</td>\n",
       "    </tr>\n",
       "    <tr>\n",
       "      <th>108</th>\n",
       "      <td>PRJEB35627</td>\n",
       "      <td>50</td>\n",
       "      <td>Seasonal and diel patterns of bacteriophages i...</td>\n",
       "      <td>Marine</td>\n",
       "      <td>NaN</td>\n",
       "      <td>NaN</td>\n",
       "      <td>No</td>\n",
       "      <td>No</td>\n",
       "      <td>NaN</td>\n",
       "    </tr>\n",
       "    <tr>\n",
       "      <th>109</th>\n",
       "      <td>PRJNA476799</td>\n",
       "      <td>50</td>\n",
       "      <td>Greenhouse Vegetable Surfaces Raw sequence reads</td>\n",
       "      <td>Plant</td>\n",
       "      <td>NaN</td>\n",
       "      <td>NaN</td>\n",
       "      <td>No</td>\n",
       "      <td>No</td>\n",
       "      <td>Food related, not high priority</td>\n",
       "    </tr>\n",
       "    <tr>\n",
       "      <th>110</th>\n",
       "      <td>PRJNA691683</td>\n",
       "      <td>50</td>\n",
       "      <td>Topsoil viromes from five types of land uses</td>\n",
       "      <td>Soil</td>\n",
       "      <td>NaN</td>\n",
       "      <td>NaN</td>\n",
       "      <td>No</td>\n",
       "      <td>No</td>\n",
       "      <td>More for IMG/VR ?</td>\n",
       "    </tr>\n",
       "    <tr>\n",
       "      <th>111</th>\n",
       "      <td>PRJNA798446</td>\n",
       "      <td>50</td>\n",
       "      <td>Shotgun metagenome of microbial community in m...</td>\n",
       "      <td>Soil</td>\n",
       "      <td>NaN</td>\n",
       "      <td>NaN</td>\n",
       "      <td>No</td>\n",
       "      <td>No</td>\n",
       "      <td>no metadata</td>\n",
       "    </tr>\n",
       "    <tr>\n",
       "      <th>112</th>\n",
       "      <td>PRJNA893888</td>\n",
       "      <td>50</td>\n",
       "      <td>vineyards soil sample</td>\n",
       "      <td>Soil</td>\n",
       "      <td>NaN</td>\n",
       "      <td>NaN</td>\n",
       "      <td>No</td>\n",
       "      <td>No</td>\n",
       "      <td>no metadata</td>\n",
       "    </tr>\n",
       "  </tbody>\n",
       "</table>\n",
       "<p>113 rows × 9 columns</p>\n",
       "</div>"
      ]
     },
     "execution_count": 9,
     "metadata": {},
     "output_type": "execute_result"
    }
   ],
   "execution_count": 9
  },
  {
   "metadata": {
    "ExecuteTime": {
     "end_time": "2025-02-26T02:58:56.720356Z",
     "start_time": "2025-02-26T02:58:56.717083Z"
    }
   },
   "cell_type": "code",
   "source": [
    "# Get the leftmost column (first column)\n",
    "bioproj_accession_column = df.iloc[:, 0]  # Select the first column\n",
    "\n",
    "# Get unique values\n",
    "bioproj_accession_values = list(bioproj_accession_column.unique())\n",
    "bioproj_accession_values.sort()"
   ],
   "id": "e7bd7a6a486281aa",
   "outputs": [],
   "execution_count": 10
  },
  {
   "metadata": {
    "ExecuteTime": {
     "end_time": "2025-02-26T02:58:56.791500Z",
     "start_time": "2025-02-26T02:58:56.783986Z"
    }
   },
   "cell_type": "code",
   "source": [
    "# Display the unique values\n",
    "bioproj_accession_values"
   ],
   "id": "429acd8598ca2fc2",
   "outputs": [
    {
     "data": {
      "text/plain": [
       "['PRJEB18675',\n",
       " 'PRJEB27870',\n",
       " 'PRJEB31530',\n",
       " 'PRJEB34634',\n",
       " 'PRJEB34883',\n",
       " 'PRJEB35627',\n",
       " 'PRJEB35640',\n",
       " 'PRJEB35770',\n",
       " 'PRJEB38290',\n",
       " 'PRJEB38681',\n",
       " 'PRJEB40760',\n",
       " 'PRJEB41174',\n",
       " 'PRJEB41834',\n",
       " 'PRJEB4352',\n",
       " 'PRJEB44163',\n",
       " 'PRJEB44309',\n",
       " 'PRJEB44414',\n",
       " 'PRJEB45634',\n",
       " 'PRJEB52368',\n",
       " 'PRJEB52406',\n",
       " 'PRJEB52452',\n",
       " 'PRJEB52753',\n",
       " 'PRJEB55522',\n",
       " 'PRJEB62460',\n",
       " 'PRJEB66294',\n",
       " 'PRJEB9691',\n",
       " 'PRJEB9742',\n",
       " 'PRJNA1000042',\n",
       " 'PRJNA1000596',\n",
       " 'PRJNA1001993',\n",
       " 'PRJNA1002763',\n",
       " 'PRJNA1014704',\n",
       " 'PRJNA1028263',\n",
       " 'PRJNA1035420',\n",
       " 'PRJNA1035643',\n",
       " 'PRJNA308326',\n",
       " 'PRJNA329908',\n",
       " 'PRJNA352737',\n",
       " 'PRJNA358725',\n",
       " 'PRJNA379303',\n",
       " 'PRJNA385736',\n",
       " 'PRJNA385854',\n",
       " 'PRJNA385855',\n",
       " 'PRJNA386568',\n",
       " 'PRJNA389803',\n",
       " 'PRJNA395437',\n",
       " 'PRJNA429141',\n",
       " 'PRJNA448773',\n",
       " 'PRJNA449266',\n",
       " 'PRJNA450295',\n",
       " 'PRJNA450643',\n",
       " 'PRJNA473136',\n",
       " 'PRJNA476799',\n",
       " 'PRJNA528368',\n",
       " 'PRJNA530708',\n",
       " 'PRJNA545144',\n",
       " 'PRJNA558772',\n",
       " 'PRJNA577476',\n",
       " 'PRJNA588686',\n",
       " 'PRJNA608274',\n",
       " 'PRJNA628860',\n",
       " 'PRJNA629394',\n",
       " 'PRJNA632564',\n",
       " 'PRJNA640378',\n",
       " 'PRJNA656268',\n",
       " 'PRJNA660264',\n",
       " 'PRJNA674565',\n",
       " 'PRJNA681031',\n",
       " 'PRJNA688583',\n",
       " 'PRJNA688820',\n",
       " 'PRJNA689669',\n",
       " 'PRJNA691683',\n",
       " 'PRJNA698060',\n",
       " 'PRJNA714922',\n",
       " 'PRJNA716697',\n",
       " 'PRJNA718849',\n",
       " 'PRJNA729490',\n",
       " 'PRJNA730325',\n",
       " 'PRJNA730330',\n",
       " 'PRJNA746701',\n",
       " 'PRJNA776090',\n",
       " 'PRJNA779832',\n",
       " 'PRJNA781406',\n",
       " 'PRJNA789467',\n",
       " 'PRJNA798446',\n",
       " 'PRJNA818909',\n",
       " 'PRJNA823681',\n",
       " 'PRJNA832417',\n",
       " 'PRJNA838942',\n",
       " 'PRJNA849359',\n",
       " 'PRJNA855256',\n",
       " 'PRJNA856348',\n",
       " 'PRJNA859194',\n",
       " 'PRJNA871234',\n",
       " 'PRJNA880762',\n",
       " 'PRJNA882411',\n",
       " 'PRJNA888551',\n",
       " 'PRJNA889855',\n",
       " 'PRJNA892917',\n",
       " 'PRJNA893888',\n",
       " 'PRJNA899702',\n",
       " 'PRJNA903825',\n",
       " 'PRJNA905198',\n",
       " 'PRJNA909948',\n",
       " 'PRJNA912236',\n",
       " 'PRJNA913601',\n",
       " 'PRJNA914269',\n",
       " 'PRJNA916885',\n",
       " 'PRJNA924737',\n",
       " 'PRJNA932007',\n",
       " 'PRJNA946152',\n",
       " 'PRJNA982563',\n",
       " 'PRJNA985794']"
      ]
     },
     "execution_count": 11,
     "metadata": {},
     "output_type": "execute_result"
    }
   ],
   "execution_count": 11
  },
  {
   "metadata": {
    "ExecuteTime": {
     "end_time": "2025-02-26T02:58:56.852990Z",
     "start_time": "2025-02-26T02:58:56.849413Z"
    }
   },
   "cell_type": "code",
   "source": "len(bioproj_accession_values)",
   "id": "1229e3f636e99bda",
   "outputs": [
    {
     "data": {
      "text/plain": [
       "113"
      ]
     },
     "execution_count": 12,
     "metadata": {},
     "output_type": "execute_result"
    }
   ],
   "execution_count": 12
  },
  {
   "metadata": {
    "ExecuteTime": {
     "end_time": "2025-02-26T02:58:56.934501Z",
     "start_time": "2025-02-26T02:58:56.925901Z"
    }
   },
   "cell_type": "code",
   "source": [
    "if MONGO_USERNAME is not None and MONGO_PASSWORD is not None:\n",
    "    username = MONGO_USERNAME\n",
    "    password = MONGO_PASSWORD\n",
    "    host = MONGO_HOST\n",
    "    port = MONGO_PORT\n",
    "\n",
    "    # Build the connection string with authentication.\n",
    "    connection_string = f\"mongodb://{username}:{password}@{host}:{port}\"\n",
    "else:\n",
    "    # Default connection to unauthenticated MongoDB.\n",
    "    host = MONGO_HOST\n",
    "    port = MONGO_PORT\n",
    "    connection_string = f\"mongodb://{host}:{port}\"\n",
    "\n",
    "# Create the client connection.\n",
    "client = MongoClient(connection_string)"
   ],
   "id": "636a2c823a4f4bc8",
   "outputs": [],
   "execution_count": 13
  },
  {
   "metadata": {
    "ExecuteTime": {
     "end_time": "2025-02-26T02:58:56.982564Z",
     "start_time": "2025-02-26T02:58:56.980081Z"
    }
   },
   "cell_type": "code",
   "source": [
    "# --------------------------\n",
    "# Select Database\n",
    "# --------------------------\n",
    "\n",
    "db = client[MONGO_DATABASE]  # Dynamically select database\n"
   ],
   "id": "5f96fb4b77a80ef",
   "outputs": [],
   "execution_count": 14
  },
  {
   "metadata": {
    "ExecuteTime": {
     "end_time": "2025-02-26T02:58:57.032787Z",
     "start_time": "2025-02-26T02:58:57.030230Z"
    }
   },
   "cell_type": "code",
   "source": "biosamples_bioprojects_collection = db[BIOSAMPLES_BIOPROJECTS_COLLECTION]",
   "id": "d1cb85a80a4d6930",
   "outputs": [],
   "execution_count": 15
  },
  {
   "metadata": {
    "ExecuteTime": {
     "end_time": "2025-02-26T02:58:57.383386Z",
     "start_time": "2025-02-26T02:58:57.077365Z"
    }
   },
   "cell_type": "code",
   "source": [
    "# MongoDB query using the `$in` operator\n",
    "query = {\"bioproject_accession\": {\"$in\": bioproj_accession_values}}\n",
    "\n",
    "# Fetch matching documents\n",
    "wishlist_biosamples_bioprojects = list(biosamples_bioprojects_collection.find(query))\n"
   ],
   "id": "b26f8d10e3e001fa",
   "outputs": [],
   "execution_count": 16
  },
  {
   "metadata": {
    "ExecuteTime": {
     "end_time": "2025-02-26T02:58:57.399305Z",
     "start_time": "2025-02-26T02:58:57.395624Z"
    }
   },
   "cell_type": "code",
   "source": "len(wishlist_biosamples_bioprojects)",
   "id": "bc68215ce998add3",
   "outputs": [
    {
     "data": {
      "text/plain": [
       "30161"
      ]
     },
     "execution_count": 17,
     "metadata": {},
     "output_type": "execute_result"
    }
   ],
   "execution_count": 17
  },
  {
   "metadata": {
    "ExecuteTime": {
     "end_time": "2025-02-26T02:58:57.442730Z",
     "start_time": "2025-02-26T02:58:57.439710Z"
    }
   },
   "cell_type": "code",
   "source": [
    "# Print the results\n",
    "for doc in wishlist_biosamples_bioprojects[0:9]:\n",
    "    print(doc)"
   ],
   "id": "83bb4d94ee5739b2",
   "outputs": [
    {
     "name": "stdout",
     "output_type": "stream",
     "text": [
      "{'_id': ObjectId('679b82323b7bd066cbcbb9f2'), 'biosample_accession': 'SAMEA30188668', 'bioproject_accession': 'PRJEB18675'}\n",
      "{'_id': ObjectId('679b82323b7bd066cbcbb9f3'), 'biosample_accession': 'SAMEA30189418', 'bioproject_accession': 'PRJEB18675'}\n",
      "{'_id': ObjectId('679b82323b7bd066cbcbb9f4'), 'biosample_accession': 'SAMEA30190168', 'bioproject_accession': 'PRJEB18675'}\n",
      "{'_id': ObjectId('679b82323b7bd066cbcbb9f5'), 'biosample_accession': 'SAMEA30190918', 'bioproject_accession': 'PRJEB18675'}\n",
      "{'_id': ObjectId('679b82323b7bd066cbcbb9f6'), 'biosample_accession': 'SAMEA30191668', 'bioproject_accession': 'PRJEB18675'}\n",
      "{'_id': ObjectId('679b82323b7bd066cbcbb9f7'), 'biosample_accession': 'SAMEA30192418', 'bioproject_accession': 'PRJEB18675'}\n",
      "{'_id': ObjectId('679b82323b7bd066cbcbb9f8'), 'biosample_accession': 'SAMEA30193168', 'bioproject_accession': 'PRJEB18675'}\n",
      "{'_id': ObjectId('679b82323b7bd066cbcbb9f9'), 'biosample_accession': 'SAMEA30193918', 'bioproject_accession': 'PRJEB18675'}\n",
      "{'_id': ObjectId('679b82323b7bd066cbcbb9fa'), 'biosample_accession': 'SAMEA30194668', 'bioproject_accession': 'PRJEB18675'}\n"
     ]
    }
   ],
   "execution_count": 18
  },
  {
   "metadata": {
    "ExecuteTime": {
     "end_time": "2025-02-26T02:58:57.493484Z",
     "start_time": "2025-02-26T02:58:57.490982Z"
    }
   },
   "cell_type": "code",
   "source": "biosamples_collection = db[BIOSAMPLES_COLLECTION]",
   "id": "c8a2bbe50feab577",
   "outputs": [],
   "execution_count": 19
  },
  {
   "metadata": {
    "ExecuteTime": {
     "end_time": "2025-02-26T02:58:59.917982Z",
     "start_time": "2025-02-26T02:58:57.541760Z"
    }
   },
   "cell_type": "code",
   "source": [
    "# Extract the biosample_accession values\n",
    "biosample_accession_list = [item[\"biosample_accession\"] for item in wishlist_biosamples_bioprojects]\n",
    "\n",
    "# MongoDB query using `$in`\n",
    "query = {\"accession\": {\"$in\": biosample_accession_list}}\n",
    "\n",
    "# Fetch matching documents\n",
    "wishlist_biosamples = list(biosamples_collection.find(query))"
   ],
   "id": "f76fda996d0882b3",
   "outputs": [],
   "execution_count": 20
  },
  {
   "metadata": {
    "ExecuteTime": {
     "end_time": "2025-02-26T02:58:59.933275Z",
     "start_time": "2025-02-26T02:58:59.929672Z"
    }
   },
   "cell_type": "code",
   "source": "len(wishlist_biosamples)",
   "id": "4247e6f24f447ef2",
   "outputs": [
    {
     "data": {
      "text/plain": [
       "30161"
      ]
     },
     "execution_count": 21,
     "metadata": {},
     "output_type": "execute_result"
    }
   ],
   "execution_count": 21
  },
  {
   "metadata": {
    "ExecuteTime": {
     "end_time": "2025-02-26T02:58:59.978642Z",
     "start_time": "2025-02-26T02:58:59.972521Z"
    }
   },
   "cell_type": "code",
   "source": "wishlist_biosamples[0]",
   "id": "389de3990156f270",
   "outputs": [
    {
     "data": {
      "text/plain": [
       "{'_id': ObjectId('677f66eb0a6241ac79325d55'),\n",
       " 'access': 'public',\n",
       " 'publication_date': '2022-06-06T00:00:00.000',\n",
       " 'last_update': '2024-06-26T10:36:46.000',\n",
       " 'submission_date': '2022-09-23T14:20:12.056',\n",
       " 'id': '30986217',\n",
       " 'accession': 'SAMEA110022181',\n",
       " 'Ids': {'Id': [{'content': 'SAMEA110022181',\n",
       "    'db': 'BioSample',\n",
       "    'is_primary': '1'},\n",
       "   {'content': 'ERS11966019', 'db': 'SRA'}]},\n",
       " 'Description': {'Title': {'content': '2'},\n",
       "  'Organism': {'taxonomy_id': '256318',\n",
       "   'taxonomy_name': 'metagenome',\n",
       "   'OrganismName': {'content': 'metagenome'}}},\n",
       " 'Owner': {'Name': {'content': 'EBI'}},\n",
       " 'Models': {'Model': {'content': 'Generic'}},\n",
       " 'Package': {'content': 'Generic.1.0', 'display_name': 'Generic'},\n",
       " 'Attributes': {'Attribute': [{'content': 'GR',\n",
       "    'attribute_name': 'Country',\n",
       "    'harmonized_name': 'geo_loc_name',\n",
       "    'display_name': 'geographic location'},\n",
       "   {'content': 'ERC000022', 'attribute_name': 'ENA-CHECKLIST'},\n",
       "   {'content': 'CEH', 'attribute_name': 'INSDC center name'},\n",
       "   {'content': 'GR2', 'attribute_name': 'Replicate_site'},\n",
       "   {'content': 'S1', 'attribute_name': 'Sampling_time'},\n",
       "   {'content': '2', 'attribute_name': 'Submitter Id'},\n",
       "   {'content': 'Ct',\n",
       "    'attribute_name': 'Treatment',\n",
       "    'harmonized_name': 'treatment',\n",
       "    'display_name': 'treatment'},\n",
       "   {'content': 'terrestrial biome',\n",
       "    'attribute_name': 'broad-scale environmental context',\n",
       "    'harmonized_name': 'env_broad_scale',\n",
       "    'display_name': 'broad-scale environmental context'},\n",
       "   {'content': '2018',\n",
       "    'attribute_name': 'collection date',\n",
       "    'harmonized_name': 'collection_date',\n",
       "    'display_name': 'collection date'},\n",
       "   {'content': '0.15',\n",
       "    'attribute_name': 'depth',\n",
       "    'harmonized_name': 'depth',\n",
       "    'display_name': 'depth'},\n",
       "   {'content': '508',\n",
       "    'attribute_name': 'elevation',\n",
       "    'harmonized_name': 'elev',\n",
       "    'display_name': 'elevation'},\n",
       "   {'content': 'soil',\n",
       "    'attribute_name': 'environmental medium',\n",
       "    'harmonized_name': 'env_medium',\n",
       "    'display_name': 'environmental medium'},\n",
       "   {'content': 'Greece',\n",
       "    'attribute_name': 'geographic location (country and/or sea)',\n",
       "    'harmonized_name': 'geo_loc_name',\n",
       "    'display_name': 'geographic location'},\n",
       "   {'content': '40.617725',\n",
       "    'attribute_name': 'geographic location (latitude)'},\n",
       "   {'content': '23.056105',\n",
       "    'attribute_name': 'geographic location (longitude)'},\n",
       "   {'content': 'grassland biome',\n",
       "    'attribute_name': 'local environmental context'},\n",
       "   {'content': 'water',\n",
       "    'attribute_name': 'pH method',\n",
       "    'harmonized_name': 'ph_meth',\n",
       "    'display_name': 'pH method'},\n",
       "   {'content': 'Disturbance Grassland Soils',\n",
       "    'attribute_name': 'project name',\n",
       "    'harmonized_name': 'project_name',\n",
       "    'display_name': 'project name'},\n",
       "   {'content': '2',\n",
       "    'attribute_name': 'sample name',\n",
       "    'harmonized_name': 'sample_name',\n",
       "    'display_name': 'sample name'},\n",
       "   {'content': 'metagenome', 'attribute_name': 'scientific_name'},\n",
       "   {'content': '24.14989591',\n",
       "    'attribute_name': 'water content',\n",
       "    'harmonized_name': 'water_content',\n",
       "    'display_name': 'water content'},\n",
       "   {'content': 'g/g', 'attribute_name': 'water content method'}]},\n",
       " 'Status': {'status': 'live', 'when': '2022-09-23T14:20:12.059'}}"
      ]
     },
     "execution_count": 22,
     "metadata": {},
     "output_type": "execute_result"
    }
   ],
   "execution_count": 22
  },
  {
   "metadata": {
    "ExecuteTime": {
     "end_time": "2025-02-26T02:59:00.031613Z",
     "start_time": "2025-02-26T02:59:00.023497Z"
    }
   },
   "cell_type": "code",
   "source": [
    "# Convert to dictionary for O(1) lookup\n",
    "bioproject_dict = {item[\"biosample_accession\"]: item[\"bioproject_accession\"] for item in wishlist_biosamples_bioprojects}\n"
   ],
   "id": "5aab4b691835d0b3",
   "outputs": [],
   "execution_count": 23
  },
  {
   "metadata": {
    "ExecuteTime": {
     "end_time": "2025-02-26T02:59:00.339246Z",
     "start_time": "2025-02-26T02:59:00.075055Z"
    }
   },
   "cell_type": "code",
   "source": [
    "# List of relevant harmonized names\n",
    "target_harmonized_names = {\"env_broad_scale\", \"env_local_scale\", \"env_medium\"}\n",
    "\n",
    "data = []\n",
    "for doc in wishlist_biosamples:\n",
    "    biosample_accession = doc.get(\"accession\")\n",
    "    bioproject_accession = bioproject_dict.get(biosample_accession)\n",
    "\n",
    "    # Get attributes and ensure it's always a list\n",
    "    attributes = doc.get(\"Attributes\", {}).get(\"Attribute\", [])\n",
    "    if isinstance(attributes, dict):\n",
    "        attributes = [attributes]\n",
    "\n",
    "    # Collect attributes into a dictionary\n",
    "    attr_dict = {name: None for name in target_harmonized_names}  # Initialize with None\n",
    "    for attr in attributes:\n",
    "        harmonized_name = attr.get(\"harmonized_name\")\n",
    "        if harmonized_name in target_harmonized_names:\n",
    "            attr_dict[harmonized_name] = attr.get(\"content\")\n",
    "\n",
    "    # Append the structured row\n",
    "    data.append({\n",
    "        \"bioproject_accession\": bioproject_accession,\n",
    "        \"biosample_accession\": biosample_accession,\n",
    "        \"env_broad_scale\": attr_dict[\"env_broad_scale\"],\n",
    "        \"env_local_scale\": attr_dict[\"env_local_scale\"],\n",
    "        \"env_medium\": attr_dict[\"env_medium\"],\n",
    "    })\n",
    "\n",
    "\n",
    "# Convert to pandas DataFrame\n",
    "df = pd.DataFrame(data)"
   ],
   "id": "b903a4821c792104",
   "outputs": [],
   "execution_count": 24
  },
  {
   "metadata": {
    "ExecuteTime": {
     "end_time": "2025-02-26T02:59:00.362211Z",
     "start_time": "2025-02-26T02:59:00.353776Z"
    }
   },
   "cell_type": "code",
   "source": "df",
   "id": "be4f3888c57449f0",
   "outputs": [
    {
     "data": {
      "text/plain": [
       "      bioproject_accession biosample_accession        env_broad_scale  \\\n",
       "0               PRJEB52753      SAMEA110022181      terrestrial biome   \n",
       "1               PRJEB52753      SAMEA110027444      terrestrial biome   \n",
       "2               PRJEB52452      SAMEA110646458           Trades Biome   \n",
       "3               PRJEB52452      SAMEA110646459           Trades Biome   \n",
       "4               PRJEB52452      SAMEA110646460           Trades Biome   \n",
       "...                    ...                 ...                    ...   \n",
       "30156         PRJNA1035643        SAMN38096308  xeric shrubland biome   \n",
       "30157         PRJNA1035643        SAMN38096309  xeric shrubland biome   \n",
       "30158         PRJNA1035643        SAMN38096310  xeric shrubland biome   \n",
       "30159         PRJNA1035643        SAMN38096311  xeric shrubland biome   \n",
       "30160         PRJNA1035643        SAMN38096312  xeric shrubland biome   \n",
       "\n",
       "                      env_local_scale  \\\n",
       "0                                None   \n",
       "1                                None   \n",
       "2                                None   \n",
       "3                                None   \n",
       "4                                None   \n",
       "...                               ...   \n",
       "30156  terrestrial environmental zone   \n",
       "30157  terrestrial environmental zone   \n",
       "30158  terrestrial environmental zone   \n",
       "30159  terrestrial environmental zone   \n",
       "30160  terrestrial environmental zone   \n",
       "\n",
       "                                              env_medium  \n",
       "0                                                   soil  \n",
       "1                                                   soil  \n",
       "2      particulate matter (ENVO:01000060), including ...  \n",
       "3      particulate matter (ENVO:01000060), including ...  \n",
       "4      particulate matter (ENVO:01000060), including ...  \n",
       "...                                                  ...  \n",
       "30156                                       surface soil  \n",
       "30157                                       surface soil  \n",
       "30158                                       surface soil  \n",
       "30159                                       surface soil  \n",
       "30160                                       surface soil  \n",
       "\n",
       "[30161 rows x 5 columns]"
      ],
      "text/html": [
       "<div>\n",
       "<style scoped>\n",
       "    .dataframe tbody tr th:only-of-type {\n",
       "        vertical-align: middle;\n",
       "    }\n",
       "\n",
       "    .dataframe tbody tr th {\n",
       "        vertical-align: top;\n",
       "    }\n",
       "\n",
       "    .dataframe thead th {\n",
       "        text-align: right;\n",
       "    }\n",
       "</style>\n",
       "<table border=\"1\" class=\"dataframe\">\n",
       "  <thead>\n",
       "    <tr style=\"text-align: right;\">\n",
       "      <th></th>\n",
       "      <th>bioproject_accession</th>\n",
       "      <th>biosample_accession</th>\n",
       "      <th>env_broad_scale</th>\n",
       "      <th>env_local_scale</th>\n",
       "      <th>env_medium</th>\n",
       "    </tr>\n",
       "  </thead>\n",
       "  <tbody>\n",
       "    <tr>\n",
       "      <th>0</th>\n",
       "      <td>PRJEB52753</td>\n",
       "      <td>SAMEA110022181</td>\n",
       "      <td>terrestrial biome</td>\n",
       "      <td>None</td>\n",
       "      <td>soil</td>\n",
       "    </tr>\n",
       "    <tr>\n",
       "      <th>1</th>\n",
       "      <td>PRJEB52753</td>\n",
       "      <td>SAMEA110027444</td>\n",
       "      <td>terrestrial biome</td>\n",
       "      <td>None</td>\n",
       "      <td>soil</td>\n",
       "    </tr>\n",
       "    <tr>\n",
       "      <th>2</th>\n",
       "      <td>PRJEB52452</td>\n",
       "      <td>SAMEA110646458</td>\n",
       "      <td>Trades Biome</td>\n",
       "      <td>None</td>\n",
       "      <td>particulate matter (ENVO:01000060), including ...</td>\n",
       "    </tr>\n",
       "    <tr>\n",
       "      <th>3</th>\n",
       "      <td>PRJEB52452</td>\n",
       "      <td>SAMEA110646459</td>\n",
       "      <td>Trades Biome</td>\n",
       "      <td>None</td>\n",
       "      <td>particulate matter (ENVO:01000060), including ...</td>\n",
       "    </tr>\n",
       "    <tr>\n",
       "      <th>4</th>\n",
       "      <td>PRJEB52452</td>\n",
       "      <td>SAMEA110646460</td>\n",
       "      <td>Trades Biome</td>\n",
       "      <td>None</td>\n",
       "      <td>particulate matter (ENVO:01000060), including ...</td>\n",
       "    </tr>\n",
       "    <tr>\n",
       "      <th>...</th>\n",
       "      <td>...</td>\n",
       "      <td>...</td>\n",
       "      <td>...</td>\n",
       "      <td>...</td>\n",
       "      <td>...</td>\n",
       "    </tr>\n",
       "    <tr>\n",
       "      <th>30156</th>\n",
       "      <td>PRJNA1035643</td>\n",
       "      <td>SAMN38096308</td>\n",
       "      <td>xeric shrubland biome</td>\n",
       "      <td>terrestrial environmental zone</td>\n",
       "      <td>surface soil</td>\n",
       "    </tr>\n",
       "    <tr>\n",
       "      <th>30157</th>\n",
       "      <td>PRJNA1035643</td>\n",
       "      <td>SAMN38096309</td>\n",
       "      <td>xeric shrubland biome</td>\n",
       "      <td>terrestrial environmental zone</td>\n",
       "      <td>surface soil</td>\n",
       "    </tr>\n",
       "    <tr>\n",
       "      <th>30158</th>\n",
       "      <td>PRJNA1035643</td>\n",
       "      <td>SAMN38096310</td>\n",
       "      <td>xeric shrubland biome</td>\n",
       "      <td>terrestrial environmental zone</td>\n",
       "      <td>surface soil</td>\n",
       "    </tr>\n",
       "    <tr>\n",
       "      <th>30159</th>\n",
       "      <td>PRJNA1035643</td>\n",
       "      <td>SAMN38096311</td>\n",
       "      <td>xeric shrubland biome</td>\n",
       "      <td>terrestrial environmental zone</td>\n",
       "      <td>surface soil</td>\n",
       "    </tr>\n",
       "    <tr>\n",
       "      <th>30160</th>\n",
       "      <td>PRJNA1035643</td>\n",
       "      <td>SAMN38096312</td>\n",
       "      <td>xeric shrubland biome</td>\n",
       "      <td>terrestrial environmental zone</td>\n",
       "      <td>surface soil</td>\n",
       "    </tr>\n",
       "  </tbody>\n",
       "</table>\n",
       "<p>30161 rows × 5 columns</p>\n",
       "</div>"
      ]
     },
     "execution_count": 25,
     "metadata": {},
     "output_type": "execute_result"
    }
   ],
   "execution_count": 25
  },
  {
   "metadata": {
    "ExecuteTime": {
     "end_time": "2025-02-26T02:59:00.451377Z",
     "start_time": "2025-02-26T02:59:00.447696Z"
    }
   },
   "cell_type": "code",
   "source": "df.columns",
   "id": "68414b6011311171",
   "outputs": [
    {
     "data": {
      "text/plain": [
       "Index(['bioproject_accession', 'biosample_accession', 'env_broad_scale',\n",
       "       'env_local_scale', 'env_medium'],\n",
       "      dtype='object')"
      ]
     },
     "execution_count": 26,
     "metadata": {},
     "output_type": "execute_result"
    }
   ],
   "execution_count": 26
  },
  {
   "metadata": {
    "ExecuteTime": {
     "end_time": "2025-02-26T02:59:00.527353Z",
     "start_time": "2025-02-26T02:59:00.499187Z"
    }
   },
   "cell_type": "code",
   "source": "duck_conn = duckdb.connect(NCBI_BIOSAMPLES_DUCKDB_FILE)",
   "id": "15db4e92fa7fd7c3",
   "outputs": [],
   "execution_count": 27
  },
  {
   "metadata": {
    "ExecuteTime": {
     "end_time": "2025-02-26T02:59:00.581195Z",
     "start_time": "2025-02-26T02:59:00.576707Z"
    }
   },
   "cell_type": "code",
   "source": [
    "# Convert biosample_accession_list to a Pandas DataFrame\n",
    "accession_df = pd.DataFrame(biosample_accession_list, columns=[\"accession\"])\n"
   ],
   "id": "ab904b89bc2f7045",
   "outputs": [],
   "execution_count": 28
  },
  {
   "metadata": {
    "ExecuteTime": {
     "end_time": "2025-02-26T02:59:00.626605Z",
     "start_time": "2025-02-26T02:59:00.618317Z"
    }
   },
   "cell_type": "code",
   "source": [
    "# Register the DataFrame as a temporary DuckDB table (in-memory, no writes to disk)\n",
    "duck_conn.register(\"accession_filter\", accession_df)"
   ],
   "id": "cc0899a31cf41f9f",
   "outputs": [
    {
     "data": {
      "text/plain": [
       "<duckdb.duckdb.DuckDBPyConnection at 0x727c104a13b0>"
      ]
     },
     "execution_count": 29,
     "metadata": {},
     "output_type": "execute_result"
    }
   ],
   "execution_count": 29
  },
  {
   "metadata": {
    "ExecuteTime": {
     "end_time": "2025-02-26T02:59:00.673705Z",
     "start_time": "2025-02-26T02:59:00.670238Z"
    }
   },
   "cell_type": "code",
   "source": [
    "# Define the query using the registered table\n",
    "query = \"\"\"\n",
    "WITH biosample_subset AS (\n",
    "    SELECT b.id, b.accession\n",
    "    FROM main.biosample b\n",
    "    JOIN accession_filter af\n",
    "        ON b.accession = af.accession\n",
    "),\n",
    "asserted_data AS (\n",
    "    SELECT\n",
    "        b.id,\n",
    "        b.accession,\n",
    "        ctns.harmonized_name,\n",
    "        ca.curie,\n",
    "        'asserted' AS source\n",
    "    FROM\n",
    "        main.curies_asserted ca\n",
    "    JOIN main.contexts_to_normalized_strings ctns\n",
    "        ON ca.id = ctns.normalized_context_string_id\n",
    "    JOIN biosample_subset b\n",
    "        ON ctns.id = b.id\n",
    "),\n",
    "ner_data AS (\n",
    "    SELECT\n",
    "        b.id,\n",
    "        b.accession,\n",
    "        ctns.harmonized_name,\n",
    "        cn.curie,\n",
    "        cn.coverage_sum,\n",
    "        'NER' AS source\n",
    "    FROM\n",
    "        main.curies_ner cn\n",
    "    JOIN main.contexts_to_normalized_strings ctns\n",
    "        ON cn.id = ctns.normalized_context_string_id\n",
    "    JOIN biosample_subset b\n",
    "        ON ctns.id = b.id\n",
    "    WHERE\n",
    "        cn.is_longest_match = TRUE\n",
    "        AND cn.subsumed = FALSE\n",
    "),\n",
    "ranked_ner AS (\n",
    "    SELECT\n",
    "        fd.id,\n",
    "        fd.accession,\n",
    "        fd.harmonized_name,\n",
    "        fd.curie,\n",
    "        fd.source,\n",
    "        ROW_NUMBER() OVER (PARTITION BY fd.id, fd.harmonized_name ORDER BY fd.coverage_sum DESC) AS rank\n",
    "    FROM\n",
    "        ner_data fd\n",
    ")\n",
    "SELECT id, accession, harmonized_name, curie, source\n",
    "FROM asserted_data\n",
    "UNION ALL\n",
    "SELECT id, accession, harmonized_name, curie, source\n",
    "FROM ranked_ner\n",
    "WHERE rank = 1\n",
    "ORDER BY id, harmonized_name, source;\n",
    "\"\"\"\n"
   ],
   "id": "a6705c636bcb124e",
   "outputs": [],
   "execution_count": 30
  },
  {
   "metadata": {
    "ExecuteTime": {
     "end_time": "2025-02-26T02:59:01.593626Z",
     "start_time": "2025-02-26T02:59:00.715887Z"
    }
   },
   "cell_type": "code",
   "source": [
    "# Execute query and fetch results\n",
    "id_harmonized_name_best_curies = duck_conn.execute(query).fetchdf()"
   ],
   "id": "911eb16292cbb1c0",
   "outputs": [],
   "execution_count": 31
  },
  {
   "metadata": {
    "ExecuteTime": {
     "end_time": "2025-02-26T02:59:01.618795Z",
     "start_time": "2025-02-26T02:59:01.609666Z"
    }
   },
   "cell_type": "code",
   "source": "id_harmonized_name_best_curies",
   "id": "950062d20108f7fc",
   "outputs": [
    {
     "data": {
      "text/plain": [
       "             id       accession  harmonized_name          curie    source\n",
       "0       2872651    SAMEA2591063  env_broad_scale  ENVO:00000447       NER\n",
       "1       2872651    SAMEA2591063  env_broad_scale  ENVO:00000447  asserted\n",
       "2       2872651    SAMEA2591063  env_local_scale  ENVO:00002042       NER\n",
       "3       2872651    SAMEA2591063  env_local_scale  ENVO:00002042  asserted\n",
       "4       2872651    SAMEA2591063       env_medium  ENVO:01000060       NER\n",
       "...         ...             ...              ...            ...       ...\n",
       "41248  38096312    SAMN38096312  env_broad_scale  ENVO:01000218       NER\n",
       "41249  38096312    SAMN38096312  env_local_scale  ENVO:01001199       NER\n",
       "41250  38096312    SAMN38096312       env_medium  ENVO:02000059       NER\n",
       "41251  42755192  SAMEA115861732  env_broad_scale  ENVO:00000873       NER\n",
       "41252  42755192  SAMEA115861732       env_medium  ENVO:00000377       NER\n",
       "\n",
       "[41253 rows x 5 columns]"
      ],
      "text/html": [
       "<div>\n",
       "<style scoped>\n",
       "    .dataframe tbody tr th:only-of-type {\n",
       "        vertical-align: middle;\n",
       "    }\n",
       "\n",
       "    .dataframe tbody tr th {\n",
       "        vertical-align: top;\n",
       "    }\n",
       "\n",
       "    .dataframe thead th {\n",
       "        text-align: right;\n",
       "    }\n",
       "</style>\n",
       "<table border=\"1\" class=\"dataframe\">\n",
       "  <thead>\n",
       "    <tr style=\"text-align: right;\">\n",
       "      <th></th>\n",
       "      <th>id</th>\n",
       "      <th>accession</th>\n",
       "      <th>harmonized_name</th>\n",
       "      <th>curie</th>\n",
       "      <th>source</th>\n",
       "    </tr>\n",
       "  </thead>\n",
       "  <tbody>\n",
       "    <tr>\n",
       "      <th>0</th>\n",
       "      <td>2872651</td>\n",
       "      <td>SAMEA2591063</td>\n",
       "      <td>env_broad_scale</td>\n",
       "      <td>ENVO:00000447</td>\n",
       "      <td>NER</td>\n",
       "    </tr>\n",
       "    <tr>\n",
       "      <th>1</th>\n",
       "      <td>2872651</td>\n",
       "      <td>SAMEA2591063</td>\n",
       "      <td>env_broad_scale</td>\n",
       "      <td>ENVO:00000447</td>\n",
       "      <td>asserted</td>\n",
       "    </tr>\n",
       "    <tr>\n",
       "      <th>2</th>\n",
       "      <td>2872651</td>\n",
       "      <td>SAMEA2591063</td>\n",
       "      <td>env_local_scale</td>\n",
       "      <td>ENVO:00002042</td>\n",
       "      <td>NER</td>\n",
       "    </tr>\n",
       "    <tr>\n",
       "      <th>3</th>\n",
       "      <td>2872651</td>\n",
       "      <td>SAMEA2591063</td>\n",
       "      <td>env_local_scale</td>\n",
       "      <td>ENVO:00002042</td>\n",
       "      <td>asserted</td>\n",
       "    </tr>\n",
       "    <tr>\n",
       "      <th>4</th>\n",
       "      <td>2872651</td>\n",
       "      <td>SAMEA2591063</td>\n",
       "      <td>env_medium</td>\n",
       "      <td>ENVO:01000060</td>\n",
       "      <td>NER</td>\n",
       "    </tr>\n",
       "    <tr>\n",
       "      <th>...</th>\n",
       "      <td>...</td>\n",
       "      <td>...</td>\n",
       "      <td>...</td>\n",
       "      <td>...</td>\n",
       "      <td>...</td>\n",
       "    </tr>\n",
       "    <tr>\n",
       "      <th>41248</th>\n",
       "      <td>38096312</td>\n",
       "      <td>SAMN38096312</td>\n",
       "      <td>env_broad_scale</td>\n",
       "      <td>ENVO:01000218</td>\n",
       "      <td>NER</td>\n",
       "    </tr>\n",
       "    <tr>\n",
       "      <th>41249</th>\n",
       "      <td>38096312</td>\n",
       "      <td>SAMN38096312</td>\n",
       "      <td>env_local_scale</td>\n",
       "      <td>ENVO:01001199</td>\n",
       "      <td>NER</td>\n",
       "    </tr>\n",
       "    <tr>\n",
       "      <th>41250</th>\n",
       "      <td>38096312</td>\n",
       "      <td>SAMN38096312</td>\n",
       "      <td>env_medium</td>\n",
       "      <td>ENVO:02000059</td>\n",
       "      <td>NER</td>\n",
       "    </tr>\n",
       "    <tr>\n",
       "      <th>41251</th>\n",
       "      <td>42755192</td>\n",
       "      <td>SAMEA115861732</td>\n",
       "      <td>env_broad_scale</td>\n",
       "      <td>ENVO:00000873</td>\n",
       "      <td>NER</td>\n",
       "    </tr>\n",
       "    <tr>\n",
       "      <th>41252</th>\n",
       "      <td>42755192</td>\n",
       "      <td>SAMEA115861732</td>\n",
       "      <td>env_medium</td>\n",
       "      <td>ENVO:00000377</td>\n",
       "      <td>NER</td>\n",
       "    </tr>\n",
       "  </tbody>\n",
       "</table>\n",
       "<p>41253 rows × 5 columns</p>\n",
       "</div>"
      ]
     },
     "execution_count": 32,
     "metadata": {},
     "output_type": "execute_result"
    }
   ],
   "execution_count": 32
  },
  {
   "metadata": {
    "ExecuteTime": {
     "end_time": "2025-02-26T02:59:01.688198Z",
     "start_time": "2025-02-26T02:59:01.657969Z"
    }
   },
   "cell_type": "code",
   "source": "envo_adapter = get_adapter(envo_adapter_string)",
   "id": "98f9d21a4875f50b",
   "outputs": [],
   "execution_count": 33
  },
  {
   "metadata": {
    "ExecuteTime": {
     "end_time": "2025-02-26T02:59:01.733588Z",
     "start_time": "2025-02-26T02:59:01.728929Z"
    }
   },
   "cell_type": "code",
   "source": [
    "# Extract unique EnvO CURIEs\n",
    "all_mined_curies = id_harmonized_name_best_curies[\"curie\"].unique()\n"
   ],
   "id": "fa462929e5fccf0f",
   "outputs": [],
   "execution_count": 34
  },
  {
   "metadata": {
    "ExecuteTime": {
     "end_time": "2025-02-26T02:59:01.828514Z",
     "start_time": "2025-02-26T02:59:01.770264Z"
    }
   },
   "cell_type": "code",
   "source": [
    "# Fetch labels for all EnvO classes\n",
    "all_mined_curie_labels = {}\n",
    "for curie in all_mined_curies:\n",
    "    label = envo_adapter.label(curie)\n",
    "    if label:\n",
    "        all_mined_curie_labels[curie] = label\n"
   ],
   "id": "d3480a9fc451fe5b",
   "outputs": [],
   "execution_count": 35
  },
  {
   "metadata": {
    "ExecuteTime": {
     "end_time": "2025-02-26T02:59:02.227342Z",
     "start_time": "2025-02-26T02:59:02.199946Z"
    }
   },
   "cell_type": "code",
   "source": [
    "id_harmonized_name_best_curies[\"curie_label\"] = id_harmonized_name_best_curies[\"curie\"].map(\n",
    "    lambda curie: f\"{all_mined_curie_labels.get(curie, 'Unknown')} [{curie}]\"\n",
    ")"
   ],
   "id": "7f83bc71fcdfb146",
   "outputs": [],
   "execution_count": 36
  },
  {
   "metadata": {
    "ExecuteTime": {
     "end_time": "2025-02-26T02:59:02.253016Z",
     "start_time": "2025-02-26T02:59:02.236159Z"
    }
   },
   "cell_type": "code",
   "source": [
    "# Map CURIEs to labels, defaulting to the CURIE itself if the label is missing\n",
    "id_harmonized_name_best_curies"
   ],
   "id": "d4672a2cd380e5d",
   "outputs": [
    {
     "data": {
      "text/plain": [
       "             id       accession  harmonized_name          curie    source  \\\n",
       "0       2872651    SAMEA2591063  env_broad_scale  ENVO:00000447       NER   \n",
       "1       2872651    SAMEA2591063  env_broad_scale  ENVO:00000447  asserted   \n",
       "2       2872651    SAMEA2591063  env_local_scale  ENVO:00002042       NER   \n",
       "3       2872651    SAMEA2591063  env_local_scale  ENVO:00002042  asserted   \n",
       "4       2872651    SAMEA2591063       env_medium  ENVO:01000060       NER   \n",
       "...         ...             ...              ...            ...       ...   \n",
       "41248  38096312    SAMN38096312  env_broad_scale  ENVO:01000218       NER   \n",
       "41249  38096312    SAMN38096312  env_local_scale  ENVO:01001199       NER   \n",
       "41250  38096312    SAMN38096312       env_medium  ENVO:02000059       NER   \n",
       "41251  42755192  SAMEA115861732  env_broad_scale  ENVO:00000873       NER   \n",
       "41252  42755192  SAMEA115861732       env_medium  ENVO:00000377       NER   \n",
       "\n",
       "                                             curie_label  \n",
       "0                           marine biome [ENVO:00000447]  \n",
       "1                           marine biome [ENVO:00000447]  \n",
       "2                          surface water [ENVO:00002042]  \n",
       "3                          surface water [ENVO:00002042]  \n",
       "4      particulate environmental material [ENVO:01000...  \n",
       "...                                                  ...  \n",
       "41248              xeric shrubland biome [ENVO:01000218]  \n",
       "41249     terrestrial environmental zone [ENVO:01001199]  \n",
       "41250                       surface soil [ENVO:02000059]  \n",
       "41251                   freshwater biome [ENVO:00000873]  \n",
       "41252                    artificial lake [ENVO:00000377]  \n",
       "\n",
       "[41253 rows x 6 columns]"
      ],
      "text/html": [
       "<div>\n",
       "<style scoped>\n",
       "    .dataframe tbody tr th:only-of-type {\n",
       "        vertical-align: middle;\n",
       "    }\n",
       "\n",
       "    .dataframe tbody tr th {\n",
       "        vertical-align: top;\n",
       "    }\n",
       "\n",
       "    .dataframe thead th {\n",
       "        text-align: right;\n",
       "    }\n",
       "</style>\n",
       "<table border=\"1\" class=\"dataframe\">\n",
       "  <thead>\n",
       "    <tr style=\"text-align: right;\">\n",
       "      <th></th>\n",
       "      <th>id</th>\n",
       "      <th>accession</th>\n",
       "      <th>harmonized_name</th>\n",
       "      <th>curie</th>\n",
       "      <th>source</th>\n",
       "      <th>curie_label</th>\n",
       "    </tr>\n",
       "  </thead>\n",
       "  <tbody>\n",
       "    <tr>\n",
       "      <th>0</th>\n",
       "      <td>2872651</td>\n",
       "      <td>SAMEA2591063</td>\n",
       "      <td>env_broad_scale</td>\n",
       "      <td>ENVO:00000447</td>\n",
       "      <td>NER</td>\n",
       "      <td>marine biome [ENVO:00000447]</td>\n",
       "    </tr>\n",
       "    <tr>\n",
       "      <th>1</th>\n",
       "      <td>2872651</td>\n",
       "      <td>SAMEA2591063</td>\n",
       "      <td>env_broad_scale</td>\n",
       "      <td>ENVO:00000447</td>\n",
       "      <td>asserted</td>\n",
       "      <td>marine biome [ENVO:00000447]</td>\n",
       "    </tr>\n",
       "    <tr>\n",
       "      <th>2</th>\n",
       "      <td>2872651</td>\n",
       "      <td>SAMEA2591063</td>\n",
       "      <td>env_local_scale</td>\n",
       "      <td>ENVO:00002042</td>\n",
       "      <td>NER</td>\n",
       "      <td>surface water [ENVO:00002042]</td>\n",
       "    </tr>\n",
       "    <tr>\n",
       "      <th>3</th>\n",
       "      <td>2872651</td>\n",
       "      <td>SAMEA2591063</td>\n",
       "      <td>env_local_scale</td>\n",
       "      <td>ENVO:00002042</td>\n",
       "      <td>asserted</td>\n",
       "      <td>surface water [ENVO:00002042]</td>\n",
       "    </tr>\n",
       "    <tr>\n",
       "      <th>4</th>\n",
       "      <td>2872651</td>\n",
       "      <td>SAMEA2591063</td>\n",
       "      <td>env_medium</td>\n",
       "      <td>ENVO:01000060</td>\n",
       "      <td>NER</td>\n",
       "      <td>particulate environmental material [ENVO:01000...</td>\n",
       "    </tr>\n",
       "    <tr>\n",
       "      <th>...</th>\n",
       "      <td>...</td>\n",
       "      <td>...</td>\n",
       "      <td>...</td>\n",
       "      <td>...</td>\n",
       "      <td>...</td>\n",
       "      <td>...</td>\n",
       "    </tr>\n",
       "    <tr>\n",
       "      <th>41248</th>\n",
       "      <td>38096312</td>\n",
       "      <td>SAMN38096312</td>\n",
       "      <td>env_broad_scale</td>\n",
       "      <td>ENVO:01000218</td>\n",
       "      <td>NER</td>\n",
       "      <td>xeric shrubland biome [ENVO:01000218]</td>\n",
       "    </tr>\n",
       "    <tr>\n",
       "      <th>41249</th>\n",
       "      <td>38096312</td>\n",
       "      <td>SAMN38096312</td>\n",
       "      <td>env_local_scale</td>\n",
       "      <td>ENVO:01001199</td>\n",
       "      <td>NER</td>\n",
       "      <td>terrestrial environmental zone [ENVO:01001199]</td>\n",
       "    </tr>\n",
       "    <tr>\n",
       "      <th>41250</th>\n",
       "      <td>38096312</td>\n",
       "      <td>SAMN38096312</td>\n",
       "      <td>env_medium</td>\n",
       "      <td>ENVO:02000059</td>\n",
       "      <td>NER</td>\n",
       "      <td>surface soil [ENVO:02000059]</td>\n",
       "    </tr>\n",
       "    <tr>\n",
       "      <th>41251</th>\n",
       "      <td>42755192</td>\n",
       "      <td>SAMEA115861732</td>\n",
       "      <td>env_broad_scale</td>\n",
       "      <td>ENVO:00000873</td>\n",
       "      <td>NER</td>\n",
       "      <td>freshwater biome [ENVO:00000873]</td>\n",
       "    </tr>\n",
       "    <tr>\n",
       "      <th>41252</th>\n",
       "      <td>42755192</td>\n",
       "      <td>SAMEA115861732</td>\n",
       "      <td>env_medium</td>\n",
       "      <td>ENVO:00000377</td>\n",
       "      <td>NER</td>\n",
       "      <td>artificial lake [ENVO:00000377]</td>\n",
       "    </tr>\n",
       "  </tbody>\n",
       "</table>\n",
       "<p>41253 rows × 6 columns</p>\n",
       "</div>"
      ]
     },
     "execution_count": 37,
     "metadata": {},
     "output_type": "execute_result"
    }
   ],
   "execution_count": 37
  },
  {
   "metadata": {
    "ExecuteTime": {
     "end_time": "2025-02-26T02:59:03.135325Z",
     "start_time": "2025-02-26T02:59:02.325183Z"
    }
   },
   "cell_type": "code",
   "source": [
    "\n",
    "# Pivot so that each harmonized_name becomes a separate column\n",
    "biosample_curie_pivot = (\n",
    "    id_harmonized_name_best_curies\n",
    "    .groupby([\"id\", \"accession\", \"harmonized_name\"])[\"curie_label\"]\n",
    "    .apply(lambda x: \"; \".join(sorted(set(x))))  # Aggregate CURIe/label pairs\n",
    "    .unstack(fill_value=\"\")  # Pivot harmonized_name columns\n",
    "    .reset_index()\n",
    ")\n"
   ],
   "id": "1a4d039de550cb85",
   "outputs": [],
   "execution_count": 38
  },
  {
   "metadata": {
    "ExecuteTime": {
     "end_time": "2025-02-26T02:59:03.184131Z",
     "start_time": "2025-02-26T02:59:03.180885Z"
    }
   },
   "cell_type": "code",
   "source": [
    "# Ensure the correct column order, filling missing columns if needed\n",
    "expected_columns = [\"id\", \"accession\", \"env_broad_scale\", \"env_local_scale\", \"env_medium\"]\n",
    "for col in expected_columns:\n",
    "    if col not in biosample_curie_pivot.columns:\n",
    "        biosample_curie_pivot[col] = \"\"  # Add missing harmonized_name columns\n"
   ],
   "id": "595877a7b4fe107d",
   "outputs": [],
   "execution_count": 39
  },
  {
   "metadata": {
    "ExecuteTime": {
     "end_time": "2025-02-26T02:59:03.231877Z",
     "start_time": "2025-02-26T02:59:03.228335Z"
    }
   },
   "cell_type": "code",
   "source": "biosample_curie_pivot = biosample_curie_pivot[expected_columns]  # Reorder columns\n",
   "id": "16e9dd1262c6e3c4",
   "outputs": [],
   "execution_count": 40
  },
  {
   "metadata": {
    "ExecuteTime": {
     "end_time": "2025-02-26T02:59:03.278210Z",
     "start_time": "2025-02-26T02:59:03.275360Z"
    }
   },
   "cell_type": "code",
   "source": [
    "# Reset column names to fix any unintended MultiIndex issues\n",
    "biosample_curie_pivot.columns.name = None  # Remove any lingering index name\n",
    "biosample_curie_pivot = biosample_curie_pivot.rename_axis(None, axis=1)  # Remove any index label"
   ],
   "id": "a96b5067943ca081",
   "outputs": [],
   "execution_count": 41
  },
  {
   "metadata": {
    "ExecuteTime": {
     "end_time": "2025-02-26T02:59:03.329912Z",
     "start_time": "2025-02-26T02:59:03.322006Z"
    }
   },
   "cell_type": "code",
   "source": "biosample_curie_pivot",
   "id": "4b861e1e1a0ee80d",
   "outputs": [
    {
     "data": {
      "text/plain": [
       "             id       accession                        env_broad_scale  \\\n",
       "0       2872651    SAMEA2591063           marine biome [ENVO:00000447]   \n",
       "1       2872652    SAMEA2611380           marine biome [ENVO:00000447]   \n",
       "2       2872653    SAMEA2591077           marine biome [ENVO:00000447]   \n",
       "3       2872654    SAMEA2591082           marine biome [ENVO:00000447]   \n",
       "4       2872655    SAMEA2611378           marine biome [ENVO:00000447]   \n",
       "...         ...             ...                                    ...   \n",
       "14681  38096309    SAMN38096309  xeric shrubland biome [ENVO:01000218]   \n",
       "14682  38096310    SAMN38096310  xeric shrubland biome [ENVO:01000218]   \n",
       "14683  38096311    SAMN38096311  xeric shrubland biome [ENVO:01000218]   \n",
       "14684  38096312    SAMN38096312  xeric shrubland biome [ENVO:01000218]   \n",
       "14685  42755192  SAMEA115861732       freshwater biome [ENVO:00000873]   \n",
       "\n",
       "                                      env_local_scale  \\\n",
       "0                       surface water [ENVO:00002042]   \n",
       "1                       surface water [ENVO:00002042]   \n",
       "2      deep chlorophyll maximum layer [ENVO:01000326]   \n",
       "3      deep chlorophyll maximum layer [ENVO:01000326]   \n",
       "4                       surface water [ENVO:00002042]   \n",
       "...                                               ...   \n",
       "14681  terrestrial environmental zone [ENVO:01001199]   \n",
       "14682  terrestrial environmental zone [ENVO:01001199]   \n",
       "14683  terrestrial environmental zone [ENVO:01001199]   \n",
       "14684  terrestrial environmental zone [ENVO:01001199]   \n",
       "14685                                                   \n",
       "\n",
       "                                              env_medium  \n",
       "0      particulate environmental material [ENVO:01000...  \n",
       "1      particulate environmental material [ENVO:01000...  \n",
       "2      particulate environmental material [ENVO:01000...  \n",
       "3      particulate environmental material [ENVO:01000...  \n",
       "4      particulate environmental material [ENVO:01000...  \n",
       "...                                                  ...  \n",
       "14681                       surface soil [ENVO:02000059]  \n",
       "14682                       surface soil [ENVO:02000059]  \n",
       "14683                       surface soil [ENVO:02000059]  \n",
       "14684                       surface soil [ENVO:02000059]  \n",
       "14685                    artificial lake [ENVO:00000377]  \n",
       "\n",
       "[14686 rows x 5 columns]"
      ],
      "text/html": [
       "<div>\n",
       "<style scoped>\n",
       "    .dataframe tbody tr th:only-of-type {\n",
       "        vertical-align: middle;\n",
       "    }\n",
       "\n",
       "    .dataframe tbody tr th {\n",
       "        vertical-align: top;\n",
       "    }\n",
       "\n",
       "    .dataframe thead th {\n",
       "        text-align: right;\n",
       "    }\n",
       "</style>\n",
       "<table border=\"1\" class=\"dataframe\">\n",
       "  <thead>\n",
       "    <tr style=\"text-align: right;\">\n",
       "      <th></th>\n",
       "      <th>id</th>\n",
       "      <th>accession</th>\n",
       "      <th>env_broad_scale</th>\n",
       "      <th>env_local_scale</th>\n",
       "      <th>env_medium</th>\n",
       "    </tr>\n",
       "  </thead>\n",
       "  <tbody>\n",
       "    <tr>\n",
       "      <th>0</th>\n",
       "      <td>2872651</td>\n",
       "      <td>SAMEA2591063</td>\n",
       "      <td>marine biome [ENVO:00000447]</td>\n",
       "      <td>surface water [ENVO:00002042]</td>\n",
       "      <td>particulate environmental material [ENVO:01000...</td>\n",
       "    </tr>\n",
       "    <tr>\n",
       "      <th>1</th>\n",
       "      <td>2872652</td>\n",
       "      <td>SAMEA2611380</td>\n",
       "      <td>marine biome [ENVO:00000447]</td>\n",
       "      <td>surface water [ENVO:00002042]</td>\n",
       "      <td>particulate environmental material [ENVO:01000...</td>\n",
       "    </tr>\n",
       "    <tr>\n",
       "      <th>2</th>\n",
       "      <td>2872653</td>\n",
       "      <td>SAMEA2591077</td>\n",
       "      <td>marine biome [ENVO:00000447]</td>\n",
       "      <td>deep chlorophyll maximum layer [ENVO:01000326]</td>\n",
       "      <td>particulate environmental material [ENVO:01000...</td>\n",
       "    </tr>\n",
       "    <tr>\n",
       "      <th>3</th>\n",
       "      <td>2872654</td>\n",
       "      <td>SAMEA2591082</td>\n",
       "      <td>marine biome [ENVO:00000447]</td>\n",
       "      <td>deep chlorophyll maximum layer [ENVO:01000326]</td>\n",
       "      <td>particulate environmental material [ENVO:01000...</td>\n",
       "    </tr>\n",
       "    <tr>\n",
       "      <th>4</th>\n",
       "      <td>2872655</td>\n",
       "      <td>SAMEA2611378</td>\n",
       "      <td>marine biome [ENVO:00000447]</td>\n",
       "      <td>surface water [ENVO:00002042]</td>\n",
       "      <td>particulate environmental material [ENVO:01000...</td>\n",
       "    </tr>\n",
       "    <tr>\n",
       "      <th>...</th>\n",
       "      <td>...</td>\n",
       "      <td>...</td>\n",
       "      <td>...</td>\n",
       "      <td>...</td>\n",
       "      <td>...</td>\n",
       "    </tr>\n",
       "    <tr>\n",
       "      <th>14681</th>\n",
       "      <td>38096309</td>\n",
       "      <td>SAMN38096309</td>\n",
       "      <td>xeric shrubland biome [ENVO:01000218]</td>\n",
       "      <td>terrestrial environmental zone [ENVO:01001199]</td>\n",
       "      <td>surface soil [ENVO:02000059]</td>\n",
       "    </tr>\n",
       "    <tr>\n",
       "      <th>14682</th>\n",
       "      <td>38096310</td>\n",
       "      <td>SAMN38096310</td>\n",
       "      <td>xeric shrubland biome [ENVO:01000218]</td>\n",
       "      <td>terrestrial environmental zone [ENVO:01001199]</td>\n",
       "      <td>surface soil [ENVO:02000059]</td>\n",
       "    </tr>\n",
       "    <tr>\n",
       "      <th>14683</th>\n",
       "      <td>38096311</td>\n",
       "      <td>SAMN38096311</td>\n",
       "      <td>xeric shrubland biome [ENVO:01000218]</td>\n",
       "      <td>terrestrial environmental zone [ENVO:01001199]</td>\n",
       "      <td>surface soil [ENVO:02000059]</td>\n",
       "    </tr>\n",
       "    <tr>\n",
       "      <th>14684</th>\n",
       "      <td>38096312</td>\n",
       "      <td>SAMN38096312</td>\n",
       "      <td>xeric shrubland biome [ENVO:01000218]</td>\n",
       "      <td>terrestrial environmental zone [ENVO:01001199]</td>\n",
       "      <td>surface soil [ENVO:02000059]</td>\n",
       "    </tr>\n",
       "    <tr>\n",
       "      <th>14685</th>\n",
       "      <td>42755192</td>\n",
       "      <td>SAMEA115861732</td>\n",
       "      <td>freshwater biome [ENVO:00000873]</td>\n",
       "      <td></td>\n",
       "      <td>artificial lake [ENVO:00000377]</td>\n",
       "    </tr>\n",
       "  </tbody>\n",
       "</table>\n",
       "<p>14686 rows × 5 columns</p>\n",
       "</div>"
      ]
     },
     "execution_count": 42,
     "metadata": {},
     "output_type": "execute_result"
    }
   ],
   "execution_count": 42
  },
  {
   "metadata": {
    "ExecuteTime": {
     "end_time": "2025-02-26T02:59:03.447547Z",
     "start_time": "2025-02-26T02:59:03.408515Z"
    }
   },
   "cell_type": "code",
   "source": [
    "# Perform a full outer join on biosample_accession (df) and accession (biosample_curie_pivot)\n",
    "merged_df = df.merge(\n",
    "    biosample_curie_pivot,\n",
    "    left_on=\"biosample_accession\",\n",
    "    right_on=\"accession\",\n",
    "    how=\"outer\",  # Ensures all rows from both DataFrames are kept\n",
    "    suffixes=(\"_asserted\", \"_mined\")  # Suffix for column disambiguation\n",
    ")\n"
   ],
   "id": "b1859dd7a622822f",
   "outputs": [],
   "execution_count": 43
  },
  {
   "metadata": {
    "ExecuteTime": {
     "end_time": "2025-02-26T02:59:03.500152Z",
     "start_time": "2025-02-26T02:59:03.496500Z"
    }
   },
   "cell_type": "code",
   "source": [
    "# Drop the duplicate \"accession\" column after merging (since it matches \"biosample_accession\")\n",
    "merged_df = merged_df.drop(columns=[\"accession\"])"
   ],
   "id": "54aee3b4c3727abd",
   "outputs": [],
   "execution_count": 44
  },
  {
   "metadata": {
    "ExecuteTime": {
     "end_time": "2025-02-26T02:59:03.541598Z",
     "start_time": "2025-02-26T02:59:03.538260Z"
    }
   },
   "cell_type": "code",
   "source": [
    "# Rename \"id\" to \"biosample_id\"\n",
    "merged_df = merged_df.rename(columns={\"id\": \"biosample_id\"})"
   ],
   "id": "6151ea9f7c8b4c4",
   "outputs": [],
   "execution_count": 45
  },
  {
   "metadata": {
    "ExecuteTime": {
     "end_time": "2025-02-26T02:59:03.589176Z",
     "start_time": "2025-02-26T02:59:03.585399Z"
    }
   },
   "cell_type": "code",
   "source": [
    "# Convert \"biosample_id\" to integer, handling potential NaNs (replace NaNs with -1 and convert)\n",
    "merged_df[\"biosample_id\"] = merged_df[\"biosample_id\"].fillna(-1).astype(int)"
   ],
   "id": "67fc3a033babf1a0",
   "outputs": [],
   "execution_count": 46
  },
  {
   "metadata": {
    "ExecuteTime": {
     "end_time": "2025-02-26T02:59:03.635351Z",
     "start_time": "2025-02-26T02:59:03.630654Z"
    }
   },
   "cell_type": "code",
   "source": [
    "# Reorder columns: Move \"biosample_id\" next to \"biosample_accession\"\n",
    "column_order = (\n",
    "    [\"bioproject_accession\", \"biosample_id\", \"biosample_accession\"] +\n",
    "    [col for col in merged_df.columns if col not in [\"bioproject_accession\", \"biosample_id\", \"biosample_accession\"]]\n",
    ")\n",
    "\n",
    "merged_df = merged_df[column_order]"
   ],
   "id": "e637a7ef644211d9",
   "outputs": [],
   "execution_count": 47
  },
  {
   "metadata": {
    "ExecuteTime": {
     "end_time": "2025-02-26T02:59:03.700994Z",
     "start_time": "2025-02-26T02:59:03.683501Z"
    }
   },
   "cell_type": "code",
   "source": "merged_df",
   "id": "62b829427360d934",
   "outputs": [
    {
     "data": {
      "text/plain": [
       "      bioproject_accession  biosample_id biosample_accession  \\\n",
       "0               PRJEB52753      30986217      SAMEA110022181   \n",
       "1               PRJEB52753      30986218      SAMEA110027444   \n",
       "2               PRJEB52452      33205310      SAMEA110646458   \n",
       "3               PRJEB52452      33205311      SAMEA110646459   \n",
       "4               PRJEB52452      33205312      SAMEA110646460   \n",
       "...                    ...           ...                 ...   \n",
       "30156         PRJNA1035643      38096308        SAMN38096308   \n",
       "30157         PRJNA1035643      38096309        SAMN38096309   \n",
       "30158         PRJNA1035643      38096310        SAMN38096310   \n",
       "30159         PRJNA1035643      38096311        SAMN38096311   \n",
       "30160         PRJNA1035643      38096312        SAMN38096312   \n",
       "\n",
       "      env_broad_scale_asserted        env_local_scale_asserted  \\\n",
       "0            terrestrial biome                            None   \n",
       "1            terrestrial biome                            None   \n",
       "2                 Trades Biome                            None   \n",
       "3                 Trades Biome                            None   \n",
       "4                 Trades Biome                            None   \n",
       "...                        ...                             ...   \n",
       "30156    xeric shrubland biome  terrestrial environmental zone   \n",
       "30157    xeric shrubland biome  terrestrial environmental zone   \n",
       "30158    xeric shrubland biome  terrestrial environmental zone   \n",
       "30159    xeric shrubland biome  terrestrial environmental zone   \n",
       "30160    xeric shrubland biome  terrestrial environmental zone   \n",
       "\n",
       "                                     env_medium_asserted  \\\n",
       "0                                                   soil   \n",
       "1                                                   soil   \n",
       "2      particulate matter (ENVO:01000060), including ...   \n",
       "3      particulate matter (ENVO:01000060), including ...   \n",
       "4      particulate matter (ENVO:01000060), including ...   \n",
       "...                                                  ...   \n",
       "30156                                       surface soil   \n",
       "30157                                       surface soil   \n",
       "30158                                       surface soil   \n",
       "30159                                       surface soil   \n",
       "30160                                       surface soil   \n",
       "\n",
       "                       env_broad_scale_mined  \\\n",
       "0          terrestrial biome [ENVO:00000446]   \n",
       "1          terrestrial biome [ENVO:00000446]   \n",
       "2                      biome [ENVO:00000428]   \n",
       "3                      biome [ENVO:00000428]   \n",
       "4                      biome [ENVO:00000428]   \n",
       "...                                      ...   \n",
       "30156  xeric shrubland biome [ENVO:01000218]   \n",
       "30157  xeric shrubland biome [ENVO:01000218]   \n",
       "30158  xeric shrubland biome [ENVO:01000218]   \n",
       "30159  xeric shrubland biome [ENVO:01000218]   \n",
       "30160  xeric shrubland biome [ENVO:01000218]   \n",
       "\n",
       "                                env_local_scale_mined  \\\n",
       "0                                                       \n",
       "1                                                       \n",
       "2                                                       \n",
       "3                                                       \n",
       "4                                                       \n",
       "...                                               ...   \n",
       "30156  terrestrial environmental zone [ENVO:01001199]   \n",
       "30157  terrestrial environmental zone [ENVO:01001199]   \n",
       "30158  terrestrial environmental zone [ENVO:01001199]   \n",
       "30159  terrestrial environmental zone [ENVO:01001199]   \n",
       "30160  terrestrial environmental zone [ENVO:01001199]   \n",
       "\n",
       "                                        env_medium_mined  \n",
       "0                                   soil [ENVO:00001998]  \n",
       "1                                   soil [ENVO:00001998]  \n",
       "2      particulate environmental material [ENVO:01000...  \n",
       "3      particulate environmental material [ENVO:01000...  \n",
       "4      particulate environmental material [ENVO:01000...  \n",
       "...                                                  ...  \n",
       "30156                       surface soil [ENVO:02000059]  \n",
       "30157                       surface soil [ENVO:02000059]  \n",
       "30158                       surface soil [ENVO:02000059]  \n",
       "30159                       surface soil [ENVO:02000059]  \n",
       "30160                       surface soil [ENVO:02000059]  \n",
       "\n",
       "[30161 rows x 9 columns]"
      ],
      "text/html": [
       "<div>\n",
       "<style scoped>\n",
       "    .dataframe tbody tr th:only-of-type {\n",
       "        vertical-align: middle;\n",
       "    }\n",
       "\n",
       "    .dataframe tbody tr th {\n",
       "        vertical-align: top;\n",
       "    }\n",
       "\n",
       "    .dataframe thead th {\n",
       "        text-align: right;\n",
       "    }\n",
       "</style>\n",
       "<table border=\"1\" class=\"dataframe\">\n",
       "  <thead>\n",
       "    <tr style=\"text-align: right;\">\n",
       "      <th></th>\n",
       "      <th>bioproject_accession</th>\n",
       "      <th>biosample_id</th>\n",
       "      <th>biosample_accession</th>\n",
       "      <th>env_broad_scale_asserted</th>\n",
       "      <th>env_local_scale_asserted</th>\n",
       "      <th>env_medium_asserted</th>\n",
       "      <th>env_broad_scale_mined</th>\n",
       "      <th>env_local_scale_mined</th>\n",
       "      <th>env_medium_mined</th>\n",
       "    </tr>\n",
       "  </thead>\n",
       "  <tbody>\n",
       "    <tr>\n",
       "      <th>0</th>\n",
       "      <td>PRJEB52753</td>\n",
       "      <td>30986217</td>\n",
       "      <td>SAMEA110022181</td>\n",
       "      <td>terrestrial biome</td>\n",
       "      <td>None</td>\n",
       "      <td>soil</td>\n",
       "      <td>terrestrial biome [ENVO:00000446]</td>\n",
       "      <td></td>\n",
       "      <td>soil [ENVO:00001998]</td>\n",
       "    </tr>\n",
       "    <tr>\n",
       "      <th>1</th>\n",
       "      <td>PRJEB52753</td>\n",
       "      <td>30986218</td>\n",
       "      <td>SAMEA110027444</td>\n",
       "      <td>terrestrial biome</td>\n",
       "      <td>None</td>\n",
       "      <td>soil</td>\n",
       "      <td>terrestrial biome [ENVO:00000446]</td>\n",
       "      <td></td>\n",
       "      <td>soil [ENVO:00001998]</td>\n",
       "    </tr>\n",
       "    <tr>\n",
       "      <th>2</th>\n",
       "      <td>PRJEB52452</td>\n",
       "      <td>33205310</td>\n",
       "      <td>SAMEA110646458</td>\n",
       "      <td>Trades Biome</td>\n",
       "      <td>None</td>\n",
       "      <td>particulate matter (ENVO:01000060), including ...</td>\n",
       "      <td>biome [ENVO:00000428]</td>\n",
       "      <td></td>\n",
       "      <td>particulate environmental material [ENVO:01000...</td>\n",
       "    </tr>\n",
       "    <tr>\n",
       "      <th>3</th>\n",
       "      <td>PRJEB52452</td>\n",
       "      <td>33205311</td>\n",
       "      <td>SAMEA110646459</td>\n",
       "      <td>Trades Biome</td>\n",
       "      <td>None</td>\n",
       "      <td>particulate matter (ENVO:01000060), including ...</td>\n",
       "      <td>biome [ENVO:00000428]</td>\n",
       "      <td></td>\n",
       "      <td>particulate environmental material [ENVO:01000...</td>\n",
       "    </tr>\n",
       "    <tr>\n",
       "      <th>4</th>\n",
       "      <td>PRJEB52452</td>\n",
       "      <td>33205312</td>\n",
       "      <td>SAMEA110646460</td>\n",
       "      <td>Trades Biome</td>\n",
       "      <td>None</td>\n",
       "      <td>particulate matter (ENVO:01000060), including ...</td>\n",
       "      <td>biome [ENVO:00000428]</td>\n",
       "      <td></td>\n",
       "      <td>particulate environmental material [ENVO:01000...</td>\n",
       "    </tr>\n",
       "    <tr>\n",
       "      <th>...</th>\n",
       "      <td>...</td>\n",
       "      <td>...</td>\n",
       "      <td>...</td>\n",
       "      <td>...</td>\n",
       "      <td>...</td>\n",
       "      <td>...</td>\n",
       "      <td>...</td>\n",
       "      <td>...</td>\n",
       "      <td>...</td>\n",
       "    </tr>\n",
       "    <tr>\n",
       "      <th>30156</th>\n",
       "      <td>PRJNA1035643</td>\n",
       "      <td>38096308</td>\n",
       "      <td>SAMN38096308</td>\n",
       "      <td>xeric shrubland biome</td>\n",
       "      <td>terrestrial environmental zone</td>\n",
       "      <td>surface soil</td>\n",
       "      <td>xeric shrubland biome [ENVO:01000218]</td>\n",
       "      <td>terrestrial environmental zone [ENVO:01001199]</td>\n",
       "      <td>surface soil [ENVO:02000059]</td>\n",
       "    </tr>\n",
       "    <tr>\n",
       "      <th>30157</th>\n",
       "      <td>PRJNA1035643</td>\n",
       "      <td>38096309</td>\n",
       "      <td>SAMN38096309</td>\n",
       "      <td>xeric shrubland biome</td>\n",
       "      <td>terrestrial environmental zone</td>\n",
       "      <td>surface soil</td>\n",
       "      <td>xeric shrubland biome [ENVO:01000218]</td>\n",
       "      <td>terrestrial environmental zone [ENVO:01001199]</td>\n",
       "      <td>surface soil [ENVO:02000059]</td>\n",
       "    </tr>\n",
       "    <tr>\n",
       "      <th>30158</th>\n",
       "      <td>PRJNA1035643</td>\n",
       "      <td>38096310</td>\n",
       "      <td>SAMN38096310</td>\n",
       "      <td>xeric shrubland biome</td>\n",
       "      <td>terrestrial environmental zone</td>\n",
       "      <td>surface soil</td>\n",
       "      <td>xeric shrubland biome [ENVO:01000218]</td>\n",
       "      <td>terrestrial environmental zone [ENVO:01001199]</td>\n",
       "      <td>surface soil [ENVO:02000059]</td>\n",
       "    </tr>\n",
       "    <tr>\n",
       "      <th>30159</th>\n",
       "      <td>PRJNA1035643</td>\n",
       "      <td>38096311</td>\n",
       "      <td>SAMN38096311</td>\n",
       "      <td>xeric shrubland biome</td>\n",
       "      <td>terrestrial environmental zone</td>\n",
       "      <td>surface soil</td>\n",
       "      <td>xeric shrubland biome [ENVO:01000218]</td>\n",
       "      <td>terrestrial environmental zone [ENVO:01001199]</td>\n",
       "      <td>surface soil [ENVO:02000059]</td>\n",
       "    </tr>\n",
       "    <tr>\n",
       "      <th>30160</th>\n",
       "      <td>PRJNA1035643</td>\n",
       "      <td>38096312</td>\n",
       "      <td>SAMN38096312</td>\n",
       "      <td>xeric shrubland biome</td>\n",
       "      <td>terrestrial environmental zone</td>\n",
       "      <td>surface soil</td>\n",
       "      <td>xeric shrubland biome [ENVO:01000218]</td>\n",
       "      <td>terrestrial environmental zone [ENVO:01001199]</td>\n",
       "      <td>surface soil [ENVO:02000059]</td>\n",
       "    </tr>\n",
       "  </tbody>\n",
       "</table>\n",
       "<p>30161 rows × 9 columns</p>\n",
       "</div>"
      ]
     },
     "execution_count": 48,
     "metadata": {},
     "output_type": "execute_result"
    }
   ],
   "execution_count": 48
  },
  {
   "metadata": {
    "ExecuteTime": {
     "end_time": "2025-02-26T02:59:03.910618Z",
     "start_time": "2025-02-26T02:59:03.780601Z"
    }
   },
   "cell_type": "code",
   "source": "merged_df.to_csv(output_tsv, index=False, sep=\"\\t\")",
   "id": "ee94ea360cf91496",
   "outputs": [],
   "execution_count": 49
  },
  {
   "metadata": {
    "ExecuteTime": {
     "end_time": "2025-02-26T02:59:03.976550Z",
     "start_time": "2025-02-26T02:59:03.949461Z"
    }
   },
   "cell_type": "code",
   "source": [
    "# close duck_conn\n",
    "duck_conn.close()"
   ],
   "id": "c56aa88ee4e46a50",
   "outputs": [],
   "execution_count": 50
  }
 ],
 "metadata": {
  "kernelspec": {
   "display_name": "Python 3",
   "language": "python",
   "name": "python3"
  },
  "language_info": {
   "codemirror_mode": {
    "name": "ipython",
    "version": 2
   },
   "file_extension": ".py",
   "mimetype": "text/x-python",
   "name": "python",
   "nbconvert_exporter": "python",
   "pygments_lexer": "ipython2",
   "version": "2.7.6"
  }
 },
 "nbformat": 4,
 "nbformat_minor": 5
}
