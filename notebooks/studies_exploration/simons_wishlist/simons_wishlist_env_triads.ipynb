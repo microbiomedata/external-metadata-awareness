{
 "cells": [
  {
   "metadata": {
    "collapsed": true,
    "ExecuteTime": {
     "end_time": "2025-03-11T16:31:03.026976Z",
     "start_time": "2025-03-11T16:30:59.869125Z"
    }
   },
   "cell_type": "code",
   "source": [
    "import duckdb\n",
    "import pandas as pd\n",
    "import yaml\n",
    "from google.cloud import bigquery\n",
    "from oaklib import get_adapter\n",
    "from pymongo import MongoClient"
   ],
   "id": "initial_id",
   "outputs": [],
   "execution_count": 1
  },
  {
   "metadata": {
    "ExecuteTime": {
     "end_time": "2025-03-11T16:31:03.037465Z",
     "start_time": "2025-03-11T16:31:03.033760Z"
    }
   },
   "cell_type": "code",
   "source": [
    "# For the BBOP/NMDC MongoDB containing NCBI metadata\n",
    "\n",
    "MONGO_USERNAME = None\n",
    "MONGO_PASSWORD = None\n",
    "MONGO_HOST = \"localhost\"\n",
    "MONGO_PORT = 27017\n",
    "MONGO_DATABASE = \"ncbi_metadata\"\n",
    "BIOPROJECTS_COLLECTION = \"bioprojects\"\n",
    "BIOSAMPLES_COLLECTION = \"biosamples\"\n",
    "BIOSAMPLES_BIOPROJECTS_COLLECTION = \"sra_biosamples_bioprojects\"\n"
   ],
   "id": "566f60c0890665de",
   "outputs": [],
   "execution_count": 2
  },
  {
   "metadata": {
    "ExecuteTime": {
     "end_time": "2025-03-11T16:31:03.113986Z",
     "start_time": "2025-03-11T16:31:03.111068Z"
    }
   },
   "cell_type": "code",
   "source": [
    "# \"Potential_import_SRA_Jan2024\"\n",
    "SHEET_ID = \"1432d4WGdO5aSU2SvHBSvlqWmJ1NiEOTJ4UGQq1zR_ho\""
   ],
   "id": "78507c77d01f9bf",
   "outputs": [],
   "execution_count": 3
  },
  {
   "metadata": {
    "ExecuteTime": {
     "end_time": "2025-03-11T16:31:03.163298Z",
     "start_time": "2025-03-11T16:31:03.160696Z"
    }
   },
   "cell_type": "code",
   "source": "NCBI_BIOSAMPLES_DUCKDB_FILE = \"../../../local/ncbi_biosamples.duckdb\"",
   "id": "87b1625318418d54",
   "outputs": [],
   "execution_count": 4
  },
  {
   "metadata": {
    "ExecuteTime": {
     "end_time": "2025-03-11T16:31:03.210349Z",
     "start_time": "2025-03-11T16:31:03.207264Z"
    }
   },
   "cell_type": "code",
   "source": "CSV_URL = f\"https://docs.google.com/spreadsheets/d/{SHEET_ID}/gviz/tq?tqx=out:csv\"",
   "id": "7af260201d4607d",
   "outputs": [],
   "execution_count": 5
  },
  {
   "metadata": {
    "ExecuteTime": {
     "end_time": "2025-03-11T16:31:03.257294Z",
     "start_time": "2025-03-11T16:31:03.254312Z"
    }
   },
   "cell_type": "code",
   "source": "envo_adapter_string = 'sqlite:obo:envo'",
   "id": "b1c8388649c35154",
   "outputs": [],
   "execution_count": 6
  },
  {
   "metadata": {
    "ExecuteTime": {
     "end_time": "2025-03-11T16:31:03.302572Z",
     "start_time": "2025-03-11T16:31:03.299313Z"
    }
   },
   "cell_type": "code",
   "source": "output_tsv = \"simons_wishlist_env_triads.tsv\"",
   "id": "3d0aa276ba550102",
   "outputs": [],
   "execution_count": 7
  },
  {
   "metadata": {
    "ExecuteTime": {
     "end_time": "2025-03-11T16:31:03.348014Z",
     "start_time": "2025-03-11T16:31:03.345192Z"
    }
   },
   "cell_type": "code",
   "source": "gsheet_tsv = \"Potential_import_SRA_Jan2024.tsv\"",
   "id": "898ad89d3f448b4d",
   "outputs": [],
   "execution_count": 8
  },
  {
   "metadata": {
    "ExecuteTime": {
     "end_time": "2025-03-11T16:31:03.394562Z",
     "start_time": "2025-03-11T16:31:03.391335Z"
    }
   },
   "cell_type": "code",
   "source": "sra_metadata_frame_tsv = \"simons_wishlist_sra_metadata.tsv\"",
   "id": "3d5ada9d091ee768",
   "outputs": [],
   "execution_count": 9
  },
  {
   "metadata": {
    "ExecuteTime": {
     "end_time": "2025-03-11T16:31:03.440970Z",
     "start_time": "2025-03-11T16:31:03.438290Z"
    }
   },
   "cell_type": "code",
   "source": [
    "# Define output file name\n",
    "value_counts_yaml = \"value_counts_report.yaml\""
   ],
   "id": "34d0e92b34d9d512",
   "outputs": [],
   "execution_count": 10
  },
  {
   "metadata": {
    "ExecuteTime": {
     "end_time": "2025-03-11T16:31:03.486322Z",
     "start_time": "2025-03-11T16:31:03.483122Z"
    }
   },
   "cell_type": "code",
   "source": "nmdc_gcp_project = \"nmdc-377118\"",
   "id": "abed4bab0f1cea2d",
   "outputs": [],
   "execution_count": 11
  },
  {
   "metadata": {
    "ExecuteTime": {
     "end_time": "2025-03-11T16:31:03.530881Z",
     "start_time": "2025-03-11T16:31:03.528111Z"
    }
   },
   "cell_type": "code",
   "source": "show_limit = 10",
   "id": "b6f02a09ffa8b4b1",
   "outputs": [],
   "execution_count": 12
  },
  {
   "metadata": {
    "ExecuteTime": {
     "end_time": "2025-03-11T16:31:03.578721Z",
     "start_time": "2025-03-11T16:31:03.575890Z"
    }
   },
   "cell_type": "code",
   "source": [
    "# List of relevant harmonized names\n",
    "target_harmonized_names = {\"env_broad_scale\", \"env_local_scale\", \"env_medium\"}"
   ],
   "id": "8e288ae92c92fb8a",
   "outputs": [],
   "execution_count": 13
  },
  {
   "metadata": {
    "ExecuteTime": {
     "end_time": "2025-03-11T16:31:04.152489Z",
     "start_time": "2025-03-11T16:31:03.621082Z"
    }
   },
   "cell_type": "code",
   "source": "bigquery_client = bigquery.Client(project=nmdc_gcp_project)",
   "id": "f2e34ea65ef6d25a",
   "outputs": [
    {
     "name": "stderr",
     "output_type": "stream",
     "text": [
      "/home/mark/gitrepos/external-metadata-awareness/.venv/lib/python3.11/site-packages/google/auth/_default.py:76: UserWarning: Your application has authenticated using end user credentials from Google Cloud SDK without a quota project. You might receive a \"quota exceeded\" or \"API not enabled\" error. See the following page for troubleshooting: https://cloud.google.com/docs/authentication/adc-troubleshooting/user-creds. \n",
      "  warnings.warn(_CLOUD_SDK_CREDENTIALS_WARNING)\n"
     ]
    }
   ],
   "execution_count": 14
  },
  {
   "metadata": {
    "ExecuteTime": {
     "end_time": "2025-03-11T16:31:04.451945Z",
     "start_time": "2025-03-11T16:31:04.161633Z"
    }
   },
   "cell_type": "code",
   "source": [
    "# Read the CSV into a pandas DataFrame\n",
    "gsheet_df = pd.read_csv(CSV_URL)\n"
   ],
   "id": "8854c502784e8d8f",
   "outputs": [],
   "execution_count": 15
  },
  {
   "metadata": {
    "ExecuteTime": {
     "end_time": "2025-03-11T16:31:04.484255Z",
     "start_time": "2025-03-11T16:31:04.465595Z"
    }
   },
   "cell_type": "code",
   "source": [
    "# Display the first few rows\n",
    "gsheet_df"
   ],
   "id": "f1be4b9d9ab2200e",
   "outputs": [
    {
     "data": {
      "text/plain": [
       "    ## Bioproject selected based on: ## At least 50 metagenomes (10M reads +), not currently in IMG (as far as I know), environmental / terrestrial / soil / plant ## For IMG imports, looked at cases where MAGs are not already available in NCBI, and potential for interesting new diversity ## For NMDC imports, looked more specifically at soil and related, and nice metadata BioProject Id  \\\n",
       "0                                           PRJEB52368                                                                                                                                                                                                                                                                                                                                                \n",
       "1                                          PRJNA352737                                                                                                                                                                                                                                                                                                                                                \n",
       "2                                          PRJNA385736                                                                                                                                                                                                                                                                                                                                                \n",
       "3                                          PRJNA656268                                                                                                                                                                                                                                                                                                                                                \n",
       "4                                          PRJNA385854                                                                                                                                                                                                                                                                                                                                                \n",
       "..                                                 ...                                                                                                                                                                                                                                                                                                                                                \n",
       "108                                         PRJEB35627                                                                                                                                                                                                                                                                                                                                                \n",
       "109                                        PRJNA476799                                                                                                                                                                                                                                                                                                                                                \n",
       "110                                        PRJNA691683                                                                                                                                                                                                                                                                                                                                                \n",
       "111                                        PRJNA798446                                                                                                                                                                                                                                                                                                                                                \n",
       "112                                        PRJNA893888                                                                                                                                                                                                                                                                                                                                                \n",
       "\n",
       "     # metaG 10M+                                       Project name  \\\n",
       "0             827  Metagenomic sequencing of Tara Pacific coral s...   \n",
       "1             721        HOT ALOHA metagenomic time and depth series   \n",
       "2             688  Marine amplicons/metagenomes  from Australian ...   \n",
       "3             572  Bio-GO-SHIP: Global marine 'omics studies of r...   \n",
       "4             470   Marine metagenomes from the bioGEOTRACES project   \n",
       "..            ...                                                ...   \n",
       "108            50  Seasonal and diel patterns of bacteriophages i...   \n",
       "109            50   Greenhouse Vegetable Surfaces Raw sequence reads   \n",
       "110            50       Topsoil viromes from five types of land uses   \n",
       "111            50  Shotgun metagenome of microbial community in m...   \n",
       "112            50                              vineyards soil sample   \n",
       "\n",
       "    Environment(s)                Publication     MAGs in NCBI  \\\n",
       "0     Marine/coral                        NaN              NaN   \n",
       "1           Marine  10.1038/s41564-017-0008-3        Yes (197)   \n",
       "2           Marine                        NaN              NaN   \n",
       "3           Marine           No but NSF grant  Maybe (see TPA)   \n",
       "4           Marine     10.1038/sdata.2018.176              NaN   \n",
       "..             ...                        ...              ...   \n",
       "108         Marine                        NaN              NaN   \n",
       "109          Plant                        NaN              NaN   \n",
       "110           Soil                        NaN              NaN   \n",
       "111           Soil                        NaN              NaN   \n",
       "112           Soil                        NaN              NaN   \n",
       "\n",
       "    Import to IMG ? Import to NMDC ?  \\\n",
       "0                No               No   \n",
       "1                No               No   \n",
       "2               Yes          Maybe ?   \n",
       "3                No               No   \n",
       "4               Yes          Maybe ?   \n",
       "..              ...              ...   \n",
       "108              No               No   \n",
       "109              No               No   \n",
       "110              No               No   \n",
       "111              No               No   \n",
       "112              No               No   \n",
       "\n",
       "                                                 Notes  \n",
       "0                Tara, unpublished, probably stay away  \n",
       "1    Already has MAGs in NCBI, and oceanic so not h...  \n",
       "2    Some paired metaG and metaT, but marine and no...  \n",
       "3    Has a TPA and already in MGnify. 10.1093/nar/g...  \n",
       "4    Rich metadata, could be good if no MAGs (Data ...  \n",
       "..                                                 ...  \n",
       "108                                                NaN  \n",
       "109                    Food related, not high priority  \n",
       "110                                  More for IMG/VR ?  \n",
       "111                                        no metadata  \n",
       "112                                        no metadata  \n",
       "\n",
       "[113 rows x 9 columns]"
      ],
      "text/html": [
       "<div>\n",
       "<style scoped>\n",
       "    .dataframe tbody tr th:only-of-type {\n",
       "        vertical-align: middle;\n",
       "    }\n",
       "\n",
       "    .dataframe tbody tr th {\n",
       "        vertical-align: top;\n",
       "    }\n",
       "\n",
       "    .dataframe thead th {\n",
       "        text-align: right;\n",
       "    }\n",
       "</style>\n",
       "<table border=\"1\" class=\"dataframe\">\n",
       "  <thead>\n",
       "    <tr style=\"text-align: right;\">\n",
       "      <th></th>\n",
       "      <th>## Bioproject selected based on: ## At least 50 metagenomes (10M reads +), not currently in IMG (as far as I know), environmental / terrestrial / soil / plant ## For IMG imports, looked at cases where MAGs are not already available in NCBI, and potential for interesting new diversity ## For NMDC imports, looked more specifically at soil and related, and nice metadata BioProject Id</th>\n",
       "      <th># metaG 10M+</th>\n",
       "      <th>Project name</th>\n",
       "      <th>Environment(s)</th>\n",
       "      <th>Publication</th>\n",
       "      <th>MAGs in NCBI</th>\n",
       "      <th>Import to IMG ?</th>\n",
       "      <th>Import to NMDC ?</th>\n",
       "      <th>Notes</th>\n",
       "    </tr>\n",
       "  </thead>\n",
       "  <tbody>\n",
       "    <tr>\n",
       "      <th>0</th>\n",
       "      <td>PRJEB52368</td>\n",
       "      <td>827</td>\n",
       "      <td>Metagenomic sequencing of Tara Pacific coral s...</td>\n",
       "      <td>Marine/coral</td>\n",
       "      <td>NaN</td>\n",
       "      <td>NaN</td>\n",
       "      <td>No</td>\n",
       "      <td>No</td>\n",
       "      <td>Tara, unpublished, probably stay away</td>\n",
       "    </tr>\n",
       "    <tr>\n",
       "      <th>1</th>\n",
       "      <td>PRJNA352737</td>\n",
       "      <td>721</td>\n",
       "      <td>HOT ALOHA metagenomic time and depth series</td>\n",
       "      <td>Marine</td>\n",
       "      <td>10.1038/s41564-017-0008-3</td>\n",
       "      <td>Yes (197)</td>\n",
       "      <td>No</td>\n",
       "      <td>No</td>\n",
       "      <td>Already has MAGs in NCBI, and oceanic so not h...</td>\n",
       "    </tr>\n",
       "    <tr>\n",
       "      <th>2</th>\n",
       "      <td>PRJNA385736</td>\n",
       "      <td>688</td>\n",
       "      <td>Marine amplicons/metagenomes  from Australian ...</td>\n",
       "      <td>Marine</td>\n",
       "      <td>NaN</td>\n",
       "      <td>NaN</td>\n",
       "      <td>Yes</td>\n",
       "      <td>Maybe ?</td>\n",
       "      <td>Some paired metaG and metaT, but marine and no...</td>\n",
       "    </tr>\n",
       "    <tr>\n",
       "      <th>3</th>\n",
       "      <td>PRJNA656268</td>\n",
       "      <td>572</td>\n",
       "      <td>Bio-GO-SHIP: Global marine 'omics studies of r...</td>\n",
       "      <td>Marine</td>\n",
       "      <td>No but NSF grant</td>\n",
       "      <td>Maybe (see TPA)</td>\n",
       "      <td>No</td>\n",
       "      <td>No</td>\n",
       "      <td>Has a TPA and already in MGnify. 10.1093/nar/g...</td>\n",
       "    </tr>\n",
       "    <tr>\n",
       "      <th>4</th>\n",
       "      <td>PRJNA385854</td>\n",
       "      <td>470</td>\n",
       "      <td>Marine metagenomes from the bioGEOTRACES project</td>\n",
       "      <td>Marine</td>\n",
       "      <td>10.1038/sdata.2018.176</td>\n",
       "      <td>NaN</td>\n",
       "      <td>Yes</td>\n",
       "      <td>Maybe ?</td>\n",
       "      <td>Rich metadata, could be good if no MAGs (Data ...</td>\n",
       "    </tr>\n",
       "    <tr>\n",
       "      <th>...</th>\n",
       "      <td>...</td>\n",
       "      <td>...</td>\n",
       "      <td>...</td>\n",
       "      <td>...</td>\n",
       "      <td>...</td>\n",
       "      <td>...</td>\n",
       "      <td>...</td>\n",
       "      <td>...</td>\n",
       "      <td>...</td>\n",
       "    </tr>\n",
       "    <tr>\n",
       "      <th>108</th>\n",
       "      <td>PRJEB35627</td>\n",
       "      <td>50</td>\n",
       "      <td>Seasonal and diel patterns of bacteriophages i...</td>\n",
       "      <td>Marine</td>\n",
       "      <td>NaN</td>\n",
       "      <td>NaN</td>\n",
       "      <td>No</td>\n",
       "      <td>No</td>\n",
       "      <td>NaN</td>\n",
       "    </tr>\n",
       "    <tr>\n",
       "      <th>109</th>\n",
       "      <td>PRJNA476799</td>\n",
       "      <td>50</td>\n",
       "      <td>Greenhouse Vegetable Surfaces Raw sequence reads</td>\n",
       "      <td>Plant</td>\n",
       "      <td>NaN</td>\n",
       "      <td>NaN</td>\n",
       "      <td>No</td>\n",
       "      <td>No</td>\n",
       "      <td>Food related, not high priority</td>\n",
       "    </tr>\n",
       "    <tr>\n",
       "      <th>110</th>\n",
       "      <td>PRJNA691683</td>\n",
       "      <td>50</td>\n",
       "      <td>Topsoil viromes from five types of land uses</td>\n",
       "      <td>Soil</td>\n",
       "      <td>NaN</td>\n",
       "      <td>NaN</td>\n",
       "      <td>No</td>\n",
       "      <td>No</td>\n",
       "      <td>More for IMG/VR ?</td>\n",
       "    </tr>\n",
       "    <tr>\n",
       "      <th>111</th>\n",
       "      <td>PRJNA798446</td>\n",
       "      <td>50</td>\n",
       "      <td>Shotgun metagenome of microbial community in m...</td>\n",
       "      <td>Soil</td>\n",
       "      <td>NaN</td>\n",
       "      <td>NaN</td>\n",
       "      <td>No</td>\n",
       "      <td>No</td>\n",
       "      <td>no metadata</td>\n",
       "    </tr>\n",
       "    <tr>\n",
       "      <th>112</th>\n",
       "      <td>PRJNA893888</td>\n",
       "      <td>50</td>\n",
       "      <td>vineyards soil sample</td>\n",
       "      <td>Soil</td>\n",
       "      <td>NaN</td>\n",
       "      <td>NaN</td>\n",
       "      <td>No</td>\n",
       "      <td>No</td>\n",
       "      <td>no metadata</td>\n",
       "    </tr>\n",
       "  </tbody>\n",
       "</table>\n",
       "<p>113 rows × 9 columns</p>\n",
       "</div>"
      ]
     },
     "execution_count": 16,
     "metadata": {},
     "output_type": "execute_result"
    }
   ],
   "execution_count": 16
  },
  {
   "metadata": {
    "ExecuteTime": {
     "end_time": "2025-03-11T16:31:04.556449Z",
     "start_time": "2025-03-11T16:31:04.551679Z"
    }
   },
   "cell_type": "code",
   "source": "gsheet_df.to_csv(gsheet_tsv, index=False, sep=\"\\t\")",
   "id": "dd6e50ac23f580a0",
   "outputs": [],
   "execution_count": 17
  },
  {
   "metadata": {
    "ExecuteTime": {
     "end_time": "2025-03-11T16:31:04.598580Z",
     "start_time": "2025-03-11T16:31:04.595521Z"
    }
   },
   "cell_type": "code",
   "source": [
    "# Get the leftmost column (first column)\n",
    "bioproj_accession_column = gsheet_df.iloc[:, 0]  # Select the first column"
   ],
   "id": "db510dd90c4c5388",
   "outputs": [],
   "execution_count": 18
  },
  {
   "metadata": {
    "ExecuteTime": {
     "end_time": "2025-03-11T16:31:04.662602Z",
     "start_time": "2025-03-11T16:31:04.659174Z"
    }
   },
   "cell_type": "code",
   "source": [
    "# Get unique values\n",
    "bioproj_accession_values = list(bioproj_accession_column.unique())\n",
    "bioproj_accession_values.sort()"
   ],
   "id": "e7bd7a6a486281aa",
   "outputs": [],
   "execution_count": 19
  },
  {
   "metadata": {
    "ExecuteTime": {
     "end_time": "2025-03-11T16:31:04.771531Z",
     "start_time": "2025-03-11T16:31:04.767110Z"
    }
   },
   "cell_type": "code",
   "source": [
    "# Display the unique values\n",
    "bioproj_accession_values[0:show_limit]"
   ],
   "id": "429acd8598ca2fc2",
   "outputs": [
    {
     "data": {
      "text/plain": [
       "['PRJEB18675',\n",
       " 'PRJEB27870',\n",
       " 'PRJEB31530',\n",
       " 'PRJEB34634',\n",
       " 'PRJEB34883',\n",
       " 'PRJEB35627',\n",
       " 'PRJEB35640',\n",
       " 'PRJEB35770',\n",
       " 'PRJEB38290',\n",
       " 'PRJEB38681']"
      ]
     },
     "execution_count": 20,
     "metadata": {},
     "output_type": "execute_result"
    }
   ],
   "execution_count": 20
  },
  {
   "metadata": {
    "ExecuteTime": {
     "end_time": "2025-03-11T16:31:04.819923Z",
     "start_time": "2025-03-11T16:31:04.815359Z"
    }
   },
   "cell_type": "code",
   "source": "len(bioproj_accession_values)",
   "id": "1229e3f636e99bda",
   "outputs": [
    {
     "data": {
      "text/plain": [
       "113"
      ]
     },
     "execution_count": 21,
     "metadata": {},
     "output_type": "execute_result"
    }
   ],
   "execution_count": 21
  },
  {
   "metadata": {
    "ExecuteTime": {
     "end_time": "2025-03-11T16:31:04.874185Z",
     "start_time": "2025-03-11T16:31:04.864540Z"
    }
   },
   "cell_type": "code",
   "source": [
    "if MONGO_USERNAME is not None and MONGO_PASSWORD is not None:\n",
    "    username = MONGO_USERNAME\n",
    "    password = MONGO_PASSWORD\n",
    "    host = MONGO_HOST\n",
    "    port = MONGO_PORT\n",
    "\n",
    "    # Build the connection string with authentication.\n",
    "    connection_string = f\"mongodb://{username}:{password}@{host}:{port}\"\n",
    "else:\n",
    "    # Default connection to unauthenticated MongoDB.\n",
    "    host = MONGO_HOST\n",
    "    port = MONGO_PORT\n",
    "    connection_string = f\"mongodb://{host}:{port}\"\n",
    "\n",
    "# Create the client connection.\n",
    "client = MongoClient(connection_string)"
   ],
   "id": "636a2c823a4f4bc8",
   "outputs": [],
   "execution_count": 22
  },
  {
   "metadata": {
    "ExecuteTime": {
     "end_time": "2025-03-11T16:31:04.915049Z",
     "start_time": "2025-03-11T16:31:04.912399Z"
    }
   },
   "cell_type": "code",
   "source": [
    "# --------------------------\n",
    "# Select Database\n",
    "# --------------------------\n",
    "\n",
    "db = client[MONGO_DATABASE]  # Dynamically select database\n"
   ],
   "id": "5f96fb4b77a80ef",
   "outputs": [],
   "execution_count": 23
  },
  {
   "metadata": {
    "ExecuteTime": {
     "end_time": "2025-03-11T16:31:04.962232Z",
     "start_time": "2025-03-11T16:31:04.959484Z"
    }
   },
   "cell_type": "code",
   "source": "biosamples_bioprojects_collection = db[BIOSAMPLES_BIOPROJECTS_COLLECTION]",
   "id": "d1cb85a80a4d6930",
   "outputs": [],
   "execution_count": 24
  },
  {
   "metadata": {
    "ExecuteTime": {
     "end_time": "2025-03-11T16:31:05.007959Z",
     "start_time": "2025-03-11T16:31:05.005442Z"
    }
   },
   "cell_type": "code",
   "source": [
    "# MongoDB query using the `$in` operator\n",
    "query = {\"bioproject_accession\": {\"$in\": bioproj_accession_values}}"
   ],
   "id": "e0d7c2457f7f7411",
   "outputs": [],
   "execution_count": 25
  },
  {
   "metadata": {
    "ExecuteTime": {
     "end_time": "2025-03-11T16:31:05.138967Z",
     "start_time": "2025-03-11T16:31:05.051332Z"
    }
   },
   "cell_type": "code",
   "source": [
    "# Fetch matching documents\n",
    "wishlist_biosamples_bioprojects = list(biosamples_bioprojects_collection.find(query))\n"
   ],
   "id": "b26f8d10e3e001fa",
   "outputs": [],
   "execution_count": 26
  },
  {
   "metadata": {
    "ExecuteTime": {
     "end_time": "2025-03-11T16:31:05.154354Z",
     "start_time": "2025-03-11T16:31:05.150985Z"
    }
   },
   "cell_type": "code",
   "source": "len(wishlist_biosamples_bioprojects)",
   "id": "bc68215ce998add3",
   "outputs": [
    {
     "data": {
      "text/plain": [
       "30161"
      ]
     },
     "execution_count": 27,
     "metadata": {},
     "output_type": "execute_result"
    }
   ],
   "execution_count": 27
  },
  {
   "metadata": {
    "ExecuteTime": {
     "end_time": "2025-03-11T16:31:05.198146Z",
     "start_time": "2025-03-11T16:31:05.195022Z"
    }
   },
   "cell_type": "code",
   "source": [
    "# Print the results\n",
    "for doc in wishlist_biosamples_bioprojects[0:show_limit]:\n",
    "    print(doc)"
   ],
   "id": "83bb4d94ee5739b2",
   "outputs": [
    {
     "name": "stdout",
     "output_type": "stream",
     "text": [
      "{'_id': ObjectId('679b82323b7bd066cbcbb9f2'), 'biosample_accession': 'SAMEA30188668', 'bioproject_accession': 'PRJEB18675'}\n",
      "{'_id': ObjectId('679b82323b7bd066cbcbb9f3'), 'biosample_accession': 'SAMEA30189418', 'bioproject_accession': 'PRJEB18675'}\n",
      "{'_id': ObjectId('679b82323b7bd066cbcbb9f4'), 'biosample_accession': 'SAMEA30190168', 'bioproject_accession': 'PRJEB18675'}\n",
      "{'_id': ObjectId('679b82323b7bd066cbcbb9f5'), 'biosample_accession': 'SAMEA30190918', 'bioproject_accession': 'PRJEB18675'}\n",
      "{'_id': ObjectId('679b82323b7bd066cbcbb9f6'), 'biosample_accession': 'SAMEA30191668', 'bioproject_accession': 'PRJEB18675'}\n",
      "{'_id': ObjectId('679b82323b7bd066cbcbb9f7'), 'biosample_accession': 'SAMEA30192418', 'bioproject_accession': 'PRJEB18675'}\n",
      "{'_id': ObjectId('679b82323b7bd066cbcbb9f8'), 'biosample_accession': 'SAMEA30193168', 'bioproject_accession': 'PRJEB18675'}\n",
      "{'_id': ObjectId('679b82323b7bd066cbcbb9f9'), 'biosample_accession': 'SAMEA30193918', 'bioproject_accession': 'PRJEB18675'}\n",
      "{'_id': ObjectId('679b82323b7bd066cbcbb9fa'), 'biosample_accession': 'SAMEA30194668', 'bioproject_accession': 'PRJEB18675'}\n",
      "{'_id': ObjectId('679b82323b7bd066cbcbb9fb'), 'biosample_accession': 'SAMEA30195418', 'bioproject_accession': 'PRJEB18675'}\n"
     ]
    }
   ],
   "execution_count": 28
  },
  {
   "metadata": {
    "ExecuteTime": {
     "end_time": "2025-03-11T16:31:05.245595Z",
     "start_time": "2025-03-11T16:31:05.242809Z"
    }
   },
   "cell_type": "code",
   "source": "biosamples_collection = db[BIOSAMPLES_COLLECTION]",
   "id": "c8a2bbe50feab577",
   "outputs": [],
   "execution_count": 29
  },
  {
   "metadata": {
    "ExecuteTime": {
     "end_time": "2025-03-11T16:31:05.292966Z",
     "start_time": "2025-03-11T16:31:05.288228Z"
    }
   },
   "cell_type": "code",
   "source": [
    "# Extract the biosample_accession values\n",
    "biosample_accession_list = [item[\"biosample_accession\"] for item in wishlist_biosamples_bioprojects]"
   ],
   "id": "4622b77d8b4a7ef2",
   "outputs": [],
   "execution_count": 30
  },
  {
   "metadata": {
    "ExecuteTime": {
     "end_time": "2025-03-11T16:31:05.341294Z",
     "start_time": "2025-03-11T16:31:05.337329Z"
    }
   },
   "cell_type": "code",
   "source": "biosample_accession_list[0:show_limit]",
   "id": "3853d1a4765862a7",
   "outputs": [
    {
     "data": {
      "text/plain": [
       "['SAMEA30188668',\n",
       " 'SAMEA30189418',\n",
       " 'SAMEA30190168',\n",
       " 'SAMEA30190918',\n",
       " 'SAMEA30191668',\n",
       " 'SAMEA30192418',\n",
       " 'SAMEA30193168',\n",
       " 'SAMEA30193918',\n",
       " 'SAMEA30194668',\n",
       " 'SAMEA30195418']"
      ]
     },
     "execution_count": 31,
     "metadata": {},
     "output_type": "execute_result"
    }
   ],
   "execution_count": 31
  },
  {
   "metadata": {
    "ExecuteTime": {
     "end_time": "2025-03-11T16:31:05.388317Z",
     "start_time": "2025-03-11T16:31:05.385774Z"
    }
   },
   "cell_type": "code",
   "source": [
    "# MongoDB query using `$in`\n",
    "query = {\"accession\": {\"$in\": biosample_accession_list}}"
   ],
   "id": "99bee9d558289400",
   "outputs": [],
   "execution_count": 32
  },
  {
   "metadata": {
    "ExecuteTime": {
     "end_time": "2025-03-11T16:31:07.641777Z",
     "start_time": "2025-03-11T16:31:05.431233Z"
    }
   },
   "cell_type": "code",
   "source": [
    "# Fetch matching documents\n",
    "wishlist_biosamples = list(biosamples_collection.find(query))"
   ],
   "id": "a2947faeac984f01",
   "outputs": [],
   "execution_count": 33
  },
  {
   "metadata": {
    "ExecuteTime": {
     "end_time": "2025-03-11T16:31:07.659238Z",
     "start_time": "2025-03-11T16:31:07.655085Z"
    }
   },
   "cell_type": "code",
   "source": "len(wishlist_biosamples)",
   "id": "4247e6f24f447ef2",
   "outputs": [
    {
     "data": {
      "text/plain": [
       "30161"
      ]
     },
     "execution_count": 34,
     "metadata": {},
     "output_type": "execute_result"
    }
   ],
   "execution_count": 34
  },
  {
   "metadata": {
    "ExecuteTime": {
     "end_time": "2025-03-11T16:31:07.717469Z",
     "start_time": "2025-03-11T16:31:07.711449Z"
    }
   },
   "cell_type": "code",
   "source": "wishlist_biosamples[0]",
   "id": "389de3990156f270",
   "outputs": [
    {
     "data": {
      "text/plain": [
       "{'_id': ObjectId('677f66eb0a6241ac79325d55'),\n",
       " 'access': 'public',\n",
       " 'publication_date': '2022-06-06T00:00:00.000',\n",
       " 'last_update': '2024-06-26T10:36:46.000',\n",
       " 'submission_date': '2022-09-23T14:20:12.056',\n",
       " 'id': '30986217',\n",
       " 'accession': 'SAMEA110022181',\n",
       " 'Ids': {'Id': [{'content': 'SAMEA110022181',\n",
       "    'db': 'BioSample',\n",
       "    'is_primary': '1'},\n",
       "   {'content': 'ERS11966019', 'db': 'SRA'}]},\n",
       " 'Description': {'Title': {'content': '2'},\n",
       "  'Organism': {'taxonomy_id': '256318',\n",
       "   'taxonomy_name': 'metagenome',\n",
       "   'OrganismName': {'content': 'metagenome'}}},\n",
       " 'Owner': {'Name': {'content': 'EBI'}},\n",
       " 'Models': {'Model': {'content': 'Generic'}},\n",
       " 'Package': {'content': 'Generic.1.0', 'display_name': 'Generic'},\n",
       " 'Attributes': {'Attribute': [{'content': 'GR',\n",
       "    'attribute_name': 'Country',\n",
       "    'harmonized_name': 'geo_loc_name',\n",
       "    'display_name': 'geographic location'},\n",
       "   {'content': 'ERC000022', 'attribute_name': 'ENA-CHECKLIST'},\n",
       "   {'content': 'CEH', 'attribute_name': 'INSDC center name'},\n",
       "   {'content': 'GR2', 'attribute_name': 'Replicate_site'},\n",
       "   {'content': 'S1', 'attribute_name': 'Sampling_time'},\n",
       "   {'content': '2', 'attribute_name': 'Submitter Id'},\n",
       "   {'content': 'Ct',\n",
       "    'attribute_name': 'Treatment',\n",
       "    'harmonized_name': 'treatment',\n",
       "    'display_name': 'treatment'},\n",
       "   {'content': 'terrestrial biome',\n",
       "    'attribute_name': 'broad-scale environmental context',\n",
       "    'harmonized_name': 'env_broad_scale',\n",
       "    'display_name': 'broad-scale environmental context'},\n",
       "   {'content': '2018',\n",
       "    'attribute_name': 'collection date',\n",
       "    'harmonized_name': 'collection_date',\n",
       "    'display_name': 'collection date'},\n",
       "   {'content': '0.15',\n",
       "    'attribute_name': 'depth',\n",
       "    'harmonized_name': 'depth',\n",
       "    'display_name': 'depth'},\n",
       "   {'content': '508',\n",
       "    'attribute_name': 'elevation',\n",
       "    'harmonized_name': 'elev',\n",
       "    'display_name': 'elevation'},\n",
       "   {'content': 'soil',\n",
       "    'attribute_name': 'environmental medium',\n",
       "    'harmonized_name': 'env_medium',\n",
       "    'display_name': 'environmental medium'},\n",
       "   {'content': 'Greece',\n",
       "    'attribute_name': 'geographic location (country and/or sea)',\n",
       "    'harmonized_name': 'geo_loc_name',\n",
       "    'display_name': 'geographic location'},\n",
       "   {'content': '40.617725',\n",
       "    'attribute_name': 'geographic location (latitude)'},\n",
       "   {'content': '23.056105',\n",
       "    'attribute_name': 'geographic location (longitude)'},\n",
       "   {'content': 'grassland biome',\n",
       "    'attribute_name': 'local environmental context'},\n",
       "   {'content': 'water',\n",
       "    'attribute_name': 'pH method',\n",
       "    'harmonized_name': 'ph_meth',\n",
       "    'display_name': 'pH method'},\n",
       "   {'content': 'Disturbance Grassland Soils',\n",
       "    'attribute_name': 'project name',\n",
       "    'harmonized_name': 'project_name',\n",
       "    'display_name': 'project name'},\n",
       "   {'content': '2',\n",
       "    'attribute_name': 'sample name',\n",
       "    'harmonized_name': 'sample_name',\n",
       "    'display_name': 'sample name'},\n",
       "   {'content': 'metagenome', 'attribute_name': 'scientific_name'},\n",
       "   {'content': '24.14989591',\n",
       "    'attribute_name': 'water content',\n",
       "    'harmonized_name': 'water_content',\n",
       "    'display_name': 'water content'},\n",
       "   {'content': 'g/g', 'attribute_name': 'water content method'}]},\n",
       " 'Status': {'status': 'live', 'when': '2022-09-23T14:20:12.059'}}"
      ]
     },
     "execution_count": 35,
     "metadata": {},
     "output_type": "execute_result"
    }
   ],
   "execution_count": 35
  },
  {
   "metadata": {
    "ExecuteTime": {
     "end_time": "2025-03-11T16:31:07.778172Z",
     "start_time": "2025-03-11T16:31:07.769201Z"
    }
   },
   "cell_type": "code",
   "source": [
    "# Convert to dictionary for O(1) lookup\n",
    "bioproject_dict = {item[\"biosample_accession\"]: item[\"bioproject_accession\"] for item in wishlist_biosamples_bioprojects}\n"
   ],
   "id": "5aab4b691835d0b3",
   "outputs": [],
   "execution_count": 36
  },
  {
   "metadata": {
    "ExecuteTime": {
     "end_time": "2025-03-11T16:31:07.826739Z",
     "start_time": "2025-03-11T16:31:07.823959Z"
    }
   },
   "cell_type": "code",
   "source": "data = []",
   "id": "69b2724341c80887",
   "outputs": [],
   "execution_count": 37
  },
  {
   "metadata": {
    "ExecuteTime": {
     "end_time": "2025-03-11T16:31:08.118425Z",
     "start_time": "2025-03-11T16:31:07.871257Z"
    }
   },
   "cell_type": "code",
   "source": [
    "for doc in wishlist_biosamples:\n",
    "    biosample_accession = doc.get(\"accession\")\n",
    "    bioproject_accession = bioproject_dict.get(biosample_accession)\n",
    "\n",
    "    # Get attributes and ensure it's always a list\n",
    "    attributes = doc.get(\"Attributes\", {}).get(\"Attribute\", [])\n",
    "    if isinstance(attributes, dict):\n",
    "        attributes = [attributes]\n",
    "\n",
    "    # Collect attributes into a dictionary\n",
    "    attr_dict = {name: None for name in target_harmonized_names}  # Initialize with None\n",
    "    for attr in attributes:\n",
    "        harmonized_name = attr.get(\"harmonized_name\")\n",
    "        if harmonized_name in target_harmonized_names:\n",
    "            attr_dict[harmonized_name] = attr.get(\"content\")\n",
    "\n",
    "    # Append the structured row\n",
    "    data.append({\n",
    "        \"bioproject_accession\": bioproject_accession,\n",
    "        \"biosample_accession\": biosample_accession,\n",
    "        \"env_broad_scale\": attr_dict[\"env_broad_scale\"],\n",
    "        \"env_local_scale\": attr_dict[\"env_local_scale\"],\n",
    "        \"env_medium\": attr_dict[\"env_medium\"],\n",
    "    })"
   ],
   "id": "2fed141431a73fb2",
   "outputs": [],
   "execution_count": 38
  },
  {
   "metadata": {
    "ExecuteTime": {
     "end_time": "2025-03-11T16:31:08.177615Z",
     "start_time": "2025-03-11T16:31:08.139761Z"
    }
   },
   "cell_type": "code",
   "source": [
    "# Convert to pandas DataFrame\n",
    "triads_of_biosamples_frame = pd.DataFrame(data)"
   ],
   "id": "b903a4821c792104",
   "outputs": [],
   "execution_count": 39
  },
  {
   "metadata": {
    "ExecuteTime": {
     "end_time": "2025-03-11T16:31:08.203135Z",
     "start_time": "2025-03-11T16:31:08.195042Z"
    }
   },
   "cell_type": "code",
   "source": "triads_of_biosamples_frame",
   "id": "be4f3888c57449f0",
   "outputs": [
    {
     "data": {
      "text/plain": [
       "      bioproject_accession biosample_accession        env_broad_scale  \\\n",
       "0               PRJEB52753      SAMEA110022181      terrestrial biome   \n",
       "1               PRJEB52753      SAMEA110027444      terrestrial biome   \n",
       "2               PRJEB52452      SAMEA110646458           Trades Biome   \n",
       "3               PRJEB52452      SAMEA110646459           Trades Biome   \n",
       "4               PRJEB52452      SAMEA110646460           Trades Biome   \n",
       "...                    ...                 ...                    ...   \n",
       "30156         PRJNA1035643        SAMN38096308  xeric shrubland biome   \n",
       "30157         PRJNA1035643        SAMN38096309  xeric shrubland biome   \n",
       "30158         PRJNA1035643        SAMN38096310  xeric shrubland biome   \n",
       "30159         PRJNA1035643        SAMN38096311  xeric shrubland biome   \n",
       "30160         PRJNA1035643        SAMN38096312  xeric shrubland biome   \n",
       "\n",
       "                      env_local_scale  \\\n",
       "0                                None   \n",
       "1                                None   \n",
       "2                                None   \n",
       "3                                None   \n",
       "4                                None   \n",
       "...                               ...   \n",
       "30156  terrestrial environmental zone   \n",
       "30157  terrestrial environmental zone   \n",
       "30158  terrestrial environmental zone   \n",
       "30159  terrestrial environmental zone   \n",
       "30160  terrestrial environmental zone   \n",
       "\n",
       "                                              env_medium  \n",
       "0                                                   soil  \n",
       "1                                                   soil  \n",
       "2      particulate matter (ENVO:01000060), including ...  \n",
       "3      particulate matter (ENVO:01000060), including ...  \n",
       "4      particulate matter (ENVO:01000060), including ...  \n",
       "...                                                  ...  \n",
       "30156                                       surface soil  \n",
       "30157                                       surface soil  \n",
       "30158                                       surface soil  \n",
       "30159                                       surface soil  \n",
       "30160                                       surface soil  \n",
       "\n",
       "[30161 rows x 5 columns]"
      ],
      "text/html": [
       "<div>\n",
       "<style scoped>\n",
       "    .dataframe tbody tr th:only-of-type {\n",
       "        vertical-align: middle;\n",
       "    }\n",
       "\n",
       "    .dataframe tbody tr th {\n",
       "        vertical-align: top;\n",
       "    }\n",
       "\n",
       "    .dataframe thead th {\n",
       "        text-align: right;\n",
       "    }\n",
       "</style>\n",
       "<table border=\"1\" class=\"dataframe\">\n",
       "  <thead>\n",
       "    <tr style=\"text-align: right;\">\n",
       "      <th></th>\n",
       "      <th>bioproject_accession</th>\n",
       "      <th>biosample_accession</th>\n",
       "      <th>env_broad_scale</th>\n",
       "      <th>env_local_scale</th>\n",
       "      <th>env_medium</th>\n",
       "    </tr>\n",
       "  </thead>\n",
       "  <tbody>\n",
       "    <tr>\n",
       "      <th>0</th>\n",
       "      <td>PRJEB52753</td>\n",
       "      <td>SAMEA110022181</td>\n",
       "      <td>terrestrial biome</td>\n",
       "      <td>None</td>\n",
       "      <td>soil</td>\n",
       "    </tr>\n",
       "    <tr>\n",
       "      <th>1</th>\n",
       "      <td>PRJEB52753</td>\n",
       "      <td>SAMEA110027444</td>\n",
       "      <td>terrestrial biome</td>\n",
       "      <td>None</td>\n",
       "      <td>soil</td>\n",
       "    </tr>\n",
       "    <tr>\n",
       "      <th>2</th>\n",
       "      <td>PRJEB52452</td>\n",
       "      <td>SAMEA110646458</td>\n",
       "      <td>Trades Biome</td>\n",
       "      <td>None</td>\n",
       "      <td>particulate matter (ENVO:01000060), including ...</td>\n",
       "    </tr>\n",
       "    <tr>\n",
       "      <th>3</th>\n",
       "      <td>PRJEB52452</td>\n",
       "      <td>SAMEA110646459</td>\n",
       "      <td>Trades Biome</td>\n",
       "      <td>None</td>\n",
       "      <td>particulate matter (ENVO:01000060), including ...</td>\n",
       "    </tr>\n",
       "    <tr>\n",
       "      <th>4</th>\n",
       "      <td>PRJEB52452</td>\n",
       "      <td>SAMEA110646460</td>\n",
       "      <td>Trades Biome</td>\n",
       "      <td>None</td>\n",
       "      <td>particulate matter (ENVO:01000060), including ...</td>\n",
       "    </tr>\n",
       "    <tr>\n",
       "      <th>...</th>\n",
       "      <td>...</td>\n",
       "      <td>...</td>\n",
       "      <td>...</td>\n",
       "      <td>...</td>\n",
       "      <td>...</td>\n",
       "    </tr>\n",
       "    <tr>\n",
       "      <th>30156</th>\n",
       "      <td>PRJNA1035643</td>\n",
       "      <td>SAMN38096308</td>\n",
       "      <td>xeric shrubland biome</td>\n",
       "      <td>terrestrial environmental zone</td>\n",
       "      <td>surface soil</td>\n",
       "    </tr>\n",
       "    <tr>\n",
       "      <th>30157</th>\n",
       "      <td>PRJNA1035643</td>\n",
       "      <td>SAMN38096309</td>\n",
       "      <td>xeric shrubland biome</td>\n",
       "      <td>terrestrial environmental zone</td>\n",
       "      <td>surface soil</td>\n",
       "    </tr>\n",
       "    <tr>\n",
       "      <th>30158</th>\n",
       "      <td>PRJNA1035643</td>\n",
       "      <td>SAMN38096310</td>\n",
       "      <td>xeric shrubland biome</td>\n",
       "      <td>terrestrial environmental zone</td>\n",
       "      <td>surface soil</td>\n",
       "    </tr>\n",
       "    <tr>\n",
       "      <th>30159</th>\n",
       "      <td>PRJNA1035643</td>\n",
       "      <td>SAMN38096311</td>\n",
       "      <td>xeric shrubland biome</td>\n",
       "      <td>terrestrial environmental zone</td>\n",
       "      <td>surface soil</td>\n",
       "    </tr>\n",
       "    <tr>\n",
       "      <th>30160</th>\n",
       "      <td>PRJNA1035643</td>\n",
       "      <td>SAMN38096312</td>\n",
       "      <td>xeric shrubland biome</td>\n",
       "      <td>terrestrial environmental zone</td>\n",
       "      <td>surface soil</td>\n",
       "    </tr>\n",
       "  </tbody>\n",
       "</table>\n",
       "<p>30161 rows × 5 columns</p>\n",
       "</div>"
      ]
     },
     "execution_count": 40,
     "metadata": {},
     "output_type": "execute_result"
    }
   ],
   "execution_count": 40
  },
  {
   "metadata": {
    "ExecuteTime": {
     "end_time": "2025-03-11T16:31:08.299024Z",
     "start_time": "2025-03-11T16:31:08.294487Z"
    }
   },
   "cell_type": "code",
   "source": "triads_of_biosamples_frame.columns",
   "id": "68414b6011311171",
   "outputs": [
    {
     "data": {
      "text/plain": [
       "Index(['bioproject_accession', 'biosample_accession', 'env_broad_scale',\n",
       "       'env_local_scale', 'env_medium'],\n",
       "      dtype='object')"
      ]
     },
     "execution_count": 41,
     "metadata": {},
     "output_type": "execute_result"
    }
   ],
   "execution_count": 41
  },
  {
   "metadata": {
    "ExecuteTime": {
     "end_time": "2025-03-11T16:31:08.379428Z",
     "start_time": "2025-03-11T16:31:08.348542Z"
    }
   },
   "cell_type": "code",
   "source": "duck_conn = duckdb.connect(NCBI_BIOSAMPLES_DUCKDB_FILE)",
   "id": "15db4e92fa7fd7c3",
   "outputs": [],
   "execution_count": 42
  },
  {
   "metadata": {
    "ExecuteTime": {
     "end_time": "2025-03-11T16:31:08.424311Z",
     "start_time": "2025-03-11T16:31:08.418156Z"
    }
   },
   "cell_type": "code",
   "source": [
    "# Convert biosample_accession_list to a Pandas DataFrame\n",
    "accession_df = pd.DataFrame(biosample_accession_list, columns=[\"accession\"])\n"
   ],
   "id": "ab904b89bc2f7045",
   "outputs": [],
   "execution_count": 43
  },
  {
   "metadata": {},
   "cell_type": "markdown",
   "source": [
    "Get URIs mined from environmental triads from DuckDB\n",
    "\n",
    "Much of this has since been moved into notebooks/studies_exploration/ncbi_annotation_mining"
   ],
   "id": "a5f10e669fc3efb7"
  },
  {
   "metadata": {
    "ExecuteTime": {
     "end_time": "2025-03-11T16:31:08.472634Z",
     "start_time": "2025-03-11T16:31:08.463804Z"
    }
   },
   "cell_type": "code",
   "source": [
    "# Register the DataFrame as a temporary DuckDB table (in-memory, no writes to disk)\n",
    "duck_conn.register(\"accession_filter\", accession_df)"
   ],
   "id": "cc0899a31cf41f9f",
   "outputs": [
    {
     "data": {
      "text/plain": [
       "<duckdb.duckdb.DuckDBPyConnection at 0x77c1e848baf0>"
      ]
     },
     "execution_count": 44,
     "metadata": {},
     "output_type": "execute_result"
    }
   ],
   "execution_count": 44
  },
  {
   "metadata": {
    "ExecuteTime": {
     "end_time": "2025-03-11T16:31:08.525932Z",
     "start_time": "2025-03-11T16:31:08.521745Z"
    }
   },
   "cell_type": "code",
   "source": [
    "# Define the query using the registered table\n",
    "query = \"\"\"\n",
    "WITH biosample_subset AS (\n",
    "    SELECT b.id, b.accession\n",
    "    FROM main.biosample b\n",
    "    JOIN accession_filter af\n",
    "        ON b.accession = af.accession\n",
    "),\n",
    "asserted_data AS (\n",
    "    SELECT\n",
    "        b.id,\n",
    "        b.accession,\n",
    "        ctns.harmonized_name,\n",
    "        ca.curie,\n",
    "        'asserted' AS source\n",
    "    FROM\n",
    "        main.curies_asserted ca\n",
    "    JOIN main.contexts_to_normalized_strings ctns\n",
    "        ON ca.id = ctns.normalized_context_string_id\n",
    "    JOIN biosample_subset b\n",
    "        ON ctns.id = b.id\n",
    "),\n",
    "ner_data AS (\n",
    "    SELECT\n",
    "        b.id,\n",
    "        b.accession,\n",
    "        ctns.harmonized_name,\n",
    "        cn.curie,\n",
    "        cn.coverage_sum,\n",
    "        'NER' AS source\n",
    "    FROM\n",
    "        main.curies_ner cn\n",
    "    JOIN main.contexts_to_normalized_strings ctns\n",
    "        ON cn.id = ctns.normalized_context_string_id\n",
    "    JOIN biosample_subset b\n",
    "        ON ctns.id = b.id\n",
    "    WHERE\n",
    "        cn.is_longest_match = TRUE\n",
    "        AND cn.subsumed = FALSE\n",
    "),\n",
    "ranked_ner AS (\n",
    "    SELECT\n",
    "        fd.id,\n",
    "        fd.accession,\n",
    "        fd.harmonized_name,\n",
    "        fd.curie,\n",
    "        fd.source,\n",
    "        ROW_NUMBER() OVER (PARTITION BY fd.id, fd.harmonized_name ORDER BY fd.coverage_sum DESC) AS rank\n",
    "    FROM\n",
    "        ner_data fd\n",
    ")\n",
    "SELECT id, accession, harmonized_name, curie, source\n",
    "FROM asserted_data\n",
    "UNION ALL\n",
    "SELECT id, accession, harmonized_name, curie, source\n",
    "FROM ranked_ner\n",
    "WHERE rank = 1\n",
    "ORDER BY id, harmonized_name, source;\n",
    "\"\"\"\n"
   ],
   "id": "a6705c636bcb124e",
   "outputs": [],
   "execution_count": 45
  },
  {
   "metadata": {
    "ExecuteTime": {
     "end_time": "2025-03-11T16:31:09.576726Z",
     "start_time": "2025-03-11T16:31:08.570603Z"
    }
   },
   "cell_type": "code",
   "source": [
    "# Execute query and fetch results\n",
    "id_harmonized_name_best_curies = duck_conn.execute(query).fetchdf()"
   ],
   "id": "911eb16292cbb1c0",
   "outputs": [],
   "execution_count": 46
  },
  {
   "metadata": {
    "ExecuteTime": {
     "end_time": "2025-03-11T16:31:09.606842Z",
     "start_time": "2025-03-11T16:31:09.598528Z"
    }
   },
   "cell_type": "code",
   "source": "id_harmonized_name_best_curies",
   "id": "950062d20108f7fc",
   "outputs": [
    {
     "data": {
      "text/plain": [
       "             id       accession  harmonized_name          curie    source\n",
       "0       2872651    SAMEA2591063  env_broad_scale  ENVO:00000447       NER\n",
       "1       2872651    SAMEA2591063  env_broad_scale  ENVO:00000447  asserted\n",
       "2       2872651    SAMEA2591063  env_local_scale  ENVO:00002042       NER\n",
       "3       2872651    SAMEA2591063  env_local_scale  ENVO:00002042  asserted\n",
       "4       2872651    SAMEA2591063       env_medium  ENVO:01000060       NER\n",
       "...         ...             ...              ...            ...       ...\n",
       "41248  38096312    SAMN38096312  env_broad_scale  ENVO:01000218       NER\n",
       "41249  38096312    SAMN38096312  env_local_scale  ENVO:01001199       NER\n",
       "41250  38096312    SAMN38096312       env_medium  ENVO:02000059       NER\n",
       "41251  42755192  SAMEA115861732  env_broad_scale  ENVO:00000873       NER\n",
       "41252  42755192  SAMEA115861732       env_medium  ENVO:00000377       NER\n",
       "\n",
       "[41253 rows x 5 columns]"
      ],
      "text/html": [
       "<div>\n",
       "<style scoped>\n",
       "    .dataframe tbody tr th:only-of-type {\n",
       "        vertical-align: middle;\n",
       "    }\n",
       "\n",
       "    .dataframe tbody tr th {\n",
       "        vertical-align: top;\n",
       "    }\n",
       "\n",
       "    .dataframe thead th {\n",
       "        text-align: right;\n",
       "    }\n",
       "</style>\n",
       "<table border=\"1\" class=\"dataframe\">\n",
       "  <thead>\n",
       "    <tr style=\"text-align: right;\">\n",
       "      <th></th>\n",
       "      <th>id</th>\n",
       "      <th>accession</th>\n",
       "      <th>harmonized_name</th>\n",
       "      <th>curie</th>\n",
       "      <th>source</th>\n",
       "    </tr>\n",
       "  </thead>\n",
       "  <tbody>\n",
       "    <tr>\n",
       "      <th>0</th>\n",
       "      <td>2872651</td>\n",
       "      <td>SAMEA2591063</td>\n",
       "      <td>env_broad_scale</td>\n",
       "      <td>ENVO:00000447</td>\n",
       "      <td>NER</td>\n",
       "    </tr>\n",
       "    <tr>\n",
       "      <th>1</th>\n",
       "      <td>2872651</td>\n",
       "      <td>SAMEA2591063</td>\n",
       "      <td>env_broad_scale</td>\n",
       "      <td>ENVO:00000447</td>\n",
       "      <td>asserted</td>\n",
       "    </tr>\n",
       "    <tr>\n",
       "      <th>2</th>\n",
       "      <td>2872651</td>\n",
       "      <td>SAMEA2591063</td>\n",
       "      <td>env_local_scale</td>\n",
       "      <td>ENVO:00002042</td>\n",
       "      <td>NER</td>\n",
       "    </tr>\n",
       "    <tr>\n",
       "      <th>3</th>\n",
       "      <td>2872651</td>\n",
       "      <td>SAMEA2591063</td>\n",
       "      <td>env_local_scale</td>\n",
       "      <td>ENVO:00002042</td>\n",
       "      <td>asserted</td>\n",
       "    </tr>\n",
       "    <tr>\n",
       "      <th>4</th>\n",
       "      <td>2872651</td>\n",
       "      <td>SAMEA2591063</td>\n",
       "      <td>env_medium</td>\n",
       "      <td>ENVO:01000060</td>\n",
       "      <td>NER</td>\n",
       "    </tr>\n",
       "    <tr>\n",
       "      <th>...</th>\n",
       "      <td>...</td>\n",
       "      <td>...</td>\n",
       "      <td>...</td>\n",
       "      <td>...</td>\n",
       "      <td>...</td>\n",
       "    </tr>\n",
       "    <tr>\n",
       "      <th>41248</th>\n",
       "      <td>38096312</td>\n",
       "      <td>SAMN38096312</td>\n",
       "      <td>env_broad_scale</td>\n",
       "      <td>ENVO:01000218</td>\n",
       "      <td>NER</td>\n",
       "    </tr>\n",
       "    <tr>\n",
       "      <th>41249</th>\n",
       "      <td>38096312</td>\n",
       "      <td>SAMN38096312</td>\n",
       "      <td>env_local_scale</td>\n",
       "      <td>ENVO:01001199</td>\n",
       "      <td>NER</td>\n",
       "    </tr>\n",
       "    <tr>\n",
       "      <th>41250</th>\n",
       "      <td>38096312</td>\n",
       "      <td>SAMN38096312</td>\n",
       "      <td>env_medium</td>\n",
       "      <td>ENVO:02000059</td>\n",
       "      <td>NER</td>\n",
       "    </tr>\n",
       "    <tr>\n",
       "      <th>41251</th>\n",
       "      <td>42755192</td>\n",
       "      <td>SAMEA115861732</td>\n",
       "      <td>env_broad_scale</td>\n",
       "      <td>ENVO:00000873</td>\n",
       "      <td>NER</td>\n",
       "    </tr>\n",
       "    <tr>\n",
       "      <th>41252</th>\n",
       "      <td>42755192</td>\n",
       "      <td>SAMEA115861732</td>\n",
       "      <td>env_medium</td>\n",
       "      <td>ENVO:00000377</td>\n",
       "      <td>NER</td>\n",
       "    </tr>\n",
       "  </tbody>\n",
       "</table>\n",
       "<p>41253 rows × 5 columns</p>\n",
       "</div>"
      ]
     },
     "execution_count": 47,
     "metadata": {},
     "output_type": "execute_result"
    }
   ],
   "execution_count": 47
  },
  {
   "metadata": {
    "ExecuteTime": {
     "end_time": "2025-03-11T16:31:09.712062Z",
     "start_time": "2025-03-11T16:31:09.681117Z"
    }
   },
   "cell_type": "code",
   "source": "envo_adapter = get_adapter(envo_adapter_string)",
   "id": "98f9d21a4875f50b",
   "outputs": [],
   "execution_count": 48
  },
  {
   "metadata": {
    "ExecuteTime": {
     "end_time": "2025-03-11T16:31:09.728201Z",
     "start_time": "2025-03-11T16:31:09.722311Z"
    }
   },
   "cell_type": "code",
   "source": [
    "# Extract unique EnvO CURIEs\n",
    "all_mined_curies = id_harmonized_name_best_curies[\"curie\"].unique()\n"
   ],
   "id": "fa462929e5fccf0f",
   "outputs": [],
   "execution_count": 49
  },
  {
   "metadata": {
    "ExecuteTime": {
     "end_time": "2025-03-11T16:31:09.786549Z",
     "start_time": "2025-03-11T16:31:09.783270Z"
    }
   },
   "cell_type": "code",
   "source": [
    "# Fetch labels for all EnvO classes\n",
    "all_mined_curie_labels = {}"
   ],
   "id": "d3480a9fc451fe5b",
   "outputs": [],
   "execution_count": 50
  },
  {
   "metadata": {
    "ExecuteTime": {
     "end_time": "2025-03-11T16:31:09.916956Z",
     "start_time": "2025-03-11T16:31:09.851707Z"
    }
   },
   "cell_type": "code",
   "source": [
    "for curie in all_mined_curies:\n",
    "    label = envo_adapter.label(curie)\n",
    "    if label:\n",
    "        all_mined_curie_labels[curie] = label"
   ],
   "id": "136b6f15ebf333dd",
   "outputs": [],
   "execution_count": 51
  },
  {
   "metadata": {
    "ExecuteTime": {
     "end_time": "2025-03-11T16:31:09.953767Z",
     "start_time": "2025-03-11T16:31:09.938237Z"
    }
   },
   "cell_type": "code",
   "source": [
    "id_harmonized_name_best_curies[\"curie_label\"] = id_harmonized_name_best_curies[\"curie\"].map(\n",
    "    lambda curie: f\"{all_mined_curie_labels.get(curie, 'Unknown')} [{curie}]\"\n",
    ")"
   ],
   "id": "7f83bc71fcdfb146",
   "outputs": [],
   "execution_count": 52
  },
  {
   "metadata": {
    "ExecuteTime": {
     "end_time": "2025-03-11T16:31:10.010470Z",
     "start_time": "2025-03-11T16:31:09.999432Z"
    }
   },
   "cell_type": "code",
   "source": [
    "# Map CURIEs to labels, defaulting to the CURIE itself if the label is missing\n",
    "id_harmonized_name_best_curies"
   ],
   "id": "d4672a2cd380e5d",
   "outputs": [
    {
     "data": {
      "text/plain": [
       "             id       accession  harmonized_name          curie    source  \\\n",
       "0       2872651    SAMEA2591063  env_broad_scale  ENVO:00000447       NER   \n",
       "1       2872651    SAMEA2591063  env_broad_scale  ENVO:00000447  asserted   \n",
       "2       2872651    SAMEA2591063  env_local_scale  ENVO:00002042       NER   \n",
       "3       2872651    SAMEA2591063  env_local_scale  ENVO:00002042  asserted   \n",
       "4       2872651    SAMEA2591063       env_medium  ENVO:01000060       NER   \n",
       "...         ...             ...              ...            ...       ...   \n",
       "41248  38096312    SAMN38096312  env_broad_scale  ENVO:01000218       NER   \n",
       "41249  38096312    SAMN38096312  env_local_scale  ENVO:01001199       NER   \n",
       "41250  38096312    SAMN38096312       env_medium  ENVO:02000059       NER   \n",
       "41251  42755192  SAMEA115861732  env_broad_scale  ENVO:00000873       NER   \n",
       "41252  42755192  SAMEA115861732       env_medium  ENVO:00000377       NER   \n",
       "\n",
       "                                             curie_label  \n",
       "0                           marine biome [ENVO:00000447]  \n",
       "1                           marine biome [ENVO:00000447]  \n",
       "2                          surface water [ENVO:00002042]  \n",
       "3                          surface water [ENVO:00002042]  \n",
       "4      particulate environmental material [ENVO:01000...  \n",
       "...                                                  ...  \n",
       "41248              xeric shrubland biome [ENVO:01000218]  \n",
       "41249     terrestrial environmental zone [ENVO:01001199]  \n",
       "41250                       surface soil [ENVO:02000059]  \n",
       "41251                   freshwater biome [ENVO:00000873]  \n",
       "41252                    artificial lake [ENVO:00000377]  \n",
       "\n",
       "[41253 rows x 6 columns]"
      ],
      "text/html": [
       "<div>\n",
       "<style scoped>\n",
       "    .dataframe tbody tr th:only-of-type {\n",
       "        vertical-align: middle;\n",
       "    }\n",
       "\n",
       "    .dataframe tbody tr th {\n",
       "        vertical-align: top;\n",
       "    }\n",
       "\n",
       "    .dataframe thead th {\n",
       "        text-align: right;\n",
       "    }\n",
       "</style>\n",
       "<table border=\"1\" class=\"dataframe\">\n",
       "  <thead>\n",
       "    <tr style=\"text-align: right;\">\n",
       "      <th></th>\n",
       "      <th>id</th>\n",
       "      <th>accession</th>\n",
       "      <th>harmonized_name</th>\n",
       "      <th>curie</th>\n",
       "      <th>source</th>\n",
       "      <th>curie_label</th>\n",
       "    </tr>\n",
       "  </thead>\n",
       "  <tbody>\n",
       "    <tr>\n",
       "      <th>0</th>\n",
       "      <td>2872651</td>\n",
       "      <td>SAMEA2591063</td>\n",
       "      <td>env_broad_scale</td>\n",
       "      <td>ENVO:00000447</td>\n",
       "      <td>NER</td>\n",
       "      <td>marine biome [ENVO:00000447]</td>\n",
       "    </tr>\n",
       "    <tr>\n",
       "      <th>1</th>\n",
       "      <td>2872651</td>\n",
       "      <td>SAMEA2591063</td>\n",
       "      <td>env_broad_scale</td>\n",
       "      <td>ENVO:00000447</td>\n",
       "      <td>asserted</td>\n",
       "      <td>marine biome [ENVO:00000447]</td>\n",
       "    </tr>\n",
       "    <tr>\n",
       "      <th>2</th>\n",
       "      <td>2872651</td>\n",
       "      <td>SAMEA2591063</td>\n",
       "      <td>env_local_scale</td>\n",
       "      <td>ENVO:00002042</td>\n",
       "      <td>NER</td>\n",
       "      <td>surface water [ENVO:00002042]</td>\n",
       "    </tr>\n",
       "    <tr>\n",
       "      <th>3</th>\n",
       "      <td>2872651</td>\n",
       "      <td>SAMEA2591063</td>\n",
       "      <td>env_local_scale</td>\n",
       "      <td>ENVO:00002042</td>\n",
       "      <td>asserted</td>\n",
       "      <td>surface water [ENVO:00002042]</td>\n",
       "    </tr>\n",
       "    <tr>\n",
       "      <th>4</th>\n",
       "      <td>2872651</td>\n",
       "      <td>SAMEA2591063</td>\n",
       "      <td>env_medium</td>\n",
       "      <td>ENVO:01000060</td>\n",
       "      <td>NER</td>\n",
       "      <td>particulate environmental material [ENVO:01000...</td>\n",
       "    </tr>\n",
       "    <tr>\n",
       "      <th>...</th>\n",
       "      <td>...</td>\n",
       "      <td>...</td>\n",
       "      <td>...</td>\n",
       "      <td>...</td>\n",
       "      <td>...</td>\n",
       "      <td>...</td>\n",
       "    </tr>\n",
       "    <tr>\n",
       "      <th>41248</th>\n",
       "      <td>38096312</td>\n",
       "      <td>SAMN38096312</td>\n",
       "      <td>env_broad_scale</td>\n",
       "      <td>ENVO:01000218</td>\n",
       "      <td>NER</td>\n",
       "      <td>xeric shrubland biome [ENVO:01000218]</td>\n",
       "    </tr>\n",
       "    <tr>\n",
       "      <th>41249</th>\n",
       "      <td>38096312</td>\n",
       "      <td>SAMN38096312</td>\n",
       "      <td>env_local_scale</td>\n",
       "      <td>ENVO:01001199</td>\n",
       "      <td>NER</td>\n",
       "      <td>terrestrial environmental zone [ENVO:01001199]</td>\n",
       "    </tr>\n",
       "    <tr>\n",
       "      <th>41250</th>\n",
       "      <td>38096312</td>\n",
       "      <td>SAMN38096312</td>\n",
       "      <td>env_medium</td>\n",
       "      <td>ENVO:02000059</td>\n",
       "      <td>NER</td>\n",
       "      <td>surface soil [ENVO:02000059]</td>\n",
       "    </tr>\n",
       "    <tr>\n",
       "      <th>41251</th>\n",
       "      <td>42755192</td>\n",
       "      <td>SAMEA115861732</td>\n",
       "      <td>env_broad_scale</td>\n",
       "      <td>ENVO:00000873</td>\n",
       "      <td>NER</td>\n",
       "      <td>freshwater biome [ENVO:00000873]</td>\n",
       "    </tr>\n",
       "    <tr>\n",
       "      <th>41252</th>\n",
       "      <td>42755192</td>\n",
       "      <td>SAMEA115861732</td>\n",
       "      <td>env_medium</td>\n",
       "      <td>ENVO:00000377</td>\n",
       "      <td>NER</td>\n",
       "      <td>artificial lake [ENVO:00000377]</td>\n",
       "    </tr>\n",
       "  </tbody>\n",
       "</table>\n",
       "<p>41253 rows × 6 columns</p>\n",
       "</div>"
      ]
     },
     "execution_count": 53,
     "metadata": {},
     "output_type": "execute_result"
    }
   ],
   "execution_count": 53
  },
  {
   "metadata": {
    "ExecuteTime": {
     "end_time": "2025-03-11T16:31:11.015782Z",
     "start_time": "2025-03-11T16:31:10.094697Z"
    }
   },
   "cell_type": "code",
   "source": [
    "\n",
    "# Pivot so that each harmonized_name becomes a separate column\n",
    "biosample_curie_pivot = (\n",
    "    id_harmonized_name_best_curies\n",
    "    .groupby([\"id\", \"accession\", \"harmonized_name\"])[\"curie_label\"]\n",
    "    .apply(lambda x: \"; \".join(sorted(set(x))))  # Aggregate CURIe/label pairs\n",
    "    .unstack(fill_value=\"\")  # Pivot harmonized_name columns\n",
    "    .reset_index()\n",
    ")\n"
   ],
   "id": "1a4d039de550cb85",
   "outputs": [],
   "execution_count": 54
  },
  {
   "metadata": {
    "ExecuteTime": {
     "end_time": "2025-03-11T16:31:11.052730Z",
     "start_time": "2025-03-11T16:31:11.050271Z"
    }
   },
   "cell_type": "code",
   "source": [
    "# Ensure the correct column order, filling missing columns if needed\n",
    "expected_columns = [\"id\", \"accession\", \"env_broad_scale\", \"env_local_scale\", \"env_medium\"]"
   ],
   "id": "595877a7b4fe107d",
   "outputs": [],
   "execution_count": 55
  },
  {
   "metadata": {
    "ExecuteTime": {
     "end_time": "2025-03-11T16:31:11.073287Z",
     "start_time": "2025-03-11T16:31:11.070293Z"
    }
   },
   "cell_type": "code",
   "source": [
    "for col in expected_columns:\n",
    "    if col not in biosample_curie_pivot.columns:\n",
    "        biosample_curie_pivot[col] = \"\"  # Add missing harmonized_name columns"
   ],
   "id": "9f995596c059c258",
   "outputs": [],
   "execution_count": 56
  },
  {
   "metadata": {
    "ExecuteTime": {
     "end_time": "2025-03-11T16:31:11.134533Z",
     "start_time": "2025-03-11T16:31:11.131164Z"
    }
   },
   "cell_type": "code",
   "source": "biosample_curie_pivot = biosample_curie_pivot[expected_columns]  # Reorder columns",
   "id": "16e9dd1262c6e3c4",
   "outputs": [],
   "execution_count": 57
  },
  {
   "metadata": {
    "ExecuteTime": {
     "end_time": "2025-03-11T16:31:11.185072Z",
     "start_time": "2025-03-11T16:31:11.182123Z"
    }
   },
   "cell_type": "code",
   "source": [
    "# Reset column names to fix any unintended MultiIndex issues\n",
    "biosample_curie_pivot.columns.name = None  # Remove any lingering index name\n"
   ],
   "id": "a96b5067943ca081",
   "outputs": [],
   "execution_count": 58
  },
  {
   "metadata": {
    "ExecuteTime": {
     "end_time": "2025-03-11T16:31:11.233053Z",
     "start_time": "2025-03-11T16:31:11.229849Z"
    }
   },
   "cell_type": "code",
   "source": "biosample_curie_pivot = biosample_curie_pivot.rename_axis(None, axis=1)  # Remove any index label",
   "id": "3f5615f233d1dbbb",
   "outputs": [],
   "execution_count": 59
  },
  {
   "metadata": {
    "ExecuteTime": {
     "end_time": "2025-03-11T16:31:11.288688Z",
     "start_time": "2025-03-11T16:31:11.280049Z"
    }
   },
   "cell_type": "code",
   "source": "biosample_curie_pivot",
   "id": "4b861e1e1a0ee80d",
   "outputs": [
    {
     "data": {
      "text/plain": [
       "             id       accession                        env_broad_scale  \\\n",
       "0       2872651    SAMEA2591063           marine biome [ENVO:00000447]   \n",
       "1       2872652    SAMEA2611380           marine biome [ENVO:00000447]   \n",
       "2       2872653    SAMEA2591077           marine biome [ENVO:00000447]   \n",
       "3       2872654    SAMEA2591082           marine biome [ENVO:00000447]   \n",
       "4       2872655    SAMEA2611378           marine biome [ENVO:00000447]   \n",
       "...         ...             ...                                    ...   \n",
       "14681  38096309    SAMN38096309  xeric shrubland biome [ENVO:01000218]   \n",
       "14682  38096310    SAMN38096310  xeric shrubland biome [ENVO:01000218]   \n",
       "14683  38096311    SAMN38096311  xeric shrubland biome [ENVO:01000218]   \n",
       "14684  38096312    SAMN38096312  xeric shrubland biome [ENVO:01000218]   \n",
       "14685  42755192  SAMEA115861732       freshwater biome [ENVO:00000873]   \n",
       "\n",
       "                                      env_local_scale  \\\n",
       "0                       surface water [ENVO:00002042]   \n",
       "1                       surface water [ENVO:00002042]   \n",
       "2      deep chlorophyll maximum layer [ENVO:01000326]   \n",
       "3      deep chlorophyll maximum layer [ENVO:01000326]   \n",
       "4                       surface water [ENVO:00002042]   \n",
       "...                                               ...   \n",
       "14681  terrestrial environmental zone [ENVO:01001199]   \n",
       "14682  terrestrial environmental zone [ENVO:01001199]   \n",
       "14683  terrestrial environmental zone [ENVO:01001199]   \n",
       "14684  terrestrial environmental zone [ENVO:01001199]   \n",
       "14685                                                   \n",
       "\n",
       "                                              env_medium  \n",
       "0      particulate environmental material [ENVO:01000...  \n",
       "1      particulate environmental material [ENVO:01000...  \n",
       "2      particulate environmental material [ENVO:01000...  \n",
       "3      particulate environmental material [ENVO:01000...  \n",
       "4      particulate environmental material [ENVO:01000...  \n",
       "...                                                  ...  \n",
       "14681                       surface soil [ENVO:02000059]  \n",
       "14682                       surface soil [ENVO:02000059]  \n",
       "14683                       surface soil [ENVO:02000059]  \n",
       "14684                       surface soil [ENVO:02000059]  \n",
       "14685                    artificial lake [ENVO:00000377]  \n",
       "\n",
       "[14686 rows x 5 columns]"
      ],
      "text/html": [
       "<div>\n",
       "<style scoped>\n",
       "    .dataframe tbody tr th:only-of-type {\n",
       "        vertical-align: middle;\n",
       "    }\n",
       "\n",
       "    .dataframe tbody tr th {\n",
       "        vertical-align: top;\n",
       "    }\n",
       "\n",
       "    .dataframe thead th {\n",
       "        text-align: right;\n",
       "    }\n",
       "</style>\n",
       "<table border=\"1\" class=\"dataframe\">\n",
       "  <thead>\n",
       "    <tr style=\"text-align: right;\">\n",
       "      <th></th>\n",
       "      <th>id</th>\n",
       "      <th>accession</th>\n",
       "      <th>env_broad_scale</th>\n",
       "      <th>env_local_scale</th>\n",
       "      <th>env_medium</th>\n",
       "    </tr>\n",
       "  </thead>\n",
       "  <tbody>\n",
       "    <tr>\n",
       "      <th>0</th>\n",
       "      <td>2872651</td>\n",
       "      <td>SAMEA2591063</td>\n",
       "      <td>marine biome [ENVO:00000447]</td>\n",
       "      <td>surface water [ENVO:00002042]</td>\n",
       "      <td>particulate environmental material [ENVO:01000...</td>\n",
       "    </tr>\n",
       "    <tr>\n",
       "      <th>1</th>\n",
       "      <td>2872652</td>\n",
       "      <td>SAMEA2611380</td>\n",
       "      <td>marine biome [ENVO:00000447]</td>\n",
       "      <td>surface water [ENVO:00002042]</td>\n",
       "      <td>particulate environmental material [ENVO:01000...</td>\n",
       "    </tr>\n",
       "    <tr>\n",
       "      <th>2</th>\n",
       "      <td>2872653</td>\n",
       "      <td>SAMEA2591077</td>\n",
       "      <td>marine biome [ENVO:00000447]</td>\n",
       "      <td>deep chlorophyll maximum layer [ENVO:01000326]</td>\n",
       "      <td>particulate environmental material [ENVO:01000...</td>\n",
       "    </tr>\n",
       "    <tr>\n",
       "      <th>3</th>\n",
       "      <td>2872654</td>\n",
       "      <td>SAMEA2591082</td>\n",
       "      <td>marine biome [ENVO:00000447]</td>\n",
       "      <td>deep chlorophyll maximum layer [ENVO:01000326]</td>\n",
       "      <td>particulate environmental material [ENVO:01000...</td>\n",
       "    </tr>\n",
       "    <tr>\n",
       "      <th>4</th>\n",
       "      <td>2872655</td>\n",
       "      <td>SAMEA2611378</td>\n",
       "      <td>marine biome [ENVO:00000447]</td>\n",
       "      <td>surface water [ENVO:00002042]</td>\n",
       "      <td>particulate environmental material [ENVO:01000...</td>\n",
       "    </tr>\n",
       "    <tr>\n",
       "      <th>...</th>\n",
       "      <td>...</td>\n",
       "      <td>...</td>\n",
       "      <td>...</td>\n",
       "      <td>...</td>\n",
       "      <td>...</td>\n",
       "    </tr>\n",
       "    <tr>\n",
       "      <th>14681</th>\n",
       "      <td>38096309</td>\n",
       "      <td>SAMN38096309</td>\n",
       "      <td>xeric shrubland biome [ENVO:01000218]</td>\n",
       "      <td>terrestrial environmental zone [ENVO:01001199]</td>\n",
       "      <td>surface soil [ENVO:02000059]</td>\n",
       "    </tr>\n",
       "    <tr>\n",
       "      <th>14682</th>\n",
       "      <td>38096310</td>\n",
       "      <td>SAMN38096310</td>\n",
       "      <td>xeric shrubland biome [ENVO:01000218]</td>\n",
       "      <td>terrestrial environmental zone [ENVO:01001199]</td>\n",
       "      <td>surface soil [ENVO:02000059]</td>\n",
       "    </tr>\n",
       "    <tr>\n",
       "      <th>14683</th>\n",
       "      <td>38096311</td>\n",
       "      <td>SAMN38096311</td>\n",
       "      <td>xeric shrubland biome [ENVO:01000218]</td>\n",
       "      <td>terrestrial environmental zone [ENVO:01001199]</td>\n",
       "      <td>surface soil [ENVO:02000059]</td>\n",
       "    </tr>\n",
       "    <tr>\n",
       "      <th>14684</th>\n",
       "      <td>38096312</td>\n",
       "      <td>SAMN38096312</td>\n",
       "      <td>xeric shrubland biome [ENVO:01000218]</td>\n",
       "      <td>terrestrial environmental zone [ENVO:01001199]</td>\n",
       "      <td>surface soil [ENVO:02000059]</td>\n",
       "    </tr>\n",
       "    <tr>\n",
       "      <th>14685</th>\n",
       "      <td>42755192</td>\n",
       "      <td>SAMEA115861732</td>\n",
       "      <td>freshwater biome [ENVO:00000873]</td>\n",
       "      <td></td>\n",
       "      <td>artificial lake [ENVO:00000377]</td>\n",
       "    </tr>\n",
       "  </tbody>\n",
       "</table>\n",
       "<p>14686 rows × 5 columns</p>\n",
       "</div>"
      ]
     },
     "execution_count": 60,
     "metadata": {},
     "output_type": "execute_result"
    }
   ],
   "execution_count": 60
  },
  {
   "metadata": {
    "ExecuteTime": {
     "end_time": "2025-03-11T16:31:11.428711Z",
     "start_time": "2025-03-11T16:31:11.373717Z"
    }
   },
   "cell_type": "code",
   "source": [
    "# Perform a full outer join on biosample_accession (triads_of_biosamples_frame) and accession (biosample_curie_pivot)\n",
    "merged_df = triads_of_biosamples_frame.merge(\n",
    "    biosample_curie_pivot,\n",
    "    left_on=\"biosample_accession\",\n",
    "    right_on=\"accession\",\n",
    "    how=\"outer\",  # Ensures all rows from both DataFrames are kept\n",
    "    suffixes=(\"_asserted\", \"_mined\")  # Suffix for column disambiguation\n",
    ")\n"
   ],
   "id": "b1859dd7a622822f",
   "outputs": [],
   "execution_count": 61
  },
  {
   "metadata": {
    "ExecuteTime": {
     "end_time": "2025-03-11T16:31:11.471869Z",
     "start_time": "2025-03-11T16:31:11.468072Z"
    }
   },
   "cell_type": "code",
   "source": [
    "# Drop the duplicate \"accession\" column after merging (since it matches \"biosample_accession\")\n",
    "merged_df = merged_df.drop(columns=[\"accession\"])"
   ],
   "id": "54aee3b4c3727abd",
   "outputs": [],
   "execution_count": 62
  },
  {
   "metadata": {
    "ExecuteTime": {
     "end_time": "2025-03-11T16:31:11.538892Z",
     "start_time": "2025-03-11T16:31:11.535572Z"
    }
   },
   "cell_type": "code",
   "source": [
    "# Rename \"id\" to \"biosample_id\"\n",
    "merged_df = merged_df.rename(columns={\"id\": \"biosample_id\"})"
   ],
   "id": "6151ea9f7c8b4c4",
   "outputs": [],
   "execution_count": 63
  },
  {
   "metadata": {
    "ExecuteTime": {
     "end_time": "2025-03-11T16:31:11.603907Z",
     "start_time": "2025-03-11T16:31:11.600881Z"
    }
   },
   "cell_type": "code",
   "source": [
    "# Convert \"biosample_id\" to integer, handling potential NaNs (replace NaNs with -1 and convert)\n",
    "merged_df[\"biosample_id\"] = merged_df[\"biosample_id\"].fillna(-1).astype(int)"
   ],
   "id": "67fc3a033babf1a0",
   "outputs": [],
   "execution_count": 64
  },
  {
   "metadata": {
    "ExecuteTime": {
     "end_time": "2025-03-11T16:31:11.649465Z",
     "start_time": "2025-03-11T16:31:11.645135Z"
    }
   },
   "cell_type": "code",
   "source": [
    "# Reorder columns: Move \"biosample_id\" next to \"biosample_accession\"\n",
    "column_order = (\n",
    "    [\"bioproject_accession\", \"biosample_id\", \"biosample_accession\"] +\n",
    "    [col for col in merged_df.columns if col not in [\"bioproject_accession\", \"biosample_id\", \"biosample_accession\"]]\n",
    ")"
   ],
   "id": "e637a7ef644211d9",
   "outputs": [],
   "execution_count": 65
  },
  {
   "metadata": {
    "ExecuteTime": {
     "end_time": "2025-03-11T16:31:11.699113Z",
     "start_time": "2025-03-11T16:31:11.694726Z"
    }
   },
   "cell_type": "code",
   "source": "merged_df = merged_df[column_order]",
   "id": "589fc18dccea31d9",
   "outputs": [],
   "execution_count": 66
  },
  {
   "metadata": {
    "ExecuteTime": {
     "end_time": "2025-03-11T16:31:11.756762Z",
     "start_time": "2025-03-11T16:31:11.742685Z"
    }
   },
   "cell_type": "code",
   "source": "merged_df",
   "id": "62b829427360d934",
   "outputs": [
    {
     "data": {
      "text/plain": [
       "      bioproject_accession  biosample_id biosample_accession  \\\n",
       "0               PRJEB52753      30986217      SAMEA110022181   \n",
       "1               PRJEB52753      30986218      SAMEA110027444   \n",
       "2               PRJEB52452      33205310      SAMEA110646458   \n",
       "3               PRJEB52452      33205311      SAMEA110646459   \n",
       "4               PRJEB52452      33205312      SAMEA110646460   \n",
       "...                    ...           ...                 ...   \n",
       "30156         PRJNA1035643      38096308        SAMN38096308   \n",
       "30157         PRJNA1035643      38096309        SAMN38096309   \n",
       "30158         PRJNA1035643      38096310        SAMN38096310   \n",
       "30159         PRJNA1035643      38096311        SAMN38096311   \n",
       "30160         PRJNA1035643      38096312        SAMN38096312   \n",
       "\n",
       "      env_broad_scale_asserted        env_local_scale_asserted  \\\n",
       "0            terrestrial biome                            None   \n",
       "1            terrestrial biome                            None   \n",
       "2                 Trades Biome                            None   \n",
       "3                 Trades Biome                            None   \n",
       "4                 Trades Biome                            None   \n",
       "...                        ...                             ...   \n",
       "30156    xeric shrubland biome  terrestrial environmental zone   \n",
       "30157    xeric shrubland biome  terrestrial environmental zone   \n",
       "30158    xeric shrubland biome  terrestrial environmental zone   \n",
       "30159    xeric shrubland biome  terrestrial environmental zone   \n",
       "30160    xeric shrubland biome  terrestrial environmental zone   \n",
       "\n",
       "                                     env_medium_asserted  \\\n",
       "0                                                   soil   \n",
       "1                                                   soil   \n",
       "2      particulate matter (ENVO:01000060), including ...   \n",
       "3      particulate matter (ENVO:01000060), including ...   \n",
       "4      particulate matter (ENVO:01000060), including ...   \n",
       "...                                                  ...   \n",
       "30156                                       surface soil   \n",
       "30157                                       surface soil   \n",
       "30158                                       surface soil   \n",
       "30159                                       surface soil   \n",
       "30160                                       surface soil   \n",
       "\n",
       "                       env_broad_scale_mined  \\\n",
       "0          terrestrial biome [ENVO:00000446]   \n",
       "1          terrestrial biome [ENVO:00000446]   \n",
       "2                      biome [ENVO:00000428]   \n",
       "3                      biome [ENVO:00000428]   \n",
       "4                      biome [ENVO:00000428]   \n",
       "...                                      ...   \n",
       "30156  xeric shrubland biome [ENVO:01000218]   \n",
       "30157  xeric shrubland biome [ENVO:01000218]   \n",
       "30158  xeric shrubland biome [ENVO:01000218]   \n",
       "30159  xeric shrubland biome [ENVO:01000218]   \n",
       "30160  xeric shrubland biome [ENVO:01000218]   \n",
       "\n",
       "                                env_local_scale_mined  \\\n",
       "0                                                       \n",
       "1                                                       \n",
       "2                                                       \n",
       "3                                                       \n",
       "4                                                       \n",
       "...                                               ...   \n",
       "30156  terrestrial environmental zone [ENVO:01001199]   \n",
       "30157  terrestrial environmental zone [ENVO:01001199]   \n",
       "30158  terrestrial environmental zone [ENVO:01001199]   \n",
       "30159  terrestrial environmental zone [ENVO:01001199]   \n",
       "30160  terrestrial environmental zone [ENVO:01001199]   \n",
       "\n",
       "                                        env_medium_mined  \n",
       "0                                   soil [ENVO:00001998]  \n",
       "1                                   soil [ENVO:00001998]  \n",
       "2      particulate environmental material [ENVO:01000...  \n",
       "3      particulate environmental material [ENVO:01000...  \n",
       "4      particulate environmental material [ENVO:01000...  \n",
       "...                                                  ...  \n",
       "30156                       surface soil [ENVO:02000059]  \n",
       "30157                       surface soil [ENVO:02000059]  \n",
       "30158                       surface soil [ENVO:02000059]  \n",
       "30159                       surface soil [ENVO:02000059]  \n",
       "30160                       surface soil [ENVO:02000059]  \n",
       "\n",
       "[30161 rows x 9 columns]"
      ],
      "text/html": [
       "<div>\n",
       "<style scoped>\n",
       "    .dataframe tbody tr th:only-of-type {\n",
       "        vertical-align: middle;\n",
       "    }\n",
       "\n",
       "    .dataframe tbody tr th {\n",
       "        vertical-align: top;\n",
       "    }\n",
       "\n",
       "    .dataframe thead th {\n",
       "        text-align: right;\n",
       "    }\n",
       "</style>\n",
       "<table border=\"1\" class=\"dataframe\">\n",
       "  <thead>\n",
       "    <tr style=\"text-align: right;\">\n",
       "      <th></th>\n",
       "      <th>bioproject_accession</th>\n",
       "      <th>biosample_id</th>\n",
       "      <th>biosample_accession</th>\n",
       "      <th>env_broad_scale_asserted</th>\n",
       "      <th>env_local_scale_asserted</th>\n",
       "      <th>env_medium_asserted</th>\n",
       "      <th>env_broad_scale_mined</th>\n",
       "      <th>env_local_scale_mined</th>\n",
       "      <th>env_medium_mined</th>\n",
       "    </tr>\n",
       "  </thead>\n",
       "  <tbody>\n",
       "    <tr>\n",
       "      <th>0</th>\n",
       "      <td>PRJEB52753</td>\n",
       "      <td>30986217</td>\n",
       "      <td>SAMEA110022181</td>\n",
       "      <td>terrestrial biome</td>\n",
       "      <td>None</td>\n",
       "      <td>soil</td>\n",
       "      <td>terrestrial biome [ENVO:00000446]</td>\n",
       "      <td></td>\n",
       "      <td>soil [ENVO:00001998]</td>\n",
       "    </tr>\n",
       "    <tr>\n",
       "      <th>1</th>\n",
       "      <td>PRJEB52753</td>\n",
       "      <td>30986218</td>\n",
       "      <td>SAMEA110027444</td>\n",
       "      <td>terrestrial biome</td>\n",
       "      <td>None</td>\n",
       "      <td>soil</td>\n",
       "      <td>terrestrial biome [ENVO:00000446]</td>\n",
       "      <td></td>\n",
       "      <td>soil [ENVO:00001998]</td>\n",
       "    </tr>\n",
       "    <tr>\n",
       "      <th>2</th>\n",
       "      <td>PRJEB52452</td>\n",
       "      <td>33205310</td>\n",
       "      <td>SAMEA110646458</td>\n",
       "      <td>Trades Biome</td>\n",
       "      <td>None</td>\n",
       "      <td>particulate matter (ENVO:01000060), including ...</td>\n",
       "      <td>biome [ENVO:00000428]</td>\n",
       "      <td></td>\n",
       "      <td>particulate environmental material [ENVO:01000...</td>\n",
       "    </tr>\n",
       "    <tr>\n",
       "      <th>3</th>\n",
       "      <td>PRJEB52452</td>\n",
       "      <td>33205311</td>\n",
       "      <td>SAMEA110646459</td>\n",
       "      <td>Trades Biome</td>\n",
       "      <td>None</td>\n",
       "      <td>particulate matter (ENVO:01000060), including ...</td>\n",
       "      <td>biome [ENVO:00000428]</td>\n",
       "      <td></td>\n",
       "      <td>particulate environmental material [ENVO:01000...</td>\n",
       "    </tr>\n",
       "    <tr>\n",
       "      <th>4</th>\n",
       "      <td>PRJEB52452</td>\n",
       "      <td>33205312</td>\n",
       "      <td>SAMEA110646460</td>\n",
       "      <td>Trades Biome</td>\n",
       "      <td>None</td>\n",
       "      <td>particulate matter (ENVO:01000060), including ...</td>\n",
       "      <td>biome [ENVO:00000428]</td>\n",
       "      <td></td>\n",
       "      <td>particulate environmental material [ENVO:01000...</td>\n",
       "    </tr>\n",
       "    <tr>\n",
       "      <th>...</th>\n",
       "      <td>...</td>\n",
       "      <td>...</td>\n",
       "      <td>...</td>\n",
       "      <td>...</td>\n",
       "      <td>...</td>\n",
       "      <td>...</td>\n",
       "      <td>...</td>\n",
       "      <td>...</td>\n",
       "      <td>...</td>\n",
       "    </tr>\n",
       "    <tr>\n",
       "      <th>30156</th>\n",
       "      <td>PRJNA1035643</td>\n",
       "      <td>38096308</td>\n",
       "      <td>SAMN38096308</td>\n",
       "      <td>xeric shrubland biome</td>\n",
       "      <td>terrestrial environmental zone</td>\n",
       "      <td>surface soil</td>\n",
       "      <td>xeric shrubland biome [ENVO:01000218]</td>\n",
       "      <td>terrestrial environmental zone [ENVO:01001199]</td>\n",
       "      <td>surface soil [ENVO:02000059]</td>\n",
       "    </tr>\n",
       "    <tr>\n",
       "      <th>30157</th>\n",
       "      <td>PRJNA1035643</td>\n",
       "      <td>38096309</td>\n",
       "      <td>SAMN38096309</td>\n",
       "      <td>xeric shrubland biome</td>\n",
       "      <td>terrestrial environmental zone</td>\n",
       "      <td>surface soil</td>\n",
       "      <td>xeric shrubland biome [ENVO:01000218]</td>\n",
       "      <td>terrestrial environmental zone [ENVO:01001199]</td>\n",
       "      <td>surface soil [ENVO:02000059]</td>\n",
       "    </tr>\n",
       "    <tr>\n",
       "      <th>30158</th>\n",
       "      <td>PRJNA1035643</td>\n",
       "      <td>38096310</td>\n",
       "      <td>SAMN38096310</td>\n",
       "      <td>xeric shrubland biome</td>\n",
       "      <td>terrestrial environmental zone</td>\n",
       "      <td>surface soil</td>\n",
       "      <td>xeric shrubland biome [ENVO:01000218]</td>\n",
       "      <td>terrestrial environmental zone [ENVO:01001199]</td>\n",
       "      <td>surface soil [ENVO:02000059]</td>\n",
       "    </tr>\n",
       "    <tr>\n",
       "      <th>30159</th>\n",
       "      <td>PRJNA1035643</td>\n",
       "      <td>38096311</td>\n",
       "      <td>SAMN38096311</td>\n",
       "      <td>xeric shrubland biome</td>\n",
       "      <td>terrestrial environmental zone</td>\n",
       "      <td>surface soil</td>\n",
       "      <td>xeric shrubland biome [ENVO:01000218]</td>\n",
       "      <td>terrestrial environmental zone [ENVO:01001199]</td>\n",
       "      <td>surface soil [ENVO:02000059]</td>\n",
       "    </tr>\n",
       "    <tr>\n",
       "      <th>30160</th>\n",
       "      <td>PRJNA1035643</td>\n",
       "      <td>38096312</td>\n",
       "      <td>SAMN38096312</td>\n",
       "      <td>xeric shrubland biome</td>\n",
       "      <td>terrestrial environmental zone</td>\n",
       "      <td>surface soil</td>\n",
       "      <td>xeric shrubland biome [ENVO:01000218]</td>\n",
       "      <td>terrestrial environmental zone [ENVO:01001199]</td>\n",
       "      <td>surface soil [ENVO:02000059]</td>\n",
       "    </tr>\n",
       "  </tbody>\n",
       "</table>\n",
       "<p>30161 rows × 9 columns</p>\n",
       "</div>"
      ]
     },
     "execution_count": 67,
     "metadata": {},
     "output_type": "execute_result"
    }
   ],
   "execution_count": 67
  },
  {
   "metadata": {
    "ExecuteTime": {
     "end_time": "2025-03-11T16:31:11.980680Z",
     "start_time": "2025-03-11T16:31:11.837945Z"
    }
   },
   "cell_type": "code",
   "source": "merged_df.to_csv(output_tsv, index=False, sep=\"\\t\")",
   "id": "ee94ea360cf91496",
   "outputs": [],
   "execution_count": 68
  },
  {
   "metadata": {
    "ExecuteTime": {
     "end_time": "2025-03-11T16:31:12.067235Z",
     "start_time": "2025-03-11T16:31:12.032118Z"
    }
   },
   "cell_type": "code",
   "source": [
    "# close duck_conn\n",
    "duck_conn.close()"
   ],
   "id": "c56aa88ee4e46a50",
   "outputs": [],
   "execution_count": 69
  },
  {
   "metadata": {},
   "cell_type": "markdown",
   "source": "Get the SRA metadata for the bioprojects of the 30k wishlist_biosamples from bigquery\n",
   "id": "d4e3dfd909a3271c"
  },
  {
   "metadata": {
    "ExecuteTime": {
     "end_time": "2025-03-11T16:31:12.098718Z",
     "start_time": "2025-03-11T16:31:12.094251Z"
    }
   },
   "cell_type": "code",
   "source": "merged_df.shape",
   "id": "285273c27de005a6",
   "outputs": [
    {
     "data": {
      "text/plain": [
       "(30161, 9)"
      ]
     },
     "execution_count": 70,
     "metadata": {},
     "output_type": "execute_result"
    }
   ],
   "execution_count": 70
  },
  {
   "metadata": {
    "ExecuteTime": {
     "end_time": "2025-03-11T16:31:12.148203Z",
     "start_time": "2025-03-11T16:31:12.145601Z"
    }
   },
   "cell_type": "code",
   "source": [
    "# Define batch size\n",
    "BATCH_SIZE = 1000  # ~ 30_000 total"
   ],
   "id": "ef13bc9ac1b0a266",
   "outputs": [],
   "execution_count": 71
  },
  {
   "metadata": {
    "ExecuteTime": {
     "end_time": "2025-03-11T16:31:12.205823Z",
     "start_time": "2025-03-11T16:31:12.203158Z"
    }
   },
   "cell_type": "code",
   "source": "# add constraint on Simon's specified SRA accessions (bioproj_accession_values) or filter afterward",
   "id": "e3c5b0502ccfb0b1",
   "outputs": [],
   "execution_count": 72
  },
  {
   "metadata": {
    "ExecuteTime": {
     "end_time": "2025-03-11T16:31:12.257303Z",
     "start_time": "2025-03-11T16:31:12.253802Z"
    }
   },
   "cell_type": "code",
   "source": [
    "# Split biosample_list into batches\n",
    "batches = [biosample_accession_list[i:i + BATCH_SIZE] for i in range(0, len(biosample_accession_list), BATCH_SIZE)]"
   ],
   "id": "b30faf82924048c",
   "outputs": [],
   "execution_count": 73
  },
  {
   "metadata": {
    "ExecuteTime": {
     "end_time": "2025-03-11T16:31:12.309621Z",
     "start_time": "2025-03-11T16:31:12.306797Z"
    }
   },
   "cell_type": "code",
   "source": [
    "# Initialize empty DataFrame to store results\n",
    "all_results = []"
   ],
   "id": "2f779698cacf2663",
   "outputs": [],
   "execution_count": 74
  },
  {
   "metadata": {
    "ExecuteTime": {
     "end_time": "2025-03-11T16:32:20.426605Z",
     "start_time": "2025-03-11T16:31:12.385102Z"
    }
   },
   "cell_type": "code",
   "source": [
    "for batch in batches:\n",
    "    query = \"\"\"\n",
    "    SELECT *\n",
    "    FROM `nih-sra-datastore.sra.metadata`\n",
    "    WHERE biosample IN UNNEST(@biosample_list)\n",
    "    \"\"\"\n",
    "\n",
    "    # Define query parameters\n",
    "    job_config = bigquery.QueryJobConfig(\n",
    "        query_parameters=[\n",
    "            bigquery.ArrayQueryParameter(\"biosample_list\", \"STRING\", batch)\n",
    "        ]\n",
    "    )\n",
    "\n",
    "    # Run query\n",
    "    query_job = bigquery_client.query(query, job_config=job_config)\n",
    "    results = query_job.result()\n",
    "\n",
    "    # Convert batch results to a DataFrame and store them\n",
    "    batch_df = results.to_dataframe()\n",
    "    all_results.append(batch_df)\n",
    "\n",
    "    print(f\"Processed batch with {len(batch)} biosamples...\")\n",
    "\n",
    "# 2 minutes @ 1000"
   ],
   "id": "2d57bdf753ae7196",
   "outputs": [
    {
     "name": "stdout",
     "output_type": "stream",
     "text": [
      "Processed batch with 1000 biosamples...\n",
      "Processed batch with 1000 biosamples...\n",
      "Processed batch with 1000 biosamples...\n",
      "Processed batch with 1000 biosamples...\n",
      "Processed batch with 1000 biosamples...\n",
      "Processed batch with 1000 biosamples...\n",
      "Processed batch with 1000 biosamples...\n",
      "Processed batch with 1000 biosamples...\n",
      "Processed batch with 1000 biosamples...\n",
      "Processed batch with 1000 biosamples...\n",
      "Processed batch with 1000 biosamples...\n",
      "Processed batch with 1000 biosamples...\n",
      "Processed batch with 1000 biosamples...\n",
      "Processed batch with 1000 biosamples...\n",
      "Processed batch with 1000 biosamples...\n",
      "Processed batch with 1000 biosamples...\n",
      "Processed batch with 1000 biosamples...\n",
      "Processed batch with 1000 biosamples...\n",
      "Processed batch with 1000 biosamples...\n",
      "Processed batch with 1000 biosamples...\n",
      "Processed batch with 1000 biosamples...\n",
      "Processed batch with 1000 biosamples...\n",
      "Processed batch with 1000 biosamples...\n",
      "Processed batch with 1000 biosamples...\n",
      "Processed batch with 1000 biosamples...\n",
      "Processed batch with 1000 biosamples...\n",
      "Processed batch with 1000 biosamples...\n",
      "Processed batch with 1000 biosamples...\n",
      "Processed batch with 1000 biosamples...\n",
      "Processed batch with 1000 biosamples...\n",
      "Processed batch with 161 biosamples...\n"
     ]
    }
   ],
   "execution_count": 75
  },
  {
   "metadata": {
    "ExecuteTime": {
     "end_time": "2025-03-11T16:32:20.530619Z",
     "start_time": "2025-03-11T16:32:20.488510Z"
    }
   },
   "cell_type": "code",
   "source": [
    "# Concatenate all batch results\n",
    "sra_metadata_frame = pd.concat(all_results, ignore_index=True)"
   ],
   "id": "2c2f25a99aedac6d",
   "outputs": [],
   "execution_count": 76
  },
  {
   "metadata": {
    "ExecuteTime": {
     "end_time": "2025-03-11T16:32:20.542866Z",
     "start_time": "2025-03-11T16:32:20.539080Z"
    }
   },
   "cell_type": "code",
   "source": "sra_metadata_frame.shape",
   "id": "9d66de35f1264255",
   "outputs": [
    {
     "data": {
      "text/plain": [
       "(67261, 37)"
      ]
     },
     "execution_count": 77,
     "metadata": {},
     "output_type": "execute_result"
    }
   ],
   "execution_count": 77
  },
  {
   "metadata": {
    "ExecuteTime": {
     "end_time": "2025-03-11T16:32:20.606623Z",
     "start_time": "2025-03-11T16:32:20.604237Z"
    }
   },
   "cell_type": "code",
   "source": "# destructively require that the bioprojects values come from Simon's Google sheet (bioproj_accession_values)",
   "id": "8f5c2e5219a4512c",
   "outputs": [],
   "execution_count": 78
  },
  {
   "metadata": {
    "ExecuteTime": {
     "end_time": "2025-03-11T16:32:20.702743Z",
     "start_time": "2025-03-11T16:32:20.665857Z"
    }
   },
   "cell_type": "code",
   "source": "sra_metadata_frame = sra_metadata_frame[sra_metadata_frame['bioproject'].isin(bioproj_accession_values)]",
   "id": "d053503603295fdb",
   "outputs": [],
   "execution_count": 79
  },
  {
   "metadata": {
    "ExecuteTime": {
     "end_time": "2025-03-11T16:32:20.822645Z",
     "start_time": "2025-03-11T16:32:20.818566Z"
    }
   },
   "cell_type": "code",
   "source": "sra_metadata_frame.shape",
   "id": "cfe41bde0c5d14b2",
   "outputs": [
    {
     "data": {
      "text/plain": [
       "(61527, 37)"
      ]
     },
     "execution_count": 80,
     "metadata": {},
     "output_type": "execute_result"
    }
   ],
   "execution_count": 80
  },
  {
   "metadata": {
    "ExecuteTime": {
     "end_time": "2025-03-11T16:32:20.869764Z",
     "start_time": "2025-03-11T16:32:20.866028Z"
    }
   },
   "cell_type": "code",
   "source": "sra_metadata_frame.columns",
   "id": "1d04dcd0b4edb6db",
   "outputs": [
    {
     "data": {
      "text/plain": [
       "Index(['acc', 'assay_type', 'center_name', 'consent', 'experiment',\n",
       "       'sample_name', 'instrument', 'librarylayout', 'libraryselection',\n",
       "       'librarysource', 'platform', 'sample_acc', 'biosample', 'organism',\n",
       "       'sra_study', 'releasedate', 'bioproject', 'mbytes', 'loaddate',\n",
       "       'avgspotlen', 'mbases', 'insertsize', 'library_name',\n",
       "       'biosamplemodel_sam', 'collection_date_sam',\n",
       "       'geo_loc_name_country_calc', 'geo_loc_name_country_continent_calc',\n",
       "       'geo_loc_name_sam', 'ena_first_public_run', 'ena_last_update_run',\n",
       "       'sample_name_sam', 'datastore_filetype', 'datastore_provider',\n",
       "       'datastore_region', 'attributes', 'run_file_version', 'jattr'],\n",
       "      dtype='object')"
      ]
     },
     "execution_count": 81,
     "metadata": {},
     "output_type": "execute_result"
    }
   ],
   "execution_count": 81
  },
  {
   "metadata": {
    "ExecuteTime": {
     "end_time": "2025-03-11T16:32:21.007025Z",
     "start_time": "2025-03-11T16:32:20.940105Z"
    }
   },
   "cell_type": "code",
   "source": "sra_metadata_frame",
   "id": "eb067615ae225e25",
   "outputs": [
    {
     "data": {
      "text/plain": [
       "               acc assay_type                                     center_name  \\\n",
       "0       ERR3191551        WGS  MAX PLANCK INSTITUTE FOR DEVELOPMENTAL BIOLOGY   \n",
       "1       ERR3191448        WGS  MAX PLANCK INSTITUTE FOR DEVELOPMENTAL BIOLOGY   \n",
       "2       ERR3191154        WGS  MAX PLANCK INSTITUTE FOR DEVELOPMENTAL BIOLOGY   \n",
       "3       ERR3191490        WGS  MAX PLANCK INSTITUTE FOR DEVELOPMENTAL BIOLOGY   \n",
       "4       ERR3191198        WGS  MAX PLANCK INSTITUTE FOR DEVELOPMENTAL BIOLOGY   \n",
       "...            ...        ...                                             ...   \n",
       "67256  SRR26458657        WGS              SOUTH CHINA AGRICULTURE UNIVERSITY   \n",
       "67257  SRR24972674        WGS                   CENTRAL QUEENSLAND UNIVERSITY   \n",
       "67258  SRR26458666        WGS              SOUTH CHINA AGRICULTURE UNIVERSITY   \n",
       "67259  SRR26458498        WGS              SOUTH CHINA AGRICULTURE UNIVERSITY   \n",
       "67260  SRR26458551        WGS              SOUTH CHINA AGRICULTURE UNIVERSITY   \n",
       "\n",
       "      consent   experiment   sample_name             instrument librarylayout  \\\n",
       "0      public   ERX3219331  SAMEA5393687    Illumina HiSeq 3000        PAIRED   \n",
       "1      public   ERX3219228  SAMEA5393583    Illumina HiSeq 3000        PAIRED   \n",
       "2      public   ERX3218934  SAMEA5393289    Illumina HiSeq 3000        PAIRED   \n",
       "3      public   ERX3219270  SAMEA5393625    Illumina HiSeq 3000        PAIRED   \n",
       "4      public   ERX3218978  SAMEA5393333    Illumina HiSeq 3000        PAIRED   \n",
       "...       ...          ...           ...                    ...           ...   \n",
       "67256  public  SRX22162494          SQS3    Illumina HiSeq 4000        PAIRED   \n",
       "67257  public  SRX20730338          P8W8  Illumina NovaSeq 6000        PAIRED   \n",
       "67258  public  SRX22162485          SRN2    Illumina HiSeq 4000        PAIRED   \n",
       "67259  public  SRX22162653         JFKT2    Illumina HiSeq 4000        PAIRED   \n",
       "67260  public  SRX22162600          SPS2    Illumina HiSeq 4000        PAIRED   \n",
       "\n",
       "         libraryselection librarysource  ...             geo_loc_name_sam  \\\n",
       "0                  RANDOM   METAGENOMIC  ...                           []   \n",
       "1                  RANDOM   METAGENOMIC  ...                           []   \n",
       "2                  RANDOM   METAGENOMIC  ...                           []   \n",
       "3                  RANDOM   METAGENOMIC  ...                           []   \n",
       "4                  RANDOM   METAGENOMIC  ...                           []   \n",
       "...                   ...           ...  ...                          ...   \n",
       "67256              RANDOM   METAGENOMIC  ...  [China:Guangdong,Guangzhou]   \n",
       "67257  size fractionation   METAGENOMIC  ...                  [Australia]   \n",
       "67258              RANDOM   METAGENOMIC  ...  [China:Guangdong,Guangzhou]   \n",
       "67259              RANDOM   METAGENOMIC  ...  [China:Guangdong,Guangzhou]   \n",
       "67260              RANDOM   METAGENOMIC  ...  [China:Guangdong,Guangzhou]   \n",
       "\n",
       "      ena_first_public_run ena_last_update_run  sample_name_sam  \\\n",
       "0             [2019-04-30]        [2019-03-05]  [NextMet68_707]   \n",
       "1             [2019-04-30]        [2019-03-05]  [NextMet20_604]   \n",
       "2             [2019-04-30]        [2019-03-05]  [NextMet28_310]   \n",
       "3             [2019-04-30]        [2019-03-05]   [NextMet4_646]   \n",
       "4             [2019-04-30]        [2019-03-05]  [NextMet68_354]   \n",
       "...                    ...                 ...              ...   \n",
       "67256                   []                  []               []   \n",
       "67257                   []                  []               []   \n",
       "67258                   []                  []               []   \n",
       "67259                   []                  []               []   \n",
       "67260                   []                  []               []   \n",
       "\n",
       "         datastore_filetype   datastore_provider  \\\n",
       "0      [fastq, run.zq, sra]  [ena, gs, ncbi, s3]   \n",
       "1      [fastq, run.zq, sra]  [ena, gs, ncbi, s3]   \n",
       "2      [fastq, run.zq, sra]  [ena, gs, ncbi, s3]   \n",
       "3      [fastq, run.zq, sra]  [ena, gs, ncbi, s3]   \n",
       "4      [fastq, run.zq, sra]  [ena, gs, ncbi, s3]   \n",
       "...                     ...                  ...   \n",
       "67256  [fastq, run.zq, sra]       [gs, ncbi, s3]   \n",
       "67257  [fastq, run.zq, sra]       [gs, ncbi, s3]   \n",
       "67258  [fastq, run.zq, sra]       [gs, ncbi, s3]   \n",
       "67259  [fastq, run.zq, sra]       [gs, ncbi, s3]   \n",
       "67260  [fastq, run.zq, sra]       [gs, ncbi, s3]   \n",
       "\n",
       "                                    datastore_region  \\\n",
       "0      [ena, gs.us-east1, ncbi.public, s3.us-east-1]   \n",
       "1      [ena, gs.us-east1, ncbi.public, s3.us-east-1]   \n",
       "2      [ena, gs.us-east1, ncbi.public, s3.us-east-1]   \n",
       "3      [ena, gs.us-east1, ncbi.public, s3.us-east-1]   \n",
       "4      [ena, gs.us-east1, ncbi.public, s3.us-east-1]   \n",
       "...                                              ...   \n",
       "67256       [gs.us-east1, ncbi.public, s3.us-east-1]   \n",
       "67257       [gs.us-east1, ncbi.public, s3.us-east-1]   \n",
       "67258       [gs.us-east1, ncbi.public, s3.us-east-1]   \n",
       "67259       [gs.us-east1, ncbi.public, s3.us-east-1]   \n",
       "67260       [gs.us-east1, ncbi.public, s3.us-east-1]   \n",
       "\n",
       "                                              attributes run_file_version  \\\n",
       "0      [{'k': 'bases', 'v': '5748832'}, {'k': 'bytes'...                1   \n",
       "1      [{'k': 'bases', 'v': '964935499'}, {'k': 'byte...                1   \n",
       "2      [{'k': 'bases', 'v': '948865850'}, {'k': 'byte...                1   \n",
       "3      [{'k': 'bases', 'v': '771458445'}, {'k': 'byte...                1   \n",
       "4      [{'k': 'bases', 'v': '8343395'}, {'k': 'bytes'...                1   \n",
       "...                                                  ...              ...   \n",
       "67256  [{'k': 'bases', 'v': '8053725900'}, {'k': 'byt...                1   \n",
       "67257  [{'k': 'bases', 'v': '6530128800'}, {'k': 'byt...                1   \n",
       "67258  [{'k': 'bases', 'v': '7498980900'}, {'k': 'byt...                1   \n",
       "67259  [{'k': 'bases', 'v': '6323503200'}, {'k': 'byt...                1   \n",
       "67260  [{'k': 'bases', 'v': '6538865400'}, {'k': 'byt...                1   \n",
       "\n",
       "                                                   jattr  \n",
       "0      {\"bases\": 5748832, \"bytes\": 2906796, \"run_file...  \n",
       "1      {\"bases\": 964935499, \"bytes\": 444915251, \"run_...  \n",
       "2      {\"bases\": 948865850, \"bytes\": 406827096, \"run_...  \n",
       "3      {\"bases\": 771458445, \"bytes\": 355104803, \"run_...  \n",
       "4      {\"bases\": 8343395, \"bytes\": 3887394, \"run_file...  \n",
       "...                                                  ...  \n",
       "67256  {\"bases\": 8053725900, \"bytes\": 2738159328, \"ru...  \n",
       "67257  {\"bases\": 6530128800, \"bytes\": 2144739401, \"ru...  \n",
       "67258  {\"bases\": 7498980900, \"bytes\": 2589548114, \"ru...  \n",
       "67259  {\"bases\": 6323503200, \"bytes\": 2154437936, \"ru...  \n",
       "67260  {\"bases\": 6538865400, \"bytes\": 2256901757, \"ru...  \n",
       "\n",
       "[61527 rows x 37 columns]"
      ],
      "text/html": [
       "<div>\n",
       "<style scoped>\n",
       "    .dataframe tbody tr th:only-of-type {\n",
       "        vertical-align: middle;\n",
       "    }\n",
       "\n",
       "    .dataframe tbody tr th {\n",
       "        vertical-align: top;\n",
       "    }\n",
       "\n",
       "    .dataframe thead th {\n",
       "        text-align: right;\n",
       "    }\n",
       "</style>\n",
       "<table border=\"1\" class=\"dataframe\">\n",
       "  <thead>\n",
       "    <tr style=\"text-align: right;\">\n",
       "      <th></th>\n",
       "      <th>acc</th>\n",
       "      <th>assay_type</th>\n",
       "      <th>center_name</th>\n",
       "      <th>consent</th>\n",
       "      <th>experiment</th>\n",
       "      <th>sample_name</th>\n",
       "      <th>instrument</th>\n",
       "      <th>librarylayout</th>\n",
       "      <th>libraryselection</th>\n",
       "      <th>librarysource</th>\n",
       "      <th>...</th>\n",
       "      <th>geo_loc_name_sam</th>\n",
       "      <th>ena_first_public_run</th>\n",
       "      <th>ena_last_update_run</th>\n",
       "      <th>sample_name_sam</th>\n",
       "      <th>datastore_filetype</th>\n",
       "      <th>datastore_provider</th>\n",
       "      <th>datastore_region</th>\n",
       "      <th>attributes</th>\n",
       "      <th>run_file_version</th>\n",
       "      <th>jattr</th>\n",
       "    </tr>\n",
       "  </thead>\n",
       "  <tbody>\n",
       "    <tr>\n",
       "      <th>0</th>\n",
       "      <td>ERR3191551</td>\n",
       "      <td>WGS</td>\n",
       "      <td>MAX PLANCK INSTITUTE FOR DEVELOPMENTAL BIOLOGY</td>\n",
       "      <td>public</td>\n",
       "      <td>ERX3219331</td>\n",
       "      <td>SAMEA5393687</td>\n",
       "      <td>Illumina HiSeq 3000</td>\n",
       "      <td>PAIRED</td>\n",
       "      <td>RANDOM</td>\n",
       "      <td>METAGENOMIC</td>\n",
       "      <td>...</td>\n",
       "      <td>[]</td>\n",
       "      <td>[2019-04-30]</td>\n",
       "      <td>[2019-03-05]</td>\n",
       "      <td>[NextMet68_707]</td>\n",
       "      <td>[fastq, run.zq, sra]</td>\n",
       "      <td>[ena, gs, ncbi, s3]</td>\n",
       "      <td>[ena, gs.us-east1, ncbi.public, s3.us-east-1]</td>\n",
       "      <td>[{'k': 'bases', 'v': '5748832'}, {'k': 'bytes'...</td>\n",
       "      <td>1</td>\n",
       "      <td>{\"bases\": 5748832, \"bytes\": 2906796, \"run_file...</td>\n",
       "    </tr>\n",
       "    <tr>\n",
       "      <th>1</th>\n",
       "      <td>ERR3191448</td>\n",
       "      <td>WGS</td>\n",
       "      <td>MAX PLANCK INSTITUTE FOR DEVELOPMENTAL BIOLOGY</td>\n",
       "      <td>public</td>\n",
       "      <td>ERX3219228</td>\n",
       "      <td>SAMEA5393583</td>\n",
       "      <td>Illumina HiSeq 3000</td>\n",
       "      <td>PAIRED</td>\n",
       "      <td>RANDOM</td>\n",
       "      <td>METAGENOMIC</td>\n",
       "      <td>...</td>\n",
       "      <td>[]</td>\n",
       "      <td>[2019-04-30]</td>\n",
       "      <td>[2019-03-05]</td>\n",
       "      <td>[NextMet20_604]</td>\n",
       "      <td>[fastq, run.zq, sra]</td>\n",
       "      <td>[ena, gs, ncbi, s3]</td>\n",
       "      <td>[ena, gs.us-east1, ncbi.public, s3.us-east-1]</td>\n",
       "      <td>[{'k': 'bases', 'v': '964935499'}, {'k': 'byte...</td>\n",
       "      <td>1</td>\n",
       "      <td>{\"bases\": 964935499, \"bytes\": 444915251, \"run_...</td>\n",
       "    </tr>\n",
       "    <tr>\n",
       "      <th>2</th>\n",
       "      <td>ERR3191154</td>\n",
       "      <td>WGS</td>\n",
       "      <td>MAX PLANCK INSTITUTE FOR DEVELOPMENTAL BIOLOGY</td>\n",
       "      <td>public</td>\n",
       "      <td>ERX3218934</td>\n",
       "      <td>SAMEA5393289</td>\n",
       "      <td>Illumina HiSeq 3000</td>\n",
       "      <td>PAIRED</td>\n",
       "      <td>RANDOM</td>\n",
       "      <td>METAGENOMIC</td>\n",
       "      <td>...</td>\n",
       "      <td>[]</td>\n",
       "      <td>[2019-04-30]</td>\n",
       "      <td>[2019-03-05]</td>\n",
       "      <td>[NextMet28_310]</td>\n",
       "      <td>[fastq, run.zq, sra]</td>\n",
       "      <td>[ena, gs, ncbi, s3]</td>\n",
       "      <td>[ena, gs.us-east1, ncbi.public, s3.us-east-1]</td>\n",
       "      <td>[{'k': 'bases', 'v': '948865850'}, {'k': 'byte...</td>\n",
       "      <td>1</td>\n",
       "      <td>{\"bases\": 948865850, \"bytes\": 406827096, \"run_...</td>\n",
       "    </tr>\n",
       "    <tr>\n",
       "      <th>3</th>\n",
       "      <td>ERR3191490</td>\n",
       "      <td>WGS</td>\n",
       "      <td>MAX PLANCK INSTITUTE FOR DEVELOPMENTAL BIOLOGY</td>\n",
       "      <td>public</td>\n",
       "      <td>ERX3219270</td>\n",
       "      <td>SAMEA5393625</td>\n",
       "      <td>Illumina HiSeq 3000</td>\n",
       "      <td>PAIRED</td>\n",
       "      <td>RANDOM</td>\n",
       "      <td>METAGENOMIC</td>\n",
       "      <td>...</td>\n",
       "      <td>[]</td>\n",
       "      <td>[2019-04-30]</td>\n",
       "      <td>[2019-03-05]</td>\n",
       "      <td>[NextMet4_646]</td>\n",
       "      <td>[fastq, run.zq, sra]</td>\n",
       "      <td>[ena, gs, ncbi, s3]</td>\n",
       "      <td>[ena, gs.us-east1, ncbi.public, s3.us-east-1]</td>\n",
       "      <td>[{'k': 'bases', 'v': '771458445'}, {'k': 'byte...</td>\n",
       "      <td>1</td>\n",
       "      <td>{\"bases\": 771458445, \"bytes\": 355104803, \"run_...</td>\n",
       "    </tr>\n",
       "    <tr>\n",
       "      <th>4</th>\n",
       "      <td>ERR3191198</td>\n",
       "      <td>WGS</td>\n",
       "      <td>MAX PLANCK INSTITUTE FOR DEVELOPMENTAL BIOLOGY</td>\n",
       "      <td>public</td>\n",
       "      <td>ERX3218978</td>\n",
       "      <td>SAMEA5393333</td>\n",
       "      <td>Illumina HiSeq 3000</td>\n",
       "      <td>PAIRED</td>\n",
       "      <td>RANDOM</td>\n",
       "      <td>METAGENOMIC</td>\n",
       "      <td>...</td>\n",
       "      <td>[]</td>\n",
       "      <td>[2019-04-30]</td>\n",
       "      <td>[2019-03-05]</td>\n",
       "      <td>[NextMet68_354]</td>\n",
       "      <td>[fastq, run.zq, sra]</td>\n",
       "      <td>[ena, gs, ncbi, s3]</td>\n",
       "      <td>[ena, gs.us-east1, ncbi.public, s3.us-east-1]</td>\n",
       "      <td>[{'k': 'bases', 'v': '8343395'}, {'k': 'bytes'...</td>\n",
       "      <td>1</td>\n",
       "      <td>{\"bases\": 8343395, \"bytes\": 3887394, \"run_file...</td>\n",
       "    </tr>\n",
       "    <tr>\n",
       "      <th>...</th>\n",
       "      <td>...</td>\n",
       "      <td>...</td>\n",
       "      <td>...</td>\n",
       "      <td>...</td>\n",
       "      <td>...</td>\n",
       "      <td>...</td>\n",
       "      <td>...</td>\n",
       "      <td>...</td>\n",
       "      <td>...</td>\n",
       "      <td>...</td>\n",
       "      <td>...</td>\n",
       "      <td>...</td>\n",
       "      <td>...</td>\n",
       "      <td>...</td>\n",
       "      <td>...</td>\n",
       "      <td>...</td>\n",
       "      <td>...</td>\n",
       "      <td>...</td>\n",
       "      <td>...</td>\n",
       "      <td>...</td>\n",
       "      <td>...</td>\n",
       "    </tr>\n",
       "    <tr>\n",
       "      <th>67256</th>\n",
       "      <td>SRR26458657</td>\n",
       "      <td>WGS</td>\n",
       "      <td>SOUTH CHINA AGRICULTURE UNIVERSITY</td>\n",
       "      <td>public</td>\n",
       "      <td>SRX22162494</td>\n",
       "      <td>SQS3</td>\n",
       "      <td>Illumina HiSeq 4000</td>\n",
       "      <td>PAIRED</td>\n",
       "      <td>RANDOM</td>\n",
       "      <td>METAGENOMIC</td>\n",
       "      <td>...</td>\n",
       "      <td>[China:Guangdong,Guangzhou]</td>\n",
       "      <td>[]</td>\n",
       "      <td>[]</td>\n",
       "      <td>[]</td>\n",
       "      <td>[fastq, run.zq, sra]</td>\n",
       "      <td>[gs, ncbi, s3]</td>\n",
       "      <td>[gs.us-east1, ncbi.public, s3.us-east-1]</td>\n",
       "      <td>[{'k': 'bases', 'v': '8053725900'}, {'k': 'byt...</td>\n",
       "      <td>1</td>\n",
       "      <td>{\"bases\": 8053725900, \"bytes\": 2738159328, \"ru...</td>\n",
       "    </tr>\n",
       "    <tr>\n",
       "      <th>67257</th>\n",
       "      <td>SRR24972674</td>\n",
       "      <td>WGS</td>\n",
       "      <td>CENTRAL QUEENSLAND UNIVERSITY</td>\n",
       "      <td>public</td>\n",
       "      <td>SRX20730338</td>\n",
       "      <td>P8W8</td>\n",
       "      <td>Illumina NovaSeq 6000</td>\n",
       "      <td>PAIRED</td>\n",
       "      <td>size fractionation</td>\n",
       "      <td>METAGENOMIC</td>\n",
       "      <td>...</td>\n",
       "      <td>[Australia]</td>\n",
       "      <td>[]</td>\n",
       "      <td>[]</td>\n",
       "      <td>[]</td>\n",
       "      <td>[fastq, run.zq, sra]</td>\n",
       "      <td>[gs, ncbi, s3]</td>\n",
       "      <td>[gs.us-east1, ncbi.public, s3.us-east-1]</td>\n",
       "      <td>[{'k': 'bases', 'v': '6530128800'}, {'k': 'byt...</td>\n",
       "      <td>1</td>\n",
       "      <td>{\"bases\": 6530128800, \"bytes\": 2144739401, \"ru...</td>\n",
       "    </tr>\n",
       "    <tr>\n",
       "      <th>67258</th>\n",
       "      <td>SRR26458666</td>\n",
       "      <td>WGS</td>\n",
       "      <td>SOUTH CHINA AGRICULTURE UNIVERSITY</td>\n",
       "      <td>public</td>\n",
       "      <td>SRX22162485</td>\n",
       "      <td>SRN2</td>\n",
       "      <td>Illumina HiSeq 4000</td>\n",
       "      <td>PAIRED</td>\n",
       "      <td>RANDOM</td>\n",
       "      <td>METAGENOMIC</td>\n",
       "      <td>...</td>\n",
       "      <td>[China:Guangdong,Guangzhou]</td>\n",
       "      <td>[]</td>\n",
       "      <td>[]</td>\n",
       "      <td>[]</td>\n",
       "      <td>[fastq, run.zq, sra]</td>\n",
       "      <td>[gs, ncbi, s3]</td>\n",
       "      <td>[gs.us-east1, ncbi.public, s3.us-east-1]</td>\n",
       "      <td>[{'k': 'bases', 'v': '7498980900'}, {'k': 'byt...</td>\n",
       "      <td>1</td>\n",
       "      <td>{\"bases\": 7498980900, \"bytes\": 2589548114, \"ru...</td>\n",
       "    </tr>\n",
       "    <tr>\n",
       "      <th>67259</th>\n",
       "      <td>SRR26458498</td>\n",
       "      <td>WGS</td>\n",
       "      <td>SOUTH CHINA AGRICULTURE UNIVERSITY</td>\n",
       "      <td>public</td>\n",
       "      <td>SRX22162653</td>\n",
       "      <td>JFKT2</td>\n",
       "      <td>Illumina HiSeq 4000</td>\n",
       "      <td>PAIRED</td>\n",
       "      <td>RANDOM</td>\n",
       "      <td>METAGENOMIC</td>\n",
       "      <td>...</td>\n",
       "      <td>[China:Guangdong,Guangzhou]</td>\n",
       "      <td>[]</td>\n",
       "      <td>[]</td>\n",
       "      <td>[]</td>\n",
       "      <td>[fastq, run.zq, sra]</td>\n",
       "      <td>[gs, ncbi, s3]</td>\n",
       "      <td>[gs.us-east1, ncbi.public, s3.us-east-1]</td>\n",
       "      <td>[{'k': 'bases', 'v': '6323503200'}, {'k': 'byt...</td>\n",
       "      <td>1</td>\n",
       "      <td>{\"bases\": 6323503200, \"bytes\": 2154437936, \"ru...</td>\n",
       "    </tr>\n",
       "    <tr>\n",
       "      <th>67260</th>\n",
       "      <td>SRR26458551</td>\n",
       "      <td>WGS</td>\n",
       "      <td>SOUTH CHINA AGRICULTURE UNIVERSITY</td>\n",
       "      <td>public</td>\n",
       "      <td>SRX22162600</td>\n",
       "      <td>SPS2</td>\n",
       "      <td>Illumina HiSeq 4000</td>\n",
       "      <td>PAIRED</td>\n",
       "      <td>RANDOM</td>\n",
       "      <td>METAGENOMIC</td>\n",
       "      <td>...</td>\n",
       "      <td>[China:Guangdong,Guangzhou]</td>\n",
       "      <td>[]</td>\n",
       "      <td>[]</td>\n",
       "      <td>[]</td>\n",
       "      <td>[fastq, run.zq, sra]</td>\n",
       "      <td>[gs, ncbi, s3]</td>\n",
       "      <td>[gs.us-east1, ncbi.public, s3.us-east-1]</td>\n",
       "      <td>[{'k': 'bases', 'v': '6538865400'}, {'k': 'byt...</td>\n",
       "      <td>1</td>\n",
       "      <td>{\"bases\": 6538865400, \"bytes\": 2256901757, \"ru...</td>\n",
       "    </tr>\n",
       "  </tbody>\n",
       "</table>\n",
       "<p>61527 rows × 37 columns</p>\n",
       "</div>"
      ]
     },
     "execution_count": 82,
     "metadata": {},
     "output_type": "execute_result"
    }
   ],
   "execution_count": 82
  },
  {
   "metadata": {
    "ExecuteTime": {
     "end_time": "2025-03-11T16:32:21.178407Z",
     "start_time": "2025-03-11T16:32:21.110490Z"
    }
   },
   "cell_type": "code",
   "source": "sra_metadata_frame_no_attrs = sra_metadata_frame.copy()",
   "id": "54284f65f709e4d3",
   "outputs": [],
   "execution_count": 83
  },
  {
   "metadata": {
    "ExecuteTime": {
     "end_time": "2025-03-11T16:32:21.226722Z",
     "start_time": "2025-03-11T16:32:21.222698Z"
    }
   },
   "cell_type": "code",
   "source": "sra_metadata_frame_no_attrs.drop(columns=[\"attributes\", \"jattr\"], inplace=True)\n",
   "id": "8e276f3009dea7d8",
   "outputs": [],
   "execution_count": 84
  },
  {
   "metadata": {
    "ExecuteTime": {
     "end_time": "2025-03-11T16:32:21.248400Z",
     "start_time": "2025-03-11T16:32:21.243969Z"
    }
   },
   "cell_type": "code",
   "source": "sra_metadata_frame_no_attrs.shape",
   "id": "a53d724749242fbb",
   "outputs": [
    {
     "data": {
      "text/plain": [
       "(61527, 35)"
      ]
     },
     "execution_count": 85,
     "metadata": {},
     "output_type": "execute_result"
    }
   ],
   "execution_count": 85
  },
  {
   "metadata": {
    "ExecuteTime": {
     "end_time": "2025-03-11T16:32:30.252584Z",
     "start_time": "2025-03-11T16:32:21.343750Z"
    }
   },
   "cell_type": "code",
   "source": [
    "sra_metadata_frame_no_attrs.to_csv(sra_metadata_frame_tsv, sep=\"\\t\", index=False)\n",
    "# 30 seconds -> large file?\n",
    "# 10 sec without attributes and jattr"
   ],
   "id": "cd908807dd5350f3",
   "outputs": [],
   "execution_count": 86
  },
  {
   "metadata": {
    "ExecuteTime": {
     "end_time": "2025-03-11T16:32:30.320966Z",
     "start_time": "2025-03-11T16:32:30.318535Z"
    }
   },
   "cell_type": "code",
   "source": "min_spot_len = 150",
   "id": "aca57fd5559b6c3f",
   "outputs": [],
   "execution_count": 87
  },
  {
   "metadata": {
    "ExecuteTime": {
     "end_time": "2025-03-11T16:32:30.387795Z",
     "start_time": "2025-03-11T16:32:30.384889Z"
    }
   },
   "cell_type": "code",
   "source": "min_mbases = 10",
   "id": "c67d5683a3313962",
   "outputs": [],
   "execution_count": 88
  },
  {
   "metadata": {
    "ExecuteTime": {
     "end_time": "2025-03-11T16:32:30.457769Z",
     "start_time": "2025-03-11T16:32:30.454995Z"
    }
   },
   "cell_type": "code",
   "source": "min_num_samples = 50",
   "id": "55f2953257b1d3ab",
   "outputs": [],
   "execution_count": 89
  },
  {
   "metadata": {
    "ExecuteTime": {
     "end_time": "2025-03-11T16:32:30.523923Z",
     "start_time": "2025-03-11T16:32:30.521239Z"
    }
   },
   "cell_type": "code",
   "source": [
    "acceptable_platforms = [\n",
    "    \"ILLUMINA\",\n",
    "]"
   ],
   "id": "6b0a14bd2b7b01d2",
   "outputs": [],
   "execution_count": 90
  },
  {
   "metadata": {
    "ExecuteTime": {
     "end_time": "2025-03-11T16:32:30.670016Z",
     "start_time": "2025-03-11T16:32:30.649351Z"
    }
   },
   "cell_type": "code",
   "source": [
    "quality_filtered = sra_metadata_frame_no_attrs[\n",
    "    (sra_metadata_frame_no_attrs['avgspotlen'] >= min_spot_len) &\n",
    "    (sra_metadata_frame_no_attrs['mbases'] >= min_mbases) &\n",
    "    (sra_metadata_frame_no_attrs['platform'].isin(acceptable_platforms))\n",
    "    ]\n"
   ],
   "id": "54572e6421bf2d14",
   "outputs": [],
   "execution_count": 91
  },
  {
   "metadata": {
    "ExecuteTime": {
     "end_time": "2025-03-11T16:32:30.677590Z",
     "start_time": "2025-03-11T16:32:30.673977Z"
    }
   },
   "cell_type": "code",
   "source": "quality_filtered.shape",
   "id": "7c347b2af8dae87f",
   "outputs": [
    {
     "data": {
      "text/plain": [
       "(53205, 35)"
      ]
     },
     "execution_count": 92,
     "metadata": {},
     "output_type": "execute_result"
    }
   ],
   "execution_count": 92
  },
  {
   "metadata": {
    "ExecuteTime": {
     "end_time": "2025-03-11T16:32:30.751637Z",
     "start_time": "2025-03-11T16:32:30.745336Z"
    }
   },
   "cell_type": "code",
   "source": "bioproject_counts = quality_filtered['bioproject'].value_counts()\n",
   "id": "c714c51a01a42d87",
   "outputs": [],
   "execution_count": 93
  },
  {
   "metadata": {
    "ExecuteTime": {
     "end_time": "2025-03-11T16:32:30.824070Z",
     "start_time": "2025-03-11T16:32:30.819327Z"
    }
   },
   "cell_type": "code",
   "source": "bioproject_counts",
   "id": "1597bea82d486e6b",
   "outputs": [
    {
     "data": {
      "text/plain": [
       "bioproject\n",
       "PRJNA385736    23712\n",
       "PRJEB62460      3527\n",
       "PRJNA781406     2226\n",
       "PRJNA656268     2126\n",
       "PRJEB34634      2076\n",
       "               ...  \n",
       "PRJNA476799       50\n",
       "PRJNA798446       50\n",
       "PRJNA691683       50\n",
       "PRJNA450295       42\n",
       "PRJEB55522         7\n",
       "Name: count, Length: 107, dtype: int64"
      ]
     },
     "execution_count": 94,
     "metadata": {},
     "output_type": "execute_result"
    }
   ],
   "execution_count": 94
  },
  {
   "metadata": {
    "ExecuteTime": {
     "end_time": "2025-03-11T16:32:30.927250Z",
     "start_time": "2025-03-11T16:32:30.924421Z"
    }
   },
   "cell_type": "code",
   "source": [
    "# Get bioprojects where count > 50\n",
    "bioprojects_to_keep = bioproject_counts[bioproject_counts >= min_num_samples].index"
   ],
   "id": "cfcee5a542733da6",
   "outputs": [],
   "execution_count": 95
  },
  {
   "metadata": {
    "ExecuteTime": {
     "end_time": "2025-03-11T16:32:30.958800Z",
     "start_time": "2025-03-11T16:32:30.935861Z"
    }
   },
   "cell_type": "code",
   "source": [
    "\n",
    "# Filter quality_filtered to keep only rows with these bioprojects\n",
    "quality_filtered_expected_bioprojs = quality_filtered[quality_filtered['bioproject'].isin(bioprojects_to_keep)]\n"
   ],
   "id": "d3fe1f36b5fe5e03",
   "outputs": [],
   "execution_count": 96
  },
  {
   "metadata": {
    "ExecuteTime": {
     "end_time": "2025-03-11T16:32:31.038795Z",
     "start_time": "2025-03-11T16:32:31.035039Z"
    }
   },
   "cell_type": "code",
   "source": "quality_filtered_expected_bioprojs.shape",
   "id": "240946f2cb0c0454",
   "outputs": [
    {
     "data": {
      "text/plain": [
       "(53156, 35)"
      ]
     },
     "execution_count": 97,
     "metadata": {},
     "output_type": "execute_result"
    }
   ],
   "execution_count": 97
  },
  {
   "metadata": {
    "ExecuteTime": {
     "end_time": "2025-03-11T16:32:31.093679Z",
     "start_time": "2025-03-11T16:32:31.090788Z"
    }
   },
   "cell_type": "code",
   "source": [
    "columns_to_count = ['assay_type', 'instrument', 'librarylayout',\n",
    "                    'libraryselection', 'librarysource', 'platform', 'organism']"
   ],
   "id": "c63874cd892cf2e7",
   "outputs": [],
   "execution_count": 98
  },
  {
   "metadata": {
    "ExecuteTime": {
     "end_time": "2025-03-11T16:32:31.236607Z",
     "start_time": "2025-03-11T16:32:31.201702Z"
    }
   },
   "cell_type": "code",
   "source": "value_counts_dict = {col: quality_filtered_expected_bioprojs[col].value_counts() for col in columns_to_count}",
   "id": "8ca82b2a5498f034",
   "outputs": [],
   "execution_count": 99
  },
  {
   "metadata": {
    "ExecuteTime": {
     "end_time": "2025-03-11T16:32:31.330141Z",
     "start_time": "2025-03-11T16:32:31.326682Z"
    }
   },
   "cell_type": "code",
   "source": [
    "# Convert value_counts Series to dictionaries\n",
    "value_counts_dict_cleaned = {col: value_counts_dict[col].to_dict() for col in value_counts_dict}\n"
   ],
   "id": "d48b0e56cd70df45",
   "outputs": [],
   "execution_count": 100
  },
  {
   "metadata": {
    "ExecuteTime": {
     "end_time": "2025-03-11T16:32:31.433871Z",
     "start_time": "2025-03-11T16:32:31.430263Z"
    }
   },
   "cell_type": "code",
   "source": [
    "# Sort inner dictionaries by count (descending)\n",
    "sorted_value_counts = {\n",
    "    col: dict(sorted(value_counts_dict_cleaned[col].items(), key=lambda item: item[1], reverse=True))\n",
    "    for col in sorted(value_counts_dict_cleaned.keys())  # Sort columns alphabetically\n",
    "}\n"
   ],
   "id": "e5886c5ab520d7d6",
   "outputs": [],
   "execution_count": 101
  },
  {
   "metadata": {
    "ExecuteTime": {
     "end_time": "2025-03-11T16:32:31.609793Z",
     "start_time": "2025-03-11T16:32:31.601801Z"
    }
   },
   "cell_type": "code",
   "source": [
    "# Dump dictionary to YAML file\n",
    "with open(value_counts_yaml, \"w\") as f:\n",
    "    yaml.dump(value_counts_dict_cleaned, f, default_flow_style=False, sort_keys=False)"
   ],
   "id": "ef288630535c9485",
   "outputs": [],
   "execution_count": 102
  },
  {
   "metadata": {
    "ExecuteTime": {
     "end_time": "2025-03-11T16:32:31.657062Z",
     "start_time": "2025-03-11T16:32:31.613960Z"
    }
   },
   "cell_type": "code",
   "source": [
    "surprise_1_frame = quality_filtered_expected_bioprojs[\n",
    "    (quality_filtered_expected_bioprojs['librarysource'] == \"METAGENOMIC\") &\n",
    "    (~quality_filtered_expected_bioprojs['organism'].str.lower().str.contains(\"metagenome\", na=False))\n",
    "]\n"
   ],
   "id": "30fc867fee5b50cf",
   "outputs": [],
   "execution_count": 103
  },
  {
   "metadata": {
    "ExecuteTime": {
     "end_time": "2025-03-11T16:32:31.743342Z",
     "start_time": "2025-03-11T16:32:31.739654Z"
    }
   },
   "cell_type": "code",
   "source": "surprise_1_frame.shape",
   "id": "752db0914e04b50c",
   "outputs": [
    {
     "data": {
      "text/plain": [
       "(1252, 35)"
      ]
     },
     "execution_count": 104,
     "metadata": {},
     "output_type": "execute_result"
    }
   ],
   "execution_count": 104
  },
  {
   "metadata": {
    "ExecuteTime": {
     "end_time": "2025-03-11T16:32:31.863471Z",
     "start_time": "2025-03-11T16:32:31.827087Z"
    }
   },
   "cell_type": "code",
   "source": [
    "surprise_2_frame = quality_filtered_expected_bioprojs[\n",
    "    (quality_filtered_expected_bioprojs['librarysource'] != \"METAGENOMIC\") &\n",
    "    (quality_filtered_expected_bioprojs['organism'].str.lower().str.contains(\"metagenome\", na=False))\n",
    "]"
   ],
   "id": "d2678a9bac8237e2",
   "outputs": [],
   "execution_count": 105
  },
  {
   "metadata": {
    "ExecuteTime": {
     "end_time": "2025-03-11T16:32:31.953713Z",
     "start_time": "2025-03-11T16:32:31.950286Z"
    }
   },
   "cell_type": "code",
   "source": "surprise_2_frame.shape",
   "id": "a9794d99ff425b96",
   "outputs": [
    {
     "data": {
      "text/plain": [
       "(20193, 35)"
      ]
     },
     "execution_count": 106,
     "metadata": {},
     "output_type": "execute_result"
    }
   ],
   "execution_count": 106
  },
  {
   "metadata": {},
   "cell_type": "markdown",
   "source": [
    "this bigquery includes some of the constraints but sill gets 24 M out of 35 M rows\n",
    "\n",
    "```sql\n",
    "WITH\n",
    "  filtered_data AS (\n",
    "  SELECT\n",
    "    bioproject\n",
    "  FROM\n",
    "    `nih-sra-datastore.sra.metadata`\n",
    "  WHERE\n",
    "    avgspotlen >= 150\n",
    "    AND mbases >= 10\n",
    "    AND platform = 'ILLUMINA'\n",
    "  GROUP BY\n",
    "    bioproject\n",
    "  HAVING\n",
    "    COUNT(*) >= 50 )\n",
    "SELECT\n",
    "  *\n",
    "FROM\n",
    "  `nih-sra-datastore.sra.metadata`\n",
    "WHERE\n",
    "  bioproject IN (\n",
    "  SELECT\n",
    "    bioproject\n",
    "  FROM\n",
    "    filtered_data);\n",
    "```"
   ],
   "id": "9702c47c2806d8d7"
  },
  {
   "metadata": {},
   "cell_type": "markdown",
   "source": [
    "use queries like this to identify the attribute names that are mapped to env_broad_scale, env_local, scale, and env_medium\n",
    "\n",
    "```js\n",
    "db.getCollection(\"your_collection\").aggregate(\n",
    "  [\n",
    "    { \"$match\": { \"Attributes.Attribute.harmonized_name\": \"env_broad_scale\" } },\n",
    "    { \"$unwind\": \"$Attributes.Attribute\" },\n",
    "    { \"$match\": { \"Attributes.Attribute.harmonized_name\": \"env_broad_scale\" } },\n",
    "    { \"$group\": { \"_id\": \"$Attributes.Attribute.attribute_name\", \"count\": { \"$sum\": 1 } } },\n",
    "    { \"$project\": { \"_id\": 0, \"attribute_name\": \"$_id\", \"count\": 1 } }\n",
    "  ],\n",
    "  { allowDiskUse: true }\n",
    ");\n",
    "```"
   ],
   "id": "fbf98e7dc7a19f36"
  }
 ],
 "metadata": {
  "kernelspec": {
   "display_name": "Python 3",
   "language": "python",
   "name": "python3"
  },
  "language_info": {
   "codemirror_mode": {
    "name": "ipython",
    "version": 2
   },
   "file_extension": ".py",
   "mimetype": "text/x-python",
   "name": "python",
   "nbconvert_exporter": "python",
   "pygments_lexer": "ipython2",
   "version": "2.7.6"
  }
 },
 "nbformat": 4,
 "nbformat_minor": 5
}
