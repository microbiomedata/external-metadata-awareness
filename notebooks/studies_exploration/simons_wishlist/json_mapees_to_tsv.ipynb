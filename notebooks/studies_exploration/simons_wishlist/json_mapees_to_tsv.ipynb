{
 "cells": [
  {
   "metadata": {
    "ExecuteTime": {
     "end_time": "2025-03-11T18:22:16.840555Z",
     "start_time": "2025-03-11T18:22:16.837511Z"
    }
   },
   "cell_type": "code",
   "source": [
    "import json\n",
    "import pandas as pd\n",
    "import re"
   ],
   "id": "dac1b37498e7ecc8",
   "outputs": [],
   "execution_count": 13
  },
  {
   "metadata": {},
   "cell_type": "markdown",
   "source": [
    "discovered via\n",
    "\n",
    "```sqlSELECT\n",
    "  attr.k AS attribute_key,\n",
    "  COUNT(*) AS count\n",
    "FROM\n",
    "  `nih-sra-datastore.sra.metadata`,\n",
    "  UNNEST(attributes) AS attr\n",
    "GROUP BY\n",
    "  attr.k\n",
    "ORDER BY\n",
    "  count DESC;\n",
    "```\n",
    "\n",
    "and\n",
    "\n",
    "```js\n",
    "db.getCollection(\"your_collection\").aggregate(\n",
    "  [\n",
    "    { \"$match\": { \"Attributes.Attribute.harmonized_name\": \"env_broad_scale\" } },\n",
    "    { \"$unwind\": \"$Attributes.Attribute\" },\n",
    "    { \"$match\": { \"Attributes.Attribute.harmonized_name\": \"env_broad_scale\" } },\n",
    "    { \"$group\": { \"_id\": \"$Attributes.Attribute.attribute_name\", \"count\": { \"$sum\": 1 } } },\n",
    "    { \"$project\": { \"_id\": 0, \"attribute_name\": \"$_id\", \"count\": 1 } }\n",
    "  ],\n",
    "  { allowDiskUse: true }\n",
    ");\n",
    "```"
   ],
   "id": "8922e27704ec9316"
  },
  {
   "metadata": {
    "ExecuteTime": {
     "end_time": "2025-03-11T18:22:17.238236Z",
     "start_time": "2025-03-11T18:22:17.234916Z"
    }
   },
   "cell_type": "code",
   "source": [
    "json_files = [\n",
    "    'env_broad_scale_mapees.json',\n",
    "    'env_local_scale_mapees.json',\n",
    "    'env_medium_mapees.json',\n",
    "]"
   ],
   "id": "8adca1aadb2bc489",
   "outputs": [],
   "execution_count": 14
  },
  {
   "metadata": {
    "ExecuteTime": {
     "end_time": "2025-03-11T18:22:17.611477Z",
     "start_time": "2025-03-11T18:22:17.608628Z"
    }
   },
   "cell_type": "code",
   "source": [
    "def normalize_name_for_sra_metadata_attribute_key(name):\n",
    "    \"\"\"Convert to lowercase and replace all punctuation and whitespace with underscores while preserving character count.\"\"\"\n",
    "    normalized = re.sub(r'[\\s\\W]', '_', name.lower())  # Replace each non-word character with a single underscore\n",
    "    return f\"{normalized}_sam\""
   ],
   "id": "361dba9589ac58d6",
   "outputs": [],
   "execution_count": 15
  },
  {
   "metadata": {
    "ExecuteTime": {
     "end_time": "2025-03-11T18:22:34.571651Z",
     "start_time": "2025-03-11T18:22:34.568739Z"
    }
   },
   "cell_type": "code",
   "source": [
    "def list_to_sql_predicate(string_list):\n",
    "    # Join the strings with commas, wrap each in quotes, and surround with parentheses\n",
    "    predicate = \"(\" + \", \".join(f\"'{item}'\" for item in string_list) + \")\"\n",
    "    return predicate\n"
   ],
   "id": "6a30363f85552c00",
   "outputs": [],
   "execution_count": 19
  },
  {
   "metadata": {
    "ExecuteTime": {
     "end_time": "2025-03-11T18:22:34.887460Z",
     "start_time": "2025-03-11T18:22:34.882658Z"
    }
   },
   "cell_type": "code",
   "source": [
    "def json_to_tsv(json_file, tsv_file):\n",
    "    # Load JSON data from file\n",
    "    with open(json_file, \"r\", encoding=\"utf-8\") as f:\n",
    "        data = json.load(f)\n",
    "\n",
    "    # Normalize names\n",
    "    for item in data:\n",
    "        item[\"normalized_name\"] = normalize_name_for_sra_metadata_attribute_key(item[\"attribute_name\"])\n",
    "\n",
    "    # Convert JSON to DataFrame\n",
    "    df = pd.DataFrame(data)\n",
    "\n",
    "    count_sum = df['count'].sum()\n",
    "    one_pct = count_sum * 0.01\n",
    "    one_pct_frame = df[df['count'] > one_pct]\n",
    "    one_pct_strings = list(one_pct_frame['normalized_name'])\n",
    "    print(list_to_sql_predicate(one_pct_strings))\n",
    "\n",
    "    # Save as TSV\n",
    "    df.to_csv(tsv_file, sep=\"\\t\", index=False)"
   ],
   "id": "3a839221099ec18",
   "outputs": [],
   "execution_count": 20
  },
  {
   "metadata": {
    "ExecuteTime": {
     "end_time": "2025-03-11T18:22:35.150499Z",
     "start_time": "2025-03-11T18:22:35.142401Z"
    }
   },
   "cell_type": "code",
   "source": [
    "for json_file in json_files:\n",
    "    tsv_file = json_file.replace(\".json\", \".tsv\")\n",
    "    print(f\"{json_file} -> {tsv_file}\")\n",
    "    json_to_tsv(json_file, tsv_file)"
   ],
   "id": "9182d8653ee6e9c8",
   "outputs": [
    {
     "name": "stdout",
     "output_type": "stream",
     "text": [
      "env_broad_scale_mapees.json -> env_broad_scale_mapees.tsv\n",
      "('env_broad_scale_sam', 'broad_scale_environmental_context_sam', 'env_biome_sam', 'env_biome_sam', 'biome_sam', 'environment__biome__sam')\n",
      "env_local_scale_mapees.json -> env_local_scale_mapees.tsv\n",
      "('feature_sam', 'env_feature_sam', 'environment__feature__sam', 'env_local_scale_sam', 'env_feature_sam')\n",
      "env_medium_mapees.json -> env_medium_mapees.tsv\n",
      "('env_material_sam', 'environment__material__sam', 'env_medium_sam', 'environmental_medium_sam', 'material_sam')\n"
     ]
    }
   ],
   "execution_count": 21
  },
  {
   "metadata": {},
   "cell_type": "markdown",
   "source": [
    "for building this kind of query\n",
    "\n",
    "```sql\n",
    "WITH filtered_data AS (\n",
    "  SELECT\n",
    "    bioproject\n",
    "  FROM\n",
    "    `nih-sra-datastore.sra.metadata`\n",
    "  WHERE\n",
    "    avgspotlen >= 150\n",
    "    AND mbases >= 10\n",
    "    AND platform = 'ILLUMINA'\n",
    "  GROUP BY\n",
    "    bioproject\n",
    "  HAVING\n",
    "    COUNT(*) >= 50\n",
    ")\n",
    "SELECT *\n",
    "FROM `nih-sra-datastore.sra.metadata` m\n",
    "WHERE\n",
    "  m.bioproject IN (SELECT bioproject FROM filtered_data)\n",
    "  -- Must contain at least one key from the broad/biome category\n",
    "  AND EXISTS (\n",
    "    SELECT 1\n",
    "    FROM UNNEST(m.attributes) AS attr\n",
    "    WHERE attr.k IN (\n",
    "      'env_broad_scale_sam',\n",
    "      'broad_scale_environmental_context_sam',\n",
    "      'env_biome_sam',\n",
    "      'biome_sam',\n",
    "      'environment__biome__sam'\n",
    "    )\n",
    "  )\n",
    "  -- Must contain at least one key from the feature/local scale category\n",
    "  AND EXISTS (\n",
    "    SELECT 1\n",
    "    FROM UNNEST(m.attributes) AS attr\n",
    "    WHERE attr.k IN (\n",
    "      'feature_sam',\n",
    "      'env_feature_sam',\n",
    "      'environment__feature__sam',\n",
    "      'env_local_scale_sam'\n",
    "    )\n",
    "  )\n",
    "  -- Must contain at least one key from the material/medium category\n",
    "  AND EXISTS (\n",
    "    SELECT 1\n",
    "    FROM UNNEST(m.attributes) AS attr\n",
    "    WHERE attr.k IN (\n",
    "      'env_material_sam',\n",
    "      'environment__material__sam',\n",
    "      'env_medium_sam',\n",
    "      'environmental_medium_sam',\n",
    "      'material_sam'\n",
    "    )\n",
    "  );\n",
    "\n",
    "```\n",
    "\n",
    "that gets 2 724 015 rows out of ~ 35 000 000 in 1311 seconds"
   ],
   "id": "2f84ef4985e059c5"
  }
 ],
 "metadata": {
  "kernelspec": {
   "display_name": "Python 3",
   "language": "python",
   "name": "python3"
  },
  "language_info": {
   "codemirror_mode": {
    "name": "ipython",
    "version": 2
   },
   "file_extension": ".py",
   "mimetype": "text/x-python",
   "name": "python",
   "nbconvert_exporter": "python",
   "pygments_lexer": "ipython2",
   "version": "2.7.6"
  }
 },
 "nbformat": 4,
 "nbformat_minor": 5
}
