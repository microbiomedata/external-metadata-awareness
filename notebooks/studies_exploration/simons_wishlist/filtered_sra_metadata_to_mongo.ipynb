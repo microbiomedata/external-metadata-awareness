{
 "cells": [
  {
   "metadata": {
    "ExecuteTime": {
     "end_time": "2025-03-11T19:33:09.048024Z",
     "start_time": "2025-03-11T19:33:08.247130Z"
    }
   },
   "cell_type": "code",
   "source": [
    "from datetime import datetime, date\n",
    "\n",
    "from google.cloud import bigquery\n",
    "from pymongo import MongoClient"
   ],
   "id": "ff63d91a2b557f5f",
   "outputs": [],
   "execution_count": 1
  },
  {
   "metadata": {
    "ExecuteTime": {
     "end_time": "2025-03-11T19:33:09.054445Z",
     "start_time": "2025-03-11T19:33:09.051520Z"
    }
   },
   "cell_type": "code",
   "source": "nmdc_gcp_project = \"nmdc-377118\"",
   "id": "f82d23c03ce49848",
   "outputs": [],
   "execution_count": 2
  },
  {
   "metadata": {
    "ExecuteTime": {
     "end_time": "2025-03-11T19:33:09.192121Z",
     "start_time": "2025-03-11T19:33:09.188548Z"
    }
   },
   "cell_type": "code",
   "source": [
    "# Function to convert datetime objects to ISO format\n",
    "def serialize_row(row):\n",
    "    row_dict = dict(row)  # Convert BigQuery Row to dict\n",
    "    for key, value in row_dict.items():\n",
    "        if isinstance(value, (datetime, date)):  # Convert both datetime and date\n",
    "            row_dict[key] = value.isoformat()\n",
    "    return row_dict"
   ],
   "id": "aeffe59dd2bcd352",
   "outputs": [],
   "execution_count": 3
  },
  {
   "metadata": {
    "ExecuteTime": {
     "end_time": "2025-03-11T19:33:10.164626Z",
     "start_time": "2025-03-11T19:33:09.641573Z"
    }
   },
   "cell_type": "code",
   "source": "bq_client = bigquery.Client(project=nmdc_gcp_project)",
   "id": "a971a02f011f1c8f",
   "outputs": [
    {
     "name": "stderr",
     "output_type": "stream",
     "text": [
      "/home/mark/gitrepos/external-metadata-awareness/.venv/lib/python3.11/site-packages/google/auth/_default.py:76: UserWarning: Your application has authenticated using end user credentials from Google Cloud SDK without a quota project. You might receive a \"quota exceeded\" or \"API not enabled\" error. See the following page for troubleshooting: https://cloud.google.com/docs/authentication/adc-troubleshooting/user-creds. \n",
      "  warnings.warn(_CLOUD_SDK_CREDENTIALS_WARNING)\n"
     ]
    }
   ],
   "execution_count": 4
  },
  {
   "metadata": {
    "ExecuteTime": {
     "end_time": "2025-03-11T19:33:10.206521Z",
     "start_time": "2025-03-11T19:33:10.198073Z"
    }
   },
   "cell_type": "code",
   "source": [
    "# Connect to MongoDB\n",
    "mongo_client = MongoClient(\"mongodb://localhost:27017/\")"
   ],
   "id": "bf511bd63eaf6f5c",
   "outputs": [],
   "execution_count": 5
  },
  {
   "metadata": {
    "ExecuteTime": {
     "end_time": "2025-03-11T19:33:11.514039Z",
     "start_time": "2025-03-11T19:33:11.511045Z"
    }
   },
   "cell_type": "code",
   "source": "db = mongo_client[\"ncbi_metadata\"]  # Change database name as needed",
   "id": "1e293afbfa974753",
   "outputs": [],
   "execution_count": 6
  },
  {
   "metadata": {
    "ExecuteTime": {
     "end_time": "2025-03-11T19:33:12.166169Z",
     "start_time": "2025-03-11T19:33:12.162991Z"
    }
   },
   "cell_type": "code",
   "source": "collection = db[\"filtered_sra_metadata\"]  # Change collection name as needed",
   "id": "aa7ae1ad3a74f7c4",
   "outputs": [],
   "execution_count": 7
  },
  {
   "metadata": {
    "ExecuteTime": {
     "end_time": "2025-03-11T19:34:18.470312Z",
     "start_time": "2025-03-11T19:34:18.466099Z"
    }
   },
   "cell_type": "code",
   "source": "collection.drop()",
   "id": "dc6a88cf0e2082b7",
   "outputs": [],
   "execution_count": 8
  },
  {
   "cell_type": "code",
   "id": "initial_id",
   "metadata": {
    "collapsed": true,
    "ExecuteTime": {
     "end_time": "2025-03-11T19:34:19.054527Z",
     "start_time": "2025-03-11T19:34:19.050287Z"
    }
   },
   "source": [
    "\n",
    "# Define your query\n",
    "query = \"\"\"\n",
    "WITH filtered_data AS (\n",
    "  SELECT bioproject\n",
    "  FROM `nih-sra-datastore.sra.metadata`\n",
    "  WHERE avgspotlen >= 150\n",
    "    AND mbases >= 10\n",
    "    AND platform = 'ILLUMINA'\n",
    "  GROUP BY bioproject\n",
    "  HAVING COUNT(*) >= 50\n",
    ")\n",
    "SELECT * EXCEPT(jattr)\n",
    "FROM `nih-sra-datastore.sra.metadata` m\n",
    "WHERE m.bioproject IN (SELECT bioproject FROM filtered_data)\n",
    "  AND EXISTS (\n",
    "    SELECT 1\n",
    "    FROM UNNEST(m.attributes) AS attr\n",
    "    WHERE attr.k IN (\n",
    "      'env_broad_scale_sam',\n",
    "      'broad_scale_environmental_context_sam',\n",
    "      'env_biome_sam',\n",
    "      'biome_sam',\n",
    "      'environment__biome__sam'\n",
    "    )\n",
    "  )\n",
    "  AND EXISTS (\n",
    "    SELECT 1\n",
    "    FROM UNNEST(m.attributes) AS attr\n",
    "    WHERE attr.k IN (\n",
    "      'feature_sam',\n",
    "      'env_feature_sam',\n",
    "      'environment__feature__sam',\n",
    "      'env_local_scale_sam'\n",
    "    )\n",
    "  )\n",
    "  AND EXISTS (\n",
    "    SELECT 1\n",
    "    FROM UNNEST(m.attributes) AS attr\n",
    "    WHERE attr.k IN (\n",
    "      'env_material_sam',\n",
    "      'environment__material__sam',\n",
    "      'env_medium_sam',\n",
    "      'environmental_medium_sam',\n",
    "      'material_sam'\n",
    "    )\n",
    "  )\n",
    "  limit 100000;\n",
    "\"\"\"\n"
   ],
   "outputs": [],
   "execution_count": 9
  },
  {
   "metadata": {
    "ExecuteTime": {
     "end_time": "2025-03-11T19:34:22.822591Z",
     "start_time": "2025-03-11T19:34:20.519476Z"
    }
   },
   "cell_type": "code",
   "source": [
    "# Run the query\n",
    "query_job = bq_client.query(query)"
   ],
   "id": "65fedbde510cd150",
   "outputs": [],
   "execution_count": 10
  },
  {
   "metadata": {
    "ExecuteTime": {
     "end_time": "2025-03-11T19:34:23.513862Z",
     "start_time": "2025-03-11T19:34:23.511006Z"
    }
   },
   "cell_type": "code",
   "source": [
    "# Process results in batches\n",
    "BATCH_SIZE = 10000  # Adjust based on performance testing"
   ],
   "id": "41eff95974df4016",
   "outputs": [],
   "execution_count": 11
  },
  {
   "metadata": {
    "ExecuteTime": {
     "end_time": "2025-03-11T19:34:24.038043Z",
     "start_time": "2025-03-11T19:34:24.035556Z"
    }
   },
   "cell_type": "code",
   "source": "batch = []",
   "id": "fd86d03b873e86bd",
   "outputs": [],
   "execution_count": 12
  },
  {
   "metadata": {
    "ExecuteTime": {
     "end_time": "2025-03-11T19:38:16.446108Z",
     "start_time": "2025-03-11T19:34:24.942566Z"
    }
   },
   "cell_type": "code",
   "source": [
    "# Stream results row-by-row\n",
    "for row in query_job:\n",
    "    batch.append(serialize_row(row))\n",
    "\n",
    "    # Insert into MongoDB in batches\n",
    "    if len(batch) >= BATCH_SIZE:\n",
    "        collection.insert_many(batch)\n",
    "        print(f\"Inserted {len(batch)} records...\")\n",
    "        batch.clear()  # Reset batch\n",
    "\n",
    "# 10 000 rows in 30 seconds\n",
    "# expect 3 million rows\n",
    "# 100 000 in 4 minutes"
   ],
   "id": "a7a5143b6b8b56bb",
   "outputs": [
    {
     "name": "stdout",
     "output_type": "stream",
     "text": [
      "Inserted 10000 records...\n",
      "Inserted 10000 records...\n",
      "Inserted 10000 records...\n",
      "Inserted 10000 records...\n",
      "Inserted 10000 records...\n",
      "Inserted 10000 records...\n",
      "Inserted 10000 records...\n",
      "Inserted 10000 records...\n",
      "Inserted 10000 records...\n",
      "Inserted 10000 records...\n"
     ]
    }
   ],
   "execution_count": 13
  },
  {
   "metadata": {
    "ExecuteTime": {
     "end_time": "2025-03-11T19:38:16.502968Z",
     "start_time": "2025-03-11T19:38:16.498619Z"
    }
   },
   "cell_type": "code",
   "source": [
    "# Insert any remaining records\n",
    "if batch:\n",
    "    collection.insert_many(batch)\n",
    "    print(f\"Inserted final {len(batch)} records...\")\n",
    "\n",
    "print(\"Data transfer complete!\")"
   ],
   "id": "9d35dbe2a795006c",
   "outputs": [
    {
     "name": "stdout",
     "output_type": "stream",
     "text": [
      "Data transfer complete!\n"
     ]
    }
   ],
   "execution_count": 14
  },
  {
   "metadata": {},
   "cell_type": "code",
   "outputs": [],
   "execution_count": null,
   "source": "",
   "id": "b666e5a8fee226d4"
  }
 ],
 "metadata": {
  "kernelspec": {
   "display_name": "Python 3",
   "language": "python",
   "name": "python3"
  },
  "language_info": {
   "codemirror_mode": {
    "name": "ipython",
    "version": 2
   },
   "file_extension": ".py",
   "mimetype": "text/x-python",
   "name": "python",
   "nbconvert_exporter": "python",
   "pygments_lexer": "ipython2",
   "version": "2.7.6"
  }
 },
 "nbformat": 4,
 "nbformat_minor": 5
}
