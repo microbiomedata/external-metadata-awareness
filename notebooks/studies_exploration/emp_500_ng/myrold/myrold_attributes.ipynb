{
 "cells": [
  {
   "metadata": {
    "ExecuteTime": {
     "end_time": "2025-02-26T02:43:15.073152Z",
     "start_time": "2025-02-26T02:43:14.988418Z"
    }
   },
   "cell_type": "code",
   "source": [
    "from pymongo import MongoClient\n",
    "import csv"
   ],
   "id": "f2d62042c6245e5",
   "outputs": [],
   "execution_count": 1
  },
  {
   "metadata": {
    "ExecuteTime": {
     "end_time": "2025-02-26T02:43:15.078892Z",
     "start_time": "2025-02-26T02:43:15.076374Z"
    }
   },
   "cell_type": "code",
   "source": [
    "# Save the list of dicts to a TSV file\n",
    "tsv_file_path = \"myrold_attributes.tsv\""
   ],
   "id": "403db6bf9e142ba8",
   "outputs": [],
   "execution_count": 2
  },
  {
   "metadata": {
    "ExecuteTime": {
     "end_time": "2025-02-26T02:43:15.206112Z",
     "start_time": "2025-02-26T02:43:15.199516Z"
    }
   },
   "cell_type": "code",
   "source": [
    "# Connect to the local MongoDB instance (no authentication)\n",
    "client = MongoClient(\"mongodb://localhost:27017/\")"
   ],
   "id": "ae51c9e1e9e1ec5a",
   "outputs": [],
   "execution_count": 3
  },
  {
   "metadata": {
    "ExecuteTime": {
     "end_time": "2025-02-26T02:43:15.244580Z",
     "start_time": "2025-02-26T02:43:15.241037Z"
    }
   },
   "cell_type": "code",
   "source": [
    "# Access your database and collection\n",
    "db = client[\"ncbi_metadata\"]  # Replace with your database name\n",
    "collection = db[\"biosamples\"]  # Replace with your collection name"
   ],
   "id": "5ab436767fda6828",
   "outputs": [],
   "execution_count": 4
  },
  {
   "metadata": {
    "ExecuteTime": {
     "end_time": "2025-02-26T02:43:15.290976Z",
     "start_time": "2025-02-26T02:43:15.287490Z"
    }
   },
   "cell_type": "code",
   "source": [
    "# Define the query\n",
    "query = {\n",
    "    \"Attributes.Attribute\": {\n",
    "        \"$elemMatch\": {\n",
    "            \"attribute_name\": \"emp500_principal_investigator\",\n",
    "            \"content\": \"Myrold\"\n",
    "        }\n",
    "    }\n",
    "}"
   ],
   "id": "646a121b4048f871",
   "outputs": [],
   "execution_count": 5
  },
  {
   "metadata": {
    "ExecuteTime": {
     "end_time": "2025-02-26T02:43:15.336709Z",
     "start_time": "2025-02-26T02:43:15.333914Z"
    }
   },
   "cell_type": "code",
   "source": [
    "# Execute the query\n",
    "results = collection.find(query)"
   ],
   "id": "2763aecacd571cc2",
   "outputs": [],
   "execution_count": 6
  },
  {
   "metadata": {
    "ExecuteTime": {
     "end_time": "2025-02-26T02:43:15.397457Z",
     "start_time": "2025-02-26T02:43:15.380987Z"
    }
   },
   "cell_type": "code",
   "source": [
    "# Build a list of dictionaries\n",
    "documents_list = []\n",
    "\n",
    "for document in results:\n",
    "    doc_dict = {}\n",
    "\n",
    "    # Add accession as a top-level key\n",
    "    accession = document.get('accession')\n",
    "    doc_dict['accession'] = accession\n",
    "\n",
    "    # Add each attribute_name as a key with content as its value\n",
    "    attributes = document.get('Attributes', {}).get('Attribute', [])\n",
    "    for attribute in attributes:\n",
    "        attribute_name = attribute.get('attribute_name')\n",
    "        content = attribute.get('content')\n",
    "        doc_dict[attribute_name] = content\n",
    "\n",
    "    documents_list.append(doc_dict)"
   ],
   "id": "3fc25c59002f801e",
   "outputs": [],
   "execution_count": 7
  },
  {
   "metadata": {
    "ExecuteTime": {
     "end_time": "2025-02-26T02:43:15.433055Z",
     "start_time": "2025-02-26T02:43:15.429194Z"
    }
   },
   "cell_type": "code",
   "source": [
    "# Get all unique keys for the TSV header\n",
    "all_keys = set()\n",
    "for doc in documents_list:\n",
    "    all_keys.update(doc.keys())\n",
    "all_keys = list(all_keys)"
   ],
   "id": "f7108363bd36af19",
   "outputs": [],
   "execution_count": 8
  },
  {
   "metadata": {
    "ExecuteTime": {
     "end_time": "2025-02-26T02:43:15.488372Z",
     "start_time": "2025-02-26T02:43:15.481190Z"
    }
   },
   "cell_type": "code",
   "source": [
    "# Ensure 'accession' appears first, and the rest of the keys are sorted alphabetically\n",
    "all_keys = ['accession'] + sorted(k for k in all_keys if k != 'accession')"
   ],
   "id": "5901f3e23a7a3489",
   "outputs": [],
   "execution_count": 9
  },
  {
   "metadata": {
    "ExecuteTime": {
     "end_time": "2025-02-26T02:43:15.536869Z",
     "start_time": "2025-02-26T02:43:15.532071Z"
    }
   },
   "cell_type": "code",
   "source": [
    "# Write to TSV\n",
    "with open(tsv_file_path, \"w\", newline='', encoding=\"utf-8\") as tsvfile:\n",
    "    writer = csv.DictWriter(tsvfile, fieldnames=all_keys, delimiter='\\t')\n",
    "    writer.writeheader()\n",
    "    writer.writerows(documents_list)\n",
    "\n",
    "print(f\"TSV file saved to {tsv_file_path}\")"
   ],
   "id": "2b85fcb0b950438d",
   "outputs": [
    {
     "name": "stdout",
     "output_type": "stream",
     "text": [
      "TSV file saved to myrold_attributes.tsv\n"
     ]
    }
   ],
   "execution_count": 10
  },
  {
   "metadata": {
    "ExecuteTime": {
     "end_time": "2025-02-26T02:43:15.582257Z",
     "start_time": "2025-02-26T02:43:15.579321Z"
    }
   },
   "cell_type": "code",
   "source": [
    "# Close the connection\n",
    "client.close()\n"
   ],
   "id": "8d5489ca2b0faaa2",
   "outputs": [],
   "execution_count": 11
  },
  {
   "metadata": {
    "ExecuteTime": {
     "end_time": "2025-02-26T02:43:15.632173Z",
     "start_time": "2025-02-26T02:43:15.625499Z"
    }
   },
   "cell_type": "code",
   "source": "documents_list[0]",
   "id": "d46701d94f854c16",
   "outputs": [
    {
     "data": {
      "text/plain": [
       "{'accession': 'SAMEA7724195',\n",
       " 'ENA first public': '2020-12-17',\n",
       " 'ENA last update': '2020-12-16',\n",
       " 'ENA-CHECKLIST': 'ERC000011',\n",
       " 'External Id': 'SAMEA7724195',\n",
       " 'INSDC center alias': 'UCSDMI',\n",
       " 'INSDC center name': 'University of California San Diego Microbiome Initiative',\n",
       " 'INSDC first public': '2020-12-17T04:08:06Z',\n",
       " 'INSDC last update': '2020-12-16T01:23:59Z',\n",
       " 'INSDC status': 'public',\n",
       " 'Submitter Id': 'qiita_sid_13114:13114.myrold.5.s001',\n",
       " 'alpha_shotgun_woltka_min10k_richness': '719.0',\n",
       " 'alpha_shotgun_woltka_rar10k_richness': '504.0',\n",
       " 'alpha_shotgun_woltka_rar3450_richness': '255.0',\n",
       " 'collection_timestamp': '12/15/15 0:00',\n",
       " 'cur_land_use': 'forest',\n",
       " 'cur_vegetation': 'Douglas-fir',\n",
       " 'depth_sample': '0.15',\n",
       " 'elevation': '286',\n",
       " 'emp500_principal_investigator': 'Myrold',\n",
       " 'emp500_study_id': '5',\n",
       " 'emp500_title': 'Tree-associated soils',\n",
       " 'empo_2': 'Non-saline',\n",
       " 'empo_3': 'Soil (non-saline)',\n",
       " 'env biome': 'temperate coniferous forest biome',\n",
       " 'env feature': 'temperate coniferous forest',\n",
       " 'env package': 'soil',\n",
       " 'env_material': 'soil',\n",
       " 'environmental_package': 'soil',\n",
       " 'experimental_factor': 'Two sites (low, high soil N) by two tree species (Douglas-fir, red alder) in three replicate blocks per site',\n",
       " 'geo loc name': 'USA: State of Oregon,Tillamook County',\n",
       " 'latitude': '45.046708',\n",
       " 'longitude': '-123.895233',\n",
       " 'physical_specimen_location': 'UCSD Knight Lab Freezer I and David Myrold Lab',\n",
       " 'project name': 'Alder-Fir Study',\n",
       " 'sample name': 'qiita_sid_13114:13114.myrold.5.s001',\n",
       " 'sample type': 'soil',\n",
       " 'sampling method': 'bulk',\n",
       " 'store_cond': '-80',\n",
       " 'study_sample_number': '1',\n",
       " 'water content': '1.2109',\n",
       " 'water_content_soil_meth': 'gravimetric'}"
      ]
     },
     "execution_count": 12,
     "metadata": {},
     "output_type": "execute_result"
    }
   ],
   "execution_count": 12
  },
  {
   "metadata": {
    "ExecuteTime": {
     "end_time": "2025-02-26T02:43:15.679603Z",
     "start_time": "2025-02-26T02:43:15.676681Z"
    }
   },
   "cell_type": "code",
   "source": [
    "# Close the connection\n",
    "client.close()"
   ],
   "id": "1742af468bf9195e",
   "outputs": [],
   "execution_count": 13
  }
 ],
 "metadata": {
  "kernelspec": {
   "display_name": "Python 3",
   "language": "python",
   "name": "python3"
  },
  "language_info": {
   "codemirror_mode": {
    "name": "ipython",
    "version": 2
   },
   "file_extension": ".py",
   "mimetype": "text/x-python",
   "name": "python",
   "nbconvert_exporter": "python",
   "pygments_lexer": "ipython2",
   "version": "2.7.6"
  }
 },
 "nbformat": 4,
 "nbformat_minor": 5
}
