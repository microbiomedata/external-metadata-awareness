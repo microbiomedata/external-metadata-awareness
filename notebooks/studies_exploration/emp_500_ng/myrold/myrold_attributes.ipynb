{
 "cells": [
  {
   "metadata": {
    "ExecuteTime": {
     "end_time": "2025-02-24T19:50:53.050944Z",
     "start_time": "2025-02-24T19:50:52.965785Z"
    }
   },
   "cell_type": "code",
   "source": [
    "from pymongo import MongoClient\n",
    "import csv"
   ],
   "id": "f2d62042c6245e5",
   "outputs": [],
   "execution_count": 1
  },
  {
   "metadata": {
    "ExecuteTime": {
     "end_time": "2025-02-24T19:50:53.477823Z",
     "start_time": "2025-02-24T19:50:53.475204Z"
    }
   },
   "cell_type": "code",
   "source": [
    "# Save the list of dicts to a TSV file\n",
    "tsv_file_path = \"myrold_attributes.tsv\""
   ],
   "id": "403db6bf9e142ba8",
   "outputs": [],
   "execution_count": 2
  },
  {
   "metadata": {
    "ExecuteTime": {
     "end_time": "2025-02-24T19:50:53.982282Z",
     "start_time": "2025-02-24T19:50:53.974086Z"
    }
   },
   "cell_type": "code",
   "source": [
    "# Connect to the local MongoDB instance (no authentication)\n",
    "client = MongoClient(\"mongodb://localhost:27017/\")"
   ],
   "id": "ae51c9e1e9e1ec5a",
   "outputs": [],
   "execution_count": 3
  },
  {
   "metadata": {
    "ExecuteTime": {
     "end_time": "2025-02-24T19:50:54.476127Z",
     "start_time": "2025-02-24T19:50:54.472386Z"
    }
   },
   "cell_type": "code",
   "source": [
    "# Access your database and collection\n",
    "db = client[\"ncbi_metadata\"]  # Replace with your database name\n",
    "collection = db[\"biosamples\"]  # Replace with your collection name"
   ],
   "id": "5ab436767fda6828",
   "outputs": [],
   "execution_count": 4
  },
  {
   "metadata": {
    "ExecuteTime": {
     "end_time": "2025-02-24T19:50:55.049992Z",
     "start_time": "2025-02-24T19:50:55.040921Z"
    }
   },
   "cell_type": "code",
   "source": [
    "# Define the query\n",
    "query = {\n",
    "    \"Attributes.Attribute\": {\n",
    "        \"$elemMatch\": {\n",
    "            \"attribute_name\": \"emp500_principal_investigator\",\n",
    "            \"content\": \"Myrold\"\n",
    "        }\n",
    "    }\n",
    "}"
   ],
   "id": "646a121b4048f871",
   "outputs": [],
   "execution_count": 5
  },
  {
   "metadata": {
    "ExecuteTime": {
     "end_time": "2025-02-24T19:50:55.737588Z",
     "start_time": "2025-02-24T19:50:55.734979Z"
    }
   },
   "cell_type": "code",
   "source": [
    "# Execute the query\n",
    "results = collection.find(query)"
   ],
   "id": "2763aecacd571cc2",
   "outputs": [],
   "execution_count": 6
  },
  {
   "metadata": {
    "ExecuteTime": {
     "end_time": "2025-02-24T19:50:56.659570Z",
     "start_time": "2025-02-24T19:50:56.636993Z"
    }
   },
   "cell_type": "code",
   "source": [
    "# Build a list of dictionaries\n",
    "documents_list = []\n",
    "\n",
    "for document in results:\n",
    "    doc_dict = {}\n",
    "\n",
    "    # Add accession as a top-level key\n",
    "    accession = document.get('accession')\n",
    "    doc_dict['accession'] = accession\n",
    "\n",
    "    # Add each attribute_name as a key with content as its value\n",
    "    attributes = document.get('Attributes', {}).get('Attribute', [])\n",
    "    for attribute in attributes:\n",
    "        attribute_name = attribute.get('attribute_name')\n",
    "        content = attribute.get('content')\n",
    "        doc_dict[attribute_name] = content\n",
    "\n",
    "    documents_list.append(doc_dict)"
   ],
   "id": "3fc25c59002f801e",
   "outputs": [],
   "execution_count": 7
  },
  {
   "metadata": {
    "ExecuteTime": {
     "end_time": "2025-02-24T19:50:57.715005Z",
     "start_time": "2025-02-24T19:50:57.710766Z"
    }
   },
   "cell_type": "code",
   "source": [
    "# Get all unique keys for the TSV header\n",
    "all_keys = set()\n",
    "for doc in documents_list:\n",
    "    all_keys.update(doc.keys())\n",
    "all_keys = list(all_keys)"
   ],
   "id": "f7108363bd36af19",
   "outputs": [],
   "execution_count": 8
  },
  {
   "metadata": {
    "ExecuteTime": {
     "end_time": "2025-02-24T19:50:58.636212Z",
     "start_time": "2025-02-24T19:50:58.632418Z"
    }
   },
   "cell_type": "code",
   "source": [
    "# Ensure 'accession' appears first, and the rest of the keys are sorted alphabetically\n",
    "all_keys = ['accession'] + sorted(k for k in all_keys if k != 'accession')"
   ],
   "id": "5901f3e23a7a3489",
   "outputs": [],
   "execution_count": 9
  },
  {
   "metadata": {
    "ExecuteTime": {
     "end_time": "2025-02-24T19:51:00.187902Z",
     "start_time": "2025-02-24T19:51:00.182844Z"
    }
   },
   "cell_type": "code",
   "source": [
    "# Write to TSV\n",
    "with open(tsv_file_path, \"w\", newline='', encoding=\"utf-8\") as tsvfile:\n",
    "    writer = csv.DictWriter(tsvfile, fieldnames=all_keys, delimiter='\\t')\n",
    "    writer.writeheader()\n",
    "    writer.writerows(documents_list)\n",
    "\n",
    "print(f\"TSV file saved to {tsv_file_path}\")"
   ],
   "id": "2b85fcb0b950438d",
   "outputs": [
    {
     "name": "stdout",
     "output_type": "stream",
     "text": [
      "TSV file saved to myrold_attributes.tsv\n"
     ]
    }
   ],
   "execution_count": 10
  },
  {
   "metadata": {},
   "cell_type": "code",
   "source": [
    "\n",
    "\n",
    "\n",
    "\n",
    "\n",
    "\n",
    "\n",
    "\n",
    "# Close the connection\n",
    "client.close()\n"
   ],
   "id": "8d5489ca2b0faaa2",
   "outputs": [],
   "execution_count": null
  },
  {
   "metadata": {},
   "cell_type": "code",
   "source": "documents_list[0]",
   "id": "d46701d94f854c16",
   "outputs": [],
   "execution_count": null
  },
  {
   "metadata": {},
   "cell_type": "code",
   "source": [
    "# Close the connection\n",
    "client.close()"
   ],
   "id": "1742af468bf9195e",
   "outputs": [],
   "execution_count": null
  }
 ],
 "metadata": {
  "kernelspec": {
   "display_name": "Python 3",
   "language": "python",
   "name": "python3"
  },
  "language_info": {
   "codemirror_mode": {
    "name": "ipython",
    "version": 2
   },
   "file_extension": ".py",
   "mimetype": "text/x-python",
   "name": "python",
   "nbconvert_exporter": "python",
   "pygments_lexer": "ipython2",
   "version": "2.7.6"
  }
 },
 "nbformat": 4,
 "nbformat_minor": 5
}
