{
 "cells": [
  {
   "metadata": {
    "ExecuteTime": {
     "end_time": "2025-02-26T02:42:15.174355Z",
     "start_time": "2025-02-26T02:42:14.073532Z"
    }
   },
   "cell_type": "code",
   "source": [
    "from pymongo import MongoClient\n",
    "import csv\n",
    "\n",
    "from sklearn.preprocessing import StandardScaler\n",
    "from sklearn.cluster import KMeans\n",
    "import numpy as np\n"
   ],
   "id": "f2d62042c6245e5",
   "outputs": [],
   "execution_count": 1
  },
  {
   "metadata": {
    "ExecuteTime": {
     "end_time": "2025-02-26T02:42:15.180999Z",
     "start_time": "2025-02-26T02:42:15.178404Z"
    }
   },
   "cell_type": "code",
   "source": [
    "# Save the list of dicts to a TSV file\n",
    "tsv_file_path = \"macrae_crerar_attributes.tsv\""
   ],
   "id": "403db6bf9e142ba8",
   "outputs": [],
   "execution_count": 2
  },
  {
   "metadata": {
    "ExecuteTime": {
     "end_time": "2025-02-26T02:42:15.309749Z",
     "start_time": "2025-02-26T02:42:15.307265Z"
    }
   },
   "cell_type": "code",
   "source": [
    "# Number of clusters (you can adjust this based on your needs)\n",
    "num_clusters = 3"
   ],
   "id": "e4939f49a1c96864",
   "outputs": [],
   "execution_count": 3
  },
  {
   "metadata": {
    "ExecuteTime": {
     "end_time": "2025-02-26T02:42:15.357603Z",
     "start_time": "2025-02-26T02:42:15.349417Z"
    }
   },
   "cell_type": "code",
   "source": [
    "# Connect to the local MongoDB instance (no authentication)\n",
    "client = MongoClient(\"mongodb://localhost:27017/\")"
   ],
   "id": "ae51c9e1e9e1ec5a",
   "outputs": [],
   "execution_count": 4
  },
  {
   "metadata": {
    "ExecuteTime": {
     "end_time": "2025-02-26T02:42:15.398681Z",
     "start_time": "2025-02-26T02:42:15.395487Z"
    }
   },
   "cell_type": "code",
   "source": [
    "# Access your database and collection\n",
    "db = client[\"ncbi_metadata\"]  # Replace with your database name\n",
    "collection = db[\"biosamples\"]  # Replace with your collection name"
   ],
   "id": "5ab436767fda6828",
   "outputs": [],
   "execution_count": 5
  },
  {
   "metadata": {
    "ExecuteTime": {
     "end_time": "2025-02-26T02:42:15.456486Z",
     "start_time": "2025-02-26T02:42:15.445336Z"
    }
   },
   "cell_type": "code",
   "source": [
    "# Define the query\n",
    "query = {\n",
    "    \"Attributes.Attribute\": {\n",
    "        \"$elemMatch\": {\n",
    "            \"attribute_name\": \"emp500_principal_investigator\",\n",
    "            \"content\": \"MacRae-Crerar\"\n",
    "        }\n",
    "    }\n",
    "}"
   ],
   "id": "646a121b4048f871",
   "outputs": [],
   "execution_count": 6
  },
  {
   "metadata": {
    "ExecuteTime": {
     "end_time": "2025-02-26T02:42:15.501803Z",
     "start_time": "2025-02-26T02:42:15.498919Z"
    }
   },
   "cell_type": "code",
   "source": [
    "# Execute the query\n",
    "results = collection.find(query)"
   ],
   "id": "2763aecacd571cc2",
   "outputs": [],
   "execution_count": 7
  },
  {
   "metadata": {
    "ExecuteTime": {
     "end_time": "2025-02-26T02:42:15.587168Z",
     "start_time": "2025-02-26T02:42:15.549417Z"
    }
   },
   "cell_type": "code",
   "source": [
    "# Build a list of dictionaries\n",
    "documents_list = []\n",
    "\n",
    "for document in results:\n",
    "    doc_dict = {}\n",
    "\n",
    "    # Add accession as a top-level key\n",
    "    accession = document.get('accession')\n",
    "    doc_dict['accession'] = accession\n",
    "\n",
    "    # Add each attribute_name as a key with content as its value\n",
    "    attributes = document.get('Attributes', {}).get('Attribute', [])\n",
    "    for attribute in attributes:\n",
    "        attribute_name = attribute.get('attribute_name')\n",
    "        content = attribute.get('content')\n",
    "        doc_dict[attribute_name] = content\n",
    "\n",
    "    documents_list.append(doc_dict)"
   ],
   "id": "3fc25c59002f801e",
   "outputs": [],
   "execution_count": 8
  },
  {
   "metadata": {
    "ExecuteTime": {
     "end_time": "2025-02-26T02:42:15.610677Z",
     "start_time": "2025-02-26T02:42:15.607321Z"
    }
   },
   "cell_type": "code",
   "source": [
    "def dms_to_decimal(degrees):\n",
    "    # Assuming the degree value is in a decimal format separating degrees, minutes, and seconds\n",
    "    try:\n",
    "        degree, minute, second = map(float, degrees.split('.'))\n",
    "        return degree + (minute / 60) + (second / 3600)\n",
    "    except ValueError:\n",
    "        return None  # If the conversion fails, return None"
   ],
   "id": "d36b661c4183c23e",
   "outputs": [],
   "execution_count": 9
  },
  {
   "metadata": {
    "ExecuteTime": {
     "end_time": "2025-02-26T02:42:15.656907Z",
     "start_time": "2025-02-26T02:42:15.653727Z"
    }
   },
   "cell_type": "code",
   "source": [
    "# Iterate over the list and add the decimal latitudes and longitudes\n",
    "for record in documents_list:\n",
    "    record['latitude_decimal'] = dms_to_decimal(record['latitude'])\n",
    "    record['longitude_decimal'] = dms_to_decimal(record['longitude'])"
   ],
   "id": "56ad814e1d71c486",
   "outputs": [],
   "execution_count": 10
  },
  {
   "metadata": {
    "ExecuteTime": {
     "end_time": "2025-02-26T02:42:15.704432Z",
     "start_time": "2025-02-26T02:42:15.701097Z"
    }
   },
   "cell_type": "code",
   "source": [
    "# Extract the relevant data for clustering\n",
    "coordinates = np.array(\n",
    "    [[\n",
    "        record['latitude_decimal'],\n",
    "        record['longitude_decimal'],\n",
    "        record['soil_moisture_ave'],\n",
    "    ] for record in\n",
    "        documents_list])"
   ],
   "id": "292c69b76d7d82fb",
   "outputs": [],
   "execution_count": 11
  },
  {
   "metadata": {
    "ExecuteTime": {
     "end_time": "2025-02-26T02:42:15.751319Z",
     "start_time": "2025-02-26T02:42:15.747709Z"
    }
   },
   "cell_type": "code",
   "source": [
    "# Normalize the data using StandardScaler\n",
    "scaler = StandardScaler()\n",
    "normalized_coordinates = scaler.fit_transform(coordinates)"
   ],
   "id": "2706c91ae223debf",
   "outputs": [],
   "execution_count": 12
  },
  {
   "metadata": {
    "ExecuteTime": {
     "end_time": "2025-02-26T02:42:15.853410Z",
     "start_time": "2025-02-26T02:42:15.796086Z"
    }
   },
   "cell_type": "code",
   "source": [
    "# Perform KMeans clustering\n",
    "kmeans = KMeans(n_clusters=num_clusters)\n",
    "clusters = kmeans.fit_predict(coordinates)"
   ],
   "id": "29ce8ddedbc2cbe7",
   "outputs": [],
   "execution_count": 13
  },
  {
   "metadata": {
    "ExecuteTime": {
     "end_time": "2025-02-26T02:42:15.867510Z",
     "start_time": "2025-02-26T02:42:15.864654Z"
    }
   },
   "cell_type": "code",
   "source": [
    "# Assign the cluster labels to the original data\n",
    "for idx, record in enumerate(documents_list):\n",
    "    record['cluster'] = clusters[idx]"
   ],
   "id": "e8c445db0a583c97",
   "outputs": [],
   "execution_count": 14
  },
  {
   "metadata": {
    "ExecuteTime": {
     "end_time": "2025-02-26T02:42:15.909584Z",
     "start_time": "2025-02-26T02:42:15.905863Z"
    }
   },
   "cell_type": "code",
   "source": [
    "# Get all unique keys for the TSV header\n",
    "all_keys = set()\n",
    "for doc in documents_list:\n",
    "    all_keys.update(doc.keys())\n",
    "all_keys = list(all_keys)"
   ],
   "id": "f7108363bd36af19",
   "outputs": [],
   "execution_count": 15
  },
  {
   "metadata": {
    "ExecuteTime": {
     "end_time": "2025-02-26T02:42:15.956630Z",
     "start_time": "2025-02-26T02:42:15.953878Z"
    }
   },
   "cell_type": "code",
   "source": [
    "# Ensure 'accession' appears first, and the rest of the keys are sorted alphabetically\n",
    "all_keys = ['accession'] + sorted(k for k in all_keys if k != 'accession')"
   ],
   "id": "5901f3e23a7a3489",
   "outputs": [],
   "execution_count": 16
  },
  {
   "metadata": {
    "ExecuteTime": {
     "end_time": "2025-02-26T02:42:16.005346Z",
     "start_time": "2025-02-26T02:42:16.001186Z"
    }
   },
   "cell_type": "code",
   "source": [
    "# Write to TSV\n",
    "with open(tsv_file_path, \"w\", newline='', encoding=\"utf-8\") as tsvfile:\n",
    "    writer = csv.DictWriter(tsvfile, fieldnames=all_keys, delimiter='\\t')\n",
    "    writer.writeheader()\n",
    "    writer.writerows(documents_list)\n",
    "\n",
    "print(f\"TSV file saved to {tsv_file_path}\")"
   ],
   "id": "2b85fcb0b950438d",
   "outputs": [
    {
     "name": "stdout",
     "output_type": "stream",
     "text": [
      "TSV file saved to macrae_crerar_attributes.tsv\n"
     ]
    }
   ],
   "execution_count": 17
  },
  {
   "metadata": {
    "ExecuteTime": {
     "end_time": "2025-02-26T02:42:16.051896Z",
     "start_time": "2025-02-26T02:42:16.048924Z"
    }
   },
   "cell_type": "code",
   "source": [
    "# Close the connection\n",
    "client.close()"
   ],
   "id": "1742af468bf9195e",
   "outputs": [],
   "execution_count": 18
  }
 ],
 "metadata": {
  "kernelspec": {
   "display_name": "Python 3",
   "language": "python",
   "name": "python3"
  },
  "language_info": {
   "codemirror_mode": {
    "name": "ipython",
    "version": 2
   },
   "file_extension": ".py",
   "mimetype": "text/x-python",
   "name": "python",
   "nbconvert_exporter": "python",
   "pygments_lexer": "ipython2",
   "version": "2.7.6"
  }
 },
 "nbformat": 4,
 "nbformat_minor": 5
}
