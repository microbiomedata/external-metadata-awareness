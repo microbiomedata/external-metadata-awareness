{
 "cells": [
  {
   "metadata": {
    "ExecuteTime": {
     "end_time": "2025-02-13T15:49:26.312213Z",
     "start_time": "2025-02-13T15:49:22.882735Z"
    }
   },
   "cell_type": "code",
   "source": [
    "import csv\n",
    "import json\n",
    "import pprint\n",
    "import re\n",
    "from collections import Counter\n",
    "\n",
    "from oaklib import get_adapter\n",
    "from oaklib.datamodels.vocabulary import IS_A\n",
    "from pymongo import MongoClient\n"
   ],
   "id": "677f36ffc72b54c7",
   "outputs": [],
   "execution_count": 1
  },
  {
   "metadata": {
    "ExecuteTime": {
     "end_time": "2025-02-13T15:49:26.321075Z",
     "start_time": "2025-02-13T15:49:26.317844Z"
    }
   },
   "cell_type": "code",
   "source": [
    "# For Ontology Access Kit (OAK)\n",
    "envo_adapter_string = \"sqlite:obo:envo\""
   ],
   "id": "943ac74114d713a3",
   "outputs": [],
   "execution_count": 2
  },
  {
   "metadata": {
    "ExecuteTime": {
     "end_time": "2025-02-13T15:49:26.383272Z",
     "start_time": "2025-02-13T15:49:26.380319Z"
    }
   },
   "cell_type": "code",
   "source": [
    "BIOME = \"ENVO:00000428\"\n",
    "ENV_MAT = \"ENVO:00010483\"\n",
    "ABP = \"ENVO:01000813\""
   ],
   "id": "4650c8757d94953b",
   "outputs": [],
   "execution_count": 3
  },
  {
   "cell_type": "code",
   "id": "initial_id",
   "metadata": {
    "collapsed": true,
    "ExecuteTime": {
     "end_time": "2025-02-13T15:49:26.427070Z",
     "start_time": "2025-02-13T15:49:26.423555Z"
    }
   },
   "source": [
    "# For the BBOP/NMDC MongoDB containing NCBI metadata\n",
    "\n",
    "MONGO_USERNAME = None\n",
    "MONGO_PASSWORD = None\n",
    "MONGO_HOST = \"localhost\"\n",
    "MONGO_PORT = 27017\n",
    "MONGO_DATABASE = \"ncbi_metadata\"\n",
    "BIOPROJECTS_COLLECTION = \"bioprojects\"\n",
    "BIOSAMPLES_COLLECTION = \"biosamples\"\n",
    "BIOSAMPLES_BIOPROJECTS_COLLECTION = \"sra_biosamples_bioprojects\"\n"
   ],
   "outputs": [],
   "execution_count": 4
  },
  {
   "metadata": {
    "ExecuteTime": {
     "end_time": "2025-02-13T15:49:26.484196Z",
     "start_time": "2025-02-13T15:49:26.470340Z"
    }
   },
   "cell_type": "code",
   "source": [
    "if MONGO_USERNAME is not None and MONGO_PASSWORD is not None:\n",
    "    # Replace these with your actual credentials and connection details.\n",
    "    username = MONGO_USERNAME\n",
    "    password = MONGO_PASSWORD\n",
    "    host = MONGO_HOST\n",
    "    port = MONGO_PORT\n",
    "\n",
    "    # Build the connection string with authentication.\n",
    "    connection_string = f\"mongodb://{username}:{password}@{host}:{port}\"\n",
    "else:\n",
    "    # Default connection to unauthenticated MongoDB.\n",
    "    host = MONGO_HOST\n",
    "    port = MONGO_PORT\n",
    "    connection_string = f\"mongodb://{host}:{port}\"\n",
    "\n",
    "# Create the client connection.\n",
    "client = MongoClient(connection_string)"
   ],
   "id": "b969c2be9931f9a0",
   "outputs": [],
   "execution_count": 5
  },
  {
   "metadata": {
    "ExecuteTime": {
     "end_time": "2025-02-13T15:49:26.523389Z",
     "start_time": "2025-02-13T15:49:26.520348Z"
    }
   },
   "cell_type": "code",
   "source": [
    "# --------------------------\n",
    "# Select Database\n",
    "# --------------------------\n",
    "\n",
    "db = client[MONGO_DATABASE]  # Dynamically select database\n"
   ],
   "id": "25f5d84f372820cb",
   "outputs": [],
   "execution_count": 6
  },
  {
   "metadata": {
    "ExecuteTime": {
     "end_time": "2025-02-13T15:49:26.569401Z",
     "start_time": "2025-02-13T15:49:26.566438Z"
    }
   },
   "cell_type": "code",
   "source": "bioprojects_collection = db[BIOPROJECTS_COLLECTION]",
   "id": "8758335ede813b20",
   "outputs": [],
   "execution_count": 7
  },
  {
   "metadata": {
    "ExecuteTime": {
     "end_time": "2025-02-13T15:49:26.617337Z",
     "start_time": "2025-02-13T15:49:26.613556Z"
    }
   },
   "cell_type": "code",
   "source": [
    "# --------------------------\n",
    "# Search for NCBI BioProject records \"about\" EMP500\n",
    "# --------------------------\n",
    "# This query searches for the term \"EMP500\" using the $text operator,\n",
    "# projects the text relevance score into the \"score\" field,\n",
    "# and sorts the results by that relevance score.\n",
    "cursor = bioprojects_collection.find(\n",
    "    {\"$text\": {\"$search\": \"EMP500\"}},\n",
    "    {\"score\": {\"$meta\": \"textScore\"}}\n",
    ").sort([(\"score\", {\"$meta\": \"textScore\"})])\n"
   ],
   "id": "92338e87853ddf8d",
   "outputs": [],
   "execution_count": 8
  },
  {
   "metadata": {
    "ExecuteTime": {
     "end_time": "2025-02-13T15:49:26.663376Z",
     "start_time": "2025-02-13T15:49:26.660388Z"
    }
   },
   "cell_type": "code",
   "source": "emp500_candidate_bioprojects = []",
   "id": "148ec4a9295317a",
   "outputs": [],
   "execution_count": 9
  },
  {
   "metadata": {
    "ExecuteTime": {
     "end_time": "2025-02-13T15:49:26.726439Z",
     "start_time": "2025-02-13T15:49:26.706491Z"
    }
   },
   "cell_type": "code",
   "source": [
    "# --------------------------\n",
    "# Print the Results for Review\n",
    "# --------------------------\n",
    "for doc in cursor:\n",
    "    pprint.pprint(doc)\n",
    "    emp500_candidate_bioprojects.append(doc)"
   ],
   "id": "12f654427f051951",
   "outputs": [
    {
     "name": "stdout",
     "output_type": "stream",
     "text": [
      "{'ProjectDescr': {'Description': 'The Earth Microbiome Project Multi-omics '\n",
      "                                 'component (EMP500) involves amplicon and '\n",
      "                                 'shotgun metagenomic sequencing and '\n",
      "                                 'metabolomic profiling of over five hundred '\n",
      "                                 'microbial communities from diverse '\n",
      "                                 'environments on our planet. We developed new '\n",
      "                                 'protocols for shotgun metagenomic sequencing '\n",
      "                                 'and assembly, with the goal of applying this '\n",
      "                                 'workflow to a range of environmental '\n",
      "                                 'samples, combined with metabolomic '\n",
      "                                 'profiling. 16S, 18S, and ITS amplicon '\n",
      "                                 'sequencing was done in addition. We acquired '\n",
      "                                 'a set of >500 fresh environmental samples '\n",
      "                                 'across a range of habitats, with the help of '\n",
      "                                 'the EMP network of collaborators. A biobank '\n",
      "                                 'of frozen aliquots for all samples is '\n",
      "                                 'maintained at UCSD (soil samples stored at '\n",
      "                                 'the Pacific Northwest National Laboratory) '\n",
      "                                 'for future methods testing and analysis.',\n",
      "                  'Title': 'Earth Microbiome Project Multi-omics (EMP500)'},\n",
      " 'ProjectID': {'ArchiveID': {'accession': 'PRJEB42019',\n",
      "                             'archive': 'EBI',\n",
      "                             'id': '686344'},\n",
      "               'CenterID': {'center': 'EBI', 'id': '0', 'text': 'ERP125879'},\n",
      "               'LocalID': {'submission_id': 'qiita_sid_13114',\n",
      "                           'text': 'University of California San Diego '\n",
      "                                   'Microbiome Initiative'}},\n",
      " 'ProjectType': {'ProjectTypeSubmission': {'Method': {'method_type': 'eSequencing'},\n",
      "                                           'Objectives': {'Data': {'data_type': 'eOther',\n",
      "                                                                   'text': 'Unspecified '\n",
      "                                                                           'Objective'}},\n",
      "                                           'ProjectDataTypeSet': {'DataType': 'Other'},\n",
      "                                           'Target': {'capture': 'eWhole',\n",
      "                                                      'material': 'eGenome',\n",
      "                                                      'sample_scope': 'eMonoisolate'}}},\n",
      " '_id': ObjectId('679d65b94ab3639fc22d4642'),\n",
      " 'score': 1.0901826484018264,\n",
      " 'xmlns:xsi': 'http://www.w3.org/2001/XMLSchema-instance'}\n",
      "{'ProjectDescr': {'Description': 'The Third Party Annotation (TPA)  assembly '\n",
      "                                 'was derived from the primary whole genome '\n",
      "                                 'shotgun (WGS) data set PRJEB42019, and was '\n",
      "                                 'assembled with metaspades v3.15.3. This '\n",
      "                                 'project includes samples from the following '\n",
      "                                 'biomes: '\n",
      "                                 'root:Environmental:Aquatic:Marine:Sediment.',\n",
      "                  'Keyword': 'TPA:assembly',\n",
      "                  'Publication': {'DbType': 'ePubmed',\n",
      "                                  'Reference': None,\n",
      "                                  'StructuredCitation': {'AuthorSet': {'Author': [{'Consortium': 'European '\n",
      "                                                                                                 'Molecular '\n",
      "                                                                                                 'Biology '\n",
      "                                                                                                 'Laboratory, '\n",
      "                                                                                                 'European '\n",
      "                                                                                                 'Bioinformatics '\n",
      "                                                                                                 'Institute '\n",
      "                                                                                                 '(EMBL-EBI), '\n",
      "                                                                                                 'Wellcome '\n",
      "                                                                                                 'Genome '\n",
      "                                                                                                 'Campus, '\n",
      "                                                                                                 'Hinxton, '\n",
      "                                                                                                 'Cambridge '\n",
      "                                                                                                 'CB10 '\n",
      "                                                                                                 '1SD, '\n",
      "                                                                                                 'UK.',\n",
      "                                                                                   'Name': {'First': 'Alex '\n",
      "                                                                                                     'L',\n",
      "                                                                                            'Last': 'Mitchell'}},\n",
      "                                                                                  {'Consortium': 'European '\n",
      "                                                                                                 'Molecular '\n",
      "                                                                                                 'Biology '\n",
      "                                                                                                 'Laboratory, '\n",
      "                                                                                                 'European '\n",
      "                                                                                                 'Bioinformatics '\n",
      "                                                                                                 'Institute '\n",
      "                                                                                                 '(EMBL-EBI), '\n",
      "                                                                                                 'Wellcome '\n",
      "                                                                                                 'Genome '\n",
      "                                                                                                 'Campus, '\n",
      "                                                                                                 'Hinxton, '\n",
      "                                                                                                 'Cambridge '\n",
      "                                                                                                 'CB10 '\n",
      "                                                                                                 '1SD, '\n",
      "                                                                                                 'UK.',\n",
      "                                                                                   'Name': {'First': 'Alexandre',\n",
      "                                                                                            'Last': 'Almeida'}},\n",
      "                                                                                  {'Consortium': 'European '\n",
      "                                                                                                 'Molecular '\n",
      "                                                                                                 'Biology '\n",
      "                                                                                                 'Laboratory, '\n",
      "                                                                                                 'European '\n",
      "                                                                                                 'Bioinformatics '\n",
      "                                                                                                 'Institute '\n",
      "                                                                                                 '(EMBL-EBI), '\n",
      "                                                                                                 'Wellcome '\n",
      "                                                                                                 'Genome '\n",
      "                                                                                                 'Campus, '\n",
      "                                                                                                 'Hinxton, '\n",
      "                                                                                                 'Cambridge '\n",
      "                                                                                                 'CB10 '\n",
      "                                                                                                 '1SD, '\n",
      "                                                                                                 'UK.',\n",
      "                                                                                   'Name': {'First': 'Martin',\n",
      "                                                                                            'Last': 'Beracochea'}},\n",
      "                                                                                  {'Consortium': 'European '\n",
      "                                                                                                 'Molecular '\n",
      "                                                                                                 'Biology '\n",
      "                                                                                                 'Laboratory, '\n",
      "                                                                                                 'European '\n",
      "                                                                                                 'Bioinformatics '\n",
      "                                                                                                 'Institute '\n",
      "                                                                                                 '(EMBL-EBI), '\n",
      "                                                                                                 'Wellcome '\n",
      "                                                                                                 'Genome '\n",
      "                                                                                                 'Campus, '\n",
      "                                                                                                 'Hinxton, '\n",
      "                                                                                                 'Cambridge '\n",
      "                                                                                                 'CB10 '\n",
      "                                                                                                 '1SD, '\n",
      "                                                                                                 'UK.',\n",
      "                                                                                   'Name': {'First': 'Miguel',\n",
      "                                                                                            'Last': 'Boland'}},\n",
      "                                                                                  {'Consortium': 'European '\n",
      "                                                                                                 'Molecular '\n",
      "                                                                                                 'Biology '\n",
      "                                                                                                 'Laboratory, '\n",
      "                                                                                                 'European '\n",
      "                                                                                                 'Bioinformatics '\n",
      "                                                                                                 'Institute '\n",
      "                                                                                                 '(EMBL-EBI), '\n",
      "                                                                                                 'Wellcome '\n",
      "                                                                                                 'Genome '\n",
      "                                                                                                 'Campus, '\n",
      "                                                                                                 'Hinxton, '\n",
      "                                                                                                 'Cambridge '\n",
      "                                                                                                 'CB10 '\n",
      "                                                                                                 '1SD, '\n",
      "                                                                                                 'UK.',\n",
      "                                                                                   'Name': {'First': 'Josephine',\n",
      "                                                                                            'Last': 'Burgin'}},\n",
      "                                                                                  {'Consortium': 'European '\n",
      "                                                                                                 'Molecular '\n",
      "                                                                                                 'Biology '\n",
      "                                                                                                 'Laboratory, '\n",
      "                                                                                                 'European '\n",
      "                                                                                                 'Bioinformatics '\n",
      "                                                                                                 'Institute '\n",
      "                                                                                                 '(EMBL-EBI), '\n",
      "                                                                                                 'Wellcome '\n",
      "                                                                                                 'Genome '\n",
      "                                                                                                 'Campus, '\n",
      "                                                                                                 'Hinxton, '\n",
      "                                                                                                 'Cambridge '\n",
      "                                                                                                 'CB10 '\n",
      "                                                                                                 '1SD, '\n",
      "                                                                                                 'UK.',\n",
      "                                                                                   'Name': {'First': 'Guy',\n",
      "                                                                                            'Last': 'Cochrane'}},\n",
      "                                                                                  {'Consortium': 'Common '\n",
      "                                                                                                 'Workflow '\n",
      "                                                                                                 'Language, '\n",
      "                                                                                                 'a '\n",
      "                                                                                                 'project '\n",
      "                                                                                                 'of '\n",
      "                                                                                                 'the '\n",
      "                                                                                                 'Software '\n",
      "                                                                                                 'Freedom '\n",
      "                                                                                                 'Conservancy, '\n",
      "                                                                                                 'Inc. '\n",
      "                                                                                                 '137 '\n",
      "                                                                                                 'Montague '\n",
      "                                                                                                 'Street, '\n",
      "                                                                                                 'Suite '\n",
      "                                                                                                 '380, '\n",
      "                                                                                                 'Brooklyn, '\n",
      "                                                                                                 'NY '\n",
      "                                                                                                 '11201-3548, '\n",
      "                                                                                                 'USA.',\n",
      "                                                                                   'Name': {'First': 'Michael '\n",
      "                                                                                                     'R',\n",
      "                                                                                            'Last': 'Crusoe'}},\n",
      "                                                                                  {'Consortium': 'European '\n",
      "                                                                                                 'Molecular '\n",
      "                                                                                                 'Biology '\n",
      "                                                                                                 'Laboratory, '\n",
      "                                                                                                 'European '\n",
      "                                                                                                 'Bioinformatics '\n",
      "                                                                                                 'Institute '\n",
      "                                                                                                 '(EMBL-EBI), '\n",
      "                                                                                                 'Wellcome '\n",
      "                                                                                                 'Genome '\n",
      "                                                                                                 'Campus, '\n",
      "                                                                                                 'Hinxton, '\n",
      "                                                                                                 'Cambridge '\n",
      "                                                                                                 'CB10 '\n",
      "                                                                                                 '1SD, '\n",
      "                                                                                                 'UK.',\n",
      "                                                                                   'Name': {'First': 'Varsha',\n",
      "                                                                                            'Last': 'Kale'}},\n",
      "                                                                                  {'Consortium': 'European '\n",
      "                                                                                                 'Molecular '\n",
      "                                                                                                 'Biology '\n",
      "                                                                                                 'Laboratory, '\n",
      "                                                                                                 'European '\n",
      "                                                                                                 'Bioinformatics '\n",
      "                                                                                                 'Institute '\n",
      "                                                                                                 '(EMBL-EBI), '\n",
      "                                                                                                 'Wellcome '\n",
      "                                                                                                 'Genome '\n",
      "                                                                                                 'Campus, '\n",
      "                                                                                                 'Hinxton, '\n",
      "                                                                                                 'Cambridge '\n",
      "                                                                                                 'CB10 '\n",
      "                                                                                                 '1SD, '\n",
      "                                                                                                 'UK.',\n",
      "                                                                                   'Name': {'First': 'Simon '\n",
      "                                                                                                     'C',\n",
      "                                                                                            'Last': 'Potter'}},\n",
      "                                                                                  {'Consortium': 'European '\n",
      "                                                                                                 'Molecular '\n",
      "                                                                                                 'Biology '\n",
      "                                                                                                 'Laboratory, '\n",
      "                                                                                                 'European '\n",
      "                                                                                                 'Bioinformatics '\n",
      "                                                                                                 'Institute '\n",
      "                                                                                                 '(EMBL-EBI), '\n",
      "                                                                                                 'Wellcome '\n",
      "                                                                                                 'Genome '\n",
      "                                                                                                 'Campus, '\n",
      "                                                                                                 'Hinxton, '\n",
      "                                                                                                 'Cambridge '\n",
      "                                                                                                 'CB10 '\n",
      "                                                                                                 '1SD, '\n",
      "                                                                                                 'UK.',\n",
      "                                                                                   'Name': {'First': 'Lorna '\n",
      "                                                                                                     'J',\n",
      "                                                                                            'Last': 'Richardson'}},\n",
      "                                                                                  {'Consortium': 'European '\n",
      "                                                                                                 'Molecular '\n",
      "                                                                                                 'Biology '\n",
      "                                                                                                 'Laboratory, '\n",
      "                                                                                                 'European '\n",
      "                                                                                                 'Bioinformatics '\n",
      "                                                                                                 'Institute '\n",
      "                                                                                                 '(EMBL-EBI), '\n",
      "                                                                                                 'Wellcome '\n",
      "                                                                                                 'Genome '\n",
      "                                                                                                 'Campus, '\n",
      "                                                                                                 'Hinxton, '\n",
      "                                                                                                 'Cambridge '\n",
      "                                                                                                 'CB10 '\n",
      "                                                                                                 '1SD, '\n",
      "                                                                                                 'UK.',\n",
      "                                                                                   'Name': {'First': 'Ekaterina',\n",
      "                                                                                            'Last': 'Sakharova'}},\n",
      "                                                                                  {'Consortium': 'European '\n",
      "                                                                                                 'Molecular '\n",
      "                                                                                                 'Biology '\n",
      "                                                                                                 'Laboratory, '\n",
      "                                                                                                 'European '\n",
      "                                                                                                 'Bioinformatics '\n",
      "                                                                                                 'Institute '\n",
      "                                                                                                 '(EMBL-EBI), '\n",
      "                                                                                                 'Wellcome '\n",
      "                                                                                                 'Genome '\n",
      "                                                                                                 'Campus, '\n",
      "                                                                                                 'Hinxton, '\n",
      "                                                                                                 'Cambridge '\n",
      "                                                                                                 'CB10 '\n",
      "                                                                                                 '1SD, '\n",
      "                                                                                                 'UK.',\n",
      "                                                                                   'Name': {'First': 'Maxim',\n",
      "                                                                                            'Last': 'Scheremetjew'}},\n",
      "                                                                                  {'Consortium': 'Center '\n",
      "                                                                                                 'for '\n",
      "                                                                                                 'Algorithmic '\n",
      "                                                                                                 'Biotechnologies, '\n",
      "                                                                                                 'Saint '\n",
      "                                                                                                 'Petersburg '\n",
      "                                                                                                 'State '\n",
      "                                                                                                 'University, '\n",
      "                                                                                                 'Russia.',\n",
      "                                                                                   'Name': {'First': 'Anton',\n",
      "                                                                                            'Last': 'Korobeynikov'}},\n",
      "                                                                                  {'Consortium': 'Center '\n",
      "                                                                                                 'for '\n",
      "                                                                                                 'Algorithmic '\n",
      "                                                                                                 'Biotechnologies, '\n",
      "                                                                                                 'Saint '\n",
      "                                                                                                 'Petersburg '\n",
      "                                                                                                 'State '\n",
      "                                                                                                 'University, '\n",
      "                                                                                                 'Russia.',\n",
      "                                                                                   'Name': {'First': 'Alex',\n",
      "                                                                                            'Last': 'Shlemov'}},\n",
      "                                                                                  {'Consortium': 'Center '\n",
      "                                                                                                 'for '\n",
      "                                                                                                 'Algorithmic '\n",
      "                                                                                                 'Biotechnologies, '\n",
      "                                                                                                 'Saint '\n",
      "                                                                                                 'Petersburg '\n",
      "                                                                                                 'State '\n",
      "                                                                                                 'University, '\n",
      "                                                                                                 'Russia.',\n",
      "                                                                                   'Name': {'First': 'Olga',\n",
      "                                                                                            'Last': 'Kunyavskaya'}},\n",
      "                                                                                  {'Consortium': 'Center '\n",
      "                                                                                                 'for '\n",
      "                                                                                                 'Algorithmic '\n",
      "                                                                                                 'Biotechnologies, '\n",
      "                                                                                                 'Saint '\n",
      "                                                                                                 'Petersburg '\n",
      "                                                                                                 'State '\n",
      "                                                                                                 'University, '\n",
      "                                                                                                 'Russia.',\n",
      "                                                                                   'Name': {'First': 'Alla',\n",
      "                                                                                            'Last': 'Lapidus'}},\n",
      "                                                                                  {'Consortium': 'European '\n",
      "                                                                                                 'Molecular '\n",
      "                                                                                                 'Biology '\n",
      "                                                                                                 'Laboratory, '\n",
      "                                                                                                 'European '\n",
      "                                                                                                 'Bioinformatics '\n",
      "                                                                                                 'Institute '\n",
      "                                                                                                 '(EMBL-EBI), '\n",
      "                                                                                                 'Wellcome '\n",
      "                                                                                                 'Genome '\n",
      "                                                                                                 'Campus, '\n",
      "                                                                                                 'Hinxton, '\n",
      "                                                                                                 'Cambridge '\n",
      "                                                                                                 'CB10 '\n",
      "                                                                                                 '1SD, '\n",
      "                                                                                                 'UK.',\n",
      "                                                                                   'Name': {'First': 'Robert '\n",
      "                                                                                                     'D',\n",
      "                                                                                            'Last': 'Finn'}}]},\n",
      "                                                         'Journal': {'Issue': 'D1',\n",
      "                                                                     'JournalTitle': 'Nucleic '\n",
      "                                                                                     'acids '\n",
      "                                                                                     'research',\n",
      "                                                                     'PagesFrom': 'D570',\n",
      "                                                                     'PagesTo': 'D578',\n",
      "                                                                     'Volume': '48',\n",
      "                                                                     'Year': '2020'},\n",
      "                                                         'Title': 'MGnify: the '\n",
      "                                                                  'microbiome '\n",
      "                                                                  'analysis '\n",
      "                                                                  'resource in '\n",
      "                                                                  '2020.'},\n",
      "                                  'date': '2020-01-08T00:00:00Z',\n",
      "                                  'id': '31696235',\n",
      "                                  'status': 'ePublished'},\n",
      "                  'Title': 'EMG produced TPA metagenomics assembly of '\n",
      "                           'PRJEB42019 data set (Earth Microbiome Project '\n",
      "                           'Multi-omics (EMP500)).'},\n",
      " 'ProjectID': {'ArchiveID': {'accession': 'PRJEB76305',\n",
      "                             'archive': 'EBI',\n",
      "                             'id': '1121787'},\n",
      "               'CenterID': {'center': 'EBI', 'id': '0', 'text': 'ERP160863'},\n",
      "               'LocalID': {'submission_id': 'PRJEB42019_20240604174618',\n",
      "                           'text': 'EMG'}},\n",
      " 'ProjectType': {'ProjectTypeSubmission': {'Method': {'method_type': 'eSequencing'},\n",
      "                                           'Objectives': {'Data': {'data_type': 'eOther',\n",
      "                                                                   'text': 'Unspecified '\n",
      "                                                                           'Objective'}},\n",
      "                                           'ProjectDataTypeSet': {'DataType': 'Other'},\n",
      "                                           'Target': {'capture': 'eWhole',\n",
      "                                                      'material': 'eGenome',\n",
      "                                                      'sample_scope': 'eMonoisolate'}}},\n",
      " '_id': ObjectId('679d687f4ab3639fc236c4e0'),\n",
      " 'score': 0.5357142857142857,\n",
      " 'xmlns:xsi': 'http://www.w3.org/2001/XMLSchema-instance'}\n",
      "{'ProjectDescr': {'Description': 'Materials and Methods</p><p>Sediment '\n",
      "                                 'Collection</p><p>Samples were collected in '\n",
      "                                 'two-day windows in January 2016 and February '\n",
      "                                 '2018 (see Figure 2.1 for locations of '\n",
      "                                 'collection). Each sediment sample was taken '\n",
      "                                 'from at least three different locations '\n",
      "                                 'within a small area in the creek or river, '\n",
      "                                 'then homogenized in sterile 50mL tubes for '\n",
      "                                 'subsequent DNA extraction and quantification '\n",
      "                                 'of metals. Biofilm samples were collected '\n",
      "                                 'when observed in the creek or river bed. '\n",
      "                                 'Sediment and biofilm samples were stored on '\n",
      "                                 'dry ice until arriving at the lab, where '\n",
      "                                 'they were kept at -80C until extraction. '\n",
      "                                 'Temperature, salinity, pH, and redox '\n",
      "                                 'potential were measured with a YSI Pro Plus '\n",
      "                                 'multiparameter meter at the time of '\n",
      "                                 'sampling. Samples collected in 2016 were '\n",
      "                                 'also sent to the Earth Microbiome Project '\n",
      "                                 '500 (EMP500) for 16S, 18S, and ITS amplicon '\n",
      "                                 'sequencing, shotgun metagenomic library '\n",
      "                                 'sequencing, and non-targeted LC-MS/MS '\n",
      "                                 'metabolomic analysis (data not included '\n",
      "                                 'herein).</p><p>DNA Extraction</p><p>Genomic '\n",
      "                                 'DNA was extracted from re-homogenized '\n",
      "                                 'samples using the PowerSoil DNA Isolation '\n",
      "                                 'Kit (MoBio Laboratories, Inc., Carlsbad, CA, '\n",
      "                                 \"USA) following manufacturer's protocol, with \"\n",
      "                                 'the following changes: solutions C1 and C6 '\n",
      "                                 'were heated to 65C. Additionally, we allowed '\n",
      "                                 'solution C6 to sit on the filter membrane '\n",
      "                                 'for at least one minute before '\n",
      "                                 'centrifugation and repeated the C6 '\n",
      "                                 'step.</p><p>16S rRNA Amplicon Diversity '\n",
      "                                 'Sequencing</p><p>Samples were amplified for '\n",
      "                                 'bacterial 16S DNA amplicon sequencing at '\n",
      "                                 'RTLGenomics (Lubbock, TX). In the first '\n",
      "                                 'round of amplification for all samples (2016 '\n",
      "                                 '&amp; 2018), the V1-V3 of the 16S gene was '\n",
      "                                 'targeted for sequencing using a combination '\n",
      "                                 'of the 28F and Illumina i5 sequencing '\n",
      "                                 'primers and the Illumina i7 sequencing '\n",
      "                                 'primer with the 519R primer. Amplifications '\n",
      "                                 'were performed in 25 ul reactions with '\n",
      "                                 'Qiagen HotStarTaq master mix (Qiagen Inc, '\n",
      "                                 'Valencia, CA, USA), 1ul of each 5uM primer, '\n",
      "                                 'and 1ul of template. Reactions were '\n",
      "                                 'performed on ABI Veriti thermocyclers '\n",
      "                                 '(Applied Biosytems, Carlsbad, CA, USA) under '\n",
      "                                 'the following thermal profile: 95C for 5 '\n",
      "                                 'min, then 25 cycles of 94C for 30 sec, 54C '\n",
      "                                 'for 40 sec, 72C for 1 min, followed by one '\n",
      "                                 'cycle of 72C for 10 min and 4C hold. '\n",
      "                                 'Amplicons from the first stage of PCR '\n",
      "                                 'reactions were added to a second '\n",
      "                                 'amplification step based on qualitatively '\n",
      "                                 'determine concentrations using ethidium '\n",
      "                                 'bromide stained gels. Primers for the second '\n",
      "                                 'PCR were designed based on the Illumina '\n",
      "                                 'Nextera PCR primers. The second stage '\n",
      "                                 'amplification utilized the same cycling '\n",
      "                                 'parameters as the first round, except it '\n",
      "                                 'only ran for 10 cycles. Products were then '\n",
      "                                 'pooled in equimolar concentrations and each '\n",
      "                                 'pool was size selected in two rounds using '\n",
      "                                 'SPRIselect (BeckmanCoulter, Indianapolis, '\n",
      "                                 'IN, USA) in a 0.7 ratio for both rounds. '\n",
      "                                 'Size selected pools were then quantified '\n",
      "                                 'using the Quibit 2.0 fluorometer (Life '\n",
      "                                 'Technologies) and loaded on an Illumina '\n",
      "                                 'MiSeq (Illumina, Inc. San Diego, CA, USA) '\n",
      "                                 '2x300 flow cell at 10pM and sequenced at '\n",
      "                                 'RTLGenomics.',\n",
      "                  'Relevance': {'Environmental': 'yes'},\n",
      "                  'Title': 'EXAMINING THE IMPACT OF ACID ROCK DRAINAGE ON THE '\n",
      "                           'SEDIMENT-BORNE MICROBIOMES IN THE ANIMAS RIVER '\n",
      "                           'WATERSHED'},\n",
      " 'ProjectID': {'ArchiveID': {'accession': 'PRJNA1170297',\n",
      "                             'archive': 'NCBI',\n",
      "                             'id': '1170297'},\n",
      "               'LocalID': ['bp0', 'bp0']},\n",
      " 'ProjectType': {'ProjectTypeSubmission': {'IntendedDataTypeSet': {'DataType': 'raw '\n",
      "                                                                               'sequence '\n",
      "                                                                               'reads'},\n",
      "                                           'Method': {'method_type': 'eSequencing'},\n",
      "                                           'Objectives': {'Data': {'data_type': 'eRawSequenceReads'}},\n",
      "                                           'ProjectDataTypeSet': {'DataType': 'raw '\n",
      "                                                                              'sequence '\n",
      "                                                                              'reads'},\n",
      "                                           'Target': {'capture': 'eWhole',\n",
      "                                                      'material': 'eGenome',\n",
      "                                                      'sample_scope': 'eMultispecies'}}},\n",
      " '_id': ObjectId('679d68af4ab3639fc2377b1c'),\n",
      " 'score': 0.5015060240963856,\n",
      " 'xmlns:xsi': 'http://www.w3.org/2001/XMLSchema-instance'}\n",
      "{'ProjectDescr': {'Description': 'Materials and Methods</p><p>Sediment '\n",
      "                                 'Collection</p><p>Samples were collected in '\n",
      "                                 'two-day windows in January 2016 and February '\n",
      "                                 '2018 (see Figure 2.1 for locations of '\n",
      "                                 'collection). Each sediment sample was taken '\n",
      "                                 'from at least three different locations '\n",
      "                                 'within a small area in the creek or river, '\n",
      "                                 'then homogenized in sterile 50mL tubes for '\n",
      "                                 'subsequent DNA extraction and quantification '\n",
      "                                 'of metals. Biofilm samples were collected '\n",
      "                                 'when observed in the creek or river bed. '\n",
      "                                 'Sediment and biofilm samples were stored on '\n",
      "                                 'dry ice until arriving at the lab, where '\n",
      "                                 'they were kept at -80C until extraction. '\n",
      "                                 'Temperature, salinity, pH, and redox '\n",
      "                                 'potential were measured with a YSI Pro Plus '\n",
      "                                 'multiparameter meter at the time of '\n",
      "                                 'sampling. Samples collected in 2016 were '\n",
      "                                 'also sent to the Earth Microbiome Project '\n",
      "                                 '500 (EMP500) for 16S, 18S, and ITS amplicon '\n",
      "                                 'sequencing, shotgun metagenomic library '\n",
      "                                 'sequencing, and non-targeted LC-MS/MS '\n",
      "                                 'metabolomic analysis (data not included '\n",
      "                                 'herein).</p><p>DNA Extraction</p><p>Genomic '\n",
      "                                 'DNA was extracted from re-homogenized '\n",
      "                                 'samples using the PowerSoil DNA Isolation '\n",
      "                                 'Kit (MoBio Laboratories, Inc., Carlsbad, CA, '\n",
      "                                 \"USA) following manufacturer's protocol, with \"\n",
      "                                 'the following changes: solutions C1 and C6 '\n",
      "                                 'were heated to 65C. Additionally, we allowed '\n",
      "                                 'solution C6 to sit on the filter membrane '\n",
      "                                 'for at least one minute before '\n",
      "                                 'centrifugation and repeated the C6 '\n",
      "                                 'step.</p><p>16S rRNA Amplicon Diversity '\n",
      "                                 'Sequencing</p><p>Samples were amplified for '\n",
      "                                 'bacterial 16S DNA amplicon sequencing at '\n",
      "                                 'RTLGenomics (Lubbock, TX). In the first '\n",
      "                                 'round of amplification for all samples (2016 '\n",
      "                                 '&amp; 2018), the V1-V3 of the 16S gene was '\n",
      "                                 'targeted for sequencing using a combination '\n",
      "                                 'of the 28F and Illumina i5 sequencing '\n",
      "                                 'primers and the Illumina i7 sequencing '\n",
      "                                 'primer with the 519R primer. Amplifications '\n",
      "                                 'were performed in 25 ul reactions with '\n",
      "                                 'Qiagen HotStarTaq master mix (Qiagen Inc, '\n",
      "                                 'Valencia, CA, USA), 1ul of each 5uM primer, '\n",
      "                                 'and 1ul of template. Reactions were '\n",
      "                                 'performed on ABI Veriti thermocyclers '\n",
      "                                 '(Applied Biosytems, Carlsbad, CA, USA) under '\n",
      "                                 'the following thermal profile: 95C for 5 '\n",
      "                                 'min, then 25 cycles of 94C for 30 sec, 54C '\n",
      "                                 'for 40 sec, 72C for 1 min, followed by one '\n",
      "                                 'cycle of 72C for 10 min and 4C hold. '\n",
      "                                 'Amplicons from the first stage of PCR '\n",
      "                                 'reactions were added to a second '\n",
      "                                 'amplification step based on qualitatively '\n",
      "                                 'determine concentrations using ethidium '\n",
      "                                 'bromide stained gels. Primers for the second '\n",
      "                                 'PCR were designed based on the Illumina '\n",
      "                                 'Nextera PCR primers. The second stage '\n",
      "                                 'amplification utilized the same cycling '\n",
      "                                 'parameters as the first round, except it '\n",
      "                                 'only ran for 10 cycles. Products were then '\n",
      "                                 'pooled in equimolar concentrations and each '\n",
      "                                 'pool was size selected in two rounds using '\n",
      "                                 'SPRIselect (BeckmanCoulter, Indianapolis, '\n",
      "                                 'IN, USA) in a 0.7 ratio for both rounds. '\n",
      "                                 'Size selected pools were then quantified '\n",
      "                                 'using the Quibit 2.0 fluorometer (Life '\n",
      "                                 'Technologies) and loaded on an Illumina '\n",
      "                                 'MiSeq (Illumina, Inc. San Diego, CA, USA) '\n",
      "                                 '2x300 flow cell at 10pM and sequenced at '\n",
      "                                 'RTLGenomics.',\n",
      "                  'Name': 'Acid Mine Sediment samples',\n",
      "                  'Relevance': {'Environmental': 'yes'},\n",
      "                  'Title': 'EXAMINING THE IMPACT OF ACID ROCK DRAINAGE ON THE '\n",
      "                           'SEDIMENT-BORNE MICROBIOMES IN THE ANIMAS RIVER '\n",
      "                           'WATERSHED'},\n",
      " 'ProjectID': {'ArchiveID': {'accession': 'PRJNA1167286',\n",
      "                             'archive': 'NCBI',\n",
      "                             'id': '1167286'},\n",
      "               'LocalID': ['bp0', 'bp0']},\n",
      " 'ProjectType': {'ProjectTypeSubmission': {'IntendedDataTypeSet': {'DataType': 'raw '\n",
      "                                                                               'sequence '\n",
      "                                                                               'reads'},\n",
      "                                           'Method': {'method_type': 'eSequencing'},\n",
      "                                           'Objectives': {'Data': {'data_type': 'eRawSequenceReads'}},\n",
      "                                           'ProjectDataTypeSet': {'DataType': 'raw '\n",
      "                                                                              'sequence '\n",
      "                                                                              'reads'},\n",
      "                                           'Target': {'Organism': {'OrganismName': 'sediment '\n",
      "                                                                                   'metagenome',\n",
      "                                                                   'Supergroup': 'eOther',\n",
      "                                                                   'species': '749907',\n",
      "                                                                   'taxID': '749907'},\n",
      "                                                      'capture': 'eWhole',\n",
      "                                                      'material': 'eGenome',\n",
      "                                                      'sample_scope': 'eEnvironment'}}},\n",
      " '_id': ObjectId('679d68ad4ab3639fc237710e'),\n",
      " 'score': 0.5015060240963856,\n",
      " 'xmlns:xsi': 'http://www.w3.org/2001/XMLSchema-instance'}\n"
     ]
    }
   ],
   "execution_count": 10
  },
  {
   "metadata": {},
   "cell_type": "markdown",
   "source": [
    "Use the BioProject with the ProjectDescr.Description.Title 'Earth Microbiome Project Multi-omics (EMP500)'\n",
    "\n",
    "I.e. the zeroth element in the list `emp500_candidate_bioprojects`.\n",
    "\n",
    "What's the accession?"
   ],
   "id": "7f5ac3a37b9c0a92"
  },
  {
   "metadata": {
    "ExecuteTime": {
     "end_time": "2025-02-13T15:49:26.745370Z",
     "start_time": "2025-02-13T15:49:26.741603Z"
    }
   },
   "cell_type": "code",
   "source": "emp500_bioproject_accession = emp500_candidate_bioprojects[0]['ProjectID']['ArchiveID']['accession']",
   "id": "a7d203b08de9703d",
   "outputs": [],
   "execution_count": 11
  },
  {
   "metadata": {
    "ExecuteTime": {
     "end_time": "2025-02-13T15:49:26.792554Z",
     "start_time": "2025-02-13T15:49:26.788545Z"
    }
   },
   "cell_type": "code",
   "source": "print(emp500_bioproject_accession)",
   "id": "b3cb16238dd92e7a",
   "outputs": [
    {
     "name": "stdout",
     "output_type": "stream",
     "text": [
      "PRJEB42019\n"
     ]
    }
   ],
   "execution_count": 12
  },
  {
   "metadata": {
    "ExecuteTime": {
     "end_time": "2025-02-13T15:49:26.847187Z",
     "start_time": "2025-02-13T15:49:26.837255Z"
    }
   },
   "cell_type": "code",
   "source": [
    "# Select the collection 'sra_biosamples_bioprojects'\n",
    "sra_biosamples_bioprojects_collection = db[BIOSAMPLES_BIOPROJECTS_COLLECTION]\n",
    "\n",
    "# Define the query to find documents with bioproject_accession equal to \"PRJEB42019\"\n",
    "query = {\"bioproject_accession\": \"PRJEB42019\"}\n",
    "\n",
    "# Execute the query\n",
    "cursor = sra_biosamples_bioprojects_collection.find(query)\n",
    "\n",
    "emp500_biosample_accessions = set()\n",
    "\n",
    "# Iterate over the cursor and print each document\n",
    "for doc in cursor:\n",
    "    emp500_biosample_accessions.add(doc['biosample_accession'])\n"
   ],
   "id": "dfacbce2b42e4136",
   "outputs": [],
   "execution_count": 13
  },
  {
   "metadata": {
    "ExecuteTime": {
     "end_time": "2025-02-13T15:49:26.888603Z",
     "start_time": "2025-02-13T15:49:26.885288Z"
    }
   },
   "cell_type": "code",
   "source": "print(len(emp500_biosample_accessions))",
   "id": "4ad43c10ca58fe9c",
   "outputs": [
    {
     "name": "stdout",
     "output_type": "stream",
     "text": [
      "1024\n"
     ]
    }
   ],
   "execution_count": 14
  },
  {
   "metadata": {
    "ExecuteTime": {
     "end_time": "2025-02-13T15:49:27.008002Z",
     "start_time": "2025-02-13T15:49:26.933314Z"
    }
   },
   "cell_type": "code",
   "source": [
    "biosamples_collection = db.biosamples  # Replace 'xxx' with your actual collection name\n",
    "\n",
    "# Assuming emp500_biosample_accessions is a Python set containing 1024 values\n",
    "# Use the $in operator to match documents where 'accession' is in your set.\n",
    "query = {\"accession\": {\"$in\": list(emp500_biosample_accessions)}}\n",
    "\n",
    "# Execute the query\n",
    "cursor = biosamples_collection.find(query)\n",
    "\n",
    "emp500_biosample_docs = []\n",
    "\n",
    "# Iterate over the cursor and print each matching document\n",
    "for doc in cursor:\n",
    "    emp500_biosample_docs.append(doc)"
   ],
   "id": "a844e6cfcf119293",
   "outputs": [],
   "execution_count": 15
  },
  {
   "metadata": {
    "ExecuteTime": {
     "end_time": "2025-02-13T15:49:27.021743Z",
     "start_time": "2025-02-13T15:49:27.018734Z"
    }
   },
   "cell_type": "code",
   "source": "print(len(emp500_biosample_docs))",
   "id": "a1be5a17ee7096d6",
   "outputs": [
    {
     "name": "stdout",
     "output_type": "stream",
     "text": [
      "1024\n"
     ]
    }
   ],
   "execution_count": 16
  },
  {
   "metadata": {
    "ExecuteTime": {
     "end_time": "2025-02-13T15:49:27.096342Z",
     "start_time": "2025-02-13T15:49:27.065117Z"
    }
   },
   "cell_type": "code",
   "source": [
    "# Define the target harmonized names\n",
    "target_harmonized_names = {\"env_broad_scale\", \"env_local_scale\", \"env_medium\"}\n",
    "\n",
    "# Extract relevant data\n",
    "emp500_env_triad_rows = []  # Store the env triads themselves\n",
    "env_content_counter = Counter()  # Store counts of all strings used as env triad values\n",
    "\n",
    "for doc in emp500_biosample_docs:\n",
    "    accession = doc.get(\"accession\", \"\")\n",
    "    package_content = doc.get(\"Package\", {}).get(\"content\", \"\")\n",
    "\n",
    "    # Extract harmonized values\n",
    "    env_values = {key: \"\" for key in target_harmonized_names}\n",
    "    attributes = doc.get(\"Attributes\", {}).get(\"Attribute\", [])\n",
    "\n",
    "    for attr in attributes:\n",
    "        harmonized_name = attr.get(\"harmonized_name\")\n",
    "        content_value = attr.get(\"content\", \"\")\n",
    "        if harmonized_name in target_harmonized_names:\n",
    "            env_values[harmonized_name] = content_value\n",
    "            env_content_counter[content_value] += 1  # Count occurrences\n",
    "\n",
    "    # Add extracted values to the list\n",
    "    emp500_env_triad_rows.append({\n",
    "        \"accession\": accession,\n",
    "        \"package\": package_content,\n",
    "        \"env_broad_scale\": env_values[\"env_broad_scale\"],\n",
    "        \"env_local_scale\": env_values[\"env_local_scale\"],\n",
    "        \"env_medium\": env_values[\"env_medium\"]\n",
    "    })\n"
   ],
   "id": "cca27d6d6d70ed6e",
   "outputs": [],
   "execution_count": 17
  },
  {
   "metadata": {
    "ExecuteTime": {
     "end_time": "2025-02-13T15:49:27.124134Z",
     "start_time": "2025-02-13T15:49:27.120223Z"
    }
   },
   "cell_type": "code",
   "source": "pprint.pprint(emp500_env_triad_rows[0:3])",
   "id": "6d531e626bc84395",
   "outputs": [
    {
     "name": "stdout",
     "output_type": "stream",
     "text": [
      "[{'accession': 'SAMEA7723388',\n",
      "  'env_broad_scale': 'urban biome',\n",
      "  'env_local_scale': 'anaerobic bioreactor',\n",
      "  'env_medium': 'anaerobic sludge',\n",
      "  'package': 'Generic.1.0'},\n",
      " {'accession': 'SAMEA7723389',\n",
      "  'env_broad_scale': 'urban biome',\n",
      "  'env_local_scale': 'anaerobic bioreactor',\n",
      "  'env_medium': 'anaerobic sludge',\n",
      "  'package': 'Generic.1.0'},\n",
      " {'accession': 'SAMEA7723390',\n",
      "  'env_broad_scale': 'urban biome',\n",
      "  'env_local_scale': 'anaerobic bioreactor',\n",
      "  'env_medium': 'anaerobic sludge',\n",
      "  'package': 'Generic.1.0'}]\n"
     ]
    }
   ],
   "execution_count": 18
  },
  {
   "metadata": {},
   "cell_type": "markdown",
   "source": "The env triads consist of labels only, no CURIes",
   "id": "b4c79177e29bcf9a"
  },
  {
   "metadata": {
    "ExecuteTime": {
     "end_time": "2025-02-13T15:49:27.175757Z",
     "start_time": "2025-02-13T15:49:27.169970Z"
    }
   },
   "cell_type": "code",
   "source": "pprint.pprint(env_content_counter)",
   "id": "b683bf7ce0221413",
   "outputs": [
    {
     "name": "stdout",
     "output_type": "stream",
     "text": [
      "Counter({'urban biome': 285,\n",
      "         'research facility': 191,\n",
      "         'feces': 184,\n",
      "         'sterile water': 178,\n",
      "         'organic material': 166,\n",
      "         'host-associated habitat': 133,\n",
      "         'soil': 132,\n",
      "         'marine benthic feature': 125,\n",
      "         'temperate mixed forest biome': 112,\n",
      "         'marine benthic biome': 90,\n",
      "         'animal-associated habitat': 84,\n",
      "         'marine coral reef biome': 51,\n",
      "         'sediment': 45,\n",
      "         'subpolar coniferous forest biome': 45,\n",
      "         'marine biome': 42,\n",
      "         'marine salt marsh biome': 40,\n",
      "         'desert biome': 40,\n",
      "         'marine sediment': 38,\n",
      "         'marine reef biome': 30,\n",
      "         'tropical broadleaf forest biome': 28,\n",
      "         'insecta-associated habitat': 28,\n",
      "         'lake sediment': 27,\n",
      "         'montane desert': 26,\n",
      "         'alpine soil': 26,\n",
      "         'kelp forest': 25,\n",
      "         'saline marsh': 24,\n",
      "         'temperate coniferous forest biome': 22,\n",
      "         'dense settlement biome': 22,\n",
      "         'coral reef': 22,\n",
      "         'sea water': 22,\n",
      "         'forest biome': 21,\n",
      "         'volcanic feature': 21,\n",
      "         'volcanic soil': 21,\n",
      "         'forest': 21,\n",
      "         'Small lake biome': 20,\n",
      "         'pond bed': 20,\n",
      "         'ocean': 20,\n",
      "         'neritic epipelagic zone biome': 19,\n",
      "         'tropical desert biome': 19,\n",
      "         'stratum': 18,\n",
      "         'peat soil': 18,\n",
      "         'bioreactor': 17,\n",
      "         'biosolids': 17,\n",
      "         'marine pelagic biome': 17,\n",
      "         'mine': 16,\n",
      "         'ocean water': 16,\n",
      "         'temperate coniferous forest': 16,\n",
      "         'cropland biome': 16,\n",
      "         'tundra biome': 15,\n",
      "         'glacier': 15,\n",
      "         'intestine environment': 15,\n",
      "         'oil reservior': 14,\n",
      "         'petroleum': 14,\n",
      "         'surface soil': 14,\n",
      "         'desert sand': 13,\n",
      "         'rock': 13,\n",
      "         'cell culture': 13,\n",
      "         'coastal water body': 12,\n",
      "         'freshwater biome': 12,\n",
      "         'montane grasslands and shrubland biome': 12,\n",
      "         'steppe soil': 12,\n",
      "         'Small river biome': 10,\n",
      "         'tributary': 10,\n",
      "         'stream sediment': 10,\n",
      "         'gravel field': 10,\n",
      "         'gravel': 10,\n",
      "         'cropland': 10,\n",
      "         'anthropogenic terrestrial biome': 10,\n",
      "         'anthropogenic contamination feature': 10,\n",
      "         'coast': 10,\n",
      "         'anaerobic bioreactor': 9,\n",
      "         'anaerobic sludge': 9,\n",
      "         'coastal water': 9,\n",
      "         'cliff': 9,\n",
      "         'wetland': 9,\n",
      "         'dune': 9,\n",
      "         'grassland biome': 7,\n",
      "         'intermittent pond': 7,\n",
      "         'temperate shrubland': 7,\n",
      "         'water': 7,\n",
      "         'forest soil': 6,\n",
      "         'animal manure': 6,\n",
      "         'groundwater': 6,\n",
      "         'marine subtidal rocky reef biome': 6,\n",
      "         'tropical moist broadleaf forest': 6,\n",
      "         'pitcher plant fluid': 6,\n",
      "         'oil palm plantation': 6,\n",
      "         'marine reef': 5,\n",
      "         'mud': 5,\n",
      "         'rangeland biome': 5,\n",
      "         'rangeland': 5,\n",
      "         'planted forest': 5,\n",
      "         'temperate desert biome': 4,\n",
      "         'temperate grassland biome': 4,\n",
      "         'grassland soil': 4,\n",
      "         'mucus': 4,\n",
      "         'sebum': 3,\n",
      "         'bog': 3,\n",
      "         'banana plantation': 3,\n",
      "         'wood': 2,\n",
      "         'biofilm': 2,\n",
      "         'sand': 2,\n",
      "         'temperate woodland biome': 2,\n",
      "         'temperate woodland': 2,\n",
      "         'mangrove': 1,\n",
      "         'lagoon': 1,\n",
      "         'microbial mat': 1,\n",
      "         'stromatolite mat': 1,\n",
      "         'flooded savanna': 1,\n",
      "         'marine subtidal rocky reef': 1,\n",
      "         'neritic bathypelagic zone biome': 1,\n",
      "         'temperate shrubland biome': 1})\n"
     ]
    }
   ],
   "execution_count": 19
  },
  {
   "metadata": {
    "ExecuteTime": {
     "end_time": "2025-02-13T15:49:27.223374Z",
     "start_time": "2025-02-13T15:49:27.220458Z"
    }
   },
   "cell_type": "code",
   "source": "print(len(env_content_counter))",
   "id": "f44948f5288397",
   "outputs": [
    {
     "name": "stdout",
     "output_type": "stream",
     "text": [
      "112\n"
     ]
    }
   ],
   "execution_count": 20
  },
  {
   "metadata": {
    "ExecuteTime": {
     "end_time": "2025-02-13T15:49:27.315794Z",
     "start_time": "2025-02-13T15:49:27.268382Z"
    }
   },
   "cell_type": "code",
   "source": "envo_adapter = get_adapter(envo_adapter_string)",
   "id": "f2c21f7975fa4825",
   "outputs": [],
   "execution_count": 21
  },
  {
   "metadata": {
    "ExecuteTime": {
     "end_time": "2025-02-13T15:49:27.466695Z",
     "start_time": "2025-02-13T15:49:27.327839Z"
    }
   },
   "cell_type": "code",
   "source": [
    "biome_curies = list(envo_adapter.descendants(BIOME, predicates=[IS_A]))\n",
    "env_mat_curies = list(envo_adapter.descendants(ENV_MAT, predicates=[IS_A]))\n",
    "abp_curies = list(envo_adapter.descendants(ABP, predicates=[IS_A]))"
   ],
   "id": "ff80daaeb27a334f",
   "outputs": [],
   "execution_count": 22
  },
  {
   "metadata": {
    "ExecuteTime": {
     "end_time": "2025-02-13T15:49:27.482659Z",
     "start_time": "2025-02-13T15:49:27.479347Z"
    }
   },
   "cell_type": "code",
   "source": "non_biome_non_env_mat_abp_curies = set(abp_curies) - set(biome_curies) - set(env_mat_curies)",
   "id": "b8bfc575dbaea033",
   "outputs": [],
   "execution_count": 23
  },
  {
   "metadata": {
    "ExecuteTime": {
     "end_time": "2025-02-13T15:49:40.528334Z",
     "start_time": "2025-02-13T15:49:27.520923Z"
    }
   },
   "cell_type": "code",
   "source": [
    "# use the OAK annotator to match the submitted env triad values to ENVO terms\n",
    "# Don't panic about red error messages\n",
    "\n",
    "# List to store all annotations\n",
    "env_triad_terms_annotations_list = []\n",
    "\n",
    "for content_value, count in env_content_counter.items():\n",
    "    try:\n",
    "        annotations = envo_adapter.annotate_text(content_value)\n",
    "        for annotation in annotations:\n",
    "            # Fetch the label for the object_id\n",
    "            object_label = envo_adapter.label(annotation.object_id) if annotation.object_id else \"Unknown\"\n",
    "\n",
    "            annotation_dict = {\n",
    "                \"content_value\": content_value,\n",
    "                \"count\": count,  # Frequency of this content value in the dataset\n",
    "                \"predicate_id\": annotation.predicate_id,\n",
    "                \"object_id\": annotation.object_id,\n",
    "                \"object_label\": object_label,  # Looked up label\n",
    "                \"subject_start\": annotation.subject_start,\n",
    "                \"subject_end\": annotation.subject_end,\n",
    "                \"match_string\": annotation.match_string,\n",
    "                \"matches_whole_text\": annotation.matches_whole_text,\n",
    "            }\n",
    "            env_triad_terms_annotations_list.append(annotation_dict)\n",
    "\n",
    "    except Exception as e:\n",
    "        print(f\"Error processing '{content_value}': {e}\")\n"
   ],
   "id": "5313c82ef61ce7f1",
   "outputs": [
    {
     "name": "stderr",
     "output_type": "stream",
     "text": [
      "ERROR:root:Skipping statements(subject=ENVO:01001644,predicate=oio:hasDbXref,object=None,value=Carbonate which is formed as the result of some biological process.,datatype=None,language=None,); ValueError: Carbonate which is formed as the result of some biological process. is not a valid URI or CURIE\n",
      "WARNING:root:Skipping <http://geneontology.org/foo/applies-pattern> as it is not a valid CURIE\n",
      "WARNING:root:Skipping <http://schema.org/image> as it is not a valid CURIE\n",
      "WARNING:root:Skipping <http://swrl.stanford.edu/ontologies/3.3/swrla.owl#isRuleEnabled> as it is not a valid CURIE\n",
      "WARNING:root:Skipping <https://www.wikidata.org/wiki/Q2306597> as it is not a valid CURIE\n",
      "WARNING:root:Skipping <https://www.wikidata.org/wiki/Q2> as it is not a valid CURIE\n",
      "WARNING:root:Skipping <https://www.wikidata.org/wiki/Q525> as it is not a valid CURIE\n",
      "WARNING:root:Skipping <https://www.wikidata.org/wiki/Q715269> as it is not a valid CURIE\n"
     ]
    }
   ],
   "execution_count": 24
  },
  {
   "metadata": {
    "ExecuteTime": {
     "end_time": "2025-02-13T15:49:40.545425Z",
     "start_time": "2025-02-13T15:49:40.542427Z"
    }
   },
   "cell_type": "code",
   "source": [
    "for annotation in env_triad_terms_annotations_list:\n",
    "    annotation[\"match_string_len\"] = len(annotation[\"match_string\"]) if annotation[\"match_string\"] else 0"
   ],
   "id": "2002aab081e05ff7",
   "outputs": [],
   "execution_count": 25
  },
  {
   "metadata": {
    "ExecuteTime": {
     "end_time": "2025-02-13T15:49:40.590212Z",
     "start_time": "2025-02-13T15:49:40.584727Z"
    }
   },
   "cell_type": "code",
   "source": [
    "# Pretty-print some sample results\n",
    "for annotation in env_triad_terms_annotations_list[:10]:  # Show first 10 annotations\n",
    "    pprint.pprint(annotation)"
   ],
   "id": "3d057ed715b4d51d",
   "outputs": [
    {
     "name": "stdout",
     "output_type": "stream",
     "text": [
      "{'content_value': 'urban biome',\n",
      " 'count': 285,\n",
      " 'match_string': 'biome',\n",
      " 'match_string_len': 5,\n",
      " 'matches_whole_text': False,\n",
      " 'object_id': 'ENVO:00000428',\n",
      " 'object_label': 'biome',\n",
      " 'predicate_id': 'rdfs:label',\n",
      " 'subject_end': 11,\n",
      " 'subject_start': 7}\n",
      "{'content_value': 'urban biome',\n",
      " 'count': 285,\n",
      " 'match_string': 'urban biome',\n",
      " 'match_string_len': 11,\n",
      " 'matches_whole_text': True,\n",
      " 'object_id': 'ENVO:01000249',\n",
      " 'object_label': 'urban biome',\n",
      " 'predicate_id': 'rdfs:label',\n",
      " 'subject_end': 11,\n",
      " 'subject_start': 1}\n",
      "{'content_value': 'anaerobic bioreactor',\n",
      " 'count': 9,\n",
      " 'match_string': 'bioreactor',\n",
      " 'match_string_len': 10,\n",
      " 'matches_whole_text': False,\n",
      " 'object_id': 'ENVO:00002123',\n",
      " 'object_label': 'bioreactor',\n",
      " 'predicate_id': 'rdfs:label',\n",
      " 'subject_end': 20,\n",
      " 'subject_start': 11}\n",
      "{'content_value': 'anaerobic bioreactor',\n",
      " 'count': 9,\n",
      " 'match_string': 'anaerobic bioreactor',\n",
      " 'match_string_len': 20,\n",
      " 'matches_whole_text': True,\n",
      " 'object_id': 'ENVO:00002124',\n",
      " 'object_label': 'anaerobic bioreactor',\n",
      " 'predicate_id': 'rdfs:label',\n",
      " 'subject_end': 20,\n",
      " 'subject_start': 1}\n",
      "{'content_value': 'anaerobic bioreactor',\n",
      " 'count': 9,\n",
      " 'match_string': 'anaerobic',\n",
      " 'match_string_len': 9,\n",
      " 'matches_whole_text': False,\n",
      " 'object_id': 'PATO:0001456',\n",
      " 'object_label': 'anaerobic',\n",
      " 'predicate_id': 'rdfs:label',\n",
      " 'subject_end': 9,\n",
      " 'subject_start': 1}\n",
      "{'content_value': 'anaerobic sludge',\n",
      " 'count': 9,\n",
      " 'match_string': 's',\n",
      " 'match_string_len': 1,\n",
      " 'matches_whole_text': False,\n",
      " 'object_id': 'CHEBI:26833',\n",
      " 'object_label': 'sulfur atom',\n",
      " 'predicate_id': 'oio:hasRelatedSynonym',\n",
      " 'subject_end': 11,\n",
      " 'subject_start': 11}\n",
      "{'content_value': 'anaerobic sludge',\n",
      " 'count': 9,\n",
      " 'match_string': 'sludge',\n",
      " 'match_string_len': 6,\n",
      " 'matches_whole_text': False,\n",
      " 'object_id': 'ENVO:00002044',\n",
      " 'object_label': 'sludge',\n",
      " 'predicate_id': 'rdfs:label',\n",
      " 'subject_end': 16,\n",
      " 'subject_start': 11}\n",
      "{'content_value': 'anaerobic sludge',\n",
      " 'count': 9,\n",
      " 'match_string': 'anaerobic sludge',\n",
      " 'match_string_len': 16,\n",
      " 'matches_whole_text': True,\n",
      " 'object_id': 'ENVO:00002129',\n",
      " 'object_label': 'anaerobic sludge',\n",
      " 'predicate_id': 'rdfs:label',\n",
      " 'subject_end': 16,\n",
      " 'subject_start': 1}\n",
      "{'content_value': 'anaerobic sludge',\n",
      " 'count': 9,\n",
      " 'match_string': 'anaerobic',\n",
      " 'match_string_len': 9,\n",
      " 'matches_whole_text': False,\n",
      " 'object_id': 'PATO:0001456',\n",
      " 'object_label': 'anaerobic',\n",
      " 'predicate_id': 'rdfs:label',\n",
      " 'subject_end': 9,\n",
      " 'subject_start': 1}\n",
      "{'content_value': 'Small lake biome',\n",
      " 'count': 20,\n",
      " 'match_string': 'S',\n",
      " 'match_string_len': 1,\n",
      " 'matches_whole_text': False,\n",
      " 'object_id': 'CHEBI:26833',\n",
      " 'object_label': 'sulfur atom',\n",
      " 'predicate_id': 'oio:hasRelatedSynonym',\n",
      " 'subject_end': 1,\n",
      " 'subject_start': 1}\n"
     ]
    }
   ],
   "execution_count": 26
  },
  {
   "metadata": {
    "ExecuteTime": {
     "end_time": "2025-02-13T15:49:40.642384Z",
     "start_time": "2025-02-13T15:49:40.635318Z"
    }
   },
   "cell_type": "code",
   "source": [
    "# Configurable match length cutoff\n",
    "MATCH_LENGTH_CUTOFF = 3  # Exclude matches with length < 3 from needs_review_list\n",
    "\n",
    "# Lists for categorization\n",
    "perfect_match_list = []\n",
    "needs_review_list = []\n",
    "\n",
    "unmatched_content_values = set()  # Store content_values that are neither in perfect_match_list nor needs_review_list\n",
    "non_perfect_match_content_values = set()  # Track all content_values that didn’t make it into perfect matches\n",
    "\n",
    "# Identify content_values that have at least one perfect match with predicate_id='rdfs:label'\n",
    "perfect_match_content_values = set()\n",
    "all_annotated_content_values = set()  # Track all content_values that were annotated\n",
    "\n",
    "for annotation in env_triad_terms_annotations_list:\n",
    "    content_value = annotation[\"content_value\"]\n",
    "    all_annotated_content_values.add(content_value)\n",
    "\n",
    "    if annotation[\"matches_whole_text\"] and annotation[\"predicate_id\"] == \"rdfs:label\":\n",
    "        perfect_match_list.append(annotation)\n",
    "        perfect_match_content_values.add(content_value)\n",
    "\n",
    "# Identify content_values that have no perfect match and meet the length cutoff\n",
    "needs_review_content_values = set()\n",
    "\n",
    "for annotation in env_triad_terms_annotations_list:\n",
    "    content_value = annotation[\"content_value\"]\n",
    "    annotation[\"match_string_len\"] = len(annotation[\"match_string\"]) if annotation[\"match_string\"] else 0\n",
    "\n",
    "    if (\n",
    "            content_value not in perfect_match_content_values and\n",
    "            annotation[\"match_string_len\"] >= MATCH_LENGTH_CUTOFF\n",
    "    ):\n",
    "        needs_review_list.append(annotation)\n",
    "        needs_review_content_values.add(content_value)\n",
    "\n",
    "# Identify content_values that are in env_content_counter but not in perfect_match_list or needs_review_list\n",
    "for content_value in env_content_counter.keys():\n",
    "    if content_value not in perfect_match_content_values and content_value not in needs_review_content_values:\n",
    "        unmatched_content_values.add(content_value)\n"
   ],
   "id": "29ed117e46df984b",
   "outputs": [],
   "execution_count": 27
  },
  {
   "metadata": {
    "ExecuteTime": {
     "end_time": "2025-02-13T15:49:40.849095Z",
     "start_time": "2025-02-13T15:49:40.686584Z"
    }
   },
   "cell_type": "code",
   "source": [
    "obsoletes_curies_labelled = list()\n",
    "\n",
    "obsoletes_curies_envo = set(envo_adapter.obsoletes())\n",
    "for curie in obsoletes_curies_envo:\n",
    "    temp_dict = dict()\n",
    "    temp_dict[\"curie\"] = curie\n",
    "    temp_dict[\"label\"] = envo_adapter.label(curie)\n",
    "    obsoletes_curies_labelled.append(temp_dict)"
   ],
   "id": "1046a8c8f01c813d",
   "outputs": [],
   "execution_count": 28
  },
  {
   "metadata": {
    "ExecuteTime": {
     "end_time": "2025-02-13T15:49:40.877739Z",
     "start_time": "2025-02-13T15:49:40.867103Z"
    }
   },
   "cell_type": "code",
   "source": [
    "# Helper function: Normalize text (lowercase + remove extra spaces)\n",
    "def normalize_text(text):\n",
    "    return re.sub(r'\\s+', ' ', text).strip().lower()  # Replace multiple spaces & trim\n",
    "\n",
    "\n",
    "# Create a lookup set of normalized obsolete labels\n",
    "obsolete_label_set = {normalize_text(entry[\"label\"]) for entry in obsoletes_curies_labelled}\n",
    "\n",
    "# Prepare result storage\n",
    "exact_obsolete_matches = []\n",
    "\n",
    "# Check if \"obsolete \" + content_value exists in the obsolete labels\n",
    "for content_value in needs_review_content_values | unmatched_content_values:  # Union of both sets\n",
    "    obsolete_label_candidate = normalize_text(f\"obsolete {content_value}\")\n",
    "    if obsolete_label_candidate in obsolete_label_set:\n",
    "        # Find the corresponding CURIE using normalized comparison\n",
    "        matching_entry = next(entry for entry in obsoletes_curies_labelled\n",
    "                              if normalize_text(entry[\"label\"]) == obsolete_label_candidate)\n",
    "        exact_obsolete_matches.append({\n",
    "            \"content_value\": content_value,  # ORIGINAL content_value\n",
    "            \"obsolete_label\": matching_entry[\"label\"],  # ORIGINAL obsolete label\n",
    "            \"obsolete_curie\": matching_entry[\"curie\"]\n",
    "        })\n"
   ],
   "id": "ccafe43e20c6b4ba",
   "outputs": [],
   "execution_count": 29
  },
  {
   "metadata": {
    "ExecuteTime": {
     "end_time": "2025-02-13T15:49:40.914108Z",
     "start_time": "2025-02-13T15:49:40.909541Z"
    }
   },
   "cell_type": "code",
   "source": "pprint.pprint(exact_obsolete_matches)",
   "id": "f03ca54f21d564a5",
   "outputs": [
    {
     "name": "stdout",
     "output_type": "stream",
     "text": [
      "[{'content_value': 'insecta-associated habitat',\n",
      "  'obsolete_curie': 'ENVO:00009004',\n",
      "  'obsolete_label': 'obsolete insecta-associated habitat'},\n",
      " {'content_value': 'montane grasslands and shrubland biome',\n",
      "  'obsolete_curie': 'ENVO:00000882',\n",
      "  'obsolete_label': 'obsolete Montane grasslands and shrubland biome'},\n",
      " {'content_value': 'animal-associated habitat',\n",
      "  'obsolete_curie': 'ENVO:00006776',\n",
      "  'obsolete_label': 'obsolete animal-associated habitat'},\n",
      " {'content_value': 'ocean water',\n",
      "  'obsolete_curie': 'ENVO:00002151',\n",
      "  'obsolete_label': 'obsolete ocean water'},\n",
      " {'content_value': 'marine benthic feature',\n",
      "  'obsolete_curie': 'ENVO:01000105',\n",
      "  'obsolete_label': 'obsolete marine benthic feature'}]\n"
     ]
    }
   ],
   "execution_count": 30
  },
  {
   "metadata": {
    "ExecuteTime": {
     "end_time": "2025-02-13T15:49:41.216066Z",
     "start_time": "2025-02-13T15:49:40.961118Z"
    }
   },
   "cell_type": "code",
   "source": [
    "obsolete_curies = {entry[\"obsolete_curie\"] for entry in\n",
    "                   exact_obsolete_matches}  # obsolete values that were used (indirectly)\n",
    "# obsolete_curies = {entry[\"curie\"] for entry in obsoletes_curies_labelled} # all obsolete values in EnvO\n",
    "\n",
    "obsoletes_metadata_list = []\n",
    "\n",
    "for curie in obsolete_curies:\n",
    "    entity_metadata = envo_adapter.entity_metadata_map(curie)  # Fetch metadata\n",
    "    if entity_metadata:\n",
    "        obsoletes_metadata_list.append(entity_metadata)\n"
   ],
   "id": "566bfca91a2c25cd",
   "outputs": [],
   "execution_count": 31
  },
  {
   "metadata": {
    "ExecuteTime": {
     "end_time": "2025-02-13T15:49:41.238639Z",
     "start_time": "2025-02-13T15:49:41.233286Z"
    }
   },
   "cell_type": "code",
   "source": "pprint.pprint(obsoletes_metadata_list)",
   "id": "3194e89c36ab84f1",
   "outputs": [
    {
     "name": "stdout",
     "output_type": "stream",
     "text": [
      "[{'IAO:0000115': ['A habitat that is in or on a living animal. Here \"animal\" '\n",
      "                  'denotes an individual of a species that is a sub-taxon of '\n",
      "                  'NCBITaxon:33208.'],\n",
      "  'id': ['ENVO:00006776'],\n",
      "  'oio:hasExactSynonym': ['metazoan-associated habitat'],\n",
      "  'oio:hasOBONamespace': ['ENVO'],\n",
      "  'oio:id': ['ENVO:00006776'],\n",
      "  'oio:inSubset': ['obo:envo#EnvO-Lite-GSC'],\n",
      "  'owl:deprecated': [True],\n",
      "  'rdfs:isDefinedBy': ['http://purl.obolibrary.org/obo/envo.owl'],\n",
      "  'rdfs:label': ['obsolete animal-associated habitat'],\n",
      "  'schema:url': ['http://purl.obolibrary.org/obo/ENVO_00006776'],\n",
      "  'sh:prefix': ['ENVO']},\n",
      " {'IAO:0000115': ['OBSOLETE A prominent or distinctive aspect, quality, or '\n",
      "                  'characteristic of environments occurring on or along marine '\n",
      "                  'benthic environments.'],\n",
      "  'id': ['ENVO:01000105'],\n",
      "  'oio:consider': ['ENVO:01001788',\n",
      "                   'ENVO:01001479',\n",
      "                   'ENVO:00000447',\n",
      "                   'ENVO:00000191'],\n",
      "  'oio:created_by': ['ORCID:0000-0002-4366-3088'],\n",
      "  'oio:creation_date': ['2010-03-16T12:27:00Z'],\n",
      "  'owl:deprecated': [True],\n",
      "  'rdfs:comment': ['Ambiguous term, please consider using a more precise term '\n",
      "                   'which describes the feature of tinterest.'],\n",
      "  'rdfs:isDefinedBy': ['http://purl.obolibrary.org/obo/envo.owl'],\n",
      "  'rdfs:label': ['obsolete marine benthic feature'],\n",
      "  'schema:url': ['http://purl.obolibrary.org/obo/ENVO_01000105'],\n",
      "  'sh:prefix': ['ENVO']},\n",
      " {'id': ['ENVO:00000882'],\n",
      "  'oio:consider': ['ENVO:01000194', 'ENVO:01000216'],\n",
      "  'oio:hasOBONamespace': ['ENVO'],\n",
      "  'oio:id': ['ENVO:00000882'],\n",
      "  'owl:deprecated': [True],\n",
      "  'rdfs:isDefinedBy': ['http://purl.obolibrary.org/obo/envo.owl'],\n",
      "  'rdfs:label': ['obsolete Montane grasslands and shrubland biome'],\n",
      "  'schema:url': ['http://purl.obolibrary.org/obo/ENVO_00000882'],\n",
      "  'sh:prefix': ['ENVO']},\n",
      " {'IAO:0000115': ['A habitat that is in or on a living insect. Here \"insect\" '\n",
      "                  'denotes an individual of a species that is a sub-taxon of '\n",
      "                  'NCBITaxon:50557.'],\n",
      "  'id': ['ENVO:00009004'],\n",
      "  'oio:hasOBONamespace': ['ENVO'],\n",
      "  'oio:id': ['ENVO:00009004'],\n",
      "  'owl:deprecated': [True],\n",
      "  'rdfs:isDefinedBy': ['http://purl.obolibrary.org/obo/envo.owl'],\n",
      "  'rdfs:label': ['obsolete insecta-associated habitat'],\n",
      "  'schema:url': ['http://purl.obolibrary.org/obo/ENVO_00009004'],\n",
      "  'sh:prefix': ['ENVO']},\n",
      " {'IAO:0100001': ['ENVO:00002149'],\n",
      "  'id': ['ENVO:00002151'],\n",
      "  'oio:hasDbXref': ['https://en.wikipedia.org/wiki/Ocean_water'],\n",
      "  'oio:hasOBONamespace': ['ENVO'],\n",
      "  'oio:id': ['ENVO:00002151'],\n",
      "  'owl:deprecated': [True],\n",
      "  'rdfs:isDefinedBy': ['http://purl.obolibrary.org/obo/envo.owl'],\n",
      "  'rdfs:label': ['obsolete ocean water'],\n",
      "  'schema:url': ['http://purl.obolibrary.org/obo/ENVO_00002151'],\n",
      "  'sh:prefix': ['ENVO']}]\n"
     ]
    }
   ],
   "execution_count": 32
  },
  {
   "metadata": {
    "ExecuteTime": {
     "end_time": "2025-02-13T15:49:41.280419Z",
     "start_time": "2025-02-13T15:49:41.276767Z"
    }
   },
   "cell_type": "code",
   "source": [
    "obsoletes_predicate_counter = Counter()\n",
    "\n",
    "for metadata in obsoletes_metadata_list:\n",
    "    if isinstance(metadata, dict):  # Ensure it's a dictionary\n",
    "        obsoletes_predicate_counter.update(metadata.keys())\n"
   ],
   "id": "f9ef0ede64483ae8",
   "outputs": [],
   "execution_count": 33
  },
  {
   "metadata": {
    "ExecuteTime": {
     "end_time": "2025-02-13T15:49:41.327737Z",
     "start_time": "2025-02-13T15:49:41.324243Z"
    }
   },
   "cell_type": "code",
   "source": [
    "for key, count in obsoletes_predicate_counter.most_common():\n",
    "    print(f\"{key}: {count}\")"
   ],
   "id": "a0672ded8d7505d4",
   "outputs": [
    {
     "name": "stdout",
     "output_type": "stream",
     "text": [
      "id: 5\n",
      "owl:deprecated: 5\n",
      "rdfs:label: 5\n",
      "sh:prefix: 5\n",
      "schema:url: 5\n",
      "rdfs:isDefinedBy: 5\n",
      "oio:hasOBONamespace: 4\n",
      "oio:id: 4\n",
      "IAO:0000115: 3\n",
      "oio:consider: 2\n",
      "oio:hasExactSynonym: 1\n",
      "oio:inSubset: 1\n",
      "oio:created_by: 1\n",
      "oio:creation_date: 1\n",
      "rdfs:comment: 1\n",
      "IAO:0100001: 1\n",
      "oio:hasDbXref: 1\n"
     ]
    }
   ],
   "execution_count": 34
  },
  {
   "metadata": {
    "ExecuteTime": {
     "end_time": "2025-02-13T15:49:41.380335Z",
     "start_time": "2025-02-13T15:49:41.373297Z"
    }
   },
   "cell_type": "code",
   "source": [
    "# Compute high-level summary statistics\n",
    "summary = {\n",
    "    \"total_unique_terms\": len(env_content_counter),  # Unique terms submitted\n",
    "    \"perfect_matches\": len(perfect_match_content_values),  # Unique perfect matches\n",
    "    \"matches_need_review\": len(needs_review_content_values),  # Unique terms needing review\n",
    "    \"no_valid_oak_match\": len(unmatched_content_values),  # Terms that didn't get a valid OAK annotation\n",
    "    \"exact_obsolete_matches\": len(exact_obsolete_matches),  # Unique terms that exactly matched an obsolete label\n",
    "    \"obsolete_terms_with_replacement\": sum(\n",
    "        1 for m in obsoletes_metadata_list if \"IAO:0100001\" in m\n",
    "    ),  # Obsolete terms with a clear replacement\n",
    "    \"obsolete_terms_with_consider\": sum(\n",
    "        1 for m in obsoletes_metadata_list if \"oio:consider\" in m\n",
    "    ),  # Obsolete terms with \"consider\" alternatives\n",
    "}\n",
    "\n",
    "# Consistency check\n",
    "if summary[\"perfect_matches\"] + summary[\"matches_need_review\"] + summary[\"no_valid_oak_match\"] != summary[\n",
    "    \"total_unique_terms\"]:\n",
    "    print(\n",
    "        f\"WARNING: perfect_matches ({summary['perfect_matches']}) + matches_need_review ({summary['matches_need_review']}) \"\n",
    "        f\"+ no_valid_oak_match ({summary['no_valid_oak_match']}) ≠ total_unique_terms ({summary['total_unique_terms']})\"\n",
    "    )\n",
    "\n",
    "# Save to JSON\n",
    "summary_json_file = \"emp500_summary.json\"\n",
    "with open(summary_json_file, \"w\", encoding=\"utf-8\") as json_file:\n",
    "    json.dump(summary, json_file, indent=4)\n",
    "\n",
    "print(f\"Summary saved to {summary_json_file}\")\n"
   ],
   "id": "aefbf96ba835fb3e",
   "outputs": [
    {
     "name": "stdout",
     "output_type": "stream",
     "text": [
      "Summary saved to emp500_summary.json\n"
     ]
    }
   ],
   "execution_count": 35
  },
  {
   "metadata": {
    "ExecuteTime": {
     "end_time": "2025-02-13T15:49:41.442650Z",
     "start_time": "2025-02-13T15:49:41.425616Z"
    }
   },
   "cell_type": "code",
   "source": [
    "# Initialize an empty list to store term legitimacy data\n",
    "term_legitimacy_data = []\n",
    "\n",
    "for content_value, emp500_usages in env_content_counter.items():\n",
    "    # Determine perfect match status\n",
    "    is_perfect_match = content_value in perfect_match_content_values\n",
    "\n",
    "    # Get matched_label and matched_curie from perfect_match_list\n",
    "    perfect_match_entry = next(\n",
    "        (entry for entry in perfect_match_list if entry[\"content_value\"] == content_value),\n",
    "        None\n",
    "    )\n",
    "    matched_label = perfect_match_entry[\"object_label\"] if perfect_match_entry else \"\"\n",
    "    matched_curie = perfect_match_entry[\"object_id\"] if perfect_match_entry else \"\"\n",
    "\n",
    "    # Determine obsolete status\n",
    "    obsolete_entry = next((e for e in exact_obsolete_matches if e[\"content_value\"] == content_value), None)\n",
    "    is_obsolete = bool(obsolete_entry)\n",
    "    obsolete_label = obsolete_entry[\"obsolete_label\"] if obsolete_entry else \"\"\n",
    "    obsolete_curie = \"\"\n",
    "\n",
    "    # Get obsolete CURIE from obsoletes_curies_labelled\n",
    "    if obsolete_entry:\n",
    "        obsolete_curie_entry = next(\n",
    "            (o for o in obsoletes_curies_labelled if obsolete_label in o[\"label\"]),\n",
    "            None\n",
    "        )\n",
    "        obsolete_curie = obsolete_curie_entry[\"curie\"] if obsolete_curie_entry else \"\"\n",
    "\n",
    "    # Determine replacement term (IAO:0100001)\n",
    "    replacement_curie = \"\"\n",
    "    replacement_label = \"\"\n",
    "    consider_replacements = \"\"\n",
    "\n",
    "    if obsolete_curie:\n",
    "        metadata = next((m for m in obsoletes_metadata_list if \"id\" in m and obsolete_curie in m[\"id\"]), None)\n",
    "\n",
    "        # Process replacement_curie\n",
    "        if metadata and \"IAO:0100001\" in metadata:\n",
    "            replacement_curie = metadata[\"IAO:0100001\"][0]  # Extract replacement CURIE\n",
    "            replacement_label = envo_adapter.label(replacement_curie) if replacement_curie else \"\"\n",
    "\n",
    "        # Process oio:consider replacements\n",
    "        if metadata and \"oio:consider\" in metadata:\n",
    "            consider_list = metadata[\"oio:consider\"]\n",
    "            consider_replacements = \" | \".join(\n",
    "                f\"{curie}/{envo_adapter.label(curie)}\" for curie in consider_list\n",
    "            )\n",
    "\n",
    "    # Append data to the list\n",
    "    term_legitimacy_data.append({\n",
    "        \"content_value\": content_value,\n",
    "        \"emp500_usages\": emp500_usages,\n",
    "        \"perfect_match\": is_perfect_match,\n",
    "        \"matched_label\": matched_label,\n",
    "        \"matched_curie\": matched_curie,\n",
    "        \"is_obsolete\": is_obsolete,\n",
    "        \"obsolete_label\": obsolete_label,\n",
    "        \"obsolete_curie\": obsolete_curie,\n",
    "        \"replacement_curie\": replacement_curie,\n",
    "        \"replacement_label\": replacement_label,\n",
    "        \"consider_replacements\": consider_replacements\n",
    "    })\n",
    "\n",
    "# Define file path\n",
    "detailed_tsv = \"emp500_term_legitimacy.tsv\"\n",
    "\n",
    "# Write collected data to TSV using csv.DictWriter\n",
    "with open(detailed_tsv, mode=\"w\", newline=\"\", encoding=\"utf-8\") as file:\n",
    "    fieldnames = [\n",
    "        \"content_value\", \"emp500_usages\", \"perfect_match\", \"matched_label\", \"matched_curie\",\n",
    "        \"is_obsolete\", \"obsolete_label\", \"obsolete_curie\", \"replacement_curie\", \"replacement_label\",\n",
    "        \"consider_replacements\"\n",
    "    ]\n",
    "    writer = csv.DictWriter(file, delimiter=\"\\t\", fieldnames=fieldnames)\n",
    "\n",
    "    # Write header\n",
    "    writer.writeheader()\n",
    "\n",
    "    # Write data rows\n",
    "    writer.writerows(term_legitimacy_data)\n"
   ],
   "id": "b52106af62db5595",
   "outputs": [],
   "execution_count": 36
  },
  {
   "metadata": {
    "ExecuteTime": {
     "end_time": "2025-02-13T15:49:41.505649Z",
     "start_time": "2025-02-13T15:49:41.496270Z"
    }
   },
   "cell_type": "code",
   "source": [
    "# Extract `content_value` entries from term_legitimacy_data where `is_obsolete` is True\n",
    "obsolete_content_values = {\n",
    "    entry[\"content_value\"] for entry in term_legitimacy_data if entry[\"is_obsolete\"]\n",
    "}\n",
    "\n",
    "# Create a unified list to hold all formatted entries for writing\n",
    "needs_review_data = []\n",
    "\n",
    "# Process `needs_review_list` while filtering out obsolete content values\n",
    "for entry in needs_review_list:\n",
    "    if entry[\"content_value\"] not in obsolete_content_values:\n",
    "        formatted_entry = {\n",
    "            \"content_value\": entry[\"content_value\"],\n",
    "            \"emp500_usages\": entry.pop(\"count\", 0),  # Rename \"count\" to \"emp500_usages\"\n",
    "            \"predicate_id\": entry.get(\"predicate_id\", \"\"),\n",
    "            \"object_id\": entry.get(\"object_id\", \"\"),\n",
    "            \"object_label\": entry.get(\"object_label\", \"\"),\n",
    "            \"subject_start\": entry.get(\"subject_start\", \"\"),\n",
    "            \"subject_end\": entry.get(\"subject_end\", \"\"),\n",
    "            \"match_string\": entry.get(\"match_string\", \"\"),\n",
    "            \"match_string_len\": entry.get(\"match_string_len\", \"\"),\n",
    "            \"matches_whole_text\": entry.get(\"matches_whole_text\", \"\")\n",
    "        }\n",
    "        needs_review_data.append(formatted_entry)\n",
    "\n",
    "# Process unmatched content values (excluding obsolete terms)\n",
    "filtered_unmatched_content_values = unmatched_content_values - obsolete_content_values\n",
    "\n",
    "for content_value in filtered_unmatched_content_values:\n",
    "    formatted_entry = {\n",
    "        \"content_value\": content_value,\n",
    "        \"emp500_usages\": env_content_counter.get(content_value, 0),\n",
    "        \"predicate_id\": \"\",\n",
    "        \"object_id\": \"\",\n",
    "        \"object_label\": \"\",\n",
    "        \"subject_start\": \"\",\n",
    "        \"subject_end\": \"\",\n",
    "        \"match_string\": \"\",\n",
    "        \"match_string_len\": \"\",\n",
    "        \"matches_whole_text\": \"\"\n",
    "    }\n",
    "    needs_review_data.append(formatted_entry)\n",
    "\n",
    "# Define fieldnames based on actual expected columns\n",
    "fieldnames = [\n",
    "    \"content_value\", \"emp500_usages\", \"predicate_id\", \"object_id\", \"object_label\",\n",
    "    \"subject_start\", \"subject_end\", \"match_string\", \"match_string_len\", \"matches_whole_text\"\n",
    "]\n",
    "\n",
    "# Save Needs Review to TSV\n",
    "needs_review_tsv = \"emp500_env_context_vocabulary_for_review.tsv\"\n",
    "\n",
    "# Write collected data to TSV using csv.DictWriter\n",
    "with open(needs_review_tsv, mode=\"w\", newline=\"\", encoding=\"utf-8\") as file:\n",
    "    writer = csv.DictWriter(file, delimiter=\"\\t\", fieldnames=fieldnames)\n",
    "    writer.writeheader()\n",
    "    writer.writerows(needs_review_data)\n",
    "\n",
    "print(f\"Needs Review TSV saved to {needs_review_tsv} (Filtered & ensures obsolete terms do NOT reappear)\")\n"
   ],
   "id": "3f32f1974de7a63c",
   "outputs": [
    {
     "name": "stdout",
     "output_type": "stream",
     "text": [
      "Needs Review TSV saved to emp500_env_context_vocabulary_for_review.tsv (Filtered & ensures obsolete terms do NOT reappear)\n"
     ]
    }
   ],
   "execution_count": 37
  },
  {
   "metadata": {
    "ExecuteTime": {
     "end_time": "2025-02-13T15:49:41.544731Z",
     "start_time": "2025-02-13T15:49:41.541676Z"
    }
   },
   "cell_type": "code",
   "source": [
    "# Create a lookup dictionary from term_legitimacy_data using content_value as the key\n",
    "term_lookup = {entry[\"content_value\"]: entry for entry in term_legitimacy_data}"
   ],
   "id": "3d59aed8c08aa99a",
   "outputs": [],
   "execution_count": 38
  },
  {
   "metadata": {
    "ExecuteTime": {
     "end_time": "2025-02-13T15:49:41.624844Z",
     "start_time": "2025-02-13T15:49:41.588669Z"
    }
   },
   "cell_type": "code",
   "source": [
    "# List to store the transformed MIxS-style data\n",
    "emp500_mixs_triad_rows = []\n",
    "\n",
    "# List to collect logs for missing term annotations\n",
    "missing_term_logs = []\n",
    "\n",
    "# Expected subset mappings and corresponding boolean flags\n",
    "subset_validations = {\n",
    "    \"env_broad_scale\": (\"is_biome\", biome_curies),\n",
    "    \"env_local_scale\": (\"is_selected_abp\", non_biome_non_env_mat_abp_curies),\n",
    "    \"env_medium\": (\"is_env_mat\", env_mat_curies)  # Corrected order\n",
    "}\n",
    "\n",
    "# Iterate over each biosample record\n",
    "for sample in emp500_env_triad_rows:\n",
    "    # Retain original data\n",
    "    transformed_sample = sample.copy()\n",
    "\n",
    "    for key in target_harmonized_names:\n",
    "        original_value = sample.get(key, \"\").strip()\n",
    "\n",
    "        # Add original value as-is\n",
    "        transformed_sample[key] = original_value\n",
    "\n",
    "        # Initialize MIxS-style key\n",
    "        mixs_key = f\"{key}_mixs\"\n",
    "\n",
    "        if not original_value:\n",
    "            transformed_sample[mixs_key] = \"\"  # Keep blank if no value\n",
    "            continue  # Skip empty values\n",
    "\n",
    "        # Lookup the term legitimacy data\n",
    "        term_data = term_lookup.get(original_value, {})\n",
    "\n",
    "        # Extract matching or replacement details\n",
    "        matched_label = term_data.get(\"matched_label\", \"\")\n",
    "        matched_curie = term_data.get(\"matched_curie\", \"\")\n",
    "        replacement_label = term_data.get(\"replacement_label\", \"\")\n",
    "        replacement_curie = term_data.get(\"replacement_curie\", \"\")\n",
    "        consider_replacements = term_data.get(\"consider_replacements\", \"\")\n",
    "\n",
    "        # Build MIxS-style value\n",
    "        mixs_value = \"\"\n",
    "        via_obsolescence = False  # Default to False\n",
    "\n",
    "        if replacement_label and replacement_curie:\n",
    "            mixs_value = f\"{replacement_label} [{replacement_curie}]\"\n",
    "            via_obsolescence = True  # Mark as replaced due to obsolescence\n",
    "        elif matched_label and matched_curie:\n",
    "            mixs_value = f\"{matched_label} [{matched_curie}]\"\n",
    "        else:\n",
    "            # Log missing annotation details\n",
    "            missing_term_logs.append({\n",
    "                \"accession\": sample[\"accession\"],\n",
    "                \"problematic_key\": key,\n",
    "                \"problematic_value\": original_value,\n",
    "                \"consider_replacements\": consider_replacements\n",
    "            })\n",
    "\n",
    "        # Store the transformed MIxS-style value\n",
    "        transformed_sample[mixs_key] = mixs_value\n",
    "        transformed_sample[f\"{mixs_key}_via_obsolescence\"] = via_obsolescence  # Store the obsolescence flag\n",
    "\n",
    "        # Validate subset membership and set boolean flag\n",
    "        curie = replacement_curie if via_obsolescence else matched_curie\n",
    "        subset_key, expected_curies = subset_validations.get(key, (None, None))\n",
    "\n",
    "        if subset_key:\n",
    "            transformed_sample[subset_key] = curie in expected_curies if curie else False\n",
    "\n",
    "    # Append transformed row\n",
    "    emp500_mixs_triad_rows.append(transformed_sample)\n"
   ],
   "id": "a1818e2c2d4a9da4",
   "outputs": [],
   "execution_count": 39
  },
  {
   "metadata": {
    "ExecuteTime": {
     "end_time": "2025-02-13T15:49:41.651105Z",
     "start_time": "2025-02-13T15:49:41.648431Z"
    }
   },
   "cell_type": "code",
   "source": [
    "# Define output file names\n",
    "missing_terms_tsv = \"emp500_annotations_for_review.tsv\""
   ],
   "id": "81797a4f4216e101",
   "outputs": [],
   "execution_count": 40
  },
  {
   "metadata": {
    "ExecuteTime": {
     "end_time": "2025-02-13T15:49:41.681538Z",
     "start_time": "2025-02-13T15:49:41.674111Z"
    }
   },
   "cell_type": "code",
   "source": [
    "# Write missing_term_logs to a TSV file\n",
    "if missing_term_logs:\n",
    "    fieldnames = missing_term_logs[0].keys()  # Get all column headers from the first row\n",
    "\n",
    "    with open(missing_terms_tsv, mode=\"w\", newline=\"\", encoding=\"utf-8\") as file:\n",
    "        writer = csv.DictWriter(file, delimiter=\"\\t\", fieldnames=fieldnames)\n",
    "        writer.writeheader()\n",
    "        writer.writerows(missing_term_logs)\n",
    "\n",
    "    print(f\"Missing term logs saved to {missing_terms_tsv}\")"
   ],
   "id": "98c5882062e49936",
   "outputs": [
    {
     "name": "stdout",
     "output_type": "stream",
     "text": [
      "Missing term logs saved to emp500_annotations_for_review.tsv\n"
     ]
    }
   ],
   "execution_count": 41
  },
  {
   "metadata": {
    "ExecuteTime": {
     "end_time": "2025-02-13T15:49:41.711377Z",
     "start_time": "2025-02-13T15:49:41.707305Z"
    }
   },
   "cell_type": "code",
   "source": [
    "# Initialize a Counter to track occurrences of env_medium_mixs\n",
    "env_medium_mixs_counter = Counter()\n",
    "\n",
    "# Iterate through the list of dictionaries\n",
    "for row in emp500_mixs_triad_rows:\n",
    "    # Ensure is_env_mat is False\n",
    "    if not row.get(\"is_env_mat\", True):  # Default to True if missing\n",
    "        env_medium_mixs_value = row.get(\"env_medium_mixs\", None)  # Get the value, default to None if missing\n",
    "        env_medium_mixs_counter[env_medium_mixs_value] += 1  # Increment the count\n",
    "\n"
   ],
   "id": "4d16e3f16b14077d",
   "outputs": [],
   "execution_count": 42
  },
  {
   "metadata": {
    "ExecuteTime": {
     "end_time": "2025-02-13T15:49:41.740385Z",
     "start_time": "2025-02-13T15:49:41.733563Z"
    }
   },
   "cell_type": "code",
   "source": "env_medium_mixs_counter",
   "id": "dd79e74630380b79",
   "outputs": [
    {
     "data": {
      "text/plain": [
       "Counter({'feces [UBERON:0001988]': 184,\n",
       "         'intestine environment [ENVO:2100002]': 15,\n",
       "         '': 15,\n",
       "         'water [CHEBI:15377]': 7,\n",
       "         'mucus [UBERON:0000912]': 4,\n",
       "         'sebum [UBERON:0001866]': 3,\n",
       "         'biofilm [ENVO:00002034]': 2})"
      ]
     },
     "execution_count": 43,
     "metadata": {},
     "output_type": "execute_result"
    }
   ],
   "execution_count": 43
  },
  {
   "metadata": {},
   "cell_type": "markdown",
   "source": [
    "feces, mucus and sebum are reasonable for some samples. Should we just add them to the env_medium acceptable list (currently just environment materials)\n",
    "\n",
    "check NMDC value sets/enums for biofile\n",
    "\n",
    "inappropriate/inadequate\n",
    "- intestine environment\n",
    "- \"\"\n",
    "\n",
    "water should be replaced with EnvO's 'liquid water' ENVO:00002006\n"
   ],
   "id": "af40a703d1087f98"
  },
  {
   "metadata": {
    "ExecuteTime": {
     "end_time": "2025-02-13T15:49:41.770615Z",
     "start_time": "2025-02-13T15:49:41.765997Z"
    }
   },
   "cell_type": "code",
   "source": [
    "# Initialize a Counter to track occurrences of (problematic_key, problematic_value)\n",
    "problematic_counts = Counter()\n",
    "\n",
    "# Count occurrences of each unique problematic_key/problematic_value combination\n",
    "for entry in missing_term_logs:\n",
    "    key_value_pair = (entry[\"problematic_key\"], entry[\"problematic_value\"])\n",
    "    problematic_counts[key_value_pair] += 1\n",
    "\n",
    "# Convert the Counter into a list of dictionaries\n",
    "problematic_summary = [\n",
    "    {\"problematic_key\": key, \"problematic_value\": value, \"count\": count}\n",
    "    for (key, value), count in problematic_counts.items()\n",
    "]\n"
   ],
   "id": "1515200670cc2207",
   "outputs": [],
   "execution_count": 44
  },
  {
   "metadata": {
    "ExecuteTime": {
     "end_time": "2025-02-13T15:49:41.804914Z",
     "start_time": "2025-02-13T15:49:41.795933Z"
    }
   },
   "cell_type": "code",
   "source": "problematic_summary",
   "id": "ce1a62d7d5c86de0",
   "outputs": [
    {
     "data": {
      "text/plain": [
       "[{'problematic_key': 'env_broad_scale',\n",
       "  'problematic_value': 'Small lake biome',\n",
       "  'count': 20},\n",
       " {'problematic_key': 'env_local_scale',\n",
       "  'problematic_value': 'marine benthic feature',\n",
       "  'count': 125},\n",
       " {'problematic_key': 'env_local_scale',\n",
       "  'problematic_value': 'host-associated habitat',\n",
       "  'count': 133},\n",
       " {'problematic_key': 'env_local_scale',\n",
       "  'problematic_value': 'animal-associated habitat',\n",
       "  'count': 84},\n",
       " {'problematic_key': 'env_local_scale',\n",
       "  'problematic_value': 'mangrove',\n",
       "  'count': 1},\n",
       " {'problematic_key': 'env_local_scale',\n",
       "  'problematic_value': 'intermittent pond',\n",
       "  'count': 7},\n",
       " {'problematic_key': 'env_local_scale',\n",
       "  'problematic_value': 'insecta-associated habitat',\n",
       "  'count': 28},\n",
       " {'problematic_key': 'env_medium',\n",
       "  'problematic_value': 'coastal water',\n",
       "  'count': 9},\n",
       " {'problematic_key': 'env_local_scale',\n",
       "  'problematic_value': 'bog',\n",
       "  'count': 3},\n",
       " {'problematic_key': 'env_local_scale',\n",
       "  'problematic_value': 'oil reservior',\n",
       "  'count': 14},\n",
       " {'problematic_key': 'env_local_scale',\n",
       "  'problematic_value': 'wetland',\n",
       "  'count': 9},\n",
       " {'problematic_key': 'env_broad_scale',\n",
       "  'problematic_value': 'temperate shrubland',\n",
       "  'count': 6},\n",
       " {'problematic_key': 'env_local_scale',\n",
       "  'problematic_value': 'forest',\n",
       "  'count': 21},\n",
       " {'problematic_key': 'env_medium',\n",
       "  'problematic_value': 'pitcher plant fluid',\n",
       "  'count': 6},\n",
       " {'problematic_key': 'env_broad_scale',\n",
       "  'problematic_value': 'flooded savanna',\n",
       "  'count': 1},\n",
       " {'problematic_key': 'env_broad_scale',\n",
       "  'problematic_value': 'neritic bathypelagic zone biome',\n",
       "  'count': 1},\n",
       " {'problematic_key': 'env_broad_scale',\n",
       "  'problematic_value': 'montane grasslands and shrubland biome',\n",
       "  'count': 12},\n",
       " {'problematic_key': 'env_local_scale',\n",
       "  'problematic_value': 'temperate coniferous forest',\n",
       "  'count': 16},\n",
       " {'problematic_key': 'env_local_scale',\n",
       "  'problematic_value': 'cropland',\n",
       "  'count': 10},\n",
       " {'problematic_key': 'env_local_scale',\n",
       "  'problematic_value': 'rangeland',\n",
       "  'count': 5},\n",
       " {'problematic_key': 'env_local_scale',\n",
       "  'problematic_value': 'temperate woodland',\n",
       "  'count': 2},\n",
       " {'problematic_key': 'env_local_scale',\n",
       "  'problematic_value': 'temperate shrubland',\n",
       "  'count': 1},\n",
       " {'problematic_key': 'env_local_scale',\n",
       "  'problematic_value': 'montane desert',\n",
       "  'count': 26},\n",
       " {'problematic_key': 'env_local_scale',\n",
       "  'problematic_value': 'stratum',\n",
       "  'count': 18}]"
      ]
     },
     "execution_count": 45,
     "metadata": {},
     "output_type": "execute_result"
    }
   ],
   "execution_count": 45
  },
  {
   "metadata": {
    "ExecuteTime": {
     "end_time": "2025-02-13T15:49:41.861758Z",
     "start_time": "2025-02-13T15:49:41.857966Z"
    }
   },
   "cell_type": "code",
   "source": [
    "problematic_summary_tsv = \"emp500_undefined_triad_slot_value_counts.tsv\"\n",
    "\n",
    "fieldnames = problematic_summary[0].keys()  # Get all column headers from the first row\n",
    "\n",
    "with open(problematic_summary_tsv, mode=\"w\", newline=\"\", encoding=\"utf-8\") as file:\n",
    "    writer = csv.DictWriter(file, delimiter=\"\\t\", fieldnames=fieldnames)\n",
    "    writer.writeheader()\n",
    "    writer.writerows(problematic_summary)"
   ],
   "id": "73ea857c3e5b5d60",
   "outputs": [],
   "execution_count": 46
  },
  {
   "metadata": {
    "ExecuteTime": {
     "end_time": "2025-02-13T15:49:41.886960Z",
     "start_time": "2025-02-13T15:49:41.884018Z"
    }
   },
   "cell_type": "code",
   "source": [
    "LATEST_GOLD_MONGODB = \"gold_metadata_studies_with_samples\"\n",
    "GOLD_SEQ_PROJ_COLLECTION = \"projects\"\n",
    "\n",
    "gold_db = client[LATEST_GOLD_MONGODB]  # Dynamically select database\n",
    "\n",
    "gold_seq_proj_collection = gold_db[GOLD_SEQ_PROJ_COLLECTION]"
   ],
   "id": "487a482426c8f59c",
   "outputs": [],
   "execution_count": 47
  },
  {
   "metadata": {
    "ExecuteTime": {
     "end_time": "2025-02-13T15:49:41.913705Z",
     "start_time": "2025-02-13T15:49:41.910539Z"
    }
   },
   "cell_type": "code",
   "source": [
    "# retrieve emp500 projects from gold (PRJEB42019)\n",
    "query = {\"ncbiBioProjectAccession\": emp500_bioproject_accession}\n",
    "\n",
    "# Execute the query\n",
    "cursor = gold_seq_proj_collection.find(query)\n"
   ],
   "id": "f695deabffa1efab",
   "outputs": [],
   "execution_count": 48
  },
  {
   "metadata": {
    "ExecuteTime": {
     "end_time": "2025-02-13T15:49:41.969091Z",
     "start_time": "2025-02-13T15:49:41.936984Z"
    }
   },
   "cell_type": "code",
   "source": "emp500_gold_seq_projs = list(cursor)",
   "id": "71d835abbebd50fd",
   "outputs": [],
   "execution_count": 49
  },
  {
   "metadata": {
    "ExecuteTime": {
     "end_time": "2025-02-13T15:49:41.997341Z",
     "start_time": "2025-02-13T15:49:41.991963Z"
    }
   },
   "cell_type": "code",
   "source": [
    "emp500_gold_seq_proj_summary = []\n",
    "for proj in emp500_gold_seq_projs:\n",
    "    proj_summary = {\n",
    "        \"biosampleGoldId\": proj.get(\"biosampleGoldId\", \"\"),\n",
    "        \"ncbiBioSampleAccession\": proj.get(\"ncbiBioSampleAccession\", \"\"),\n",
    "        \"ncbiBioProjectAccession\": proj.get(\"ncbiBioProjectAccession\", \"\"),\n",
    "        \"studyGoldId\": proj.get(\"studyGoldId\", \"\"),\n",
    "    }\n",
    "    emp500_gold_seq_proj_summary.append(proj_summary)"
   ],
   "id": "9ea785e619b3c272",
   "outputs": [],
   "execution_count": 50
  },
  {
   "metadata": {
    "ExecuteTime": {
     "end_time": "2025-02-13T15:49:42.071401Z",
     "start_time": "2025-02-13T15:49:42.064256Z"
    }
   },
   "cell_type": "code",
   "source": [
    "# Convert emp500_gold_seq_proj_summary into a dict keyed on ncbiBioSampleAccession\n",
    "gold_summary_dict = {}\n",
    "for entry in emp500_gold_seq_proj_summary:\n",
    "    accession = entry[\"ncbiBioSampleAccession\"]\n",
    "    new_data = {k: v for k, v in entry.items() if k != \"ncbiBioSampleAccession\"}\n",
    "\n",
    "    if accession in gold_summary_dict:\n",
    "        existing_data = gold_summary_dict[accession]\n",
    "\n",
    "        if existing_data != new_data:  # Only report if different\n",
    "            print(f\"Duplicate found for accession {accession}. Updating with new data.\")\n",
    "            pprint.pprint(existing_data)\n",
    "            pprint.pprint(new_data)\n",
    "\n",
    "        # Update to keep the most recent entry\n",
    "        gold_summary_dict[accession] = new_data\n",
    "    else:\n",
    "        gold_summary_dict[accession] = new_data"
   ],
   "id": "ef4d4a65cb0e7cb7",
   "outputs": [],
   "execution_count": 52
  },
  {
   "metadata": {
    "ExecuteTime": {
     "end_time": "2025-02-13T15:49:42.101660Z",
     "start_time": "2025-02-13T15:49:42.095773Z"
    }
   },
   "cell_type": "code",
   "source": [
    "# Merge with emp500_mixs_triad_rows\n",
    "merged_rows = []\n",
    "for row in emp500_mixs_triad_rows:\n",
    "    accession = row[\"accession\"]\n",
    "    merged_row = row.copy()  # Start with the original row\n",
    "\n",
    "    # Merge in GOLD project data if available\n",
    "    if accession in gold_summary_dict:\n",
    "        merged_row.update(gold_summary_dict[accession])\n",
    "\n",
    "    merged_rows.append(merged_row)"
   ],
   "id": "edbc15591a31cc52",
   "outputs": [],
   "execution_count": 53
  },
  {
   "metadata": {
    "ExecuteTime": {
     "end_time": "2025-02-13T15:49:42.143110Z",
     "start_time": "2025-02-13T15:49:42.125974Z"
    }
   },
   "cell_type": "code",
   "source": [
    "emp500_mixs_style_triads_plus_gold_ids_tsv = \"emp500_mixs_style_triads_plus_gold_ids.tsv\"\n",
    "\n",
    "# Define column order based on user specification\n",
    "ordered_columns = [\n",
    "    \"accession\", \"package\",\n",
    "    \"ncbiBioProjectAccession\",\n",
    "    \"biosampleGoldId\",\n",
    "    \"studyGoldId\",\n",
    "    \"env_broad_scale\", \"env_broad_scale_mixs\", \"env_broad_scale_mixs_via_obsolescence\", \"is_biome\",\n",
    "    \"env_local_scale\", \"env_local_scale_mixs\", \"env_local_scale_mixs_via_obsolescence\", \"is_selected_abp\",\n",
    "    \"env_medium\", \"env_medium_mixs\", \"env_medium_mixs_via_obsolescence\", \"is_env_mat\"\n",
    "]\n",
    "\n",
    "# Write merged data to a TSV file\n",
    "with open(emp500_mixs_style_triads_plus_gold_ids_tsv, mode=\"w\", newline=\"\", encoding=\"utf-8\") as file:\n",
    "    writer = csv.DictWriter(file, delimiter=\"\\t\", fieldnames=ordered_columns)\n",
    "    writer.writeheader()\n",
    "    writer.writerows(merged_rows)\n",
    "\n",
    "print(f\"Merged MIxS-style environmental triad data saved to {emp500_mixs_style_triads_plus_gold_ids_tsv}\")"
   ],
   "id": "36762d6b3148b65",
   "outputs": [
    {
     "name": "stdout",
     "output_type": "stream",
     "text": [
      "Merged MIxS-style environmental triad data saved to emp500_mixs_style_triads_plus_gold_ids.tsv\n"
     ]
    }
   ],
   "execution_count": 54
  }
 ],
 "metadata": {
  "kernelspec": {
   "display_name": "Python 3",
   "language": "python",
   "name": "python3"
  },
  "language_info": {
   "codemirror_mode": {
    "name": "ipython",
    "version": 2
   },
   "file_extension": ".py",
   "mimetype": "text/x-python",
   "name": "python",
   "nbconvert_exporter": "python",
   "pygments_lexer": "ipython2",
   "version": "2.7.6"
  }
 },
 "nbformat": 4,
 "nbformat_minor": 5
}
