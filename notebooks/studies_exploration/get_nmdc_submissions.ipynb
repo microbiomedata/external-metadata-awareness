{
 "cells": [
  {
   "metadata": {},
   "cell_type": "code",
   "source": [
    "import requests\n",
    "import json\n",
    "from datetime import datetime\n",
    "import pprint\n",
    "\n",
    "from pymongo import MongoClient\n",
    "\n",
    "from collections import Counter\n",
    "from collections import defaultdict\n",
    "\n",
    "import pandas as pd\n",
    "\n",
    "from dotenv import dotenv_values"
   ],
   "id": "cfccabe3035c5e1f",
   "outputs": [],
   "execution_count": null
  },
  {
   "metadata": {},
   "cell_type": "code",
   "source": [
    "# Specify the path to your .env file\n",
    "env_path = \"../../local/.env\""
   ],
   "id": "58152da1cb8adc77",
   "outputs": [],
   "execution_count": null
  },
  {
   "metadata": {},
   "cell_type": "code",
   "source": [
    "# Load variables into a dictionary\n",
    "env_vars = dotenv_values(env_path)"
   ],
   "id": "c8e8ada788412ea8",
   "outputs": [],
   "execution_count": null
  },
  {
   "metadata": {},
   "cell_type": "code",
   "source": "REFRESH_TOKEN = env_vars['NMDC_DATA_SUBMISSION_REFRESH_TOKEN']",
   "id": "50babeb695686d37",
   "outputs": [],
   "execution_count": null
  },
  {
   "metadata": {},
   "cell_type": "code",
   "source": [
    "# Connect to the local MongoDB instance (default connection)\n",
    "client = MongoClient('mongodb://localhost:27017/')  # Connect to your local MongoDB\n",
    "db = client['submission']  # Database named 'submission'\n",
    "collection = db['submissions']  # Collection named 'submissions'"
   ],
   "id": "1697bf64a4fa2c97",
   "outputs": [],
   "execution_count": null
  },
  {
   "metadata": {},
   "cell_type": "code",
   "source": [
    "# Set the API endpoint for refreshing the token\n",
    "url = 'https://data.microbiomedata.org/auth/refresh'"
   ],
   "id": "9ecd5b2c54186a90",
   "outputs": [],
   "execution_count": null
  },
  {
   "metadata": {},
   "cell_type": "code",
   "source": [
    "# Set the payload with the Refresh Token\n",
    "payload = {\n",
    "    \"refresh_token\": REFRESH_TOKEN\n",
    "}"
   ],
   "id": "5ec6b93e67750e39",
   "outputs": [],
   "execution_count": null
  },
  {
   "metadata": {},
   "cell_type": "code",
   "source": [
    "# Set the headers\n",
    "headers = {\n",
    "    'Content-Type': 'application/json'\n",
    "}"
   ],
   "id": "ca21da6dd03302fe",
   "outputs": [],
   "execution_count": null
  },
  {
   "metadata": {},
   "cell_type": "code",
   "source": [
    "# Make the POST request to refresh the token\n",
    "response = requests.post(url, data=json.dumps(payload), headers=headers)"
   ],
   "id": "161aaf53234c7ee",
   "outputs": [],
   "execution_count": null
  },
  {
   "cell_type": "code",
   "id": "initial_id",
   "metadata": {
    "collapsed": true
   },
   "source": [
    "# Check if the request was successful\n",
    "if response.status_code == 200:\n",
    "    data = response.json()\n",
    "    access_token = data['access_token']\n",
    "    print(f\"Access Token: {access_token}\")\n",
    "else:\n",
    "    print(f\"Failed to get access token: {response.status_code}\")\n",
    "    print(response.text)\n"
   ],
   "outputs": [],
   "execution_count": null
  },
  {
   "metadata": {},
   "cell_type": "code",
   "source": [
    "# Set the API endpoint for metadata submissions\n",
    "url = 'https://data.microbiomedata.org/api/metadata_submission'\n"
   ],
   "id": "b2bbcfc876fe7c68",
   "outputs": [],
   "execution_count": null
  },
  {
   "metadata": {},
   "cell_type": "code",
   "source": [
    "# Set the headers with the Access Token\n",
    "headers = {\n",
    "    'Content-Type': 'application/json',\n",
    "    'Authorization': f'Bearer {access_token}'\n",
    "}\n"
   ],
   "id": "be347757cecadfca",
   "outputs": [],
   "execution_count": null
  },
  {
   "metadata": {},
   "cell_type": "code",
   "source": [
    "# Set the query parameters (default values)\n",
    "params = {\n",
    "    'column_sort': 'created',  # Sorting by 'created' column\n",
    "    'sort_order': 'desc',      # Descending order\n",
    "    'offset': 0,               # Starting from the first record (default value)\n",
    "    'limit': 25                # Default to 25 records per page\n",
    "}\n"
   ],
   "id": "21e8146f09390a8c",
   "outputs": [],
   "execution_count": null
  },
  {
   "metadata": {},
   "cell_type": "code",
   "source": [
    "# Initialize an empty list to hold all the records\n",
    "all_records = []"
   ],
   "id": "f12d602926b9435",
   "outputs": [],
   "execution_count": null
  },
  {
   "metadata": {},
   "cell_type": "code",
   "source": [
    "# Start the pagination loop\n",
    "while True:\n",
    "    # Print timestamp for each request\n",
    "    print(f\"Request sent at: {datetime.now().strftime('%Y-%m-%d %H:%M:%S')}\")\n",
    "\n",
    "    # Make the GET request to fetch metadata submissions\n",
    "    response = requests.get(url, headers=headers, params=params)\n",
    "\n",
    "    # Check if the request was successful\n",
    "    if response.status_code == 200:\n",
    "        data = response.json()\n",
    "\n",
    "        # If there are no records, stop pagination\n",
    "        if not data.get('results'):\n",
    "            break\n",
    "\n",
    "        # Insert the fetched records into MongoDB\n",
    "        if data.get('results'):\n",
    "            collection.insert_many(data['results'])  # Insert all records at once\n",
    "\n",
    "        # Check if we've fetched all records (compare the number of records with the total count)\n",
    "        if len(list(collection.find())) >= data['count']:\n",
    "            break\n",
    "\n",
    "        # Update the offset for the next page (next 25 records)\n",
    "        params['offset'] += params['limit']\n",
    "    else:\n",
    "        print(f\"Failed to fetch submissions: {response.status_code}\")\n",
    "        print(response.text)\n",
    "        break"
   ],
   "id": "729c2b9c881cbf51",
   "outputs": [],
   "execution_count": null
  },
  {
   "metadata": {},
   "cell_type": "code",
   "source": [
    "# Initialize a Counter to keep track of the keys\n",
    "key_counter = Counter()"
   ],
   "id": "b2afbb71c1bb2dc",
   "outputs": [],
   "execution_count": null
  },
  {
   "metadata": {},
   "cell_type": "code",
   "source": [
    "# Initialize a defaultdict to store lists of record IDs\n",
    "key_dict = defaultdict(list)"
   ],
   "id": "aacb851269b00a84",
   "outputs": [],
   "execution_count": null
  },
  {
   "metadata": {},
   "cell_type": "code",
   "source": [
    "for record in collection.find():\n",
    "    record_id = record.get('id', None)  # Default to 'N/A' if id is missing\n",
    "\n",
    "    metadata_submission = record.get('metadata_submission', {})\n",
    "    sampleData = metadata_submission.get('sampleData', {})\n",
    "        # Check if sampleData is non-empty\n",
    "    if len(sampleData) > 0:\n",
    "        # Update the Counter with the keys of the current sampleData\n",
    "        key_counter.update(sampleData.keys())\n",
    "\n",
    "        # Update the dictionary with record_id for each sampleData key\n",
    "        for key in sampleData.keys():\n",
    "            key_dict[key].append(record_id)\n",
    "\n"
   ],
   "id": "bb9a73afe8f3d532",
   "outputs": [],
   "execution_count": null
  },
  {
   "metadata": {},
   "cell_type": "code",
   "source": "key_counter",
   "id": "f77585f52c269393",
   "outputs": [],
   "execution_count": null
  },
  {
   "metadata": {},
   "cell_type": "code",
   "source": "key_dict",
   "id": "b7b3166f4c419ead",
   "outputs": [],
   "execution_count": null
  },
  {
   "metadata": {},
   "cell_type": "code",
   "source": [
    "# List to hold transformed documents\n",
    "transformed_docs = []\n",
    "\n",
    "# Iterate over the documents in the collection\n",
    "for record in collection.find():\n",
    "    submission_id = record.get('id', 'N/A')  # Get the submission ID (default to 'N/A' if missing)\n",
    "\n",
    "    # Get the sampleData (assuming it contains lists of dictionaries)\n",
    "    sample_data = record.get('metadata_submission', {}).get('sampleData', {})\n",
    "\n",
    "    # Iterate over each key (list) in sampleData\n",
    "    for key, rows in sample_data.items():\n",
    "        # For each \"row\" in the list (which is a dictionary)\n",
    "        for row in rows:\n",
    "            # Create a new document for each row with the submission ID and key-value pairs\n",
    "            transformed_doc = {\n",
    "                \"submission_id\": submission_id,\n",
    "                \"key\": key,\n",
    "                \"row_data\": [{\"field\": field, \"value\": value} for field, value in row.items()]\n",
    "            }\n",
    "            # Append the transformed document to the list\n",
    "            transformed_docs.append(transformed_doc)\n"
   ],
   "id": "7136dca7471718a0",
   "outputs": [],
   "execution_count": null
  },
  {
   "metadata": {},
   "cell_type": "code",
   "source": "x_collection = db[\"biosample_rows\"]  # Replace with your collection name",
   "id": "85d99c3964c32f97",
   "outputs": [],
   "execution_count": null
  },
  {
   "metadata": {},
   "cell_type": "code",
   "source": [
    "# Insert the documents into the collection\n",
    "result = x_collection.insert_many(transformed_docs)"
   ],
   "id": "262294ee4ca3611a",
   "outputs": [],
   "execution_count": null
  },
  {
   "metadata": {},
   "cell_type": "markdown",
   "source": "Where, in any column from any row in any template in any submission, does the value \"YSISB-Stream Sediment\" appear?",
   "id": "74bff3243ef8d538"
  },
  {
   "metadata": {},
   "cell_type": "code",
   "source": [
    "query = {\n",
    "    \"row_data\": {\n",
    "        \"$elemMatch\": {\n",
    "            \"value\": \"YSISB-Stream Sediment\"\n",
    "        }\n",
    "    }\n",
    "}"
   ],
   "id": "1fc042ad055c17bf",
   "outputs": [],
   "execution_count": null
  },
  {
   "metadata": {},
   "cell_type": "code",
   "source": [
    "# Execute the query\n",
    "results = x_collection.find(query)"
   ],
   "id": "a2226ab50cea7acb",
   "outputs": [],
   "execution_count": null
  },
  {
   "metadata": {},
   "cell_type": "code",
   "source": [
    "# Print results\n",
    "for doc in results:\n",
    "    pprint.pprint(doc)"
   ],
   "id": "e8943210ccc85e16",
   "outputs": [],
   "execution_count": null
  },
  {
   "metadata": {},
   "cell_type": "markdown",
   "source": "Now retrieve the submission with the id from that result",
   "id": "a0ff6bc1d69c3095"
  },
  {
   "metadata": {},
   "cell_type": "code",
   "source": [
    "# Query to get the document with the given submission_id\n",
    "query = {\"id\": \"6128ea79-f122-4d14-8588-30f06ce3f1f6\"}"
   ],
   "id": "3858b51fc52c3826",
   "outputs": [],
   "execution_count": null
  },
  {
   "metadata": {},
   "cell_type": "code",
   "source": [
    "# Initialize an empty list to hold all rows\n",
    "all_rows = []"
   ],
   "id": "e06798b3e8d1a9ef",
   "outputs": [],
   "execution_count": null
  },
  {
   "metadata": {},
   "cell_type": "code",
   "source": "template = \"sediment_data\"",
   "id": "3c2790d0a3ef6fbb",
   "outputs": [],
   "execution_count": null
  },
  {
   "metadata": {},
   "cell_type": "code",
   "source": [
    "# Iterate through all documents in the collection\n",
    "for document in collection.find(query):\n",
    "    # Extract 'sediment_data' from 'metadata_submission.sampleData'\n",
    "    template_data = document.get('metadata_submission', {}).get('sampleData', {}).get(template, [])\n",
    "\n",
    "    for row in template_data:\n",
    "        row['submission_id'] = document.get('id', None)  # Add document ID to the row\n",
    "        row['template'] = template  # Add document ID to the row\n",
    "\n",
    "    # Append the rows to the list\n",
    "    all_rows.extend(template_data)"
   ],
   "id": "7f4e8dbc71932573",
   "outputs": [],
   "execution_count": null
  },
  {
   "metadata": {},
   "cell_type": "code",
   "source": "submissions_samples_frame = pd.DataFrame(all_rows)",
   "id": "574c766ef614e9a",
   "outputs": [],
   "execution_count": null
  },
  {
   "metadata": {},
   "cell_type": "code",
   "source": "submissions_samples_frame",
   "id": "c2bae3fa348e77ed",
   "outputs": [],
   "execution_count": null
  },
  {
   "metadata": {},
   "cell_type": "code",
   "source": "",
   "id": "86d36538f10e96a8",
   "outputs": [],
   "execution_count": null
  }
 ],
 "metadata": {
  "kernelspec": {
   "display_name": "Python 3",
   "language": "python",
   "name": "python3"
  },
  "language_info": {
   "codemirror_mode": {
    "name": "ipython",
    "version": 2
   },
   "file_extension": ".py",
   "mimetype": "text/x-python",
   "name": "python",
   "nbconvert_exporter": "python",
   "pygments_lexer": "ipython2",
   "version": "2.7.6"
  }
 },
 "nbformat": 4,
 "nbformat_minor": 5
}
