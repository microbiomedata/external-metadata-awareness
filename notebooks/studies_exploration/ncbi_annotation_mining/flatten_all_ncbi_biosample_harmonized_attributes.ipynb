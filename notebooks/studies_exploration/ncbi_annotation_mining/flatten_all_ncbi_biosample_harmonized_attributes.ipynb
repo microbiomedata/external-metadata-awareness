{
 "cells": [
  {
   "metadata": {
    "ExecuteTime": {
     "end_time": "2025-03-06T21:58:11.507390Z",
     "start_time": "2025-03-06T21:58:11.302224Z"
    }
   },
   "cell_type": "code",
   "source": [
    "from pymongo import MongoClient\n",
    "from tqdm.notebook import tqdm  # Import tqdm.notebook for Jupyter Notebook progress bars"
   ],
   "id": "bea878da4b10490",
   "outputs": [],
   "execution_count": 2
  },
  {
   "cell_type": "code",
   "id": "initial_id",
   "metadata": {
    "collapsed": true
   },
   "source": [
    "def flatten_all_ncbi_biosample_harmonized_attributes(\n",
    "        mongo_uri=\"mongodb://localhost:27017/\",\n",
    "        db_name=\"ncbi_metadata\",\n",
    "        input_collection_name=\"biosamples\",\n",
    "        output_collection_name=\"biosample_harmonized_attributes\",\n",
    "):\n",
    "    \"\"\"\n",
    "    Processes biosample documents from a MongoDB collection, extracts harmonized attributes,\n",
    "    streams the results to a new MongoDB collection, and provides progress tracking in Jupyter Notebook.\n",
    "\n",
    "    :param mongo_uri: MongoDB connection URI.\n",
    "    :param db_name: Name of the database.\n",
    "    :param input_collection_name: Name of the input collection.\n",
    "    :param output_collection_name: Name of the output collection.\n",
    "    \"\"\"\n",
    "    try:\n",
    "        client = MongoClient(mongo_uri)\n",
    "        db = client[db_name]\n",
    "        input_collection = db[input_collection_name]\n",
    "        output_collection = db[output_collection_name]\n",
    "\n",
    "        estimated_count = input_collection.estimated_document_count()\n",
    "        print(f\"Estimated document count: {estimated_count}\")\n",
    "\n",
    "        with tqdm(total=estimated_count, desc=\"Processing Biosamples\") as pbar:\n",
    "            for sample in input_collection.find():\n",
    "                biosample_entry = {\"accession\": sample.get(\"accession\", \"\")}\n",
    "\n",
    "                attributes_list = sample.get(\"Attributes\", {}).get(\"Attribute\", [])\n",
    "\n",
    "                for attribute in attributes_list:\n",
    "                    if isinstance(attribute, dict):\n",
    "                        harmonized_name = attribute.get(\"harmonized_name\")\n",
    "                        content = attribute.get(\"content\", \"\")\n",
    "\n",
    "                        if harmonized_name:\n",
    "                            biosample_entry[harmonized_name] = content\n",
    "\n",
    "                output_collection.insert_one(biosample_entry)\n",
    "                pbar.update(1)\n",
    "\n",
    "        print(f\"Processed and streamed biosamples from '{input_collection_name}' to '{output_collection_name}'.\")\n",
    "\n",
    "    except Exception as e:\n",
    "        print(f\"An error occurred: {e}\")\n",
    "    finally:\n",
    "        if 'client' in locals() and client:\n",
    "            client.close()\n"
   ],
   "outputs": [],
   "execution_count": null
  },
  {
   "metadata": {},
   "cell_type": "code",
   "source": [
    "# # Example usage (assuming MongoDB is running locally)\n",
    "# flatten_all_ncbi_biosample_harmonized_attributes(\n",
    "#     mongo_uri=\"mongodb://localhost:27017/\",\n",
    "#     db_name=\"ncbi_metadata\",\n",
    "#     input_collection_name=\"biosamples\",\n",
    "#     output_collection_name=\"biosample_harmonized_attributes\",\n",
    "# )\n",
    "#\n",
    "# # four hours"
   ],
   "id": "fcdf4cb512136008",
   "outputs": [],
   "execution_count": null
  }
 ],
 "metadata": {
  "kernelspec": {
   "display_name": "Python 3",
   "language": "python",
   "name": "python3"
  },
  "language_info": {
   "codemirror_mode": {
    "name": "ipython",
    "version": 2
   },
   "file_extension": ".py",
   "mimetype": "text/x-python",
   "name": "python",
   "nbconvert_exporter": "python",
   "pygments_lexer": "ipython2",
   "version": "2.7.6"
  }
 },
 "nbformat": 4,
 "nbformat_minor": 5
}
