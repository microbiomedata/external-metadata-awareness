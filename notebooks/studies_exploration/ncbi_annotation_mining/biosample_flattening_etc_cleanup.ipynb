{
 "cells": [
  {
   "metadata": {
    "ExecuteTime": {
     "end_time": "2025-03-18T00:39:37.920950Z",
     "start_time": "2025-03-18T00:39:37.834324Z"
    }
   },
   "cell_type": "code",
   "source": "from pymongo import MongoClient",
   "id": "8d36b7b9707e06ef",
   "outputs": [],
   "execution_count": 1
  },
  {
   "cell_type": "code",
   "id": "initial_id",
   "metadata": {
    "collapsed": true,
    "ExecuteTime": {
     "end_time": "2025-03-18T00:39:37.931988Z",
     "start_time": "2025-03-18T00:39:37.924247Z"
    }
   },
   "source": [
    "mongo_url = \"mongodb://localhost:27017\"\n",
    "\n",
    "client = MongoClient(mongo_url)\n",
    "\n",
    "db = client.ncbi_metadata\n"
   ],
   "outputs": [],
   "execution_count": 2
  },
  {
   "metadata": {
    "ExecuteTime": {
     "end_time": "2025-03-18T00:39:38.063208Z",
     "start_time": "2025-03-18T00:39:38.060606Z"
    }
   },
   "cell_type": "code",
   "source": "# db[\"biosample_harmonized_attributes\"].drop()",
   "id": "6a0f7eaa37e0558f",
   "outputs": [],
   "execution_count": 3
  },
  {
   "metadata": {
    "ExecuteTime": {
     "end_time": "2025-03-18T00:39:38.104180Z",
     "start_time": "2025-03-18T00:39:38.101830Z"
    }
   },
   "cell_type": "code",
   "source": "# db[\"unique_triad_values\"].drop()",
   "id": "b8308802cfff5a62",
   "outputs": [],
   "execution_count": 4
  },
  {
   "metadata": {
    "ExecuteTime": {
     "end_time": "2025-03-18T00:39:38.149231Z",
     "start_time": "2025-03-18T00:39:38.146392Z"
    }
   },
   "cell_type": "code",
   "source": "# db[\"triad_components_labels\"].drop()",
   "id": "a73541e967878a0c",
   "outputs": [],
   "execution_count": 5
  },
  {
   "metadata": {
    "ExecuteTime": {
     "end_time": "2025-03-18T00:39:38.196623Z",
     "start_time": "2025-03-18T00:39:38.192201Z"
    }
   },
   "cell_type": "code",
   "source": "db[\"class_label_cache\"].drop()",
   "id": "2382c30bb387afa5",
   "outputs": [],
   "execution_count": 6
  },
  {
   "metadata": {
    "ExecuteTime": {
     "end_time": "2025-03-18T00:39:38.240337Z",
     "start_time": "2025-03-18T00:39:38.237178Z"
    }
   },
   "cell_type": "code",
   "source": "db[\"compact_mined_triads\"].drop()\n",
   "id": "76aeb5006ad48a7b",
   "outputs": [],
   "execution_count": 7
  },
  {
   "metadata": {
    "ExecuteTime": {
     "end_time": "2025-03-18T00:39:38.284635Z",
     "start_time": "2025-03-18T00:39:38.282012Z"
    }
   },
   "cell_type": "code",
   "source": "triad_components_labels_collection = db.triad_components_labels",
   "id": "34025c4a0e96402b",
   "outputs": [],
   "execution_count": 8
  },
  {
   "metadata": {
    "ExecuteTime": {
     "end_time": "2025-03-18T00:39:38.360930Z",
     "start_time": "2025-03-18T00:39:38.334234Z"
    }
   },
   "cell_type": "code",
   "source": [
    "triad_components_labels_collection.update_many(\n",
    "    {\"partial_matches_vs_precedent\": {\"$exists\": True}},\n",
    "    {\"$unset\": {\"partial_matches_vs_precedent\": \"\"}}\n",
    ")\n"
   ],
   "id": "60a3bf6c1676901e",
   "outputs": [
    {
     "data": {
      "text/plain": [
       "UpdateResult({'n': 0, 'nModified': 0, 'ok': 1.0, 'updatedExisting': False}, acknowledged=True)"
      ]
     },
     "execution_count": 9,
     "metadata": {},
     "output_type": "execute_result"
    }
   ],
   "execution_count": 9
  },
  {
   "metadata": {
    "ExecuteTime": {
     "end_time": "2025-03-18T00:39:38.435065Z",
     "start_time": "2025-03-18T00:39:38.376538Z"
    }
   },
   "cell_type": "code",
   "source": [
    "triad_components_labels_collection.update_many(\n",
    "    {\"oak_text_annotations\": {\"$exists\": True}},\n",
    "    {\"$unset\": {\"oak_text_annotations\": \"\"}}\n",
    ")"
   ],
   "id": "926ec02f36b2d03e",
   "outputs": [
    {
     "data": {
      "text/plain": [
       "UpdateResult({'n': 2343, 'nModified': 2343, 'ok': 1.0, 'updatedExisting': True}, acknowledged=True)"
      ]
     },
     "execution_count": 10,
     "metadata": {},
     "output_type": "execute_result"
    }
   ],
   "execution_count": 10
  },
  {
   "metadata": {
    "ExecuteTime": {
     "end_time": "2025-03-18T00:39:38.466070Z",
     "start_time": "2025-03-18T00:39:38.442440Z"
    }
   },
   "cell_type": "code",
   "source": [
    "triad_components_labels_collection.update_many(\n",
    "    {\"ols_text_annotation\": {\"$exists\": True}},\n",
    "    {\"$unset\": {\"ols_text_annotation\": \"\"}}\n",
    ")"
   ],
   "id": "13952bd8f693cd43",
   "outputs": [
    {
     "data": {
      "text/plain": [
       "UpdateResult({'n': 0, 'nModified': 0, 'ok': 1.0, 'updatedExisting': False}, acknowledged=True)"
      ]
     },
     "execution_count": 11,
     "metadata": {},
     "output_type": "execute_result"
    }
   ],
   "execution_count": 11
  },
  {
   "metadata": {
    "ExecuteTime": {
     "end_time": "2025-03-18T00:39:38.536577Z",
     "start_time": "2025-03-18T00:39:38.484493Z"
    }
   },
   "cell_type": "code",
   "source": [
    "triad_components_labels_collection.update_many(\n",
    "    {\"ols_text_annotations\": {\"$exists\": True}},\n",
    "    {\"$unset\": {\"ols_text_annotations\": \"\"}}\n",
    ")"
   ],
   "id": "8d64d70dbf9af778",
   "outputs": [
    {
     "data": {
      "text/plain": [
       "UpdateResult({'n': 1912, 'nModified': 1912, 'ok': 1.0, 'updatedExisting': True}, acknowledged=True)"
      ]
     },
     "execution_count": 12,
     "metadata": {},
     "output_type": "execute_result"
    }
   ],
   "execution_count": 12
  }
 ],
 "metadata": {
  "kernelspec": {
   "display_name": "Python 3",
   "language": "python",
   "name": "python3"
  },
  "language_info": {
   "codemirror_mode": {
    "name": "ipython",
    "version": 2
   },
   "file_extension": ".py",
   "mimetype": "text/x-python",
   "name": "python",
   "nbconvert_exporter": "python",
   "pygments_lexer": "ipython2",
   "version": "2.7.6"
  }
 },
 "nbformat": 4,
 "nbformat_minor": 5
}
