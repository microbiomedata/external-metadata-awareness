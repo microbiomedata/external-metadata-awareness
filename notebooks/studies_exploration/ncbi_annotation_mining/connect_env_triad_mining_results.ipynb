{
 "cells": [
  {
   "metadata": {
    "ExecuteTime": {
     "end_time": "2025-03-10T16:32:05.790264Z",
     "start_time": "2025-03-10T16:32:05.787637Z"
    }
   },
   "cell_type": "code",
   "source": [
    "from pymongo import MongoClient\n",
    "import pprint"
   ],
   "id": "572adb2975e0fc2",
   "outputs": [],
   "execution_count": 11
  },
  {
   "metadata": {
    "ExecuteTime": {
     "end_time": "2025-03-10T16:20:27.128652Z",
     "start_time": "2025-03-10T16:20:27.120032Z"
    }
   },
   "cell_type": "code",
   "source": [
    "# Connect to local MongoDB\n",
    "client = MongoClient(\"mongodb://localhost:27017/\")"
   ],
   "id": "12cdbac2d0702006",
   "outputs": [],
   "execution_count": 2
  },
  {
   "metadata": {
    "ExecuteTime": {
     "end_time": "2025-03-10T16:20:27.812965Z",
     "start_time": "2025-03-10T16:20:27.810155Z"
    }
   },
   "cell_type": "code",
   "source": "db = client.ncbi_metadata",
   "id": "1bb5c2081f6ee719",
   "outputs": [],
   "execution_count": 3
  },
  {
   "metadata": {},
   "cell_type": "markdown",
   "source": "",
   "id": "924982b945eac5ad"
  },
  {
   "metadata": {
    "ExecuteTime": {
     "end_time": "2025-03-10T17:01:18.323848Z",
     "start_time": "2025-03-10T17:01:18.314009Z"
    }
   },
   "cell_type": "code",
   "source": [
    "# Collections\n",
    "biosample_harmonized = db.biosample_harmonized_attributes\n",
    "unique_triad_values = db.unique_triad_values\n",
    "triad_components_labels = db.triad_components_labels\n",
    "class_label_cache = db.class_label_cache"
   ],
   "id": "e20c3607c15705cd",
   "outputs": [],
   "execution_count": 35
  },
  {
   "metadata": {
    "ExecuteTime": {
     "end_time": "2025-03-10T16:22:20.444854Z",
     "start_time": "2025-03-10T16:21:08.634957Z"
    }
   },
   "cell_type": "code",
   "source": [
    "# db.biosample_harmonized_attributes.create_index({ \"env_broad_scale\": 1 })\n",
    "# # 2 minutes"
   ],
   "id": "df73229a4297e7f7",
   "outputs": [
    {
     "data": {
      "text/plain": [
       "'env_broad_scale_1'"
      ]
     },
     "execution_count": 6,
     "metadata": {},
     "output_type": "execute_result"
    }
   ],
   "execution_count": 6
  },
  {
   "metadata": {
    "ExecuteTime": {
     "end_time": "2025-03-10T16:23:31.568763Z",
     "start_time": "2025-03-10T16:22:20.524078Z"
    }
   },
   "cell_type": "code",
   "source": [
    "# db.biosample_harmonized_attributes.create_index({ \"env_local_scale\": 1 })\n",
    "# # 2 minutes"
   ],
   "id": "5ddc9c11cf8d705f",
   "outputs": [
    {
     "data": {
      "text/plain": [
       "'env_local_scale_1'"
      ]
     },
     "execution_count": 7,
     "metadata": {},
     "output_type": "execute_result"
    }
   ],
   "execution_count": 7
  },
  {
   "metadata": {
    "ExecuteTime": {
     "end_time": "2025-03-10T16:24:42.060025Z",
     "start_time": "2025-03-10T16:23:31.653093Z"
    }
   },
   "cell_type": "code",
   "source": [
    "# db.biosample_harmonized_attributes.create_index({ \"env_medium\": 1 })\n",
    "# # 2 minutes"
   ],
   "id": "ccf4537649ef6946",
   "outputs": [
    {
     "data": {
      "text/plain": [
       "'env_medium_1'"
      ]
     },
     "execution_count": 8,
     "metadata": {},
     "output_type": "execute_result"
    }
   ],
   "execution_count": 8
  },
  {
   "metadata": {
    "ExecuteTime": {
     "end_time": "2025-03-10T16:49:21.436335Z",
     "start_time": "2025-03-10T16:48:10.455434Z"
    }
   },
   "cell_type": "code",
   "source": [
    "# db.biosample_harmonized_attributes.create_index({ \"accession\": 1 })\n",
    "# # 2 minutes"
   ],
   "id": "68c9008ceb072e15",
   "outputs": [
    {
     "data": {
      "text/plain": [
       "'accession_1'"
      ]
     },
     "execution_count": 22,
     "metadata": {},
     "output_type": "execute_result"
    }
   ],
   "execution_count": 22
  },
  {
   "metadata": {
    "ExecuteTime": {
     "end_time": "2025-03-10T17:59:44.236965Z",
     "start_time": "2025-03-10T17:59:44.234313Z"
    }
   },
   "cell_type": "code",
   "source": [
    "# Environmental fields to iterate over\n",
    "env_triad_fields = [\"env_broad_scale\", \"env_local_scale\", \"env_medium\"]"
   ],
   "id": "d95f40dc470346be",
   "outputs": [],
   "execution_count": 39
  },
  {
   "metadata": {
    "ExecuteTime": {
     "end_time": "2025-03-10T18:27:37.286176Z",
     "start_time": "2025-03-10T18:27:37.283764Z"
    }
   },
   "cell_type": "code",
   "source": [
    "biosample_count = 1_000_000\n",
    "# 20 seconds per 1_000_000"
   ],
   "id": "1c02de945ebeb66a",
   "outputs": [],
   "execution_count": 100
  },
  {
   "metadata": {
    "ExecuteTime": {
     "end_time": "2025-03-10T18:27:37.721703Z",
     "start_time": "2025-03-10T18:27:37.718979Z"
    }
   },
   "cell_type": "code",
   "source": [
    "# Global counters\n",
    "global_oak_count = 0\n",
    "global_ols_count = 0\n",
    "global_precedent_count = 0\n",
    "no_triad_count = 0\n",
    "no_matching_unique_triad_value = 0\n",
    "no_matching_triad_components_label = 0"
   ],
   "id": "444c7c62f568f00f",
   "outputs": [],
   "execution_count": 101
  },
  {
   "cell_type": "code",
   "id": "initial_id",
   "metadata": {
    "collapsed": true,
    "ExecuteTime": {
     "end_time": "2025-03-10T18:27:56.010095Z",
     "start_time": "2025-03-10T18:27:38.776336Z"
    }
   },
   "source": [
    "# Process first N biosample_harmonized_attributes records\n",
    "for i, biosample_doc in enumerate(biosample_harmonized.find().limit(biosample_count), start=1):\n",
    "    accession = biosample_doc.get(\"accession\")\n",
    "    # print(f\"\\n[{i}/{biosample_count}] Processing biosample_harmonized_attributes document: {accession}\")\n",
    "\n",
    "    for field in env_triad_fields:\n",
    "        # print(f\"Processing {accession} {field}\")\n",
    "        field_value = biosample_doc.get(field)\n",
    "        if not field_value:\n",
    "            no_triad_count += 1\n",
    "            # print(f\"    ⚠️ Skipping {field} (No value found)\")\n",
    "            continue\n",
    "\n",
    "        # print(f\"    🔍 Searching for unique_triad_values with content: {field_value}\")\n",
    "\n",
    "        # Find a matching document in unique_triad_values\n",
    "        triad_doc = unique_triad_values.find_one({\"content\": field_value})\n",
    "        if not triad_doc:\n",
    "            no_matching_unique_triad_value += 1\n",
    "            # print(f\"    ❌ No match found in unique_triad_values for {field}\")\n",
    "            continue\n",
    "\n",
    "        # print(f\"    ✅ Found unique_triad_values match for {field}: {field_value}\")\n",
    "\n",
    "        parsed_annotations = triad_doc.get(\"parsed_annotations\", [])\n",
    "        if not parsed_annotations:\n",
    "            no_matching_triad_components_label += 1\n",
    "            # print(f\"        ⚠️ No parsed annotations found for {field}\")\n",
    "            continue\n",
    "\n",
    "        for annotation in parsed_annotations:\n",
    "            cleaned_label = annotation.get(\"cleaned_label\")\n",
    "            repaired_curie = annotation.get(\"repaired_curie\")\n",
    "            if not cleaned_label:\n",
    "                continue\n",
    "\n",
    "            # Find matching triad_components_labels\n",
    "            matching_components = list(triad_components_labels.find({\"component_label\": cleaned_label}))\n",
    "\n",
    "            if matching_components:\n",
    "                # print(f\"        🔹 Found {len(matching_components)} matching triad_components_labels for cleaned_label: {cleaned_label} in {accession}\")\n",
    "\n",
    "                # Count occurrences of specific fields globally\n",
    "                for component in matching_components:\n",
    "                    if \"oak_text_annotations\" in component:\n",
    "                        global_oak_count += 1\n",
    "                    if \"ols_text_annotation\" in component:\n",
    "                        global_ols_count += 1\n",
    "                    if \"partial_matches_vs_precedent\" in component:\n",
    "                        global_precedent_count += 1\n",
    "\n",
    "                if repaired_curie:\n",
    "                    # print(f\"        🔍 Looking up repaired CURIE: {repaired_curie} in class_label_cache\")\n",
    "\n",
    "                    # Look up `repaired_curie` in class_label_cache\n",
    "                    curie_doc = class_label_cache.find_one({\"curie\": repaired_curie})\n",
    "\n",
    "                    # if curie_doc:\n",
    "                    #     curie_label = curie_doc.get(\"label\")\n",
    "                    #     if curie_label:\n",
    "                    #         print(f\"        ✅ Found CURIE {repaired_curie} in class_label_cache with label {curie_label}\")\n",
    "                    #     else:\n",
    "                    #         print(f\"        ❌ Didn't find a label for: {repaired_curie}\")\n",
    "                    # else:\n",
    "                    #     print(f\"        ❌ No matching CURIE found in class_label_cache for: {repaired_curie}\")\n",
    "\n"
   ],
   "outputs": [],
   "execution_count": 102
  },
  {
   "metadata": {
    "ExecuteTime": {
     "end_time": "2025-03-10T18:29:18.634795Z",
     "start_time": "2025-03-10T18:29:18.630965Z"
    }
   },
   "cell_type": "code",
   "source": "biosample_count",
   "id": "213d5e0f4f444b61",
   "outputs": [
    {
     "data": {
      "text/plain": [
       "1000000"
      ]
     },
     "execution_count": 111,
     "metadata": {},
     "output_type": "execute_result"
    }
   ],
   "execution_count": 111
  },
  {
   "metadata": {
    "ExecuteTime": {
     "end_time": "2025-03-10T18:29:19.614200Z",
     "start_time": "2025-03-10T18:29:19.610565Z"
    }
   },
   "cell_type": "code",
   "source": "no_triad_count",
   "id": "c8256a78d97856c1",
   "outputs": [
    {
     "data": {
      "text/plain": [
       "2986960"
      ]
     },
     "execution_count": 112,
     "metadata": {},
     "output_type": "execute_result"
    }
   ],
   "execution_count": 112
  },
  {
   "metadata": {
    "ExecuteTime": {
     "end_time": "2025-03-10T18:29:21.230093Z",
     "start_time": "2025-03-10T18:29:21.222351Z"
    }
   },
   "cell_type": "code",
   "source": "no_triad_count / 3",
   "id": "4fd2c2e588c48caa",
   "outputs": [
    {
     "data": {
      "text/plain": [
       "995653.3333333334"
      ]
     },
     "execution_count": 113,
     "metadata": {},
     "output_type": "execute_result"
    }
   ],
   "execution_count": 113
  },
  {
   "metadata": {
    "ExecuteTime": {
     "end_time": "2025-03-10T18:29:27.640116Z",
     "start_time": "2025-03-10T18:29:27.634610Z"
    }
   },
   "cell_type": "code",
   "source": "no_matching_unique_triad_value",
   "id": "ed50bc601ccf352",
   "outputs": [
    {
     "data": {
      "text/plain": [
       "0"
      ]
     },
     "execution_count": 114,
     "metadata": {},
     "output_type": "execute_result"
    }
   ],
   "execution_count": 114
  },
  {
   "metadata": {
    "ExecuteTime": {
     "end_time": "2025-03-10T18:29:28.257377Z",
     "start_time": "2025-03-10T18:29:28.253225Z"
    }
   },
   "cell_type": "code",
   "source": "no_matching_triad_components_label",
   "id": "170e390349e3c8f1",
   "outputs": [
    {
     "data": {
      "text/plain": [
       "0"
      ]
     },
     "execution_count": 115,
     "metadata": {},
     "output_type": "execute_result"
    }
   ],
   "execution_count": 115
  },
  {
   "metadata": {
    "ExecuteTime": {
     "end_time": "2025-03-10T18:29:28.972181Z",
     "start_time": "2025-03-10T18:29:28.965347Z"
    }
   },
   "cell_type": "code",
   "source": "global_oak_count\n",
   "id": "8b0aa5e2eae10fa",
   "outputs": [
    {
     "data": {
      "text/plain": [
       "7594"
      ]
     },
     "execution_count": 116,
     "metadata": {},
     "output_type": "execute_result"
    }
   ],
   "execution_count": 116
  },
  {
   "metadata": {
    "ExecuteTime": {
     "end_time": "2025-03-10T18:29:29.931957Z",
     "start_time": "2025-03-10T18:29:29.927570Z"
    }
   },
   "cell_type": "code",
   "source": "global_ols_count\n",
   "id": "f9c63008b2d629",
   "outputs": [
    {
     "data": {
      "text/plain": [
       "164"
      ]
     },
     "execution_count": 117,
     "metadata": {},
     "output_type": "execute_result"
    }
   ],
   "execution_count": 117
  },
  {
   "metadata": {
    "ExecuteTime": {
     "end_time": "2025-03-10T18:29:30.653916Z",
     "start_time": "2025-03-10T18:29:30.649714Z"
    }
   },
   "cell_type": "code",
   "source": "global_precedent_count",
   "id": "6702443fca417ecf",
   "outputs": [
    {
     "data": {
      "text/plain": [
       "4557"
      ]
     },
     "execution_count": 118,
     "metadata": {},
     "output_type": "execute_result"
    }
   ],
   "execution_count": 118
  },
  {
   "metadata": {},
   "cell_type": "code",
   "outputs": [],
   "execution_count": null,
   "source": "",
   "id": "be4ee7a54050fa09"
  }
 ],
 "metadata": {
  "kernelspec": {
   "display_name": "Python 3",
   "language": "python",
   "name": "python3"
  },
  "language_info": {
   "codemirror_mode": {
    "name": "ipython",
    "version": 2
   },
   "file_extension": ".py",
   "mimetype": "text/x-python",
   "name": "python",
   "nbconvert_exporter": "python",
   "pygments_lexer": "ipython2",
   "version": "2.7.6"
  }
 },
 "nbformat": 4,
 "nbformat_minor": 5
}
