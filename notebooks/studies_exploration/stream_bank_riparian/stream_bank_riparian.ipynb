{
 "cells": [
  {
   "metadata": {
    "ExecuteTime": {
     "end_time": "2025-02-25T13:56:29.844769Z",
     "start_time": "2025-02-25T13:56:29.441806Z"
    }
   },
   "cell_type": "code",
   "source": "import pandas as pd",
   "id": "13d9670add5be8e9",
   "outputs": [],
   "execution_count": 1
  },
  {
   "metadata": {
    "ExecuteTime": {
     "end_time": "2025-02-25T13:56:29.852250Z",
     "start_time": "2025-02-25T13:56:29.848862Z"
    }
   },
   "cell_type": "code",
   "source": [
    "# Specify the path to your Excel file\n",
    "input_xlsx = 'nmdc_sample_export (64).xlsx'\n",
    "output_tsv = \"stream_bank_riparian.tsv\""
   ],
   "id": "fd5e95e1673f0f24",
   "outputs": [],
   "execution_count": 2
  },
  {
   "metadata": {
    "ExecuteTime": {
     "end_time": "2025-02-25T13:56:30.363134Z",
     "start_time": "2025-02-25T13:56:30.236168Z"
    }
   },
   "cell_type": "code",
   "source": [
    "# Load the Excel file into a pandas dataframe\n",
    "df = pd.read_excel(input_xlsx)"
   ],
   "id": "2dc2938fd5b3d65c",
   "outputs": [],
   "execution_count": 3
  },
  {
   "metadata": {
    "ExecuteTime": {
     "end_time": "2025-02-25T13:56:30.724935Z",
     "start_time": "2025-02-25T13:56:30.720454Z"
    }
   },
   "cell_type": "code",
   "source": [
    "# Split the \"geographic location (latitude and longitude)\" column into two new columns\n",
    "df[['lat', 'lon']] = df['geographic location (latitude and longitude)'].str.split(' ', expand=True)"
   ],
   "id": "378bc57e1cb9e2c6",
   "outputs": [],
   "execution_count": 4
  },
  {
   "metadata": {
    "ExecuteTime": {
     "end_time": "2025-02-25T13:56:31.239271Z",
     "start_time": "2025-02-25T13:56:31.234609Z"
    }
   },
   "cell_type": "code",
   "source": [
    "# Convert lat and lon to float\n",
    "df['lat'] = df['lat'].astype(float)\n",
    "df['lon'] = df['lon'].astype(float)"
   ],
   "id": "2996112b17b812bc",
   "outputs": [],
   "execution_count": 5
  },
  {
   "cell_type": "code",
   "id": "initial_id",
   "metadata": {
    "collapsed": true,
    "ExecuteTime": {
     "end_time": "2025-02-25T13:56:31.980912Z",
     "start_time": "2025-02-25T13:56:31.973814Z"
    }
   },
   "source": "df.to_csv(output_tsv, index=False, sep=\"\\t\")",
   "outputs": [],
   "execution_count": 6
  },
  {
   "metadata": {},
   "cell_type": "code",
   "outputs": [],
   "execution_count": null,
   "source": "",
   "id": "6317f0f39203c90d"
  }
 ],
 "metadata": {
  "kernelspec": {
   "display_name": "Python 3",
   "language": "python",
   "name": "python3"
  },
  "language_info": {
   "codemirror_mode": {
    "name": "ipython",
    "version": 2
   },
   "file_extension": ".py",
   "mimetype": "text/x-python",
   "name": "python",
   "nbconvert_exporter": "python",
   "pygments_lexer": "ipython2",
   "version": "2.7.6"
  }
 },
 "nbformat": 4,
 "nbformat_minor": 5
}
