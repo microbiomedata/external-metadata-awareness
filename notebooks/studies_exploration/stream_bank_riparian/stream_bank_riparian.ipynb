{
 "cells": [
  {
   "metadata": {
    "ExecuteTime": {
     "end_time": "2025-02-26T03:00:39.081288Z",
     "start_time": "2025-02-26T03:00:38.718962Z"
    }
   },
   "cell_type": "code",
   "source": "import pandas as pd",
   "id": "13d9670add5be8e9",
   "outputs": [],
   "execution_count": 1
  },
  {
   "metadata": {
    "ExecuteTime": {
     "end_time": "2025-02-26T03:00:39.087296Z",
     "start_time": "2025-02-26T03:00:39.084630Z"
    }
   },
   "cell_type": "code",
   "source": [
    "# Specify the path to your Excel file\n",
    "input_xlsx = 'nmdc_sample_export (64).xlsx'\n",
    "output_tsv = \"stream_bank_riparian.tsv\""
   ],
   "id": "fd5e95e1673f0f24",
   "outputs": [],
   "execution_count": 2
  },
  {
   "metadata": {
    "ExecuteTime": {
     "end_time": "2025-02-26T03:00:39.346539Z",
     "start_time": "2025-02-26T03:00:39.210211Z"
    }
   },
   "cell_type": "code",
   "source": [
    "# Load the Excel file into a pandas dataframe\n",
    "df = pd.read_excel(input_xlsx)"
   ],
   "id": "2dc2938fd5b3d65c",
   "outputs": [],
   "execution_count": 3
  },
  {
   "metadata": {
    "ExecuteTime": {
     "end_time": "2025-02-26T03:00:39.365560Z",
     "start_time": "2025-02-26T03:00:39.361887Z"
    }
   },
   "cell_type": "code",
   "source": [
    "# Split the \"geographic location (latitude and longitude)\" column into two new columns\n",
    "df[['lat', 'lon']] = df['geographic location (latitude and longitude)'].str.split(' ', expand=True)"
   ],
   "id": "378bc57e1cb9e2c6",
   "outputs": [],
   "execution_count": 4
  },
  {
   "metadata": {
    "ExecuteTime": {
     "end_time": "2025-02-26T03:00:39.408581Z",
     "start_time": "2025-02-26T03:00:39.403613Z"
    }
   },
   "cell_type": "code",
   "source": [
    "# Convert lat and lon to float\n",
    "df['lat'] = df['lat'].astype(float)\n",
    "df['lon'] = df['lon'].astype(float)"
   ],
   "id": "2996112b17b812bc",
   "outputs": [],
   "execution_count": 5
  },
  {
   "metadata": {
    "ExecuteTime": {
     "end_time": "2025-02-26T03:00:39.456025Z",
     "start_time": "2025-02-26T03:00:39.451745Z"
    }
   },
   "cell_type": "code",
   "source": [
    "# Extract \"stream\" or \"sediment\" from the sample name using regular expressions\n",
    "df['category'] = df['sample name'].str.extract(r'-(Stream|Riparian) Sediment$')[0].replace({'Stream': 'stream', 'Riparian': 'riparian'})"
   ],
   "id": "322c5e845e586dfb",
   "outputs": [],
   "execution_count": 6
  },
  {
   "cell_type": "code",
   "id": "initial_id",
   "metadata": {
    "collapsed": true,
    "ExecuteTime": {
     "end_time": "2025-02-26T03:00:39.528098Z",
     "start_time": "2025-02-26T03:00:39.503923Z"
    }
   },
   "source": "df.to_csv(output_tsv, index=False, sep=\"\\t\")",
   "outputs": [],
   "execution_count": 7
  }
 ],
 "metadata": {
  "kernelspec": {
   "display_name": "Python 3",
   "language": "python",
   "name": "python3"
  },
  "language_info": {
   "codemirror_mode": {
    "name": "ipython",
    "version": 2
   },
   "file_extension": ".py",
   "mimetype": "text/x-python",
   "name": "python",
   "nbconvert_exporter": "python",
   "pygments_lexer": "ipython2",
   "version": "2.7.6"
  }
 },
 "nbformat": 4,
 "nbformat_minor": 5
}
