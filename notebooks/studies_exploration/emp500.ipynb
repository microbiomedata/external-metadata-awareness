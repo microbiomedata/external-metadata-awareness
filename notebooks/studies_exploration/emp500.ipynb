{
 "cells": [
  {
   "cell_type": "code",
   "id": "initial_id",
   "metadata": {
    "collapsed": true,
    "ExecuteTime": {
     "end_time": "2025-01-28T19:10:56.572940Z",
     "start_time": "2025-01-28T19:10:56.568026Z"
    }
   },
   "source": [
    "from pymongo import MongoClient\n",
    "import pprint\n",
    "\n",
    "import csv\n",
    "\n",
    "from oaklib import get_adapter\n",
    "\n",
    "from oaklib.datamodels.vocabulary import IS_A"
   ],
   "outputs": [],
   "execution_count": 31
  },
  {
   "metadata": {
    "ExecuteTime": {
     "end_time": "2025-01-28T19:07:28.827364Z",
     "start_time": "2025-01-28T19:07:28.821019Z"
    }
   },
   "cell_type": "code",
   "source": [
    "connection_string = \"mongodb://localhost:27017/\"\n",
    "\n",
    "envo_adapter_string = 'sqlite:obo:envo'\n",
    "\n",
    "gold_study_id = \"Gs0154244\"\n",
    "\n",
    "# no bioproject identifier is  included in the NCBI EMP500 biosample records\n",
    "# but they might all have emp500_principal_investigator attributes\n",
    "# indexing on Attributes.Attribute.attribute_name took ~ 30 minutes. resulting index size is ~ 3 GB\n",
    "# may need to index MongoDB on that\n",
    "# could alternatively use the DuckDB\n",
    "ncbi_project_id = \"17119329\"\n",
    "ncbi_project_accession = \"PRJEB42019\"\n",
    "ncbi_emp500_evidence_attribute = \"emp500_principal_investigator\"\n",
    "nmdc_study_id = \"nmdc:sty-11-547rwq94\"\n",
    "\n",
    "ncbi_output_tsv = \"ncbi_emp500_environmental_triads.tsv\"\n",
    "\n",
    "gold_seq_proj_output_tsv = \"gold_emp500_seq_proj_links.tsv\"\n",
    "\n",
    "gold_biosamples_output_tsv = \"gold_emp500_environments_ecosystems.tsv\""
   ],
   "id": "8e022237dde79cf",
   "outputs": [],
   "execution_count": 27
  },
  {
   "metadata": {
    "ExecuteTime": {
     "end_time": "2025-01-28T18:48:40.714319Z",
     "start_time": "2025-01-28T18:48:40.708172Z"
    }
   },
   "cell_type": "code",
   "source": [
    "# Connect to MongoDB server running on localhost\n",
    "client = MongoClient(connection_string)"
   ],
   "id": "31eb01385603b3f5",
   "outputs": [],
   "execution_count": 14
  },
  {
   "metadata": {
    "ExecuteTime": {
     "end_time": "2025-01-28T18:22:51.629421Z",
     "start_time": "2025-01-28T18:22:51.625676Z"
    }
   },
   "cell_type": "code",
   "source": "gold_db = client[\"gold_metadata\"]",
   "id": "f3fb4cf981fa622b",
   "outputs": [],
   "execution_count": 4
  },
  {
   "metadata": {
    "ExecuteTime": {
     "end_time": "2025-01-28T18:22:52.235565Z",
     "start_time": "2025-01-28T18:22:52.228740Z"
    }
   },
   "cell_type": "code",
   "source": [
    "ncbi_db = client[\"biosamples\"]\n",
    "ncbi_biosamples_collection = ncbi_db[\"biosamples\"]"
   ],
   "id": "d1667d0d4ca07f14",
   "outputs": [],
   "execution_count": 5
  },
  {
   "metadata": {},
   "cell_type": "code",
   "source": [
    "# Define the query\n",
    "emp500_biosamples_query = {\"Attributes.Attribute.attribute_name\": ncbi_emp500_evidence_attribute}"
   ],
   "id": "901b7e10e7e23086",
   "outputs": [],
   "execution_count": null
  },
  {
   "metadata": {},
   "cell_type": "code",
   "source": [
    "# Fetch matching records and convert them to a list of dictionaries\n",
    "ncbi_emp500_biosamples = list(ncbi_biosamples_collection.find(emp500_biosamples_query))\n"
   ],
   "id": "b7ce2b691fb780c3",
   "outputs": [],
   "execution_count": null
  },
  {
   "metadata": {},
   "cell_type": "code",
   "source": "print(len(ncbi_emp500_biosamples))",
   "id": "6313bfe7d44acc7c",
   "outputs": [],
   "execution_count": null
  },
  {
   "metadata": {},
   "cell_type": "code",
   "source": [
    "# Define the harmonized names you're looking for\n",
    "target_harmonized_names = {'env_broad_scale', 'env_local_scale', 'env_medium'}\n",
    "\n",
    "# Initialize an empty list to store the result\n",
    "result_list = []\n",
    "\n",
    "# Iterate through the matching records\n",
    "for record in ncbi_emp500_biosamples:\n",
    "    # Extract the accession and ncbi_project_accession values\n",
    "    accession = record.get('accession')\n",
    "    ncbi_bioproject_accession = record.get('ncbi_project_accession')\n",
    "\n",
    "    # Extract the values for the target paths\n",
    "    attribute_values = {}\n",
    "    attributes = record.get('Attributes', {}).get('Attribute', [])\n",
    "    for attribute in attributes:\n",
    "        harmonized_name = attribute.get('harmonized_name')\n",
    "        if harmonized_name in target_harmonized_names:\n",
    "            attribute_values[harmonized_name] = attribute.get('content')\n",
    "\n",
    "    # Add the extracted values to the result list\n",
    "    result_list.append({\n",
    "        'ncbi_bioproject_accession': ncbi_project_accession,\n",
    "        'ncbi_biosample_accession': accession,\n",
    "        **attribute_values  # Unpack the extracted attributes\n",
    "    })\n"
   ],
   "id": "8dc01a6983835c29",
   "outputs": [],
   "execution_count": null
  },
  {
   "metadata": {},
   "cell_type": "code",
   "source": [
    "# Define the header for the TSV file\n",
    "header = ['ncbi_bioproject_accession', 'ncbi_biosample_accession', 'env_broad_scale', 'env_local_scale', 'env_medium']\n",
    "\n",
    "# Write the result list to the TSV file\n",
    "with open(ncbi_output_tsv, mode='w', newline='', encoding='utf-8') as file:\n",
    "    writer = csv.DictWriter(file, fieldnames=header, delimiter='\\t')\n",
    "\n",
    "    # Write the header row\n",
    "    writer.writeheader()\n",
    "\n",
    "    # Write the data rows\n",
    "    for item in result_list:\n",
    "        writer.writerow(item)\n",
    "\n",
    "print(f\"Data has been written to {ncbi_output_tsv}\")"
   ],
   "id": "be02b3938b48b607",
   "outputs": [],
   "execution_count": null
  },
  {
   "metadata": {
    "ExecuteTime": {
     "end_time": "2025-01-28T18:31:26.282321Z",
     "start_time": "2025-01-28T18:31:26.225229Z"
    }
   },
   "cell_type": "code",
   "source": [
    "# Define the query\n",
    "gold_emp500_seq_projs_query = {\"ncbiBioProjectAccession\": \"PRJEB42019\"}\n",
    "\n",
    "gold_seq_projs_collection = gold_db[\"projects\"]\n",
    "\n",
    "# Fetch matching records\n",
    "gold_emp500_seq_projs = list(gold_seq_projs_collection.find(gold_emp500_seq_projs_query))\n",
    "\n",
    "# Initialize a list to store the processed data\n",
    "result_table = []\n",
    "\n",
    "# Process each matching record\n",
    "for record in gold_emp500_seq_projs:\n",
    "    # Extract required fields with default values for missing fields\n",
    "    project_gold_id = record.get('projectGoldId', '')\n",
    "    sequencingStrategy = record.get('sequencingStrategy', '')\n",
    "    projectStatus = record.get('projectStatus', '')\n",
    "    study_gold_id = record.get('studyGoldId', '')\n",
    "    biosample_gold_id = record.get('biosampleGoldId', '')\n",
    "    organism_gold_id = record.get('organismGoldId', '')\n",
    "    ncbi_bioproject_accession = record.get('ncbiBioProjectAccession', '')\n",
    "    ncbi_biosample_accession = record.get('ncbiBioSampleAccession', '')\n",
    "    sra_experiment_ids = record.get('sraExperimentIds', [])\n",
    "\n",
    "    # Pipe-concatenate the values in sraExperimentIds\n",
    "    sra_experiment_ids_str = '|'.join(sra_experiment_ids)\n",
    "\n",
    "    # Append the processed data as a dictionary\n",
    "    result_table.append({\n",
    "        'projectGoldId': project_gold_id,\n",
    "        'sequencingStrategy': sequencingStrategy,\n",
    "        'projectStatus': projectStatus,\n",
    "        'studyGoldId': study_gold_id,\n",
    "        'biosampleGoldId': biosample_gold_id,\n",
    "        'ncbiBioProjectAccession': ncbi_bioproject_accession,\n",
    "        'ncbiBioSampleAccession': ncbi_biosample_accession,\n",
    "        'sraExperimentIds': sra_experiment_ids_str\n",
    "    })\n",
    "\n",
    "header = ['projectGoldId', 'sequencingStrategy', 'projectStatus', 'studyGoldId', 'biosampleGoldId',\n",
    "          'ncbiBioProjectAccession', 'ncbiBioSampleAccession', 'sraExperimentIds']\n",
    "\n",
    "with open(gold_seq_proj_output_tsv, mode='w', newline='', encoding='utf-8') as file:\n",
    "    writer = csv.DictWriter(file, fieldnames=header, delimiter='\\t')\n",
    "\n",
    "    # Write the header row\n",
    "    writer.writeheader()\n",
    "\n",
    "    # Write the data rows\n",
    "    writer.writerows(result_table)\n",
    "\n",
    "print(f\"Data has been written to {gold_seq_proj_output_tsv}\")\n"
   ],
   "id": "bd2555bd00e4e3f3",
   "outputs": [
    {
     "name": "stdout",
     "output_type": "stream",
     "text": [
      "Data has been written to gold_emp500_seq_proj_links.tsv\n"
     ]
    }
   ],
   "execution_count": 9
  },
  {
   "metadata": {
    "ExecuteTime": {
     "end_time": "2025-01-28T18:37:40.349344Z",
     "start_time": "2025-01-28T18:37:40.344428Z"
    }
   },
   "cell_type": "code",
   "source": [
    "unique_biosample_gold_ids = list({record['biosampleGoldId'] for record in result_table if 'biosampleGoldId' in record})\n",
    "print(len(unique_biosample_gold_ids))"
   ],
   "id": "1b36c782a8d184a2",
   "outputs": [
    {
     "name": "stdout",
     "output_type": "stream",
     "text": [
      "1024\n"
     ]
    }
   ],
   "execution_count": 10
  },
  {
   "metadata": {
    "ExecuteTime": {
     "end_time": "2025-01-28T18:41:17.722706Z",
     "start_time": "2025-01-28T18:41:17.687134Z"
    }
   },
   "cell_type": "code",
   "source": [
    "# Query MongoDB for all documents where biosampleGoldId matches any value in unique_biosample_gold_ids\n",
    "query = {\"biosampleGoldId\": {\"$in\": unique_biosample_gold_ids}}\n",
    "\n",
    "gold_biosamples_collection = gold_db[\"biosamples\"]\n",
    "# Fetch matching documents and convert them to a list of dictionaries\n",
    "gold_emp500_biosamples = list(gold_biosamples_collection.find(query))\n",
    "\n",
    "# Print the number of matching documents and optionally inspect some of them\n",
    "print(f\"Found {len(gold_emp500_biosamples)} matching documents.\")\n",
    "\n",
    "# for doc in gold_emp500_biosamples[:5]:  # Print the first 5 documents for inspection\n",
    "#     pprint.pprint(doc)\n"
   ],
   "id": "9966c187964e85e8",
   "outputs": [
    {
     "name": "stdout",
     "output_type": "stream",
     "text": [
      "Found 1024 matching documents.\n"
     ]
    }
   ],
   "execution_count": 12
  },
  {
   "metadata": {
    "ExecuteTime": {
     "end_time": "2025-01-28T18:50:25.273850Z",
     "start_time": "2025-01-28T18:50:25.245136Z"
    }
   },
   "cell_type": "code",
   "source": [
    "# Initialize an empty list to store the processed data\n",
    "processed_data = []\n",
    "\n",
    "# Iterate through the documents in gold_emp500_biosamples\n",
    "for record in gold_emp500_biosamples:\n",
    "    # Extract the fields, using `.get()` for defensive handling of nulls\n",
    "    biosample_gold_id = record.get('biosampleGoldId', '')\n",
    "    ecosystem_path_id = record.get('ecosystemPathId', '')\n",
    "    ecosystem = record.get('ecosystem', '')\n",
    "    ecosystem_category = record.get('ecosystemCategory', '')\n",
    "    ecosystem_type = record.get('ecosystemType', '')\n",
    "    ecosystem_subtype = record.get('ecosystemSubtype', '')\n",
    "    specific_ecosystem = record.get('specificEcosystem', '')\n",
    "\n",
    "    # Extract and transform envo fields (replacing underscores with colons)\n",
    "    envo_broad_scale = record.get('envoBroadScale', {})\n",
    "    envo_broad_scale_id = envo_broad_scale.get('id', '').replace('_', ':')\n",
    "    envo_broad_scale_label = envo_broad_scale.get('label', '')\n",
    "\n",
    "    envo_local_scale = record.get('envoLocalScale', {})\n",
    "    envo_local_scale_id = envo_local_scale.get('id', '').replace('_', ':')\n",
    "    envo_local_scale_label = envo_local_scale.get('label', '')\n",
    "\n",
    "    envo_medium = record.get('envoMedium', {})\n",
    "    envo_medium_id = envo_medium.get('id', '').replace('_', ':')\n",
    "    envo_medium_label = envo_medium.get('label', '')\n",
    "\n",
    "    # Add the processed record to the list\n",
    "    processed_data.append({\n",
    "        'biosampleGoldId': biosample_gold_id,\n",
    "        'ecosystemPathId': ecosystem_path_id,\n",
    "        'ecosystem': ecosystem,\n",
    "        'ecosystemCategory': ecosystem_category,\n",
    "        'ecosystemType': ecosystem_type,\n",
    "        'ecosystemSubtype': ecosystem_subtype,\n",
    "        'specificEcosystem': specific_ecosystem,\n",
    "        'envoBroadScale.id': envo_broad_scale_id,\n",
    "        'envoBroadScale.label': envo_broad_scale_label,\n",
    "        'envoLocalScale.id': envo_local_scale_id,\n",
    "        'envoLocalScale.label': envo_local_scale_label,\n",
    "        'envoMedium.id': envo_medium_id,\n",
    "        'envoMedium.label': envo_medium_label,\n",
    "    })\n",
    "\n",
    "# Define the header for the TSV file\n",
    "header = [\n",
    "    'biosampleGoldId',\n",
    "    'ecosystemPathId',\n",
    "    'ecosystem',\n",
    "    'ecosystemCategory',\n",
    "    'ecosystemType',\n",
    "    'ecosystemSubtype',\n",
    "    'specificEcosystem',\n",
    "    'envoBroadScale.id',\n",
    "    'envoBroadScale.label',\n",
    "    'envoLocalScale.id',\n",
    "    'envoLocalScale.label',\n",
    "    'envoMedium.id',\n",
    "    'envoMedium.label',\n",
    "]\n",
    "\n",
    "# Write the processed data to a TSV file\n",
    "with open(gold_biosamples_output_tsv, mode='w', newline='', encoding='utf-8') as file:\n",
    "    writer = csv.DictWriter(file, fieldnames=header, delimiter='\\t')\n",
    "\n",
    "    # Write the header row\n",
    "    writer.writeheader()\n",
    "\n",
    "    # Write the data rows\n",
    "    writer.writerows(processed_data)\n",
    "\n",
    "print(f\"Processed data has been written to {gold_biosamples_output_tsv}\")\n"
   ],
   "id": "3eb0687ef698ddfc",
   "outputs": [
    {
     "name": "stdout",
     "output_type": "stream",
     "text": [
      "Processed data has been written to gold_emp500_environments_ecosystems.tsv\n"
     ]
    }
   ],
   "execution_count": 16
  },
  {
   "metadata": {},
   "cell_type": "code",
   "source": [
    "# Close the connection\n",
    "client.close()"
   ],
   "id": "41fce517c75a320e",
   "outputs": [],
   "execution_count": null
  },
  {
   "metadata": {
    "ExecuteTime": {
     "end_time": "2025-01-28T18:54:22.625519Z",
     "start_time": "2025-01-28T18:54:22.169280Z"
    }
   },
   "cell_type": "code",
   "source": [
    "import pandas as pd\n",
    "\n",
    "# Define the file paths\n",
    "filenames = [\n",
    "    \"gold_emp500_environments_ecosystems.tsv\",\n",
    "    \"gold_emp500_seq_proj_links.tsv\",\n",
    "    \"ncbi_emp500_environmental_triads.tsv\"\n",
    "]\n",
    "\n",
    "# Read each file into a DataFrame and assign it to a variable named after the base of the filename\n",
    "for filename in filenames:\n",
    "    # Extract the base name (without extension) and replace non-alphanumeric characters with underscores\n",
    "    var_name = filename.split('.')[0]\n",
    "    # Read the TSV into a DataFrame\n",
    "    globals()[var_name] = pd.read_csv(filename, sep='\\t', dtype=str)\n",
    "\n",
    "# Verify the loaded DataFrames\n",
    "print(\"Loaded DataFrames:\")\n",
    "for var_name in filenames:\n",
    "    var_name = var_name.split('.')[0]\n",
    "    print(f\"{var_name}: {globals()[var_name].shape}\")\n"
   ],
   "id": "66899a7062c85619",
   "outputs": [
    {
     "name": "stdout",
     "output_type": "stream",
     "text": [
      "Loaded DataFrames:\n",
      "gold_emp500_environments_ecosystems: (1024, 13)\n",
      "gold_emp500_seq_proj_links: (1836, 8)\n",
      "ncbi_emp500_environmental_triads: (1024, 5)\n"
     ]
    }
   ],
   "execution_count": 17
  },
  {
   "metadata": {
    "ExecuteTime": {
     "end_time": "2025-01-28T19:00:15.813320Z",
     "start_time": "2025-01-28T19:00:15.802325Z"
    }
   },
   "cell_type": "code",
   "source": [
    "pre_merged_df = pd.merge(\n",
    "    gold_emp500_seq_proj_links,\n",
    "    ncbi_emp500_environmental_triads,\n",
    "    left_on=\"ncbiBioSampleAccession\",\n",
    "    right_on=\"ncbi_biosample_accession\",\n",
    "    how=\"outer\",\n",
    "    indicator=False  # Add an indicator column to track unmatched rows\n",
    ")\n",
    "\n",
    "# Join the resulting DataFrame with gold_emp500_environments_ecosystems\n",
    "merged_df = pd.merge(\n",
    "    pre_merged_df,\n",
    "    gold_emp500_environments_ecosystems,\n",
    "    left_on=\"biosampleGoldId\",\n",
    "    right_on=\"biosampleGoldId\",\n",
    "    how=\"outer\",\n",
    "    indicator=False  # Add an indicator column to track unmatched rows\n",
    ")"
   ],
   "id": "193068b040bc6bba",
   "outputs": [],
   "execution_count": 20
  },
  {
   "metadata": {
    "ExecuteTime": {
     "end_time": "2025-01-28T19:06:05.238236Z",
     "start_time": "2025-01-28T19:06:05.227220Z"
    }
   },
   "cell_type": "code",
   "source": [
    "# Step 1: Drop the specified columns\n",
    "columns_to_drop = ['projectGoldId', 'sequencingStrategy', 'projectStatus', 'sraExperimentIds']\n",
    "deduped_df = merged_df.drop(columns=columns_to_drop, errors='ignore')\n",
    "\n",
    "# Step 2: Remove duplicate rows\n",
    "deduped_df = deduped_df.drop_duplicates()\n",
    "\n",
    "# Verify the resulting DataFrame\n",
    "print(f\"Final cleaned DataFrame shape (after dropping columns and removing duplicates): {final_cleaned_df.shape}\")\n"
   ],
   "id": "dc8a60c208902a43",
   "outputs": [
    {
     "name": "stdout",
     "output_type": "stream",
     "text": [
      "Final cleaned DataFrame shape (after dropping columns and removing duplicates): (1024, 21)\n"
     ]
    }
   ],
   "execution_count": 24
  },
  {
   "metadata": {
    "ExecuteTime": {
     "end_time": "2025-01-28T19:10:15.648461Z",
     "start_time": "2025-01-28T19:10:15.614001Z"
    }
   },
   "cell_type": "code",
   "source": "envo_adapter = get_adapter(envo_adapter_string)",
   "id": "5d8255fb640963c9",
   "outputs": [],
   "execution_count": 29
  },
  {
   "metadata": {
    "ExecuteTime": {
     "end_time": "2025-01-28T19:11:45.006585Z",
     "start_time": "2025-01-28T19:11:44.926625Z"
    }
   },
   "cell_type": "code",
   "source": [
    "# Define the IDs for the classes\n",
    "biome_id = \"ENVO:00000428\"  # Biome\n",
    "environmental_material_id = \"ENVO:00010483\"  # Environmental material\n",
    "\n",
    "# Get all subclasses (descendants) of 'biome'\n",
    "biome_subclasses = envo_adapter.descendants(biome_id, reflexive=False, predicates=[IS_A])\n",
    "biome_subclasses = list(biome_subclasses)  # Convert to a list for easier handling\n",
    "\n",
    "# Get all subclasses (descendants) of 'environmental material'\n",
    "environmental_material_subclasses = envo_adapter.descendants(environmental_material_id, reflexive=False, predicates=[IS_A])\n",
    "environmental_material_subclasses = list(environmental_material_subclasses)  # Convert to a list\n"
   ],
   "id": "e8c195d5849fef43",
   "outputs": [
    {
     "name": "stdout",
     "output_type": "stream",
     "text": [
      "Subclasses of ENVO:00000428 (biome):\n",
      "['ENVO:01001505', 'ENVO:01000024', 'ENVO:01000252', 'ENVO:01000180', 'ENVO:01000123', 'ENVO:01000174', 'ENVO:01000025', 'ENVO:01000038', 'ENVO:01000857', 'ENVO:01001230', 'ENVO:01000247', 'ENVO:01000030', 'ENVO:01000051', 'ENVO:01000036', 'ENVO:00000889', 'ENVO:01000186', 'ENVO:01000028', 'ENVO:01000201', 'ENVO:00000446', 'ENVO:01000220', 'ENVO:01000179', 'ENVO:01000228', 'ENVO:01000208', 'ENVO:01000246', 'ENVO:01000197', 'ENVO:01000037', 'ENVO:00000890', 'ENVO:01000222', 'ENVO:01000194', 'ENVO:01000192', 'ENVO:01000212', 'ENVO:01001835', 'ENVO:01000053', 'ENVO:01000224', 'ENVO:01000229', 'ENVO:01000185', 'ENVO:01000215', 'ENVO:01000023', 'ENVO:01000020', 'ENVO:01000181', 'ENVO:00000893', 'ENVO:01000253', 'ENVO:01000219', 'ENVO:01000339', 'ENVO:01000034', 'ENVO:01000218', 'ENVO:01000032', 'ENVO:01000249', 'ENVO:00002030', 'ENVO:01000177', 'ENVO:01000210', 'ENVO:01000052', 'ENVO:01000039', 'ENVO:03605008', 'ENVO:01000198', 'ENVO:01000022', 'ENVO:01000004', 'ENVO:01000027', 'ENVO:01001830', 'ENVO:01000193', 'ENVO:01000047', 'ENVO:01000856', 'ENVO:01000213', 'ENVO:01000223', 'ENVO:01000195', 'ENVO:01000184', 'ENVO:01001837', 'ENVO:01000182', 'ENVO:01000040', 'ENVO:01000191', 'ENVO:01000209', 'ENVO:01000221', 'ENVO:01001798', 'ENVO:01000183', 'ENVO:01000225', 'ENVO:01000175', 'ENVO:01000035', 'ENVO:01000200', 'ENVO:01000860', 'ENVO:01000245', 'ENVO:01000190', 'ENVO:01000854', 'ENVO:01001834', 'ENVO:01000041', 'ENVO:01001838', 'ENVO:01000216', 'ENVO:01000178', 'ENVO:01000189', 'ENVO:01000211', 'ENVO:01001369', 'ENVO:01000196', 'ENVO:00000891', 'ENVO:01000048', 'ENVO:01001832', 'ENVO:01000859', 'ENVO:01000127', 'ENVO:01000054', 'ENVO:01000046', 'ENVO:01000128', 'ENVO:01000176', 'ENVO:01000187', 'ENVO:00000892', 'ENVO:01000026', 'ENVO:01000226', 'ENVO:01000050', 'ENVO:01001831', 'ENVO:00000873', 'ENVO:01000214', 'ENVO:00000888', 'ENVO:01000033', 'ENVO:01000248', 'ENVO:01000202', 'ENVO:01000029', 'ENVO:01000217', 'ENVO:00000887', 'ENVO:01000199', 'ENVO:01000043', 'ENVO:01001836', 'ENVO:01000227', 'ENVO:01001833', 'ENVO:01000250', 'ENVO:00000447', 'ENVO:01000858', 'ENVO:01000188', 'ENVO:01000042', 'ENVO:01000045', 'ENVO:01000049']\n",
      "\n",
      "Subclasses of ENVO:00010483 (environmental material):\n",
      "['FOODON:00001838', 'ENVO:02000111', 'ENVO:01000480', 'FOODON:03400865', 'FOODON:00001279', 'ENVO:01000157', 'ENVO:03510007', 'ENVO:00002230', 'FOODON:03401061', 'ENVO:02000021', 'ENVO:01001231', 'ENVO:01000405', 'FOODON:03401270', 'ENVO:01000153', 'ENVO:00002194', 'FOODON:00001241', 'FOODON:03301467', 'ENVO:01000060', 'FOODON:00001083', 'ENVO:06105276', 'ENVO:01000416', 'ENVO:01001190', 'ENVO:00003044', 'FOODON:00001127', 'ENVO:01000152', 'ENVO:00002118', 'ENVO:00002003', 'FOODON:00001278', 'ENVO:01000962', 'FOODON:00002780', 'ENVO:01000872', 'ENVO:01000119', 'ENVO:01000442', 'FOODON:00002071', 'ENVO:06105273', 'FOODON:00002196', 'ENVO:00003045', 'FOODON:00001163', 'ENVO:00003097', 'ENVO:01001155', 'ENVO:00002235', 'FOODON:00001289', 'ENVO:02000105', 'ENVO:01000481', 'FOODON:03400852', 'FOODON:00001081', 'ENVO:03501303', 'FOODON:03310387', 'ENVO:01001511', 'ENVO:00002018', 'FOODON:00001041', 'ENVO:00002254', 'ENVO:01001608', 'ENVO:01001648', 'FOODON:00001063', 'ENVO:00002207', 'ENVO:00003860', 'ENVO:02000044', 'ENVO:00002246', 'FOODON:00001221', 'ENVO:03501300', 'ENVO:02000115', 'FOODON:03315173', 'FOODON:03301444', 'FOODON:00001027', 'ENVO:00002243', 'FOODON:00001611', 'ENVO:00002244', 'ENVO:00002133', 'ENVO:01000473', 'ENVO:01001391', 'FOODON:00001275', 'ENVO:01000814', 'FOODON:00001035', 'FOODON:00001159', 'FOODON:00002301', 'ENVO:03000076', 'ENVO:00003082', 'FOODON:00001056', 'FOODON:00001696', 'ENVO:01000463', 'ENVO:00002263', 'ENVO:00005788', 'ENVO:03000133', 'ENVO:01000458', 'FOODON:03400842', 'ENVO:03510037', 'ENVO:01001236', 'ENVO:00002274', 'ENVO:2000045', 'ENVO:01000661', 'ENVO:00002136', 'FOODON:00001134', 'ENVO:01001523', 'ENVO:01001203', 'FOODON:00001020', 'ENVO:00010505', 'FOODON:00001274', 'FOODON:00001086', 'ENVO:01000118', 'FOODON:00001015', 'FOODON:00001183', 'ENVO:01001647', 'FOODON:00001218', 'ENVO:01000555', 'FOODON:00001126', 'ENVO:01001847', 'ENVO:01000274', 'FOODON:00002175', 'ENVO:00003089', 'ENVO:01000349', 'ENVO:00003071', 'ENVO:02000097', 'FOODON:00001255', 'ENVO:00002147', 'ENVO:00002177', 'FOODON:00003341', 'ENVO:00002045', 'FOODON:00001162', 'ENVO:01001458', 'ENVO:01001527', 'ENVO:00003091', 'ENVO:06105280', 'ENVO:00005755', 'ENVO:02000047', 'FOODON:00001097', 'ENVO:03605004', 'ENVO:03501370', 'FOODON:00001182', 'ENVO:00003900', 'ENVO:01000851', 'ENVO:03605003', 'FOODON:00001152', 'ENVO:01000770', 'ENVO:01000551', 'FOODON:00002643', 'FOODON:00001207', 'ENVO:01001396', 'ENVO:01000838', 'ENVO:01001063', 'ENVO:01001113', 'ENVO:01001513', 'ENVO:00005765', 'ENVO:00002176', 'FOODON:00001201', 'ENVO:00002159', 'ENVO:00005771', 'FOODON:00001257', 'ENVO:02000029', 'FOODON:00001230', 'ENVO:01000114', 'ENVO:01001282', 'ENVO:01000846', 'ENVO:00005773', 'ENVO:02000039', 'ENVO:03600084', 'ENVO:00003978', 'FOODON:00001024', 'ENVO:03510065', 'FOODON:03400777', 'FOODON:03311737', 'FOODON:00001291', 'ENVO:01001285', 'ENVO:01001257', 'ENVO:00005779', 'ENVO:00005793', 'FOODON:00001133', 'ENVO:02000104', 'ENVO:00002238', 'FOODON:00002316', 'ENVO:00002251', 'ENVO:02000030', 'FOODON:00001212', 'FOODON:00001067', 'ENVO:03510061', 'ENVO:02000140', 'ENVO:01001185', 'FOODON:00001031', 'FOODON:00001005', 'ENVO:02000004', 'ENVO:00005799', 'FOODON:00001613', 'FOODON:00002266', 'FOODON:00001140', 'FOODON:00002165', 'FOODON:00001172', 'ENVO:03510055', 'FOODON:00001033', 'ENVO:00003085', 'FOODON:00001156', 'ENVO:01001064', 'ENVO:01000751', 'ENVO:00005770', 'ENVO:00002253', 'ENVO:06105205', 'ENVO:01001202', 'FOODON:00001130', 'ENVO:06105272', 'ENVO:00002001', 'ENVO:00005778', 'ENVO:00005738', 'FOODON:00001246', 'ENVO:00002261', 'ENVO:00002192', 'FOODON:03400650', 'FOODON:00001235', 'FOODON:00001091', 'ENVO:02000100', 'FOODON:00001202', 'ENVO:01000356', 'FOODON:00001254', 'FOODON:00001080', 'FOODON:00001215', 'FOODON:00001199', 'FOODON:00001060', 'FOODON:00001220', 'FOODON:00001102', 'ENVO:00005766', 'FOODON:03400352', 'ENVO:00005747', 'ENVO:01001616', 'ENVO:03600016', 'ENVO:04000013', 'ENVO:00005740', 'FOODON:00001071', 'ENVO:00002057', 'ENVO:03000071', 'FOODON:00001090', 'ENVO:00002256', 'ENVO:01000798', 'FOODON:00001096', 'ENVO:03000000', 'ENVO:00003095', 'ENVO:01001821', 'FOODON:00001295', 'ENVO:01001650', 'ENVO:03000046', 'FOODON:00001141', 'ENVO:01001036', 'ENVO:00005750', 'ENVO:01000789', 'ENVO:00005758', 'ENVO:00005748', 'FOODON:03400209', 'ENVO:01000133', 'FOODON:03400680', 'FOODON:00001008', 'ENVO:01001268', 'ENVO:01000474', 'ENVO:01000350', 'ENVO:01001882', 'ENVO:01000158', 'FOODON:00002645', 'FOODON:00004242', 'FOODON:00001129', 'ENVO:00002141', 'ENVO:01000559', 'ENVO:01000560', 'ENVO:00002264', 'FOODON:03307539', 'ENVO:02000045', 'ENVO:00002873', 'FOODON:00002786', 'FOODON:00001298', 'FOODON:00002819', 'ENVO:03501253', 'ENVO:00002983', 'FOODON:03400231', 'ENVO:01001116', 'ENVO:00002011', 'FOODON:03420307', 'ENVO:03600001', 'ENVO:02000101', 'FOODON:00001294', 'FOODON:03400187', 'ENVO:03600082', 'ENVO:00002113', 'FOODON:00001103', 'ENVO:01000231', 'FOODON:00001192', 'ENVO:01000847', 'FOODON:00001994', 'ENVO:01000357', 'ENVO:01001154', 'ENVO:00003927', 'ENVO:00002870', 'ENVO:03600065', 'ENVO:01000155', 'FOODON:03400257', 'ENVO:02000118', 'ENVO:01000436', 'ENVO:03520007', 'ENVO:02000102', 'FOODON:00001079', 'FOODON:00001106', 'ENVO:00002206', 'ENVO:00002236', 'ENVO:06105111', 'FOODON:00002373', 'ENVO:0010003', 'ENVO:00002013', 'ENVO:06105275', 'ENVO:00000003', 'ENVO:00002259', 'FOODON:03307345', 'ENVO:03600036', 'ENVO:01000482', 'FOODON:00002423', 'ENVO:00002012', 'ENVO:00002044', 'FOODON:00001771', 'FOODON:00001017', 'ENVO:00002154', 'ENVO:00002242', 'FOODON:03302001', 'ENVO:00003869', 'ENVO:00003930', 'ENVO:02000024', 'ENVO:06105238', 'ENVO:01000508', 'ENVO:02000027', 'ENVO:01001126', 'ENVO:01000120', 'ENVO:03501302', 'ENVO:01001288', 'FOODON:00001124', 'FOODON:00002779', 'ENVO:00002116', 'FOODON:03304497', 'ENVO:01001103', 'FOODON:00001244', 'ENVO:01000461', 'FOODON:00001107', 'ENVO:2000044', 'ENVO:03600064', 'FOODON:00001007', 'ENVO:04000012', 'FOODON:00001002', 'FOODON:00001290', 'FOODON:00001217', 'FOODON:00001076', 'FOODON:00002781', 'FOODON:00002141', 'ENVO:03510018', 'ENVO:00005746', 'ENVO:00003032', 'ENVO:00002146', 'FOODON:03400840', 'ENVO:00003096', 'ENVO:01001845', 'FOODON:00001175', 'FOODON:00001158', 'ENVO:00002262', 'ENVO:03510057', 'ENVO:01000464', 'FOODON:00002300', 'ENVO:01000599', 'ENVO:01001235', 'FOODON:03301977', 'FOODON:00001055', 'ENVO:01000173', 'ENVO:01001649', 'ENVO:01000662', 'ENVO:01000701', 'FOODON:03315150', 'ENVO:03510036', 'ENVO:00005789', 'ENVO:06105278', 'ENVO:01000552', 'ENVO:00002191', 'ENVO:01000018', 'ENVO:00002005', 'ENVO:01000115', 'ENVO:03510031', 'ENVO:01000371', 'FOODON:00001120', 'ENVO:00005756', 'FOODON:00001288', 'FOODON:00001054', 'ENVO:00003908', 'ENVO:00002053', 'ENVO:02000028', 'FOODON:00001069', 'ENVO:06105268', 'FOODON:00002115', 'FOODON:00001256', 'FOODON:00001197', 'ENVO:00002228', 'ENVO:03605005', 'FOODON:00001121', 'FOODON:00001169', 'FOODON:00002126', 'FOODON:03310006', 'FOODON:00001045', 'FOODON:00001247', 'ENVO:02000090', 'FOODON:00001262', 'FOODON:00002156', 'ENVO:00005786', 'FOODON:00002753', 'FOODON:00001919', 'ENVO:03510029', 'FOODON:03316079', 'ENVO:01000637', 'ENVO:01001528', 'FOODON:00001178', 'FOODON:00001025', 'ENVO:01001646', 'ENVO:00002200', 'ENVO:01000154', 'FOODON:00001065', 'FOODON:00001135', 'FOODON:03305536', 'FOODON:00001208', 'ENVO:01000939', 'FOODON:00002787', 'ENVO:01000479', 'FOODON:00001052', 'FOODON:03400294', 'FOODON:00001164', 'ENVO:01001088', 'FOODON:00002029', 'ENVO:01000272', 'ENVO:01001139', 'FOODON:03400155', 'ENVO:01000233', 'ENVO:02000131', 'ENVO:02000054', 'ENVO:01000017', 'ENVO:02000095', 'FOODON:00001154', 'FOODON:00001184', 'ENVO:00003965', 'ENVO:01001848', 'ENVO:01001234', 'ENVO:00005790', 'ENVO:02000034', 'ENVO:00002186', 'ENVO:00003093', 'ENVO:01001284', 'ENVO:01001512', 'FOODON:00001105', 'ENVO:01000483', 'FOODON:00001857', 'ENVO:04000014', 'FOODON:00001272', 'ENVO:02000048', 'ENVO:00002984', 'ENVO:00005783', 'ENVO:01000557', 'ENVO:01000113', 'ENVO:00005802', 'ENVO:00005774', 'ENVO:00002010', 'ENVO:01000415', 'ENVO:00003914', 'FOODON:00001891', 'FOODON:03400147', 'ENVO:02000103', 'ENVO:03501305', 'ENVO:01001186', 'ENVO:01001069', 'FOODON:03400874', 'ENVO:03000033', 'ENVO:00005776', 'ENVO:00003903', 'FOODON:00001131', 'ENVO:03510016', 'FOODON:00001059', 'FOODON:00001189', 'FOODON:00001222', 'FOODON:00001111', 'ENVO:00002059', 'ENVO:00005797', 'FOODON:03400213', 'ENVO:00002040', 'FOODON:00001211', 'FOODON:00002333', 'FOODON:00001165', 'FOODON:00001252', 'ENVO:00002241', 'FOODON:00001058', 'FOODON:00001232', 'FOODON:00001800', 'ENVO:00000134', 'ENVO:00003094', 'ENVO:01001258', 'ENVO:03600007', 'FOODON:00001867', 'FOODON:00001048', 'ENVO:00005753', 'ENVO:00005780', 'ENVO:01000156', 'ENVO:00005763', 'ENVO:0010001', 'FOODON:00001245', 'ENVO:00002160', 'ENVO:02000022', 'ENVO:01000112', 'ENVO:01001059', 'FOODON:03400801', 'ENVO:00002150', 'FOODON:00001094', 'ENVO:02000129', 'ENVO:03600013', 'ENVO:00002134', 'FOODON:03400293', 'FOODON:03315552', 'ENVO:00005764', 'FOODON:03460263', 'ENVO:2000010', 'ENVO:02000128', 'ENVO:01001037', 'ENVO:02000120', 'FOODON:00001070', 'FOODON:03316694', 'ENVO:01001563', 'ENVO:00005777', 'FOODON:03315302', 'FOODON:00001194', 'FOODON:03303909', 'FOODON:00001198', 'ENVO:01000790', 'ENVO:01001237', 'FOODON:00001214', 'FOODON:00001253', 'ENVO:00003083', 'ENVO:00002875', 'ENVO:00003982', 'ENVO:01001850', 'FOODON:00001104', 'ENVO:00000338', 'ENVO:00002129', 'FOODON:00001242', 'ENVO:03510006', 'ENVO:00002171', 'ENVO:03605006', 'ENVO:03510062', 'ENVO:01000600', 'FOODON:00001878', 'ENVO:01000797', 'ENVO:03000034', 'ENVO:02000037', 'ENVO:00002225', 'ENVO:2000011', 'ENVO:03501252', 'FOODON:00002364', 'ENVO:01001018', 'ENVO:01001562', 'FOODON:00001185', 'ENVO:01000256', 'ENVO:02000126', 'ENVO:00002233', 'ENVO:03000005', 'FOODON:03430130', 'ENVO:00002055', 'FOODON:00001280', 'FOODON:03400188', 'ENVO:03500025', 'FOODON:00001293', 'ENVO:03600009', 'ENVO:02000113', 'FOODON:03420108', 'ENVO:01001039', 'ENVO:01001119', 'ENVO:01000016', 'FOODON:00001714', 'FOODON:00002053', 'ENVO:02000059', 'ENVO:03501259', 'ENVO:03500019', 'ENVO:00005762', 'ENVO:00002255', 'FOODON:00001010', 'ENVO:01001392', 'FOODON:03430109', 'FOODON:00001075', 'FOODON:00001138', 'ENVO:00005760', 'FOODON:00001074', 'ENVO:02000116', 'ENVO:00003090', 'ENVO:01001516', 'ENVO:00002202', 'ENVO:02000098', 'ENVO:02000026', 'ENVO:01000575', 'FOODON:03400960', 'ENVO:02000152', 'ENVO:00003030', 'ENVO:01000135', 'ENVO:00002014', 'ENVO:00002135', 'ENVO:01001038', 'FOODON:00002146', 'ENVO:00002249', 'ENVO:01000277', 'ENVO:2000008', 'ENVO:01001060', 'ENVO:01001841', 'FOODON:00002454', 'FOODON:00001049', 'ENVO:03510070', 'ENVO:00005796', 'FOODON:00001174', 'FOODON:03400143', 'ENVO:01001004', 'ENVO:03501306', 'FOODON:00002012', 'FOODON:00001014', 'ENVO:01000121', 'ENVO:02000123', 'FOODON:00002132', 'ENVO:00002145', 'ENVO:01001515', 'ENVO:01000462', 'ENVO:00002007', 'FOODON:00002450', 'ENVO:00002234', 'ENVO:00002054', 'ENVO:00002182', 'FOODON:00001783', 'FOODON:00001191', 'ENVO:00003086', 'FOODON:00001229', 'ENVO:01001526', 'ENVO:02000025', 'FOODON:00001210', 'ENVO:03510008', 'ENVO:02000019', 'FOODON:03301103', 'FOODON:00001610', 'FOODON:00001064', 'ENVO:00002223', 'ENVO:00002212', 'ENVO:01001125', 'ENVO:01000082', 'FOODON:03301073', 'ENVO:2000007', 'FOODON:00001149', 'FOODON:03420152', 'ENVO:02000155', 'ENVO:03000072', 'FOODON:00001151', 'ENVO:00002008', 'ENVO:03510064', 'ENVO:00005743', 'ENVO:02000114', 'ENVO:06105277', 'ENVO:01000722', 'FOODON:00001148', 'ENVO:03510038', 'ENVO:01000301', 'ENVO:00003065', 'ENVO:00010506', 'ENVO:01000660', 'FOODON:00002139', 'FOODON:00001028', 'ENVO:00002252', 'ENVO:00002201', 'ENVO:00002155', 'ENVO:02000099', 'FOODON:00001004', 'FOODON:03400803', 'ENVO:01000358', 'ENVO:03510015', 'ENVO:00005787', 'FOODON:00001053', 'ENVO:01000628', 'ENVO:01000484', 'ENVO:00002229', 'FOODON:00002791', 'ENVO:02000036', 'ENVO:00000546', 'FOODON:03400115', 'FOODON:03301227', 'ENVO:00002019', 'FOODON:00001177', 'ENVO:00002193', 'ENVO:01001557', 'FOODON:00001196', 'FOODON:00001171', 'ENVO:00002015', 'ENVO:01000427', 'ENVO:02000033', 'FOODON:00002403', 'ENVO:03510009', 'ENVO:01001141', 'ENVO:00002114', 'ENVO:01000000', 'FOODON:03400861', 'ENVO:00005754', 'FOODON:00001087', 'ENVO:01001140', 'ENVO:01000273', 'FOODON:00001260', 'FOODON:03400148', 'FOODON:00001051', 'ENVO:01000270', 'ENVO:00005781', 'ENVO:00002042', 'ENVO:00005775', 'FOODON:00001046', 'ENVO:02000031', 'FOODON:00001050', 'ENVO:01000111', 'ENVO:00002267', 'FOODON:00002157', 'FOODON:00001114', 'ENVO:01000842', 'FOODON:00001040', 'ENVO:01001233', 'FOODON:00001234', 'ENVO:02000038', 'FOODON:00001204', 'ENVO:01000001', 'ENVO:01000558', 'ENVO:00002170', 'ENVO:01000828', 'ENVO:00005798', 'ENVO:03000108', 'ENVO:02000096', 'ENVO:01000853', 'FOODON:00001675', 'ENVO:00002257', 'ENVO:00003092', 'ENVO:00002240', 'ENVO:00005782', 'ENVO:03510056', 'FOODON:00002252', 'ENVO:00002982', 'ENVO:00002056', 'ENVO:01001286', 'FOODON:00001166', 'FOODON:00001078', 'ENVO:01000485', 'ENVO:03501304', 'ENVO:03000139', 'FOODON:00002752', 'FOODON:03317170', 'ENVO:01000373', 'ENVO:00002275', 'ENVO:01000235', 'ENVO:00003081', 'ENVO:01000232', 'ENVO:01001876', 'FOODON:00001089', 'FOODON:00002044', 'ENVO:00002273', 'ENVO:03500020', 'ENVO:01000477', 'ENVO:00002250', 'FOODON:00001057', 'FOODON:00001100', 'FOODON:00001021', 'FOODON:00001251', 'ENVO:01001651', 'FOODON:00001231', 'FOODON:00001243', 'ENVO:01000372', 'ENVO:01000116', 'ENVO:03500018', 'FOODON:00001038', 'FOODON:00001223', 'FOODON:00001224', 'FOODON:03420244', 'FOODON:03400361', 'ENVO:03510033', 'ENVO:00005744', 'ENVO:03000075', 'ENVO:00000194', 'FOODON:00001082', 'ENVO:03000007', 'FOODON:00001009', 'ENVO:03510060', 'ENVO:00002127', 'FOODON:00001019', 'ENVO:00003033', 'ENVO:00005751', 'ENVO:01001638', 'FOODON:00001219', 'FOODON:00002664', 'FOODON:00001266', 'ENVO:01001270', 'ENVO:00005792', 'ENVO:03510023', 'FOODON:00001665', 'ENVO:01000110', 'ENVO:06105211', 'ENVO:02000108', 'ENVO:01000268', 'ENVO:01000681', 'ENVO:06105003', 'FOODON:00001039', 'ENVO:00005761', 'FOODON:00003395', 'ENVO:00002046', 'ENVO:01001138', 'ENVO:02000042', 'ENVO:00002180', 'ENVO:03000025', 'ENVO:01001238', 'FOODON:00001160', 'FOODON:00001281', 'ENVO:01001560', 'ENVO:00005769', 'ENVO:03605001', 'FOODON:00001125', 'FOODON:00002125', 'FOODON:00001284', 'FOODON:00001093', 'ENVO:02000130', 'ENVO:01000236', 'ENVO:01000940', 'FOODON:00002762', 'ENVO:01001561', 'FOODON:03420156', 'ENVO:02000112', 'FOODON:00001209', 'FOODON:00001161', 'FOODON:00001859', 'FOODON:00001203', 'ENVO:02000119', 'ENVO:00003084', 'ENVO:02000127', 'ENVO:01000406', 'ENVO:00002224', 'ENVO:03000021', 'ENVO:00002872', 'ENVO:01001089', 'FOODON:00001283', 'ENVO:02000023', 'ENVO:02000041', 'FOODON:00001061', 'ENVO:03510000', 'ENVO:00002209', 'ENVO:02000109', 'ENVO:00005800', 'ENVO:00002231', 'ENVO:01000269', 'FOODON:00001879', 'FOODON:00002813', 'FOODON:00002153', 'ENVO:00002239', 'ENVO:00002138', 'ENVO:01000444', 'FOODON:00001277', 'FOODON:00001261', 'FOODON:00001062', 'ENVO:00005767', 'FOODON:03400644', 'FOODON:00001248', 'ENVO:06105274', 'ENVO:00005768', 'ENVO:00003031', 'ENVO:02000035', 'ENVO:01001393', 'FOODON:00002038', 'FOODON:00001147', 'ENVO:2000009', 'FOODON:03401095', 'ENVO:03000002', 'FOODON:00001250', 'ENVO:02000124', 'ENVO:00002016', 'FOODON:03316271', 'ENVO:00002017', 'ENVO:01001232', 'ENVO:01000441', 'ENVO:00002164', 'ENVO:01001156', 'ENVO:01001283', 'ENVO:03000088', 'FOODON:00001186', 'FOODON:00001632', 'ENVO:03000073', 'ENVO:03501307', 'FOODON:03400164', 'ENVO:00002245', 'ENVO:03000137', 'FOODON:00001757', 'FOODON:00001187', 'FOODON:00001013', 'ENVO:00005752', 'ENVO:00001995', 'ENVO:00002237', 'ENVO:01000676', 'FOODON:00001640', 'FOODON:00001001', 'ENVO:02000008', 'ENVO:01001820', 'FOODON:00002778', 'ENVO:06105101', 'FOODON:00001139', 'ENVO:00002871', 'ENVO:01000648', 'ENVO:00002248', 'ENVO:01001514', 'ENVO:00002006', 'FOODON:00001136', 'ENVO:01000537', 'FOODON:00001128', 'FOODON:00001006', 'ENVO:00002258', 'FOODON:00001259', 'FOODON:03420228', 'FOODON:00002262', 'FOODON:03460231', 'ENVO:01001849', 'ENVO:01001189', 'ENVO:00010623', 'ENVO:00002247', 'FOODON:03315904', 'ENVO:02000117', 'ENVO:01001118', 'ENVO:01001644', 'ENVO:04000007', 'FOODON:00001276', 'FOODON:00001180', 'ENVO:01000070', 'FOODON:00001118', 'FOODON:03303220', 'FOODON:00002456', 'ENVO:01000132', 'FOODON:00002131', 'ENVO:02000046', 'ENVO:02000106', 'ENVO:01001525', 'ENVO:01001846', 'FOODON:00001206', 'FOODON:00002501', 'ENVO:01000815', 'ENVO:06105279', 'ENVO:00002158', 'ENVO:01000117', 'FOODON:00001098', 'FOODON:00001190', 'ENVO:01000850', 'FOODON:00002035', 'ENVO:00002060', 'ENVO:03000027', 'ENVO:01000460', 'FOODON:00001016', 'ENVO:01000964', 'ENVO:02000153', 'FOODON:00001146', 'FOODON:00001150', 'ENVO:02000020', 'ENVO:01000459', 'ENVO:02000053', 'ENVO:01000271', 'ENVO:01001397', 'ENVO:03501324', 'ENVO:00005795', 'ENVO:01000451', 'ENVO:00002122', 'ENVO:01000478', 'ENVO:03605002', 'ENVO:06105112', 'FOODON:03400969', 'FOODON:03312053', 'ENVO:00002148', 'FOODON:00002219', 'FOODON:00001205', 'ENVO:00003884', 'FOODON:03460177', 'ENVO:01000556', 'FOODON:00001176', 'FOODON:00001099', 'ENVO:00002149', 'FOODON:00001036', 'ENVO:00003088', 'FOODON:00001073', 'FOODON:00001170', 'FOODON:03400204', 'ENVO:01000063', 'ENVO:00002869', 'FOODON:00001153', 'ENVO:01000845', 'FOODON:03400289', 'FOODON:03400643', 'FOODON:00001088', 'ENVO:01000151', 'FOODON:00001023', 'ENVO:1000746', 'ENVO:00005794', 'ENVO:01001028', 'ENVO:01000553', 'ENVO:06105269', 'ENVO:01001395', 'ENVO:01001267', 'ENVO:01000554', 'FOODON:03400356', 'ENVO:01000663', 'ENVO:01000829', 'ENVO:01000476', 'ENVO:01001402', 'FOODON:00001233', 'ENVO:00002179', 'ENVO:03510058', 'ENVO:00005739', 'ENVO:00002276', 'ENVO:02000084', 'ENVO:02000032', 'FOODON:00001292', 'ENVO:00005784', 'FOODON:00001200', 'ENVO:01000234', 'ENVO:00002266', 'FOODON:00001142', 'ENVO:04000008', 'FOODON:00002265', 'ENVO:03600006', 'FOODON:00001258', 'ENVO:02000145', 'FOODON:00001132', 'ENVO:00002985', 'FOODON:03316579', 'ENVO:03500021', 'FOODON:03400845', 'FOODON:03315925', 'FOODON:00001037', 'ENVO:03600042', 'ENVO:03500017', 'FOODON:00001777', 'FOODON:00001285', 'ENVO:02000040', 'FOODON:00001157', 'FOODON:00001173', 'ENVO:00002260', 'ENVO:00003870', 'ENVO:03500016', 'ENVO:01001652', 'FOODON:00001032', 'FOODON:00002381', 'ENVO:00005742', 'ENVO:02000094', 'ENVO:01001204', 'ENVO:01000131', 'FOODON:00002275', 'ENVO:00003064', 'FOODON:03302082', 'ENVO:00005741', 'FOODON:00001029', 'FOODON:00001264', 'FOODON:00001181', 'FOODON:00001225', 'ENVO:00005772', 'FOODON:00001077', 'FOODON:00001003', 'ENVO:01000134', 'ENVO:01001869', 'ENVO:00002058', 'ENVO:03600002', 'ENVO:01000844', 'ENVO:02000055', 'ENVO:00002232', 'ENVO:03510032', 'ENVO:01000266', 'ENVO:03000004', 'FOODON:00001011', 'ENVO:00005759', 'ENVO:03600081', 'ENVO:00005791', 'ENVO:00003859', 'ENVO:00003087', 'FOODON:00002158', 'ENVO:00005757', 'FOODON:00001092', 'FOODON:00001635', 'FOODON:00004156', 'FOODON:00001626', 'ENVO:00002115', 'ENVO:01001614', 'ENVO:03000063', 'ENVO:00005749', 'FOODON:00002663', 'ENVO:02000091', 'ENVO:00002047', 'ENVO:03600017', 'ENVO:06105016', 'ENVO:02000107', 'FOODON:00001296', 'ENVO:03000038', 'FOODON:00001216', 'FOODON:00002151', 'ENVO:02000138', 'FOODON:00001286', 'FOODON:00001747', 'FOODON:00001193', 'FOODON:00001282', 'ENVO:01001883', 'ENVO:00002203', 'ENVO:00002142', 'ENVO:01001117', 'ENVO:00002117', 'ENVO:01001121', 'ENVO:03605000', 'ENVO:00001998']\n"
     ]
    }
   ],
   "execution_count": 32
  },
  {
   "metadata": {
    "ExecuteTime": {
     "end_time": "2025-01-28T19:14:36.824320Z",
     "start_time": "2025-01-28T19:14:36.817197Z"
    }
   },
   "cell_type": "code",
   "source": [
    "# Add 'bad_ebs' column: True if envoBroadScale.id is not in biome_subclasses\n",
    "deduped_df['bad_ebs'] = ~deduped_df['envoBroadScale.id'].isin(biome_subclasses)\n",
    "\n",
    "# Add 'bad_em' column: True if envoMedium.id is not in environmental_material_subclasses\n",
    "deduped_df['bad_em'] = ~deduped_df['envoMedium.id'].isin(environmental_material_subclasses)\n"
   ],
   "id": "7a6511f22281e376",
   "outputs": [],
   "execution_count": 33
  },
  {
   "metadata": {
    "ExecuteTime": {
     "end_time": "2025-01-28T19:14:47.865029Z",
     "start_time": "2025-01-28T19:14:47.849463Z"
    }
   },
   "cell_type": "code",
   "source": "deduped_df.to_csv(\"merged_emp500_data.tsv\", sep=\"\\t\", index=False)",
   "id": "2403e42de8ec21ee",
   "outputs": [],
   "execution_count": 34
  }
 ],
 "metadata": {
  "kernelspec": {
   "display_name": "Python 3",
   "language": "python",
   "name": "python3"
  },
  "language_info": {
   "codemirror_mode": {
    "name": "ipython",
    "version": 2
   },
   "file_extension": ".py",
   "mimetype": "text/x-python",
   "name": "python",
   "nbconvert_exporter": "python",
   "pygments_lexer": "ipython2",
   "version": "2.7.6"
  }
 },
 "nbformat": 4,
 "nbformat_minor": 5
}
