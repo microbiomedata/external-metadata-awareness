{
 "cells": [
  {
   "metadata": {
    "ExecuteTime": {
     "end_time": "2025-02-07T12:21:09.475572Z",
     "start_time": "2025-02-07T12:21:06.352829Z"
    }
   },
   "cell_type": "code",
   "source": [
    "import csv\n",
    "import pprint\n",
    "import re\n",
    "from collections import Counter\n",
    "\n",
    "from oaklib import get_adapter\n",
    "from oaklib.datamodels.vocabulary import IS_A\n",
    "from pymongo import MongoClient\n",
    "from rapidfuzz import process, fuzz\n"
   ],
   "id": "677f36ffc72b54c7",
   "outputs": [],
   "execution_count": 1
  },
  {
   "metadata": {
    "ExecuteTime": {
     "end_time": "2025-02-07T12:21:09.490541Z",
     "start_time": "2025-02-07T12:21:09.487613Z"
    }
   },
   "cell_type": "code",
   "source": [
    "# For Ontology Access Kit (OAK)\n",
    "envo_adapter_string = \"sqlite:obo:envo\""
   ],
   "id": "943ac74114d713a3",
   "outputs": [],
   "execution_count": 2
  },
  {
   "metadata": {
    "ExecuteTime": {
     "end_time": "2025-02-07T12:21:09.561245Z",
     "start_time": "2025-02-07T12:21:09.557996Z"
    }
   },
   "cell_type": "code",
   "source": [
    "BIOME = \"ENVO:00000428\"\n",
    "ENV_MAT = \"ENVO:00010483\"\n",
    "ABP = \"ENVO:01000813\""
   ],
   "id": "4650c8757d94953b",
   "outputs": [],
   "execution_count": 3
  },
  {
   "cell_type": "code",
   "id": "initial_id",
   "metadata": {
    "collapsed": true,
    "ExecuteTime": {
     "end_time": "2025-02-07T12:21:09.598162Z",
     "start_time": "2025-02-07T12:21:09.594700Z"
    }
   },
   "source": [
    "# For the BBOP/NMDC MongoDB containing NCBI metadata\n",
    "\n",
    "MONGO_USERNAME = None\n",
    "MONGO_PASSWORD = None\n",
    "MONGO_HOST = \"localhost\"\n",
    "MONGO_PORT = 27017\n",
    "MONGO_DATABASE = \"ncbi_metadata\"\n",
    "BIOPROJECTS_COLLECTION = \"bioprojects\"\n",
    "BIOSAMPLES_COLLECTION = \"biosamples\"\n",
    "BIOSAMPLES_BIOPROJECTS_COLLECTION = \"sra_biosamples_bioprojects\"\n"
   ],
   "outputs": [],
   "execution_count": 4
  },
  {
   "metadata": {
    "ExecuteTime": {
     "end_time": "2025-02-07T12:21:09.616880Z",
     "start_time": "2025-02-07T12:21:09.607411Z"
    }
   },
   "cell_type": "code",
   "source": [
    "if MONGO_USERNAME is not None and MONGO_PASSWORD is not None:\n",
    "    # Replace these with your actual credentials and connection details.\n",
    "    username = MONGO_USERNAME\n",
    "    password = MONGO_PASSWORD\n",
    "    host = MONGO_HOST\n",
    "    port = MONGO_PORT\n",
    "\n",
    "    # Build the connection string with authentication.\n",
    "    connection_string = f\"mongodb://{username}:{password}@{host}:{port}\"\n",
    "else:\n",
    "    # Default connection to unauthenticated MongoDB.\n",
    "    host = MONGO_HOST\n",
    "    port = MONGO_PORT\n",
    "    connection_string = f\"mongodb://{host}:{port}\"\n",
    "\n",
    "# Create the client connection.\n",
    "client = MongoClient(connection_string)"
   ],
   "id": "b969c2be9931f9a0",
   "outputs": [],
   "execution_count": 5
  },
  {
   "metadata": {
    "ExecuteTime": {
     "end_time": "2025-02-07T12:21:09.635552Z",
     "start_time": "2025-02-07T12:21:09.632788Z"
    }
   },
   "cell_type": "code",
   "source": [
    "# --------------------------\n",
    "# Select Database\n",
    "# --------------------------\n",
    "\n",
    "db = client[MONGO_DATABASE]  # Dynamically select database\n"
   ],
   "id": "25f5d84f372820cb",
   "outputs": [],
   "execution_count": 6
  },
  {
   "metadata": {
    "ExecuteTime": {
     "end_time": "2025-02-07T12:21:09.647823Z",
     "start_time": "2025-02-07T12:21:09.644882Z"
    }
   },
   "cell_type": "code",
   "source": "bioprojects_collection = db[BIOPROJECTS_COLLECTION]",
   "id": "8758335ede813b20",
   "outputs": [],
   "execution_count": 7
  },
  {
   "metadata": {
    "ExecuteTime": {
     "end_time": "2025-02-07T12:21:09.660457Z",
     "start_time": "2025-02-07T12:21:09.656918Z"
    }
   },
   "cell_type": "code",
   "source": [
    "# --------------------------\n",
    "# Search for NCBI BioProject records \"about\" EMP500\n",
    "# --------------------------\n",
    "# This query searches for the term \"EMP500\" using the $text operator,\n",
    "# projects the text relevance score into the \"score\" field,\n",
    "# and sorts the results by that relevance score.\n",
    "cursor = bioprojects_collection.find(\n",
    "    {\"$text\": {\"$search\": \"EMP500\"}},\n",
    "    {\"score\": {\"$meta\": \"textScore\"}}\n",
    ").sort([(\"score\", {\"$meta\": \"textScore\"})])\n"
   ],
   "id": "92338e87853ddf8d",
   "outputs": [],
   "execution_count": 8
  },
  {
   "metadata": {
    "ExecuteTime": {
     "end_time": "2025-02-07T12:21:09.672725Z",
     "start_time": "2025-02-07T12:21:09.669805Z"
    }
   },
   "cell_type": "code",
   "source": "emp500_candidate_bioprojects = []",
   "id": "148ec4a9295317a",
   "outputs": [],
   "execution_count": 9
  },
  {
   "metadata": {
    "ExecuteTime": {
     "end_time": "2025-02-07T12:21:09.692160Z",
     "start_time": "2025-02-07T12:21:09.681922Z"
    }
   },
   "cell_type": "code",
   "source": [
    "# --------------------------\n",
    "# Print the Results for Review\n",
    "# --------------------------\n",
    "for doc in cursor:\n",
    "    pprint.pprint(doc)\n",
    "    emp500_candidate_bioprojects.append(doc)"
   ],
   "id": "12f654427f051951",
   "outputs": [
    {
     "name": "stdout",
     "output_type": "stream",
     "text": [
      "{'ProjectDescr': {'Description': 'The Earth Microbiome Project Multi-omics '\n",
      "                                 'component (EMP500) involves amplicon and '\n",
      "                                 'shotgun metagenomic sequencing and '\n",
      "                                 'metabolomic profiling of over five hundred '\n",
      "                                 'microbial communities from diverse '\n",
      "                                 'environments on our planet. We developed new '\n",
      "                                 'protocols for shotgun metagenomic sequencing '\n",
      "                                 'and assembly, with the goal of applying this '\n",
      "                                 'workflow to a range of environmental '\n",
      "                                 'samples, combined with metabolomic '\n",
      "                                 'profiling. 16S, 18S, and ITS amplicon '\n",
      "                                 'sequencing was done in addition. We acquired '\n",
      "                                 'a set of >500 fresh environmental samples '\n",
      "                                 'across a range of habitats, with the help of '\n",
      "                                 'the EMP network of collaborators. A biobank '\n",
      "                                 'of frozen aliquots for all samples is '\n",
      "                                 'maintained at UCSD (soil samples stored at '\n",
      "                                 'the Pacific Northwest National Laboratory) '\n",
      "                                 'for future methods testing and analysis.',\n",
      "                  'Title': 'Earth Microbiome Project Multi-omics (EMP500)'},\n",
      " 'ProjectID': {'ArchiveID': {'accession': 'PRJEB42019',\n",
      "                             'archive': 'EBI',\n",
      "                             'id': '686344'},\n",
      "               'CenterID': {'center': 'EBI', 'id': '0', 'text': 'ERP125879'},\n",
      "               'LocalID': {'submission_id': 'qiita_sid_13114',\n",
      "                           'text': 'University of California San Diego '\n",
      "                                   'Microbiome Initiative'}},\n",
      " 'ProjectType': {'ProjectTypeSubmission': {'Method': {'method_type': 'eSequencing'},\n",
      "                                           'Objectives': {'Data': {'data_type': 'eOther',\n",
      "                                                                   'text': 'Unspecified '\n",
      "                                                                           'Objective'}},\n",
      "                                           'ProjectDataTypeSet': {'DataType': 'Other'},\n",
      "                                           'Target': {'capture': 'eWhole',\n",
      "                                                      'material': 'eGenome',\n",
      "                                                      'sample_scope': 'eMonoisolate'}}},\n",
      " '_id': ObjectId('679d65b94ab3639fc22d4642'),\n",
      " 'score': 0.5068493150684932,\n",
      " 'xmlns:xsi': 'http://www.w3.org/2001/XMLSchema-instance'}\n",
      "{'ProjectDescr': {'Description': 'Materials and Methods</p><p>Sediment '\n",
      "                                 'Collection</p><p>Samples were collected in '\n",
      "                                 'two-day windows in January 2016 and February '\n",
      "                                 '2018 (see Figure 2.1 for locations of '\n",
      "                                 'collection). Each sediment sample was taken '\n",
      "                                 'from at least three different locations '\n",
      "                                 'within a small area in the creek or river, '\n",
      "                                 'then homogenized in sterile 50mL tubes for '\n",
      "                                 'subsequent DNA extraction and quantification '\n",
      "                                 'of metals. Biofilm samples were collected '\n",
      "                                 'when observed in the creek or river bed. '\n",
      "                                 'Sediment and biofilm samples were stored on '\n",
      "                                 'dry ice until arriving at the lab, where '\n",
      "                                 'they were kept at -80C until extraction. '\n",
      "                                 'Temperature, salinity, pH, and redox '\n",
      "                                 'potential were measured with a YSI Pro Plus '\n",
      "                                 'multiparameter meter at the time of '\n",
      "                                 'sampling. Samples collected in 2016 were '\n",
      "                                 'also sent to the Earth Microbiome Project '\n",
      "                                 '500 (EMP500) for 16S, 18S, and ITS amplicon '\n",
      "                                 'sequencing, shotgun metagenomic library '\n",
      "                                 'sequencing, and non-targeted LC-MS/MS '\n",
      "                                 'metabolomic analysis (data not included '\n",
      "                                 'herein).</p><p>DNA Extraction</p><p>Genomic '\n",
      "                                 'DNA was extracted from re-homogenized '\n",
      "                                 'samples using the PowerSoil DNA Isolation '\n",
      "                                 'Kit (MoBio Laboratories, Inc., Carlsbad, CA, '\n",
      "                                 \"USA) following manufacturer's protocol, with \"\n",
      "                                 'the following changes: solutions C1 and C6 '\n",
      "                                 'were heated to 65C. Additionally, we allowed '\n",
      "                                 'solution C6 to sit on the filter membrane '\n",
      "                                 'for at least one minute before '\n",
      "                                 'centrifugation and repeated the C6 '\n",
      "                                 'step.</p><p>16S rRNA Amplicon Diversity '\n",
      "                                 'Sequencing</p><p>Samples were amplified for '\n",
      "                                 'bacterial 16S DNA amplicon sequencing at '\n",
      "                                 'RTLGenomics (Lubbock, TX). In the first '\n",
      "                                 'round of amplification for all samples (2016 '\n",
      "                                 '&amp; 2018), the V1-V3 of the 16S gene was '\n",
      "                                 'targeted for sequencing using a combination '\n",
      "                                 'of the 28F and Illumina i5 sequencing '\n",
      "                                 'primers and the Illumina i7 sequencing '\n",
      "                                 'primer with the 519R primer. Amplifications '\n",
      "                                 'were performed in 25 ul reactions with '\n",
      "                                 'Qiagen HotStarTaq master mix (Qiagen Inc, '\n",
      "                                 'Valencia, CA, USA), 1ul of each 5uM primer, '\n",
      "                                 'and 1ul of template. Reactions were '\n",
      "                                 'performed on ABI Veriti thermocyclers '\n",
      "                                 '(Applied Biosytems, Carlsbad, CA, USA) under '\n",
      "                                 'the following thermal profile: 95C for 5 '\n",
      "                                 'min, then 25 cycles of 94C for 30 sec, 54C '\n",
      "                                 'for 40 sec, 72C for 1 min, followed by one '\n",
      "                                 'cycle of 72C for 10 min and 4C hold. '\n",
      "                                 'Amplicons from the first stage of PCR '\n",
      "                                 'reactions were added to a second '\n",
      "                                 'amplification step based on qualitatively '\n",
      "                                 'determine concentrations using ethidium '\n",
      "                                 'bromide stained gels. Primers for the second '\n",
      "                                 'PCR were designed based on the Illumina '\n",
      "                                 'Nextera PCR primers. The second stage '\n",
      "                                 'amplification utilized the same cycling '\n",
      "                                 'parameters as the first round, except it '\n",
      "                                 'only ran for 10 cycles. Products were then '\n",
      "                                 'pooled in equimolar concentrations and each '\n",
      "                                 'pool was size selected in two rounds using '\n",
      "                                 'SPRIselect (BeckmanCoulter, Indianapolis, '\n",
      "                                 'IN, USA) in a 0.7 ratio for both rounds. '\n",
      "                                 'Size selected pools were then quantified '\n",
      "                                 'using the Quibit 2.0 fluorometer (Life '\n",
      "                                 'Technologies) and loaded on an Illumina '\n",
      "                                 'MiSeq (Illumina, Inc. San Diego, CA, USA) '\n",
      "                                 '2x300 flow cell at 10pM and sequenced at '\n",
      "                                 'RTLGenomics.',\n",
      "                  'Name': 'Acid Mine Sediment samples',\n",
      "                  'Relevance': {'Environmental': 'yes'},\n",
      "                  'Title': 'EXAMINING THE IMPACT OF ACID ROCK DRAINAGE ON THE '\n",
      "                           'SEDIMENT-BORNE MICROBIOMES IN THE ANIMAS RIVER '\n",
      "                           'WATERSHED'},\n",
      " 'ProjectID': {'ArchiveID': {'accession': 'PRJNA1167286',\n",
      "                             'archive': 'NCBI',\n",
      "                             'id': '1167286'},\n",
      "               'LocalID': ['bp0', 'bp0']},\n",
      " 'ProjectType': {'ProjectTypeSubmission': {'IntendedDataTypeSet': {'DataType': 'raw '\n",
      "                                                                               'sequence '\n",
      "                                                                               'reads'},\n",
      "                                           'Method': {'method_type': 'eSequencing'},\n",
      "                                           'Objectives': {'Data': {'data_type': 'eRawSequenceReads'}},\n",
      "                                           'ProjectDataTypeSet': {'DataType': 'raw '\n",
      "                                                                              'sequence '\n",
      "                                                                              'reads'},\n",
      "                                           'Target': {'Organism': {'OrganismName': 'sediment '\n",
      "                                                                                   'metagenome',\n",
      "                                                                   'Supergroup': 'eOther',\n",
      "                                                                   'species': '749907',\n",
      "                                                                   'taxID': '749907'},\n",
      "                                                      'capture': 'eWhole',\n",
      "                                                      'material': 'eGenome',\n",
      "                                                      'sample_scope': 'eEnvironment'}}},\n",
      " '_id': ObjectId('679d68ad4ab3639fc237710e'),\n",
      " 'score': 0.5015060240963856,\n",
      " 'xmlns:xsi': 'http://www.w3.org/2001/XMLSchema-instance'}\n",
      "{'ProjectDescr': {'Description': 'Materials and Methods</p><p>Sediment '\n",
      "                                 'Collection</p><p>Samples were collected in '\n",
      "                                 'two-day windows in January 2016 and February '\n",
      "                                 '2018 (see Figure 2.1 for locations of '\n",
      "                                 'collection). Each sediment sample was taken '\n",
      "                                 'from at least three different locations '\n",
      "                                 'within a small area in the creek or river, '\n",
      "                                 'then homogenized in sterile 50mL tubes for '\n",
      "                                 'subsequent DNA extraction and quantification '\n",
      "                                 'of metals. Biofilm samples were collected '\n",
      "                                 'when observed in the creek or river bed. '\n",
      "                                 'Sediment and biofilm samples were stored on '\n",
      "                                 'dry ice until arriving at the lab, where '\n",
      "                                 'they were kept at -80C until extraction. '\n",
      "                                 'Temperature, salinity, pH, and redox '\n",
      "                                 'potential were measured with a YSI Pro Plus '\n",
      "                                 'multiparameter meter at the time of '\n",
      "                                 'sampling. Samples collected in 2016 were '\n",
      "                                 'also sent to the Earth Microbiome Project '\n",
      "                                 '500 (EMP500) for 16S, 18S, and ITS amplicon '\n",
      "                                 'sequencing, shotgun metagenomic library '\n",
      "                                 'sequencing, and non-targeted LC-MS/MS '\n",
      "                                 'metabolomic analysis (data not included '\n",
      "                                 'herein).</p><p>DNA Extraction</p><p>Genomic '\n",
      "                                 'DNA was extracted from re-homogenized '\n",
      "                                 'samples using the PowerSoil DNA Isolation '\n",
      "                                 'Kit (MoBio Laboratories, Inc., Carlsbad, CA, '\n",
      "                                 \"USA) following manufacturer's protocol, with \"\n",
      "                                 'the following changes: solutions C1 and C6 '\n",
      "                                 'were heated to 65C. Additionally, we allowed '\n",
      "                                 'solution C6 to sit on the filter membrane '\n",
      "                                 'for at least one minute before '\n",
      "                                 'centrifugation and repeated the C6 '\n",
      "                                 'step.</p><p>16S rRNA Amplicon Diversity '\n",
      "                                 'Sequencing</p><p>Samples were amplified for '\n",
      "                                 'bacterial 16S DNA amplicon sequencing at '\n",
      "                                 'RTLGenomics (Lubbock, TX). In the first '\n",
      "                                 'round of amplification for all samples (2016 '\n",
      "                                 '&amp; 2018), the V1-V3 of the 16S gene was '\n",
      "                                 'targeted for sequencing using a combination '\n",
      "                                 'of the 28F and Illumina i5 sequencing '\n",
      "                                 'primers and the Illumina i7 sequencing '\n",
      "                                 'primer with the 519R primer. Amplifications '\n",
      "                                 'were performed in 25 ul reactions with '\n",
      "                                 'Qiagen HotStarTaq master mix (Qiagen Inc, '\n",
      "                                 'Valencia, CA, USA), 1ul of each 5uM primer, '\n",
      "                                 'and 1ul of template. Reactions were '\n",
      "                                 'performed on ABI Veriti thermocyclers '\n",
      "                                 '(Applied Biosytems, Carlsbad, CA, USA) under '\n",
      "                                 'the following thermal profile: 95C for 5 '\n",
      "                                 'min, then 25 cycles of 94C for 30 sec, 54C '\n",
      "                                 'for 40 sec, 72C for 1 min, followed by one '\n",
      "                                 'cycle of 72C for 10 min and 4C hold. '\n",
      "                                 'Amplicons from the first stage of PCR '\n",
      "                                 'reactions were added to a second '\n",
      "                                 'amplification step based on qualitatively '\n",
      "                                 'determine concentrations using ethidium '\n",
      "                                 'bromide stained gels. Primers for the second '\n",
      "                                 'PCR were designed based on the Illumina '\n",
      "                                 'Nextera PCR primers. The second stage '\n",
      "                                 'amplification utilized the same cycling '\n",
      "                                 'parameters as the first round, except it '\n",
      "                                 'only ran for 10 cycles. Products were then '\n",
      "                                 'pooled in equimolar concentrations and each '\n",
      "                                 'pool was size selected in two rounds using '\n",
      "                                 'SPRIselect (BeckmanCoulter, Indianapolis, '\n",
      "                                 'IN, USA) in a 0.7 ratio for both rounds. '\n",
      "                                 'Size selected pools were then quantified '\n",
      "                                 'using the Quibit 2.0 fluorometer (Life '\n",
      "                                 'Technologies) and loaded on an Illumina '\n",
      "                                 'MiSeq (Illumina, Inc. San Diego, CA, USA) '\n",
      "                                 '2x300 flow cell at 10pM and sequenced at '\n",
      "                                 'RTLGenomics.',\n",
      "                  'Relevance': {'Environmental': 'yes'},\n",
      "                  'Title': 'EXAMINING THE IMPACT OF ACID ROCK DRAINAGE ON THE '\n",
      "                           'SEDIMENT-BORNE MICROBIOMES IN THE ANIMAS RIVER '\n",
      "                           'WATERSHED'},\n",
      " 'ProjectID': {'ArchiveID': {'accession': 'PRJNA1170297',\n",
      "                             'archive': 'NCBI',\n",
      "                             'id': '1170297'},\n",
      "               'LocalID': ['bp0', 'bp0']},\n",
      " 'ProjectType': {'ProjectTypeSubmission': {'IntendedDataTypeSet': {'DataType': 'raw '\n",
      "                                                                               'sequence '\n",
      "                                                                               'reads'},\n",
      "                                           'Method': {'method_type': 'eSequencing'},\n",
      "                                           'Objectives': {'Data': {'data_type': 'eRawSequenceReads'}},\n",
      "                                           'ProjectDataTypeSet': {'DataType': 'raw '\n",
      "                                                                              'sequence '\n",
      "                                                                              'reads'},\n",
      "                                           'Target': {'capture': 'eWhole',\n",
      "                                                      'material': 'eGenome',\n",
      "                                                      'sample_scope': 'eMultispecies'}}},\n",
      " '_id': ObjectId('679d68af4ab3639fc2377b1c'),\n",
      " 'score': 0.5015060240963856,\n",
      " 'xmlns:xsi': 'http://www.w3.org/2001/XMLSchema-instance'}\n"
     ]
    }
   ],
   "execution_count": 10
  },
  {
   "metadata": {},
   "cell_type": "markdown",
   "source": [
    "Use the BioProject with the ProjectDescr.Description.Title 'Earth Microbiome Project Multi-omics (EMP500)'\n",
    "\n",
    "I.e. the zeroth element in the list `emp500_candidate_bioprojects`.\n",
    "\n",
    "What's the accession?"
   ],
   "id": "7f5ac3a37b9c0a92"
  },
  {
   "metadata": {
    "ExecuteTime": {
     "end_time": "2025-02-07T12:21:09.712750Z",
     "start_time": "2025-02-07T12:21:09.709756Z"
    }
   },
   "cell_type": "code",
   "source": "emp500_bioproject_accession = emp500_candidate_bioprojects[0]['ProjectID']['ArchiveID']['accession']",
   "id": "a7d203b08de9703d",
   "outputs": [],
   "execution_count": 11
  },
  {
   "metadata": {
    "ExecuteTime": {
     "end_time": "2025-02-07T12:21:09.720311Z",
     "start_time": "2025-02-07T12:21:09.717356Z"
    }
   },
   "cell_type": "code",
   "source": "print(emp500_bioproject_accession)",
   "id": "b3cb16238dd92e7a",
   "outputs": [
    {
     "name": "stdout",
     "output_type": "stream",
     "text": [
      "PRJEB42019\n"
     ]
    }
   ],
   "execution_count": 12
  },
  {
   "metadata": {
    "ExecuteTime": {
     "end_time": "2025-02-07T12:21:09.739940Z",
     "start_time": "2025-02-07T12:21:09.731043Z"
    }
   },
   "cell_type": "code",
   "source": [
    "# Select the collection 'sra_biosamples_bioprojects'\n",
    "sra_biosamples_bioprojects_collection = db[BIOSAMPLES_BIOPROJECTS_COLLECTION]\n",
    "\n",
    "# Define the query to find documents with bioproject_accession equal to \"PRJEB42019\"\n",
    "query = {\"bioproject_accession\": \"PRJEB42019\"}\n",
    "\n",
    "# Execute the query\n",
    "cursor = sra_biosamples_bioprojects_collection.find(query)\n",
    "\n",
    "emp500_biosample_accessions = set()\n",
    "\n",
    "# Iterate over the cursor and print each document\n",
    "for doc in cursor:\n",
    "    emp500_biosample_accessions.add(doc['biosample_accession'])\n"
   ],
   "id": "dfacbce2b42e4136",
   "outputs": [],
   "execution_count": 13
  },
  {
   "metadata": {
    "ExecuteTime": {
     "end_time": "2025-02-07T12:21:09.753243Z",
     "start_time": "2025-02-07T12:21:09.750181Z"
    }
   },
   "cell_type": "code",
   "source": "print(len(emp500_biosample_accessions))",
   "id": "4ad43c10ca58fe9c",
   "outputs": [
    {
     "name": "stdout",
     "output_type": "stream",
     "text": [
      "1024\n"
     ]
    }
   ],
   "execution_count": 14
  },
  {
   "metadata": {
    "ExecuteTime": {
     "end_time": "2025-02-07T12:21:09.865280Z",
     "start_time": "2025-02-07T12:21:09.771857Z"
    }
   },
   "cell_type": "code",
   "source": [
    "biosamples_collection = db.biosamples  # Replace 'xxx' with your actual collection name\n",
    "\n",
    "# Assuming emp500_biosample_accessions is a Python set containing 1024 values\n",
    "# Use the $in operator to match documents where 'accession' is in your set.\n",
    "query = {\"accession\": {\"$in\": list(emp500_biosample_accessions)}}\n",
    "\n",
    "# Execute the query\n",
    "cursor = biosamples_collection.find(query)\n",
    "\n",
    "emp500_biosample_docs = []\n",
    "\n",
    "# Iterate over the cursor and print each matching document\n",
    "for doc in cursor:\n",
    "    emp500_biosample_docs.append(doc)"
   ],
   "id": "a844e6cfcf119293",
   "outputs": [],
   "execution_count": 15
  },
  {
   "metadata": {
    "ExecuteTime": {
     "end_time": "2025-02-07T12:21:09.873656Z",
     "start_time": "2025-02-07T12:21:09.870747Z"
    }
   },
   "cell_type": "code",
   "source": "print(len(emp500_biosample_docs))",
   "id": "a1be5a17ee7096d6",
   "outputs": [
    {
     "name": "stdout",
     "output_type": "stream",
     "text": [
      "1024\n"
     ]
    }
   ],
   "execution_count": 16
  },
  {
   "metadata": {
    "ExecuteTime": {
     "end_time": "2025-02-07T12:21:09.911372Z",
     "start_time": "2025-02-07T12:21:09.885999Z"
    }
   },
   "cell_type": "code",
   "source": [
    "# Define the target harmonized names\n",
    "target_harmonized_names = {\"env_broad_scale\", \"env_local_scale\", \"env_medium\"}\n",
    "\n",
    "# Extract relevant data\n",
    "emp500_env_triad_rows = []  # Store the env triads themselves\n",
    "env_content_counter = Counter()  # Store counts of all strings used as env triad values\n",
    "\n",
    "for doc in emp500_biosample_docs:\n",
    "    accession = doc.get(\"accession\", \"\")\n",
    "    package_content = doc.get(\"Package\", {}).get(\"content\", \"\")\n",
    "\n",
    "    # Extract harmonized values\n",
    "    env_values = {key: \"\" for key in target_harmonized_names}\n",
    "    attributes = doc.get(\"Attributes\", {}).get(\"Attribute\", [])\n",
    "\n",
    "    for attr in attributes:\n",
    "        harmonized_name = attr.get(\"harmonized_name\")\n",
    "        content_value = attr.get(\"content\", \"\")\n",
    "        if harmonized_name in target_harmonized_names:\n",
    "            env_values[harmonized_name] = content_value\n",
    "            env_content_counter[content_value] += 1  # Count occurrences\n",
    "\n",
    "    # Add extracted values to the list\n",
    "    emp500_env_triad_rows.append({\n",
    "        \"accession\": accession,\n",
    "        \"package\": package_content,\n",
    "        \"env_broad_scale\": env_values[\"env_broad_scale\"],\n",
    "        \"env_local_scale\": env_values[\"env_local_scale\"],\n",
    "        \"env_medium\": env_values[\"env_medium\"]\n",
    "    })\n"
   ],
   "id": "cca27d6d6d70ed6e",
   "outputs": [],
   "execution_count": 17
  },
  {
   "metadata": {
    "ExecuteTime": {
     "end_time": "2025-02-07T12:21:09.928544Z",
     "start_time": "2025-02-07T12:21:09.924404Z"
    }
   },
   "cell_type": "code",
   "source": "pprint.pprint(emp500_env_triad_rows[0:3])",
   "id": "6d531e626bc84395",
   "outputs": [
    {
     "name": "stdout",
     "output_type": "stream",
     "text": [
      "[{'accession': 'SAMEA7723388',\n",
      "  'env_broad_scale': 'urban biome',\n",
      "  'env_local_scale': 'anaerobic bioreactor',\n",
      "  'env_medium': 'anaerobic sludge',\n",
      "  'package': 'Generic.1.0'},\n",
      " {'accession': 'SAMEA7723389',\n",
      "  'env_broad_scale': 'urban biome',\n",
      "  'env_local_scale': 'anaerobic bioreactor',\n",
      "  'env_medium': 'anaerobic sludge',\n",
      "  'package': 'Generic.1.0'},\n",
      " {'accession': 'SAMEA7723390',\n",
      "  'env_broad_scale': 'urban biome',\n",
      "  'env_local_scale': 'anaerobic bioreactor',\n",
      "  'env_medium': 'anaerobic sludge',\n",
      "  'package': 'Generic.1.0'}]\n"
     ]
    }
   ],
   "execution_count": 18
  },
  {
   "metadata": {},
   "cell_type": "markdown",
   "source": "The env triads consist of labels only, no CURIes",
   "id": "b4c79177e29bcf9a"
  },
  {
   "metadata": {
    "ExecuteTime": {
     "end_time": "2025-02-07T12:21:09.945532Z",
     "start_time": "2025-02-07T12:21:09.940598Z"
    }
   },
   "cell_type": "code",
   "source": "pprint.pprint(env_content_counter)",
   "id": "b683bf7ce0221413",
   "outputs": [
    {
     "name": "stdout",
     "output_type": "stream",
     "text": [
      "Counter({'urban biome': 285,\n",
      "         'research facility': 191,\n",
      "         'feces': 184,\n",
      "         'sterile water': 178,\n",
      "         'organic material': 166,\n",
      "         'host-associated habitat': 133,\n",
      "         'soil': 132,\n",
      "         'marine benthic feature': 125,\n",
      "         'temperate mixed forest biome': 112,\n",
      "         'marine benthic biome': 90,\n",
      "         'animal-associated habitat': 84,\n",
      "         'marine coral reef biome': 51,\n",
      "         'sediment': 45,\n",
      "         'subpolar coniferous forest biome': 45,\n",
      "         'marine biome': 42,\n",
      "         'marine salt marsh biome': 40,\n",
      "         'desert biome': 40,\n",
      "         'marine sediment': 38,\n",
      "         'marine reef biome': 30,\n",
      "         'tropical broadleaf forest biome': 28,\n",
      "         'insecta-associated habitat': 28,\n",
      "         'lake sediment': 27,\n",
      "         'montane desert': 26,\n",
      "         'alpine soil': 26,\n",
      "         'kelp forest': 25,\n",
      "         'saline marsh': 24,\n",
      "         'temperate coniferous forest biome': 22,\n",
      "         'dense settlement biome': 22,\n",
      "         'coral reef': 22,\n",
      "         'sea water': 22,\n",
      "         'forest biome': 21,\n",
      "         'volcanic feature': 21,\n",
      "         'volcanic soil': 21,\n",
      "         'forest': 21,\n",
      "         'Small lake biome': 20,\n",
      "         'pond bed': 20,\n",
      "         'ocean': 20,\n",
      "         'neritic epipelagic zone biome': 19,\n",
      "         'tropical desert biome': 19,\n",
      "         'stratum': 18,\n",
      "         'peat soil': 18,\n",
      "         'bioreactor': 17,\n",
      "         'biosolids': 17,\n",
      "         'marine pelagic biome': 17,\n",
      "         'mine': 16,\n",
      "         'ocean water': 16,\n",
      "         'temperate coniferous forest': 16,\n",
      "         'cropland biome': 16,\n",
      "         'tundra biome': 15,\n",
      "         'glacier': 15,\n",
      "         'intestine environment': 15,\n",
      "         'oil reservior': 14,\n",
      "         'petroleum': 14,\n",
      "         'surface soil': 14,\n",
      "         'desert sand': 13,\n",
      "         'rock': 13,\n",
      "         'cell culture': 13,\n",
      "         'coastal water body': 12,\n",
      "         'freshwater biome': 12,\n",
      "         'montane grasslands and shrubland biome': 12,\n",
      "         'steppe soil': 12,\n",
      "         'Small river biome': 10,\n",
      "         'tributary': 10,\n",
      "         'stream sediment': 10,\n",
      "         'gravel field': 10,\n",
      "         'gravel': 10,\n",
      "         'cropland': 10,\n",
      "         'anthropogenic terrestrial biome': 10,\n",
      "         'anthropogenic contamination feature': 10,\n",
      "         'coast': 10,\n",
      "         'anaerobic bioreactor': 9,\n",
      "         'anaerobic sludge': 9,\n",
      "         'coastal water': 9,\n",
      "         'cliff': 9,\n",
      "         'wetland': 9,\n",
      "         'dune': 9,\n",
      "         'grassland biome': 7,\n",
      "         'intermittent pond': 7,\n",
      "         'temperate shrubland': 7,\n",
      "         'water': 7,\n",
      "         'forest soil': 6,\n",
      "         'animal manure': 6,\n",
      "         'groundwater': 6,\n",
      "         'marine subtidal rocky reef biome': 6,\n",
      "         'tropical moist broadleaf forest': 6,\n",
      "         'pitcher plant fluid': 6,\n",
      "         'oil palm plantation': 6,\n",
      "         'marine reef': 5,\n",
      "         'mud': 5,\n",
      "         'rangeland biome': 5,\n",
      "         'rangeland': 5,\n",
      "         'planted forest': 5,\n",
      "         'temperate desert biome': 4,\n",
      "         'temperate grassland biome': 4,\n",
      "         'grassland soil': 4,\n",
      "         'mucus': 4,\n",
      "         'sebum': 3,\n",
      "         'bog': 3,\n",
      "         'banana plantation': 3,\n",
      "         'wood': 2,\n",
      "         'biofilm': 2,\n",
      "         'sand': 2,\n",
      "         'temperate woodland biome': 2,\n",
      "         'temperate woodland': 2,\n",
      "         'mangrove': 1,\n",
      "         'lagoon': 1,\n",
      "         'microbial mat': 1,\n",
      "         'stromatolite mat': 1,\n",
      "         'flooded savanna': 1,\n",
      "         'marine subtidal rocky reef': 1,\n",
      "         'neritic bathypelagic zone biome': 1,\n",
      "         'temperate shrubland biome': 1})\n"
     ]
    }
   ],
   "execution_count": 19
  },
  {
   "metadata": {
    "ExecuteTime": {
     "end_time": "2025-02-07T12:21:09.962851Z",
     "start_time": "2025-02-07T12:21:09.959621Z"
    }
   },
   "cell_type": "code",
   "source": "print(len(env_content_counter))",
   "id": "f44948f5288397",
   "outputs": [
    {
     "name": "stdout",
     "output_type": "stream",
     "text": [
      "112\n"
     ]
    }
   ],
   "execution_count": 20
  },
  {
   "metadata": {
    "ExecuteTime": {
     "end_time": "2025-02-07T12:21:10.024849Z",
     "start_time": "2025-02-07T12:21:09.975434Z"
    }
   },
   "cell_type": "code",
   "source": "envo_adapter = get_adapter(envo_adapter_string)",
   "id": "f2c21f7975fa4825",
   "outputs": [],
   "execution_count": 21
  },
  {
   "metadata": {
    "ExecuteTime": {
     "end_time": "2025-02-07T12:21:10.219753Z",
     "start_time": "2025-02-07T12:21:10.039226Z"
    }
   },
   "cell_type": "code",
   "source": [
    "biome_curies = list(envo_adapter.descendants(BIOME, predicates=[IS_A]))\n",
    "env_mat_curies = list(envo_adapter.descendants(ENV_MAT, predicates=[IS_A]))\n",
    "abp_curies = list(envo_adapter.descendants(ABP, predicates=[IS_A]))"
   ],
   "id": "ff80daaeb27a334f",
   "outputs": [],
   "execution_count": 22
  },
  {
   "metadata": {
    "ExecuteTime": {
     "end_time": "2025-02-07T12:21:10.235896Z",
     "start_time": "2025-02-07T12:21:10.232297Z"
    }
   },
   "cell_type": "code",
   "source": "non_biome_non_env_mat_abp_curies = set(abp_curies) - set(biome_curies) - set(env_mat_curies)",
   "id": "b8bfc575dbaea033",
   "outputs": [],
   "execution_count": 23
  },
  {
   "metadata": {
    "ExecuteTime": {
     "end_time": "2025-02-07T12:21:22.645375Z",
     "start_time": "2025-02-07T12:21:10.260494Z"
    }
   },
   "cell_type": "code",
   "source": [
    "# use the OAK annotator to match the submitted env triad values to ENVO terms\n",
    "# Don't panic about red error messages\n",
    "\n",
    "# List to store all annotations\n",
    "env_triad_terms_annotations_list = []\n",
    "\n",
    "for content_value, count in env_content_counter.items():\n",
    "    try:\n",
    "        annotations = envo_adapter.annotate_text(content_value)\n",
    "        for annotation in annotations:\n",
    "            # Fetch the label for the object_id\n",
    "            object_label = envo_adapter.label(annotation.object_id) if annotation.object_id else \"Unknown\"\n",
    "\n",
    "            annotation_dict = {\n",
    "                \"content_value\": content_value,\n",
    "                \"count\": count,  # Frequency of this content value in the dataset\n",
    "                \"predicate_id\": annotation.predicate_id,\n",
    "                \"object_id\": annotation.object_id,\n",
    "                \"object_label\": object_label,  # Looked up label\n",
    "                \"subject_start\": annotation.subject_start,\n",
    "                \"subject_end\": annotation.subject_end,\n",
    "                \"match_string\": annotation.match_string,\n",
    "                \"matches_whole_text\": annotation.matches_whole_text,\n",
    "            }\n",
    "            env_triad_terms_annotations_list.append(annotation_dict)\n",
    "\n",
    "    except Exception as e:\n",
    "        print(f\"Error processing '{content_value}': {e}\")\n"
   ],
   "id": "5313c82ef61ce7f1",
   "outputs": [
    {
     "name": "stderr",
     "output_type": "stream",
     "text": [
      "ERROR:root:Skipping statements(subject=ENVO:01001644,predicate=oio:hasDbXref,object=None,value=Carbonate which is formed as the result of some biological process.,datatype=None,language=None,); ValueError: Carbonate which is formed as the result of some biological process. is not a valid URI or CURIE\n",
      "WARNING:root:Skipping <http://geneontology.org/foo/applies-pattern> as it is not a valid CURIE\n",
      "WARNING:root:Skipping <http://schema.org/image> as it is not a valid CURIE\n",
      "WARNING:root:Skipping <http://swrl.stanford.edu/ontologies/3.3/swrla.owl#isRuleEnabled> as it is not a valid CURIE\n",
      "WARNING:root:Skipping <https://www.wikidata.org/wiki/Q2306597> as it is not a valid CURIE\n",
      "WARNING:root:Skipping <https://www.wikidata.org/wiki/Q2> as it is not a valid CURIE\n",
      "WARNING:root:Skipping <https://www.wikidata.org/wiki/Q525> as it is not a valid CURIE\n",
      "WARNING:root:Skipping <https://www.wikidata.org/wiki/Q715269> as it is not a valid CURIE\n"
     ]
    }
   ],
   "execution_count": 24
  },
  {
   "metadata": {
    "ExecuteTime": {
     "end_time": "2025-02-07T12:21:22.653702Z",
     "start_time": "2025-02-07T12:21:22.650822Z"
    }
   },
   "cell_type": "code",
   "source": [
    "for annotation in env_triad_terms_annotations_list:\n",
    "    annotation[\"match_string_len\"] = len(annotation[\"match_string\"]) if annotation[\"match_string\"] else 0"
   ],
   "id": "2002aab081e05ff7",
   "outputs": [],
   "execution_count": 25
  },
  {
   "metadata": {
    "ExecuteTime": {
     "end_time": "2025-02-07T12:21:22.674686Z",
     "start_time": "2025-02-07T12:21:22.669140Z"
    }
   },
   "cell_type": "code",
   "source": [
    "# Pretty-print some sample results\n",
    "for annotation in env_triad_terms_annotations_list[:10]:  # Show first 10 annotations\n",
    "    pprint.pprint(annotation)"
   ],
   "id": "3d057ed715b4d51d",
   "outputs": [
    {
     "name": "stdout",
     "output_type": "stream",
     "text": [
      "{'content_value': 'urban biome',\n",
      " 'count': 285,\n",
      " 'match_string': 'biome',\n",
      " 'match_string_len': 5,\n",
      " 'matches_whole_text': False,\n",
      " 'object_id': 'ENVO:00000428',\n",
      " 'object_label': 'biome',\n",
      " 'predicate_id': 'rdfs:label',\n",
      " 'subject_end': 11,\n",
      " 'subject_start': 7}\n",
      "{'content_value': 'urban biome',\n",
      " 'count': 285,\n",
      " 'match_string': 'urban biome',\n",
      " 'match_string_len': 11,\n",
      " 'matches_whole_text': True,\n",
      " 'object_id': 'ENVO:01000249',\n",
      " 'object_label': 'urban biome',\n",
      " 'predicate_id': 'rdfs:label',\n",
      " 'subject_end': 11,\n",
      " 'subject_start': 1}\n",
      "{'content_value': 'anaerobic bioreactor',\n",
      " 'count': 9,\n",
      " 'match_string': 'bioreactor',\n",
      " 'match_string_len': 10,\n",
      " 'matches_whole_text': False,\n",
      " 'object_id': 'ENVO:00002123',\n",
      " 'object_label': 'bioreactor',\n",
      " 'predicate_id': 'rdfs:label',\n",
      " 'subject_end': 20,\n",
      " 'subject_start': 11}\n",
      "{'content_value': 'anaerobic bioreactor',\n",
      " 'count': 9,\n",
      " 'match_string': 'anaerobic bioreactor',\n",
      " 'match_string_len': 20,\n",
      " 'matches_whole_text': True,\n",
      " 'object_id': 'ENVO:00002124',\n",
      " 'object_label': 'anaerobic bioreactor',\n",
      " 'predicate_id': 'rdfs:label',\n",
      " 'subject_end': 20,\n",
      " 'subject_start': 1}\n",
      "{'content_value': 'anaerobic bioreactor',\n",
      " 'count': 9,\n",
      " 'match_string': 'anaerobic',\n",
      " 'match_string_len': 9,\n",
      " 'matches_whole_text': False,\n",
      " 'object_id': 'PATO:0001456',\n",
      " 'object_label': 'anaerobic',\n",
      " 'predicate_id': 'rdfs:label',\n",
      " 'subject_end': 9,\n",
      " 'subject_start': 1}\n",
      "{'content_value': 'anaerobic sludge',\n",
      " 'count': 9,\n",
      " 'match_string': 's',\n",
      " 'match_string_len': 1,\n",
      " 'matches_whole_text': False,\n",
      " 'object_id': 'CHEBI:26833',\n",
      " 'object_label': 'sulfur atom',\n",
      " 'predicate_id': 'oio:hasRelatedSynonym',\n",
      " 'subject_end': 11,\n",
      " 'subject_start': 11}\n",
      "{'content_value': 'anaerobic sludge',\n",
      " 'count': 9,\n",
      " 'match_string': 'sludge',\n",
      " 'match_string_len': 6,\n",
      " 'matches_whole_text': False,\n",
      " 'object_id': 'ENVO:00002044',\n",
      " 'object_label': 'sludge',\n",
      " 'predicate_id': 'rdfs:label',\n",
      " 'subject_end': 16,\n",
      " 'subject_start': 11}\n",
      "{'content_value': 'anaerobic sludge',\n",
      " 'count': 9,\n",
      " 'match_string': 'anaerobic sludge',\n",
      " 'match_string_len': 16,\n",
      " 'matches_whole_text': True,\n",
      " 'object_id': 'ENVO:00002129',\n",
      " 'object_label': 'anaerobic sludge',\n",
      " 'predicate_id': 'rdfs:label',\n",
      " 'subject_end': 16,\n",
      " 'subject_start': 1}\n",
      "{'content_value': 'anaerobic sludge',\n",
      " 'count': 9,\n",
      " 'match_string': 'anaerobic',\n",
      " 'match_string_len': 9,\n",
      " 'matches_whole_text': False,\n",
      " 'object_id': 'PATO:0001456',\n",
      " 'object_label': 'anaerobic',\n",
      " 'predicate_id': 'rdfs:label',\n",
      " 'subject_end': 9,\n",
      " 'subject_start': 1}\n",
      "{'content_value': 'Small lake biome',\n",
      " 'count': 20,\n",
      " 'match_string': 'S',\n",
      " 'match_string_len': 1,\n",
      " 'matches_whole_text': False,\n",
      " 'object_id': 'CHEBI:26833',\n",
      " 'object_label': 'sulfur atom',\n",
      " 'predicate_id': 'oio:hasRelatedSynonym',\n",
      " 'subject_end': 1,\n",
      " 'subject_start': 1}\n"
     ]
    }
   ],
   "execution_count": 26
  },
  {
   "metadata": {
    "ExecuteTime": {
     "end_time": "2025-02-07T12:21:22.705694Z",
     "start_time": "2025-02-07T12:21:22.689573Z"
    }
   },
   "cell_type": "code",
   "source": [
    "# Configurable match length cutoff\n",
    "MATCH_LENGTH_CUTOFF = 3  # Exclude matches with length < 3 from needs_review_list\n",
    "\n",
    "# Lists for categorization\n",
    "perfect_match_list = []\n",
    "needs_review_list = []\n",
    "unmatched_content_values = set()  # Store content_values that are neither in perfect_match_list nor needs_review_list\n",
    "non_perfect_match_content_values = set()  # Track all content_values that didn’t make it into perfect matches\n",
    "\n",
    "# Step 1: Identify content_values that have at least one perfect match with predicate_id='rdfs:label'\n",
    "perfect_match_content_values = set()\n",
    "all_annotated_content_values = set()  # Track all content_values that were annotated\n",
    "\n",
    "for annotation in env_triad_terms_annotations_list:\n",
    "    content_value = annotation[\"content_value\"]\n",
    "    all_annotated_content_values.add(content_value)\n",
    "\n",
    "    if annotation[\"matches_whole_text\"] and annotation[\"predicate_id\"] == \"rdfs:label\":\n",
    "        perfect_match_list.append(annotation)\n",
    "        perfect_match_content_values.add(content_value)\n",
    "\n",
    "# Step 2: Identify content_values that have no perfect match and meet the length cutoff\n",
    "needs_review_content_values = set()\n",
    "\n",
    "for annotation in env_triad_terms_annotations_list:\n",
    "    content_value = annotation[\"content_value\"]\n",
    "    annotation[\"match_string_len\"] = len(annotation[\"match_string\"]) if annotation[\"match_string\"] else 0\n",
    "\n",
    "    if (\n",
    "            content_value not in perfect_match_content_values and\n",
    "            annotation[\"match_string_len\"] >= MATCH_LENGTH_CUTOFF\n",
    "    ):\n",
    "        needs_review_list.append(annotation)\n",
    "        needs_review_content_values.add(content_value)\n",
    "\n",
    "# Step 3: Identify content_values that are in env_content_counter but not in perfect_match_list or needs_review_list\n",
    "for content_value in env_content_counter.keys():\n",
    "    if content_value not in perfect_match_content_values and content_value not in needs_review_content_values:\n",
    "        unmatched_content_values.add(content_value)\n",
    "\n",
    "# Step 4: Save Perfect Matches to TSV\n",
    "perfect_match_tsv = \"emp500_perfect_matches.tsv\"\n",
    "\n",
    "with open(perfect_match_tsv, mode=\"w\", newline=\"\", encoding=\"utf-8\") as file:\n",
    "    writer = csv.DictWriter(file, delimiter=\"\\t\", fieldnames=[\n",
    "        \"content_value\", \"count\", \"predicate_id\", \"object_id\", \"object_label\",\n",
    "        \"subject_start\", \"subject_end\", \"match_string\", \"match_string_len\", \"matches_whole_text\"\n",
    "    ])\n",
    "    writer.writeheader()\n",
    "    writer.writerows(perfect_match_list)\n",
    "\n",
    "print(f\"Perfect Matches TSV saved to {perfect_match_tsv}\")\n",
    "\n",
    "# Step 5: Save Needs Review to TSV (only matches with length ≥ MATCH_LENGTH_CUTOFF)\n",
    "needs_review_tsv = \"emp500_needs_review.tsv\"\n",
    "\n",
    "with open(needs_review_tsv, mode=\"w\", newline=\"\", encoding=\"utf-8\") as file:\n",
    "    writer = csv.DictWriter(file, delimiter=\"\\t\", fieldnames=[\n",
    "        \"content_value\", \"count\", \"predicate_id\", \"object_id\", \"object_label\",\n",
    "        \"subject_start\", \"subject_end\", \"match_string\", \"match_string_len\", \"matches_whole_text\"\n",
    "    ])\n",
    "    writer.writeheader()\n",
    "    writer.writerows(needs_review_list)\n",
    "\n",
    "print(f\"Needs Review TSV saved to {needs_review_tsv} (excluding matches with length < {MATCH_LENGTH_CUTOFF})\")\n",
    "\n",
    "# Step 6: Save Unmatched Content Values to TSV\n",
    "unmatched_tsv = \"emp500_unmatched_content_values.tsv\"\n",
    "\n",
    "with open(unmatched_tsv, mode=\"w\", newline=\"\", encoding=\"utf-8\") as file:\n",
    "    writer = csv.writer(file, delimiter=\"\\t\")\n",
    "    writer.writerow([\"content_value\", \"count\"])\n",
    "    for content_value in unmatched_content_values:\n",
    "        writer.writerow([content_value, env_content_counter[content_value]])\n",
    "\n",
    "print(f\"Unmatched content values TSV saved to {unmatched_tsv} (total: {len(unmatched_content_values)})\")\n",
    "\n",
    "# Step 7: Save Non-Perfect Matches (combining Needs Review + Unmatched)\n",
    "non_perfect_match_tsv = \"emp500_non_perfect_matches.tsv\"\n",
    "\n",
    "with open(non_perfect_match_tsv, mode=\"w\", newline=\"\", encoding=\"utf-8\") as file:\n",
    "    writer = csv.writer(file, delimiter=\"\\t\")\n",
    "    writer.writerow([\"content_value\", \"count\"])\n",
    "\n",
    "    # Include all needs_review content values\n",
    "    for content_value in needs_review_content_values:\n",
    "        writer.writerow([content_value, env_content_counter[content_value]])\n",
    "\n",
    "    # Include all unmatched content values\n",
    "    for content_value in unmatched_content_values:\n",
    "        writer.writerow([content_value, env_content_counter[content_value]])\n",
    "\n",
    "print(\n",
    "    f\"Non-Perfect Matches TSV saved to {non_perfect_match_tsv} (total: {len(needs_review_content_values) + len(unmatched_content_values)})\")\n"
   ],
   "id": "29ed117e46df984b",
   "outputs": [
    {
     "name": "stdout",
     "output_type": "stream",
     "text": [
      "Perfect Matches TSV saved to emp500_perfect_matches.tsv\n",
      "Needs Review TSV saved to emp500_needs_review.tsv (excluding matches with length < 3)\n",
      "Unmatched content values TSV saved to emp500_unmatched_content_values.tsv (total: 2)\n",
      "Non-Perfect Matches TSV saved to emp500_non_perfect_matches.tsv (total: 24)\n"
     ]
    }
   ],
   "execution_count": 27
  },
  {
   "metadata": {
    "ExecuteTime": {
     "end_time": "2025-02-07T12:21:23.010619Z",
     "start_time": "2025-02-07T12:21:22.727393Z"
    }
   },
   "cell_type": "code",
   "source": [
    "obsoletes_curies_labelled = list()\n",
    "\n",
    "obsoletes_curies_envo = set(envo_adapter.obsoletes())\n",
    "for curie in obsoletes_curies_envo:\n",
    "    temp_dict = dict()\n",
    "    temp_dict[\"curie\"] = curie\n",
    "    temp_dict[\"label\"] = envo_adapter.label(curie)\n",
    "    obsoletes_curies_labelled.append(temp_dict)"
   ],
   "id": "1046a8c8f01c813d",
   "outputs": [],
   "execution_count": 28
  },
  {
   "metadata": {
    "ExecuteTime": {
     "end_time": "2025-02-07T12:21:23.041645Z",
     "start_time": "2025-02-07T12:21:23.031491Z"
    }
   },
   "cell_type": "code",
   "source": [
    "# Helper function: Normalize text (lowercase + remove extra spaces)\n",
    "def normalize_text(text):\n",
    "    return re.sub(r'\\s+', ' ', text).strip().lower()  # Replace multiple spaces & trim\n",
    "\n",
    "\n",
    "# Step 1: Create a lookup set of normalized obsolete labels\n",
    "obsolete_label_set = {normalize_text(entry[\"label\"]) for entry in obsoletes_curies_labelled}\n",
    "\n",
    "# Step 2: Prepare result storage\n",
    "exact_obsolete_matches = []\n",
    "\n",
    "# Step 3: Check if \"obsolete \" + content_value exists in the obsolete labels\n",
    "for content_value in needs_review_content_values | unmatched_content_values:  # Union of both sets\n",
    "    obsolete_label_candidate = normalize_text(f\"obsolete {content_value}\")\n",
    "    if obsolete_label_candidate in obsolete_label_set:\n",
    "        # Find the corresponding CURIE using normalized comparison\n",
    "        matching_entry = next(entry for entry in obsoletes_curies_labelled\n",
    "                              if normalize_text(entry[\"label\"]) == obsolete_label_candidate)\n",
    "        exact_obsolete_matches.append({\n",
    "            \"content_value\": content_value,  # ORIGINAL content_value\n",
    "            \"obsolete_label\": matching_entry[\"label\"],  # ORIGINAL obsolete label\n",
    "            \"obsolete_curie\": matching_entry[\"curie\"]\n",
    "        })\n",
    "\n"
   ],
   "id": "ccafe43e20c6b4ba",
   "outputs": [],
   "execution_count": 29
  },
  {
   "metadata": {
    "ExecuteTime": {
     "end_time": "2025-02-07T12:21:23.079656Z",
     "start_time": "2025-02-07T12:21:23.076086Z"
    }
   },
   "cell_type": "code",
   "source": "pprint.pprint(exact_obsolete_matches)",
   "id": "f03ca54f21d564a5",
   "outputs": [
    {
     "name": "stdout",
     "output_type": "stream",
     "text": [
      "[{'content_value': 'marine benthic feature',\n",
      "  'obsolete_curie': 'ENVO:01000105',\n",
      "  'obsolete_label': 'obsolete marine benthic feature'},\n",
      " {'content_value': 'insecta-associated habitat',\n",
      "  'obsolete_curie': 'ENVO:00009004',\n",
      "  'obsolete_label': 'obsolete insecta-associated habitat'},\n",
      " {'content_value': 'montane grasslands and shrubland biome',\n",
      "  'obsolete_curie': 'ENVO:00000882',\n",
      "  'obsolete_label': 'obsolete Montane grasslands and shrubland biome'},\n",
      " {'content_value': 'ocean water',\n",
      "  'obsolete_curie': 'ENVO:00002151',\n",
      "  'obsolete_label': 'obsolete ocean water'},\n",
      " {'content_value': 'animal-associated habitat',\n",
      "  'obsolete_curie': 'ENVO:00006776',\n",
      "  'obsolete_label': 'obsolete animal-associated habitat'}]\n"
     ]
    }
   ],
   "execution_count": 30
  },
  {
   "metadata": {},
   "cell_type": "markdown",
   "source": "### the code below doesn't add much",
   "id": "cb0aae1cdad83083"
  },
  {
   "metadata": {
    "ExecuteTime": {
     "end_time": "2025-02-07T12:21:23.117818Z",
     "start_time": "2025-02-07T12:21:23.102282Z"
    }
   },
   "cell_type": "code",
   "source": [
    "# ✅ Configurable settings\n",
    "include_exact_matches = True  # Set to False to exclude exact matches from fuzzy search\n",
    "fuzzy_score_threshold = 85  # Set the minimum fuzzy match score\n",
    "\n",
    "# Step 1: Build a set of exact match content values\n",
    "exact_matched_content_values = {entry[\"content_value\"] for entry in exact_obsolete_matches}\n",
    "\n",
    "# Step 2: Select content values to run fuzzy matching on\n",
    "if include_exact_matches:\n",
    "    fuzzy_match_content_values = needs_review_content_values | unmatched_content_values | exact_matched_content_values\n",
    "else:\n",
    "    fuzzy_match_content_values = (needs_review_content_values | unmatched_content_values) - exact_matched_content_values\n",
    "\n",
    "# Step 3: Create a mapping of stripped obsolete labels to original labels & CURIEs\n",
    "stripped_obsolete_label_map = {\n",
    "    entry[\"label\"].replace(\"obsolete \", \"\").strip(): (entry[\"label\"], entry[\"curie\"])\n",
    "    for entry in obsoletes_curies_labelled\n",
    "}\n",
    "\n",
    "# Step 4: Prepare result storage\n",
    "fuzzy_obsolete_matches = []\n",
    "\n",
    "# Step 5: Use fuzzy matching for selected content values\n",
    "for content_value in fuzzy_match_content_values:\n",
    "    match_result = process.extractOne(\n",
    "        content_value,\n",
    "        list(stripped_obsolete_label_map.keys()),  # Compare against stripped labels\n",
    "        scorer=fuzz.token_sort_ratio\n",
    "    )\n",
    "\n",
    "    if match_result:\n",
    "        best_match_label, score = match_result[:2]  # Extract match and score\n",
    "\n",
    "        if score >= fuzzy_score_threshold:  # Apply score threshold\n",
    "            original_label, curie = stripped_obsolete_label_map[best_match_label]  # Retrieve full label & CURIE\n",
    "\n",
    "            fuzzy_obsolete_matches.append({\n",
    "                \"content_value\": content_value,\n",
    "                \"matched_obsolete_label\": original_label,  # Store full original label\n",
    "                \"score\": score,\n",
    "                \"obsolete_curie\": curie\n",
    "            })\n",
    "\n",
    "# Debugging: Print a few sample matches to confirm it's working\n",
    "print(f\"DEBUG: Found {len(fuzzy_obsolete_matches)} fuzzy matches (Score ≥ {fuzzy_score_threshold}).\")\n",
    "print(f\"DEBUG: Sample fuzzy matches:\")\n",
    "for match in fuzzy_obsolete_matches[:5]:  # Print first 5 matches\n",
    "    print(match)\n",
    "\n",
    "# Step 6: Save fuzzy matches to a TSV\n",
    "fuzzy_matches_tsv = \"fuzzy_obsolete_matches.tsv\"\n",
    "with open(fuzzy_matches_tsv, mode=\"w\", newline=\"\", encoding=\"utf-8\") as file:\n",
    "    writer = csv.DictWriter(file, delimiter=\"\\t\",\n",
    "                            fieldnames=[\"content_value\", \"matched_obsolete_label\", \"score\", \"obsolete_curie\"])\n",
    "    writer.writeheader()\n",
    "    writer.writerows(fuzzy_obsolete_matches)\n",
    "\n",
    "print(f\"✅ Fuzzy obsolete matches saved to {fuzzy_matches_tsv} (Total: {len(fuzzy_obsolete_matches)})\")\n"
   ],
   "id": "a35857bcea39ccb",
   "outputs": [
    {
     "name": "stdout",
     "output_type": "stream",
     "text": [
      "DEBUG: Found 5 fuzzy matches (Score ≥ 85).\n",
      "DEBUG: Sample fuzzy matches:\n",
      "{'content_value': 'marine benthic feature', 'matched_obsolete_label': 'obsolete marine benthic feature', 'score': 100.0, 'obsolete_curie': 'ENVO:01000105'}\n",
      "{'content_value': 'insecta-associated habitat', 'matched_obsolete_label': 'obsolete insecta-associated habitat', 'score': 100.0, 'obsolete_curie': 'ENVO:00009004'}\n",
      "{'content_value': 'host-associated habitat', 'matched_obsolete_label': 'obsolete insecta-associated habitat', 'score': 85.71428571428572, 'obsolete_curie': 'ENVO:00009004'}\n",
      "{'content_value': 'ocean water', 'matched_obsolete_label': 'obsolete ocean water', 'score': 100.0, 'obsolete_curie': 'ENVO:00002151'}\n",
      "{'content_value': 'animal-associated habitat', 'matched_obsolete_label': 'obsolete animal-associated habitat', 'score': 100.0, 'obsolete_curie': 'ENVO:00006776'}\n",
      "✅ Fuzzy obsolete matches saved to fuzzy_obsolete_matches.tsv (Total: 5)\n"
     ]
    }
   ],
   "execution_count": 31
  },
  {
   "metadata": {
    "ExecuteTime": {
     "end_time": "2025-02-07T12:21:23.221363Z",
     "start_time": "2025-02-07T12:21:23.136493Z"
    }
   },
   "cell_type": "code",
   "source": [
    "\n",
    "# Step 1: Extract unique obsolete CURIEs\n",
    "obsolete_curies = {entry[\"obsolete_curie\"] for entry in exact_obsolete_matches}\n",
    "\n",
    "# obsolete_curies = {entry[\"curie\"] for entry in obsoletes_curies_labelled}\n",
    "\n",
    "# Step 2: Fetch entity metadata for each CURIE\n",
    "entity_metadata_list = []\n",
    "\n",
    "for curie in obsolete_curies:\n",
    "    entity_metadata = envo_adapter.entity_metadata_map(curie)  # Fetch metadata\n",
    "    if entity_metadata:\n",
    "        entity_metadata_list.append(entity_metadata)\n",
    "\n"
   ],
   "id": "566bfca91a2c25cd",
   "outputs": [],
   "execution_count": 32
  },
  {
   "metadata": {
    "ExecuteTime": {
     "end_time": "2025-02-07T12:21:23.261573Z",
     "start_time": "2025-02-07T12:21:23.256342Z"
    }
   },
   "cell_type": "code",
   "source": [
    "# Step 1: Initialize a counter to track key occurrences\n",
    "key_counter = Counter()\n",
    "\n",
    "# Step 2: Iterate through metadata dictionaries and count keys\n",
    "for metadata in entity_metadata_list:\n",
    "    if isinstance(metadata, dict):  # Ensure it's a dictionary\n",
    "        key_counter.update(metadata.keys())\n",
    "\n",
    "# Step 3: Print the results\n",
    "print(\"✅ Key Appearance Counts in Metadata:\")\n",
    "for key, count in key_counter.most_common():\n",
    "    print(f\"{key}: {count}\")\n",
    "\n",
    "\n"
   ],
   "id": "f9ef0ede64483ae8",
   "outputs": [
    {
     "name": "stdout",
     "output_type": "stream",
     "text": [
      "✅ Key Appearance Counts in Metadata:\n",
      "id: 5\n",
      "owl:deprecated: 5\n",
      "rdfs:label: 5\n",
      "sh:prefix: 5\n",
      "schema:url: 5\n",
      "rdfs:isDefinedBy: 5\n",
      "oio:hasOBONamespace: 4\n",
      "oio:id: 4\n",
      "IAO:0000115: 3\n",
      "oio:consider: 2\n",
      "IAO:0100001: 1\n",
      "oio:hasDbXref: 1\n",
      "oio:hasExactSynonym: 1\n",
      "oio:inSubset: 1\n",
      "oio:created_by: 1\n",
      "oio:creation_date: 1\n",
      "rdfs:comment: 1\n"
     ]
    }
   ],
   "execution_count": 33
  },
  {
   "metadata": {
    "ExecuteTime": {
     "end_time": "2025-02-07T12:21:23.282159Z",
     "start_time": "2025-02-07T12:21:23.267560Z"
    }
   },
   "cell_type": "code",
   "source": "pprint.pprint(entity_metadata_list)",
   "id": "3194e89c36ab84f1",
   "outputs": [
    {
     "name": "stdout",
     "output_type": "stream",
     "text": [
      "[{'IAO:0100001': ['ENVO:00002149'],\n",
      "  'id': ['ENVO:00002151'],\n",
      "  'oio:hasDbXref': ['https://en.wikipedia.org/wiki/Ocean_water'],\n",
      "  'oio:hasOBONamespace': ['ENVO'],\n",
      "  'oio:id': ['ENVO:00002151'],\n",
      "  'owl:deprecated': [True],\n",
      "  'rdfs:isDefinedBy': ['http://purl.obolibrary.org/obo/envo.owl'],\n",
      "  'rdfs:label': ['obsolete ocean water'],\n",
      "  'schema:url': ['http://purl.obolibrary.org/obo/ENVO_00002151'],\n",
      "  'sh:prefix': ['ENVO']},\n",
      " {'IAO:0000115': ['A habitat that is in or on a living animal. Here \"animal\" '\n",
      "                  'denotes an individual of a species that is a sub-taxon of '\n",
      "                  'NCBITaxon:33208.'],\n",
      "  'id': ['ENVO:00006776'],\n",
      "  'oio:hasExactSynonym': ['metazoan-associated habitat'],\n",
      "  'oio:hasOBONamespace': ['ENVO'],\n",
      "  'oio:id': ['ENVO:00006776'],\n",
      "  'oio:inSubset': ['obo:envo#EnvO-Lite-GSC'],\n",
      "  'owl:deprecated': [True],\n",
      "  'rdfs:isDefinedBy': ['http://purl.obolibrary.org/obo/envo.owl'],\n",
      "  'rdfs:label': ['obsolete animal-associated habitat'],\n",
      "  'schema:url': ['http://purl.obolibrary.org/obo/ENVO_00006776'],\n",
      "  'sh:prefix': ['ENVO']},\n",
      " {'id': ['ENVO:00000882'],\n",
      "  'oio:consider': ['ENVO:01000194', 'ENVO:01000216'],\n",
      "  'oio:hasOBONamespace': ['ENVO'],\n",
      "  'oio:id': ['ENVO:00000882'],\n",
      "  'owl:deprecated': [True],\n",
      "  'rdfs:isDefinedBy': ['http://purl.obolibrary.org/obo/envo.owl'],\n",
      "  'rdfs:label': ['obsolete Montane grasslands and shrubland biome'],\n",
      "  'schema:url': ['http://purl.obolibrary.org/obo/ENVO_00000882'],\n",
      "  'sh:prefix': ['ENVO']},\n",
      " {'IAO:0000115': ['OBSOLETE A prominent or distinctive aspect, quality, or '\n",
      "                  'characteristic of environments occurring on or along marine '\n",
      "                  'benthic environments.'],\n",
      "  'id': ['ENVO:01000105'],\n",
      "  'oio:consider': ['ENVO:01001788',\n",
      "                   'ENVO:01001479',\n",
      "                   'ENVO:00000447',\n",
      "                   'ENVO:00000191'],\n",
      "  'oio:created_by': ['ORCID:0000-0002-4366-3088'],\n",
      "  'oio:creation_date': ['2010-03-16T12:27:00Z'],\n",
      "  'owl:deprecated': [True],\n",
      "  'rdfs:comment': ['Ambiguous term, please consider using a more precise term '\n",
      "                   'which describes the feature of tinterest.'],\n",
      "  'rdfs:isDefinedBy': ['http://purl.obolibrary.org/obo/envo.owl'],\n",
      "  'rdfs:label': ['obsolete marine benthic feature'],\n",
      "  'schema:url': ['http://purl.obolibrary.org/obo/ENVO_01000105'],\n",
      "  'sh:prefix': ['ENVO']},\n",
      " {'IAO:0000115': ['A habitat that is in or on a living insect. Here \"insect\" '\n",
      "                  'denotes an individual of a species that is a sub-taxon of '\n",
      "                  'NCBITaxon:50557.'],\n",
      "  'id': ['ENVO:00009004'],\n",
      "  'oio:hasOBONamespace': ['ENVO'],\n",
      "  'oio:id': ['ENVO:00009004'],\n",
      "  'owl:deprecated': [True],\n",
      "  'rdfs:isDefinedBy': ['http://purl.obolibrary.org/obo/envo.owl'],\n",
      "  'rdfs:label': ['obsolete insecta-associated habitat'],\n",
      "  'schema:url': ['http://purl.obolibrary.org/obo/ENVO_00009004'],\n",
      "  'sh:prefix': ['ENVO']}]\n"
     ]
    }
   ],
   "execution_count": 34
  }
 ],
 "metadata": {
  "kernelspec": {
   "display_name": "Python 3",
   "language": "python",
   "name": "python3"
  },
  "language_info": {
   "codemirror_mode": {
    "name": "ipython",
    "version": 2
   },
   "file_extension": ".py",
   "mimetype": "text/x-python",
   "name": "python",
   "nbconvert_exporter": "python",
   "pygments_lexer": "ipython2",
   "version": "2.7.6"
  }
 },
 "nbformat": 4,
 "nbformat_minor": 5
}
