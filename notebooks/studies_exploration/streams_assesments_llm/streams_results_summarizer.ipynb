{
 "cells": [
  {
   "metadata": {
    "ExecuteTime": {
     "end_time": "2025-02-11T20:30:56.625070Z",
     "start_time": "2025-02-11T20:30:56.213321Z"
    }
   },
   "cell_type": "code",
   "source": [
    "import pandas as pd\n",
    "import os\n",
    "import glob\n",
    "import pprint"
   ],
   "id": "9f38c55cbb859ba9",
   "outputs": [],
   "execution_count": 1
  },
  {
   "metadata": {
    "ExecuteTime": {
     "end_time": "2025-02-11T20:30:56.631934Z",
     "start_time": "2025-02-11T20:30:56.629272Z"
    }
   },
   "cell_type": "code",
   "source": [
    "# Define the directory containing the TSV files\n",
    "directory = \"claude_3.5_sonnet/\""
   ],
   "id": "8be984ef2b20c180",
   "outputs": [],
   "execution_count": 2
  },
  {
   "metadata": {
    "ExecuteTime": {
     "end_time": "2025-02-11T20:30:56.773276Z",
     "start_time": "2025-02-11T20:30:56.770333Z"
    }
   },
   "cell_type": "code",
   "source": [
    "# Find all TSV files in the directory\n",
    "tsv_files = glob.glob(os.path.join(directory, \"*.tsv\"))\n"
   ],
   "id": "755194e09c5e09f5",
   "outputs": [],
   "execution_count": 3
  },
  {
   "metadata": {
    "ExecuteTime": {
     "end_time": "2025-02-11T20:30:56.815193Z",
     "start_time": "2025-02-11T20:30:56.811680Z"
    }
   },
   "cell_type": "code",
   "source": "pprint.pprint(tsv_files)",
   "id": "6373dd05685c7102",
   "outputs": [
    {
     "name": "stdout",
     "output_type": "stream",
     "text": [
      "['claude_3.5_sonnet/1-s2.0-S0016706121007540-main.tsv',\n",
      " 'claude_3.5_sonnet/bell-et-al-2020-metatranscriptomic-sequencing-of-a-cyanobacterial-soil-surface-consortium-with-and-without-a-diverse.tsv',\n",
      " 'claude_3.5_sonnet/alteio-et-al-2020-complementary-metagenomic-approaches-improve-reconstruction-of-microbial-diversity-in-a-forest-soil.tsv',\n",
      " 'claude_3.5_sonnet/acp-23-15783-2023.tsv',\n",
      " 'claude_3.5_sonnet/41564_2019_Article_449.tsv',\n",
      " 'claude_3.5_sonnet/2022.12.12.520098v2.full.tsv',\n",
      " 'claude_3.5_sonnet/BISS_article_20637.tsv',\n",
      " 'claude_3.5_sonnet/blair-et-al-2018-exploration-of-the-biosynthetic-potential-of-the-populus-microbiome.tsv',\n",
      " 'claude_3.5_sonnet/file.tsv']\n"
     ]
    }
   ],
   "execution_count": 4
  },
  {
   "metadata": {
    "ExecuteTime": {
     "end_time": "2025-02-11T20:30:56.878012Z",
     "start_time": "2025-02-11T20:30:56.858586Z"
    }
   },
   "cell_type": "code",
   "source": [
    "# Initialize a list to store the DataFrames\n",
    "all_dfs = list()\n",
    "\n",
    "# Iterate through the TSV files\n",
    "for file_path in tsv_files:\n",
    "    try:\n",
    "        print(f\"Processing {file_path}\")\n",
    "        # Load the TSV file without treating \"NA\" as NaN\n",
    "        df = pd.read_csv(file_path, sep='\\t', keep_default_na=False)\n",
    "\n",
    "        # Clean column names for easier access\n",
    "        df.columns = [\"Number\", \"Item\", \"Vote\", \"Comments\"]\n",
    "\n",
    "        # Add a filename column\n",
    "        df['Filename'] = os.path.basename(file_path)\n",
    "\n",
    "        # Append the DataFrame to the list\n",
    "        all_dfs.append(df)\n",
    "\n",
    "    except Exception as e:\n",
    "        print(f\"Error processing {file_path}: {e}\")"
   ],
   "id": "2080dcf5648cee42",
   "outputs": [
    {
     "name": "stdout",
     "output_type": "stream",
     "text": [
      "Processing claude_3.5_sonnet/1-s2.0-S0016706121007540-main.tsv\n",
      "Processing claude_3.5_sonnet/bell-et-al-2020-metatranscriptomic-sequencing-of-a-cyanobacterial-soil-surface-consortium-with-and-without-a-diverse.tsv\n",
      "Processing claude_3.5_sonnet/alteio-et-al-2020-complementary-metagenomic-approaches-improve-reconstruction-of-microbial-diversity-in-a-forest-soil.tsv\n",
      "Processing claude_3.5_sonnet/acp-23-15783-2023.tsv\n",
      "Processing claude_3.5_sonnet/41564_2019_Article_449.tsv\n",
      "Processing claude_3.5_sonnet/2022.12.12.520098v2.full.tsv\n",
      "Processing claude_3.5_sonnet/BISS_article_20637.tsv\n",
      "Processing claude_3.5_sonnet/blair-et-al-2018-exploration-of-the-biosynthetic-potential-of-the-populus-microbiome.tsv\n",
      "Processing claude_3.5_sonnet/file.tsv\n"
     ]
    }
   ],
   "execution_count": 5
  },
  {
   "metadata": {
    "ExecuteTime": {
     "end_time": "2025-02-11T20:30:56.911251Z",
     "start_time": "2025-02-11T20:30:56.907407Z"
    }
   },
   "cell_type": "code",
   "source": [
    "# Concatenate all DataFrames into a single DataFrame\n",
    "combined_df = pd.concat(all_dfs, ignore_index=True)\n"
   ],
   "id": "21fae0db42fe1db9",
   "outputs": [],
   "execution_count": 6
  },
  {
   "metadata": {
    "ExecuteTime": {
     "end_time": "2025-02-11T20:30:56.972415Z",
     "start_time": "2025-02-11T20:30:56.954006Z"
    }
   },
   "cell_type": "code",
   "source": "combined_df",
   "id": "1d9cc3bccb243ea9",
   "outputs": [
    {
     "data": {
      "text/plain": [
       "     Number                                 Item Vote  \\\n",
       "0       1.0  Structured or unstructured abstract  Yes   \n",
       "1       1.1                         Study design  Yes   \n",
       "2       1.2   Environmental & sample information  Yes   \n",
       "3       1.3     Host information (if applicable)   NA   \n",
       "4       1.4          Experiments & omics methods  Yes   \n",
       "..      ...                                  ...  ...   \n",
       "598    14.1                              Funding  Yes   \n",
       "599    15.0                Conflicts of interest  Yes   \n",
       "600    16.0           Supplementary data & files  Yes   \n",
       "601    17.0           Sample & data availability  Yes   \n",
       "602    18.0                             AI usage   No   \n",
       "\n",
       "                                              Comments  \\\n",
       "0    Unstructured abstract present on p.1 including...   \n",
       "1    Study design described in abstract - laborator...   \n",
       "2    Abstract describes permafrost aggregates from ...   \n",
       "3             No host organisms involved in this study   \n",
       "4    Abstract describes experimental freeze-thaw cy...   \n",
       "..                                                 ...   \n",
       "598                       Funding sources acknowledged   \n",
       "599             Competing interests statement provided   \n",
       "600               Supplementary information referenced   \n",
       "601      Data availability statement provided with DOI   \n",
       "602               No statement about AI usage provided   \n",
       "\n",
       "                              Filename  \n",
       "0    1-s2.0-S0016706121007540-main.tsv  \n",
       "1    1-s2.0-S0016706121007540-main.tsv  \n",
       "2    1-s2.0-S0016706121007540-main.tsv  \n",
       "3    1-s2.0-S0016706121007540-main.tsv  \n",
       "4    1-s2.0-S0016706121007540-main.tsv  \n",
       "..                                 ...  \n",
       "598                           file.tsv  \n",
       "599                           file.tsv  \n",
       "600                           file.tsv  \n",
       "601                           file.tsv  \n",
       "602                           file.tsv  \n",
       "\n",
       "[603 rows x 5 columns]"
      ],
      "text/html": [
       "<div>\n",
       "<style scoped>\n",
       "    .dataframe tbody tr th:only-of-type {\n",
       "        vertical-align: middle;\n",
       "    }\n",
       "\n",
       "    .dataframe tbody tr th {\n",
       "        vertical-align: top;\n",
       "    }\n",
       "\n",
       "    .dataframe thead th {\n",
       "        text-align: right;\n",
       "    }\n",
       "</style>\n",
       "<table border=\"1\" class=\"dataframe\">\n",
       "  <thead>\n",
       "    <tr style=\"text-align: right;\">\n",
       "      <th></th>\n",
       "      <th>Number</th>\n",
       "      <th>Item</th>\n",
       "      <th>Vote</th>\n",
       "      <th>Comments</th>\n",
       "      <th>Filename</th>\n",
       "    </tr>\n",
       "  </thead>\n",
       "  <tbody>\n",
       "    <tr>\n",
       "      <th>0</th>\n",
       "      <td>1.0</td>\n",
       "      <td>Structured or unstructured abstract</td>\n",
       "      <td>Yes</td>\n",
       "      <td>Unstructured abstract present on p.1 including...</td>\n",
       "      <td>1-s2.0-S0016706121007540-main.tsv</td>\n",
       "    </tr>\n",
       "    <tr>\n",
       "      <th>1</th>\n",
       "      <td>1.1</td>\n",
       "      <td>Study design</td>\n",
       "      <td>Yes</td>\n",
       "      <td>Study design described in abstract - laborator...</td>\n",
       "      <td>1-s2.0-S0016706121007540-main.tsv</td>\n",
       "    </tr>\n",
       "    <tr>\n",
       "      <th>2</th>\n",
       "      <td>1.2</td>\n",
       "      <td>Environmental &amp; sample information</td>\n",
       "      <td>Yes</td>\n",
       "      <td>Abstract describes permafrost aggregates from ...</td>\n",
       "      <td>1-s2.0-S0016706121007540-main.tsv</td>\n",
       "    </tr>\n",
       "    <tr>\n",
       "      <th>3</th>\n",
       "      <td>1.3</td>\n",
       "      <td>Host information (if applicable)</td>\n",
       "      <td>NA</td>\n",
       "      <td>No host organisms involved in this study</td>\n",
       "      <td>1-s2.0-S0016706121007540-main.tsv</td>\n",
       "    </tr>\n",
       "    <tr>\n",
       "      <th>4</th>\n",
       "      <td>1.4</td>\n",
       "      <td>Experiments &amp; omics methods</td>\n",
       "      <td>Yes</td>\n",
       "      <td>Abstract describes experimental freeze-thaw cy...</td>\n",
       "      <td>1-s2.0-S0016706121007540-main.tsv</td>\n",
       "    </tr>\n",
       "    <tr>\n",
       "      <th>...</th>\n",
       "      <td>...</td>\n",
       "      <td>...</td>\n",
       "      <td>...</td>\n",
       "      <td>...</td>\n",
       "      <td>...</td>\n",
       "    </tr>\n",
       "    <tr>\n",
       "      <th>598</th>\n",
       "      <td>14.1</td>\n",
       "      <td>Funding</td>\n",
       "      <td>Yes</td>\n",
       "      <td>Funding sources acknowledged</td>\n",
       "      <td>file.tsv</td>\n",
       "    </tr>\n",
       "    <tr>\n",
       "      <th>599</th>\n",
       "      <td>15.0</td>\n",
       "      <td>Conflicts of interest</td>\n",
       "      <td>Yes</td>\n",
       "      <td>Competing interests statement provided</td>\n",
       "      <td>file.tsv</td>\n",
       "    </tr>\n",
       "    <tr>\n",
       "      <th>600</th>\n",
       "      <td>16.0</td>\n",
       "      <td>Supplementary data &amp; files</td>\n",
       "      <td>Yes</td>\n",
       "      <td>Supplementary information referenced</td>\n",
       "      <td>file.tsv</td>\n",
       "    </tr>\n",
       "    <tr>\n",
       "      <th>601</th>\n",
       "      <td>17.0</td>\n",
       "      <td>Sample &amp; data availability</td>\n",
       "      <td>Yes</td>\n",
       "      <td>Data availability statement provided with DOI</td>\n",
       "      <td>file.tsv</td>\n",
       "    </tr>\n",
       "    <tr>\n",
       "      <th>602</th>\n",
       "      <td>18.0</td>\n",
       "      <td>AI usage</td>\n",
       "      <td>No</td>\n",
       "      <td>No statement about AI usage provided</td>\n",
       "      <td>file.tsv</td>\n",
       "    </tr>\n",
       "  </tbody>\n",
       "</table>\n",
       "<p>603 rows × 5 columns</p>\n",
       "</div>"
      ]
     },
     "execution_count": 7,
     "metadata": {},
     "output_type": "execute_result"
    }
   ],
   "execution_count": 7
  },
  {
   "metadata": {
    "ExecuteTime": {
     "end_time": "2025-02-11T20:32:12.263848Z",
     "start_time": "2025-02-11T20:32:12.256473Z"
    }
   },
   "cell_type": "code",
   "source": "combined_df.to_csv(\"streams_summary.tsv\", sep='\\t', index=False)",
   "id": "61fd03b2ed80b263",
   "outputs": [],
   "execution_count": 15
  },
  {
   "metadata": {
    "ExecuteTime": {
     "end_time": "2025-02-11T20:30:57.077822Z",
     "start_time": "2025-02-11T20:30:57.059408Z"
    }
   },
   "cell_type": "code",
   "source": [
    "# Create a file-wise summary\n",
    "file_summary = combined_df.pivot_table(index='Filename', columns='Vote', aggfunc='count', fill_value=0)['Number']\n",
    "file_summary = file_summary.reset_index()\n",
    "file_summary.columns.name = None\n",
    "file_summary = file_summary.rename(columns={'Filename': 'Filename', 'No': 'No Votes', 'Yes': 'Yes Votes', 'NA': 'NA Votes'})\n"
   ],
   "id": "c752b015ab2ff7d1",
   "outputs": [],
   "execution_count": 9
  },
  {
   "metadata": {
    "ExecuteTime": {
     "end_time": "2025-02-11T20:30:57.111497Z",
     "start_time": "2025-02-11T20:30:57.100914Z"
    }
   },
   "cell_type": "code",
   "source": "file_summary",
   "id": "69ee1d454d3a517d",
   "outputs": [
    {
     "data": {
      "text/plain": [
       "                                            Filename  NA Votes  No Votes  \\\n",
       "0                  1-s2.0-S0016706121007540-main.tsv        12         8   \n",
       "1                       2022.12.12.520098v2.full.tsv         8         7   \n",
       "2                         41564_2019_Article_449.tsv         6         6   \n",
       "3                             BISS_article_20637.tsv        44         6   \n",
       "4                              acp-23-15783-2023.tsv        11         9   \n",
       "5  alteio-et-al-2020-complementary-metagenomic-ap...         8         6   \n",
       "6  bell-et-al-2020-metatranscriptomic-sequencing-...         8        11   \n",
       "7  blair-et-al-2018-exploration-of-the-biosynthet...         7        10   \n",
       "8                                           file.tsv        11         9   \n",
       "\n",
       "   Yes Votes  \n",
       "0         47  \n",
       "1         52  \n",
       "2         55  \n",
       "3         17  \n",
       "4         47  \n",
       "5         53  \n",
       "6         48  \n",
       "7         50  \n",
       "8         47  "
      ],
      "text/html": [
       "<div>\n",
       "<style scoped>\n",
       "    .dataframe tbody tr th:only-of-type {\n",
       "        vertical-align: middle;\n",
       "    }\n",
       "\n",
       "    .dataframe tbody tr th {\n",
       "        vertical-align: top;\n",
       "    }\n",
       "\n",
       "    .dataframe thead th {\n",
       "        text-align: right;\n",
       "    }\n",
       "</style>\n",
       "<table border=\"1\" class=\"dataframe\">\n",
       "  <thead>\n",
       "    <tr style=\"text-align: right;\">\n",
       "      <th></th>\n",
       "      <th>Filename</th>\n",
       "      <th>NA Votes</th>\n",
       "      <th>No Votes</th>\n",
       "      <th>Yes Votes</th>\n",
       "    </tr>\n",
       "  </thead>\n",
       "  <tbody>\n",
       "    <tr>\n",
       "      <th>0</th>\n",
       "      <td>1-s2.0-S0016706121007540-main.tsv</td>\n",
       "      <td>12</td>\n",
       "      <td>8</td>\n",
       "      <td>47</td>\n",
       "    </tr>\n",
       "    <tr>\n",
       "      <th>1</th>\n",
       "      <td>2022.12.12.520098v2.full.tsv</td>\n",
       "      <td>8</td>\n",
       "      <td>7</td>\n",
       "      <td>52</td>\n",
       "    </tr>\n",
       "    <tr>\n",
       "      <th>2</th>\n",
       "      <td>41564_2019_Article_449.tsv</td>\n",
       "      <td>6</td>\n",
       "      <td>6</td>\n",
       "      <td>55</td>\n",
       "    </tr>\n",
       "    <tr>\n",
       "      <th>3</th>\n",
       "      <td>BISS_article_20637.tsv</td>\n",
       "      <td>44</td>\n",
       "      <td>6</td>\n",
       "      <td>17</td>\n",
       "    </tr>\n",
       "    <tr>\n",
       "      <th>4</th>\n",
       "      <td>acp-23-15783-2023.tsv</td>\n",
       "      <td>11</td>\n",
       "      <td>9</td>\n",
       "      <td>47</td>\n",
       "    </tr>\n",
       "    <tr>\n",
       "      <th>5</th>\n",
       "      <td>alteio-et-al-2020-complementary-metagenomic-ap...</td>\n",
       "      <td>8</td>\n",
       "      <td>6</td>\n",
       "      <td>53</td>\n",
       "    </tr>\n",
       "    <tr>\n",
       "      <th>6</th>\n",
       "      <td>bell-et-al-2020-metatranscriptomic-sequencing-...</td>\n",
       "      <td>8</td>\n",
       "      <td>11</td>\n",
       "      <td>48</td>\n",
       "    </tr>\n",
       "    <tr>\n",
       "      <th>7</th>\n",
       "      <td>blair-et-al-2018-exploration-of-the-biosynthet...</td>\n",
       "      <td>7</td>\n",
       "      <td>10</td>\n",
       "      <td>50</td>\n",
       "    </tr>\n",
       "    <tr>\n",
       "      <th>8</th>\n",
       "      <td>file.tsv</td>\n",
       "      <td>11</td>\n",
       "      <td>9</td>\n",
       "      <td>47</td>\n",
       "    </tr>\n",
       "  </tbody>\n",
       "</table>\n",
       "</div>"
      ]
     },
     "execution_count": 10,
     "metadata": {},
     "output_type": "execute_result"
    }
   ],
   "execution_count": 10
  },
  {
   "metadata": {
    "ExecuteTime": {
     "end_time": "2025-02-11T20:30:57.174882Z",
     "start_time": "2025-02-11T20:30:57.170251Z"
    }
   },
   "cell_type": "code",
   "source": "file_summary.to_csv('streams_summary_by_pdf.tsv', index=False, sep='\\t')",
   "id": "f30eaa0ba7ca378a",
   "outputs": [],
   "execution_count": 11
  },
  {
   "metadata": {
    "ExecuteTime": {
     "end_time": "2025-02-11T20:30:57.238797Z",
     "start_time": "2025-02-11T20:30:57.224499Z"
    }
   },
   "cell_type": "code",
   "source": [
    "# Create a question-wise summary (using Number instead of Item)\n",
    "question_summary = combined_df.pivot_table(index='Number', columns='Vote', aggfunc='count', fill_value=0)['Item']\n",
    "question_summary = question_summary.reset_index()\n",
    "question_summary.columns.name = None\n",
    "question_summary = question_summary.rename(columns={'Number': 'Question Number', 'No': 'No Votes', 'Yes': 'Yes Votes', 'NA': 'NA Votes'})\n",
    "\n",
    "# Create a mapping from Number to Item\n",
    "number_to_item = combined_df.groupby('Number')['Item'].first().to_dict()\n",
    "\n",
    "# Add the Item column to question_summary using the mapping\n",
    "question_summary['Item'] = question_summary['Question Number'].map(number_to_item)\n",
    "\n",
    "# Reorder columns to put 'Item' next to 'Question Number'\n",
    "question_summary = question_summary[['Question Number', 'Item', 'Yes Votes', 'No Votes', 'NA Votes']]\n"
   ],
   "id": "8dc2f3ed633c3fc7",
   "outputs": [],
   "execution_count": 12
  },
  {
   "metadata": {
    "ExecuteTime": {
     "end_time": "2025-02-11T20:30:57.281767Z",
     "start_time": "2025-02-11T20:30:57.266987Z"
    }
   },
   "cell_type": "code",
   "source": "question_summary",
   "id": "33564829e53f50a2",
   "outputs": [
    {
     "data": {
      "text/plain": [
       "    Question Number                                 Item  Yes Votes  No Votes  \\\n",
       "0               1.0  Structured or unstructured abstract          9         0   \n",
       "1               1.1                         Study design          9         0   \n",
       "2               1.2   Environmental & sample information          9         0   \n",
       "3               1.3     Host information (if applicable)          1         0   \n",
       "4               1.4          Experiments & omics methods          9         0   \n",
       "..              ...                                  ...        ...       ...   \n",
       "62             14.1                              Funding          8         1   \n",
       "63             15.0                Conflicts of interest          5         4   \n",
       "64             16.0           Supplementary data & files          7         2   \n",
       "65             17.0           Sample & data availability          8         0   \n",
       "66             18.0                             AI usage          0         5   \n",
       "\n",
       "    NA Votes  \n",
       "0          0  \n",
       "1          0  \n",
       "2          0  \n",
       "3          8  \n",
       "4          0  \n",
       "..       ...  \n",
       "62         0  \n",
       "63         0  \n",
       "64         0  \n",
       "65         1  \n",
       "66         4  \n",
       "\n",
       "[67 rows x 5 columns]"
      ],
      "text/html": [
       "<div>\n",
       "<style scoped>\n",
       "    .dataframe tbody tr th:only-of-type {\n",
       "        vertical-align: middle;\n",
       "    }\n",
       "\n",
       "    .dataframe tbody tr th {\n",
       "        vertical-align: top;\n",
       "    }\n",
       "\n",
       "    .dataframe thead th {\n",
       "        text-align: right;\n",
       "    }\n",
       "</style>\n",
       "<table border=\"1\" class=\"dataframe\">\n",
       "  <thead>\n",
       "    <tr style=\"text-align: right;\">\n",
       "      <th></th>\n",
       "      <th>Question Number</th>\n",
       "      <th>Item</th>\n",
       "      <th>Yes Votes</th>\n",
       "      <th>No Votes</th>\n",
       "      <th>NA Votes</th>\n",
       "    </tr>\n",
       "  </thead>\n",
       "  <tbody>\n",
       "    <tr>\n",
       "      <th>0</th>\n",
       "      <td>1.0</td>\n",
       "      <td>Structured or unstructured abstract</td>\n",
       "      <td>9</td>\n",
       "      <td>0</td>\n",
       "      <td>0</td>\n",
       "    </tr>\n",
       "    <tr>\n",
       "      <th>1</th>\n",
       "      <td>1.1</td>\n",
       "      <td>Study design</td>\n",
       "      <td>9</td>\n",
       "      <td>0</td>\n",
       "      <td>0</td>\n",
       "    </tr>\n",
       "    <tr>\n",
       "      <th>2</th>\n",
       "      <td>1.2</td>\n",
       "      <td>Environmental &amp; sample information</td>\n",
       "      <td>9</td>\n",
       "      <td>0</td>\n",
       "      <td>0</td>\n",
       "    </tr>\n",
       "    <tr>\n",
       "      <th>3</th>\n",
       "      <td>1.3</td>\n",
       "      <td>Host information (if applicable)</td>\n",
       "      <td>1</td>\n",
       "      <td>0</td>\n",
       "      <td>8</td>\n",
       "    </tr>\n",
       "    <tr>\n",
       "      <th>4</th>\n",
       "      <td>1.4</td>\n",
       "      <td>Experiments &amp; omics methods</td>\n",
       "      <td>9</td>\n",
       "      <td>0</td>\n",
       "      <td>0</td>\n",
       "    </tr>\n",
       "    <tr>\n",
       "      <th>...</th>\n",
       "      <td>...</td>\n",
       "      <td>...</td>\n",
       "      <td>...</td>\n",
       "      <td>...</td>\n",
       "      <td>...</td>\n",
       "    </tr>\n",
       "    <tr>\n",
       "      <th>62</th>\n",
       "      <td>14.1</td>\n",
       "      <td>Funding</td>\n",
       "      <td>8</td>\n",
       "      <td>1</td>\n",
       "      <td>0</td>\n",
       "    </tr>\n",
       "    <tr>\n",
       "      <th>63</th>\n",
       "      <td>15.0</td>\n",
       "      <td>Conflicts of interest</td>\n",
       "      <td>5</td>\n",
       "      <td>4</td>\n",
       "      <td>0</td>\n",
       "    </tr>\n",
       "    <tr>\n",
       "      <th>64</th>\n",
       "      <td>16.0</td>\n",
       "      <td>Supplementary data &amp; files</td>\n",
       "      <td>7</td>\n",
       "      <td>2</td>\n",
       "      <td>0</td>\n",
       "    </tr>\n",
       "    <tr>\n",
       "      <th>65</th>\n",
       "      <td>17.0</td>\n",
       "      <td>Sample &amp; data availability</td>\n",
       "      <td>8</td>\n",
       "      <td>0</td>\n",
       "      <td>1</td>\n",
       "    </tr>\n",
       "    <tr>\n",
       "      <th>66</th>\n",
       "      <td>18.0</td>\n",
       "      <td>AI usage</td>\n",
       "      <td>0</td>\n",
       "      <td>5</td>\n",
       "      <td>4</td>\n",
       "    </tr>\n",
       "  </tbody>\n",
       "</table>\n",
       "<p>67 rows × 5 columns</p>\n",
       "</div>"
      ]
     },
     "execution_count": 13,
     "metadata": {},
     "output_type": "execute_result"
    }
   ],
   "execution_count": 13
  },
  {
   "metadata": {
    "ExecuteTime": {
     "end_time": "2025-02-11T20:30:57.386742Z",
     "start_time": "2025-02-11T20:30:57.380984Z"
    }
   },
   "cell_type": "code",
   "source": "question_summary.to_csv('streams_summary_by_question.tsv', index=False, sep='\\t')",
   "id": "276373005f14122b",
   "outputs": [],
   "execution_count": 14
  }
 ],
 "metadata": {
  "kernelspec": {
   "display_name": "Python 3",
   "language": "python",
   "name": "python3"
  },
  "language_info": {
   "codemirror_mode": {
    "name": "ipython",
    "version": 2
   },
   "file_extension": ".py",
   "mimetype": "text/x-python",
   "name": "python",
   "nbconvert_exporter": "python",
   "pygments_lexer": "ipython2",
   "version": "2.7.6"
  }
 },
 "nbformat": 4,
 "nbformat_minor": 5
}
