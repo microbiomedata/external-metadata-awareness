{
 "cells": [
  {
   "metadata": {},
   "cell_type": "code",
   "source": [
    "import requests\n",
    "\n",
    "from curies import Converter\n",
    "from prefixmaps.io.parser import load_converter"
   ],
   "id": "3abfdef2c6fd3a92",
   "outputs": [],
   "execution_count": null
  },
  {
   "cell_type": "code",
   "id": "initial_id",
   "metadata": {
    "collapsed": true
   },
   "source": "mappings_url = \"https://data.bioontology.org/ontologies/SNOMEDCT/classes/http%3A%2F%2Fpurl.bioontology.org%2Fontology%2FSNOMEDCT%2F410607006/mappings?apikey=e4043787-8e9c-4fc8-a0a0-54fd01b6be9d\"",
   "outputs": [],
   "execution_count": null
  },
  {
   "metadata": {},
   "cell_type": "code",
   "source": [
    "mappings_response  = requests.get(mappings_url)\n",
    "# snomed ct orgnaims ~ 13 seconds"
   ],
   "id": "1cf26069758867a0",
   "outputs": [],
   "execution_count": null
  },
  {
   "metadata": {},
   "cell_type": "code",
   "source": "mappings_obj = mappings_response.json()",
   "id": "9d585de79071de94",
   "outputs": [],
   "execution_count": null
  },
  {
   "metadata": {},
   "cell_type": "code",
   "source": "converter: Converter = load_converter([\"bioportal\", \"obo\"])",
   "id": "b0d323e4310560fc",
   "outputs": [],
   "execution_count": null
  },
  {
   "metadata": {},
   "cell_type": "code",
   "source": "ontology_slugs = set()",
   "id": "7b87d55b607230ad",
   "outputs": [],
   "execution_count": null
  },
  {
   "metadata": {},
   "cell_type": "code",
   "source": [
    "for i in mappings_obj:\n",
    "    if i['source'] == \"LOOM\":\n",
    "        i_classes = i['classes']\n",
    "        for j in i_classes:\n",
    "            ontology_slug = j['links']['ontology'].split(\"/\")[-1] # https://data.bioontology.org/ontologies/SNOMEDCT\n",
    "            curie = converter.compress(j['@id'])\n",
    "            print(ontology_slug)\n",
    "            print(curie)\n",
    "            ontology_slugs.add(ontology_slug)"
   ],
   "id": "7aac0fd10cb01e3",
   "outputs": [],
   "execution_count": null
  },
  {
   "metadata": {},
   "cell_type": "code",
   "source": [
    "ontology_slugs\n",
    "\n",
    "# chebi, dron, efo, envo, foodon, doid, ncbitaxon, uberon"
   ],
   "id": "d7b04f3604986364",
   "outputs": [],
   "execution_count": null
  }
 ],
 "metadata": {
  "kernelspec": {
   "display_name": "Python 3",
   "language": "python",
   "name": "python3"
  },
  "language_info": {
   "codemirror_mode": {
    "name": "ipython",
    "version": 2
   },
   "file_extension": ".py",
   "mimetype": "text/x-python",
   "name": "python",
   "nbconvert_exporter": "python",
   "pygments_lexer": "ipython2",
   "version": "2.7.6"
  }
 },
 "nbformat": 4,
 "nbformat_minor": 5
}
