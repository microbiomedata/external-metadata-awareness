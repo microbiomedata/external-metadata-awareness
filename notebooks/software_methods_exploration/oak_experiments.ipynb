{
 "cells": [
  {
   "metadata": {
    "ExecuteTime": {
     "end_time": "2025-02-26T02:35:01.490812Z",
     "start_time": "2025-02-26T02:34:58.868660Z"
    }
   },
   "cell_type": "code",
   "source": "from oaklib import get_adapter",
   "id": "a0e7e88cf59c0ed9",
   "outputs": [],
   "execution_count": 1
  },
  {
   "metadata": {
    "ExecuteTime": {
     "end_time": "2025-02-26T02:35:01.498065Z",
     "start_time": "2025-02-26T02:35:01.495170Z"
    }
   },
   "cell_type": "code",
   "source": "envo_adapter_string  = \"sqlite:obo:envo\"",
   "id": "e334ae63d17a6813",
   "outputs": [],
   "execution_count": 2
  },
  {
   "cell_type": "code",
   "id": "initial_id",
   "metadata": {
    "collapsed": true,
    "ExecuteTime": {
     "end_time": "2025-02-26T02:35:01.582462Z",
     "start_time": "2025-02-26T02:35:01.556389Z"
    }
   },
   "source": "envo_adapter = get_adapter(envo_adapter_string)",
   "outputs": [],
   "execution_count": 3
  },
  {
   "metadata": {
    "ExecuteTime": {
     "end_time": "2025-02-26T02:35:01.625865Z",
     "start_time": "2025-02-26T02:35:01.599728Z"
    }
   },
   "cell_type": "code",
   "source": "envo_adapter.label('ENVO:01000813')",
   "id": "2fb64fe45c63720c",
   "outputs": [
    {
     "data": {
      "text/plain": [
       "'astronomical body part'"
      ]
     },
     "execution_count": 4,
     "metadata": {},
     "output_type": "execute_result"
    }
   ],
   "execution_count": 4
  },
  {
   "metadata": {
    "ExecuteTime": {
     "end_time": "2025-02-26T02:35:01.715742Z",
     "start_time": "2025-02-26T02:35:01.708067Z"
    }
   },
   "cell_type": "code",
   "source": [
    "# at least somewhere in my annotations of NCBI environmental context contents, i got a hit on a CURIe\n",
    "#    so I wanted to see if it tolerated underscores as delimiters\n",
    "#    but I can't seem to reproduce it even with colon delimiters  here\n",
    "\n",
    "annotations = envo_adapter.annotate_text('mangrove biome envo:01000813')"
   ],
   "id": "f4f056bf9937fd81",
   "outputs": [],
   "execution_count": 5
  },
  {
   "metadata": {
    "ExecuteTime": {
     "end_time": "2025-02-26T02:35:11.047699Z",
     "start_time": "2025-02-26T02:35:01.758520Z"
    }
   },
   "cell_type": "code",
   "source": [
    "for i in annotations:\n",
    "    print(i)"
   ],
   "id": "2a9b519428cfb263",
   "outputs": [
    {
     "name": "stderr",
     "output_type": "stream",
     "text": [
      "ERROR:root:Skipping statements(subject=ENVO:01001644,predicate=oio:hasDbXref,object=None,value=Carbonate which is formed as the result of some biological process.,datatype=None,language=None,); ValueError: Carbonate which is formed as the result of some biological process. is not a valid URI or CURIE\n",
      "WARNING:root:Skipping <http://geneontology.org/foo/applies-pattern> as it is not a valid CURIE\n",
      "WARNING:root:Skipping <http://schema.org/image> as it is not a valid CURIE\n",
      "WARNING:root:Skipping <http://swrl.stanford.edu/ontologies/3.3/swrla.owl#isRuleEnabled> as it is not a valid CURIE\n",
      "WARNING:root:Skipping <https://www.wikidata.org/wiki/Q2306597> as it is not a valid CURIE\n",
      "WARNING:root:Skipping <https://www.wikidata.org/wiki/Q2> as it is not a valid CURIE\n",
      "WARNING:root:Skipping <https://www.wikidata.org/wiki/Q525> as it is not a valid CURIE\n",
      "WARNING:root:Skipping <https://www.wikidata.org/wiki/Q715269> as it is not a valid CURIE\n"
     ]
    },
    {
     "name": "stdout",
     "output_type": "stream",
     "text": [
      "TextAnnotation(predicate_id='rdfs:label', object_id='ENVO:00000428', object_label='biome', object_categories=[], object_source=None, confidence=None, match_string='biome', is_longest_match=None, matches_whole_text=False, match_type=None, info=None, object_aliases=[], subject_start=10, subject_end=14, subject_label=None, subject_source=None, subject_text_id=None)\n",
      "TextAnnotation(predicate_id='rdfs:label', object_id='ENVO:01000181', object_label='mangrove biome', object_categories=[], object_source=None, confidence=None, match_string='mangrove biome', is_longest_match=None, matches_whole_text=False, match_type=None, info=None, object_aliases=[], subject_start=1, subject_end=14, subject_label=None, subject_source=None, subject_text_id=None)\n"
     ]
    }
   ],
   "execution_count": 6
  }
 ],
 "metadata": {
  "kernelspec": {
   "display_name": "Python 3",
   "language": "python",
   "name": "python3"
  },
  "language_info": {
   "codemirror_mode": {
    "name": "ipython",
    "version": 2
   },
   "file_extension": ".py",
   "mimetype": "text/x-python",
   "name": "python",
   "nbconvert_exporter": "python",
   "pygments_lexer": "ipython2",
   "version": "2.7.6"
  }
 },
 "nbformat": 4,
 "nbformat_minor": 5
}
