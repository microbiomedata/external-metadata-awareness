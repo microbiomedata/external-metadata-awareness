{
 "cells": [
  {
   "cell_type": "code",
   "id": "initial_id",
   "metadata": {
    "collapsed": true,
    "ExecuteTime": {
     "end_time": "2025-02-26T02:39:23.725711Z",
     "start_time": "2025-02-26T02:39:21.024662Z"
    }
   },
   "source": [
    "from oaklib import get_adapter\n",
    "import pandas as pd\n",
    "import pprint"
   ],
   "outputs": [],
   "execution_count": 1
  },
  {
   "metadata": {
    "ExecuteTime": {
     "end_time": "2025-02-26T02:39:23.746999Z",
     "start_time": "2025-02-26T02:39:23.731684Z"
    }
   },
   "cell_type": "code",
   "source": [
    "\n",
    "def annotate_text(adapter, text):\n",
    "    \"\"\"\n",
    "    Annotate text using the adapter.\n",
    "    :param adapter: The initialized adapter.\n",
    "    :param text: Input text to annotate.\n",
    "    :return: List of annotation dictionaries.\n",
    "    \"\"\"\n",
    "    annotations = adapter.annotate_text(text)\n",
    "    return [vars(annotation) for annotation in annotations]\n",
    "\n",
    "def filter_non_contained_annotations(annotations):\n",
    "    \"\"\"\n",
    "    Filter annotations to keep only non-contained ones.\n",
    "    :param annotations: List of annotation dictionaries.\n",
    "    :return: List of filtered annotations.\n",
    "    \"\"\"\n",
    "    annotations.sort(key=lambda x: (x[\"subject_start\"], -(x[\"subject_end\"] - x[\"subject_start\"])))\n",
    "    \n",
    "    for i, annotation in enumerate(annotations):\n",
    "        annotation[\"is_contained\"] = False\n",
    "        for j, other_annotation in enumerate(annotations):\n",
    "            if i == j:\n",
    "                continue\n",
    "            if (\n",
    "                annotation[\"subject_start\"] >= other_annotation[\"subject_start\"]\n",
    "                and annotation[\"subject_end\"] <= other_annotation[\"subject_end\"]\n",
    "            ):\n",
    "                annotation[\"is_contained\"] = True\n",
    "                break\n",
    "\n",
    "    return [ann for ann in annotations if not ann[\"is_contained\"]]\n",
    "\n",
    "def filter_by_span_length(annotations, min_length=3):\n",
    "    \"\"\"\n",
    "    Filter annotations to remove those with a span shorter than the specified minimum length.\n",
    "    :param annotations: List of annotation dictionaries.\n",
    "    :param min_length: Minimum length of span to retain an annotation.\n",
    "    :return: List of filtered annotations.\n",
    "    \"\"\"\n",
    "    return [ann for ann in annotations if (ann[\"subject_end\"] - ann[\"subject_start\"]) >= min_length]\n",
    "\n",
    "def extract_unique_object_ids(annotations, ranked_predicates=None):\n",
    "    \"\"\"\n",
    "    Extract unique object IDs for annotations, resolving conflicts based on ranked predicates.\n",
    "    :param annotations: List of annotation dictionaries.\n",
    "    :param ranked_predicates: List of predicates in order of preference.\n",
    "    :return: List of unique object IDs.\n",
    "    \"\"\"\n",
    "    if ranked_predicates is None:\n",
    "        ranked_predicates = [\"rdfs:label\", \"oio:hasExactSynonym\", \"oio:hasRelatedSynonym\"]\n",
    "\n",
    "    resolved_ids = {}\n",
    "\n",
    "    for annotation in annotations:\n",
    "        obj_id = annotation[\"object_id\"]\n",
    "        predicate = annotation[\"predicate_id\"]\n",
    "\n",
    "        if obj_id not in resolved_ids or ranked_predicates.index(predicate) < ranked_predicates.index(\n",
    "            resolved_ids[obj_id][\"predicate_id\"]\n",
    "        ):\n",
    "            resolved_ids[obj_id] = annotation\n",
    "\n",
    "    return list(resolved_ids.keys())\n",
    "\n",
    "def report_unaccounted_items(annotations, ranked_predicates=None, ranked_namespaces=None):\n",
    "    \"\"\"\n",
    "    Report unique unaccounted predicates and namespaces from the annotations.\n",
    "    :param annotations: List of annotation dictionaries.\n",
    "    :param ranked_predicates: List of predicates in order of preference.\n",
    "    :param ranked_namespaces: List of namespaces in order of preference.\n",
    "    :return: Tuple of unique unaccounted predicates and namespaces.\n",
    "    \"\"\"\n",
    "    if ranked_predicates is None:\n",
    "        ranked_predicates = [\"rdfs:label\", \"oio:hasExactSynonym\", \"oio:hasRelatedSynonym\"]\n",
    "    if ranked_namespaces is None:\n",
    "        ranked_namespaces = [\"ENVO\", \"CHEBI\", \"PATO\"]\n",
    "\n",
    "    # Collect predicates and namespaces\n",
    "    all_predicates = {ann[\"predicate_id\"] for ann in annotations}\n",
    "    all_namespaces = {ann[\"object_id\"].split(\":\")[0] for ann in annotations if \":\" in ann[\"object_id\"]}\n",
    "\n",
    "    # Identify unaccounted predicates and namespaces\n",
    "    unaccounted_predicates = all_predicates - set(ranked_predicates)\n",
    "    unaccounted_namespaces = all_namespaces - set(ranked_namespaces)\n",
    "\n",
    "    return list(unaccounted_predicates), list(unaccounted_namespaces)\n",
    "\n",
    "def process_annotations(adapter, text, ranked_predicates=None, ranked_namespaces=None, min_span_length=3):\n",
    "    \"\"\"\n",
    "    Full pipeline to process annotations, extract unique object IDs, and report unaccounted items.\n",
    "    :param adapter: The initialized adapter.\n",
    "    :param text: The input text to annotate.\n",
    "    :param ranked_predicates: List of predicates in order of preference.\n",
    "    :param ranked_namespaces: List of namespaces in order of preference.\n",
    "    :param min_span_length: Minimum length of span to retain an annotation.\n",
    "    :return: Tuple of filtered annotations, unique object IDs, and unaccounted items (predicates and namespaces).\n",
    "    \"\"\"\n",
    "    annotations = annotate_text(adapter, text)\n",
    "    filtered_annotations = filter_non_contained_annotations(annotations)\n",
    "    filtered_annotations = filter_by_span_length(filtered_annotations, min_span_length)\n",
    "    unique_object_ids = extract_unique_object_ids(filtered_annotations, ranked_predicates)\n",
    "\n",
    "    # Report unaccounted items\n",
    "    unaccounted_predicates, unaccounted_namespaces = report_unaccounted_items(filtered_annotations, ranked_predicates, ranked_namespaces)\n",
    "\n",
    "    return filtered_annotations, unique_object_ids, unaccounted_predicates, unaccounted_namespaces\n",
    "\n",
    "\n",
    "def process_text_annotations(adapter, dataframe, text_column, ranked_predicates=None, ranked_namespaces=None, min_span_length=3):\n",
    "    \"\"\"\n",
    "    Process annotations for a column of text in a pandas DataFrame.\n",
    "    :param adapter: The initialized adapter.\n",
    "    :param dataframe: The pandas DataFrame containing text.\n",
    "    :param text_column: The name of the column containing text.\n",
    "    :param ranked_predicates: List of predicates in order of preference.\n",
    "    :param ranked_namespaces: List of namespaces in order of preference.\n",
    "    :param min_span_length: Minimum length of span to retain an annotation.\n",
    "    :return: DataFrame with a new column for unique object IDs per text.\n",
    "    \"\"\"\n",
    "    dataframe[\"unique_object_ids\"] = dataframe[text_column].apply(\n",
    "        lambda text: process_annotations(\n",
    "            adapter, text, ranked_predicates, ranked_namespaces, min_span_length\n",
    "        )[0]\n",
    "    )\n",
    "    return dataframe\n",
    "\n",
    "\n",
    "def map_object_ids_to_labels(adapter, object_ids):\n",
    "    \"\"\"\n",
    "    Map a list of object IDs to their corresponding labels using the adapter.\n",
    "    :param adapter: The initialized adapter.\n",
    "    :param object_ids: List of object IDs.\n",
    "    :return: List of dictionaries with object IDs as keys and labels as values.\n",
    "    \"\"\"\n",
    "    return [{\"object_id\": obj_id, \"label\": adapter.label(obj_id)} for obj_id in object_ids]\n",
    "\n",
    "\n",
    "def get_annotation_span_from_processed_annotations(processed_annotations, object_id):\n",
    "    \"\"\"\n",
    "    Retrieve the span information for a specific object ID from the processed annotations.\n",
    "    :param processed_annotations: List of filtered annotation dictionaries (non-contained, valid spans).\n",
    "    :param object_id: The object ID for which to retrieve span information.\n",
    "    :return: A dictionary with the span details or None if the object ID is not found.\n",
    "    \"\"\"\n",
    "    for annotation in processed_annotations:\n",
    "        if annotation[\"object_id\"] == object_id:\n",
    "            return {\n",
    "                \"object_id\": object_id,\n",
    "                \"subject_start\": annotation[\"subject_start\"],\n",
    "                \"subject_end\": annotation[\"subject_end\"],\n",
    "                \"span_text\": annotation.get(\"match_string\"),\n",
    "            }\n",
    "    return None\n"
   ],
   "id": "87ca54b6b94f008d",
   "outputs": [],
   "execution_count": 2
  },
  {
   "metadata": {
    "ExecuteTime": {
     "end_time": "2025-02-26T02:39:23.829619Z",
     "start_time": "2025-02-26T02:39:23.803117Z"
    }
   },
   "cell_type": "code",
   "source": [
    "envo_adapter_string = \"sqlite:obo:envo\"\n",
    "envo_adapter = get_adapter(envo_adapter_string)"
   ],
   "id": "8d7abef3147fed6f",
   "outputs": [],
   "execution_count": 3
  },
  {
   "metadata": {
    "ExecuteTime": {
     "end_time": "2025-02-26T02:39:33.189230Z",
     "start_time": "2025-02-26T02:39:23.853878Z"
    }
   },
   "cell_type": "code",
   "source": [
    "# Example text\n",
    "text = \"\"\"\n",
    "Soil organic matter (SOM) is a critical part of the global carbon (C) cycle. Belowground ecosystems contain more C than stored in terrestrial vegetation and the atmosphere combined (1–3), and SOM is the largest and most biologically active portion of soil C. SOM decomposition is regulated by a complex and interacting set of factors including soil structure, moisture distribution, temperature, pH, and nutrient status; collectively, these factors determine accessibility, bioavailability, and rate kinetics of SOM (4). Despite the importance of SOM in the global C cycle, the drivers of SOM decomposition from molecular to continental scales are not well understood.\n",
    "\"\"\"\n",
    "\n",
    "# Process the text\n",
    "filtered_annotations, unique_object_ids, unaccounted_predicates, unaccounted_namespaces = process_annotations(\n",
    "    adapter=envo_adapter,\n",
    "    text=text,\n",
    "    ranked_predicates=[\"rdfs:label\", \"oio:hasExactSynonym\", \"oio:hasRelatedSynonym\", 'oio:hasNarrowSynonym',],\n",
    "    ranked_namespaces=[\"ENVO\", \"CHEBI\", \"PATO\", 'RO', 'BFO',],\n",
    "    min_span_length=3\n",
    ")\n"
   ],
   "id": "c6333db120481e27",
   "outputs": [
    {
     "name": "stderr",
     "output_type": "stream",
     "text": [
      "ERROR:root:Skipping statements(subject=ENVO:01001644,predicate=oio:hasDbXref,object=None,value=Carbonate which is formed as the result of some biological process.,datatype=None,language=None,); ValueError: Carbonate which is formed as the result of some biological process. is not a valid URI or CURIE\n",
      "WARNING:root:Skipping <http://geneontology.org/foo/applies-pattern> as it is not a valid CURIE\n",
      "WARNING:root:Skipping <http://schema.org/image> as it is not a valid CURIE\n",
      "WARNING:root:Skipping <http://swrl.stanford.edu/ontologies/3.3/swrla.owl#isRuleEnabled> as it is not a valid CURIE\n",
      "WARNING:root:Skipping <https://www.wikidata.org/wiki/Q2306597> as it is not a valid CURIE\n",
      "WARNING:root:Skipping <https://www.wikidata.org/wiki/Q2> as it is not a valid CURIE\n",
      "WARNING:root:Skipping <https://www.wikidata.org/wiki/Q525> as it is not a valid CURIE\n",
      "WARNING:root:Skipping <https://www.wikidata.org/wiki/Q715269> as it is not a valid CURIE\n"
     ]
    }
   ],
   "execution_count": 4
  },
  {
   "metadata": {
    "ExecuteTime": {
     "end_time": "2025-02-26T02:39:33.200318Z",
     "start_time": "2025-02-26T02:39:33.192948Z"
    }
   },
   "cell_type": "code",
   "source": "pprint.pprint(filtered_annotations)",
   "id": "a83ac9915473d331",
   "outputs": [
    {
     "name": "stdout",
     "output_type": "stream",
     "text": [
      "[{'confidence': None,\n",
      "  'info': None,\n",
      "  'is_contained': False,\n",
      "  'is_longest_match': None,\n",
      "  'match_string': 'Soil organic matter',\n",
      "  'match_type': None,\n",
      "  'matches_whole_text': False,\n",
      "  'object_aliases': [],\n",
      "  'object_categories': [],\n",
      "  'object_id': 'ENVO:04000008',\n",
      "  'object_label': 'soil organic matter',\n",
      "  'object_source': None,\n",
      "  'predicate_id': 'rdfs:label',\n",
      "  'subject_end': 20,\n",
      "  'subject_label': None,\n",
      "  'subject_source': None,\n",
      "  'subject_start': 2,\n",
      "  'subject_text_id': None},\n",
      " {'confidence': None,\n",
      "  'info': None,\n",
      "  'is_contained': False,\n",
      "  'is_longest_match': None,\n",
      "  'match_string': 'part of',\n",
      "  'match_type': None,\n",
      "  'matches_whole_text': False,\n",
      "  'object_aliases': [],\n",
      "  'object_categories': [],\n",
      "  'object_id': 'BFO:0000050',\n",
      "  'object_label': 'part of',\n",
      "  'object_source': None,\n",
      "  'predicate_id': 'rdfs:label',\n",
      "  'subject_end': 48,\n",
      "  'subject_label': None,\n",
      "  'subject_source': None,\n",
      "  'subject_start': 42,\n",
      "  'subject_text_id': None},\n",
      " {'confidence': None,\n",
      "  'info': None,\n",
      "  'is_contained': False,\n",
      "  'is_longest_match': None,\n",
      "  'match_string': 'ecosystem',\n",
      "  'match_type': None,\n",
      "  'matches_whole_text': False,\n",
      "  'object_aliases': [],\n",
      "  'object_categories': [],\n",
      "  'object_id': 'ENVO:01001110',\n",
      "  'object_label': 'ecosystem',\n",
      "  'object_source': None,\n",
      "  'predicate_id': 'rdfs:label',\n",
      "  'subject_end': 99,\n",
      "  'subject_label': None,\n",
      "  'subject_source': None,\n",
      "  'subject_start': 91,\n",
      "  'subject_text_id': None},\n",
      " {'confidence': None,\n",
      "  'info': None,\n",
      "  'is_contained': False,\n",
      "  'is_longest_match': None,\n",
      "  'match_string': 'atmosphere',\n",
      "  'match_type': None,\n",
      "  'matches_whole_text': False,\n",
      "  'object_aliases': [],\n",
      "  'object_categories': [],\n",
      "  'object_id': 'ENVO:01000267',\n",
      "  'object_label': 'atmosphere',\n",
      "  'object_source': None,\n",
      "  'predicate_id': 'rdfs:label',\n",
      "  'subject_end': 172,\n",
      "  'subject_label': None,\n",
      "  'subject_source': None,\n",
      "  'subject_start': 163,\n",
      "  'subject_text_id': None},\n",
      " {'confidence': None,\n",
      "  'info': None,\n",
      "  'is_contained': False,\n",
      "  'is_longest_match': None,\n",
      "  'match_string': 'large',\n",
      "  'match_type': None,\n",
      "  'matches_whole_text': False,\n",
      "  'object_aliases': [],\n",
      "  'object_categories': [],\n",
      "  'object_id': 'PATO:0000586',\n",
      "  'object_label': 'large',\n",
      "  'object_source': None,\n",
      "  'predicate_id': 'oio:hasRelatedSynonym',\n",
      "  'subject_end': 209,\n",
      "  'subject_label': None,\n",
      "  'subject_source': None,\n",
      "  'subject_start': 205,\n",
      "  'subject_text_id': None},\n",
      " {'confidence': None,\n",
      "  'info': None,\n",
      "  'is_contained': False,\n",
      "  'is_longest_match': None,\n",
      "  'match_string': 'regulated by',\n",
      "  'match_type': None,\n",
      "  'matches_whole_text': False,\n",
      "  'object_aliases': [],\n",
      "  'object_categories': [],\n",
      "  'object_id': 'RO:0002334',\n",
      "  'object_label': 'regulated by',\n",
      "  'object_source': None,\n",
      "  'predicate_id': 'rdfs:label',\n",
      "  'subject_end': 293,\n",
      "  'subject_label': None,\n",
      "  'subject_source': None,\n",
      "  'subject_start': 282,\n",
      "  'subject_text_id': None},\n",
      " {'confidence': None,\n",
      "  'info': None,\n",
      "  'is_contained': False,\n",
      "  'is_longest_match': None,\n",
      "  'match_string': 'soil structure',\n",
      "  'match_type': None,\n",
      "  'matches_whole_text': False,\n",
      "  'object_aliases': [],\n",
      "  'object_categories': [],\n",
      "  'object_id': 'ENVO:09200009',\n",
      "  'object_label': 'soil structure',\n",
      "  'object_source': None,\n",
      "  'predicate_id': 'oio:hasExactSynonym',\n",
      "  'subject_end': 359,\n",
      "  'subject_label': None,\n",
      "  'subject_source': None,\n",
      "  'subject_start': 346,\n",
      "  'subject_text_id': None},\n",
      " {'confidence': None,\n",
      "  'info': None,\n",
      "  'is_contained': False,\n",
      "  'is_longest_match': None,\n",
      "  'match_string': 'distribution',\n",
      "  'match_type': None,\n",
      "  'matches_whole_text': False,\n",
      "  'object_aliases': [],\n",
      "  'object_categories': [],\n",
      "  'object_id': 'PATO:0000060',\n",
      "  'object_label': 'distribution',\n",
      "  'object_source': None,\n",
      "  'predicate_id': 'oio:hasExactSynonym',\n",
      "  'subject_end': 382,\n",
      "  'subject_label': None,\n",
      "  'subject_source': None,\n",
      "  'subject_start': 371,\n",
      "  'subject_text_id': None},\n",
      " {'confidence': None,\n",
      "  'info': None,\n",
      "  'is_contained': False,\n",
      "  'is_longest_match': None,\n",
      "  'match_string': 'temperature',\n",
      "  'match_type': None,\n",
      "  'matches_whole_text': False,\n",
      "  'object_aliases': [],\n",
      "  'object_categories': [],\n",
      "  'object_id': 'PATO:0000146',\n",
      "  'object_label': 'temperature',\n",
      "  'object_source': None,\n",
      "  'predicate_id': 'rdfs:label',\n",
      "  'subject_end': 395,\n",
      "  'subject_label': None,\n",
      "  'subject_source': None,\n",
      "  'subject_start': 385,\n",
      "  'subject_text_id': None},\n",
      " {'confidence': None,\n",
      "  'info': None,\n",
      "  'is_contained': False,\n",
      "  'is_longest_match': None,\n",
      "  'match_string': 'nutrient',\n",
      "  'match_type': None,\n",
      "  'matches_whole_text': False,\n",
      "  'object_aliases': [],\n",
      "  'object_categories': [],\n",
      "  'object_id': 'CHEBI:33284',\n",
      "  'object_label': 'nutrient',\n",
      "  'object_source': None,\n",
      "  'predicate_id': 'rdfs:label',\n",
      "  'subject_end': 413,\n",
      "  'subject_label': None,\n",
      "  'subject_source': None,\n",
      "  'subject_start': 406,\n",
      "  'subject_text_id': None},\n",
      " {'confidence': None,\n",
      "  'info': None,\n",
      "  'is_contained': False,\n",
      "  'is_longest_match': None,\n",
      "  'match_string': 'rate',\n",
      "  'match_type': None,\n",
      "  'matches_whole_text': False,\n",
      "  'object_aliases': [],\n",
      "  'object_categories': [],\n",
      "  'object_id': 'PATO:0000161',\n",
      "  'object_label': 'rate',\n",
      "  'object_source': None,\n",
      "  'predicate_id': 'rdfs:label',\n",
      "  'subject_end': 500,\n",
      "  'subject_label': None,\n",
      "  'subject_source': None,\n",
      "  'subject_start': 497,\n",
      "  'subject_text_id': None},\n",
      " {'confidence': None,\n",
      "  'info': None,\n",
      "  'is_contained': False,\n",
      "  'is_longest_match': None,\n",
      "  'match_string': 'drive',\n",
      "  'match_type': None,\n",
      "  'matches_whole_text': False,\n",
      "  'object_aliases': [],\n",
      "  'object_categories': [],\n",
      "  'object_id': 'ENVO:00000064',\n",
      "  'object_label': 'drive',\n",
      "  'object_source': None,\n",
      "  'predicate_id': 'oio:hasNarrowSynonym',\n",
      "  'subject_end': 584,\n",
      "  'subject_label': None,\n",
      "  'subject_source': None,\n",
      "  'subject_start': 580,\n",
      "  'subject_text_id': None},\n",
      " {'confidence': None,\n",
      "  'info': None,\n",
      "  'is_contained': False,\n",
      "  'is_longest_match': None,\n",
      "  'match_string': 'molecula',\n",
      "  'match_type': None,\n",
      "  'matches_whole_text': False,\n",
      "  'object_aliases': [],\n",
      "  'object_categories': [],\n",
      "  'object_id': 'CHEBI:25367',\n",
      "  'object_label': 'molecula',\n",
      "  'object_source': None,\n",
      "  'predicate_id': 'oio:hasRelatedSynonym',\n",
      "  'subject_end': 621,\n",
      "  'subject_label': None,\n",
      "  'subject_source': None,\n",
      "  'subject_start': 614,\n",
      "  'subject_text_id': None},\n",
      " {'confidence': None,\n",
      "  'info': None,\n",
      "  'is_contained': False,\n",
      "  'is_longest_match': None,\n",
      "  'match_string': 'well',\n",
      "  'match_type': None,\n",
      "  'matches_whole_text': False,\n",
      "  'object_aliases': [],\n",
      "  'object_categories': [],\n",
      "  'object_id': 'ENVO:00000026',\n",
      "  'object_label': 'well',\n",
      "  'object_source': None,\n",
      "  'predicate_id': 'rdfs:label',\n",
      "  'subject_end': 657,\n",
      "  'subject_label': None,\n",
      "  'subject_source': None,\n",
      "  'subject_start': 654,\n",
      "  'subject_text_id': None}]\n"
     ]
    }
   ],
   "execution_count": 5
  },
  {
   "metadata": {
    "ExecuteTime": {
     "end_time": "2025-02-26T02:39:33.252788Z",
     "start_time": "2025-02-26T02:39:33.249213Z"
    }
   },
   "cell_type": "code",
   "source": [
    "# Print results\n",
    "pprint.pprint(unique_object_ids)\n"
   ],
   "id": "eab98aa76ebb583c",
   "outputs": [
    {
     "name": "stdout",
     "output_type": "stream",
     "text": [
      "['ENVO:04000008',\n",
      " 'BFO:0000050',\n",
      " 'ENVO:01001110',\n",
      " 'ENVO:01000267',\n",
      " 'PATO:0000586',\n",
      " 'RO:0002334',\n",
      " 'ENVO:09200009',\n",
      " 'PATO:0000060',\n",
      " 'PATO:0000146',\n",
      " 'CHEBI:33284',\n",
      " 'PATO:0000161',\n",
      " 'ENVO:00000064',\n",
      " 'CHEBI:25367',\n",
      " 'ENVO:00000026']\n"
     ]
    }
   ],
   "execution_count": 6
  },
  {
   "metadata": {
    "ExecuteTime": {
     "end_time": "2025-02-26T02:39:33.303853Z",
     "start_time": "2025-02-26T02:39:33.296564Z"
    }
   },
   "cell_type": "code",
   "source": [
    "# Map object IDs to their labels\n",
    "mapped_labels = map_object_ids_to_labels(envo_adapter, unique_object_ids)\n"
   ],
   "id": "80388e9bd7196fda",
   "outputs": [],
   "execution_count": 7
  },
  {
   "metadata": {
    "ExecuteTime": {
     "end_time": "2025-02-26T02:39:33.345868Z",
     "start_time": "2025-02-26T02:39:33.342653Z"
    }
   },
   "cell_type": "code",
   "source": "pprint.pprint(mapped_labels)",
   "id": "13d09519a6a4b619",
   "outputs": [
    {
     "name": "stdout",
     "output_type": "stream",
     "text": [
      "[{'label': 'soil organic matter', 'object_id': 'ENVO:04000008'},\n",
      " {'label': 'part of', 'object_id': 'BFO:0000050'},\n",
      " {'label': 'ecosystem', 'object_id': 'ENVO:01001110'},\n",
      " {'label': 'atmosphere', 'object_id': 'ENVO:01000267'},\n",
      " {'label': 'increased size', 'object_id': 'PATO:0000586'},\n",
      " {'label': 'regulated by', 'object_id': 'RO:0002334'},\n",
      " {'label': 'structure of soil', 'object_id': 'ENVO:09200009'},\n",
      " {'label': 'spatial pattern', 'object_id': 'PATO:0000060'},\n",
      " {'label': 'temperature', 'object_id': 'PATO:0000146'},\n",
      " {'label': 'nutrient', 'object_id': 'CHEBI:33284'},\n",
      " {'label': 'rate', 'object_id': 'PATO:0000161'},\n",
      " {'label': 'road', 'object_id': 'ENVO:00000064'},\n",
      " {'label': 'molecule', 'object_id': 'CHEBI:25367'},\n",
      " {'label': 'well', 'object_id': 'ENVO:00000026'}]\n"
     ]
    }
   ],
   "execution_count": 8
  },
  {
   "metadata": {
    "ExecuteTime": {
     "end_time": "2025-02-26T02:39:33.394869Z",
     "start_time": "2025-02-26T02:39:33.391403Z"
    }
   },
   "cell_type": "code",
   "source": "pprint.pprint(unaccounted_predicates)",
   "id": "a15cc88eb28dea0c",
   "outputs": [
    {
     "name": "stdout",
     "output_type": "stream",
     "text": [
      "[]\n"
     ]
    }
   ],
   "execution_count": 9
  },
  {
   "metadata": {
    "ExecuteTime": {
     "end_time": "2025-02-26T02:39:33.443528Z",
     "start_time": "2025-02-26T02:39:33.440237Z"
    }
   },
   "cell_type": "code",
   "source": "pprint.pprint(unaccounted_namespaces)",
   "id": "3a049c54599563d0",
   "outputs": [
    {
     "name": "stdout",
     "output_type": "stream",
     "text": [
      "[]\n"
     ]
    }
   ],
   "execution_count": 10
  },
  {
   "metadata": {
    "ExecuteTime": {
     "end_time": "2025-02-26T02:39:33.490864Z",
     "start_time": "2025-02-26T02:39:33.488187Z"
    }
   },
   "cell_type": "code",
   "source": "object_id = \"ENVO:00000064\"  # Object ID for \"road\"",
   "id": "f147914625578389",
   "outputs": [],
   "execution_count": 11
  },
  {
   "metadata": {
    "ExecuteTime": {
     "end_time": "2025-02-26T02:39:33.551553Z",
     "start_time": "2025-02-26T02:39:33.540751Z"
    }
   },
   "cell_type": "code",
   "source": "span_details = get_annotation_span_from_processed_annotations(filtered_annotations, object_id)",
   "id": "9d03dfb195e53b77",
   "outputs": [],
   "execution_count": 12
  },
  {
   "metadata": {
    "ExecuteTime": {
     "end_time": "2025-02-26T02:39:33.602159Z",
     "start_time": "2025-02-26T02:39:33.598138Z"
    }
   },
   "cell_type": "code",
   "source": [
    "if span_details:\n",
    "    print(f\"Span details for object ID {object_id}:\")\n",
    "    pprint.pprint(span_details)\n",
    "else:\n",
    "    print(f\"Object ID {object_id} not found in the annotations.\")\n"
   ],
   "id": "f93b61c6547e524b",
   "outputs": [
    {
     "name": "stdout",
     "output_type": "stream",
     "text": [
      "Span details for object ID ENVO:00000064:\n",
      "{'object_id': 'ENVO:00000064',\n",
      " 'span_text': 'drive',\n",
      " 'subject_end': 584,\n",
      " 'subject_start': 580}\n"
     ]
    }
   ],
   "execution_count": 13
  },
  {
   "metadata": {
    "ExecuteTime": {
     "end_time": "2025-02-26T02:39:33.658395Z",
     "start_time": "2025-02-26T02:39:33.647250Z"
    }
   },
   "cell_type": "code",
   "source": [
    "# Example DataFrame\n",
    "data = {\n",
    "    \"id\": [1, 2],\n",
    "    \"text\": [\n",
    "        \"Soil organic matter is critical for the carbon cycle.\",\n",
    "        \"Temperature and moisture affect decomposition rates.\"\n",
    "    ]\n",
    "}\n",
    "df = pd.DataFrame(data)\n",
    "\n",
    "ranked_predicates = [\"rdfs:label\", \"oio:hasExactSynonym\", \"oio:hasRelatedSynonym\"]\n",
    "ranked_namespaces = [\"ENVO\", \"CHEBI\", \"PATO\"]\n",
    "\n",
    "# Apply the processing to the 'text' column\n",
    "df[\"unique_object_ids\"] = df[\"text\"].apply(\n",
    "    lambda text: process_annotations(\n",
    "        adapter=envo_adapter,\n",
    "        text=text,\n",
    "        ranked_predicates=ranked_predicates,\n",
    "        ranked_namespaces=ranked_namespaces,\n",
    "        min_span_length=3\n",
    "    )[1]  # Extract only the list of unique object IDs\n",
    ")\n",
    "\n",
    "# You can inspect unaccounted_predicates or unaccounted_namespaces separately if needed by modifying the [0]\n",
    "# filtered_annotations, unique_object_ids, unaccounted_predicates, unaccounted_namespaces"
   ],
   "id": "8525484efb62790f",
   "outputs": [],
   "execution_count": 14
  },
  {
   "metadata": {
    "ExecuteTime": {
     "end_time": "2025-02-26T02:39:33.721153Z",
     "start_time": "2025-02-26T02:39:33.703827Z"
    }
   },
   "cell_type": "code",
   "source": "df",
   "id": "3c6f84d58366bbe9",
   "outputs": [
    {
     "data": {
      "text/plain": [
       "   id                                               text  \\\n",
       "0   1  Soil organic matter is critical for the carbon...   \n",
       "1   2  Temperature and moisture affect decomposition ...   \n",
       "\n",
       "                unique_object_ids  \n",
       "0  [ENVO:04000008, ENVO:02500010]  \n",
       "1    [PATO:0000146, PATO:0000161]  "
      ],
      "text/html": [
       "<div>\n",
       "<style scoped>\n",
       "    .dataframe tbody tr th:only-of-type {\n",
       "        vertical-align: middle;\n",
       "    }\n",
       "\n",
       "    .dataframe tbody tr th {\n",
       "        vertical-align: top;\n",
       "    }\n",
       "\n",
       "    .dataframe thead th {\n",
       "        text-align: right;\n",
       "    }\n",
       "</style>\n",
       "<table border=\"1\" class=\"dataframe\">\n",
       "  <thead>\n",
       "    <tr style=\"text-align: right;\">\n",
       "      <th></th>\n",
       "      <th>id</th>\n",
       "      <th>text</th>\n",
       "      <th>unique_object_ids</th>\n",
       "    </tr>\n",
       "  </thead>\n",
       "  <tbody>\n",
       "    <tr>\n",
       "      <th>0</th>\n",
       "      <td>1</td>\n",
       "      <td>Soil organic matter is critical for the carbon...</td>\n",
       "      <td>[ENVO:04000008, ENVO:02500010]</td>\n",
       "    </tr>\n",
       "    <tr>\n",
       "      <th>1</th>\n",
       "      <td>2</td>\n",
       "      <td>Temperature and moisture affect decomposition ...</td>\n",
       "      <td>[PATO:0000146, PATO:0000161]</td>\n",
       "    </tr>\n",
       "  </tbody>\n",
       "</table>\n",
       "</div>"
      ]
     },
     "execution_count": 15,
     "metadata": {},
     "output_type": "execute_result"
    }
   ],
   "execution_count": 15
  }
 ],
 "metadata": {
  "kernelspec": {
   "display_name": "Python 3",
   "language": "python",
   "name": "python3"
  },
  "language_info": {
   "codemirror_mode": {
    "name": "ipython",
    "version": 2
   },
   "file_extension": ".py",
   "mimetype": "text/x-python",
   "name": "python",
   "nbconvert_exporter": "python",
   "pygments_lexer": "ipython2",
   "version": "2.7.6"
  }
 },
 "nbformat": 4,
 "nbformat_minor": 5
}
