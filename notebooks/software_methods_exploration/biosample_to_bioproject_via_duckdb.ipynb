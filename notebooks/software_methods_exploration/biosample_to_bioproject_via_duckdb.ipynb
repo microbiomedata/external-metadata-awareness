{
 "cells": [
  {
   "metadata": {
    "ExecuteTime": {
     "end_time": "2025-02-26T02:30:42.160048Z",
     "start_time": "2025-02-26T02:30:41.766815Z"
    }
   },
   "cell_type": "code",
   "source": [
    "import duckdb\n",
    "import pandas as pd"
   ],
   "id": "6e9ed94b37e4a7",
   "outputs": [],
   "execution_count": 1
  },
  {
   "metadata": {
    "ExecuteTime": {
     "end_time": "2025-02-26T02:30:42.235792Z",
     "start_time": "2025-02-26T02:30:42.163541Z"
    }
   },
   "cell_type": "code",
   "source": [
    "# this repo has used a couple of different generations of NCBI BIosample DuckDBs\n",
    "# in newer generations, tables don't have plural names, so the query below would be changed to \"from main.link\"\n",
    "\n",
    "conn = duckdb.connect('../../local/ncbi_biosamples.duckdb')"
   ],
   "id": "19e87b58883cbaa",
   "outputs": [],
   "execution_count": 2
  },
  {
   "metadata": {
    "ExecuteTime": {
     "end_time": "2025-02-26T02:30:42.360658Z",
     "start_time": "2025-02-26T02:30:42.357945Z"
    }
   },
   "cell_type": "code",
   "source": [
    "query = \"\"\"\n",
    "select\n",
    "\ttarget,\n",
    "\tcount(1)\n",
    "from\n",
    "\tmain.link\n",
    "group by\n",
    "\ttarget\n",
    "order by\n",
    "\ttarget; -- 19,594,558 bioproject links\n",
    "\"\"\""
   ],
   "id": "e0ced1f658eeb952",
   "outputs": [],
   "execution_count": 3
  },
  {
   "metadata": {
    "ExecuteTime": {
     "end_time": "2025-02-26T02:30:42.467571Z",
     "start_time": "2025-02-26T02:30:42.406145Z"
    }
   },
   "cell_type": "code",
   "source": "df = conn.execute(query).fetchdf()",
   "id": "e21efa83cb4ec23d",
   "outputs": [],
   "execution_count": 4
  },
  {
   "metadata": {
    "ExecuteTime": {
     "end_time": "2025-02-26T02:30:42.489401Z",
     "start_time": "2025-02-26T02:30:42.477742Z"
    }
   },
   "cell_type": "code",
   "source": "df",
   "id": "fb67aa982c525cb7",
   "outputs": [
    {
     "data": {
      "text/plain": [
       "          target  count(1)\n",
       "0   GoldStamp Id         1\n",
       "1         PUBMED        16\n",
       "2         PubMed         6\n",
       "3     bioproject  20825422\n",
       "4      biosample       519\n",
       "5            gds        62\n",
       "6         genome         1\n",
       "7        nuccore        57\n",
       "8           omim      9901\n",
       "9    publication         1\n",
       "10        pubmed     35904\n",
       "11          None   5091314"
      ],
      "text/html": [
       "<div>\n",
       "<style scoped>\n",
       "    .dataframe tbody tr th:only-of-type {\n",
       "        vertical-align: middle;\n",
       "    }\n",
       "\n",
       "    .dataframe tbody tr th {\n",
       "        vertical-align: top;\n",
       "    }\n",
       "\n",
       "    .dataframe thead th {\n",
       "        text-align: right;\n",
       "    }\n",
       "</style>\n",
       "<table border=\"1\" class=\"dataframe\">\n",
       "  <thead>\n",
       "    <tr style=\"text-align: right;\">\n",
       "      <th></th>\n",
       "      <th>target</th>\n",
       "      <th>count(1)</th>\n",
       "    </tr>\n",
       "  </thead>\n",
       "  <tbody>\n",
       "    <tr>\n",
       "      <th>0</th>\n",
       "      <td>GoldStamp Id</td>\n",
       "      <td>1</td>\n",
       "    </tr>\n",
       "    <tr>\n",
       "      <th>1</th>\n",
       "      <td>PUBMED</td>\n",
       "      <td>16</td>\n",
       "    </tr>\n",
       "    <tr>\n",
       "      <th>2</th>\n",
       "      <td>PubMed</td>\n",
       "      <td>6</td>\n",
       "    </tr>\n",
       "    <tr>\n",
       "      <th>3</th>\n",
       "      <td>bioproject</td>\n",
       "      <td>20825422</td>\n",
       "    </tr>\n",
       "    <tr>\n",
       "      <th>4</th>\n",
       "      <td>biosample</td>\n",
       "      <td>519</td>\n",
       "    </tr>\n",
       "    <tr>\n",
       "      <th>5</th>\n",
       "      <td>gds</td>\n",
       "      <td>62</td>\n",
       "    </tr>\n",
       "    <tr>\n",
       "      <th>6</th>\n",
       "      <td>genome</td>\n",
       "      <td>1</td>\n",
       "    </tr>\n",
       "    <tr>\n",
       "      <th>7</th>\n",
       "      <td>nuccore</td>\n",
       "      <td>57</td>\n",
       "    </tr>\n",
       "    <tr>\n",
       "      <th>8</th>\n",
       "      <td>omim</td>\n",
       "      <td>9901</td>\n",
       "    </tr>\n",
       "    <tr>\n",
       "      <th>9</th>\n",
       "      <td>publication</td>\n",
       "      <td>1</td>\n",
       "    </tr>\n",
       "    <tr>\n",
       "      <th>10</th>\n",
       "      <td>pubmed</td>\n",
       "      <td>35904</td>\n",
       "    </tr>\n",
       "    <tr>\n",
       "      <th>11</th>\n",
       "      <td>None</td>\n",
       "      <td>5091314</td>\n",
       "    </tr>\n",
       "  </tbody>\n",
       "</table>\n",
       "</div>"
      ]
     },
     "execution_count": 5,
     "metadata": {},
     "output_type": "execute_result"
    }
   ],
   "execution_count": 5
  },
  {
   "metadata": {
    "ExecuteTime": {
     "end_time": "2025-02-26T02:30:42.559268Z",
     "start_time": "2025-02-26T02:30:42.556945Z"
    }
   },
   "cell_type": "code",
   "source": [
    "query = \"\"\"\n",
    "select accession, label\n",
    "from\n",
    "\tmain.link l\n",
    "join main.biosample b\n",
    "on b.id = l.id\n",
    "where label is not NULL\n",
    "and target = 'bioproject'\n",
    "\"\"\"\n"
   ],
   "id": "43695665c1a6f784",
   "outputs": [],
   "execution_count": 6
  },
  {
   "metadata": {
    "ExecuteTime": {
     "end_time": "2025-02-26T02:30:47.734317Z",
     "start_time": "2025-02-26T02:30:42.598820Z"
    }
   },
   "cell_type": "code",
   "source": "df = conn.execute(query).fetchdf()",
   "id": "c71569beaeab829",
   "outputs": [
    {
     "data": {
      "text/plain": [
       "FloatProgress(value=0.0, layout=Layout(width='auto'), style=ProgressStyle(bar_color='black'))"
      ],
      "application/vnd.jupyter.widget-view+json": {
       "version_major": 2,
       "version_minor": 0,
       "model_id": "7c03610520764b49b409f320fb7dd56b"
      }
     },
     "metadata": {},
     "output_type": "display_data"
    }
   ],
   "execution_count": 7
  },
  {
   "metadata": {
    "ExecuteTime": {
     "end_time": "2025-02-26T02:30:47.778252Z",
     "start_time": "2025-02-26T02:30:47.772171Z"
    }
   },
   "cell_type": "code",
   "source": "df",
   "id": "5b8ae8b1a80067e5",
   "outputs": [
    {
     "data": {
      "text/plain": [
       "             accession        label\n",
       "0         SAMN01047717  PRJNA168296\n",
       "1         SAMN01047718  PRJNA168296\n",
       "2         SAMN01047719  PRJNA168296\n",
       "3         SAMN01047720  PRJNA168296\n",
       "4         SAMN01047721  PRJNA168296\n",
       "...                ...          ...\n",
       "20807482  SAMD00553578   PRJDB14668\n",
       "20807483  SAMD00553580   PRJDB14668\n",
       "20807484  SAMD00553582   PRJDB14668\n",
       "20807485  SAMD00553584   PRJDB14668\n",
       "20807486  SAMD00553586   PRJDB14668\n",
       "\n",
       "[20807487 rows x 2 columns]"
      ],
      "text/html": [
       "<div>\n",
       "<style scoped>\n",
       "    .dataframe tbody tr th:only-of-type {\n",
       "        vertical-align: middle;\n",
       "    }\n",
       "\n",
       "    .dataframe tbody tr th {\n",
       "        vertical-align: top;\n",
       "    }\n",
       "\n",
       "    .dataframe thead th {\n",
       "        text-align: right;\n",
       "    }\n",
       "</style>\n",
       "<table border=\"1\" class=\"dataframe\">\n",
       "  <thead>\n",
       "    <tr style=\"text-align: right;\">\n",
       "      <th></th>\n",
       "      <th>accession</th>\n",
       "      <th>label</th>\n",
       "    </tr>\n",
       "  </thead>\n",
       "  <tbody>\n",
       "    <tr>\n",
       "      <th>0</th>\n",
       "      <td>SAMN01047717</td>\n",
       "      <td>PRJNA168296</td>\n",
       "    </tr>\n",
       "    <tr>\n",
       "      <th>1</th>\n",
       "      <td>SAMN01047718</td>\n",
       "      <td>PRJNA168296</td>\n",
       "    </tr>\n",
       "    <tr>\n",
       "      <th>2</th>\n",
       "      <td>SAMN01047719</td>\n",
       "      <td>PRJNA168296</td>\n",
       "    </tr>\n",
       "    <tr>\n",
       "      <th>3</th>\n",
       "      <td>SAMN01047720</td>\n",
       "      <td>PRJNA168296</td>\n",
       "    </tr>\n",
       "    <tr>\n",
       "      <th>4</th>\n",
       "      <td>SAMN01047721</td>\n",
       "      <td>PRJNA168296</td>\n",
       "    </tr>\n",
       "    <tr>\n",
       "      <th>...</th>\n",
       "      <td>...</td>\n",
       "      <td>...</td>\n",
       "    </tr>\n",
       "    <tr>\n",
       "      <th>20807482</th>\n",
       "      <td>SAMD00553578</td>\n",
       "      <td>PRJDB14668</td>\n",
       "    </tr>\n",
       "    <tr>\n",
       "      <th>20807483</th>\n",
       "      <td>SAMD00553580</td>\n",
       "      <td>PRJDB14668</td>\n",
       "    </tr>\n",
       "    <tr>\n",
       "      <th>20807484</th>\n",
       "      <td>SAMD00553582</td>\n",
       "      <td>PRJDB14668</td>\n",
       "    </tr>\n",
       "    <tr>\n",
       "      <th>20807485</th>\n",
       "      <td>SAMD00553584</td>\n",
       "      <td>PRJDB14668</td>\n",
       "    </tr>\n",
       "    <tr>\n",
       "      <th>20807486</th>\n",
       "      <td>SAMD00553586</td>\n",
       "      <td>PRJDB14668</td>\n",
       "    </tr>\n",
       "  </tbody>\n",
       "</table>\n",
       "<p>20807487 rows × 2 columns</p>\n",
       "</div>"
      ]
     },
     "execution_count": 8,
     "metadata": {},
     "output_type": "execute_result"
    }
   ],
   "execution_count": 8
  },
  {
   "metadata": {
    "ExecuteTime": {
     "end_time": "2025-02-26T02:30:47.889009Z",
     "start_time": "2025-02-26T02:30:47.804049Z"
    }
   },
   "cell_type": "code",
   "source": "conn.close()",
   "id": "b97d591b8dc04baa",
   "outputs": [],
   "execution_count": 9
  }
 ],
 "metadata": {
  "kernelspec": {
   "display_name": "Python 3",
   "language": "python",
   "name": "python3"
  },
  "language_info": {
   "codemirror_mode": {
    "name": "ipython",
    "version": 2
   },
   "file_extension": ".py",
   "mimetype": "text/x-python",
   "name": "python",
   "nbconvert_exporter": "python",
   "pygments_lexer": "ipython2",
   "version": "2.7.6"
  }
 },
 "nbformat": 4,
 "nbformat_minor": 5
}
