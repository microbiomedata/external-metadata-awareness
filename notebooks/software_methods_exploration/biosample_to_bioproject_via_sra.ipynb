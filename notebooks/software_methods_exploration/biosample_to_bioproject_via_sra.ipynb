{
 "cells": [
  {
   "metadata": {
    "ExecuteTime": {
     "end_time": "2025-02-26T04:12:34.989079Z",
     "start_time": "2025-02-26T04:12:34.327917Z"
    }
   },
   "cell_type": "code",
   "source": "from google.cloud import bigquery",
   "id": "736888ff1eed86a1",
   "outputs": [],
   "execution_count": 1
  },
  {
   "metadata": {
    "ExecuteTime": {
     "end_time": "2025-02-26T04:12:35.457517Z",
     "start_time": "2025-02-26T04:12:34.992750Z"
    }
   },
   "cell_type": "code",
   "source": [
    "# Construct a BigQuery client object.\n",
    "\n",
    "client = bigquery.Client(project=\"nmdc-377118\")"
   ],
   "id": "bf58f18934e40f3e",
   "outputs": [
    {
     "name": "stderr",
     "output_type": "stream",
     "text": [
      "/home/mark/gitrepos/external-metadata-awareness/.venv/lib/python3.11/site-packages/google/auth/_default.py:76: UserWarning: Your application has authenticated using end user credentials from Google Cloud SDK without a quota project. You might receive a \"quota exceeded\" or \"API not enabled\" error. See the following page for troubleshooting: https://cloud.google.com/docs/authentication/adc-troubleshooting/user-creds. \n",
      "  warnings.warn(_CLOUD_SDK_CREDENTIALS_WARNING)\n"
     ]
    }
   ],
   "execution_count": 2
  },
  {
   "metadata": {},
   "cell_type": "markdown",
   "source": [
    "I have just been living with this working because I don't want to switch my google auth on my personal computer to my LBL account\n",
    "\n",
    "```\n",
    "/home/mark/gitrepos/external-metadata-awareness/.venv/lib/python3.11/site-packages/google/auth/_default.py:76: UserWarning: Your application has authenticated using end user credentials from Google Cloud SDK without a quota project. You might receive a \"quota exceeded\" or \"API not enabled\" error. See the following page for troubleshooting: https://cloud.google.com/docs/authentication/adc-troubleshooting/user-creds.\n",
    "  warnings.warn(_CLOUD_SDK_CREDENTIALS_WARNING)\n",
    "```"
   ],
   "id": "694c2b4b1dd8efac"
  },
  {
   "metadata": {
    "ExecuteTime": {
     "end_time": "2025-02-26T04:12:38.422057Z",
     "start_time": "2025-02-26T04:12:35.635803Z"
    }
   },
   "cell_type": "code",
   "source": [
    "query = \"\"\"\n",
    "SELECT\n",
    "    COUNT(*) as bs_bp_pairs_count\n",
    "  FROM (\n",
    "    SELECT\n",
    "        DISTINCT biosample,\n",
    "        bioproject\n",
    "      FROM\n",
    "        `nih-sra-datastore.sra.metadata`\n",
    "  )\n",
    "\"\"\"\n",
    "\n",
    "query_job = client.query(query)\n",
    "\n",
    "df = query_job.to_dataframe() "
   ],
   "id": "d17c687861b16c3a",
   "outputs": [],
   "execution_count": 3
  },
  {
   "metadata": {
    "ExecuteTime": {
     "end_time": "2025-02-26T04:12:38.447297Z",
     "start_time": "2025-02-26T04:12:38.435193Z"
    }
   },
   "cell_type": "code",
   "source": "df",
   "id": "ca3f0cab63583a83",
   "outputs": [
    {
     "data": {
      "text/plain": [
       "   bs_bp_pairs_count\n",
       "0           29461109"
      ],
      "text/html": [
       "<div>\n",
       "<style scoped>\n",
       "    .dataframe tbody tr th:only-of-type {\n",
       "        vertical-align: middle;\n",
       "    }\n",
       "\n",
       "    .dataframe tbody tr th {\n",
       "        vertical-align: top;\n",
       "    }\n",
       "\n",
       "    .dataframe thead th {\n",
       "        text-align: right;\n",
       "    }\n",
       "</style>\n",
       "<table border=\"1\" class=\"dataframe\">\n",
       "  <thead>\n",
       "    <tr style=\"text-align: right;\">\n",
       "      <th></th>\n",
       "      <th>bs_bp_pairs_count</th>\n",
       "    </tr>\n",
       "  </thead>\n",
       "  <tbody>\n",
       "    <tr>\n",
       "      <th>0</th>\n",
       "      <td>29461109</td>\n",
       "    </tr>\n",
       "  </tbody>\n",
       "</table>\n",
       "</div>"
      ]
     },
     "execution_count": 4,
     "metadata": {},
     "output_type": "execute_result"
    }
   ],
   "execution_count": 4
  },
  {
   "metadata": {},
   "cell_type": "markdown",
   "source": "~ 30,000,000",
   "id": "50201ba3a831e1a2"
  },
  {
   "metadata": {},
   "cell_type": "markdown",
   "source": "Retrieving them locally takes a while and requires paging",
   "id": "c45643d3fb254dd"
  }
 ],
 "metadata": {
  "kernelspec": {
   "display_name": "Python 3",
   "language": "python",
   "name": "python3"
  },
  "language_info": {
   "codemirror_mode": {
    "name": "ipython",
    "version": 2
   },
   "file_extension": ".py",
   "mimetype": "text/x-python",
   "name": "python",
   "nbconvert_exporter": "python",
   "pygments_lexer": "ipython2",
   "version": "2.7.6"
  }
 },
 "nbformat": 4,
 "nbformat_minor": 5
}
