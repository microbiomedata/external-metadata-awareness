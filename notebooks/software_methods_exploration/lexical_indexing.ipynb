{
 "cells": [
  {
   "cell_type": "code",
   "id": "initial_id",
   "metadata": {
    "collapsed": true,
    "ExecuteTime": {
     "end_time": "2025-02-26T02:33:53.295466Z",
     "start_time": "2025-02-26T02:33:50.385579Z"
    }
   },
   "source": [
    "import sys\n",
    "import os\n",
    "from oaklib.selector import get_resource_from_shorthand\n",
    "from oaklib.utilities.mapping.sssom_utils import StreamingSssomWriter\n",
    "from oaklib.cli import lexmatch\n",
    "from oaklib import get_adapter\n",
    "from oaklib.utilities.lexical.lexical_indexer import create_lexical_index, save_lexical_index, load_lexical_index\n",
    "from oaklib.interfaces.text_annotator_interface import TextAnnotatorInterface\n",
    "import warnings"
   ],
   "outputs": [],
   "execution_count": 1
  },
  {
   "metadata": {
    "ExecuteTime": {
     "end_time": "2025-02-26T02:33:53.302106Z",
     "start_time": "2025-02-26T02:33:53.299398Z"
    }
   },
   "cell_type": "code",
   "source": "envo_adapter_string = \"sqlite:obo:envo\"",
   "id": "4ac0fb44de4886da",
   "outputs": [],
   "execution_count": 2
  },
  {
   "metadata": {
    "ExecuteTime": {
     "end_time": "2025-02-26T02:33:53.361043Z",
     "start_time": "2025-02-26T02:33:53.358483Z"
    }
   },
   "cell_type": "code",
   "source": "lexical_index_yaml = \"envo_lexical_index.yaml\"",
   "id": "d1e4c901a6e4bf37",
   "outputs": [],
   "execution_count": 3
  },
  {
   "metadata": {
    "ExecuteTime": {
     "end_time": "2025-02-26T02:33:53.441839Z",
     "start_time": "2025-02-26T02:33:53.407519Z"
    }
   },
   "cell_type": "code",
   "source": "envo_adapter = get_adapter(envo_adapter_string)",
   "id": "9d2c5bb849241ee7",
   "outputs": [],
   "execution_count": 4
  },
  {
   "metadata": {
    "ExecuteTime": {
     "end_time": "2025-02-26T02:33:53.488736Z",
     "start_time": "2025-02-26T02:33:53.459562Z"
    }
   },
   "cell_type": "code",
   "source": "envo_adapter.label('ENVO:01000813')",
   "id": "e8eee2887ec17ae4",
   "outputs": [
    {
     "data": {
      "text/plain": [
       "'astronomical body part'"
      ]
     },
     "execution_count": 5,
     "metadata": {},
     "output_type": "execute_result"
    }
   ],
   "execution_count": 5
  },
  {
   "metadata": {
    "ExecuteTime": {
     "end_time": "2025-02-26T02:34:02.673341Z",
     "start_time": "2025-02-26T02:33:53.579651Z"
    }
   },
   "cell_type": "code",
   "source": "ix = create_lexical_index(envo_adapter)",
   "id": "d624ba82a5e59ac8",
   "outputs": [
    {
     "name": "stderr",
     "output_type": "stream",
     "text": [
      "ERROR:root:Skipping statements(subject=ENVO:01001644,predicate=oio:hasDbXref,object=None,value=Carbonate which is formed as the result of some biological process.,datatype=None,language=None,); ValueError: Carbonate which is formed as the result of some biological process. is not a valid URI or CURIE\n",
      "WARNING:root:Skipping <http://geneontology.org/foo/applies-pattern> as it is not a valid CURIE\n",
      "WARNING:root:Skipping <http://schema.org/image> as it is not a valid CURIE\n",
      "WARNING:root:Skipping <http://swrl.stanford.edu/ontologies/3.3/swrla.owl#isRuleEnabled> as it is not a valid CURIE\n",
      "WARNING:root:Skipping <https://www.wikidata.org/wiki/Q2306597> as it is not a valid CURIE\n",
      "WARNING:root:Skipping <https://www.wikidata.org/wiki/Q2> as it is not a valid CURIE\n",
      "WARNING:root:Skipping <https://www.wikidata.org/wiki/Q525> as it is not a valid CURIE\n",
      "WARNING:root:Skipping <https://www.wikidata.org/wiki/Q715269> as it is not a valid CURIE\n"
     ]
    }
   ],
   "execution_count": 6
  },
  {
   "metadata": {
    "ExecuteTime": {
     "end_time": "2025-02-26T02:34:10.068576Z",
     "start_time": "2025-02-26T02:34:02.756197Z"
    }
   },
   "cell_type": "code",
   "source": "save_lexical_index(ix, lexical_index_yaml)",
   "id": "9315f64d39c95210",
   "outputs": [],
   "execution_count": 7
  },
  {
   "metadata": {
    "ExecuteTime": {
     "end_time": "2025-02-26T02:34:16.231469Z",
     "start_time": "2025-02-26T02:34:10.146857Z"
    }
   },
   "cell_type": "code",
   "source": "ix2 = load_lexical_index(lexical_index_yaml)",
   "id": "d3facc2adf5b1be6",
   "outputs": [],
   "execution_count": 8
  },
  {
   "metadata": {
    "ExecuteTime": {
     "end_time": "2025-02-26T02:34:16.376086Z",
     "start_time": "2025-02-26T02:34:16.373570Z"
    }
   },
   "cell_type": "code",
   "source": "tai = TextAnnotatorInterface()",
   "id": "8bae1160553d7ff7",
   "outputs": [],
   "execution_count": 9
  },
  {
   "metadata": {
    "ExecuteTime": {
     "end_time": "2025-02-26T02:34:16.520542Z",
     "start_time": "2025-02-26T02:34:16.518216Z"
    }
   },
   "cell_type": "code",
   "source": "tai.lexical_index = ix2",
   "id": "9033c18e6e2cbfb8",
   "outputs": [],
   "execution_count": 10
  },
  {
   "metadata": {
    "ExecuteTime": {
     "end_time": "2025-02-26T02:34:16.668047Z",
     "start_time": "2025-02-26T02:34:16.665519Z"
    }
   },
   "cell_type": "code",
   "source": "annotation_results = tai.annotate_text(\"when i put sand in my food i get an illness in my digestive system\")",
   "id": "51885ffaad18de78",
   "outputs": [],
   "execution_count": 11
  },
  {
   "metadata": {
    "ExecuteTime": {
     "end_time": "2025-02-26T02:34:16.819921Z",
     "start_time": "2025-02-26T02:34:16.813262Z"
    }
   },
   "cell_type": "code",
   "source": [
    "for ar in annotation_results:\n",
    "    print(ar)"
   ],
   "id": "99444fcb3cce3b5c",
   "outputs": [
    {
     "name": "stdout",
     "output_type": "stream",
     "text": [
      "TextAnnotation(predicate_id='oio:hasRelatedSynonym', object_id='CHEBI:26833', object_label='S', object_categories=[], object_source=None, confidence=None, match_string='s', is_longest_match=None, matches_whole_text=False, match_type=None, info=None, object_aliases=[], subject_start=12, subject_end=12, subject_label=None, subject_source=None, subject_text_id=None)\n",
      "TextAnnotation(predicate_id='oio:hasRelatedSynonym', object_id='CHEBI:28659', object_label='P', object_categories=[], object_source=None, confidence=None, match_string='p', is_longest_match=None, matches_whole_text=False, match_type=None, info=None, object_aliases=[], subject_start=8, subject_end=8, subject_label=None, subject_source=None, subject_text_id=None)\n",
      "TextAnnotation(predicate_id='rdfs:label', object_id='CHEBI:33290', object_label='food', object_categories=[], object_source=None, confidence=None, match_string='food', is_longest_match=None, matches_whole_text=False, match_type=None, info=None, object_aliases=[], subject_start=23, subject_end=26, subject_label=None, subject_source=None, subject_text_id=None)\n",
      "TextAnnotation(predicate_id='oio:hasExactSynonym', object_id='FOODON:00002403', object_label='food', object_categories=[], object_source=None, confidence=None, match_string='food', is_longest_match=None, matches_whole_text=False, match_type=None, info=None, object_aliases=[], subject_start=23, subject_end=26, subject_label=None, subject_source=None, subject_text_id=None)\n",
      "TextAnnotation(predicate_id='rdfs:label', object_id='ENVO:01000017', object_label='sand', object_categories=[], object_source=None, confidence=None, match_string='sand', is_longest_match=None, matches_whole_text=False, match_type=None, info=None, object_aliases=[], subject_start=12, subject_end=15, subject_label=None, subject_source=None, subject_text_id=None)\n",
      "TextAnnotation(predicate_id='rdfs:label', object_id='RO:0002577', object_label='system', object_categories=[], object_source=None, confidence=None, match_string='system', is_longest_match=None, matches_whole_text=False, match_type=None, info=None, object_aliases=[], subject_start=61, subject_end=66, subject_label=None, subject_source=None, subject_text_id=None)\n",
      "TextAnnotation(predicate_id='oio:hasBroadSynonym', object_id='UBERON:0000467', object_label='system', object_categories=[], object_source=None, confidence=None, match_string='system', is_longest_match=None, matches_whole_text=False, match_type=None, info=None, object_aliases=[], subject_start=61, subject_end=66, subject_label=None, subject_source=None, subject_text_id=None)\n",
      "TextAnnotation(predicate_id='rdfs:label', object_id='UBERON:0001007', object_label='digestive system', object_categories=[], object_source=None, confidence=None, match_string='digestive system', is_longest_match=None, matches_whole_text=False, match_type=None, info=None, object_aliases=[], subject_start=51, subject_end=66, subject_label=None, subject_source=None, subject_text_id=None)\n"
     ]
    }
   ],
   "execution_count": 12
  }
 ],
 "metadata": {
  "kernelspec": {
   "display_name": "Python 3",
   "language": "python",
   "name": "python3"
  },
  "language_info": {
   "codemirror_mode": {
    "name": "ipython",
    "version": 2
   },
   "file_extension": ".py",
   "mimetype": "text/x-python",
   "name": "python",
   "nbconvert_exporter": "python",
   "pygments_lexer": "ipython2",
   "version": "2.7.6"
  }
 },
 "nbformat": 4,
 "nbformat_minor": 5
}
