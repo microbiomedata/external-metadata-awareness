{
 "cells": [
  {
   "metadata": {
    "ExecuteTime": {
     "end_time": "2025-02-26T02:35:26.169830Z",
     "start_time": "2025-02-26T02:35:23.528151Z"
    }
   },
   "cell_type": "code",
   "source": [
    "from oaklib import get_adapter\n",
    "import json"
   ],
   "id": "a0e7e88cf59c0ed9",
   "outputs": [],
   "execution_count": 1
  },
  {
   "metadata": {
    "ExecuteTime": {
     "end_time": "2025-02-26T02:35:26.175751Z",
     "start_time": "2025-02-26T02:35:26.172953Z"
    }
   },
   "cell_type": "code",
   "source": "envo_adapter_string  = \"sqlite:obo:envo\"",
   "id": "e334ae63d17a6813",
   "outputs": [],
   "execution_count": 2
  },
  {
   "metadata": {
    "ExecuteTime": {
     "end_time": "2025-02-26T02:35:26.236943Z",
     "start_time": "2025-02-26T02:35:26.234097Z"
    }
   },
   "cell_type": "code",
   "source": "reflexivity = False",
   "id": "f9bf7208a64409cc",
   "outputs": [],
   "execution_count": 3
  },
  {
   "metadata": {
    "ExecuteTime": {
     "end_time": "2025-02-26T02:35:26.309034Z",
     "start_time": "2025-02-26T02:35:26.281226Z"
    }
   },
   "cell_type": "code",
   "source": "envo_adapter = get_adapter(envo_adapter_string)",
   "id": "initial_id",
   "outputs": [],
   "execution_count": 4
  },
  {
   "metadata": {
    "ExecuteTime": {
     "end_time": "2025-02-26T02:35:26.353984Z",
     "start_time": "2025-02-26T02:35:26.328818Z"
    }
   },
   "cell_type": "code",
   "source": "envo_adapter.label('ENVO:01000813')",
   "id": "2fb64fe45c63720c",
   "outputs": [
    {
     "data": {
      "text/plain": [
       "'astronomical body part'"
      ]
     },
     "execution_count": 5,
     "metadata": {},
     "output_type": "execute_result"
    }
   ],
   "execution_count": 5
  },
  {
   "metadata": {
    "ExecuteTime": {
     "end_time": "2025-02-26T02:35:26.383986Z",
     "start_time": "2025-02-26T02:35:26.379334Z"
    }
   },
   "cell_type": "code",
   "source": "envo_entities_generator = envo_adapter.entities()",
   "id": "68855aacd9535b43",
   "outputs": [],
   "execution_count": 6
  },
  {
   "metadata": {
    "ExecuteTime": {
     "end_time": "2025-02-26T02:35:26.874694Z",
     "start_time": "2025-02-26T02:35:26.427472Z"
    }
   },
   "cell_type": "code",
   "source": "envo_entities = list(envo_entities_generator)",
   "id": "3be4ff8da6eab55d",
   "outputs": [],
   "execution_count": 7
  },
  {
   "metadata": {
    "ExecuteTime": {
     "end_time": "2025-02-26T02:35:26.883972Z",
     "start_time": "2025-02-26T02:35:26.881706Z"
    }
   },
   "cell_type": "code",
   "source": "envo_entities.sort()",
   "id": "dc8b69ea29caae2d",
   "outputs": [],
   "execution_count": 8
  },
  {
   "metadata": {
    "ExecuteTime": {
     "end_time": "2025-02-26T02:35:26.927415Z",
     "start_time": "2025-02-26T02:35:26.924411Z"
    }
   },
   "cell_type": "code",
   "source": "envo_label_cache = {}",
   "id": "2627c1f23b34a5ae",
   "outputs": [],
   "execution_count": 9
  },
  {
   "metadata": {
    "ExecuteTime": {
     "end_time": "2025-02-26T02:35:28.602281Z",
     "start_time": "2025-02-26T02:35:26.971219Z"
    }
   },
   "cell_type": "code",
   "source": [
    "for ee in envo_entities:\n",
    "    envo_label_cache[ee] = envo_adapter.label(ee)\n",
    "    # 3 seconds"
   ],
   "id": "4c2e9c65d0b70edd",
   "outputs": [],
   "execution_count": 10
  },
  {
   "metadata": {
    "ExecuteTime": {
     "end_time": "2025-02-26T02:35:28.612346Z",
     "start_time": "2025-02-26T02:35:28.609955Z"
    }
   },
   "cell_type": "code",
   "source": [
    "envo_ancs_cache = {}\n",
    "envo_descs_cache = {}"
   ],
   "id": "d9dd232227f803f3",
   "outputs": [],
   "execution_count": 11
  },
  {
   "metadata": {
    "ExecuteTime": {
     "end_time": "2025-02-26T02:38:19.281535Z",
     "start_time": "2025-02-26T02:35:28.652353Z"
    }
   },
   "cell_type": "code",
   "source": [
    "for ee in envo_entities:\n",
    "    ancs_gen = envo_adapter.ancestors(ee, reflexive=reflexivity)\n",
    "    descs_gen = envo_adapter.descendants(ee, reflexive=reflexivity)\n",
    "    envo_ancs_cache[ee] = [{a: envo_label_cache[a]} for a in ancs_gen]\n",
    "    envo_descs_cache[ee] = [{d: envo_label_cache[d]} for d in descs_gen]\n",
    "    \n",
    "# 5 minutes"
   ],
   "id": "8bd487675d9e2760",
   "outputs": [],
   "execution_count": 12
  },
  {
   "metadata": {
    "ExecuteTime": {
     "end_time": "2025-02-26T02:38:19.682537Z",
     "start_time": "2025-02-26T02:38:19.296535Z"
    }
   },
   "cell_type": "code",
   "source": [
    "with open(\"envo_ancestors.json\", \"w\") as f:\n",
    "    json.dump(envo_ancs_cache, f)"
   ],
   "id": "c8f8b156ecabbc28",
   "outputs": [],
   "execution_count": 13
  },
  {
   "metadata": {
    "ExecuteTime": {
     "end_time": "2025-02-26T02:38:20.543858Z",
     "start_time": "2025-02-26T02:38:19.686139Z"
    }
   },
   "cell_type": "code",
   "source": [
    "with open(\"envo_descendants.json\", \"w\") as f:\n",
    "    json.dump(envo_descs_cache, f)"
   ],
   "id": "f4d9508d6db5d139",
   "outputs": [],
   "execution_count": 14
  }
 ],
 "metadata": {
  "kernelspec": {
   "display_name": "Python 3",
   "language": "python",
   "name": "python3"
  },
  "language_info": {
   "codemirror_mode": {
    "name": "ipython",
    "version": 2
   },
   "file_extension": ".py",
   "mimetype": "text/x-python",
   "name": "python",
   "nbconvert_exporter": "python",
   "pygments_lexer": "ipython2",
   "version": "2.7.6"
  }
 },
 "nbformat": 4,
 "nbformat_minor": 5
}
