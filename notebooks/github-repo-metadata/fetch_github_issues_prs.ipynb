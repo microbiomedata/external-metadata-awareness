{
 "cells": [
  {
   "metadata": {
    "ExecuteTime": {
     "end_time": "2025-02-25T23:10:42.325849Z",
     "start_time": "2025-02-25T23:10:42.321643Z"
    }
   },
   "cell_type": "code",
   "source": [
    "import requests\n",
    "import os\n",
    "import json\n",
    "import time\n",
    "from datetime import datetime, timedelta\n",
    "from dotenv import dotenv_values\n",
    "from pathlib import Path"
   ],
   "id": "f44756e298facf58",
   "outputs": [],
   "execution_count": 16
  },
  {
   "metadata": {
    "ExecuteTime": {
     "end_time": "2025-02-25T23:10:42.824420Z",
     "start_time": "2025-02-25T23:10:42.821877Z"
    }
   },
   "cell_type": "code",
   "source": [
    "# Replace with the repository you want to analyze\n",
    "REPO_OWNER = \"microbiomedata\"  # e.g., \"facebook\"\n",
    "REPO_NAME = \"nmdc-metadata\"  # e.g., \"react\""
   ],
   "id": "ec1243f673d073bb",
   "outputs": [],
   "execution_count": 17
  },
  {
   "metadata": {
    "ExecuteTime": {
     "end_time": "2025-02-25T23:10:43.321215Z",
     "start_time": "2025-02-25T23:10:43.318615Z"
    }
   },
   "cell_type": "code",
   "source": [
    "# Output directory\n",
    "OUTPUT_DIR = \"github_issues_prs\""
   ],
   "id": "43183d075c72f688",
   "outputs": [],
   "execution_count": 18
  },
  {
   "metadata": {
    "ExecuteTime": {
     "end_time": "2025-02-25T23:10:43.732963Z",
     "start_time": "2025-02-25T23:10:43.730364Z"
    }
   },
   "cell_type": "code",
   "source": [
    "# Specify the path to your .env file\n",
    "env_path = \"../../local/.env\""
   ],
   "id": "95845082a896d990",
   "outputs": [],
   "execution_count": 19
  },
  {
   "metadata": {
    "ExecuteTime": {
     "end_time": "2025-02-25T23:11:00.170687Z",
     "start_time": "2025-02-25T23:11:00.166492Z"
    }
   },
   "cell_type": "code",
   "source": [
    "# Load variables into a dictionary\n",
    "env_vars = dotenv_values(env_path)"
   ],
   "id": "f2c9df58c16b5bda",
   "outputs": [],
   "execution_count": 23
  },
  {
   "metadata": {
    "ExecuteTime": {
     "end_time": "2025-02-25T23:11:13.215049Z",
     "start_time": "2025-02-25T23:11:13.212346Z"
    }
   },
   "cell_type": "code",
   "source": "GITHUB_TOKEN = env_vars['GITHUB_TOKEN']",
   "id": "4ab73ef2412167ae",
   "outputs": [],
   "execution_count": 26
  },
  {
   "metadata": {
    "ExecuteTime": {
     "end_time": "2025-02-25T23:11:14.170564Z",
     "start_time": "2025-02-25T23:11:14.167379Z"
    }
   },
   "cell_type": "code",
   "source": [
    "if not os.path.exists(OUTPUT_DIR):\n",
    "    os.makedirs(OUTPUT_DIR)"
   ],
   "id": "b18d412ab9e6d530",
   "outputs": [],
   "execution_count": 27
  },
  {
   "cell_type": "code",
   "id": "initial_id",
   "metadata": {
    "collapsed": true,
    "ExecuteTime": {
     "end_time": "2025-02-25T23:11:15.516123Z",
     "start_time": "2025-02-25T23:11:15.504736Z"
    }
   },
   "source": [
    "def download_data(api_url, data_type, filename):\n",
    "    \"\"\"Downloads issues, pull requests, or comments with enhanced status messages.\"\"\"\n",
    "\n",
    "    all_data = []\n",
    "    page = 1\n",
    "    start_time = datetime.now()\n",
    "\n",
    "    while True:\n",
    "        url_with_params = f\"{api_url}?page={page}&per_page=100&state=all\"\n",
    "        response = requests.get(url_with_params, headers=headers)\n",
    "\n",
    "        if response.status_code == 200:\n",
    "            data = response.json()\n",
    "            if not data:\n",
    "                break\n",
    "\n",
    "            all_data.extend(data)\n",
    "\n",
    "            if data_type!= \"comments\":\n",
    "                now = datetime.now()\n",
    "                elapsed_time = now - start_time\n",
    "                items_downloaded = len(all_data)\n",
    "                rate = items_downloaded / elapsed_time.total_seconds() if elapsed_time.total_seconds() > 0 else 0\n",
    "                time_remaining = timedelta(seconds=(total_items - items_downloaded) / rate) if rate > 0 and total_items > items_downloaded else \"Unknown\"\n",
    "                print(\n",
    "                    f\"Downloaded page {page} of {data_type} ({items_downloaded} {data_type} so far). \"\n",
    "                    f\"Elapsed: {elapsed_time}, Rate: {rate:.2f} {data_type}/sec, Time Remaining: {time_remaining}.\"\n",
    "                )\n",
    "            page += 1\n",
    "\n",
    "        elif response.status_code == 403:  # rate limit handling\n",
    "            print(\"Rate limit hit. Waiting...\")\n",
    "            rate_limit_reset = int(response.headers.get(\"X-RateLimit-Reset\"))\n",
    "            wait_time = rate_limit_reset - time.time() + 10  # add 10 seconds buffer\n",
    "            if wait_time > 0:\n",
    "                print(f\"Waiting for {wait_time:.1f} seconds...\")\n",
    "                time.sleep(wait_time)\n",
    "                continue\n",
    "            else:\n",
    "                raise Exception(\"Rate limit reset time in the past\")\n",
    "\n",
    "        else:\n",
    "            print(f\"Error downloading {data_type}: {response.status_code} - {response.text}\")\n",
    "            return None\n",
    "\n",
    "    if data_type!= \"comments\":\n",
    "        for item in all_data:\n",
    "            comments_url = item.get(\"comments_url\")\n",
    "            if comments_url:\n",
    "                comments = download_data(comments_url, \"comments\", None)\n",
    "                if comments is not None:\n",
    "                    item[\"comments\"] = comments\n",
    "                else:\n",
    "                    print(f\"Failed to download comments for {data_type} #{item.get('number') or item.get('id')}\")\n",
    "\n",
    "    return all_data"
   ],
   "outputs": [],
   "execution_count": 28
  },
  {
   "metadata": {
    "ExecuteTime": {
     "end_time": "2025-02-25T23:11:18.563920Z",
     "start_time": "2025-02-25T23:11:18.560998Z"
    }
   },
   "cell_type": "code",
   "source": [
    "headers = {\n",
    "    \"Authorization\": f\"token {GITHUB_TOKEN}\",\n",
    "    \"Accept\": \"application/vnd.github.v3+json\",\n",
    "}"
   ],
   "id": "5d3f61811eb75cec",
   "outputs": [],
   "execution_count": 29
  },
  {
   "metadata": {
    "ExecuteTime": {
     "end_time": "2025-02-25T23:11:19.471876Z",
     "start_time": "2025-02-25T23:11:19.468940Z"
    }
   },
   "cell_type": "code",
   "source": "API_URL = f\"https://api.github.com/repos/{REPO_OWNER}/{REPO_NAME}/issues\"",
   "id": "99edf2beeddb46ff",
   "outputs": [],
   "execution_count": 30
  },
  {
   "metadata": {
    "ExecuteTime": {
     "end_time": "2025-02-25T23:11:20.175762Z",
     "start_time": "2025-02-25T23:11:20.172698Z"
    }
   },
   "cell_type": "code",
   "source": [
    "# Use the search API to get the total count\n",
    "search_url = f\"https://api.github.com/search/issues?q=repo:{REPO_OWNER}/{REPO_NAME}\""
   ],
   "id": "248eafba72535ba5",
   "outputs": [],
   "execution_count": 31
  },
  {
   "metadata": {
    "ExecuteTime": {
     "end_time": "2025-02-25T23:11:21.966935Z",
     "start_time": "2025-02-25T23:11:21.828883Z"
    }
   },
   "cell_type": "code",
   "source": "total_items_response = requests.get(search_url, headers=headers)",
   "id": "2742b4335a8ffa24",
   "outputs": [],
   "execution_count": 32
  },
  {
   "metadata": {
    "ExecuteTime": {
     "end_time": "2025-02-25T23:11:30.460572Z",
     "start_time": "2025-02-25T23:11:30.453851Z"
    }
   },
   "cell_type": "code",
   "source": "total_items_response",
   "id": "7083a82f14358ddf",
   "outputs": [
    {
     "data": {
      "text/plain": [
       "<Response [422]>"
      ]
     },
     "execution_count": 33,
     "metadata": {},
     "output_type": "execute_result"
    }
   ],
   "execution_count": 33
  },
  {
   "metadata": {
    "ExecuteTime": {
     "end_time": "2025-02-25T23:11:32.224480Z",
     "start_time": "2025-02-25T23:11:32.221185Z"
    }
   },
   "cell_type": "code",
   "source": [
    "if total_items_response.status_code == 200:\n",
    "    total_items = total_items_response.json()[\"total_count\"]\n",
    "else:\n",
    "    total_items = 0\n",
    "    print(\"Could not retrieve total number of items. Progress estimation will not work.\")\n"
   ],
   "id": "6e0a598b4a1a7b20",
   "outputs": [
    {
     "name": "stdout",
     "output_type": "stream",
     "text": [
      "Could not retrieve total number of items. Progress estimation will not work.\n"
     ]
    }
   ],
   "execution_count": 34
  },
  {
   "metadata": {
    "ExecuteTime": {
     "end_time": "2025-02-25T23:13:49.282089Z",
     "start_time": "2025-02-25T23:11:33.973306Z"
    }
   },
   "cell_type": "code",
   "source": [
    "# Download Issues\n",
    "issues = download_data(API_URL, \"issues\", f\"{REPO_OWNER}_{REPO_NAME}_issues.json\")"
   ],
   "id": "d6570a26b1ca5ef",
   "outputs": [
    {
     "name": "stdout",
     "output_type": "stream",
     "text": [
      "Downloaded page 1 of issues (100 issues so far). Elapsed: 0:00:00.546359, Rate: 183.03 issues/sec, Time Remaining: Unknown.\n",
      "Downloaded page 2 of issues (200 issues so far). Elapsed: 0:00:01.176535, Rate: 169.99 issues/sec, Time Remaining: Unknown.\n",
      "Downloaded page 3 of issues (300 issues so far). Elapsed: 0:00:01.747311, Rate: 171.69 issues/sec, Time Remaining: Unknown.\n",
      "Downloaded page 4 of issues (400 issues so far). Elapsed: 0:00:02.324201, Rate: 172.10 issues/sec, Time Remaining: Unknown.\n",
      "Downloaded page 5 of issues (434 issues so far). Elapsed: 0:00:02.661870, Rate: 163.04 issues/sec, Time Remaining: Unknown.\n"
     ]
    }
   ],
   "execution_count": 35
  },
  {
   "metadata": {
    "ExecuteTime": {
     "end_time": "2025-02-25T23:16:10.722005Z",
     "start_time": "2025-02-25T23:16:10.613719Z"
    }
   },
   "cell_type": "code",
   "source": [
    "if issues:\n",
    "    with open(os.path.join(OUTPUT_DIR, f\"{REPO_OWNER}_{REPO_NAME}_issues.json\"), \"w\", encoding=\"utf-8\") as f:\n",
    "        json.dump(issues, f, indent=4)\n",
    "    print(\"Issues and comments saved.\")\n",
    "else:\n",
    "    print(\"Failed to download issues or comments.\")"
   ],
   "id": "4122e95145a51c48",
   "outputs": [
    {
     "name": "stdout",
     "output_type": "stream",
     "text": [
      "Issues and comments saved.\n"
     ]
    }
   ],
   "execution_count": 36
  },
  {
   "metadata": {
    "ExecuteTime": {
     "end_time": "2025-02-25T23:16:12.867683Z",
     "start_time": "2025-02-25T23:16:12.864927Z"
    }
   },
   "cell_type": "code",
   "source": [
    "# Download Pull Requests\n",
    "pulls_url = f\"https://api.github.com/repos/{REPO_OWNER}/{REPO_NAME}/pulls\""
   ],
   "id": "1c0c826ca72441ba",
   "outputs": [],
   "execution_count": 37
  },
  {
   "metadata": {
    "ExecuteTime": {
     "end_time": "2025-02-25T23:16:48.229518Z",
     "start_time": "2025-02-25T23:16:13.885017Z"
    }
   },
   "cell_type": "code",
   "source": "pulls = download_data(pulls_url, \"pull requests\", f\"{REPO_OWNER}_{REPO_NAME}_pulls.json\")",
   "id": "c66b11fd62f16c8b",
   "outputs": [
    {
     "name": "stdout",
     "output_type": "stream",
     "text": [
      "Downloaded page 1 of pull requests (100 pull requests so far). Elapsed: 0:00:00.805483, Rate: 124.15 pull requests/sec, Time Remaining: Unknown.\n",
      "Downloaded page 2 of pull requests (138 pull requests so far). Elapsed: 0:00:01.241573, Rate: 111.15 pull requests/sec, Time Remaining: Unknown.\n"
     ]
    }
   ],
   "execution_count": 38
  },
  {
   "metadata": {
    "ExecuteTime": {
     "end_time": "2025-02-25T23:16:50.912205Z",
     "start_time": "2025-02-25T23:16:50.839131Z"
    }
   },
   "cell_type": "code",
   "source": [
    "if pulls:\n",
    "    with open(os.path.join(OUTPUT_DIR, f\"{REPO_OWNER}_{REPO_NAME}_pulls.json\"), \"w\", encoding=\"utf-8\") as f:\n",
    "        json.dump(pulls, f, indent=4)\n",
    "    print(\"Pull requests and comments saved.\")\n",
    "else:\n",
    "    print(\"Failed to download pull requests or comments.\")"
   ],
   "id": "da54620d13f83d41",
   "outputs": [
    {
     "name": "stdout",
     "output_type": "stream",
     "text": [
      "Pull requests and comments saved.\n"
     ]
    }
   ],
   "execution_count": 39
  },
  {
   "metadata": {},
   "cell_type": "code",
   "outputs": [],
   "execution_count": null,
   "source": "",
   "id": "f8cb62062b33588b"
  }
 ],
 "metadata": {
  "kernelspec": {
   "display_name": "Python 3",
   "language": "python",
   "name": "python3"
  },
  "language_info": {
   "codemirror_mode": {
    "name": "ipython",
    "version": 2
   },
   "file_extension": ".py",
   "mimetype": "text/x-python",
   "name": "python",
   "nbconvert_exporter": "python",
   "pygments_lexer": "ipython2",
   "version": "2.7.6"
  }
 },
 "nbformat": 4,
 "nbformat_minor": 5
}
