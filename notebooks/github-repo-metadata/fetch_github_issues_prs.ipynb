{
 "cells": [
  {
   "metadata": {
    "ExecuteTime": {
     "end_time": "2025-02-26T01:25:40.517355Z",
     "start_time": "2025-02-26T01:25:40.420473Z"
    }
   },
   "cell_type": "code",
   "source": [
    "import requests\n",
    "import os\n",
    "import json\n",
    "import time\n",
    "from datetime import datetime, timedelta\n",
    "from dotenv import dotenv_values\n",
    "from pathlib import Path"
   ],
   "id": "f44756e298facf58",
   "outputs": [],
   "execution_count": 1
  },
  {
   "metadata": {
    "ExecuteTime": {
     "end_time": "2025-02-26T01:25:40.524239Z",
     "start_time": "2025-02-26T01:25:40.521448Z"
    }
   },
   "cell_type": "code",
   "source": [
    "# Replace with the repository you want to analyze\n",
    "REPO_OWNER = \"microbiomedata\"  # e.g., \"facebook\"\n",
    "REPO_NAME = \"nmdc-metadata\"  # e.g., \"react\""
   ],
   "id": "ec1243f673d073bb",
   "outputs": [],
   "execution_count": 2
  },
  {
   "metadata": {
    "ExecuteTime": {
     "end_time": "2025-02-26T01:25:40.658267Z",
     "start_time": "2025-02-26T01:25:40.655917Z"
    }
   },
   "cell_type": "code",
   "source": [
    "# Output directory\n",
    "OUTPUT_DIR = \"github_issues_prs\""
   ],
   "id": "43183d075c72f688",
   "outputs": [],
   "execution_count": 3
  },
  {
   "metadata": {
    "ExecuteTime": {
     "end_time": "2025-02-26T01:25:40.700642Z",
     "start_time": "2025-02-26T01:25:40.697688Z"
    }
   },
   "cell_type": "code",
   "source": [
    "# Specify the path to your .env file\n",
    "env_path = \"../../local/.env\""
   ],
   "id": "95845082a896d990",
   "outputs": [],
   "execution_count": 4
  },
  {
   "metadata": {
    "ExecuteTime": {
     "end_time": "2025-02-26T01:25:40.750290Z",
     "start_time": "2025-02-26T01:25:40.744950Z"
    }
   },
   "cell_type": "code",
   "source": [
    "# Load variables into a dictionary\n",
    "env_vars = dotenv_values(env_path)"
   ],
   "id": "f2c9df58c16b5bda",
   "outputs": [],
   "execution_count": 5
  },
  {
   "metadata": {
    "ExecuteTime": {
     "end_time": "2025-02-26T01:25:40.796417Z",
     "start_time": "2025-02-26T01:25:40.793162Z"
    }
   },
   "cell_type": "code",
   "source": "GITHUB_TOKEN = env_vars['GITHUB_TOKEN']",
   "id": "4ab73ef2412167ae",
   "outputs": [],
   "execution_count": 6
  },
  {
   "metadata": {
    "ExecuteTime": {
     "end_time": "2025-02-26T01:25:40.859130Z",
     "start_time": "2025-02-26T01:25:40.846511Z"
    }
   },
   "cell_type": "code",
   "source": [
    "if not os.path.exists(OUTPUT_DIR):\n",
    "    os.makedirs(OUTPUT_DIR)"
   ],
   "id": "b18d412ab9e6d530",
   "outputs": [],
   "execution_count": 7
  },
  {
   "cell_type": "code",
   "id": "initial_id",
   "metadata": {
    "collapsed": true,
    "ExecuteTime": {
     "end_time": "2025-02-26T01:25:40.912412Z",
     "start_time": "2025-02-26T01:25:40.902011Z"
    }
   },
   "source": [
    "def download_data(api_url, data_type, filename):\n",
    "    \"\"\"Downloads issues, pull requests, or comments with enhanced status messages.\"\"\"\n",
    "\n",
    "    all_data = []\n",
    "    page = 1\n",
    "    start_time = datetime.now()\n",
    "\n",
    "    while True:\n",
    "        url_with_params = f\"{api_url}?page={page}&per_page=100&state=all\"\n",
    "        response = requests.get(url_with_params, headers=headers)\n",
    "\n",
    "        if response.status_code == 200:\n",
    "            data = response.json()\n",
    "            if not data:\n",
    "                break\n",
    "\n",
    "            all_data.extend(data)\n",
    "\n",
    "            if data_type!= \"comments\":\n",
    "                now = datetime.now()\n",
    "                elapsed_time = now - start_time\n",
    "                items_downloaded = len(all_data)\n",
    "                rate = items_downloaded / elapsed_time.total_seconds() if elapsed_time.total_seconds() > 0 else 0\n",
    "                time_remaining = timedelta(seconds=(total_items - items_downloaded) / rate) if rate > 0 and total_items > items_downloaded else \"Unknown\"\n",
    "                print(\n",
    "                    f\"Downloaded page {page} of {data_type} ({items_downloaded} {data_type} so far). \"\n",
    "                    f\"Elapsed: {elapsed_time}, Rate: {rate:.2f} {data_type}/sec, Time Remaining: {time_remaining}.\"\n",
    "                )\n",
    "            page += 1\n",
    "\n",
    "        elif response.status_code == 403:  # rate limit handling\n",
    "            print(\"Rate limit hit. Waiting...\")\n",
    "            rate_limit_reset = int(response.headers.get(\"X-RateLimit-Reset\"))\n",
    "            wait_time = rate_limit_reset - time.time() + 10  # add 10 seconds buffer\n",
    "            if wait_time > 0:\n",
    "                print(f\"Waiting for {wait_time:.1f} seconds...\")\n",
    "                time.sleep(wait_time)\n",
    "                continue\n",
    "            else:\n",
    "                raise Exception(\"Rate limit reset time in the past\")\n",
    "\n",
    "        else:\n",
    "            print(f\"Error downloading {data_type}: {response.status_code} - {response.text}\")\n",
    "            return None\n",
    "\n",
    "    if data_type!= \"comments\":\n",
    "        for item in all_data:\n",
    "            comments_url = item.get(\"comments_url\")\n",
    "            if comments_url:\n",
    "                comments = download_data(comments_url, \"comments\", None)\n",
    "                if comments is not None:\n",
    "                    item[\"comments\"] = comments\n",
    "                else:\n",
    "                    print(f\"Failed to download comments for {data_type} #{item.get('number') or item.get('id')}\")\n",
    "\n",
    "    return all_data"
   ],
   "outputs": [],
   "execution_count": 8
  },
  {
   "metadata": {
    "ExecuteTime": {
     "end_time": "2025-02-26T01:25:40.959596Z",
     "start_time": "2025-02-26T01:25:40.956221Z"
    }
   },
   "cell_type": "code",
   "source": [
    "headers = {\n",
    "    \"Authorization\": f\"token {GITHUB_TOKEN}\",\n",
    "    \"Accept\": \"application/vnd.github.v3+json\",\n",
    "}"
   ],
   "id": "5d3f61811eb75cec",
   "outputs": [],
   "execution_count": 9
  },
  {
   "metadata": {
    "ExecuteTime": {
     "end_time": "2025-02-26T01:25:41.006945Z",
     "start_time": "2025-02-26T01:25:41.003685Z"
    }
   },
   "cell_type": "code",
   "source": "API_URL = f\"https://api.github.com/repos/{REPO_OWNER}/{REPO_NAME}/issues\"",
   "id": "99edf2beeddb46ff",
   "outputs": [],
   "execution_count": 10
  },
  {
   "metadata": {
    "ExecuteTime": {
     "end_time": "2025-02-26T01:25:41.053248Z",
     "start_time": "2025-02-26T01:25:41.049913Z"
    }
   },
   "cell_type": "code",
   "source": [
    "# Use the search API to get the total count\n",
    "search_url = f\"https://api.github.com/search/issues?q=repo:{REPO_OWNER}/{REPO_NAME}\""
   ],
   "id": "248eafba72535ba5",
   "outputs": [],
   "execution_count": 11
  },
  {
   "metadata": {
    "ExecuteTime": {
     "end_time": "2025-02-26T01:25:41.235201Z",
     "start_time": "2025-02-26T01:25:41.097228Z"
    }
   },
   "cell_type": "code",
   "source": "total_items_response = requests.get(search_url, headers=headers)",
   "id": "2742b4335a8ffa24",
   "outputs": [],
   "execution_count": 12
  },
  {
   "metadata": {
    "ExecuteTime": {
     "end_time": "2025-02-26T01:25:41.277409Z",
     "start_time": "2025-02-26T01:25:41.266051Z"
    }
   },
   "cell_type": "code",
   "source": "total_items_response",
   "id": "7083a82f14358ddf",
   "outputs": [
    {
     "data": {
      "text/plain": [
       "<Response [422]>"
      ]
     },
     "execution_count": 13,
     "metadata": {},
     "output_type": "execute_result"
    }
   ],
   "execution_count": 13
  },
  {
   "metadata": {
    "ExecuteTime": {
     "end_time": "2025-02-26T01:25:41.309934Z",
     "start_time": "2025-02-26T01:25:41.304782Z"
    }
   },
   "cell_type": "code",
   "source": [
    "if total_items_response.status_code == 200:\n",
    "    total_items = total_items_response.json()[\"total_count\"]\n",
    "else:\n",
    "    total_items = 0\n",
    "    print(\"Could not retrieve total number of items. Progress estimation will not work.\")\n"
   ],
   "id": "6e0a598b4a1a7b20",
   "outputs": [
    {
     "name": "stdout",
     "output_type": "stream",
     "text": [
      "Could not retrieve total number of items. Progress estimation will not work.\n"
     ]
    }
   ],
   "execution_count": 14
  },
  {
   "metadata": {
    "ExecuteTime": {
     "end_time": "2025-02-26T01:28:07.644180Z",
     "start_time": "2025-02-26T01:25:41.360740Z"
    }
   },
   "cell_type": "code",
   "source": [
    "# Download Issues\n",
    "issues = download_data(API_URL, \"issues\", f\"{REPO_OWNER}_{REPO_NAME}_issues.json\")"
   ],
   "id": "d6570a26b1ca5ef",
   "outputs": [
    {
     "name": "stdout",
     "output_type": "stream",
     "text": [
      "Downloaded page 1 of issues (100 issues so far). Elapsed: 0:00:00.741969, Rate: 134.78 issues/sec, Time Remaining: Unknown.\n",
      "Downloaded page 2 of issues (200 issues so far). Elapsed: 0:00:01.399022, Rate: 142.96 issues/sec, Time Remaining: Unknown.\n",
      "Downloaded page 3 of issues (300 issues so far). Elapsed: 0:00:01.953790, Rate: 153.55 issues/sec, Time Remaining: Unknown.\n",
      "Downloaded page 4 of issues (400 issues so far). Elapsed: 0:00:02.576098, Rate: 155.27 issues/sec, Time Remaining: Unknown.\n",
      "Downloaded page 5 of issues (434 issues so far). Elapsed: 0:00:02.920995, Rate: 148.58 issues/sec, Time Remaining: Unknown.\n"
     ]
    }
   ],
   "execution_count": 15
  },
  {
   "metadata": {
    "ExecuteTime": {
     "end_time": "2025-02-26T01:28:07.791648Z",
     "start_time": "2025-02-26T01:28:07.672986Z"
    }
   },
   "cell_type": "code",
   "source": [
    "if issues:\n",
    "    with open(os.path.join(OUTPUT_DIR, f\"{REPO_OWNER}_{REPO_NAME}_issues.json\"), \"w\", encoding=\"utf-8\") as f:\n",
    "        json.dump(issues, f, indent=4)\n",
    "    print(\"Issues and comments saved.\")\n",
    "else:\n",
    "    print(\"Failed to download issues or comments.\")"
   ],
   "id": "4122e95145a51c48",
   "outputs": [
    {
     "name": "stdout",
     "output_type": "stream",
     "text": [
      "Issues and comments saved.\n"
     ]
    }
   ],
   "execution_count": 16
  },
  {
   "metadata": {
    "ExecuteTime": {
     "end_time": "2025-02-26T01:28:07.798127Z",
     "start_time": "2025-02-26T01:28:07.795528Z"
    }
   },
   "cell_type": "code",
   "source": [
    "# Download Pull Requests\n",
    "pulls_url = f\"https://api.github.com/repos/{REPO_OWNER}/{REPO_NAME}/pulls\""
   ],
   "id": "1c0c826ca72441ba",
   "outputs": [],
   "execution_count": 17
  },
  {
   "metadata": {
    "ExecuteTime": {
     "end_time": "2025-02-26T01:28:46.243871Z",
     "start_time": "2025-02-26T01:28:07.841596Z"
    }
   },
   "cell_type": "code",
   "source": "pulls = download_data(pulls_url, \"pull requests\", f\"{REPO_OWNER}_{REPO_NAME}_pulls.json\")",
   "id": "c66b11fd62f16c8b",
   "outputs": [
    {
     "name": "stdout",
     "output_type": "stream",
     "text": [
      "Downloaded page 1 of pull requests (100 pull requests so far). Elapsed: 0:00:01.066428, Rate: 93.77 pull requests/sec, Time Remaining: Unknown.\n",
      "Downloaded page 2 of pull requests (138 pull requests so far). Elapsed: 0:00:01.493952, Rate: 92.37 pull requests/sec, Time Remaining: Unknown.\n"
     ]
    }
   ],
   "execution_count": 18
  },
  {
   "metadata": {
    "ExecuteTime": {
     "end_time": "2025-02-26T01:28:46.369886Z",
     "start_time": "2025-02-26T01:28:46.281462Z"
    }
   },
   "cell_type": "code",
   "source": [
    "if pulls:\n",
    "    with open(os.path.join(OUTPUT_DIR, f\"{REPO_OWNER}_{REPO_NAME}_pulls.json\"), \"w\", encoding=\"utf-8\") as f:\n",
    "        json.dump(pulls, f, indent=4)\n",
    "    print(\"Pull requests and comments saved.\")\n",
    "else:\n",
    "    print(\"Failed to download pull requests or comments.\")"
   ],
   "id": "da54620d13f83d41",
   "outputs": [
    {
     "name": "stdout",
     "output_type": "stream",
     "text": [
      "Pull requests and comments saved.\n"
     ]
    }
   ],
   "execution_count": 19
  },
  {
   "metadata": {
    "ExecuteTime": {
     "end_time": "2025-02-26T01:28:46.379899Z",
     "start_time": "2025-02-26T01:28:46.378076Z"
    }
   },
   "cell_type": "code",
   "source": "",
   "id": "f8cb62062b33588b",
   "outputs": [],
   "execution_count": null
  }
 ],
 "metadata": {
  "kernelspec": {
   "display_name": "Python 3",
   "language": "python",
   "name": "python3"
  },
  "language_info": {
   "codemirror_mode": {
    "name": "ipython",
    "version": 2
   },
   "file_extension": ".py",
   "mimetype": "text/x-python",
   "name": "python",
   "nbconvert_exporter": "python",
   "pygments_lexer": "ipython2",
   "version": "2.7.6"
  }
 },
 "nbformat": 4,
 "nbformat_minor": 5
}
