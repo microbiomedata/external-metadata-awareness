{
 "cells": [
  {
   "metadata": {
    "ExecuteTime": {
     "end_time": "2025-02-24T18:57:35.066681Z",
     "start_time": "2025-02-24T18:57:34.655998Z"
    }
   },
   "cell_type": "code",
   "source": [
    "import os\n",
    "import pandas as pd"
   ],
   "id": "462b477a5aeeb4e8",
   "outputs": [],
   "execution_count": 1
  },
  {
   "metadata": {
    "ExecuteTime": {
     "end_time": "2025-02-24T18:57:35.080569Z",
     "start_time": "2025-02-24T18:57:35.077384Z"
    }
   },
   "cell_type": "code",
   "source": [
    "# does not yet extract anything from the env_triad_pvs_vs_*.SSSOM.tsv files\n",
    "#   because they don't use nmdc or mixs CURIes"
   ],
   "id": "6b86ecd61e731302",
   "outputs": [],
   "execution_count": 2
  },
  {
   "metadata": {
    "ExecuteTime": {
     "end_time": "2025-02-24T18:57:35.241887Z",
     "start_time": "2025-02-24T18:57:35.239323Z"
    }
   },
   "cell_type": "code",
   "source": [
    "# Define the directory containing the TSV files\n",
    "directory = \"../lexmatch-output\"\n",
    "\n",
    "output_tsv = \"lexmatch-combined.tsv\"\n",
    "\n",
    "for_lexmatch_txt = '../for-lexmatch.txt'\n",
    "\n",
    "env_triad_pvs_sheet_tsv = \"env_triad_pvs_sheet.tsv\""
   ],
   "id": "6154aa2fab656b3f",
   "outputs": [],
   "execution_count": 3
  },
  {
   "metadata": {
    "ExecuteTime": {
     "end_time": "2025-02-24T18:57:35.288089Z",
     "start_time": "2025-02-24T18:57:35.282079Z"
    }
   },
   "cell_type": "code",
   "source": [
    "\n",
    "env_triad_pvs_frame = pd.read_csv(env_triad_pvs_sheet_tsv, sep='\\t', skiprows=[1])\n"
   ],
   "id": "f5d39e9faf99a06",
   "outputs": [],
   "execution_count": 4
  },
  {
   "metadata": {
    "ExecuteTime": {
     "end_time": "2025-02-24T18:57:35.330847Z",
     "start_time": "2025-02-24T18:57:35.327591Z"
    }
   },
   "cell_type": "code",
   "source": "env_triad_pvs_curies = list(env_triad_pvs_frame['class_uri'])",
   "id": "132270777b1b4151",
   "outputs": [],
   "execution_count": 5
  },
  {
   "metadata": {
    "collapsed": true,
    "ExecuteTime": {
     "end_time": "2025-02-24T18:57:37.883374Z",
     "start_time": "2025-02-24T18:57:35.380179Z"
    }
   },
   "cell_type": "code",
   "source": [
    "# Initialize an empty list to collect DataFrames\n",
    "dataframes = []\n",
    "\n",
    "# Loop through each file in the directory\n",
    "for filename in os.listdir(directory):\n",
    "    if filename.endswith(\".tsv\"):\n",
    "        print(filename)\n",
    "        file_path = os.path.join(directory, filename)\n",
    "\n",
    "        # Read the file while skipping rows that start with #\n",
    "        with open(file_path, 'r') as f:\n",
    "            lines = [line for line in f if not line.startswith('#')]\n",
    "\n",
    "        # Convert the filtered lines to a DataFrame\n",
    "        if lines and len(lines) > 1:\n",
    "            print(len(lines))\n",
    "            from io import StringIO\n",
    "\n",
    "            df = pd.read_csv(StringIO(''.join(lines)), sep='\\t')\n",
    "            dataframes.append(df)\n"
   ],
   "id": "initial_id",
   "outputs": [
    {
     "name": "stdout",
     "output_type": "stream",
     "text": [
      "nmdc_mixs_vs_bero.SSSOM.tsv\n",
      "210\n",
      "nmdc_mixs_vs_obiws.SSSOM.tsv\n",
      "520\n",
      "env_triad_pvs_vs_biolink.SSSOM.tsv\n",
      "149\n",
      "nmdc_nmdc_vs_ecocore.SSSOM.tsv\n",
      "1422\n",
      "env_triad_pvs_vs_sio.SSSOM.tsv\n",
      "9\n",
      "nmdc_nmdc_vs_pato.SSSOM.tsv\n",
      "1482\n",
      "nmdc_mixs_vs_ecso.SSSOM.tsv\n",
      "34\n",
      "env_triad_pvs_vs_pato.SSSOM.tsv\n",
      "5223\n",
      "nmdc_mixs_vs_omrse.SSSOM.tsv\n",
      "539\n",
      "env_triad_pvs_vs_omo.SSSOM.tsv\n",
      "3\n",
      "nmdc_mixs_vs_pw.SSSOM.tsv\n",
      "547\n",
      "env_triad_pvs_vs_obi.SSSOM.tsv\n",
      "8\n",
      "nmdc_nmdc_vs_omo.SSSOM.tsv\n",
      "1351\n",
      "nmdc_mixs_vs_mmo.SSSOM.tsv\n",
      "831\n",
      "nmdc_mixs_vs_peco.SSSOM.tsv\n",
      "1141\n",
      "nmdc_nmdc_vs_sio.SSSOM.tsv\n",
      "1464\n",
      "nmdc_mixs_vs_miapa.SSSOM.tsv\n",
      "533\n",
      "nmdc_nmdc_vs_chmo.SSSOM.tsv\n",
      "1499\n",
      "nmdc_mixs_vs_phipo.SSSOM.tsv\n",
      "2225\n",
      "nmdc_nmdc_vs_envthes.SSSOM.tsv\n",
      "1437\n",
      "nmdc_mixs_vs_cio.SSSOM.tsv\n",
      "511\n",
      "nmdc_mixs_vs_cdao.SSSOM.tsv\n",
      "513\n",
      "env_triad_pvs_vs_ecosim.SSSOM.tsv\n",
      "110\n",
      "nmdc_mixs_vs_ido.SSSOM.tsv\n",
      "8\n",
      "nmdc_nmdc_vs_biolink.SSSOM.tsv\n",
      "1525\n",
      "nmdc_nmdc_vs_envo.SSSOM.tsv\n",
      "1708\n",
      "nmdc_mixs_vs_bto.SSSOM.tsv\n",
      "633\n",
      "nmdc_nmdc_vs_ecto.SSSOM.tsv\n",
      "1601\n",
      "nmdc_mixs_vs_omit.SSSOM.tsv\n",
      "47\n",
      "env_triad_pvs_vs_goldterms.SSSOM.tsv\n",
      "1696\n",
      "env_triad_pvs_vs_ecocore.SSSOM.tsv\n",
      "5698\n",
      "env_triad_pvs_vs_agro.SSSOM.tsv\n",
      "710\n",
      "env_triad_pvs_vs_envthes.SSSOM.tsv\n",
      "266\n",
      "env_triad_pvs_vs_po.SSSOM.tsv\n",
      "5175\n",
      "nmdc_mixs_vs_proco.SSSOM.tsv\n",
      "625\n",
      "nmdc_nmdc_vs_edam.SSSOM.tsv\n",
      "1413\n",
      "nmdc_mixs_vs_cro.SSSOM.tsv\n",
      "511\n",
      "nmdc_mixs_vs_obi.SSSOM.tsv\n",
      "16\n",
      "nmdc_mixs_vs_bco.SSSOM.tsv\n",
      "1004\n",
      "nmdc_mixs_vs_iao.SSSOM.tsv\n",
      "8\n",
      "nmdc_mixs_vs_fbbi.SSSOM.tsv\n",
      "517\n",
      "nmdc_mixs_vs_chiro.SSSOM.tsv\n",
      "957\n",
      "nmdc_mixs_vs_sweetAll.SSSOM.tsv\n",
      "91\n",
      "nmdc_mixs_vs_eco.SSSOM.tsv\n",
      "1180\n",
      "env_triad_pvs_vs_comet.SSSOM.tsv\n",
      "9\n",
      "nmdc_mixs_vs_duo.SSSOM.tsv\n",
      "531\n",
      "nmdc_mixs_vs_bspo.SSSOM.tsv\n",
      "574\n",
      "nmdc_mixs_vs_omo.SSSOM.tsv\n",
      "8\n",
      "nmdc_nmdc_vs_comet.SSSOM.tsv\n",
      "1443\n",
      "nmdc_mixs_vs_comet.SSSOM.tsv\n",
      "10\n",
      "env_triad_pvs_vs_edam.SSSOM.tsv\n",
      "141\n",
      "nmdc_mixs_vs_occo.SSSOM.tsv\n",
      "517\n",
      "nmdc_mixs_vs_ico.SSSOM.tsv\n",
      "562\n",
      "nmdc_nmdc_vs_sweetAll.SSSOM.tsv\n",
      "1754\n",
      "nmdc_mixs_vs_goldterms.SSSOM.tsv\n",
      "20\n",
      "nmdc_mixs_vs_schema-dot-org.SSSOM.tsv\n",
      "17\n",
      "env_triad_pvs_vs_ecso.SSSOM.tsv\n",
      "48\n",
      "nmdc_mixs_vs_aro.SSSOM.tsv\n",
      "625\n",
      "env_triad_pvs_vs_sweetAll.SSSOM.tsv\n",
      "836\n",
      "nmdc_mixs_vs_ogms.SSSOM.tsv\n",
      "516\n",
      "env_triad_pvs_vs_ms.SSSOM.tsv\n",
      "476\n",
      "nmdc_mixs_vs_geno.SSSOM.tsv\n",
      "524\n",
      "nmdc_mixs_vs_envthes.SSSOM.tsv\n",
      "49\n",
      "nmdc_mixs_vs_hom.SSSOM.tsv\n",
      "518\n",
      "nmdc_mixs_vs_exo.SSSOM.tsv\n",
      "557\n",
      "env_triad_pvs_vs_schema-dot-org.SSSOM.tsv\n",
      "67\n",
      "nmdc_mixs_vs_mesh.SSSOM.tsv\n",
      "282279\n",
      "nmdc_mixs_vs_ohmi.SSSOM.tsv\n",
      "572\n",
      "nmdc_mixs_vs_foodon.SSSOM.tsv\n",
      "30522\n",
      "nmdc_mixs_vs_gecko.SSSOM.tsv\n",
      "527\n",
      "env_triad_pvs_vs_omit.SSSOM.tsv\n",
      "120\n",
      "nmdc_mixs_vs_obib.SSSOM.tsv\n",
      "571\n",
      "nmdc_nmdc_vs_agro.SSSOM.tsv\n",
      "1703\n",
      "nmdc_mixs_vs_bao.SSSOM.tsv\n",
      "1095\n",
      "env_triad_pvs_vs_ecto.SSSOM.tsv\n",
      "8326\n",
      "nmdc_mixs_vs_geo.SSSOM.tsv\n",
      "518\n",
      "env_triad_pvs_vs_cob.SSSOM.tsv\n",
      "4\n",
      "nmdc_mixs_vs_chmo.SSSOM.tsv\n",
      "10\n",
      "nmdc_mixs_vs_pato.SSSOM.tsv\n",
      "38\n",
      "nmdc_mixs_vs_eupath.SSSOM.tsv\n",
      "594\n",
      "nmdc_nmdc_vs_schema-dot-org.SSSOM.tsv\n",
      "1437\n",
      "nmdc_mixs_vs_ino.SSSOM.tsv\n",
      "561\n",
      "nmdc_nmdc_vs_ecso.SSSOM.tsv\n",
      "1382\n",
      "nmdc_mixs_vs_omp.SSSOM.tsv\n",
      "660\n",
      "nmdc_mixs_vs_ecosim.SSSOM.tsv\n",
      "46\n",
      "nmdc_mixs_vs_ecto.SSSOM.tsv\n",
      "109\n",
      "nmdc_nmdc_vs_omit.SSSOM.tsv\n",
      "1460\n",
      "nmdc_mixs_vs_envo.SSSOM.tsv\n",
      "76\n",
      "nmdc_mixs_vs_ppo.SSSOM.tsv\n",
      "528\n",
      "nmdc_nmdc_vs_ms.SSSOM.tsv\n",
      "1392\n",
      "env_triad_pvs_vs_ido.SSSOM.tsv\n",
      "7\n",
      "nmdc_nmdc_vs_ecosim.SSSOM.tsv\n",
      "1386\n",
      "nmdc_mixs_vs_po.SSSOM.tsv\n",
      "8\n",
      "nmdc_nmdc_vs_ido.SSSOM.tsv\n",
      "1365\n",
      "nmdc_mixs_vs_sio.SSSOM.tsv\n",
      "16\n",
      "nmdc_mixs_vs_mi.SSSOM.tsv\n",
      "5713\n",
      "env_triad_pvs_vs_envo.SSSOM.tsv\n",
      "6188\n",
      "nmdc_nmdc_vs_po.SSSOM.tsv\n",
      "1354\n",
      "nmdc_mixs_vs_pco.SSSOM.tsv\n",
      "1462\n",
      "nmdc_nmdc_vs_obi.SSSOM.tsv\n",
      "1685\n",
      "nmdc_mixs_vs_ohpi.SSSOM.tsv\n",
      "106805\n",
      "nmdc_mixs_vs_mco.SSSOM.tsv\n",
      "192393\n",
      "nmdc_mixs_vs_edam.SSSOM.tsv\n",
      "12\n",
      "nmdc_mixs_vs_mamo.SSSOM.tsv\n",
      "514\n",
      "env_triad_pvs_vs_mop.SSSOM.tsv\n",
      "5\n",
      "env_triad_pvs_vs_chmo.SSSOM.tsv\n",
      "100\n",
      "nmdc_nmdc_vs_bero.SSSOM.tsv\n",
      "2579\n",
      "nmdc_mixs_vs_agro.SSSOM.tsv\n",
      "91\n",
      "nmdc_mixs_vs_ncro.SSSOM.tsv\n",
      "555\n",
      "nmdc_mixs_vs_mop.SSSOM.tsv\n",
      "8\n",
      "nmdc_nmdc_vs_mop.SSSOM.tsv\n",
      "1354\n",
      "nmdc_mixs_vs_cob.SSSOM.tsv\n",
      "8\n",
      "nmdc_mixs_vs_nomen.SSSOM.tsv\n",
      "517\n",
      "env_triad_pvs_vs_iao.SSSOM.tsv\n",
      "7\n",
      "nmdc_nmdc_vs_iao.SSSOM.tsv\n",
      "1413\n",
      "nmdc_nmdc_vs_cob.SSSOM.tsv\n",
      "1420\n",
      "nmdc_mixs_vs_biolink.SSSOM.tsv\n",
      "10\n",
      "nmdc_mixs_vs_flopo.SSSOM.tsv\n",
      "10942\n",
      "nmdc_mixs_vs_cheminf.SSSOM.tsv\n",
      "538\n",
      "nmdc_nmdc_vs_goldterms.SSSOM.tsv\n",
      "1432\n",
      "nmdc_mixs_vs_ecocore.SSSOM.tsv\n",
      "51\n",
      "nmdc_mixs_vs_ms.SSSOM.tsv\n",
      "14\n"
     ]
    }
   ],
   "execution_count": 6
  },
  {
   "metadata": {
    "ExecuteTime": {
     "end_time": "2025-02-24T18:57:37.938506Z",
     "start_time": "2025-02-24T18:57:37.900295Z"
    }
   },
   "cell_type": "code",
   "source": [
    "# Concatenate all DataFrames into a single DataFrame\n",
    "if dataframes:\n",
    "    combined_df = pd.concat(dataframes, ignore_index=True)\n",
    "    print(\"Aggregated DataFrame created successfully!\")\n",
    "else:\n",
    "    print(\"No data found.\")\n"
   ],
   "id": "453ed18d2b4e3c8c",
   "outputs": [
    {
     "name": "stdout",
     "output_type": "stream",
     "text": [
      "Aggregated DataFrame created successfully!\n"
     ]
    }
   ],
   "execution_count": 7
  },
  {
   "metadata": {
    "ExecuteTime": {
     "end_time": "2025-02-24T18:57:37.963243Z",
     "start_time": "2025-02-24T18:57:37.957739Z"
    }
   },
   "cell_type": "code",
   "source": "combined_df.shape",
   "id": "4921d29c78540fda",
   "outputs": [
    {
     "data": {
      "text/plain": [
       "(731312, 11)"
      ]
     },
     "execution_count": 8,
     "metadata": {},
     "output_type": "execute_result"
    }
   ],
   "execution_count": 8
  },
  {
   "metadata": {
    "ExecuteTime": {
     "end_time": "2025-02-24T18:57:38.875786Z",
     "start_time": "2025-02-24T18:57:38.002495Z"
    }
   },
   "cell_type": "code",
   "source": [
    "# Remove duplicate rows and force a new copy\n",
    "unique_df = combined_df.drop_duplicates().copy()\n"
   ],
   "id": "6a88ab6a49e7c22e",
   "outputs": [],
   "execution_count": 9
  },
  {
   "metadata": {
    "ExecuteTime": {
     "end_time": "2025-02-24T18:57:38.904331Z",
     "start_time": "2025-02-24T18:57:38.901020Z"
    }
   },
   "cell_type": "code",
   "source": "unique_df.shape",
   "id": "937858af6f2f2720",
   "outputs": [
    {
     "data": {
      "text/plain": [
       "(640007, 11)"
      ]
     },
     "execution_count": 10,
     "metadata": {},
     "output_type": "execute_result"
    }
   ],
   "execution_count": 10
  },
  {
   "metadata": {
    "ExecuteTime": {
     "end_time": "2025-02-24T18:57:39.131171Z",
     "start_time": "2025-02-24T18:57:38.945634Z"
    }
   },
   "cell_type": "code",
   "source": "non_reflexive_by_term_df = unique_df[unique_df['subject_id'] != unique_df['object_id']].copy()",
   "id": "2492c7410f8ba7ec",
   "outputs": [],
   "execution_count": 11
  },
  {
   "metadata": {
    "ExecuteTime": {
     "end_time": "2025-02-24T18:57:39.158434Z",
     "start_time": "2025-02-24T18:57:39.155249Z"
    }
   },
   "cell_type": "code",
   "source": "non_reflexive_by_term_df.shape",
   "id": "516076ce333a12a7",
   "outputs": [
    {
     "data": {
      "text/plain": [
       "(639152, 11)"
      ]
     },
     "execution_count": 12,
     "metadata": {},
     "output_type": "execute_result"
    }
   ],
   "execution_count": 12
  },
  {
   "metadata": {
    "ExecuteTime": {
     "end_time": "2025-02-24T18:57:41.297363Z",
     "start_time": "2025-02-24T18:57:39.199121Z"
    }
   },
   "cell_type": "code",
   "source": [
    "# Step 1: Split prefixes first\n",
    "non_reflexive_by_term_df['subject_prefix'] = non_reflexive_by_term_df['subject_id'].str.split(':').str[0]\n",
    "non_reflexive_by_term_df['object_prefix'] = non_reflexive_by_term_df['object_id'].str.split(':').str[0]"
   ],
   "id": "e0402749a2b325f6",
   "outputs": [],
   "execution_count": 13
  },
  {
   "metadata": {
    "ExecuteTime": {
     "end_time": "2025-02-24T18:57:41.358882Z",
     "start_time": "2025-02-24T18:57:41.356403Z"
    }
   },
   "cell_type": "code",
   "source": [
    "# List of values to filter out\n",
    "privileged_prefixes = ['mixs', 'nmdc']\n",
    "\n",
    "# Columns to check\n",
    "prefix_columns = ['subject_prefix', 'object_prefix']"
   ],
   "id": "40a702a95179e1c6",
   "outputs": [],
   "execution_count": 14
  },
  {
   "metadata": {
    "ExecuteTime": {
     "end_time": "2025-02-24T18:57:41.482754Z",
     "start_time": "2025-02-24T18:57:41.398033Z"
    }
   },
   "cell_type": "code",
   "source": "non_reflexive_by_prefix_df = non_reflexive_by_term_df[non_reflexive_by_term_df['subject_prefix'] != non_reflexive_by_term_df['object_prefix']].copy()",
   "id": "4a579948a67a705f",
   "outputs": [],
   "execution_count": 15
  },
  {
   "metadata": {
    "ExecuteTime": {
     "end_time": "2025-02-24T18:57:41.524141Z",
     "start_time": "2025-02-24T18:57:41.520602Z"
    }
   },
   "cell_type": "code",
   "source": "non_reflexive_by_prefix_df.shape",
   "id": "81ea246a70a60c62",
   "outputs": [
    {
     "data": {
      "text/plain": [
       "(10750, 13)"
      ]
     },
     "execution_count": 16,
     "metadata": {},
     "output_type": "execute_result"
    }
   ],
   "execution_count": 16
  },
  {
   "metadata": {
    "ExecuteTime": {
     "end_time": "2025-02-24T18:57:41.611883Z",
     "start_time": "2025-02-24T18:57:41.605075Z"
    }
   },
   "cell_type": "code",
   "source": [
    "# Filter rows where neither 'subject_prefix' nor 'object_prefix' are in privileged_prefixes\n",
    "enriched_for_pvs_frame = non_reflexive_by_prefix_df[\n",
    "    ~non_reflexive_by_prefix_df[prefix_columns].isin(privileged_prefixes).any(axis=1)\n",
    "]\n"
   ],
   "id": "443a6861de1a0a48",
   "outputs": [],
   "execution_count": 17
  },
  {
   "metadata": {
    "ExecuteTime": {
     "end_time": "2025-02-24T18:57:41.650157Z",
     "start_time": "2025-02-24T18:57:41.646673Z"
    }
   },
   "cell_type": "code",
   "source": "enriched_for_pvs_frame.shape",
   "id": "4620322febcc5cd4",
   "outputs": [
    {
     "data": {
      "text/plain": [
       "(8194, 13)"
      ]
     },
     "execution_count": 18,
     "metadata": {},
     "output_type": "execute_result"
    }
   ],
   "execution_count": 18
  },
  {
   "metadata": {
    "ExecuteTime": {
     "end_time": "2025-02-24T18:57:41.712084Z",
     "start_time": "2025-02-24T18:57:41.694474Z"
    }
   },
   "cell_type": "code",
   "source": "enriched_for_pvs_frame",
   "id": "fed7a0dd4b3a4736",
   "outputs": [
    {
     "data": {
      "text/plain": [
       "                 subject_id         subject_label     predicate_id  \\\n",
       "774     biolink:broad_match           broad match  skos:closeMatch   \n",
       "784     biolink:close_match           close match  skos:closeMatch   \n",
       "819     biolink:exact_match           exact match  skos:closeMatch   \n",
       "836         biolink:license               license  skos:closeMatch   \n",
       "839            biolink:name                  name  skos:closeMatch   \n",
       "...                     ...                   ...              ...   \n",
       "727569           PO:0025060                lamina  skos:closeMatch   \n",
       "729293       CHEMINF:000340       software module  skos:closeMatch   \n",
       "729294       CHEMINF:000341       software method  skos:closeMatch   \n",
       "729295       CHEMINF:000342      software library  skos:closeMatch   \n",
       "729296       CHEMINF:000343  software application  skos:closeMatch   \n",
       "\n",
       "              object_id                    object_label  \\\n",
       "774     skos:broadMatch                             NaN   \n",
       "784     skos:closeMatch                             NaN   \n",
       "819     skos:exactMatch                             NaN   \n",
       "836     dcterms:license                             NaN   \n",
       "839       dcterms:title                             NaN   \n",
       "...                 ...                             ...   \n",
       "727569   UBERON:0022303  nervous system cell part layer   \n",
       "729293      IAO:0000592                 software module   \n",
       "729294      IAO:0000591                 software method   \n",
       "729295      IAO:0000593                software library   \n",
       "729296      IAO:0000594            software application   \n",
       "\n",
       "         mapping_justification mapping_tool  confidence subject_match_field  \\\n",
       "774     semapv:LexicalMatching       oaklib         0.5              rdf:ID   \n",
       "784     semapv:LexicalMatching       oaklib         0.5              rdf:ID   \n",
       "819     semapv:LexicalMatching       oaklib         0.5              rdf:ID   \n",
       "836     semapv:LexicalMatching       oaklib         0.5              rdf:ID   \n",
       "839     semapv:LexicalMatching       oaklib         0.5              rdf:ID   \n",
       "...                        ...          ...         ...                 ...   \n",
       "727569  semapv:LexicalMatching       oaklib         0.5          rdfs:label   \n",
       "729293  semapv:LexicalMatching       oaklib         0.5          rdfs:label   \n",
       "729294  semapv:LexicalMatching       oaklib         0.5          rdfs:label   \n",
       "729295  semapv:LexicalMatching       oaklib         0.5          rdfs:label   \n",
       "729296  semapv:LexicalMatching       oaklib         0.5          rdfs:label   \n",
       "\n",
       "              object_match_field          match_string subject_prefix  \\\n",
       "774      skos:exactMatch-INVERSE   biolink:broad_match        biolink   \n",
       "784      skos:exactMatch-INVERSE   biolink:close_match        biolink   \n",
       "819      skos:exactMatch-INVERSE   biolink:exact_match        biolink   \n",
       "836      skos:exactMatch-INVERSE       biolink:license        biolink   \n",
       "839     skos:narrowMatch-INVERSE          biolink:name        biolink   \n",
       "...                          ...                   ...            ...   \n",
       "727569       oio:hasBroadSynonym                lamina             PO   \n",
       "729293                rdfs:label       module software        CHEMINF   \n",
       "729294                rdfs:label       method software        CHEMINF   \n",
       "729295                rdfs:label      library software        CHEMINF   \n",
       "729296                rdfs:label  application software        CHEMINF   \n",
       "\n",
       "       object_prefix  \n",
       "774             skos  \n",
       "784             skos  \n",
       "819             skos  \n",
       "836          dcterms  \n",
       "839          dcterms  \n",
       "...              ...  \n",
       "727569        UBERON  \n",
       "729293           IAO  \n",
       "729294           IAO  \n",
       "729295           IAO  \n",
       "729296           IAO  \n",
       "\n",
       "[8194 rows x 13 columns]"
      ],
      "text/html": [
       "<div>\n",
       "<style scoped>\n",
       "    .dataframe tbody tr th:only-of-type {\n",
       "        vertical-align: middle;\n",
       "    }\n",
       "\n",
       "    .dataframe tbody tr th {\n",
       "        vertical-align: top;\n",
       "    }\n",
       "\n",
       "    .dataframe thead th {\n",
       "        text-align: right;\n",
       "    }\n",
       "</style>\n",
       "<table border=\"1\" class=\"dataframe\">\n",
       "  <thead>\n",
       "    <tr style=\"text-align: right;\">\n",
       "      <th></th>\n",
       "      <th>subject_id</th>\n",
       "      <th>subject_label</th>\n",
       "      <th>predicate_id</th>\n",
       "      <th>object_id</th>\n",
       "      <th>object_label</th>\n",
       "      <th>mapping_justification</th>\n",
       "      <th>mapping_tool</th>\n",
       "      <th>confidence</th>\n",
       "      <th>subject_match_field</th>\n",
       "      <th>object_match_field</th>\n",
       "      <th>match_string</th>\n",
       "      <th>subject_prefix</th>\n",
       "      <th>object_prefix</th>\n",
       "    </tr>\n",
       "  </thead>\n",
       "  <tbody>\n",
       "    <tr>\n",
       "      <th>774</th>\n",
       "      <td>biolink:broad_match</td>\n",
       "      <td>broad match</td>\n",
       "      <td>skos:closeMatch</td>\n",
       "      <td>skos:broadMatch</td>\n",
       "      <td>NaN</td>\n",
       "      <td>semapv:LexicalMatching</td>\n",
       "      <td>oaklib</td>\n",
       "      <td>0.5</td>\n",
       "      <td>rdf:ID</td>\n",
       "      <td>skos:exactMatch-INVERSE</td>\n",
       "      <td>biolink:broad_match</td>\n",
       "      <td>biolink</td>\n",
       "      <td>skos</td>\n",
       "    </tr>\n",
       "    <tr>\n",
       "      <th>784</th>\n",
       "      <td>biolink:close_match</td>\n",
       "      <td>close match</td>\n",
       "      <td>skos:closeMatch</td>\n",
       "      <td>skos:closeMatch</td>\n",
       "      <td>NaN</td>\n",
       "      <td>semapv:LexicalMatching</td>\n",
       "      <td>oaklib</td>\n",
       "      <td>0.5</td>\n",
       "      <td>rdf:ID</td>\n",
       "      <td>skos:exactMatch-INVERSE</td>\n",
       "      <td>biolink:close_match</td>\n",
       "      <td>biolink</td>\n",
       "      <td>skos</td>\n",
       "    </tr>\n",
       "    <tr>\n",
       "      <th>819</th>\n",
       "      <td>biolink:exact_match</td>\n",
       "      <td>exact match</td>\n",
       "      <td>skos:closeMatch</td>\n",
       "      <td>skos:exactMatch</td>\n",
       "      <td>NaN</td>\n",
       "      <td>semapv:LexicalMatching</td>\n",
       "      <td>oaklib</td>\n",
       "      <td>0.5</td>\n",
       "      <td>rdf:ID</td>\n",
       "      <td>skos:exactMatch-INVERSE</td>\n",
       "      <td>biolink:exact_match</td>\n",
       "      <td>biolink</td>\n",
       "      <td>skos</td>\n",
       "    </tr>\n",
       "    <tr>\n",
       "      <th>836</th>\n",
       "      <td>biolink:license</td>\n",
       "      <td>license</td>\n",
       "      <td>skos:closeMatch</td>\n",
       "      <td>dcterms:license</td>\n",
       "      <td>NaN</td>\n",
       "      <td>semapv:LexicalMatching</td>\n",
       "      <td>oaklib</td>\n",
       "      <td>0.5</td>\n",
       "      <td>rdf:ID</td>\n",
       "      <td>skos:exactMatch-INVERSE</td>\n",
       "      <td>biolink:license</td>\n",
       "      <td>biolink</td>\n",
       "      <td>dcterms</td>\n",
       "    </tr>\n",
       "    <tr>\n",
       "      <th>839</th>\n",
       "      <td>biolink:name</td>\n",
       "      <td>name</td>\n",
       "      <td>skos:closeMatch</td>\n",
       "      <td>dcterms:title</td>\n",
       "      <td>NaN</td>\n",
       "      <td>semapv:LexicalMatching</td>\n",
       "      <td>oaklib</td>\n",
       "      <td>0.5</td>\n",
       "      <td>rdf:ID</td>\n",
       "      <td>skos:narrowMatch-INVERSE</td>\n",
       "      <td>biolink:name</td>\n",
       "      <td>biolink</td>\n",
       "      <td>dcterms</td>\n",
       "    </tr>\n",
       "    <tr>\n",
       "      <th>...</th>\n",
       "      <td>...</td>\n",
       "      <td>...</td>\n",
       "      <td>...</td>\n",
       "      <td>...</td>\n",
       "      <td>...</td>\n",
       "      <td>...</td>\n",
       "      <td>...</td>\n",
       "      <td>...</td>\n",
       "      <td>...</td>\n",
       "      <td>...</td>\n",
       "      <td>...</td>\n",
       "      <td>...</td>\n",
       "      <td>...</td>\n",
       "    </tr>\n",
       "    <tr>\n",
       "      <th>727569</th>\n",
       "      <td>PO:0025060</td>\n",
       "      <td>lamina</td>\n",
       "      <td>skos:closeMatch</td>\n",
       "      <td>UBERON:0022303</td>\n",
       "      <td>nervous system cell part layer</td>\n",
       "      <td>semapv:LexicalMatching</td>\n",
       "      <td>oaklib</td>\n",
       "      <td>0.5</td>\n",
       "      <td>rdfs:label</td>\n",
       "      <td>oio:hasBroadSynonym</td>\n",
       "      <td>lamina</td>\n",
       "      <td>PO</td>\n",
       "      <td>UBERON</td>\n",
       "    </tr>\n",
       "    <tr>\n",
       "      <th>729293</th>\n",
       "      <td>CHEMINF:000340</td>\n",
       "      <td>software module</td>\n",
       "      <td>skos:closeMatch</td>\n",
       "      <td>IAO:0000592</td>\n",
       "      <td>software module</td>\n",
       "      <td>semapv:LexicalMatching</td>\n",
       "      <td>oaklib</td>\n",
       "      <td>0.5</td>\n",
       "      <td>rdfs:label</td>\n",
       "      <td>rdfs:label</td>\n",
       "      <td>module software</td>\n",
       "      <td>CHEMINF</td>\n",
       "      <td>IAO</td>\n",
       "    </tr>\n",
       "    <tr>\n",
       "      <th>729294</th>\n",
       "      <td>CHEMINF:000341</td>\n",
       "      <td>software method</td>\n",
       "      <td>skos:closeMatch</td>\n",
       "      <td>IAO:0000591</td>\n",
       "      <td>software method</td>\n",
       "      <td>semapv:LexicalMatching</td>\n",
       "      <td>oaklib</td>\n",
       "      <td>0.5</td>\n",
       "      <td>rdfs:label</td>\n",
       "      <td>rdfs:label</td>\n",
       "      <td>method software</td>\n",
       "      <td>CHEMINF</td>\n",
       "      <td>IAO</td>\n",
       "    </tr>\n",
       "    <tr>\n",
       "      <th>729295</th>\n",
       "      <td>CHEMINF:000342</td>\n",
       "      <td>software library</td>\n",
       "      <td>skos:closeMatch</td>\n",
       "      <td>IAO:0000593</td>\n",
       "      <td>software library</td>\n",
       "      <td>semapv:LexicalMatching</td>\n",
       "      <td>oaklib</td>\n",
       "      <td>0.5</td>\n",
       "      <td>rdfs:label</td>\n",
       "      <td>rdfs:label</td>\n",
       "      <td>library software</td>\n",
       "      <td>CHEMINF</td>\n",
       "      <td>IAO</td>\n",
       "    </tr>\n",
       "    <tr>\n",
       "      <th>729296</th>\n",
       "      <td>CHEMINF:000343</td>\n",
       "      <td>software application</td>\n",
       "      <td>skos:closeMatch</td>\n",
       "      <td>IAO:0000594</td>\n",
       "      <td>software application</td>\n",
       "      <td>semapv:LexicalMatching</td>\n",
       "      <td>oaklib</td>\n",
       "      <td>0.5</td>\n",
       "      <td>rdfs:label</td>\n",
       "      <td>rdfs:label</td>\n",
       "      <td>application software</td>\n",
       "      <td>CHEMINF</td>\n",
       "      <td>IAO</td>\n",
       "    </tr>\n",
       "  </tbody>\n",
       "</table>\n",
       "<p>8194 rows × 13 columns</p>\n",
       "</div>"
      ]
     },
     "execution_count": 19,
     "metadata": {},
     "output_type": "execute_result"
    }
   ],
   "execution_count": 19
  },
  {
   "metadata": {
    "ExecuteTime": {
     "end_time": "2025-02-24T18:57:41.786110Z",
     "start_time": "2025-02-24T18:57:41.783219Z"
    }
   },
   "cell_type": "code",
   "source": [
    "# Identify all subject_* and object_* columns dynamically\n",
    "subject_columns = [col for col in non_reflexive_by_term_df.columns if col.startswith('subject_')]\n",
    "object_columns = [col for col in non_reflexive_by_term_df.columns if col.startswith('object_')]"
   ],
   "id": "8f9eacb6bb228927",
   "outputs": [],
   "execution_count": 20
  },
  {
   "metadata": {
    "ExecuteTime": {
     "end_time": "2025-02-24T18:57:41.831909Z",
     "start_time": "2025-02-24T18:57:41.828461Z"
    }
   },
   "cell_type": "code",
   "source": "subject_columns",
   "id": "f548c897695cb1a3",
   "outputs": [
    {
     "data": {
      "text/plain": [
       "['subject_id', 'subject_label', 'subject_match_field', 'subject_prefix']"
      ]
     },
     "execution_count": 21,
     "metadata": {},
     "output_type": "execute_result"
    }
   ],
   "execution_count": 21
  },
  {
   "metadata": {
    "ExecuteTime": {
     "end_time": "2025-02-24T18:57:41.901162Z",
     "start_time": "2025-02-24T18:57:41.896594Z"
    }
   },
   "cell_type": "code",
   "source": "object_columns",
   "id": "eb51b010195f9234",
   "outputs": [
    {
     "data": {
      "text/plain": [
       "['object_id', 'object_label', 'object_match_field', 'object_prefix']"
      ]
     },
     "execution_count": 22,
     "metadata": {},
     "output_type": "execute_result"
    }
   ],
   "execution_count": 22
  },
  {
   "metadata": {
    "ExecuteTime": {
     "end_time": "2025-02-24T18:57:42.028492Z",
     "start_time": "2025-02-24T18:57:41.989886Z"
    }
   },
   "cell_type": "code",
   "source": "mixs_nmdc_subj_frame = non_reflexive_by_term_df[non_reflexive_by_term_df[\"subject_prefix\"].isin(['mixs', 'nmdc'])]",
   "id": "a2aae29cc5957d4f",
   "outputs": [],
   "execution_count": 23
  },
  {
   "metadata": {
    "ExecuteTime": {
     "end_time": "2025-02-24T18:57:42.110234Z",
     "start_time": "2025-02-24T18:57:42.070498Z"
    }
   },
   "cell_type": "code",
   "source": "mixs_nmdc_obj_frame = non_reflexive_by_term_df[non_reflexive_by_term_df[\"object_prefix\"].isin(['mixs', 'nmdc'])]",
   "id": "9cafb48630b3d4da",
   "outputs": [],
   "execution_count": 24
  },
  {
   "metadata": {
    "ExecuteTime": {
     "end_time": "2025-02-24T18:57:42.160348Z",
     "start_time": "2025-02-24T18:57:42.153720Z"
    }
   },
   "cell_type": "code",
   "source": [
    "# Create a copy with swapped columns\n",
    "reversed_obj_frame = mixs_nmdc_obj_frame.rename(columns={\n",
    "    'subject_id': 'object_id_temp',\n",
    "    'subject_label': 'object_label_temp',\n",
    "    'subject_prefix': 'object_prefix_temp',\n",
    "    'subject_match_field': 'object_match_field_temp',\n",
    "\n",
    "    'object_id': 'subject_id',\n",
    "    'object_label': 'subject_label',\n",
    "    'object_prefix': 'subject_prefix',\n",
    "    'object_match_field': 'subject_match_field'\n",
    "})\n",
    "\n",
    "# # Complete the swap by renaming the temporary columns\n",
    "reversed_obj_frame = reversed_obj_frame.rename(columns={\n",
    "    'object_id_temp': 'object_id',\n",
    "    'object_label_temp': 'object_label',\n",
    "    'object_prefix_temp': 'object_prefix',\n",
    "    'object_match_field_temp': 'object_match_field'\n",
    "})"
   ],
   "id": "d09d1eb0b5ebf8f9",
   "outputs": [],
   "execution_count": 25
  },
  {
   "metadata": {
    "ExecuteTime": {
     "end_time": "2025-02-24T18:57:42.287265Z",
     "start_time": "2025-02-24T18:57:42.279089Z"
    }
   },
   "cell_type": "code",
   "source": [
    "# Create a copy with swapped columns\n",
    "reversed_enriched_for_pvs_frame = enriched_for_pvs_frame.rename(columns={\n",
    "    'subject_id': 'object_id_temp',\n",
    "    'subject_label': 'object_label_temp',\n",
    "    'subject_prefix': 'object_prefix_temp',\n",
    "    'subject_match_field': 'object_match_field_temp',\n",
    "\n",
    "    'object_id': 'subject_id',\n",
    "    'object_label': 'subject_label',\n",
    "    'object_prefix': 'subject_prefix',\n",
    "    'object_match_field': 'subject_match_field'\n",
    "})\n",
    "\n",
    "# # Complete the swap by renaming the temporary columns\n",
    "reversed_enriched_for_pvs_frame = reversed_enriched_for_pvs_frame.rename(columns={\n",
    "    'object_id_temp': 'object_id',\n",
    "    'object_label_temp': 'object_label',\n",
    "    'object_prefix_temp': 'object_prefix',\n",
    "    'object_match_field_temp': 'object_match_field'\n",
    "})"
   ],
   "id": "44691ffb47594503",
   "outputs": [],
   "execution_count": 26
  },
  {
   "metadata": {
    "ExecuteTime": {
     "end_time": "2025-02-24T18:57:42.335893Z",
     "start_time": "2025-02-24T18:57:42.330671Z"
    }
   },
   "cell_type": "code",
   "source": "enriched_for_pvs_frame = pd.concat([enriched_for_pvs_frame,reversed_enriched_for_pvs_frame], axis=0, ignore_index=True)",
   "id": "f3a4613880d6fbfe",
   "outputs": [],
   "execution_count": 27
  },
  {
   "metadata": {
    "ExecuteTime": {
     "end_time": "2025-02-24T18:57:42.450655Z",
     "start_time": "2025-02-24T18:57:42.443801Z"
    }
   },
   "cell_type": "code",
   "source": "enriched_for_pvs_frame = enriched_for_pvs_frame[enriched_for_pvs_frame['subject_id'].isin(env_triad_pvs_curies)]",
   "id": "15d960e9ab6ec59d",
   "outputs": [],
   "execution_count": 28
  },
  {
   "metadata": {
    "ExecuteTime": {
     "end_time": "2025-02-24T18:57:42.487688Z",
     "start_time": "2025-02-24T18:57:42.471588Z"
    }
   },
   "cell_type": "code",
   "source": "enriched_for_pvs_frame",
   "id": "144870c45dd15ce6",
   "outputs": [
    {
     "data": {
      "text/plain": [
       "          subject_id subject_label     predicate_id        object_id  \\\n",
       "8      ENVO:00000167           bar  skos:closeMatch       SIO:000519   \n",
       "9      ENVO:00002000         slope  skos:closeMatch       SIO:001184   \n",
       "39     ENVO:00000174       isthmus  skos:closeMatch   UBERON:0003052   \n",
       "78        PO:0025356          bulb  skos:closeMatch   UBERON:0001896   \n",
       "162    ENVO:00000011        garden  skos:closeMatch   GOLDTERMS:5774   \n",
       "...              ...           ...              ...              ...   \n",
       "16009     PO:0009001         fruit  skos:closeMatch  FOODON:03304644   \n",
       "16151     PO:0003023   root nodule  skos:closeMatch    ENVO:01000164   \n",
       "16338     PO:0009047          stem  skos:closeMatch     CHMO:0000086   \n",
       "16339     PO:0025034          leaf  skos:closeMatch     CHMO:0000284   \n",
       "16344     PO:0009047          stem  skos:closeMatch     CHMO:0002649   \n",
       "\n",
       "                                          object_label  \\\n",
       "8                                                  bar   \n",
       "9                                                slope   \n",
       "39                         midbrain-hindbrain boundary   \n",
       "78                                   medulla oblongata   \n",
       "162        Environmental > Terrestrial > Soil > Garden   \n",
       "...                                                ...   \n",
       "16009                               fruit (whole, raw)   \n",
       "16151                                      root nodule   \n",
       "16338        scanning transmission electron microscopy   \n",
       "16339  laser-enhanced atomic fluorescence spectroscopy   \n",
       "16344        scanning transmission electron microscope   \n",
       "\n",
       "        mapping_justification mapping_tool  confidence subject_match_field  \\\n",
       "8      semapv:LexicalMatching       oaklib         0.5          rdfs:label   \n",
       "9      semapv:LexicalMatching       oaklib         0.5          rdfs:label   \n",
       "39     semapv:LexicalMatching       oaklib         0.5          rdfs:label   \n",
       "78     semapv:LexicalMatching       oaklib         0.5          rdfs:label   \n",
       "162    semapv:LexicalMatching       oaklib         0.5              rdf:ID   \n",
       "...                       ...          ...         ...                 ...   \n",
       "16009  semapv:LexicalMatching       oaklib         0.5          rdfs:label   \n",
       "16151  semapv:LexicalMatching       oaklib         0.5          rdfs:label   \n",
       "16338  semapv:LexicalMatching       oaklib         0.5          rdfs:label   \n",
       "16339  semapv:LexicalMatching       oaklib         0.5          rdfs:label   \n",
       "16344  semapv:LexicalMatching       oaklib         0.5          rdfs:label   \n",
       "\n",
       "          object_match_field   match_string subject_prefix object_prefix  \n",
       "8                 rdfs:label            bar           ENVO           SIO  \n",
       "9                 rdfs:label          slope           ENVO           SIO  \n",
       "39     oio:hasRelatedSynonym        isthmus           ENVO        UBERON  \n",
       "78       oio:hasBroadSynonym           bulb             PO        UBERON  \n",
       "162          skos:exactMatch  envo:00000011           ENVO     GOLDTERMS  \n",
       "...                      ...            ...            ...           ...  \n",
       "16009    oio:hasExactSynonym          fruit             PO        FOODON  \n",
       "16151             rdfs:label    nodule root             PO          ENVO  \n",
       "16338    oio:hasExactSynonym           stem             PO          CHMO  \n",
       "16339    oio:hasExactSynonym           leaf             PO          CHMO  \n",
       "16344  oio:hasRelatedSynonym           stem             PO          CHMO  \n",
       "\n",
       "[1000 rows x 13 columns]"
      ],
      "text/html": [
       "<div>\n",
       "<style scoped>\n",
       "    .dataframe tbody tr th:only-of-type {\n",
       "        vertical-align: middle;\n",
       "    }\n",
       "\n",
       "    .dataframe tbody tr th {\n",
       "        vertical-align: top;\n",
       "    }\n",
       "\n",
       "    .dataframe thead th {\n",
       "        text-align: right;\n",
       "    }\n",
       "</style>\n",
       "<table border=\"1\" class=\"dataframe\">\n",
       "  <thead>\n",
       "    <tr style=\"text-align: right;\">\n",
       "      <th></th>\n",
       "      <th>subject_id</th>\n",
       "      <th>subject_label</th>\n",
       "      <th>predicate_id</th>\n",
       "      <th>object_id</th>\n",
       "      <th>object_label</th>\n",
       "      <th>mapping_justification</th>\n",
       "      <th>mapping_tool</th>\n",
       "      <th>confidence</th>\n",
       "      <th>subject_match_field</th>\n",
       "      <th>object_match_field</th>\n",
       "      <th>match_string</th>\n",
       "      <th>subject_prefix</th>\n",
       "      <th>object_prefix</th>\n",
       "    </tr>\n",
       "  </thead>\n",
       "  <tbody>\n",
       "    <tr>\n",
       "      <th>8</th>\n",
       "      <td>ENVO:00000167</td>\n",
       "      <td>bar</td>\n",
       "      <td>skos:closeMatch</td>\n",
       "      <td>SIO:000519</td>\n",
       "      <td>bar</td>\n",
       "      <td>semapv:LexicalMatching</td>\n",
       "      <td>oaklib</td>\n",
       "      <td>0.5</td>\n",
       "      <td>rdfs:label</td>\n",
       "      <td>rdfs:label</td>\n",
       "      <td>bar</td>\n",
       "      <td>ENVO</td>\n",
       "      <td>SIO</td>\n",
       "    </tr>\n",
       "    <tr>\n",
       "      <th>9</th>\n",
       "      <td>ENVO:00002000</td>\n",
       "      <td>slope</td>\n",
       "      <td>skos:closeMatch</td>\n",
       "      <td>SIO:001184</td>\n",
       "      <td>slope</td>\n",
       "      <td>semapv:LexicalMatching</td>\n",
       "      <td>oaklib</td>\n",
       "      <td>0.5</td>\n",
       "      <td>rdfs:label</td>\n",
       "      <td>rdfs:label</td>\n",
       "      <td>slope</td>\n",
       "      <td>ENVO</td>\n",
       "      <td>SIO</td>\n",
       "    </tr>\n",
       "    <tr>\n",
       "      <th>39</th>\n",
       "      <td>ENVO:00000174</td>\n",
       "      <td>isthmus</td>\n",
       "      <td>skos:closeMatch</td>\n",
       "      <td>UBERON:0003052</td>\n",
       "      <td>midbrain-hindbrain boundary</td>\n",
       "      <td>semapv:LexicalMatching</td>\n",
       "      <td>oaklib</td>\n",
       "      <td>0.5</td>\n",
       "      <td>rdfs:label</td>\n",
       "      <td>oio:hasRelatedSynonym</td>\n",
       "      <td>isthmus</td>\n",
       "      <td>ENVO</td>\n",
       "      <td>UBERON</td>\n",
       "    </tr>\n",
       "    <tr>\n",
       "      <th>78</th>\n",
       "      <td>PO:0025356</td>\n",
       "      <td>bulb</td>\n",
       "      <td>skos:closeMatch</td>\n",
       "      <td>UBERON:0001896</td>\n",
       "      <td>medulla oblongata</td>\n",
       "      <td>semapv:LexicalMatching</td>\n",
       "      <td>oaklib</td>\n",
       "      <td>0.5</td>\n",
       "      <td>rdfs:label</td>\n",
       "      <td>oio:hasBroadSynonym</td>\n",
       "      <td>bulb</td>\n",
       "      <td>PO</td>\n",
       "      <td>UBERON</td>\n",
       "    </tr>\n",
       "    <tr>\n",
       "      <th>162</th>\n",
       "      <td>ENVO:00000011</td>\n",
       "      <td>garden</td>\n",
       "      <td>skos:closeMatch</td>\n",
       "      <td>GOLDTERMS:5774</td>\n",
       "      <td>Environmental &gt; Terrestrial &gt; Soil &gt; Garden</td>\n",
       "      <td>semapv:LexicalMatching</td>\n",
       "      <td>oaklib</td>\n",
       "      <td>0.5</td>\n",
       "      <td>rdf:ID</td>\n",
       "      <td>skos:exactMatch</td>\n",
       "      <td>envo:00000011</td>\n",
       "      <td>ENVO</td>\n",
       "      <td>GOLDTERMS</td>\n",
       "    </tr>\n",
       "    <tr>\n",
       "      <th>...</th>\n",
       "      <td>...</td>\n",
       "      <td>...</td>\n",
       "      <td>...</td>\n",
       "      <td>...</td>\n",
       "      <td>...</td>\n",
       "      <td>...</td>\n",
       "      <td>...</td>\n",
       "      <td>...</td>\n",
       "      <td>...</td>\n",
       "      <td>...</td>\n",
       "      <td>...</td>\n",
       "      <td>...</td>\n",
       "      <td>...</td>\n",
       "    </tr>\n",
       "    <tr>\n",
       "      <th>16009</th>\n",
       "      <td>PO:0009001</td>\n",
       "      <td>fruit</td>\n",
       "      <td>skos:closeMatch</td>\n",
       "      <td>FOODON:03304644</td>\n",
       "      <td>fruit (whole, raw)</td>\n",
       "      <td>semapv:LexicalMatching</td>\n",
       "      <td>oaklib</td>\n",
       "      <td>0.5</td>\n",
       "      <td>rdfs:label</td>\n",
       "      <td>oio:hasExactSynonym</td>\n",
       "      <td>fruit</td>\n",
       "      <td>PO</td>\n",
       "      <td>FOODON</td>\n",
       "    </tr>\n",
       "    <tr>\n",
       "      <th>16151</th>\n",
       "      <td>PO:0003023</td>\n",
       "      <td>root nodule</td>\n",
       "      <td>skos:closeMatch</td>\n",
       "      <td>ENVO:01000164</td>\n",
       "      <td>root nodule</td>\n",
       "      <td>semapv:LexicalMatching</td>\n",
       "      <td>oaklib</td>\n",
       "      <td>0.5</td>\n",
       "      <td>rdfs:label</td>\n",
       "      <td>rdfs:label</td>\n",
       "      <td>nodule root</td>\n",
       "      <td>PO</td>\n",
       "      <td>ENVO</td>\n",
       "    </tr>\n",
       "    <tr>\n",
       "      <th>16338</th>\n",
       "      <td>PO:0009047</td>\n",
       "      <td>stem</td>\n",
       "      <td>skos:closeMatch</td>\n",
       "      <td>CHMO:0000086</td>\n",
       "      <td>scanning transmission electron microscopy</td>\n",
       "      <td>semapv:LexicalMatching</td>\n",
       "      <td>oaklib</td>\n",
       "      <td>0.5</td>\n",
       "      <td>rdfs:label</td>\n",
       "      <td>oio:hasExactSynonym</td>\n",
       "      <td>stem</td>\n",
       "      <td>PO</td>\n",
       "      <td>CHMO</td>\n",
       "    </tr>\n",
       "    <tr>\n",
       "      <th>16339</th>\n",
       "      <td>PO:0025034</td>\n",
       "      <td>leaf</td>\n",
       "      <td>skos:closeMatch</td>\n",
       "      <td>CHMO:0000284</td>\n",
       "      <td>laser-enhanced atomic fluorescence spectroscopy</td>\n",
       "      <td>semapv:LexicalMatching</td>\n",
       "      <td>oaklib</td>\n",
       "      <td>0.5</td>\n",
       "      <td>rdfs:label</td>\n",
       "      <td>oio:hasExactSynonym</td>\n",
       "      <td>leaf</td>\n",
       "      <td>PO</td>\n",
       "      <td>CHMO</td>\n",
       "    </tr>\n",
       "    <tr>\n",
       "      <th>16344</th>\n",
       "      <td>PO:0009047</td>\n",
       "      <td>stem</td>\n",
       "      <td>skos:closeMatch</td>\n",
       "      <td>CHMO:0002649</td>\n",
       "      <td>scanning transmission electron microscope</td>\n",
       "      <td>semapv:LexicalMatching</td>\n",
       "      <td>oaklib</td>\n",
       "      <td>0.5</td>\n",
       "      <td>rdfs:label</td>\n",
       "      <td>oio:hasRelatedSynonym</td>\n",
       "      <td>stem</td>\n",
       "      <td>PO</td>\n",
       "      <td>CHMO</td>\n",
       "    </tr>\n",
       "  </tbody>\n",
       "</table>\n",
       "<p>1000 rows × 13 columns</p>\n",
       "</div>"
      ]
     },
     "execution_count": 29,
     "metadata": {},
     "output_type": "execute_result"
    }
   ],
   "execution_count": 29
  },
  {
   "metadata": {
    "ExecuteTime": {
     "end_time": "2025-02-24T18:57:42.578979Z",
     "start_time": "2025-02-24T18:57:42.574658Z"
    }
   },
   "cell_type": "code",
   "source": "predictable_df = pd.concat([mixs_nmdc_subj_frame, reversed_obj_frame, enriched_for_pvs_frame], axis=0, ignore_index=True)",
   "id": "8884d7b675ac8ecc",
   "outputs": [],
   "execution_count": 30
  },
  {
   "metadata": {
    "ExecuteTime": {
     "end_time": "2025-02-24T18:57:42.658595Z",
     "start_time": "2025-02-24T18:57:42.621562Z"
    }
   },
   "cell_type": "code",
   "source": [
    "# Remove duplicate rows and force a new copy\n",
    "unique_df = predictable_df.drop_duplicates().copy()"
   ],
   "id": "61d7c5764562446a",
   "outputs": [],
   "execution_count": 31
  },
  {
   "metadata": {
    "ExecuteTime": {
     "end_time": "2025-02-24T18:57:42.710107Z",
     "start_time": "2025-02-24T18:57:42.704392Z"
    }
   },
   "cell_type": "code",
   "source": "unique_df['subject_prefix'].value_counts()",
   "id": "ab8347f1691dff7e",
   "outputs": [
    {
     "data": {
      "text/plain": [
       "subject_prefix\n",
       "nmdc    2876\n",
       "ENVO     884\n",
       "mixs     352\n",
       "PO       116\n",
       "Name: count, dtype: int64"
      ]
     },
     "execution_count": 32,
     "metadata": {},
     "output_type": "execute_result"
    }
   ],
   "execution_count": 32
  },
  {
   "metadata": {
    "ExecuteTime": {
     "end_time": "2025-02-24T18:57:42.755026Z",
     "start_time": "2025-02-24T18:57:42.748878Z"
    }
   },
   "cell_type": "code",
   "source": "unique_df['object_prefix'].value_counts()",
   "id": "84945af877292f8f",
   "outputs": [
    {
     "data": {
      "text/plain": [
       "object_prefix\n",
       "nmdc         991\n",
       "GOLDVOCAB    463\n",
       "sweet        454\n",
       "GOLDTERMS    311\n",
       "NCIT         299\n",
       "            ... \n",
       "FLOPO          1\n",
       "CHEMINF        1\n",
       "PO             1\n",
       "PCO            1\n",
       "ECOSIM         1\n",
       "Name: count, Length: 74, dtype: int64"
      ]
     },
     "execution_count": 33,
     "metadata": {},
     "output_type": "execute_result"
    }
   ],
   "execution_count": 33
  },
  {
   "metadata": {
    "ExecuteTime": {
     "end_time": "2025-02-24T18:57:42.936255Z",
     "start_time": "2025-02-24T18:57:42.903876Z"
    }
   },
   "cell_type": "code",
   "source": [
    "# Write the combined DataFrame to a TSV\n",
    "unique_df.to_csv(output_tsv, sep='\\t', index=False)\n",
    "\n",
    "print(f\"Combined TSV written to {output_tsv}\")\n"
   ],
   "id": "7f1aa61113211f28",
   "outputs": [
    {
     "name": "stdout",
     "output_type": "stream",
     "text": [
      "Combined TSV written to lexmatch-combined.tsv\n"
     ]
    }
   ],
   "execution_count": 34
  },
  {
   "metadata": {
    "ExecuteTime": {
     "end_time": "2025-02-24T18:57:43.010930Z",
     "start_time": "2025-02-24T18:57:43.007976Z"
    }
   },
   "cell_type": "code",
   "source": [
    "# Read the file and create a set of lowercase strings\n",
    "with open(for_lexmatch_txt, 'r') as f:\n",
    "    requested_ontologies = {line.strip().lower() for line in f if len(line.strip().lower()) > 0}"
   ],
   "id": "edc0ae2de1974c23",
   "outputs": [],
   "execution_count": 35
  },
  {
   "metadata": {
    "ExecuteTime": {
     "end_time": "2025-02-24T18:57:43.079708Z",
     "start_time": "2025-02-24T18:57:43.075194Z"
    }
   },
   "cell_type": "code",
   "source": [
    "# Get DataFrame prefixes as a set\n",
    "hit_prefixes = set(unique_df['object_prefix'].str.lower())"
   ],
   "id": "e56c21240d148270",
   "outputs": [],
   "execution_count": 36
  },
  {
   "metadata": {
    "ExecuteTime": {
     "end_time": "2025-02-24T18:57:43.208612Z",
     "start_time": "2025-02-24T18:57:43.205997Z"
    }
   },
   "cell_type": "code",
   "source": [
    "requests_only = list(requested_ontologies - hit_prefixes)\n",
    "requests_only.sort()"
   ],
   "id": "247b0a57805d038c",
   "outputs": [],
   "execution_count": 37
  },
  {
   "metadata": {
    "ExecuteTime": {
     "end_time": "2025-02-24T18:57:43.252071Z",
     "start_time": "2025-02-24T18:57:43.247979Z"
    }
   },
   "cell_type": "code",
   "source": "requests_only",
   "id": "7a91c1887c7c786c",
   "outputs": [
    {
     "data": {
      "text/plain": [
       "['cob', 'ecto', 'mop', 'omo', 'schema-dot-org', 'sweetall']"
      ]
     },
     "execution_count": 38,
     "metadata": {},
     "output_type": "execute_result"
    }
   ],
   "execution_count": 38
  },
  {
   "metadata": {
    "ExecuteTime": {
     "end_time": "2025-02-24T18:57:43.306898Z",
     "start_time": "2025-02-24T18:57:43.304138Z"
    }
   },
   "cell_type": "code",
   "source": [
    "hits_only = list(hit_prefixes - requested_ontologies )\n",
    "hits_only.sort()"
   ],
   "id": "eb7694ff27ed472a",
   "outputs": [],
   "execution_count": 39
  },
  {
   "metadata": {
    "ExecuteTime": {
     "end_time": "2025-02-24T18:57:43.433663Z",
     "start_time": "2025-02-24T18:57:43.429419Z"
    }
   },
   "cell_type": "code",
   "source": "hits_only",
   "id": "7185604482e35df",
   "outputs": [
    {
     "data": {
      "text/plain": [
       "['apollo_sv',\n",
       " 'aro',\n",
       " 'bao',\n",
       " 'bfo',\n",
       " 'bspo',\n",
       " 'bto',\n",
       " 'cdao',\n",
       " 'chebi',\n",
       " 'cheminf',\n",
       " 'dce',\n",
       " 'dcterms',\n",
       " 'ecosimconcept',\n",
       " 'eupath',\n",
       " 'exo',\n",
       " 'faldo',\n",
       " 'fbbi',\n",
       " 'flopo',\n",
       " 'foodon',\n",
       " 'geno',\n",
       " 'go',\n",
       " 'goldvocab',\n",
       " 'ino',\n",
       " 'linkml',\n",
       " 'maxo',\n",
       " 'mesh',\n",
       " 'mi',\n",
       " 'mixs',\n",
       " 'mmo',\n",
       " 'mondo',\n",
       " 'mp',\n",
       " 'ncbitaxon',\n",
       " 'ncit',\n",
       " 'ncro',\n",
       " 'nmdc',\n",
       " 'obiws',\n",
       " 'obo',\n",
       " 'ogg',\n",
       " 'ogms',\n",
       " 'oio',\n",
       " 'omp',\n",
       " 'omrse',\n",
       " 'pco',\n",
       " 'pr',\n",
       " 'prov',\n",
       " 'pw',\n",
       " 'ro',\n",
       " 'ror',\n",
       " 'schema',\n",
       " 'skos',\n",
       " 'so',\n",
       " 'stato',\n",
       " 'sweet',\n",
       " 'to',\n",
       " 'uberon',\n",
       " 'uo']"
      ]
     },
     "execution_count": 40,
     "metadata": {},
     "output_type": "execute_result"
    }
   ],
   "execution_count": 40
  },
  {
   "metadata": {
    "ExecuteTime": {
     "end_time": "2025-02-24T18:57:43.477837Z",
     "start_time": "2025-02-24T18:57:43.475215Z"
    }
   },
   "cell_type": "code",
   "source": "",
   "id": "8b2e6e4a04cb5f0",
   "outputs": [],
   "execution_count": null
  }
 ],
 "metadata": {
  "kernelspec": {
   "display_name": "Python 3",
   "language": "python",
   "name": "python3"
  },
  "language_info": {
   "codemirror_mode": {
    "name": "ipython",
    "version": 2
   },
   "file_extension": ".py",
   "mimetype": "text/x-python",
   "name": "python",
   "nbconvert_exporter": "python",
   "pygments_lexer": "ipython2",
   "version": "2.7.6"
  }
 },
 "nbformat": 4,
 "nbformat_minor": 5
}
