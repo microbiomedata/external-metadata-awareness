{
 "cells": [
  {
   "metadata": {
    "ExecuteTime": {
     "end_time": "2025-02-21T19:10:08.896702Z",
     "start_time": "2025-02-21T19:10:08.510290Z"
    }
   },
   "cell_type": "code",
   "source": [
    "import os\n",
    "import pandas as pd"
   ],
   "id": "462b477a5aeeb4e8",
   "outputs": [],
   "execution_count": 1
  },
  {
   "metadata": {
    "ExecuteTime": {
     "end_time": "2025-02-21T19:25:51.509919Z",
     "start_time": "2025-02-21T19:25:51.507060Z"
    }
   },
   "cell_type": "code",
   "source": [
    "# Define the directory containing the TSV files\n",
    "directory = \"../lexmatch-output\"\n",
    "\n",
    "output_tsv = \"lexmatch-combined.tsv\"\n",
    "\n",
    "for_lexmatch_txt = '../for-lexmatch.txt'"
   ],
   "id": "6154aa2fab656b3f",
   "outputs": [],
   "execution_count": 25
  },
  {
   "cell_type": "code",
   "id": "initial_id",
   "metadata": {
    "collapsed": true,
    "ExecuteTime": {
     "end_time": "2025-02-21T19:10:11.317708Z",
     "start_time": "2025-02-21T19:10:09.029955Z"
    }
   },
   "source": [
    "# Initialize an empty list to collect DataFrames\n",
    "dataframes = []\n",
    "\n",
    "# Loop through each file in the directory\n",
    "for filename in os.listdir(directory):\n",
    "    if filename.endswith(\".tsv\"):\n",
    "        # print(filename)\n",
    "        file_path = os.path.join(directory, filename)\n",
    "\n",
    "        # Read the file while skipping rows that start with #\n",
    "        with open(file_path, 'r') as f:\n",
    "            lines = [line for line in f if not line.startswith('#')]\n",
    "\n",
    "        # Convert the filtered lines to a DataFrame\n",
    "        if lines:\n",
    "            from io import StringIO\n",
    "            df = pd.read_csv(StringIO(''.join(lines)), sep='\\t')\n",
    "            dataframes.append(df)\n"
   ],
   "outputs": [],
   "execution_count": 3
  },
  {
   "metadata": {
    "ExecuteTime": {
     "end_time": "2025-02-21T19:10:11.372646Z",
     "start_time": "2025-02-21T19:10:11.335720Z"
    }
   },
   "cell_type": "code",
   "source": [
    "# Concatenate all DataFrames into a single DataFrame\n",
    "if dataframes:\n",
    "    combined_df = pd.concat(dataframes, ignore_index=True)\n",
    "    print(\"Aggregated DataFrame created successfully!\")\n",
    "else:\n",
    "    print(\"No data found.\")\n"
   ],
   "id": "453ed18d2b4e3c8c",
   "outputs": [
    {
     "name": "stdout",
     "output_type": "stream",
     "text": [
      "Aggregated DataFrame created successfully!\n"
     ]
    }
   ],
   "execution_count": 4
  },
  {
   "metadata": {
    "ExecuteTime": {
     "end_time": "2025-02-21T19:10:12.156465Z",
     "start_time": "2025-02-21T19:10:11.391728Z"
    }
   },
   "cell_type": "code",
   "source": [
    "# Remove duplicate rows and force a new copy\n",
    "unique_df = combined_df.drop_duplicates().copy()\n"
   ],
   "id": "6a88ab6a49e7c22e",
   "outputs": [],
   "execution_count": 5
  },
  {
   "metadata": {
    "ExecuteTime": {
     "end_time": "2025-02-21T19:10:12.283511Z",
     "start_time": "2025-02-21T19:10:12.177487Z"
    }
   },
   "cell_type": "code",
   "source": "non_reflexive_df = unique_df[unique_df['subject_id'] != unique_df['object_id']]",
   "id": "2492c7410f8ba7ec",
   "outputs": [],
   "execution_count": 6
  },
  {
   "metadata": {
    "ExecuteTime": {
     "end_time": "2025-02-21T19:10:14.622945Z",
     "start_time": "2025-02-21T19:10:12.306339Z"
    }
   },
   "cell_type": "code",
   "source": [
    "# Step 1: Split prefixes first\n",
    "non_reflexive_df['subject_prefix'] = non_reflexive_df['subject_id'].str.split(':').str[0]\n",
    "non_reflexive_df['object_prefix'] = non_reflexive_df['object_id'].str.split(':').str[0]"
   ],
   "id": "e0402749a2b325f6",
   "outputs": [],
   "execution_count": 7
  },
  {
   "metadata": {
    "ExecuteTime": {
     "end_time": "2025-02-21T19:10:14.684896Z",
     "start_time": "2025-02-21T19:10:14.682088Z"
    }
   },
   "cell_type": "code",
   "source": [
    "# Identify all subject_* and object_* columns dynamically\n",
    "subject_columns = [col for col in non_reflexive_df.columns if col.startswith('subject_')]\n",
    "object_columns = [col for col in non_reflexive_df.columns if col.startswith('object_')]"
   ],
   "id": "8f9eacb6bb228927",
   "outputs": [],
   "execution_count": 8
  },
  {
   "metadata": {
    "ExecuteTime": {
     "end_time": "2025-02-21T19:10:14.757208Z",
     "start_time": "2025-02-21T19:10:14.751635Z"
    }
   },
   "cell_type": "code",
   "source": "subject_columns",
   "id": "f548c897695cb1a3",
   "outputs": [
    {
     "data": {
      "text/plain": [
       "['subject_id', 'subject_label', 'subject_match_field', 'subject_prefix']"
      ]
     },
     "execution_count": 9,
     "metadata": {},
     "output_type": "execute_result"
    }
   ],
   "execution_count": 9
  },
  {
   "metadata": {
    "ExecuteTime": {
     "end_time": "2025-02-21T19:10:14.813938Z",
     "start_time": "2025-02-21T19:10:14.803848Z"
    }
   },
   "cell_type": "code",
   "source": "object_columns",
   "id": "eb51b010195f9234",
   "outputs": [
    {
     "data": {
      "text/plain": [
       "['object_id', 'object_label', 'object_match_field', 'object_prefix']"
      ]
     },
     "execution_count": 10,
     "metadata": {},
     "output_type": "execute_result"
    }
   ],
   "execution_count": 10
  },
  {
   "metadata": {
    "ExecuteTime": {
     "end_time": "2025-02-21T19:10:14.886530Z",
     "start_time": "2025-02-21T19:10:14.856906Z"
    }
   },
   "cell_type": "code",
   "source": "mixs_nmdc_subj_frame = non_reflexive_df[non_reflexive_df[\"subject_prefix\"].isin(['mixs', 'nmdc'])]",
   "id": "a2aae29cc5957d4f",
   "outputs": [],
   "execution_count": 11
  },
  {
   "metadata": {
    "ExecuteTime": {
     "end_time": "2025-02-21T19:10:15.055632Z",
     "start_time": "2025-02-21T19:10:15.015085Z"
    }
   },
   "cell_type": "code",
   "source": "mixs_nmdc_obj_frame = non_reflexive_df[non_reflexive_df[\"object_prefix\"].isin(['mixs', 'nmdc'])]",
   "id": "9cafb48630b3d4da",
   "outputs": [],
   "execution_count": 13
  },
  {
   "metadata": {
    "ExecuteTime": {
     "end_time": "2025-02-21T19:10:15.167698Z",
     "start_time": "2025-02-21T19:10:15.162018Z"
    }
   },
   "cell_type": "code",
   "source": [
    "# Create a copy with swapped columns\n",
    "reversed_df = mixs_nmdc_obj_frame.rename(columns={\n",
    "    'subject_id': 'object_id_temp',\n",
    "    'subject_label': 'object_label_temp',\n",
    "    'subject_prefix': 'object_prefix_temp',\n",
    "    'subject_match_field': 'object_match_field_temp',\n",
    "\n",
    "    'object_id': 'subject_id',\n",
    "    'object_label': 'subject_label',\n",
    "    'object_prefix': 'subject_prefix',\n",
    "    'object_match_field': 'subject_match_field'\n",
    "})\n",
    "\n",
    "# # Complete the swap by renaming the temporary columns\n",
    "reversed_df = reversed_df.rename(columns={\n",
    "    'object_id_temp': 'object_id',\n",
    "    'object_label_temp': 'object_label',\n",
    "    'object_prefix_temp': 'object_prefix',\n",
    "    'object_match_field_temp': 'object_match_field'\n",
    "})"
   ],
   "id": "d09d1eb0b5ebf8f9",
   "outputs": [],
   "execution_count": 15
  },
  {
   "metadata": {
    "ExecuteTime": {
     "end_time": "2025-02-21T19:10:15.275119Z",
     "start_time": "2025-02-21T19:10:15.270701Z"
    }
   },
   "cell_type": "code",
   "source": "predictable_df = pd.concat([mixs_nmdc_subj_frame, reversed_df], axis=0, ignore_index=True)",
   "id": "8884d7b675ac8ecc",
   "outputs": [],
   "execution_count": 17
  },
  {
   "metadata": {
    "ExecuteTime": {
     "end_time": "2025-02-21T19:10:15.419825Z",
     "start_time": "2025-02-21T19:10:15.393080Z"
    }
   },
   "cell_type": "code",
   "source": [
    "# Remove duplicate rows and force a new copy\n",
    "unique_df = predictable_df.drop_duplicates().copy()"
   ],
   "id": "61d7c5764562446a",
   "outputs": [],
   "execution_count": 19
  },
  {
   "metadata": {
    "ExecuteTime": {
     "end_time": "2025-02-21T19:10:15.563749Z",
     "start_time": "2025-02-21T19:10:15.557153Z"
    }
   },
   "cell_type": "code",
   "source": "unique_df['subject_prefix'].value_counts()",
   "id": "ab8347f1691dff7e",
   "outputs": [
    {
     "data": {
      "text/plain": [
       "subject_prefix\n",
       "nmdc    2283\n",
       "mixs     230\n",
       "Name: count, dtype: int64"
      ]
     },
     "execution_count": 20,
     "metadata": {},
     "output_type": "execute_result"
    }
   ],
   "execution_count": 20
  },
  {
   "metadata": {
    "ExecuteTime": {
     "end_time": "2025-02-21T19:21:50.184722Z",
     "start_time": "2025-02-21T19:21:50.178725Z"
    }
   },
   "cell_type": "code",
   "source": "unique_df['object_prefix'].value_counts()",
   "id": "84945af877292f8f",
   "outputs": [
    {
     "data": {
      "text/plain": [
       "object_prefix\n",
       "nmdc       991\n",
       "ENVO       209\n",
       "CHEBI      107\n",
       "ito         99\n",
       "PATO        84\n",
       "          ... \n",
       "INO          1\n",
       "HSO          1\n",
       "PCO          1\n",
       "FLOPO        1\n",
       "CHEMINF      1\n",
       "Name: count, Length: 87, dtype: int64"
      ]
     },
     "execution_count": 22,
     "metadata": {},
     "output_type": "execute_result"
    }
   ],
   "execution_count": 22
  },
  {
   "metadata": {
    "ExecuteTime": {
     "end_time": "2025-02-21T19:10:15.711967Z",
     "start_time": "2025-02-21T19:10:15.690740Z"
    }
   },
   "cell_type": "code",
   "source": [
    "# Write the combined DataFrame to a TSV\n",
    "unique_df.to_csv(output_tsv, sep='\\t', index=False)\n",
    "\n",
    "print(f\"Combined TSV written to {output_tsv}\")\n"
   ],
   "id": "7f1aa61113211f28",
   "outputs": [
    {
     "name": "stdout",
     "output_type": "stream",
     "text": [
      "Combined TSV written to lexmatch-combined.tsv\n"
     ]
    }
   ],
   "execution_count": 21
  },
  {
   "metadata": {
    "ExecuteTime": {
     "end_time": "2025-02-21T19:28:40.500293Z",
     "start_time": "2025-02-21T19:28:40.495540Z"
    }
   },
   "cell_type": "code",
   "source": [
    "# Read the file and create a set of lowercase strings\n",
    "with open(for_lexmatch_txt, 'r') as f:\n",
    "    requested_ontologies = {line.strip().lower() for line in f if len(line.strip().lower()) > 0}"
   ],
   "id": "edc0ae2de1974c23",
   "outputs": [],
   "execution_count": 33
  },
  {
   "metadata": {
    "ExecuteTime": {
     "end_time": "2025-02-21T19:28:41.138320Z",
     "start_time": "2025-02-21T19:28:41.133980Z"
    }
   },
   "cell_type": "code",
   "source": [
    "# Get DataFrame prefixes as a set\n",
    "hit_prefixes = set(unique_df['object_prefix'].str.lower())"
   ],
   "id": "e56c21240d148270",
   "outputs": [],
   "execution_count": 34
  },
  {
   "metadata": {
    "ExecuteTime": {
     "end_time": "2025-02-21T19:28:41.737824Z",
     "start_time": "2025-02-21T19:28:41.734430Z"
    }
   },
   "cell_type": "code",
   "source": [
    "requests_only = list(requested_ontologies - hit_prefixes)\n",
    "requests_only.sort()"
   ],
   "id": "247b0a57805d038c",
   "outputs": [],
   "execution_count": 35
  },
  {
   "metadata": {
    "ExecuteTime": {
     "end_time": "2025-02-21T19:30:06.866303Z",
     "start_time": "2025-02-21T19:30:06.861320Z"
    }
   },
   "cell_type": "code",
   "source": "requests_only",
   "id": "7a91c1887c7c786c",
   "outputs": [
    {
     "data": {
      "text/plain": [
       "['bco',\n",
       " 'biopax',\n",
       " 'biovoices',\n",
       " 'chemont',\n",
       " 'chiro',\n",
       " 'cio',\n",
       " 'cob',\n",
       " 'cro',\n",
       " 'doid',\n",
       " 'duo',\n",
       " 'eco',\n",
       " 'ecosim',\n",
       " 'ecto',\n",
       " 'enigma_context',\n",
       " 'fao',\n",
       " 'gecko',\n",
       " 'geo',\n",
       " 'gsso',\n",
       " 'hom',\n",
       " 'hsapdv',\n",
       " 'iceo',\n",
       " 'ico',\n",
       " 'kisao',\n",
       " 'mamo',\n",
       " 'mco',\n",
       " 'micro',\n",
       " 'mlo',\n",
       " 'mop',\n",
       " 'nomen',\n",
       " 'obcs',\n",
       " 'obib',\n",
       " 'occo',\n",
       " 'ogsf',\n",
       " 'ohd',\n",
       " 'ohmi',\n",
       " 'ohpi',\n",
       " 'omo',\n",
       " 'ornaseq',\n",
       " 'ovae',\n",
       " 'pdro',\n",
       " 'peco',\n",
       " 'phipo',\n",
       " 'po',\n",
       " 'ppo',\n",
       " 'proco',\n",
       " 'prov',\n",
       " 'psdo',\n",
       " 'pso',\n",
       " 'rbo']"
      ]
     },
     "execution_count": 39,
     "metadata": {},
     "output_type": "execute_result"
    }
   ],
   "execution_count": 39
  },
  {
   "metadata": {
    "ExecuteTime": {
     "end_time": "2025-02-21T19:29:36.095647Z",
     "start_time": "2025-02-21T19:29:36.092826Z"
    }
   },
   "cell_type": "code",
   "source": [
    "hits_only = list(hit_prefixes - requested_ontologies )\n",
    "hits_only.sort()"
   ],
   "id": "eb7694ff27ed472a",
   "outputs": [],
   "execution_count": 37
  },
  {
   "metadata": {
    "ExecuteTime": {
     "end_time": "2025-02-21T19:29:36.753009Z",
     "start_time": "2025-02-21T19:29:36.749019Z"
    }
   },
   "cell_type": "code",
   "source": "hits_only",
   "id": "7185604482e35df",
   "outputs": [
    {
     "data": {
      "text/plain": [
       "['bfo',\n",
       " 'chebi',\n",
       " 'chemontid',\n",
       " 'dce',\n",
       " 'dcterms',\n",
       " 'dtype',\n",
       " 'ecosimconcept',\n",
       " 'efo',\n",
       " 'faldo',\n",
       " 'goldvocab',\n",
       " 'linkml',\n",
       " 'maxo',\n",
       " 'mixs',\n",
       " 'mondo',\n",
       " 'mp',\n",
       " 'ncbitaxon',\n",
       " 'ncit',\n",
       " 'nmdc',\n",
       " 'nmrcv',\n",
       " 'obo',\n",
       " 'ogg',\n",
       " 'ogi',\n",
       " 'oio',\n",
       " 'ontorion',\n",
       " 'pr',\n",
       " 'qudtschema',\n",
       " 'ro',\n",
       " 'ror',\n",
       " 'sio',\n",
       " 'skos',\n",
       " 'so',\n",
       " 'stato',\n",
       " 'symp',\n",
       " 'uberon',\n",
       " 'uo',\n",
       " 'vaem']"
      ]
     },
     "execution_count": 38,
     "metadata": {},
     "output_type": "execute_result"
    }
   ],
   "execution_count": 38
  },
  {
   "metadata": {},
   "cell_type": "code",
   "outputs": [],
   "execution_count": null,
   "source": "",
   "id": "8b2e6e4a04cb5f0"
  }
 ],
 "metadata": {
  "kernelspec": {
   "display_name": "Python 3",
   "language": "python",
   "name": "python3"
  },
  "language_info": {
   "codemirror_mode": {
    "name": "ipython",
    "version": 2
   },
   "file_extension": ".py",
   "mimetype": "text/x-python",
   "name": "python",
   "nbconvert_exporter": "python",
   "pygments_lexer": "ipython2",
   "version": "2.7.6"
  }
 },
 "nbformat": 4,
 "nbformat_minor": 5
}
