{
 "cells": [
  {
   "metadata": {
    "ExecuteTime": {
     "end_time": "2024-10-09T14:21:52.603368Z",
     "start_time": "2024-10-09T14:21:49.898324Z"
    }
   },
   "cell_type": "code",
   "source": [
    "from oaklib import get_adapter\n",
    "from oaklib.datamodels.vocabulary import IS_A\n",
    "from collections import deque\n",
    "import pprint"
   ],
   "id": "2c53fcbdbf51326",
   "outputs": [],
   "execution_count": 1
  },
  {
   "metadata": {
    "ExecuteTime": {
     "end_time": "2024-10-09T14:21:52.610864Z",
     "start_time": "2024-10-09T14:21:52.607439Z"
    }
   },
   "cell_type": "code",
   "source": "oak_adapter_string = \"sqlite:obo:envo\"",
   "id": "dd4ebb56ee3ec68e",
   "outputs": [],
   "execution_count": 2
  },
  {
   "cell_type": "code",
   "id": "initial_id",
   "metadata": {
    "collapsed": true,
    "ExecuteTime": {
     "end_time": "2024-10-09T14:21:52.697139Z",
     "start_time": "2024-10-09T14:21:52.670113Z"
    }
   },
   "source": "adapter = get_adapter(oak_adapter_string)",
   "outputs": [],
   "execution_count": 3
  },
  {
   "metadata": {
    "ExecuteTime": {
     "end_time": "2024-10-09T14:21:52.744696Z",
     "start_time": "2024-10-09T14:21:52.712573Z"
    }
   },
   "cell_type": "code",
   "source": [
    "terrestrial_biome_curie_generator = adapter.basic_search(\"terrestrial biome\")\n",
    "terrestrial_biome_curie_list = list(terrestrial_biome_curie_generator)\n",
    "print(len(terrestrial_biome_curie_list))"
   ],
   "id": "9aa91631863acf5e",
   "outputs": [
    {
     "name": "stdout",
     "output_type": "stream",
     "text": [
      "1\n"
     ]
    }
   ],
   "execution_count": 4
  },
  {
   "metadata": {
    "ExecuteTime": {
     "end_time": "2024-10-09T14:21:52.765835Z",
     "start_time": "2024-10-09T14:21:52.763088Z"
    }
   },
   "cell_type": "code",
   "source": "terrestrial_biome_curie = terrestrial_biome_curie_list[0]",
   "id": "4a634643576daa68",
   "outputs": [],
   "execution_count": 5
  },
  {
   "metadata": {
    "ExecuteTime": {
     "end_time": "2024-10-09T14:21:52.812093Z",
     "start_time": "2024-10-09T14:21:52.808896Z"
    }
   },
   "cell_type": "code",
   "source": "terrestrial_biomes = adapter.descendants(terrestrial_biome_curie, predicates=[IS_A])",
   "id": "3a551a6dfda05ea3",
   "outputs": [],
   "execution_count": 6
  },
  {
   "metadata": {
    "ExecuteTime": {
     "end_time": "2024-10-09T14:21:52.864241Z",
     "start_time": "2024-10-09T14:21:52.855080Z"
    }
   },
   "cell_type": "code",
   "source": "biomes = adapter.descendants(next(adapter.basic_search(\"terrestrial biome\")), predicates=[IS_A])",
   "id": "5eb41a1b56597425",
   "outputs": [],
   "execution_count": 7
  },
  {
   "metadata": {
    "ExecuteTime": {
     "end_time": "2024-10-09T14:21:52.905081Z",
     "start_time": "2024-10-09T14:21:52.901740Z"
    }
   },
   "cell_type": "code",
   "source": [
    "# for descendant in biomes:\n",
    "#     label = adapter.label(descendant)\n",
    "#     print(f\"{descendant}: {label}\")"
   ],
   "id": "aedd3009fd62940b",
   "outputs": [],
   "execution_count": 8
  },
  {
   "metadata": {
    "ExecuteTime": {
     "end_time": "2024-10-09T14:21:52.956070Z",
     "start_time": "2024-10-09T14:21:52.948123Z"
    }
   },
   "cell_type": "code",
   "source": "aquatic_biomes = adapter.descendants(next(adapter.basic_search(\"aquatic biome\")), predicates=[IS_A])",
   "id": "4fd70a5ec8ad77a2",
   "outputs": [],
   "execution_count": 9
  },
  {
   "metadata": {
    "ExecuteTime": {
     "end_time": "2024-10-09T14:21:53.042206Z",
     "start_time": "2024-10-09T14:21:52.994929Z"
    }
   },
   "cell_type": "code",
   "source": [
    "curie_to_label = {}\n",
    "\n",
    "for descendant in biomes:\n",
    "    label = adapter.label(descendant)\n",
    "    curie_to_label[descendant] = label\n",
    "\n",
    "# # under what circumstances would we need to populate these too?\n",
    "# for descendant in terrestrial_biomes:\n",
    "#     label = adapter.label(descendant)\n",
    "#     curie_to_label[descendant] = label\n",
    "#     \n",
    "# for descendant in aquatic_biomes:\n",
    "#     label = adapter.label(descendant)\n",
    "#     curie_to_label[descendant] = label\n",
    "    "
   ],
   "id": "61ce5bb5f5e4e6fe",
   "outputs": [],
   "execution_count": 10
  },
  {
   "metadata": {
    "ExecuteTime": {
     "end_time": "2024-10-09T14:21:53.055465Z",
     "start_time": "2024-10-09T14:21:53.051759Z"
    }
   },
   "cell_type": "code",
   "source": "pprint.pprint(curie_to_label)",
   "id": "36a28538e1a3542c",
   "outputs": [
    {
     "name": "stdout",
     "output_type": "stream",
     "text": [
      "{'ENVO:00000446': 'terrestrial biome',\n",
      " 'ENVO:01000174': 'forest biome',\n",
      " 'ENVO:01000175': 'woodland biome',\n",
      " 'ENVO:01000176': 'shrubland biome',\n",
      " 'ENVO:01000177': 'grassland biome',\n",
      " 'ENVO:01000178': 'savanna biome',\n",
      " 'ENVO:01000180': 'tundra biome',\n",
      " 'ENVO:01000181': 'mangrove biome',\n",
      " 'ENVO:01000187': 'subtropical savanna biome',\n",
      " 'ENVO:01000188': 'tropical savanna biome',\n",
      " 'ENVO:01000189': 'temperate savanna biome',\n",
      " 'ENVO:01000190': 'flooded savanna biome',\n",
      " 'ENVO:01000191': 'subtropical grassland biome',\n",
      " 'ENVO:01000192': 'tropical grassland biome',\n",
      " 'ENVO:01000193': 'temperate grassland biome',\n",
      " 'ENVO:01000194': 'montane grassland biome',\n",
      " 'ENVO:01000195': 'flooded grassland biome',\n",
      " 'ENVO:01000196': 'coniferous forest biome',\n",
      " 'ENVO:01000197': 'broadleaf forest biome',\n",
      " 'ENVO:01000198': 'mixed forest biome',\n",
      " 'ENVO:01000199': 'mediterranean forest biome',\n",
      " 'ENVO:01000200': 'tropical broadleaf forest biome',\n",
      " 'ENVO:01000201': 'subtropical broadleaf forest biome',\n",
      " 'ENVO:01000202': 'temperate broadleaf forest biome',\n",
      " 'ENVO:01000208': 'mediterranean woodland biome',\n",
      " 'ENVO:01000209': 'subtropical coniferous forest biome',\n",
      " 'ENVO:01000210': 'tropical coniferous forest biome',\n",
      " 'ENVO:01000211': 'temperate coniferous forest biome',\n",
      " 'ENVO:01000212': 'temperate mixed forest biome',\n",
      " 'ENVO:01000213': 'subtropical shrubland biome',\n",
      " 'ENVO:01000214': 'tropical shrubland biome',\n",
      " 'ENVO:01000215': 'temperate shrubland biome',\n",
      " 'ENVO:01000216': 'montane shrubland biome',\n",
      " 'ENVO:01000217': 'mediterranean shrubland biome',\n",
      " 'ENVO:01000218': 'xeric shrubland biome',\n",
      " 'ENVO:01000219': 'anthropogenic terrestrial biome',\n",
      " 'ENVO:01000220': 'tropical woodland biome',\n",
      " 'ENVO:01000221': 'temperate woodland biome',\n",
      " 'ENVO:01000222': 'subtropical woodland biome',\n",
      " 'ENVO:01000223': 'montane savanna biome',\n",
      " 'ENVO:01000224': 'mediterranean grassland biome',\n",
      " 'ENVO:01000225': 'subtropical dry broadleaf forest biome',\n",
      " 'ENVO:01000226': 'subtropical moist broadleaf forest biome',\n",
      " 'ENVO:01000227': 'tropical dry broadleaf forest biome',\n",
      " 'ENVO:01000228': 'tropical moist broadleaf forest biome',\n",
      " 'ENVO:01000229': 'mediterranean savanna biome',\n",
      " 'ENVO:01000245': 'cropland biome',\n",
      " 'ENVO:01000247': 'rangeland biome',\n",
      " 'ENVO:01000250': 'subpolar coniferous forest biome',\n",
      " 'ENVO:01001369': 'tidal mangrove shrubland',\n",
      " 'ENVO:01001505': 'alpine tundra biome',\n",
      " 'ENVO:01001798': 'tropical mixed forest biome'}\n"
     ]
    }
   ],
   "execution_count": 11
  },
  {
   "metadata": {
    "ExecuteTime": {
     "end_time": "2024-10-09T14:21:53.183865Z",
     "start_time": "2024-10-09T14:21:53.152631Z"
    }
   },
   "cell_type": "code",
   "source": [
    "# get the curies from the terrestrial_biomes\n",
    "\n",
    "terrestrial_biome_curies = [curie for curie in terrestrial_biomes]\n",
    "print(terrestrial_biome_curies)"
   ],
   "id": "ec35a9b22ae3dd9d",
   "outputs": [
    {
     "name": "stdout",
     "output_type": "stream",
     "text": [
      "['ENVO:01000250', 'ENVO:01000215', 'ENVO:01000187', 'ENVO:01000176', 'ENVO:01000212', 'ENVO:01000195', 'ENVO:01001798', 'ENVO:01000247', 'ENVO:01000197', 'ENVO:01000199', 'ENVO:01000201', 'ENVO:01000180', 'ENVO:00000446', 'ENVO:01000177', 'ENVO:01000190', 'ENVO:01000219', 'ENVO:01000223', 'ENVO:01000174', 'ENVO:01000228', 'ENVO:01000220', 'ENVO:01000213', 'ENVO:01000202', 'ENVO:01001369', 'ENVO:01000209', 'ENVO:01000194', 'ENVO:01000210', 'ENVO:01000181', 'ENVO:01000218', 'ENVO:01000229', 'ENVO:01000221', 'ENVO:01000189', 'ENVO:01000226', 'ENVO:01000214', 'ENVO:01000217', 'ENVO:01000175', 'ENVO:01000191', 'ENVO:01000196', 'ENVO:01000178', 'ENVO:01000200', 'ENVO:01000193', 'ENVO:01000188', 'ENVO:01000225', 'ENVO:01000211', 'ENVO:01000227', 'ENVO:01000198', 'ENVO:01000224', 'ENVO:01000222', 'ENVO:01000216', 'ENVO:01000192', 'ENVO:01000245', 'ENVO:01001505', 'ENVO:01000208']\n"
     ]
    }
   ],
   "execution_count": 12
  },
  {
   "metadata": {
    "ExecuteTime": {
     "end_time": "2024-10-09T14:21:53.233694Z",
     "start_time": "2024-10-09T14:21:53.203026Z"
    }
   },
   "cell_type": "code",
   "source": [
    "# get the curies from the aquatic_biomes\n",
    "aquatic_biome_curies = [curie for curie in aquatic_biomes]\n",
    "print(aquatic_biome_curies)"
   ],
   "id": "bd00d34f105a14f0",
   "outputs": [
    {
     "name": "stdout",
     "output_type": "stream",
     "text": [
      "['ENVO:01000049', 'ENVO:01000037', 'ENVO:00000893', 'ENVO:03605008', 'ENVO:00002030', 'ENVO:00000892', 'ENVO:00000873', 'ENVO:01000127', 'ENVO:01000859', 'ENVO:01000253', 'ENVO:00000889', 'ENVO:01000035', 'ENVO:01000004', 'ENVO:01000043', 'ENVO:01000048', 'ENVO:00000888', 'ENVO:01000854', 'ENVO:01000030', 'ENVO:01000032', 'ENVO:01000123', 'ENVO:01001230', 'ENVO:01000036', 'ENVO:01000041', 'ENVO:01000858', 'ENVO:01000034', 'ENVO:01000047', 'ENVO:01000053', 'ENVO:01000252', 'ENVO:01000046', 'ENVO:01000025', 'ENVO:00000887', 'ENVO:01000039', 'ENVO:01000042', 'ENVO:00000891', 'ENVO:01000040', 'ENVO:01000051', 'ENVO:01000857', 'ENVO:01000027', 'ENVO:01000024', 'ENVO:01000054', 'ENVO:01000045', 'ENVO:01000023', 'ENVO:01000033', 'ENVO:01000026', 'ENVO:01000052', 'ENVO:01000029', 'ENVO:01000022', 'ENVO:01000128', 'ENVO:01000038', 'ENVO:00000447', 'ENVO:01000028', 'ENVO:01000020', 'ENVO:01000860', 'ENVO:01000050', 'ENVO:00000890', 'ENVO:01000856']\n"
     ]
    }
   ],
   "execution_count": 13
  },
  {
   "metadata": {
    "ExecuteTime": {
     "end_time": "2024-10-09T14:21:53.313637Z",
     "start_time": "2024-10-09T14:21:53.309198Z"
    }
   },
   "cell_type": "code",
   "source": [
    "# get the biome curies as the keys of the curie_to_label dictionary\n",
    "biome_curies = [curie for curie in curie_to_label.keys()]\n",
    "print(biome_curies)\n"
   ],
   "id": "5535d408ff0f35e",
   "outputs": [
    {
     "name": "stdout",
     "output_type": "stream",
     "text": [
      "['ENVO:01000250', 'ENVO:01000215', 'ENVO:01000187', 'ENVO:01000176', 'ENVO:01000212', 'ENVO:01000195', 'ENVO:01001798', 'ENVO:01000247', 'ENVO:01000197', 'ENVO:01000199', 'ENVO:01000201', 'ENVO:01000180', 'ENVO:00000446', 'ENVO:01000177', 'ENVO:01000190', 'ENVO:01000219', 'ENVO:01000223', 'ENVO:01000174', 'ENVO:01000228', 'ENVO:01000220', 'ENVO:01000213', 'ENVO:01000202', 'ENVO:01001369', 'ENVO:01000209', 'ENVO:01000194', 'ENVO:01000210', 'ENVO:01000181', 'ENVO:01000218', 'ENVO:01000229', 'ENVO:01000221', 'ENVO:01000189', 'ENVO:01000226', 'ENVO:01000214', 'ENVO:01000217', 'ENVO:01000175', 'ENVO:01000191', 'ENVO:01000196', 'ENVO:01000178', 'ENVO:01000200', 'ENVO:01000193', 'ENVO:01000188', 'ENVO:01000225', 'ENVO:01000211', 'ENVO:01000227', 'ENVO:01000198', 'ENVO:01000224', 'ENVO:01000222', 'ENVO:01000216', 'ENVO:01000192', 'ENVO:01000245', 'ENVO:01001505', 'ENVO:01000208']\n"
     ]
    }
   ],
   "execution_count": 14
  },
  {
   "metadata": {
    "ExecuteTime": {
     "end_time": "2024-10-09T14:21:53.420181Z",
     "start_time": "2024-10-09T14:21:53.415815Z"
    }
   },
   "cell_type": "code",
   "source": [
    "# get the non-aquatic biome curies by subtracting the aquatic biome curies from the biome curies\n",
    "non_aquatic_biome_curies = list(set(biome_curies) - set(aquatic_biome_curies))\n",
    "print(non_aquatic_biome_curies)\n"
   ],
   "id": "904f7209450ae534",
   "outputs": [
    {
     "name": "stdout",
     "output_type": "stream",
     "text": [
      "['ENVO:01000201', 'ENVO:01000177', 'ENVO:01000211', 'ENVO:00000446', 'ENVO:01000215', 'ENVO:01000250', 'ENVO:01000181', 'ENVO:01000228', 'ENVO:01000191', 'ENVO:01000174', 'ENVO:01000197', 'ENVO:01000224', 'ENVO:01000213', 'ENVO:01000199', 'ENVO:01000217', 'ENVO:01001369', 'ENVO:01000195', 'ENVO:01000223', 'ENVO:01000221', 'ENVO:01000188', 'ENVO:01000198', 'ENVO:01000229', 'ENVO:01001798', 'ENVO:01000220', 'ENVO:01000196', 'ENVO:01000227', 'ENVO:01000222', 'ENVO:01000212', 'ENVO:01000245', 'ENVO:01000187', 'ENVO:01000180', 'ENVO:01000194', 'ENVO:01000176', 'ENVO:01000190', 'ENVO:01000210', 'ENVO:01000178', 'ENVO:01001505', 'ENVO:01000209', 'ENVO:01000247', 'ENVO:01000214', 'ENVO:01000219', 'ENVO:01000192', 'ENVO:01000208', 'ENVO:01000216', 'ENVO:01000200', 'ENVO:01000175', 'ENVO:01000226', 'ENVO:01000218', 'ENVO:01000189', 'ENVO:01000193', 'ENVO:01000202', 'ENVO:01000225']\n"
     ]
    }
   ],
   "execution_count": 15
  },
  {
   "metadata": {
    "ExecuteTime": {
     "end_time": "2024-10-09T14:21:53.501196Z",
     "start_time": "2024-10-09T14:21:53.496450Z"
    }
   },
   "cell_type": "code",
   "source": [
    "non_aquatic_only = list(set(non_aquatic_biome_curies) - set(terrestrial_biome_curies))\n",
    "print(non_aquatic_only)"
   ],
   "id": "7f6237ea655e886f",
   "outputs": [
    {
     "name": "stdout",
     "output_type": "stream",
     "text": [
      "[]\n"
     ]
    }
   ],
   "execution_count": 16
  },
  {
   "metadata": {
    "ExecuteTime": {
     "end_time": "2024-10-09T14:21:53.719354Z",
     "start_time": "2024-10-09T14:21:53.715867Z"
    }
   },
   "cell_type": "code",
   "source": [
    "terrestrial_only = list(set(terrestrial_biome_curies) - set(non_aquatic_biome_curies))\n",
    "print(terrestrial_only)\n"
   ],
   "id": "d5885f095c91f40d",
   "outputs": [
    {
     "name": "stdout",
     "output_type": "stream",
     "text": [
      "[]\n"
     ]
    }
   ],
   "execution_count": 17
  },
  {
   "metadata": {
    "ExecuteTime": {
     "end_time": "2024-10-09T14:21:53.822368Z",
     "start_time": "2024-10-09T14:21:53.820149Z"
    }
   },
   "cell_type": "code",
   "source": "",
   "id": "1a4f273c8fa5815a",
   "outputs": [],
   "execution_count": null
  }
 ],
 "metadata": {
  "kernelspec": {
   "display_name": "Python 3",
   "language": "python",
   "name": "python3"
  },
  "language_info": {
   "codemirror_mode": {
    "name": "ipython",
    "version": 2
   },
   "file_extension": ".py",
   "mimetype": "text/x-python",
   "name": "python",
   "nbconvert_exporter": "python",
   "pygments_lexer": "ipython2",
   "version": "2.7.6"
  }
 },
 "nbformat": 4,
 "nbformat_minor": 5
}
