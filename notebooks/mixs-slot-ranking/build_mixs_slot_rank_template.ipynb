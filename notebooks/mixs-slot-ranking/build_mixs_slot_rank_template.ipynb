{
 "cells": [
  {
   "metadata": {
    "ExecuteTime": {
     "end_time": "2025-02-26T01:29:35.931468Z",
     "start_time": "2025-02-26T01:29:35.488851Z"
    }
   },
   "cell_type": "code",
   "source": [
    "from linkml_runtime import SchemaView\n",
    "import csv"
   ],
   "id": "b49e0a0dd367e61f",
   "outputs": [],
   "execution_count": 1
  },
  {
   "cell_type": "code",
   "id": "initial_id",
   "metadata": {
    "collapsed": true,
    "ExecuteTime": {
     "end_time": "2025-02-26T01:29:35.937694Z",
     "start_time": "2025-02-26T01:29:35.935123Z"
    }
   },
   "source": "schema_url = \"https://raw.githubusercontent.com/GenomicsStandardsConsortium/mixs/refs/heads/main/src/mixs/schema/mixs.yaml\"",
   "outputs": [],
   "execution_count": 2
  },
  {
   "metadata": {
    "ExecuteTime": {
     "end_time": "2025-02-26T01:29:36.065028Z",
     "start_time": "2025-02-26T01:29:36.062539Z"
    }
   },
   "cell_type": "code",
   "source": [
    "class_slot_rank_tsv_file = \"mixs_slot_rank_template.tsv\"\n",
    "class_ancestry_tsv = \"mixs_class_ancestry.tsv\""
   ],
   "id": "8c76eb2e77dfd96",
   "outputs": [],
   "execution_count": 3
  },
  {
   "metadata": {
    "ExecuteTime": {
     "end_time": "2025-02-26T01:29:37.335480Z",
     "start_time": "2025-02-26T01:29:36.131084Z"
    }
   },
   "cell_type": "code",
   "source": "schema_view = SchemaView(schema_url)",
   "id": "ff67141185c6f477",
   "outputs": [],
   "execution_count": 4
  },
  {
   "metadata": {
    "ExecuteTime": {
     "end_time": "2025-02-26T01:29:37.351214Z",
     "start_time": "2025-02-26T01:29:37.339375Z"
    }
   },
   "cell_type": "code",
   "source": "schema_classnames = list(schema_view.all_classes().keys())",
   "id": "f93308e7e3e60f3a",
   "outputs": [],
   "execution_count": 5
  },
  {
   "metadata": {
    "ExecuteTime": {
     "end_time": "2025-02-26T01:29:38.618326Z",
     "start_time": "2025-02-26T01:29:38.616057Z"
    }
   },
   "cell_type": "code",
   "source": "schema_classnames.sort()",
   "id": "b037e12ce8b06cac",
   "outputs": [],
   "execution_count": 6
  },
  {
   "metadata": {
    "ExecuteTime": {
     "end_time": "2025-02-26T01:29:39.857546Z",
     "start_time": "2025-02-26T01:29:39.854928Z"
    }
   },
   "cell_type": "code",
   "source": [
    "class_slot_rank_rows = []\n",
    "class_ancestry_rows = []\n",
    "checklist_tally = 0\n",
    "extension_tally = 0\n",
    "combination_tally = 0"
   ],
   "id": "a222697d514774af",
   "outputs": [],
   "execution_count": 7
  },
  {
   "metadata": {
    "ExecuteTime": {
     "end_time": "2025-02-26T01:30:05.853943Z",
     "start_time": "2025-02-26T01:29:41.074879Z"
    }
   },
   "cell_type": "code",
   "source": [
    "# ~ 40 seconds\n",
    "for cn in schema_classnames:\n",
    "    ic = schema_view.induced_class(cn)\n",
    "    ic_parent = ic.is_a\n",
    "    if ic_parent == \"Checklist\":\n",
    "        checklist_tally += 1\n",
    "    elif ic_parent == \"Extension\":\n",
    "        extension_tally += 1\n",
    "    ic_mixins = ic.mixins\n",
    "    if len(ic_mixins) > 0:\n",
    "        combination_tally += 1\n",
    "    class_ancestry_row = {\n",
    "        \"class\": cn,\n",
    "        \"parent\": ic_parent,\n",
    "        \"mixins\": \"|\".join(ic_mixins)\n",
    "    }\n",
    "    class_ancestry_rows.append(class_ancestry_row)\n",
    "    if ic_parent in [\"Checklist\", \"Extension\"] or len(ic_mixins) > 0:\n",
    "        ic_slot_names = list(ic.attributes.keys())\n",
    "        ic_slot_names.sort()\n",
    "        for sn in ic_slot_names:\n",
    "            class_slot_rank_row = {\n",
    "                \"class\": cn,\n",
    "                \"slot\": sn,\n",
    "                \"rank\": \"\"\n",
    "            }\n",
    "            class_slot_rank_rows.append(class_slot_rank_row)\n"
   ],
   "id": "ff66c7f83b7c2136",
   "outputs": [],
   "execution_count": 8
  },
  {
   "metadata": {
    "ExecuteTime": {
     "end_time": "2025-02-26T01:30:07.246203Z",
     "start_time": "2025-02-26T01:30:07.172437Z"
    }
   },
   "cell_type": "code",
   "source": [
    "# use csv dictwriter to save the rows list of dicts to as TSV file whose name should come from tsv_file\n",
    "fieldnames = [\"class\", \"slot\", \"rank\"]\n",
    "with open(class_slot_rank_tsv_file, \"w\", newline=\"\", encoding=\"utf-8\") as outfile:\n",
    "    writer = csv.DictWriter(outfile, fieldnames=fieldnames, delimiter=\"\\t\")\n",
    "    writer.writeheader()\n",
    "    writer.writerows(class_slot_rank_rows)\n"
   ],
   "id": "bd53bb57d818f0e4",
   "outputs": [],
   "execution_count": 9
  },
  {
   "metadata": {
    "ExecuteTime": {
     "end_time": "2025-02-26T01:30:08.608259Z",
     "start_time": "2025-02-26T01:30:08.605223Z"
    }
   },
   "cell_type": "code",
   "source": [
    "print(f\"{checklist_tally = }\")\n",
    "print(f\"{extension_tally = }\")\n",
    "print(f\"{combination_tally = }\")\n",
    "print(f\"{len(class_slot_rank_rows) = }\")"
   ],
   "id": "490963f4d2c25def",
   "outputs": [
    {
     "name": "stdout",
     "output_type": "stream",
     "text": [
      "checklist_tally = 11\n",
      "extension_tally = 23\n",
      "combination_tally = 253\n",
      "len(class_slot_rank_rows) = 33457\n"
     ]
    }
   ],
   "execution_count": 10
  },
  {
   "metadata": {},
   "cell_type": "markdown",
   "source": "2025-02-19: 33457 slots used by 23 Extension, 11 Checklist or 253 \"combination\" classes (which have mixins)",
   "id": "6b0324f778332dea"
  },
  {
   "metadata": {
    "ExecuteTime": {
     "end_time": "2025-02-26T01:30:10.033924Z",
     "start_time": "2025-02-26T01:30:10.029563Z"
    }
   },
   "cell_type": "code",
   "source": [
    "# use csv dictwriter to save the rows list of dicts to as TSV file whose name should come from tsv_file\n",
    "fieldnames = [\"class\", \"parent\", \"mixins\"]\n",
    "with open(class_ancestry_tsv, \"w\", newline=\"\", encoding=\"utf-8\") as outfile:\n",
    "    writer = csv.DictWriter(outfile, fieldnames=fieldnames, delimiter=\"\\t\")\n",
    "    writer.writeheader()\n",
    "    writer.writerows(class_ancestry_rows)"
   ],
   "id": "94208893560e6edc",
   "outputs": [],
   "execution_count": 11
  },
  {
   "metadata": {
    "ExecuteTime": {
     "end_time": "2025-02-26T01:30:11.462178Z",
     "start_time": "2025-02-26T01:30:11.460247Z"
    }
   },
   "cell_type": "code",
   "source": "",
   "id": "507a80779671d638",
   "outputs": [],
   "execution_count": null
  }
 ],
 "metadata": {
  "kernelspec": {
   "display_name": "Python 3",
   "language": "python",
   "name": "python3"
  },
  "language_info": {
   "codemirror_mode": {
    "name": "ipython",
    "version": 2
   },
   "file_extension": ".py",
   "mimetype": "text/x-python",
   "name": "python",
   "nbconvert_exporter": "python",
   "pygments_lexer": "ipython2",
   "version": "2.7.6"
  }
 },
 "nbformat": 4,
 "nbformat_minor": 5
}
