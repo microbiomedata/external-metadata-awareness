{
 "cells": [
  {
   "metadata": {
    "ExecuteTime": {
     "end_time": "2025-02-26T01:31:55.998129Z",
     "start_time": "2025-02-26T01:31:55.642895Z"
    }
   },
   "cell_type": "code",
   "source": [
    "import os\n",
    "import pandas as pd"
   ],
   "id": "462b477a5aeeb4e8",
   "outputs": [],
   "execution_count": 1
  },
  {
   "metadata": {
    "ExecuteTime": {
     "end_time": "2025-02-26T01:31:56.005375Z",
     "start_time": "2025-02-26T01:31:56.002359Z"
    }
   },
   "cell_type": "code",
   "source": [
    "# directory containing the raw mappings\n",
    "input_directory = \"../../lexmatch-output\"\n",
    "\n",
    "# list of attempted target ontologies\n",
    "for_lexmatch_txt = '../../lexmatch-shell-scripts/for-lexmatch.txt'\n",
    "\n",
    "# for identifying the entities\n",
    "#   for which mappings should be reported\n",
    "#   even if they don't involve MIxS or NMDC\n",
    "env_triad_pvs_sheet_tsv = \"env_triad_pvs_sheet.tsv\""
   ],
   "id": "6154aa2fab656b3f",
   "outputs": [],
   "execution_count": 2
  },
  {
   "metadata": {
    "ExecuteTime": {
     "end_time": "2025-02-26T01:31:56.128782Z",
     "start_time": "2025-02-26T01:31:56.126165Z"
    }
   },
   "cell_type": "code",
   "source": "output_tsv = \"lexmatch-combined.tsv\"",
   "id": "98c9f81c17c79442",
   "outputs": [],
   "execution_count": 3
  },
  {
   "metadata": {
    "ExecuteTime": {
     "end_time": "2025-02-26T01:31:56.173816Z",
     "start_time": "2025-02-26T01:31:56.167976Z"
    }
   },
   "cell_type": "code",
   "source": "env_triad_pvs_frame = pd.read_csv(env_triad_pvs_sheet_tsv, sep='\\t', skiprows=[1])",
   "id": "f5d39e9faf99a06",
   "outputs": [],
   "execution_count": 4
  },
  {
   "metadata": {
    "ExecuteTime": {
     "end_time": "2025-02-26T01:31:56.230653Z",
     "start_time": "2025-02-26T01:31:56.220174Z"
    }
   },
   "cell_type": "code",
   "source": "env_triad_pvs_curies = list(env_triad_pvs_frame['class_uri'])",
   "id": "132270777b1b4151",
   "outputs": [],
   "execution_count": 5
  },
  {
   "metadata": {
    "collapsed": true,
    "ExecuteTime": {
     "end_time": "2025-02-26T01:31:56.313243Z",
     "start_time": "2025-02-26T01:31:56.276778Z"
    }
   },
   "cell_type": "code",
   "source": [
    "# Initialize an empty list to collect DataFrames\n",
    "dataframes = []\n",
    "\n",
    "# Loop through each file in the directory\n",
    "for filename in os.listdir(input_directory):\n",
    "    if filename.endswith(\".tsv\"):\n",
    "        print(filename)\n",
    "        file_path = os.path.join(input_directory, filename)\n",
    "\n",
    "        # Read the file while skipping rows that start with #\n",
    "        with open(file_path, 'r') as f:\n",
    "            lines = [line for line in f if not line.startswith('#')]\n",
    "\n",
    "        # Convert the filtered lines to a DataFrame\n",
    "        if lines and len(lines) > 1:\n",
    "            print(len(lines))\n",
    "            from io import StringIO\n",
    "\n",
    "            df = pd.read_csv(StringIO(''.join(lines)), sep='\\t')\n",
    "            dataframes.append(df)\n"
   ],
   "id": "initial_id",
   "outputs": [
    {
     "name": "stdout",
     "output_type": "stream",
     "text": [
      "env_triad_pvs_vs_biolink.SSSOM.tsv\n",
      "149\n",
      "nmdc_nmdc_vs_chmo.SSSOM.tsv\n",
      "1499\n",
      "nmdc_nmdc_vs_biolink.SSSOM.tsv\n",
      "1525\n",
      "env_triad_pvs_vs_agro.SSSOM.tsv\n",
      "710\n",
      "nmdc_nmdc_vs_agro.SSSOM.tsv\n",
      "1703\n",
      "nmdc_mixs_vs_chmo.SSSOM.tsv\n",
      "10\n",
      "env_triad_pvs_vs_chmo.SSSOM.tsv\n",
      "100\n",
      "nmdc_mixs_vs_agro.SSSOM.tsv\n",
      "91\n",
      "nmdc_mixs_vs_biolink.SSSOM.tsv\n",
      "10\n"
     ]
    }
   ],
   "execution_count": 6
  },
  {
   "metadata": {
    "ExecuteTime": {
     "end_time": "2025-02-26T01:31:56.335725Z",
     "start_time": "2025-02-26T01:31:56.331324Z"
    }
   },
   "cell_type": "code",
   "source": [
    "# Concatenate all DataFrames into a single DataFrame\n",
    "if dataframes:\n",
    "    combined_df = pd.concat(dataframes, ignore_index=True)\n",
    "    print(\"Aggregated DataFrame created successfully!\")\n",
    "else:\n",
    "    print(\"No data found.\")\n"
   ],
   "id": "453ed18d2b4e3c8c",
   "outputs": [
    {
     "name": "stdout",
     "output_type": "stream",
     "text": [
      "Aggregated DataFrame created successfully!\n"
     ]
    }
   ],
   "execution_count": 7
  },
  {
   "metadata": {
    "ExecuteTime": {
     "end_time": "2025-02-26T01:31:56.379887Z",
     "start_time": "2025-02-26T01:31:56.374087Z"
    }
   },
   "cell_type": "code",
   "source": "combined_df.shape",
   "id": "4921d29c78540fda",
   "outputs": [
    {
     "data": {
      "text/plain": [
       "(5788, 11)"
      ]
     },
     "execution_count": 8,
     "metadata": {},
     "output_type": "execute_result"
    }
   ],
   "execution_count": 8
  },
  {
   "metadata": {
    "ExecuteTime": {
     "end_time": "2025-02-26T01:31:56.433303Z",
     "start_time": "2025-02-26T01:31:56.423507Z"
    }
   },
   "cell_type": "code",
   "source": [
    "# Remove duplicate rows and force a new copy\n",
    "unique_df = combined_df.drop_duplicates().copy()\n"
   ],
   "id": "6a88ab6a49e7c22e",
   "outputs": [],
   "execution_count": 9
  },
  {
   "metadata": {
    "ExecuteTime": {
     "end_time": "2025-02-26T01:31:56.474466Z",
     "start_time": "2025-02-26T01:31:56.470234Z"
    }
   },
   "cell_type": "code",
   "source": "unique_df.shape",
   "id": "937858af6f2f2720",
   "outputs": [
    {
     "data": {
      "text/plain": [
       "(2400, 11)"
      ]
     },
     "execution_count": 10,
     "metadata": {},
     "output_type": "execute_result"
    }
   ],
   "execution_count": 10
  },
  {
   "metadata": {
    "ExecuteTime": {
     "end_time": "2025-02-26T01:31:56.523127Z",
     "start_time": "2025-02-26T01:31:56.518726Z"
    }
   },
   "cell_type": "code",
   "source": "non_reflexive_by_term_df = unique_df[unique_df['subject_id'] != unique_df['object_id']].copy()",
   "id": "2492c7410f8ba7ec",
   "outputs": [],
   "execution_count": 11
  },
  {
   "metadata": {
    "ExecuteTime": {
     "end_time": "2025-02-26T01:31:56.569638Z",
     "start_time": "2025-02-26T01:31:56.565531Z"
    }
   },
   "cell_type": "code",
   "source": "non_reflexive_by_term_df.shape",
   "id": "516076ce333a12a7",
   "outputs": [
    {
     "data": {
      "text/plain": [
       "(1827, 11)"
      ]
     },
     "execution_count": 12,
     "metadata": {},
     "output_type": "execute_result"
    }
   ],
   "execution_count": 12
  },
  {
   "metadata": {
    "ExecuteTime": {
     "end_time": "2025-02-26T01:31:56.621852Z",
     "start_time": "2025-02-26T01:31:56.614243Z"
    }
   },
   "cell_type": "code",
   "source": [
    "# Step 1: Split prefixes first\n",
    "non_reflexive_by_term_df['subject_prefix'] = non_reflexive_by_term_df['subject_id'].str.split(':').str[0]\n",
    "non_reflexive_by_term_df['object_prefix'] = non_reflexive_by_term_df['object_id'].str.split(':').str[0]"
   ],
   "id": "e0402749a2b325f6",
   "outputs": [],
   "execution_count": 13
  },
  {
   "metadata": {
    "ExecuteTime": {
     "end_time": "2025-02-26T01:31:56.667523Z",
     "start_time": "2025-02-26T01:31:56.664714Z"
    }
   },
   "cell_type": "code",
   "source": [
    "# List of values to filter out\n",
    "privileged_prefixes = ['mixs', 'nmdc']\n",
    "\n",
    "# Columns to check\n",
    "prefix_columns = ['subject_prefix', 'object_prefix']"
   ],
   "id": "40a702a95179e1c6",
   "outputs": [],
   "execution_count": 14
  },
  {
   "metadata": {
    "ExecuteTime": {
     "end_time": "2025-02-26T01:31:56.715541Z",
     "start_time": "2025-02-26T01:31:56.710833Z"
    }
   },
   "cell_type": "code",
   "source": "non_reflexive_by_prefix_df = non_reflexive_by_term_df[non_reflexive_by_term_df['subject_prefix'] != non_reflexive_by_term_df['object_prefix']].copy()",
   "id": "4a579948a67a705f",
   "outputs": [],
   "execution_count": 15
  },
  {
   "metadata": {
    "ExecuteTime": {
     "end_time": "2025-02-26T01:31:56.762371Z",
     "start_time": "2025-02-26T01:31:56.758818Z"
    }
   },
   "cell_type": "code",
   "source": "non_reflexive_by_prefix_df.shape",
   "id": "81ea246a70a60c62",
   "outputs": [
    {
     "data": {
      "text/plain": [
       "(348, 13)"
      ]
     },
     "execution_count": 16,
     "metadata": {},
     "output_type": "execute_result"
    }
   ],
   "execution_count": 16
  },
  {
   "metadata": {
    "ExecuteTime": {
     "end_time": "2025-02-26T01:31:56.811363Z",
     "start_time": "2025-02-26T01:31:56.806755Z"
    }
   },
   "cell_type": "code",
   "source": [
    "# Filter rows where neither 'subject_prefix' nor 'object_prefix' are in privileged_prefixes\n",
    "enriched_for_pvs_frame = non_reflexive_by_prefix_df[\n",
    "    ~non_reflexive_by_prefix_df[prefix_columns].isin(privileged_prefixes).any(axis=1)\n",
    "]\n"
   ],
   "id": "443a6861de1a0a48",
   "outputs": [],
   "execution_count": 17
  },
  {
   "metadata": {
    "ExecuteTime": {
     "end_time": "2025-02-26T01:31:56.857802Z",
     "start_time": "2025-02-26T01:31:56.854109Z"
    }
   },
   "cell_type": "code",
   "source": "enriched_for_pvs_frame.shape",
   "id": "4620322febcc5cd4",
   "outputs": [
    {
     "data": {
      "text/plain": [
       "(70, 13)"
      ]
     },
     "execution_count": 18,
     "metadata": {},
     "output_type": "execute_result"
    }
   ],
   "execution_count": 18
  },
  {
   "metadata": {
    "ExecuteTime": {
     "end_time": "2025-02-26T01:31:56.919493Z",
     "start_time": "2025-02-26T01:31:56.901937Z"
    }
   },
   "cell_type": "code",
   "source": "enriched_for_pvs_frame",
   "id": "fed7a0dd4b3a4736",
   "outputs": [
    {
     "data": {
      "text/plain": [
       "               subject_id                              subject_label  \\\n",
       "46    biolink:broad_match                                broad match   \n",
       "56    biolink:close_match                                close match   \n",
       "91    biolink:exact_match                                exact match   \n",
       "108       biolink:license                                    license   \n",
       "111          biolink:name                                       name   \n",
       "...                   ...                                        ...   \n",
       "5673         CHMO:0001659                    electrospray ionisation   \n",
       "5674         CHMO:0001659                    electrospray ionisation   \n",
       "5675         CHMO:0001659                    electrospray ionisation   \n",
       "5679         CHMO:0001947  precipitation with compressed antisolvent   \n",
       "5685         CHMO:0002649  scanning transmission electron microscope   \n",
       "\n",
       "         predicate_id        object_id  \\\n",
       "46    skos:closeMatch  skos:broadMatch   \n",
       "56    skos:closeMatch  skos:closeMatch   \n",
       "91    skos:closeMatch  skos:exactMatch   \n",
       "108   skos:closeMatch  dcterms:license   \n",
       "111   skos:closeMatch    dcterms:title   \n",
       "...               ...              ...   \n",
       "5673  skos:closeMatch       MS:1000073   \n",
       "5674  skos:closeMatch       MS:1000073   \n",
       "5675  skos:closeMatch       MS:1000073   \n",
       "5679  skos:closeMatch      OBI:0200051   \n",
       "5685  skos:closeMatch       PO:0009047   \n",
       "\n",
       "                                           object_label  \\\n",
       "46                                                  NaN   \n",
       "56                                                  NaN   \n",
       "91                                                  NaN   \n",
       "108                                                 NaN   \n",
       "111                                                 NaN   \n",
       "...                                                 ...   \n",
       "5673                            electrospray ionization   \n",
       "5674                            electrospray ionization   \n",
       "5675                            electrospray ionization   \n",
       "5679  principal components analysis dimensionality r...   \n",
       "5685                                               stem   \n",
       "\n",
       "       mapping_justification mapping_tool  confidence    subject_match_field  \\\n",
       "46    semapv:LexicalMatching       oaklib         0.5                 rdf:ID   \n",
       "56    semapv:LexicalMatching       oaklib         0.5                 rdf:ID   \n",
       "91    semapv:LexicalMatching       oaklib         0.5                 rdf:ID   \n",
       "108   semapv:LexicalMatching       oaklib         0.5                 rdf:ID   \n",
       "111   semapv:LexicalMatching       oaklib         0.5                 rdf:ID   \n",
       "...                      ...          ...         ...                    ...   \n",
       "5673  semapv:LexicalMatching       oaklib         0.5    oio:hasExactSynonym   \n",
       "5674  semapv:LexicalMatching       oaklib         0.5  oio:hasRelatedSynonym   \n",
       "5675  semapv:LexicalMatching       oaklib         0.5             rdfs:label   \n",
       "5679  semapv:LexicalMatching       oaklib         0.5  oio:hasRelatedSynonym   \n",
       "5685  semapv:LexicalMatching       oaklib         0.5  oio:hasRelatedSynonym   \n",
       "\n",
       "            object_match_field             match_string subject_prefix  \\\n",
       "46     skos:exactMatch-INVERSE      biolink:broad_match        biolink   \n",
       "56     skos:exactMatch-INVERSE      biolink:close_match        biolink   \n",
       "91     skos:exactMatch-INVERSE      biolink:exact_match        biolink   \n",
       "108    skos:exactMatch-INVERSE          biolink:license        biolink   \n",
       "111   skos:narrowMatch-INVERSE             biolink:name        biolink   \n",
       "...                        ...                      ...            ...   \n",
       "5673                rdfs:label  electrospray ionization           CHMO   \n",
       "5674       oio:hasExactSynonym                      esi           CHMO   \n",
       "5675       oio:hasExactSynonym  electrospray ionisation           CHMO   \n",
       "5679       oio:hasExactSynonym                      pca           CHMO   \n",
       "5685                rdfs:label                     stem           CHMO   \n",
       "\n",
       "     object_prefix  \n",
       "46            skos  \n",
       "56            skos  \n",
       "91            skos  \n",
       "108        dcterms  \n",
       "111        dcterms  \n",
       "...            ...  \n",
       "5673            MS  \n",
       "5674            MS  \n",
       "5675            MS  \n",
       "5679           OBI  \n",
       "5685            PO  \n",
       "\n",
       "[70 rows x 13 columns]"
      ],
      "text/html": [
       "<div>\n",
       "<style scoped>\n",
       "    .dataframe tbody tr th:only-of-type {\n",
       "        vertical-align: middle;\n",
       "    }\n",
       "\n",
       "    .dataframe tbody tr th {\n",
       "        vertical-align: top;\n",
       "    }\n",
       "\n",
       "    .dataframe thead th {\n",
       "        text-align: right;\n",
       "    }\n",
       "</style>\n",
       "<table border=\"1\" class=\"dataframe\">\n",
       "  <thead>\n",
       "    <tr style=\"text-align: right;\">\n",
       "      <th></th>\n",
       "      <th>subject_id</th>\n",
       "      <th>subject_label</th>\n",
       "      <th>predicate_id</th>\n",
       "      <th>object_id</th>\n",
       "      <th>object_label</th>\n",
       "      <th>mapping_justification</th>\n",
       "      <th>mapping_tool</th>\n",
       "      <th>confidence</th>\n",
       "      <th>subject_match_field</th>\n",
       "      <th>object_match_field</th>\n",
       "      <th>match_string</th>\n",
       "      <th>subject_prefix</th>\n",
       "      <th>object_prefix</th>\n",
       "    </tr>\n",
       "  </thead>\n",
       "  <tbody>\n",
       "    <tr>\n",
       "      <th>46</th>\n",
       "      <td>biolink:broad_match</td>\n",
       "      <td>broad match</td>\n",
       "      <td>skos:closeMatch</td>\n",
       "      <td>skos:broadMatch</td>\n",
       "      <td>NaN</td>\n",
       "      <td>semapv:LexicalMatching</td>\n",
       "      <td>oaklib</td>\n",
       "      <td>0.5</td>\n",
       "      <td>rdf:ID</td>\n",
       "      <td>skos:exactMatch-INVERSE</td>\n",
       "      <td>biolink:broad_match</td>\n",
       "      <td>biolink</td>\n",
       "      <td>skos</td>\n",
       "    </tr>\n",
       "    <tr>\n",
       "      <th>56</th>\n",
       "      <td>biolink:close_match</td>\n",
       "      <td>close match</td>\n",
       "      <td>skos:closeMatch</td>\n",
       "      <td>skos:closeMatch</td>\n",
       "      <td>NaN</td>\n",
       "      <td>semapv:LexicalMatching</td>\n",
       "      <td>oaklib</td>\n",
       "      <td>0.5</td>\n",
       "      <td>rdf:ID</td>\n",
       "      <td>skos:exactMatch-INVERSE</td>\n",
       "      <td>biolink:close_match</td>\n",
       "      <td>biolink</td>\n",
       "      <td>skos</td>\n",
       "    </tr>\n",
       "    <tr>\n",
       "      <th>91</th>\n",
       "      <td>biolink:exact_match</td>\n",
       "      <td>exact match</td>\n",
       "      <td>skos:closeMatch</td>\n",
       "      <td>skos:exactMatch</td>\n",
       "      <td>NaN</td>\n",
       "      <td>semapv:LexicalMatching</td>\n",
       "      <td>oaklib</td>\n",
       "      <td>0.5</td>\n",
       "      <td>rdf:ID</td>\n",
       "      <td>skos:exactMatch-INVERSE</td>\n",
       "      <td>biolink:exact_match</td>\n",
       "      <td>biolink</td>\n",
       "      <td>skos</td>\n",
       "    </tr>\n",
       "    <tr>\n",
       "      <th>108</th>\n",
       "      <td>biolink:license</td>\n",
       "      <td>license</td>\n",
       "      <td>skos:closeMatch</td>\n",
       "      <td>dcterms:license</td>\n",
       "      <td>NaN</td>\n",
       "      <td>semapv:LexicalMatching</td>\n",
       "      <td>oaklib</td>\n",
       "      <td>0.5</td>\n",
       "      <td>rdf:ID</td>\n",
       "      <td>skos:exactMatch-INVERSE</td>\n",
       "      <td>biolink:license</td>\n",
       "      <td>biolink</td>\n",
       "      <td>dcterms</td>\n",
       "    </tr>\n",
       "    <tr>\n",
       "      <th>111</th>\n",
       "      <td>biolink:name</td>\n",
       "      <td>name</td>\n",
       "      <td>skos:closeMatch</td>\n",
       "      <td>dcterms:title</td>\n",
       "      <td>NaN</td>\n",
       "      <td>semapv:LexicalMatching</td>\n",
       "      <td>oaklib</td>\n",
       "      <td>0.5</td>\n",
       "      <td>rdf:ID</td>\n",
       "      <td>skos:narrowMatch-INVERSE</td>\n",
       "      <td>biolink:name</td>\n",
       "      <td>biolink</td>\n",
       "      <td>dcterms</td>\n",
       "    </tr>\n",
       "    <tr>\n",
       "      <th>...</th>\n",
       "      <td>...</td>\n",
       "      <td>...</td>\n",
       "      <td>...</td>\n",
       "      <td>...</td>\n",
       "      <td>...</td>\n",
       "      <td>...</td>\n",
       "      <td>...</td>\n",
       "      <td>...</td>\n",
       "      <td>...</td>\n",
       "      <td>...</td>\n",
       "      <td>...</td>\n",
       "      <td>...</td>\n",
       "      <td>...</td>\n",
       "    </tr>\n",
       "    <tr>\n",
       "      <th>5673</th>\n",
       "      <td>CHMO:0001659</td>\n",
       "      <td>electrospray ionisation</td>\n",
       "      <td>skos:closeMatch</td>\n",
       "      <td>MS:1000073</td>\n",
       "      <td>electrospray ionization</td>\n",
       "      <td>semapv:LexicalMatching</td>\n",
       "      <td>oaklib</td>\n",
       "      <td>0.5</td>\n",
       "      <td>oio:hasExactSynonym</td>\n",
       "      <td>rdfs:label</td>\n",
       "      <td>electrospray ionization</td>\n",
       "      <td>CHMO</td>\n",
       "      <td>MS</td>\n",
       "    </tr>\n",
       "    <tr>\n",
       "      <th>5674</th>\n",
       "      <td>CHMO:0001659</td>\n",
       "      <td>electrospray ionisation</td>\n",
       "      <td>skos:closeMatch</td>\n",
       "      <td>MS:1000073</td>\n",
       "      <td>electrospray ionization</td>\n",
       "      <td>semapv:LexicalMatching</td>\n",
       "      <td>oaklib</td>\n",
       "      <td>0.5</td>\n",
       "      <td>oio:hasRelatedSynonym</td>\n",
       "      <td>oio:hasExactSynonym</td>\n",
       "      <td>esi</td>\n",
       "      <td>CHMO</td>\n",
       "      <td>MS</td>\n",
       "    </tr>\n",
       "    <tr>\n",
       "      <th>5675</th>\n",
       "      <td>CHMO:0001659</td>\n",
       "      <td>electrospray ionisation</td>\n",
       "      <td>skos:closeMatch</td>\n",
       "      <td>MS:1000073</td>\n",
       "      <td>electrospray ionization</td>\n",
       "      <td>semapv:LexicalMatching</td>\n",
       "      <td>oaklib</td>\n",
       "      <td>0.5</td>\n",
       "      <td>rdfs:label</td>\n",
       "      <td>oio:hasExactSynonym</td>\n",
       "      <td>electrospray ionisation</td>\n",
       "      <td>CHMO</td>\n",
       "      <td>MS</td>\n",
       "    </tr>\n",
       "    <tr>\n",
       "      <th>5679</th>\n",
       "      <td>CHMO:0001947</td>\n",
       "      <td>precipitation with compressed antisolvent</td>\n",
       "      <td>skos:closeMatch</td>\n",
       "      <td>OBI:0200051</td>\n",
       "      <td>principal components analysis dimensionality r...</td>\n",
       "      <td>semapv:LexicalMatching</td>\n",
       "      <td>oaklib</td>\n",
       "      <td>0.5</td>\n",
       "      <td>oio:hasRelatedSynonym</td>\n",
       "      <td>oio:hasExactSynonym</td>\n",
       "      <td>pca</td>\n",
       "      <td>CHMO</td>\n",
       "      <td>OBI</td>\n",
       "    </tr>\n",
       "    <tr>\n",
       "      <th>5685</th>\n",
       "      <td>CHMO:0002649</td>\n",
       "      <td>scanning transmission electron microscope</td>\n",
       "      <td>skos:closeMatch</td>\n",
       "      <td>PO:0009047</td>\n",
       "      <td>stem</td>\n",
       "      <td>semapv:LexicalMatching</td>\n",
       "      <td>oaklib</td>\n",
       "      <td>0.5</td>\n",
       "      <td>oio:hasRelatedSynonym</td>\n",
       "      <td>rdfs:label</td>\n",
       "      <td>stem</td>\n",
       "      <td>CHMO</td>\n",
       "      <td>PO</td>\n",
       "    </tr>\n",
       "  </tbody>\n",
       "</table>\n",
       "<p>70 rows × 13 columns</p>\n",
       "</div>"
      ]
     },
     "execution_count": 19,
     "metadata": {},
     "output_type": "execute_result"
    }
   ],
   "execution_count": 19
  },
  {
   "metadata": {
    "ExecuteTime": {
     "end_time": "2025-02-26T01:31:57.010920Z",
     "start_time": "2025-02-26T01:31:57.007870Z"
    }
   },
   "cell_type": "code",
   "source": [
    "# Identify all subject_* and object_* columns dynamically\n",
    "subject_columns = [col for col in non_reflexive_by_term_df.columns if col.startswith('subject_')]\n",
    "object_columns = [col for col in non_reflexive_by_term_df.columns if col.startswith('object_')]"
   ],
   "id": "8f9eacb6bb228927",
   "outputs": [],
   "execution_count": 20
  },
  {
   "metadata": {
    "ExecuteTime": {
     "end_time": "2025-02-26T01:31:57.073509Z",
     "start_time": "2025-02-26T01:31:57.058706Z"
    }
   },
   "cell_type": "code",
   "source": "subject_columns",
   "id": "f548c897695cb1a3",
   "outputs": [
    {
     "data": {
      "text/plain": [
       "['subject_id', 'subject_label', 'subject_match_field', 'subject_prefix']"
      ]
     },
     "execution_count": 21,
     "metadata": {},
     "output_type": "execute_result"
    }
   ],
   "execution_count": 21
  },
  {
   "metadata": {
    "ExecuteTime": {
     "end_time": "2025-02-26T01:31:57.137689Z",
     "start_time": "2025-02-26T01:31:57.134137Z"
    }
   },
   "cell_type": "code",
   "source": "object_columns",
   "id": "eb51b010195f9234",
   "outputs": [
    {
     "data": {
      "text/plain": [
       "['object_id', 'object_label', 'object_match_field', 'object_prefix']"
      ]
     },
     "execution_count": 22,
     "metadata": {},
     "output_type": "execute_result"
    }
   ],
   "execution_count": 22
  },
  {
   "metadata": {
    "ExecuteTime": {
     "end_time": "2025-02-26T01:31:57.179977Z",
     "start_time": "2025-02-26T01:31:57.176615Z"
    }
   },
   "cell_type": "code",
   "source": "mixs_nmdc_subj_frame = non_reflexive_by_term_df[non_reflexive_by_term_df[\"subject_prefix\"].isin(['mixs', 'nmdc'])]",
   "id": "a2aae29cc5957d4f",
   "outputs": [],
   "execution_count": 23
  },
  {
   "metadata": {
    "ExecuteTime": {
     "end_time": "2025-02-26T01:31:57.243242Z",
     "start_time": "2025-02-26T01:31:57.239576Z"
    }
   },
   "cell_type": "code",
   "source": "mixs_nmdc_obj_frame = non_reflexive_by_term_df[non_reflexive_by_term_df[\"object_prefix\"].isin(['mixs', 'nmdc'])]",
   "id": "9cafb48630b3d4da",
   "outputs": [],
   "execution_count": 24
  },
  {
   "metadata": {
    "ExecuteTime": {
     "end_time": "2025-02-26T01:31:57.303221Z",
     "start_time": "2025-02-26T01:31:57.298837Z"
    }
   },
   "cell_type": "code",
   "source": [
    "# Create a copy with swapped columns\n",
    "reversed_obj_frame = mixs_nmdc_obj_frame.rename(columns={\n",
    "    'subject_id': 'object_id_temp',\n",
    "    'subject_label': 'object_label_temp',\n",
    "    'subject_prefix': 'object_prefix_temp',\n",
    "    'subject_match_field': 'object_match_field_temp',\n",
    "\n",
    "    'object_id': 'subject_id',\n",
    "    'object_label': 'subject_label',\n",
    "    'object_prefix': 'subject_prefix',\n",
    "    'object_match_field': 'subject_match_field'\n",
    "})\n",
    "\n",
    "# # Complete the swap by renaming the temporary columns\n",
    "reversed_obj_frame = reversed_obj_frame.rename(columns={\n",
    "    'object_id_temp': 'object_id',\n",
    "    'object_label_temp': 'object_label',\n",
    "    'object_prefix_temp': 'object_prefix',\n",
    "    'object_match_field_temp': 'object_match_field'\n",
    "})"
   ],
   "id": "d09d1eb0b5ebf8f9",
   "outputs": [],
   "execution_count": 25
  },
  {
   "metadata": {
    "ExecuteTime": {
     "end_time": "2025-02-26T01:31:57.346821Z",
     "start_time": "2025-02-26T01:31:57.342680Z"
    }
   },
   "cell_type": "code",
   "source": [
    "# Create a copy with swapped columns\n",
    "reversed_enriched_for_pvs_frame = enriched_for_pvs_frame.rename(columns={\n",
    "    'subject_id': 'object_id_temp',\n",
    "    'subject_label': 'object_label_temp',\n",
    "    'subject_prefix': 'object_prefix_temp',\n",
    "    'subject_match_field': 'object_match_field_temp',\n",
    "\n",
    "    'object_id': 'subject_id',\n",
    "    'object_label': 'subject_label',\n",
    "    'object_prefix': 'subject_prefix',\n",
    "    'object_match_field': 'subject_match_field'\n",
    "})\n",
    "\n",
    "# # Complete the swap by renaming the temporary columns\n",
    "reversed_enriched_for_pvs_frame = reversed_enriched_for_pvs_frame.rename(columns={\n",
    "    'object_id_temp': 'object_id',\n",
    "    'object_label_temp': 'object_label',\n",
    "    'object_prefix_temp': 'object_prefix',\n",
    "    'object_match_field_temp': 'object_match_field'\n",
    "})"
   ],
   "id": "44691ffb47594503",
   "outputs": [],
   "execution_count": 26
  },
  {
   "metadata": {
    "ExecuteTime": {
     "end_time": "2025-02-26T01:31:57.393403Z",
     "start_time": "2025-02-26T01:31:57.389643Z"
    }
   },
   "cell_type": "code",
   "source": "enriched_for_pvs_frame = pd.concat([enriched_for_pvs_frame,reversed_enriched_for_pvs_frame], axis=0, ignore_index=True)",
   "id": "f3a4613880d6fbfe",
   "outputs": [],
   "execution_count": 27
  },
  {
   "metadata": {
    "ExecuteTime": {
     "end_time": "2025-02-26T01:31:57.440880Z",
     "start_time": "2025-02-26T01:31:57.437264Z"
    }
   },
   "cell_type": "code",
   "source": "enriched_for_pvs_frame = enriched_for_pvs_frame[enriched_for_pvs_frame['subject_id'].isin(env_triad_pvs_curies)]",
   "id": "15d960e9ab6ec59d",
   "outputs": [],
   "execution_count": 28
  },
  {
   "metadata": {
    "ExecuteTime": {
     "end_time": "2025-02-26T01:31:57.498799Z",
     "start_time": "2025-02-26T01:31:57.486555Z"
    }
   },
   "cell_type": "code",
   "source": "enriched_for_pvs_frame",
   "id": "144870c45dd15ce6",
   "outputs": [
    {
     "data": {
      "text/plain": [
       "        subject_id subject_label     predicate_id      object_id  \\\n",
       "41   ENVO:00000100        valley  skos:closeMatch   PATO:0002078   \n",
       "79   ENVO:00000170          dune  skos:closeMatch  AGRO:00000196   \n",
       "80   ENVO:00000178         levee  skos:closeMatch  AGRO:00000196   \n",
       "81   ENVO:00000178         levee  skos:closeMatch  AGRO:00000196   \n",
       "82   ENVO:00000178         levee  skos:closeMatch  AGRO:00000196   \n",
       "83   ENVO:00000283         ridge  skos:closeMatch  AGRO:00000196   \n",
       "84   ENVO:00000283         ridge  skos:closeMatch  AGRO:00000196   \n",
       "85   ENVO:00000283         ridge  skos:closeMatch  AGRO:00000196   \n",
       "87   ENVO:03600087    greenhouse  skos:closeMatch  AGRO:00000363   \n",
       "88      PO:0008037      seedling  skos:closeMatch  AGRO:00000548   \n",
       "100  ENVO:00002006  liquid water  skos:closeMatch    CHEBI:15377   \n",
       "101  ENVO:00002006  liquid water  skos:closeMatch    CHEBI:15377   \n",
       "125     PO:0009005          root  skos:closeMatch    NCBITaxon:1   \n",
       "133     PO:0009047          stem  skos:closeMatch   CHMO:0000086   \n",
       "134     PO:0025034          leaf  skos:closeMatch   CHMO:0000284   \n",
       "139     PO:0009047          stem  skos:closeMatch   CHMO:0002649   \n",
       "\n",
       "                                        object_label   mapping_justification  \\\n",
       "41                                            hollow  semapv:LexicalMatching   \n",
       "79                                              bund  semapv:LexicalMatching   \n",
       "80                                              bund  semapv:LexicalMatching   \n",
       "81                                              bund  semapv:LexicalMatching   \n",
       "82                                              bund  semapv:LexicalMatching   \n",
       "83                                              bund  semapv:LexicalMatching   \n",
       "84                                              bund  semapv:LexicalMatching   \n",
       "85                                              bund  semapv:LexicalMatching   \n",
       "87                                        greenhouse  semapv:LexicalMatching   \n",
       "88                                          seedling  semapv:LexicalMatching   \n",
       "100                                            water  semapv:LexicalMatching   \n",
       "101                                            water  semapv:LexicalMatching   \n",
       "125                                             root  semapv:LexicalMatching   \n",
       "133        scanning transmission electron microscopy  semapv:LexicalMatching   \n",
       "134  laser-enhanced atomic fluorescence spectroscopy  semapv:LexicalMatching   \n",
       "139        scanning transmission electron microscope  semapv:LexicalMatching   \n",
       "\n",
       "    mapping_tool  confidence    subject_match_field     object_match_field  \\\n",
       "41        oaklib         0.5  oio:hasRelatedSynonym             rdfs:label   \n",
       "79        oaklib         0.5    oio:hasBroadSynonym    oio:hasExactSynonym   \n",
       "80        oaklib         0.5  oio:hasRelatedSynonym    oio:hasExactSynonym   \n",
       "81        oaklib         0.5  oio:hasRelatedSynonym    oio:hasExactSynonym   \n",
       "82        oaklib         0.5             rdfs:label    oio:hasExactSynonym   \n",
       "83        oaklib         0.5    oio:hasExactSynonym    oio:hasExactSynonym   \n",
       "84        oaklib         0.5  oio:hasRelatedSynonym    oio:hasExactSynonym   \n",
       "85        oaklib         0.5             rdfs:label    oio:hasExactSynonym   \n",
       "87        oaklib         0.5             rdfs:label             rdfs:label   \n",
       "88        oaklib         0.5             rdfs:label             rdfs:label   \n",
       "100       oaklib         0.5    oio:hasBroadSynonym    oio:hasExactSynonym   \n",
       "101       oaklib         0.5    oio:hasBroadSynonym             rdfs:label   \n",
       "125       oaklib         0.5             rdfs:label             rdfs:label   \n",
       "133       oaklib         0.5             rdfs:label    oio:hasExactSynonym   \n",
       "134       oaklib         0.5             rdfs:label    oio:hasExactSynonym   \n",
       "139       oaklib         0.5             rdfs:label  oio:hasRelatedSynonym   \n",
       "\n",
       "    match_string subject_prefix object_prefix  \n",
       "41        hollow           ENVO          PATO  \n",
       "79         ridge           ENVO          AGRO  \n",
       "80          dyke           ENVO          AGRO  \n",
       "81         levee           ENVO          AGRO  \n",
       "82         levee           ENVO          AGRO  \n",
       "83         ridge           ENVO          AGRO  \n",
       "84         ridge           ENVO          AGRO  \n",
       "85         ridge           ENVO          AGRO  \n",
       "87    greenhouse           ENVO          AGRO  \n",
       "88      seedling             PO          AGRO  \n",
       "100        water           ENVO         CHEBI  \n",
       "101        water           ENVO         CHEBI  \n",
       "125         root             PO     NCBITaxon  \n",
       "133         stem             PO          CHMO  \n",
       "134         leaf             PO          CHMO  \n",
       "139         stem             PO          CHMO  "
      ],
      "text/html": [
       "<div>\n",
       "<style scoped>\n",
       "    .dataframe tbody tr th:only-of-type {\n",
       "        vertical-align: middle;\n",
       "    }\n",
       "\n",
       "    .dataframe tbody tr th {\n",
       "        vertical-align: top;\n",
       "    }\n",
       "\n",
       "    .dataframe thead th {\n",
       "        text-align: right;\n",
       "    }\n",
       "</style>\n",
       "<table border=\"1\" class=\"dataframe\">\n",
       "  <thead>\n",
       "    <tr style=\"text-align: right;\">\n",
       "      <th></th>\n",
       "      <th>subject_id</th>\n",
       "      <th>subject_label</th>\n",
       "      <th>predicate_id</th>\n",
       "      <th>object_id</th>\n",
       "      <th>object_label</th>\n",
       "      <th>mapping_justification</th>\n",
       "      <th>mapping_tool</th>\n",
       "      <th>confidence</th>\n",
       "      <th>subject_match_field</th>\n",
       "      <th>object_match_field</th>\n",
       "      <th>match_string</th>\n",
       "      <th>subject_prefix</th>\n",
       "      <th>object_prefix</th>\n",
       "    </tr>\n",
       "  </thead>\n",
       "  <tbody>\n",
       "    <tr>\n",
       "      <th>41</th>\n",
       "      <td>ENVO:00000100</td>\n",
       "      <td>valley</td>\n",
       "      <td>skos:closeMatch</td>\n",
       "      <td>PATO:0002078</td>\n",
       "      <td>hollow</td>\n",
       "      <td>semapv:LexicalMatching</td>\n",
       "      <td>oaklib</td>\n",
       "      <td>0.5</td>\n",
       "      <td>oio:hasRelatedSynonym</td>\n",
       "      <td>rdfs:label</td>\n",
       "      <td>hollow</td>\n",
       "      <td>ENVO</td>\n",
       "      <td>PATO</td>\n",
       "    </tr>\n",
       "    <tr>\n",
       "      <th>79</th>\n",
       "      <td>ENVO:00000170</td>\n",
       "      <td>dune</td>\n",
       "      <td>skos:closeMatch</td>\n",
       "      <td>AGRO:00000196</td>\n",
       "      <td>bund</td>\n",
       "      <td>semapv:LexicalMatching</td>\n",
       "      <td>oaklib</td>\n",
       "      <td>0.5</td>\n",
       "      <td>oio:hasBroadSynonym</td>\n",
       "      <td>oio:hasExactSynonym</td>\n",
       "      <td>ridge</td>\n",
       "      <td>ENVO</td>\n",
       "      <td>AGRO</td>\n",
       "    </tr>\n",
       "    <tr>\n",
       "      <th>80</th>\n",
       "      <td>ENVO:00000178</td>\n",
       "      <td>levee</td>\n",
       "      <td>skos:closeMatch</td>\n",
       "      <td>AGRO:00000196</td>\n",
       "      <td>bund</td>\n",
       "      <td>semapv:LexicalMatching</td>\n",
       "      <td>oaklib</td>\n",
       "      <td>0.5</td>\n",
       "      <td>oio:hasRelatedSynonym</td>\n",
       "      <td>oio:hasExactSynonym</td>\n",
       "      <td>dyke</td>\n",
       "      <td>ENVO</td>\n",
       "      <td>AGRO</td>\n",
       "    </tr>\n",
       "    <tr>\n",
       "      <th>81</th>\n",
       "      <td>ENVO:00000178</td>\n",
       "      <td>levee</td>\n",
       "      <td>skos:closeMatch</td>\n",
       "      <td>AGRO:00000196</td>\n",
       "      <td>bund</td>\n",
       "      <td>semapv:LexicalMatching</td>\n",
       "      <td>oaklib</td>\n",
       "      <td>0.5</td>\n",
       "      <td>oio:hasRelatedSynonym</td>\n",
       "      <td>oio:hasExactSynonym</td>\n",
       "      <td>levee</td>\n",
       "      <td>ENVO</td>\n",
       "      <td>AGRO</td>\n",
       "    </tr>\n",
       "    <tr>\n",
       "      <th>82</th>\n",
       "      <td>ENVO:00000178</td>\n",
       "      <td>levee</td>\n",
       "      <td>skos:closeMatch</td>\n",
       "      <td>AGRO:00000196</td>\n",
       "      <td>bund</td>\n",
       "      <td>semapv:LexicalMatching</td>\n",
       "      <td>oaklib</td>\n",
       "      <td>0.5</td>\n",
       "      <td>rdfs:label</td>\n",
       "      <td>oio:hasExactSynonym</td>\n",
       "      <td>levee</td>\n",
       "      <td>ENVO</td>\n",
       "      <td>AGRO</td>\n",
       "    </tr>\n",
       "    <tr>\n",
       "      <th>83</th>\n",
       "      <td>ENVO:00000283</td>\n",
       "      <td>ridge</td>\n",
       "      <td>skos:closeMatch</td>\n",
       "      <td>AGRO:00000196</td>\n",
       "      <td>bund</td>\n",
       "      <td>semapv:LexicalMatching</td>\n",
       "      <td>oaklib</td>\n",
       "      <td>0.5</td>\n",
       "      <td>oio:hasExactSynonym</td>\n",
       "      <td>oio:hasExactSynonym</td>\n",
       "      <td>ridge</td>\n",
       "      <td>ENVO</td>\n",
       "      <td>AGRO</td>\n",
       "    </tr>\n",
       "    <tr>\n",
       "      <th>84</th>\n",
       "      <td>ENVO:00000283</td>\n",
       "      <td>ridge</td>\n",
       "      <td>skos:closeMatch</td>\n",
       "      <td>AGRO:00000196</td>\n",
       "      <td>bund</td>\n",
       "      <td>semapv:LexicalMatching</td>\n",
       "      <td>oaklib</td>\n",
       "      <td>0.5</td>\n",
       "      <td>oio:hasRelatedSynonym</td>\n",
       "      <td>oio:hasExactSynonym</td>\n",
       "      <td>ridge</td>\n",
       "      <td>ENVO</td>\n",
       "      <td>AGRO</td>\n",
       "    </tr>\n",
       "    <tr>\n",
       "      <th>85</th>\n",
       "      <td>ENVO:00000283</td>\n",
       "      <td>ridge</td>\n",
       "      <td>skos:closeMatch</td>\n",
       "      <td>AGRO:00000196</td>\n",
       "      <td>bund</td>\n",
       "      <td>semapv:LexicalMatching</td>\n",
       "      <td>oaklib</td>\n",
       "      <td>0.5</td>\n",
       "      <td>rdfs:label</td>\n",
       "      <td>oio:hasExactSynonym</td>\n",
       "      <td>ridge</td>\n",
       "      <td>ENVO</td>\n",
       "      <td>AGRO</td>\n",
       "    </tr>\n",
       "    <tr>\n",
       "      <th>87</th>\n",
       "      <td>ENVO:03600087</td>\n",
       "      <td>greenhouse</td>\n",
       "      <td>skos:closeMatch</td>\n",
       "      <td>AGRO:00000363</td>\n",
       "      <td>greenhouse</td>\n",
       "      <td>semapv:LexicalMatching</td>\n",
       "      <td>oaklib</td>\n",
       "      <td>0.5</td>\n",
       "      <td>rdfs:label</td>\n",
       "      <td>rdfs:label</td>\n",
       "      <td>greenhouse</td>\n",
       "      <td>ENVO</td>\n",
       "      <td>AGRO</td>\n",
       "    </tr>\n",
       "    <tr>\n",
       "      <th>88</th>\n",
       "      <td>PO:0008037</td>\n",
       "      <td>seedling</td>\n",
       "      <td>skos:closeMatch</td>\n",
       "      <td>AGRO:00000548</td>\n",
       "      <td>seedling</td>\n",
       "      <td>semapv:LexicalMatching</td>\n",
       "      <td>oaklib</td>\n",
       "      <td>0.5</td>\n",
       "      <td>rdfs:label</td>\n",
       "      <td>rdfs:label</td>\n",
       "      <td>seedling</td>\n",
       "      <td>PO</td>\n",
       "      <td>AGRO</td>\n",
       "    </tr>\n",
       "    <tr>\n",
       "      <th>100</th>\n",
       "      <td>ENVO:00002006</td>\n",
       "      <td>liquid water</td>\n",
       "      <td>skos:closeMatch</td>\n",
       "      <td>CHEBI:15377</td>\n",
       "      <td>water</td>\n",
       "      <td>semapv:LexicalMatching</td>\n",
       "      <td>oaklib</td>\n",
       "      <td>0.5</td>\n",
       "      <td>oio:hasBroadSynonym</td>\n",
       "      <td>oio:hasExactSynonym</td>\n",
       "      <td>water</td>\n",
       "      <td>ENVO</td>\n",
       "      <td>CHEBI</td>\n",
       "    </tr>\n",
       "    <tr>\n",
       "      <th>101</th>\n",
       "      <td>ENVO:00002006</td>\n",
       "      <td>liquid water</td>\n",
       "      <td>skos:closeMatch</td>\n",
       "      <td>CHEBI:15377</td>\n",
       "      <td>water</td>\n",
       "      <td>semapv:LexicalMatching</td>\n",
       "      <td>oaklib</td>\n",
       "      <td>0.5</td>\n",
       "      <td>oio:hasBroadSynonym</td>\n",
       "      <td>rdfs:label</td>\n",
       "      <td>water</td>\n",
       "      <td>ENVO</td>\n",
       "      <td>CHEBI</td>\n",
       "    </tr>\n",
       "    <tr>\n",
       "      <th>125</th>\n",
       "      <td>PO:0009005</td>\n",
       "      <td>root</td>\n",
       "      <td>skos:closeMatch</td>\n",
       "      <td>NCBITaxon:1</td>\n",
       "      <td>root</td>\n",
       "      <td>semapv:LexicalMatching</td>\n",
       "      <td>oaklib</td>\n",
       "      <td>0.5</td>\n",
       "      <td>rdfs:label</td>\n",
       "      <td>rdfs:label</td>\n",
       "      <td>root</td>\n",
       "      <td>PO</td>\n",
       "      <td>NCBITaxon</td>\n",
       "    </tr>\n",
       "    <tr>\n",
       "      <th>133</th>\n",
       "      <td>PO:0009047</td>\n",
       "      <td>stem</td>\n",
       "      <td>skos:closeMatch</td>\n",
       "      <td>CHMO:0000086</td>\n",
       "      <td>scanning transmission electron microscopy</td>\n",
       "      <td>semapv:LexicalMatching</td>\n",
       "      <td>oaklib</td>\n",
       "      <td>0.5</td>\n",
       "      <td>rdfs:label</td>\n",
       "      <td>oio:hasExactSynonym</td>\n",
       "      <td>stem</td>\n",
       "      <td>PO</td>\n",
       "      <td>CHMO</td>\n",
       "    </tr>\n",
       "    <tr>\n",
       "      <th>134</th>\n",
       "      <td>PO:0025034</td>\n",
       "      <td>leaf</td>\n",
       "      <td>skos:closeMatch</td>\n",
       "      <td>CHMO:0000284</td>\n",
       "      <td>laser-enhanced atomic fluorescence spectroscopy</td>\n",
       "      <td>semapv:LexicalMatching</td>\n",
       "      <td>oaklib</td>\n",
       "      <td>0.5</td>\n",
       "      <td>rdfs:label</td>\n",
       "      <td>oio:hasExactSynonym</td>\n",
       "      <td>leaf</td>\n",
       "      <td>PO</td>\n",
       "      <td>CHMO</td>\n",
       "    </tr>\n",
       "    <tr>\n",
       "      <th>139</th>\n",
       "      <td>PO:0009047</td>\n",
       "      <td>stem</td>\n",
       "      <td>skos:closeMatch</td>\n",
       "      <td>CHMO:0002649</td>\n",
       "      <td>scanning transmission electron microscope</td>\n",
       "      <td>semapv:LexicalMatching</td>\n",
       "      <td>oaklib</td>\n",
       "      <td>0.5</td>\n",
       "      <td>rdfs:label</td>\n",
       "      <td>oio:hasRelatedSynonym</td>\n",
       "      <td>stem</td>\n",
       "      <td>PO</td>\n",
       "      <td>CHMO</td>\n",
       "    </tr>\n",
       "  </tbody>\n",
       "</table>\n",
       "</div>"
      ]
     },
     "execution_count": 29,
     "metadata": {},
     "output_type": "execute_result"
    }
   ],
   "execution_count": 29
  },
  {
   "metadata": {
    "ExecuteTime": {
     "end_time": "2025-02-26T01:31:57.579550Z",
     "start_time": "2025-02-26T01:31:57.575544Z"
    }
   },
   "cell_type": "code",
   "source": "predictable_df = pd.concat([mixs_nmdc_subj_frame, reversed_obj_frame, enriched_for_pvs_frame], axis=0, ignore_index=True)",
   "id": "8884d7b675ac8ecc",
   "outputs": [],
   "execution_count": 30
  },
  {
   "metadata": {
    "ExecuteTime": {
     "end_time": "2025-02-26T01:31:57.601126Z",
     "start_time": "2025-02-26T01:31:57.585071Z"
    }
   },
   "cell_type": "code",
   "source": [
    "# Remove duplicate rows and force a new copy\n",
    "unique_df = predictable_df.drop_duplicates().copy()"
   ],
   "id": "61d7c5764562446a",
   "outputs": [],
   "execution_count": 31
  },
  {
   "metadata": {
    "ExecuteTime": {
     "end_time": "2025-02-26T01:31:57.684197Z",
     "start_time": "2025-02-26T01:31:57.679642Z"
    }
   },
   "cell_type": "code",
   "source": "unique_df['subject_prefix'].value_counts()",
   "id": "ab8347f1691dff7e",
   "outputs": [
    {
     "data": {
      "text/plain": [
       "subject_prefix\n",
       "nmdc    1207\n",
       "mixs      57\n",
       "ENVO      11\n",
       "PO         5\n",
       "Name: count, dtype: int64"
      ]
     },
     "execution_count": 32,
     "metadata": {},
     "output_type": "execute_result"
    }
   ],
   "execution_count": 32
  },
  {
   "metadata": {
    "ExecuteTime": {
     "end_time": "2025-02-26T01:31:57.741308Z",
     "start_time": "2025-02-26T01:31:57.736309Z"
    }
   },
   "cell_type": "code",
   "source": "unique_df['object_prefix'].value_counts()",
   "id": "84945af877292f8f",
   "outputs": [
    {
     "data": {
      "text/plain": [
       "object_prefix\n",
       "nmdc         991\n",
       "ENVO          76\n",
       "biolink       55\n",
       "CHEBI         50\n",
       "CHMO          31\n",
       "PATO          21\n",
       "OBI           21\n",
       "AGRO          13\n",
       "mixs           5\n",
       "UO             3\n",
       "IAO            3\n",
       "BFO            2\n",
       "skos           2\n",
       "ror            2\n",
       "dcterms        1\n",
       "linkml         1\n",
       "APOLLO_SV      1\n",
       "RO             1\n",
       "NCBITaxon      1\n",
       "Name: count, dtype: int64"
      ]
     },
     "execution_count": 33,
     "metadata": {},
     "output_type": "execute_result"
    }
   ],
   "execution_count": 33
  },
  {
   "metadata": {
    "ExecuteTime": {
     "end_time": "2025-02-26T01:31:57.878010Z",
     "start_time": "2025-02-26T01:31:57.865751Z"
    }
   },
   "cell_type": "code",
   "source": [
    "# Write the combined DataFrame to a TSV\n",
    "unique_df.to_csv(output_tsv, sep='\\t', index=False)\n",
    "\n",
    "print(f\"Combined TSV written to {output_tsv}\")\n"
   ],
   "id": "7f1aa61113211f28",
   "outputs": [
    {
     "name": "stdout",
     "output_type": "stream",
     "text": [
      "Combined TSV written to lexmatch-combined.tsv\n"
     ]
    }
   ],
   "execution_count": 34
  },
  {
   "metadata": {
    "ExecuteTime": {
     "end_time": "2025-02-26T01:31:57.959717Z",
     "start_time": "2025-02-26T01:31:57.956254Z"
    }
   },
   "cell_type": "code",
   "source": [
    "# Read the file and create a set of lowercase strings\n",
    "with open(for_lexmatch_txt, 'r') as f:\n",
    "    requested_ontologies = {line.strip().lower() for line in f if len(line.strip().lower()) > 0}"
   ],
   "id": "edc0ae2de1974c23",
   "outputs": [],
   "execution_count": 35
  },
  {
   "metadata": {
    "ExecuteTime": {
     "end_time": "2025-02-26T01:31:57.996392Z",
     "start_time": "2025-02-26T01:31:57.991875Z"
    }
   },
   "cell_type": "code",
   "source": [
    "# Get DataFrame prefixes as a set\n",
    "hit_prefixes = set(unique_df['object_prefix'].str.lower())"
   ],
   "id": "e56c21240d148270",
   "outputs": [],
   "execution_count": 36
  },
  {
   "metadata": {
    "ExecuteTime": {
     "end_time": "2025-02-26T01:31:58.043107Z",
     "start_time": "2025-02-26T01:31:58.039773Z"
    }
   },
   "cell_type": "code",
   "source": [
    "requests_only = list(requested_ontologies - hit_prefixes)\n",
    "requests_only.sort()"
   ],
   "id": "247b0a57805d038c",
   "outputs": [],
   "execution_count": 37
  },
  {
   "metadata": {
    "ExecuteTime": {
     "end_time": "2025-02-26T01:31:58.114207Z",
     "start_time": "2025-02-26T01:31:58.110547Z"
    }
   },
   "cell_type": "code",
   "source": "requests_only",
   "id": "7a91c1887c7c786c",
   "outputs": [
    {
     "data": {
      "text/plain": [
       "[]"
      ]
     },
     "execution_count": 38,
     "metadata": {},
     "output_type": "execute_result"
    }
   ],
   "execution_count": 38
  },
  {
   "metadata": {
    "ExecuteTime": {
     "end_time": "2025-02-26T01:31:58.214263Z",
     "start_time": "2025-02-26T01:31:58.210973Z"
    }
   },
   "cell_type": "code",
   "source": [
    "hits_only = list(hit_prefixes - requested_ontologies )\n",
    "hits_only.sort()"
   ],
   "id": "eb7694ff27ed472a",
   "outputs": [],
   "execution_count": 39
  },
  {
   "metadata": {
    "ExecuteTime": {
     "end_time": "2025-02-26T01:31:58.269785Z",
     "start_time": "2025-02-26T01:31:58.266237Z"
    }
   },
   "cell_type": "code",
   "source": "hits_only",
   "id": "7185604482e35df",
   "outputs": [
    {
     "data": {
      "text/plain": [
       "['apollo_sv',\n",
       " 'bfo',\n",
       " 'chebi',\n",
       " 'dcterms',\n",
       " 'envo',\n",
       " 'iao',\n",
       " 'linkml',\n",
       " 'mixs',\n",
       " 'ncbitaxon',\n",
       " 'nmdc',\n",
       " 'obi',\n",
       " 'pato',\n",
       " 'ro',\n",
       " 'ror',\n",
       " 'skos',\n",
       " 'uo']"
      ]
     },
     "execution_count": 40,
     "metadata": {},
     "output_type": "execute_result"
    }
   ],
   "execution_count": 40
  },
  {
   "metadata": {
    "ExecuteTime": {
     "end_time": "2025-02-26T01:31:58.369839Z",
     "start_time": "2025-02-26T01:31:58.367718Z"
    }
   },
   "cell_type": "code",
   "source": "",
   "id": "84a1dd97b8677c96",
   "outputs": [],
   "execution_count": null
  }
 ],
 "metadata": {
  "kernelspec": {
   "display_name": "Python 3",
   "language": "python",
   "name": "python3"
  },
  "language_info": {
   "codemirror_mode": {
    "name": "ipython",
    "version": 2
   },
   "file_extension": ".py",
   "mimetype": "text/x-python",
   "name": "python",
   "nbconvert_exporter": "python",
   "pygments_lexer": "ipython2",
   "version": "2.7.6"
  }
 },
 "nbformat": 4,
 "nbformat_minor": 5
}
