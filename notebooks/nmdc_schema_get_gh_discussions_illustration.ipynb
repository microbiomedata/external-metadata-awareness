{
 "cells": [
  {
   "metadata": {
    "ExecuteTime": {
     "end_time": "2025-04-10T12:22:48.513415Z",
     "start_time": "2025-04-10T12:22:48.422978Z"
    }
   },
   "cell_type": "code",
   "source": [
    "import requests\n",
    "import json"
   ],
   "id": "c03941b6153fb55f",
   "outputs": [],
   "execution_count": 1
  },
  {
   "metadata": {
    "ExecuteTime": {
     "end_time": "2025-04-10T12:24:37.489162Z",
     "start_time": "2025-04-10T12:24:37.486099Z"
    }
   },
   "cell_type": "code",
   "source": [
    "GITHUB_TOKEN = \"\"\n",
    "REPO_OWNER = \"microbiomedata\"\n",
    "REPO_NAME = \"nmdc-schema\"\n",
    "OUTPUT_FILE = \"nmdc_schema_discussions.json\""
   ],
   "id": "2a747139a4f0adf0",
   "outputs": [],
   "execution_count": 9
  },
  {
   "metadata": {
    "ExecuteTime": {
     "end_time": "2025-04-10T12:27:28.327081Z",
     "start_time": "2025-04-10T12:27:28.321668Z"
    }
   },
   "cell_type": "code",
   "source": [
    "def validate_token(token: str) -> bool:\n",
    "    headers = {\n",
    "        \"Authorization\": f\"Bearer {token}\",\n",
    "        \"Accept\": \"application/vnd.github.v3+json\"\n",
    "    }\n",
    "\n",
    "    # Check basic token validity with REST API\n",
    "    rest_resp = requests.get(\"https://api.github.com/user\", headers=headers)\n",
    "    if rest_resp.status_code == 401:\n",
    "        print(\"❌ Token is invalid or expired (REST API).\")\n",
    "        return False\n",
    "\n",
    "    username = rest_resp.json().get(\"login\", \"unknown\")\n",
    "    print(f\"✅ REST API access OK. Authenticated as: {username}\")\n",
    "\n",
    "    # Check token works with GraphQL\n",
    "    graphql_headers = {\n",
    "        \"Authorization\": f\"Bearer {token}\",\n",
    "        \"Accept\": \"application/vnd.github.v4+json\"\n",
    "    }\n",
    "    graphql_resp = requests.post(\n",
    "        \"https://api.github.com/graphql\",\n",
    "        headers=graphql_headers,\n",
    "        json={\"query\": \"{ viewer { login } }\"}\n",
    "    )\n",
    "\n",
    "    if graphql_resp.status_code == 401:\n",
    "        print(\"❌ Token is not valid for GraphQL access.\")\n",
    "        return False\n",
    "\n",
    "    viewer = graphql_resp.json().get(\"data\", {}).get(\"viewer\", {}).get(\"login\")\n",
    "    if viewer:\n",
    "        print(f\"✅ GraphQL access OK. Viewer login: {viewer}\")\n",
    "        return True\n",
    "    else:\n",
    "        print(\"❌ Token failed GraphQL query.\")\n",
    "        return False\n"
   ],
   "id": "d504c0bb803d44d8",
   "outputs": [],
   "execution_count": 12
  },
  {
   "metadata": {
    "ExecuteTime": {
     "end_time": "2025-04-10T12:27:29.519904Z",
     "start_time": "2025-04-10T12:27:29.125716Z"
    }
   },
   "cell_type": "code",
   "source": [
    "\n",
    "if validate_token(GITHUB_TOKEN):\n",
    "    print(\"🎉 Token is valid and ready to use!\")\n",
    "else:\n",
    "    print(\"⚠️ Please check the token or its permissions.\")"
   ],
   "id": "6e3685bcd6850bef",
   "outputs": [
    {
     "name": "stdout",
     "output_type": "stream",
     "text": [
      "✅ REST API access OK. Authenticated as: turbomam\n",
      "✅ GraphQL access OK. Viewer login: turbomam\n",
      "🎉 Token is valid and ready to use!\n"
     ]
    }
   ],
   "execution_count": 13
  },
  {
   "metadata": {
    "ExecuteTime": {
     "end_time": "2025-04-10T12:28:41.323669Z",
     "start_time": "2025-04-10T12:28:41.319735Z"
    }
   },
   "cell_type": "code",
   "source": [
    "HEADERS = {\n",
    "    \"Authorization\": f\"Bearer {GITHUB_TOKEN}\",\n",
    "    \"Accept\": \"application/vnd.github.v4+json\"\n",
    "}"
   ],
   "id": "dadc670650467b28",
   "outputs": [],
   "execution_count": 14
  },
  {
   "metadata": {
    "ExecuteTime": {
     "end_time": "2025-04-10T12:28:41.929581Z",
     "start_time": "2025-04-10T12:28:41.926756Z"
    }
   },
   "cell_type": "code",
   "source": [
    "query = \"\"\"\n",
    "{\n",
    "  repository(owner: \"microbiomedata\", name: \"nmdc-schema\") {\n",
    "    discussions(first: 1) {\n",
    "      nodes {\n",
    "        number\n",
    "        title\n",
    "        url\n",
    "      }\n",
    "    }\n",
    "  }\n",
    "}\n",
    "\"\"\""
   ],
   "id": "63ff9a972734bd37",
   "outputs": [],
   "execution_count": 15
  },
  {
   "metadata": {
    "ExecuteTime": {
     "end_time": "2025-04-10T12:28:43.097393Z",
     "start_time": "2025-04-10T12:28:42.740667Z"
    }
   },
   "cell_type": "code",
   "source": [
    "response = requests.post(\n",
    "    \"https://api.github.com/graphql\",\n",
    "    headers=HEADERS,\n",
    "    json={\"query\": query}\n",
    ")"
   ],
   "id": "749c2d8df6c7d16c",
   "outputs": [],
   "execution_count": 16
  },
  {
   "metadata": {
    "ExecuteTime": {
     "end_time": "2025-04-10T12:28:44.016812Z",
     "start_time": "2025-04-10T12:28:44.013547Z"
    }
   },
   "cell_type": "code",
   "source": [
    "print(\"Status:\", response.status_code)\n",
    "print(\"Response:\", response.json())\n"
   ],
   "id": "7cf2bef2884a5aa5",
   "outputs": [
    {
     "name": "stdout",
     "output_type": "stream",
     "text": [
      "Status: 200\n",
      "Response: {'data': {'repository': {'discussions': {'nodes': [{'number': 2148, 'title': 'do we really need a `chemical_entity_set`?', 'url': 'https://github.com/microbiomedata/nmdc-schema/discussions/2148'}]}}}}\n"
     ]
    }
   ],
   "execution_count": 17
  },
  {
   "metadata": {
    "ExecuteTime": {
     "end_time": "2025-04-10T12:30:06.116741Z",
     "start_time": "2025-04-10T12:30:06.113472Z"
    }
   },
   "cell_type": "code",
   "source": [
    "HEADERS = {\n",
    "    \"Authorization\": f\"Bearer {GITHUB_TOKEN}\",\n",
    "    \"Accept\": \"application/vnd.github.v4+json\"\n",
    "}"
   ],
   "id": "9cdf2a262d022ca4",
   "outputs": [],
   "execution_count": 18
  },
  {
   "metadata": {
    "ExecuteTime": {
     "end_time": "2025-04-10T12:30:07.017343Z",
     "start_time": "2025-04-10T12:30:07.013220Z"
    }
   },
   "cell_type": "code",
   "source": [
    "def fetch_discussions(after_cursor=None):\n",
    "    query = \"\"\"\n",
    "    query($owner: String!, $name: String!, $after: String) {\n",
    "      repository(owner: $owner, name: $name) {\n",
    "        discussions(first: 50, after: $after) {\n",
    "          pageInfo {\n",
    "            hasNextPage\n",
    "            endCursor\n",
    "          }\n",
    "          nodes {\n",
    "            number\n",
    "            title\n",
    "            url\n",
    "            body\n",
    "            createdAt\n",
    "            author {\n",
    "              login\n",
    "            }\n",
    "            comments(first: 100) {\n",
    "              nodes {\n",
    "                body\n",
    "                createdAt\n",
    "                author {\n",
    "                  login\n",
    "                }\n",
    "              }\n",
    "            }\n",
    "          }\n",
    "        }\n",
    "      }\n",
    "    }\n",
    "    \"\"\"\n",
    "    variables = {\n",
    "        \"owner\": REPO_OWNER,\n",
    "        \"name\": REPO_NAME,\n",
    "        \"after\": after_cursor\n",
    "    }\n",
    "    response = requests.post(\n",
    "        \"https://api.github.com/graphql\",\n",
    "        json={\"query\": query, \"variables\": variables},\n",
    "        headers=HEADERS\n",
    "    )\n",
    "    response.raise_for_status()\n",
    "    return response.json()"
   ],
   "id": "b21f8fe1c9c9c5dc",
   "outputs": [],
   "execution_count": 19
  },
  {
   "metadata": {
    "ExecuteTime": {
     "end_time": "2025-04-10T12:30:10.076075Z",
     "start_time": "2025-04-10T12:30:10.071980Z"
    }
   },
   "cell_type": "code",
   "source": [
    "def get_all_discussions():\n",
    "    discussions = []\n",
    "    has_next = True\n",
    "    after = None\n",
    "\n",
    "    while has_next:\n",
    "        data = fetch_discussions(after)\n",
    "        repo_data = data[\"data\"][\"repository\"][\"discussions\"]\n",
    "        discussions.extend(repo_data[\"nodes\"])\n",
    "        has_next = repo_data[\"pageInfo\"][\"hasNextPage\"]\n",
    "        after = repo_data[\"pageInfo\"][\"endCursor\"]\n",
    "\n",
    "    return discussions"
   ],
   "id": "edd475338aaeb49b",
   "outputs": [],
   "execution_count": 20
  },
  {
   "metadata": {
    "ExecuteTime": {
     "end_time": "2025-04-10T12:30:13.961495Z",
     "start_time": "2025-04-10T12:30:13.491637Z"
    }
   },
   "cell_type": "code",
   "source": [
    "print(\"Fetching all discussions from nmdc-schema...\")\n",
    "all_discussions = get_all_discussions()"
   ],
   "id": "9ce968fce7fc268f",
   "outputs": [
    {
     "name": "stdout",
     "output_type": "stream",
     "text": [
      "Fetching all discussions from nmdc-schema...\n"
     ]
    }
   ],
   "execution_count": 21
  },
  {
   "metadata": {
    "ExecuteTime": {
     "end_time": "2025-04-10T12:30:30.894762Z",
     "start_time": "2025-04-10T12:30:30.872375Z"
    }
   },
   "cell_type": "code",
   "source": [
    "with open(OUTPUT_FILE, \"w\", encoding=\"utf-8\") as f:\n",
    "    json.dump(all_discussions, f, indent=2)\n",
    "print(f\"✅ Saved {len(all_discussions)} discussions to {OUTPUT_FILE}\")"
   ],
   "id": "785f1fd18338f623",
   "outputs": [
    {
     "name": "stdout",
     "output_type": "stream",
     "text": [
      "✅ Saved 24 discussions to nmdc_schema_discussions.json\n"
     ]
    }
   ],
   "execution_count": 22
  }
 ],
 "metadata": {
  "kernelspec": {
   "display_name": "Python 3",
   "language": "python",
   "name": "python3"
  },
  "language_info": {
   "codemirror_mode": {
    "name": "ipython",
    "version": 2
   },
   "file_extension": ".py",
   "mimetype": "text/x-python",
   "name": "python",
   "nbconvert_exporter": "python",
   "pygments_lexer": "ipython2",
   "version": "2.7.6"
  }
 },
 "nbformat": 4,
 "nbformat_minor": 5
}
