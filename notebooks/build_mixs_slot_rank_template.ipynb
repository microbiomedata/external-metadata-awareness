{
 "cells": [
  {
   "metadata": {
    "ExecuteTime": {
     "end_time": "2025-02-19T14:42:40.929310Z",
     "start_time": "2025-02-19T14:42:40.453732Z"
    }
   },
   "cell_type": "code",
   "source": [
    "from linkml_runtime import SchemaView\n",
    "import csv"
   ],
   "id": "b49e0a0dd367e61f",
   "outputs": [],
   "execution_count": 1
  },
  {
   "cell_type": "code",
   "id": "initial_id",
   "metadata": {
    "collapsed": true,
    "ExecuteTime": {
     "end_time": "2025-02-19T14:42:40.935847Z",
     "start_time": "2025-02-19T14:42:40.933157Z"
    }
   },
   "source": "schema_url = \"https://raw.githubusercontent.com/GenomicsStandardsConsortium/mixs/refs/heads/main/src/mixs/schema/mixs.yaml\"\n",
   "outputs": [],
   "execution_count": 2
  },
  {
   "metadata": {
    "ExecuteTime": {
     "end_time": "2025-02-19T14:42:41.078063Z",
     "start_time": "2025-02-19T14:42:41.075314Z"
    }
   },
   "cell_type": "code",
   "source": [
    "class_slot_rank_tsv_file = \"mixs_slot_rank_template.tsv\"\n",
    "class_ancestry_tsv = \"mixs_class_ancestry.tsv\""
   ],
   "id": "8c76eb2e77dfd96",
   "outputs": [],
   "execution_count": 3
  },
  {
   "metadata": {
    "ExecuteTime": {
     "end_time": "2025-02-19T14:42:42.509771Z",
     "start_time": "2025-02-19T14:42:41.117318Z"
    }
   },
   "cell_type": "code",
   "source": "schema_view = SchemaView(schema_url)",
   "id": "ff67141185c6f477",
   "outputs": [],
   "execution_count": 4
  },
  {
   "metadata": {
    "ExecuteTime": {
     "end_time": "2025-02-19T14:42:44.070475Z",
     "start_time": "2025-02-19T14:42:44.059654Z"
    }
   },
   "cell_type": "code",
   "source": "schema_classnames = list(schema_view.all_classes().keys())",
   "id": "f93308e7e3e60f3a",
   "outputs": [],
   "execution_count": 5
  },
  {
   "metadata": {
    "ExecuteTime": {
     "end_time": "2025-02-19T14:42:45.650626Z",
     "start_time": "2025-02-19T14:42:45.648018Z"
    }
   },
   "cell_type": "code",
   "source": "schema_classnames.sort()",
   "id": "b037e12ce8b06cac",
   "outputs": [],
   "execution_count": 6
  },
  {
   "metadata": {
    "ExecuteTime": {
     "end_time": "2025-02-19T14:43:20.620952Z",
     "start_time": "2025-02-19T14:42:47.216068Z"
    }
   },
   "cell_type": "code",
   "source": [
    "class_slot_rank_rows = []\n",
    "class_ancestry_rows = []\n",
    "checklist_tally = 0\n",
    "extension_tally = 0\n",
    "combination_tally = 0\n",
    "\n",
    "# ~ 40 seconds\n",
    "\n",
    "for cn in schema_classnames:\n",
    "    ic = schema_view.induced_class(cn)\n",
    "    ic_parent = ic.is_a\n",
    "    if ic_parent == \"Checklist\":\n",
    "        checklist_tally += 1\n",
    "    elif ic_parent == \"Extension\":\n",
    "        extension_tally += 1\n",
    "    ic_mixins = ic.mixins\n",
    "    if len(ic_mixins) > 0:\n",
    "        combination_tally += 1\n",
    "    class_ancestry_row = {\n",
    "        \"class\": cn,\n",
    "        \"parent\": ic_parent,\n",
    "        \"mixins\": \"|\".join(ic_mixins)\n",
    "    }\n",
    "    class_ancestry_rows.append(class_ancestry_row)\n",
    "    if ic_parent in [\"Checklist\", \"Extension\"] or len(ic_mixins) > 0:\n",
    "        ic_slot_names = list(ic.attributes.keys())\n",
    "        ic_slot_names.sort()\n",
    "        for sn in ic_slot_names:\n",
    "            class_slot_rank_row = {\n",
    "                \"class\": cn,\n",
    "                \"slot\": sn,\n",
    "                \"rank\": \"\"\n",
    "            }\n",
    "            class_slot_rank_rows.append(class_slot_rank_row)\n"
   ],
   "id": "ff66c7f83b7c2136",
   "outputs": [],
   "execution_count": 7
  },
  {
   "metadata": {
    "ExecuteTime": {
     "end_time": "2025-02-19T14:43:22.557972Z",
     "start_time": "2025-02-19T14:43:22.477529Z"
    }
   },
   "cell_type": "code",
   "source": [
    "# use csv dictwriter to save the rows list of dicts to as TSV file whose name should come from tsv_file\n",
    "fieldnames = [\"class\", \"slot\", \"rank\"]\n",
    "with open(class_slot_rank_tsv_file, \"w\", newline=\"\", encoding=\"utf-8\") as outfile:\n",
    "    writer = csv.DictWriter(outfile, fieldnames=fieldnames, delimiter=\"\\t\")\n",
    "    writer.writeheader()\n",
    "    writer.writerows(class_slot_rank_rows)\n"
   ],
   "id": "bd53bb57d818f0e4",
   "outputs": [],
   "execution_count": 8
  },
  {
   "metadata": {
    "ExecuteTime": {
     "end_time": "2025-02-19T14:43:26.077996Z",
     "start_time": "2025-02-19T14:43:26.074448Z"
    }
   },
   "cell_type": "code",
   "source": [
    "print(f\"{checklist_tally = }\")\n",
    "print(f\"{extension_tally = }\")\n",
    "print(f\"{combination_tally = }\")\n",
    "print(f\"{len(class_slot_rank_rows) = }\")"
   ],
   "id": "490963f4d2c25def",
   "outputs": [
    {
     "name": "stdout",
     "output_type": "stream",
     "text": [
      "checklist_tally = 11\n",
      "extension_tally = 23\n",
      "combination_tally = 253\n",
      "len(class_slot_rank_rows) = 33457\n"
     ]
    }
   ],
   "execution_count": 9
  },
  {
   "metadata": {},
   "cell_type": "markdown",
   "source": "2025-02-19: 33457 slots used by 23 Extension, 11 Checklist or 253 \"combination\" classes (which have mixins)",
   "id": "6b0324f778332dea"
  },
  {
   "metadata": {
    "ExecuteTime": {
     "end_time": "2025-02-19T14:43:26.090962Z",
     "start_time": "2025-02-19T14:43:26.084595Z"
    }
   },
   "cell_type": "code",
   "source": [
    "# use csv dictwriter to save the rows list of dicts to as TSV file whose name should come from tsv_file\n",
    "fieldnames = [\"class\", \"parent\", \"mixins\"]\n",
    "with open(class_ancestry_tsv, \"w\", newline=\"\", encoding=\"utf-8\") as outfile:\n",
    "    writer = csv.DictWriter(outfile, fieldnames=fieldnames, delimiter=\"\\t\")\n",
    "    writer.writeheader()\n",
    "    writer.writerows(class_ancestry_rows)"
   ],
   "id": "94208893560e6edc",
   "outputs": [],
   "execution_count": 10
  }
 ],
 "metadata": {
  "kernelspec": {
   "display_name": "Python 3",
   "language": "python",
   "name": "python3"
  },
  "language_info": {
   "codemirror_mode": {
    "name": "ipython",
    "version": 2
   },
   "file_extension": ".py",
   "mimetype": "text/x-python",
   "name": "python",
   "nbconvert_exporter": "python",
   "pygments_lexer": "ipython2",
   "version": "2.7.6"
  }
 },
 "nbformat": 4,
 "nbformat_minor": 5
}
