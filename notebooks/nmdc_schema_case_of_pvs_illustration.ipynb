{
 "cells": [
  {
   "metadata": {
    "ExecuteTime": {
     "end_time": "2025-04-28T19:52:21.612007Z",
     "start_time": "2025-04-28T19:52:21.137172Z"
    }
   },
   "cell_type": "code",
   "source": [
    "from linkml_runtime import SchemaView\n",
    "import re\n",
    "import csv\n",
    "\n",
    "from caseconverter import snakecase, kebabcase, camelcase, pascalcase, cobolcase, flatcase, macrocase, titlecase\n"
   ],
   "id": "b905dca38384f855",
   "outputs": [],
   "execution_count": 1
  },
  {
   "metadata": {
    "ExecuteTime": {
     "end_time": "2025-04-28T19:52:22.851603Z",
     "start_time": "2025-04-28T19:52:22.848763Z"
    }
   },
   "cell_type": "code",
   "source": "nmdc_schema_url = \"https://raw.githubusercontent.com/microbiomedata/nmdc-schema/refs/heads/main/src/schema/nmdc.yaml\"",
   "id": "84850d0d2c9a5ac6",
   "outputs": [],
   "execution_count": 2
  },
  {
   "metadata": {
    "ExecuteTime": {
     "end_time": "2025-04-28T19:52:24.366927Z",
     "start_time": "2025-04-28T19:52:24.363128Z"
    }
   },
   "cell_type": "code",
   "source": "tsv_out = \"nmdc_pvs.tsv\"",
   "id": "4e2f08d715cb0f7b",
   "outputs": [],
   "execution_count": 3
  },
  {
   "metadata": {
    "ExecuteTime": {
     "end_time": "2025-04-28T19:52:25.411926Z",
     "start_time": "2025-04-28T19:52:25.408491Z"
    }
   },
   "cell_type": "code",
   "source": "include_mixs = False",
   "id": "dffd5b67699f76f",
   "outputs": [],
   "execution_count": 4
  },
  {
   "metadata": {
    "ExecuteTime": {
     "end_time": "2025-04-28T19:52:26.275334Z",
     "start_time": "2025-04-28T19:52:26.271662Z"
    }
   },
   "cell_type": "code",
   "source": [
    "def deduplicate_lod(lod):\n",
    "    return [dict(t) for t in {tuple(d.items()) for d in lod}]\n",
    "\n"
   ],
   "id": "c09e58d4b593ea58",
   "outputs": [],
   "execution_count": 5
  },
  {
   "metadata": {
    "ExecuteTime": {
     "end_time": "2025-04-28T19:52:29.668203Z",
     "start_time": "2025-04-28T19:52:29.658959Z"
    }
   },
   "cell_type": "code",
   "source": [
    "def get_string_case(s):\n",
    "    if not s:  # Handle empty strings safely\n",
    "        return \"empty\"\n",
    "\n",
    "    # **Independent Condition Checks**\n",
    "    has_lower = any(c.islower() for c in s)\n",
    "    has_upper = any(c.isupper() for c in s)\n",
    "    has_hyphen = \"-\" in s\n",
    "    has_underscore = \"_\" in s\n",
    "    has_whitespace = \" \" in s\n",
    "\n",
    "    # starts_with_digit = s[0].isdigit() if s else False  # Ensure we don't index into empty string\n",
    "\n",
    "    if has_upper and s[0].islower() and not has_hyphen and not has_underscore and not has_whitespace and s == camelcase(\n",
    "            s):\n",
    "        return (\"camelCase\")\n",
    "\n",
    "    if has_upper and has_lower and s[\n",
    "        0].isupper() and not has_underscore and not has_whitespace and not has_hyphen and s == pascalcase(s):\n",
    "        return (\"PascalCase\")\n",
    "\n",
    "    if has_upper and has_hyphen and not has_lower and not has_underscore and not has_whitespace and s == cobolcase(s):\n",
    "        return (\"UPPER-KEBAB-CASE\")\n",
    "\n",
    "    if has_lower and has_hyphen and not has_upper and not has_underscore and not has_whitespace and s == kebabcase(s):\n",
    "        return (\"lower-kebab-case\")\n",
    "\n",
    "    if has_lower and not has_upper and not has_hyphen and not has_underscore and not has_whitespace and s == flatcase(\n",
    "            s):\n",
    "        return (\"lowerall\")\n",
    "\n",
    "    if has_upper and not has_lower and not has_hyphen and not has_underscore and not has_whitespace:\n",
    "        return (\"UPPERALL\")\n",
    "\n",
    "    if has_upper and has_underscore and not has_lower and not has_hyphen and not has_whitespace and s == macrocase(s):\n",
    "        return (\"UPPER_SNAKE_CASE\")\n",
    "\n",
    "    if has_lower and has_underscore and not has_upper and not has_hyphen and not has_whitespace and s == snakecase(s):\n",
    "        return (\"lower_snake_case\")\n",
    "\n",
    "    if has_whitespace and s == titlecase(s):\n",
    "        return (\"Title Case\")\n",
    "\n",
    "    if any(c.isspace() for c in s):\n",
    "        return \"other, including whitespace\"\n",
    "\n",
    "    # **If none of the above match, return \"other\"**\n",
    "    return \"other\"\n"
   ],
   "id": "1d45e3d9f19f2abd",
   "outputs": [],
   "execution_count": 6
  },
  {
   "cell_type": "code",
   "id": "initial_id",
   "metadata": {
    "collapsed": true,
    "ExecuteTime": {
     "end_time": "2025-04-28T19:52:40.268053Z",
     "start_time": "2025-04-28T19:52:40.023445Z"
    }
   },
   "source": "nmdc_schema_view = SchemaView(nmdc_schema_url)",
   "outputs": [],
   "execution_count": 8
  },
  {
   "metadata": {
    "ExecuteTime": {
     "end_time": "2025-04-28T19:52:44.299562Z",
     "start_time": "2025-04-28T19:52:41.067742Z"
    }
   },
   "cell_type": "code",
   "source": "nmdc_schema_enums = nmdc_schema_view.all_enums()",
   "id": "a8967e1e9c966586",
   "outputs": [],
   "execution_count": 9
  },
  {
   "metadata": {
    "ExecuteTime": {
     "end_time": "2025-04-28T19:52:45.286006Z",
     "start_time": "2025-04-28T19:52:45.282938Z"
    }
   },
   "cell_type": "code",
   "source": "rows = []",
   "id": "3909be5fdb286826",
   "outputs": [],
   "execution_count": 10
  },
  {
   "metadata": {
    "ExecuteTime": {
     "end_time": "2025-04-28T19:52:46.158529Z",
     "start_time": "2025-04-28T19:52:46.092762Z"
    }
   },
   "cell_type": "code",
   "source": [
    "for ek, ev in nmdc_schema_enums.items():\n",
    "    if ev.permissible_values:\n",
    "        for pvk, pvv in ev.permissible_values.items():\n",
    "            pvk_case = get_string_case(pvk)\n",
    "            schema_string = ev.from_schema.split(\"/\")[-1]\n",
    "            if schema_string != \"mixs.yaml\" or include_mixs:\n",
    "                row = {\n",
    "                    \"from_schema\": ev.from_schema.split(\"/\")[-1],\n",
    "                    \"enum\": ek,\n",
    "                    \"pv\": pvk,\n",
    "                    \"pv_case\": pvk_case,\n",
    "                }\n",
    "            rows.append(row)\n"
   ],
   "id": "c541c5b1376d0a05",
   "outputs": [],
   "execution_count": 11
  },
  {
   "metadata": {
    "ExecuteTime": {
     "end_time": "2025-04-28T19:53:23.699305Z",
     "start_time": "2025-04-28T19:53:23.690854Z"
    }
   },
   "cell_type": "code",
   "source": "len(rows)",
   "id": "8e783647f8613f01",
   "outputs": [
    {
     "data": {
      "text/plain": [
       "1172"
      ]
     },
     "execution_count": 12,
     "metadata": {},
     "output_type": "execute_result"
    }
   ],
   "execution_count": 12
  },
  {
   "metadata": {
    "ExecuteTime": {
     "end_time": "2025-04-28T19:53:24.942486Z",
     "start_time": "2025-04-28T19:53:24.933008Z"
    }
   },
   "cell_type": "code",
   "source": "rows = deduplicate_lod(rows)",
   "id": "1ca1f12532e12251",
   "outputs": [],
   "execution_count": 13
  },
  {
   "metadata": {
    "ExecuteTime": {
     "end_time": "2025-04-28T19:53:26.062895Z",
     "start_time": "2025-04-28T19:53:26.058470Z"
    }
   },
   "cell_type": "code",
   "source": "len(rows)",
   "id": "76a6ba19f117902d",
   "outputs": [
    {
     "data": {
      "text/plain": [
       "401"
      ]
     },
     "execution_count": 14,
     "metadata": {},
     "output_type": "execute_result"
    }
   ],
   "execution_count": 14
  },
  {
   "metadata": {
    "ExecuteTime": {
     "end_time": "2025-04-28T19:53:26.940835Z",
     "start_time": "2025-04-28T19:53:26.937983Z"
    }
   },
   "cell_type": "code",
   "source": [
    "# Get the field names from the first dictionary\n",
    "fieldnames = rows[0].keys()"
   ],
   "id": "3c6a2416b4c755da",
   "outputs": [],
   "execution_count": 15
  },
  {
   "metadata": {
    "ExecuteTime": {
     "end_time": "2025-04-28T19:53:29.018511Z",
     "start_time": "2025-04-28T19:53:29.012025Z"
    }
   },
   "cell_type": "code",
   "source": [
    "\n",
    "with open(tsv_out, mode=\"w\", newline=\"\", encoding=\"utf-8\") as file:\n",
    "    writer = csv.DictWriter(file, fieldnames=fieldnames, delimiter=\"\\t\")\n",
    "\n",
    "    # Write header\n",
    "    writer.writeheader()\n",
    "\n",
    "    # Write data rows\n",
    "    writer.writerows(rows)\n"
   ],
   "id": "56d5c57f7ec990b4",
   "outputs": [],
   "execution_count": 16
  },
  {
   "metadata": {
    "ExecuteTime": {
     "end_time": "2025-03-06T19:24:37.016260Z",
     "start_time": "2025-03-06T19:24:37.014233Z"
    }
   },
   "cell_type": "code",
   "source": "",
   "id": "780b2b751748e4c7",
   "outputs": [],
   "execution_count": null
  }
 ],
 "metadata": {
  "kernelspec": {
   "display_name": "Python 3",
   "language": "python",
   "name": "python3"
  },
  "language_info": {
   "codemirror_mode": {
    "name": "ipython",
    "version": 2
   },
   "file_extension": ".py",
   "mimetype": "text/x-python",
   "name": "python",
   "nbconvert_exporter": "python",
   "pygments_lexer": "ipython2",
   "version": "2.7.6"
  }
 },
 "nbformat": 4,
 "nbformat_minor": 5
}
